{
 "cells": [
  {
   "cell_type": "markdown",
   "metadata": {},
   "source": [
    "# 6. Create preliminary sample"
   ]
  },
  {
   "cell_type": "markdown",
   "metadata": {},
   "source": [
    "We grab the 50 operators with the largest network of pipelines (in any year) and obtain the most recent company name."
   ]
  },
  {
   "cell_type": "markdown",
   "metadata": {},
   "source": [
    "Most recent file versions used in this workbook:"
   ]
  },
  {
   "cell_type": "code",
   "execution_count": 1,
   "metadata": {},
   "outputs": [],
   "source": [
    "pre_sample_file = \"../preprocessed_data/pre_sample_2019-09-08.feather\"\n",
    "incidents_selected_file = '../preprocessed_data/incidents_selected_2019-08-22.feather'\n",
    "largest_observations_file = '../preprocessed_data/largest_companies_2019-09-08.feather'\n",
    "\n",
    "pipelines_2010_raw = '../data/pipelines_2010_2019-08-11.feather'\n",
    "pipelines_2004_raw = '../data/pipelines_2004_2019-08-11.feather'\n",
    "incidents_raw = '../data/incidents_2019-08-11.feather'\n",
    "\n",
    "parent_companies_file = '../input/largest_companies_w_parents_2019-09-09.csv'\n",
    "\n",
    "names_table = '../preprocessed_data/names_table_2019-09-09.feather'"
   ]
  },
  {
   "cell_type": "code",
   "execution_count": 2,
   "metadata": {},
   "outputs": [],
   "source": [
    "sample_len = 200"
   ]
  },
  {
   "cell_type": "markdown",
   "metadata": {},
   "source": [
    "## Setup"
   ]
  },
  {
   "cell_type": "code",
   "execution_count": 3,
   "metadata": {},
   "outputs": [],
   "source": [
    "import pandas as pd\n",
    "import numpy as np\n",
    "from datetime import date\n",
    "\n",
    "today = date.today().isoformat()"
   ]
  },
  {
   "cell_type": "code",
   "execution_count": 4,
   "metadata": {},
   "outputs": [],
   "source": [
    "# pd.options.display.max_rows = 200"
   ]
  },
  {
   "cell_type": "markdown",
   "metadata": {},
   "source": [
    "# Load data"
   ]
  },
  {
   "cell_type": "code",
   "execution_count": 5,
   "metadata": {},
   "outputs": [
    {
     "data": {
      "text/html": [
       "<div>\n",
       "<style scoped>\n",
       "    .dataframe tbody tr th:only-of-type {\n",
       "        vertical-align: middle;\n",
       "    }\n",
       "\n",
       "    .dataframe tbody tr th {\n",
       "        vertical-align: top;\n",
       "    }\n",
       "\n",
       "    .dataframe thead th {\n",
       "        text-align: right;\n",
       "    }\n",
       "</style>\n",
       "<table border=\"1\" class=\"dataframe\">\n",
       "  <thead>\n",
       "    <tr style=\"text-align: right;\">\n",
       "      <th></th>\n",
       "      <th>OPERATOR_ID</th>\n",
       "      <th>YEAR</th>\n",
       "      <th>NAME</th>\n",
       "      <th>COMMODITY</th>\n",
       "      <th>MILES</th>\n",
       "      <th>AGE_UNKNOWN_MILES</th>\n",
       "      <th>MILES_PRE_1940</th>\n",
       "      <th>MILES_1940</th>\n",
       "      <th>MILES_1950</th>\n",
       "      <th>MILES_1960</th>\n",
       "      <th>MILES_1970</th>\n",
       "      <th>MILES_1980</th>\n",
       "      <th>MILES_1990</th>\n",
       "      <th>MILES_2000</th>\n",
       "      <th>MILES_2010</th>\n",
       "      <th>AVG_AGE</th>\n",
       "      <th>PERC_OFFSHORE</th>\n",
       "    </tr>\n",
       "  </thead>\n",
       "  <tbody>\n",
       "    <tr>\n",
       "      <th>2042</th>\n",
       "      <td>12913</td>\n",
       "      <td>2013</td>\n",
       "      <td>CALUMET SUPERIOR, LLC</td>\n",
       "      <td>non-hvl</td>\n",
       "      <td>5.572</td>\n",
       "      <td>0.0</td>\n",
       "      <td>0.0</td>\n",
       "      <td>0.0</td>\n",
       "      <td>3.349</td>\n",
       "      <td>0.0</td>\n",
       "      <td>0.00</td>\n",
       "      <td>0.0</td>\n",
       "      <td>0.525</td>\n",
       "      <td>0.0</td>\n",
       "      <td>0.0</td>\n",
       "      <td>59.579246</td>\n",
       "      <td>0.0</td>\n",
       "    </tr>\n",
       "    <tr>\n",
       "      <th>1389</th>\n",
       "      <td>32473</td>\n",
       "      <td>2014</td>\n",
       "      <td>OP RENO LLC</td>\n",
       "      <td>non-hvl</td>\n",
       "      <td>NaN</td>\n",
       "      <td>0.0</td>\n",
       "      <td>0.0</td>\n",
       "      <td>0.0</td>\n",
       "      <td>0.000</td>\n",
       "      <td>0.0</td>\n",
       "      <td>0.00</td>\n",
       "      <td>0.0</td>\n",
       "      <td>0.000</td>\n",
       "      <td>0.0</td>\n",
       "      <td>0.0</td>\n",
       "      <td>NaN</td>\n",
       "      <td>0.0</td>\n",
       "    </tr>\n",
       "    <tr>\n",
       "      <th>1520</th>\n",
       "      <td>99037</td>\n",
       "      <td>2014</td>\n",
       "      <td>SOUTH WILMINGTON-PIPELINE</td>\n",
       "      <td>non-hvl</td>\n",
       "      <td>28.600</td>\n",
       "      <td>0.0</td>\n",
       "      <td>0.0</td>\n",
       "      <td>0.0</td>\n",
       "      <td>0.000</td>\n",
       "      <td>0.0</td>\n",
       "      <td>28.64</td>\n",
       "      <td>0.0</td>\n",
       "      <td>0.000</td>\n",
       "      <td>0.0</td>\n",
       "      <td>0.0</td>\n",
       "      <td>45.000000</td>\n",
       "      <td>0.0</td>\n",
       "    </tr>\n",
       "  </tbody>\n",
       "</table>\n",
       "</div>"
      ],
      "text/plain": [
       "     OPERATOR_ID  YEAR                       NAME COMMODITY   MILES  \\\n",
       "2042       12913  2013      CALUMET SUPERIOR, LLC   non-hvl   5.572   \n",
       "1389       32473  2014                OP RENO LLC   non-hvl     NaN   \n",
       "1520       99037  2014  SOUTH WILMINGTON-PIPELINE   non-hvl  28.600   \n",
       "\n",
       "      AGE_UNKNOWN_MILES  MILES_PRE_1940  MILES_1940  MILES_1950  MILES_1960  \\\n",
       "2042                0.0             0.0         0.0       3.349         0.0   \n",
       "1389                0.0             0.0         0.0       0.000         0.0   \n",
       "1520                0.0             0.0         0.0       0.000         0.0   \n",
       "\n",
       "      MILES_1970  MILES_1980  MILES_1990  MILES_2000  MILES_2010    AVG_AGE  \\\n",
       "2042        0.00         0.0       0.525         0.0         0.0  59.579246   \n",
       "1389        0.00         0.0       0.000         0.0         0.0        NaN   \n",
       "1520       28.64         0.0       0.000         0.0         0.0  45.000000   \n",
       "\n",
       "      PERC_OFFSHORE  \n",
       "2042            0.0  \n",
       "1389            0.0  \n",
       "1520            0.0  "
      ]
     },
     "execution_count": 5,
     "metadata": {},
     "output_type": "execute_result"
    }
   ],
   "source": [
    "pipelines = pd.read_feather(pre_sample_file)\n",
    "pipelines.sample(3)"
   ]
  },
  {
   "cell_type": "code",
   "execution_count": 6,
   "metadata": {},
   "outputs": [
    {
     "data": {
      "text/html": [
       "<div>\n",
       "<style scoped>\n",
       "    .dataframe tbody tr th:only-of-type {\n",
       "        vertical-align: middle;\n",
       "    }\n",
       "\n",
       "    .dataframe tbody tr th {\n",
       "        vertical-align: top;\n",
       "    }\n",
       "\n",
       "    .dataframe thead th {\n",
       "        text-align: right;\n",
       "    }\n",
       "</style>\n",
       "<table border=\"1\" class=\"dataframe\">\n",
       "  <thead>\n",
       "    <tr style=\"text-align: right;\">\n",
       "      <th></th>\n",
       "      <th>OPERATOR_ID</th>\n",
       "      <th>LOCAL_DATETIME</th>\n",
       "      <th>NAME</th>\n",
       "      <th>COMMODITY</th>\n",
       "      <th>SERIOUS</th>\n",
       "      <th>SIGNIFICANT</th>\n",
       "      <th>LOCATION_LATITUDE</th>\n",
       "      <th>LOCATION_LONGITUDE</th>\n",
       "      <th>ONSHORE</th>\n",
       "    </tr>\n",
       "  </thead>\n",
       "  <tbody>\n",
       "    <tr>\n",
       "      <th>282</th>\n",
       "      <td>22610</td>\n",
       "      <td>2010-11-12 09:48:00</td>\n",
       "      <td>MAGELLAN PIPELINE COMPANY, LP</td>\n",
       "      <td>REFINED AND/OR PETROLEUM PRODUCT (NON-HVL) WHI...</td>\n",
       "      <td>False</td>\n",
       "      <td>True</td>\n",
       "      <td>44.77328</td>\n",
       "      <td>-93.35844</td>\n",
       "      <td>True</td>\n",
       "    </tr>\n",
       "    <tr>\n",
       "      <th>2056</th>\n",
       "      <td>22610</td>\n",
       "      <td>2015-04-29 09:00:00</td>\n",
       "      <td>MAGELLAN PIPELINE COMPANY, LP</td>\n",
       "      <td>REFINED AND/OR PETROLEUM PRODUCT (NON-HVL) WHI...</td>\n",
       "      <td>False</td>\n",
       "      <td>False</td>\n",
       "      <td>35.97974</td>\n",
       "      <td>-96.00985</td>\n",
       "      <td>True</td>\n",
       "    </tr>\n",
       "    <tr>\n",
       "      <th>3746</th>\n",
       "      <td>31618</td>\n",
       "      <td>2019-04-29 07:00:00</td>\n",
       "      <td>ENTERPRISE PRODUCTS OPERATING LLC</td>\n",
       "      <td>HVL OR OTHER FLAMMABLE OR TOXIC FLUID WHICH IS...</td>\n",
       "      <td>False</td>\n",
       "      <td>False</td>\n",
       "      <td>36.49780</td>\n",
       "      <td>-90.28710</td>\n",
       "      <td>True</td>\n",
       "    </tr>\n",
       "  </tbody>\n",
       "</table>\n",
       "</div>"
      ],
      "text/plain": [
       "     OPERATOR_ID      LOCAL_DATETIME                               NAME  \\\n",
       "282        22610 2010-11-12 09:48:00      MAGELLAN PIPELINE COMPANY, LP   \n",
       "2056       22610 2015-04-29 09:00:00      MAGELLAN PIPELINE COMPANY, LP   \n",
       "3746       31618 2019-04-29 07:00:00  ENTERPRISE PRODUCTS OPERATING LLC   \n",
       "\n",
       "                                              COMMODITY  SERIOUS  SIGNIFICANT  \\\n",
       "282   REFINED AND/OR PETROLEUM PRODUCT (NON-HVL) WHI...    False         True   \n",
       "2056  REFINED AND/OR PETROLEUM PRODUCT (NON-HVL) WHI...    False        False   \n",
       "3746  HVL OR OTHER FLAMMABLE OR TOXIC FLUID WHICH IS...    False        False   \n",
       "\n",
       "      LOCATION_LATITUDE  LOCATION_LONGITUDE  ONSHORE  \n",
       "282            44.77328           -93.35844     True  \n",
       "2056           35.97974           -96.00985     True  \n",
       "3746           36.49780           -90.28710     True  "
      ]
     },
     "execution_count": 6,
     "metadata": {},
     "output_type": "execute_result"
    }
   ],
   "source": [
    "incidents = pd.read_feather(incidents_selected_file)\n",
    "incidents.sample(3)"
   ]
  },
  {
   "cell_type": "code",
   "execution_count": 7,
   "metadata": {},
   "outputs": [
    {
     "data": {
      "text/html": [
       "<div>\n",
       "<style scoped>\n",
       "    .dataframe tbody tr th:only-of-type {\n",
       "        vertical-align: middle;\n",
       "    }\n",
       "\n",
       "    .dataframe tbody tr th {\n",
       "        vertical-align: top;\n",
       "    }\n",
       "\n",
       "    .dataframe thead th {\n",
       "        text-align: right;\n",
       "    }\n",
       "</style>\n",
       "<table border=\"1\" class=\"dataframe\">\n",
       "  <thead>\n",
       "    <tr style=\"text-align: right;\">\n",
       "      <th></th>\n",
       "      <th>OPERATOR_ID</th>\n",
       "      <th>YEAR</th>\n",
       "      <th>NAME</th>\n",
       "      <th>TOTAL_MILES</th>\n",
       "      <th>PARENT</th>\n",
       "    </tr>\n",
       "  </thead>\n",
       "  <tbody>\n",
       "    <tr>\n",
       "      <th>70</th>\n",
       "      <td>9175</td>\n",
       "      <td>2009</td>\n",
       "      <td>JAYHAWK PIPELINE LLC</td>\n",
       "      <td>331.000</td>\n",
       "      <td>CHS</td>\n",
       "    </tr>\n",
       "    <tr>\n",
       "      <th>122</th>\n",
       "      <td>39368</td>\n",
       "      <td>2016</td>\n",
       "      <td>CRESTWOOD MIDSTREAM PARTNERS LP</td>\n",
       "      <td>129.702</td>\n",
       "      <td>Crestwood Equity Partners</td>\n",
       "    </tr>\n",
       "    <tr>\n",
       "      <th>111</th>\n",
       "      <td>39083</td>\n",
       "      <td>2013</td>\n",
       "      <td>ARROW PIPELINE</td>\n",
       "      <td>146.740</td>\n",
       "      <td>Crestwood Equity Partners</td>\n",
       "    </tr>\n",
       "  </tbody>\n",
       "</table>\n",
       "</div>"
      ],
      "text/plain": [
       "     OPERATOR_ID  YEAR                             NAME  TOTAL_MILES  \\\n",
       "70          9175  2009             JAYHAWK PIPELINE LLC      331.000   \n",
       "122        39368  2016  CRESTWOOD MIDSTREAM PARTNERS LP      129.702   \n",
       "111        39083  2013                   ARROW PIPELINE      146.740   \n",
       "\n",
       "                        PARENT  \n",
       "70                         CHS  \n",
       "122  Crestwood Equity Partners  \n",
       "111  Crestwood Equity Partners  "
      ]
     },
     "execution_count": 7,
     "metadata": {},
     "output_type": "execute_result"
    }
   ],
   "source": [
    "parents = pd.read_csv(parent_companies_file)\n",
    "parents[:150].sample(3)"
   ]
  },
  {
   "cell_type": "code",
   "execution_count": 8,
   "metadata": {},
   "outputs": [
    {
     "name": "stdout",
     "output_type": "stream",
     "text": [
      "OPERATOR_ID      int64\n",
      "YEAR             int64\n",
      "NAME            object\n",
      "TOTAL_MILES    float64\n",
      "PARENT          object\n",
      "dtype: object\n",
      "OPERATOR_ID     object\n",
      "YEAR             int64\n",
      "NAME            object\n",
      "TOTAL_MILES    float64\n",
      "PARENT          object\n",
      "dtype: object\n"
     ]
    }
   ],
   "source": [
    "print(parents.dtypes)\n",
    "parents['OPERATOR_ID'] = parents['OPERATOR_ID'].astype(str)\n",
    "print(parents.dtypes)"
   ]
  },
  {
   "cell_type": "markdown",
   "metadata": {},
   "source": [
    "## 6.1 Reference table for company names"
   ]
  },
  {
   "cell_type": "code",
   "execution_count": 9,
   "metadata": {},
   "outputs": [],
   "source": [
    "names_1 = pd.read_feather(pipelines_2010_raw)[['OPERATOR_ID', 'REPORT_YEAR', 'PARTA2NAMEOFCOMP', 'PARTA4STREET']]\n",
    "names_2 = pd.read_feather(pipelines_2004_raw)[['OPERATOR_ID', 'YR', 'NAME', 'OFSTREET']]\n",
    "\n",
    "names_1 = names_1.rename(columns={'REPORT_YEAR': 'YEAR', 'PARTA2NAMEOFCOMP': 'NAME', 'PARTA4STREET': 'STREET'})\n",
    "names_2 = names_2.rename(columns={'YR': 'YEAR', 'OFSTREET': 'STREET'})\n",
    "\n",
    "names = pd.concat([names_1, names_2]).reset_index(drop=True)\n",
    "names.to_feather(f'../preprocessed_data/names_table_{today}.feather')"
   ]
  },
  {
   "cell_type": "code",
   "execution_count": 10,
   "metadata": {},
   "outputs": [
    {
     "data": {
      "text/plain": [
       "{'333 CLAY ST., SUITE 1600': {'start_year': 2004, 'end_year': 2009},\n",
       " '333 CLAY STREET': {'start_year': 2010, 'end_year': 2011},\n",
       " '333 CLAY STREET, SUITE 1600': {'start_year': 2012, 'end_year': 2018}}"
      ]
     },
     "execution_count": 10,
     "metadata": {},
     "output_type": "execute_result"
    }
   ],
   "source": [
    "from functools import partial\n",
    "\n",
    "def find_info(OPERATOR_ID, info_col:str, file = names_table, id_col = 'OPERATOR_ID', year_col = 'YEAR'):\n",
    "    df = pd.read_feather(file)\n",
    "    values = np.unique(df[df[id_col] == int(OPERATOR_ID)][info_col]).tolist()\n",
    "    result = {}\n",
    "    for value in values:\n",
    "        start_year = df[df[info_col] == value][year_col].min()\n",
    "        end_year = df[df[info_col] == value][year_col].max()\n",
    "        result[value] = {'start_year': start_year, 'end_year': end_year}\n",
    "    return(result)\n",
    "\n",
    "find_address = partial(find_info, info_col = 'STREET')\n",
    "find_address('300')"
   ]
  },
  {
   "cell_type": "code",
   "execution_count": 11,
   "metadata": {},
   "outputs": [
    {
     "data": {
      "text/plain": [
       "{'PLAINS PIPELINE, L.P.': {'start_year': 2004, 'end_year': 2018}}"
      ]
     },
     "execution_count": 11,
     "metadata": {},
     "output_type": "execute_result"
    }
   ],
   "source": [
    "find_names = partial(find_info, info_col = 'NAME')\n",
    "find_names('300')"
   ]
  },
  {
   "cell_type": "markdown",
   "metadata": {},
   "source": [
    "## 6.2 Largest operators - add parents"
   ]
  },
  {
   "cell_type": "markdown",
   "metadata": {},
   "source": [
    "We use the list of the largest operators that we have generated in workbook 5."
   ]
  },
  {
   "cell_type": "markdown",
   "metadata": {},
   "source": [
    "All parent companies are retrieved from LexisNexis. Where the search yielded unclear results, we consult the address column in the original .xls file by FERC. In some rare cases, we did additional research (mostly company documents) to resolve conflicts."
   ]
  },
  {
   "cell_type": "code",
   "execution_count": 12,
   "metadata": {},
   "outputs": [
    {
     "data": {
      "text/html": [
       "<div>\n",
       "<style scoped>\n",
       "    .dataframe tbody tr th:only-of-type {\n",
       "        vertical-align: middle;\n",
       "    }\n",
       "\n",
       "    .dataframe tbody tr th {\n",
       "        vertical-align: top;\n",
       "    }\n",
       "\n",
       "    .dataframe thead th {\n",
       "        text-align: right;\n",
       "    }\n",
       "</style>\n",
       "<table border=\"1\" class=\"dataframe\">\n",
       "  <thead>\n",
       "    <tr style=\"text-align: right;\">\n",
       "      <th></th>\n",
       "      <th>OPERATOR_ID</th>\n",
       "      <th>YEAR</th>\n",
       "      <th>NAME</th>\n",
       "      <th>TOTAL_MILES</th>\n",
       "    </tr>\n",
       "  </thead>\n",
       "  <tbody>\n",
       "    <tr>\n",
       "      <th>0</th>\n",
       "      <td>31618</td>\n",
       "      <td>2018.0</td>\n",
       "      <td>ENTERPRISE PRODUCTS OPERATING LLC</td>\n",
       "      <td>8311.369</td>\n",
       "    </tr>\n",
       "    <tr>\n",
       "      <th>1</th>\n",
       "      <td>32109</td>\n",
       "      <td>2018.0</td>\n",
       "      <td>ONEOK NGL PIPELINE, LLC</td>\n",
       "      <td>4756.610</td>\n",
       "    </tr>\n",
       "    <tr>\n",
       "      <th>2</th>\n",
       "      <td>31684</td>\n",
       "      <td>2005.0</td>\n",
       "      <td>PHILLIPS 66 PIPELINE LLC</td>\n",
       "      <td>4691.000</td>\n",
       "    </tr>\n",
       "    <tr>\n",
       "      <th>3</th>\n",
       "      <td>22610</td>\n",
       "      <td>2014.0</td>\n",
       "      <td>MAGELLAN PIPELINE COMPANY, LP</td>\n",
       "      <td>4505.500</td>\n",
       "    </tr>\n",
       "    <tr>\n",
       "      <th>4</th>\n",
       "      <td>2552</td>\n",
       "      <td>2015.0</td>\n",
       "      <td>COLONIAL PIPELINE CO</td>\n",
       "      <td>4500.920</td>\n",
       "    </tr>\n",
       "  </tbody>\n",
       "</table>\n",
       "</div>"
      ],
      "text/plain": [
       "  OPERATOR_ID    YEAR                               NAME  TOTAL_MILES\n",
       "0       31618  2018.0  ENTERPRISE PRODUCTS OPERATING LLC     8311.369\n",
       "1       32109  2018.0            ONEOK NGL PIPELINE, LLC     4756.610\n",
       "2       31684  2005.0           PHILLIPS 66 PIPELINE LLC     4691.000\n",
       "3       22610  2014.0      MAGELLAN PIPELINE COMPANY, LP     4505.500\n",
       "4        2552  2015.0               COLONIAL PIPELINE CO     4500.920"
      ]
     },
     "execution_count": 12,
     "metadata": {},
     "output_type": "execute_result"
    }
   ],
   "source": [
    "largest_pipeline_operators = pd.read_feather(largest_observations_file)\n",
    "sample = largest_pipeline_operators[:sample_len]\n",
    "\n",
    "sample.head()"
   ]
  },
  {
   "cell_type": "code",
   "execution_count": 13,
   "metadata": {},
   "outputs": [
    {
     "data": {
      "text/html": [
       "<div>\n",
       "<style scoped>\n",
       "    .dataframe tbody tr th:only-of-type {\n",
       "        vertical-align: middle;\n",
       "    }\n",
       "\n",
       "    .dataframe tbody tr th {\n",
       "        vertical-align: top;\n",
       "    }\n",
       "\n",
       "    .dataframe thead th {\n",
       "        text-align: right;\n",
       "    }\n",
       "</style>\n",
       "<table border=\"1\" class=\"dataframe\">\n",
       "  <thead>\n",
       "    <tr style=\"text-align: right;\">\n",
       "      <th></th>\n",
       "      <th>OPERATOR_ID</th>\n",
       "      <th>YEAR</th>\n",
       "      <th>NAME</th>\n",
       "      <th>TOTAL_MILES</th>\n",
       "      <th>PARENT</th>\n",
       "    </tr>\n",
       "  </thead>\n",
       "  <tbody>\n",
       "    <tr>\n",
       "      <th>0</th>\n",
       "      <td>31618</td>\n",
       "      <td>2018</td>\n",
       "      <td>ENTERPRISE PRODUCTS OPERATING LLC</td>\n",
       "      <td>8311.369</td>\n",
       "      <td>Enterprise Products Partners</td>\n",
       "    </tr>\n",
       "    <tr>\n",
       "      <th>1</th>\n",
       "      <td>32109</td>\n",
       "      <td>2018</td>\n",
       "      <td>ONEOK NGL PIPELINE, LLC</td>\n",
       "      <td>4756.610</td>\n",
       "      <td>ONEOK</td>\n",
       "    </tr>\n",
       "    <tr>\n",
       "      <th>2</th>\n",
       "      <td>31684</td>\n",
       "      <td>2005</td>\n",
       "      <td>PHILLIPS 66 PIPELINE LLC</td>\n",
       "      <td>4691.000</td>\n",
       "      <td>Phillips 66</td>\n",
       "    </tr>\n",
       "    <tr>\n",
       "      <th>3</th>\n",
       "      <td>22610</td>\n",
       "      <td>2014</td>\n",
       "      <td>MAGELLAN PIPELINE COMPANY, LP</td>\n",
       "      <td>4505.500</td>\n",
       "      <td>Magellan Midstream Partners</td>\n",
       "    </tr>\n",
       "    <tr>\n",
       "      <th>4</th>\n",
       "      <td>2552</td>\n",
       "      <td>2015</td>\n",
       "      <td>COLONIAL PIPELINE CO</td>\n",
       "      <td>4500.920</td>\n",
       "      <td>Colonial Pipeline</td>\n",
       "    </tr>\n",
       "  </tbody>\n",
       "</table>\n",
       "</div>"
      ],
      "text/plain": [
       "  OPERATOR_ID  YEAR                               NAME  TOTAL_MILES  \\\n",
       "0       31618  2018  ENTERPRISE PRODUCTS OPERATING LLC     8311.369   \n",
       "1       32109  2018            ONEOK NGL PIPELINE, LLC     4756.610   \n",
       "2       31684  2005           PHILLIPS 66 PIPELINE LLC     4691.000   \n",
       "3       22610  2014      MAGELLAN PIPELINE COMPANY, LP     4505.500   \n",
       "4        2552  2015               COLONIAL PIPELINE CO     4500.920   \n",
       "\n",
       "                         PARENT  \n",
       "0  Enterprise Products Partners  \n",
       "1                         ONEOK  \n",
       "2                   Phillips 66  \n",
       "3   Magellan Midstream Partners  \n",
       "4             Colonial Pipeline  "
      ]
     },
     "execution_count": 13,
     "metadata": {},
     "output_type": "execute_result"
    }
   ],
   "source": [
    "parents.head()"
   ]
  },
  {
   "cell_type": "code",
   "execution_count": 14,
   "metadata": {},
   "outputs": [],
   "source": [
    "assert len(parents.loc[parents['OPERATOR_ID'].isin(sample[:sample_len]['OPERATOR_ID'])]) == sample_len\n",
    "assert parents.loc[parents['OPERATOR_ID'].isin(sample[:sample_len]['OPERATOR_ID'])]['PARENT'].isna().sum() == 0"
   ]
  },
  {
   "cell_type": "markdown",
   "metadata": {},
   "source": [
    "## 6.3 Finalize sample"
   ]
  },
  {
   "cell_type": "code",
   "execution_count": 15,
   "metadata": {},
   "outputs": [
    {
     "data": {
      "text/html": [
       "<div>\n",
       "<style scoped>\n",
       "    .dataframe tbody tr th:only-of-type {\n",
       "        vertical-align: middle;\n",
       "    }\n",
       "\n",
       "    .dataframe tbody tr th {\n",
       "        vertical-align: top;\n",
       "    }\n",
       "\n",
       "    .dataframe thead th {\n",
       "        text-align: right;\n",
       "    }\n",
       "</style>\n",
       "<table border=\"1\" class=\"dataframe\">\n",
       "  <thead>\n",
       "    <tr style=\"text-align: right;\">\n",
       "      <th></th>\n",
       "      <th>OPERATOR_ID</th>\n",
       "      <th>YEAR</th>\n",
       "      <th>NAME</th>\n",
       "      <th>COMMODITY</th>\n",
       "      <th>MILES</th>\n",
       "      <th>AGE_UNKNOWN_MILES</th>\n",
       "      <th>MILES_PRE_1940</th>\n",
       "      <th>MILES_1940</th>\n",
       "      <th>MILES_1950</th>\n",
       "      <th>MILES_1960</th>\n",
       "      <th>MILES_1970</th>\n",
       "      <th>MILES_1980</th>\n",
       "      <th>MILES_1990</th>\n",
       "      <th>MILES_2000</th>\n",
       "      <th>MILES_2010</th>\n",
       "      <th>AVG_AGE</th>\n",
       "      <th>PERC_OFFSHORE</th>\n",
       "    </tr>\n",
       "  </thead>\n",
       "  <tbody>\n",
       "    <tr>\n",
       "      <th>0</th>\n",
       "      <td>300</td>\n",
       "      <td>2017</td>\n",
       "      <td>PLAINS PIPELINE, L.P.</td>\n",
       "      <td>hvl</td>\n",
       "      <td>72.9</td>\n",
       "      <td>0.0</td>\n",
       "      <td>0.00</td>\n",
       "      <td>0.0</td>\n",
       "      <td>0.0</td>\n",
       "      <td>0.0</td>\n",
       "      <td>0.0</td>\n",
       "      <td>0.0</td>\n",
       "      <td>0.01</td>\n",
       "      <td>0.0</td>\n",
       "      <td>47.92</td>\n",
       "      <td>5.004173</td>\n",
       "      <td>0.0</td>\n",
       "    </tr>\n",
       "    <tr>\n",
       "      <th>1</th>\n",
       "      <td>300</td>\n",
       "      <td>2017</td>\n",
       "      <td>PLAINS PIPELINE, L.P.</td>\n",
       "      <td>non-hvl</td>\n",
       "      <td>0.0</td>\n",
       "      <td>0.0</td>\n",
       "      <td>3.72</td>\n",
       "      <td>0.0</td>\n",
       "      <td>0.0</td>\n",
       "      <td>0.0</td>\n",
       "      <td>0.0</td>\n",
       "      <td>0.0</td>\n",
       "      <td>0.00</td>\n",
       "      <td>0.0</td>\n",
       "      <td>0.00</td>\n",
       "      <td>90.000000</td>\n",
       "      <td>0.0</td>\n",
       "    </tr>\n",
       "    <tr>\n",
       "      <th>2</th>\n",
       "      <td>395</td>\n",
       "      <td>2017</td>\n",
       "      <td>AMOCO OIL CO</td>\n",
       "      <td>non-hvl</td>\n",
       "      <td>662.3</td>\n",
       "      <td>0.0</td>\n",
       "      <td>0.60</td>\n",
       "      <td>15.0</td>\n",
       "      <td>0.0</td>\n",
       "      <td>0.9</td>\n",
       "      <td>1.5</td>\n",
       "      <td>18.5</td>\n",
       "      <td>58.20</td>\n",
       "      <td>5.1</td>\n",
       "      <td>0.70</td>\n",
       "      <td>34.611940</td>\n",
       "      <td>0.0</td>\n",
       "    </tr>\n",
       "  </tbody>\n",
       "</table>\n",
       "</div>"
      ],
      "text/plain": [
       "  OPERATOR_ID  YEAR                   NAME COMMODITY  MILES  \\\n",
       "0         300  2017  PLAINS PIPELINE, L.P.       hvl   72.9   \n",
       "1         300  2017  PLAINS PIPELINE, L.P.   non-hvl    0.0   \n",
       "2         395  2017           AMOCO OIL CO   non-hvl  662.3   \n",
       "\n",
       "   AGE_UNKNOWN_MILES  MILES_PRE_1940  MILES_1940  MILES_1950  MILES_1960  \\\n",
       "0                0.0            0.00         0.0         0.0         0.0   \n",
       "1                0.0            3.72         0.0         0.0         0.0   \n",
       "2                0.0            0.60        15.0         0.0         0.9   \n",
       "\n",
       "   MILES_1970  MILES_1980  MILES_1990  MILES_2000  MILES_2010    AVG_AGE  \\\n",
       "0         0.0         0.0        0.01         0.0       47.92   5.004173   \n",
       "1         0.0         0.0        0.00         0.0        0.00  90.000000   \n",
       "2         1.5        18.5       58.20         5.1        0.70  34.611940   \n",
       "\n",
       "   PERC_OFFSHORE  \n",
       "0            0.0  \n",
       "1            0.0  \n",
       "2            0.0  "
      ]
     },
     "execution_count": 15,
     "metadata": {},
     "output_type": "execute_result"
    }
   ],
   "source": [
    "sample = pipelines.loc[pipelines['OPERATOR_ID'].isin(sample['OPERATOR_ID'])].copy()\n",
    "assert len(sample['OPERATOR_ID'].unique()) == sample_len\n",
    "sample.head(3)"
   ]
  },
  {
   "cell_type": "markdown",
   "metadata": {},
   "source": [
    "### Drop offshore incidents"
   ]
  },
  {
   "cell_type": "code",
   "execution_count": 16,
   "metadata": {},
   "outputs": [],
   "source": [
    "incidents = incidents.loc[incidents['ONSHORE'] == True].reset_index(drop = True)\n",
    "incidents = incidents.drop(columns = ['ONSHORE'])"
   ]
  },
  {
   "cell_type": "markdown",
   "metadata": {},
   "source": [
    "### 6.3.1 Merge in parents"
   ]
  },
  {
   "cell_type": "markdown",
   "metadata": {},
   "source": [
    "Ensure all parents are there."
   ]
  },
  {
   "cell_type": "code",
   "execution_count": 17,
   "metadata": {},
   "outputs": [
    {
     "data": {
      "text/html": [
       "<div>\n",
       "<style scoped>\n",
       "    .dataframe tbody tr th:only-of-type {\n",
       "        vertical-align: middle;\n",
       "    }\n",
       "\n",
       "    .dataframe tbody tr th {\n",
       "        vertical-align: top;\n",
       "    }\n",
       "\n",
       "    .dataframe thead th {\n",
       "        text-align: right;\n",
       "    }\n",
       "</style>\n",
       "<table border=\"1\" class=\"dataframe\">\n",
       "  <thead>\n",
       "    <tr style=\"text-align: right;\">\n",
       "      <th></th>\n",
       "      <th>OPERATOR_ID</th>\n",
       "      <th>YEAR</th>\n",
       "      <th>NAME</th>\n",
       "      <th>COMMODITY</th>\n",
       "      <th>MILES</th>\n",
       "      <th>AGE_UNKNOWN_MILES</th>\n",
       "      <th>MILES_PRE_1940</th>\n",
       "      <th>MILES_1940</th>\n",
       "      <th>MILES_1950</th>\n",
       "      <th>MILES_1960</th>\n",
       "      <th>MILES_1970</th>\n",
       "      <th>MILES_1980</th>\n",
       "      <th>MILES_1990</th>\n",
       "      <th>MILES_2000</th>\n",
       "      <th>MILES_2010</th>\n",
       "      <th>AVG_AGE</th>\n",
       "      <th>PERC_OFFSHORE</th>\n",
       "      <th>PARENT</th>\n",
       "    </tr>\n",
       "  </thead>\n",
       "  <tbody>\n",
       "    <tr>\n",
       "      <th>2397</th>\n",
       "      <td>31878</td>\n",
       "      <td>2018</td>\n",
       "      <td>BRIDGER PIPELINE LLC</td>\n",
       "      <td>crude</td>\n",
       "      <td>51.0</td>\n",
       "      <td>0.0</td>\n",
       "      <td>0.0</td>\n",
       "      <td>0.0</td>\n",
       "      <td>73.0</td>\n",
       "      <td>13.0</td>\n",
       "      <td>114.0</td>\n",
       "      <td>95.0</td>\n",
       "      <td>6.0</td>\n",
       "      <td>22.0</td>\n",
       "      <td>129.0</td>\n",
       "      <td>33.274336</td>\n",
       "      <td>0.0</td>\n",
       "      <td>Bridger Pipe Line</td>\n",
       "    </tr>\n",
       "    <tr>\n",
       "      <th>498</th>\n",
       "      <td>7660</td>\n",
       "      <td>2009</td>\n",
       "      <td>HUNT CRUDE OIL SUPPLY CO</td>\n",
       "      <td>crude</td>\n",
       "      <td>63.0</td>\n",
       "      <td>0.0</td>\n",
       "      <td>0.0</td>\n",
       "      <td>0.0</td>\n",
       "      <td>0.0</td>\n",
       "      <td>31.0</td>\n",
       "      <td>126.0</td>\n",
       "      <td>0.0</td>\n",
       "      <td>46.0</td>\n",
       "      <td>7.0</td>\n",
       "      <td>0.0</td>\n",
       "      <td>41.095238</td>\n",
       "      <td>0.0</td>\n",
       "      <td>Hunt Crude Oil</td>\n",
       "    </tr>\n",
       "    <tr>\n",
       "      <th>1008</th>\n",
       "      <td>19319</td>\n",
       "      <td>2009</td>\n",
       "      <td>TEXAS PETROCHEMICALS CORP</td>\n",
       "      <td>non-hvl</td>\n",
       "      <td>5.4</td>\n",
       "      <td>0.0</td>\n",
       "      <td>0.0</td>\n",
       "      <td>0.0</td>\n",
       "      <td>0.0</td>\n",
       "      <td>0.0</td>\n",
       "      <td>0.0</td>\n",
       "      <td>0.0</td>\n",
       "      <td>0.0</td>\n",
       "      <td>0.0</td>\n",
       "      <td>0.0</td>\n",
       "      <td>NaN</td>\n",
       "      <td>0.0</td>\n",
       "      <td>TPC Group</td>\n",
       "    </tr>\n",
       "  </tbody>\n",
       "</table>\n",
       "</div>"
      ],
      "text/plain": [
       "     OPERATOR_ID  YEAR                       NAME COMMODITY  MILES  \\\n",
       "2397       31878  2018       BRIDGER PIPELINE LLC     crude   51.0   \n",
       "498         7660  2009   HUNT CRUDE OIL SUPPLY CO     crude   63.0   \n",
       "1008       19319  2009  TEXAS PETROCHEMICALS CORP   non-hvl    5.4   \n",
       "\n",
       "      AGE_UNKNOWN_MILES  MILES_PRE_1940  MILES_1940  MILES_1950  MILES_1960  \\\n",
       "2397                0.0             0.0         0.0        73.0        13.0   \n",
       "498                 0.0             0.0         0.0         0.0        31.0   \n",
       "1008                0.0             0.0         0.0         0.0         0.0   \n",
       "\n",
       "      MILES_1970  MILES_1980  MILES_1990  MILES_2000  MILES_2010    AVG_AGE  \\\n",
       "2397       114.0        95.0         6.0        22.0       129.0  33.274336   \n",
       "498        126.0         0.0        46.0         7.0         0.0  41.095238   \n",
       "1008         0.0         0.0         0.0         0.0         0.0        NaN   \n",
       "\n",
       "      PERC_OFFSHORE             PARENT  \n",
       "2397            0.0  Bridger Pipe Line  \n",
       "498             0.0     Hunt Crude Oil  \n",
       "1008            0.0          TPC Group  "
      ]
     },
     "execution_count": 17,
     "metadata": {},
     "output_type": "execute_result"
    }
   ],
   "source": [
    "sample = sample.merge(parents[['OPERATOR_ID', 'PARENT']], on='OPERATOR_ID')\n",
    "assert len(sample['OPERATOR_ID'].unique()) == sample_len\n",
    "sample.sample(3)"
   ]
  },
  {
   "cell_type": "markdown",
   "metadata": {},
   "source": [
    "### 6.3.2 Merge in incidents (by type) "
   ]
  },
  {
   "cell_type": "markdown",
   "metadata": {},
   "source": [
    "#### See if there are any conflicts between observations in the same year"
   ]
  },
  {
   "cell_type": "code",
   "execution_count": 18,
   "metadata": {},
   "outputs": [],
   "source": [
    "assert len(sample[['OPERATOR_ID', 'YEAR', 'COMMODITY', 'NAME']].drop_duplicates()) == len(sample[['OPERATOR_ID', 'COMMODITY', 'YEAR']].drop_duplicates())"
   ]
  },
  {
   "cell_type": "markdown",
   "metadata": {},
   "source": [
    "### 6.3.3 Clean commodity names - incidents"
   ]
  },
  {
   "cell_type": "code",
   "execution_count": 19,
   "metadata": {},
   "outputs": [
    {
     "data": {
      "text/plain": [
       "array(['REFINED AND/OR PETROLEUM PRODUCT (NON-HVL) WHICH IS A LIQUID AT AMBIENT CONDITIONS',\n",
       "       'CO2 (CARBON DIOXIDE)',\n",
       "       'HVL OR OTHER FLAMMABLE OR TOXIC FLUID WHICH IS A GAS AT AMBIENT CONDITIONS',\n",
       "       'CRUDE OIL',\n",
       "       'BIOFUEL / ALTERNATIVE FUEL(INCLUDING ETHANOL BLENDS)'],\n",
       "      dtype=object)"
      ]
     },
     "execution_count": 19,
     "metadata": {},
     "output_type": "execute_result"
    }
   ],
   "source": [
    "incidents['COMMODITY'].unique()"
   ]
  },
  {
   "cell_type": "code",
   "execution_count": 20,
   "metadata": {},
   "outputs": [
    {
     "data": {
      "text/html": [
       "<div>\n",
       "<style scoped>\n",
       "    .dataframe tbody tr th:only-of-type {\n",
       "        vertical-align: middle;\n",
       "    }\n",
       "\n",
       "    .dataframe tbody tr th {\n",
       "        vertical-align: top;\n",
       "    }\n",
       "\n",
       "    .dataframe thead th {\n",
       "        text-align: right;\n",
       "    }\n",
       "</style>\n",
       "<table border=\"1\" class=\"dataframe\">\n",
       "  <thead>\n",
       "    <tr style=\"text-align: right;\">\n",
       "      <th></th>\n",
       "      <th>OPERATOR_ID</th>\n",
       "      <th>LOCAL_DATETIME</th>\n",
       "      <th>NAME</th>\n",
       "      <th>COMMODITY</th>\n",
       "      <th>SERIOUS</th>\n",
       "      <th>SIGNIFICANT</th>\n",
       "      <th>LOCATION_LATITUDE</th>\n",
       "      <th>LOCATION_LONGITUDE</th>\n",
       "    </tr>\n",
       "  </thead>\n",
       "  <tbody>\n",
       "    <tr>\n",
       "      <th>1306</th>\n",
       "      <td>26134</td>\n",
       "      <td>2013-08-01 20:00:00</td>\n",
       "      <td>EXXONMOBIL OIL CORP - WEST COAST</td>\n",
       "      <td>crude</td>\n",
       "      <td>False</td>\n",
       "      <td>False</td>\n",
       "      <td>35.431862</td>\n",
       "      <td>-119.689930</td>\n",
       "    </tr>\n",
       "    <tr>\n",
       "      <th>2409</th>\n",
       "      <td>31618</td>\n",
       "      <td>2016-03-06 04:45:00</td>\n",
       "      <td>ENTERPRISE PRODUCTS OPERATING LLC</td>\n",
       "      <td>hvl</td>\n",
       "      <td>False</td>\n",
       "      <td>False</td>\n",
       "      <td>32.187260</td>\n",
       "      <td>-94.259980</td>\n",
       "    </tr>\n",
       "    <tr>\n",
       "      <th>3020</th>\n",
       "      <td>30829</td>\n",
       "      <td>2017-08-16 09:00:00</td>\n",
       "      <td>ENTERPRISE CRUDE PIPELINE LLC</td>\n",
       "      <td>crude</td>\n",
       "      <td>False</td>\n",
       "      <td>False</td>\n",
       "      <td>32.755990</td>\n",
       "      <td>-102.719168</td>\n",
       "    </tr>\n",
       "  </tbody>\n",
       "</table>\n",
       "</div>"
      ],
      "text/plain": [
       "     OPERATOR_ID      LOCAL_DATETIME                               NAME  \\\n",
       "1306       26134 2013-08-01 20:00:00   EXXONMOBIL OIL CORP - WEST COAST   \n",
       "2409       31618 2016-03-06 04:45:00  ENTERPRISE PRODUCTS OPERATING LLC   \n",
       "3020       30829 2017-08-16 09:00:00      ENTERPRISE CRUDE PIPELINE LLC   \n",
       "\n",
       "     COMMODITY  SERIOUS  SIGNIFICANT  LOCATION_LATITUDE  LOCATION_LONGITUDE  \n",
       "1306     crude    False        False          35.431862         -119.689930  \n",
       "2409       hvl    False        False          32.187260          -94.259980  \n",
       "3020     crude    False        False          32.755990         -102.719168  "
      ]
     },
     "execution_count": 20,
     "metadata": {},
     "output_type": "execute_result"
    }
   ],
   "source": [
    "new_names_incidents = {'REFINED AND/OR PETROLEUM PRODUCT (NON-HVL) WHICH IS A LIQUID AT AMBIENT CONDITIONS': 'non-hvl', \n",
    "                       'CO2 (CARBON DIOXIDE)': 'co2', \n",
    "                       'HVL OR OTHER FLAMMABLE OR TOXIC FLUID WHICH IS A GAS AT AMBIENT CONDITIONS': 'hvl', \n",
    "                       'CRUDE OIL': 'crude', \n",
    "                       'BIOFUEL / ALTERNATIVE FUEL(INCLUDING ETHANOL BLENDS)': 'hvl'}\n",
    "\n",
    "incidents = incidents.replace({'COMMODITY': new_names_incidents})\n",
    "incidents.sample(3)"
   ]
  },
  {
   "cell_type": "markdown",
   "metadata": {},
   "source": [
    "The index column has a funny name, but that name gets dropped when writing the sample to .feather."
   ]
  },
  {
   "cell_type": "markdown",
   "metadata": {},
   "source": [
    "### Merge and safe"
   ]
  },
  {
   "cell_type": "code",
   "execution_count": 21,
   "metadata": {},
   "outputs": [],
   "source": [
    "incidents['YEAR'] = incidents['LOCAL_DATETIME'].dt.year"
   ]
  },
  {
   "cell_type": "markdown",
   "metadata": {},
   "source": [
    "All incidents"
   ]
  },
  {
   "cell_type": "code",
   "execution_count": 22,
   "metadata": {},
   "outputs": [],
   "source": [
    "incident_counts = incidents.groupby(['OPERATOR_ID', 'YEAR', 'COMMODITY']).size().reset_index(name='INCIDENTS')\n",
    "incident_counts.sample(3)\n",
    "\n",
    "assert len(incident_counts.loc[incident_counts.duplicated(subset=['OPERATOR_ID', 'YEAR', 'COMMODITY'])]) == 0\n",
    "assert len(sample.loc[sample.duplicated(subset=['OPERATOR_ID', 'YEAR', 'COMMODITY'])]) == 0"
   ]
  },
  {
   "cell_type": "code",
   "execution_count": 23,
   "metadata": {},
   "outputs": [
    {
     "name": "stdout",
     "output_type": "stream",
     "text": [
      "3200\n",
      "3200\n"
     ]
    }
   ],
   "source": [
    "print(len(sample))\n",
    "sample = sample.merge(incident_counts, on=['OPERATOR_ID', 'YEAR', 'COMMODITY'], how='left')\n",
    "sample['INCIDENTS'] = sample['INCIDENTS'].fillna(value=0)\n",
    "assert len(sample.loc[sample.duplicated(subset=['OPERATOR_ID', 'YEAR', 'COMMODITY'])]) == 0\n",
    "print(len(sample))"
   ]
  },
  {
   "cell_type": "markdown",
   "metadata": {},
   "source": [
    "All significant incidents"
   ]
  },
  {
   "cell_type": "code",
   "execution_count": 24,
   "metadata": {},
   "outputs": [
    {
     "data": {
      "text/html": [
       "<div>\n",
       "<style scoped>\n",
       "    .dataframe tbody tr th:only-of-type {\n",
       "        vertical-align: middle;\n",
       "    }\n",
       "\n",
       "    .dataframe tbody tr th {\n",
       "        vertical-align: top;\n",
       "    }\n",
       "\n",
       "    .dataframe thead th {\n",
       "        text-align: right;\n",
       "    }\n",
       "</style>\n",
       "<table border=\"1\" class=\"dataframe\">\n",
       "  <thead>\n",
       "    <tr style=\"text-align: right;\">\n",
       "      <th></th>\n",
       "      <th>OPERATOR_ID</th>\n",
       "      <th>YEAR</th>\n",
       "      <th>COMMODITY</th>\n",
       "      <th>SIGNIFICANT_INCIDENTS</th>\n",
       "    </tr>\n",
       "  </thead>\n",
       "  <tbody>\n",
       "    <tr>\n",
       "      <th>225</th>\n",
       "      <td>2731</td>\n",
       "      <td>2012</td>\n",
       "      <td>non-hvl</td>\n",
       "      <td>1</td>\n",
       "    </tr>\n",
       "    <tr>\n",
       "      <th>285</th>\n",
       "      <td>31130</td>\n",
       "      <td>2013</td>\n",
       "      <td>hvl</td>\n",
       "      <td>1</td>\n",
       "    </tr>\n",
       "    <tr>\n",
       "      <th>301</th>\n",
       "      <td>31174</td>\n",
       "      <td>2015</td>\n",
       "      <td>crude</td>\n",
       "      <td>2</td>\n",
       "    </tr>\n",
       "  </tbody>\n",
       "</table>\n",
       "</div>"
      ],
      "text/plain": [
       "    OPERATOR_ID  YEAR COMMODITY  SIGNIFICANT_INCIDENTS\n",
       "225        2731  2012   non-hvl                      1\n",
       "285       31130  2013       hvl                      1\n",
       "301       31174  2015     crude                      2"
      ]
     },
     "execution_count": 24,
     "metadata": {},
     "output_type": "execute_result"
    }
   ],
   "source": [
    "significant_incident_counts = incidents[incidents['SIGNIFICANT'] == True].groupby(\n",
    "    ['OPERATOR_ID', 'YEAR', 'COMMODITY']).size().reset_index(name='SIGNIFICANT_INCIDENTS')\n",
    "significant_incident_counts.sample(3)"
   ]
  },
  {
   "cell_type": "code",
   "execution_count": 25,
   "metadata": {},
   "outputs": [
    {
     "name": "stdout",
     "output_type": "stream",
     "text": [
      "3200\n",
      "3200\n"
     ]
    }
   ],
   "source": [
    "print(len(sample))\n",
    "sample = sample.merge(significant_incident_counts, on=['OPERATOR_ID', 'YEAR', 'COMMODITY'], how='left')\n",
    "sample['SIGNIFICANT_INCIDENTS'] = sample['SIGNIFICANT_INCIDENTS'].fillna(value=0)\n",
    "print(len(sample))"
   ]
  },
  {
   "cell_type": "code",
   "execution_count": 26,
   "metadata": {},
   "outputs": [],
   "source": [
    "sample.to_feather(f'../preprocessed_data/sample_{today}.feather')\n",
    "incidents.to_feather(f'../preprocessed_data/incidents_renamed_{today}.feather')"
   ]
  },
  {
   "cell_type": "code",
   "execution_count": null,
   "metadata": {},
   "outputs": [],
   "source": []
  }
 ],
 "metadata": {
  "jupytext": {
   "formats": "ipynb,md"
  },
  "kernelspec": {
   "display_name": "oil_industry",
   "language": "python",
   "name": "oil_industry"
  },
  "language_info": {
   "codemirror_mode": {
    "name": "ipython",
    "version": 3
   },
   "file_extension": ".py",
   "mimetype": "text/x-python",
   "name": "python",
   "nbconvert_exporter": "python",
   "pygments_lexer": "ipython3",
   "version": "3.6.8"
  }
 },
 "nbformat": 4,
 "nbformat_minor": 4
}
