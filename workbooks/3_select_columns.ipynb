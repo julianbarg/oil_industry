{
 "cells": [
  {
   "cell_type": "markdown",
   "metadata": {},
   "source": [
    "# 3 - Select columns"
   ]
  },
  {
   "cell_type": "code",
   "execution_count": 1,
   "metadata": {},
   "outputs": [],
   "source": [
    "import pandas as pd\n",
    "import numpy as np\n",
    "from datetime import date\n",
    "\n",
    "today = date.today().isoformat()"
   ]
  },
  {
   "cell_type": "markdown",
   "metadata": {},
   "source": [
    "## 3.1 Extract relevant columns of the pipeline incidents dataset"
   ]
  },
  {
   "cell_type": "code",
   "execution_count": 2,
   "metadata": {},
   "outputs": [
    {
     "data": {
      "text/html": [
       "<div>\n",
       "<style scoped>\n",
       "    .dataframe tbody tr th:only-of-type {\n",
       "        vertical-align: middle;\n",
       "    }\n",
       "\n",
       "    .dataframe tbody tr th {\n",
       "        vertical-align: top;\n",
       "    }\n",
       "\n",
       "    .dataframe thead th {\n",
       "        text-align: right;\n",
       "    }\n",
       "</style>\n",
       "<table border=\"1\" class=\"dataframe\">\n",
       "  <thead>\n",
       "    <tr style=\"text-align: right;\">\n",
       "      <th></th>\n",
       "      <th>OPERATOR_ID</th>\n",
       "      <th>LOCAL_DATETIME</th>\n",
       "      <th>NAME</th>\n",
       "      <th>SERIOUS</th>\n",
       "      <th>SIGNIFICANT</th>\n",
       "      <th>LOCATION_LATITUDE</th>\n",
       "      <th>LOCATION_LONGITUDE</th>\n",
       "    </tr>\n",
       "  </thead>\n",
       "  <tbody>\n",
       "    <tr>\n",
       "      <th>2579</th>\n",
       "      <td>22610</td>\n",
       "      <td>2016-07-14 08:10:00</td>\n",
       "      <td>MAGELLAN PIPELINE COMPANY, LP</td>\n",
       "      <td>NO</td>\n",
       "      <td>NO</td>\n",
       "      <td>40.200690</td>\n",
       "      <td>-104.609410</td>\n",
       "    </tr>\n",
       "    <tr>\n",
       "      <th>1851</th>\n",
       "      <td>31574</td>\n",
       "      <td>2014-11-25 09:30:00</td>\n",
       "      <td>WESTERN REFINING PIPELINE, LLC</td>\n",
       "      <td>NO</td>\n",
       "      <td>YES</td>\n",
       "      <td>36.487768</td>\n",
       "      <td>-108.129948</td>\n",
       "    </tr>\n",
       "    <tr>\n",
       "      <th>1712</th>\n",
       "      <td>300</td>\n",
       "      <td>2014-07-10 01:30:00</td>\n",
       "      <td>PLAINS PIPELINE, L.P.</td>\n",
       "      <td>NO</td>\n",
       "      <td>NO</td>\n",
       "      <td>32.531930</td>\n",
       "      <td>-100.830510</td>\n",
       "    </tr>\n",
       "    <tr>\n",
       "      <th>3791</th>\n",
       "      <td>31579</td>\n",
       "      <td>2019-06-04 16:00:00</td>\n",
       "      <td>MAGELLAN PIPELINES HOLDINGS, LP</td>\n",
       "      <td>NO</td>\n",
       "      <td>NO</td>\n",
       "      <td>35.990400</td>\n",
       "      <td>-96.577985</td>\n",
       "    </tr>\n",
       "    <tr>\n",
       "      <th>3287</th>\n",
       "      <td>9175</td>\n",
       "      <td>2018-03-08 17:50:00</td>\n",
       "      <td>JAYHAWK PIPELINE LLC</td>\n",
       "      <td>NO</td>\n",
       "      <td>NO</td>\n",
       "      <td>38.340310</td>\n",
       "      <td>-98.311460</td>\n",
       "    </tr>\n",
       "  </tbody>\n",
       "</table>\n",
       "</div>"
      ],
      "text/plain": [
       "      OPERATOR_ID      LOCAL_DATETIME                             NAME  \\\n",
       "2579        22610 2016-07-14 08:10:00    MAGELLAN PIPELINE COMPANY, LP   \n",
       "1851        31574 2014-11-25 09:30:00   WESTERN REFINING PIPELINE, LLC   \n",
       "1712          300 2014-07-10 01:30:00            PLAINS PIPELINE, L.P.   \n",
       "3791        31579 2019-06-04 16:00:00  MAGELLAN PIPELINES HOLDINGS, LP   \n",
       "3287         9175 2018-03-08 17:50:00             JAYHAWK PIPELINE LLC   \n",
       "\n",
       "     SERIOUS SIGNIFICANT  LOCATION_LATITUDE  LOCATION_LONGITUDE  \n",
       "2579      NO          NO          40.200690         -104.609410  \n",
       "1851      NO         YES          36.487768         -108.129948  \n",
       "1712      NO          NO          32.531930         -100.830510  \n",
       "3791      NO          NO          35.990400          -96.577985  \n",
       "3287      NO          NO          38.340310          -98.311460  "
      ]
     },
     "execution_count": 2,
     "metadata": {},
     "output_type": "execute_result"
    }
   ],
   "source": [
    "incidents = pd.read_excel('../data/incidents_2019-08-01/hl2010toPresent.xlsx', \n",
    "                          sheet_name=1)\n",
    "incidents_selected = incidents[[\n",
    "    'OPERATOR_ID', 'LOCAL_DATETIME', 'NAME', 'SERIOUS', 'SIGNIFICANT', 'LOCATION_LATITUDE', 'LOCATION_LONGITUDE']].copy()\n",
    "\n",
    "incidents_selected.sample(5)"
   ]
  },
  {
   "cell_type": "code",
   "execution_count": 3,
   "metadata": {},
   "outputs": [
    {
     "data": {
      "text/plain": [
       "OPERATOR_ID                    int64\n",
       "LOCAL_DATETIME        datetime64[ns]\n",
       "NAME                          object\n",
       "SERIOUS                       object\n",
       "SIGNIFICANT                   object\n",
       "LOCATION_LATITUDE            float64\n",
       "LOCATION_LONGITUDE           float64\n",
       "dtype: object"
      ]
     },
     "execution_count": 3,
     "metadata": {},
     "output_type": "execute_result"
    }
   ],
   "source": [
    "incidents_selected.dtypes"
   ]
  },
  {
   "cell_type": "code",
   "execution_count": 4,
   "metadata": {},
   "outputs": [
    {
     "data": {
      "text/plain": [
       "OPERATOR_ID                   object\n",
       "LOCAL_DATETIME        datetime64[ns]\n",
       "NAME                          object\n",
       "SERIOUS                       object\n",
       "SIGNIFICANT                   object\n",
       "LOCATION_LATITUDE            float64\n",
       "LOCATION_LONGITUDE           float64\n",
       "dtype: object"
      ]
     },
     "execution_count": 4,
     "metadata": {},
     "output_type": "execute_result"
    }
   ],
   "source": [
    "incidents_selected['OPERATOR_ID'] = incidents_selected['OPERATOR_ID'].astype(str)\n",
    "incidents_selected.dtypes"
   ]
  },
  {
   "cell_type": "markdown",
   "metadata": {},
   "source": [
    "Make sure SERIOUS and SIGNIFICANT are booleans."
   ]
  },
  {
   "cell_type": "code",
   "execution_count": 5,
   "metadata": {},
   "outputs": [
    {
     "data": {
      "text/plain": [
       "False    3803\n",
       "True       16\n",
       "Name: SERIOUS, dtype: int64"
      ]
     },
     "execution_count": 5,
     "metadata": {},
     "output_type": "execute_result"
    }
   ],
   "source": [
    "(incidents_selected[['SERIOUS']] == 'YES')['SERIOUS'].value_counts()"
   ]
  },
  {
   "cell_type": "code",
   "execution_count": 6,
   "metadata": {},
   "outputs": [
    {
     "data": {
      "text/plain": [
       "False    2364\n",
       "True     1455\n",
       "Name: SIGNIFICANT, dtype: int64"
      ]
     },
     "execution_count": 6,
     "metadata": {},
     "output_type": "execute_result"
    }
   ],
   "source": [
    "(incidents_selected[['SIGNIFICANT']] == 'YES')['SIGNIFICANT'].value_counts()"
   ]
  },
  {
   "cell_type": "code",
   "execution_count": 7,
   "metadata": {},
   "outputs": [],
   "source": [
    "incidents_selected['SIGNIFICANT'] = incidents_selected[['SIGNIFICANT']] == 'YES'"
   ]
  },
  {
   "cell_type": "code",
   "execution_count": 8,
   "metadata": {},
   "outputs": [
    {
     "data": {
      "text/plain": [
       "OPERATOR_ID                   object\n",
       "LOCAL_DATETIME        datetime64[ns]\n",
       "NAME                          object\n",
       "SERIOUS                       object\n",
       "SIGNIFICANT                     bool\n",
       "LOCATION_LATITUDE            float64\n",
       "LOCATION_LONGITUDE           float64\n",
       "dtype: object"
      ]
     },
     "execution_count": 8,
     "metadata": {},
     "output_type": "execute_result"
    }
   ],
   "source": [
    "incidents_selected.dtypes"
   ]
  },
  {
   "cell_type": "code",
   "execution_count": 9,
   "metadata": {},
   "outputs": [],
   "source": [
    "incidents_selected.to_feather(f'../preprocessed_data/incidents_selected_{today}.feather')"
   ]
  },
  {
   "cell_type": "markdown",
   "metadata": {},
   "source": [
    "## 3.2 Extract relevant columns of the pipeline system dataset"
   ]
  },
  {
   "cell_type": "code",
   "execution_count": 10,
   "metadata": {},
   "outputs": [
    {
     "data": {
      "text/html": [
       "<div>\n",
       "<style scoped>\n",
       "    .dataframe tbody tr th:only-of-type {\n",
       "        vertical-align: middle;\n",
       "    }\n",
       "\n",
       "    .dataframe tbody tr th {\n",
       "        vertical-align: top;\n",
       "    }\n",
       "\n",
       "    .dataframe thead th {\n",
       "        text-align: right;\n",
       "    }\n",
       "</style>\n",
       "<table border=\"1\" class=\"dataframe\">\n",
       "  <thead>\n",
       "    <tr style=\"text-align: right;\">\n",
       "      <th></th>\n",
       "      <th>DATAFILE_AS_OF</th>\n",
       "      <th>REPORT_YEAR</th>\n",
       "      <th>REPORT_NUMBER</th>\n",
       "      <th>SUPPLEMENTAL_NUMBER</th>\n",
       "      <th>OPERATOR_ID</th>\n",
       "      <th>PARTA2NAMEOFCOMP</th>\n",
       "      <th>PARTA4STREET</th>\n",
       "      <th>PARTA4CITY</th>\n",
       "      <th>PARTA4STATE</th>\n",
       "      <th>PARTA4ZIP</th>\n",
       "      <th>...</th>\n",
       "      <th>PARTE2010HF</th>\n",
       "      <th>PARTE2010LF</th>\n",
       "      <th>PARTE2010TOTAL</th>\n",
       "      <th>PARTETOTAL</th>\n",
       "      <th>PARTETOTALHF</th>\n",
       "      <th>PARTETOTALLF</th>\n",
       "      <th>REPORT_SUBMISSION_TYPE</th>\n",
       "      <th>REPORT_DATE</th>\n",
       "      <th>FILING_DATE</th>\n",
       "      <th>FORM_REV</th>\n",
       "    </tr>\n",
       "  </thead>\n",
       "  <tbody>\n",
       "    <tr>\n",
       "      <th>696</th>\n",
       "      <td>2019-07-01 10:36:07</td>\n",
       "      <td>2011</td>\n",
       "      <td>20120359</td>\n",
       "      <td>13215</td>\n",
       "      <td>1845</td>\n",
       "      <td>BUCKEYE PARTNERS, LP</td>\n",
       "      <td>FIVE TEK PARK</td>\n",
       "      <td>BREINIGSVILLE</td>\n",
       "      <td>PA</td>\n",
       "      <td>18031</td>\n",
       "      <td>...</td>\n",
       "      <td>0.149</td>\n",
       "      <td>0.0</td>\n",
       "      <td>0.149</td>\n",
       "      <td>4721.585</td>\n",
       "      <td>641.736</td>\n",
       "      <td>4079.849</td>\n",
       "      <td>SUPPLEMENTAL</td>\n",
       "      <td>2012-06-15 10:35:39</td>\n",
       "      <td>2014-11-26 11:15:21</td>\n",
       "      <td>7000-1.1 (Rev. 06-2011)</td>\n",
       "    </tr>\n",
       "    <tr>\n",
       "      <th>1223</th>\n",
       "      <td>2019-07-01 11:03:57</td>\n",
       "      <td>2014</td>\n",
       "      <td>20151411</td>\n",
       "      <td>13537</td>\n",
       "      <td>3535</td>\n",
       "      <td>DOW PIPELINE CO</td>\n",
       "      <td>1000 COUNTY ROAD 340</td>\n",
       "      <td>ANGLETON</td>\n",
       "      <td>TX</td>\n",
       "      <td>77515</td>\n",
       "      <td>...</td>\n",
       "      <td>0.000</td>\n",
       "      <td>0.0</td>\n",
       "      <td>0.000</td>\n",
       "      <td>196.760</td>\n",
       "      <td>136.540</td>\n",
       "      <td>60.220</td>\n",
       "      <td>INITIAL</td>\n",
       "      <td>2015-06-11 15:18:23</td>\n",
       "      <td>2015-06-11 15:18:23</td>\n",
       "      <td>7000-1.1 (Rev. 06-2014)</td>\n",
       "    </tr>\n",
       "    <tr>\n",
       "      <th>2386</th>\n",
       "      <td>2019-07-01 10:54:15</td>\n",
       "      <td>2013</td>\n",
       "      <td>20141051</td>\n",
       "      <td>13078</td>\n",
       "      <td>12628</td>\n",
       "      <td>MOBIL  PIPE  LINE COMPANY</td>\n",
       "      <td>800 BELL STREET, ROOM 741-D</td>\n",
       "      <td>HOUSTON</td>\n",
       "      <td>TX</td>\n",
       "      <td>77002</td>\n",
       "      <td>...</td>\n",
       "      <td>0.000</td>\n",
       "      <td>0.0</td>\n",
       "      <td>0.000</td>\n",
       "      <td>189.000</td>\n",
       "      <td>107.500</td>\n",
       "      <td>81.500</td>\n",
       "      <td>INITIAL</td>\n",
       "      <td>2014-06-16 01:36:47</td>\n",
       "      <td>2014-06-16 01:36:47</td>\n",
       "      <td>7000-1.1 (Rev. 06-2011)</td>\n",
       "    </tr>\n",
       "    <tr>\n",
       "      <th>3597</th>\n",
       "      <td>2019-07-01 11:40:32</td>\n",
       "      <td>2018</td>\n",
       "      <td>20190145</td>\n",
       "      <td>16546</td>\n",
       "      <td>31434</td>\n",
       "      <td>PALMER PETROLEUM INC</td>\n",
       "      <td>LANDFILL RD</td>\n",
       "      <td>MONROEVILLE</td>\n",
       "      <td>AL</td>\n",
       "      <td>36460</td>\n",
       "      <td>...</td>\n",
       "      <td>0.000</td>\n",
       "      <td>0.0</td>\n",
       "      <td>0.000</td>\n",
       "      <td>0.000</td>\n",
       "      <td>0.000</td>\n",
       "      <td>0.000</td>\n",
       "      <td>INITIAL</td>\n",
       "      <td>2019-05-30 11:04:29</td>\n",
       "      <td>2019-05-30 11:04:29</td>\n",
       "      <td>7000-1.1 (Rev. 06-2014)</td>\n",
       "    </tr>\n",
       "    <tr>\n",
       "      <th>853</th>\n",
       "      <td>2019-07-01 10:36:07</td>\n",
       "      <td>2011</td>\n",
       "      <td>20120333</td>\n",
       "      <td>11371</td>\n",
       "      <td>30005</td>\n",
       "      <td>MOBIL PACIFIC PIPELINE CO</td>\n",
       "      <td>800  Bell  St                 Room 623-F</td>\n",
       "      <td>TORRANCE</td>\n",
       "      <td>Texas</td>\n",
       "      <td>77002</td>\n",
       "      <td>...</td>\n",
       "      <td>0.000</td>\n",
       "      <td>0.0</td>\n",
       "      <td>0.000</td>\n",
       "      <td>20.500</td>\n",
       "      <td>15.000</td>\n",
       "      <td>5.500</td>\n",
       "      <td>INITIAL</td>\n",
       "      <td>2012-06-14 18:12:24</td>\n",
       "      <td>2012-06-14 18:12:24</td>\n",
       "      <td>7000-1.1 (Rev. 06-2011)</td>\n",
       "    </tr>\n",
       "  </tbody>\n",
       "</table>\n",
       "<p>5 rows × 85 columns</p>\n",
       "</div>"
      ],
      "text/plain": [
       "          DATAFILE_AS_OF  REPORT_YEAR  REPORT_NUMBER  SUPPLEMENTAL_NUMBER  \\\n",
       "696  2019-07-01 10:36:07         2011       20120359                13215   \n",
       "1223 2019-07-01 11:03:57         2014       20151411                13537   \n",
       "2386 2019-07-01 10:54:15         2013       20141051                13078   \n",
       "3597 2019-07-01 11:40:32         2018       20190145                16546   \n",
       "853  2019-07-01 10:36:07         2011       20120333                11371   \n",
       "\n",
       "      OPERATOR_ID           PARTA2NAMEOFCOMP  \\\n",
       "696          1845       BUCKEYE PARTNERS, LP   \n",
       "1223         3535            DOW PIPELINE CO   \n",
       "2386        12628  MOBIL  PIPE  LINE COMPANY   \n",
       "3597        31434       PALMER PETROLEUM INC   \n",
       "853         30005  MOBIL PACIFIC PIPELINE CO   \n",
       "\n",
       "                                  PARTA4STREET     PARTA4CITY PARTA4STATE  \\\n",
       "696                              FIVE TEK PARK  BREINIGSVILLE          PA   \n",
       "1223                      1000 COUNTY ROAD 340       ANGLETON          TX   \n",
       "2386               800 BELL STREET, ROOM 741-D        HOUSTON          TX   \n",
       "3597                               LANDFILL RD    MONROEVILLE          AL   \n",
       "853   800  Bell  St                 Room 623-F       TORRANCE       Texas   \n",
       "\n",
       "     PARTA4ZIP  ... PARTE2010HF PARTE2010LF PARTE2010TOTAL PARTETOTAL  \\\n",
       "696      18031  ...       0.149         0.0          0.149   4721.585   \n",
       "1223     77515  ...       0.000         0.0          0.000    196.760   \n",
       "2386     77002  ...       0.000         0.0          0.000    189.000   \n",
       "3597     36460  ...       0.000         0.0          0.000      0.000   \n",
       "853      77002  ...       0.000         0.0          0.000     20.500   \n",
       "\n",
       "      PARTETOTALHF  PARTETOTALLF  REPORT_SUBMISSION_TYPE         REPORT_DATE  \\\n",
       "696        641.736      4079.849            SUPPLEMENTAL 2012-06-15 10:35:39   \n",
       "1223       136.540        60.220                 INITIAL 2015-06-11 15:18:23   \n",
       "2386       107.500        81.500                 INITIAL 2014-06-16 01:36:47   \n",
       "3597         0.000         0.000                 INITIAL 2019-05-30 11:04:29   \n",
       "853         15.000         5.500                 INITIAL 2012-06-14 18:12:24   \n",
       "\n",
       "             FILING_DATE                 FORM_REV  \n",
       "696  2014-11-26 11:15:21  7000-1.1 (Rev. 06-2011)  \n",
       "1223 2015-06-11 15:18:23  7000-1.1 (Rev. 06-2014)  \n",
       "2386 2014-06-16 01:36:47  7000-1.1 (Rev. 06-2011)  \n",
       "3597 2019-05-30 11:04:29  7000-1.1 (Rev. 06-2014)  \n",
       "853  2012-06-14 18:12:24  7000-1.1 (Rev. 06-2011)  \n",
       "\n",
       "[5 rows x 85 columns]"
      ]
     },
     "execution_count": 10,
     "metadata": {},
     "output_type": "execute_result"
    }
   ],
   "source": [
    "from os import listdir\n",
    "\n",
    "pipelines_2010_present = [file for file in listdir('../data/pipelines_2010_present_2019-08-02/') if 'annual_hazardous_liquid' in file]\n",
    "pipelines_2010_present = pd.concat([pd.read_excel(f'../data/pipelines_2010_present_2019-08-02/{file}', skiprows=2) \n",
    "                                    for file in pipelines_2010_present])\n",
    "pipelines_2010_present = pipelines_2010_present.reset_index(drop = True)\n",
    "\n",
    "pipelines_2010_present.sample(5)"
   ]
  },
  {
   "cell_type": "code",
   "execution_count": 11,
   "metadata": {},
   "outputs": [
    {
     "data": {
      "text/html": [
       "<div>\n",
       "<style scoped>\n",
       "    .dataframe tbody tr th:only-of-type {\n",
       "        vertical-align: middle;\n",
       "    }\n",
       "\n",
       "    .dataframe tbody tr th {\n",
       "        vertical-align: top;\n",
       "    }\n",
       "\n",
       "    .dataframe thead th {\n",
       "        text-align: right;\n",
       "    }\n",
       "</style>\n",
       "<table border=\"1\" class=\"dataframe\">\n",
       "  <thead>\n",
       "    <tr style=\"text-align: right;\">\n",
       "      <th></th>\n",
       "      <th>ORIGINAL</th>\n",
       "      <th>SUPPLEMENT</th>\n",
       "      <th>YR</th>\n",
       "      <th>RPTID</th>\n",
       "      <th>HL_SUP_ID</th>\n",
       "      <th>SYSTEM_TYPE</th>\n",
       "      <th>OPERATOR_ID</th>\n",
       "      <th>NAME</th>\n",
       "      <th>PARENT</th>\n",
       "      <th>OFSTREET</th>\n",
       "      <th>...</th>\n",
       "      <th>BA_5</th>\n",
       "      <th>BA_6</th>\n",
       "      <th>BA_7</th>\n",
       "      <th>BA_8</th>\n",
       "      <th>DOR</th>\n",
       "      <th>DOE</th>\n",
       "      <th>PNAME</th>\n",
       "      <th>PPHONE</th>\n",
       "      <th>PEMAIL</th>\n",
       "      <th>PFAX</th>\n",
       "    </tr>\n",
       "  </thead>\n",
       "  <tbody>\n",
       "    <tr>\n",
       "      <th>2218</th>\n",
       "      <td>Y</td>\n",
       "      <td>N</td>\n",
       "      <td>2004</td>\n",
       "      <td>20040133</td>\n",
       "      <td>165</td>\n",
       "      <td>PETROLEUM &amp; REFINED PRODUCTS</td>\n",
       "      <td>2714</td>\n",
       "      <td>DOMINION TRANSMISION, INCORPORATED</td>\n",
       "      <td>DOMINION RESOURCES</td>\n",
       "      <td>445 WEST MAIN STREET</td>\n",
       "      <td>...</td>\n",
       "      <td>0.00</td>\n",
       "      <td>0.0</td>\n",
       "      <td>0.0</td>\n",
       "      <td>NaN</td>\n",
       "      <td>2005-06-13</td>\n",
       "      <td>2005-06-13 14:07:33</td>\n",
       "      <td>MARTIN C. SCHWOEBLE</td>\n",
       "      <td>7244687726</td>\n",
       "      <td>MARTIN_C._SCHWOEBLE@DOM.COM</td>\n",
       "      <td>7.24469e+09</td>\n",
       "    </tr>\n",
       "    <tr>\n",
       "      <th>1031</th>\n",
       "      <td>Y</td>\n",
       "      <td>N</td>\n",
       "      <td>2009</td>\n",
       "      <td>20090236</td>\n",
       "      <td>7193</td>\n",
       "      <td>HVLS</td>\n",
       "      <td>32428</td>\n",
       "      <td>INTERCONTINENTAL TERMINAL COMPANY, LLC</td>\n",
       "      <td>NaN</td>\n",
       "      <td>1943 BATTLEGROUND ROAD</td>\n",
       "      <td>...</td>\n",
       "      <td>0.00</td>\n",
       "      <td>0.0</td>\n",
       "      <td>3.0</td>\n",
       "      <td>0.00</td>\n",
       "      <td>2010-06-08</td>\n",
       "      <td>2010-06-08 00:00:00</td>\n",
       "      <td>WILLIAM BUDD</td>\n",
       "      <td>2818840391</td>\n",
       "      <td>WBUDD@ITERM.COM</td>\n",
       "      <td>2.81884e+09</td>\n",
       "    </tr>\n",
       "    <tr>\n",
       "      <th>1281</th>\n",
       "      <td>Y</td>\n",
       "      <td>N</td>\n",
       "      <td>2009</td>\n",
       "      <td>20090302</td>\n",
       "      <td>7260</td>\n",
       "      <td>CRUDE OIL</td>\n",
       "      <td>10250</td>\n",
       "      <td>KIANTONE PIPELINE CORP</td>\n",
       "      <td>UNITED REFINING COMPANY</td>\n",
       "      <td>PO BOX 780</td>\n",
       "      <td>...</td>\n",
       "      <td>73.24</td>\n",
       "      <td>0.0</td>\n",
       "      <td>0.0</td>\n",
       "      <td>1.53</td>\n",
       "      <td>2010-06-11</td>\n",
       "      <td>2010-06-11 08:58:42</td>\n",
       "      <td>DANIEL SOBINA</td>\n",
       "      <td>8147264846</td>\n",
       "      <td>DANSOBINA@URC.COM</td>\n",
       "      <td>8.14726e+09</td>\n",
       "    </tr>\n",
       "    <tr>\n",
       "      <th>501</th>\n",
       "      <td>Y</td>\n",
       "      <td>N</td>\n",
       "      <td>2006</td>\n",
       "      <td>20060218</td>\n",
       "      <td>2475</td>\n",
       "      <td>CO2 OR OTHER</td>\n",
       "      <td>32141</td>\n",
       "      <td>RESOLUTE NATURAL RESOURCES COMPANY</td>\n",
       "      <td>NaN</td>\n",
       "      <td>1675 BROADWAY, SUITE 1950</td>\n",
       "      <td>...</td>\n",
       "      <td>0.00</td>\n",
       "      <td>0.0</td>\n",
       "      <td>0.0</td>\n",
       "      <td>NaN</td>\n",
       "      <td>2007-06-13</td>\n",
       "      <td>2007-06-13 11:29:59</td>\n",
       "      <td>DWIGHT E MALLORY</td>\n",
       "      <td>3.03534e+09</td>\n",
       "      <td>DMALLORY@RNRC.NET</td>\n",
       "      <td>3.03623e+09</td>\n",
       "    </tr>\n",
       "    <tr>\n",
       "      <th>2539</th>\n",
       "      <td>Y</td>\n",
       "      <td>N</td>\n",
       "      <td>2007</td>\n",
       "      <td>20070196</td>\n",
       "      <td>3591</td>\n",
       "      <td>CRUDE OIL</td>\n",
       "      <td>26085</td>\n",
       "      <td>PLAINS MARKETING, L.P.</td>\n",
       "      <td>NaN</td>\n",
       "      <td>333 CLAY ST., SUITE 1600</td>\n",
       "      <td>...</td>\n",
       "      <td>3.50</td>\n",
       "      <td>22.0</td>\n",
       "      <td>0.0</td>\n",
       "      <td>NaN</td>\n",
       "      <td>2008-06-09</td>\n",
       "      <td>2008-06-09 10:49:15</td>\n",
       "      <td>GILBERT C. SCHUTZA, P.E., COMPLIANCE ENGINEER</td>\n",
       "      <td>7136464433</td>\n",
       "      <td>CE.GCSCHUTZA@PAALP.COM</td>\n",
       "      <td>7.13646e+09</td>\n",
       "    </tr>\n",
       "  </tbody>\n",
       "</table>\n",
       "<p>5 rows × 167 columns</p>\n",
       "</div>"
      ],
      "text/plain": [
       "     ORIGINAL SUPPLEMENT    YR     RPTID  HL_SUP_ID  \\\n",
       "2218        Y          N  2004  20040133        165   \n",
       "1031        Y          N  2009  20090236       7193   \n",
       "1281        Y          N  2009  20090302       7260   \n",
       "501         Y          N  2006  20060218       2475   \n",
       "2539        Y          N  2007  20070196       3591   \n",
       "\n",
       "                       SYSTEM_TYPE  OPERATOR_ID  \\\n",
       "2218  PETROLEUM & REFINED PRODUCTS         2714   \n",
       "1031                          HVLS        32428   \n",
       "1281                     CRUDE OIL        10250   \n",
       "501                   CO2 OR OTHER        32141   \n",
       "2539                     CRUDE OIL        26085   \n",
       "\n",
       "                                        NAME                   PARENT  \\\n",
       "2218      DOMINION TRANSMISION, INCORPORATED       DOMINION RESOURCES   \n",
       "1031  INTERCONTINENTAL TERMINAL COMPANY, LLC                      NaN   \n",
       "1281                  KIANTONE PIPELINE CORP  UNITED REFINING COMPANY   \n",
       "501       RESOLUTE NATURAL RESOURCES COMPANY                      NaN   \n",
       "2539                  PLAINS MARKETING, L.P.                      NaN   \n",
       "\n",
       "                       OFSTREET  ...   BA_5  BA_6 BA_7  BA_8        DOR  \\\n",
       "2218       445 WEST MAIN STREET  ...   0.00   0.0  0.0   NaN 2005-06-13   \n",
       "1031     1943 BATTLEGROUND ROAD  ...   0.00   0.0  3.0  0.00 2010-06-08   \n",
       "1281                 PO BOX 780  ...  73.24   0.0  0.0  1.53 2010-06-11   \n",
       "501   1675 BROADWAY, SUITE 1950  ...   0.00   0.0  0.0   NaN 2007-06-13   \n",
       "2539   333 CLAY ST., SUITE 1600  ...   3.50  22.0  0.0   NaN 2008-06-09   \n",
       "\n",
       "                     DOE                                          PNAME  \\\n",
       "2218 2005-06-13 14:07:33                            MARTIN C. SCHWOEBLE   \n",
       "1031 2010-06-08 00:00:00                                   WILLIAM BUDD   \n",
       "1281 2010-06-11 08:58:42                                  DANIEL SOBINA   \n",
       "501  2007-06-13 11:29:59                               DWIGHT E MALLORY   \n",
       "2539 2008-06-09 10:49:15  GILBERT C. SCHUTZA, P.E., COMPLIANCE ENGINEER   \n",
       "\n",
       "           PPHONE                       PEMAIL         PFAX  \n",
       "2218   7244687726  MARTIN_C._SCHWOEBLE@DOM.COM  7.24469e+09  \n",
       "1031   2818840391              WBUDD@ITERM.COM  2.81884e+09  \n",
       "1281   8147264846            DANSOBINA@URC.COM  8.14726e+09  \n",
       "501   3.03534e+09            DMALLORY@RNRC.NET  3.03623e+09  \n",
       "2539   7136464433       CE.GCSCHUTZA@PAALP.COM  7.13646e+09  \n",
       "\n",
       "[5 rows x 167 columns]"
      ]
     },
     "execution_count": 11,
     "metadata": {},
     "output_type": "execute_result"
    }
   ],
   "source": [
    "pipelines_2004_2009 = [file for file in listdir('../data/pipelines_2004_2009_2019-08-02/') if 'annual_hazardous_liquid' in file]\n",
    "pipelines_2004_2009 = pd.concat([pd.read_excel(f'../data/pipelines_2004_2009_2019-08-02/{file}') \n",
    "                                 for file in pipelines_2004_2009])\n",
    "pipelines_2004_2009 = pipelines_2004_2009.reset_index(drop = True)\n",
    "\n",
    "pipelines_2004_2009.sample(5)"
   ]
  },
  {
   "cell_type": "markdown",
   "metadata": {},
   "source": [
    "### 3.2.1 Select relevant columns"
   ]
  },
  {
   "cell_type": "markdown",
   "metadata": {},
   "source": [
    "#### For 2010-"
   ]
  },
  {
   "cell_type": "code",
   "execution_count": 12,
   "metadata": {},
   "outputs": [
    {
     "data": {
      "text/html": [
       "<div>\n",
       "<style scoped>\n",
       "    .dataframe tbody tr th:only-of-type {\n",
       "        vertical-align: middle;\n",
       "    }\n",
       "\n",
       "    .dataframe tbody tr th {\n",
       "        vertical-align: top;\n",
       "    }\n",
       "\n",
       "    .dataframe thead th {\n",
       "        text-align: right;\n",
       "    }\n",
       "</style>\n",
       "<table border=\"1\" class=\"dataframe\">\n",
       "  <thead>\n",
       "    <tr style=\"text-align: right;\">\n",
       "      <th></th>\n",
       "      <th>OPERATOR_ID</th>\n",
       "      <th>REPORT_YEAR</th>\n",
       "      <th>PARTA2NAMEOFCOMP</th>\n",
       "      <th>PARTA5COMMODITY</th>\n",
       "      <th>PARTBHCATOTAL</th>\n",
       "    </tr>\n",
       "  </thead>\n",
       "  <tbody>\n",
       "    <tr>\n",
       "      <th>5263</th>\n",
       "      <td>39313</td>\n",
       "      <td>2015</td>\n",
       "      <td>MAVERICK TERMINAL THREE RIVERS, LLC</td>\n",
       "      <td>HVL</td>\n",
       "      <td>0.00</td>\n",
       "    </tr>\n",
       "    <tr>\n",
       "      <th>2729</th>\n",
       "      <td>32364</td>\n",
       "      <td>2013</td>\n",
       "      <td>VALERO REFINING-NEW ORLEANS, L.L.C.</td>\n",
       "      <td>Refined and/or Petroleum Product (non-HVL)</td>\n",
       "      <td>1.50</td>\n",
       "    </tr>\n",
       "    <tr>\n",
       "      <th>1226</th>\n",
       "      <td>4430</td>\n",
       "      <td>2014</td>\n",
       "      <td>VALERO TERMINALING AND DISTRIBUTION COMPANY</td>\n",
       "      <td>Refined and/or Petroleum Product (non-HVL)</td>\n",
       "      <td>0.30</td>\n",
       "    </tr>\n",
       "    <tr>\n",
       "      <th>3738</th>\n",
       "      <td>32364</td>\n",
       "      <td>2018</td>\n",
       "      <td>VALERO REFINING-NEW ORLEANS, L.L.C.</td>\n",
       "      <td>Crude Oil</td>\n",
       "      <td>1.35</td>\n",
       "    </tr>\n",
       "    <tr>\n",
       "      <th>1784</th>\n",
       "      <td>994</td>\n",
       "      <td>2012</td>\n",
       "      <td>WILLIAMS FIELD SERVICES - GULF COAST COMPANY, LP</td>\n",
       "      <td>Refined and/or Petroleum Product (non-HVL)</td>\n",
       "      <td>15.30</td>\n",
       "    </tr>\n",
       "  </tbody>\n",
       "</table>\n",
       "</div>"
      ],
      "text/plain": [
       "      OPERATOR_ID  REPORT_YEAR  \\\n",
       "5263        39313         2015   \n",
       "2729        32364         2013   \n",
       "1226         4430         2014   \n",
       "3738        32364         2018   \n",
       "1784          994         2012   \n",
       "\n",
       "                                      PARTA2NAMEOFCOMP  \\\n",
       "5263               MAVERICK TERMINAL THREE RIVERS, LLC   \n",
       "2729               VALERO REFINING-NEW ORLEANS, L.L.C.   \n",
       "1226       VALERO TERMINALING AND DISTRIBUTION COMPANY   \n",
       "3738               VALERO REFINING-NEW ORLEANS, L.L.C.   \n",
       "1784  WILLIAMS FIELD SERVICES - GULF COAST COMPANY, LP   \n",
       "\n",
       "                                 PARTA5COMMODITY  PARTBHCATOTAL  \n",
       "5263                                         HVL           0.00  \n",
       "2729  Refined and/or Petroleum Product (non-HVL)           1.50  \n",
       "1226  Refined and/or Petroleum Product (non-HVL)           0.30  \n",
       "3738                                   Crude Oil           1.35  \n",
       "1784  Refined and/or Petroleum Product (non-HVL)          15.30  "
      ]
     },
     "execution_count": 12,
     "metadata": {},
     "output_type": "execute_result"
    }
   ],
   "source": [
    "pipelines_2010_selected = pipelines_2010_present[[\n",
    "    'OPERATOR_ID', 'REPORT_YEAR', 'PARTA2NAMEOFCOMP', 'PARTA5COMMODITY', 'PARTBHCATOTAL']].copy()\n",
    "\n",
    "pipelines_2010_selected.sample(5)"
   ]
  },
  {
   "cell_type": "code",
   "execution_count": 13,
   "metadata": {},
   "outputs": [
    {
     "data": {
      "text/plain": [
       "OPERATOR_ID           int64\n",
       "REPORT_YEAR           int64\n",
       "PARTA2NAMEOFCOMP     object\n",
       "PARTA5COMMODITY      object\n",
       "PARTBHCATOTAL       float64\n",
       "dtype: object"
      ]
     },
     "execution_count": 13,
     "metadata": {},
     "output_type": "execute_result"
    }
   ],
   "source": [
    "pipelines_2010_selected.dtypes"
   ]
  },
  {
   "cell_type": "code",
   "execution_count": 14,
   "metadata": {},
   "outputs": [
    {
     "data": {
      "text/plain": [
       "OPERATOR_ID          object\n",
       "REPORT_YEAR           int64\n",
       "PARTA2NAMEOFCOMP     object\n",
       "PARTA5COMMODITY      object\n",
       "PARTBHCATOTAL       float64\n",
       "dtype: object"
      ]
     },
     "execution_count": 14,
     "metadata": {},
     "output_type": "execute_result"
    }
   ],
   "source": [
    "pipelines_2010_selected['OPERATOR_ID'] = pipelines_2010_selected['OPERATOR_ID'].astype(str)\n",
    "pipelines_2010_selected.dtypes"
   ]
  },
  {
   "cell_type": "code",
   "execution_count": 15,
   "metadata": {},
   "outputs": [
    {
     "data": {
      "text/html": [
       "<div>\n",
       "<style scoped>\n",
       "    .dataframe tbody tr th:only-of-type {\n",
       "        vertical-align: middle;\n",
       "    }\n",
       "\n",
       "    .dataframe tbody tr th {\n",
       "        vertical-align: top;\n",
       "    }\n",
       "\n",
       "    .dataframe thead th {\n",
       "        text-align: right;\n",
       "    }\n",
       "</style>\n",
       "<table border=\"1\" class=\"dataframe\">\n",
       "  <thead>\n",
       "    <tr style=\"text-align: right;\">\n",
       "      <th></th>\n",
       "      <th>OPERATOR_ID</th>\n",
       "      <th>YEAR</th>\n",
       "      <th>NAME</th>\n",
       "      <th>COMMODITY</th>\n",
       "      <th>MILES</th>\n",
       "    </tr>\n",
       "  </thead>\n",
       "  <tbody>\n",
       "    <tr>\n",
       "      <th>1222</th>\n",
       "      <td>3527</td>\n",
       "      <td>2014</td>\n",
       "      <td>DOW PIPELINE CO</td>\n",
       "      <td>HVL</td>\n",
       "      <td>158.54</td>\n",
       "    </tr>\n",
       "    <tr>\n",
       "      <th>4304</th>\n",
       "      <td>31579</td>\n",
       "      <td>2016</td>\n",
       "      <td>MAGELLAN PIPELINES HOLDINGS, LP</td>\n",
       "      <td>Refined and/or Petroleum Product (non-HVL)</td>\n",
       "      <td>30.18</td>\n",
       "    </tr>\n",
       "    <tr>\n",
       "      <th>971</th>\n",
       "      <td>31582</td>\n",
       "      <td>2011</td>\n",
       "      <td>ONEOK ROCKIES MIDSTREAM, LLC</td>\n",
       "      <td>HVL</td>\n",
       "      <td>28.05</td>\n",
       "    </tr>\n",
       "    <tr>\n",
       "      <th>2372</th>\n",
       "      <td>11032</td>\n",
       "      <td>2013</td>\n",
       "      <td>LACLEDE GAS CO</td>\n",
       "      <td>HVL</td>\n",
       "      <td>39.00</td>\n",
       "    </tr>\n",
       "    <tr>\n",
       "      <th>2788</th>\n",
       "      <td>32634</td>\n",
       "      <td>2013</td>\n",
       "      <td>ENLINK PERMIAN, LLC</td>\n",
       "      <td>HVL</td>\n",
       "      <td>0.00</td>\n",
       "    </tr>\n",
       "  </tbody>\n",
       "</table>\n",
       "</div>"
      ],
      "text/plain": [
       "     OPERATOR_ID  YEAR                             NAME  \\\n",
       "1222        3527  2014                  DOW PIPELINE CO   \n",
       "4304       31579  2016  MAGELLAN PIPELINES HOLDINGS, LP   \n",
       "971        31582  2011     ONEOK ROCKIES MIDSTREAM, LLC   \n",
       "2372       11032  2013                   LACLEDE GAS CO   \n",
       "2788       32634  2013              ENLINK PERMIAN, LLC   \n",
       "\n",
       "                                       COMMODITY   MILES  \n",
       "1222                                         HVL  158.54  \n",
       "4304  Refined and/or Petroleum Product (non-HVL)   30.18  \n",
       "971                                          HVL   28.05  \n",
       "2372                                         HVL   39.00  \n",
       "2788                                         HVL    0.00  "
      ]
     },
     "execution_count": 15,
     "metadata": {},
     "output_type": "execute_result"
    }
   ],
   "source": [
    "pipelines_2010_selected = pipelines_2010_selected.rename(\n",
    "    columns={'REPORT_YEAR': 'YEAR', 'PARTA2NAMEOFCOMP': 'NAME', 'PARTA5COMMODITY': 'COMMODITY', 'PARTBHCATOTAL': \"MILES\"})\n",
    "pipelines_2010_selected.sample(5)"
   ]
  },
  {
   "cell_type": "code",
   "execution_count": 16,
   "metadata": {},
   "outputs": [],
   "source": [
    "pipelines_2010_selected.to_feather(f'../preprocessed_data/pipelines_2010_selected_{today}.feather')"
   ]
  },
  {
   "cell_type": "markdown",
   "metadata": {},
   "source": [
    "#### For 2004-"
   ]
  },
  {
   "cell_type": "markdown",
   "metadata": {},
   "source": [
    "Clean name column"
   ]
  },
  {
   "cell_type": "code",
   "execution_count": 17,
   "metadata": {},
   "outputs": [
    {
     "data": {
      "text/plain": [
       "False    2730\n",
       "Name: NAME_FIXED, dtype: int64"
      ]
     },
     "execution_count": 17,
     "metadata": {},
     "output_type": "execute_result"
    }
   ],
   "source": [
    "import numpy as np\n",
    "\n",
    "pipelines_2004_2009['NAME_FIXED'] = np.where(pd.isnull(pipelines_2004_2009['PARENT']), \n",
    "                                             pipelines_2004_2009['NAME'], \n",
    "                                             pipelines_2004_2009['PARENT'])\n",
    "pd.isnull(pipelines_2004_2009['NAME_FIXED']).value_counts()"
   ]
  },
  {
   "cell_type": "code",
   "execution_count": 18,
   "metadata": {},
   "outputs": [
    {
     "data": {
      "text/html": [
       "<div>\n",
       "<style scoped>\n",
       "    .dataframe tbody tr th:only-of-type {\n",
       "        vertical-align: middle;\n",
       "    }\n",
       "\n",
       "    .dataframe tbody tr th {\n",
       "        vertical-align: top;\n",
       "    }\n",
       "\n",
       "    .dataframe thead th {\n",
       "        text-align: right;\n",
       "    }\n",
       "</style>\n",
       "<table border=\"1\" class=\"dataframe\">\n",
       "  <thead>\n",
       "    <tr style=\"text-align: right;\">\n",
       "      <th></th>\n",
       "      <th>NAME_FIXED</th>\n",
       "      <th>NAME</th>\n",
       "      <th>PARENT</th>\n",
       "    </tr>\n",
       "  </thead>\n",
       "  <tbody>\n",
       "    <tr>\n",
       "      <th>1556</th>\n",
       "      <td>GOLDEN VALLEY ELECTRIC ASSOCIATION, INC.</td>\n",
       "      <td>GOLDEN VALLEY ELECTRIC ASSOCIATION, INC.</td>\n",
       "      <td>NaN</td>\n",
       "    </tr>\n",
       "    <tr>\n",
       "      <th>599</th>\n",
       "      <td>PLAINS MARKETING, L.P.</td>\n",
       "      <td>PLAINS MARKETING, L.P.</td>\n",
       "      <td>NaN</td>\n",
       "    </tr>\n",
       "    <tr>\n",
       "      <th>167</th>\n",
       "      <td>EXXONMOBIL PIPELINE CO</td>\n",
       "      <td>EXXONMOBIL PIPELINE CO</td>\n",
       "      <td>NaN</td>\n",
       "    </tr>\n",
       "    <tr>\n",
       "      <th>74</th>\n",
       "      <td>TEPPCO MIDSTREAM COMPANIES, L.P.</td>\n",
       "      <td>TEPPCO MIDSTREAM COMPANIES, L.P.</td>\n",
       "      <td>NaN</td>\n",
       "    </tr>\n",
       "    <tr>\n",
       "      <th>202</th>\n",
       "      <td>TEXAS PETROCHEMICALS CORP</td>\n",
       "      <td>TEXAS PETROCHEMICALS CORP</td>\n",
       "      <td>NaN</td>\n",
       "    </tr>\n",
       "  </tbody>\n",
       "</table>\n",
       "</div>"
      ],
      "text/plain": [
       "                                    NAME_FIXED  \\\n",
       "1556  GOLDEN VALLEY ELECTRIC ASSOCIATION, INC.   \n",
       "599                     PLAINS MARKETING, L.P.   \n",
       "167                     EXXONMOBIL PIPELINE CO   \n",
       "74            TEPPCO MIDSTREAM COMPANIES, L.P.   \n",
       "202                  TEXAS PETROCHEMICALS CORP   \n",
       "\n",
       "                                          NAME PARENT  \n",
       "1556  GOLDEN VALLEY ELECTRIC ASSOCIATION, INC.    NaN  \n",
       "599                     PLAINS MARKETING, L.P.    NaN  \n",
       "167                     EXXONMOBIL PIPELINE CO    NaN  \n",
       "74            TEPPCO MIDSTREAM COMPANIES, L.P.    NaN  \n",
       "202                  TEXAS PETROCHEMICALS CORP    NaN  "
      ]
     },
     "execution_count": 18,
     "metadata": {},
     "output_type": "execute_result"
    }
   ],
   "source": [
    "pipelines_2004_2009[['NAME_FIXED', 'NAME', 'PARENT']].sample(5)"
   ]
  },
  {
   "cell_type": "markdown",
   "metadata": {},
   "source": [
    "Select columns"
   ]
  },
  {
   "cell_type": "code",
   "execution_count": 19,
   "metadata": {},
   "outputs": [
    {
     "data": {
      "text/plain": [
       "OPERATOR_ID      int64\n",
       "YR               int64\n",
       "NAME_FIXED      object\n",
       "HCAMT          float64\n",
       "dtype: object"
      ]
     },
     "execution_count": 19,
     "metadata": {},
     "output_type": "execute_result"
    }
   ],
   "source": [
    "pipelines_2004_selected = pipelines_2004_2009[['OPERATOR_ID', 'YR', 'NAME_FIXED', 'HCAMT']].copy()\n",
    "pipelines_2004_selected.dtypes"
   ]
  },
  {
   "cell_type": "code",
   "execution_count": 20,
   "metadata": {},
   "outputs": [
    {
     "data": {
      "text/plain": [
       "OPERATOR_ID     object\n",
       "YR               int64\n",
       "NAME_FIXED      object\n",
       "HCAMT          float64\n",
       "dtype: object"
      ]
     },
     "execution_count": 20,
     "metadata": {},
     "output_type": "execute_result"
    }
   ],
   "source": [
    "pipelines_2004_selected['OPERATOR_ID'] = pipelines_2004_selected['OPERATOR_ID'].astype(str)\n",
    "pipelines_2004_selected.dtypes"
   ]
  },
  {
   "cell_type": "code",
   "execution_count": 21,
   "metadata": {},
   "outputs": [
    {
     "data": {
      "text/html": [
       "<div>\n",
       "<style scoped>\n",
       "    .dataframe tbody tr th:only-of-type {\n",
       "        vertical-align: middle;\n",
       "    }\n",
       "\n",
       "    .dataframe tbody tr th {\n",
       "        vertical-align: top;\n",
       "    }\n",
       "\n",
       "    .dataframe thead th {\n",
       "        text-align: right;\n",
       "    }\n",
       "</style>\n",
       "<table border=\"1\" class=\"dataframe\">\n",
       "  <thead>\n",
       "    <tr style=\"text-align: right;\">\n",
       "      <th></th>\n",
       "      <th>OPERATOR_ID</th>\n",
       "      <th>YEAR</th>\n",
       "      <th>NAME</th>\n",
       "      <th>MILES_TOTAL</th>\n",
       "    </tr>\n",
       "  </thead>\n",
       "  <tbody>\n",
       "    <tr>\n",
       "      <th>2558</th>\n",
       "      <td>13162</td>\n",
       "      <td>2007</td>\n",
       "      <td>NAVAJO REFINING CO</td>\n",
       "      <td>6.90</td>\n",
       "    </tr>\n",
       "    <tr>\n",
       "      <th>2288</th>\n",
       "      <td>26041</td>\n",
       "      <td>2007</td>\n",
       "      <td>KINDER MORGAN LIQUID TERMINALS, LLC</td>\n",
       "      <td>10.54</td>\n",
       "    </tr>\n",
       "    <tr>\n",
       "      <th>2373</th>\n",
       "      <td>15844</td>\n",
       "      <td>2007</td>\n",
       "      <td>ANADARKO PETROLEUM</td>\n",
       "      <td>0.00</td>\n",
       "    </tr>\n",
       "    <tr>\n",
       "      <th>2192</th>\n",
       "      <td>31312</td>\n",
       "      <td>2004</td>\n",
       "      <td>PINNACLE WEST CAPITAL CORPORATION</td>\n",
       "      <td>2.00</td>\n",
       "    </tr>\n",
       "    <tr>\n",
       "      <th>814</th>\n",
       "      <td>14391</td>\n",
       "      <td>2006</td>\n",
       "      <td>OSAGE PIPELINE COMPANY, LLC</td>\n",
       "      <td>59.00</td>\n",
       "    </tr>\n",
       "  </tbody>\n",
       "</table>\n",
       "</div>"
      ],
      "text/plain": [
       "     OPERATOR_ID  YEAR                                 NAME  MILES_TOTAL\n",
       "2558       13162  2007                   NAVAJO REFINING CO         6.90\n",
       "2288       26041  2007  KINDER MORGAN LIQUID TERMINALS, LLC        10.54\n",
       "2373       15844  2007                   ANADARKO PETROLEUM         0.00\n",
       "2192       31312  2004    PINNACLE WEST CAPITAL CORPORATION         2.00\n",
       "814        14391  2006          OSAGE PIPELINE COMPANY, LLC        59.00"
      ]
     },
     "execution_count": 21,
     "metadata": {},
     "output_type": "execute_result"
    }
   ],
   "source": [
    "pipelines_2004_selected = pipelines_2004_selected.rename(\n",
    "    columns={'YR': 'YEAR', 'NAME_FIXED': 'NAME', 'HCAMT': 'MILES_TOTAL'})\n",
    "pipelines_2004_selected.sample(5)"
   ]
  },
  {
   "cell_type": "code",
   "execution_count": 22,
   "metadata": {},
   "outputs": [],
   "source": [
    "pipelines_2004_selected.to_feather(f'../preprocessed_data/pipelines_2004_selected_{today}.feather')"
   ]
  },
  {
   "cell_type": "markdown",
   "metadata": {},
   "source": [
    "### 3.3 Write original data to .feather for reference"
   ]
  },
  {
   "cell_type": "markdown",
   "metadata": {},
   "source": [
    "Some columns get erroneously read to data type 'O'. We convert those manually to str type."
   ]
  },
  {
   "cell_type": "code",
   "execution_count": 23,
   "metadata": {},
   "outputs": [],
   "source": [
    "pipelines_2010_present.loc[:, pipelines_2010_present.dtypes == 'O'] = pipelines_2010_present.loc[\n",
    "    :, pipelines_2010_present.dtypes == 'O'].astype(str)\n",
    "\n",
    "pipelines_2004_2009.loc[:, pipelines_2004_2009.dtypes == 'O'] = pipelines_2004_2009.loc[\n",
    "    :, pipelines_2004_2009.dtypes == 'O'].astype(str)\n",
    "\n",
    "incidents.loc[:, incidents.dtypes == 'O'] = incidents.loc[\n",
    "    :, incidents.dtypes == 'O'].astype(str)"
   ]
  },
  {
   "cell_type": "code",
   "execution_count": 24,
   "metadata": {},
   "outputs": [],
   "source": [
    "pipelines_2010_present.to_feather(f'../data/pipelines_2010_{today}.feather')\n",
    "pipelines_2004_2009.to_feather(f'../data/pipelines_2004_{today}.feather')\n",
    "incidents.to_feather(f'../data/incidents_{today}.feather')"
   ]
  }
 ],
 "metadata": {
  "kernelspec": {
   "display_name": "oil_industry",
   "language": "python",
   "name": "oil_industry"
  },
  "language_info": {
   "codemirror_mode": {
    "name": "ipython",
    "version": 3
   },
   "file_extension": ".py",
   "mimetype": "text/x-python",
   "name": "python",
   "nbconvert_exporter": "python",
   "pygments_lexer": "ipython3",
   "version": "3.6.8"
  }
 },
 "nbformat": 4,
 "nbformat_minor": 4
}
