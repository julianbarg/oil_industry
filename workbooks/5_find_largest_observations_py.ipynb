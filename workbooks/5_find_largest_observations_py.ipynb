{
 "cells": [
  {
   "cell_type": "markdown",
   "metadata": {},
   "source": [
    "# 5. Gather observations (Python)"
   ]
  },
  {
   "cell_type": "markdown",
   "metadata": {},
   "source": [
    "Because of name changes, we individually grab the largest observations and verify their integrity."
   ]
  },
  {
   "cell_type": "code",
   "execution_count": 8,
   "metadata": {},
   "outputs": [],
   "source": [
    "import pandas as pd\n",
    "import numpy as np"
   ]
  },
  {
   "cell_type": "markdown",
   "metadata": {},
   "source": [
    "## Load data"
   ]
  },
  {
   "cell_type": "code",
   "execution_count": 6,
   "metadata": {},
   "outputs": [
    {
     "data": {
      "text/html": [
       "<div>\n",
       "<style scoped>\n",
       "    .dataframe tbody tr th:only-of-type {\n",
       "        vertical-align: middle;\n",
       "    }\n",
       "\n",
       "    .dataframe tbody tr th {\n",
       "        vertical-align: top;\n",
       "    }\n",
       "\n",
       "    .dataframe thead th {\n",
       "        text-align: right;\n",
       "    }\n",
       "</style>\n",
       "<table border=\"1\" class=\"dataframe\">\n",
       "  <thead>\n",
       "    <tr style=\"text-align: right;\">\n",
       "      <th></th>\n",
       "      <th>OPERATOR_ID</th>\n",
       "      <th>YEAR</th>\n",
       "      <th>NAME</th>\n",
       "      <th>COMMODITY</th>\n",
       "      <th>MILES</th>\n",
       "    </tr>\n",
       "  </thead>\n",
       "  <tbody>\n",
       "    <tr>\n",
       "      <th>2910</th>\n",
       "      <td>4430</td>\n",
       "      <td>2010</td>\n",
       "      <td>VALERO TERMINALING AND DISTRIBUTION COMPANY</td>\n",
       "      <td>Crude Oil</td>\n",
       "      <td>211.21</td>\n",
       "    </tr>\n",
       "    <tr>\n",
       "      <th>425</th>\n",
       "      <td>32493</td>\n",
       "      <td>2017</td>\n",
       "      <td>UNEV PIPELINE, LLC</td>\n",
       "      <td>Refined and/or Petroleum Product (non-HVL)</td>\n",
       "      <td>125.23</td>\n",
       "    </tr>\n",
       "    <tr>\n",
       "      <th>682</th>\n",
       "      <td>402</td>\n",
       "      <td>2011</td>\n",
       "      <td>MARKWEST EAST TEXAS PNG UTILITY, LLC</td>\n",
       "      <td>HVL</td>\n",
       "      <td>49.00</td>\n",
       "    </tr>\n",
       "    <tr>\n",
       "      <th>973</th>\n",
       "      <td>31583</td>\n",
       "      <td>2011</td>\n",
       "      <td>TESORO REFINING &amp; MARKETING CO., MOUNTAIN REGION</td>\n",
       "      <td>Refined and/or Petroleum Product (non-HVL)</td>\n",
       "      <td>22.08</td>\n",
       "    </tr>\n",
       "    <tr>\n",
       "      <th>5240</th>\n",
       "      <td>39189</td>\n",
       "      <td>2015</td>\n",
       "      <td>NORTHSTAR OFFSHORE GROUP, LLC</td>\n",
       "      <td>Crude Oil</td>\n",
       "      <td>0.00</td>\n",
       "    </tr>\n",
       "  </tbody>\n",
       "</table>\n",
       "</div>"
      ],
      "text/plain": [
       "      OPERATOR_ID  YEAR                                              NAME  \\\n",
       "2910         4430  2010       VALERO TERMINALING AND DISTRIBUTION COMPANY   \n",
       "425         32493  2017                                UNEV PIPELINE, LLC   \n",
       "682           402  2011              MARKWEST EAST TEXAS PNG UTILITY, LLC   \n",
       "973         31583  2011  TESORO REFINING & MARKETING CO., MOUNTAIN REGION   \n",
       "5240        39189  2015                     NORTHSTAR OFFSHORE GROUP, LLC   \n",
       "\n",
       "                                       COMMODITY   MILES  \n",
       "2910                                   Crude Oil  211.21  \n",
       "425   Refined and/or Petroleum Product (non-HVL)  125.23  \n",
       "682                                          HVL   49.00  \n",
       "973   Refined and/or Petroleum Product (non-HVL)   22.08  \n",
       "5240                                   Crude Oil    0.00  "
      ]
     },
     "execution_count": 6,
     "metadata": {},
     "output_type": "execute_result"
    }
   ],
   "source": [
    "pipelines_2010 = pd.read_feather('../preprocessed_data/pipelines_2010_selected_2019-08-03.feather')\n",
    "pipelines_2010.sample(5)"
   ]
  },
  {
   "cell_type": "markdown",
   "metadata": {},
   "source": [
    "## 5.1 Find largest observations"
   ]
  },
  {
   "cell_type": "markdown",
   "metadata": {},
   "source": [
    "#### Largest for one type"
   ]
  },
  {
   "cell_type": "code",
   "execution_count": 5,
   "metadata": {},
   "outputs": [
    {
     "data": {
      "text/html": [
       "<div>\n",
       "<style scoped>\n",
       "    .dataframe tbody tr th:only-of-type {\n",
       "        vertical-align: middle;\n",
       "    }\n",
       "\n",
       "    .dataframe tbody tr th {\n",
       "        vertical-align: top;\n",
       "    }\n",
       "\n",
       "    .dataframe thead th {\n",
       "        text-align: right;\n",
       "    }\n",
       "</style>\n",
       "<table border=\"1\" class=\"dataframe\">\n",
       "  <thead>\n",
       "    <tr style=\"text-align: right;\">\n",
       "      <th></th>\n",
       "      <th>OPERATOR_ID</th>\n",
       "      <th>YEAR</th>\n",
       "      <th>NAME</th>\n",
       "      <th>COMMODITY</th>\n",
       "      <th>MILES</th>\n",
       "    </tr>\n",
       "  </thead>\n",
       "  <tbody>\n",
       "    <tr>\n",
       "      <th>3631</th>\n",
       "      <td>31618</td>\n",
       "      <td>2018</td>\n",
       "      <td>ENTERPRISE PRODUCTS OPERATING LLC</td>\n",
       "      <td>HVL</td>\n",
       "      <td>7726.183</td>\n",
       "    </tr>\n",
       "    <tr>\n",
       "      <th>3700</th>\n",
       "      <td>32109</td>\n",
       "      <td>2018</td>\n",
       "      <td>ONEOK NGL PIPELINE, LLC</td>\n",
       "      <td>HVL</td>\n",
       "      <td>4531.480</td>\n",
       "    </tr>\n",
       "    <tr>\n",
       "      <th>4708</th>\n",
       "      <td>2552</td>\n",
       "      <td>2015</td>\n",
       "      <td>COLONIAL PIPELINE CO</td>\n",
       "      <td>Refined and/or Petroleum Product (non-HVL)</td>\n",
       "      <td>4500.920</td>\n",
       "    </tr>\n",
       "    <tr>\n",
       "      <th>4700</th>\n",
       "      <td>1845</td>\n",
       "      <td>2015</td>\n",
       "      <td>BUCKEYE PARTNERS, LP</td>\n",
       "      <td>Refined and/or Petroleum Product (non-HVL)</td>\n",
       "      <td>4266.430</td>\n",
       "    </tr>\n",
       "    <tr>\n",
       "      <th>3483</th>\n",
       "      <td>22610</td>\n",
       "      <td>2018</td>\n",
       "      <td>MAGELLAN PIPELINE COMPANY, LP</td>\n",
       "      <td>Refined and/or Petroleum Product (non-HVL)</td>\n",
       "      <td>3926.400</td>\n",
       "    </tr>\n",
       "    <tr>\n",
       "      <th>4120</th>\n",
       "      <td>15674</td>\n",
       "      <td>2016</td>\n",
       "      <td>PLANTATION PIPE LINE CO</td>\n",
       "      <td>Refined and/or Petroleum Product (non-HVL)</td>\n",
       "      <td>2564.730</td>\n",
       "    </tr>\n",
       "    <tr>\n",
       "      <th>4020</th>\n",
       "      <td>300</td>\n",
       "      <td>2016</td>\n",
       "      <td>PLAINS PIPELINE, L.P.</td>\n",
       "      <td>Crude Oil</td>\n",
       "      <td>2312.330</td>\n",
       "    </tr>\n",
       "    <tr>\n",
       "      <th>67</th>\n",
       "      <td>11169</td>\n",
       "      <td>2017</td>\n",
       "      <td>ENBRIDGE ENERGY, LIMITED PARTNERSHIP</td>\n",
       "      <td>Crude Oil</td>\n",
       "      <td>2290.000</td>\n",
       "    </tr>\n",
       "    <tr>\n",
       "      <th>3186</th>\n",
       "      <td>31684</td>\n",
       "      <td>2010</td>\n",
       "      <td>CONOCOPHILLIPS</td>\n",
       "      <td>Refined and/or Petroleum Product (non-HVL)</td>\n",
       "      <td>2283.790</td>\n",
       "    </tr>\n",
       "    <tr>\n",
       "      <th>2693</th>\n",
       "      <td>32147</td>\n",
       "      <td>2013</td>\n",
       "      <td>MARATHON PIPE LINE LLC</td>\n",
       "      <td>Refined and/or Petroleum Product (non-HVL)</td>\n",
       "      <td>2281.900</td>\n",
       "    </tr>\n",
       "  </tbody>\n",
       "</table>\n",
       "</div>"
      ],
      "text/plain": [
       "      OPERATOR_ID  YEAR                                  NAME  \\\n",
       "3631        31618  2018     ENTERPRISE PRODUCTS OPERATING LLC   \n",
       "3700        32109  2018               ONEOK NGL PIPELINE, LLC   \n",
       "4708         2552  2015                  COLONIAL PIPELINE CO   \n",
       "4700         1845  2015                  BUCKEYE PARTNERS, LP   \n",
       "3483        22610  2018         MAGELLAN PIPELINE COMPANY, LP   \n",
       "4120        15674  2016               PLANTATION PIPE LINE CO   \n",
       "4020          300  2016                 PLAINS PIPELINE, L.P.   \n",
       "67          11169  2017  ENBRIDGE ENERGY, LIMITED PARTNERSHIP   \n",
       "3186        31684  2010                        CONOCOPHILLIPS   \n",
       "2693        32147  2013                MARATHON PIPE LINE LLC   \n",
       "\n",
       "                                       COMMODITY     MILES  \n",
       "3631                                         HVL  7726.183  \n",
       "3700                                         HVL  4531.480  \n",
       "4708  Refined and/or Petroleum Product (non-HVL)  4500.920  \n",
       "4700  Refined and/or Petroleum Product (non-HVL)  4266.430  \n",
       "3483  Refined and/or Petroleum Product (non-HVL)  3926.400  \n",
       "4120  Refined and/or Petroleum Product (non-HVL)  2564.730  \n",
       "4020                                   Crude Oil  2312.330  \n",
       "67                                     Crude Oil  2290.000  \n",
       "3186  Refined and/or Petroleum Product (non-HVL)  2283.790  \n",
       "2693  Refined and/or Petroleum Product (non-HVL)  2281.900  "
      ]
     },
     "execution_count": 5,
     "metadata": {},
     "output_type": "execute_result"
    }
   ],
   "source": [
    "pipelines_2010.loc[pipelines_2010.groupby('OPERATOR_ID')['MILES'].idxmax()].nlargest(10, 'MILES')"
   ]
  },
  {
   "cell_type": "markdown",
   "metadata": {},
   "source": [
    "#### Largest accross all types"
   ]
  },
  {
   "cell_type": "code",
   "execution_count": 10,
   "metadata": {},
   "outputs": [
    {
     "data": {
      "text/plain": [
       "['CO2',\n",
       " 'Crude Oil',\n",
       " 'Fuel Grade Ethanol (dedicated system)',\n",
       " 'HVL',\n",
       " 'Refined and/or Petroleum Product (non-HVL)']"
      ]
     },
     "execution_count": 10,
     "metadata": {},
     "output_type": "execute_result"
    }
   ],
   "source": [
    "list(np.unique(pipelines_2010['COMMODITY']))"
   ]
  },
  {
   "cell_type": "markdown",
   "metadata": {},
   "source": [
    "Check whether any operator id has more than the maximum of five expected entries."
   ]
  },
  {
   "cell_type": "code",
   "execution_count": 12,
   "metadata": {},
   "outputs": [
    {
     "data": {
      "text/plain": [
       "1    3307\n",
       "2     565\n",
       "3     251\n",
       "4      26\n",
       "dtype: int64"
      ]
     },
     "execution_count": 12,
     "metadata": {},
     "output_type": "execute_result"
    }
   ],
   "source": [
    "pipelines_2010.groupby(['OPERATOR_ID', 'YEAR']).size().value_counts()"
   ]
  },
  {
   "cell_type": "markdown",
   "metadata": {},
   "source": [
    "Everything seems to be A-Okay."
   ]
  },
  {
   "cell_type": "code",
   "execution_count": 24,
   "metadata": {},
   "outputs": [
    {
     "data": {
      "text/plain": [
       "OPERATOR_ID  YEAR\n",
       "31618        2018    8325.499\n",
       "             2014    8295.756\n",
       "             2017    8279.868\n",
       "             2015    8168.529\n",
       "             2016    7965.266\n",
       "             2013    7640.587\n",
       "             2012    7138.500\n",
       "             2011    7122.537\n",
       "             2010    7065.831\n",
       "32109        2018    4756.610\n",
       "22610        2014    4505.500\n",
       "2552         2015    4500.920\n",
       "22610        2015    4493.250\n",
       "2552         2016    4481.990\n",
       "             2017    4481.850\n",
       "31684        2017    4474.100\n",
       "2552         2014    4458.600\n",
       "32109        2017    4455.440\n",
       "31684        2018    4425.670\n",
       "22610        2018    4404.520\n",
       "             2017    4403.660\n",
       "2552         2018    4398.430\n",
       "31684        2016    4370.970\n",
       "22610        2016    4370.520\n",
       "1845         2015    4298.290\n",
       "Name: MILES, dtype: float64"
      ]
     },
     "execution_count": 24,
     "metadata": {},
     "output_type": "execute_result"
    }
   ],
   "source": [
    "pipelines_2010.groupby(['OPERATOR_ID', 'YEAR'])['MILES'].sum().nlargest(25)"
   ]
  },
  {
   "cell_type": "code",
   "execution_count": 52,
   "metadata": {},
   "outputs": [],
   "source": [
    "largest = pipelines_2010.groupby(['OPERATOR_ID', 'YEAR'])['MILES'].sum().nlargest(25).index.get_level_values(0).unique().tolist()"
   ]
  },
  {
   "cell_type": "code",
   "execution_count": 53,
   "metadata": {},
   "outputs": [
    {
     "data": {
      "text/plain": [
       "[31618, 32109, 22610, 2552, 31684, 1845]"
      ]
     },
     "execution_count": 53,
     "metadata": {},
     "output_type": "execute_result"
    }
   ],
   "source": [
    "largest"
   ]
  },
  {
   "cell_type": "code",
   "execution_count": 58,
   "metadata": {},
   "outputs": [
    {
     "data": {
      "text/html": [
       "<div>\n",
       "<style scoped>\n",
       "    .dataframe tbody tr th:only-of-type {\n",
       "        vertical-align: middle;\n",
       "    }\n",
       "\n",
       "    .dataframe tbody tr th {\n",
       "        vertical-align: top;\n",
       "    }\n",
       "\n",
       "    .dataframe thead th {\n",
       "        text-align: right;\n",
       "    }\n",
       "</style>\n",
       "<table border=\"1\" class=\"dataframe\">\n",
       "  <thead>\n",
       "    <tr style=\"text-align: right;\">\n",
       "      <th></th>\n",
       "      <th>OPERATOR_ID</th>\n",
       "      <th>YEAR</th>\n",
       "      <th>NAME</th>\n",
       "      <th>COMMODITY</th>\n",
       "      <th>MILES</th>\n",
       "    </tr>\n",
       "  </thead>\n",
       "  <tbody>\n",
       "  </tbody>\n",
       "</table>\n",
       "</div>"
      ],
      "text/plain": [
       "Empty DataFrame\n",
       "Columns: [OPERATOR_ID, YEAR, NAME, COMMODITY, MILES]\n",
       "Index: []"
      ]
     },
     "execution_count": 58,
     "metadata": {},
     "output_type": "execute_result"
    }
   ],
   "source": [
    "pipelines_2010.loc[pipelines_2010['YEAR'] == 2018 & pipelines_2010['OPERATOR_ID'].isin(largest)]"
   ]
  },
  {
   "cell_type": "code",
   "execution_count": 61,
   "metadata": {},
   "outputs": [
    {
     "data": {
      "text/plain": [
       "False    5162\n",
       "True      132\n",
       "Name: OPERATOR_ID, dtype: int64"
      ]
     },
     "execution_count": 61,
     "metadata": {},
     "output_type": "execute_result"
    }
   ],
   "source": [
    "(pipelines_2010['OPERATOR_ID'].isin(largest)"
   ]
  }
 ],
 "metadata": {
  "kernelspec": {
   "display_name": "oil_industry",
   "language": "python",
   "name": "oil_industry"
  },
  "language_info": {
   "codemirror_mode": {
    "name": "ipython",
    "version": 3
   },
   "file_extension": ".py",
   "mimetype": "text/x-python",
   "name": "python",
   "nbconvert_exporter": "python",
   "pygments_lexer": "ipython3",
   "version": "3.6.8"
  }
 },
 "nbformat": 4,
 "nbformat_minor": 4
}
