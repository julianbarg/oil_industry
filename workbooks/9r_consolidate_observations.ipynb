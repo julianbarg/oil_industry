{
 "cells": [
  {
   "cell_type": "markdown",
   "metadata": {},
   "source": [
    "# 9. Consolidate observations"
   ]
  },
  {
   "cell_type": "markdown",
   "metadata": {},
   "source": [
    "## Setup"
   ]
  },
  {
   "cell_type": "code",
   "execution_count": 1,
   "metadata": {},
   "outputs": [
    {
     "name": "stderr",
     "output_type": "stream",
     "text": [
      "Registered S3 methods overwritten by 'ggplot2':\n",
      "  method         from \n",
      "  [.quosures     rlang\n",
      "  c.quosures     rlang\n",
      "  print.quosures rlang\n",
      "Registered S3 method overwritten by 'rvest':\n",
      "  method            from\n",
      "  read_xml.response xml2\n",
      "── \u001b[1mAttaching packages\u001b[22m ─────────────────────────────────────── tidyverse 1.2.1 ──\n",
      "\u001b[32m✔\u001b[39m \u001b[34mggplot2\u001b[39m 3.1.1       \u001b[32m✔\u001b[39m \u001b[34mpurrr  \u001b[39m 0.3.2  \n",
      "\u001b[32m✔\u001b[39m \u001b[34mtibble \u001b[39m 2.1.1       \u001b[32m✔\u001b[39m \u001b[34mdplyr  \u001b[39m 0.8.0.\u001b[31m1\u001b[39m\n",
      "\u001b[32m✔\u001b[39m \u001b[34mtidyr  \u001b[39m 0.8.3       \u001b[32m✔\u001b[39m \u001b[34mstringr\u001b[39m 1.4.0  \n",
      "\u001b[32m✔\u001b[39m \u001b[34mreadr  \u001b[39m 1.3.1       \u001b[32m✔\u001b[39m \u001b[34mforcats\u001b[39m 0.4.0  \n",
      "── \u001b[1mConflicts\u001b[22m ────────────────────────────────────────── tidyverse_conflicts() ──\n",
      "\u001b[31m✖\u001b[39m \u001b[34mdplyr\u001b[39m::\u001b[32mfilter()\u001b[39m masks \u001b[34mstats\u001b[39m::filter()\n",
      "\u001b[31m✖\u001b[39m \u001b[34mdplyr\u001b[39m::\u001b[32mlag()\u001b[39m    masks \u001b[34mstats\u001b[39m::lag()\n"
     ]
    }
   ],
   "source": [
    "library(tidyverse)"
   ]
  },
  {
   "cell_type": "code",
   "execution_count": 2,
   "metadata": {},
   "outputs": [],
   "source": [
    "sample_file <- '../preprocessed_data/sample_2019-08-24.feather'\n",
    "company_groups_file <- '../preprocessed_data/company_groups_2019-08-24.feather'\n",
    "m_as_file <- '../preprocessed_data/m_as_2019-08-24.feather'\n",
    "pipelines_2004_file <- \"../preprocessed_data/pipelines_2004_selected_2019-08-26.feather\""
   ]
  },
  {
   "cell_type": "markdown",
   "metadata": {},
   "source": [
    "## Read data"
   ]
  },
  {
   "cell_type": "code",
   "execution_count": 3,
   "metadata": {},
   "outputs": [
    {
     "name": "stderr",
     "output_type": "stream",
     "text": [
      "Warning message:\n",
      "“Coercing int64 to double”"
     ]
    },
    {
     "name": "stdout",
     "output_type": "stream",
     "text": [
      "Observations: 1,026\n",
      "Variables: 20\n",
      "$ OPERATOR_ID           \u001b[3m\u001b[38;5;246m<chr>\u001b[39m\u001b[23m \"300\", \"300\", \"300\", \"300\", \"300\", \"300\", \"300\"…\n",
      "$ YEAR                  \u001b[3m\u001b[38;5;246m<dbl>\u001b[39m\u001b[23m 2017, 2017, 2011, 2014, 2012, 2010, 2018, 2018,…\n",
      "$ NAME                  \u001b[3m\u001b[38;5;246m<chr>\u001b[39m\u001b[23m \"PLAINS PIPELINE, L.P.\", \"PLAINS PIPELINE, L.P.…\n",
      "$ COMMODITY             \u001b[3m\u001b[38;5;246m<chr>\u001b[39m\u001b[23m \"hvl\", \"non-hvl\", \"non-hvl\", \"non-hvl\", \"non-hv…\n",
      "$ MILES                 \u001b[3m\u001b[38;5;246m<dbl>\u001b[39m\u001b[23m 72.900, 0.000, 326.800, NA, 265.170, 62.280, 29…\n",
      "$ AGE_UNKNOWN_MILES     \u001b[3m\u001b[38;5;246m<dbl>\u001b[39m\u001b[23m 0.000, 0.000, 0.000, 0.000, 0.000, 0.000, 0.000…\n",
      "$ MILES_PRE_1940        \u001b[3m\u001b[38;5;246m<dbl>\u001b[39m\u001b[23m 0.00, 3.72, 0.00, 0.00, 0.00, 0.00, 0.00, 0.00,…\n",
      "$ MILES_1940            \u001b[3m\u001b[38;5;246m<dbl>\u001b[39m\u001b[23m 0.000, 0.000, 0.000, 0.000, 0.000, 0.000, 0.000…\n",
      "$ MILES_1950            \u001b[3m\u001b[38;5;246m<dbl>\u001b[39m\u001b[23m 0.000, 0.000, 0.800, 0.000, 0.800, 244.980, 0.0…\n",
      "$ MILES_1960            \u001b[3m\u001b[38;5;246m<dbl>\u001b[39m\u001b[23m 0.000, 0.000, 188.430, 0.000, 188.430, 4.760, 0…\n",
      "$ MILES_1970            \u001b[3m\u001b[38;5;246m<dbl>\u001b[39m\u001b[23m 0.000, 0.000, 1.170, 0.000, 1.170, 0.000, 0.000…\n",
      "$ MILES_1980            \u001b[3m\u001b[38;5;246m<dbl>\u001b[39m\u001b[23m 0.000, 0.000, 4.430, 0.000, 4.430, 0.000, 0.000…\n",
      "$ MILES_1990            \u001b[3m\u001b[38;5;246m<dbl>\u001b[39m\u001b[23m 0.010, 0.000, 2.850, 0.000, 2.850, 2.860, 0.010…\n",
      "$ MILES_2000            \u001b[3m\u001b[38;5;246m<dbl>\u001b[39m\u001b[23m 0.000, 0.000, 0.350, 0.000, 0.350, 4.050, 0.000…\n",
      "$ MILES_2010            \u001b[3m\u001b[38;5;246m<dbl>\u001b[39m\u001b[23m 47.920, 0.000, 0.000, 0.000, 0.000, 0.000, 47.9…\n",
      "$ PERC_OFFSHORE         \u001b[3m\u001b[38;5;246m<dbl>\u001b[39m\u001b[23m 0, 0, 0, 0, 0, 0, 0, 0, 0, 0, 0, 0, 0, 0, 0, 0,…\n",
      "$ AVG_AGE               \u001b[3m\u001b[38;5;246m<dbl>\u001b[39m\u001b[23m 5.004173, 90.000000, 54.031460, NA, 54.031460, …\n",
      "$ PARENT                \u001b[3m\u001b[38;5;246m<chr>\u001b[39m\u001b[23m \"Plains GP Holding\", \"Plains GP Holding\", \"Plai…\n",
      "$ INCIDENTS             \u001b[3m\u001b[38;5;246m<dbl>\u001b[39m\u001b[23m 0, 0, 0, 0, 1, 0, 0, 0, 0, 1, 0, 0, 0, 0, 0, 0,…\n",
      "$ SIGNIFICANT_INCIDENTS \u001b[3m\u001b[38;5;246m<dbl>\u001b[39m\u001b[23m 0, 0, 0, 0, 1, 0, 0, 0, 0, 0, 0, 0, 0, 0, 0, 0,…\n"
     ]
    }
   ],
   "source": [
    "sample <- feather::read_feather(sample_file)\n",
    "testit::assert(nrow(sample[duplicated(select(sample, YEAR, COMMODITY, OPERATOR_ID)), ]) == 0)\n",
    "glimpse(sample)"
   ]
  },
  {
   "cell_type": "code",
   "execution_count": 4,
   "metadata": {},
   "outputs": [
    {
     "name": "stdout",
     "output_type": "stream",
     "text": [
      "Observations: 39\n",
      "Variables: 2\n",
      "$ members \u001b[3m\u001b[38;5;246m<chr>\u001b[39m\u001b[23m \"31618\", \"30829\", \"3445\", \"22610\", \"12105\", \"39504\", \"15485\",…\n",
      "$ name    \u001b[3m\u001b[38;5;246m<chr>\u001b[39m\u001b[23m \"Enterprise Products (Group)\", \"Enterprise Products (Group)\",…\n"
     ]
    }
   ],
   "source": [
    "company_groups <- feather::read_feather(company_groups_file)\n",
    "glimpse(company_groups)"
   ]
  },
  {
   "cell_type": "code",
   "execution_count": 5,
   "metadata": {},
   "outputs": [
    {
     "name": "stdout",
     "output_type": "stream",
     "text": [
      "Observations: 8\n",
      "Variables: 4\n",
      "$ members    \u001b[3m\u001b[38;5;246m<chr>\u001b[39m\u001b[23m \"Sunoco (Group)\", \"Energy Transfer (Group)\", \"Kinder Morga…\n",
      "$ name       \u001b[3m\u001b[38;5;246m<chr>\u001b[39m\u001b[23m \"Sunoco (Group)\", \"Sunoco (Group)\", \"Kinder Morgan (Group)…\n",
      "$ start_year \u001b[3m\u001b[38;5;246m<chr>\u001b[39m\u001b[23m \"2017\", \"2017\", NA, NA, \"2017\", \"2017\", \"2018\", \"2018\"\n",
      "$ end_year   \u001b[3m\u001b[38;5;246m<chr>\u001b[39m\u001b[23m NA, NA, \"2013\", \"2013\", NA, NA, NA, NA\n"
     ]
    }
   ],
   "source": [
    "m_as_orig <- feather::read_feather(m_as_file)\n",
    "glimpse(m_as_orig)"
   ]
  },
  {
   "cell_type": "code",
   "execution_count": 6,
   "metadata": {},
   "outputs": [
    {
     "name": "stderr",
     "output_type": "stream",
     "text": [
      "Warning message:\n",
      "“Coercing int64 to double”"
     ]
    },
    {
     "name": "stdout",
     "output_type": "stream",
     "text": [
      "Observations: 2,730\n",
      "Variables: 16\n",
      "$ OPERATOR_ID    \u001b[3m\u001b[38;5;246m<chr>\u001b[39m\u001b[23m \"31336\", \"4805\", \"8175\", \"26302\", \"32147\", \"4906\", \"19…\n",
      "$ YEAR           \u001b[3m\u001b[38;5;246m<dbl>\u001b[39m\u001b[23m 2008, 2008, 2008, 2008, 2008, 2008, 2008, 2008, 2008, …\n",
      "$ NAME           \u001b[3m\u001b[38;5;246m<chr>\u001b[39m\u001b[23m \"CHEVRON U.S.A. INC\", \"EXPLORER PIPELINE CO\", \"INTERST…\n",
      "$ COMMODITY      \u001b[3m\u001b[38;5;246m<chr>\u001b[39m\u001b[23m \"CRUDE OIL\", \"PETROLEUM & REFINED PRODUCTS\", \"PETROLEU…\n",
      "$ MILES          \u001b[3m\u001b[38;5;246m<dbl>\u001b[39m\u001b[23m 6.000, 1204.110, 8.000, 13.000, 1629.158, 373.000, 40.…\n",
      "$ MILES_PRE_1940 \u001b[3m\u001b[38;5;246m<dbl>\u001b[39m\u001b[23m 0.000, 0.000, 0.000, 0.000, 26.841, 1.000, 0.000, 0.00…\n",
      "$ MILES_1940     \u001b[3m\u001b[38;5;246m<dbl>\u001b[39m\u001b[23m 0.000, 0.000, 0.000, 0.000, 119.533, 101.000, 0.000, 0…\n",
      "$ MILES_1950     \u001b[3m\u001b[38;5;246m<dbl>\u001b[39m\u001b[23m 0.000, 7.200, 0.000, 0.000, 585.263, 126.000, 0.000, 0…\n",
      "$ MILES_1960     \u001b[3m\u001b[38;5;246m<dbl>\u001b[39m\u001b[23m 10.647, 7.800, 11.600, 0.000, 107.873, 342.000, 0.000,…\n",
      "$ MILES_1970     \u001b[3m\u001b[38;5;246m<dbl>\u001b[39m\u001b[23m 0.000, 593.200, 0.000, 0.000, 243.374, 43.000, 0.000, …\n",
      "$ MILES_1980     \u001b[3m\u001b[38;5;246m<dbl>\u001b[39m\u001b[23m 0.000, 18.300, 0.000, 89.000, 91.639, 45.000, 0.000, 0…\n",
      "$ MILES_1990     \u001b[3m\u001b[38;5;246m<dbl>\u001b[39m\u001b[23m 0.000, 20.800, 0.000, 0.000, 110.908, 42.000, 0.000, 0…\n",
      "$ MILES_2000     \u001b[3m\u001b[38;5;246m<dbl>\u001b[39m\u001b[23m 0.000, 0.900, 0.000, 0.000, 238.848, 9.000, 0.000, 34.…\n",
      "$ MILES_2010     \u001b[3m\u001b[38;5;246m<dbl>\u001b[39m\u001b[23m 0, 0, 0, 0, 0, 0, 0, 0, 0, 0, 0, 0, 0, 0, 0, 0, 0, 0, …\n",
      "$ AVG_AGE        \u001b[3m\u001b[38;5;246m<dbl>\u001b[39m\u001b[23m 55.00000, 44.37674, 55.00000, 35.00000, 49.77461, 55.5…\n",
      "$ PERC_OFFSHORE  \u001b[3m\u001b[38;5;246m<dbl>\u001b[39m\u001b[23m 0.74064626, 0.00000000, 0.00000000, 0.00000000, 0.0000…\n"
     ]
    }
   ],
   "source": [
    "pipelines_2004 <- feather::read_feather(pipelines_2004_file)\n",
    "glimpse(pipelines_2004)"
   ]
  },
  {
   "cell_type": "markdown",
   "metadata": {},
   "source": [
    "## 9.1 Add two years of data for crude"
   ]
  },
  {
   "cell_type": "markdown",
   "metadata": {},
   "source": [
    "Adding the data for crude the years 2008/2009 offers us a relatively easy way to expand our sample. We cannot go any further, as definition of incidents was change, 2008/2009 can still be used to calculate the three years average that we use to calculate the impact of change on the incidents rates for the observation 2010-2012."
   ]
  },
  {
   "cell_type": "code",
   "execution_count": 7,
   "metadata": {},
   "outputs": [
    {
     "name": "stdout",
     "output_type": "stream",
     "text": [
      "Observations: 301\n",
      "Variables: 16\n",
      "$ OPERATOR_ID    \u001b[3m\u001b[38;5;246m<chr>\u001b[39m\u001b[23m \"31336\", \"19585\", \"31552\", \"11733\", \"31937\", \"18667\", …\n",
      "$ YEAR           \u001b[3m\u001b[38;5;246m<dbl>\u001b[39m\u001b[23m 2008, 2008, 2008, 2008, 2008, 2008, 2008, 2008, 2008, …\n",
      "$ NAME           \u001b[3m\u001b[38;5;246m<chr>\u001b[39m\u001b[23m \"CHEVRON U.S.A. INC\", \"KINDER MORGAN CANADA INC.\", \"AL…\n",
      "$ COMMODITY      \u001b[3m\u001b[38;5;246m<chr>\u001b[39m\u001b[23m \"crude\", \"crude\", \"crude\", \"crude\", \"crude\", \"crude\", …\n",
      "$ MILES          \u001b[3m\u001b[38;5;246m<dbl>\u001b[39m\u001b[23m 6.000, 40.000, 34.630, 35.250, 2.000, 37.150, 4.600, 4…\n",
      "$ MILES_PRE_1940 \u001b[3m\u001b[38;5;246m<dbl>\u001b[39m\u001b[23m 0.000, 0.000, 0.000, 0.000, 0.000, 4.340, 0.000, 0.000…\n",
      "$ MILES_1940     \u001b[3m\u001b[38;5;246m<dbl>\u001b[39m\u001b[23m 0.000, 0.000, 0.000, 0.000, 0.000, 0.000, 0.000, 0.000…\n",
      "$ MILES_1950     \u001b[3m\u001b[38;5;246m<dbl>\u001b[39m\u001b[23m 0.000, 0.000, 0.000, 0.000, 0.000, 0.000, 0.000, 0.000…\n",
      "$ MILES_1960     \u001b[3m\u001b[38;5;246m<dbl>\u001b[39m\u001b[23m 10.647, 0.000, 0.000, 0.000, 0.000, 0.000, 0.000, 0.00…\n",
      "$ MILES_1970     \u001b[3m\u001b[38;5;246m<dbl>\u001b[39m\u001b[23m 0.000, 0.000, 0.000, 0.000, 0.000, 0.000, 4.600, 0.000…\n",
      "$ MILES_1980     \u001b[3m\u001b[38;5;246m<dbl>\u001b[39m\u001b[23m 0.000, 0.000, 0.000, 0.000, 0.000, 22.070, 0.000, 28.0…\n",
      "$ MILES_1990     \u001b[3m\u001b[38;5;246m<dbl>\u001b[39m\u001b[23m 0.000, 0.000, 0.000, 0.000, 0.000, 0.000, 0.000, 65.00…\n",
      "$ MILES_2000     \u001b[3m\u001b[38;5;246m<dbl>\u001b[39m\u001b[23m 0.00, 0.00, 34.63, 0.00, 0.00, 3.57, 0.00, 23.00, 25.6…\n",
      "$ MILES_2010     \u001b[3m\u001b[38;5;246m<dbl>\u001b[39m\u001b[23m 0, 0, 0, 0, 0, 0, 0, 0, 0, 0, 0, 0, 0, 0, 0, 0, 0, 0, …\n",
      "$ AVG_AGE        \u001b[3m\u001b[38;5;246m<dbl>\u001b[39m\u001b[23m 55.00000, NA, 15.00000, NA, NA, 40.58039, 45.00000, 25…\n",
      "$ PERC_OFFSHORE  \u001b[3m\u001b[38;5;246m<dbl>\u001b[39m\u001b[23m 0.74064626, 0.00000000, 0.00000000, 0.07822686, 0.0000…\n"
     ]
    }
   ],
   "source": [
    "crude_2008 <- subset(pipelines_2004, YEAR >= 2008 & COMMODITY == \"CRUDE OIL\")\n",
    "crude_2008$COMMODITY <- \"crude\"\n",
    "glimpse(crude_2008)"
   ]
  },
  {
   "cell_type": "code",
   "execution_count": 8,
   "metadata": {},
   "outputs": [
    {
     "data": {
      "text/plain": [
       "\n",
       "   0 0.02 0.03 0.05 0.06 0.12 0.22 0.28 \n",
       "  62    1    2    2    2    1    1    1 "
      ]
     },
     "metadata": {},
     "output_type": "display_data"
    }
   ],
   "source": [
    "crude_2008 %>%\n",
    "    filter(OPERATOR_ID %in% sample$OPERATOR_ID) %>%\n",
    "    mutate(PERC_OFFSHORE = round(PERC_OFFSHORE, 2)) %>%\n",
    "    {table(.$PERC_OFFSHORE)}"
   ]
  },
  {
   "cell_type": "code",
   "execution_count": 9,
   "metadata": {},
   "outputs": [
    {
     "data": {
      "text/html": [
       "<table>\n",
       "<caption>A tibble: 10 × 7</caption>\n",
       "<thead>\n",
       "\t<tr><th scope=col>OPERATOR_ID</th><th scope=col>YEAR</th><th scope=col>NAME</th><th scope=col>COMMODITY</th><th scope=col>MILES</th><th scope=col>AVG_AGE</th><th scope=col>PERC_OFFSHORE</th></tr>\n",
       "\t<tr><th scope=col>&lt;chr&gt;</th><th scope=col>&lt;dbl&gt;</th><th scope=col>&lt;chr&gt;</th><th scope=col>&lt;chr&gt;</th><th scope=col>&lt;dbl&gt;</th><th scope=col>&lt;dbl&gt;</th><th scope=col>&lt;dbl&gt;</th></tr>\n",
       "</thead>\n",
       "<tbody>\n",
       "\t<tr><td>300  </td><td>2008</td><td>PLAINS PIPELINE, L.P.            </td><td>crude</td><td> 997.300</td><td>58.39192</td><td>0.05352059</td></tr>\n",
       "\t<tr><td>4906 </td><td>2008</td><td>EXXONMOBIL PIPELINE CO           </td><td>crude</td><td> 918.000</td><td>52.06991</td><td>0.06134342</td></tr>\n",
       "\t<tr><td>31174</td><td>2008</td><td>SHELL PIPELINE CO., L.P.         </td><td>crude</td><td>1269.000</td><td>41.59168</td><td>0.02981423</td></tr>\n",
       "\t<tr><td>2731 </td><td>2008</td><td>CHEVRON PIPE LINE CO             </td><td>crude</td><td> 397.200</td><td>70.20813</td><td>0.21517887</td></tr>\n",
       "\t<tr><td>31174</td><td>2009</td><td>SHELL PIPELINE CO., L.P.         </td><td>crude</td><td>1264.000</td><td>41.59168</td><td>0.02843748</td></tr>\n",
       "\t<tr><td>2731 </td><td>2009</td><td>CHEVRON PIPE LINE CO             </td><td>crude</td><td> 287.920</td><td>73.63542</td><td>0.11625909</td></tr>\n",
       "\t<tr><td>4906 </td><td>2009</td><td>EXXONMOBIL PIPELINE CO           </td><td>crude</td><td> 900.000</td><td>50.03819</td><td>0.06249349</td></tr>\n",
       "\t<tr><td>31189</td><td>2009</td><td>BP PIPELINE (NORTH AMERICA) INC. </td><td>crude</td><td> 476.000</td><td>60.18519</td><td>0.01652551</td></tr>\n",
       "\t<tr><td>31618</td><td>2009</td><td>ENTERPRISE PRODUCTS OPERATING LLC</td><td>crude</td><td>  60.142</td><td>17.59743</td><td>0.28236345</td></tr>\n",
       "\t<tr><td>300  </td><td>2009</td><td>PLAINS PIPELINE, L.P.            </td><td>crude</td><td> 997.300</td><td>58.35746</td><td>0.05352059</td></tr>\n",
       "</tbody>\n",
       "</table>\n"
      ],
      "text/latex": [
       "A tibble: 10 × 7\n",
       "\\begin{tabular}{r|lllllll}\n",
       " OPERATOR\\_ID & YEAR & NAME & COMMODITY & MILES & AVG\\_AGE & PERC\\_OFFSHORE\\\\\n",
       " <chr> & <dbl> & <chr> & <chr> & <dbl> & <dbl> & <dbl>\\\\\n",
       "\\hline\n",
       "\t 300   & 2008 & PLAINS PIPELINE, L.P.             & crude &  997.300 & 58.39192 & 0.05352059\\\\\n",
       "\t 4906  & 2008 & EXXONMOBIL PIPELINE CO            & crude &  918.000 & 52.06991 & 0.06134342\\\\\n",
       "\t 31174 & 2008 & SHELL PIPELINE CO., L.P.          & crude & 1269.000 & 41.59168 & 0.02981423\\\\\n",
       "\t 2731  & 2008 & CHEVRON PIPE LINE CO              & crude &  397.200 & 70.20813 & 0.21517887\\\\\n",
       "\t 31174 & 2009 & SHELL PIPELINE CO., L.P.          & crude & 1264.000 & 41.59168 & 0.02843748\\\\\n",
       "\t 2731  & 2009 & CHEVRON PIPE LINE CO              & crude &  287.920 & 73.63542 & 0.11625909\\\\\n",
       "\t 4906  & 2009 & EXXONMOBIL PIPELINE CO            & crude &  900.000 & 50.03819 & 0.06249349\\\\\n",
       "\t 31189 & 2009 & BP PIPELINE (NORTH AMERICA) INC.  & crude &  476.000 & 60.18519 & 0.01652551\\\\\n",
       "\t 31618 & 2009 & ENTERPRISE PRODUCTS OPERATING LLC & crude &   60.142 & 17.59743 & 0.28236345\\\\\n",
       "\t 300   & 2009 & PLAINS PIPELINE, L.P.             & crude &  997.300 & 58.35746 & 0.05352059\\\\\n",
       "\\end{tabular}\n"
      ],
      "text/markdown": [
       "\n",
       "A tibble: 10 × 7\n",
       "\n",
       "| OPERATOR_ID &lt;chr&gt; | YEAR &lt;dbl&gt; | NAME &lt;chr&gt; | COMMODITY &lt;chr&gt; | MILES &lt;dbl&gt; | AVG_AGE &lt;dbl&gt; | PERC_OFFSHORE &lt;dbl&gt; |\n",
       "|---|---|---|---|---|---|---|\n",
       "| 300   | 2008 | PLAINS PIPELINE, L.P.             | crude |  997.300 | 58.39192 | 0.05352059 |\n",
       "| 4906  | 2008 | EXXONMOBIL PIPELINE CO            | crude |  918.000 | 52.06991 | 0.06134342 |\n",
       "| 31174 | 2008 | SHELL PIPELINE CO., L.P.          | crude | 1269.000 | 41.59168 | 0.02981423 |\n",
       "| 2731  | 2008 | CHEVRON PIPE LINE CO              | crude |  397.200 | 70.20813 | 0.21517887 |\n",
       "| 31174 | 2009 | SHELL PIPELINE CO., L.P.          | crude | 1264.000 | 41.59168 | 0.02843748 |\n",
       "| 2731  | 2009 | CHEVRON PIPE LINE CO              | crude |  287.920 | 73.63542 | 0.11625909 |\n",
       "| 4906  | 2009 | EXXONMOBIL PIPELINE CO            | crude |  900.000 | 50.03819 | 0.06249349 |\n",
       "| 31189 | 2009 | BP PIPELINE (NORTH AMERICA) INC.  | crude |  476.000 | 60.18519 | 0.01652551 |\n",
       "| 31618 | 2009 | ENTERPRISE PRODUCTS OPERATING LLC | crude |   60.142 | 17.59743 | 0.28236345 |\n",
       "| 300   | 2009 | PLAINS PIPELINE, L.P.             | crude |  997.300 | 58.35746 | 0.05352059 |\n",
       "\n"
      ],
      "text/plain": [
       "   OPERATOR_ID YEAR NAME                              COMMODITY MILES   \n",
       "1  300         2008 PLAINS PIPELINE, L.P.             crude      997.300\n",
       "2  4906        2008 EXXONMOBIL PIPELINE CO            crude      918.000\n",
       "3  31174       2008 SHELL PIPELINE CO., L.P.          crude     1269.000\n",
       "4  2731        2008 CHEVRON PIPE LINE CO              crude      397.200\n",
       "5  31174       2009 SHELL PIPELINE CO., L.P.          crude     1264.000\n",
       "6  2731        2009 CHEVRON PIPE LINE CO              crude      287.920\n",
       "7  4906        2009 EXXONMOBIL PIPELINE CO            crude      900.000\n",
       "8  31189       2009 BP PIPELINE (NORTH AMERICA) INC.  crude      476.000\n",
       "9  31618       2009 ENTERPRISE PRODUCTS OPERATING LLC crude       60.142\n",
       "10 300         2009 PLAINS PIPELINE, L.P.             crude      997.300\n",
       "   AVG_AGE  PERC_OFFSHORE\n",
       "1  58.39192 0.05352059   \n",
       "2  52.06991 0.06134342   \n",
       "3  41.59168 0.02981423   \n",
       "4  70.20813 0.21517887   \n",
       "5  41.59168 0.02843748   \n",
       "6  73.63542 0.11625909   \n",
       "7  50.03819 0.06249349   \n",
       "8  60.18519 0.01652551   \n",
       "9  17.59743 0.28236345   \n",
       "10 58.35746 0.05352059   "
      ]
     },
     "metadata": {},
     "output_type": "display_data"
    }
   ],
   "source": [
    "crude_2008 %>%\n",
    "    filter(OPERATOR_ID %in% sample$OPERATOR_ID) %>%\n",
    "    filter(PERC_OFFSHORE >= 0.01) %>%\n",
    "    select(OPERATOR_ID, YEAR, NAME, COMMODITY, MILES, AVG_AGE, PERC_OFFSHORE)"
   ]
  },
  {
   "cell_type": "code",
   "execution_count": 10,
   "metadata": {},
   "outputs": [
    {
     "data": {
      "text/html": [
       "<table>\n",
       "<caption>A tibble: 10 × 1</caption>\n",
       "<thead>\n",
       "\t<tr><th scope=col>OPERATOR_ID</th></tr>\n",
       "\t<tr><th scope=col>&lt;chr&gt;</th></tr>\n",
       "</thead>\n",
       "<tbody>\n",
       "\t<tr><td>300  </td></tr>\n",
       "\t<tr><td>4906 </td></tr>\n",
       "\t<tr><td>31174</td></tr>\n",
       "\t<tr><td>2731 </td></tr>\n",
       "\t<tr><td>31174</td></tr>\n",
       "\t<tr><td>2731 </td></tr>\n",
       "\t<tr><td>4906 </td></tr>\n",
       "\t<tr><td>31189</td></tr>\n",
       "\t<tr><td>31618</td></tr>\n",
       "\t<tr><td>300  </td></tr>\n",
       "</tbody>\n",
       "</table>\n"
      ],
      "text/latex": [
       "A tibble: 10 × 1\n",
       "\\begin{tabular}{r|l}\n",
       " OPERATOR\\_ID\\\\\n",
       " <chr>\\\\\n",
       "\\hline\n",
       "\t 300  \\\\\n",
       "\t 4906 \\\\\n",
       "\t 31174\\\\\n",
       "\t 2731 \\\\\n",
       "\t 31174\\\\\n",
       "\t 2731 \\\\\n",
       "\t 4906 \\\\\n",
       "\t 31189\\\\\n",
       "\t 31618\\\\\n",
       "\t 300  \\\\\n",
       "\\end{tabular}\n"
      ],
      "text/markdown": [
       "\n",
       "A tibble: 10 × 1\n",
       "\n",
       "| OPERATOR_ID &lt;chr&gt; |\n",
       "|---|\n",
       "| 300   |\n",
       "| 4906  |\n",
       "| 31174 |\n",
       "| 2731  |\n",
       "| 31174 |\n",
       "| 2731  |\n",
       "| 4906  |\n",
       "| 31189 |\n",
       "| 31618 |\n",
       "| 300   |\n",
       "\n"
      ],
      "text/plain": [
       "   OPERATOR_ID\n",
       "1  300        \n",
       "2  4906       \n",
       "3  31174      \n",
       "4  2731       \n",
       "5  31174      \n",
       "6  2731       \n",
       "7  4906       \n",
       "8  31189      \n",
       "9  31618      \n",
       "10 300        "
      ]
     },
     "metadata": {},
     "output_type": "display_data"
    }
   ],
   "source": [
    "operators_w_offshore <- crude_2008 %>%\n",
    "    filter(OPERATOR_ID %in% sample$OPERATOR_ID) %>%\n",
    "    filter(PERC_OFFSHORE >= 0.01) %>%\n",
    "    select(OPERATOR_ID)\n",
    "operators_w_offshore"
   ]
  },
  {
   "cell_type": "code",
   "execution_count": 11,
   "metadata": {},
   "outputs": [
    {
     "data": {
      "text/html": [
       "<table>\n",
       "<caption>A tibble: 0 × 20</caption>\n",
       "<thead>\n",
       "\t<tr><th scope=col>OPERATOR_ID</th><th scope=col>YEAR</th><th scope=col>NAME</th><th scope=col>COMMODITY</th><th scope=col>MILES</th><th scope=col>AGE_UNKNOWN_MILES</th><th scope=col>MILES_PRE_1940</th><th scope=col>MILES_1940</th><th scope=col>MILES_1950</th><th scope=col>MILES_1960</th><th scope=col>MILES_1970</th><th scope=col>MILES_1980</th><th scope=col>MILES_1990</th><th scope=col>MILES_2000</th><th scope=col>MILES_2010</th><th scope=col>PERC_OFFSHORE</th><th scope=col>AVG_AGE</th><th scope=col>PARENT</th><th scope=col>INCIDENTS</th><th scope=col>SIGNIFICANT_INCIDENTS</th></tr>\n",
       "\t<tr><th scope=col>&lt;chr&gt;</th><th scope=col>&lt;dbl&gt;</th><th scope=col>&lt;chr&gt;</th><th scope=col>&lt;chr&gt;</th><th scope=col>&lt;dbl&gt;</th><th scope=col>&lt;dbl&gt;</th><th scope=col>&lt;dbl&gt;</th><th scope=col>&lt;dbl&gt;</th><th scope=col>&lt;dbl&gt;</th><th scope=col>&lt;dbl&gt;</th><th scope=col>&lt;dbl&gt;</th><th scope=col>&lt;dbl&gt;</th><th scope=col>&lt;dbl&gt;</th><th scope=col>&lt;dbl&gt;</th><th scope=col>&lt;dbl&gt;</th><th scope=col>&lt;dbl&gt;</th><th scope=col>&lt;dbl&gt;</th><th scope=col>&lt;chr&gt;</th><th scope=col>&lt;dbl&gt;</th><th scope=col>&lt;dbl&gt;</th></tr>\n",
       "</thead>\n",
       "<tbody>\n",
       "</tbody>\n",
       "</table>\n"
      ],
      "text/latex": [
       "A tibble: 0 × 20\n",
       "\\begin{tabular}{r|llllllllllllllllllll}\n",
       " OPERATOR\\_ID & YEAR & NAME & COMMODITY & MILES & AGE\\_UNKNOWN\\_MILES & MILES\\_PRE\\_1940 & MILES\\_1940 & MILES\\_1950 & MILES\\_1960 & MILES\\_1970 & MILES\\_1980 & MILES\\_1990 & MILES\\_2000 & MILES\\_2010 & PERC\\_OFFSHORE & AVG\\_AGE & PARENT & INCIDENTS & SIGNIFICANT\\_INCIDENTS\\\\\n",
       " <chr> & <dbl> & <chr> & <chr> & <dbl> & <dbl> & <dbl> & <dbl> & <dbl> & <dbl> & <dbl> & <dbl> & <dbl> & <dbl> & <dbl> & <dbl> & <dbl> & <chr> & <dbl> & <dbl>\\\\\n",
       "\\hline\n",
       "\\end{tabular}\n"
      ],
      "text/markdown": [
       "\n",
       "A tibble: 0 × 20\n",
       "\n",
       "| OPERATOR_ID &lt;chr&gt; | YEAR &lt;dbl&gt; | NAME &lt;chr&gt; | COMMODITY &lt;chr&gt; | MILES &lt;dbl&gt; | AGE_UNKNOWN_MILES &lt;dbl&gt; | MILES_PRE_1940 &lt;dbl&gt; | MILES_1940 &lt;dbl&gt; | MILES_1950 &lt;dbl&gt; | MILES_1960 &lt;dbl&gt; | MILES_1970 &lt;dbl&gt; | MILES_1980 &lt;dbl&gt; | MILES_1990 &lt;dbl&gt; | MILES_2000 &lt;dbl&gt; | MILES_2010 &lt;dbl&gt; | PERC_OFFSHORE &lt;dbl&gt; | AVG_AGE &lt;dbl&gt; | PARENT &lt;chr&gt; | INCIDENTS &lt;dbl&gt; | SIGNIFICANT_INCIDENTS &lt;dbl&gt; |\n",
       "|---|---|---|---|---|---|---|---|---|---|---|---|---|---|---|---|---|---|---|---|\n",
       "\n"
      ],
      "text/plain": [
       "     OPERATOR_ID YEAR NAME COMMODITY MILES AGE_UNKNOWN_MILES MILES_PRE_1940\n",
       "     MILES_1940 MILES_1950 MILES_1960 MILES_1970 MILES_1980 MILES_1990\n",
       "     MILES_2000 MILES_2010 PERC_OFFSHORE AVG_AGE PARENT INCIDENTS\n",
       "     SIGNIFICANT_INCIDENTS"
      ]
     },
     "metadata": {},
     "output_type": "display_data"
    }
   ],
   "source": [
    "subset(sample, OPERATOR_ID %in% operators_w_offshore & COMMODITY == 'crude')"
   ]
  },
  {
   "cell_type": "markdown",
   "metadata": {},
   "source": [
    "All the operators seem to have either sold off their crude segment, or the new regulations have changed something about reporting."
   ]
  },
  {
   "cell_type": "markdown",
   "metadata": {},
   "source": [
    "### 9.1.1 Consolidate observations"
   ]
  },
  {
   "cell_type": "markdown",
   "metadata": {},
   "source": [
    "Before 2010, business units were sometimes reported separately, within the same OPERATOR ID. We consolidate those at the OPERATOR ID level."
   ]
  },
  {
   "cell_type": "code",
   "execution_count": 12,
   "metadata": {},
   "outputs": [],
   "source": [
    "crude_2008 <- crude_2008 %>%\n",
    "    group_by(OPERATOR_ID, YEAR) %>%\n",
    "    summarize(NAME = first(NAME),\n",
    "              COMMODITY = first(COMMODITY),\n",
    "              MILES = sum(MILES), \n",
    "              MILES_PRE_1940 = sum(MILES_PRE_1940), \n",
    "              MILES_1940 = sum(MILES_1940), \n",
    "              MILES_1950 = sum(MILES_1950), \n",
    "              MILES_1960 = sum(MILES_1960), \n",
    "              MILES_1970 = sum(MILES_1970), \n",
    "              MILES_1980 = sum(MILES_1980), \n",
    "              MILES_1990 = sum(MILES_1990), \n",
    "              MILES_2000 = sum(MILES_2000), \n",
    "              MILES_2010 = sum(MILES_2010)) %>%\n",
    "    ungroup()"
   ]
  },
  {
   "cell_type": "code",
   "execution_count": 13,
   "metadata": {},
   "outputs": [],
   "source": [
    "crude_2008$AVG_AGE = (crude_2008$MILES_PRE_1940 * 90 +\n",
    "                      crude_2008$MILES_1940 * 75 +\n",
    "                      crude_2008$MILES_1950 * 65 +\n",
    "                      crude_2008$MILES_1960 * 55 +\n",
    "                      crude_2008$MILES_1970 * 45 +\n",
    "                      crude_2008$MILES_1980 * 35 +\n",
    "                      crude_2008$MILES_1990 * 25 +\n",
    "                      crude_2008$MILES_2000 * 15 +\n",
    "                      crude_2008$MILES_2010 * 5) / \n",
    "                     (crude_2008$MILES_PRE_1940 + crude_2008$MILES_1940 + crude_2008$MILES_1950 + crude_2008$MILES_1960 + \n",
    "                      crude_2008$MILES_1970 + crude_2008$MILES_1980 + crude_2008$MILES_1990 + crude_2008$MILES_2000 + \n",
    "                      crude_2008$MILES_2010)"
   ]
  },
  {
   "cell_type": "markdown",
   "metadata": {},
   "source": [
    "### 9.1.2 Merge"
   ]
  },
  {
   "cell_type": "code",
   "execution_count": 14,
   "metadata": {},
   "outputs": [
    {
     "data": {
      "text/html": [
       "<ol class=list-inline>\n",
       "\t<li>'AGE_UNKNOWN_MILES'</li>\n",
       "\t<li>'PERC_OFFSHORE'</li>\n",
       "\t<li>'PARENT'</li>\n",
       "\t<li>'INCIDENTS'</li>\n",
       "\t<li>'SIGNIFICANT_INCIDENTS'</li>\n",
       "</ol>\n"
      ],
      "text/latex": [
       "\\begin{enumerate*}\n",
       "\\item 'AGE\\_UNKNOWN\\_MILES'\n",
       "\\item 'PERC\\_OFFSHORE'\n",
       "\\item 'PARENT'\n",
       "\\item 'INCIDENTS'\n",
       "\\item 'SIGNIFICANT\\_INCIDENTS'\n",
       "\\end{enumerate*}\n"
      ],
      "text/markdown": [
       "1. 'AGE_UNKNOWN_MILES'\n",
       "2. 'PERC_OFFSHORE'\n",
       "3. 'PARENT'\n",
       "4. 'INCIDENTS'\n",
       "5. 'SIGNIFICANT_INCIDENTS'\n",
       "\n",
       "\n"
      ],
      "text/plain": [
       "[1] \"AGE_UNKNOWN_MILES\"     \"PERC_OFFSHORE\"         \"PARENT\"               \n",
       "[4] \"INCIDENTS\"             \"SIGNIFICANT_INCIDENTS\""
      ]
     },
     "metadata": {},
     "output_type": "display_data"
    }
   ],
   "source": [
    "colnames(sample) [!(colnames(sample) %in% colnames(crude_2008))]"
   ]
  },
  {
   "cell_type": "code",
   "execution_count": 15,
   "metadata": {},
   "outputs": [],
   "source": [
    "crude_2008$AGE_UNKNOWN_MILES <- NA\n",
    "crude_2008$PERC_OFFSHORE <- NA\n",
    "crude_2008$PARENT <- NA\n",
    "crude_2008$INCIDENTS <- NA\n",
    "crude_2008$SIGNIFICANT_INCIDENTS <- NA"
   ]
  },
  {
   "cell_type": "code",
   "execution_count": 16,
   "metadata": {},
   "outputs": [],
   "source": [
    "sample <- rbind(sample, crude_2008)"
   ]
  },
  {
   "cell_type": "markdown",
   "metadata": {},
   "source": [
    "## 9.2 Calculate change"
   ]
  },
  {
   "cell_type": "code",
   "execution_count": 17,
   "metadata": {},
   "outputs": [
    {
     "name": "stdout",
     "output_type": "stream",
     "text": [
      "Observations: 920\n",
      "Variables: 21\n",
      "Groups: OPERATOR_ID, COMMODITY [132]\n",
      "$ OPERATOR_ID           \u001b[3m\u001b[38;5;246m<chr>\u001b[39m\u001b[23m \"300\", \"395\", \"1845\", \"1845\", \"2170\", \"2552\", \"…\n",
      "$ YEAR                  \u001b[3m\u001b[38;5;246m<dbl>\u001b[39m\u001b[23m 2011, 2011, 2011, 2011, 2011, 2011, 2011, 2011,…\n",
      "$ NAME                  \u001b[3m\u001b[38;5;246m<chr>\u001b[39m\u001b[23m \"PLAINS PIPELINE, L.P.\", \"AMOCO OIL CO\", \"BUCKE…\n",
      "$ COMMODITY             \u001b[3m\u001b[38;5;246m<chr>\u001b[39m\u001b[23m \"non-hvl\", \"non-hvl\", \"hvl\", \"non-hvl\", \"non-hv…\n",
      "$ MILES                 \u001b[3m\u001b[38;5;246m<dbl>\u001b[39m\u001b[23m 326.800, 527.000, 47.644, 4043.393, 310.700, 40…\n",
      "$ AGE_UNKNOWN_MILES     \u001b[3m\u001b[38;5;246m<dbl>\u001b[39m\u001b[23m 0.000, 0.000, 0.000, 260.106, 0.000, 14.000, 0.…\n",
      "$ MILES_PRE_1940        \u001b[3m\u001b[38;5;246m<dbl>\u001b[39m\u001b[23m 0, 0, 0, 0, 0, 0, 0, 0, 0, 0, 0, 0, 0, 0, 0, 0,…\n",
      "$ MILES_1940            \u001b[3m\u001b[38;5;246m<dbl>\u001b[39m\u001b[23m 0.00, 15.00, 0.00, 801.90, 0.00, 0.00, 0.00, 0.…\n",
      "$ MILES_1950            \u001b[3m\u001b[38;5;246m<dbl>\u001b[39m\u001b[23m 0.800, 0.000, 0.000, 1253.159, 45.530, 0.100, 0…\n",
      "$ MILES_1960            \u001b[3m\u001b[38;5;246m<dbl>\u001b[39m\u001b[23m 188.430, 1.000, 0.606, 1764.684, 188.000, 1156.…\n",
      "$ MILES_1970            \u001b[3m\u001b[38;5;246m<dbl>\u001b[39m\u001b[23m 1.170, 2.000, 22.796, 398.240, 23.100, 853.200,…\n",
      "$ MILES_1980            \u001b[3m\u001b[38;5;246m<dbl>\u001b[39m\u001b[23m 4.430, 17.000, 0.000, 57.222, 2.700, 226.300, 0…\n",
      "$ MILES_1990            \u001b[3m\u001b[38;5;246m<dbl>\u001b[39m\u001b[23m 2.850, 58.000, 6.656, 101.974, 295.000, 108.600…\n",
      "$ MILES_2000            \u001b[3m\u001b[38;5;246m<dbl>\u001b[39m\u001b[23m 0.350, 2.000, 17.738, 84.151, 101.900, 68.100, …\n",
      "$ MILES_2010            \u001b[3m\u001b[38;5;246m<dbl>\u001b[39m\u001b[23m 0.000, 0.000, 0.000, 0.149, 24.870, 3.600, 0.00…\n",
      "$ PERC_OFFSHORE         \u001b[3m\u001b[38;5;246m<dbl>\u001b[39m\u001b[23m 0, 0, 0, 0, 0, 0, 0, 0, 0, 0, 0, 0, 0, 0, 0, 0,…\n",
      "$ AVG_AGE               \u001b[3m\u001b[38;5;246m<dbl>\u001b[39m\u001b[23m 54.03146, 35.21053, 31.20805, 58.81265, 34.4461…\n",
      "$ PARENT                \u001b[3m\u001b[38;5;246m<chr>\u001b[39m\u001b[23m \"Plains GP Holding\", \"Amoco\", \"Buckeye Partners…\n",
      "$ INCIDENTS             \u001b[3m\u001b[38;5;246m<dbl>\u001b[39m\u001b[23m 0, 0, 0, 14, 0, 12, 0, 4, 1, 1, 0, 0, 5, 2, 1, …\n",
      "$ SIGNIFICANT_INCIDENTS \u001b[3m\u001b[38;5;246m<dbl>\u001b[39m\u001b[23m 0, 0, 0, 7, 0, 2, 0, 2, 1, 1, 0, 0, 0, 0, 1, 2,…\n",
      "$ CHANGE                \u001b[3m\u001b[38;5;246m<dbl>\u001b[39m\u001b[23m 264.520, -202.000, -0.047, 289.292, 0.000, 63.1…\n"
     ]
    }
   ],
   "source": [
    "sample <- sample %>%\n",
    "    group_by(OPERATOR_ID, COMMODITY) %>%\n",
    "    arrange(YEAR) %>%\n",
    "    mutate(CHANGE = MILES - lag(MILES, 1))\n",
    "glimpse(subset(sample, YEAR > 2010))"
   ]
  },
  {
   "cell_type": "markdown",
   "metadata": {},
   "source": [
    "## 9.3 Consolidate observations"
   ]
  },
  {
   "cell_type": "markdown",
   "metadata": {},
   "source": [
    "### 9.3.1 Company groups"
   ]
  },
  {
   "cell_type": "code",
   "execution_count": 18,
   "metadata": {},
   "outputs": [
    {
     "name": "stdout",
     "output_type": "stream",
     "text": [
      "Observations: 596\n",
      "Variables: 22\n",
      "Groups: OPERATOR_ID, COMMODITY [80]\n",
      "$ OPERATOR_ID           \u001b[3m\u001b[38;5;246m<chr>\u001b[39m\u001b[23m \"11169\", \"12470\", \"12628\", \"15485\", \"18718\", \"2…\n",
      "$ YEAR                  \u001b[3m\u001b[38;5;246m<dbl>\u001b[39m\u001b[23m 2008, 2008, 2008, 2008, 2008, 2008, 2008, 2008,…\n",
      "$ NAME                  \u001b[3m\u001b[38;5;246m<chr>\u001b[39m\u001b[23m \"ENBRIDGE ENERGY, LIMITED PARTNERSHIP\", \"MID - …\n",
      "$ COMMODITY             \u001b[3m\u001b[38;5;246m<chr>\u001b[39m\u001b[23m \"crude\", \"crude\", \"crude\", \"crude\", \"crude\", \"c…\n",
      "$ MILES                 \u001b[3m\u001b[38;5;246m<dbl>\u001b[39m\u001b[23m 1030.000, 910.000, 913.000, 55.213, 1631.219, 4…\n",
      "$ AGE_UNKNOWN_MILES     \u001b[3m\u001b[38;5;246m<dbl>\u001b[39m\u001b[23m NA, NA, NA, NA, NA, NA, NA, NA, NA, NA, NA, NA,…\n",
      "$ MILES_PRE_1940        \u001b[3m\u001b[38;5;246m<dbl>\u001b[39m\u001b[23m 0.000, 0.000, 0.000, 0.000, 371.800, 0.500, 11.…\n",
      "$ MILES_1940            \u001b[3m\u001b[38;5;246m<dbl>\u001b[39m\u001b[23m 0.000, 0.000, 618.000, 0.000, 10.000, 0.000, 24…\n",
      "$ MILES_1950            \u001b[3m\u001b[38;5;246m<dbl>\u001b[39m\u001b[23m 0.000, 0.000, 230.000, 26.991, 276.300, 0.000, …\n",
      "$ MILES_1960            \u001b[3m\u001b[38;5;246m<dbl>\u001b[39m\u001b[23m 2.000, 0.000, 49.000, 0.000, 183.680, 0.000, 8.…\n",
      "$ MILES_1970            \u001b[3m\u001b[38;5;246m<dbl>\u001b[39m\u001b[23m 4.000, 0.000, 58.000, 26.934, 138.000, 57.500, …\n",
      "$ MILES_1980            \u001b[3m\u001b[38;5;246m<dbl>\u001b[39m\u001b[23m 1.000, 0.000, 39.000, 0.000, 46.000, 0.000, 48.…\n",
      "$ MILES_1990            \u001b[3m\u001b[38;5;246m<dbl>\u001b[39m\u001b[23m 473.000, 0.000, 53.000, 0.000, 181.680, 0.000, …\n",
      "$ MILES_2000            \u001b[3m\u001b[38;5;246m<dbl>\u001b[39m\u001b[23m 162.000, 0.000, 0.000, 0.000, 41.200, 2.000, 27…\n",
      "$ MILES_2010            \u001b[3m\u001b[38;5;246m<dbl>\u001b[39m\u001b[23m 0, 0, 0, 0, 0, 0, 0, 0, 0, 0, 0, 0, 0, 0, 0, 0,…\n",
      "$ PERC_OFFSHORE         \u001b[3m\u001b[38;5;246m<dbl>\u001b[39m\u001b[23m NA, NA, NA, NA, NA, NA, NA, NA, NA, NA, NA, NA,…\n",
      "$ AVG_AGE               \u001b[3m\u001b[38;5;246m<dbl>\u001b[39m\u001b[23m 22.71028, NaN, 66.18434, 55.01057, 60.26773, 44…\n",
      "$ PARENT                \u001b[3m\u001b[38;5;246m<chr>\u001b[39m\u001b[23m NA, NA, NA, NA, NA, NA, NA, NA, NA, NA, NA, NA,…\n",
      "$ INCIDENTS             \u001b[3m\u001b[38;5;246m<dbl>\u001b[39m\u001b[23m NA, NA, NA, NA, NA, NA, NA, NA, NA, NA, NA, NA,…\n",
      "$ SIGNIFICANT_INCIDENTS \u001b[3m\u001b[38;5;246m<dbl>\u001b[39m\u001b[23m NA, NA, NA, NA, NA, NA, NA, NA, NA, NA, NA, NA,…\n",
      "$ CHANGE                \u001b[3m\u001b[38;5;246m<dbl>\u001b[39m\u001b[23m NA, NA, NA, NA, NA, NA, NA, NA, NA, NA, NA, NA,…\n",
      "$ new_name              \u001b[3m\u001b[38;5;246m<chr>\u001b[39m\u001b[23m \"Enbridge (Group)\", \"Sunoco (Group)\", \"ExxonMob…\n"
     ]
    }
   ],
   "source": [
    "company_groups <- rename(company_groups, new_name = name)\n",
    "sample <- left_join(sample, company_groups, by=c('OPERATOR_ID' = 'members'))\n",
    "testit::assert(nrow(sample[duplicated(select(sample, YEAR, COMMODITY, OPERATOR_ID)), ]) == 0)\n",
    "glimpse(subset(sample, !is.na(sample$new_name)))"
   ]
  },
  {
   "cell_type": "code",
   "execution_count": 19,
   "metadata": {},
   "outputs": [
    {
     "data": {
      "text/html": [
       "9"
      ],
      "text/latex": [
       "9"
      ],
      "text/markdown": [
       "9"
      ],
      "text/plain": [
       "[1] 9"
      ]
     },
     "metadata": {},
     "output_type": "display_data"
    }
   ],
   "source": [
    "nrow(sample[is.na(sample$MILES), ])"
   ]
  },
  {
   "cell_type": "code",
   "execution_count": 20,
   "metadata": {},
   "outputs": [
    {
     "name": "stdout",
     "output_type": "stream",
     "text": [
      "Observations: 351\n",
      "Variables: 20\n",
      "$ new_name              \u001b[3m\u001b[38;5;246m<chr>\u001b[39m\u001b[23m \"BP (Group)\", \"BP (Group)\", \"BP (Group)\", \"BP (…\n",
      "$ YEAR                  \u001b[3m\u001b[38;5;246m<dbl>\u001b[39m\u001b[23m 2008, 2009, 2010, 2010, 2011, 2011, 2012, 2012,…\n",
      "$ COMMODITY             \u001b[3m\u001b[38;5;246m<chr>\u001b[39m\u001b[23m \"crude\", \"crude\", \"hvl\", \"non-hvl\", \"hvl\", \"non…\n",
      "$ OPERATOR_ID           \u001b[3m\u001b[38;5;246m<chr>\u001b[39m\u001b[23m \"BP (Group)\", \"BP (Group)\", \"BP (Group)\", \"BP (…\n",
      "$ NAME                  \u001b[3m\u001b[38;5;246m<chr>\u001b[39m\u001b[23m \"BP (Group)\", \"BP (Group)\", \"BP (Group)\", \"BP (…\n",
      "$ MILES                 \u001b[3m\u001b[38;5;246m<dbl>\u001b[39m\u001b[23m 441.000, 476.000, 334.000, 587.000, 108.000, 55…\n",
      "$ AGE_UNKNOWN_MILES     \u001b[3m\u001b[38;5;246m<dbl>\u001b[39m\u001b[23m 0.000, 0.000, 0.000, 100.000, 0.000, 100.000, 0…\n",
      "$ MILES_PRE_1940        \u001b[3m\u001b[38;5;246m<dbl>\u001b[39m\u001b[23m 0.0, 0.0, 0.0, 0.0, 0.0, 0.0, 0.0, 0.0, 0.0, 0.…\n",
      "$ MILES_1940            \u001b[3m\u001b[38;5;246m<dbl>\u001b[39m\u001b[23m 280.000, 48.000, 0.000, 12.000, 0.000, 12.000, …\n",
      "$ MILES_1950            \u001b[3m\u001b[38;5;246m<dbl>\u001b[39m\u001b[23m 106.000, 106.000, 0.000, 152.000, 0.000, 143.00…\n",
      "$ MILES_1960            \u001b[3m\u001b[38;5;246m<dbl>\u001b[39m\u001b[23m 27.000, 27.000, 130.000, 43.000, 0.000, 17.000,…\n",
      "$ MILES_1970            \u001b[3m\u001b[38;5;246m<dbl>\u001b[39m\u001b[23m 7.000, 7.000, 147.000, 634.000, 22.000, 616.000…\n",
      "$ MILES_1980            \u001b[3m\u001b[38;5;246m<dbl>\u001b[39m\u001b[23m 5.000, 4.000, 33.000, 14.000, 5.000, 10.000, 12…\n",
      "$ MILES_1990            \u001b[3m\u001b[38;5;246m<dbl>\u001b[39m\u001b[23m 25.000, 21.000, 28.000, 12.000, 0.000, 11.000, …\n",
      "$ MILES_2000            \u001b[3m\u001b[38;5;246m<dbl>\u001b[39m\u001b[23m 2.000, 3.000, 3.000, 2.000, 0.000, 2.000, 1.000…\n",
      "$ MILES_2010            \u001b[3m\u001b[38;5;246m<dbl>\u001b[39m\u001b[23m 0.000, 0.000, 0.000, 0.000, 0.000, 0.000, 0.000…\n",
      "$ PARENT                \u001b[3m\u001b[38;5;246m<chr>\u001b[39m\u001b[23m NA, NA, \"BP\", \"BP\", \"BP\", \"BP\", \"BP\", \"BP\", \"BP…\n",
      "$ INCIDENTS             \u001b[3m\u001b[38;5;246m<dbl>\u001b[39m\u001b[23m 0, 0, 1, 0, 0, 0, 0, 1, 0, 0, 0, 0, 0, 0, 0, 0,…\n",
      "$ SIGNIFICANT_INCIDENTS \u001b[3m\u001b[38;5;246m<dbl>\u001b[39m\u001b[23m 0, 0, 1, 0, 0, 0, 0, 0, 0, 0, 0, 0, 0, 0, 0, 0,…\n",
      "$ GROUP                 \u001b[3m\u001b[38;5;246m<chr>\u001b[39m\u001b[23m \"group\", \"group\", \"group\", \"group\", \"group\", \"g…\n"
     ]
    }
   ],
   "source": [
    "sample_no_group <- subset(sample, is.na(sample$new_name))\n",
    "sample_group <- subset(sample, !is.na(sample$new_name))\n",
    "\n",
    "sample_group <- sample_group %>%\n",
    "    group_by(new_name, YEAR, COMMODITY) %>%\n",
    "    summarize(OPERATOR_ID = first(new_name), \n",
    "              NAME              = first(new_name),\n",
    "              MILES             = sum(MILES, na.rm=TRUE), \n",
    "              AGE_UNKNOWN_MILES = sum(AGE_UNKNOWN_MILES, na.rm=TRUE), \n",
    "              MILES_PRE_1940    = sum(MILES_PRE_1940, na.rm=TRUE), \n",
    "              MILES_1940      = sum(MILES_1940, na.rm=TRUE),\n",
    "              MILES_1950      = sum(MILES_1950, na.rm=TRUE),\n",
    "              MILES_1960      = sum(MILES_1960, na.rm=TRUE),\n",
    "              MILES_1970      = sum(MILES_1970, na.rm=TRUE),\n",
    "              MILES_1980      = sum(MILES_1980, na.rm=TRUE),\n",
    "              MILES_1990      = sum(MILES_1990, na.rm=TRUE),\n",
    "              MILES_2000      = sum(MILES_2000, na.rm=TRUE),\n",
    "              MILES_2010      = sum(MILES_2010, na.rm=TRUE),\n",
    "              PARENT            = first(PARENT), \n",
    "              INCIDENTS         = sum(INCIDENTS, na.rm=TRUE), \n",
    "              SIGNIFICANT_INCIDENTS = sum(SIGNIFICANT_INCIDENTS, na.rm=TRUE), \n",
    "              GROUP = 'group') %>%\n",
    "    # We calculate the avg age and change once all groupings (including M&As below), are taken care of\n",
    "    ungroup()\n",
    "\n",
    "glimpse(sample_group)"
   ]
  },
  {
   "cell_type": "code",
   "execution_count": 21,
   "metadata": {},
   "outputs": [
    {
     "name": "stdout",
     "output_type": "stream",
     "text": [
      "Observations: 10\n",
      "Variables: 22\n",
      "$ YEAR                  \u001b[3m\u001b[38;5;246m<dbl>\u001b[39m\u001b[23m 2008, 2016, 2009, 2013, 2014, 2010, 2011, 2018,…\n",
      "$ COMMODITY             \u001b[3m\u001b[38;5;246m<chr>\u001b[39m\u001b[23m \"crude\", \"crude\", \"crude\", \"hvl\", \"non-hvl\", \"h…\n",
      "$ OPERATOR_ID           \u001b[3m\u001b[38;5;246m<chr>\u001b[39m\u001b[23m \"18201\", \"Phillips 66 (Group)\", \"30658\", \"Exxon…\n",
      "$ NAME                  \u001b[3m\u001b[38;5;246m<chr>\u001b[39m\u001b[23m \"SENECA RESOURCES CORP\", \"Phillips 66 (Group)\",…\n",
      "$ MILES                 \u001b[3m\u001b[38;5;246m<dbl>\u001b[39m\u001b[23m 8.200, 1027.660, 13.810, 1697.700, 751.269, 151…\n",
      "$ AGE_UNKNOWN_MILES     \u001b[3m\u001b[38;5;246m<dbl>\u001b[39m\u001b[23m NA, 47.460, NA, 42.000, 0.000, 0.000, 0.000, 1.…\n",
      "$ MILES_PRE_1940        \u001b[3m\u001b[38;5;246m<dbl>\u001b[39m\u001b[23m 0.00, 2.67, 0.00, 0.00, 0.00, 0.00, 0.00, 0.00,…\n",
      "$ MILES_1940            \u001b[3m\u001b[38;5;246m<dbl>\u001b[39m\u001b[23m 0.000, 481.480, 8.060, 19.000, 59.791, 0.000, 0…\n",
      "$ MILES_1950            \u001b[3m\u001b[38;5;246m<dbl>\u001b[39m\u001b[23m 0.000, 877.130, 0.000, 326.000, 2.595, 188.000,…\n",
      "$ MILES_1960            \u001b[3m\u001b[38;5;246m<dbl>\u001b[39m\u001b[23m 0.000, 594.690, 0.000, 562.500, 3.758, 0.000, 0…\n",
      "$ MILES_1970            \u001b[3m\u001b[38;5;246m<dbl>\u001b[39m\u001b[23m 0.000, 61.590, 0.000, 396.000, 301.825, 0.000, …\n",
      "$ MILES_1980            \u001b[3m\u001b[38;5;246m<dbl>\u001b[39m\u001b[23m 0.000, 48.450, 2.810, 216.000, 0.004, 0.000, 0.…\n",
      "$ MILES_1990            \u001b[3m\u001b[38;5;246m<dbl>\u001b[39m\u001b[23m 0.000, 205.300, 1.190, 326.000, 29.124, 136.000…\n",
      "$ MILES_2000            \u001b[3m\u001b[38;5;246m<dbl>\u001b[39m\u001b[23m 0.000, 63.570, 6.500, 153.500, 22.855, 0.000, 5…\n",
      "$ MILES_2010            \u001b[3m\u001b[38;5;246m<dbl>\u001b[39m\u001b[23m 0.000, 144.020, 0.000, 1.000, 14.075, 0.000, 0.…\n",
      "$ PARENT                \u001b[3m\u001b[38;5;246m<chr>\u001b[39m\u001b[23m NA, \"Phillips 66\", NA, \"Exxon Mobil\", \"Enterpri…\n",
      "$ INCIDENTS             \u001b[3m\u001b[38;5;246m<dbl>\u001b[39m\u001b[23m NA, 7, NA, 0, 9, 0, 0, 30, 1, 0\n",
      "$ SIGNIFICANT_INCIDENTS \u001b[3m\u001b[38;5;246m<dbl>\u001b[39m\u001b[23m NA, 2, NA, 0, 5, 0, 0, 7, 1, 0\n",
      "$ GROUP                 \u001b[3m\u001b[38;5;246m<chr>\u001b[39m\u001b[23m \"not group\", \"group\", \"not group\", \"group\", \"gr…\n",
      "$ PERC_OFFSHORE         \u001b[3m\u001b[38;5;246m<dbl>\u001b[39m\u001b[23m NA, NA, NA, NA, NA, NA, 0, NA, 0, 0\n",
      "$ AVG_AGE               \u001b[3m\u001b[38;5;246m<dbl>\u001b[39m\u001b[23m NaN, NA, 44.725216, NA, NA, NA, 15.000000, NA, …\n",
      "$ CHANGE                \u001b[3m\u001b[38;5;246m<dbl>\u001b[39m\u001b[23m NA, NA, -4.76, NA, NA, NA, 0.00, NA, NA, 0.00\n"
     ]
    }
   ],
   "source": [
    "sample_no_group$GROUP = \"not group\"\n",
    "\n",
    "sample <- bind_rows(sample_group, sample_no_group)\n",
    "sample <- sample[ , (names(sample) != \"new_name\")]\n",
    "testit::assert(nrow(sample[duplicated(select(sample, YEAR, COMMODITY, OPERATOR_ID)), ]) == 0)\n",
    "glimpse(sample_n(sample, 10))"
   ]
  },
  {
   "cell_type": "code",
   "execution_count": 22,
   "metadata": {},
   "outputs": [
    {
     "data": {
      "text/plain": [
       "\n",
       "    group not group \n",
       "      351       725 "
      ]
     },
     "metadata": {},
     "output_type": "display_data"
    }
   ],
   "source": [
    "table(sample$GROUP)"
   ]
  },
  {
   "cell_type": "markdown",
   "metadata": {},
   "source": [
    "### 9.3.2 M&As"
   ]
  },
  {
   "cell_type": "code",
   "execution_count": 23,
   "metadata": {},
   "outputs": [
    {
     "name": "stdout",
     "output_type": "stream",
     "text": [
      "Observations: 20\n",
      "Variables: 5\n",
      "$ members    \u001b[3m\u001b[38;5;246m<chr>\u001b[39m\u001b[23m \"Kinder Morgan (Group)\", \"31720\", \"Kinder Morgan (Group)\",…\n",
      "$ new_name   \u001b[3m\u001b[38;5;246m<chr>\u001b[39m\u001b[23m \"Kinder Morgan (Group)\", \"Kinder Morgan (Group)\", \"Kinder …\n",
      "$ start_year \u001b[3m\u001b[38;5;246m<chr>\u001b[39m\u001b[23m \"-9999\", \"-9999\", \"-9999\", \"-9999\", \"-9999\", \"-9999\", \"-99…\n",
      "$ end_year   \u001b[3m\u001b[38;5;246m<chr>\u001b[39m\u001b[23m \"2013\", \"2013\", \"2013\", \"2013\", \"2013\", \"2013\", \"2013\", \"2…\n",
      "$ year       \u001b[3m\u001b[38;5;246m<dbl>\u001b[39m\u001b[23m 2008, 2008, 2009, 2009, 2010, 2010, 2011, 2011, 2012, 2012…\n"
     ]
    }
   ],
   "source": [
    "m_as <- rename(m_as_orig, new_name = name)\n",
    "\n",
    "# We need to fill in the NA values for start and end_year with values that always match, because when logical conditions encounter NAs\n",
    "# they will always be wrong. The filtering in those cases happens because the new_name column is NA.\n",
    "m_as[is.na(m_as$start_year), ]$start_year <- -9999\n",
    "m_as[is.na(m_as$end_year), ]$end_year <- 9999\n",
    "\n",
    "years = data.frame(year = unique(sample$YEAR))\n",
    "m_as <- merge(m_as, years)\n",
    "m_as <- m_as %>%\n",
    "    filter(year >= start_year & year < end_year)\n",
    "\n",
    "glimpse(m_as)"
   ]
  },
  {
   "cell_type": "code",
   "execution_count": 24,
   "metadata": {},
   "outputs": [
    {
     "name": "stdout",
     "output_type": "stream",
     "text": [
      "Observations: 1,076\n",
      "Variables: 24\n",
      "$ YEAR                  \u001b[3m\u001b[38;5;246m<dbl>\u001b[39m\u001b[23m 2008, 2009, 2010, 2010, 2011, 2011, 2012, 2012,…\n",
      "$ COMMODITY             \u001b[3m\u001b[38;5;246m<chr>\u001b[39m\u001b[23m \"crude\", \"crude\", \"hvl\", \"non-hvl\", \"hvl\", \"non…\n",
      "$ OPERATOR_ID           \u001b[3m\u001b[38;5;246m<chr>\u001b[39m\u001b[23m \"BP (Group)\", \"BP (Group)\", \"BP (Group)\", \"BP (…\n",
      "$ NAME                  \u001b[3m\u001b[38;5;246m<chr>\u001b[39m\u001b[23m \"BP (Group)\", \"BP (Group)\", \"BP (Group)\", \"BP (…\n",
      "$ MILES                 \u001b[3m\u001b[38;5;246m<dbl>\u001b[39m\u001b[23m 441.000, 476.000, 334.000, 587.000, 108.000, 55…\n",
      "$ AGE_UNKNOWN_MILES     \u001b[3m\u001b[38;5;246m<dbl>\u001b[39m\u001b[23m 0.000, 0.000, 0.000, 100.000, 0.000, 100.000, 0…\n",
      "$ MILES_PRE_1940        \u001b[3m\u001b[38;5;246m<dbl>\u001b[39m\u001b[23m 0.0, 0.0, 0.0, 0.0, 0.0, 0.0, 0.0, 0.0, 0.0, 0.…\n",
      "$ MILES_1940            \u001b[3m\u001b[38;5;246m<dbl>\u001b[39m\u001b[23m 280.000, 48.000, 0.000, 12.000, 0.000, 12.000, …\n",
      "$ MILES_1950            \u001b[3m\u001b[38;5;246m<dbl>\u001b[39m\u001b[23m 106.000, 106.000, 0.000, 152.000, 0.000, 143.00…\n",
      "$ MILES_1960            \u001b[3m\u001b[38;5;246m<dbl>\u001b[39m\u001b[23m 27.000, 27.000, 130.000, 43.000, 0.000, 17.000,…\n",
      "$ MILES_1970            \u001b[3m\u001b[38;5;246m<dbl>\u001b[39m\u001b[23m 7.000, 7.000, 147.000, 634.000, 22.000, 616.000…\n",
      "$ MILES_1980            \u001b[3m\u001b[38;5;246m<dbl>\u001b[39m\u001b[23m 5.000, 4.000, 33.000, 14.000, 5.000, 10.000, 12…\n",
      "$ MILES_1990            \u001b[3m\u001b[38;5;246m<dbl>\u001b[39m\u001b[23m 25.000, 21.000, 28.000, 12.000, 0.000, 11.000, …\n",
      "$ MILES_2000            \u001b[3m\u001b[38;5;246m<dbl>\u001b[39m\u001b[23m 2.000, 3.000, 3.000, 2.000, 0.000, 2.000, 1.000…\n",
      "$ MILES_2010            \u001b[3m\u001b[38;5;246m<dbl>\u001b[39m\u001b[23m 0.000, 0.000, 0.000, 0.000, 0.000, 0.000, 0.000…\n",
      "$ PARENT                \u001b[3m\u001b[38;5;246m<chr>\u001b[39m\u001b[23m NA, NA, \"BP\", \"BP\", \"BP\", \"BP\", \"BP\", \"BP\", \"BP…\n",
      "$ INCIDENTS             \u001b[3m\u001b[38;5;246m<dbl>\u001b[39m\u001b[23m 0, 0, 1, 0, 0, 0, 0, 1, 0, 0, 0, 0, 0, 0, 0, 0,…\n",
      "$ SIGNIFICANT_INCIDENTS \u001b[3m\u001b[38;5;246m<dbl>\u001b[39m\u001b[23m 0, 0, 1, 0, 0, 0, 0, 0, 0, 0, 0, 0, 0, 0, 0, 0,…\n",
      "$ GROUP                 \u001b[3m\u001b[38;5;246m<chr>\u001b[39m\u001b[23m \"group\", \"group\", \"group\", \"group\", \"group\", \"g…\n",
      "$ PERC_OFFSHORE         \u001b[3m\u001b[38;5;246m<dbl>\u001b[39m\u001b[23m NA, NA, NA, NA, NA, NA, NA, NA, NA, NA, NA, NA,…\n",
      "$ AVG_AGE               \u001b[3m\u001b[38;5;246m<dbl>\u001b[39m\u001b[23m NA, NA, NA, NA, NA, NA, NA, NA, NA, NA, NA, NA,…\n",
      "$ CHANGE                \u001b[3m\u001b[38;5;246m<dbl>\u001b[39m\u001b[23m NA, NA, NA, NA, NA, NA, NA, NA, NA, NA, NA, NA,…\n",
      "$ new_name              \u001b[3m\u001b[38;5;246m<chr>\u001b[39m\u001b[23m NA, NA, NA, NA, NA, NA, NA, NA, NA, NA, NA, NA,…\n",
      "$ m_a                   \u001b[3m\u001b[38;5;246m<lgl>\u001b[39m\u001b[23m FALSE, FALSE, FALSE, FALSE, FALSE, FALSE, FALSE…\n"
     ]
    }
   ],
   "source": [
    "m_as <- select(m_as, members, new_name, year)\n",
    "m_as['m_a'] <- TRUE\n",
    "\n",
    "sample <- left_join(sample, m_as, by=c('OPERATOR_ID' = 'members', 'YEAR' = 'year'))\n",
    "sample$m_a <- replace_na(sample$m_a, FALSE)\n",
    "\n",
    "glimpse(sample)"
   ]
  },
  {
   "cell_type": "code",
   "execution_count": 25,
   "metadata": {},
   "outputs": [
    {
     "name": "stdout",
     "output_type": "stream",
     "text": [
      "Observations: 34\n",
      "Variables: 24\n",
      "$ YEAR                  \u001b[3m\u001b[38;5;246m<dbl>\u001b[39m\u001b[23m 2017, 2017, 2017, 2018, 2018, 2018, 2017, 2017,…\n",
      "$ COMMODITY             \u001b[3m\u001b[38;5;246m<chr>\u001b[39m\u001b[23m \"crude\", \"hvl\", \"non-hvl\", \"crude\", \"hvl\", \"non…\n",
      "$ OPERATOR_ID           \u001b[3m\u001b[38;5;246m<chr>\u001b[39m\u001b[23m \"Enbridge (Group)\", \"Enbridge (Group)\", \"Enbrid…\n",
      "$ NAME                  \u001b[3m\u001b[38;5;246m<chr>\u001b[39m\u001b[23m \"Enbridge (Group)\", \"Enbridge (Group)\", \"Enbrid…\n",
      "$ MILES                 \u001b[3m\u001b[38;5;246m<dbl>\u001b[39m\u001b[23m 2998.00, 170.00, 874.70, 2759.44, 163.74, 854.4…\n",
      "$ AGE_UNKNOWN_MILES     \u001b[3m\u001b[38;5;246m<dbl>\u001b[39m\u001b[23m 0.00, 0.00, 0.00, 0.00, 0.00, 0.00, 47.76, 240.…\n",
      "$ MILES_PRE_1940        \u001b[3m\u001b[38;5;246m<dbl>\u001b[39m\u001b[23m 0.00, 0.00, 0.00, 0.00, 0.00, 0.00, 0.00, 0.00,…\n",
      "$ MILES_1940            \u001b[3m\u001b[38;5;246m<dbl>\u001b[39m\u001b[23m 9.00, 0.00, 0.00, 9.00, 0.00, 0.00, 0.00, 239.1…\n",
      "$ MILES_1950            \u001b[3m\u001b[38;5;246m<dbl>\u001b[39m\u001b[23m 1.00, 188.00, 134.00, 1.00, 188.82, 133.81, 0.0…\n",
      "$ MILES_1960            \u001b[3m\u001b[38;5;246m<dbl>\u001b[39m\u001b[23m 20.00, 0.00, 273.30, 19.36, 0.00, 273.30, 0.00,…\n",
      "$ MILES_1970            \u001b[3m\u001b[38;5;246m<dbl>\u001b[39m\u001b[23m 7.00, 0.00, 85.50, 7.39, 0.00, 85.50, 0.13, 260…\n",
      "$ MILES_1980            \u001b[3m\u001b[38;5;246m<dbl>\u001b[39m\u001b[23m 0.00, 0.00, 1.60, 0.00, 0.00, 1.80, 26.10, 47.9…\n",
      "$ MILES_1990            \u001b[3m\u001b[38;5;246m<dbl>\u001b[39m\u001b[23m 463.00, 136.00, 4.30, 463.54, 136.02, 4.30, 0.1…\n",
      "$ MILES_2000            \u001b[3m\u001b[38;5;246m<dbl>\u001b[39m\u001b[23m 165.00, 0.00, 671.90, 164.32, 0.00, 673.17, 0.0…\n",
      "$ MILES_2010            \u001b[3m\u001b[38;5;246m<dbl>\u001b[39m\u001b[23m 0.00, 0.00, 14.00, 0.47, 0.00, 13.97, 180.91, 1…\n",
      "$ PARENT                \u001b[3m\u001b[38;5;246m<chr>\u001b[39m\u001b[23m \"Enbridge\", \"Enbridge\", \"BP\", \"Enbridge\", \"Enbr…\n",
      "$ INCIDENTS             \u001b[3m\u001b[38;5;246m<dbl>\u001b[39m\u001b[23m 13, 0, 1, 7, 0, 0, 9, 4, 7, 2, 0, 11, 2, 7, 0, …\n",
      "$ SIGNIFICANT_INCIDENTS \u001b[3m\u001b[38;5;246m<dbl>\u001b[39m\u001b[23m 5, 0, 0, 0, 0, 0, 1, 4, 0, 2, 0, 2, 1, 1, 0, 0,…\n",
      "$ GROUP                 \u001b[3m\u001b[38;5;246m<chr>\u001b[39m\u001b[23m \"group\", \"group\", \"group\", \"group\", \"group\", \"g…\n",
      "$ PERC_OFFSHORE         \u001b[3m\u001b[38;5;246m<dbl>\u001b[39m\u001b[23m NA, NA, NA, NA, NA, NA, NA, NA, NA, NA, NA, NA,…\n",
      "$ AVG_AGE               \u001b[3m\u001b[38;5;246m<dbl>\u001b[39m\u001b[23m NA, NA, NA, NA, NA, NA, NA, NA, NA, NA, NA, NA,…\n",
      "$ CHANGE                \u001b[3m\u001b[38;5;246m<dbl>\u001b[39m\u001b[23m NA, NA, NA, NA, NA, NA, NA, NA, NA, NA, NA, NA,…\n",
      "$ new_name              \u001b[3m\u001b[38;5;246m<chr>\u001b[39m\u001b[23m \"Enbridge (Group)\", \"Enbridge (Group)\", \"Enbrid…\n",
      "$ m_a                   \u001b[3m\u001b[38;5;246m<lgl>\u001b[39m\u001b[23m TRUE, TRUE, TRUE, TRUE, TRUE, TRUE, TRUE, TRUE,…\n"
     ]
    }
   ],
   "source": [
    "sample_m_as <- subset(sample, m_a == TRUE)\n",
    "sample_no_m_as <- subset(sample, m_a == FALSE)\n",
    "\n",
    "glimpse(sample_m_as)"
   ]
  },
  {
   "cell_type": "code",
   "execution_count": 26,
   "metadata": {},
   "outputs": [
    {
     "name": "stdout",
     "output_type": "stream",
     "text": [
      "Observations: 26\n",
      "Variables: 20\n",
      "$ new_name              \u001b[3m\u001b[38;5;246m<chr>\u001b[39m\u001b[23m \"Enbridge (Group)\", \"Enbridge (Group)\", \"Enbrid…\n",
      "$ YEAR                  \u001b[3m\u001b[38;5;246m<dbl>\u001b[39m\u001b[23m 2017, 2017, 2017, 2018, 2018, 2018, 2008, 2009,…\n",
      "$ COMMODITY             \u001b[3m\u001b[38;5;246m<chr>\u001b[39m\u001b[23m \"crude\", \"hvl\", \"non-hvl\", \"crude\", \"hvl\", \"non…\n",
      "$ OPERATOR_ID           \u001b[3m\u001b[38;5;246m<chr>\u001b[39m\u001b[23m \"Enbridge (Group)\", \"Enbridge (Group)\", \"Enbrid…\n",
      "$ NAME                  \u001b[3m\u001b[38;5;246m<chr>\u001b[39m\u001b[23m \"Enbridge (Group)\", \"Enbridge (Group)\", \"Enbrid…\n",
      "$ MILES                 \u001b[3m\u001b[38;5;246m<dbl>\u001b[39m\u001b[23m 3407.00, 170.00, 874.70, 3201.98, 163.74, 854.4…\n",
      "$ AGE_UNKNOWN_MILES     \u001b[3m\u001b[38;5;246m<dbl>\u001b[39m\u001b[23m 0.00, 0.00, 0.00, 0.00, 0.00, 0.00, 0.00, 0.00,…\n",
      "$ MILES_PRE_1940        \u001b[3m\u001b[38;5;246m<dbl>\u001b[39m\u001b[23m 0.00, 0.00, 0.00, 0.00, 0.00, 0.00, 0.00, 0.00,…\n",
      "$ MILES_1940            \u001b[3m\u001b[38;5;246m<dbl>\u001b[39m\u001b[23m 9.00, 0.00, 0.00, 9.00, 0.00, 0.00, 0.00, 0.00,…\n",
      "$ MILES_1950            \u001b[3m\u001b[38;5;246m<dbl>\u001b[39m\u001b[23m 247.00, 188.00, 134.00, 247.62, 188.82, 133.81,…\n",
      "$ MILES_1960            \u001b[3m\u001b[38;5;246m<dbl>\u001b[39m\u001b[23m 20.00, 0.00, 273.30, 19.75, 0.00, 273.30, 0.00,…\n",
      "$ MILES_1970            \u001b[3m\u001b[38;5;246m<dbl>\u001b[39m\u001b[23m 7.00, 0.00, 85.50, 7.39, 0.00, 85.50, 0.00, 0.0…\n",
      "$ MILES_1980            \u001b[3m\u001b[38;5;246m<dbl>\u001b[39m\u001b[23m 0.00, 0.00, 1.60, 0.00, 0.00, 1.80, 0.00, 0.00,…\n",
      "$ MILES_1990            \u001b[3m\u001b[38;5;246m<dbl>\u001b[39m\u001b[23m 977.00, 136.00, 4.30, 977.47, 136.02, 4.30, 513…\n",
      "$ MILES_2000            \u001b[3m\u001b[38;5;246m<dbl>\u001b[39m\u001b[23m 165.00, 0.00, 671.90, 164.32, 0.00, 673.17, 0.0…\n",
      "$ MILES_2010            \u001b[3m\u001b[38;5;246m<dbl>\u001b[39m\u001b[23m 0.00, 0.00, 14.00, 0.47, 0.00, 13.97, 0.00, 0.0…\n",
      "$ PARENT                \u001b[3m\u001b[38;5;246m<chr>\u001b[39m\u001b[23m \"Enbridge\", \"Enbridge\", \"BP\", \"Enbridge\", \"Enbr…\n",
      "$ INCIDENTS             \u001b[3m\u001b[38;5;246m<dbl>\u001b[39m\u001b[23m 19, 0, 1, 11, 0, 0, 0, 0, 2, 0, 11, 0, 2, 7, 0,…\n",
      "$ SIGNIFICANT_INCIDENTS \u001b[3m\u001b[38;5;246m<dbl>\u001b[39m\u001b[23m 5, 0, 0, 2, 0, 0, 0, 0, 2, 0, 2, 0, 1, 1, 0, 0,…\n",
      "$ GROUP                 \u001b[3m\u001b[38;5;246m<chr>\u001b[39m\u001b[23m \"m&a\", \"m&a\", \"m&a\", \"m&a\", \"m&a\", \"m&a\", \"m&a\"…\n"
     ]
    }
   ],
   "source": [
    "sample_m_as <- sample_m_as %>%\n",
    "    group_by(new_name, YEAR, COMMODITY) %>%\n",
    "    summarize(OPERATOR_ID = first(new_name), \n",
    "              NAME              = first(new_name),\n",
    "              MILES             = sum(MILES, na.rm=TRUE), \n",
    "              AGE_UNKNOWN_MILES = sum(AGE_UNKNOWN_MILES, na.rm=TRUE), \n",
    "              MILES_PRE_1940    = sum(MILES_PRE_1940, na.rm=TRUE), \n",
    "              MILES_1940        = sum(MILES_1940, na.rm=TRUE),\n",
    "              MILES_1950        = sum(MILES_1950, na.rm=TRUE),\n",
    "              MILES_1960        = sum(MILES_1960, na.rm=TRUE),\n",
    "              MILES_1970        = sum(MILES_1970, na.rm=TRUE),\n",
    "              MILES_1980        = sum(MILES_1980, na.rm=TRUE),\n",
    "              MILES_1990        = sum(MILES_1990, na.rm=TRUE),\n",
    "              MILES_2000        = sum(MILES_2000, na.rm=TRUE),\n",
    "              MILES_2010        = sum(MILES_2010, na.rm=TRUE),\n",
    "              PARENT            = first(PARENT), \n",
    "              INCIDENTS         = sum(INCIDENTS, na.rm=TRUE), \n",
    "              SIGNIFICANT_INCIDENTS = sum(SIGNIFICANT_INCIDENTS, na.rm=TRUE), \n",
    "              GROUP = 'm&a') %>%\n",
    "    ungroup()\n",
    "\n",
    "glimpse(sample_m_as)"
   ]
  },
  {
   "cell_type": "code",
   "execution_count": 27,
   "metadata": {},
   "outputs": [
    {
     "name": "stdout",
     "output_type": "stream",
     "text": [
      "Observations: 1,068\n",
      "Variables: 22\n",
      "$ YEAR                  \u001b[3m\u001b[38;5;246m<dbl>\u001b[39m\u001b[23m 2017, 2017, 2017, 2018, 2018, 2018, 2008, 2009,…\n",
      "$ COMMODITY             \u001b[3m\u001b[38;5;246m<chr>\u001b[39m\u001b[23m \"crude\", \"hvl\", \"non-hvl\", \"crude\", \"hvl\", \"non…\n",
      "$ OPERATOR_ID           \u001b[3m\u001b[38;5;246m<chr>\u001b[39m\u001b[23m \"Enbridge (Group)\", \"Enbridge (Group)\", \"Enbrid…\n",
      "$ NAME                  \u001b[3m\u001b[38;5;246m<chr>\u001b[39m\u001b[23m \"Enbridge (Group)\", \"Enbridge (Group)\", \"Enbrid…\n",
      "$ MILES                 \u001b[3m\u001b[38;5;246m<dbl>\u001b[39m\u001b[23m 3407.00, 170.00, 874.70, 3201.98, 163.74, 854.4…\n",
      "$ AGE_UNKNOWN_MILES     \u001b[3m\u001b[38;5;246m<dbl>\u001b[39m\u001b[23m 0.00, 0.00, 0.00, 0.00, 0.00, 0.00, 0.00, 0.00,…\n",
      "$ MILES_PRE_1940        \u001b[3m\u001b[38;5;246m<dbl>\u001b[39m\u001b[23m 0.00, 0.00, 0.00, 0.00, 0.00, 0.00, 0.00, 0.00,…\n",
      "$ MILES_1940            \u001b[3m\u001b[38;5;246m<dbl>\u001b[39m\u001b[23m 9.00, 0.00, 0.00, 9.00, 0.00, 0.00, 0.00, 0.00,…\n",
      "$ MILES_1950            \u001b[3m\u001b[38;5;246m<dbl>\u001b[39m\u001b[23m 247.00, 188.00, 134.00, 247.62, 188.82, 133.81,…\n",
      "$ MILES_1960            \u001b[3m\u001b[38;5;246m<dbl>\u001b[39m\u001b[23m 20.00, 0.00, 273.30, 19.75, 0.00, 273.30, 0.00,…\n",
      "$ MILES_1970            \u001b[3m\u001b[38;5;246m<dbl>\u001b[39m\u001b[23m 7.00, 0.00, 85.50, 7.39, 0.00, 85.50, 0.00, 0.0…\n",
      "$ MILES_1980            \u001b[3m\u001b[38;5;246m<dbl>\u001b[39m\u001b[23m 0.00, 0.00, 1.60, 0.00, 0.00, 1.80, 0.00, 0.00,…\n",
      "$ MILES_1990            \u001b[3m\u001b[38;5;246m<dbl>\u001b[39m\u001b[23m 977.00, 136.00, 4.30, 977.47, 136.02, 4.30, 513…\n",
      "$ MILES_2000            \u001b[3m\u001b[38;5;246m<dbl>\u001b[39m\u001b[23m 165.00, 0.00, 671.90, 164.32, 0.00, 673.17, 0.0…\n",
      "$ MILES_2010            \u001b[3m\u001b[38;5;246m<dbl>\u001b[39m\u001b[23m 0.00, 0.00, 14.00, 0.47, 0.00, 13.97, 0.00, 0.0…\n",
      "$ PARENT                \u001b[3m\u001b[38;5;246m<chr>\u001b[39m\u001b[23m \"Enbridge\", \"Enbridge\", \"BP\", \"Enbridge\", \"Enbr…\n",
      "$ INCIDENTS             \u001b[3m\u001b[38;5;246m<dbl>\u001b[39m\u001b[23m 19, 0, 1, 11, 0, 0, 0, 0, 2, 0, 11, 0, 2, 7, 0,…\n",
      "$ SIGNIFICANT_INCIDENTS \u001b[3m\u001b[38;5;246m<dbl>\u001b[39m\u001b[23m 5, 0, 0, 2, 0, 0, 0, 0, 2, 0, 2, 0, 1, 1, 0, 0,…\n",
      "$ GROUP                 \u001b[3m\u001b[38;5;246m<chr>\u001b[39m\u001b[23m \"m&a\", \"m&a\", \"m&a\", \"m&a\", \"m&a\", \"m&a\", \"m&a\"…\n",
      "$ PERC_OFFSHORE         \u001b[3m\u001b[38;5;246m<dbl>\u001b[39m\u001b[23m NA, NA, NA, NA, NA, NA, NA, NA, NA, NA, NA, NA,…\n",
      "$ AVG_AGE               \u001b[3m\u001b[38;5;246m<dbl>\u001b[39m\u001b[23m NA, NA, NA, NA, NA, NA, NA, NA, NA, NA, NA, NA,…\n",
      "$ CHANGE                \u001b[3m\u001b[38;5;246m<dbl>\u001b[39m\u001b[23m NA, NA, NA, NA, NA, NA, NA, NA, NA, NA, NA, NA,…\n"
     ]
    }
   ],
   "source": [
    "sample <- bind_rows(sample_m_as, sample_no_m_as)\n",
    "sample <- sample[ , !(names(sample) %in% c(\"new_name\", \"m_a\"))]\n",
    "testit::assert(nrow(sample[duplicated(select(sample, YEAR, COMMODITY, OPERATOR_ID)), ]) == 0)\n",
    "glimpse(sample)"
   ]
  },
  {
   "cell_type": "markdown",
   "metadata": {},
   "source": [
    "## 9.4 Mark M&A years"
   ]
  },
  {
   "cell_type": "code",
   "execution_count": 28,
   "metadata": {},
   "outputs": [
    {
     "name": "stdout",
     "output_type": "stream",
     "text": [
      "Observations: 8\n",
      "Variables: 4\n",
      "$ members    \u001b[3m\u001b[38;5;246m<chr>\u001b[39m\u001b[23m \"Sunoco (Group)\", \"Energy Transfer (Group)\", \"Kinder Morga…\n",
      "$ name       \u001b[3m\u001b[38;5;246m<chr>\u001b[39m\u001b[23m \"Sunoco (Group)\", \"Sunoco (Group)\", \"Kinder Morgan (Group)…\n",
      "$ start_year \u001b[3m\u001b[38;5;246m<chr>\u001b[39m\u001b[23m \"2017\", \"2017\", NA, NA, \"2017\", \"2017\", \"2018\", \"2018\"\n",
      "$ end_year   \u001b[3m\u001b[38;5;246m<chr>\u001b[39m\u001b[23m NA, NA, \"2013\", \"2013\", NA, NA, NA, NA\n"
     ]
    }
   ],
   "source": [
    "glimpse(m_as_orig)"
   ]
  },
  {
   "cell_type": "code",
   "execution_count": 29,
   "metadata": {},
   "outputs": [
    {
     "name": "stdout",
     "output_type": "stream",
     "text": [
      "Observations: 1,068\n",
      "Variables: 24\n",
      "$ YEAR                  \u001b[3m\u001b[38;5;246m<dbl>\u001b[39m\u001b[23m 2017, 2017, 2017, 2018, 2018, 2018, 2008, 2009,…\n",
      "$ COMMODITY             \u001b[3m\u001b[38;5;246m<chr>\u001b[39m\u001b[23m \"crude\", \"hvl\", \"non-hvl\", \"crude\", \"hvl\", \"non…\n",
      "$ OPERATOR_ID           \u001b[3m\u001b[38;5;246m<chr>\u001b[39m\u001b[23m \"Enbridge (Group)\", \"Enbridge (Group)\", \"Enbrid…\n",
      "$ NAME                  \u001b[3m\u001b[38;5;246m<chr>\u001b[39m\u001b[23m \"Enbridge (Group)\", \"Enbridge (Group)\", \"Enbrid…\n",
      "$ MILES                 \u001b[3m\u001b[38;5;246m<dbl>\u001b[39m\u001b[23m 3407.00, 170.00, 874.70, 3201.98, 163.74, 854.4…\n",
      "$ AGE_UNKNOWN_MILES     \u001b[3m\u001b[38;5;246m<dbl>\u001b[39m\u001b[23m 0.00, 0.00, 0.00, 0.00, 0.00, 0.00, 0.00, 0.00,…\n",
      "$ MILES_PRE_1940        \u001b[3m\u001b[38;5;246m<dbl>\u001b[39m\u001b[23m 0.00, 0.00, 0.00, 0.00, 0.00, 0.00, 0.00, 0.00,…\n",
      "$ MILES_1940            \u001b[3m\u001b[38;5;246m<dbl>\u001b[39m\u001b[23m 9.00, 0.00, 0.00, 9.00, 0.00, 0.00, 0.00, 0.00,…\n",
      "$ MILES_1950            \u001b[3m\u001b[38;5;246m<dbl>\u001b[39m\u001b[23m 247.00, 188.00, 134.00, 247.62, 188.82, 133.81,…\n",
      "$ MILES_1960            \u001b[3m\u001b[38;5;246m<dbl>\u001b[39m\u001b[23m 20.00, 0.00, 273.30, 19.75, 0.00, 273.30, 0.00,…\n",
      "$ MILES_1970            \u001b[3m\u001b[38;5;246m<dbl>\u001b[39m\u001b[23m 7.00, 0.00, 85.50, 7.39, 0.00, 85.50, 0.00, 0.0…\n",
      "$ MILES_1980            \u001b[3m\u001b[38;5;246m<dbl>\u001b[39m\u001b[23m 0.00, 0.00, 1.60, 0.00, 0.00, 1.80, 0.00, 0.00,…\n",
      "$ MILES_1990            \u001b[3m\u001b[38;5;246m<dbl>\u001b[39m\u001b[23m 977.00, 136.00, 4.30, 977.47, 136.02, 4.30, 513…\n",
      "$ MILES_2000            \u001b[3m\u001b[38;5;246m<dbl>\u001b[39m\u001b[23m 165.00, 0.00, 671.90, 164.32, 0.00, 673.17, 0.0…\n",
      "$ MILES_2010            \u001b[3m\u001b[38;5;246m<dbl>\u001b[39m\u001b[23m 0.00, 0.00, 14.00, 0.47, 0.00, 13.97, 0.00, 0.0…\n",
      "$ PARENT                \u001b[3m\u001b[38;5;246m<chr>\u001b[39m\u001b[23m \"Enbridge\", \"Enbridge\", \"BP\", \"Enbridge\", \"Enbr…\n",
      "$ INCIDENTS             \u001b[3m\u001b[38;5;246m<dbl>\u001b[39m\u001b[23m 19, 0, 1, 11, 0, 0, 0, 0, 2, 0, 11, 0, 2, 7, 0,…\n",
      "$ SIGNIFICANT_INCIDENTS \u001b[3m\u001b[38;5;246m<dbl>\u001b[39m\u001b[23m 5, 0, 0, 2, 0, 0, 0, 0, 2, 0, 2, 0, 1, 1, 0, 0,…\n",
      "$ GROUP                 \u001b[3m\u001b[38;5;246m<chr>\u001b[39m\u001b[23m \"m&a\", \"m&a\", \"m&a\", \"m&a\", \"m&a\", \"m&a\", \"m&a\"…\n",
      "$ PERC_OFFSHORE         \u001b[3m\u001b[38;5;246m<dbl>\u001b[39m\u001b[23m NA, NA, NA, NA, NA, NA, NA, NA, NA, NA, NA, NA,…\n",
      "$ AVG_AGE               \u001b[3m\u001b[38;5;246m<dbl>\u001b[39m\u001b[23m NA, NA, NA, NA, NA, NA, NA, NA, NA, NA, NA, NA,…\n",
      "$ CHANGE                \u001b[3m\u001b[38;5;246m<dbl>\u001b[39m\u001b[23m NA, NA, NA, NA, NA, NA, NA, NA, NA, NA, NA, NA,…\n",
      "$ end_year              \u001b[3m\u001b[38;5;246m<chr>\u001b[39m\u001b[23m NA, NA, NA, NA, NA, NA, NA, NA, NA, NA, NA, NA,…\n",
      "$ m_a_start             \u001b[3m\u001b[38;5;246m<lgl>\u001b[39m\u001b[23m TRUE, TRUE, TRUE, NA, NA, NA, NA, NA, NA, NA, N…\n"
     ]
    }
   ],
   "source": [
    "m_as_orig$start_year <- as.numeric(m_as_orig$start_year)\n",
    "m_as_orig <- select(m_as_orig, -c(name))\n",
    "\n",
    "m_as_start <- subset(m_as_orig, !is.na(start_year))\n",
    "m_as_start$m_a_start <- TRUE\n",
    "\n",
    "sample <- left_join(sample, m_as_start, by=c(\"OPERATOR_ID\" = \"members\", \"YEAR\" = \"start_year\"))\n",
    "glimpse(sample)"
   ]
  },
  {
   "cell_type": "code",
   "execution_count": 30,
   "metadata": {},
   "outputs": [
    {
     "name": "stdout",
     "output_type": "stream",
     "text": [
      "Observations: 1,068\n",
      "Variables: 26\n",
      "$ YEAR                  \u001b[3m\u001b[38;5;246m<dbl>\u001b[39m\u001b[23m 2017, 2017, 2017, 2018, 2018, 2018, 2008, 2009,…\n",
      "$ COMMODITY             \u001b[3m\u001b[38;5;246m<chr>\u001b[39m\u001b[23m \"crude\", \"hvl\", \"non-hvl\", \"crude\", \"hvl\", \"non…\n",
      "$ OPERATOR_ID           \u001b[3m\u001b[38;5;246m<chr>\u001b[39m\u001b[23m \"Enbridge (Group)\", \"Enbridge (Group)\", \"Enbrid…\n",
      "$ NAME                  \u001b[3m\u001b[38;5;246m<chr>\u001b[39m\u001b[23m \"Enbridge (Group)\", \"Enbridge (Group)\", \"Enbrid…\n",
      "$ MILES                 \u001b[3m\u001b[38;5;246m<dbl>\u001b[39m\u001b[23m 3407.00, 170.00, 874.70, 3201.98, 163.74, 854.4…\n",
      "$ AGE_UNKNOWN_MILES     \u001b[3m\u001b[38;5;246m<dbl>\u001b[39m\u001b[23m 0.00, 0.00, 0.00, 0.00, 0.00, 0.00, 0.00, 0.00,…\n",
      "$ MILES_PRE_1940        \u001b[3m\u001b[38;5;246m<dbl>\u001b[39m\u001b[23m 0.00, 0.00, 0.00, 0.00, 0.00, 0.00, 0.00, 0.00,…\n",
      "$ MILES_1940            \u001b[3m\u001b[38;5;246m<dbl>\u001b[39m\u001b[23m 9.00, 0.00, 0.00, 9.00, 0.00, 0.00, 0.00, 0.00,…\n",
      "$ MILES_1950            \u001b[3m\u001b[38;5;246m<dbl>\u001b[39m\u001b[23m 247.00, 188.00, 134.00, 247.62, 188.82, 133.81,…\n",
      "$ MILES_1960            \u001b[3m\u001b[38;5;246m<dbl>\u001b[39m\u001b[23m 20.00, 0.00, 273.30, 19.75, 0.00, 273.30, 0.00,…\n",
      "$ MILES_1970            \u001b[3m\u001b[38;5;246m<dbl>\u001b[39m\u001b[23m 7.00, 0.00, 85.50, 7.39, 0.00, 85.50, 0.00, 0.0…\n",
      "$ MILES_1980            \u001b[3m\u001b[38;5;246m<dbl>\u001b[39m\u001b[23m 0.00, 0.00, 1.60, 0.00, 0.00, 1.80, 0.00, 0.00,…\n",
      "$ MILES_1990            \u001b[3m\u001b[38;5;246m<dbl>\u001b[39m\u001b[23m 977.00, 136.00, 4.30, 977.47, 136.02, 4.30, 513…\n",
      "$ MILES_2000            \u001b[3m\u001b[38;5;246m<dbl>\u001b[39m\u001b[23m 165.00, 0.00, 671.90, 164.32, 0.00, 673.17, 0.0…\n",
      "$ MILES_2010            \u001b[3m\u001b[38;5;246m<dbl>\u001b[39m\u001b[23m 0.00, 0.00, 14.00, 0.47, 0.00, 13.97, 0.00, 0.0…\n",
      "$ PARENT                \u001b[3m\u001b[38;5;246m<chr>\u001b[39m\u001b[23m \"Enbridge\", \"Enbridge\", \"BP\", \"Enbridge\", \"Enbr…\n",
      "$ INCIDENTS             \u001b[3m\u001b[38;5;246m<dbl>\u001b[39m\u001b[23m 19, 0, 1, 11, 0, 0, 0, 0, 2, 0, 11, 0, 2, 7, 0,…\n",
      "$ SIGNIFICANT_INCIDENTS \u001b[3m\u001b[38;5;246m<dbl>\u001b[39m\u001b[23m 5, 0, 0, 2, 0, 0, 0, 0, 2, 0, 2, 0, 1, 1, 0, 0,…\n",
      "$ GROUP                 \u001b[3m\u001b[38;5;246m<chr>\u001b[39m\u001b[23m \"m&a\", \"m&a\", \"m&a\", \"m&a\", \"m&a\", \"m&a\", \"m&a\"…\n",
      "$ PERC_OFFSHORE         \u001b[3m\u001b[38;5;246m<dbl>\u001b[39m\u001b[23m NA, NA, NA, NA, NA, NA, NA, NA, NA, NA, NA, NA,…\n",
      "$ AVG_AGE               \u001b[3m\u001b[38;5;246m<dbl>\u001b[39m\u001b[23m NA, NA, NA, NA, NA, NA, NA, NA, NA, NA, NA, NA,…\n",
      "$ CHANGE                \u001b[3m\u001b[38;5;246m<dbl>\u001b[39m\u001b[23m NA, NA, NA, NA, NA, NA, NA, NA, NA, NA, NA, NA,…\n",
      "$ end_year              \u001b[3m\u001b[38;5;246m<chr>\u001b[39m\u001b[23m NA, NA, NA, NA, NA, NA, NA, NA, NA, NA, NA, NA,…\n",
      "$ m_a_start             \u001b[3m\u001b[38;5;246m<lgl>\u001b[39m\u001b[23m TRUE, TRUE, TRUE, NA, NA, NA, NA, NA, NA, NA, N…\n",
      "$ start_year            \u001b[3m\u001b[38;5;246m<dbl>\u001b[39m\u001b[23m NA, NA, NA, NA, NA, NA, NA, NA, NA, NA, NA, NA,…\n",
      "$ m_a_end               \u001b[3m\u001b[38;5;246m<lgl>\u001b[39m\u001b[23m NA, NA, NA, NA, NA, NA, NA, NA, NA, NA, NA, NA,…\n"
     ]
    }
   ],
   "source": [
    "m_as_orig$end_year <- as.numeric(m_as_orig$end_year)\n",
    "\n",
    "m_as_end <- subset(m_as_orig, !is.na(end_year))\n",
    "# We add 1 to the year, so the year we match on is the first year after the group has ceased to exist.\n",
    "m_as_end$end_year <- m_as_end$end_year + 1\n",
    "m_as_end$m_a_end <- TRUE\n",
    "\n",
    "sample <- left_join(sample, m_as_end, by=c(\"OPERATOR_ID\" = \"members\", \"YEAR\" = \"end_year\"))\n",
    "glimpse(sample)"
   ]
  },
  {
   "cell_type": "code",
   "execution_count": 31,
   "metadata": {},
   "outputs": [
    {
     "data": {
      "text/html": [
       "<table>\n",
       "<caption>A tibble: 4 × 26</caption>\n",
       "<thead>\n",
       "\t<tr><th scope=col>YEAR</th><th scope=col>COMMODITY</th><th scope=col>OPERATOR_ID</th><th scope=col>NAME</th><th scope=col>MILES</th><th scope=col>AGE_UNKNOWN_MILES</th><th scope=col>MILES_PRE_1940</th><th scope=col>MILES_1940</th><th scope=col>MILES_1950</th><th scope=col>MILES_1960</th><th scope=col>⋯</th><th scope=col>INCIDENTS</th><th scope=col>SIGNIFICANT_INCIDENTS</th><th scope=col>GROUP</th><th scope=col>PERC_OFFSHORE</th><th scope=col>AVG_AGE</th><th scope=col>CHANGE</th><th scope=col>end_year</th><th scope=col>m_a_start</th><th scope=col>start_year</th><th scope=col>m_a_end</th></tr>\n",
       "\t<tr><th scope=col>&lt;dbl&gt;</th><th scope=col>&lt;chr&gt;</th><th scope=col>&lt;chr&gt;</th><th scope=col>&lt;chr&gt;</th><th scope=col>&lt;dbl&gt;</th><th scope=col>&lt;dbl&gt;</th><th scope=col>&lt;dbl&gt;</th><th scope=col>&lt;dbl&gt;</th><th scope=col>&lt;dbl&gt;</th><th scope=col>&lt;dbl&gt;</th><th scope=col>⋯</th><th scope=col>&lt;dbl&gt;</th><th scope=col>&lt;dbl&gt;</th><th scope=col>&lt;chr&gt;</th><th scope=col>&lt;dbl&gt;</th><th scope=col>&lt;dbl&gt;</th><th scope=col>&lt;dbl&gt;</th><th scope=col>&lt;chr&gt;</th><th scope=col>&lt;lgl&gt;</th><th scope=col>&lt;dbl&gt;</th><th scope=col>&lt;lgl&gt;</th></tr>\n",
       "</thead>\n",
       "<tbody>\n",
       "\t<tr><td>2014</td><td>crude  </td><td>Kinder Morgan (Group)</td><td>Kinder Morgan (Group)      </td><td> 423.06</td><td>0</td><td>0</td><td> 0.00</td><td>  0.00</td><td>   0.00</td><td>⋯</td><td> 0</td><td>0</td><td>group    </td><td>NA</td><td>      NA</td><td>  NA</td><td>NA</td><td>NA</td><td>NA</td><td>TRUE</td></tr>\n",
       "\t<tr><td>2014</td><td>hvl    </td><td>Kinder Morgan (Group)</td><td>Kinder Morgan (Group)      </td><td> 194.20</td><td>0</td><td>0</td><td> 0.00</td><td>  0.25</td><td>   0.00</td><td>⋯</td><td> 0</td><td>0</td><td>group    </td><td>NA</td><td>      NA</td><td>  NA</td><td>NA</td><td>NA</td><td>NA</td><td>TRUE</td></tr>\n",
       "\t<tr><td>2014</td><td>non-hvl</td><td>Kinder Morgan (Group)</td><td>Kinder Morgan (Group)      </td><td>4735.19</td><td>0</td><td>0</td><td>50.63</td><td>272.96</td><td>1315.77</td><td>⋯</td><td>13</td><td>6</td><td>group    </td><td>NA</td><td>      NA</td><td>  NA</td><td>NA</td><td>NA</td><td>NA</td><td>TRUE</td></tr>\n",
       "\t<tr><td>2014</td><td>crude  </td><td>31720                </td><td>EXPRESS HOLDINGS (USA), LLC</td><td> 212.40</td><td>0</td><td>0</td><td> 0.00</td><td>812.20</td><td>   0.00</td><td>⋯</td><td> 2</td><td>1</td><td>not group</td><td> 0</td><td>49.49706</td><td>-6.9</td><td>NA</td><td>NA</td><td>NA</td><td>TRUE</td></tr>\n",
       "</tbody>\n",
       "</table>\n"
      ],
      "text/latex": [
       "A tibble: 4 × 26\n",
       "\\begin{tabular}{r|llllllllllllllllllllllllll}\n",
       " YEAR & COMMODITY & OPERATOR\\_ID & NAME & MILES & AGE\\_UNKNOWN\\_MILES & MILES\\_PRE\\_1940 & MILES\\_1940 & MILES\\_1950 & MILES\\_1960 & MILES\\_1970 & MILES\\_1980 & MILES\\_1990 & MILES\\_2000 & MILES\\_2010 & PARENT & INCIDENTS & SIGNIFICANT\\_INCIDENTS & GROUP & PERC\\_OFFSHORE & AVG\\_AGE & CHANGE & end\\_year & m\\_a\\_start & start\\_year & m\\_a\\_end\\\\\n",
       " <dbl> & <chr> & <chr> & <chr> & <dbl> & <dbl> & <dbl> & <dbl> & <dbl> & <dbl> & <dbl> & <dbl> & <dbl> & <dbl> & <dbl> & <chr> & <dbl> & <dbl> & <chr> & <dbl> & <dbl> & <dbl> & <chr> & <lgl> & <dbl> & <lgl>\\\\\n",
       "\\hline\n",
       "\t 2014 & crude   & Kinder Morgan (Group) & Kinder Morgan (Group)       &  423.06 & 0 & 0 &  0.00 &   0.00 &    0.00 & 940.44 &   0.18 &   0.04 &   4.32 & 1.61 & Kinder Morgan &  0 & 0 & group     & NA &       NA &   NA & NA & NA & NA & TRUE\\\\\n",
       "\t 2014 & hvl     & Kinder Morgan (Group) & Kinder Morgan (Group)       &  194.20 & 0 & 0 &  0.00 &   0.25 &    0.00 & 259.20 &   0.00 &  36.90 &   0.00 & 1.38 & Kinder Morgan &  0 & 0 & group     & NA &       NA &   NA & NA & NA & NA & TRUE\\\\\n",
       "\t 2014 & non-hvl & Kinder Morgan (Group) & Kinder Morgan (Group)       & 4735.19 & 0 & 0 & 50.63 & 272.96 & 1315.77 & 569.11 & 758.47 & 335.21 & 359.33 & 9.17 & Kinder Morgan & 13 & 6 & group     & NA &       NA &   NA & NA & NA & NA & TRUE\\\\\n",
       "\t 2014 & crude   & 31720                 & EXPRESS HOLDINGS (USA), LLC &  212.40 & 0 & 0 &  0.00 & 812.20 &    0.00 &   0.00 &   0.00 & 514.00 &   0.00 & 0.00 & Enbridge      &  2 & 1 & not group &  0 & 49.49706 & -6.9 & NA & NA & NA & TRUE\\\\\n",
       "\\end{tabular}\n"
      ],
      "text/markdown": [
       "\n",
       "A tibble: 4 × 26\n",
       "\n",
       "| YEAR &lt;dbl&gt; | COMMODITY &lt;chr&gt; | OPERATOR_ID &lt;chr&gt; | NAME &lt;chr&gt; | MILES &lt;dbl&gt; | AGE_UNKNOWN_MILES &lt;dbl&gt; | MILES_PRE_1940 &lt;dbl&gt; | MILES_1940 &lt;dbl&gt; | MILES_1950 &lt;dbl&gt; | MILES_1960 &lt;dbl&gt; | ⋯ ⋯ | INCIDENTS &lt;dbl&gt; | SIGNIFICANT_INCIDENTS &lt;dbl&gt; | GROUP &lt;chr&gt; | PERC_OFFSHORE &lt;dbl&gt; | AVG_AGE &lt;dbl&gt; | CHANGE &lt;dbl&gt; | end_year &lt;chr&gt; | m_a_start &lt;lgl&gt; | start_year &lt;dbl&gt; | m_a_end &lt;lgl&gt; |\n",
       "|---|---|---|---|---|---|---|---|---|---|---|---|---|---|---|---|---|---|---|---|---|\n",
       "| 2014 | crude   | Kinder Morgan (Group) | Kinder Morgan (Group)       |  423.06 | 0 | 0 |  0.00 |   0.00 |    0.00 | ⋯ |  0 | 0 | group     | NA |       NA |   NA | NA | NA | NA | TRUE |\n",
       "| 2014 | hvl     | Kinder Morgan (Group) | Kinder Morgan (Group)       |  194.20 | 0 | 0 |  0.00 |   0.25 |    0.00 | ⋯ |  0 | 0 | group     | NA |       NA |   NA | NA | NA | NA | TRUE |\n",
       "| 2014 | non-hvl | Kinder Morgan (Group) | Kinder Morgan (Group)       | 4735.19 | 0 | 0 | 50.63 | 272.96 | 1315.77 | ⋯ | 13 | 6 | group     | NA |       NA |   NA | NA | NA | NA | TRUE |\n",
       "| 2014 | crude   | 31720                 | EXPRESS HOLDINGS (USA), LLC |  212.40 | 0 | 0 |  0.00 | 812.20 |    0.00 | ⋯ |  2 | 1 | not group |  0 | 49.49706 | -6.9 | NA | NA | NA | TRUE |\n",
       "\n"
      ],
      "text/plain": [
       "  YEAR COMMODITY OPERATOR_ID           NAME                        MILES  \n",
       "1 2014 crude     Kinder Morgan (Group) Kinder Morgan (Group)        423.06\n",
       "2 2014 hvl       Kinder Morgan (Group) Kinder Morgan (Group)        194.20\n",
       "3 2014 non-hvl   Kinder Morgan (Group) Kinder Morgan (Group)       4735.19\n",
       "4 2014 crude     31720                 EXPRESS HOLDINGS (USA), LLC  212.40\n",
       "  AGE_UNKNOWN_MILES MILES_PRE_1940 MILES_1940 MILES_1950 MILES_1960 ⋯ INCIDENTS\n",
       "1 0                 0               0.00        0.00        0.00    ⋯  0       \n",
       "2 0                 0               0.00        0.25        0.00    ⋯  0       \n",
       "3 0                 0              50.63      272.96     1315.77    ⋯ 13       \n",
       "4 0                 0               0.00      812.20        0.00    ⋯  2       \n",
       "  SIGNIFICANT_INCIDENTS GROUP     PERC_OFFSHORE AVG_AGE  CHANGE end_year\n",
       "1 0                     group     NA                  NA   NA   NA      \n",
       "2 0                     group     NA                  NA   NA   NA      \n",
       "3 6                     group     NA                  NA   NA   NA      \n",
       "4 1                     not group  0            49.49706 -6.9   NA      \n",
       "  m_a_start start_year m_a_end\n",
       "1 NA        NA         TRUE   \n",
       "2 NA        NA         TRUE   \n",
       "3 NA        NA         TRUE   \n",
       "4 NA        NA         TRUE   "
      ]
     },
     "metadata": {},
     "output_type": "display_data"
    }
   ],
   "source": [
    "subset(sample, m_a_end == TRUE)"
   ]
  },
  {
   "cell_type": "code",
   "execution_count": 32,
   "metadata": {},
   "outputs": [
    {
     "name": "stdout",
     "output_type": "stream",
     "text": [
      "Observations: 1,068\n",
      "Variables: 23\n",
      "$ YEAR                  \u001b[3m\u001b[38;5;246m<dbl>\u001b[39m\u001b[23m 2017, 2017, 2017, 2018, 2018, 2018, 2008, 2009,…\n",
      "$ COMMODITY             \u001b[3m\u001b[38;5;246m<chr>\u001b[39m\u001b[23m \"crude\", \"hvl\", \"non-hvl\", \"crude\", \"hvl\", \"non…\n",
      "$ OPERATOR_ID           \u001b[3m\u001b[38;5;246m<chr>\u001b[39m\u001b[23m \"Enbridge (Group)\", \"Enbridge (Group)\", \"Enbrid…\n",
      "$ NAME                  \u001b[3m\u001b[38;5;246m<chr>\u001b[39m\u001b[23m \"Enbridge (Group)\", \"Enbridge (Group)\", \"Enbrid…\n",
      "$ MILES                 \u001b[3m\u001b[38;5;246m<dbl>\u001b[39m\u001b[23m 3407.00, 170.00, 874.70, 3201.98, 163.74, 854.4…\n",
      "$ AGE_UNKNOWN_MILES     \u001b[3m\u001b[38;5;246m<dbl>\u001b[39m\u001b[23m 0.00, 0.00, 0.00, 0.00, 0.00, 0.00, 0.00, 0.00,…\n",
      "$ MILES_PRE_1940        \u001b[3m\u001b[38;5;246m<dbl>\u001b[39m\u001b[23m 0.00, 0.00, 0.00, 0.00, 0.00, 0.00, 0.00, 0.00,…\n",
      "$ MILES_1940            \u001b[3m\u001b[38;5;246m<dbl>\u001b[39m\u001b[23m 9.00, 0.00, 0.00, 9.00, 0.00, 0.00, 0.00, 0.00,…\n",
      "$ MILES_1950            \u001b[3m\u001b[38;5;246m<dbl>\u001b[39m\u001b[23m 247.00, 188.00, 134.00, 247.62, 188.82, 133.81,…\n",
      "$ MILES_1960            \u001b[3m\u001b[38;5;246m<dbl>\u001b[39m\u001b[23m 20.00, 0.00, 273.30, 19.75, 0.00, 273.30, 0.00,…\n",
      "$ MILES_1970            \u001b[3m\u001b[38;5;246m<dbl>\u001b[39m\u001b[23m 7.00, 0.00, 85.50, 7.39, 0.00, 85.50, 0.00, 0.0…\n",
      "$ MILES_1980            \u001b[3m\u001b[38;5;246m<dbl>\u001b[39m\u001b[23m 0.00, 0.00, 1.60, 0.00, 0.00, 1.80, 0.00, 0.00,…\n",
      "$ MILES_1990            \u001b[3m\u001b[38;5;246m<dbl>\u001b[39m\u001b[23m 977.00, 136.00, 4.30, 977.47, 136.02, 4.30, 513…\n",
      "$ MILES_2000            \u001b[3m\u001b[38;5;246m<dbl>\u001b[39m\u001b[23m 165.00, 0.00, 671.90, 164.32, 0.00, 673.17, 0.0…\n",
      "$ MILES_2010            \u001b[3m\u001b[38;5;246m<dbl>\u001b[39m\u001b[23m 0.00, 0.00, 14.00, 0.47, 0.00, 13.97, 0.00, 0.0…\n",
      "$ PARENT                \u001b[3m\u001b[38;5;246m<chr>\u001b[39m\u001b[23m \"Enbridge\", \"Enbridge\", \"BP\", \"Enbridge\", \"Enbr…\n",
      "$ INCIDENTS             \u001b[3m\u001b[38;5;246m<dbl>\u001b[39m\u001b[23m 19, 0, 1, 11, 0, 0, 0, 0, 2, 0, 11, 0, 2, 7, 0,…\n",
      "$ SIGNIFICANT_INCIDENTS \u001b[3m\u001b[38;5;246m<dbl>\u001b[39m\u001b[23m 5, 0, 0, 2, 0, 0, 0, 0, 2, 0, 2, 0, 1, 1, 0, 0,…\n",
      "$ GROUP                 \u001b[3m\u001b[38;5;246m<chr>\u001b[39m\u001b[23m \"m&a\", \"m&a\", \"m&a\", \"m&a\", \"m&a\", \"m&a\", \"m&a\"…\n",
      "$ PERC_OFFSHORE         \u001b[3m\u001b[38;5;246m<dbl>\u001b[39m\u001b[23m NA, NA, NA, NA, NA, NA, NA, NA, NA, NA, NA, NA,…\n",
      "$ AVG_AGE               \u001b[3m\u001b[38;5;246m<dbl>\u001b[39m\u001b[23m NA, NA, NA, NA, NA, NA, NA, NA, NA, NA, NA, NA,…\n",
      "$ CHANGE                \u001b[3m\u001b[38;5;246m<dbl>\u001b[39m\u001b[23m NA, NA, NA, NA, NA, NA, NA, NA, NA, NA, NA, NA,…\n",
      "$ M_A                   \u001b[3m\u001b[38;5;246m<lgl>\u001b[39m\u001b[23m TRUE, TRUE, TRUE, FALSE, FALSE, FALSE, FALSE, F…\n"
     ]
    }
   ],
   "source": [
    "sample$M_A <- (sample$m_a_start | sample$m_a_end)\n",
    "sample <- select(sample, -c(end_year, m_a_start, start_year, m_a_end))\n",
    "sample$M_A <- replace_na(sample$M_A, FALSE)\n",
    "\n",
    "glimpse(sample)"
   ]
  },
  {
   "cell_type": "markdown",
   "metadata": {},
   "source": [
    "## 9.5 Calculate avg age, change for new groups"
   ]
  },
  {
   "cell_type": "code",
   "execution_count": 33,
   "metadata": {},
   "outputs": [
    {
     "name": "stdout",
     "output_type": "stream",
     "text": [
      "Observations: 710\n",
      "Variables: 23\n",
      "Groups: OPERATOR_ID, COMMODITY [100]\n",
      "$ YEAR                  \u001b[3m\u001b[38;5;246m<dbl>\u001b[39m\u001b[23m 2011, 2011, 2011, 2011, 2011, 2011, 2011, 2011,…\n",
      "$ COMMODITY             \u001b[3m\u001b[38;5;246m<chr>\u001b[39m\u001b[23m \"crude\", \"hvl\", \"non-hvl\", \"hvl\", \"non-hvl\", \"c…\n",
      "$ OPERATOR_ID           \u001b[3m\u001b[38;5;246m<chr>\u001b[39m\u001b[23m \"Kinder Morgan (Group)\", \"Kinder Morgan (Group)…\n",
      "$ NAME                  \u001b[3m\u001b[38;5;246m<chr>\u001b[39m\u001b[23m \"Kinder Morgan (Group)\", \"Kinder Morgan (Group)…\n",
      "$ MILES                 \u001b[3m\u001b[38;5;246m<dbl>\u001b[39m\u001b[23m 196.000, 483.490, 4601.250, 108.000, 559.000, 0…\n",
      "$ AGE_UNKNOWN_MILES     \u001b[3m\u001b[38;5;246m<dbl>\u001b[39m\u001b[23m 0.000, 0.000, 0.000, 0.000, 100.000, 0.000, 0.0…\n",
      "$ MILES_PRE_1940        \u001b[3m\u001b[38;5;246m<dbl>\u001b[39m\u001b[23m 0, 0, 0, 0, 0, 0, 0, 0, 0, 0, 0, 0, 0, 0, 0, 0,…\n",
      "$ MILES_1940            \u001b[3m\u001b[38;5;246m<dbl>\u001b[39m\u001b[23m 0.000, 0.000, 24.320, 0.000, 12.000, 0.000, 0.0…\n",
      "$ MILES_1950            \u001b[3m\u001b[38;5;246m<dbl>\u001b[39m\u001b[23m 248.000, 0.250, 322.690, 0.000, 143.000, 0.000,…\n",
      "$ MILES_1960            \u001b[3m\u001b[38;5;246m<dbl>\u001b[39m\u001b[23m 0.000, 0.000, 1499.080, 0.000, 17.000, 0.000, 4…\n",
      "$ MILES_1970            \u001b[3m\u001b[38;5;246m<dbl>\u001b[39m\u001b[23m 0.000, 1202.090, 563.540, 22.000, 616.000, 0.62…\n",
      "$ MILES_1980            \u001b[3m\u001b[38;5;246m<dbl>\u001b[39m\u001b[23m 0.000, 0.160, 716.940, 5.000, 10.000, 0.000, 12…\n",
      "$ MILES_1990            \u001b[3m\u001b[38;5;246m<dbl>\u001b[39m\u001b[23m 513.000, 38.870, 155.580, 0.000, 11.000, 0.000,…\n",
      "$ MILES_2000            \u001b[3m\u001b[38;5;246m<dbl>\u001b[39m\u001b[23m 0.000, 3.170, 515.040, 0.000, 2.000, 0.000, 112…\n",
      "$ MILES_2010            \u001b[3m\u001b[38;5;246m<dbl>\u001b[39m\u001b[23m 0.000, 0.000, 0.700, 0.000, 0.000, 0.000, 0.000…\n",
      "$ PARENT                \u001b[3m\u001b[38;5;246m<chr>\u001b[39m\u001b[23m \"Enbridge\", \"Kinder Morgan\", \"Kinder Morgan\", \"…\n",
      "$ INCIDENTS             \u001b[3m\u001b[38;5;246m<dbl>\u001b[39m\u001b[23m 0, 2, 7, 0, 0, 0, 2, 15, 9, 0, 1, 0, 27, 17, 10…\n",
      "$ SIGNIFICANT_INCIDENTS \u001b[3m\u001b[38;5;246m<dbl>\u001b[39m\u001b[23m 0, 1, 1, 0, 0, 0, 2, 7, 3, 0, 0, 0, 9, 11, 5, 1…\n",
      "$ GROUP                 \u001b[3m\u001b[38;5;246m<chr>\u001b[39m\u001b[23m \"m&a\", \"m&a\", \"m&a\", \"group\", \"group\", \"group\",…\n",
      "$ PERC_OFFSHORE         \u001b[3m\u001b[38;5;246m<dbl>\u001b[39m\u001b[23m NA, NA, NA, NA, NA, NA, NA, NA, NA, NA, NA, NA,…\n",
      "$ AVG_AGE               \u001b[3m\u001b[38;5;246m<dbl>\u001b[39m\u001b[23m NA, NA, NA, NA, NA, NA, NA, NA, NA, NA, NA, NA,…\n",
      "$ CHANGE                \u001b[3m\u001b[38;5;246m<dbl>\u001b[39m\u001b[23m 0.000, 240.280, -59.190, -226.000, -28.000, 0.0…\n",
      "$ M_A                   \u001b[3m\u001b[38;5;246m<lgl>\u001b[39m\u001b[23m FALSE, FALSE, FALSE, FALSE, FALSE, FALSE, FALSE…\n"
     ]
    }
   ],
   "source": [
    "sample <- sample %>%\n",
    "    group_by(OPERATOR_ID, COMMODITY) %>%\n",
    "    arrange(YEAR) %>%\n",
    "    mutate(CHANGE = MILES - lag(MILES, 1))\n",
    "glimpse(subset(sample, YEAR > 2010))"
   ]
  },
  {
   "cell_type": "code",
   "execution_count": 34,
   "metadata": {},
   "outputs": [
    {
     "name": "stdout",
     "output_type": "stream",
     "text": [
      "Observations: 1,068\n",
      "Variables: 23\n",
      "Groups: OPERATOR_ID, COMMODITY [228]\n",
      "$ YEAR                  \u001b[3m\u001b[38;5;246m<dbl>\u001b[39m\u001b[23m 2008, 2008, 2008, 2008, 2008, 2008, 2008, 2008,…\n",
      "$ COMMODITY             \u001b[3m\u001b[38;5;246m<chr>\u001b[39m\u001b[23m \"crude\", \"crude\", \"crude\", \"crude\", \"crude\", \"c…\n",
      "$ OPERATOR_ID           \u001b[3m\u001b[38;5;246m<chr>\u001b[39m\u001b[23m \"Kinder Morgan (Group)\", \"BP (Group)\", \"Enbridg…\n",
      "$ NAME                  \u001b[3m\u001b[38;5;246m<chr>\u001b[39m\u001b[23m \"Kinder Morgan (Group)\", \"BP (Group)\", \"Enbridg…\n",
      "$ MILES                 \u001b[3m\u001b[38;5;246m<dbl>\u001b[39m\u001b[23m 190.000, 441.000, 1497.000, 385.080, 1951.000, …\n",
      "$ AGE_UNKNOWN_MILES     \u001b[3m\u001b[38;5;246m<dbl>\u001b[39m\u001b[23m 0, 0, 0, 0, 0, 0, 0, 0, 0, 0, 0, NA, NA, NA, NA…\n",
      "$ MILES_PRE_1940        \u001b[3m\u001b[38;5;246m<dbl>\u001b[39m\u001b[23m 0.000, 0.000, 0.000, 270.033, 96.000, 0.500, 0.…\n",
      "$ MILES_1940            \u001b[3m\u001b[38;5;246m<dbl>\u001b[39m\u001b[23m 0.000, 280.000, 444.000, 166.000, 686.000, 0.00…\n",
      "$ MILES_1950            \u001b[3m\u001b[38;5;246m<dbl>\u001b[39m\u001b[23m 243.000, 106.000, 1.000, 325.000, 882.000, 0.00…\n",
      "$ MILES_1960            \u001b[3m\u001b[38;5;246m<dbl>\u001b[39m\u001b[23m 0.000, 27.000, 3.000, 50.000, 432.000, 0.000, 1…\n",
      "$ MILES_1970            \u001b[3m\u001b[38;5;246m<dbl>\u001b[39m\u001b[23m 0.000, 7.000, 7.000, 29.000, 434.000, 57.500, 2…\n",
      "$ MILES_1980            \u001b[3m\u001b[38;5;246m<dbl>\u001b[39m\u001b[23m 0.000, 5.000, 2.000, 72.981, 276.000, 0.000, 0.…\n",
      "$ MILES_1990            \u001b[3m\u001b[38;5;246m<dbl>\u001b[39m\u001b[23m 513.000, 25.000, 475.000, 169.515, 370.000, 0.0…\n",
      "$ MILES_2000            \u001b[3m\u001b[38;5;246m<dbl>\u001b[39m\u001b[23m 0.000, 2.000, 163.000, 770.547, 66.000, 2.000, …\n",
      "$ MILES_2010            \u001b[3m\u001b[38;5;246m<dbl>\u001b[39m\u001b[23m 0, 0, 0, 0, 0, 0, 0, 0, 0, 0, 0, 0, 0, 0, 0, 0,…\n",
      "$ PARENT                \u001b[3m\u001b[38;5;246m<chr>\u001b[39m\u001b[23m NA, NA, NA, NA, NA, NA, NA, NA, NA, NA, NA, NA,…\n",
      "$ INCIDENTS             \u001b[3m\u001b[38;5;246m<dbl>\u001b[39m\u001b[23m 0, 0, 0, 0, 0, 0, 0, 0, 0, 0, 0, NA, NA, NA, NA…\n",
      "$ SIGNIFICANT_INCIDENTS \u001b[3m\u001b[38;5;246m<dbl>\u001b[39m\u001b[23m 0, 0, 0, 0, 0, 0, 0, 0, 0, 0, 0, NA, NA, NA, NA…\n",
      "$ GROUP                 \u001b[3m\u001b[38;5;246m<chr>\u001b[39m\u001b[23m \"m&a\", \"group\", \"group\", \"group\", \"group\", \"gro…\n",
      "$ PERC_OFFSHORE         \u001b[3m\u001b[38;5;246m<dbl>\u001b[39m\u001b[23m NA, NA, NA, NA, NA, NA, NA, NA, NA, NA, NA, NA,…\n",
      "$ AVG_AGE               \u001b[3m\u001b[38;5;246m<dbl>\u001b[39m\u001b[23m 37.85714, 67.52212, 44.05023, 43.32439, 55.7094…\n",
      "$ CHANGE                \u001b[3m\u001b[38;5;246m<dbl>\u001b[39m\u001b[23m NA, NA, NA, NA, NA, NA, NA, NA, NA, NA, NA, NA,…\n",
      "$ M_A                   \u001b[3m\u001b[38;5;246m<lgl>\u001b[39m\u001b[23m FALSE, FALSE, FALSE, FALSE, FALSE, FALSE, FALSE…\n"
     ]
    }
   ],
   "source": [
    "sample$AVG_AGE <- ((sample$MILES_PRE_1940 * 90 +\n",
    "                    sample$MILES_1940 * 75 +\n",
    "                    sample$MILES_1950 * 65 +\n",
    "                    sample$MILES_1960 * 55 +\n",
    "                    sample$MILES_1970 * 45 +\n",
    "                    sample$MILES_1980 * 35 +\n",
    "                    sample$MILES_1990 * 25 +\n",
    "                    sample$MILES_2000 * 15 +\n",
    "                    sample$MILES_2010 * 05) /\n",
    "                   (sample$MILES_PRE_1940 +\n",
    "                    sample$MILES_1940 +\n",
    "                    sample$MILES_1950 +\n",
    "                    sample$MILES_1960 +\n",
    "                    sample$MILES_1970 +\n",
    "                    sample$MILES_1980 +\n",
    "                    sample$MILES_1990 +\n",
    "                    sample$MILES_2000 +\n",
    "                    sample$MILES_2010))\n",
    "\n",
    "glimpse(sample)"
   ]
  },
  {
   "cell_type": "markdown",
   "metadata": {},
   "source": [
    "## 9.6 Save"
   ]
  },
  {
   "cell_type": "code",
   "execution_count": 35,
   "metadata": {},
   "outputs": [],
   "source": [
    "feather::write_feather(sample, paste0(\"../preprocessed_data/sample_consolidated_\", Sys.Date(), \".feather\"))\n",
    "haven::write_dta(sample, paste0(\"../stata_data/sample_consolidated_\", Sys.Date(), \".dta\"))"
   ]
  }
 ],
 "metadata": {
  "kernelspec": {
   "display_name": "R 3.6.1",
   "language": "R",
   "name": "ir361"
  },
  "language_info": {
   "codemirror_mode": "r",
   "file_extension": ".r",
   "mimetype": "text/x-r-source",
   "name": "R",
   "pygments_lexer": "r",
   "version": "3.6.1"
  }
 },
 "nbformat": 4,
 "nbformat_minor": 4
}
