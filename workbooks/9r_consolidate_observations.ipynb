{
 "cells": [
  {
   "cell_type": "markdown",
   "metadata": {},
   "source": [
    "# 9. Consolidate observations"
   ]
  },
  {
   "cell_type": "markdown",
   "metadata": {},
   "source": [
    "## Setup"
   ]
  },
  {
   "cell_type": "code",
   "execution_count": 1,
   "metadata": {},
   "outputs": [
    {
     "name": "stderr",
     "output_type": "stream",
     "text": [
      "Registered S3 methods overwritten by 'ggplot2':\n",
      "  method         from \n",
      "  [.quosures     rlang\n",
      "  c.quosures     rlang\n",
      "  print.quosures rlang\n",
      "Registered S3 method overwritten by 'rvest':\n",
      "  method            from\n",
      "  read_xml.response xml2\n",
      "── \u001b[1mAttaching packages\u001b[22m ─────────────────────────────────────── tidyverse 1.2.1 ──\n",
      "\u001b[32m✔\u001b[39m \u001b[34mggplot2\u001b[39m 3.1.1       \u001b[32m✔\u001b[39m \u001b[34mpurrr  \u001b[39m 0.3.2  \n",
      "\u001b[32m✔\u001b[39m \u001b[34mtibble \u001b[39m 2.1.1       \u001b[32m✔\u001b[39m \u001b[34mdplyr  \u001b[39m 0.8.0.\u001b[31m1\u001b[39m\n",
      "\u001b[32m✔\u001b[39m \u001b[34mtidyr  \u001b[39m 0.8.3       \u001b[32m✔\u001b[39m \u001b[34mstringr\u001b[39m 1.4.0  \n",
      "\u001b[32m✔\u001b[39m \u001b[34mreadr  \u001b[39m 1.3.1       \u001b[32m✔\u001b[39m \u001b[34mforcats\u001b[39m 0.4.0  \n",
      "── \u001b[1mConflicts\u001b[22m ────────────────────────────────────────── tidyverse_conflicts() ──\n",
      "\u001b[31m✖\u001b[39m \u001b[34mdplyr\u001b[39m::\u001b[32mfilter()\u001b[39m masks \u001b[34mstats\u001b[39m::filter()\n",
      "\u001b[31m✖\u001b[39m \u001b[34mdplyr\u001b[39m::\u001b[32mlag()\u001b[39m    masks \u001b[34mstats\u001b[39m::lag()\n"
     ]
    }
   ],
   "source": [
    "library(tidyverse)"
   ]
  },
  {
   "cell_type": "code",
   "execution_count": 2,
   "metadata": {},
   "outputs": [],
   "source": [
    "sample_file <- '../preprocessed_data/sample_2019-09-02.feather'\n",
    "company_groups_file <- '../preprocessed_data/company_groups_2019-09-02.feather'\n",
    "m_as_file <- '../preprocessed_data/m_as_2019-09-02.feather'\n",
    "pipelines_2004_file <- \"../preprocessed_data/pipelines_2004_selected_2019-08-26.feather\""
   ]
  },
  {
   "cell_type": "markdown",
   "metadata": {},
   "source": [
    "## Read data"
   ]
  },
  {
   "cell_type": "code",
   "execution_count": 3,
   "metadata": {},
   "outputs": [
    {
     "name": "stderr",
     "output_type": "stream",
     "text": [
      "Warning message:\n",
      "“Coercing int64 to double”"
     ]
    },
    {
     "name": "stdout",
     "output_type": "stream",
     "text": [
      "Observations: 1,756\n",
      "Variables: 20\n",
      "$ OPERATOR_ID           \u001b[3m\u001b[38;5;246m<chr>\u001b[39m\u001b[23m \"300\", \"300\", \"300\", \"300\", \"300\", \"300\", \"300\"…\n",
      "$ YEAR                  \u001b[3m\u001b[38;5;246m<dbl>\u001b[39m\u001b[23m 2017, 2017, 2011, 2014, 2012, 2010, 2018, 2018,…\n",
      "$ NAME                  \u001b[3m\u001b[38;5;246m<chr>\u001b[39m\u001b[23m \"PLAINS PIPELINE, L.P.\", \"PLAINS PIPELINE, L.P.…\n",
      "$ COMMODITY             \u001b[3m\u001b[38;5;246m<chr>\u001b[39m\u001b[23m \"hvl\", \"non-hvl\", \"non-hvl\", \"non-hvl\", \"non-hv…\n",
      "$ MILES                 \u001b[3m\u001b[38;5;246m<dbl>\u001b[39m\u001b[23m 72.90, 0.00, 326.80, NA, 265.17, 62.28, 29.05, …\n",
      "$ AGE_UNKNOWN_MILES     \u001b[3m\u001b[38;5;246m<dbl>\u001b[39m\u001b[23m 0.00, 0.00, 0.00, 0.00, 0.00, 0.00, 0.00, 0.00,…\n",
      "$ MILES_PRE_1940        \u001b[3m\u001b[38;5;246m<dbl>\u001b[39m\u001b[23m 0.00, 3.72, 0.00, 0.00, 0.00, 0.00, 0.00, 0.00,…\n",
      "$ MILES_1940            \u001b[3m\u001b[38;5;246m<dbl>\u001b[39m\u001b[23m 0, 0, 0, 0, 0, 0, 0, 0, 0, 0, 0, 0, 15, 15, 15,…\n",
      "$ MILES_1950            \u001b[3m\u001b[38;5;246m<dbl>\u001b[39m\u001b[23m 0.00, 0.00, 0.80, 0.00, 0.80, 244.98, 0.00, 0.0…\n",
      "$ MILES_1960            \u001b[3m\u001b[38;5;246m<dbl>\u001b[39m\u001b[23m 0.00, 0.00, 188.43, 0.00, 188.43, 4.76, 0.00, 0…\n",
      "$ MILES_1970            \u001b[3m\u001b[38;5;246m<dbl>\u001b[39m\u001b[23m 0.00, 0.00, 1.17, 0.00, 1.17, 0.00, 0.00, 0.00,…\n",
      "$ MILES_1980            \u001b[3m\u001b[38;5;246m<dbl>\u001b[39m\u001b[23m 0.00, 0.00, 4.43, 0.00, 4.43, 0.00, 0.00, 0.00,…\n",
      "$ MILES_1990            \u001b[3m\u001b[38;5;246m<dbl>\u001b[39m\u001b[23m 0.01, 0.00, 2.85, 0.00, 2.85, 2.86, 0.01, 0.00,…\n",
      "$ MILES_2000            \u001b[3m\u001b[38;5;246m<dbl>\u001b[39m\u001b[23m 0.00, 0.00, 0.35, 0.00, 0.35, 4.05, 0.00, 0.00,…\n",
      "$ MILES_2010            \u001b[3m\u001b[38;5;246m<dbl>\u001b[39m\u001b[23m 47.92, 0.00, 0.00, 0.00, 0.00, 0.00, 47.99, 0.0…\n",
      "$ PERC_OFFSHORE         \u001b[3m\u001b[38;5;246m<dbl>\u001b[39m\u001b[23m 0, 0, 0, 0, 0, 0, 0, 0, 0, 0, 0, 0, 0, 0, 0, 0,…\n",
      "$ AVG_AGE               \u001b[3m\u001b[38;5;246m<dbl>\u001b[39m\u001b[23m 5.004173, 90.000000, 54.031460, NA, 54.031460, …\n",
      "$ PARENT                \u001b[3m\u001b[38;5;246m<chr>\u001b[39m\u001b[23m \"Plains GP Holding\", \"Plains GP Holding\", \"Plai…\n",
      "$ INCIDENTS             \u001b[3m\u001b[38;5;246m<dbl>\u001b[39m\u001b[23m 0, 0, 0, 0, 1, 0, 0, 0, 0, 1, 0, 0, 0, 0, 0, 0,…\n",
      "$ SIGNIFICANT_INCIDENTS \u001b[3m\u001b[38;5;246m<dbl>\u001b[39m\u001b[23m 0, 0, 0, 0, 1, 0, 0, 0, 0, 0, 0, 0, 0, 0, 0, 0,…\n"
     ]
    }
   ],
   "source": [
    "sample <- feather::read_feather(sample_file)\n",
    "testit::assert(nrow(sample[duplicated(select(sample, YEAR, COMMODITY, OPERATOR_ID)), ]) == 0)\n",
    "glimpse(sample)"
   ]
  },
  {
   "cell_type": "code",
   "execution_count": 4,
   "metadata": {},
   "outputs": [
    {
     "name": "stdout",
     "output_type": "stream",
     "text": [
      "Observations: 97\n",
      "Variables: 2\n",
      "$ members \u001b[3m\u001b[38;5;246m<chr>\u001b[39m\u001b[23m \"31618\", \"3445\", \"30829\", \"31270\", \"22610\", \"12105\", \"31579\",…\n",
      "$ name    \u001b[3m\u001b[38;5;246m<chr>\u001b[39m\u001b[23m \"Enterprise Products (Group)\", \"Enterprise Products (Group)\",…\n"
     ]
    }
   ],
   "source": [
    "company_groups <- feather::read_feather(company_groups_file)\n",
    "glimpse(company_groups)"
   ]
  },
  {
   "cell_type": "code",
   "execution_count": 5,
   "metadata": {},
   "outputs": [
    {
     "name": "stdout",
     "output_type": "stream",
     "text": [
      "Observations: 13\n",
      "Variables: 4\n",
      "$ members    \u001b[3m\u001b[38;5;246m<chr>\u001b[39m\u001b[23m \"Sunoco (Group)\", \"32683\", \"22442\", \"Sunoco (Group)\", \"320…\n",
      "$ name       \u001b[3m\u001b[38;5;246m<chr>\u001b[39m\u001b[23m \"Sunoco (Group)\", \"Sunoco (Group)\", \"Sunoco (Group)\", \"Sun…\n",
      "$ start_year \u001b[3m\u001b[38;5;246m<chr>\u001b[39m\u001b[23m \"2011\", \"2011\", \"2011\", \"2013\", \"2013\", \"2017\", \"2017\", NA…\n",
      "$ end_year   \u001b[3m\u001b[38;5;246m<chr>\u001b[39m\u001b[23m NA, NA, NA, NA, NA, NA, NA, \"2011\", \"2011\", NA, NA, \"2017\"…\n"
     ]
    }
   ],
   "source": [
    "m_as_orig <- feather::read_feather(m_as_file)\n",
    "glimpse(m_as_orig)"
   ]
  },
  {
   "cell_type": "code",
   "execution_count": 6,
   "metadata": {},
   "outputs": [],
   "source": [
    "test <- select(sample, COMMODITY, YEAR, OPERATOR_ID)"
   ]
  },
  {
   "cell_type": "code",
   "execution_count": 7,
   "metadata": {},
   "outputs": [
    {
     "name": "stderr",
     "output_type": "stream",
     "text": [
      "Warning message:\n",
      "“Coercing int64 to double”"
     ]
    },
    {
     "name": "stdout",
     "output_type": "stream",
     "text": [
      "Observations: 2,730\n",
      "Variables: 16\n",
      "$ OPERATOR_ID    \u001b[3m\u001b[38;5;246m<chr>\u001b[39m\u001b[23m \"31336\", \"4805\", \"8175\", \"26302\", \"32147\", \"4906\", \"19…\n",
      "$ YEAR           \u001b[3m\u001b[38;5;246m<dbl>\u001b[39m\u001b[23m 2008, 2008, 2008, 2008, 2008, 2008, 2008, 2008, 2008, …\n",
      "$ NAME           \u001b[3m\u001b[38;5;246m<chr>\u001b[39m\u001b[23m \"CHEVRON U.S.A. INC\", \"EXPLORER PIPELINE CO\", \"INTERST…\n",
      "$ COMMODITY      \u001b[3m\u001b[38;5;246m<chr>\u001b[39m\u001b[23m \"CRUDE OIL\", \"PETROLEUM & REFINED PRODUCTS\", \"PETROLEU…\n",
      "$ MILES          \u001b[3m\u001b[38;5;246m<dbl>\u001b[39m\u001b[23m 6.000, 1204.110, 8.000, 13.000, 1629.158, 373.000, 40.…\n",
      "$ MILES_PRE_1940 \u001b[3m\u001b[38;5;246m<dbl>\u001b[39m\u001b[23m 0.000, 0.000, 0.000, 0.000, 26.841, 1.000, 0.000, 0.00…\n",
      "$ MILES_1940     \u001b[3m\u001b[38;5;246m<dbl>\u001b[39m\u001b[23m 0.000, 0.000, 0.000, 0.000, 119.533, 101.000, 0.000, 0…\n",
      "$ MILES_1950     \u001b[3m\u001b[38;5;246m<dbl>\u001b[39m\u001b[23m 0.000, 7.200, 0.000, 0.000, 585.263, 126.000, 0.000, 0…\n",
      "$ MILES_1960     \u001b[3m\u001b[38;5;246m<dbl>\u001b[39m\u001b[23m 10.647, 7.800, 11.600, 0.000, 107.873, 342.000, 0.000,…\n",
      "$ MILES_1970     \u001b[3m\u001b[38;5;246m<dbl>\u001b[39m\u001b[23m 0.000, 593.200, 0.000, 0.000, 243.374, 43.000, 0.000, …\n",
      "$ MILES_1980     \u001b[3m\u001b[38;5;246m<dbl>\u001b[39m\u001b[23m 0.000, 18.300, 0.000, 89.000, 91.639, 45.000, 0.000, 0…\n",
      "$ MILES_1990     \u001b[3m\u001b[38;5;246m<dbl>\u001b[39m\u001b[23m 0.000, 20.800, 0.000, 0.000, 110.908, 42.000, 0.000, 0…\n",
      "$ MILES_2000     \u001b[3m\u001b[38;5;246m<dbl>\u001b[39m\u001b[23m 0.000, 0.900, 0.000, 0.000, 238.848, 9.000, 0.000, 34.…\n",
      "$ MILES_2010     \u001b[3m\u001b[38;5;246m<dbl>\u001b[39m\u001b[23m 0, 0, 0, 0, 0, 0, 0, 0, 0, 0, 0, 0, 0, 0, 0, 0, 0, 0, …\n",
      "$ AVG_AGE        \u001b[3m\u001b[38;5;246m<dbl>\u001b[39m\u001b[23m 55.00000, 44.37674, 55.00000, 35.00000, 49.77461, 55.5…\n",
      "$ PERC_OFFSHORE  \u001b[3m\u001b[38;5;246m<dbl>\u001b[39m\u001b[23m 0.74064626, 0.00000000, 0.00000000, 0.00000000, 0.0000…\n"
     ]
    }
   ],
   "source": [
    "pipelines_2004 <- feather::read_feather(pipelines_2004_file)\n",
    "glimpse(pipelines_2004)"
   ]
  },
  {
   "cell_type": "markdown",
   "metadata": {},
   "source": [
    "## 9.1 Add two years of data for crude, non-HVL and HVL."
   ]
  },
  {
   "cell_type": "markdown",
   "metadata": {},
   "source": [
    "Adding the data for crude the years 2008/2009 offers us a relatively easy way to expand our sample. We cannot go any further, as definition of incidents was change, 2008/2009 can still be used to calculate the three years average that we use to calculate the impact of change on the incidents rates for the observation 2010-2012."
   ]
  },
  {
   "cell_type": "code",
   "execution_count": 8,
   "metadata": {},
   "outputs": [
    {
     "data": {
      "text/plain": [
       "\n",
       "CO2 OR OTHER        crude          hvl      non-hvl \n",
       "         168          823          863          876 "
      ]
     },
     "metadata": {},
     "output_type": "display_data"
    }
   ],
   "source": [
    "pipelines_2004$COMMODITY <- fct_recode(pipelines_2004$COMMODITY, \n",
    "                                       \"crude\" = \"CRUDE OIL\", \"hvl\" = \"HVLS\", \"non-hvl\" = \"PETROLEUM & REFINED PRODUCTS\")\n",
    "table(pipelines_2004$COMMODITY)"
   ]
  },
  {
   "cell_type": "code",
   "execution_count": 9,
   "metadata": {},
   "outputs": [
    {
     "name": "stdout",
     "output_type": "stream",
     "text": [
      "Observations: 336\n",
      "Variables: 16\n",
      "$ OPERATOR_ID    \u001b[3m\u001b[38;5;246m<chr>\u001b[39m\u001b[23m \"4805\", \"32147\", \"4906\", \"26041\", \"31618\", \"30755\", \"3…\n",
      "$ YEAR           \u001b[3m\u001b[38;5;246m<dbl>\u001b[39m\u001b[23m 2008, 2008, 2008, 2008, 2008, 2008, 2008, 2008, 2008, …\n",
      "$ NAME           \u001b[3m\u001b[38;5;246m<chr>\u001b[39m\u001b[23m \"EXPLORER PIPELINE CO\", \"MARATHON PIPE LINE LLC\", \"EXX…\n",
      "$ COMMODITY      \u001b[3m\u001b[38;5;246m<fct>\u001b[39m\u001b[23m non-hvl, non-hvl, non-hvl, non-hvl, hvl, hvl, hvl, hvl…\n",
      "$ MILES          \u001b[3m\u001b[38;5;246m<dbl>\u001b[39m\u001b[23m 1204.110, 1629.158, 373.000, 2.000, 3346.770, 109.895,…\n",
      "$ MILES_PRE_1940 \u001b[3m\u001b[38;5;246m<dbl>\u001b[39m\u001b[23m 0.000, 26.841, 1.000, 0.000, 24.131, 0.000, 0.000, 0.0…\n",
      "$ MILES_1940     \u001b[3m\u001b[38;5;246m<dbl>\u001b[39m\u001b[23m 0.000, 119.533, 101.000, 0.000, 343.831, 0.000, 64.150…\n",
      "$ MILES_1950     \u001b[3m\u001b[38;5;246m<dbl>\u001b[39m\u001b[23m 7.200, 585.263, 126.000, 0.000, 31.950, 0.000, 33.900,…\n",
      "$ MILES_1960     \u001b[3m\u001b[38;5;246m<dbl>\u001b[39m\u001b[23m 7.800, 107.873, 342.000, 0.000, 3267.673, 0.000, 0.000…\n",
      "$ MILES_1970     \u001b[3m\u001b[38;5;246m<dbl>\u001b[39m\u001b[23m 593.200, 243.374, 43.000, 0.000, 432.330, 40.515, 7.31…\n",
      "$ MILES_1980     \u001b[3m\u001b[38;5;246m<dbl>\u001b[39m\u001b[23m 18.300, 91.639, 45.000, 2.000, 411.570, 0.000, 0.000, …\n",
      "$ MILES_1990     \u001b[3m\u001b[38;5;246m<dbl>\u001b[39m\u001b[23m 20.800, 110.908, 42.000, 0.000, 518.873, 69.380, 0.000…\n",
      "$ MILES_2000     \u001b[3m\u001b[38;5;246m<dbl>\u001b[39m\u001b[23m 0.900, 238.848, 9.000, 0.000, 1082.661, 0.000, 0.000, …\n",
      "$ MILES_2010     \u001b[3m\u001b[38;5;246m<dbl>\u001b[39m\u001b[23m 0, 0, 0, 0, 0, 0, 0, 0, 0, 0, 0, 0, 0, 0, 0, 0, 0, 0, …\n",
      "$ AVG_AGE        \u001b[3m\u001b[38;5;246m<dbl>\u001b[39m\u001b[23m 44.37674, 49.77461, 55.51481, 35.00000, 44.63088, 32.3…\n",
      "$ PERC_OFFSHORE  \u001b[3m\u001b[38;5;246m<dbl>\u001b[39m\u001b[23m 0, 0, 0, 0, 0, 0, 0, 0, 0, 0, 0, 0, 0, 0, 0, 0, 0, 0, …\n"
     ]
    }
   ],
   "source": [
    "commodity_operator_pairs <- unite(sample, OPERATOR_ID, COMMODITY, col=\"pairs\", sep=\"\")$pairs\n",
    "pipelines_2008 <- pipelines_2004 %>%\n",
    "    filter(YEAR >= 2008) %>%\n",
    "    unite(OPERATOR_ID, COMMODITY, col=\"pairs\", sep=\"\", remove=FALSE) %>%\n",
    "    filter(pairs %in% commodity_operator_pairs) %>%\n",
    "    select(-c(\"pairs\"))\n",
    "\n",
    "glimpse(pipelines_2008)"
   ]
  },
  {
   "cell_type": "code",
   "execution_count": 10,
   "metadata": {},
   "outputs": [
    {
     "data": {
      "text/plain": [
       "\n",
       "  0 \n",
       "336 "
      ]
     },
     "metadata": {},
     "output_type": "display_data"
    }
   ],
   "source": [
    "pipelines_2008 %>%\n",
    "    mutate(PERC_OFFSHORE = round(PERC_OFFSHORE, 2)) %>%\n",
    "    {table(.$PERC_OFFSHORE)}"
   ]
  },
  {
   "cell_type": "markdown",
   "metadata": {},
   "source": [
    "### 9.1.1 Consolidate observations"
   ]
  },
  {
   "cell_type": "markdown",
   "metadata": {},
   "source": [
    "Before 2010, business units were sometimes reported separately, within the same OPERATOR ID. We consolidate those at the OPERATOR ID level."
   ]
  },
  {
   "cell_type": "code",
   "execution_count": 11,
   "metadata": {},
   "outputs": [],
   "source": [
    "pipelines_2008 <- pipelines_2008 %>%\n",
    "    group_by(OPERATOR_ID, YEAR, COMMODITY) %>%\n",
    "    summarize(NAME = first(NAME),\n",
    "              MILES = sum(MILES), \n",
    "              MILES_PRE_1940 = sum(MILES_PRE_1940), \n",
    "              MILES_1940 = sum(MILES_1940), \n",
    "              MILES_1950 = sum(MILES_1950), \n",
    "              MILES_1960 = sum(MILES_1960), \n",
    "              MILES_1970 = sum(MILES_1970), \n",
    "              MILES_1980 = sum(MILES_1980), \n",
    "              MILES_1990 = sum(MILES_1990), \n",
    "              MILES_2000 = sum(MILES_2000), \n",
    "              MILES_2010 = sum(MILES_2010)) %>%\n",
    "    ungroup()"
   ]
  },
  {
   "cell_type": "code",
   "execution_count": 12,
   "metadata": {},
   "outputs": [],
   "source": [
    "pipelines_2008$AVG_AGE = (pipelines_2008$MILES_PRE_1940 * 90 +\n",
    "                          pipelines_2008$MILES_1940 * 75 +\n",
    "                          pipelines_2008$MILES_1950 * 65 +\n",
    "                          pipelines_2008$MILES_1960 * 55 +\n",
    "                          pipelines_2008$MILES_1970 * 45 +\n",
    "                          pipelines_2008$MILES_1980 * 35 +\n",
    "                          pipelines_2008$MILES_1990 * 25 +\n",
    "                          pipelines_2008$MILES_2000 * 15 +\n",
    "                          pipelines_2008$MILES_2010 * 5) / \n",
    "                         (pipelines_2008$MILES_PRE_1940 + \n",
    "                          pipelines_2008$MILES_1940 + \n",
    "                          pipelines_2008$MILES_1950 + \n",
    "                          pipelines_2008$MILES_1960 + \n",
    "                          pipelines_2008$MILES_1970 + \n",
    "                          pipelines_2008$MILES_1980 + \n",
    "                          pipelines_2008$MILES_1990 + \n",
    "                          pipelines_2008$MILES_2000 + \n",
    "                          pipelines_2008$MILES_2010)"
   ]
  },
  {
   "cell_type": "markdown",
   "metadata": {},
   "source": [
    "### 9.1.2 Merge"
   ]
  },
  {
   "cell_type": "code",
   "execution_count": 13,
   "metadata": {},
   "outputs": [
    {
     "data": {
      "text/html": [
       "<ol class=list-inline>\n",
       "\t<li>'AGE_UNKNOWN_MILES'</li>\n",
       "\t<li>'PERC_OFFSHORE'</li>\n",
       "\t<li>'PARENT'</li>\n",
       "\t<li>'INCIDENTS'</li>\n",
       "\t<li>'SIGNIFICANT_INCIDENTS'</li>\n",
       "</ol>\n"
      ],
      "text/latex": [
       "\\begin{enumerate*}\n",
       "\\item 'AGE\\_UNKNOWN\\_MILES'\n",
       "\\item 'PERC\\_OFFSHORE'\n",
       "\\item 'PARENT'\n",
       "\\item 'INCIDENTS'\n",
       "\\item 'SIGNIFICANT\\_INCIDENTS'\n",
       "\\end{enumerate*}\n"
      ],
      "text/markdown": [
       "1. 'AGE_UNKNOWN_MILES'\n",
       "2. 'PERC_OFFSHORE'\n",
       "3. 'PARENT'\n",
       "4. 'INCIDENTS'\n",
       "5. 'SIGNIFICANT_INCIDENTS'\n",
       "\n",
       "\n"
      ],
      "text/plain": [
       "[1] \"AGE_UNKNOWN_MILES\"     \"PERC_OFFSHORE\"         \"PARENT\"               \n",
       "[4] \"INCIDENTS\"             \"SIGNIFICANT_INCIDENTS\""
      ]
     },
     "metadata": {},
     "output_type": "display_data"
    }
   ],
   "source": [
    "colnames(sample) [!(colnames(sample) %in% colnames(pipelines_2008))]"
   ]
  },
  {
   "cell_type": "code",
   "execution_count": 14,
   "metadata": {},
   "outputs": [],
   "source": [
    "pipelines_2008$AGE_UNKNOWN_MILES <- NA\n",
    "pipelines_2008$PERC_OFFSHORE <- NA\n",
    "pipelines_2008$PARENT <- NA\n",
    "pipelines_2008$INCIDENTS <- NA\n",
    "pipelines_2008$SIGNIFICANT_INCIDENTS <- NA"
   ]
  },
  {
   "cell_type": "code",
   "execution_count": 15,
   "metadata": {},
   "outputs": [],
   "source": [
    "testit::assert(nrow(subset(pipelines_2008, YEAR == 2008)) > 0)\n",
    "sample <- rbind(sample, pipelines_2008)"
   ]
  },
  {
   "cell_type": "markdown",
   "metadata": {},
   "source": [
    "## 9.2 Calculate change"
   ]
  },
  {
   "cell_type": "code",
   "execution_count": 16,
   "metadata": {},
   "outputs": [
    {
     "name": "stdout",
     "output_type": "stream",
     "text": [
      "Observations: 1,580\n",
      "Variables: 21\n",
      "Groups: OPERATOR_ID, COMMODITY [242]\n",
      "$ OPERATOR_ID           \u001b[3m\u001b[38;5;246m<chr>\u001b[39m\u001b[23m \"300\", \"395\", \"473\", \"473\", \"473\", \"994\", \"1248…\n",
      "$ YEAR                  \u001b[3m\u001b[38;5;246m<dbl>\u001b[39m\u001b[23m 2011, 2011, 2011, 2011, 2011, 2011, 2011, 2011,…\n",
      "$ NAME                  \u001b[3m\u001b[38;5;246m<chr>\u001b[39m\u001b[23m \"PLAINS PIPELINE, L.P.\", \"AMOCO OIL CO\", \"ANADA…\n",
      "$ COMMODITY             \u001b[3m\u001b[38;5;246m<chr>\u001b[39m\u001b[23m \"non-hvl\", \"non-hvl\", \"co2\", \"crude\", \"hvl\", \"h…\n",
      "$ MILES                 \u001b[3m\u001b[38;5;246m<dbl>\u001b[39m\u001b[23m 326.800, 527.000, NA, 12.000, NA, 121.400, 126.…\n",
      "$ AGE_UNKNOWN_MILES     \u001b[3m\u001b[38;5;246m<dbl>\u001b[39m\u001b[23m 0.000, 0.000, 0.000, 0.000, 0.000, 0.000, 0.000…\n",
      "$ MILES_PRE_1940        \u001b[3m\u001b[38;5;246m<dbl>\u001b[39m\u001b[23m 0, 0, 0, 0, 0, 0, 0, 0, 0, 0, 0, 0, 0, 0, 0, 0,…\n",
      "$ MILES_1940            \u001b[3m\u001b[38;5;246m<dbl>\u001b[39m\u001b[23m 0.0, 15.0, 0.0, 0.0, 0.0, 0.0, 0.0, 0.0, 0.0, 8…\n",
      "$ MILES_1950            \u001b[3m\u001b[38;5;246m<dbl>\u001b[39m\u001b[23m 0.800, 0.000, 0.000, 0.000, 0.000, 0.000, 0.000…\n",
      "$ MILES_1960            \u001b[3m\u001b[38;5;246m<dbl>\u001b[39m\u001b[23m 188.430, 1.000, 0.000, 43.000, 0.000, 121.000, …\n",
      "$ MILES_1970            \u001b[3m\u001b[38;5;246m<dbl>\u001b[39m\u001b[23m 1.170, 2.000, 0.000, 16.000, 0.000, 1.000, 189.…\n",
      "$ MILES_1980            \u001b[3m\u001b[38;5;246m<dbl>\u001b[39m\u001b[23m 4.430, 17.000, 0.000, 0.000, 2.000, 1.000, 49.0…\n",
      "$ MILES_1990            \u001b[3m\u001b[38;5;246m<dbl>\u001b[39m\u001b[23m 2.850, 58.000, 0.000, 0.000, 47.000, 0.000, 19.…\n",
      "$ MILES_2000            \u001b[3m\u001b[38;5;246m<dbl>\u001b[39m\u001b[23m 0.350, 2.000, 155.000, 0.000, 16.800, 0.000, 31…\n",
      "$ MILES_2010            \u001b[3m\u001b[38;5;246m<dbl>\u001b[39m\u001b[23m 0.000, 0.000, 0.000, 28.000, 0.000, 0.000, 0.00…\n",
      "$ PERC_OFFSHORE         \u001b[3m\u001b[38;5;246m<dbl>\u001b[39m\u001b[23m 0, 0, 0, 0, 0, 0, 0, 0, 0, 0, 0, 0, 0, 0, 0, 0,…\n",
      "$ AVG_AGE               \u001b[3m\u001b[38;5;246m<dbl>\u001b[39m\u001b[23m 54.03146, 35.21053, 15.00000, 37.06897, 22.7507…\n",
      "$ PARENT                \u001b[3m\u001b[38;5;246m<chr>\u001b[39m\u001b[23m \"Plains GP Holding\", \"Amoco\", \"Anadarko Petrole…\n",
      "$ INCIDENTS             \u001b[3m\u001b[38;5;246m<dbl>\u001b[39m\u001b[23m 0, 0, 0, 0, 0, 0, 4, 1, 0, 14, 0, 1, 12, 0, 0, …\n",
      "$ SIGNIFICANT_INCIDENTS \u001b[3m\u001b[38;5;246m<dbl>\u001b[39m\u001b[23m 0, 0, 0, 0, 0, 0, 3, 1, 0, 7, 0, 1, 2, 0, 0, 0,…\n",
      "$ CHANGE                \u001b[3m\u001b[38;5;246m<dbl>\u001b[39m\u001b[23m 264.520, -202.000, NA, 0.000, NA, NA, -3.000, N…\n"
     ]
    }
   ],
   "source": [
    "sample <- sample %>%\n",
    "    group_by(OPERATOR_ID, COMMODITY) %>%\n",
    "    arrange(YEAR) %>%\n",
    "    mutate(CHANGE = MILES - lag(MILES, 1))\n",
    "glimpse(subset(sample, YEAR > 2010))"
   ]
  },
  {
   "cell_type": "markdown",
   "metadata": {},
   "source": [
    "## 9.3 Consolidate observations"
   ]
  },
  {
   "cell_type": "markdown",
   "metadata": {},
   "source": [
    "### 9.3.1 Company groups"
   ]
  },
  {
   "cell_type": "code",
   "execution_count": 17,
   "metadata": {},
   "outputs": [
    {
     "name": "stdout",
     "output_type": "stream",
     "text": [
      "Observations: 1,356\n",
      "Variables: 22\n",
      "Groups: OPERATOR_ID, COMMODITY [162]\n",
      "$ OPERATOR_ID           \u001b[3m\u001b[38;5;246m<chr>\u001b[39m\u001b[23m \"10012\", \"10012\", \"11169\", \"11169\", \"11551\", \"1…\n",
      "$ YEAR                  \u001b[3m\u001b[38;5;246m<dbl>\u001b[39m\u001b[23m 2008, 2008, 2008, 2008, 2008, 2008, 2008, 2008,…\n",
      "$ NAME                  \u001b[3m\u001b[38;5;246m<chr>\u001b[39m\u001b[23m \"NUSTAR PIPELINE OPERATING PARTNERSHIP L.P.\", \"…\n",
      "$ COMMODITY             \u001b[3m\u001b[38;5;246m<chr>\u001b[39m\u001b[23m \"hvl\", \"non-hvl\", \"crude\", \"hvl\", \"crude\", \"non…\n",
      "$ MILES                 \u001b[3m\u001b[38;5;246m<dbl>\u001b[39m\u001b[23m 1441.630, 477.590, 1030.000, 118.000, 85.300, 1…\n",
      "$ AGE_UNKNOWN_MILES     \u001b[3m\u001b[38;5;246m<dbl>\u001b[39m\u001b[23m NA, NA, NA, NA, NA, NA, NA, NA, NA, NA, NA, NA,…\n",
      "$ MILES_PRE_1940        \u001b[3m\u001b[38;5;246m<dbl>\u001b[39m\u001b[23m 0.0, 0.0, 0.0, 0.0, 219.0, 11.0, 0.0, 0.0, 0.0,…\n",
      "$ MILES_1940            \u001b[3m\u001b[38;5;246m<dbl>\u001b[39m\u001b[23m 0.000, 0.578, 0.000, 0.000, 0.000, 0.000, 0.000…\n",
      "$ MILES_1950            \u001b[3m\u001b[38;5;246m<dbl>\u001b[39m\u001b[23m 131.445, 29.452, 0.000, 0.000, 21.000, 0.000, 0…\n",
      "$ MILES_1960            \u001b[3m\u001b[38;5;246m<dbl>\u001b[39m\u001b[23m 0.000, 399.006, 2.000, 0.000, 0.000, 0.000, 673…\n",
      "$ MILES_1970            \u001b[3m\u001b[38;5;246m<dbl>\u001b[39m\u001b[23m 0.000, 36.655, 4.000, 0.000, 3.000, 8.000, 404.…\n",
      "$ MILES_1980            \u001b[3m\u001b[38;5;246m<dbl>\u001b[39m\u001b[23m 0.831, 128.756, 1.000, 0.000, 0.000, 0.000, 0.0…\n",
      "$ MILES_1990            \u001b[3m\u001b[38;5;246m<dbl>\u001b[39m\u001b[23m 18.940, 17.201, 473.000, 136.000, 4.500, 0.000,…\n",
      "$ MILES_2000            \u001b[3m\u001b[38;5;246m<dbl>\u001b[39m\u001b[23m 9.106, 27.525, 162.000, 0.000, 96.500, 8.500, 0…\n",
      "$ MILES_2010            \u001b[3m\u001b[38;5;246m<dbl>\u001b[39m\u001b[23m 0, 0, 0, 0, 0, 0, 0, 0, 0, 0, 0, 0, 0, 0, 0, 0,…\n",
      "$ PERC_OFFSHORE         \u001b[3m\u001b[38;5;246m<dbl>\u001b[39m\u001b[23m NA, NA, NA, NA, NA, NA, NA, NA, NA, NA, NA, NA,…\n",
      "$ AVG_AGE               \u001b[3m\u001b[38;5;246m<dbl>\u001b[39m\u001b[23m 57.27910, 48.34668, 22.71028, 25.00000, 66.1918…\n",
      "$ PARENT                \u001b[3m\u001b[38;5;246m<chr>\u001b[39m\u001b[23m NA, NA, NA, NA, NA, NA, NA, NA, NA, NA, NA, NA,…\n",
      "$ INCIDENTS             \u001b[3m\u001b[38;5;246m<dbl>\u001b[39m\u001b[23m NA, NA, NA, NA, NA, NA, NA, NA, NA, NA, NA, NA,…\n",
      "$ SIGNIFICANT_INCIDENTS \u001b[3m\u001b[38;5;246m<dbl>\u001b[39m\u001b[23m NA, NA, NA, NA, NA, NA, NA, NA, NA, NA, NA, NA,…\n",
      "$ CHANGE                \u001b[3m\u001b[38;5;246m<dbl>\u001b[39m\u001b[23m NA, NA, NA, NA, NA, NA, NA, NA, NA, NA, NA, NA,…\n",
      "$ new_name              \u001b[3m\u001b[38;5;246m<chr>\u001b[39m\u001b[23m \"NuStar\", \"NuStar\", \"Enbridge (Group)\", \"Enbrid…\n"
     ]
    }
   ],
   "source": [
    "company_groups <- rename(company_groups, new_name = name)\n",
    "sample <- left_join(sample, company_groups, by=c('OPERATOR_ID' = 'members'))\n",
    "testit::assert(nrow(sample[duplicated(select(sample, YEAR, COMMODITY, OPERATOR_ID)), ]) == 0)\n",
    "glimpse(subset(sample, !is.na(sample$new_name)))"
   ]
  },
  {
   "cell_type": "code",
   "execution_count": 18,
   "metadata": {},
   "outputs": [
    {
     "data": {
      "text/html": [
       "40"
      ],
      "text/latex": [
       "40"
      ],
      "text/markdown": [
       "40"
      ],
      "text/plain": [
       "[1] 40"
      ]
     },
     "metadata": {},
     "output_type": "display_data"
    }
   ],
   "source": [
    "nrow(sample[is.na(sample$MILES), ])"
   ]
  },
  {
   "cell_type": "code",
   "execution_count": 19,
   "metadata": {},
   "outputs": [
    {
     "name": "stdout",
     "output_type": "stream",
     "text": [
      "Observations: 739\n",
      "Variables: 20\n",
      "$ new_name              \u001b[3m\u001b[38;5;246m<chr>\u001b[39m\u001b[23m \"BKEP (Group)\", \"BKEP (Group)\", \"BKEP (Group)\",…\n",
      "$ YEAR                  \u001b[3m\u001b[38;5;246m<dbl>\u001b[39m\u001b[23m 2009, 2010, 2011, 2012, 2013, 2014, 2015, 2016,…\n",
      "$ COMMODITY             \u001b[3m\u001b[38;5;246m<chr>\u001b[39m\u001b[23m \"crude\", \"crude\", \"crude\", \"crude\", \"crude\", \"c…\n",
      "$ OPERATOR_ID           \u001b[3m\u001b[38;5;246m<chr>\u001b[39m\u001b[23m \"BKEP (Group)\", \"BKEP (Group)\", \"BKEP (Group)\",…\n",
      "$ NAME                  \u001b[3m\u001b[38;5;246m<chr>\u001b[39m\u001b[23m \"BKEP (Group)\", \"BKEP (Group)\", \"BKEP (Group)\",…\n",
      "$ MILES                 \u001b[3m\u001b[38;5;246m<dbl>\u001b[39m\u001b[23m 90.00, 141.54, 141.54, 196.27, 217.20, 270.10, …\n",
      "$ AGE_UNKNOWN_MILES     \u001b[3m\u001b[38;5;246m<dbl>\u001b[39m\u001b[23m 0.00, 39.23, 39.23, 39.28, 39.70, 0.00, 67.50, …\n",
      "$ MILES_PRE_1940        \u001b[3m\u001b[38;5;246m<dbl>\u001b[39m\u001b[23m 8.00, 0.00, 0.00, 0.00, 0.00, 27.40, 27.40, 27.…\n",
      "$ MILES_1940            \u001b[3m\u001b[38;5;246m<dbl>\u001b[39m\u001b[23m 5.00, 6.98, 6.98, 6.97, 55.20, 55.20, 55.20, 56…\n",
      "$ MILES_1950            \u001b[3m\u001b[38;5;246m<dbl>\u001b[39m\u001b[23m 1.000, 3.140, 3.140, 3.140, 3.100, 3.200, 3.200…\n",
      "$ MILES_1960            \u001b[3m\u001b[38;5;246m<dbl>\u001b[39m\u001b[23m 2.00, 2.81, 2.81, 2.81, 0.80, 0.80, 0.80, 1.30,…\n",
      "$ MILES_1970            \u001b[3m\u001b[38;5;246m<dbl>\u001b[39m\u001b[23m 6.00, 11.36, 11.36, 11.68, 9.10, 10.60, 10.60, …\n",
      "$ MILES_1980            \u001b[3m\u001b[38;5;246m<dbl>\u001b[39m\u001b[23m 1.00, 0.55, 0.55, 0.58, 0.60, 0.60, 0.60, 0.70,…\n",
      "$ MILES_1990            \u001b[3m\u001b[38;5;246m<dbl>\u001b[39m\u001b[23m 6.00, 19.06, 19.06, 19.63, 18.60, 17.80, 17.80,…\n",
      "$ MILES_2000            \u001b[3m\u001b[38;5;246m<dbl>\u001b[39m\u001b[23m 4.00, 6.35, 6.35, 6.76, 6.90, 7.10, 7.10, 7.20,…\n",
      "$ MILES_2010            \u001b[3m\u001b[38;5;246m<dbl>\u001b[39m\u001b[23m 0.00, 8.75, 8.75, 19.16, 142.00, 175.00, 134.40…\n",
      "$ PARENT                \u001b[3m\u001b[38;5;246m<chr>\u001b[39m\u001b[23m NA, \"Blueknight Energy Partners\", \"Blueknight E…\n",
      "$ INCIDENTS             \u001b[3m\u001b[38;5;246m<dbl>\u001b[39m\u001b[23m 0, 0, 0, 2, 0, 6, 1, 0, 0, 2, 0, 2, 0, 0, 0, 0,…\n",
      "$ SIGNIFICANT_INCIDENTS \u001b[3m\u001b[38;5;246m<dbl>\u001b[39m\u001b[23m 0, 0, 0, 0, 0, 1, 1, 0, 0, 1, 0, 1, 0, 0, 0, 0,…\n",
      "$ GROUP                 \u001b[3m\u001b[38;5;246m<chr>\u001b[39m\u001b[23m \"group\", \"group\", \"group\", \"group\", \"group\", \"g…\n"
     ]
    }
   ],
   "source": [
    "sample_no_group <- subset(sample, is.na(sample$new_name))\n",
    "sample_group <- subset(sample, !is.na(sample$new_name))\n",
    "\n",
    "sample_group <- sample_group %>%\n",
    "    group_by(new_name, YEAR, COMMODITY) %>%\n",
    "    summarize(OPERATOR_ID = first(new_name), \n",
    "              NAME              = first(new_name),\n",
    "              MILES             = sum(MILES, na.rm=TRUE), \n",
    "              AGE_UNKNOWN_MILES = sum(AGE_UNKNOWN_MILES, na.rm=TRUE), \n",
    "              MILES_PRE_1940    = sum(MILES_PRE_1940, na.rm=TRUE), \n",
    "              MILES_1940      = sum(MILES_1940, na.rm=TRUE),\n",
    "              MILES_1950      = sum(MILES_1950, na.rm=TRUE),\n",
    "              MILES_1960      = sum(MILES_1960, na.rm=TRUE),\n",
    "              MILES_1970      = sum(MILES_1970, na.rm=TRUE),\n",
    "              MILES_1980      = sum(MILES_1980, na.rm=TRUE),\n",
    "              MILES_1990      = sum(MILES_1990, na.rm=TRUE),\n",
    "              MILES_2000      = sum(MILES_2000, na.rm=TRUE),\n",
    "              MILES_2010      = sum(MILES_2010, na.rm=TRUE),\n",
    "              PARENT            = first(PARENT), \n",
    "              INCIDENTS         = sum(INCIDENTS, na.rm=TRUE), \n",
    "              SIGNIFICANT_INCIDENTS = sum(SIGNIFICANT_INCIDENTS, na.rm=TRUE), \n",
    "              GROUP = 'group') %>%\n",
    "    # We calculate the avg age and change once all groupings (including M&As below), are taken care of\n",
    "    ungroup()\n",
    "\n",
    "glimpse(sample_group)"
   ]
  },
  {
   "cell_type": "code",
   "execution_count": 20,
   "metadata": {},
   "outputs": [
    {
     "name": "stdout",
     "output_type": "stream",
     "text": [
      "Observations: 10\n",
      "Variables: 22\n",
      "$ YEAR                  \u001b[3m\u001b[38;5;246m<dbl>\u001b[39m\u001b[23m 2018, 2012, 2013, 2008, 2017, 2012, 2012, 2010,…\n",
      "$ COMMODITY             \u001b[3m\u001b[38;5;246m<chr>\u001b[39m\u001b[23m \"co2\", \"crude\", \"crude\", \"crude\", \"hvl\", \"non-h…\n",
      "$ OPERATOR_ID           \u001b[3m\u001b[38;5;246m<chr>\u001b[39m\u001b[23m \"Occidental Petroleum (Group)\", \"Phillips 66 (G…\n",
      "$ NAME                  \u001b[3m\u001b[38;5;246m<chr>\u001b[39m\u001b[23m \"Occidental Petroleum (Group)\", \"Phillips 66 (G…\n",
      "$ MILES                 \u001b[3m\u001b[38;5;246m<dbl>\u001b[39m\u001b[23m 217.50, 1120.93, 1025.40, 145.00, 32.74, 271.44…\n",
      "$ AGE_UNKNOWN_MILES     \u001b[3m\u001b[38;5;246m<dbl>\u001b[39m\u001b[23m 0.00, 454.01, 126.00, 0.00, 0.00, 0.00, 0.00, 9…\n",
      "$ MILES_PRE_1940        \u001b[3m\u001b[38;5;246m<dbl>\u001b[39m\u001b[23m 0.0, 0.0, 0.0, 54.5, 0.0, 0.0, 0.0, 0.0, 0.0, 0…\n",
      "$ MILES_1940            \u001b[3m\u001b[38;5;246m<dbl>\u001b[39m\u001b[23m 0.00, 518.92, 440.00, 10.90, 0.00, 0.00, 0.00, …\n",
      "$ MILES_1950            \u001b[3m\u001b[38;5;246m<dbl>\u001b[39m\u001b[23m 0.00, 745.66, 209.00, 0.00, 0.00, 0.80, 84.56, …\n",
      "$ MILES_1960            \u001b[3m\u001b[38;5;246m<dbl>\u001b[39m\u001b[23m 0.00, 627.97, 36.20, 0.00, 0.00, 188.43, 46.37,…\n",
      "$ MILES_1970            \u001b[3m\u001b[38;5;246m<dbl>\u001b[39m\u001b[23m 0.00, 57.70, 127.10, 0.00, 0.00, 4.95, 0.00, 0.…\n",
      "$ MILES_1980            \u001b[3m\u001b[38;5;246m<dbl>\u001b[39m\u001b[23m 646.83, 40.66, 82.00, 18.90, 0.00, 4.43, 32.58,…\n",
      "$ MILES_1990            \u001b[3m\u001b[38;5;246m<dbl>\u001b[39m\u001b[23m 299.36, 198.88, 139.90, 19.90, 16.28, 5.34, 19.…\n",
      "$ MILES_2000            \u001b[3m\u001b[38;5;246m<dbl>\u001b[39m\u001b[23m 83.39, 51.73, 68.10, 13.80, 16.28, 0.35, 2.09, …\n",
      "$ MILES_2010            \u001b[3m\u001b[38;5;246m<dbl>\u001b[39m\u001b[23m 23.83, 2.89, 0.00, 0.00, 0.18, 0.00, 30.57, 0.0…\n",
      "$ PARENT                \u001b[3m\u001b[38;5;246m<chr>\u001b[39m\u001b[23m \"Occidental Petroleum\", \"Phillips 66\", \"Exxon M…\n",
      "$ INCIDENTS             \u001b[3m\u001b[38;5;246m<dbl>\u001b[39m\u001b[23m 0, 10, 4, 0, 0, 1, 1, 4, 0, 2\n",
      "$ SIGNIFICANT_INCIDENTS \u001b[3m\u001b[38;5;246m<dbl>\u001b[39m\u001b[23m 0, 3, 2, 0, 0, 1, 1, 1, 0, 0\n",
      "$ GROUP                 \u001b[3m\u001b[38;5;246m<chr>\u001b[39m\u001b[23m \"group\", \"group\", \"group\", \"group\", \"not group\"…\n",
      "$ PERC_OFFSHORE         \u001b[3m\u001b[38;5;246m<dbl>\u001b[39m\u001b[23m NA, NA, NA, NA, 0, NA, NA, 0, NA, NA\n",
      "$ AVG_AGE               \u001b[3m\u001b[38;5;246m<dbl>\u001b[39m\u001b[23m NA, NA, NA, NA, 19.91753, NA, NA, 60.84785, NA,…\n",
      "$ CHANGE                \u001b[3m\u001b[38;5;246m<dbl>\u001b[39m\u001b[23m NA, NA, NA, NA, 0.00, NA, NA, 153.25, NA, NA\n"
     ]
    }
   ],
   "source": [
    "sample_no_group$GROUP = \"not group\"\n",
    "\n",
    "sample <- bind_rows(sample_group, sample_no_group)\n",
    "sample <- sample[ , (names(sample) != \"new_name\")]\n",
    "testit::assert(nrow(sample[duplicated(select(sample, YEAR, COMMODITY, OPERATOR_ID)), ]) == 0)\n",
    "glimpse(sample_n(sample, 10))"
   ]
  },
  {
   "cell_type": "code",
   "execution_count": 21,
   "metadata": {},
   "outputs": [
    {
     "data": {
      "text/plain": [
       "\n",
       "    group not group \n",
       "      739       715 "
      ]
     },
     "metadata": {},
     "output_type": "display_data"
    }
   ],
   "source": [
    "testit::assert(nrow(subset(sample, YEAR == 2008)) > 0)\n",
    "table(sample$GROUP)"
   ]
  },
  {
   "cell_type": "markdown",
   "metadata": {},
   "source": [
    "### 9.3.2 M&As"
   ]
  },
  {
   "cell_type": "code",
   "execution_count": 22,
   "metadata": {},
   "outputs": [
    {
     "name": "stdout",
     "output_type": "stream",
     "text": [
      "Observations: 60\n",
      "Variables: 4\n",
      "$ members  \u001b[3m\u001b[38;5;246m<chr>\u001b[39m\u001b[23m \"32288\", \"31476\", \"SemGroup (Group)\", \"Glass Mountain (Group…\n",
      "$ new_name \u001b[3m\u001b[38;5;246m<chr>\u001b[39m\u001b[23m \"SemGroup (Group)\", \"SemGroup (Group)\", \"SemGroup (Group)\", …\n",
      "$ year     \u001b[3m\u001b[38;5;246m<dbl>\u001b[39m\u001b[23m 2009, 2009, 2009, 2009, 2010, 2010, 2010, 2010, 2011, 2011, …\n",
      "$ m_a      \u001b[3m\u001b[38;5;246m<lgl>\u001b[39m\u001b[23m TRUE, TRUE, TRUE, TRUE, TRUE, TRUE, TRUE, TRUE, TRUE, TRUE, …\n"
     ]
    }
   ],
   "source": [
    "m_as <- rename(m_as_orig, new_name = name)\n",
    "\n",
    "# We need to fill in the NA values for start and end_year with values that always match, because when logical conditions encounter NAs\n",
    "# they will always be wrong. The filtering in those cases happens because the new_name column is NA.\n",
    "m_as[is.na(m_as$start_year), ]$start_year <- -9999\n",
    "m_as[is.na(m_as$end_year), ]$end_year <- 9999\n",
    "\n",
    "years = data.frame(year = unique(sample$YEAR))\n",
    "m_as <- merge(m_as, years)\n",
    "m_as <- m_as %>%\n",
    "    filter(year >= start_year & year < end_year) %>%\n",
    "    select(members, new_name, year) %>%\n",
    "    distinct()\n",
    "m_as$m_a = TRUE\n",
    "\n",
    "glimpse(m_as)"
   ]
  },
  {
   "cell_type": "code",
   "execution_count": 23,
   "metadata": {},
   "outputs": [
    {
     "name": "stdout",
     "output_type": "stream",
     "text": [
      "Observations: 1,454\n",
      "Variables: 24\n",
      "$ YEAR                  \u001b[3m\u001b[38;5;246m<dbl>\u001b[39m\u001b[23m 2009, 2010, 2011, 2012, 2013, 2014, 2015, 2016,…\n",
      "$ COMMODITY             \u001b[3m\u001b[38;5;246m<chr>\u001b[39m\u001b[23m \"crude\", \"crude\", \"crude\", \"crude\", \"crude\", \"c…\n",
      "$ OPERATOR_ID           \u001b[3m\u001b[38;5;246m<chr>\u001b[39m\u001b[23m \"BKEP (Group)\", \"BKEP (Group)\", \"BKEP (Group)\",…\n",
      "$ NAME                  \u001b[3m\u001b[38;5;246m<chr>\u001b[39m\u001b[23m \"BKEP (Group)\", \"BKEP (Group)\", \"BKEP (Group)\",…\n",
      "$ MILES                 \u001b[3m\u001b[38;5;246m<dbl>\u001b[39m\u001b[23m 90.00, 141.54, 141.54, 196.27, 217.20, 270.10, …\n",
      "$ AGE_UNKNOWN_MILES     \u001b[3m\u001b[38;5;246m<dbl>\u001b[39m\u001b[23m 0.00, 39.23, 39.23, 39.28, 39.70, 0.00, 67.50, …\n",
      "$ MILES_PRE_1940        \u001b[3m\u001b[38;5;246m<dbl>\u001b[39m\u001b[23m 8.00, 0.00, 0.00, 0.00, 0.00, 27.40, 27.40, 27.…\n",
      "$ MILES_1940            \u001b[3m\u001b[38;5;246m<dbl>\u001b[39m\u001b[23m 5.00, 6.98, 6.98, 6.97, 55.20, 55.20, 55.20, 56…\n",
      "$ MILES_1950            \u001b[3m\u001b[38;5;246m<dbl>\u001b[39m\u001b[23m 1.000, 3.140, 3.140, 3.140, 3.100, 3.200, 3.200…\n",
      "$ MILES_1960            \u001b[3m\u001b[38;5;246m<dbl>\u001b[39m\u001b[23m 2.00, 2.81, 2.81, 2.81, 0.80, 0.80, 0.80, 1.30,…\n",
      "$ MILES_1970            \u001b[3m\u001b[38;5;246m<dbl>\u001b[39m\u001b[23m 6.00, 11.36, 11.36, 11.68, 9.10, 10.60, 10.60, …\n",
      "$ MILES_1980            \u001b[3m\u001b[38;5;246m<dbl>\u001b[39m\u001b[23m 1.00, 0.55, 0.55, 0.58, 0.60, 0.60, 0.60, 0.70,…\n",
      "$ MILES_1990            \u001b[3m\u001b[38;5;246m<dbl>\u001b[39m\u001b[23m 6.00, 19.06, 19.06, 19.63, 18.60, 17.80, 17.80,…\n",
      "$ MILES_2000            \u001b[3m\u001b[38;5;246m<dbl>\u001b[39m\u001b[23m 4.00, 6.35, 6.35, 6.76, 6.90, 7.10, 7.10, 7.20,…\n",
      "$ MILES_2010            \u001b[3m\u001b[38;5;246m<dbl>\u001b[39m\u001b[23m 0.00, 8.75, 8.75, 19.16, 142.00, 175.00, 134.40…\n",
      "$ PARENT                \u001b[3m\u001b[38;5;246m<chr>\u001b[39m\u001b[23m NA, \"Blueknight Energy Partners\", \"Blueknight E…\n",
      "$ INCIDENTS             \u001b[3m\u001b[38;5;246m<dbl>\u001b[39m\u001b[23m 0, 0, 0, 2, 0, 6, 1, 0, 0, 2, 0, 2, 0, 0, 0, 0,…\n",
      "$ SIGNIFICANT_INCIDENTS \u001b[3m\u001b[38;5;246m<dbl>\u001b[39m\u001b[23m 0, 0, 0, 0, 0, 1, 1, 0, 0, 1, 0, 1, 0, 0, 0, 0,…\n",
      "$ GROUP                 \u001b[3m\u001b[38;5;246m<chr>\u001b[39m\u001b[23m \"group\", \"group\", \"group\", \"group\", \"group\", \"g…\n",
      "$ PERC_OFFSHORE         \u001b[3m\u001b[38;5;246m<dbl>\u001b[39m\u001b[23m NA, NA, NA, NA, NA, NA, NA, NA, NA, NA, NA, NA,…\n",
      "$ AVG_AGE               \u001b[3m\u001b[38;5;246m<dbl>\u001b[39m\u001b[23m NA, NA, NA, NA, NA, NA, NA, NA, NA, NA, NA, NA,…\n",
      "$ CHANGE                \u001b[3m\u001b[38;5;246m<dbl>\u001b[39m\u001b[23m NA, NA, NA, NA, NA, NA, NA, NA, NA, NA, NA, NA,…\n",
      "$ new_name              \u001b[3m\u001b[38;5;246m<chr>\u001b[39m\u001b[23m NA, NA, NA, NA, NA, NA, NA, NA, NA, NA, NA, NA,…\n",
      "$ m_a                   \u001b[3m\u001b[38;5;246m<lgl>\u001b[39m\u001b[23m FALSE, FALSE, FALSE, FALSE, FALSE, FALSE, FALSE…\n"
     ]
    }
   ],
   "source": [
    "sample <- left_join(sample, m_as, by=c('OPERATOR_ID' = 'members', 'YEAR' = 'year'))\n",
    "sample$m_a <- replace_na(sample$m_a, FALSE)\n",
    "\n",
    "glimpse(sample)"
   ]
  },
  {
   "cell_type": "code",
   "execution_count": 24,
   "metadata": {},
   "outputs": [
    {
     "name": "stdout",
     "output_type": "stream",
     "text": [
      "Observations: 65\n",
      "Variables: 24\n",
      "$ YEAR                  \u001b[3m\u001b[38;5;246m<dbl>\u001b[39m\u001b[23m 2014, 2015, 2016, 2011, 2011, 2011, 2012, 2012,…\n",
      "$ COMMODITY             \u001b[3m\u001b[38;5;246m<chr>\u001b[39m\u001b[23m \"crude\", \"crude\", \"crude\", \"crude\", \"hvl\", \"non…\n",
      "$ OPERATOR_ID           \u001b[3m\u001b[38;5;246m<chr>\u001b[39m\u001b[23m \"Glass Mountain (Group)\", \"Glass Mountain (Grou…\n",
      "$ NAME                  \u001b[3m\u001b[38;5;246m<chr>\u001b[39m\u001b[23m \"Glass Mountain (Group)\", \"Glass Mountain (Grou…\n",
      "$ MILES                 \u001b[3m\u001b[38;5;246m<dbl>\u001b[39m\u001b[23m 69.30, 72.50, 98.83, 2161.74, 171.39, 1588.06, …\n",
      "$ AGE_UNKNOWN_MILES     \u001b[3m\u001b[38;5;246m<dbl>\u001b[39m\u001b[23m 0.00, 0.00, 0.00, 371.80, 0.00, 0.00, 371.80, 0…\n",
      "$ MILES_PRE_1940        \u001b[3m\u001b[38;5;246m<dbl>\u001b[39m\u001b[23m 0.00, 0.00, 0.00, 0.00, 0.00, 0.00, 0.00, 0.00,…\n",
      "$ MILES_1940            \u001b[3m\u001b[38;5;246m<dbl>\u001b[39m\u001b[23m 0.00, 0.00, 0.00, 10.00, 0.00, 151.84, 10.00, 0…\n",
      "$ MILES_1950            \u001b[3m\u001b[38;5;246m<dbl>\u001b[39m\u001b[23m 0.00, 0.00, 0.00, 276.30, 0.00, 16.94, 276.30, …\n",
      "$ MILES_1960            \u001b[3m\u001b[38;5;246m<dbl>\u001b[39m\u001b[23m 0.00, 0.00, 0.00, 183.68, 11.00, 206.42, 183.68…\n",
      "$ MILES_1970            \u001b[3m\u001b[38;5;246m<dbl>\u001b[39m\u001b[23m 0.00, 0.00, 0.00, 69.00, 6.00, 0.00, 69.00, 6.0…\n",
      "$ MILES_1980            \u001b[3m\u001b[38;5;246m<dbl>\u001b[39m\u001b[23m 0.00, 0.00, 0.00, 23.00, 5.00, 41.00, 23.00, 5.…\n",
      "$ MILES_1990            \u001b[3m\u001b[38;5;246m<dbl>\u001b[39m\u001b[23m 0.00, 0.00, 0.00, 91.48, 12.00, 18.51, 91.48, 1…\n",
      "$ MILES_2000            \u001b[3m\u001b[38;5;246m<dbl>\u001b[39m\u001b[23m 0.00, 0.00, 0.00, 20.60, 0.00, 34.58, 20.60, 0.…\n",
      "$ MILES_2010            \u001b[3m\u001b[38;5;246m<dbl>\u001b[39m\u001b[23m 106.90, 106.90, 214.84, 0.00, 0.00, 0.00, 0.00,…\n",
      "$ PARENT                \u001b[3m\u001b[38;5;246m<chr>\u001b[39m\u001b[23m \"Glass Mountain Pipeline\", \"Glass Mountain Pipe…\n",
      "$ INCIDENTS             \u001b[3m\u001b[38;5;246m<dbl>\u001b[39m\u001b[23m 2, 1, 1, 23, 0, 1, 26, 0, 2, 36, 0, 7, 25, 1, 1…\n",
      "$ SIGNIFICANT_INCIDENTS \u001b[3m\u001b[38;5;246m<dbl>\u001b[39m\u001b[23m 0, 0, 0, 5, 0, 1, 3, 0, 1, 12, 0, 2, 4, 0, 1, 8…\n",
      "$ GROUP                 \u001b[3m\u001b[38;5;246m<chr>\u001b[39m\u001b[23m \"group\", \"group\", \"group\", \"group\", \"group\", \"g…\n",
      "$ PERC_OFFSHORE         \u001b[3m\u001b[38;5;246m<dbl>\u001b[39m\u001b[23m NA, NA, NA, NA, NA, NA, NA, NA, NA, NA, NA, NA,…\n",
      "$ AVG_AGE               \u001b[3m\u001b[38;5;246m<dbl>\u001b[39m\u001b[23m NA, NA, NA, NA, NA, NA, NA, NA, NA, NA, NA, NA,…\n",
      "$ CHANGE                \u001b[3m\u001b[38;5;246m<dbl>\u001b[39m\u001b[23m NA, NA, NA, NA, NA, NA, NA, NA, NA, NA, NA, NA,…\n",
      "$ new_name              \u001b[3m\u001b[38;5;246m<chr>\u001b[39m\u001b[23m \"SemGroup (Group)\", \"SemGroup (Group)\", \"SemGro…\n",
      "$ m_a                   \u001b[3m\u001b[38;5;246m<lgl>\u001b[39m\u001b[23m TRUE, TRUE, TRUE, TRUE, TRUE, TRUE, TRUE, TRUE,…\n"
     ]
    }
   ],
   "source": [
    "sample_m_as <- subset(sample, m_a == TRUE)\n",
    "sample_no_m_as <- subset(sample, m_a == FALSE)\n",
    "\n",
    "glimpse(sample_m_as)"
   ]
  },
  {
   "cell_type": "code",
   "execution_count": 25,
   "metadata": {},
   "outputs": [
    {
     "name": "stdout",
     "output_type": "stream",
     "text": [
      "Observations: 36\n",
      "Variables: 20\n",
      "$ new_name              \u001b[3m\u001b[38;5;246m<chr>\u001b[39m\u001b[23m \"SemGroup (Group)\", \"SemGroup (Group)\", \"SemGro…\n",
      "$ YEAR                  \u001b[3m\u001b[38;5;246m<dbl>\u001b[39m\u001b[23m 2008, 2009, 2010, 2014, 2015, 2016, 2011, 2011,…\n",
      "$ COMMODITY             \u001b[3m\u001b[38;5;246m<chr>\u001b[39m\u001b[23m \"crude\", \"crude\", \"crude\", \"crude\", \"crude\", \"c…\n",
      "$ OPERATOR_ID           \u001b[3m\u001b[38;5;246m<chr>\u001b[39m\u001b[23m \"SemGroup (Group)\", \"SemGroup (Group)\", \"SemGro…\n",
      "$ NAME                  \u001b[3m\u001b[38;5;246m<chr>\u001b[39m\u001b[23m \"SemGroup (Group)\", \"SemGroup (Group)\", \"SemGro…\n",
      "$ MILES                 \u001b[3m\u001b[38;5;246m<dbl>\u001b[39m\u001b[23m 119.00, 138.00, 291.25, 69.30, 72.50, 98.83, 23…\n",
      "$ AGE_UNKNOWN_MILES     \u001b[3m\u001b[38;5;246m<dbl>\u001b[39m\u001b[23m 0.00, 0.00, 93.19, 0.00, 0.00, 0.00, 371.80, 0.…\n",
      "$ MILES_PRE_1940        \u001b[3m\u001b[38;5;246m<dbl>\u001b[39m\u001b[23m 22.0, 14.0, 0.0, 0.0, 0.0, 0.0, 0.0, 0.0, 0.0, …\n",
      "$ MILES_1940            \u001b[3m\u001b[38;5;246m<dbl>\u001b[39m\u001b[23m 22.00, 0.00, 31.87, 0.00, 0.00, 0.00, 10.00, 0.…\n",
      "$ MILES_1950            \u001b[3m\u001b[38;5;246m<dbl>\u001b[39m\u001b[23m 146.00, 146.00, 220.67, 0.00, 0.00, 0.00, 276.3…\n",
      "$ MILES_1960            \u001b[3m\u001b[38;5;246m<dbl>\u001b[39m\u001b[23m 10.00, 9.00, 67.82, 0.00, 0.00, 0.00, 183.68, 1…\n",
      "$ MILES_1970            \u001b[3m\u001b[38;5;246m<dbl>\u001b[39m\u001b[23m 6.00, 0.00, 0.00, 0.00, 0.00, 0.00, 69.00, 6.00…\n",
      "$ MILES_1980            \u001b[3m\u001b[38;5;246m<dbl>\u001b[39m\u001b[23m 2.00, 1.00, 0.58, 0.00, 0.00, 0.00, 23.00, 5.00…\n",
      "$ MILES_1990            \u001b[3m\u001b[38;5;246m<dbl>\u001b[39m\u001b[23m 8.00, 0.00, 1.72, 0.00, 0.00, 0.00, 91.48, 12.0…\n",
      "$ MILES_2000            \u001b[3m\u001b[38;5;246m<dbl>\u001b[39m\u001b[23m 10.00, 532.00, 546.50, 0.00, 0.00, 0.00, 20.60,…\n",
      "$ MILES_2010            \u001b[3m\u001b[38;5;246m<dbl>\u001b[39m\u001b[23m 0.00, 0.00, 0.00, 106.90, 106.90, 214.84, 0.00,…\n",
      "$ PARENT                \u001b[3m\u001b[38;5;246m<chr>\u001b[39m\u001b[23m NA, NA, \"SemGroup\", \"Glass Mountain Pipeline\", …\n",
      "$ INCIDENTS             \u001b[3m\u001b[38;5;246m<dbl>\u001b[39m\u001b[23m 0, 0, 5, 2, 1, 1, 27, 0, 1, 31, 0, 2, 42, 4, 7,…\n",
      "$ SIGNIFICANT_INCIDENTS \u001b[3m\u001b[38;5;246m<dbl>\u001b[39m\u001b[23m 0, 0, 1, 0, 0, 0, 6, 0, 1, 4, 0, 1, 13, 4, 2, 4…\n",
      "$ GROUP                 \u001b[3m\u001b[38;5;246m<chr>\u001b[39m\u001b[23m \"m&a\", \"m&a\", \"m&a\", \"m&a\", \"m&a\", \"m&a\", \"m&a\"…\n"
     ]
    }
   ],
   "source": [
    "sample_m_as <- sample_m_as %>%\n",
    "    group_by(new_name, YEAR, COMMODITY) %>%\n",
    "    summarize(OPERATOR_ID = first(new_name), \n",
    "              NAME              = first(new_name),\n",
    "              MILES             = sum(MILES, na.rm=TRUE), \n",
    "              AGE_UNKNOWN_MILES = sum(AGE_UNKNOWN_MILES, na.rm=TRUE), \n",
    "              MILES_PRE_1940    = sum(MILES_PRE_1940, na.rm=TRUE), \n",
    "              MILES_1940        = sum(MILES_1940, na.rm=TRUE),\n",
    "              MILES_1950        = sum(MILES_1950, na.rm=TRUE),\n",
    "              MILES_1960        = sum(MILES_1960, na.rm=TRUE),\n",
    "              MILES_1970        = sum(MILES_1970, na.rm=TRUE),\n",
    "              MILES_1980        = sum(MILES_1980, na.rm=TRUE),\n",
    "              MILES_1990        = sum(MILES_1990, na.rm=TRUE),\n",
    "              MILES_2000        = sum(MILES_2000, na.rm=TRUE),\n",
    "              MILES_2010        = sum(MILES_2010, na.rm=TRUE),\n",
    "              PARENT            = first(PARENT), \n",
    "              INCIDENTS         = sum(INCIDENTS, na.rm=TRUE), \n",
    "              SIGNIFICANT_INCIDENTS = sum(SIGNIFICANT_INCIDENTS, na.rm=TRUE), \n",
    "              GROUP = 'm&a') %>%\n",
    "    ungroup()\n",
    "\n",
    "glimpse(sample_m_as)"
   ]
  },
  {
   "cell_type": "code",
   "execution_count": 26,
   "metadata": {},
   "outputs": [
    {
     "name": "stdout",
     "output_type": "stream",
     "text": [
      "Observations: 1,425\n",
      "Variables: 22\n",
      "$ YEAR                  \u001b[3m\u001b[38;5;246m<dbl>\u001b[39m\u001b[23m 2008, 2009, 2010, 2014, 2015, 2016, 2011, 2011,…\n",
      "$ COMMODITY             \u001b[3m\u001b[38;5;246m<chr>\u001b[39m\u001b[23m \"crude\", \"crude\", \"crude\", \"crude\", \"crude\", \"c…\n",
      "$ OPERATOR_ID           \u001b[3m\u001b[38;5;246m<chr>\u001b[39m\u001b[23m \"SemGroup (Group)\", \"SemGroup (Group)\", \"SemGro…\n",
      "$ NAME                  \u001b[3m\u001b[38;5;246m<chr>\u001b[39m\u001b[23m \"SemGroup (Group)\", \"SemGroup (Group)\", \"SemGro…\n",
      "$ MILES                 \u001b[3m\u001b[38;5;246m<dbl>\u001b[39m\u001b[23m 119.00, 138.00, 291.25, 69.30, 72.50, 98.83, 23…\n",
      "$ AGE_UNKNOWN_MILES     \u001b[3m\u001b[38;5;246m<dbl>\u001b[39m\u001b[23m 0.00, 0.00, 93.19, 0.00, 0.00, 0.00, 371.80, 0.…\n",
      "$ MILES_PRE_1940        \u001b[3m\u001b[38;5;246m<dbl>\u001b[39m\u001b[23m 22.0, 14.0, 0.0, 0.0, 0.0, 0.0, 0.0, 0.0, 0.0, …\n",
      "$ MILES_1940            \u001b[3m\u001b[38;5;246m<dbl>\u001b[39m\u001b[23m 22.00, 0.00, 31.87, 0.00, 0.00, 0.00, 10.00, 0.…\n",
      "$ MILES_1950            \u001b[3m\u001b[38;5;246m<dbl>\u001b[39m\u001b[23m 146.00, 146.00, 220.67, 0.00, 0.00, 0.00, 276.3…\n",
      "$ MILES_1960            \u001b[3m\u001b[38;5;246m<dbl>\u001b[39m\u001b[23m 10.00, 9.00, 67.82, 0.00, 0.00, 0.00, 183.68, 1…\n",
      "$ MILES_1970            \u001b[3m\u001b[38;5;246m<dbl>\u001b[39m\u001b[23m 6.00, 0.00, 0.00, 0.00, 0.00, 0.00, 69.00, 6.00…\n",
      "$ MILES_1980            \u001b[3m\u001b[38;5;246m<dbl>\u001b[39m\u001b[23m 2.00, 1.00, 0.58, 0.00, 0.00, 0.00, 23.00, 5.00…\n",
      "$ MILES_1990            \u001b[3m\u001b[38;5;246m<dbl>\u001b[39m\u001b[23m 8.00, 0.00, 1.72, 0.00, 0.00, 0.00, 91.48, 12.0…\n",
      "$ MILES_2000            \u001b[3m\u001b[38;5;246m<dbl>\u001b[39m\u001b[23m 10.00, 532.00, 546.50, 0.00, 0.00, 0.00, 20.60,…\n",
      "$ MILES_2010            \u001b[3m\u001b[38;5;246m<dbl>\u001b[39m\u001b[23m 0.00, 0.00, 0.00, 106.90, 106.90, 214.84, 0.00,…\n",
      "$ PARENT                \u001b[3m\u001b[38;5;246m<chr>\u001b[39m\u001b[23m NA, NA, \"SemGroup\", \"Glass Mountain Pipeline\", …\n",
      "$ INCIDENTS             \u001b[3m\u001b[38;5;246m<dbl>\u001b[39m\u001b[23m 0, 0, 5, 2, 1, 1, 27, 0, 1, 31, 0, 2, 42, 4, 7,…\n",
      "$ SIGNIFICANT_INCIDENTS \u001b[3m\u001b[38;5;246m<dbl>\u001b[39m\u001b[23m 0, 0, 1, 0, 0, 0, 6, 0, 1, 4, 0, 1, 13, 4, 2, 4…\n",
      "$ GROUP                 \u001b[3m\u001b[38;5;246m<chr>\u001b[39m\u001b[23m \"m&a\", \"m&a\", \"m&a\", \"m&a\", \"m&a\", \"m&a\", \"m&a\"…\n",
      "$ PERC_OFFSHORE         \u001b[3m\u001b[38;5;246m<dbl>\u001b[39m\u001b[23m NA, NA, NA, NA, NA, NA, NA, NA, NA, NA, NA, NA,…\n",
      "$ AVG_AGE               \u001b[3m\u001b[38;5;246m<dbl>\u001b[39m\u001b[23m NA, NA, NA, NA, NA, NA, NA, NA, NA, NA, NA, NA,…\n",
      "$ CHANGE                \u001b[3m\u001b[38;5;246m<dbl>\u001b[39m\u001b[23m NA, NA, NA, NA, NA, NA, NA, NA, NA, NA, NA, NA,…\n"
     ]
    }
   ],
   "source": [
    "sample <- bind_rows(sample_m_as, sample_no_m_as)\n",
    "sample <- sample[ , !(names(sample) %in% c(\"new_name\", \"m_a\"))]\n",
    "testit::assert(nrow(sample[duplicated(select(sample, YEAR, COMMODITY, OPERATOR_ID)), ]) == 0)\n",
    "testit::assert(nrow(subset(sample, YEAR == 2008)) > 0)\n",
    "glimpse(sample)"
   ]
  },
  {
   "cell_type": "markdown",
   "metadata": {},
   "source": [
    "## 9.4 Mark M&A years"
   ]
  },
  {
   "cell_type": "code",
   "execution_count": 27,
   "metadata": {},
   "outputs": [
    {
     "name": "stdout",
     "output_type": "stream",
     "text": [
      "Observations: 13\n",
      "Variables: 4\n",
      "$ members    \u001b[3m\u001b[38;5;246m<chr>\u001b[39m\u001b[23m \"Sunoco (Group)\", \"32683\", \"22442\", \"Sunoco (Group)\", \"320…\n",
      "$ name       \u001b[3m\u001b[38;5;246m<chr>\u001b[39m\u001b[23m \"Sunoco (Group)\", \"Sunoco (Group)\", \"Sunoco (Group)\", \"Sun…\n",
      "$ start_year \u001b[3m\u001b[38;5;246m<chr>\u001b[39m\u001b[23m \"2011\", \"2011\", \"2011\", \"2013\", \"2013\", \"2017\", \"2017\", NA…\n",
      "$ end_year   \u001b[3m\u001b[38;5;246m<chr>\u001b[39m\u001b[23m NA, NA, NA, NA, NA, NA, NA, \"2011\", \"2011\", NA, NA, \"2017\"…\n"
     ]
    }
   ],
   "source": [
    "glimpse(m_as_orig)"
   ]
  },
  {
   "cell_type": "code",
   "execution_count": 28,
   "metadata": {},
   "outputs": [
    {
     "name": "stdout",
     "output_type": "stream",
     "text": [
      "Observations: 1,425\n",
      "Variables: 24\n",
      "$ YEAR                  \u001b[3m\u001b[38;5;246m<dbl>\u001b[39m\u001b[23m 2008, 2009, 2010, 2014, 2015, 2016, 2011, 2011,…\n",
      "$ COMMODITY             \u001b[3m\u001b[38;5;246m<chr>\u001b[39m\u001b[23m \"crude\", \"crude\", \"crude\", \"crude\", \"crude\", \"c…\n",
      "$ OPERATOR_ID           \u001b[3m\u001b[38;5;246m<chr>\u001b[39m\u001b[23m \"SemGroup (Group)\", \"SemGroup (Group)\", \"SemGro…\n",
      "$ NAME                  \u001b[3m\u001b[38;5;246m<chr>\u001b[39m\u001b[23m \"SemGroup (Group)\", \"SemGroup (Group)\", \"SemGro…\n",
      "$ MILES                 \u001b[3m\u001b[38;5;246m<dbl>\u001b[39m\u001b[23m 119.00, 138.00, 291.25, 69.30, 72.50, 98.83, 23…\n",
      "$ AGE_UNKNOWN_MILES     \u001b[3m\u001b[38;5;246m<dbl>\u001b[39m\u001b[23m 0.00, 0.00, 93.19, 0.00, 0.00, 0.00, 371.80, 0.…\n",
      "$ MILES_PRE_1940        \u001b[3m\u001b[38;5;246m<dbl>\u001b[39m\u001b[23m 22.0, 14.0, 0.0, 0.0, 0.0, 0.0, 0.0, 0.0, 0.0, …\n",
      "$ MILES_1940            \u001b[3m\u001b[38;5;246m<dbl>\u001b[39m\u001b[23m 22.00, 0.00, 31.87, 0.00, 0.00, 0.00, 10.00, 0.…\n",
      "$ MILES_1950            \u001b[3m\u001b[38;5;246m<dbl>\u001b[39m\u001b[23m 146.00, 146.00, 220.67, 0.00, 0.00, 0.00, 276.3…\n",
      "$ MILES_1960            \u001b[3m\u001b[38;5;246m<dbl>\u001b[39m\u001b[23m 10.00, 9.00, 67.82, 0.00, 0.00, 0.00, 183.68, 1…\n",
      "$ MILES_1970            \u001b[3m\u001b[38;5;246m<dbl>\u001b[39m\u001b[23m 6.00, 0.00, 0.00, 0.00, 0.00, 0.00, 69.00, 6.00…\n",
      "$ MILES_1980            \u001b[3m\u001b[38;5;246m<dbl>\u001b[39m\u001b[23m 2.00, 1.00, 0.58, 0.00, 0.00, 0.00, 23.00, 5.00…\n",
      "$ MILES_1990            \u001b[3m\u001b[38;5;246m<dbl>\u001b[39m\u001b[23m 8.00, 0.00, 1.72, 0.00, 0.00, 0.00, 91.48, 12.0…\n",
      "$ MILES_2000            \u001b[3m\u001b[38;5;246m<dbl>\u001b[39m\u001b[23m 10.00, 532.00, 546.50, 0.00, 0.00, 0.00, 20.60,…\n",
      "$ MILES_2010            \u001b[3m\u001b[38;5;246m<dbl>\u001b[39m\u001b[23m 0.00, 0.00, 0.00, 106.90, 106.90, 214.84, 0.00,…\n",
      "$ PARENT                \u001b[3m\u001b[38;5;246m<chr>\u001b[39m\u001b[23m NA, NA, \"SemGroup\", \"Glass Mountain Pipeline\", …\n",
      "$ INCIDENTS             \u001b[3m\u001b[38;5;246m<dbl>\u001b[39m\u001b[23m 0, 0, 5, 2, 1, 1, 27, 0, 1, 31, 0, 2, 42, 4, 7,…\n",
      "$ SIGNIFICANT_INCIDENTS \u001b[3m\u001b[38;5;246m<dbl>\u001b[39m\u001b[23m 0, 0, 1, 0, 0, 0, 6, 0, 1, 4, 0, 1, 13, 4, 2, 4…\n",
      "$ GROUP                 \u001b[3m\u001b[38;5;246m<chr>\u001b[39m\u001b[23m \"m&a\", \"m&a\", \"m&a\", \"m&a\", \"m&a\", \"m&a\", \"m&a\"…\n",
      "$ PERC_OFFSHORE         \u001b[3m\u001b[38;5;246m<dbl>\u001b[39m\u001b[23m NA, NA, NA, NA, NA, NA, NA, NA, NA, NA, NA, NA,…\n",
      "$ AVG_AGE               \u001b[3m\u001b[38;5;246m<dbl>\u001b[39m\u001b[23m NA, NA, NA, NA, NA, NA, NA, NA, NA, NA, NA, NA,…\n",
      "$ CHANGE                \u001b[3m\u001b[38;5;246m<dbl>\u001b[39m\u001b[23m NA, NA, NA, NA, NA, NA, NA, NA, NA, NA, NA, NA,…\n",
      "$ end_year              \u001b[3m\u001b[38;5;246m<chr>\u001b[39m\u001b[23m NA, NA, NA, NA, NA, NA, NA, NA, NA, NA, NA, NA,…\n",
      "$ m_a_start             \u001b[3m\u001b[38;5;246m<lgl>\u001b[39m\u001b[23m NA, NA, NA, NA, NA, NA, TRUE, TRUE, TRUE, NA, N…\n"
     ]
    }
   ],
   "source": [
    "m_as_orig$start_year <- as.numeric(m_as_orig$start_year)\n",
    "m_as_orig <- select(m_as_orig, -c(name))\n",
    "\n",
    "m_as_start <- subset(m_as_orig, !is.na(start_year))\n",
    "m_as_start$m_a_start <- TRUE\n",
    "\n",
    "sample <- left_join(sample, m_as_start, by=c(\"OPERATOR_ID\" = \"members\", \"YEAR\" = \"start_year\"))\n",
    "testit::assert(nrow(subset(sample, YEAR == 2008)) > 0)\n",
    "glimpse(sample)"
   ]
  },
  {
   "cell_type": "code",
   "execution_count": 29,
   "metadata": {},
   "outputs": [
    {
     "name": "stdout",
     "output_type": "stream",
     "text": [
      "Observations: 1,425\n",
      "Variables: 26\n",
      "$ YEAR                  \u001b[3m\u001b[38;5;246m<dbl>\u001b[39m\u001b[23m 2008, 2009, 2010, 2014, 2015, 2016, 2011, 2011,…\n",
      "$ COMMODITY             \u001b[3m\u001b[38;5;246m<chr>\u001b[39m\u001b[23m \"crude\", \"crude\", \"crude\", \"crude\", \"crude\", \"c…\n",
      "$ OPERATOR_ID           \u001b[3m\u001b[38;5;246m<chr>\u001b[39m\u001b[23m \"SemGroup (Group)\", \"SemGroup (Group)\", \"SemGro…\n",
      "$ NAME                  \u001b[3m\u001b[38;5;246m<chr>\u001b[39m\u001b[23m \"SemGroup (Group)\", \"SemGroup (Group)\", \"SemGro…\n",
      "$ MILES                 \u001b[3m\u001b[38;5;246m<dbl>\u001b[39m\u001b[23m 119.00, 138.00, 291.25, 69.30, 72.50, 98.83, 23…\n",
      "$ AGE_UNKNOWN_MILES     \u001b[3m\u001b[38;5;246m<dbl>\u001b[39m\u001b[23m 0.00, 0.00, 93.19, 0.00, 0.00, 0.00, 371.80, 0.…\n",
      "$ MILES_PRE_1940        \u001b[3m\u001b[38;5;246m<dbl>\u001b[39m\u001b[23m 22.0, 14.0, 0.0, 0.0, 0.0, 0.0, 0.0, 0.0, 0.0, …\n",
      "$ MILES_1940            \u001b[3m\u001b[38;5;246m<dbl>\u001b[39m\u001b[23m 22.00, 0.00, 31.87, 0.00, 0.00, 0.00, 10.00, 0.…\n",
      "$ MILES_1950            \u001b[3m\u001b[38;5;246m<dbl>\u001b[39m\u001b[23m 146.00, 146.00, 220.67, 0.00, 0.00, 0.00, 276.3…\n",
      "$ MILES_1960            \u001b[3m\u001b[38;5;246m<dbl>\u001b[39m\u001b[23m 10.00, 9.00, 67.82, 0.00, 0.00, 0.00, 183.68, 1…\n",
      "$ MILES_1970            \u001b[3m\u001b[38;5;246m<dbl>\u001b[39m\u001b[23m 6.00, 0.00, 0.00, 0.00, 0.00, 0.00, 69.00, 6.00…\n",
      "$ MILES_1980            \u001b[3m\u001b[38;5;246m<dbl>\u001b[39m\u001b[23m 2.00, 1.00, 0.58, 0.00, 0.00, 0.00, 23.00, 5.00…\n",
      "$ MILES_1990            \u001b[3m\u001b[38;5;246m<dbl>\u001b[39m\u001b[23m 8.00, 0.00, 1.72, 0.00, 0.00, 0.00, 91.48, 12.0…\n",
      "$ MILES_2000            \u001b[3m\u001b[38;5;246m<dbl>\u001b[39m\u001b[23m 10.00, 532.00, 546.50, 0.00, 0.00, 0.00, 20.60,…\n",
      "$ MILES_2010            \u001b[3m\u001b[38;5;246m<dbl>\u001b[39m\u001b[23m 0.00, 0.00, 0.00, 106.90, 106.90, 214.84, 0.00,…\n",
      "$ PARENT                \u001b[3m\u001b[38;5;246m<chr>\u001b[39m\u001b[23m NA, NA, \"SemGroup\", \"Glass Mountain Pipeline\", …\n",
      "$ INCIDENTS             \u001b[3m\u001b[38;5;246m<dbl>\u001b[39m\u001b[23m 0, 0, 5, 2, 1, 1, 27, 0, 1, 31, 0, 2, 42, 4, 7,…\n",
      "$ SIGNIFICANT_INCIDENTS \u001b[3m\u001b[38;5;246m<dbl>\u001b[39m\u001b[23m 0, 0, 1, 0, 0, 0, 6, 0, 1, 4, 0, 1, 13, 4, 2, 4…\n",
      "$ GROUP                 \u001b[3m\u001b[38;5;246m<chr>\u001b[39m\u001b[23m \"m&a\", \"m&a\", \"m&a\", \"m&a\", \"m&a\", \"m&a\", \"m&a\"…\n",
      "$ PERC_OFFSHORE         \u001b[3m\u001b[38;5;246m<dbl>\u001b[39m\u001b[23m NA, NA, NA, NA, NA, NA, NA, NA, NA, NA, NA, NA,…\n",
      "$ AVG_AGE               \u001b[3m\u001b[38;5;246m<dbl>\u001b[39m\u001b[23m NA, NA, NA, NA, NA, NA, NA, NA, NA, NA, NA, NA,…\n",
      "$ CHANGE                \u001b[3m\u001b[38;5;246m<dbl>\u001b[39m\u001b[23m NA, NA, NA, NA, NA, NA, NA, NA, NA, NA, NA, NA,…\n",
      "$ end_year              \u001b[3m\u001b[38;5;246m<chr>\u001b[39m\u001b[23m NA, NA, NA, NA, NA, NA, NA, NA, NA, NA, NA, NA,…\n",
      "$ m_a_start             \u001b[3m\u001b[38;5;246m<lgl>\u001b[39m\u001b[23m NA, NA, NA, NA, NA, NA, TRUE, TRUE, TRUE, NA, N…\n",
      "$ start_year            \u001b[3m\u001b[38;5;246m<dbl>\u001b[39m\u001b[23m NA, NA, NA, NA, NA, NA, NA, NA, NA, NA, NA, NA,…\n",
      "$ m_a_end               \u001b[3m\u001b[38;5;246m<lgl>\u001b[39m\u001b[23m NA, NA, NA, NA, NA, NA, NA, NA, NA, NA, NA, NA,…\n"
     ]
    }
   ],
   "source": [
    "m_as_orig$end_year <- as.numeric(m_as_orig$end_year)\n",
    "\n",
    "m_as_end <- subset(m_as_orig, !is.na(end_year))\n",
    "# We add 1 to the year, so the year we match on is the first year after the group has ceased to exist.\n",
    "m_as_end$end_year <- m_as_end$end_year + 1\n",
    "m_as_end$m_a_end <- TRUE\n",
    "\n",
    "sample <- left_join(sample, m_as_end, by=c(\"OPERATOR_ID\" = \"members\", \"YEAR\" = \"end_year\"))\n",
    "testit::assert(nrow(subset(sample, YEAR == 2008)) > 0)\n",
    "glimpse(sample)"
   ]
  },
  {
   "cell_type": "code",
   "execution_count": 30,
   "metadata": {},
   "outputs": [
    {
     "data": {
      "text/html": [
       "<table>\n",
       "<caption>A tibble: 3 × 26</caption>\n",
       "<thead>\n",
       "\t<tr><th scope=col>YEAR</th><th scope=col>COMMODITY</th><th scope=col>OPERATOR_ID</th><th scope=col>NAME</th><th scope=col>MILES</th><th scope=col>AGE_UNKNOWN_MILES</th><th scope=col>MILES_PRE_1940</th><th scope=col>MILES_1940</th><th scope=col>MILES_1950</th><th scope=col>MILES_1960</th><th scope=col>⋯</th><th scope=col>INCIDENTS</th><th scope=col>SIGNIFICANT_INCIDENTS</th><th scope=col>GROUP</th><th scope=col>PERC_OFFSHORE</th><th scope=col>AVG_AGE</th><th scope=col>CHANGE</th><th scope=col>end_year</th><th scope=col>m_a_start</th><th scope=col>start_year</th><th scope=col>m_a_end</th></tr>\n",
       "\t<tr><th scope=col>&lt;dbl&gt;</th><th scope=col>&lt;chr&gt;</th><th scope=col>&lt;chr&gt;</th><th scope=col>&lt;chr&gt;</th><th scope=col>&lt;dbl&gt;</th><th scope=col>&lt;dbl&gt;</th><th scope=col>&lt;dbl&gt;</th><th scope=col>&lt;dbl&gt;</th><th scope=col>&lt;dbl&gt;</th><th scope=col>&lt;dbl&gt;</th><th scope=col>⋯</th><th scope=col>&lt;dbl&gt;</th><th scope=col>&lt;dbl&gt;</th><th scope=col>&lt;chr&gt;</th><th scope=col>&lt;dbl&gt;</th><th scope=col>&lt;dbl&gt;</th><th scope=col>&lt;dbl&gt;</th><th scope=col>&lt;chr&gt;</th><th scope=col>&lt;lgl&gt;</th><th scope=col>&lt;dbl&gt;</th><th scope=col>&lt;lgl&gt;</th></tr>\n",
       "</thead>\n",
       "<tbody>\n",
       "\t<tr><td>2018</td><td>crude</td><td>Glass Mountain (Group)</td><td>Glass Mountain (Group)    </td><td> 79.35</td><td> 0.00</td><td>0</td><td> 0.00</td><td>  0.00</td><td> 0.00</td><td>⋯</td><td>0</td><td>0</td><td>group    </td><td>NA</td><td>      NA</td><td>   NA</td><td>NA</td><td>NA</td><td>NA</td><td>TRUE</td></tr>\n",
       "\t<tr><td>2012</td><td>crude</td><td>31476                 </td><td>ROSE ROCK MIDSTREAM L.P.  </td><td>168.44</td><td>60.14</td><td>0</td><td>24.15</td><td>164.75</td><td>66.91</td><td>⋯</td><td>3</td><td>3</td><td>not group</td><td> 0</td><td>60.58908</td><td> 2.71</td><td>NA</td><td>NA</td><td>NA</td><td>TRUE</td></tr>\n",
       "\t<tr><td>2012</td><td>crude</td><td>32288                 </td><td>WHITE CLIFFS PIPELINE, LLC</td><td>122.70</td><td> 0.00</td><td>0</td><td> 0.00</td><td>  0.00</td><td> 0.00</td><td>⋯</td><td>0</td><td>0</td><td>not group</td><td> 0</td><td>15.00000</td><td>13.70</td><td>NA</td><td>NA</td><td>NA</td><td>TRUE</td></tr>\n",
       "</tbody>\n",
       "</table>\n"
      ],
      "text/latex": [
       "A tibble: 3 × 26\n",
       "\\begin{tabular}{r|llllllllllllllllllllllllll}\n",
       " YEAR & COMMODITY & OPERATOR\\_ID & NAME & MILES & AGE\\_UNKNOWN\\_MILES & MILES\\_PRE\\_1940 & MILES\\_1940 & MILES\\_1950 & MILES\\_1960 & MILES\\_1970 & MILES\\_1980 & MILES\\_1990 & MILES\\_2000 & MILES\\_2010 & PARENT & INCIDENTS & SIGNIFICANT\\_INCIDENTS & GROUP & PERC\\_OFFSHORE & AVG\\_AGE & CHANGE & end\\_year & m\\_a\\_start & start\\_year & m\\_a\\_end\\\\\n",
       " <dbl> & <chr> & <chr> & <chr> & <dbl> & <dbl> & <dbl> & <dbl> & <dbl> & <dbl> & <dbl> & <dbl> & <dbl> & <dbl> & <dbl> & <chr> & <dbl> & <dbl> & <chr> & <dbl> & <dbl> & <dbl> & <chr> & <lgl> & <dbl> & <lgl>\\\\\n",
       "\\hline\n",
       "\t 2018 & crude & Glass Mountain (Group) & Glass Mountain (Group)     &  79.35 &  0.00 & 0 &  0.00 &   0.00 &  0.00 & 0 & 0.00 & 0 &   0.00 & 258.95 & Glass Mountain Pipeline & 0 & 0 & group     & NA &       NA &    NA & NA & NA & NA & TRUE\\\\\n",
       "\t 2012 & crude & 31476                  & ROSE ROCK MIDSTREAM L.P.   & 168.44 & 60.14 & 0 & 24.15 & 164.75 & 66.91 & 0 & 0.59 & 0 &  15.04 &   0.00 & SemGroup                & 3 & 3 & not group &  0 & 60.58908 &  2.71 & NA & NA & NA & TRUE\\\\\n",
       "\t 2012 & crude & 32288                  & WHITE CLIFFS PIPELINE, LLC & 122.70 &  0.00 & 0 &  0.00 &   0.00 &  0.00 & 0 & 0.00 & 0 & 527.16 &   0.00 & SemGroup                & 0 & 0 & not group &  0 & 15.00000 & 13.70 & NA & NA & NA & TRUE\\\\\n",
       "\\end{tabular}\n"
      ],
      "text/markdown": [
       "\n",
       "A tibble: 3 × 26\n",
       "\n",
       "| YEAR &lt;dbl&gt; | COMMODITY &lt;chr&gt; | OPERATOR_ID &lt;chr&gt; | NAME &lt;chr&gt; | MILES &lt;dbl&gt; | AGE_UNKNOWN_MILES &lt;dbl&gt; | MILES_PRE_1940 &lt;dbl&gt; | MILES_1940 &lt;dbl&gt; | MILES_1950 &lt;dbl&gt; | MILES_1960 &lt;dbl&gt; | ⋯ ⋯ | INCIDENTS &lt;dbl&gt; | SIGNIFICANT_INCIDENTS &lt;dbl&gt; | GROUP &lt;chr&gt; | PERC_OFFSHORE &lt;dbl&gt; | AVG_AGE &lt;dbl&gt; | CHANGE &lt;dbl&gt; | end_year &lt;chr&gt; | m_a_start &lt;lgl&gt; | start_year &lt;dbl&gt; | m_a_end &lt;lgl&gt; |\n",
       "|---|---|---|---|---|---|---|---|---|---|---|---|---|---|---|---|---|---|---|---|---|\n",
       "| 2018 | crude | Glass Mountain (Group) | Glass Mountain (Group)     |  79.35 |  0.00 | 0 |  0.00 |   0.00 |  0.00 | ⋯ | 0 | 0 | group     | NA |       NA |    NA | NA | NA | NA | TRUE |\n",
       "| 2012 | crude | 31476                  | ROSE ROCK MIDSTREAM L.P.   | 168.44 | 60.14 | 0 | 24.15 | 164.75 | 66.91 | ⋯ | 3 | 3 | not group |  0 | 60.58908 |  2.71 | NA | NA | NA | TRUE |\n",
       "| 2012 | crude | 32288                  | WHITE CLIFFS PIPELINE, LLC | 122.70 |  0.00 | 0 |  0.00 |   0.00 |  0.00 | ⋯ | 0 | 0 | not group |  0 | 15.00000 | 13.70 | NA | NA | NA | TRUE |\n",
       "\n"
      ],
      "text/plain": [
       "  YEAR COMMODITY OPERATOR_ID            NAME                       MILES \n",
       "1 2018 crude     Glass Mountain (Group) Glass Mountain (Group)      79.35\n",
       "2 2012 crude     31476                  ROSE ROCK MIDSTREAM L.P.   168.44\n",
       "3 2012 crude     32288                  WHITE CLIFFS PIPELINE, LLC 122.70\n",
       "  AGE_UNKNOWN_MILES MILES_PRE_1940 MILES_1940 MILES_1950 MILES_1960 ⋯ INCIDENTS\n",
       "1  0.00             0               0.00        0.00      0.00      ⋯ 0        \n",
       "2 60.14             0              24.15      164.75     66.91      ⋯ 3        \n",
       "3  0.00             0               0.00        0.00      0.00      ⋯ 0        \n",
       "  SIGNIFICANT_INCIDENTS GROUP     PERC_OFFSHORE AVG_AGE  CHANGE end_year\n",
       "1 0                     group     NA                  NA    NA  NA      \n",
       "2 3                     not group  0            60.58908  2.71  NA      \n",
       "3 0                     not group  0            15.00000 13.70  NA      \n",
       "  m_a_start start_year m_a_end\n",
       "1 NA        NA         TRUE   \n",
       "2 NA        NA         TRUE   \n",
       "3 NA        NA         TRUE   "
      ]
     },
     "metadata": {},
     "output_type": "display_data"
    }
   ],
   "source": [
    "subset(sample, m_a_end == TRUE)"
   ]
  },
  {
   "cell_type": "code",
   "execution_count": 31,
   "metadata": {},
   "outputs": [
    {
     "name": "stdout",
     "output_type": "stream",
     "text": [
      "Observations: 1,425\n",
      "Variables: 23\n",
      "$ YEAR                  \u001b[3m\u001b[38;5;246m<dbl>\u001b[39m\u001b[23m 2008, 2009, 2010, 2014, 2015, 2016, 2011, 2011,…\n",
      "$ COMMODITY             \u001b[3m\u001b[38;5;246m<chr>\u001b[39m\u001b[23m \"crude\", \"crude\", \"crude\", \"crude\", \"crude\", \"c…\n",
      "$ OPERATOR_ID           \u001b[3m\u001b[38;5;246m<chr>\u001b[39m\u001b[23m \"SemGroup (Group)\", \"SemGroup (Group)\", \"SemGro…\n",
      "$ NAME                  \u001b[3m\u001b[38;5;246m<chr>\u001b[39m\u001b[23m \"SemGroup (Group)\", \"SemGroup (Group)\", \"SemGro…\n",
      "$ MILES                 \u001b[3m\u001b[38;5;246m<dbl>\u001b[39m\u001b[23m 119.00, 138.00, 291.25, 69.30, 72.50, 98.83, 23…\n",
      "$ AGE_UNKNOWN_MILES     \u001b[3m\u001b[38;5;246m<dbl>\u001b[39m\u001b[23m 0.00, 0.00, 93.19, 0.00, 0.00, 0.00, 371.80, 0.…\n",
      "$ MILES_PRE_1940        \u001b[3m\u001b[38;5;246m<dbl>\u001b[39m\u001b[23m 22.0, 14.0, 0.0, 0.0, 0.0, 0.0, 0.0, 0.0, 0.0, …\n",
      "$ MILES_1940            \u001b[3m\u001b[38;5;246m<dbl>\u001b[39m\u001b[23m 22.00, 0.00, 31.87, 0.00, 0.00, 0.00, 10.00, 0.…\n",
      "$ MILES_1950            \u001b[3m\u001b[38;5;246m<dbl>\u001b[39m\u001b[23m 146.00, 146.00, 220.67, 0.00, 0.00, 0.00, 276.3…\n",
      "$ MILES_1960            \u001b[3m\u001b[38;5;246m<dbl>\u001b[39m\u001b[23m 10.00, 9.00, 67.82, 0.00, 0.00, 0.00, 183.68, 1…\n",
      "$ MILES_1970            \u001b[3m\u001b[38;5;246m<dbl>\u001b[39m\u001b[23m 6.00, 0.00, 0.00, 0.00, 0.00, 0.00, 69.00, 6.00…\n",
      "$ MILES_1980            \u001b[3m\u001b[38;5;246m<dbl>\u001b[39m\u001b[23m 2.00, 1.00, 0.58, 0.00, 0.00, 0.00, 23.00, 5.00…\n",
      "$ MILES_1990            \u001b[3m\u001b[38;5;246m<dbl>\u001b[39m\u001b[23m 8.00, 0.00, 1.72, 0.00, 0.00, 0.00, 91.48, 12.0…\n",
      "$ MILES_2000            \u001b[3m\u001b[38;5;246m<dbl>\u001b[39m\u001b[23m 10.00, 532.00, 546.50, 0.00, 0.00, 0.00, 20.60,…\n",
      "$ MILES_2010            \u001b[3m\u001b[38;5;246m<dbl>\u001b[39m\u001b[23m 0.00, 0.00, 0.00, 106.90, 106.90, 214.84, 0.00,…\n",
      "$ PARENT                \u001b[3m\u001b[38;5;246m<chr>\u001b[39m\u001b[23m NA, NA, \"SemGroup\", \"Glass Mountain Pipeline\", …\n",
      "$ INCIDENTS             \u001b[3m\u001b[38;5;246m<dbl>\u001b[39m\u001b[23m 0, 0, 5, 2, 1, 1, 27, 0, 1, 31, 0, 2, 42, 4, 7,…\n",
      "$ SIGNIFICANT_INCIDENTS \u001b[3m\u001b[38;5;246m<dbl>\u001b[39m\u001b[23m 0, 0, 1, 0, 0, 0, 6, 0, 1, 4, 0, 1, 13, 4, 2, 4…\n",
      "$ GROUP                 \u001b[3m\u001b[38;5;246m<chr>\u001b[39m\u001b[23m \"m&a\", \"m&a\", \"m&a\", \"m&a\", \"m&a\", \"m&a\", \"m&a\"…\n",
      "$ PERC_OFFSHORE         \u001b[3m\u001b[38;5;246m<dbl>\u001b[39m\u001b[23m NA, NA, NA, NA, NA, NA, NA, NA, NA, NA, NA, NA,…\n",
      "$ AVG_AGE               \u001b[3m\u001b[38;5;246m<dbl>\u001b[39m\u001b[23m NA, NA, NA, NA, NA, NA, NA, NA, NA, NA, NA, NA,…\n",
      "$ CHANGE                \u001b[3m\u001b[38;5;246m<dbl>\u001b[39m\u001b[23m NA, NA, NA, NA, NA, NA, NA, NA, NA, NA, NA, NA,…\n",
      "$ M_A                   \u001b[3m\u001b[38;5;246m<lgl>\u001b[39m\u001b[23m FALSE, FALSE, FALSE, FALSE, FALSE, FALSE, TRUE,…\n"
     ]
    }
   ],
   "source": [
    "sample$M_A <- (sample$m_a_start | sample$m_a_end)\n",
    "sample <- select(sample, -c(end_year, m_a_start, start_year, m_a_end))\n",
    "sample$M_A <- replace_na(sample$M_A, FALSE)\n",
    "\n",
    "glimpse(sample)"
   ]
  },
  {
   "cell_type": "markdown",
   "metadata": {},
   "source": [
    "## 9.5 Calculate avg age, change for new groups"
   ]
  },
  {
   "cell_type": "code",
   "execution_count": 32,
   "metadata": {},
   "outputs": [
    {
     "name": "stdout",
     "output_type": "stream",
     "text": [
      "Observations: 1,073\n",
      "Variables: 23\n",
      "Groups: OPERATOR_ID, COMMODITY [160]\n",
      "$ YEAR                  \u001b[3m\u001b[38;5;246m<dbl>\u001b[39m\u001b[23m 2011, 2011, 2011, 2011, 2011, 2011, 2011, 2011,…\n",
      "$ COMMODITY             \u001b[3m\u001b[38;5;246m<chr>\u001b[39m\u001b[23m \"crude\", \"hvl\", \"non-hvl\", \"crude\", \"crude\", \"h…\n",
      "$ OPERATOR_ID           \u001b[3m\u001b[38;5;246m<chr>\u001b[39m\u001b[23m \"Sunoco (Group)\", \"Sunoco (Group)\", \"Sunoco (Gr…\n",
      "$ NAME                  \u001b[3m\u001b[38;5;246m<chr>\u001b[39m\u001b[23m \"Sunoco (Group)\", \"Sunoco (Group)\", \"Sunoco (Gr…\n",
      "$ MILES                 \u001b[3m\u001b[38;5;246m<dbl>\u001b[39m\u001b[23m 2391.740, 171.390, 1588.060, 141.540, 18.000, 1…\n",
      "$ AGE_UNKNOWN_MILES     \u001b[3m\u001b[38;5;246m<dbl>\u001b[39m\u001b[23m 371.800, 0.000, 0.000, 39.230, 0.000, 0.000, 10…\n",
      "$ MILES_PRE_1940        \u001b[3m\u001b[38;5;246m<dbl>\u001b[39m\u001b[23m 0, 0, 0, 0, 0, 0, 0, 0, 0, 0, 0, 0, 0, 0, 0, 0,…\n",
      "$ MILES_1940            \u001b[3m\u001b[38;5;246m<dbl>\u001b[39m\u001b[23m 10.000, 0.000, 151.840, 6.980, 0.000, 0.000, 13…\n",
      "$ MILES_1950            \u001b[3m\u001b[38;5;246m<dbl>\u001b[39m\u001b[23m 276.300, 0.000, 16.940, 3.140, 1.000, 0.000, 16…\n",
      "$ MILES_1960            \u001b[3m\u001b[38;5;246m<dbl>\u001b[39m\u001b[23m 183.680, 11.000, 206.420, 2.810, 3.000, 0.000, …\n",
      "$ MILES_1970            \u001b[3m\u001b[38;5;246m<dbl>\u001b[39m\u001b[23m 69.000, 6.000, 0.000, 11.360, 2.000, 22.000, 64…\n",
      "$ MILES_1980            \u001b[3m\u001b[38;5;246m<dbl>\u001b[39m\u001b[23m 23.000, 5.000, 41.000, 0.550, 2.000, 5.000, 21.…\n",
      "$ MILES_1990            \u001b[3m\u001b[38;5;246m<dbl>\u001b[39m\u001b[23m 91.480, 12.000, 18.510, 19.060, 2.000, 0.000, 1…\n",
      "$ MILES_2000            \u001b[3m\u001b[38;5;246m<dbl>\u001b[39m\u001b[23m 20.600, 0.000, 34.580, 6.350, 7.000, 0.000, 2.0…\n",
      "$ MILES_2010            \u001b[3m\u001b[38;5;246m<dbl>\u001b[39m\u001b[23m 0.000, 0.000, 0.000, 8.750, 0.000, 0.000, 0.000…\n",
      "$ PARENT                \u001b[3m\u001b[38;5;246m<chr>\u001b[39m\u001b[23m \"Energy Transfer\", \"Energy Transfer\", \"Energy T…\n",
      "$ INCIDENTS             \u001b[3m\u001b[38;5;246m<dbl>\u001b[39m\u001b[23m 27, 0, 1, 0, 2, 0, 2, 0, 2, 15, 5, 0, 0, 0, 0, …\n",
      "$ SIGNIFICANT_INCIDENTS \u001b[3m\u001b[38;5;246m<dbl>\u001b[39m\u001b[23m 6, 0, 1, 0, 0, 0, 0, 0, 2, 7, 2, 0, 0, 0, 0, 0,…\n",
      "$ GROUP                 \u001b[3m\u001b[38;5;246m<chr>\u001b[39m\u001b[23m \"m&a\", \"m&a\", \"m&a\", \"group\", \"group\", \"group\",…\n",
      "$ PERC_OFFSHORE         \u001b[3m\u001b[38;5;246m<dbl>\u001b[39m\u001b[23m NA, NA, NA, NA, NA, NA, NA, NA, NA, NA, NA, NA,…\n",
      "$ AVG_AGE               \u001b[3m\u001b[38;5;246m<dbl>\u001b[39m\u001b[23m NA, NA, NA, NA, NA, NA, NA, NA, NA, NA, NA, NA,…\n",
      "$ CHANGE                \u001b[3m\u001b[38;5;246m<dbl>\u001b[39m\u001b[23m 230.000, 0.000, -87.550, 0.000, 0.000, -226.000…\n",
      "$ M_A                   \u001b[3m\u001b[38;5;246m<lgl>\u001b[39m\u001b[23m TRUE, TRUE, TRUE, FALSE, FALSE, FALSE, FALSE, F…\n"
     ]
    }
   ],
   "source": [
    "testit::assert(nrow(subset(sample, YEAR == 2008)) > 0)\n",
    "sample <- sample %>%\n",
    "    group_by(OPERATOR_ID, COMMODITY) %>%\n",
    "    arrange(YEAR) %>%\n",
    "    mutate(CHANGE = MILES - lag(MILES, 1))\n",
    "glimpse(subset(sample, YEAR > 2010))"
   ]
  },
  {
   "cell_type": "code",
   "execution_count": 33,
   "metadata": {},
   "outputs": [
    {
     "name": "stdout",
     "output_type": "stream",
     "text": [
      "Observations: 1,425\n",
      "Variables: 23\n",
      "Groups: OPERATOR_ID, COMMODITY [166]\n",
      "$ YEAR                  \u001b[3m\u001b[38;5;246m<dbl>\u001b[39m\u001b[23m 2008, 2008, 2008, 2008, 2008, 2008, 2008, 2008,…\n",
      "$ COMMODITY             \u001b[3m\u001b[38;5;246m<chr>\u001b[39m\u001b[23m \"crude\", \"crude\", \"hvl\", \"non-hvl\", \"hvl\", \"non…\n",
      "$ OPERATOR_ID           \u001b[3m\u001b[38;5;246m<chr>\u001b[39m\u001b[23m \"SemGroup (Group)\", \"BP (Group)\", \"BP (Group)\",…\n",
      "$ NAME                  \u001b[3m\u001b[38;5;246m<chr>\u001b[39m\u001b[23m \"SemGroup (Group)\", \"BP (Group)\", \"BP (Group)\",…\n",
      "$ MILES                 \u001b[3m\u001b[38;5;246m<dbl>\u001b[39m\u001b[23m 119.000, 24.000, 359.000, 762.000, 881.000, 341…\n",
      "$ AGE_UNKNOWN_MILES     \u001b[3m\u001b[38;5;246m<dbl>\u001b[39m\u001b[23m 0, 0, 0, 0, 0, 0, 0, 0, 0, 0, 0, 0, 0, 0, 0, 0,…\n",
      "$ MILES_PRE_1940        \u001b[3m\u001b[38;5;246m<dbl>\u001b[39m\u001b[23m 22.000, 0.000, 0.000, 152.000, 0.000, 0.000, 0.…\n",
      "$ MILES_1940            \u001b[3m\u001b[38;5;246m<dbl>\u001b[39m\u001b[23m 22.000, 0.000, 0.000, 2.000, 0.000, 763.000, 0.…\n",
      "$ MILES_1950            \u001b[3m\u001b[38;5;246m<dbl>\u001b[39m\u001b[23m 146.00, 4.00, 0.00, 166.00, 0.70, 668.20, 368.2…\n",
      "$ MILES_1960            \u001b[3m\u001b[38;5;246m<dbl>\u001b[39m\u001b[23m 10.000, 7.000, 186.000, 80.000, 38.200, 581.000…\n",
      "$ MILES_1970            \u001b[3m\u001b[38;5;246m<dbl>\u001b[39m\u001b[23m 6.000, 5.000, 168.000, 700.000, 581.800, 0.000,…\n",
      "$ MILES_1980            \u001b[3m\u001b[38;5;246m<dbl>\u001b[39m\u001b[23m 2.000, 3.000, 33.000, 29.000, 13.500, 0.000, 32…\n",
      "$ MILES_1990            \u001b[3m\u001b[38;5;246m<dbl>\u001b[39m\u001b[23m 8.000, 3.000, 136.000, 25.000, 232.200, 0.000, …\n",
      "$ MILES_2000            \u001b[3m\u001b[38;5;246m<dbl>\u001b[39m\u001b[23m 10.000, 1.000, 3.000, 13.000, 1.100, 9.000, 62.…\n",
      "$ MILES_2010            \u001b[3m\u001b[38;5;246m<dbl>\u001b[39m\u001b[23m 0, 0, 0, 0, 0, 0, 0, 0, 0, 0, 0, 0, 0, 0, 0, 0,…\n",
      "$ PARENT                \u001b[3m\u001b[38;5;246m<chr>\u001b[39m\u001b[23m NA, NA, NA, NA, NA, NA, NA, NA, NA, NA, NA, NA,…\n",
      "$ INCIDENTS             \u001b[3m\u001b[38;5;246m<dbl>\u001b[39m\u001b[23m 0, 0, 0, 0, 0, 0, 0, 0, 0, 0, 0, 0, 0, 0, 0, 0,…\n",
      "$ SIGNIFICANT_INCIDENTS \u001b[3m\u001b[38;5;246m<dbl>\u001b[39m\u001b[23m 0, 0, 0, 0, 0, 0, 0, 0, 0, 0, 0, 0, 0, 0, 0, 0,…\n",
      "$ GROUP                 \u001b[3m\u001b[38;5;246m<chr>\u001b[39m\u001b[23m \"m&a\", \"group\", \"group\", \"group\", \"group\", \"gro…\n",
      "$ PERC_OFFSHORE         \u001b[3m\u001b[38;5;246m<dbl>\u001b[39m\u001b[23m NA, NA, NA, NA, NA, NA, NA, NA, NA, NA, NA, NA,…\n",
      "$ AVG_AGE               \u001b[3m\u001b[38;5;246m<dbl>\u001b[39m\u001b[23m 63.53982, 46.30435, 42.56654, 53.43188, 39.9095…\n",
      "$ CHANGE                \u001b[3m\u001b[38;5;246m<dbl>\u001b[39m\u001b[23m NA, NA, NA, NA, NA, NA, NA, NA, NA, NA, NA, NA,…\n",
      "$ M_A                   \u001b[3m\u001b[38;5;246m<lgl>\u001b[39m\u001b[23m FALSE, FALSE, FALSE, FALSE, FALSE, FALSE, FALSE…\n"
     ]
    }
   ],
   "source": [
    "sample$AVG_AGE <- ((sample$MILES_PRE_1940 * 90 +\n",
    "                    sample$MILES_1940 * 75 +\n",
    "                    sample$MILES_1950 * 65 +\n",
    "                    sample$MILES_1960 * 55 +\n",
    "                    sample$MILES_1970 * 45 +\n",
    "                    sample$MILES_1980 * 35 +\n",
    "                    sample$MILES_1990 * 25 +\n",
    "                    sample$MILES_2000 * 15 +\n",
    "                    sample$MILES_2010 * 05) /\n",
    "                   (sample$MILES_PRE_1940 +\n",
    "                    sample$MILES_1940 +\n",
    "                    sample$MILES_1950 +\n",
    "                    sample$MILES_1960 +\n",
    "                    sample$MILES_1970 +\n",
    "                    sample$MILES_1980 +\n",
    "                    sample$MILES_1990 +\n",
    "                    sample$MILES_2000 +\n",
    "                    sample$MILES_2010))\n",
    "\n",
    "glimpse(sample)"
   ]
  },
  {
   "cell_type": "code",
   "execution_count": 34,
   "metadata": {},
   "outputs": [],
   "source": [
    "test <- select(sample, COMMODITY, YEAR, OPERATOR_ID)\n",
    "test <- test[duplicated(test), ]\n",
    "testit::assert(nrow(test) == 0)"
   ]
  },
  {
   "cell_type": "markdown",
   "metadata": {},
   "source": [
    "## 9.6 Save"
   ]
  },
  {
   "cell_type": "code",
   "execution_count": 35,
   "metadata": {},
   "outputs": [],
   "source": [
    "testit::assert(nrow(subset(sample, YEAR == 2008)) > 0)\n",
    "feather::write_feather(sample, paste0(\"../preprocessed_data/sample_consolidated_\", Sys.Date(), \".feather\"))\n",
    "haven::write_dta(sample, paste0(\"../stata_data/sample_consolidated_\", Sys.Date(), \".dta\"))"
   ]
  }
 ],
 "metadata": {
  "kernelspec": {
   "display_name": "R 3.6.1",
   "language": "R",
   "name": "ir361"
  },
  "language_info": {
   "codemirror_mode": "r",
   "file_extension": ".r",
   "mimetype": "text/x-r-source",
   "name": "R",
   "pygments_lexer": "r",
   "version": "3.6.1"
  }
 },
 "nbformat": 4,
 "nbformat_minor": 4
}
