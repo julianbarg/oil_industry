{
 "cells": [
  {
   "cell_type": "markdown",
   "metadata": {},
   "source": [
    "# 9. Consolidate observations"
   ]
  },
  {
   "cell_type": "markdown",
   "metadata": {},
   "source": [
    "## Setup"
   ]
  },
  {
   "cell_type": "code",
   "execution_count": 1,
   "metadata": {},
   "outputs": [
    {
     "name": "stderr",
     "output_type": "stream",
     "text": [
      "Registered S3 methods overwritten by 'ggplot2':\n",
      "  method         from \n",
      "  [.quosures     rlang\n",
      "  c.quosures     rlang\n",
      "  print.quosures rlang\n",
      "Registered S3 method overwritten by 'rvest':\n",
      "  method            from\n",
      "  read_xml.response xml2\n",
      "── \u001b[1mAttaching packages\u001b[22m ─────────────────────────────────────── tidyverse 1.2.1 ──\n",
      "\u001b[32m✔\u001b[39m \u001b[34mggplot2\u001b[39m 3.1.1       \u001b[32m✔\u001b[39m \u001b[34mpurrr  \u001b[39m 0.3.2  \n",
      "\u001b[32m✔\u001b[39m \u001b[34mtibble \u001b[39m 2.1.1       \u001b[32m✔\u001b[39m \u001b[34mdplyr  \u001b[39m 0.8.0.\u001b[31m1\u001b[39m\n",
      "\u001b[32m✔\u001b[39m \u001b[34mtidyr  \u001b[39m 0.8.3       \u001b[32m✔\u001b[39m \u001b[34mstringr\u001b[39m 1.4.0  \n",
      "\u001b[32m✔\u001b[39m \u001b[34mreadr  \u001b[39m 1.3.1       \u001b[32m✔\u001b[39m \u001b[34mforcats\u001b[39m 0.4.0  \n",
      "── \u001b[1mConflicts\u001b[22m ────────────────────────────────────────── tidyverse_conflicts() ──\n",
      "\u001b[31m✖\u001b[39m \u001b[34mdplyr\u001b[39m::\u001b[32mfilter()\u001b[39m masks \u001b[34mstats\u001b[39m::filter()\n",
      "\u001b[31m✖\u001b[39m \u001b[34mdplyr\u001b[39m::\u001b[32mlag()\u001b[39m    masks \u001b[34mstats\u001b[39m::lag()\n"
     ]
    }
   ],
   "source": [
    "library(tidyverse)"
   ]
  },
  {
   "cell_type": "code",
   "execution_count": 2,
   "metadata": {},
   "outputs": [],
   "source": [
    "sample_file <- '../preprocessed_data/sample_2019-09-10.feather'\n",
    "company_groups_file <- '../preprocessed_data/company_groups_2019-09-10.feather'\n",
    "m_as_file <- '../preprocessed_data/m_as_2019-09-10.feather'"
   ]
  },
  {
   "cell_type": "markdown",
   "metadata": {},
   "source": [
    "## Read data"
   ]
  },
  {
   "cell_type": "code",
   "execution_count": 3,
   "metadata": {},
   "outputs": [
    {
     "name": "stderr",
     "output_type": "stream",
     "text": [
      "Warning message:\n",
      "“Coercing int64 to double”"
     ]
    },
    {
     "name": "stdout",
     "output_type": "stream",
     "text": [
      "Observations: 3,200\n",
      "Variables: 20\n",
      "$ OPERATOR_ID           \u001b[3m\u001b[38;5;246m<chr>\u001b[39m\u001b[23m \"300\", \"300\", \"300\", \"300\", \"300\", \"300\", \"300\"…\n",
      "$ YEAR                  \u001b[3m\u001b[38;5;246m<dbl>\u001b[39m\u001b[23m 2017, 2017, 2011, 2014, 2012, 2010, 2018, 2018,…\n",
      "$ NAME                  \u001b[3m\u001b[38;5;246m<chr>\u001b[39m\u001b[23m \"PLAINS PIPELINE, L.P.\", \"PLAINS PIPELINE, L.P.…\n",
      "$ COMMODITY             \u001b[3m\u001b[38;5;246m<chr>\u001b[39m\u001b[23m \"hvl\", \"non-hvl\", \"non-hvl\", \"non-hvl\", \"non-hv…\n",
      "$ MILES                 \u001b[3m\u001b[38;5;246m<dbl>\u001b[39m\u001b[23m 72.900, 0.000, 326.800, NA, 265.170, 62.280, 29…\n",
      "$ AGE_UNKNOWN_MILES     \u001b[3m\u001b[38;5;246m<dbl>\u001b[39m\u001b[23m 0.00, 0.00, 0.00, 0.00, 0.00, 0.00, 0.00, 0.00,…\n",
      "$ MILES_PRE_1940        \u001b[3m\u001b[38;5;246m<dbl>\u001b[39m\u001b[23m 0.00, 3.72, 0.00, 0.00, 0.00, 0.00, 0.00, 0.00,…\n",
      "$ MILES_1940            \u001b[3m\u001b[38;5;246m<dbl>\u001b[39m\u001b[23m 0, 0, 0, 0, 0, 0, 0, 0, 0, 0, 0, 0, 0, 0, 0, 0,…\n",
      "$ MILES_1950            \u001b[3m\u001b[38;5;246m<dbl>\u001b[39m\u001b[23m 0.000, 0.000, 0.800, 0.000, 0.800, 244.980, 0.0…\n",
      "$ MILES_1960            \u001b[3m\u001b[38;5;246m<dbl>\u001b[39m\u001b[23m 0.00, 0.00, 188.43, 0.00, 188.43, 4.76, 0.00, 0…\n",
      "$ MILES_1970            \u001b[3m\u001b[38;5;246m<dbl>\u001b[39m\u001b[23m 0.00, 0.00, 1.17, 0.00, 1.17, 0.00, 0.00, 0.00,…\n",
      "$ MILES_1980            \u001b[3m\u001b[38;5;246m<dbl>\u001b[39m\u001b[23m 0.00, 0.00, 4.43, 0.00, 4.43, 0.00, 0.00, 0.00,…\n",
      "$ MILES_1990            \u001b[3m\u001b[38;5;246m<dbl>\u001b[39m\u001b[23m 0.010, 0.000, 2.850, 0.000, 2.850, 2.860, 0.010…\n",
      "$ MILES_2000            \u001b[3m\u001b[38;5;246m<dbl>\u001b[39m\u001b[23m 0.000, 0.000, 0.350, 0.000, 0.350, 4.050, 0.000…\n",
      "$ MILES_2010            \u001b[3m\u001b[38;5;246m<dbl>\u001b[39m\u001b[23m 47.92, 0.00, 0.00, 0.00, 0.00, 0.00, 47.99, 0.0…\n",
      "$ AVG_AGE               \u001b[3m\u001b[38;5;246m<dbl>\u001b[39m\u001b[23m 5.004173, 90.000000, 54.031460, NA, 54.031460, …\n",
      "$ PERC_OFFSHORE         \u001b[3m\u001b[38;5;246m<dbl>\u001b[39m\u001b[23m 0, 0, 0, 0, 0, 0, 0, 0, 0, 0, 0, 0, 0, 0, 0, 0,…\n",
      "$ PARENT                \u001b[3m\u001b[38;5;246m<chr>\u001b[39m\u001b[23m \"Plains GP Holding\", \"Plains GP Holding\", \"Plai…\n",
      "$ INCIDENTS             \u001b[3m\u001b[38;5;246m<dbl>\u001b[39m\u001b[23m 0, 0, 0, 0, 1, 0, 0, 0, 0, 1, 0, 0, 0, 0, 0, 0,…\n",
      "$ SIGNIFICANT_INCIDENTS \u001b[3m\u001b[38;5;246m<dbl>\u001b[39m\u001b[23m 0, 0, 0, 0, 1, 0, 0, 0, 0, 0, 0, 0, 0, 0, 0, 0,…\n"
     ]
    }
   ],
   "source": [
    "sample <- feather::read_feather(sample_file)\n",
    "testit::assert(nrow(sample[duplicated(select(sample, YEAR, COMMODITY, OPERATOR_ID)), ]) == 0)\n",
    "glimpse(sample)"
   ]
  },
  {
   "cell_type": "code",
   "execution_count": 4,
   "metadata": {},
   "outputs": [
    {
     "name": "stdout",
     "output_type": "stream",
     "text": [
      "Observations: 135\n",
      "Variables: 2\n",
      "$ members \u001b[3m\u001b[38;5;246m<chr>\u001b[39m\u001b[23m \"30829\", \"32209\", \"3445\", \"32109\", \"30629\", \"15485\", \"31684\",…\n",
      "$ name    \u001b[3m\u001b[38;5;246m<chr>\u001b[39m\u001b[23m \"Teppco (Group)\", \"Teppco (Group)\", \"Teppco (Group)\", \"ONEOK …\n"
     ]
    }
   ],
   "source": [
    "company_groups <- feather::read_feather(company_groups_file)\n",
    "glimpse(company_groups)"
   ]
  },
  {
   "cell_type": "code",
   "execution_count": 5,
   "metadata": {},
   "outputs": [
    {
     "name": "stdout",
     "output_type": "stream",
     "text": [
      "Observations: 38\n",
      "Variables: 4\n",
      "$ members    \u001b[3m\u001b[38;5;246m<chr>\u001b[39m\u001b[23m \"Enterprise Products (Group)\", \"Teppco (Group)\", \"Sunoco (…\n",
      "$ name       \u001b[3m\u001b[38;5;246m<chr>\u001b[39m\u001b[23m \"Enterprise Products (Group)\", \"Enterprise Products (Group…\n",
      "$ start_year \u001b[3m\u001b[38;5;246m<chr>\u001b[39m\u001b[23m \"2010\", \"2010\", \"2011\", \"2011\", \"2011\", \"2013\", \"2013\", \"2…\n",
      "$ end_year   \u001b[3m\u001b[38;5;246m<chr>\u001b[39m\u001b[23m NA, NA, NA, NA, NA, NA, NA, NA, NA, NA, NA, \"2013\", \"2013\"…\n"
     ]
    }
   ],
   "source": [
    "m_as_orig <- feather::read_feather(m_as_file)\n",
    "glimpse(m_as_orig)"
   ]
  },
  {
   "cell_type": "markdown",
   "metadata": {},
   "source": [
    "## 9.1 Calculate change"
   ]
  },
  {
   "cell_type": "code",
   "execution_count": 6,
   "metadata": {},
   "outputs": [
    {
     "name": "stdout",
     "output_type": "stream",
     "text": [
      "Observations: 1,805\n",
      "Variables: 21\n",
      "Groups: OPERATOR_ID, COMMODITY [277]\n",
      "$ OPERATOR_ID           \u001b[3m\u001b[38;5;246m<chr>\u001b[39m\u001b[23m \"300\", \"395\", \"473\", \"473\", \"994\", \"1248\", \"124…\n",
      "$ YEAR                  \u001b[3m\u001b[38;5;246m<dbl>\u001b[39m\u001b[23m 2011, 2011, 2011, 2011, 2011, 2011, 2011, 2011,…\n",
      "$ NAME                  \u001b[3m\u001b[38;5;246m<chr>\u001b[39m\u001b[23m \"PLAINS PIPELINE, L.P.\", \"AMOCO OIL CO\", \"ANADA…\n",
      "$ COMMODITY             \u001b[3m\u001b[38;5;246m<chr>\u001b[39m\u001b[23m \"non-hvl\", \"non-hvl\", \"crude\", \"hvl\", \"hvl\", \"c…\n",
      "$ MILES                 \u001b[3m\u001b[38;5;246m<dbl>\u001b[39m\u001b[23m 326.800, 527.000, 12.000, NA, 121.400, 126.000,…\n",
      "$ AGE_UNKNOWN_MILES     \u001b[3m\u001b[38;5;246m<dbl>\u001b[39m\u001b[23m 0.000, 0.000, 0.000, 0.000, 0.000, 0.000, 0.000…\n",
      "$ MILES_PRE_1940        \u001b[3m\u001b[38;5;246m<dbl>\u001b[39m\u001b[23m 0, 0, 0, 0, 0, 0, 0, 0, 0, 0, 0, 0, 0, 0, 0, 0,…\n",
      "$ MILES_1940            \u001b[3m\u001b[38;5;246m<dbl>\u001b[39m\u001b[23m 0.0, 15.0, 0.0, 0.0, 0.0, 0.0, 0.0, 0.0, 801.9,…\n",
      "$ MILES_1950            \u001b[3m\u001b[38;5;246m<dbl>\u001b[39m\u001b[23m 0.800, 0.000, 0.000, 0.000, 0.000, 0.000, 0.000…\n",
      "$ MILES_1960            \u001b[3m\u001b[38;5;246m<dbl>\u001b[39m\u001b[23m 188.430, 1.000, 43.000, 0.000, 121.000, 187.000…\n",
      "$ MILES_1970            \u001b[3m\u001b[38;5;246m<dbl>\u001b[39m\u001b[23m 1.170, 2.000, 16.000, 0.000, 1.000, 189.000, 0.…\n",
      "$ MILES_1980            \u001b[3m\u001b[38;5;246m<dbl>\u001b[39m\u001b[23m 4.430, 17.000, 0.000, 2.000, 1.000, 49.000, 0.0…\n",
      "$ MILES_1990            \u001b[3m\u001b[38;5;246m<dbl>\u001b[39m\u001b[23m 2.850, 58.000, 0.000, 47.000, 0.000, 19.000, 26…\n",
      "$ MILES_2000            \u001b[3m\u001b[38;5;246m<dbl>\u001b[39m\u001b[23m 0.350, 2.000, 0.000, 16.800, 0.000, 31.000, 0.0…\n",
      "$ MILES_2010            \u001b[3m\u001b[38;5;246m<dbl>\u001b[39m\u001b[23m 0.000, 0.000, 28.000, 0.000, 0.000, 0.000, 0.00…\n",
      "$ AVG_AGE               \u001b[3m\u001b[38;5;246m<dbl>\u001b[39m\u001b[23m 54.03146, 35.21053, 37.06897, 22.75076, 54.7561…\n",
      "$ PERC_OFFSHORE         \u001b[3m\u001b[38;5;246m<dbl>\u001b[39m\u001b[23m 0, 0, 0, 0, 0, 0, 0, 0, 0, 0, 0, 0, 0, 0, 0, 0,…\n",
      "$ PARENT                \u001b[3m\u001b[38;5;246m<chr>\u001b[39m\u001b[23m \"Plains GP Holding\", \"Amoco\", \"Anadarko Petrole…\n",
      "$ INCIDENTS             \u001b[3m\u001b[38;5;246m<dbl>\u001b[39m\u001b[23m 0, 0, 0, 0, 0, 4, 1, 0, 14, 0, 0, 1, 0, 0, 0, 1…\n",
      "$ SIGNIFICANT_INCIDENTS \u001b[3m\u001b[38;5;246m<dbl>\u001b[39m\u001b[23m 0, 0, 0, 0, 0, 3, 1, 0, 7, 0, 0, 1, 0, 0, 0, 2,…\n",
      "$ CHANGE                \u001b[3m\u001b[38;5;246m<dbl>\u001b[39m\u001b[23m 264.520, -202.000, 0.000, NA, NA, -3.000, NA, -…\n"
     ]
    }
   ],
   "source": [
    "sample <- sample %>%\n",
    "    group_by(OPERATOR_ID, COMMODITY) %>%\n",
    "    arrange(YEAR) %>%\n",
    "    mutate(CHANGE = MILES - lag(MILES, 1))\n",
    "glimpse(subset(sample, YEAR > 2010))"
   ]
  },
  {
   "cell_type": "markdown",
   "metadata": {},
   "source": [
    "## 9.2 Consolidate observations"
   ]
  },
  {
   "cell_type": "markdown",
   "metadata": {},
   "source": [
    "### 9.2.1 Company groups"
   ]
  },
  {
   "cell_type": "code",
   "execution_count": 7,
   "metadata": {},
   "outputs": [
    {
     "name": "stdout",
     "output_type": "stream",
     "text": [
      "Observations: 2,096\n",
      "Variables: 22\n",
      "Groups: OPERATOR_ID, COMMODITY [222]\n",
      "$ OPERATOR_ID           \u001b[3m\u001b[38;5;246m<chr>\u001b[39m\u001b[23m \"395\", \"994\", \"1845\", \"2162\", \"2170\", \"2190\", \"…\n",
      "$ YEAR                  \u001b[3m\u001b[38;5;246m<dbl>\u001b[39m\u001b[23m 2004, 2004, 2004, 2004, 2004, 2004, 2004, 2004,…\n",
      "$ NAME                  \u001b[3m\u001b[38;5;246m<chr>\u001b[39m\u001b[23m \"BP PIPELINES NORTH AMERICA INC.\", \"WILLIAMS MI…\n",
      "$ COMMODITY             \u001b[3m\u001b[38;5;246m<chr>\u001b[39m\u001b[23m \"non-hvl\", \"crude\", \"non-hvl\", \"hvl\", \"non-hvl\"…\n",
      "$ MILES                 \u001b[3m\u001b[38;5;246m<dbl>\u001b[39m\u001b[23m 728.00, 0.00, 3047.00, 130.00, 365.00, 164.00, …\n",
      "$ AGE_UNKNOWN_MILES     \u001b[3m\u001b[38;5;246m<dbl>\u001b[39m\u001b[23m 0, 0, 0, 0, 0, 0, 0, 0, 0, 0, 0, 0, 0, 0, 0, 0,…\n",
      "$ MILES_PRE_1940        \u001b[3m\u001b[38;5;246m<dbl>\u001b[39m\u001b[23m 0, 0, 0, 0, 0, 0, 0, 0, 0, 13, 0, 0, 0, 0, 0, 0…\n",
      "$ MILES_1940            \u001b[3m\u001b[38;5;246m<dbl>\u001b[39m\u001b[23m 15, 0, 729, 0, 0, 0, 0, 0, 0, 48, 0, 58, 0, 0, …\n",
      "$ MILES_1950            \u001b[3m\u001b[38;5;246m<dbl>\u001b[39m\u001b[23m 108.0, 0.0, 567.0, 0.0, 70.4, 0.0, 65.0, 0.0, 4…\n",
      "$ MILES_1960            \u001b[3m\u001b[38;5;246m<dbl>\u001b[39m\u001b[23m 1, 0, 581, 0, 188, 0, 0, 0, 139, 222, 1289, 135…\n",
      "$ MILES_1970            \u001b[3m\u001b[38;5;246m<dbl>\u001b[39m\u001b[23m 5.0, 0.0, 0.0, 249.0, 23.1, 89.0, 0.0, 0.0, 320…\n",
      "$ MILES_1980            \u001b[3m\u001b[38;5;246m<dbl>\u001b[39m\u001b[23m 26.0, 0.0, 0.0, 0.0, 2.7, 2.0, 0.0, 0.0, 163.0,…\n",
      "$ MILES_1990            \u001b[3m\u001b[38;5;246m<dbl>\u001b[39m\u001b[23m 60, 0, 0, 0, 295, 112, 0, 0, 47, 6, 0, 6, 0, 0,…\n",
      "$ MILES_2000            \u001b[3m\u001b[38;5;246m<dbl>\u001b[39m\u001b[23m 2.0, 8.0, 0.0, 0.0, 101.9, 0.0, 0.0, 0.0, 0.0, …\n",
      "$ MILES_2010            \u001b[3m\u001b[38;5;246m<dbl>\u001b[39m\u001b[23m 0, 0, 0, 0, 0, 0, 0, 0, 0, 0, 0, 0, 0, 0, 0, 0,…\n",
      "$ AVG_AGE               \u001b[3m\u001b[38;5;246m<dbl>\u001b[39m\u001b[23m 50.06912, 15.00000, 65.78849, 45.00000, 36.6370…\n",
      "$ PERC_OFFSHORE         \u001b[3m\u001b[38;5;246m<dbl>\u001b[39m\u001b[23m 0, 0, 0, 0, 0, 0, 0, 0, 0, 0, 0, 0, 0, 0, 0, 0,…\n",
      "$ PARENT                \u001b[3m\u001b[38;5;246m<chr>\u001b[39m\u001b[23m \"Amoco\", \"The Williams Companies\", \"Buckeye Par…\n",
      "$ INCIDENTS             \u001b[3m\u001b[38;5;246m<dbl>\u001b[39m\u001b[23m 0, 0, 16, 0, 1, 0, 0, 0, 2, 1, 1, 0, 0, 0, 8, 1…\n",
      "$ SIGNIFICANT_INCIDENTS \u001b[3m\u001b[38;5;246m<dbl>\u001b[39m\u001b[23m 0, 0, 7, 0, 0, 0, 0, 0, 2, 0, 0, 0, 0, 0, 3, 0,…\n",
      "$ CHANGE                \u001b[3m\u001b[38;5;246m<dbl>\u001b[39m\u001b[23m NA, NA, NA, NA, NA, NA, NA, NA, NA, NA, NA, NA,…\n",
      "$ new_name              \u001b[3m\u001b[38;5;246m<chr>\u001b[39m\u001b[23m \"Amoco (Group)\", \"Williams Field Services (Grou…\n"
     ]
    }
   ],
   "source": [
    "company_groups <- rename(company_groups, new_name = name)\n",
    "sample <- left_join(sample, company_groups, by=c('OPERATOR_ID' = 'members'))\n",
    "testit::assert(nrow(sample[duplicated(select(sample, YEAR, COMMODITY, OPERATOR_ID)), ]) == 0)\n",
    "glimpse(subset(sample, !is.na(sample$new_name)))"
   ]
  },
  {
   "cell_type": "code",
   "execution_count": 8,
   "metadata": {},
   "outputs": [
    {
     "name": "stdout",
     "output_type": "stream",
     "text": [
      "Observations: 1,131\n",
      "Variables: 20\n",
      "$ new_name              \u001b[3m\u001b[38;5;246m<chr>\u001b[39m\u001b[23m \"Amoco (Group)\", \"Amoco (Group)\", \"Amoco (Group…\n",
      "$ YEAR                  \u001b[3m\u001b[38;5;246m<dbl>\u001b[39m\u001b[23m 2004, 2004, 2005, 2005, 2006, 2006, 2007, 2007,…\n",
      "$ COMMODITY             \u001b[3m\u001b[38;5;246m<chr>\u001b[39m\u001b[23m \"hvl\", \"non-hvl\", \"hvl\", \"non-hvl\", \"hvl\", \"non…\n",
      "$ OPERATOR_ID           \u001b[3m\u001b[38;5;246m<chr>\u001b[39m\u001b[23m \"Amoco (Group)\", \"Amoco (Group)\", \"Amoco (Group…\n",
      "$ NAME                  \u001b[3m\u001b[38;5;246m<chr>\u001b[39m\u001b[23m \"Amoco (Group)\", \"Amoco (Group)\", \"Amoco (Group…\n",
      "$ MILES                 \u001b[3m\u001b[38;5;246m<dbl>\u001b[39m\u001b[23m 665.94, 728.00, 665.94, 728.00, 665.94, 728.00,…\n",
      "$ AGE_UNKNOWN_MILES     \u001b[3m\u001b[38;5;246m<dbl>\u001b[39m\u001b[23m 0.00, 0.00, 0.00, 0.00, 0.00, 0.00, 0.00, 0.00,…\n",
      "$ MILES_PRE_1940        \u001b[3m\u001b[38;5;246m<dbl>\u001b[39m\u001b[23m 0.0, 0.0, 0.0, 0.0, 0.0, 0.0, 0.0, 0.0, 0.0, 0.…\n",
      "$ MILES_1940            \u001b[3m\u001b[38;5;246m<dbl>\u001b[39m\u001b[23m 0.00, 15.00, 0.00, 15.00, 0.00, 15.00, 0.00, 15…\n",
      "$ MILES_1950            \u001b[3m\u001b[38;5;246m<dbl>\u001b[39m\u001b[23m 0.50, 108.00, 0.50, 108.00, 0.50, 108.00, 0.25,…\n",
      "$ MILES_1960            \u001b[3m\u001b[38;5;246m<dbl>\u001b[39m\u001b[23m 0.00, 1.00, 0.00, 1.00, 0.00, 1.00, 0.00, 1.00,…\n",
      "$ MILES_1970            \u001b[3m\u001b[38;5;246m<dbl>\u001b[39m\u001b[23m 1349.44, 5.00, 1349.44, 5.00, 1349.44, 5.00, 14…\n",
      "$ MILES_1980            \u001b[3m\u001b[38;5;246m<dbl>\u001b[39m\u001b[23m 0.00, 26.00, 0.00, 26.00, 0.00, 26.00, 0.00, 26…\n",
      "$ MILES_1990            \u001b[3m\u001b[38;5;246m<dbl>\u001b[39m\u001b[23m 36.93, 60.00, 36.93, 60.00, 36.93, 60.00, 0.00,…\n",
      "$ MILES_2000            \u001b[3m\u001b[38;5;246m<dbl>\u001b[39m\u001b[23m 0.00, 2.00, 0.00, 2.00, 0.00, 2.00, 0.00, 2.00,…\n",
      "$ MILES_2010            \u001b[3m\u001b[38;5;246m<dbl>\u001b[39m\u001b[23m 0.00, 0.00, 0.00, 0.00, 0.00, 0.00, 0.00, 0.00,…\n",
      "$ PARENT                \u001b[3m\u001b[38;5;246m<chr>\u001b[39m\u001b[23m \"Amoco\", \"Amoco\", \"Amoco\", \"Amoco\", \"Amoco\", \"A…\n",
      "$ INCIDENTS             \u001b[3m\u001b[38;5;246m<dbl>\u001b[39m\u001b[23m 1, 0, 0, 2, 0, 0, 0, 0, 0, 5, 1, 2, 0, 3, 0, 0,…\n",
      "$ SIGNIFICANT_INCIDENTS \u001b[3m\u001b[38;5;246m<dbl>\u001b[39m\u001b[23m 1, 0, 0, 0, 0, 0, 0, 0, 0, 3, 1, 1, 0, 2, 0, 0,…\n",
      "$ GROUP                 \u001b[3m\u001b[38;5;246m<chr>\u001b[39m\u001b[23m \"group\", \"group\", \"group\", \"group\", \"group\", \"g…\n"
     ]
    }
   ],
   "source": [
    "sample_no_group <- subset(sample, is.na(sample$new_name))\n",
    "sample_group <- subset(sample, !is.na(sample$new_name))\n",
    "\n",
    "sample_group <- sample_group %>%\n",
    "    group_by(new_name, YEAR, COMMODITY) %>%\n",
    "    summarize(OPERATOR_ID = first(new_name), \n",
    "              NAME              = first(new_name),\n",
    "              MILES             = sum(MILES, na.rm=TRUE), \n",
    "              AGE_UNKNOWN_MILES = sum(AGE_UNKNOWN_MILES, na.rm=TRUE), \n",
    "              MILES_PRE_1940    = sum(MILES_PRE_1940, na.rm=TRUE), \n",
    "              MILES_1940      = sum(MILES_1940, na.rm=TRUE),\n",
    "              MILES_1950      = sum(MILES_1950, na.rm=TRUE),\n",
    "              MILES_1960      = sum(MILES_1960, na.rm=TRUE),\n",
    "              MILES_1970      = sum(MILES_1970, na.rm=TRUE),\n",
    "              MILES_1980      = sum(MILES_1980, na.rm=TRUE),\n",
    "              MILES_1990      = sum(MILES_1990, na.rm=TRUE),\n",
    "              MILES_2000      = sum(MILES_2000, na.rm=TRUE),\n",
    "              MILES_2010      = sum(MILES_2010, na.rm=TRUE),\n",
    "              PARENT            = first(PARENT), \n",
    "              INCIDENTS         = sum(INCIDENTS, na.rm=TRUE), \n",
    "              SIGNIFICANT_INCIDENTS = sum(SIGNIFICANT_INCIDENTS, na.rm=TRUE), \n",
    "              GROUP = 'group') %>%\n",
    "    # We calculate the avg age and change once all groupings (including M&As below), are taken care of\n",
    "    ungroup()\n",
    "\n",
    "glimpse(sample_group)"
   ]
  },
  {
   "cell_type": "code",
   "execution_count": 9,
   "metadata": {},
   "outputs": [
    {
     "name": "stdout",
     "output_type": "stream",
     "text": [
      "Observations: 10\n",
      "Variables: 22\n",
      "$ YEAR                  \u001b[3m\u001b[38;5;246m<dbl>\u001b[39m\u001b[23m 2012, 2009, 2018, 2018, 2006, 2015, 2016, 2011,…\n",
      "$ COMMODITY             \u001b[3m\u001b[38;5;246m<chr>\u001b[39m\u001b[23m \"crude\", \"crude\", \"non-hvl\", \"hvl\", \"non-hvl\", …\n",
      "$ OPERATOR_ID           \u001b[3m\u001b[38;5;246m<chr>\u001b[39m\u001b[23m \"26049\", \"22855\", \"Torrance (Group)\", \"30626\", …\n",
      "$ NAME                  \u001b[3m\u001b[38;5;246m<chr>\u001b[39m\u001b[23m \"COUNTRYMARK REFINING AND LOGISTICS, LLC\", \"KOC…\n",
      "$ MILES                 \u001b[3m\u001b[38;5;246m<dbl>\u001b[39m\u001b[23m NA, 1097.000, 163.182, 233.770, 1130.679, 29.16…\n",
      "$ AGE_UNKNOWN_MILES     \u001b[3m\u001b[38;5;246m<dbl>\u001b[39m\u001b[23m 0, 0, 0, 0, 0, 0, 0, 0, 0, 0\n",
      "$ MILES_PRE_1940        \u001b[3m\u001b[38;5;246m<dbl>\u001b[39m\u001b[23m 0.0, 0.0, 0.0, 0.0, 0.0, 0.0, 0.0, 0.0, 0.0, 0.7\n",
      "$ MILES_1940            \u001b[3m\u001b[38;5;246m<dbl>\u001b[39m\u001b[23m 56.60, 12.00, 5.45, 63.30, 0.00, 0.00, 105.83, …\n",
      "$ MILES_1950            \u001b[3m\u001b[38;5;246m<dbl>\u001b[39m\u001b[23m 0.000, 209.000, 13.080, 83.100, 97.160, 0.000, …\n",
      "$ MILES_1960            \u001b[3m\u001b[38;5;246m<dbl>\u001b[39m\u001b[23m 0.000, 0.000, 15.308, 31.800, 197.010, 0.000, 4…\n",
      "$ MILES_1970            \u001b[3m\u001b[38;5;246m<dbl>\u001b[39m\u001b[23m 38.300, 264.000, 103.659, 37.930, 11.970, 0.000…\n",
      "$ MILES_1980            \u001b[3m\u001b[38;5;246m<dbl>\u001b[39m\u001b[23m 0.000, 954.000, 5.872, 1.230, 18.510, 0.000, 46…\n",
      "$ MILES_1990            \u001b[3m\u001b[38;5;246m<dbl>\u001b[39m\u001b[23m 34.200, 77.000, 2.412, 49.730, 26.860, 27.220, …\n",
      "$ MILES_2000            \u001b[3m\u001b[38;5;246m<dbl>\u001b[39m\u001b[23m 60.100, 316.000, 5.736, 2.470, 0.610, 0.068, 0.…\n",
      "$ MILES_2010            \u001b[3m\u001b[38;5;246m<dbl>\u001b[39m\u001b[23m 7.600, 0.000, 1.078, 31.040, 0.000, 1.880, 47.2…\n",
      "$ PARENT                \u001b[3m\u001b[38;5;246m<chr>\u001b[39m\u001b[23m \"Countrymark\", \"Koch Industries\", \"PBF Energy\",…\n",
      "$ INCIDENTS             \u001b[3m\u001b[38;5;246m<dbl>\u001b[39m\u001b[23m 0, 4, 0, 0, 6, 0, 0, 2, 0, 0\n",
      "$ SIGNIFICANT_INCIDENTS \u001b[3m\u001b[38;5;246m<dbl>\u001b[39m\u001b[23m 0, 1, 0, 0, 3, 0, 0, 2, 0, 0\n",
      "$ GROUP                 \u001b[3m\u001b[38;5;246m<chr>\u001b[39m\u001b[23m \"not group\", \"not group\", \"group\", \"not group\",…\n",
      "$ AVG_AGE               \u001b[3m\u001b[38;5;246m<dbl>\u001b[39m\u001b[23m 39.44614, 36.25546, NA, 50.17764, NA, 23.68760,…\n",
      "$ PERC_OFFSHORE         \u001b[3m\u001b[38;5;246m<dbl>\u001b[39m\u001b[23m 0, 0, NA, 0, NA, 0, NA, NA, 0, NA\n",
      "$ CHANGE                \u001b[3m\u001b[38;5;246m<dbl>\u001b[39m\u001b[23m NA, 8, NA, 176, NA, 0, NA, NA, NA, NA\n"
     ]
    }
   ],
   "source": [
    "sample_no_group$GROUP = \"not group\"\n",
    "\n",
    "sample <- bind_rows(sample_group, sample_no_group)\n",
    "sample <- sample[ , (names(sample) != \"new_name\")]\n",
    "testit::assert(nrow(sample[duplicated(select(sample, YEAR, COMMODITY, OPERATOR_ID)), ]) == 0)\n",
    "glimpse(sample_n(sample, 10))"
   ]
  },
  {
   "cell_type": "code",
   "execution_count": 10,
   "metadata": {},
   "outputs": [
    {
     "data": {
      "text/plain": [
       "\n",
       "    group not group \n",
       "     1131      1104 "
      ]
     },
     "metadata": {},
     "output_type": "display_data"
    }
   ],
   "source": [
    "testit::assert(nrow(subset(sample, YEAR == 2008)) > 0)\n",
    "table(sample$GROUP)"
   ]
  },
  {
   "cell_type": "markdown",
   "metadata": {},
   "source": [
    "### 9.2.2 M&As"
   ]
  },
  {
   "cell_type": "code",
   "execution_count": 11,
   "metadata": {},
   "outputs": [
    {
     "name": "stdout",
     "output_type": "stream",
     "text": [
      "Observations: 284\n",
      "Variables: 4\n",
      "$ members  \u001b[3m\u001b[38;5;246m<chr>\u001b[39m\u001b[23m \"Enbridge (Group)\", \"15774\", \"BP (Group)\", \"30781\", \"Chevron…\n",
      "$ new_name \u001b[3m\u001b[38;5;246m<chr>\u001b[39m\u001b[23m \"Enbridge (Group)\", \"Enbridge (Group)\", \"BP (Group)\", \"BP (G…\n",
      "$ year     \u001b[3m\u001b[38;5;246m<dbl>\u001b[39m\u001b[23m 2004, 2004, 2004, 2004, 2004, 2004, 2004, 2004, 2004, 2005, …\n",
      "$ m_a      \u001b[3m\u001b[38;5;246m<lgl>\u001b[39m\u001b[23m TRUE, TRUE, TRUE, TRUE, TRUE, TRUE, TRUE, TRUE, TRUE, TRUE, …\n"
     ]
    }
   ],
   "source": [
    "m_as <- rename(m_as_orig, new_name = name)\n",
    "\n",
    "# We need to fill in the NA values for start and end_year with values that always match, because when logical conditions encounter NAs\n",
    "# they will always be wrong. The filtering in those cases happens because the new_name column is NA.\n",
    "m_as[is.na(m_as$start_year), ]$start_year <- -9999\n",
    "m_as[is.na(m_as$end_year), ]$end_year <- 9999\n",
    "\n",
    "years = data.frame(year = unique(sample$YEAR))\n",
    "m_as <- merge(m_as, years)\n",
    "m_as <- m_as %>%\n",
    "    filter(year >= start_year & year < end_year) %>%\n",
    "    select(members, new_name, year) %>%\n",
    "    distinct()\n",
    "m_as$m_a = TRUE\n",
    "\n",
    "glimpse(m_as)"
   ]
  },
  {
   "cell_type": "code",
   "execution_count": 12,
   "metadata": {},
   "outputs": [
    {
     "name": "stdout",
     "output_type": "stream",
     "text": [
      "Observations: 2,246\n",
      "Variables: 24\n",
      "$ YEAR                  \u001b[3m\u001b[38;5;246m<dbl>\u001b[39m\u001b[23m 2004, 2004, 2005, 2005, 2006, 2006, 2007, 2007,…\n",
      "$ COMMODITY             \u001b[3m\u001b[38;5;246m<chr>\u001b[39m\u001b[23m \"hvl\", \"non-hvl\", \"hvl\", \"non-hvl\", \"hvl\", \"non…\n",
      "$ OPERATOR_ID           \u001b[3m\u001b[38;5;246m<chr>\u001b[39m\u001b[23m \"Amoco (Group)\", \"Amoco (Group)\", \"Amoco (Group…\n",
      "$ NAME                  \u001b[3m\u001b[38;5;246m<chr>\u001b[39m\u001b[23m \"Amoco (Group)\", \"Amoco (Group)\", \"Amoco (Group…\n",
      "$ MILES                 \u001b[3m\u001b[38;5;246m<dbl>\u001b[39m\u001b[23m 665.94, 728.00, 665.94, 728.00, 665.94, 728.00,…\n",
      "$ AGE_UNKNOWN_MILES     \u001b[3m\u001b[38;5;246m<dbl>\u001b[39m\u001b[23m 0.00, 0.00, 0.00, 0.00, 0.00, 0.00, 0.00, 0.00,…\n",
      "$ MILES_PRE_1940        \u001b[3m\u001b[38;5;246m<dbl>\u001b[39m\u001b[23m 0.0, 0.0, 0.0, 0.0, 0.0, 0.0, 0.0, 0.0, 0.0, 0.…\n",
      "$ MILES_1940            \u001b[3m\u001b[38;5;246m<dbl>\u001b[39m\u001b[23m 0.00, 15.00, 0.00, 15.00, 0.00, 15.00, 0.00, 15…\n",
      "$ MILES_1950            \u001b[3m\u001b[38;5;246m<dbl>\u001b[39m\u001b[23m 0.50, 108.00, 0.50, 108.00, 0.50, 108.00, 0.25,…\n",
      "$ MILES_1960            \u001b[3m\u001b[38;5;246m<dbl>\u001b[39m\u001b[23m 0.00, 1.00, 0.00, 1.00, 0.00, 1.00, 0.00, 1.00,…\n",
      "$ MILES_1970            \u001b[3m\u001b[38;5;246m<dbl>\u001b[39m\u001b[23m 1349.44, 5.00, 1349.44, 5.00, 1349.44, 5.00, 14…\n",
      "$ MILES_1980            \u001b[3m\u001b[38;5;246m<dbl>\u001b[39m\u001b[23m 0.00, 26.00, 0.00, 26.00, 0.00, 26.00, 0.00, 26…\n",
      "$ MILES_1990            \u001b[3m\u001b[38;5;246m<dbl>\u001b[39m\u001b[23m 36.93, 60.00, 36.93, 60.00, 36.93, 60.00, 0.00,…\n",
      "$ MILES_2000            \u001b[3m\u001b[38;5;246m<dbl>\u001b[39m\u001b[23m 0.00, 2.00, 0.00, 2.00, 0.00, 2.00, 0.00, 2.00,…\n",
      "$ MILES_2010            \u001b[3m\u001b[38;5;246m<dbl>\u001b[39m\u001b[23m 0.00, 0.00, 0.00, 0.00, 0.00, 0.00, 0.00, 0.00,…\n",
      "$ PARENT                \u001b[3m\u001b[38;5;246m<chr>\u001b[39m\u001b[23m \"Amoco\", \"Amoco\", \"Amoco\", \"Amoco\", \"Amoco\", \"A…\n",
      "$ INCIDENTS             \u001b[3m\u001b[38;5;246m<dbl>\u001b[39m\u001b[23m 1, 0, 0, 2, 0, 0, 0, 0, 0, 5, 1, 2, 0, 3, 0, 0,…\n",
      "$ SIGNIFICANT_INCIDENTS \u001b[3m\u001b[38;5;246m<dbl>\u001b[39m\u001b[23m 1, 0, 0, 0, 0, 0, 0, 0, 0, 3, 1, 1, 0, 2, 0, 0,…\n",
      "$ GROUP                 \u001b[3m\u001b[38;5;246m<chr>\u001b[39m\u001b[23m \"group\", \"group\", \"group\", \"group\", \"group\", \"g…\n",
      "$ AVG_AGE               \u001b[3m\u001b[38;5;246m<dbl>\u001b[39m\u001b[23m NA, NA, NA, NA, NA, NA, NA, NA, NA, NA, NA, NA,…\n",
      "$ PERC_OFFSHORE         \u001b[3m\u001b[38;5;246m<dbl>\u001b[39m\u001b[23m NA, NA, NA, NA, NA, NA, NA, NA, NA, NA, NA, NA,…\n",
      "$ CHANGE                \u001b[3m\u001b[38;5;246m<dbl>\u001b[39m\u001b[23m NA, NA, NA, NA, NA, NA, NA, NA, NA, NA, NA, NA,…\n",
      "$ new_name              \u001b[3m\u001b[38;5;246m<chr>\u001b[39m\u001b[23m NA, NA, NA, NA, NA, NA, NA, NA, NA, NA, NA, NA,…\n",
      "$ m_a                   \u001b[3m\u001b[38;5;246m<lgl>\u001b[39m\u001b[23m FALSE, FALSE, FALSE, FALSE, FALSE, FALSE, FALSE…\n"
     ]
    }
   ],
   "source": [
    "sample <- left_join(sample, m_as, by=c('OPERATOR_ID' = 'members', 'YEAR' = 'year'))\n",
    "sample$m_a <- replace_na(sample$m_a, FALSE)\n",
    "\n",
    "glimpse(sample)"
   ]
  },
  {
   "cell_type": "code",
   "execution_count": 13,
   "metadata": {},
   "outputs": [
    {
     "name": "stdout",
     "output_type": "stream",
     "text": [
      "Observations: 400\n",
      "Variables: 24\n",
      "$ YEAR                  \u001b[3m\u001b[38;5;246m<dbl>\u001b[39m\u001b[23m 2014, 2015, 2016, 2017, 2018, 2004, 2004, 2004,…\n",
      "$ COMMODITY             \u001b[3m\u001b[38;5;246m<chr>\u001b[39m\u001b[23m \"hvl\", \"hvl\", \"hvl\", \"hvl\", \"hvl\", \"crude\", \"hv…\n",
      "$ OPERATOR_ID           \u001b[3m\u001b[38;5;246m<chr>\u001b[39m\u001b[23m \"Boardwalk (Group)\", \"Boardwalk (Group)\", \"Boar…\n",
      "$ NAME                  \u001b[3m\u001b[38;5;246m<chr>\u001b[39m\u001b[23m \"Boardwalk (Group)\", \"Boardwalk (Group)\", \"Boar…\n",
      "$ MILES                 \u001b[3m\u001b[38;5;246m<dbl>\u001b[39m\u001b[23m 179.30, 260.70, 262.00, 262.40, 268.10, 36.00, …\n",
      "$ AGE_UNKNOWN_MILES     \u001b[3m\u001b[38;5;246m<dbl>\u001b[39m\u001b[23m 0.0, 0.0, 0.0, 3.3, 3.3, 0.0, 0.0, 0.0, 0.0, 0.…\n",
      "$ MILES_PRE_1940        \u001b[3m\u001b[38;5;246m<dbl>\u001b[39m\u001b[23m 0.00, 0.00, 0.00, 0.00, 0.00, 1.00, 0.00, 152.0…\n",
      "$ MILES_1940            \u001b[3m\u001b[38;5;246m<dbl>\u001b[39m\u001b[23m 0.00, 0.00, 0.00, 0.00, 0.00, 1.00, 0.00, 43.00…\n",
      "$ MILES_1950            \u001b[3m\u001b[38;5;246m<dbl>\u001b[39m\u001b[23m 0.00, 0.00, 0.00, 0.00, 0.00, 4.00, 0.00, 498.0…\n",
      "$ MILES_1960            \u001b[3m\u001b[38;5;246m<dbl>\u001b[39m\u001b[23m 319.90, 56.50, 185.70, 167.30, 165.80, 7.00, 28…\n",
      "$ MILES_1970            \u001b[3m\u001b[38;5;246m<dbl>\u001b[39m\u001b[23m 0.00, 12.70, 12.90, 12.90, 12.90, 5.00, 631.00,…\n",
      "$ MILES_1980            \u001b[3m\u001b[38;5;246m<dbl>\u001b[39m\u001b[23m 0.00, 0.00, 4.00, 4.00, 4.00, 2.00, 36.00, 39.0…\n",
      "$ MILES_1990            \u001b[3m\u001b[38;5;246m<dbl>\u001b[39m\u001b[23m 63.10, 23.80, 24.20, 24.20, 24.20, 5.00, 98.00,…\n",
      "$ MILES_2000            \u001b[3m\u001b[38;5;246m<dbl>\u001b[39m\u001b[23m 83.80, 53.60, 53.60, 39.90, 40.80, 1.00, 1.00, …\n",
      "$ MILES_2010            \u001b[3m\u001b[38;5;246m<dbl>\u001b[39m\u001b[23m 0.0, 3.0, 3.9, 4.2, 30.9, 0.0, 0.0, 0.0, 0.0, 0…\n",
      "$ PARENT                \u001b[3m\u001b[38;5;246m<chr>\u001b[39m\u001b[23m \"Loews Corporation\", \"Loews Corporation\", \"Loew…\n",
      "$ INCIDENTS             \u001b[3m\u001b[38;5;246m<dbl>\u001b[39m\u001b[23m 0, 0, 0, 1, 2, 1, 0, 3, 0, 0, 4, 2, 1, 1, 2, 0,…\n",
      "$ SIGNIFICANT_INCIDENTS \u001b[3m\u001b[38;5;246m<dbl>\u001b[39m\u001b[23m 0, 0, 0, 1, 2, 0, 0, 0, 0, 0, 1, 2, 0, 0, 2, 0,…\n",
      "$ GROUP                 \u001b[3m\u001b[38;5;246m<chr>\u001b[39m\u001b[23m \"group\", \"group\", \"group\", \"group\", \"group\", \"g…\n",
      "$ AVG_AGE               \u001b[3m\u001b[38;5;246m<dbl>\u001b[39m\u001b[23m NA, NA, NA, NA, NA, NA, NA, NA, NA, NA, NA, NA,…\n",
      "$ PERC_OFFSHORE         \u001b[3m\u001b[38;5;246m<dbl>\u001b[39m\u001b[23m NA, NA, NA, NA, NA, NA, NA, NA, NA, NA, NA, NA,…\n",
      "$ CHANGE                \u001b[3m\u001b[38;5;246m<dbl>\u001b[39m\u001b[23m NA, NA, NA, NA, NA, NA, NA, NA, NA, NA, NA, NA,…\n",
      "$ new_name              \u001b[3m\u001b[38;5;246m<chr>\u001b[39m\u001b[23m \"Boardwalk (Group)\", \"Boardwalk (Group)\", \"Boar…\n",
      "$ m_a                   \u001b[3m\u001b[38;5;246m<lgl>\u001b[39m\u001b[23m TRUE, TRUE, TRUE, TRUE, TRUE, TRUE, TRUE, TRUE,…\n"
     ]
    }
   ],
   "source": [
    "sample_m_as <- subset(sample, m_a == TRUE)\n",
    "sample_no_m_as <- subset(sample, m_a == FALSE)\n",
    "\n",
    "glimpse(sample_m_as)"
   ]
  },
  {
   "cell_type": "code",
   "execution_count": 14,
   "metadata": {},
   "outputs": [
    {
     "name": "stdout",
     "output_type": "stream",
     "text": [
      "Observations: 277\n",
      "Variables: 20\n",
      "$ new_name              \u001b[3m\u001b[38;5;246m<chr>\u001b[39m\u001b[23m \"Boardwalk (Group)\", \"Boardwalk (Group)\", \"Boar…\n",
      "$ YEAR                  \u001b[3m\u001b[38;5;246m<dbl>\u001b[39m\u001b[23m 2014, 2015, 2016, 2017, 2018, 2004, 2004, 2004,…\n",
      "$ COMMODITY             \u001b[3m\u001b[38;5;246m<chr>\u001b[39m\u001b[23m \"hvl\", \"hvl\", \"hvl\", \"hvl\", \"hvl\", \"crude\", \"hv…\n",
      "$ OPERATOR_ID           \u001b[3m\u001b[38;5;246m<chr>\u001b[39m\u001b[23m \"Boardwalk (Group)\", \"Boardwalk (Group)\", \"Boar…\n",
      "$ NAME                  \u001b[3m\u001b[38;5;246m<chr>\u001b[39m\u001b[23m \"Boardwalk (Group)\", \"Boardwalk (Group)\", \"Boar…\n",
      "$ MILES                 \u001b[3m\u001b[38;5;246m<dbl>\u001b[39m\u001b[23m 239.50, 330.40, 330.40, 330.66, 337.60, 36.00, …\n",
      "$ AGE_UNKNOWN_MILES     \u001b[3m\u001b[38;5;246m<dbl>\u001b[39m\u001b[23m 0.0, 3.7, 3.7, 7.0, 7.0, 0.0, 0.0, 0.0, 0.0, 0.…\n",
      "$ MILES_PRE_1940        \u001b[3m\u001b[38;5;246m<dbl>\u001b[39m\u001b[23m 0.00, 0.00, 0.00, 0.00, 0.00, 1.00, 0.00, 152.0…\n",
      "$ MILES_1940            \u001b[3m\u001b[38;5;246m<dbl>\u001b[39m\u001b[23m 0.00, 0.00, 0.00, 0.00, 0.00, 1.00, 0.00, 43.00…\n",
      "$ MILES_1950            \u001b[3m\u001b[38;5;246m<dbl>\u001b[39m\u001b[23m 163.90, 163.70, 163.50, 163.10, 163.30, 4.00, 0…\n",
      "$ MILES_1960            \u001b[3m\u001b[38;5;246m<dbl>\u001b[39m\u001b[23m 319.90, 56.50, 185.70, 167.30, 165.80, 7.00, 28…\n",
      "$ MILES_1970            \u001b[3m\u001b[38;5;246m<dbl>\u001b[39m\u001b[23m 0.00, 12.70, 12.90, 12.90, 12.90, 5.00, 631.00,…\n",
      "$ MILES_1980            \u001b[3m\u001b[38;5;246m<dbl>\u001b[39m\u001b[23m 0.00, 0.00, 4.00, 4.00, 4.00, 2.00, 36.00, 41.0…\n",
      "$ MILES_1990            \u001b[3m\u001b[38;5;246m<dbl>\u001b[39m\u001b[23m 63.10, 23.80, 24.20, 24.20, 24.20, 5.00, 98.00,…\n",
      "$ MILES_2000            \u001b[3m\u001b[38;5;246m<dbl>\u001b[39m\u001b[23m 89.40, 59.10, 59.10, 45.50, 46.40, 1.00, 1.00, …\n",
      "$ MILES_2010            \u001b[3m\u001b[38;5;246m<dbl>\u001b[39m\u001b[23m 0.7, 3.5, 4.7, 5.1, 31.8, 0.0, 0.0, 0.0, 0.0, 0…\n",
      "$ PARENT                \u001b[3m\u001b[38;5;246m<chr>\u001b[39m\u001b[23m \"Loews Corporation\", \"Loews Corporation\", \"Loew…\n",
      "$ INCIDENTS             \u001b[3m\u001b[38;5;246m<dbl>\u001b[39m\u001b[23m 1, 0, 0, 1, 2, 1, 0, 5, 0, 0, 6, 2, 1, 1, 2, 2,…\n",
      "$ SIGNIFICANT_INCIDENTS \u001b[3m\u001b[38;5;246m<dbl>\u001b[39m\u001b[23m 1, 0, 0, 1, 2, 0, 0, 1, 0, 0, 1, 2, 0, 0, 2, 2,…\n",
      "$ GROUP                 \u001b[3m\u001b[38;5;246m<chr>\u001b[39m\u001b[23m \"m&a\", \"m&a\", \"m&a\", \"m&a\", \"m&a\", \"m&a\", \"m&a\"…\n"
     ]
    }
   ],
   "source": [
    "sample_m_as <- sample_m_as %>%\n",
    "    group_by(new_name, YEAR, COMMODITY) %>%\n",
    "    summarize(OPERATOR_ID = first(new_name), \n",
    "              NAME              = first(new_name),\n",
    "              MILES             = sum(MILES, na.rm=TRUE), \n",
    "              AGE_UNKNOWN_MILES = sum(AGE_UNKNOWN_MILES, na.rm=TRUE), \n",
    "              MILES_PRE_1940    = sum(MILES_PRE_1940, na.rm=TRUE), \n",
    "              MILES_1940        = sum(MILES_1940, na.rm=TRUE),\n",
    "              MILES_1950        = sum(MILES_1950, na.rm=TRUE),\n",
    "              MILES_1960        = sum(MILES_1960, na.rm=TRUE),\n",
    "              MILES_1970        = sum(MILES_1970, na.rm=TRUE),\n",
    "              MILES_1980        = sum(MILES_1980, na.rm=TRUE),\n",
    "              MILES_1990        = sum(MILES_1990, na.rm=TRUE),\n",
    "              MILES_2000        = sum(MILES_2000, na.rm=TRUE),\n",
    "              MILES_2010        = sum(MILES_2010, na.rm=TRUE),\n",
    "              PARENT            = first(PARENT), \n",
    "              INCIDENTS         = sum(INCIDENTS, na.rm=TRUE), \n",
    "              SIGNIFICANT_INCIDENTS = sum(SIGNIFICANT_INCIDENTS, na.rm=TRUE), \n",
    "              GROUP = 'm&a') %>%\n",
    "    ungroup()\n",
    "\n",
    "glimpse(sample_m_as)"
   ]
  },
  {
   "cell_type": "code",
   "execution_count": 15,
   "metadata": {},
   "outputs": [
    {
     "name": "stdout",
     "output_type": "stream",
     "text": [
      "Observations: 2,123\n",
      "Variables: 22\n",
      "$ YEAR                  \u001b[3m\u001b[38;5;246m<dbl>\u001b[39m\u001b[23m 2014, 2015, 2016, 2017, 2018, 2004, 2004, 2004,…\n",
      "$ COMMODITY             \u001b[3m\u001b[38;5;246m<chr>\u001b[39m\u001b[23m \"hvl\", \"hvl\", \"hvl\", \"hvl\", \"hvl\", \"crude\", \"hv…\n",
      "$ OPERATOR_ID           \u001b[3m\u001b[38;5;246m<chr>\u001b[39m\u001b[23m \"Boardwalk (Group)\", \"Boardwalk (Group)\", \"Boar…\n",
      "$ NAME                  \u001b[3m\u001b[38;5;246m<chr>\u001b[39m\u001b[23m \"Boardwalk (Group)\", \"Boardwalk (Group)\", \"Boar…\n",
      "$ MILES                 \u001b[3m\u001b[38;5;246m<dbl>\u001b[39m\u001b[23m 239.50, 330.40, 330.40, 330.66, 337.60, 36.00, …\n",
      "$ AGE_UNKNOWN_MILES     \u001b[3m\u001b[38;5;246m<dbl>\u001b[39m\u001b[23m 0.0, 3.7, 3.7, 7.0, 7.0, 0.0, 0.0, 0.0, 0.0, 0.…\n",
      "$ MILES_PRE_1940        \u001b[3m\u001b[38;5;246m<dbl>\u001b[39m\u001b[23m 0.00, 0.00, 0.00, 0.00, 0.00, 1.00, 0.00, 152.0…\n",
      "$ MILES_1940            \u001b[3m\u001b[38;5;246m<dbl>\u001b[39m\u001b[23m 0.00, 0.00, 0.00, 0.00, 0.00, 1.00, 0.00, 43.00…\n",
      "$ MILES_1950            \u001b[3m\u001b[38;5;246m<dbl>\u001b[39m\u001b[23m 163.90, 163.70, 163.50, 163.10, 163.30, 4.00, 0…\n",
      "$ MILES_1960            \u001b[3m\u001b[38;5;246m<dbl>\u001b[39m\u001b[23m 319.90, 56.50, 185.70, 167.30, 165.80, 7.00, 28…\n",
      "$ MILES_1970            \u001b[3m\u001b[38;5;246m<dbl>\u001b[39m\u001b[23m 0.00, 12.70, 12.90, 12.90, 12.90, 5.00, 631.00,…\n",
      "$ MILES_1980            \u001b[3m\u001b[38;5;246m<dbl>\u001b[39m\u001b[23m 0.00, 0.00, 4.00, 4.00, 4.00, 2.00, 36.00, 41.0…\n",
      "$ MILES_1990            \u001b[3m\u001b[38;5;246m<dbl>\u001b[39m\u001b[23m 63.10, 23.80, 24.20, 24.20, 24.20, 5.00, 98.00,…\n",
      "$ MILES_2000            \u001b[3m\u001b[38;5;246m<dbl>\u001b[39m\u001b[23m 89.40, 59.10, 59.10, 45.50, 46.40, 1.00, 1.00, …\n",
      "$ MILES_2010            \u001b[3m\u001b[38;5;246m<dbl>\u001b[39m\u001b[23m 0.7, 3.5, 4.7, 5.1, 31.8, 0.0, 0.0, 0.0, 0.0, 0…\n",
      "$ PARENT                \u001b[3m\u001b[38;5;246m<chr>\u001b[39m\u001b[23m \"Loews Corporation\", \"Loews Corporation\", \"Loew…\n",
      "$ INCIDENTS             \u001b[3m\u001b[38;5;246m<dbl>\u001b[39m\u001b[23m 1, 0, 0, 1, 2, 1, 0, 5, 0, 0, 6, 2, 1, 1, 2, 2,…\n",
      "$ SIGNIFICANT_INCIDENTS \u001b[3m\u001b[38;5;246m<dbl>\u001b[39m\u001b[23m 1, 0, 0, 1, 2, 0, 0, 1, 0, 0, 1, 2, 0, 0, 2, 2,…\n",
      "$ GROUP                 \u001b[3m\u001b[38;5;246m<chr>\u001b[39m\u001b[23m \"m&a\", \"m&a\", \"m&a\", \"m&a\", \"m&a\", \"m&a\", \"m&a\"…\n",
      "$ AVG_AGE               \u001b[3m\u001b[38;5;246m<dbl>\u001b[39m\u001b[23m NA, NA, NA, NA, NA, NA, NA, NA, NA, NA, NA, NA,…\n",
      "$ PERC_OFFSHORE         \u001b[3m\u001b[38;5;246m<dbl>\u001b[39m\u001b[23m NA, NA, NA, NA, NA, NA, NA, NA, NA, NA, NA, NA,…\n",
      "$ CHANGE                \u001b[3m\u001b[38;5;246m<dbl>\u001b[39m\u001b[23m NA, NA, NA, NA, NA, NA, NA, NA, NA, NA, NA, NA,…\n"
     ]
    }
   ],
   "source": [
    "sample <- bind_rows(sample_m_as, sample_no_m_as)\n",
    "sample <- sample[ , !(names(sample) %in% c(\"new_name\", \"m_a\"))]\n",
    "testit::assert(nrow(sample[duplicated(select(sample, YEAR, COMMODITY, OPERATOR_ID)), ]) == 0)\n",
    "testit::assert(nrow(subset(sample, YEAR == 2008)) > 0)\n",
    "glimpse(sample)"
   ]
  },
  {
   "cell_type": "markdown",
   "metadata": {},
   "source": [
    "## 9.3 Mark M&A years"
   ]
  },
  {
   "cell_type": "code",
   "execution_count": 16,
   "metadata": {},
   "outputs": [
    {
     "name": "stdout",
     "output_type": "stream",
     "text": [
      "Observations: 38\n",
      "Variables: 4\n",
      "$ members    \u001b[3m\u001b[38;5;246m<chr>\u001b[39m\u001b[23m \"Enterprise Products (Group)\", \"Teppco (Group)\", \"Sunoco (…\n",
      "$ name       \u001b[3m\u001b[38;5;246m<chr>\u001b[39m\u001b[23m \"Enterprise Products (Group)\", \"Enterprise Products (Group…\n",
      "$ start_year \u001b[3m\u001b[38;5;246m<chr>\u001b[39m\u001b[23m \"2010\", \"2010\", \"2011\", \"2011\", \"2011\", \"2013\", \"2013\", \"2…\n",
      "$ end_year   \u001b[3m\u001b[38;5;246m<chr>\u001b[39m\u001b[23m NA, NA, NA, NA, NA, NA, NA, NA, NA, NA, NA, \"2013\", \"2013\"…\n"
     ]
    }
   ],
   "source": [
    "glimpse(m_as_orig)"
   ]
  },
  {
   "cell_type": "code",
   "execution_count": 17,
   "metadata": {},
   "outputs": [
    {
     "name": "stdout",
     "output_type": "stream",
     "text": [
      "Observations: 2,123\n",
      "Variables: 24\n",
      "$ YEAR                  \u001b[3m\u001b[38;5;246m<dbl>\u001b[39m\u001b[23m 2014, 2015, 2016, 2017, 2018, 2004, 2004, 2004,…\n",
      "$ COMMODITY             \u001b[3m\u001b[38;5;246m<chr>\u001b[39m\u001b[23m \"hvl\", \"hvl\", \"hvl\", \"hvl\", \"hvl\", \"crude\", \"hv…\n",
      "$ OPERATOR_ID           \u001b[3m\u001b[38;5;246m<chr>\u001b[39m\u001b[23m \"Boardwalk (Group)\", \"Boardwalk (Group)\", \"Boar…\n",
      "$ NAME                  \u001b[3m\u001b[38;5;246m<chr>\u001b[39m\u001b[23m \"Boardwalk (Group)\", \"Boardwalk (Group)\", \"Boar…\n",
      "$ MILES                 \u001b[3m\u001b[38;5;246m<dbl>\u001b[39m\u001b[23m 239.50, 330.40, 330.40, 330.66, 337.60, 36.00, …\n",
      "$ AGE_UNKNOWN_MILES     \u001b[3m\u001b[38;5;246m<dbl>\u001b[39m\u001b[23m 0.0, 3.7, 3.7, 7.0, 7.0, 0.0, 0.0, 0.0, 0.0, 0.…\n",
      "$ MILES_PRE_1940        \u001b[3m\u001b[38;5;246m<dbl>\u001b[39m\u001b[23m 0.00, 0.00, 0.00, 0.00, 0.00, 1.00, 0.00, 152.0…\n",
      "$ MILES_1940            \u001b[3m\u001b[38;5;246m<dbl>\u001b[39m\u001b[23m 0.00, 0.00, 0.00, 0.00, 0.00, 1.00, 0.00, 43.00…\n",
      "$ MILES_1950            \u001b[3m\u001b[38;5;246m<dbl>\u001b[39m\u001b[23m 163.90, 163.70, 163.50, 163.10, 163.30, 4.00, 0…\n",
      "$ MILES_1960            \u001b[3m\u001b[38;5;246m<dbl>\u001b[39m\u001b[23m 319.90, 56.50, 185.70, 167.30, 165.80, 7.00, 28…\n",
      "$ MILES_1970            \u001b[3m\u001b[38;5;246m<dbl>\u001b[39m\u001b[23m 0.00, 12.70, 12.90, 12.90, 12.90, 5.00, 631.00,…\n",
      "$ MILES_1980            \u001b[3m\u001b[38;5;246m<dbl>\u001b[39m\u001b[23m 0.00, 0.00, 4.00, 4.00, 4.00, 2.00, 36.00, 41.0…\n",
      "$ MILES_1990            \u001b[3m\u001b[38;5;246m<dbl>\u001b[39m\u001b[23m 63.10, 23.80, 24.20, 24.20, 24.20, 5.00, 98.00,…\n",
      "$ MILES_2000            \u001b[3m\u001b[38;5;246m<dbl>\u001b[39m\u001b[23m 89.40, 59.10, 59.10, 45.50, 46.40, 1.00, 1.00, …\n",
      "$ MILES_2010            \u001b[3m\u001b[38;5;246m<dbl>\u001b[39m\u001b[23m 0.7, 3.5, 4.7, 5.1, 31.8, 0.0, 0.0, 0.0, 0.0, 0…\n",
      "$ PARENT                \u001b[3m\u001b[38;5;246m<chr>\u001b[39m\u001b[23m \"Loews Corporation\", \"Loews Corporation\", \"Loew…\n",
      "$ INCIDENTS             \u001b[3m\u001b[38;5;246m<dbl>\u001b[39m\u001b[23m 1, 0, 0, 1, 2, 1, 0, 5, 0, 0, 6, 2, 1, 1, 2, 2,…\n",
      "$ SIGNIFICANT_INCIDENTS \u001b[3m\u001b[38;5;246m<dbl>\u001b[39m\u001b[23m 1, 0, 0, 1, 2, 0, 0, 1, 0, 0, 1, 2, 0, 0, 2, 2,…\n",
      "$ GROUP                 \u001b[3m\u001b[38;5;246m<chr>\u001b[39m\u001b[23m \"m&a\", \"m&a\", \"m&a\", \"m&a\", \"m&a\", \"m&a\", \"m&a\"…\n",
      "$ AVG_AGE               \u001b[3m\u001b[38;5;246m<dbl>\u001b[39m\u001b[23m NA, NA, NA, NA, NA, NA, NA, NA, NA, NA, NA, NA,…\n",
      "$ PERC_OFFSHORE         \u001b[3m\u001b[38;5;246m<dbl>\u001b[39m\u001b[23m NA, NA, NA, NA, NA, NA, NA, NA, NA, NA, NA, NA,…\n",
      "$ CHANGE                \u001b[3m\u001b[38;5;246m<dbl>\u001b[39m\u001b[23m NA, NA, NA, NA, NA, NA, NA, NA, NA, NA, NA, NA,…\n",
      "$ end_year              \u001b[3m\u001b[38;5;246m<chr>\u001b[39m\u001b[23m NA, NA, NA, NA, NA, NA, NA, NA, NA, NA, NA, NA,…\n",
      "$ m_a_start             \u001b[3m\u001b[38;5;246m<lgl>\u001b[39m\u001b[23m TRUE, NA, NA, NA, NA, NA, NA, NA, NA, NA, NA, N…\n"
     ]
    }
   ],
   "source": [
    "m_as_orig$start_year <- as.numeric(m_as_orig$start_year)\n",
    "m_as_orig <- select(m_as_orig, -c(name))\n",
    "\n",
    "m_as_start <- subset(m_as_orig, !is.na(start_year))\n",
    "m_as_start$m_a_start <- TRUE\n",
    "\n",
    "sample <- left_join(sample, m_as_start, by=c(\"OPERATOR_ID\" = \"members\", \"YEAR\" = \"start_year\"))\n",
    "testit::assert(nrow(subset(sample, YEAR == 2008)) > 0)\n",
    "testit::assert(nrow(sample[duplicated(select(sample, YEAR, COMMODITY, OPERATOR_ID)), ]) == 0)\n",
    "\n",
    "glimpse(sample)"
   ]
  },
  {
   "cell_type": "code",
   "execution_count": 18,
   "metadata": {},
   "outputs": [
    {
     "name": "stdout",
     "output_type": "stream",
     "text": [
      "Observations: 2,123\n",
      "Variables: 26\n",
      "$ YEAR                  \u001b[3m\u001b[38;5;246m<dbl>\u001b[39m\u001b[23m 2014, 2015, 2016, 2017, 2018, 2004, 2004, 2004,…\n",
      "$ COMMODITY             \u001b[3m\u001b[38;5;246m<chr>\u001b[39m\u001b[23m \"hvl\", \"hvl\", \"hvl\", \"hvl\", \"hvl\", \"crude\", \"hv…\n",
      "$ OPERATOR_ID           \u001b[3m\u001b[38;5;246m<chr>\u001b[39m\u001b[23m \"Boardwalk (Group)\", \"Boardwalk (Group)\", \"Boar…\n",
      "$ NAME                  \u001b[3m\u001b[38;5;246m<chr>\u001b[39m\u001b[23m \"Boardwalk (Group)\", \"Boardwalk (Group)\", \"Boar…\n",
      "$ MILES                 \u001b[3m\u001b[38;5;246m<dbl>\u001b[39m\u001b[23m 239.50, 330.40, 330.40, 330.66, 337.60, 36.00, …\n",
      "$ AGE_UNKNOWN_MILES     \u001b[3m\u001b[38;5;246m<dbl>\u001b[39m\u001b[23m 0.0, 3.7, 3.7, 7.0, 7.0, 0.0, 0.0, 0.0, 0.0, 0.…\n",
      "$ MILES_PRE_1940        \u001b[3m\u001b[38;5;246m<dbl>\u001b[39m\u001b[23m 0.00, 0.00, 0.00, 0.00, 0.00, 1.00, 0.00, 152.0…\n",
      "$ MILES_1940            \u001b[3m\u001b[38;5;246m<dbl>\u001b[39m\u001b[23m 0.00, 0.00, 0.00, 0.00, 0.00, 1.00, 0.00, 43.00…\n",
      "$ MILES_1950            \u001b[3m\u001b[38;5;246m<dbl>\u001b[39m\u001b[23m 163.90, 163.70, 163.50, 163.10, 163.30, 4.00, 0…\n",
      "$ MILES_1960            \u001b[3m\u001b[38;5;246m<dbl>\u001b[39m\u001b[23m 319.90, 56.50, 185.70, 167.30, 165.80, 7.00, 28…\n",
      "$ MILES_1970            \u001b[3m\u001b[38;5;246m<dbl>\u001b[39m\u001b[23m 0.00, 12.70, 12.90, 12.90, 12.90, 5.00, 631.00,…\n",
      "$ MILES_1980            \u001b[3m\u001b[38;5;246m<dbl>\u001b[39m\u001b[23m 0.00, 0.00, 4.00, 4.00, 4.00, 2.00, 36.00, 41.0…\n",
      "$ MILES_1990            \u001b[3m\u001b[38;5;246m<dbl>\u001b[39m\u001b[23m 63.10, 23.80, 24.20, 24.20, 24.20, 5.00, 98.00,…\n",
      "$ MILES_2000            \u001b[3m\u001b[38;5;246m<dbl>\u001b[39m\u001b[23m 89.40, 59.10, 59.10, 45.50, 46.40, 1.00, 1.00, …\n",
      "$ MILES_2010            \u001b[3m\u001b[38;5;246m<dbl>\u001b[39m\u001b[23m 0.7, 3.5, 4.7, 5.1, 31.8, 0.0, 0.0, 0.0, 0.0, 0…\n",
      "$ PARENT                \u001b[3m\u001b[38;5;246m<chr>\u001b[39m\u001b[23m \"Loews Corporation\", \"Loews Corporation\", \"Loew…\n",
      "$ INCIDENTS             \u001b[3m\u001b[38;5;246m<dbl>\u001b[39m\u001b[23m 1, 0, 0, 1, 2, 1, 0, 5, 0, 0, 6, 2, 1, 1, 2, 2,…\n",
      "$ SIGNIFICANT_INCIDENTS \u001b[3m\u001b[38;5;246m<dbl>\u001b[39m\u001b[23m 1, 0, 0, 1, 2, 0, 0, 1, 0, 0, 1, 2, 0, 0, 2, 2,…\n",
      "$ GROUP                 \u001b[3m\u001b[38;5;246m<chr>\u001b[39m\u001b[23m \"m&a\", \"m&a\", \"m&a\", \"m&a\", \"m&a\", \"m&a\", \"m&a\"…\n",
      "$ AVG_AGE               \u001b[3m\u001b[38;5;246m<dbl>\u001b[39m\u001b[23m NA, NA, NA, NA, NA, NA, NA, NA, NA, NA, NA, NA,…\n",
      "$ PERC_OFFSHORE         \u001b[3m\u001b[38;5;246m<dbl>\u001b[39m\u001b[23m NA, NA, NA, NA, NA, NA, NA, NA, NA, NA, NA, NA,…\n",
      "$ CHANGE                \u001b[3m\u001b[38;5;246m<dbl>\u001b[39m\u001b[23m NA, NA, NA, NA, NA, NA, NA, NA, NA, NA, NA, NA,…\n",
      "$ end_year              \u001b[3m\u001b[38;5;246m<chr>\u001b[39m\u001b[23m NA, NA, NA, NA, NA, NA, NA, NA, NA, NA, NA, NA,…\n",
      "$ m_a_start             \u001b[3m\u001b[38;5;246m<lgl>\u001b[39m\u001b[23m TRUE, NA, NA, NA, NA, NA, NA, NA, NA, NA, NA, N…\n",
      "$ start_year            \u001b[3m\u001b[38;5;246m<dbl>\u001b[39m\u001b[23m NA, NA, NA, NA, NA, NA, NA, NA, NA, NA, NA, NA,…\n",
      "$ m_a_end               \u001b[3m\u001b[38;5;246m<lgl>\u001b[39m\u001b[23m NA, NA, NA, NA, NA, NA, NA, NA, NA, NA, NA, NA,…\n"
     ]
    }
   ],
   "source": [
    "m_as_orig$end_year <- as.numeric(m_as_orig$end_year)\n",
    "\n",
    "m_as_end <- subset(m_as_orig, !is.na(end_year))\n",
    "# We add 1 to the year, so the year we match on is the first year after the group has ceased to exist.\n",
    "m_as_end$end_year <- m_as_end$end_year + 1\n",
    "m_as_end$m_a_end <- TRUE\n",
    "m_as_end <- unique(m_as_end)\n",
    "\n",
    "sample <- left_join(sample, m_as_end, by=c(\"OPERATOR_ID\" = \"members\", \"YEAR\" = \"end_year\"))\n",
    "testit::assert(nrow(subset(sample, YEAR == 2008)) > 0)\n",
    "testit::assert(nrow(sample[duplicated(select(sample, YEAR, COMMODITY, OPERATOR_ID)), ]) == 0)\n",
    "\n",
    "glimpse(sample)"
   ]
  },
  {
   "cell_type": "code",
   "execution_count": 19,
   "metadata": {},
   "outputs": [
    {
     "name": "stdout",
     "output_type": "stream",
     "text": [
      "Observations: 2,123\n",
      "Variables: 23\n",
      "$ YEAR                  \u001b[3m\u001b[38;5;246m<dbl>\u001b[39m\u001b[23m 2014, 2015, 2016, 2017, 2018, 2004, 2004, 2004,…\n",
      "$ COMMODITY             \u001b[3m\u001b[38;5;246m<chr>\u001b[39m\u001b[23m \"hvl\", \"hvl\", \"hvl\", \"hvl\", \"hvl\", \"crude\", \"hv…\n",
      "$ OPERATOR_ID           \u001b[3m\u001b[38;5;246m<chr>\u001b[39m\u001b[23m \"Boardwalk (Group)\", \"Boardwalk (Group)\", \"Boar…\n",
      "$ NAME                  \u001b[3m\u001b[38;5;246m<chr>\u001b[39m\u001b[23m \"Boardwalk (Group)\", \"Boardwalk (Group)\", \"Boar…\n",
      "$ MILES                 \u001b[3m\u001b[38;5;246m<dbl>\u001b[39m\u001b[23m 239.50, 330.40, 330.40, 330.66, 337.60, 36.00, …\n",
      "$ AGE_UNKNOWN_MILES     \u001b[3m\u001b[38;5;246m<dbl>\u001b[39m\u001b[23m 0.0, 3.7, 3.7, 7.0, 7.0, 0.0, 0.0, 0.0, 0.0, 0.…\n",
      "$ MILES_PRE_1940        \u001b[3m\u001b[38;5;246m<dbl>\u001b[39m\u001b[23m 0.00, 0.00, 0.00, 0.00, 0.00, 1.00, 0.00, 152.0…\n",
      "$ MILES_1940            \u001b[3m\u001b[38;5;246m<dbl>\u001b[39m\u001b[23m 0.00, 0.00, 0.00, 0.00, 0.00, 1.00, 0.00, 43.00…\n",
      "$ MILES_1950            \u001b[3m\u001b[38;5;246m<dbl>\u001b[39m\u001b[23m 163.90, 163.70, 163.50, 163.10, 163.30, 4.00, 0…\n",
      "$ MILES_1960            \u001b[3m\u001b[38;5;246m<dbl>\u001b[39m\u001b[23m 319.90, 56.50, 185.70, 167.30, 165.80, 7.00, 28…\n",
      "$ MILES_1970            \u001b[3m\u001b[38;5;246m<dbl>\u001b[39m\u001b[23m 0.00, 12.70, 12.90, 12.90, 12.90, 5.00, 631.00,…\n",
      "$ MILES_1980            \u001b[3m\u001b[38;5;246m<dbl>\u001b[39m\u001b[23m 0.00, 0.00, 4.00, 4.00, 4.00, 2.00, 36.00, 41.0…\n",
      "$ MILES_1990            \u001b[3m\u001b[38;5;246m<dbl>\u001b[39m\u001b[23m 63.10, 23.80, 24.20, 24.20, 24.20, 5.00, 98.00,…\n",
      "$ MILES_2000            \u001b[3m\u001b[38;5;246m<dbl>\u001b[39m\u001b[23m 89.40, 59.10, 59.10, 45.50, 46.40, 1.00, 1.00, …\n",
      "$ MILES_2010            \u001b[3m\u001b[38;5;246m<dbl>\u001b[39m\u001b[23m 0.7, 3.5, 4.7, 5.1, 31.8, 0.0, 0.0, 0.0, 0.0, 0…\n",
      "$ PARENT                \u001b[3m\u001b[38;5;246m<chr>\u001b[39m\u001b[23m \"Loews Corporation\", \"Loews Corporation\", \"Loew…\n",
      "$ INCIDENTS             \u001b[3m\u001b[38;5;246m<dbl>\u001b[39m\u001b[23m 1, 0, 0, 1, 2, 1, 0, 5, 0, 0, 6, 2, 1, 1, 2, 2,…\n",
      "$ SIGNIFICANT_INCIDENTS \u001b[3m\u001b[38;5;246m<dbl>\u001b[39m\u001b[23m 1, 0, 0, 1, 2, 0, 0, 1, 0, 0, 1, 2, 0, 0, 2, 2,…\n",
      "$ GROUP                 \u001b[3m\u001b[38;5;246m<chr>\u001b[39m\u001b[23m \"m&a\", \"m&a\", \"m&a\", \"m&a\", \"m&a\", \"m&a\", \"m&a\"…\n",
      "$ AVG_AGE               \u001b[3m\u001b[38;5;246m<dbl>\u001b[39m\u001b[23m NA, NA, NA, NA, NA, NA, NA, NA, NA, NA, NA, NA,…\n",
      "$ PERC_OFFSHORE         \u001b[3m\u001b[38;5;246m<dbl>\u001b[39m\u001b[23m NA, NA, NA, NA, NA, NA, NA, NA, NA, NA, NA, NA,…\n",
      "$ CHANGE                \u001b[3m\u001b[38;5;246m<dbl>\u001b[39m\u001b[23m NA, NA, NA, NA, NA, NA, NA, NA, NA, NA, NA, NA,…\n",
      "$ M_A                   \u001b[3m\u001b[38;5;246m<lgl>\u001b[39m\u001b[23m TRUE, FALSE, FALSE, FALSE, FALSE, FALSE, FALSE,…\n"
     ]
    }
   ],
   "source": [
    "sample$M_A <- (sample$m_a_start | sample$m_a_end)\n",
    "sample <- select(sample, -c(end_year, m_a_start, start_year, m_a_end))\n",
    "sample$M_A <- replace_na(sample$M_A, FALSE)\n",
    "\n",
    "glimpse(sample)"
   ]
  },
  {
   "cell_type": "markdown",
   "metadata": {},
   "source": [
    "## 9.4 Calculate avg age, change for new groups"
   ]
  },
  {
   "cell_type": "code",
   "execution_count": 20,
   "metadata": {},
   "outputs": [
    {
     "name": "stdout",
     "output_type": "stream",
     "text": [
      "Observations: 1,176\n",
      "Variables: 23\n",
      "Groups: OPERATOR_ID, COMMODITY [173]\n",
      "$ YEAR                  \u001b[3m\u001b[38;5;246m<dbl>\u001b[39m\u001b[23m 2011, 2011, 2011, 2011, 2011, 2011, 2011, 2011,…\n",
      "$ COMMODITY             \u001b[3m\u001b[38;5;246m<chr>\u001b[39m\u001b[23m \"hvl\", \"non-hvl\", \"crude\", \"hvl\", \"non-hvl\", \"h…\n",
      "$ OPERATOR_ID           \u001b[3m\u001b[38;5;246m<chr>\u001b[39m\u001b[23m \"Chevron (Group)\", \"Chevron (Group)\", \"Enbridge…\n",
      "$ NAME                  \u001b[3m\u001b[38;5;246m<chr>\u001b[39m\u001b[23m \"Chevron (Group)\", \"Chevron (Group)\", \"Enbridge…\n",
      "$ MILES                 \u001b[3m\u001b[38;5;246m<dbl>\u001b[39m\u001b[23m 601.100, 943.700, 2197.200, 154.800, 682.500, 3…\n",
      "$ AGE_UNKNOWN_MILES     \u001b[3m\u001b[38;5;246m<dbl>\u001b[39m\u001b[23m 6.10, 23.00, 0.00, 0.00, 0.00, 52.20, 0.00, 0.0…\n",
      "$ MILES_PRE_1940        \u001b[3m\u001b[38;5;246m<dbl>\u001b[39m\u001b[23m 0, 0, 0, 0, 0, 0, 0, 0, 0, 0, 0, 0, 0, 0, 0, 0,…\n",
      "$ MILES_1940            \u001b[3m\u001b[38;5;246m<dbl>\u001b[39m\u001b[23m 0.00, 85.00, 444.00, 0.00, 0.00, 245.00, 0.00, …\n",
      "$ MILES_1950            \u001b[3m\u001b[38;5;246m<dbl>\u001b[39m\u001b[23m 833.300, 537.000, 293.000, 188.000, 135.000, 31…\n",
      "$ MILES_1960            \u001b[3m\u001b[38;5;246m<dbl>\u001b[39m\u001b[23m 1053.700, 232.000, 615.000, 0.000, 290.000, 164…\n",
      "$ MILES_1970            \u001b[3m\u001b[38;5;246m<dbl>\u001b[39m\u001b[23m 1066.500, 21.000, 7.000, 0.000, 86.000, 411.800…\n",
      "$ MILES_1980            \u001b[3m\u001b[38;5;246m<dbl>\u001b[39m\u001b[23m 334.000, 19.000, 66.000, 0.000, 3.000, 79.300, …\n",
      "$ MILES_1990            \u001b[3m\u001b[38;5;246m<dbl>\u001b[39m\u001b[23m 338.600, 0.000, 1031.000, 136.000, 5.000, 0.000…\n",
      "$ MILES_2000            \u001b[3m\u001b[38;5;246m<dbl>\u001b[39m\u001b[23m 24.900, 12.800, 216.000, 0.000, 681.000, 341.40…\n",
      "$ MILES_2010            \u001b[3m\u001b[38;5;246m<dbl>\u001b[39m\u001b[23m 0.000, 0.000, 11.060, 0.000, 0.000, 44.700, 12.…\n",
      "$ PARENT                \u001b[3m\u001b[38;5;246m<chr>\u001b[39m\u001b[23m \"Chevron\", \"Chevron\", \"Enbridge\", \"Enbridge\", \"…\n",
      "$ INCIDENTS             \u001b[3m\u001b[38;5;246m<dbl>\u001b[39m\u001b[23m 7, 1, 11, 0, 1, 0, 27, 1, 1, 4, 6, 27, 0, 2, 0,…\n",
      "$ SIGNIFICANT_INCIDENTS \u001b[3m\u001b[38;5;246m<dbl>\u001b[39m\u001b[23m 4, 1, 4, 0, 0, 0, 9, 1, 0, 2, 2, 6, 0, 1, 0, 0,…\n",
      "$ GROUP                 \u001b[3m\u001b[38;5;246m<chr>\u001b[39m\u001b[23m \"m&a\", \"m&a\", \"m&a\", \"m&a\", \"m&a\", \"m&a\", \"m&a\"…\n",
      "$ AVG_AGE               \u001b[3m\u001b[38;5;246m<dbl>\u001b[39m\u001b[23m NA, NA, NA, NA, NA, NA, NA, NA, NA, NA, NA, NA,…\n",
      "$ PERC_OFFSHORE         \u001b[3m\u001b[38;5;246m<dbl>\u001b[39m\u001b[23m NA, NA, NA, NA, NA, NA, NA, NA, NA, NA, NA, NA,…\n",
      "$ CHANGE                \u001b[3m\u001b[38;5;246m<dbl>\u001b[39m\u001b[23m 31.400, 76.100, 66.800, 2.900, 17.800, 331.800,…\n",
      "$ M_A                   \u001b[3m\u001b[38;5;246m<lgl>\u001b[39m\u001b[23m FALSE, FALSE, FALSE, FALSE, FALSE, TRUE, FALSE,…\n"
     ]
    }
   ],
   "source": [
    "testit::assert(nrow(subset(sample, YEAR == 2008)) > 0)\n",
    "sample <- sample %>%\n",
    "    group_by(OPERATOR_ID, COMMODITY) %>%\n",
    "    arrange(YEAR) %>%\n",
    "    mutate(CHANGE = MILES - lag(MILES, 1))\n",
    "glimpse(subset(sample, YEAR > 2010))"
   ]
  },
  {
   "cell_type": "code",
   "execution_count": 21,
   "metadata": {},
   "outputs": [
    {
     "name": "stdout",
     "output_type": "stream",
     "text": [
      "Observations: 2,123\n",
      "Variables: 23\n",
      "Groups: OPERATOR_ID, COMMODITY [193]\n",
      "$ YEAR                  \u001b[3m\u001b[38;5;246m<dbl>\u001b[39m\u001b[23m 2004, 2004, 2004, 2004, 2004, 2004, 2004, 2004,…\n",
      "$ COMMODITY             \u001b[3m\u001b[38;5;246m<chr>\u001b[39m\u001b[23m \"crude\", \"hvl\", \"non-hvl\", \"hvl\", \"non-hvl\", \"h…\n",
      "$ OPERATOR_ID           \u001b[3m\u001b[38;5;246m<chr>\u001b[39m\u001b[23m \"BP (Group)\", \"BP (Group)\", \"BP (Group)\", \"Chev…\n",
      "$ NAME                  \u001b[3m\u001b[38;5;246m<chr>\u001b[39m\u001b[23m \"BP (Group)\", \"BP (Group)\", \"BP (Group)\", \"Chev…\n",
      "$ MILES                 \u001b[3m\u001b[38;5;246m<dbl>\u001b[39m\u001b[23m 36.00, 539.00, 1272.00, 1206.00, 1038.00, 296.0…\n",
      "$ AGE_UNKNOWN_MILES     \u001b[3m\u001b[38;5;246m<dbl>\u001b[39m\u001b[23m 0, 0, 0, 0, 0, 0, 0, 0, 0, 0, 0, 0, 0, 0, 0, 0,…\n",
      "$ MILES_PRE_1940        \u001b[3m\u001b[38;5;246m<dbl>\u001b[39m\u001b[23m 1.0, 0.0, 152.0, 0.0, 13.0, 0.0, 0.0, 0.0, 0.0,…\n",
      "$ MILES_1940            \u001b[3m\u001b[38;5;246m<dbl>\u001b[39m\u001b[23m 1, 0, 43, 8, 48, 64, 0, 0, 0, 15, 0, 729, 0, 0,…\n",
      "$ MILES_1950            \u001b[3m\u001b[38;5;246m<dbl>\u001b[39m\u001b[23m 4.0, 0.0, 498.0, 486.0, 1344.0, 54.0, 243.0, 0.…\n",
      "$ MILES_1960            \u001b[3m\u001b[38;5;246m<dbl>\u001b[39m\u001b[23m 7.0, 280.0, 524.0, 328.0, 222.0, 139.0, 539.0, …\n",
      "$ MILES_1970            \u001b[3m\u001b[38;5;246m<dbl>\u001b[39m\u001b[23m 5.00, 631.00, 786.00, 411.00, 14.00, 104.00, 0.…\n",
      "$ MILES_1980            \u001b[3m\u001b[38;5;246m<dbl>\u001b[39m\u001b[23m 2.0, 36.0, 41.0, 163.0, 19.0, 13.0, 0.0, 0.0, 0…\n",
      "$ MILES_1990            \u001b[3m\u001b[38;5;246m<dbl>\u001b[39m\u001b[23m 5.00, 98.00, 120.00, 175.00, 6.00, 26.00, 1154.…\n",
      "$ MILES_2000            \u001b[3m\u001b[38;5;246m<dbl>\u001b[39m\u001b[23m 1.0, 1.0, 23.0, 3.0, 13.0, 2.0, 0.0, 0.0, 0.0, …\n",
      "$ MILES_2010            \u001b[3m\u001b[38;5;246m<dbl>\u001b[39m\u001b[23m 0, 0, 0, 0, 0, 0, 0, 0, 0, 0, 0, 0, 0, 0, 0, 0,…\n",
      "$ PARENT                \u001b[3m\u001b[38;5;246m<chr>\u001b[39m\u001b[23m \"BP\", \"BP\", \"BP\", \"Chevron\", \"Chevron\", \"Targa …\n",
      "$ INCIDENTS             \u001b[3m\u001b[38;5;246m<dbl>\u001b[39m\u001b[23m 1, 0, 5, 2, 1, 0, 22, 1, 1, 0, 0, 16, 9, 0, 1, …\n",
      "$ SIGNIFICANT_INCIDENTS \u001b[3m\u001b[38;5;246m<dbl>\u001b[39m\u001b[23m 0, 0, 1, 2, 0, 0, 9, 0, 1, 0, 0, 7, 1, 0, 0, 0,…\n",
      "$ GROUP                 \u001b[3m\u001b[38;5;246m<chr>\u001b[39m\u001b[23m \"m&a\", \"m&a\", \"m&a\", \"m&a\", \"m&a\", \"m&a\", \"m&a\"…\n",
      "$ AVG_AGE               \u001b[3m\u001b[38;5;246m<dbl>\u001b[39m\u001b[23m 47.88462, 45.43021, 54.06722, 50.09530, 63.1209…\n",
      "$ PERC_OFFSHORE         \u001b[3m\u001b[38;5;246m<dbl>\u001b[39m\u001b[23m NA, NA, NA, NA, NA, NA, NA, NA, NA, NA, NA, NA,…\n",
      "$ CHANGE                \u001b[3m\u001b[38;5;246m<dbl>\u001b[39m\u001b[23m NA, NA, NA, NA, NA, NA, NA, NA, NA, NA, NA, NA,…\n",
      "$ M_A                   \u001b[3m\u001b[38;5;246m<lgl>\u001b[39m\u001b[23m FALSE, FALSE, FALSE, FALSE, FALSE, FALSE, FALSE…\n"
     ]
    }
   ],
   "source": [
    "sample$AVG_AGE <- ((sample$MILES_PRE_1940 * 90 +\n",
    "                    sample$MILES_1940 * 75 +\n",
    "                    sample$MILES_1950 * 65 +\n",
    "                    sample$MILES_1960 * 55 +\n",
    "                    sample$MILES_1970 * 45 +\n",
    "                    sample$MILES_1980 * 35 +\n",
    "                    sample$MILES_1990 * 25 +\n",
    "                    sample$MILES_2000 * 15 +\n",
    "                    sample$MILES_2010 * 05) /\n",
    "                   (sample$MILES_PRE_1940 +\n",
    "                    sample$MILES_1940 +\n",
    "                    sample$MILES_1950 +\n",
    "                    sample$MILES_1960 +\n",
    "                    sample$MILES_1970 +\n",
    "                    sample$MILES_1980 +\n",
    "                    sample$MILES_1990 +\n",
    "                    sample$MILES_2000 +\n",
    "                    sample$MILES_2010))\n",
    "\n",
    "glimpse(sample)"
   ]
  },
  {
   "cell_type": "code",
   "execution_count": 22,
   "metadata": {},
   "outputs": [],
   "source": [
    "test <- select(sample, COMMODITY, YEAR, OPERATOR_ID)\n",
    "test <- test[duplicated(test), ]\n",
    "testit::assert(nrow(test) == 0)"
   ]
  },
  {
   "cell_type": "markdown",
   "metadata": {},
   "source": [
    "## 9.5 Save"
   ]
  },
  {
   "cell_type": "code",
   "execution_count": 23,
   "metadata": {},
   "outputs": [],
   "source": [
    "testit::assert(nrow(subset(sample, YEAR == 2008)) > 0)\n",
    "feather::write_feather(sample, paste0(\"../preprocessed_data/sample_consolidated_\", Sys.Date(), \".feather\"))\n",
    "haven::write_dta(sample, paste0(\"../stata_data/sample_consolidated_\", Sys.Date(), \".dta\"))"
   ]
  }
 ],
 "metadata": {
  "jupytext": {
   "formats": "ipynb,Rmd"
  },
  "kernelspec": {
   "display_name": "R 3.6.1",
   "language": "R",
   "name": "ir361"
  },
  "language_info": {
   "codemirror_mode": "r",
   "file_extension": ".r",
   "mimetype": "text/x-r-source",
   "name": "R",
   "pygments_lexer": "r",
   "version": "3.6.1"
  }
 },
 "nbformat": 4,
 "nbformat_minor": 4
}
