{
 "cells": [
  {
   "cell_type": "markdown",
   "metadata": {},
   "source": [
    "# 9. Consolidate observations"
   ]
  },
  {
   "cell_type": "markdown",
   "metadata": {},
   "source": [
    "## Setup"
   ]
  },
  {
   "cell_type": "code",
   "execution_count": 1,
   "metadata": {},
   "outputs": [
    {
     "name": "stderr",
     "output_type": "stream",
     "text": [
      "Registered S3 methods overwritten by 'ggplot2':\n",
      "  method         from \n",
      "  [.quosures     rlang\n",
      "  c.quosures     rlang\n",
      "  print.quosures rlang\n",
      "Registered S3 method overwritten by 'rvest':\n",
      "  method            from\n",
      "  read_xml.response xml2\n",
      "── \u001b[1mAttaching packages\u001b[22m ─────────────────────────────────────── tidyverse 1.2.1 ──\n",
      "\u001b[32m✔\u001b[39m \u001b[34mggplot2\u001b[39m 3.1.1       \u001b[32m✔\u001b[39m \u001b[34mpurrr  \u001b[39m 0.3.2  \n",
      "\u001b[32m✔\u001b[39m \u001b[34mtibble \u001b[39m 2.1.1       \u001b[32m✔\u001b[39m \u001b[34mdplyr  \u001b[39m 0.8.0.\u001b[31m1\u001b[39m\n",
      "\u001b[32m✔\u001b[39m \u001b[34mtidyr  \u001b[39m 0.8.3       \u001b[32m✔\u001b[39m \u001b[34mstringr\u001b[39m 1.4.0  \n",
      "\u001b[32m✔\u001b[39m \u001b[34mreadr  \u001b[39m 1.3.1       \u001b[32m✔\u001b[39m \u001b[34mforcats\u001b[39m 0.4.0  \n",
      "── \u001b[1mConflicts\u001b[22m ────────────────────────────────────────── tidyverse_conflicts() ──\n",
      "\u001b[31m✖\u001b[39m \u001b[34mdplyr\u001b[39m::\u001b[32mfilter()\u001b[39m masks \u001b[34mstats\u001b[39m::filter()\n",
      "\u001b[31m✖\u001b[39m \u001b[34mdplyr\u001b[39m::\u001b[32mlag()\u001b[39m    masks \u001b[34mstats\u001b[39m::lag()\n"
     ]
    }
   ],
   "source": [
    "library(tidyverse)\n",
    "library(feather)"
   ]
  },
  {
   "cell_type": "code",
   "execution_count": 2,
   "metadata": {},
   "outputs": [],
   "source": [
    "sample_file <- '../preprocessed_data/sample_2019-08-17.feather'\n",
    "company_groups_file <- '../preprocessed_data/company_groups_2019-08-18.feather'\n",
    "m_as_file <- '../preprocessed_data/m_as_2019-08-18.feather'"
   ]
  },
  {
   "cell_type": "code",
   "execution_count": 3,
   "metadata": {},
   "outputs": [],
   "source": [
    "today <- Sys.Date()"
   ]
  },
  {
   "cell_type": "markdown",
   "metadata": {},
   "source": [
    "## Read data"
   ]
  },
  {
   "cell_type": "code",
   "execution_count": 4,
   "metadata": {},
   "outputs": [
    {
     "name": "stderr",
     "output_type": "stream",
     "text": [
      "Warning message:\n",
      "“Coercing int64 to double”"
     ]
    },
    {
     "name": "stdout",
     "output_type": "stream",
     "text": [
      "Observations: 795\n",
      "Variables: 8\n",
      "$ OPERATOR_ID           \u001b[3m\u001b[38;5;246m<chr>\u001b[39m\u001b[23m \"300\", \"300\", \"300\", \"300\", \"300\", \"300\", \"300\"…\n",
      "$ YEAR                  \u001b[3m\u001b[38;5;246m<dbl>\u001b[39m\u001b[23m 2017, 2017, 2017, 2011, 2011, 2014, 2014, 2012,…\n",
      "$ NAME                  \u001b[3m\u001b[38;5;246m<chr>\u001b[39m\u001b[23m \"PLAINS PIPELINE, L.P.\", \"PLAINS PIPELINE, L.P.…\n",
      "$ COMMODITY             \u001b[3m\u001b[38;5;246m<chr>\u001b[39m\u001b[23m \"crude\", \"hvl\", \"non-hvl\", \"crude\", \"non-hvl\", …\n",
      "$ MILES                 \u001b[3m\u001b[38;5;246m<dbl>\u001b[39m\u001b[23m 2101.060, 72.900, 0.000, 1988.140, 326.800, 223…\n",
      "$ PARENT                \u001b[3m\u001b[38;5;246m<chr>\u001b[39m\u001b[23m \"Plains All American Pipeline\", \"Plains All Ame…\n",
      "$ INCIDENTS             \u001b[3m\u001b[38;5;246m<dbl>\u001b[39m\u001b[23m 18, 0, 0, 12, 0, 34, 0, 25, 1, 20, 11, 0, 19, 0…\n",
      "$ SIGNIFICANT_INCIDENTS \u001b[3m\u001b[38;5;246m<dbl>\u001b[39m\u001b[23m 9, 0, 0, 7, 0, 7, 0, 3, 1, 6, 3, 0, 4, 0, 0, 11…\n"
     ]
    }
   ],
   "source": [
    "sample <- read_feather(sample_file)\n",
    "glimpse(sample)"
   ]
  },
  {
   "cell_type": "code",
   "execution_count": 5,
   "metadata": {},
   "outputs": [
    {
     "name": "stdout",
     "output_type": "stream",
     "text": [
      "Observations: 29\n",
      "Variables: 2\n",
      "$ members \u001b[3m\u001b[38;5;246m<chr>\u001b[39m\u001b[23m \"31618\", \"30829\", \"3445\", \"1845\", \"31371\", \"32147\", \"22830\", …\n",
      "$ name    \u001b[3m\u001b[38;5;246m<chr>\u001b[39m\u001b[23m \"Enterprise Products (Group)\", \"Enterprise Products (Group)\",…\n"
     ]
    }
   ],
   "source": [
    "company_groups <- read_feather(company_groups_file)\n",
    "glimpse(company_groups)"
   ]
  },
  {
   "cell_type": "code",
   "execution_count": 6,
   "metadata": {},
   "outputs": [
    {
     "name": "stdout",
     "output_type": "stream",
     "text": [
      "Observations: 8\n",
      "Variables: 4\n",
      "$ members    \u001b[3m\u001b[38;5;246m<chr>\u001b[39m\u001b[23m \"Marathon (Group)\", \"Tesoro (Group)\", \"Sunoco (Group)\", \"E…\n",
      "$ name       \u001b[3m\u001b[38;5;246m<chr>\u001b[39m\u001b[23m \"Marathon (Group)\", \"Marathon (Group)\", \"Sunoco (Group)\", …\n",
      "$ start_year \u001b[3m\u001b[38;5;246m<chr>\u001b[39m\u001b[23m \"2018\", \"2018\", \"2017\", \"2017\", NA, NA, \"2018\", \"2018\"\n",
      "$ end_year   \u001b[3m\u001b[38;5;246m<chr>\u001b[39m\u001b[23m NA, NA, NA, NA, \"2013\", \"2013\", NA, NA\n"
     ]
    }
   ],
   "source": [
    "m_as <- read_feather(m_as_file)\n",
    "glimpse(m_as)"
   ]
  },
  {
   "cell_type": "markdown",
   "metadata": {},
   "source": [
    "## 9.1 Calculate absolute change"
   ]
  },
  {
   "cell_type": "code",
   "execution_count": 7,
   "metadata": {},
   "outputs": [
    {
     "name": "stdout",
     "output_type": "stream",
     "text": [
      "Observations: 711\n",
      "Variables: 9\n",
      "Groups: OPERATOR_ID, COMMODITY [101]\n",
      "$ OPERATOR_ID           \u001b[3m\u001b[38;5;246m<chr>\u001b[39m\u001b[23m \"300\", \"300\", \"395\", \"1845\", \"1845\", \"2552\", \"2…\n",
      "$ YEAR                  \u001b[3m\u001b[38;5;246m<dbl>\u001b[39m\u001b[23m 2011, 2011, 2011, 2011, 2011, 2011, 2011, 2011,…\n",
      "$ NAME                  \u001b[3m\u001b[38;5;246m<chr>\u001b[39m\u001b[23m \"PLAINS PIPELINE, L.P.\", \"PLAINS PIPELINE, L.P.…\n",
      "$ COMMODITY             \u001b[3m\u001b[38;5;246m<chr>\u001b[39m\u001b[23m \"crude\", \"non-hvl\", \"non-hvl\", \"hvl\", \"non-hvl\"…\n",
      "$ MILES                 \u001b[3m\u001b[38;5;246m<dbl>\u001b[39m\u001b[23m 1988.140, 326.800, 527.000, 47.644, 4043.393, 4…\n",
      "$ PARENT                \u001b[3m\u001b[38;5;246m<chr>\u001b[39m\u001b[23m \"Plains All American Pipeline\", \"Plains All Ame…\n",
      "$ INCIDENTS             \u001b[3m\u001b[38;5;246m<dbl>\u001b[39m\u001b[23m 12, 0, 0, 0, 14, 12, 0, 3, 4, 1, 1, 0, 2, 5, 2,…\n",
      "$ SIGNIFICANT_INCIDENTS \u001b[3m\u001b[38;5;246m<dbl>\u001b[39m\u001b[23m 7, 0, 0, 0, 7, 2, 0, 2, 2, 1, 1, 0, 2, 0, 0, 2,…\n",
      "$ CHANGE                \u001b[3m\u001b[38;5;246m<dbl>\u001b[39m\u001b[23m 726.700, 264.520, 202.000, 0.047, 289.292, 63.1…\n"
     ]
    }
   ],
   "source": [
    "sample <- sample %>%\n",
    "    group_by(OPERATOR_ID, COMMODITY) %>%\n",
    "    arrange(YEAR) %>%\n",
    "    mutate(CHANGE = abs(MILES - lag(MILES, 1)))\n",
    "glimpse(subset(sample, YEAR > 2010))"
   ]
  },
  {
   "cell_type": "markdown",
   "metadata": {},
   "source": [
    "## 9.2 Consolidate observations"
   ]
  },
  {
   "cell_type": "markdown",
   "metadata": {},
   "source": [
    "### 9.2.1 Company groups"
   ]
  },
  {
   "cell_type": "code",
   "execution_count": 8,
   "metadata": {},
   "outputs": [
    {
     "name": "stdout",
     "output_type": "stream",
     "text": [
      "Observations: 439\n",
      "Variables: 10\n",
      "Groups: OPERATOR_ID, COMMODITY [60]\n",
      "$ OPERATOR_ID           \u001b[3m\u001b[38;5;246m<chr>\u001b[39m\u001b[23m \"300\", \"300\", \"1845\", \"1845\", \"3445\", \"4906\", \"…\n",
      "$ YEAR                  \u001b[3m\u001b[38;5;246m<dbl>\u001b[39m\u001b[23m 2010, 2010, 2010, 2010, 2010, 2010, 2010, 2010,…\n",
      "$ NAME                  \u001b[3m\u001b[38;5;246m<chr>\u001b[39m\u001b[23m \"PLAINS PIPELINE, L.P.\", \"PLAINS PIPELINE, L.P.…\n",
      "$ COMMODITY             \u001b[3m\u001b[38;5;246m<chr>\u001b[39m\u001b[23m \"crude\", \"non-hvl\", \"hvl\", \"non-hvl\", \"hvl\", \"c…\n",
      "$ MILES                 \u001b[3m\u001b[38;5;246m<dbl>\u001b[39m\u001b[23m 1261.440, 62.280, 47.691, 3754.101, 577.251, 97…\n",
      "$ PARENT                \u001b[3m\u001b[38;5;246m<chr>\u001b[39m\u001b[23m \"Plains All American Pipeline\", \"Plains All Ame…\n",
      "$ INCIDENTS             \u001b[3m\u001b[38;5;246m<dbl>\u001b[39m\u001b[23m 11, 0, 0, 10, 3, 4, 2, 1, 3, 4, 14, 0, 3, 0, 0,…\n",
      "$ SIGNIFICANT_INCIDENTS \u001b[3m\u001b[38;5;246m<dbl>\u001b[39m\u001b[23m 3, 0, 0, 4, 2, 1, 0, 1, 0, 0, 7, 0, 2, 0, 0, 0,…\n",
      "$ CHANGE                \u001b[3m\u001b[38;5;246m<dbl>\u001b[39m\u001b[23m NA, NA, NA, NA, NA, NA, NA, NA, NA, NA, NA, NA,…\n",
      "$ new_name              \u001b[3m\u001b[38;5;246m<chr>\u001b[39m\u001b[23m \"Plains Pipeline (Group)\", \"Plains Pipeline (Gr…\n"
     ]
    }
   ],
   "source": [
    "company_groups <- rename(company_groups, new_name = name)\n",
    "sample <- left_join(sample, company_groups, by=c('OPERATOR_ID' = 'members'))\n",
    "glimpse(subset(sample, !is.na(sample$new_name)))"
   ]
  },
  {
   "cell_type": "code",
   "execution_count": 9,
   "metadata": {},
   "outputs": [
    {
     "name": "stdout",
     "output_type": "stream",
     "text": [
      "Observations: 10\n",
      "Variables: 10\n",
      "$ YEAR                  \u001b[3m\u001b[38;5;246m<dbl>\u001b[39m\u001b[23m 2013, 2013, 2011, 2012, 2018, 2017, 2010, 2015,…\n",
      "$ COMMODITY             \u001b[3m\u001b[38;5;246m<chr>\u001b[39m\u001b[23m \"hvl\", \"non-hvl\", \"crude\", \"co2\", \"hvl\", \"hvl\",…\n",
      "$ OPERATOR_ID           \u001b[3m\u001b[38;5;246m<chr>\u001b[39m\u001b[23m \"32109\", \"Tesoro (Group)\", \"Marathon (Group)\", …\n",
      "$ NAME                  \u001b[3m\u001b[38;5;246m<chr>\u001b[39m\u001b[23m \"ONEOK NGL PIPELINE, LLC\", \"Tesoro (Group)\", \"M…\n",
      "$ MILES                 \u001b[3m\u001b[38;5;246m<dbl>\u001b[39m\u001b[23m 2980.230, 504.400, 824.200, 2.600, 1180.090, 40…\n",
      "$ PARENT                \u001b[3m\u001b[38;5;246m<chr>\u001b[39m\u001b[23m \"ONEOK\", \"Marathon Petroleum\", \"Marathon Petrol…\n",
      "$ INCIDENTS             \u001b[3m\u001b[38;5;246m<dbl>\u001b[39m\u001b[23m 3, 1, 5, 0, 1, 1, 5, 1, 0, 1\n",
      "$ SIGNIFICANT_INCIDENTS \u001b[3m\u001b[38;5;246m<dbl>\u001b[39m\u001b[23m 2, 1, 3, 0, 0, 0, 4, 1, 0, 1\n",
      "$ CHANGE                \u001b[3m\u001b[38;5;246m<dbl>\u001b[39m\u001b[23m 326.58, NA, 18.60, 0.00, 140.03, 1.28, NA, 60.4…\n",
      "$ GROUP                 \u001b[3m\u001b[38;5;246m<chr>\u001b[39m\u001b[23m \"not group\", \"group\", \"group\", \"not group\", \"gr…\n"
     ]
    }
   ],
   "source": [
    "sample_no_group <- subset(sample, is.na(sample$new_name))\n",
    "sample_group <- subset(sample, !is.na(sample$new_name))\n",
    "\n",
    "sample_group <- sample_group %>%\n",
    "    group_by(new_name, YEAR, COMMODITY) %>%\n",
    "    summarize(OPERATOR_ID = first(new_name), \n",
    "              NAME = first(new_name),\n",
    "              MILES = sum(MILES), \n",
    "              PARENT = first(PARENT), \n",
    "              INCIDENTS = sum(INCIDENTS), \n",
    "              SIGNIFICANT_INCIDENTS = sum(SIGNIFICANT_INCIDENTS), \n",
    "              CHANGE = sum(CHANGE), \n",
    "              GROUP = \"group\") %>%\n",
    "    ungroup()\n",
    "sample_no_group$GROUP = \"not group\"\n",
    "\n",
    "sample <- bind_rows(sample_group, sample_no_group)\n",
    "sample <- sample[ , (names(sample) != \"new_name\")]\n",
    "glimpse(sample_n(sample, 10))"
   ]
  },
  {
   "cell_type": "code",
   "execution_count": 10,
   "metadata": {},
   "outputs": [
    {
     "data": {
      "text/plain": [
       "\n",
       "    group not group \n",
       "      289       356 "
      ]
     },
     "metadata": {},
     "output_type": "display_data"
    }
   ],
   "source": [
    "table(sample$GROUP)"
   ]
  },
  {
   "cell_type": "markdown",
   "metadata": {},
   "source": [
    "### 9.2.2 M&As"
   ]
  },
  {
   "cell_type": "code",
   "execution_count": 11,
   "metadata": {},
   "outputs": [
    {
     "name": "stdout",
     "output_type": "stream",
     "text": [
      "Observations: 654\n",
      "Variables: 13\n",
      "$ YEAR                  \u001b[3m\u001b[38;5;246m<dbl>\u001b[39m\u001b[23m 2010, 2010, 2010, 2011, 2011, 2011, 2012, 2012,…\n",
      "$ COMMODITY             \u001b[3m\u001b[38;5;246m<chr>\u001b[39m\u001b[23m \"crude\", \"hvl\", \"non-hvl\", \"crude\", \"hvl\", \"non…\n",
      "$ OPERATOR_ID           \u001b[3m\u001b[38;5;246m<chr>\u001b[39m\u001b[23m \"BP (Group)\", \"BP (Group)\", \"BP (Group)\", \"BP (…\n",
      "$ NAME                  \u001b[3m\u001b[38;5;246m<chr>\u001b[39m\u001b[23m \"BP (Group)\", \"BP (Group)\", \"BP (Group)\", \"BP (…\n",
      "$ MILES                 \u001b[3m\u001b[38;5;246m<dbl>\u001b[39m\u001b[23m 427.0, 334.0, 546.0, 427.0, 108.0, 518.0, 427.0…\n",
      "$ PARENT                \u001b[3m\u001b[38;5;246m<chr>\u001b[39m\u001b[23m \"BP\", \"BP\", \"BP\", \"BP\", \"BP\", \"BP\", \"BP\", \"BP\",…\n",
      "$ INCIDENTS             \u001b[3m\u001b[38;5;246m<dbl>\u001b[39m\u001b[23m 2, 1, 0, 1, 0, 1, 0, 0, 2, 1, 0, 0, 1, 0, 2, 1,…\n",
      "$ SIGNIFICANT_INCIDENTS \u001b[3m\u001b[38;5;246m<dbl>\u001b[39m\u001b[23m 2, 1, 0, 0, 0, 0, 0, 0, 0, 1, 0, 0, 0, 0, 1, 1,…\n",
      "$ CHANGE                \u001b[3m\u001b[38;5;246m<dbl>\u001b[39m\u001b[23m NA, NA, NA, 0.0, 226.0, 28.0, 0.0, 0.0, 0.0, 28…\n",
      "$ GROUP                 \u001b[3m\u001b[38;5;246m<chr>\u001b[39m\u001b[23m \"group\", \"group\", \"group\", \"group\", \"group\", \"g…\n",
      "$ new_name              \u001b[3m\u001b[38;5;246m<chr>\u001b[39m\u001b[23m NA, NA, NA, NA, NA, NA, NA, NA, NA, NA, NA, NA,…\n",
      "$ start_year            \u001b[3m\u001b[38;5;246m<chr>\u001b[39m\u001b[23m \"-9999\", \"-9999\", \"-9999\", \"-9999\", \"-9999\", \"-…\n",
      "$ end_year              \u001b[3m\u001b[38;5;246m<chr>\u001b[39m\u001b[23m \"9999\", \"9999\", \"9999\", \"9999\", \"9999\", \"9999\",…\n"
     ]
    }
   ],
   "source": [
    "m_as <- rename(m_as, new_name = name)\n",
    "\n",
    "sample <- left_join(sample, m_as, by=c('OPERATOR_ID' = 'members'))\n",
    "\n",
    "# We need to fill in the NA values for start and end_year with values that always match, because when logical conditions encounter NAs\n",
    "# they will always be wrong. The filtering in those cases happens because the new_name column is NA.\n",
    "sample[is.na(sample$start_year), ]$start_year <- -9999\n",
    "sample[is.na(sample$end_year), ]$end_year <- 9999\n",
    "glimpse(sample)"
   ]
  },
  {
   "cell_type": "code",
   "execution_count": 12,
   "metadata": {},
   "outputs": [
    {
     "name": "stdout",
     "output_type": "stream",
     "text": [
      "Observations: 29\n",
      "Variables: 13\n",
      "$ YEAR                  \u001b[3m\u001b[38;5;246m<dbl>\u001b[39m\u001b[23m 2018, 2018, 2018, 2017, 2017, 2018, 2018, 2010,…\n",
      "$ COMMODITY             \u001b[3m\u001b[38;5;246m<chr>\u001b[39m\u001b[23m \"crude\", \"hvl\", \"non-hvl\", \"crude\", \"hvl\", \"cru…\n",
      "$ OPERATOR_ID           \u001b[3m\u001b[38;5;246m<chr>\u001b[39m\u001b[23m \"Enbridge (Group)\", \"Enbridge (Group)\", \"Enbrid…\n",
      "$ NAME                  \u001b[3m\u001b[38;5;246m<chr>\u001b[39m\u001b[23m \"Enbridge (Group)\", \"Enbridge (Group)\", \"Enbrid…\n",
      "$ MILES                 \u001b[3m\u001b[38;5;246m<dbl>\u001b[39m\u001b[23m 2740.45, 163.74, 473.84, 887.62, 1218.28, 1087.…\n",
      "$ PARENT                \u001b[3m\u001b[38;5;246m<chr>\u001b[39m\u001b[23m \"Enbridge\", \"Enbridge\", \"Enbridge\", \"Energy Tra…\n",
      "$ INCIDENTS             \u001b[3m\u001b[38;5;246m<dbl>\u001b[39m\u001b[23m 7, 0, 0, 9, 4, 7, 2, 0, 11, 2, 7, 0, 5, 2, 0, 4…\n",
      "$ SIGNIFICANT_INCIDENTS \u001b[3m\u001b[38;5;246m<dbl>\u001b[39m\u001b[23m 0, 0, 0, 1, 4, 0, 2, 0, 2, 1, 1, 0, 0, 1, 0, 2,…\n",
      "$ CHANGE                \u001b[3m\u001b[38;5;246m<dbl>\u001b[39m\u001b[23m 237.55, 6.26, 20.16, NA, 538.70, 200.08, 60.23,…\n",
      "$ GROUP                 \u001b[3m\u001b[38;5;246m<chr>\u001b[39m\u001b[23m \"group\", \"group\", \"group\", \"group\", \"group\", \"g…\n",
      "$ new_name              \u001b[3m\u001b[38;5;246m<chr>\u001b[39m\u001b[23m \"Enbridge (Group)\", \"Enbridge (Group)\", \"Enbrid…\n",
      "$ start_year            \u001b[3m\u001b[38;5;246m<chr>\u001b[39m\u001b[23m \"2018\", \"2018\", \"2018\", \"2017\", \"2017\", \"2017\",…\n",
      "$ end_year              \u001b[3m\u001b[38;5;246m<chr>\u001b[39m\u001b[23m \"9999\", \"9999\", \"9999\", \"9999\", \"9999\", \"9999\",…\n"
     ]
    }
   ],
   "source": [
    "sample_m_as <- subset(sample, (!is.na(new_name) & YEAR >= start_year & YEAR < end_year))\n",
    "sample_no_m_as <- subset(sample, !(!is.na(new_name) & YEAR >= start_year & YEAR < end_year))\n",
    "\n",
    "glimpse(sample_m_as)"
   ]
  },
  {
   "cell_type": "code",
   "execution_count": 13,
   "metadata": {},
   "outputs": [
    {
     "name": "stdout",
     "output_type": "stream",
     "text": [
      "Observations: 646\n",
      "Variables: 10\n",
      "$ YEAR                  \u001b[3m\u001b[38;5;246m<dbl>\u001b[39m\u001b[23m 2018, 2018, 2018, 2010, 2010, 2010, 2011, 2011,…\n",
      "$ COMMODITY             \u001b[3m\u001b[38;5;246m<chr>\u001b[39m\u001b[23m \"crude\", \"hvl\", \"non-hvl\", \"crude\", \"hvl\", \"non…\n",
      "$ OPERATOR_ID           \u001b[3m\u001b[38;5;246m<chr>\u001b[39m\u001b[23m \"Enbridge (Group)\", \"Enbridge (Group)\", \"Enbrid…\n",
      "$ NAME                  \u001b[3m\u001b[38;5;246m<chr>\u001b[39m\u001b[23m \"Enbridge (Group)\", \"Enbridge (Group)\", \"Enbrid…\n",
      "$ MILES                 \u001b[3m\u001b[38;5;246m<dbl>\u001b[39m\u001b[23m 3182.99, 163.74, 473.84, 196.00, 243.21, 4660.4…\n",
      "$ PARENT                \u001b[3m\u001b[38;5;246m<chr>\u001b[39m\u001b[23m \"Enbridge\", \"Enbridge\", \"Enbridge\", \"Enbridge\",…\n",
      "$ INCIDENTS             \u001b[3m\u001b[38;5;246m<dbl>\u001b[39m\u001b[23m 11, 0, 0, 2, 0, 11, 0, 2, 7, 0, 0, 5, 2, 0, 4, …\n",
      "$ SIGNIFICANT_INCIDENTS \u001b[3m\u001b[38;5;246m<dbl>\u001b[39m\u001b[23m 2, 0, 0, 2, 0, 2, 0, 1, 1, 0, 0, 0, 1, 0, 2, 4,…\n",
      "$ CHANGE                \u001b[3m\u001b[38;5;246m<dbl>\u001b[39m\u001b[23m 271.09, 6.26, 20.16, NA, NA, NA, 0.00, 240.28, …\n",
      "$ GROUP                 \u001b[3m\u001b[38;5;246m<chr>\u001b[39m\u001b[23m \"m&a\", \"m&a\", \"m&a\", \"m&a\", \"m&a\", \"m&a\", \"m&a\"…\n"
     ]
    }
   ],
   "source": [
    "sample_m_as <- sample_m_as %>%\n",
    "    group_by(new_name, YEAR, COMMODITY) %>%\n",
    "    summarize(OPERATOR_ID = first(new_name), \n",
    "              NAME = first(new_name),\n",
    "              MILES = sum(MILES), \n",
    "              PARENT = first(PARENT), \n",
    "              INCIDENTS = sum(INCIDENTS), \n",
    "              SIGNIFICANT_INCIDENTS = sum(SIGNIFICANT_INCIDENTS), \n",
    "              CHANGE = sum(CHANGE), \n",
    "              GROUP = 'm&a') %>%\n",
    "    ungroup()\n",
    "\n",
    "sample <- bind_rows(sample_m_as, sample_no_m_as)\n",
    "sample <- sample[ , !(names(sample) %in% c(\"new_name\", \"start_year\", \"end_year\"))]\n",
    "glimpse(sample)"
   ]
  },
  {
   "cell_type": "markdown",
   "metadata": {},
   "source": [
    "## 9.3 Save"
   ]
  },
  {
   "cell_type": "code",
   "execution_count": 14,
   "metadata": {},
   "outputs": [],
   "source": [
    "feather::write_feather(sample, paste0(\"../preprocessed_data/sample_consolidated_\", today, \".feather\"))\n",
    "haven::write_dta(sample, paste0(\"../stata_data/sample_consolidated_\", today, \".dta\"))"
   ]
  }
 ],
 "metadata": {
  "kernelspec": {
   "display_name": "R 3.6.1",
   "language": "R",
   "name": "ir361"
  },
  "language_info": {
   "codemirror_mode": "r",
   "file_extension": ".r",
   "mimetype": "text/x-r-source",
   "name": "R",
   "pygments_lexer": "r",
   "version": "3.6.1"
  }
 },
 "nbformat": 4,
 "nbformat_minor": 4
}
