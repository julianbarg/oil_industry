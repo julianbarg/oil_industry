{
 "cells": [
  {
   "cell_type": "markdown",
   "metadata": {},
   "source": [
    "# 10. Feature generation (R)"
   ]
  },
  {
   "cell_type": "code",
   "execution_count": 1,
   "metadata": {},
   "outputs": [
    {
     "name": "stderr",
     "output_type": "stream",
     "text": [
      "Registered S3 methods overwritten by 'ggplot2':\n",
      "  method         from \n",
      "  [.quosures     rlang\n",
      "  c.quosures     rlang\n",
      "  print.quosures rlang\n",
      "Registered S3 method overwritten by 'rvest':\n",
      "  method            from\n",
      "  read_xml.response xml2\n",
      "── \u001b[1mAttaching packages\u001b[22m ─────────────────────────────────────── tidyverse 1.2.1 ──\n",
      "\u001b[32m✔\u001b[39m \u001b[34mggplot2\u001b[39m 3.1.1       \u001b[32m✔\u001b[39m \u001b[34mpurrr  \u001b[39m 0.3.2  \n",
      "\u001b[32m✔\u001b[39m \u001b[34mtibble \u001b[39m 2.1.1       \u001b[32m✔\u001b[39m \u001b[34mdplyr  \u001b[39m 0.8.0.\u001b[31m1\u001b[39m\n",
      "\u001b[32m✔\u001b[39m \u001b[34mtidyr  \u001b[39m 0.8.3       \u001b[32m✔\u001b[39m \u001b[34mstringr\u001b[39m 1.4.0  \n",
      "\u001b[32m✔\u001b[39m \u001b[34mreadr  \u001b[39m 1.3.1       \u001b[32m✔\u001b[39m \u001b[34mforcats\u001b[39m 0.4.0  \n",
      "── \u001b[1mConflicts\u001b[22m ────────────────────────────────────────── tidyverse_conflicts() ──\n",
      "\u001b[31m✖\u001b[39m \u001b[34mdplyr\u001b[39m::\u001b[32mfilter()\u001b[39m masks \u001b[34mstats\u001b[39m::filter()\n",
      "\u001b[31m✖\u001b[39m \u001b[34mdplyr\u001b[39m::\u001b[32mlag()\u001b[39m    masks \u001b[34mstats\u001b[39m::lag()\n"
     ]
    }
   ],
   "source": [
    "library(tidyverse)"
   ]
  },
  {
   "cell_type": "code",
   "execution_count": 2,
   "metadata": {},
   "outputs": [],
   "source": [
    "sample_consolidated_file <- \"../preprocessed_data/sample_consolidated_2019-09-05.feather\""
   ]
  },
  {
   "cell_type": "markdown",
   "metadata": {},
   "source": [
    "## Read data"
   ]
  },
  {
   "cell_type": "code",
   "execution_count": 3,
   "metadata": {},
   "outputs": [
    {
     "name": "stdout",
     "output_type": "stream",
     "text": [
      "Observations: 1,425\n",
      "Variables: 23\n",
      "$ YEAR                  \u001b[3m\u001b[38;5;246m<dbl>\u001b[39m\u001b[23m 2008, 2008, 2008, 2008, 2008, 2008, 2008, 2008,…\n",
      "$ COMMODITY             \u001b[3m\u001b[38;5;246m<chr>\u001b[39m\u001b[23m \"crude\", \"crude\", \"hvl\", \"non-hvl\", \"hvl\", \"non…\n",
      "$ OPERATOR_ID           \u001b[3m\u001b[38;5;246m<chr>\u001b[39m\u001b[23m \"SemGroup (Group)\", \"BP (Group)\", \"BP (Group)\",…\n",
      "$ NAME                  \u001b[3m\u001b[38;5;246m<chr>\u001b[39m\u001b[23m \"SemGroup (Group)\", \"BP (Group)\", \"BP (Group)\",…\n",
      "$ MILES                 \u001b[3m\u001b[38;5;246m<dbl>\u001b[39m\u001b[23m 119.000, 24.000, 359.000, 762.000, 881.000, 341…\n",
      "$ AGE_UNKNOWN_MILES     \u001b[3m\u001b[38;5;246m<dbl>\u001b[39m\u001b[23m 0, 0, 0, 0, 0, 0, 0, 0, 0, 0, 0, 0, 0, 0, 0, 0,…\n",
      "$ MILES_PRE_1940        \u001b[3m\u001b[38;5;246m<dbl>\u001b[39m\u001b[23m 22.000, 0.000, 0.000, 152.000, 0.000, 0.000, 0.…\n",
      "$ MILES_1940            \u001b[3m\u001b[38;5;246m<dbl>\u001b[39m\u001b[23m 22.000, 0.000, 0.000, 2.000, 0.000, 763.000, 0.…\n",
      "$ MILES_1950            \u001b[3m\u001b[38;5;246m<dbl>\u001b[39m\u001b[23m 146.00, 4.00, 0.00, 166.00, 0.70, 668.20, 368.2…\n",
      "$ MILES_1960            \u001b[3m\u001b[38;5;246m<dbl>\u001b[39m\u001b[23m 10.000, 7.000, 186.000, 80.000, 38.200, 581.000…\n",
      "$ MILES_1970            \u001b[3m\u001b[38;5;246m<dbl>\u001b[39m\u001b[23m 6.000, 5.000, 168.000, 700.000, 581.800, 0.000,…\n",
      "$ MILES_1980            \u001b[3m\u001b[38;5;246m<dbl>\u001b[39m\u001b[23m 2.000, 3.000, 33.000, 29.000, 13.500, 0.000, 32…\n",
      "$ MILES_1990            \u001b[3m\u001b[38;5;246m<dbl>\u001b[39m\u001b[23m 8.000, 3.000, 136.000, 25.000, 232.200, 0.000, …\n",
      "$ MILES_2000            \u001b[3m\u001b[38;5;246m<dbl>\u001b[39m\u001b[23m 10.000, 1.000, 3.000, 13.000, 1.100, 9.000, 62.…\n",
      "$ MILES_2010            \u001b[3m\u001b[38;5;246m<dbl>\u001b[39m\u001b[23m 0, 0, 0, 0, 0, 0, 0, 0, 0, 0, 0, 0, 0, 0, 0, 0,…\n",
      "$ PARENT                \u001b[3m\u001b[38;5;246m<chr>\u001b[39m\u001b[23m NA, NA, NA, NA, NA, NA, NA, NA, NA, NA, NA, NA,…\n",
      "$ INCIDENTS             \u001b[3m\u001b[38;5;246m<dbl>\u001b[39m\u001b[23m 0, 0, 0, 0, 0, 0, 0, 0, 0, 0, 0, 0, 0, 0, 0, 0,…\n",
      "$ SIGNIFICANT_INCIDENTS \u001b[3m\u001b[38;5;246m<dbl>\u001b[39m\u001b[23m 0, 0, 0, 0, 0, 0, 0, 0, 0, 0, 0, 0, 0, 0, 0, 0,…\n",
      "$ GROUP                 \u001b[3m\u001b[38;5;246m<chr>\u001b[39m\u001b[23m \"m&a\", \"group\", \"group\", \"group\", \"group\", \"gro…\n",
      "$ PERC_OFFSHORE         \u001b[3m\u001b[38;5;246m<dbl>\u001b[39m\u001b[23m NA, NA, NA, NA, NA, NA, NA, NA, NA, NA, NA, NA,…\n",
      "$ AVG_AGE               \u001b[3m\u001b[38;5;246m<dbl>\u001b[39m\u001b[23m 63.53982, 46.30435, 42.56654, 53.43188, 39.9095…\n",
      "$ CHANGE                \u001b[3m\u001b[38;5;246m<dbl>\u001b[39m\u001b[23m NA, NA, NA, NA, NA, NA, NA, NA, NA, NA, NA, NA,…\n",
      "$ M_A                   \u001b[3m\u001b[38;5;246m<lgl>\u001b[39m\u001b[23m FALSE, FALSE, FALSE, FALSE, FALSE, FALSE, FALSE…\n"
     ]
    }
   ],
   "source": [
    "sample <- feather::read_feather(sample_consolidated_file)\n",
    "glimpse(sample)"
   ]
  },
  {
   "cell_type": "markdown",
   "metadata": {},
   "source": [
    "## Alternatively: filter large changes"
   ]
  },
  {
   "cell_type": "code",
   "execution_count": 4,
   "metadata": {},
   "outputs": [
    {
     "name": "stderr",
     "output_type": "stream",
     "text": [
      "`stat_bin()` using `bins = 30`. Pick better value with `binwidth`.\n",
      "Warning message:\n",
      "“Removed 186 rows containing non-finite values (stat_bin).”"
     ]
    },
    {
     "data": {
      "image/png": "[encoded data removed]",
      "text/plain": [
       "plot without title"
      ]
     },
     "metadata": {},
     "output_type": "display_data"
    }
   ],
   "source": [
    "sample %>%\n",
    "    ggplot(aes(x=CHANGE)) +\n",
    "        geom_histogram()"
   ]
  },
  {
   "cell_type": "code",
   "execution_count": 5,
   "metadata": {},
   "outputs": [
    {
     "data": {
      "text/html": [
       "1425"
      ],
      "text/latex": [
       "1425"
      ],
      "text/markdown": [
       "1425"
      ],
      "text/plain": [
       "[1] 1425"
      ]
     },
     "metadata": {},
     "output_type": "display_data"
    }
   ],
   "source": [
    "nrow(sample)"
   ]
  },
  {
   "cell_type": "code",
   "execution_count": 6,
   "metadata": {},
   "outputs": [],
   "source": [
    "sample <- subset(sample, abs(CHANGE) < 250)"
   ]
  },
  {
   "cell_type": "code",
   "execution_count": 7,
   "metadata": {},
   "outputs": [
    {
     "data": {
      "text/plain": [
       "\n",
       "  crude     hvl non-hvl \n",
       "    403     344     379 "
      ]
     },
     "metadata": {},
     "output_type": "display_data"
    }
   ],
   "source": [
    "sample <- subset(sample, COMMODITY %in% c(\"crude\", \"hvl\", \"non-hvl\"))\n",
    "table(sample$COMMODITY)"
   ]
  },
  {
   "cell_type": "code",
   "execution_count": 8,
   "metadata": {},
   "outputs": [
    {
     "data": {
      "text/html": [
       "1126"
      ],
      "text/latex": [
       "1126"
      ],
      "text/markdown": [
       "1126"
      ],
      "text/plain": [
       "[1] 1126"
      ]
     },
     "metadata": {},
     "output_type": "display_data"
    }
   ],
   "source": [
    "nrow(sample)"
   ]
  },
  {
   "cell_type": "markdown",
   "metadata": {},
   "source": [
    "## Alternatively: remove two years of change for oil pipelines we added"
   ]
  },
  {
   "cell_type": "code",
   "execution_count": 9,
   "metadata": {},
   "outputs": [],
   "source": [
    "# sample <- subset(sample, YEAR >= 2010)"
   ]
  },
  {
   "cell_type": "markdown",
   "metadata": {},
   "source": [
    "## 10.1 Three year moving average"
   ]
  },
  {
   "cell_type": "markdown",
   "metadata": {},
   "source": [
    "Change"
   ]
  },
  {
   "cell_type": "code",
   "execution_count": 10,
   "metadata": {},
   "outputs": [],
   "source": [
    "sample <- sample %>%\n",
    "    group_by(OPERATOR_ID, COMMODITY) %>%\n",
    "    arrange(desc(YEAR)) %>%\n",
    "    mutate(change_1 = lead(CHANGE, 1), \n",
    "           change_2 = lead(CHANGE, 2), \n",
    "           change_3 = MILES - lead(MILES, 3)) %>%\n",
    "    mutate(mean_change_3 = (change_3 / 3)) %>%\n",
    "    mutate(sd_change_3 = sqrt((CHANGE - mean_change_3)^2 + (change_1 - mean_change_3)^2 + (change_2 - mean_change_3)^2 / 3))"
   ]
  },
  {
   "cell_type": "markdown",
   "metadata": {},
   "source": [
    "Incidents"
   ]
  },
  {
   "cell_type": "code",
   "execution_count": 11,
   "metadata": {},
   "outputs": [],
   "source": [
    "sample <- sample %>%\n",
    "    group_by(OPERATOR_ID, COMMODITY) %>%\n",
    "    arrange(desc(YEAR)) %>%\n",
    "    mutate(miles_avg_3 = (MILES + lead(MILES, 1) + lead(MILES, 2)) / 3, \n",
    "           miles_1950_3 = (MILES_1950 + lead(MILES_1950, 1) + lead(MILES_1950, 2)) / 3,\n",
    "           sign_inc_3 =  (SIGNIFICANT_INCIDENTS + lag(SIGNIFICANT_INCIDENTS, 1) + lag(SIGNIFICANT_INCIDENTS, 2)) / 3)"
   ]
  },
  {
   "cell_type": "markdown",
   "metadata": {},
   "source": [
    "Incidents per mile"
   ]
  },
  {
   "cell_type": "code",
   "execution_count": 12,
   "metadata": {},
   "outputs": [],
   "source": [
    "sample$inc_per_mile_3 <- sample$sign_inc_3 / sample$miles_avg_3"
   ]
  },
  {
   "cell_type": "markdown",
   "metadata": {},
   "source": [
    "Percent of pipelines for each decade."
   ]
  },
  {
   "cell_type": "code",
   "execution_count": 13,
   "metadata": {},
   "outputs": [],
   "source": [
    "sample <- sample %>%\n",
    "    mutate(age_miles = MILES_PRE_1940 + MILES_1940 + MILES_1950 + MILES_1960 + MILES_1970 + MILES_1980 +\n",
    "                       MILES_1990 + MILES_2000 + MILES_2010)"
   ]
  },
  {
   "cell_type": "code",
   "execution_count": 14,
   "metadata": {},
   "outputs": [],
   "source": [
    "sample <- sample %>%\n",
    "    mutate(perc_pre_1940 = MILES_PRE_1940 / age_miles, \n",
    "           perc_1940 = MILES_1940 / age_miles,\n",
    "           perc_1950 = MILES_1950 / age_miles,\n",
    "           perc_1960 = MILES_1960 / age_miles,\n",
    "           perc_1970 = MILES_1970 / age_miles,\n",
    "           perc_1980 = MILES_1980 / age_miles,\n",
    "           perc_1990 = MILES_1990 / age_miles,\n",
    "           perc_2000 = MILES_2000 / age_miles, \n",
    "           perc_2010 = MILES_2010 / age_miles)"
   ]
  },
  {
   "cell_type": "code",
   "execution_count": 15,
   "metadata": {},
   "outputs": [],
   "source": [
    "sample <- sample %>%\n",
    "    group_by(OPERATOR_ID, COMMODITY) %>%\n",
    "    arrange(desc(YEAR)) %>%\n",
    "    mutate(avg_pre_1940 = (perc_pre_1940 + lag(perc_pre_1940) + lag(perc_pre_1940, 2)) /3, \n",
    "           avg_1940 = (perc_1940 + lag(perc_1940) + lag(perc_1940, 2)) / 3,\n",
    "           avg_1950 = (perc_1950 + lag(perc_1950) + lag(perc_1950, 2)) / 3,\n",
    "           avg_1960 = (perc_1960 + lag(perc_1960) + lag(perc_1960, 2)) / 3,\n",
    "           avg_1970 = (perc_1970 + lag(perc_1970) + lag(perc_1970, 2)) / 3,\n",
    "           avg_1980 = (perc_1980 + lag(perc_1980) + lag(perc_1980, 2)) / 3,\n",
    "           avg_1990 = (perc_1990 + lag(perc_1990) + lag(perc_1990, 2)) / 3,\n",
    "           avg_2000 = (perc_2000 + lag(perc_2000) + lag(perc_2000, 2)) / 3,\n",
    "           avg_2010 = (perc_2010 + lag(perc_2010) + lag(perc_2010, 2)) / 3)"
   ]
  },
  {
   "cell_type": "markdown",
   "metadata": {},
   "source": [
    "## 10.2 Incidents per mile"
   ]
  },
  {
   "cell_type": "code",
   "execution_count": 16,
   "metadata": {},
   "outputs": [],
   "source": [
    "sample$INCIDENTS_MILE <- (sample$INCIDENTS / sample$MILES)\n",
    "sample$SIGN_INC_MILE <- (sample$SIGNIFICANT_INCIDENTS / sample$MILES)"
   ]
  },
  {
   "cell_type": "code",
   "execution_count": 17,
   "metadata": {},
   "outputs": [
    {
     "data": {
      "text/html": [
       "709"
      ],
      "text/latex": [
       "709"
      ],
      "text/markdown": [
       "709"
      ],
      "text/plain": [
       "[1] 709"
      ]
     },
     "metadata": {},
     "output_type": "display_data"
    }
   ],
   "source": [
    "nrow(sample[!is.na(sample$sd_change_3), ])"
   ]
  },
  {
   "cell_type": "markdown",
   "metadata": {},
   "source": [
    "## 10.3 Data types"
   ]
  },
  {
   "cell_type": "code",
   "execution_count": 18,
   "metadata": {},
   "outputs": [],
   "source": [
    "sample$COMMODITY <- as.factor(sample$COMMODITY)\n",
    "sample$OPERATOR_ID <- as.factor(sample$OPERATOR_ID)"
   ]
  },
  {
   "cell_type": "markdown",
   "metadata": {},
   "source": [
    "## 10.4 past M&As"
   ]
  },
  {
   "cell_type": "code",
   "execution_count": 19,
   "metadata": {},
   "outputs": [
    {
     "name": "stdout",
     "output_type": "stream",
     "text": [
      "Observations: 1,126\n",
      "Variables: 54\n",
      "Groups: OPERATOR_ID, COMMODITY [147]\n",
      "$ YEAR                  \u001b[3m\u001b[38;5;246m<dbl>\u001b[39m\u001b[23m 2018, 2018, 2018, 2018, 2018, 2018, 2018, 2018,…\n",
      "$ COMMODITY             \u001b[3m\u001b[38;5;246m<fct>\u001b[39m\u001b[23m hvl, non-hvl, crude, hvl, non-hvl, crude, non-h…\n",
      "$ OPERATOR_ID           \u001b[3m\u001b[38;5;246m<fct>\u001b[39m\u001b[23m Sunoco (Group), Sunoco (Group), Valero Energy (…\n",
      "$ NAME                  \u001b[3m\u001b[38;5;246m<chr>\u001b[39m\u001b[23m \"Sunoco (Group)\", \"Sunoco (Group)\", \"Valero Ene…\n",
      "$ MILES                 \u001b[3m\u001b[38;5;246m<dbl>\u001b[39m\u001b[23m 1852.530, 1506.550, 92.377, 24.609, 170.415, 27…\n",
      "$ AGE_UNKNOWN_MILES     \u001b[3m\u001b[38;5;246m<dbl>\u001b[39m\u001b[23m 185.430, 148.890, 0.000, 0.000, 0.000, 0.000, 0…\n",
      "$ MILES_PRE_1940        \u001b[3m\u001b[38;5;246m<dbl>\u001b[39m\u001b[23m 4.73, 40.90, 0.00, 0.00, 0.00, 1.70, 0.00, 0.00…\n",
      "$ MILES_1940            \u001b[3m\u001b[38;5;246m<dbl>\u001b[39m\u001b[23m 174.050, 130.370, 0.000, 0.000, 0.000, 69.800, …\n",
      "$ MILES_1950            \u001b[3m\u001b[38;5;246m<dbl>\u001b[39m\u001b[23m 134.220, 147.840, 84.333, 0.000, 11.233, 11.500…\n",
      "$ MILES_1960            \u001b[3m\u001b[38;5;246m<dbl>\u001b[39m\u001b[23m 98.080, 114.860, 40.250, 52.120, 2.848, 30.300,…\n",
      "$ MILES_1970            \u001b[3m\u001b[38;5;246m<dbl>\u001b[39m\u001b[23m 126.410, 271.510, 0.000, 0.000, 25.322, 8.000, …\n",
      "$ MILES_1980            \u001b[3m\u001b[38;5;246m<dbl>\u001b[39m\u001b[23m 14.970, 64.900, 18.896, 4.482, 10.925, 0.100, 0…\n",
      "$ MILES_1990            \u001b[3m\u001b[38;5;246m<dbl>\u001b[39m\u001b[23m 61.180, 45.980, 19.423, 1.628, 0.367, 20.500, 0…\n",
      "$ MILES_2000            \u001b[3m\u001b[38;5;246m<dbl>\u001b[39m\u001b[23m 122.200, 5.250, 15.801, 2.553, 17.355, 9.100, 1…\n",
      "$ MILES_2010            \u001b[3m\u001b[38;5;246m<dbl>\u001b[39m\u001b[23m 1366.390, 165.000, 35.081, 0.000, 148.752, 74.9…\n",
      "$ PARENT                \u001b[3m\u001b[38;5;246m<chr>\u001b[39m\u001b[23m \"Energy Transfer\", \"Energy Transfer\", \"Valero E…\n",
      "$ INCIDENTS             \u001b[3m\u001b[38;5;246m<dbl>\u001b[39m\u001b[23m 2, 2, 0, 0, 1, 2, 0, 0, 1, 2, 1, 10, 5, 0, 0, 0…\n",
      "$ SIGNIFICANT_INCIDENTS \u001b[3m\u001b[38;5;246m<dbl>\u001b[39m\u001b[23m 2, 1, 0, 0, 1, 1, 0, 0, 0, 0, 1, 5, 0, 0, 0, 0,…\n",
      "$ GROUP                 \u001b[3m\u001b[38;5;246m<chr>\u001b[39m\u001b[23m \"m&a\", \"m&a\", \"m&a\", \"m&a\", \"m&a\", \"group\", \"gr…\n",
      "$ PERC_OFFSHORE         \u001b[3m\u001b[38;5;246m<dbl>\u001b[39m\u001b[23m NA, NA, NA, NA, NA, NA, NA, NA, NA, NA, NA, NA,…\n",
      "$ AVG_AGE               \u001b[3m\u001b[38;5;246m<dbl>\u001b[39m\u001b[23m 20.93253, 46.55168, 43.29019, 51.04166, 15.7835…\n",
      "$ CHANGE                \u001b[3m\u001b[38;5;246m<dbl>\u001b[39m\u001b[23m 37.750, 75.450, 0.229, 0.000, -4.121, -37.950, …\n",
      "$ M_A                   \u001b[3m\u001b[38;5;246m<lgl>\u001b[39m\u001b[23m FALSE, FALSE, FALSE, FALSE, FALSE, FALSE, FALSE…\n",
      "$ change_1              \u001b[3m\u001b[38;5;246m<dbl>\u001b[39m\u001b[23m 2.294100e+02, 7.596000e+01, 2.400000e-01, 3.000…\n",
      "$ change_2              \u001b[3m\u001b[38;5;246m<dbl>\u001b[39m\u001b[23m -64.180, -86.720, -2.092, 10.269, 99.102, 54.10…\n",
      "$ change_3              \u001b[3m\u001b[38;5;246m<dbl>\u001b[39m\u001b[23m 1681.140, 64.690, -1.623, 13.269, 97.205, -15.6…\n",
      "$ mean_change_3         \u001b[3m\u001b[38;5;246m<dbl>\u001b[39m\u001b[23m 560.3800000, 21.5633333, -0.5410000, 4.4230000,…\n",
      "$ sd_change_3           \u001b[3m\u001b[38;5;246m<dbl>\u001b[39m\u001b[23m 716.0365370, 98.8493649, 1.4158842, 5.7428010, …\n",
      "$ miles_avg_3           \u001b[3m\u001b[38;5;246m<dbl>\u001b[39m\u001b[23m 1393.46667, 1430.93000, 92.14433, 23.60900, 172…\n",
      "$ miles_1950_3          \u001b[3m\u001b[38;5;246m<dbl>\u001b[39m\u001b[23m 112.400000, 141.346667, 84.333000, 0.000000, 11…\n",
      "$ sign_inc_3            \u001b[3m\u001b[38;5;246m<dbl>\u001b[39m\u001b[23m NA, NA, NA, NA, NA, NA, NA, NA, NA, NA, NA, NA,…\n",
      "$ inc_per_mile_3        \u001b[3m\u001b[38;5;246m<dbl>\u001b[39m\u001b[23m NA, NA, NA, NA, NA, NA, NA, NA, NA, NA, NA, NA,…\n",
      "$ age_miles             \u001b[3m\u001b[38;5;246m<dbl>\u001b[39m\u001b[23m 2102.230, 986.610, 213.784, 60.783, 216.802, 22…\n",
      "$ perc_pre_1940         \u001b[3m\u001b[38;5;246m<dbl>\u001b[39m\u001b[23m 0.002249992, 0.041455084, 0.000000000, 0.000000…\n",
      "$ perc_1940             \u001b[3m\u001b[38;5;246m<dbl>\u001b[39m\u001b[23m 0.08279303, 0.13213935, 0.00000000, 0.00000000,…\n",
      "$ perc_1950             \u001b[3m\u001b[38;5;246m<dbl>\u001b[39m\u001b[23m 0.063846487, 0.149846444, 0.394477604, 0.000000…\n",
      "$ perc_1960             \u001b[3m\u001b[38;5;246m<dbl>\u001b[39m\u001b[23m 0.0466552185, 0.1164188484, 0.1882741459, 0.857…\n",
      "$ perc_1970             \u001b[3m\u001b[38;5;246m<dbl>\u001b[39m\u001b[23m 0.06013138, 0.27519486, 0.00000000, 0.00000000,…\n",
      "$ perc_1980             \u001b[3m\u001b[38;5;246m<dbl>\u001b[39m\u001b[23m 0.0071210096, 0.0657808050, 0.0883882798, 0.073…\n",
      "$ perc_1990             \u001b[3m\u001b[38;5;246m<dbl>\u001b[39m\u001b[23m 0.029102429, 0.046604028, 0.090853385, 0.026783…\n",
      "$ perc_2000             \u001b[3m\u001b[38;5;246m<dbl>\u001b[39m\u001b[23m 0.0581287490, 0.0053212516, 0.0739110504, 0.042…\n",
      "$ perc_2010             \u001b[3m\u001b[38;5;246m<dbl>\u001b[39m\u001b[23m 0.6499716967, 0.1672393347, 0.1640955357, 0.000…\n",
      "$ avg_pre_1940          \u001b[3m\u001b[38;5;246m<dbl>\u001b[39m\u001b[23m NA, NA, NA, NA, NA, NA, NA, NA, NA, NA, NA, NA,…\n",
      "$ avg_1940              \u001b[3m\u001b[38;5;246m<dbl>\u001b[39m\u001b[23m NA, NA, NA, NA, NA, NA, NA, NA, NA, NA, NA, NA,…\n",
      "$ avg_1950              \u001b[3m\u001b[38;5;246m<dbl>\u001b[39m\u001b[23m NA, NA, NA, NA, NA, NA, NA, NA, NA, NA, NA, NA,…\n",
      "$ avg_1960              \u001b[3m\u001b[38;5;246m<dbl>\u001b[39m\u001b[23m NA, NA, NA, NA, NA, NA, NA, NA, NA, NA, NA, NA,…\n",
      "$ avg_1970              \u001b[3m\u001b[38;5;246m<dbl>\u001b[39m\u001b[23m NA, NA, NA, NA, NA, NA, NA, NA, NA, NA, NA, NA,…\n",
      "$ avg_1980              \u001b[3m\u001b[38;5;246m<dbl>\u001b[39m\u001b[23m NA, NA, NA, NA, NA, NA, NA, NA, NA, NA, NA, NA,…\n",
      "$ avg_1990              \u001b[3m\u001b[38;5;246m<dbl>\u001b[39m\u001b[23m NA, NA, NA, NA, NA, NA, NA, NA, NA, NA, NA, NA,…\n",
      "$ avg_2000              \u001b[3m\u001b[38;5;246m<dbl>\u001b[39m\u001b[23m NA, NA, NA, NA, NA, NA, NA, NA, NA, NA, NA, NA,…\n",
      "$ avg_2010              \u001b[3m\u001b[38;5;246m<dbl>\u001b[39m\u001b[23m NA, NA, NA, NA, NA, NA, NA, NA, NA, NA, NA, NA,…\n",
      "$ INCIDENTS_MILE        \u001b[3m\u001b[38;5;246m<dbl>\u001b[39m\u001b[23m 0.001079605, 0.001327536, 0.000000000, 0.000000…\n",
      "$ SIGN_INC_MILE         \u001b[3m\u001b[38;5;246m<dbl>\u001b[39m\u001b[23m 0.0010796046, 0.0006637682, 0.0000000000, 0.000…\n",
      "$ M_A_3                 \u001b[3m\u001b[38;5;246m<int>\u001b[39m\u001b[23m 1, 1, 1, 1, 1, 0, 0, 0, 0, 0, 0, 0, 0, 0, 0, 0,…\n"
     ]
    }
   ],
   "source": [
    "sample <- sample %>%\n",
    "    group_by(OPERATOR_ID, COMMODITY) %>%\n",
    "    arrange(desc(YEAR)) %>%\n",
    "    mutate(M_A_1 = lead_M_A_1 = lead(M_A), M_A_2 = lead(M_A, 2), M_A_3 = lead(M_A_3))\n",
    "    mutate(M_A_past_3 = max(M_A_1, M_A_2, M_A_3))\n",
    "glimpse(sample)"
   ]
  },
  {
   "cell_type": "markdown",
   "metadata": {},
   "source": [
    "## 10.5 Log transform etc."
   ]
  },
  {
   "cell_type": "code",
   "execution_count": 20,
   "metadata": {},
   "outputs": [],
   "source": [
    "sample$LOG_INCIDENTS_MILE <- log(sample$INCIDENTS_MILE)\n",
    "sample$LOG_SIGN_INC_MILE <- log(sample$SIGN_INC_MILE)\n",
    "sample$log_sd_change <- log(sample$sd_change_3)\n",
    "sample$sd_change_sq <- (sample$sd_change_3)^2\n",
    "sample$sd_change_pw_3 <- (sample$sd_change_3)^3\n",
    "sample$one_over_sd_change <- (1 / sample$sd_change_3)"
   ]
  },
  {
   "cell_type": "markdown",
   "metadata": {},
   "source": [
    "## 10.6 Interaction effects"
   ]
  },
  {
   "cell_type": "code",
   "execution_count": 21,
   "metadata": {},
   "outputs": [],
   "source": [
    "sample$miles_x_change <- sample$MILES * sample$sd_change_3"
   ]
  },
  {
   "cell_type": "markdown",
   "metadata": {},
   "source": [
    "## 10.7 Subsamples"
   ]
  },
  {
   "cell_type": "code",
   "execution_count": 22,
   "metadata": {},
   "outputs": [],
   "source": [
    "sample_crude <- sample[(sample$COMMODITY == \"crude\"), ]\n",
    "none_new <- subset(sample, COMMODITY %in% c(\"crude\", \"hvl\", \"non-hvl\"))"
   ]
  },
  {
   "cell_type": "markdown",
   "metadata": {},
   "source": [
    "## 10.7 Save"
   ]
  },
  {
   "cell_type": "code",
   "execution_count": 23,
   "metadata": {},
   "outputs": [],
   "source": [
    "# testit::assert(nrow(subset(sample, YEAR == 2008)) > 0)\n",
    "feather::write_feather(sample, paste0(\"../preprocessed_data/low_change_sample_features_\", Sys.Date(), \".feather\"))\n",
    "haven::write_dta(sample, paste0(\"../stata_data/low_change_sample_features_\", Sys.Date(), \".dta\"))\n",
    "feather::write_feather(sample_crude, paste0(\"../preprocessed_data/low_change_sample_features_crude_\", Sys.Date(), \".feather\"))\n",
    "haven::write_dta(sample_crude, paste0(\"../stata_data/low_change_sample_features_crude_\", Sys.Date(), \".dta\"))\n",
    "feather::write_feather(none_new, paste0(\"../preprocessed_data/low_change_sample_none_new_\", Sys.Date(), \".feather\"))\n",
    "haven::write_dta(none_new, paste0(\"../stata_data/low_change_sample_none_new_\", Sys.Date(), \".dta\"))"
   ]
  }
 ],
 "metadata": {
  "kernelspec": {
   "display_name": "R 3.6.1",
   "language": "R",
   "name": "ir361"
  },
  "language_info": {
   "codemirror_mode": "r",
   "file_extension": ".r",
   "mimetype": "text/x-r-source",
   "name": "R",
   "pygments_lexer": "r",
   "version": "3.6.1"
  }
 },
 "nbformat": 4,
 "nbformat_minor": 4
}
