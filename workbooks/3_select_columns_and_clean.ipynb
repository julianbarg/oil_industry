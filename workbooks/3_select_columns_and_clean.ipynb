{
 "cells": [
  {
   "cell_type": "markdown",
   "metadata": {},
   "source": [
    "# 3 - Select columns and clean"
   ]
  },
  {
   "cell_type": "code",
   "execution_count": 1,
   "metadata": {},
   "outputs": [],
   "source": [
    "import pandas as pd\n",
    "import numpy as np\n",
    "from datetime import date\n",
    "\n",
    "today = date.today().isoformat()"
   ]
  },
  {
   "cell_type": "markdown",
   "metadata": {},
   "source": [
    "## 3.1 Extract relevant columns of the pipeline incidents dataset"
   ]
  },
  {
   "cell_type": "code",
   "execution_count": 2,
   "metadata": {},
   "outputs": [],
   "source": [
    "incidents = pd.read_excel('../data/incidents_2019-08-01/hl2010toPresent.xlsx', \n",
    "                          sheet_name=1)"
   ]
  },
  {
   "cell_type": "code",
   "execution_count": 3,
   "metadata": {},
   "outputs": [
    {
     "data": {
      "text/html": [
       "<div>\n",
       "<style scoped>\n",
       "    .dataframe tbody tr th:only-of-type {\n",
       "        vertical-align: middle;\n",
       "    }\n",
       "\n",
       "    .dataframe tbody tr th {\n",
       "        vertical-align: top;\n",
       "    }\n",
       "\n",
       "    .dataframe thead th {\n",
       "        text-align: right;\n",
       "    }\n",
       "</style>\n",
       "<table border=\"1\" class=\"dataframe\">\n",
       "  <thead>\n",
       "    <tr style=\"text-align: right;\">\n",
       "      <th></th>\n",
       "      <th>OPERATOR_ID</th>\n",
       "      <th>LOCAL_DATETIME</th>\n",
       "      <th>NAME</th>\n",
       "      <th>SERIOUS</th>\n",
       "      <th>SIGNIFICANT</th>\n",
       "      <th>LOCATION_LATITUDE</th>\n",
       "      <th>LOCATION_LONGITUDE</th>\n",
       "    </tr>\n",
       "  </thead>\n",
       "  <tbody>\n",
       "    <tr>\n",
       "      <th>296</th>\n",
       "      <td>9175</td>\n",
       "      <td>2010-11-15 08:35:00</td>\n",
       "      <td>JAYHAWK PIPELINE LLC</td>\n",
       "      <td>NO</td>\n",
       "      <td>NO</td>\n",
       "      <td>37.414383</td>\n",
       "      <td>-99.320819</td>\n",
       "    </tr>\n",
       "    <tr>\n",
       "      <th>1428</th>\n",
       "      <td>22855</td>\n",
       "      <td>2013-12-01 08:11:00</td>\n",
       "      <td>KOCH PIPELINE COMPANY, L.P.</td>\n",
       "      <td>NO</td>\n",
       "      <td>NO</td>\n",
       "      <td>27.839803</td>\n",
       "      <td>-97.531604</td>\n",
       "    </tr>\n",
       "    <tr>\n",
       "      <th>3243</th>\n",
       "      <td>300</td>\n",
       "      <td>2018-02-04 09:00:00</td>\n",
       "      <td>PLAINS PIPELINE, L.P.</td>\n",
       "      <td>NO</td>\n",
       "      <td>NO</td>\n",
       "      <td>33.919340</td>\n",
       "      <td>-98.436550</td>\n",
       "    </tr>\n",
       "    <tr>\n",
       "      <th>586</th>\n",
       "      <td>31618</td>\n",
       "      <td>2011-09-12 13:45:00</td>\n",
       "      <td>ENTERPRISE PRODUCTS OPERATING LLC</td>\n",
       "      <td>NO</td>\n",
       "      <td>YES</td>\n",
       "      <td>29.878864</td>\n",
       "      <td>-93.986341</td>\n",
       "    </tr>\n",
       "    <tr>\n",
       "      <th>445</th>\n",
       "      <td>32109</td>\n",
       "      <td>2011-05-14 15:40:00</td>\n",
       "      <td>ONEOK NGL PIPELINE LP</td>\n",
       "      <td>NO</td>\n",
       "      <td>YES</td>\n",
       "      <td>41.639016</td>\n",
       "      <td>-88.124155</td>\n",
       "    </tr>\n",
       "  </tbody>\n",
       "</table>\n",
       "</div>"
      ],
      "text/plain": [
       "      OPERATOR_ID      LOCAL_DATETIME                               NAME  \\\n",
       "296          9175 2010-11-15 08:35:00               JAYHAWK PIPELINE LLC   \n",
       "1428        22855 2013-12-01 08:11:00        KOCH PIPELINE COMPANY, L.P.   \n",
       "3243          300 2018-02-04 09:00:00              PLAINS PIPELINE, L.P.   \n",
       "586         31618 2011-09-12 13:45:00  ENTERPRISE PRODUCTS OPERATING LLC   \n",
       "445         32109 2011-05-14 15:40:00              ONEOK NGL PIPELINE LP   \n",
       "\n",
       "     SERIOUS SIGNIFICANT  LOCATION_LATITUDE  LOCATION_LONGITUDE  \n",
       "296       NO          NO          37.414383          -99.320819  \n",
       "1428      NO          NO          27.839803          -97.531604  \n",
       "3243      NO          NO          33.919340          -98.436550  \n",
       "586       NO         YES          29.878864          -93.986341  \n",
       "445       NO         YES          41.639016          -88.124155  "
      ]
     },
     "execution_count": 3,
     "metadata": {},
     "output_type": "execute_result"
    }
   ],
   "source": [
    "incidents = incidents[['OPERATOR_ID', 'LOCAL_DATETIME', 'NAME', 'SERIOUS', 'SIGNIFICANT', 'LOCATION_LATITUDE', 'LOCATION_LONGITUDE']]\n",
    "\n",
    "incidents.sample(5)"
   ]
  },
  {
   "cell_type": "code",
   "execution_count": 4,
   "metadata": {},
   "outputs": [
    {
     "data": {
      "text/plain": [
       "OPERATOR_ID                    int64\n",
       "LOCAL_DATETIME        datetime64[ns]\n",
       "NAME                          object\n",
       "SERIOUS                       object\n",
       "SIGNIFICANT                   object\n",
       "LOCATION_LATITUDE            float64\n",
       "LOCATION_LONGITUDE           float64\n",
       "dtype: object"
      ]
     },
     "execution_count": 4,
     "metadata": {},
     "output_type": "execute_result"
    }
   ],
   "source": [
    "incidents.dtypes"
   ]
  },
  {
   "cell_type": "markdown",
   "metadata": {},
   "source": [
    "Make sure SERIOUS and SIGNIFICANT are booleans."
   ]
  },
  {
   "cell_type": "code",
   "execution_count": 5,
   "metadata": {},
   "outputs": [
    {
     "data": {
      "text/plain": [
       "False    3803\n",
       "True       16\n",
       "Name: SERIOUS, dtype: int64"
      ]
     },
     "execution_count": 5,
     "metadata": {},
     "output_type": "execute_result"
    }
   ],
   "source": [
    "(incidents[['SERIOUS']] == 'YES')['SERIOUS'].value_counts()"
   ]
  },
  {
   "cell_type": "code",
   "execution_count": 6,
   "metadata": {},
   "outputs": [],
   "source": [
    "incidents['SERIOUS'] = incidents[['SERIOUS']] == 'YES'"
   ]
  },
  {
   "cell_type": "code",
   "execution_count": 7,
   "metadata": {},
   "outputs": [
    {
     "data": {
      "text/plain": [
       "False    2364\n",
       "True     1455\n",
       "Name: SIGNIFICANT, dtype: int64"
      ]
     },
     "execution_count": 7,
     "metadata": {},
     "output_type": "execute_result"
    }
   ],
   "source": [
    "(incidents[['SIGNIFICANT']] == 'YES')['SIGNIFICANT'].value_counts()"
   ]
  },
  {
   "cell_type": "code",
   "execution_count": 8,
   "metadata": {},
   "outputs": [],
   "source": [
    "incidents['SIGNIFICANT'] = incidents[['SIGNIFICANT']] == 'YES'"
   ]
  },
  {
   "cell_type": "code",
   "execution_count": 9,
   "metadata": {},
   "outputs": [
    {
     "data": {
      "text/plain": [
       "OPERATOR_ID                    int64\n",
       "LOCAL_DATETIME        datetime64[ns]\n",
       "NAME                          object\n",
       "SERIOUS                         bool\n",
       "SIGNIFICANT                     bool\n",
       "LOCATION_LATITUDE            float64\n",
       "LOCATION_LONGITUDE           float64\n",
       "dtype: object"
      ]
     },
     "execution_count": 9,
     "metadata": {},
     "output_type": "execute_result"
    }
   ],
   "source": [
    "incidents.dtypes"
   ]
  },
  {
   "cell_type": "code",
   "execution_count": 10,
   "metadata": {},
   "outputs": [],
   "source": [
    "incidents.to_feather(f'../preprocessed_data/incidents_filtered_{today}.feather')"
   ]
  },
  {
   "cell_type": "markdown",
   "metadata": {},
   "source": [
    "## 3.2 Extract relevant columns of the pipeline system dataset"
   ]
  },
  {
   "cell_type": "code",
   "execution_count": 11,
   "metadata": {},
   "outputs": [
    {
     "data": {
      "text/html": [
       "<div>\n",
       "<style scoped>\n",
       "    .dataframe tbody tr th:only-of-type {\n",
       "        vertical-align: middle;\n",
       "    }\n",
       "\n",
       "    .dataframe tbody tr th {\n",
       "        vertical-align: top;\n",
       "    }\n",
       "\n",
       "    .dataframe thead th {\n",
       "        text-align: right;\n",
       "    }\n",
       "</style>\n",
       "<table border=\"1\" class=\"dataframe\">\n",
       "  <thead>\n",
       "    <tr style=\"text-align: right;\">\n",
       "      <th></th>\n",
       "      <th>DATAFILE_AS_OF</th>\n",
       "      <th>REPORT_YEAR</th>\n",
       "      <th>REPORT_NUMBER</th>\n",
       "      <th>SUPPLEMENTAL_NUMBER</th>\n",
       "      <th>OPERATOR_ID</th>\n",
       "      <th>PARTA2NAMEOFCOMP</th>\n",
       "      <th>PARTA4STREET</th>\n",
       "      <th>PARTA4CITY</th>\n",
       "      <th>PARTA4STATE</th>\n",
       "      <th>PARTA4ZIP</th>\n",
       "      <th>...</th>\n",
       "      <th>PARTE2010HF</th>\n",
       "      <th>PARTE2010LF</th>\n",
       "      <th>PARTE2010TOTAL</th>\n",
       "      <th>PARTETOTAL</th>\n",
       "      <th>PARTETOTALHF</th>\n",
       "      <th>PARTETOTALLF</th>\n",
       "      <th>REPORT_SUBMISSION_TYPE</th>\n",
       "      <th>REPORT_DATE</th>\n",
       "      <th>FILING_DATE</th>\n",
       "      <th>FORM_REV</th>\n",
       "    </tr>\n",
       "  </thead>\n",
       "  <tbody>\n",
       "    <tr>\n",
       "      <th>2182</th>\n",
       "      <td>2019-07-01 10:43:40</td>\n",
       "      <td>2012</td>\n",
       "      <td>20130189</td>\n",
       "      <td>11973</td>\n",
       "      <td>32283</td>\n",
       "      <td>FRONT RANGE PIPELINE, LLC.</td>\n",
       "      <td>803 HIGHWAY 212 SOUTH</td>\n",
       "      <td>Laurel</td>\n",
       "      <td>MT</td>\n",
       "      <td>59044</td>\n",
       "      <td>...</td>\n",
       "      <td>0.0</td>\n",
       "      <td>0.0</td>\n",
       "      <td>0.0</td>\n",
       "      <td>421.7</td>\n",
       "      <td>405.5</td>\n",
       "      <td>16.2</td>\n",
       "      <td>INITIAL</td>\n",
       "      <td>2013-06-10 12:41:19</td>\n",
       "      <td>2013-06-10 12:41:19</td>\n",
       "      <td>7000-1.1 (Rev. 06-2011)</td>\n",
       "    </tr>\n",
       "  </tbody>\n",
       "</table>\n",
       "<p>1 rows × 85 columns</p>\n",
       "</div>"
      ],
      "text/plain": [
       "          DATAFILE_AS_OF  REPORT_YEAR  REPORT_NUMBER  SUPPLEMENTAL_NUMBER  \\\n",
       "2182 2019-07-01 10:43:40         2012       20130189                11973   \n",
       "\n",
       "      OPERATOR_ID            PARTA2NAMEOFCOMP           PARTA4STREET  \\\n",
       "2182        32283  FRONT RANGE PIPELINE, LLC.  803 HIGHWAY 212 SOUTH   \n",
       "\n",
       "     PARTA4CITY PARTA4STATE PARTA4ZIP  ... PARTE2010HF PARTE2010LF  \\\n",
       "2182     Laurel          MT     59044  ...         0.0         0.0   \n",
       "\n",
       "     PARTE2010TOTAL PARTETOTAL  PARTETOTALHF  PARTETOTALLF  \\\n",
       "2182            0.0      421.7         405.5          16.2   \n",
       "\n",
       "      REPORT_SUBMISSION_TYPE         REPORT_DATE         FILING_DATE  \\\n",
       "2182                 INITIAL 2013-06-10 12:41:19 2013-06-10 12:41:19   \n",
       "\n",
       "                     FORM_REV  \n",
       "2182  7000-1.1 (Rev. 06-2011)  \n",
       "\n",
       "[1 rows x 85 columns]"
      ]
     },
     "execution_count": 11,
     "metadata": {},
     "output_type": "execute_result"
    }
   ],
   "source": [
    "from os import listdir\n",
    "\n",
    "pipelines_2010_present = [file for file in listdir('../data/pipelines_2010_present_2019-08-02/') if 'annual_hazardous_liquid' in file]\n",
    "pipelines_2010_present = pd.concat([pd.read_excel(f'../data/pipelines_2010_present_2019-08-02/{file}', skiprows=2) \n",
    "                                    for file in pipelines_2010_present])\n",
    "pipelines_2010_present = pipelines_2010_present.reset_index(drop = True)\n",
    "\n",
    "pipelines_2010_present.sample()"
   ]
  },
  {
   "cell_type": "code",
   "execution_count": 12,
   "metadata": {},
   "outputs": [
    {
     "data": {
      "text/html": [
       "<div>\n",
       "<style scoped>\n",
       "    .dataframe tbody tr th:only-of-type {\n",
       "        vertical-align: middle;\n",
       "    }\n",
       "\n",
       "    .dataframe tbody tr th {\n",
       "        vertical-align: top;\n",
       "    }\n",
       "\n",
       "    .dataframe thead th {\n",
       "        text-align: right;\n",
       "    }\n",
       "</style>\n",
       "<table border=\"1\" class=\"dataframe\">\n",
       "  <thead>\n",
       "    <tr style=\"text-align: right;\">\n",
       "      <th></th>\n",
       "      <th>ORIGINAL</th>\n",
       "      <th>SUPPLEMENT</th>\n",
       "      <th>YR</th>\n",
       "      <th>RPTID</th>\n",
       "      <th>HL_SUP_ID</th>\n",
       "      <th>SYSTEM_TYPE</th>\n",
       "      <th>OPERATOR_ID</th>\n",
       "      <th>NAME</th>\n",
       "      <th>PARENT</th>\n",
       "      <th>OFSTREET</th>\n",
       "      <th>...</th>\n",
       "      <th>BA_5</th>\n",
       "      <th>BA_6</th>\n",
       "      <th>BA_7</th>\n",
       "      <th>BA_8</th>\n",
       "      <th>DOR</th>\n",
       "      <th>DOE</th>\n",
       "      <th>PNAME</th>\n",
       "      <th>PPHONE</th>\n",
       "      <th>PEMAIL</th>\n",
       "      <th>PFAX</th>\n",
       "    </tr>\n",
       "  </thead>\n",
       "  <tbody>\n",
       "    <tr>\n",
       "      <th>680</th>\n",
       "      <td>Y</td>\n",
       "      <td>N</td>\n",
       "      <td>2006</td>\n",
       "      <td>20060312</td>\n",
       "      <td>2569</td>\n",
       "      <td>CRUDE OIL</td>\n",
       "      <td>32169</td>\n",
       "      <td>PACIFIC ATLANTIC TERMINALS  LLC</td>\n",
       "      <td>PLAINS ALL AMERICAN PIPELINE, L.P.</td>\n",
       "      <td>5900 CHERRY AVENUE</td>\n",
       "      <td>...</td>\n",
       "      <td>0.0</td>\n",
       "      <td>0.0</td>\n",
       "      <td>0.0</td>\n",
       "      <td>NaN</td>\n",
       "      <td>2007-06-15</td>\n",
       "      <td>2007-06-15 12:56:42</td>\n",
       "      <td>ANN GOODINE, COMPLIANCE SPECIALIST</td>\n",
       "      <td>5.62728e+09</td>\n",
       "      <td>RAGOODINE@PAALP.COM</td>\n",
       "      <td>5.62728e+09</td>\n",
       "    </tr>\n",
       "    <tr>\n",
       "      <th>1465</th>\n",
       "      <td>N</td>\n",
       "      <td>Y</td>\n",
       "      <td>2005</td>\n",
       "      <td>20050052</td>\n",
       "      <td>2792</td>\n",
       "      <td>CO2 OR OTHER</td>\n",
       "      <td>401</td>\n",
       "      <td>AMERADA HESS CORPORATION</td>\n",
       "      <td>NaN</td>\n",
       "      <td>3.5 MI NW HWY 214 P.O.BOX 1570</td>\n",
       "      <td>...</td>\n",
       "      <td>0.0</td>\n",
       "      <td>0.0</td>\n",
       "      <td>0.0</td>\n",
       "      <td>NaN</td>\n",
       "      <td>2006-02-07</td>\n",
       "      <td>2007-08-16 11:12:45</td>\n",
       "      <td>THOMAS O. DAVIS</td>\n",
       "      <td>4327588615</td>\n",
       "      <td>TDAVIS@HESS.COM</td>\n",
       "      <td>4.32759e+09</td>\n",
       "    </tr>\n",
       "    <tr>\n",
       "      <th>687</th>\n",
       "      <td>Y</td>\n",
       "      <td>N</td>\n",
       "      <td>2006</td>\n",
       "      <td>20060116</td>\n",
       "      <td>2344</td>\n",
       "      <td>HVLS</td>\n",
       "      <td>31778</td>\n",
       "      <td>ENCANA OIL &amp; GAS (USA) INC.</td>\n",
       "      <td>NaN</td>\n",
       "      <td>3606 COUNTY RD 116</td>\n",
       "      <td>...</td>\n",
       "      <td>0.0</td>\n",
       "      <td>0.0</td>\n",
       "      <td>0.0</td>\n",
       "      <td>NaN</td>\n",
       "      <td>2007-06-04</td>\n",
       "      <td>2007-06-04 10:34:36</td>\n",
       "      <td>JAKE JACOBS, EHS ANALYST</td>\n",
       "      <td>7.20877e+09</td>\n",
       "      <td>JAKE.JACOBS@ENCANA.COM</td>\n",
       "      <td>7.20877e+09</td>\n",
       "    </tr>\n",
       "    <tr>\n",
       "      <th>1699</th>\n",
       "      <td>Y</td>\n",
       "      <td>N</td>\n",
       "      <td>2005</td>\n",
       "      <td>20050380</td>\n",
       "      <td>1354</td>\n",
       "      <td>HVLS</td>\n",
       "      <td>31742</td>\n",
       "      <td>THE PREMCOR PIPELINE CO.</td>\n",
       "      <td>VALERO ENERGY CORPORATION</td>\n",
       "      <td>ONE VALERO WAY</td>\n",
       "      <td>...</td>\n",
       "      <td>0.0</td>\n",
       "      <td>0.0</td>\n",
       "      <td>0.0</td>\n",
       "      <td>NaN</td>\n",
       "      <td>2006-06-30</td>\n",
       "      <td>2006-06-30 11:04:44</td>\n",
       "      <td>HENRY P. CARTAYA</td>\n",
       "      <td>2813620300</td>\n",
       "      <td>HCARTAYA@ENERGISTIXINC.COM</td>\n",
       "      <td>2.81362e+09</td>\n",
       "    </tr>\n",
       "    <tr>\n",
       "      <th>1288</th>\n",
       "      <td>Y</td>\n",
       "      <td>N</td>\n",
       "      <td>2009</td>\n",
       "      <td>20090113</td>\n",
       "      <td>6852</td>\n",
       "      <td>CO2 OR OTHER</td>\n",
       "      <td>515</td>\n",
       "      <td>DAKOTA GASIFICATION COMPANY</td>\n",
       "      <td>BASIN ELECTRIC POWER COOPERATIVE</td>\n",
       "      <td>420 COUNTY ROAD 26</td>\n",
       "      <td>...</td>\n",
       "      <td>49.0</td>\n",
       "      <td>51.0</td>\n",
       "      <td>118.0</td>\n",
       "      <td>7.4</td>\n",
       "      <td>2010-05-20</td>\n",
       "      <td>2010-05-20 12:12:24</td>\n",
       "      <td>CLARENCE WINFREY</td>\n",
       "      <td>7018736773</td>\n",
       "      <td>CWINFREY@BEPC.COM</td>\n",
       "      <td>7.01874e+09</td>\n",
       "    </tr>\n",
       "  </tbody>\n",
       "</table>\n",
       "<p>5 rows × 167 columns</p>\n",
       "</div>"
      ],
      "text/plain": [
       "     ORIGINAL SUPPLEMENT    YR     RPTID  HL_SUP_ID   SYSTEM_TYPE  \\\n",
       "680         Y          N  2006  20060312       2569     CRUDE OIL   \n",
       "1465        N          Y  2005  20050052       2792  CO2 OR OTHER   \n",
       "687         Y          N  2006  20060116       2344          HVLS   \n",
       "1699        Y          N  2005  20050380       1354          HVLS   \n",
       "1288        Y          N  2009  20090113       6852  CO2 OR OTHER   \n",
       "\n",
       "      OPERATOR_ID                             NAME  \\\n",
       "680         32169  PACIFIC ATLANTIC TERMINALS  LLC   \n",
       "1465          401         AMERADA HESS CORPORATION   \n",
       "687         31778      ENCANA OIL & GAS (USA) INC.   \n",
       "1699        31742         THE PREMCOR PIPELINE CO.   \n",
       "1288          515      DAKOTA GASIFICATION COMPANY   \n",
       "\n",
       "                                  PARENT                        OFSTREET  ...  \\\n",
       "680   PLAINS ALL AMERICAN PIPELINE, L.P.              5900 CHERRY AVENUE  ...   \n",
       "1465                                 NaN  3.5 MI NW HWY 214 P.O.BOX 1570  ...   \n",
       "687                                  NaN              3606 COUNTY RD 116  ...   \n",
       "1699           VALERO ENERGY CORPORATION                  ONE VALERO WAY  ...   \n",
       "1288    BASIN ELECTRIC POWER COOPERATIVE              420 COUNTY ROAD 26  ...   \n",
       "\n",
       "      BA_5  BA_6   BA_7 BA_8        DOR                 DOE  \\\n",
       "680    0.0   0.0    0.0  NaN 2007-06-15 2007-06-15 12:56:42   \n",
       "1465   0.0   0.0    0.0  NaN 2006-02-07 2007-08-16 11:12:45   \n",
       "687    0.0   0.0    0.0  NaN 2007-06-04 2007-06-04 10:34:36   \n",
       "1699   0.0   0.0    0.0  NaN 2006-06-30 2006-06-30 11:04:44   \n",
       "1288  49.0  51.0  118.0  7.4 2010-05-20 2010-05-20 12:12:24   \n",
       "\n",
       "                                   PNAME       PPHONE  \\\n",
       "680   ANN GOODINE, COMPLIANCE SPECIALIST  5.62728e+09   \n",
       "1465                    THOMAS O. DAVIS    4327588615   \n",
       "687             JAKE JACOBS, EHS ANALYST  7.20877e+09   \n",
       "1699                    HENRY P. CARTAYA   2813620300   \n",
       "1288                    CLARENCE WINFREY   7018736773   \n",
       "\n",
       "                          PEMAIL         PFAX  \n",
       "680          RAGOODINE@PAALP.COM  5.62728e+09  \n",
       "1465             TDAVIS@HESS.COM  4.32759e+09  \n",
       "687       JAKE.JACOBS@ENCANA.COM  7.20877e+09  \n",
       "1699  HCARTAYA@ENERGISTIXINC.COM  2.81362e+09  \n",
       "1288           CWINFREY@BEPC.COM  7.01874e+09  \n",
       "\n",
       "[5 rows x 167 columns]"
      ]
     },
     "execution_count": 12,
     "metadata": {},
     "output_type": "execute_result"
    }
   ],
   "source": [
    "pipelines_2004_2009 = [file for file in listdir('../data/pipelines_2004_2009_2019-08-02/') if 'annual_hazardous_liquid' in file]\n",
    "pipelines_2004_2009 = pd.concat([pd.read_excel(f'../data/pipelines_2004_2009_2019-08-02/{file}') \n",
    "                                 for file in pipelines_2004_2009])\n",
    "pipelines_2004_2009 = pipelines_2004_2009.reset_index(drop = True)\n",
    "\n",
    "pipelines_2004_2009.sample(5)"
   ]
  },
  {
   "cell_type": "markdown",
   "metadata": {},
   "source": [
    "### 3.2.1 Select relevant columns"
   ]
  },
  {
   "cell_type": "markdown",
   "metadata": {},
   "source": [
    "#### For 2010-"
   ]
  },
  {
   "cell_type": "code",
   "execution_count": 103,
   "metadata": {},
   "outputs": [
    {
     "data": {
      "text/html": [
       "<div>\n",
       "<style scoped>\n",
       "    .dataframe tbody tr th:only-of-type {\n",
       "        vertical-align: middle;\n",
       "    }\n",
       "\n",
       "    .dataframe tbody tr th {\n",
       "        vertical-align: top;\n",
       "    }\n",
       "\n",
       "    .dataframe thead th {\n",
       "        text-align: right;\n",
       "    }\n",
       "</style>\n",
       "<table border=\"1\" class=\"dataframe\">\n",
       "  <thead>\n",
       "    <tr style=\"text-align: right;\">\n",
       "      <th></th>\n",
       "      <th>OPERATOR_ID</th>\n",
       "      <th>REPORT_YEAR</th>\n",
       "      <th>PARTA2NAMEOFCOMP</th>\n",
       "      <th>PARTA5COMMODITY</th>\n",
       "      <th>PARTBHCATOTAL</th>\n",
       "    </tr>\n",
       "  </thead>\n",
       "  <tbody>\n",
       "    <tr>\n",
       "      <th>2416</th>\n",
       "      <td>19319</td>\n",
       "      <td>2013</td>\n",
       "      <td>TPC GROUP, LLC</td>\n",
       "      <td>HVL</td>\n",
       "      <td>117.71</td>\n",
       "    </tr>\n",
       "    <tr>\n",
       "      <th>3371</th>\n",
       "      <td>999</td>\n",
       "      <td>2018</td>\n",
       "      <td>PACIFIC COAST ENERGY COMPANY, LP</td>\n",
       "      <td>Crude Oil</td>\n",
       "      <td>1.70</td>\n",
       "    </tr>\n",
       "    <tr>\n",
       "      <th>2657</th>\n",
       "      <td>32004</td>\n",
       "      <td>2013</td>\n",
       "      <td>QEP FIELD SERVICES COMPANY</td>\n",
       "      <td>HVL</td>\n",
       "      <td>13.77</td>\n",
       "    </tr>\n",
       "    <tr>\n",
       "      <th>882</th>\n",
       "      <td>30959</td>\n",
       "      <td>2011</td>\n",
       "      <td>THE DOW CHEMICAL COMPANY</td>\n",
       "      <td>HVL</td>\n",
       "      <td>75.50</td>\n",
       "    </tr>\n",
       "    <tr>\n",
       "      <th>2174</th>\n",
       "      <td>32223</td>\n",
       "      <td>2012</td>\n",
       "      <td>VALERO REFINING COMPANY - CALIFORNIA</td>\n",
       "      <td>Refined and/or Petroleum Product (non-HVL)</td>\n",
       "      <td>13.80</td>\n",
       "    </tr>\n",
       "  </tbody>\n",
       "</table>\n",
       "</div>"
      ],
      "text/plain": [
       "      OPERATOR_ID  REPORT_YEAR                      PARTA2NAMEOFCOMP  \\\n",
       "2416        19319         2013                        TPC GROUP, LLC   \n",
       "3371          999         2018      PACIFIC COAST ENERGY COMPANY, LP   \n",
       "2657        32004         2013            QEP FIELD SERVICES COMPANY   \n",
       "882         30959         2011              THE DOW CHEMICAL COMPANY   \n",
       "2174        32223         2012  VALERO REFINING COMPANY - CALIFORNIA   \n",
       "\n",
       "                                 PARTA5COMMODITY  PARTBHCATOTAL  \n",
       "2416                                         HVL         117.71  \n",
       "3371                                   Crude Oil           1.70  \n",
       "2657                                         HVL          13.77  \n",
       "882                                          HVL          75.50  \n",
       "2174  Refined and/or Petroleum Product (non-HVL)          13.80  "
      ]
     },
     "execution_count": 103,
     "metadata": {},
     "output_type": "execute_result"
    }
   ],
   "source": [
    "pipelines_2010_selected = pipelines_2010_present[['OPERATOR_ID', 'REPORT_YEAR', 'PARTA2NAMEOFCOMP', 'PARTA5COMMODITY', 'PARTBHCATOTAL']]\n",
    "\n",
    "pipelines_2010_selected.sample(5)"
   ]
  },
  {
   "cell_type": "code",
   "execution_count": 104,
   "metadata": {},
   "outputs": [
    {
     "data": {
      "text/plain": [
       "OPERATOR_ID           int64\n",
       "REPORT_YEAR           int64\n",
       "PARTA2NAMEOFCOMP     object\n",
       "PARTA5COMMODITY      object\n",
       "PARTBHCATOTAL       float64\n",
       "dtype: object"
      ]
     },
     "execution_count": 104,
     "metadata": {},
     "output_type": "execute_result"
    }
   ],
   "source": [
    "pipelines_2010_selected.dtypes"
   ]
  },
  {
   "cell_type": "code",
   "execution_count": 105,
   "metadata": {},
   "outputs": [
    {
     "data": {
      "text/html": [
       "<div>\n",
       "<style scoped>\n",
       "    .dataframe tbody tr th:only-of-type {\n",
       "        vertical-align: middle;\n",
       "    }\n",
       "\n",
       "    .dataframe tbody tr th {\n",
       "        vertical-align: top;\n",
       "    }\n",
       "\n",
       "    .dataframe thead th {\n",
       "        text-align: right;\n",
       "    }\n",
       "</style>\n",
       "<table border=\"1\" class=\"dataframe\">\n",
       "  <thead>\n",
       "    <tr style=\"text-align: right;\">\n",
       "      <th></th>\n",
       "      <th>OPERATOR_ID</th>\n",
       "      <th>YEAR</th>\n",
       "      <th>NAME</th>\n",
       "      <th>COMMODITY</th>\n",
       "      <th>MILES</th>\n",
       "    </tr>\n",
       "  </thead>\n",
       "  <tbody>\n",
       "    <tr>\n",
       "      <th>1253</th>\n",
       "      <td>11169</td>\n",
       "      <td>2014</td>\n",
       "      <td>ENBRIDGE ENERGY, LIMITED PARTNERSHIP</td>\n",
       "      <td>Crude Oil</td>\n",
       "      <td>1423.000</td>\n",
       "    </tr>\n",
       "    <tr>\n",
       "      <th>1468</th>\n",
       "      <td>31579</td>\n",
       "      <td>2014</td>\n",
       "      <td>MAGELLAN PIPELINES HOLDINGS, LP</td>\n",
       "      <td>Crude Oil</td>\n",
       "      <td>5.250</td>\n",
       "    </tr>\n",
       "    <tr>\n",
       "      <th>1743</th>\n",
       "      <td>39124</td>\n",
       "      <td>2014</td>\n",
       "      <td>STATOIL PIPELINES LLC</td>\n",
       "      <td>Crude Oil</td>\n",
       "      <td>3.680</td>\n",
       "    </tr>\n",
       "    <tr>\n",
       "      <th>42</th>\n",
       "      <td>4430</td>\n",
       "      <td>2017</td>\n",
       "      <td>VALERO TERMINALING AND DISTRIBUTION COMPANY</td>\n",
       "      <td>Refined and/or Petroleum Product (non-HVL)</td>\n",
       "      <td>14.298</td>\n",
       "    </tr>\n",
       "    <tr>\n",
       "      <th>671</th>\n",
       "      <td>39806</td>\n",
       "      <td>2017</td>\n",
       "      <td>EVX MIDSTREAM PARTNERS, LLC</td>\n",
       "      <td>Crude Oil</td>\n",
       "      <td>0.000</td>\n",
       "    </tr>\n",
       "  </tbody>\n",
       "</table>\n",
       "</div>"
      ],
      "text/plain": [
       "      OPERATOR_ID  YEAR                                         NAME  \\\n",
       "1253        11169  2014         ENBRIDGE ENERGY, LIMITED PARTNERSHIP   \n",
       "1468        31579  2014              MAGELLAN PIPELINES HOLDINGS, LP   \n",
       "1743        39124  2014                        STATOIL PIPELINES LLC   \n",
       "42           4430  2017  VALERO TERMINALING AND DISTRIBUTION COMPANY   \n",
       "671         39806  2017                  EVX MIDSTREAM PARTNERS, LLC   \n",
       "\n",
       "                                       COMMODITY     MILES  \n",
       "1253                                   Crude Oil  1423.000  \n",
       "1468                                   Crude Oil     5.250  \n",
       "1743                                   Crude Oil     3.680  \n",
       "42    Refined and/or Petroleum Product (non-HVL)    14.298  \n",
       "671                                    Crude Oil     0.000  "
      ]
     },
     "execution_count": 105,
     "metadata": {},
     "output_type": "execute_result"
    }
   ],
   "source": [
    "pipelines_2010_selected = pipelines_2010_selected.rename(\n",
    "    columns={'REPORT_YEAR': 'YEAR', 'PARTA2NAMEOFCOMP': 'NAME', 'PARTA5COMMODITY': 'COMMODITY', 'PARTBHCATOTAL': \"MILES\"})\n",
    "pipelines_2010_selected.sample(5)"
   ]
  },
  {
   "cell_type": "code",
   "execution_count": 116,
   "metadata": {},
   "outputs": [],
   "source": [
    "pipelines_2010_selected.to_feather(f'../preprocessed_data/pipelines_2010_selected_{today}.feather')"
   ]
  },
  {
   "cell_type": "markdown",
   "metadata": {},
   "source": [
    "#### For 2004-"
   ]
  },
  {
   "cell_type": "markdown",
   "metadata": {},
   "source": [
    "Clean name column"
   ]
  },
  {
   "cell_type": "code",
   "execution_count": 110,
   "metadata": {},
   "outputs": [],
   "source": [
    "import numpy as np\n",
    "\n",
    "pipelines_2004_2009['NAME_FIXED'] = np.where(pd.isnull(pipelines_2004_2009['PARENT']), \n",
    "                                             pipelines_2004_2009['NAME'], \n",
    "                                             pipelines_2004_2009['PARENT'])"
   ]
  },
  {
   "cell_type": "code",
   "execution_count": 111,
   "metadata": {},
   "outputs": [
    {
     "data": {
      "text/plain": [
       "False    2730\n",
       "Name: NAME_FIXED, dtype: int64"
      ]
     },
     "execution_count": 111,
     "metadata": {},
     "output_type": "execute_result"
    }
   ],
   "source": [
    "pd.isnull(pipelines_2004_2009['NAME_FIXED']).value_counts()"
   ]
  },
  {
   "cell_type": "code",
   "execution_count": 112,
   "metadata": {},
   "outputs": [
    {
     "data": {
      "text/html": [
       "<div>\n",
       "<style scoped>\n",
       "    .dataframe tbody tr th:only-of-type {\n",
       "        vertical-align: middle;\n",
       "    }\n",
       "\n",
       "    .dataframe tbody tr th {\n",
       "        vertical-align: top;\n",
       "    }\n",
       "\n",
       "    .dataframe thead th {\n",
       "        text-align: right;\n",
       "    }\n",
       "</style>\n",
       "<table border=\"1\" class=\"dataframe\">\n",
       "  <thead>\n",
       "    <tr style=\"text-align: right;\">\n",
       "      <th></th>\n",
       "      <th>NAME_FIXED</th>\n",
       "      <th>NAME</th>\n",
       "      <th>PARENT</th>\n",
       "    </tr>\n",
       "  </thead>\n",
       "  <tbody>\n",
       "    <tr>\n",
       "      <th>519</th>\n",
       "      <td>KINDER MORGAN LIQUIDS TERMINALS, LLC</td>\n",
       "      <td>KINDER MORGAN LIQUIDS TERMINALS, LLC</td>\n",
       "      <td>NaN</td>\n",
       "    </tr>\n",
       "    <tr>\n",
       "      <th>1436</th>\n",
       "      <td>BUCKEYE PARTNERS, LP</td>\n",
       "      <td>BUCKEYE PARTNERS, LP</td>\n",
       "      <td>NaN</td>\n",
       "    </tr>\n",
       "    <tr>\n",
       "      <th>1138</th>\n",
       "      <td>COUNTRYMARK COOPERATIVE, LLP</td>\n",
       "      <td>COUNTRYMARK COOPERATIVE, LLP</td>\n",
       "      <td>NaN</td>\n",
       "    </tr>\n",
       "    <tr>\n",
       "      <th>2397</th>\n",
       "      <td>TOTAL PETROCHEMICALS PIPELINE USA, INC</td>\n",
       "      <td>TOTAL PETROCHEMICALS PIPELINE USA, INC</td>\n",
       "      <td>NaN</td>\n",
       "    </tr>\n",
       "    <tr>\n",
       "      <th>477</th>\n",
       "      <td>TEXAS PETROCHEMICALS, LP</td>\n",
       "      <td>TEXAS PETROCHEMICALS, LP</td>\n",
       "      <td>NaN</td>\n",
       "    </tr>\n",
       "    <tr>\n",
       "      <th>1016</th>\n",
       "      <td>MAGELLAN PIPELINE COMPANY, LP</td>\n",
       "      <td>MAGELLAN PIPELINE COMPANY, LP</td>\n",
       "      <td>NaN</td>\n",
       "    </tr>\n",
       "    <tr>\n",
       "      <th>11</th>\n",
       "      <td>BASF CORPORATION</td>\n",
       "      <td>BASF CORPORATION</td>\n",
       "      <td>NaN</td>\n",
       "    </tr>\n",
       "    <tr>\n",
       "      <th>187</th>\n",
       "      <td>VENOCO, INC</td>\n",
       "      <td>VENOCO, INC</td>\n",
       "      <td>NaN</td>\n",
       "    </tr>\n",
       "    <tr>\n",
       "      <th>893</th>\n",
       "      <td>PIPELINE TECHNOLOGY VI, L.L.C.</td>\n",
       "      <td>PIPELINE TECHNOLOGY VI, L.L.C.</td>\n",
       "      <td>NaN</td>\n",
       "    </tr>\n",
       "    <tr>\n",
       "      <th>2286</th>\n",
       "      <td>WYNNEWOOD REFINERY COMPANY</td>\n",
       "      <td>WYNNEWOOD REFINERY COMPANY</td>\n",
       "      <td>NaN</td>\n",
       "    </tr>\n",
       "  </tbody>\n",
       "</table>\n",
       "</div>"
      ],
      "text/plain": [
       "                                  NAME_FIXED  \\\n",
       "519     KINDER MORGAN LIQUIDS TERMINALS, LLC   \n",
       "1436                    BUCKEYE PARTNERS, LP   \n",
       "1138            COUNTRYMARK COOPERATIVE, LLP   \n",
       "2397  TOTAL PETROCHEMICALS PIPELINE USA, INC   \n",
       "477                 TEXAS PETROCHEMICALS, LP   \n",
       "1016           MAGELLAN PIPELINE COMPANY, LP   \n",
       "11                          BASF CORPORATION   \n",
       "187                              VENOCO, INC   \n",
       "893           PIPELINE TECHNOLOGY VI, L.L.C.   \n",
       "2286              WYNNEWOOD REFINERY COMPANY   \n",
       "\n",
       "                                        NAME PARENT  \n",
       "519     KINDER MORGAN LIQUIDS TERMINALS, LLC    NaN  \n",
       "1436                    BUCKEYE PARTNERS, LP    NaN  \n",
       "1138            COUNTRYMARK COOPERATIVE, LLP    NaN  \n",
       "2397  TOTAL PETROCHEMICALS PIPELINE USA, INC    NaN  \n",
       "477                 TEXAS PETROCHEMICALS, LP    NaN  \n",
       "1016           MAGELLAN PIPELINE COMPANY, LP    NaN  \n",
       "11                          BASF CORPORATION    NaN  \n",
       "187                              VENOCO, INC    NaN  \n",
       "893           PIPELINE TECHNOLOGY VI, L.L.C.    NaN  \n",
       "2286              WYNNEWOOD REFINERY COMPANY    NaN  "
      ]
     },
     "execution_count": 112,
     "metadata": {},
     "output_type": "execute_result"
    }
   ],
   "source": [
    "pipelines_2004_2009[['NAME_FIXED', 'NAME', 'PARENT']].sample(10)"
   ]
  },
  {
   "cell_type": "markdown",
   "metadata": {},
   "source": [
    "Select columns"
   ]
  },
  {
   "cell_type": "code",
   "execution_count": 113,
   "metadata": {},
   "outputs": [],
   "source": [
    "pipelines_2004_selected = pipelines_2004_2009[['OPERATOR_ID', 'YR', 'NAME_FIXED', 'HCAMT']]"
   ]
  },
  {
   "cell_type": "code",
   "execution_count": 114,
   "metadata": {},
   "outputs": [
    {
     "data": {
      "text/html": [
       "<div>\n",
       "<style scoped>\n",
       "    .dataframe tbody tr th:only-of-type {\n",
       "        vertical-align: middle;\n",
       "    }\n",
       "\n",
       "    .dataframe tbody tr th {\n",
       "        vertical-align: top;\n",
       "    }\n",
       "\n",
       "    .dataframe thead th {\n",
       "        text-align: right;\n",
       "    }\n",
       "</style>\n",
       "<table border=\"1\" class=\"dataframe\">\n",
       "  <thead>\n",
       "    <tr style=\"text-align: right;\">\n",
       "      <th></th>\n",
       "      <th>OPERATOR_ID</th>\n",
       "      <th>YEAR</th>\n",
       "      <th>NAME</th>\n",
       "      <th>MILES_TOTAL</th>\n",
       "    </tr>\n",
       "  </thead>\n",
       "  <tbody>\n",
       "    <tr>\n",
       "      <th>2691</th>\n",
       "      <td>31805</td>\n",
       "      <td>2007</td>\n",
       "      <td>HOLLY REFINING &amp; MARKETING COMPANY</td>\n",
       "      <td>4.00</td>\n",
       "    </tr>\n",
       "    <tr>\n",
       "      <th>696</th>\n",
       "      <td>30765</td>\n",
       "      <td>2006</td>\n",
       "      <td>TESORO LOS ANGELES REFINERY</td>\n",
       "      <td>6.95</td>\n",
       "    </tr>\n",
       "    <tr>\n",
       "      <th>1364</th>\n",
       "      <td>31663</td>\n",
       "      <td>2009</td>\n",
       "      <td>NAVAJO NATION OIL AND GAS COMPANY</td>\n",
       "      <td>72.53</td>\n",
       "    </tr>\n",
       "    <tr>\n",
       "      <th>1996</th>\n",
       "      <td>32073</td>\n",
       "      <td>2004</td>\n",
       "      <td>YATES PETROLEUM CORPORTION</td>\n",
       "      <td>0.00</td>\n",
       "    </tr>\n",
       "    <tr>\n",
       "      <th>418</th>\n",
       "      <td>473</td>\n",
       "      <td>2008</td>\n",
       "      <td>ANADARKO PETROLEUM CORP</td>\n",
       "      <td>12.00</td>\n",
       "    </tr>\n",
       "  </tbody>\n",
       "</table>\n",
       "</div>"
      ],
      "text/plain": [
       "      OPERATOR_ID  YEAR                                NAME  MILES_TOTAL\n",
       "2691        31805  2007  HOLLY REFINING & MARKETING COMPANY         4.00\n",
       "696         30765  2006         TESORO LOS ANGELES REFINERY         6.95\n",
       "1364        31663  2009   NAVAJO NATION OIL AND GAS COMPANY        72.53\n",
       "1996        32073  2004          YATES PETROLEUM CORPORTION         0.00\n",
       "418           473  2008             ANADARKO PETROLEUM CORP        12.00"
      ]
     },
     "execution_count": 114,
     "metadata": {},
     "output_type": "execute_result"
    }
   ],
   "source": [
    "pipelines_2004_selected = pipelines_2004_selected.rename(\n",
    "    columns={'YR': 'YEAR', 'NAME_FIXED': 'NAME', 'HCAMT': 'MILES_TOTAL'})\n",
    "pipelines_2004_selected.sample(5)"
   ]
  },
  {
   "cell_type": "code",
   "execution_count": 115,
   "metadata": {},
   "outputs": [],
   "source": [
    "pipelines_2004_selected.to_feather(f'../preprocessed_data/pipelines_2004_selected_{today}.feather')"
   ]
  }
 ],
 "metadata": {
  "kernelspec": {
   "display_name": "oil_industry",
   "language": "python",
   "name": "oil_industry"
  },
  "language_info": {
   "codemirror_mode": {
    "name": "ipython",
    "version": 3
   },
   "file_extension": ".py",
   "mimetype": "text/x-python",
   "name": "python",
   "nbconvert_exporter": "python",
   "pygments_lexer": "ipython3",
   "version": "3.6.8"
  }
 },
 "nbformat": 4,
 "nbformat_minor": 4
}
