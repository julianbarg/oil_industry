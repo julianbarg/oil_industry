{
 "cells": [
  {
   "cell_type": "markdown",
   "metadata": {},
   "source": [
    "# 10. Feature generation (R)"
   ]
  },
  {
   "cell_type": "code",
   "execution_count": 1,
   "metadata": {},
   "outputs": [
    {
     "name": "stderr",
     "output_type": "stream",
     "text": [
      "Registered S3 methods overwritten by 'ggplot2':\n",
      "  method         from \n",
      "  [.quosures     rlang\n",
      "  c.quosures     rlang\n",
      "  print.quosures rlang\n",
      "Registered S3 method overwritten by 'rvest':\n",
      "  method            from\n",
      "  read_xml.response xml2\n",
      "── \u001b[1mAttaching packages\u001b[22m ─────────────────────────────────────── tidyverse 1.2.1 ──\n",
      "\u001b[32m✔\u001b[39m \u001b[34mggplot2\u001b[39m 3.1.1       \u001b[32m✔\u001b[39m \u001b[34mpurrr  \u001b[39m 0.3.2  \n",
      "\u001b[32m✔\u001b[39m \u001b[34mtibble \u001b[39m 2.1.1       \u001b[32m✔\u001b[39m \u001b[34mdplyr  \u001b[39m 0.8.0.\u001b[31m1\u001b[39m\n",
      "\u001b[32m✔\u001b[39m \u001b[34mtidyr  \u001b[39m 0.8.3       \u001b[32m✔\u001b[39m \u001b[34mstringr\u001b[39m 1.4.0  \n",
      "\u001b[32m✔\u001b[39m \u001b[34mreadr  \u001b[39m 1.3.1       \u001b[32m✔\u001b[39m \u001b[34mforcats\u001b[39m 0.4.0  \n",
      "── \u001b[1mConflicts\u001b[22m ────────────────────────────────────────── tidyverse_conflicts() ──\n",
      "\u001b[31m✖\u001b[39m \u001b[34mdplyr\u001b[39m::\u001b[32mfilter()\u001b[39m masks \u001b[34mstats\u001b[39m::filter()\n",
      "\u001b[31m✖\u001b[39m \u001b[34mdplyr\u001b[39m::\u001b[32mlag()\u001b[39m    masks \u001b[34mstats\u001b[39m::lag()\n"
     ]
    }
   ],
   "source": [
    "library(tidyverse)"
   ]
  },
  {
   "cell_type": "code",
   "execution_count": 2,
   "metadata": {},
   "outputs": [],
   "source": [
    "sample_consolidated_file <- \"../preprocessed_data/sample_consolidated_2019-08-26.feather\""
   ]
  },
  {
   "cell_type": "markdown",
   "metadata": {},
   "source": [
    "## Read data"
   ]
  },
  {
   "cell_type": "code",
   "execution_count": 3,
   "metadata": {},
   "outputs": [
    {
     "name": "stdout",
     "output_type": "stream",
     "text": [
      "Observations: 1,068\n",
      "Variables: 23\n",
      "$ YEAR                  \u001b[3m\u001b[38;5;246m<dbl>\u001b[39m\u001b[23m 2008, 2008, 2008, 2008, 2008, 2008, 2008, 2008,…\n",
      "$ COMMODITY             \u001b[3m\u001b[38;5;246m<chr>\u001b[39m\u001b[23m \"crude\", \"crude\", \"crude\", \"crude\", \"crude\", \"c…\n",
      "$ OPERATOR_ID           \u001b[3m\u001b[38;5;246m<chr>\u001b[39m\u001b[23m \"Kinder Morgan (Group)\", \"BP (Group)\", \"Enbridg…\n",
      "$ NAME                  \u001b[3m\u001b[38;5;246m<chr>\u001b[39m\u001b[23m \"Kinder Morgan (Group)\", \"BP (Group)\", \"Enbridg…\n",
      "$ MILES                 \u001b[3m\u001b[38;5;246m<dbl>\u001b[39m\u001b[23m 190.000, 441.000, 1497.000, 385.080, 1951.000, …\n",
      "$ AGE_UNKNOWN_MILES     \u001b[3m\u001b[38;5;246m<dbl>\u001b[39m\u001b[23m 0, 0, 0, 0, 0, 0, 0, 0, 0, 0, 0, NA, NA, NA, NA…\n",
      "$ MILES_PRE_1940        \u001b[3m\u001b[38;5;246m<dbl>\u001b[39m\u001b[23m 0.000, 0.000, 0.000, 270.033, 96.000, 0.500, 0.…\n",
      "$ MILES_1940            \u001b[3m\u001b[38;5;246m<dbl>\u001b[39m\u001b[23m 0.000, 280.000, 444.000, 166.000, 686.000, 0.00…\n",
      "$ MILES_1950            \u001b[3m\u001b[38;5;246m<dbl>\u001b[39m\u001b[23m 243.000, 106.000, 1.000, 325.000, 882.000, 0.00…\n",
      "$ MILES_1960            \u001b[3m\u001b[38;5;246m<dbl>\u001b[39m\u001b[23m 0.000, 27.000, 3.000, 50.000, 432.000, 0.000, 1…\n",
      "$ MILES_1970            \u001b[3m\u001b[38;5;246m<dbl>\u001b[39m\u001b[23m 0.000, 7.000, 7.000, 29.000, 434.000, 57.500, 2…\n",
      "$ MILES_1980            \u001b[3m\u001b[38;5;246m<dbl>\u001b[39m\u001b[23m 0.000, 5.000, 2.000, 72.981, 276.000, 0.000, 0.…\n",
      "$ MILES_1990            \u001b[3m\u001b[38;5;246m<dbl>\u001b[39m\u001b[23m 513.000, 25.000, 475.000, 169.515, 370.000, 0.0…\n",
      "$ MILES_2000            \u001b[3m\u001b[38;5;246m<dbl>\u001b[39m\u001b[23m 0.000, 2.000, 163.000, 770.547, 66.000, 2.000, …\n",
      "$ MILES_2010            \u001b[3m\u001b[38;5;246m<dbl>\u001b[39m\u001b[23m 0, 0, 0, 0, 0, 0, 0, 0, 0, 0, 0, 0, 0, 0, 0, 0,…\n",
      "$ PARENT                \u001b[3m\u001b[38;5;246m<chr>\u001b[39m\u001b[23m NA, NA, NA, NA, NA, NA, NA, NA, NA, NA, NA, NA,…\n",
      "$ INCIDENTS             \u001b[3m\u001b[38;5;246m<dbl>\u001b[39m\u001b[23m 0, 0, 0, 0, 0, 0, 0, 0, 0, 0, 0, NA, NA, NA, NA…\n",
      "$ SIGNIFICANT_INCIDENTS \u001b[3m\u001b[38;5;246m<dbl>\u001b[39m\u001b[23m 0, 0, 0, 0, 0, 0, 0, 0, 0, 0, 0, NA, NA, NA, NA…\n",
      "$ GROUP                 \u001b[3m\u001b[38;5;246m<chr>\u001b[39m\u001b[23m \"m&a\", \"group\", \"group\", \"group\", \"group\", \"gro…\n",
      "$ PERC_OFFSHORE         \u001b[3m\u001b[38;5;246m<dbl>\u001b[39m\u001b[23m NA, NA, NA, NA, NA, NA, NA, NA, NA, NA, NA, NA,…\n",
      "$ AVG_AGE               \u001b[3m\u001b[38;5;246m<dbl>\u001b[39m\u001b[23m 37.85714, 67.52212, 44.05023, 43.32439, 55.7094…\n",
      "$ CHANGE                \u001b[3m\u001b[38;5;246m<dbl>\u001b[39m\u001b[23m NA, NA, NA, NA, NA, NA, NA, NA, NA, NA, NA, NA,…\n",
      "$ M_A                   \u001b[3m\u001b[38;5;246m<lgl>\u001b[39m\u001b[23m FALSE, FALSE, FALSE, FALSE, FALSE, FALSE, FALSE…\n"
     ]
    }
   ],
   "source": [
    "sample <- feather::read_feather(sample_consolidated_file)\n",
    "glimpse(sample)"
   ]
  },
  {
   "cell_type": "code",
   "execution_count": 4,
   "metadata": {},
   "outputs": [
    {
     "name": "stderr",
     "output_type": "stream",
     "text": [
      "`stat_bin()` using `bins = 30`. Pick better value with `binwidth`.\n",
      "Warning message:\n",
      "“Removed 233 rows containing non-finite values (stat_bin).”"
     ]
    },
    {
     "data": {
      "image/png": "[encoded data removed]",
      "text/plain": [
       "plot without title"
      ]
     },
     "metadata": {},
     "output_type": "display_data"
    }
   ],
   "source": [
    "sample %>%\n",
    "    ggplot(aes(x=CHANGE)) +\n",
    "        geom_histogram()"
   ]
  },
  {
   "cell_type": "code",
   "execution_count": 5,
   "metadata": {},
   "outputs": [
    {
     "data": {
      "text/html": [
       "1068"
      ],
      "text/latex": [
       "1068"
      ],
      "text/markdown": [
       "1068"
      ],
      "text/plain": [
       "[1] 1068"
      ]
     },
     "metadata": {},
     "output_type": "display_data"
    }
   ],
   "source": [
    "nrow(sample)"
   ]
  },
  {
   "cell_type": "code",
   "execution_count": 6,
   "metadata": {},
   "outputs": [],
   "source": [
    "# sample <- subset(sample, abs(CHANGE) < 250)"
   ]
  },
  {
   "cell_type": "code",
   "execution_count": 7,
   "metadata": {},
   "outputs": [
    {
     "data": {
      "text/html": [
       "1068"
      ],
      "text/latex": [
       "1068"
      ],
      "text/markdown": [
       "1068"
      ],
      "text/plain": [
       "[1] 1068"
      ]
     },
     "metadata": {},
     "output_type": "display_data"
    }
   ],
   "source": [
    "nrow(sample)"
   ]
  },
  {
   "cell_type": "markdown",
   "metadata": {},
   "source": [
    "## 10.1 Three year moving average"
   ]
  },
  {
   "cell_type": "markdown",
   "metadata": {},
   "source": [
    "Change"
   ]
  },
  {
   "cell_type": "code",
   "execution_count": 8,
   "metadata": {},
   "outputs": [],
   "source": [
    "sample <- sample %>%\n",
    "    group_by(OPERATOR_ID, COMMODITY) %>%\n",
    "    arrange(desc(YEAR)) %>%\n",
    "    mutate(change_1 = lead(CHANGE, 1), \n",
    "           change_2 = lead(CHANGE, 2), \n",
    "           change_3 = MILES - lead(MILES, 3)) %>%\n",
    "    mutate(mean_change_3 = (change_3 / 3)) %>%\n",
    "    mutate(sd_change_3 = sqrt((CHANGE - mean_change_3)^2 + (change_1 - mean_change_3)^2 + (change_2 - mean_change_3)^2 / 3))"
   ]
  },
  {
   "cell_type": "markdown",
   "metadata": {},
   "source": [
    "Incidents"
   ]
  },
  {
   "cell_type": "code",
   "execution_count": 9,
   "metadata": {},
   "outputs": [],
   "source": [
    "sample <- sample %>%\n",
    "    group_by(OPERATOR_ID, COMMODITY) %>%\n",
    "    arrange(desc(YEAR)) %>%\n",
    "    mutate(miles_avg_3 = (MILES + lead(MILES, 1) + lead(MILES, 2)) / 3, \n",
    "           miles_1950_3 = (MILES_1950 + lead(MILES_1950, 1) + lead(MILES_1950, 2)) / 3,\n",
    "           sign_inc_3 =  (SIGNIFICANT_INCIDENTS + lag(SIGNIFICANT_INCIDENTS, 1) + lag(SIGNIFICANT_INCIDENTS, 2)) / 3)"
   ]
  },
  {
   "cell_type": "markdown",
   "metadata": {},
   "source": [
    "Incidents per mile"
   ]
  },
  {
   "cell_type": "code",
   "execution_count": 10,
   "metadata": {},
   "outputs": [],
   "source": [
    "sample$inc_per_mile_3 <- sample$sign_inc_3 / sample$miles_avg_3"
   ]
  },
  {
   "cell_type": "markdown",
   "metadata": {},
   "source": [
    "Percent of pipelines for each decade."
   ]
  },
  {
   "cell_type": "code",
   "execution_count": 11,
   "metadata": {},
   "outputs": [],
   "source": [
    "sample <- sample %>%\n",
    "    mutate(age_miles = MILES_PRE_1940 + MILES_1940 + MILES_1950 + MILES_1960 + MILES_1970 + MILES_1980 +\n",
    "                       MILES_1990 + MILES_2000 + MILES_2010)"
   ]
  },
  {
   "cell_type": "code",
   "execution_count": 12,
   "metadata": {},
   "outputs": [],
   "source": [
    "sample <- sample %>%\n",
    "    mutate(perc_pre_1940 = MILES_PRE_1940 / age_miles, \n",
    "           perc_1940 = MILES_1940 / age_miles,\n",
    "           perc_1950 = MILES_1950 / age_miles,\n",
    "           perc_1960 = MILES_1960 / age_miles,\n",
    "           perc_1970 = MILES_1970 / age_miles,\n",
    "           perc_1980 = MILES_1980 / age_miles,\n",
    "           perc_1990 = MILES_1990 / age_miles,\n",
    "           perc_2000 = MILES_2000 / age_miles, \n",
    "           perc_2010 = MILES_2010 / age_miles)"
   ]
  },
  {
   "cell_type": "code",
   "execution_count": 13,
   "metadata": {},
   "outputs": [],
   "source": [
    "sample <- sample %>%\n",
    "    group_by(OPERATOR_ID, COMMODITY) %>%\n",
    "    arrange(desc(YEAR)) %>%\n",
    "    mutate(avg_pre_1940 = (perc_pre_1940 + lag(perc_pre_1940) + lag(perc_pre_1940, 2)) /3, \n",
    "           avg_1940 = (perc_1940 + lag(perc_1940) + lag(perc_1940, 2)) / 3,\n",
    "           avg_1950 = (perc_1950 + lag(perc_1950) + lag(perc_1950, 2)) / 3,\n",
    "           avg_1960 = (perc_1960 + lag(perc_1960) + lag(perc_1960, 2)) / 3,\n",
    "           avg_1970 = (perc_1970 + lag(perc_1970) + lag(perc_1970, 2)) / 3,\n",
    "           avg_1980 = (perc_1980 + lag(perc_1980) + lag(perc_1980, 2)) / 3,\n",
    "           avg_1990 = (perc_1990 + lag(perc_1990) + lag(perc_1990, 2)) / 3,\n",
    "           avg_2000 = (perc_2000 + lag(perc_2000) + lag(perc_2000, 2)) / 3,\n",
    "           avg_2010 = (perc_2010 + lag(perc_2010) + lag(perc_2010, 2)) / 3)"
   ]
  },
  {
   "cell_type": "markdown",
   "metadata": {},
   "source": [
    "## 10.2 Incidents per mile"
   ]
  },
  {
   "cell_type": "code",
   "execution_count": 14,
   "metadata": {},
   "outputs": [],
   "source": [
    "sample$INCIDENTS_MILE <- (sample$INCIDENTS / sample$MILES)\n",
    "sample$SIGN_INC_MILE <- (sample$SIGNIFICANT_INCIDENTS / sample$MILES)"
   ]
  },
  {
   "cell_type": "code",
   "execution_count": 15,
   "metadata": {},
   "outputs": [
    {
     "data": {
      "text/html": [
       "534"
      ],
      "text/latex": [
       "534"
      ],
      "text/markdown": [
       "534"
      ],
      "text/plain": [
       "[1] 534"
      ]
     },
     "metadata": {},
     "output_type": "display_data"
    }
   ],
   "source": [
    "nrow(sample[!is.na(sample$sd_change_3), ])"
   ]
  },
  {
   "cell_type": "markdown",
   "metadata": {},
   "source": [
    "## 10.3 Data types"
   ]
  },
  {
   "cell_type": "code",
   "execution_count": 16,
   "metadata": {},
   "outputs": [],
   "source": [
    "sample$COMMODITY <- as.factor(sample$COMMODITY)\n",
    "sample$OPERATOR_ID <- as.factor(sample$OPERATOR_ID)"
   ]
  },
  {
   "cell_type": "markdown",
   "metadata": {},
   "source": [
    "## 10.4 past M&As"
   ]
  },
  {
   "cell_type": "code",
   "execution_count": 17,
   "metadata": {},
   "outputs": [
    {
     "name": "stdout",
     "output_type": "stream",
     "text": [
      "Observations: 1,068\n",
      "Variables: 54\n",
      "Groups: OPERATOR_ID, COMMODITY [228]\n",
      "$ YEAR                  \u001b[3m\u001b[38;5;246m<dbl>\u001b[39m\u001b[23m 2018, 2018, 2018, 2018, 2018, 2018, 2018, 2018,…\n",
      "$ COMMODITY             \u001b[3m\u001b[38;5;246m<fct>\u001b[39m\u001b[23m crude, hvl, non-hvl, crude, hvl, non-hvl, crude…\n",
      "$ OPERATOR_ID           \u001b[3m\u001b[38;5;246m<fct>\u001b[39m\u001b[23m Enbridge (Group), Enbridge (Group), Enbridge (G…\n",
      "$ NAME                  \u001b[3m\u001b[38;5;246m<chr>\u001b[39m\u001b[23m \"Enbridge (Group)\", \"Enbridge (Group)\", \"Enbrid…\n",
      "$ MILES                 \u001b[3m\u001b[38;5;246m<dbl>\u001b[39m\u001b[23m 3201.980, 163.740, 854.440, 263.500, 180.700, 3…\n",
      "$ AGE_UNKNOWN_MILES     \u001b[3m\u001b[38;5;246m<dbl>\u001b[39m\u001b[23m 0.000, 0.000, 0.000, 5.500, 0.000, 27.400, 429.…\n",
      "$ MILES_PRE_1940        \u001b[3m\u001b[38;5;246m<dbl>\u001b[39m\u001b[23m 0.00, 0.00, 0.00, 0.00, 0.00, 84.28, 269.07, 4.…\n",
      "$ MILES_1940            \u001b[3m\u001b[38;5;246m<dbl>\u001b[39m\u001b[23m 9.000, 0.000, 0.000, 0.300, 0.000, 182.300, 500…\n",
      "$ MILES_1950            \u001b[3m\u001b[38;5;246m<dbl>\u001b[39m\u001b[23m 247.620, 188.820, 133.810, 157.300, 6.900, 1157…\n",
      "$ MILES_1960            \u001b[3m\u001b[38;5;246m<dbl>\u001b[39m\u001b[23m 19.750, 0.000, 273.300, 57.000, 32.700, 309.780…\n",
      "$ MILES_1970            \u001b[3m\u001b[38;5;246m<dbl>\u001b[39m\u001b[23m 7.390, 0.000, 85.500, 40.100, 81.000, 571.280, …\n",
      "$ MILES_1980            \u001b[3m\u001b[38;5;246m<dbl>\u001b[39m\u001b[23m 0.000, 0.000, 1.800, 75.900, 6.800, 130.690, 67…\n",
      "$ MILES_1990            \u001b[3m\u001b[38;5;246m<dbl>\u001b[39m\u001b[23m 977.470, 136.020, 4.300, 82.700, 0.200, 125.070…\n",
      "$ MILES_2000            \u001b[3m\u001b[38;5;246m<dbl>\u001b[39m\u001b[23m 164.320, 0.000, 673.170, 11.800, 6.400, 291.510…\n",
      "$ MILES_2010            \u001b[3m\u001b[38;5;246m<dbl>\u001b[39m\u001b[23m 0.470, 0.000, 13.970, 104.280, 45.400, 169.560,…\n",
      "$ PARENT                \u001b[3m\u001b[38;5;246m<chr>\u001b[39m\u001b[23m \"Enbridge\", \"Enbridge\", \"BP\", \"Marathon Petrole…\n",
      "$ INCIDENTS             \u001b[3m\u001b[38;5;246m<dbl>\u001b[39m\u001b[23m 11, 0, 0, 0, 0, 4, 18, 2, 2, 0, 1, 2, 1, 10, 30…\n",
      "$ SIGNIFICANT_INCIDENTS \u001b[3m\u001b[38;5;246m<dbl>\u001b[39m\u001b[23m 2, 0, 0, 0, 0, 2, 6, 2, 1, 0, 0, 0, 1, 5, 7, 14…\n",
      "$ GROUP                 \u001b[3m\u001b[38;5;246m<chr>\u001b[39m\u001b[23m \"m&a\", \"m&a\", \"m&a\", \"m&a\", \"m&a\", \"m&a\", \"m&a\"…\n",
      "$ PERC_OFFSHORE         \u001b[3m\u001b[38;5;246m<dbl>\u001b[39m\u001b[23m NA, NA, NA, NA, NA, NA, NA, NA, NA, NA, NA, NA,…\n",
      "$ AVG_AGE               \u001b[3m\u001b[38;5;246m<dbl>\u001b[39m\u001b[23m 31.621576, 48.250831, 31.972467, 38.930258, 35.…\n",
      "$ CHANGE                \u001b[3m\u001b[38;5;246m<dbl>\u001b[39m\u001b[23m -205.020, -6.260, -20.260, -444.894, 13.600, 84…\n",
      "$ M_A                   \u001b[3m\u001b[38;5;246m<lgl>\u001b[39m\u001b[23m FALSE, FALSE, FALSE, TRUE, TRUE, TRUE, FALSE, F…\n",
      "$ change_1              \u001b[3m\u001b[38;5;246m<dbl>\u001b[39m\u001b[23m 1.263000e+03, 4.200000e+01, 1.243000e+02, 4.044…\n",
      "$ change_2              \u001b[3m\u001b[38;5;246m<dbl>\u001b[39m\u001b[23m -1.000, 0.000, 0.000, NA, -1.000, -75.900, -10.…\n",
      "$ change_3              \u001b[3m\u001b[38;5;246m<dbl>\u001b[39m\u001b[23m 1056.980, 35.740, 104.040, NA, 12.600, 680.900,…\n",
      "$ mean_change_3         \u001b[3m\u001b[38;5;246m<dbl>\u001b[39m\u001b[23m 352.3266667, 11.9133333, 34.6800000, NA, 4.2000…\n",
      "$ sd_change_3           \u001b[3m\u001b[38;5;246m<dbl>\u001b[39m\u001b[23m 1087.0025167, 35.8160121, 107.0095734, NA, 10.7…\n",
      "$ miles_avg_3           \u001b[3m\u001b[38;5;246m<dbl>\u001b[39m\u001b[23m 2917.66000, 153.91333, 826.51333, 546.61500, 17…\n",
      "$ miles_1950_3          \u001b[3m\u001b[38;5;246m<dbl>\u001b[39m\u001b[23m 165.2066667, 188.2733333, 133.9366667, 139.7210…\n",
      "$ sign_inc_3            \u001b[3m\u001b[38;5;246m<dbl>\u001b[39m\u001b[23m NA, NA, NA, NA, NA, NA, NA, NA, NA, NA, NA, NA,…\n",
      "$ inc_per_mile_3        \u001b[3m\u001b[38;5;246m<dbl>\u001b[39m\u001b[23m NA, NA, NA, NA, NA, NA, NA, NA, NA, NA, NA, NA,…\n",
      "$ age_miles             \u001b[3m\u001b[38;5;246m<dbl>\u001b[39m\u001b[23m 1426.020, 324.840, 1185.850, 529.380, 179.400, …\n",
      "$ perc_pre_1940         \u001b[3m\u001b[38;5;246m<dbl>\u001b[39m\u001b[23m 0.000000e+00, 0.000000e+00, 0.000000e+00, 0.000…\n",
      "$ perc_1940             \u001b[3m\u001b[38;5;246m<dbl>\u001b[39m\u001b[23m 6.311272e-03, 0.000000e+00, 0.000000e+00, 5.667…\n",
      "$ perc_1950             \u001b[3m\u001b[38;5;246m<dbl>\u001b[39m\u001b[23m 0.173644128, 0.581270779, 0.112838892, 0.297140…\n",
      "$ perc_1960             \u001b[3m\u001b[38;5;246m<dbl>\u001b[39m\u001b[23m 0.0138497356, 0.0000000000, 0.2304675971, 0.107…\n",
      "$ perc_1970             \u001b[3m\u001b[38;5;246m<dbl>\u001b[39m\u001b[23m 0.005182256, 0.000000000, 0.072100181, 0.075748…\n",
      "$ perc_1980             \u001b[3m\u001b[38;5;246m<dbl>\u001b[39m\u001b[23m 0.0000000000, 0.0000000000, 0.0015178986, 0.143…\n",
      "$ perc_1990             \u001b[3m\u001b[38;5;246m<dbl>\u001b[39m\u001b[23m 0.685453219, 0.418729221, 0.003626091, 0.156220…\n",
      "$ perc_2000             \u001b[3m\u001b[38;5;246m<dbl>\u001b[39m\u001b[23m 0.115229800, 0.000000000, 0.567668761, 0.022290…\n",
      "$ perc_2010             \u001b[3m\u001b[38;5;246m<dbl>\u001b[39m\u001b[23m 0.0003295886, 0.0000000000, 0.0117805793, 0.196…\n",
      "$ avg_pre_1940          \u001b[3m\u001b[38;5;246m<dbl>\u001b[39m\u001b[23m NA, NA, NA, NA, NA, NA, NA, NA, NA, NA, NA, NA,…\n",
      "$ avg_1940              \u001b[3m\u001b[38;5;246m<dbl>\u001b[39m\u001b[23m NA, NA, NA, NA, NA, NA, NA, NA, NA, NA, NA, NA,…\n",
      "$ avg_1950              \u001b[3m\u001b[38;5;246m<dbl>\u001b[39m\u001b[23m NA, NA, NA, NA, NA, NA, NA, NA, NA, NA, NA, NA,…\n",
      "$ avg_1960              \u001b[3m\u001b[38;5;246m<dbl>\u001b[39m\u001b[23m NA, NA, NA, NA, NA, NA, NA, NA, NA, NA, NA, NA,…\n",
      "$ avg_1970              \u001b[3m\u001b[38;5;246m<dbl>\u001b[39m\u001b[23m NA, NA, NA, NA, NA, NA, NA, NA, NA, NA, NA, NA,…\n",
      "$ avg_1980              \u001b[3m\u001b[38;5;246m<dbl>\u001b[39m\u001b[23m NA, NA, NA, NA, NA, NA, NA, NA, NA, NA, NA, NA,…\n",
      "$ avg_1990              \u001b[3m\u001b[38;5;246m<dbl>\u001b[39m\u001b[23m NA, NA, NA, NA, NA, NA, NA, NA, NA, NA, NA, NA,…\n",
      "$ avg_2000              \u001b[3m\u001b[38;5;246m<dbl>\u001b[39m\u001b[23m NA, NA, NA, NA, NA, NA, NA, NA, NA, NA, NA, NA,…\n",
      "$ avg_2010              \u001b[3m\u001b[38;5;246m<dbl>\u001b[39m\u001b[23m NA, NA, NA, NA, NA, NA, NA, NA, NA, NA, NA, NA,…\n",
      "$ INCIDENTS_MILE        \u001b[3m\u001b[38;5;246m<dbl>\u001b[39m\u001b[23m 0.003435374, 0.000000000, 0.000000000, 0.000000…\n",
      "$ SIGN_INC_MILE         \u001b[3m\u001b[38;5;246m<dbl>\u001b[39m\u001b[23m 0.0006246135, 0.0000000000, 0.0000000000, 0.000…\n",
      "$ M_A_3                 \u001b[3m\u001b[38;5;246m<int>\u001b[39m\u001b[23m 1, 1, 1, 1, 1, 1, 1, 1, 1, 0, 0, 0, 0, 0, 0, 0,…\n"
     ]
    }
   ],
   "source": [
    "sample <- sample %>%\n",
    "    group_by(OPERATOR_ID, COMMODITY) %>%\n",
    "    arrange(desc(YEAR)) %>%\n",
    "    mutate(M_A_3 = max(M_A, lead(M_A), lead(M_A, 2), na.rm=TRUE))\n",
    "glimpse(sample)"
   ]
  },
  {
   "cell_type": "markdown",
   "metadata": {},
   "source": [
    "## 10.5 Log transform etc."
   ]
  },
  {
   "cell_type": "code",
   "execution_count": 18,
   "metadata": {},
   "outputs": [],
   "source": [
    "sample$LOG_INCIDENTS_MILE <- log(sample$INCIDENTS_MILE)\n",
    "sample$LOG_SIGN_INC_MILE <- log(sample$SIGN_INC_MILE)\n",
    "sample$log_sd_change <- log(sample$sd_change_3)\n",
    "sample$sd_change_sq <- (sample$sd_change_3)^2\n",
    "sample$sd_change_pw_3 <- (sample$sd_change_3)^3\n",
    "sample$one_over_sd_change <- (1 / sample$sd_change_3)"
   ]
  },
  {
   "cell_type": "markdown",
   "metadata": {},
   "source": [
    "## 10.6 Interaction effects"
   ]
  },
  {
   "cell_type": "code",
   "execution_count": 19,
   "metadata": {},
   "outputs": [],
   "source": [
    "sample$miles_x_change <- sample$MILES * sample$sd_change_3"
   ]
  },
  {
   "cell_type": "markdown",
   "metadata": {},
   "source": [
    "## 10.7 Subsamples"
   ]
  },
  {
   "cell_type": "code",
   "execution_count": 20,
   "metadata": {},
   "outputs": [],
   "source": [
    "sample_crude <- sample[(sample$COMMODITY == \"crude\"), ]"
   ]
  },
  {
   "cell_type": "markdown",
   "metadata": {},
   "source": [
    "## 10.7 Save"
   ]
  },
  {
   "cell_type": "code",
   "execution_count": 21,
   "metadata": {},
   "outputs": [],
   "source": [
    "feather::write_feather(sample, paste0(\"../preprocessed_data/sample_features_\", Sys.Date(), \".feather\"))\n",
    "haven::write_dta(sample, paste0(\"../stata_data/sample_features_\", Sys.Date(), \".dta\"))\n",
    "feather::write_feather(sample_crude, paste0(\"../preprocessed_data/sample_features_crude_\", Sys.Date(), \".feather\"))\n",
    "haven::write_dta(sample_crude, paste0(\"../stata_data/sample_features_crude_\", Sys.Date(), \".dta\"))"
   ]
  }
 ],
 "metadata": {
  "kernelspec": {
   "display_name": "R 3.6.1",
   "language": "R",
   "name": "ir361"
  },
  "language_info": {
   "codemirror_mode": "r",
   "file_extension": ".r",
   "mimetype": "text/x-r-source",
   "name": "R",
   "pygments_lexer": "r",
   "version": "3.6.1"
  }
 },
 "nbformat": 4,
 "nbformat_minor": 4
}
