{
 "cells": [
  {
   "cell_type": "markdown",
   "metadata": {},
   "source": [
    "# 5. Find largest observations (R)"
   ]
  },
  {
   "cell_type": "code",
   "execution_count": 1,
   "metadata": {},
   "outputs": [
    {
     "name": "stderr",
     "output_type": "stream",
     "text": [
      "Registered S3 methods overwritten by 'ggplot2':\n",
      "  method         from \n",
      "  [.quosures     rlang\n",
      "  c.quosures     rlang\n",
      "  print.quosures rlang\n",
      "Registered S3 method overwritten by 'rvest':\n",
      "  method            from\n",
      "  read_xml.response xml2\n",
      "── \u001b[1mAttaching packages\u001b[22m ─────────────────────────────────────── tidyverse 1.2.1 ──\n",
      "\u001b[32m✔\u001b[39m \u001b[34mggplot2\u001b[39m 3.1.1       \u001b[32m✔\u001b[39m \u001b[34mpurrr  \u001b[39m 0.3.2  \n",
      "\u001b[32m✔\u001b[39m \u001b[34mtibble \u001b[39m 2.1.1       \u001b[32m✔\u001b[39m \u001b[34mdplyr  \u001b[39m 0.8.0.\u001b[31m1\u001b[39m\n",
      "\u001b[32m✔\u001b[39m \u001b[34mtidyr  \u001b[39m 0.8.3       \u001b[32m✔\u001b[39m \u001b[34mstringr\u001b[39m 1.4.0  \n",
      "\u001b[32m✔\u001b[39m \u001b[34mreadr  \u001b[39m 1.3.1       \u001b[32m✔\u001b[39m \u001b[34mforcats\u001b[39m 0.4.0  \n",
      "── \u001b[1mConflicts\u001b[22m ────────────────────────────────────────── tidyverse_conflicts() ──\n",
      "\u001b[31m✖\u001b[39m \u001b[34mdplyr\u001b[39m::\u001b[32mfilter()\u001b[39m masks \u001b[34mstats\u001b[39m::filter()\n",
      "\u001b[31m✖\u001b[39m \u001b[34mdplyr\u001b[39m::\u001b[32mlag()\u001b[39m    masks \u001b[34mstats\u001b[39m::lag()\n"
     ]
    }
   ],
   "source": [
    "library(tidyverse)\n",
    "library(feather)"
   ]
  },
  {
   "cell_type": "markdown",
   "metadata": {},
   "source": [
    "## Load data"
   ]
  },
  {
   "cell_type": "code",
   "execution_count": 2,
   "metadata": {},
   "outputs": [
    {
     "name": "stderr",
     "output_type": "stream",
     "text": [
      "Warning message:\n",
      "“Coercing int64 to double”Warning message:\n",
      "“Coercing int64 to double”"
     ]
    },
    {
     "name": "stdout",
     "output_type": "stream",
     "text": [
      "Observations: 5,294\n",
      "Variables: 5\n",
      "$ OPERATOR_ID \u001b[3m\u001b[38;5;246m<dbl>\u001b[39m\u001b[23m 300, 300, 300, 395, 402, 473, 473, 515, 879, 994, 994, 99…\n",
      "$ YEAR        \u001b[3m\u001b[38;5;246m<dbl>\u001b[39m\u001b[23m 2017, 2017, 2017, 2017, 2017, 2017, 2017, 2017, 2017, 201…\n",
      "$ NAME        \u001b[3m\u001b[38;5;246m<chr>\u001b[39m\u001b[23m \"PLAINS PIPELINE, L.P.\", \"PLAINS PIPELINE, L.P.\", \"PLAINS…\n",
      "$ COMMODITY   \u001b[3m\u001b[38;5;246m<chr>\u001b[39m\u001b[23m \"Crude Oil\", \"HVL\", \"Refined and/or Petroleum Product (no…\n",
      "$ MILES       \u001b[3m\u001b[38;5;246m<dbl>\u001b[39m\u001b[23m 2101.060, 72.900, 0.000, 662.300, 1.550, 12.000, 0.000, 3…\n"
     ]
    }
   ],
   "source": [
    "pipelines_2010 <- read_feather('../preprocessed_data/pipelines_2010_selected_2019-08-03.feather')\n",
    "glimpse(pipelines_2010)"
   ]
  },
  {
   "cell_type": "markdown",
   "metadata": {},
   "source": [
    "## 5.1 Find largest observations"
   ]
  },
  {
   "cell_type": "code",
   "execution_count": 3,
   "metadata": {},
   "outputs": [
    {
     "data": {
      "text/html": [
       "<table>\n",
       "<caption>A tibble: 10 × 5</caption>\n",
       "<thead>\n",
       "\t<tr><th scope=col>OPERATOR_ID</th><th scope=col>YEAR</th><th scope=col>NAME</th><th scope=col>COMMODITY</th><th scope=col>MILES</th></tr>\n",
       "\t<tr><th scope=col>&lt;dbl&gt;</th><th scope=col>&lt;dbl&gt;</th><th scope=col>&lt;chr&gt;</th><th scope=col>&lt;chr&gt;</th><th scope=col>&lt;dbl&gt;</th></tr>\n",
       "</thead>\n",
       "<tbody>\n",
       "\t<tr><td>31618</td><td>2018</td><td>ENTERPRISE PRODUCTS OPERATING LLC   </td><td>HVL                                       </td><td>7726.183</td></tr>\n",
       "\t<tr><td>32109</td><td>2018</td><td>ONEOK NGL PIPELINE, LLC             </td><td>HVL                                       </td><td>4531.480</td></tr>\n",
       "\t<tr><td> 2552</td><td>2015</td><td>COLONIAL PIPELINE CO                </td><td>Refined and/or Petroleum Product (non-HVL)</td><td>4500.920</td></tr>\n",
       "\t<tr><td> 1845</td><td>2015</td><td>BUCKEYE PARTNERS, LP                </td><td>Refined and/or Petroleum Product (non-HVL)</td><td>4266.430</td></tr>\n",
       "\t<tr><td>22610</td><td>2018</td><td>MAGELLAN PIPELINE COMPANY, LP       </td><td>Refined and/or Petroleum Product (non-HVL)</td><td>3926.400</td></tr>\n",
       "\t<tr><td>15674</td><td>2016</td><td>PLANTATION PIPE LINE CO             </td><td>Refined and/or Petroleum Product (non-HVL)</td><td>2564.730</td></tr>\n",
       "\t<tr><td>  300</td><td>2016</td><td>PLAINS PIPELINE, L.P.               </td><td>Crude Oil                                 </td><td>2312.330</td></tr>\n",
       "\t<tr><td>11169</td><td>2017</td><td>ENBRIDGE ENERGY, LIMITED PARTNERSHIP</td><td>Crude Oil                                 </td><td>2290.000</td></tr>\n",
       "\t<tr><td>31684</td><td>2010</td><td>CONOCOPHILLIPS                      </td><td>Refined and/or Petroleum Product (non-HVL)</td><td>2283.790</td></tr>\n",
       "\t<tr><td>32147</td><td>2013</td><td>MARATHON PIPE LINE LLC              </td><td>Refined and/or Petroleum Product (non-HVL)</td><td>2281.900</td></tr>\n",
       "</tbody>\n",
       "</table>\n"
      ],
      "text/latex": [
       "A tibble: 10 × 5\n",
       "\\begin{tabular}{r|lllll}\n",
       " OPERATOR\\_ID & YEAR & NAME & COMMODITY & MILES\\\\\n",
       " <dbl> & <dbl> & <chr> & <chr> & <dbl>\\\\\n",
       "\\hline\n",
       "\t 31618 & 2018 & ENTERPRISE PRODUCTS OPERATING LLC    & HVL                                        & 7726.183\\\\\n",
       "\t 32109 & 2018 & ONEOK NGL PIPELINE, LLC              & HVL                                        & 4531.480\\\\\n",
       "\t  2552 & 2015 & COLONIAL PIPELINE CO                 & Refined and/or Petroleum Product (non-HVL) & 4500.920\\\\\n",
       "\t  1845 & 2015 & BUCKEYE PARTNERS, LP                 & Refined and/or Petroleum Product (non-HVL) & 4266.430\\\\\n",
       "\t 22610 & 2018 & MAGELLAN PIPELINE COMPANY, LP        & Refined and/or Petroleum Product (non-HVL) & 3926.400\\\\\n",
       "\t 15674 & 2016 & PLANTATION PIPE LINE CO              & Refined and/or Petroleum Product (non-HVL) & 2564.730\\\\\n",
       "\t   300 & 2016 & PLAINS PIPELINE, L.P.                & Crude Oil                                  & 2312.330\\\\\n",
       "\t 11169 & 2017 & ENBRIDGE ENERGY, LIMITED PARTNERSHIP & Crude Oil                                  & 2290.000\\\\\n",
       "\t 31684 & 2010 & CONOCOPHILLIPS                       & Refined and/or Petroleum Product (non-HVL) & 2283.790\\\\\n",
       "\t 32147 & 2013 & MARATHON PIPE LINE LLC               & Refined and/or Petroleum Product (non-HVL) & 2281.900\\\\\n",
       "\\end{tabular}\n"
      ],
      "text/markdown": [
       "\n",
       "A tibble: 10 × 5\n",
       "\n",
       "| OPERATOR_ID &lt;dbl&gt; | YEAR &lt;dbl&gt; | NAME &lt;chr&gt; | COMMODITY &lt;chr&gt; | MILES &lt;dbl&gt; |\n",
       "|---|---|---|---|---|\n",
       "| 31618 | 2018 | ENTERPRISE PRODUCTS OPERATING LLC    | HVL                                        | 7726.183 |\n",
       "| 32109 | 2018 | ONEOK NGL PIPELINE, LLC              | HVL                                        | 4531.480 |\n",
       "|  2552 | 2015 | COLONIAL PIPELINE CO                 | Refined and/or Petroleum Product (non-HVL) | 4500.920 |\n",
       "|  1845 | 2015 | BUCKEYE PARTNERS, LP                 | Refined and/or Petroleum Product (non-HVL) | 4266.430 |\n",
       "| 22610 | 2018 | MAGELLAN PIPELINE COMPANY, LP        | Refined and/or Petroleum Product (non-HVL) | 3926.400 |\n",
       "| 15674 | 2016 | PLANTATION PIPE LINE CO              | Refined and/or Petroleum Product (non-HVL) | 2564.730 |\n",
       "|   300 | 2016 | PLAINS PIPELINE, L.P.                | Crude Oil                                  | 2312.330 |\n",
       "| 11169 | 2017 | ENBRIDGE ENERGY, LIMITED PARTNERSHIP | Crude Oil                                  | 2290.000 |\n",
       "| 31684 | 2010 | CONOCOPHILLIPS                       | Refined and/or Petroleum Product (non-HVL) | 2283.790 |\n",
       "| 32147 | 2013 | MARATHON PIPE LINE LLC               | Refined and/or Petroleum Product (non-HVL) | 2281.900 |\n",
       "\n"
      ],
      "text/plain": [
       "   OPERATOR_ID YEAR NAME                                \n",
       "1  31618       2018 ENTERPRISE PRODUCTS OPERATING LLC   \n",
       "2  32109       2018 ONEOK NGL PIPELINE, LLC             \n",
       "3   2552       2015 COLONIAL PIPELINE CO                \n",
       "4   1845       2015 BUCKEYE PARTNERS, LP                \n",
       "5  22610       2018 MAGELLAN PIPELINE COMPANY, LP       \n",
       "6  15674       2016 PLANTATION PIPE LINE CO             \n",
       "7    300       2016 PLAINS PIPELINE, L.P.               \n",
       "8  11169       2017 ENBRIDGE ENERGY, LIMITED PARTNERSHIP\n",
       "9  31684       2010 CONOCOPHILLIPS                      \n",
       "10 32147       2013 MARATHON PIPE LINE LLC              \n",
       "   COMMODITY                                  MILES   \n",
       "1  HVL                                        7726.183\n",
       "2  HVL                                        4531.480\n",
       "3  Refined and/or Petroleum Product (non-HVL) 4500.920\n",
       "4  Refined and/or Petroleum Product (non-HVL) 4266.430\n",
       "5  Refined and/or Petroleum Product (non-HVL) 3926.400\n",
       "6  Refined and/or Petroleum Product (non-HVL) 2564.730\n",
       "7  Crude Oil                                  2312.330\n",
       "8  Crude Oil                                  2290.000\n",
       "9  Refined and/or Petroleum Product (non-HVL) 2283.790\n",
       "10 Refined and/or Petroleum Product (non-HVL) 2281.900"
      ]
     },
     "metadata": {},
     "output_type": "display_data"
    }
   ],
   "source": [
    "pipelines_2010 %>%\n",
    "    group_by(OPERATOR_ID) %>%\n",
    "    top_n(1, MILES) %>%\n",
    "    ungroup() %>%\n",
    "    top_n(10, MILES) %>%\n",
    "    arrange(desc(MILES))"
   ]
  },
  {
   "cell_type": "markdown",
   "metadata": {},
   "source": [
    "#### Largest for the sum of all types"
   ]
  },
  {
   "cell_type": "code",
   "execution_count": 4,
   "metadata": {},
   "outputs": [
    {
     "data": {
      "text/html": [
       "<ol class=list-inline>\n",
       "\t<li>'Crude Oil'</li>\n",
       "\t<li>'HVL'</li>\n",
       "\t<li>'Refined and/or Petroleum Product (non-HVL)'</li>\n",
       "\t<li>'CO2'</li>\n",
       "\t<li>'Fuel Grade Ethanol (dedicated system)'</li>\n",
       "</ol>\n"
      ],
      "text/latex": [
       "\\begin{enumerate*}\n",
       "\\item 'Crude Oil'\n",
       "\\item 'HVL'\n",
       "\\item 'Refined and/or Petroleum Product (non-HVL)'\n",
       "\\item 'CO2'\n",
       "\\item 'Fuel Grade Ethanol (dedicated system)'\n",
       "\\end{enumerate*}\n"
      ],
      "text/markdown": [
       "1. 'Crude Oil'\n",
       "2. 'HVL'\n",
       "3. 'Refined and/or Petroleum Product (non-HVL)'\n",
       "4. 'CO2'\n",
       "5. 'Fuel Grade Ethanol (dedicated system)'\n",
       "\n",
       "\n"
      ],
      "text/plain": [
       "[1] \"Crude Oil\"                                 \n",
       "[2] \"HVL\"                                       \n",
       "[3] \"Refined and/or Petroleum Product (non-HVL)\"\n",
       "[4] \"CO2\"                                       \n",
       "[5] \"Fuel Grade Ethanol (dedicated system)\"     "
      ]
     },
     "metadata": {},
     "output_type": "display_data"
    }
   ],
   "source": [
    "unique(pipelines_2010$COMMODITY)"
   ]
  },
  {
   "cell_type": "markdown",
   "metadata": {},
   "source": [
    "Check whether any operator ID has more than the maximum of five expected entries."
   ]
  },
  {
   "cell_type": "code",
   "execution_count": 5,
   "metadata": {},
   "outputs": [
    {
     "data": {
      "text/plain": [
       "\n",
       "   1    2    3    4 \n",
       "3307  565  251   26 "
      ]
     },
     "metadata": {},
     "output_type": "display_data"
    }
   ],
   "source": [
    "pipelines_2010 %>%\n",
    "    group_by(YEAR, OPERATOR_ID) %>%\n",
    "    summarize(n = n()) %>%\n",
    "    ungroup() %>%\n",
    "    {table(.$n)}"
   ]
  },
  {
   "cell_type": "markdown",
   "metadata": {},
   "source": [
    "Everything seems to be A-Okay."
   ]
  },
  {
   "cell_type": "code",
   "execution_count": 6,
   "metadata": {},
   "outputs": [
    {
     "data": {
      "text/html": [
       "<table>\n",
       "<caption>A tibble: 10 × 4</caption>\n",
       "<thead>\n",
       "\t<tr><th scope=col>YEAR</th><th scope=col>OPERATOR_ID</th><th scope=col>MILES</th><th scope=col>NAME</th></tr>\n",
       "\t<tr><th scope=col>&lt;dbl&gt;</th><th scope=col>&lt;dbl&gt;</th><th scope=col>&lt;dbl&gt;</th><th scope=col>&lt;chr&gt;</th></tr>\n",
       "</thead>\n",
       "<tbody>\n",
       "\t<tr><td>2018</td><td>31618</td><td>8325.499</td><td>ENTERPRISE PRODUCTS OPERATING LLC</td></tr>\n",
       "\t<tr><td>2018</td><td>32109</td><td>4756.610</td><td>ONEOK NGL PIPELINE, LLC          </td></tr>\n",
       "\t<tr><td>2014</td><td>22610</td><td>4505.500</td><td>MAGELLAN PIPELINE COMPANY, LP    </td></tr>\n",
       "\t<tr><td>2015</td><td> 2552</td><td>4500.920</td><td>COLONIAL PIPELINE CO             </td></tr>\n",
       "\t<tr><td>2017</td><td>31684</td><td>4474.100</td><td>PHILLIPS 66 PIPELINE LLC         </td></tr>\n",
       "\t<tr><td>2015</td><td> 1845</td><td>4298.290</td><td>BUCKEYE PARTNERS, LP             </td></tr>\n",
       "\t<tr><td>2018</td><td>32147</td><td>4037.200</td><td>MARATHON PIPE LINE LLC           </td></tr>\n",
       "\t<tr><td>2010</td><td>18718</td><td>3466.740</td><td>SUNOCO PIPELINE L.P.             </td></tr>\n",
       "\t<tr><td>2013</td><td> 4906</td><td>2944.400</td><td>EXXONMOBIL PIPELINE CO           </td></tr>\n",
       "\t<tr><td>2013</td><td>22855</td><td>2757.450</td><td>KOCH PIPELINE COMPANY, L.P.      </td></tr>\n",
       "</tbody>\n",
       "</table>\n"
      ],
      "text/latex": [
       "A tibble: 10 × 4\n",
       "\\begin{tabular}{r|llll}\n",
       " YEAR & OPERATOR\\_ID & MILES & NAME\\\\\n",
       " <dbl> & <dbl> & <dbl> & <chr>\\\\\n",
       "\\hline\n",
       "\t 2018 & 31618 & 8325.499 & ENTERPRISE PRODUCTS OPERATING LLC\\\\\n",
       "\t 2018 & 32109 & 4756.610 & ONEOK NGL PIPELINE, LLC          \\\\\n",
       "\t 2014 & 22610 & 4505.500 & MAGELLAN PIPELINE COMPANY, LP    \\\\\n",
       "\t 2015 &  2552 & 4500.920 & COLONIAL PIPELINE CO             \\\\\n",
       "\t 2017 & 31684 & 4474.100 & PHILLIPS 66 PIPELINE LLC         \\\\\n",
       "\t 2015 &  1845 & 4298.290 & BUCKEYE PARTNERS, LP             \\\\\n",
       "\t 2018 & 32147 & 4037.200 & MARATHON PIPE LINE LLC           \\\\\n",
       "\t 2010 & 18718 & 3466.740 & SUNOCO PIPELINE L.P.             \\\\\n",
       "\t 2013 &  4906 & 2944.400 & EXXONMOBIL PIPELINE CO           \\\\\n",
       "\t 2013 & 22855 & 2757.450 & KOCH PIPELINE COMPANY, L.P.      \\\\\n",
       "\\end{tabular}\n"
      ],
      "text/markdown": [
       "\n",
       "A tibble: 10 × 4\n",
       "\n",
       "| YEAR &lt;dbl&gt; | OPERATOR_ID &lt;dbl&gt; | MILES &lt;dbl&gt; | NAME &lt;chr&gt; |\n",
       "|---|---|---|---|\n",
       "| 2018 | 31618 | 8325.499 | ENTERPRISE PRODUCTS OPERATING LLC |\n",
       "| 2018 | 32109 | 4756.610 | ONEOK NGL PIPELINE, LLC           |\n",
       "| 2014 | 22610 | 4505.500 | MAGELLAN PIPELINE COMPANY, LP     |\n",
       "| 2015 |  2552 | 4500.920 | COLONIAL PIPELINE CO              |\n",
       "| 2017 | 31684 | 4474.100 | PHILLIPS 66 PIPELINE LLC          |\n",
       "| 2015 |  1845 | 4298.290 | BUCKEYE PARTNERS, LP              |\n",
       "| 2018 | 32147 | 4037.200 | MARATHON PIPE LINE LLC            |\n",
       "| 2010 | 18718 | 3466.740 | SUNOCO PIPELINE L.P.              |\n",
       "| 2013 |  4906 | 2944.400 | EXXONMOBIL PIPELINE CO            |\n",
       "| 2013 | 22855 | 2757.450 | KOCH PIPELINE COMPANY, L.P.       |\n",
       "\n"
      ],
      "text/plain": [
       "   YEAR OPERATOR_ID MILES    NAME                             \n",
       "1  2018 31618       8325.499 ENTERPRISE PRODUCTS OPERATING LLC\n",
       "2  2018 32109       4756.610 ONEOK NGL PIPELINE, LLC          \n",
       "3  2014 22610       4505.500 MAGELLAN PIPELINE COMPANY, LP    \n",
       "4  2015  2552       4500.920 COLONIAL PIPELINE CO             \n",
       "5  2017 31684       4474.100 PHILLIPS 66 PIPELINE LLC         \n",
       "6  2015  1845       4298.290 BUCKEYE PARTNERS, LP             \n",
       "7  2018 32147       4037.200 MARATHON PIPE LINE LLC           \n",
       "8  2010 18718       3466.740 SUNOCO PIPELINE L.P.             \n",
       "9  2013  4906       2944.400 EXXONMOBIL PIPELINE CO           \n",
       "10 2013 22855       2757.450 KOCH PIPELINE COMPANY, L.P.      "
      ]
     },
     "metadata": {},
     "output_type": "display_data"
    }
   ],
   "source": [
    "pipelines_2010 %>%\n",
    "    group_by(YEAR, OPERATOR_ID) %>%\n",
    "    summarize(MILES = sum(MILES), NAME = last(NAME)) %>%\n",
    "    ungroup() %>%\n",
    "    group_by(OPERATOR_ID) %>%\n",
    "    top_n(1, MILES) %>%\n",
    "    ungroup() %>%\n",
    "    top_n(10, MILES) %>%\n",
    "    arrange(desc(MILES))"
   ]
  }
 ],
 "metadata": {
  "kernelspec": {
   "display_name": "R 3.6.1",
   "language": "R",
   "name": "ir361"
  },
  "language_info": {
   "codemirror_mode": "r",
   "file_extension": ".r",
   "mimetype": "text/x-r-source",
   "name": "R",
   "pygments_lexer": "r",
   "version": "3.6.1"
  }
 },
 "nbformat": 4,
 "nbformat_minor": 4
}
