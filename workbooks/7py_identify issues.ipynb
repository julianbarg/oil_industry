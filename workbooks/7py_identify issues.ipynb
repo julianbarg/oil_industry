{
 "cells": [
  {
   "cell_type": "markdown",
   "metadata": {},
   "source": [
    "# 7. (Functions to) identify all data issue"
   ]
  },
  {
   "cell_type": "code",
   "execution_count": 1,
   "metadata": {},
   "outputs": [],
   "source": [
    "pipeline_2010_selected_file = '../preprocessed_data/pipelines_2010_selected_2019-08-11.feather'\n",
    "incidents_selected_file = '../preprocessed_data/incidents_selected_2019-08-11.feather'\n",
    "largest_observations_file = '../preprocessed_data/largest_companies_2019-08-11.feather'\n",
    "sample_file = '../preprocessed_data/sample_2019-08-17.feather'\n",
    "\n",
    "pipelines_2010_raw_file = '../data/pipelines_2010_2019-08-11.feather'\n",
    "incidents_raw = '../data/incidents_2019-08-11.feather'"
   ]
  },
  {
   "cell_type": "code",
   "execution_count": 2,
   "metadata": {},
   "outputs": [],
   "source": [
    "sample_len = 50"
   ]
  },
  {
   "cell_type": "markdown",
   "metadata": {},
   "source": [
    "## Setup"
   ]
  },
  {
   "cell_type": "code",
   "execution_count": 3,
   "metadata": {},
   "outputs": [],
   "source": [
    "import pandas as pd\n",
    "import numpy as np\n",
    "from datetime import date\n",
    "from functools import partial\n",
    "\n",
    "today = date.today().isoformat()"
   ]
  },
  {
   "cell_type": "code",
   "execution_count": 4,
   "metadata": {},
   "outputs": [
    {
     "name": "stdout",
     "output_type": "stream",
     "text": [
      "Loading library list...\n",
      "Done\n"
     ]
    }
   ],
   "source": [
    "import wrds\n",
    "\n",
    "db = wrds.Connection(wrds_username='juujian')"
   ]
  },
  {
   "cell_type": "markdown",
   "metadata": {},
   "source": [
    "# Load data"
   ]
  },
  {
   "cell_type": "code",
   "execution_count": 5,
   "metadata": {},
   "outputs": [
    {
     "data": {
      "text/html": [
       "<div>\n",
       "<style scoped>\n",
       "    .dataframe tbody tr th:only-of-type {\n",
       "        vertical-align: middle;\n",
       "    }\n",
       "\n",
       "    .dataframe tbody tr th {\n",
       "        vertical-align: top;\n",
       "    }\n",
       "\n",
       "    .dataframe thead th {\n",
       "        text-align: right;\n",
       "    }\n",
       "</style>\n",
       "<table border=\"1\" class=\"dataframe\">\n",
       "  <thead>\n",
       "    <tr style=\"text-align: right;\">\n",
       "      <th></th>\n",
       "      <th>OPERATOR_ID</th>\n",
       "      <th>YEAR</th>\n",
       "      <th>NAME</th>\n",
       "      <th>COMMODITY</th>\n",
       "      <th>MILES</th>\n",
       "    </tr>\n",
       "  </thead>\n",
       "  <tbody>\n",
       "    <tr>\n",
       "      <th>343</th>\n",
       "      <td>32009</td>\n",
       "      <td>2017</td>\n",
       "      <td>EXXONMOBIL OIL CORPORATION-TERMINALS</td>\n",
       "      <td>Refined and/or Petroleum Product (non-HVL)</td>\n",
       "      <td>0.210</td>\n",
       "    </tr>\n",
       "    <tr>\n",
       "      <th>3394</th>\n",
       "      <td>3445</td>\n",
       "      <td>2018</td>\n",
       "      <td>DIXIE PIPELINE COMPANY LLC</td>\n",
       "      <td>HVL</td>\n",
       "      <td>656.216</td>\n",
       "    </tr>\n",
       "  </tbody>\n",
       "</table>\n",
       "</div>"
      ],
      "text/plain": [
       "     OPERATOR_ID  YEAR                                  NAME  \\\n",
       "343        32009  2017  EXXONMOBIL OIL CORPORATION-TERMINALS   \n",
       "3394        3445  2018            DIXIE PIPELINE COMPANY LLC   \n",
       "\n",
       "                                       COMMODITY    MILES  \n",
       "343   Refined and/or Petroleum Product (non-HVL)    0.210  \n",
       "3394                                         HVL  656.216  "
      ]
     },
     "execution_count": 5,
     "metadata": {},
     "output_type": "execute_result"
    }
   ],
   "source": [
    "pipelines_2010 = pd.read_feather(pipeline_2010_selected_file)\n",
    "pipelines_2010.sample(2)"
   ]
  },
  {
   "cell_type": "code",
   "execution_count": 6,
   "metadata": {},
   "outputs": [
    {
     "data": {
      "text/html": [
       "<div>\n",
       "<style scoped>\n",
       "    .dataframe tbody tr th:only-of-type {\n",
       "        vertical-align: middle;\n",
       "    }\n",
       "\n",
       "    .dataframe tbody tr th {\n",
       "        vertical-align: top;\n",
       "    }\n",
       "\n",
       "    .dataframe thead th {\n",
       "        text-align: right;\n",
       "    }\n",
       "</style>\n",
       "<table border=\"1\" class=\"dataframe\">\n",
       "  <thead>\n",
       "    <tr style=\"text-align: right;\">\n",
       "      <th></th>\n",
       "      <th>OPERATOR_ID</th>\n",
       "      <th>LOCAL_DATETIME</th>\n",
       "      <th>NAME</th>\n",
       "      <th>SERIOUS</th>\n",
       "      <th>SIGNIFICANT</th>\n",
       "      <th>LOCATION_LATITUDE</th>\n",
       "      <th>LOCATION_LONGITUDE</th>\n",
       "    </tr>\n",
       "  </thead>\n",
       "  <tbody>\n",
       "    <tr>\n",
       "      <th>163</th>\n",
       "      <td>32109</td>\n",
       "      <td>2010-07-14 21:15:00</td>\n",
       "      <td>ONEOK NGL PIPELINE LP</td>\n",
       "      <td>NO</td>\n",
       "      <td>True</td>\n",
       "      <td>36.77451</td>\n",
       "      <td>-97.75519</td>\n",
       "    </tr>\n",
       "    <tr>\n",
       "      <th>3816</th>\n",
       "      <td>30829</td>\n",
       "      <td>2019-06-27 09:50:00</td>\n",
       "      <td>ENTERPRISE CRUDE PIPELINE LLC</td>\n",
       "      <td>NO</td>\n",
       "      <td>True</td>\n",
       "      <td>35.95480</td>\n",
       "      <td>-96.75910</td>\n",
       "    </tr>\n",
       "  </tbody>\n",
       "</table>\n",
       "</div>"
      ],
      "text/plain": [
       "     OPERATOR_ID      LOCAL_DATETIME                           NAME SERIOUS  \\\n",
       "163        32109 2010-07-14 21:15:00          ONEOK NGL PIPELINE LP      NO   \n",
       "3816       30829 2019-06-27 09:50:00  ENTERPRISE CRUDE PIPELINE LLC      NO   \n",
       "\n",
       "      SIGNIFICANT  LOCATION_LATITUDE  LOCATION_LONGITUDE  \n",
       "163          True           36.77451           -97.75519  \n",
       "3816         True           35.95480           -96.75910  "
      ]
     },
     "execution_count": 6,
     "metadata": {},
     "output_type": "execute_result"
    }
   ],
   "source": [
    "incidents = pd.read_feather(incidents_selected_file)\n",
    "incidents.sample(2)"
   ]
  },
  {
   "cell_type": "code",
   "execution_count": 7,
   "metadata": {},
   "outputs": [
    {
     "data": {
      "text/html": [
       "<div>\n",
       "<style scoped>\n",
       "    .dataframe tbody tr th:only-of-type {\n",
       "        vertical-align: middle;\n",
       "    }\n",
       "\n",
       "    .dataframe tbody tr th {\n",
       "        vertical-align: top;\n",
       "    }\n",
       "\n",
       "    .dataframe thead th {\n",
       "        text-align: right;\n",
       "    }\n",
       "</style>\n",
       "<table border=\"1\" class=\"dataframe\">\n",
       "  <thead>\n",
       "    <tr style=\"text-align: right;\">\n",
       "      <th></th>\n",
       "      <th>OPERATOR_ID</th>\n",
       "      <th>YEAR</th>\n",
       "      <th>NAME</th>\n",
       "      <th>COMMODITY</th>\n",
       "      <th>MILES</th>\n",
       "      <th>PARENT</th>\n",
       "      <th>INCIDENTS</th>\n",
       "      <th>SIGNIFICANT_INCIDENTS</th>\n",
       "    </tr>\n",
       "  </thead>\n",
       "  <tbody>\n",
       "    <tr>\n",
       "      <th>658</th>\n",
       "      <td>32099</td>\n",
       "      <td>2017</td>\n",
       "      <td>ENERGY TRANSFER COMPANY</td>\n",
       "      <td>hvl</td>\n",
       "      <td>1218.28</td>\n",
       "      <td>Energy Transfer</td>\n",
       "      <td>4.0</td>\n",
       "      <td>4.0</td>\n",
       "    </tr>\n",
       "    <tr>\n",
       "      <th>303</th>\n",
       "      <td>22610</td>\n",
       "      <td>2011</td>\n",
       "      <td>MAGELLAN PIPELINE COMPANY, LP</td>\n",
       "      <td>hvl</td>\n",
       "      <td>218.00</td>\n",
       "      <td>Magellan Midstream Partners</td>\n",
       "      <td>1.0</td>\n",
       "      <td>0.0</td>\n",
       "    </tr>\n",
       "  </tbody>\n",
       "</table>\n",
       "</div>"
      ],
      "text/plain": [
       "    OPERATOR_ID  YEAR                           NAME COMMODITY    MILES  \\\n",
       "658       32099  2017        ENERGY TRANSFER COMPANY       hvl  1218.28   \n",
       "303       22610  2011  MAGELLAN PIPELINE COMPANY, LP       hvl   218.00   \n",
       "\n",
       "                          PARENT  INCIDENTS  SIGNIFICANT_INCIDENTS  \n",
       "658              Energy Transfer        4.0                    4.0  \n",
       "303  Magellan Midstream Partners        1.0                    0.0  "
      ]
     },
     "execution_count": 7,
     "metadata": {},
     "output_type": "execute_result"
    }
   ],
   "source": [
    "sample = pd.read_feather(sample_file)\n",
    "sample.sample(2)"
   ]
  },
  {
   "cell_type": "code",
   "execution_count": 8,
   "metadata": {},
   "outputs": [
    {
     "data": {
      "text/html": [
       "<div>\n",
       "<style scoped>\n",
       "    .dataframe tbody tr th:only-of-type {\n",
       "        vertical-align: middle;\n",
       "    }\n",
       "\n",
       "    .dataframe tbody tr th {\n",
       "        vertical-align: top;\n",
       "    }\n",
       "\n",
       "    .dataframe thead th {\n",
       "        text-align: right;\n",
       "    }\n",
       "</style>\n",
       "<table border=\"1\" class=\"dataframe\">\n",
       "  <thead>\n",
       "    <tr style=\"text-align: right;\">\n",
       "      <th></th>\n",
       "      <th>OPERATOR_ID</th>\n",
       "      <th>YEAR</th>\n",
       "      <th>NAME</th>\n",
       "      <th>TOTAL_MILES</th>\n",
       "    </tr>\n",
       "  </thead>\n",
       "  <tbody>\n",
       "    <tr>\n",
       "      <th>0</th>\n",
       "      <td>31618</td>\n",
       "      <td>2018.0</td>\n",
       "      <td>ENTERPRISE PRODUCTS OPERATING LLC</td>\n",
       "      <td>8325.499</td>\n",
       "    </tr>\n",
       "    <tr>\n",
       "      <th>1</th>\n",
       "      <td>32109</td>\n",
       "      <td>2018.0</td>\n",
       "      <td>ONEOK NGL PIPELINE, LLC</td>\n",
       "      <td>4756.610</td>\n",
       "    </tr>\n",
       "    <tr>\n",
       "      <th>2</th>\n",
       "      <td>22610</td>\n",
       "      <td>2014.0</td>\n",
       "      <td>MAGELLAN PIPELINE COMPANY, LP</td>\n",
       "      <td>4505.500</td>\n",
       "    </tr>\n",
       "    <tr>\n",
       "      <th>3</th>\n",
       "      <td>2552</td>\n",
       "      <td>2015.0</td>\n",
       "      <td>COLONIAL PIPELINE CO</td>\n",
       "      <td>4500.920</td>\n",
       "    </tr>\n",
       "    <tr>\n",
       "      <th>4</th>\n",
       "      <td>31684</td>\n",
       "      <td>2017.0</td>\n",
       "      <td>PHILLIPS 66 PIPELINE LLC</td>\n",
       "      <td>4474.100</td>\n",
       "    </tr>\n",
       "  </tbody>\n",
       "</table>\n",
       "</div>"
      ],
      "text/plain": [
       "  OPERATOR_ID    YEAR                               NAME  TOTAL_MILES\n",
       "0       31618  2018.0  ENTERPRISE PRODUCTS OPERATING LLC     8325.499\n",
       "1       32109  2018.0            ONEOK NGL PIPELINE, LLC     4756.610\n",
       "2       22610  2014.0      MAGELLAN PIPELINE COMPANY, LP     4505.500\n",
       "3        2552  2015.0               COLONIAL PIPELINE CO     4500.920\n",
       "4       31684  2017.0           PHILLIPS 66 PIPELINE LLC     4474.100"
      ]
     },
     "execution_count": 8,
     "metadata": {},
     "output_type": "execute_result"
    }
   ],
   "source": [
    "largest_observations_ordered = pd.read_feather(largest_observations_file)\n",
    "largest_observations_ordered.head(5)"
   ]
  },
  {
   "cell_type": "code",
   "execution_count": 9,
   "metadata": {},
   "outputs": [],
   "source": [
    "pipelines_2010_raw = pd.read_feather(pipelines_2010_raw_file)"
   ]
  },
  {
   "cell_type": "markdown",
   "metadata": {},
   "source": [
    "## 7.1 Define functions for analysis"
   ]
  },
  {
   "cell_type": "markdown",
   "metadata": {},
   "source": [
    "### 7.1.1 Functions to compare with raw data"
   ]
  },
  {
   "cell_type": "code",
   "execution_count": 10,
   "metadata": {},
   "outputs": [
    {
     "data": {
      "text/plain": [
       "[{'name': 'EXXONMOBIL PIPELINE CO', 'start_year': 2010, 'end_year': 2018}]"
      ]
     },
     "execution_count": 10,
     "metadata": {},
     "output_type": "execute_result"
    }
   ],
   "source": [
    "def find_info(OPERATOR_ID, info_col: str, title: str, df = pipelines_2010_raw, id_col = 'OPERATOR_ID', \n",
    "              year_col = 'REPORT_YEAR', fuzzy=False):\n",
    "    from fuzzywuzzy import fuzz\n",
    "    \n",
    "    values = np.unique(df[df[id_col] == int(OPERATOR_ID)][info_col]).tolist()\n",
    "    result = []\n",
    "    for value in values:\n",
    "        start_year = df[df[info_col] == value][year_col].min()\n",
    "        end_year = df[df[info_col] == value][year_col].max()\n",
    "        result = result + [{title: value, 'start_year': start_year, 'end_year': end_year}]\n",
    "        \n",
    "    if fuzzy and len(result) == 2 and fuzz.ratio(result[0][title].lower(), result[1][title].lower()) >= 95:\n",
    "            result = [result[0]]\n",
    "            \n",
    "    return(result)\n",
    "\n",
    "find_address = partial(find_info, info_col='PARTA4STREET', title='address')\n",
    "find_names = partial(find_info, info_col='PARTA2NAMEOFCOMP', title='name', fuzzy=True)\n",
    "find_names('4906')"
   ]
  },
  {
   "cell_type": "code",
   "execution_count": 11,
   "metadata": {},
   "outputs": [
    {
     "data": {
      "text/plain": [
       "'MID - VALLEY PIPELINE CO'"
      ]
     },
     "execution_count": 11,
     "metadata": {},
     "output_type": "execute_result"
    }
   ],
   "source": [
    "import operator\n",
    "\n",
    "def find_latest_info(OPERATOR_ID, info_col: str, df = pipelines_2010_raw, \n",
    "                     id_col = 'OPERATOR_ID', year_col = 'REPORT_YEAR'):\n",
    "    data_points = find_info(OPERATOR_ID=OPERATOR_ID, info_col=info_col, title='value', \n",
    "                            id_col=id_col, year_col=year_col, fuzzy=False)\n",
    "    latest_info = max(data_points.__iter__(), key=operator.itemgetter('end_year'))['value']\n",
    "    return latest_info\n",
    "\n",
    "find_latest_name = partial(find_latest_info, info_col='PARTA2NAMEOFCOMP')\n",
    "find_latest_name('12470')"
   ]
  },
  {
   "cell_type": "markdown",
   "metadata": {},
   "source": [
    "### 7.1.2 Compare parents"
   ]
  },
  {
   "cell_type": "code",
   "execution_count": 12,
   "metadata": {},
   "outputs": [
    {
     "data": {
      "text/plain": [
       "'Plains All American Pipeline'"
      ]
     },
     "execution_count": 12,
     "metadata": {},
     "output_type": "execute_result"
    }
   ],
   "source": [
    "def extract_value(OPERATOR_ID, col, df = sample, id_col = 'OPERATOR_ID'):\n",
    "    candidates = df.loc[df[id_col] == OPERATOR_ID][col].unique()\n",
    "    if len(candidates) == 1:\n",
    "        return(candidates[0])\n",
    "    elif len(candidates) == 0:\n",
    "        raise LookupError (f'OPERATOR_ID or {col} not found.')\n",
    "    elif len(candidates) > 1:\n",
    "        raise LookupError (f'More than one value found for {col}.')\n",
    "        \n",
    "extract_parent = partial(extract_value, col='PARENT')\n",
    "extract_parent('300')"
   ]
  },
  {
   "cell_type": "code",
   "execution_count": 13,
   "metadata": {},
   "outputs": [
    {
     "data": {
      "text/plain": [
       "[('32147', 'MARATHON PIPE LINE LLC'),\n",
       " ('38933', 'TESORO LOGISTICS OPERATIONS, LLC'),\n",
       " ('39029', 'TESORO LOGISTICS NORTHWEST PIPELINE LLC')]"
      ]
     },
     "execution_count": 13,
     "metadata": {},
     "output_type": "execute_result"
    }
   ],
   "source": [
    "def compare_values(OPERATOR_ID, col, df = sample, id_col = 'OPERATOR_ID'):\n",
    "    value = extract_value(OPERATOR_ID, col=col, df=df, id_col=id_col)\n",
    "    rows = df.loc[df[col] == value]\n",
    "    ids_with_same_values = rows[id_col].unique().tolist()\n",
    "    ids_with_same_values.remove(OPERATOR_ID)\n",
    "    name_with_same_values = [find_latest_name(id_) for id_ in ids_with_same_values]\n",
    "    return(list(zip(ids_with_same_values, name_with_same_values)))\n",
    "    \n",
    "compare_parents = partial(compare_values, col='PARENT')\n",
    "compare_parents('22830')"
   ]
  },
  {
   "cell_type": "markdown",
   "metadata": {},
   "source": [
    "## 7.2 Create regular expressions"
   ]
  },
  {
   "cell_type": "code",
   "execution_count": 14,
   "metadata": {},
   "outputs": [],
   "source": [
    "ids = sample['OPERATOR_ID'].unique()"
   ]
  },
  {
   "cell_type": "code",
   "execution_count": 15,
   "metadata": {},
   "outputs": [],
   "source": [
    "entry = []\n",
    "for id_ in ids:\n",
    "    entry = entry + [[id_, entry['name']] for entry in find_names(id_)]"
   ]
  },
  {
   "cell_type": "code",
   "execution_count": 16,
   "metadata": {},
   "outputs": [
    {
     "data": {
      "text/plain": [
       "[['300', 'PLAINS PIPELINE, L.P.'],\n",
       " ['395', 'AMOCO OIL CO'],\n",
       " ['1845', 'BUCKEYE PARTNERS, LP'],\n",
       " ['2552', 'COLONIAL PIPELINE CO'],\n",
       " ['2731', 'CHEVRON PIPE LINE CO'],\n",
       " ['3445', 'DIXIE PIPELINE'],\n",
       " ['3445', 'DIXIE PIPELINE COMPANY LLC'],\n",
       " ['4805', 'EXPLORER PIPELINE CO'],\n",
       " ['4906', 'EXXONMOBIL PIPELINE CO'],\n",
       " ['10012', 'NUSTAR PIPELINE OPERATING PARTNERSHIP L.P.'],\n",
       " ['11169', 'ENBRIDGE ENERGY, LIMITED PARTNERSHIP'],\n",
       " ['12470', 'MID - VALLEY PIPELINE CO'],\n",
       " ['12628', 'EXXONMOBIL PIPELINE CO'],\n",
       " ['12628', 'MOBIL  PIPE  LINE COMPANY'],\n",
       " ['12628', 'MOBIL PIPELINE CO'],\n",
       " ['15156', 'SINCLAIR TRANSPORTATION COMPANY'],\n",
       " ['15674', 'PLANTATION PIPE LINE CO'],\n",
       " ['18092', 'SFPP, LP'],\n",
       " ['18718', 'SUNOCO PIPELINE L.P.'],\n",
       " ['22430', 'WEST SHORE PIPELINE CO'],\n",
       " ['22610', 'MAGELLAN PIPELINE COMPANY, LP'],\n",
       " ['22830', 'WOLVERINE PIPELINE CO'],\n",
       " ['22855', 'FLINT HILLS RESOURCES, LC'],\n",
       " ['22855', 'KOCH PIPELINE COMPANY, L.P.'],\n",
       " ['25146', 'EQUISTAR CHEMICALS, L.P.'],\n",
       " ['26125', 'CALNEV PIPELINE CO'],\n",
       " ['26149', 'ALYESKA PIPELINE SERVICE CO'],\n",
       " ['30781', 'OLYMPIC PIPE LINE COMPANY'],\n",
       " ['30826', 'WILLIAMS FIELD SERVICES'],\n",
       " ['30829', 'ENTERPRISE CRUDE PIPELINE LLC'],\n",
       " ['31130', 'DCP MIDSTREAM'],\n",
       " ['31174', 'SHELL PIPELINE CO., L.P.'],\n",
       " ['31189', 'BP PIPELINE (NORTH AMERICA) INC.'],\n",
       " ['31371', 'BUCKEYE DEVELOPMENT & LOGISTICS, LLC'],\n",
       " ['31454', 'NUSTAR LOGISTICS, L.P.'],\n",
       " ['31618', 'ENTERPRISE PRODUCTS OPERATING LLC'],\n",
       " ['31684', 'CONOCOPHILLIPS'],\n",
       " ['31684', 'PHILLIPS 66 PIPELINE LLC'],\n",
       " ['31720', 'EXPRESS HOLDINGS (USA), LLC'],\n",
       " ['31720', 'KINDER MORGAN PIPELINES (USA) INC'],\n",
       " ['32011', 'HOLLY ENERGY PARTNERS - OPERATING, L.P.'],\n",
       " ['32080', 'CCPS TRANSPORTATION, LLC'],\n",
       " ['32099', 'ENERGY TRANSFER COMPANY'],\n",
       " ['32103', 'CRIMSON PIPELINE L.P.'],\n",
       " ['32109', 'ONEOK NGL PIPELINE LP'],\n",
       " ['32109', 'ONEOK NGL PIPELINE, LLC'],\n",
       " ['32147', 'MARATHON PIPE LINE LLC'],\n",
       " ['32258', 'KINDER MORGAN COCHIN LLC'],\n",
       " ['32334', 'TC OIL PIPELINE OPERATIONS INC'],\n",
       " ['32502', 'ENBRIDGE PIPELINES (SOUTHERN LIGHTS) L.L.C.'],\n",
       " ['38933', 'TESORO LOGISTICS OPERATIONS LLC - SOUTHERN CALIFORNIA'],\n",
       " ['38933', 'TESORO LOGISTICS OPERATIONS, LLC'],\n",
       " ['39029', 'TESORO LOGISTICS NORTHWEST PIPELINE LLC'],\n",
       " ['39043', 'TALLGRASS PONY EXPRESS PIPELINE, LLC'],\n",
       " ['39205', 'DAPL-ETCO OPERATIONS MANAGEMENT, LLC'],\n",
       " ['39398', 'INEOS USA LLC'],\n",
       " ['39596', 'PERMIAN EXPRESS PARTNERS LLC'],\n",
       " ['31666', 'ROCKY MOUNTAIN PIPELINE SYSTEM, LLC']]"
      ]
     },
     "execution_count": 16,
     "metadata": {},
     "output_type": "execute_result"
    }
   ],
   "source": [
    "entry"
   ]
  },
  {
   "cell_type": "code",
   "execution_count": 17,
   "metadata": {},
   "outputs": [
    {
     "data": {
      "text/html": [
       "<div>\n",
       "<style scoped>\n",
       "    .dataframe tbody tr th:only-of-type {\n",
       "        vertical-align: middle;\n",
       "    }\n",
       "\n",
       "    .dataframe tbody tr th {\n",
       "        vertical-align: top;\n",
       "    }\n",
       "\n",
       "    .dataframe thead th {\n",
       "        text-align: right;\n",
       "    }\n",
       "</style>\n",
       "<table border=\"1\" class=\"dataframe\">\n",
       "  <thead>\n",
       "    <tr style=\"text-align: right;\">\n",
       "      <th></th>\n",
       "      <th>OPERATOR_ID</th>\n",
       "      <th>NAME</th>\n",
       "      <th>re_</th>\n",
       "    </tr>\n",
       "  </thead>\n",
       "  <tbody>\n",
       "    <tr>\n",
       "      <th>17</th>\n",
       "      <td>26125</td>\n",
       "      <td>CALNEV PIPELINE CO</td>\n",
       "      <td>.*calnev.*</td>\n",
       "    </tr>\n",
       "    <tr>\n",
       "      <th>18</th>\n",
       "      <td>26149</td>\n",
       "      <td>ALYESKA PIPELINE SERVICE CO</td>\n",
       "      <td>.*alyeska.*</td>\n",
       "    </tr>\n",
       "    <tr>\n",
       "      <th>52</th>\n",
       "      <td>4805</td>\n",
       "      <td>EXPLORER PIPELINE CO</td>\n",
       "      <td>.*explorer.*</td>\n",
       "    </tr>\n",
       "  </tbody>\n",
       "</table>\n",
       "</div>"
      ],
      "text/plain": [
       "   OPERATOR_ID                         NAME           re_\n",
       "17       26125           CALNEV PIPELINE CO    .*calnev.*\n",
       "18       26149  ALYESKA PIPELINE SERVICE CO   .*alyeska.*\n",
       "52        4805         EXPLORER PIPELINE CO  .*explorer.*"
      ]
     },
     "execution_count": 17,
     "metadata": {},
     "output_type": "execute_result"
    }
   ],
   "source": [
    "from collections import namedtuple\n",
    "\n",
    "company_re = namedtuple('company', 'OPERATOR_ID NAME re_')\n",
    "\n",
    "company_res = [company_re('10012', 'NUSTAR PIPELINE OPERATING PARTNERSHIP L.P.', r'.*nustar.*'),\n",
    "               company_re('11169', 'ENBRIDGE ENERGY, LIMITED PARTNERSHIP', r'.*enbridge.*'), \n",
    "               company_re('12470', 'MID - VALLEY PIPELINE CO', r'.*mid\\s?-\\s?valley.*'), \n",
    "               company_re('12628', 'EXXONMOBIL PIPELINE CO', r'.*exxonmobil.*'), \n",
    "               company_re('12628', 'MOBIL  PIPE  LINE COMPANY', r'.*mobil.*'), \n",
    "               company_re('15156', 'SINCLAIR TRANSPORTATION COMPANY', r'.*sinclair.*'),\n",
    "               company_re('15674', 'PLANTATION PIPE LINE CO', r'.*plantation.*'),\n",
    "               company_re('18092', 'SFPP, LP', r'.*sfpp.*'),\n",
    "               company_re('1845', 'BUCKEYE PARTNERS, LP', r'.*buckeye.*'),\n",
    "               company_re('18718', 'SUNOCO PIPELINE L.P.', r'.*sunoco.*'),\n",
    "               company_re('22430', 'WEST SHORE PIPELINE CO', r'.*west shore.*'),\n",
    "               company_re('22610', 'MAGELLAN PIPELINE COMPANY, LP', r'.*magellan,*'),\n",
    "               company_re('22830', 'WOLVERINE PIPELINE CO', r'.*wolverine.*'),\n",
    "               company_re('22855', 'FLINT HILLS RESOURCES, LC', r'.*flint hills.*'),\n",
    "               company_re('22855', 'KOCH PIPELINE COMPANY, L.P.', r'.*koch.*'),\n",
    "               company_re('25146', 'EQUISTAR CHEMICALS, L.P.', r'.*equistar.*'),\n",
    "               company_re('2552', 'COLONIAL PIPELINE CO', r'.*colonial.*'),\n",
    "               company_re('26125', 'CALNEV PIPELINE CO', r'.*calnev.*'),\n",
    "               company_re('26149', 'ALYESKA PIPELINE SERVICE CO', r'.*alyeska.*'),\n",
    "               company_re('2731', 'CHEVRON PIPE LINE CO', r'.*chevron.*'),\n",
    "               company_re('300', 'PLAINS PIPELINE, L.P.', r'.*plains.*'),\n",
    "               company_re('30781', 'OLYMPIC PIPE LINE COMPANY', r'.*olympic.*'),\n",
    "               company_re('30826', 'WILLIAMS FIELD SERVICES', r'.*williams.*'),\n",
    "               company_re('30829', 'ENTERPRISE CRUDE PIPELINE LLC', r'^enterprise.*'),\n",
    "               company_re('31130', 'DCP MIDSTREAM', r'.*dcp.*'),\n",
    "               company_re('31174', 'SHELL PIPELINE CO., L.P.', r'.*shell.*'),\n",
    "               company_re('31189', 'BP PIPELINE (NORTH AMERICA) INC.', '.*bp.*'),\n",
    "               company_re('31371', 'BUCKEYE DEVELOPMENT & LOGISTICS, LLC', r'.*buckeye.*'),\n",
    "               company_re('31454', 'NUSTAR LOGISTICS, L.P.', r'.*nustar.*'),\n",
    "               company_re('31618', 'ENTERPRISE PRODUCTS OPERATING LLC', r'^enterprise.*'),\n",
    "               company_re('31666', 'ROCKY MOUNTAIN PIPELINE SYSTEM, LLC', r'.*rocky mountain.*'),\n",
    "               company_re('31684', 'CONOCOPHILLIPS', r'.*conocophillips.*'),\n",
    "               company_re('31684', 'PHILLIPS 66 PIPELINE LLC', r'.*phillips.*'),\n",
    "               company_re('31720', 'EXPRESS HOLDINGS (USA), LLC', r'.*express.*'),\n",
    "               company_re('31720', 'KINDER MORGAN PIPELINES (USA) INC', r'.*kinder morgan.*'),\n",
    "               company_re('32011', 'HOLLY ENERGY PARTNERS - OPERATING, L.P.', r'.*holly.*'),\n",
    "               company_re('32080', 'CCPS TRANSPORTATION, LLC', r'.*ccps.*'),\n",
    "               company_re('32099', 'ENERGY TRANSFER COMPANY', r'.*energy transfer.*'),\n",
    "               company_re('32103', 'CRIMSON PIPELINE L.P.', r'.*crimson.*'),\n",
    "               company_re('32109', 'ONEOK NGL PIPELINE LP', r'.*oneok.*'),\n",
    "               company_re('32147', 'MARATHON PIPE LINE LLC', r'.*marathon.*'),\n",
    "               company_re('32258', 'KINDER MORGAN COCHIN LLC', r'.*kinder morgan.*'),\n",
    "               company_re('32334', 'TC OIL PIPELINE OPERATIONS INC', r'.*tc.*'),\n",
    "               company_re('32502', 'ENBRIDGE PIPELINES (SOUTHERN LIGHTS) L.L.C.', r'.*enbridge.*'),\n",
    "               company_re('3445', 'DIXIE PIPELINE', r'.*dixie.*'),\n",
    "               company_re('38933', 'TESORO LOGISTICS OPERATIONS, LLC', r'.*tesoro.*'),\n",
    "               company_re('39029', 'TESORO LOGISTICS NORTHWEST PIPELINE LLC', r'.*tesoro.*'),\n",
    "               company_re('39043', 'TALLGRASS PONY EXPRESS PIPELINE, LLC', r'.*tallgrass.*'),\n",
    "               company_re('39205', 'DAPL-ETCO OPERATIONS MANAGEMENT, LLC', r'.*dapl-etco.*'),\n",
    "               company_re('39398', 'INEOS USA LLC', r'.*ineos.*'),\n",
    "               company_re('395', 'AMOCO OIL CO', r'.*amoco.*'),\n",
    "               company_re('39596', 'PERMIAN EXPRESS PARTNERS LLC', r'.*permian.*'),\n",
    "               company_re('4805', 'EXPLORER PIPELINE CO', r'.*explorer.*'),\n",
    "               company_re('4906', 'EXXONMOBIL PIPELINE CO', r'.*exxonmobil.*')\n",
    "               ]\n",
    "\n",
    "company_res = pd.DataFrame(company_res)\n",
    "assert len(sample.loc[~sample['OPERATOR_ID'].isin(company_res['OPERATOR_ID'])]) == 0\n",
    "company_res.sample(3)"
   ]
  },
  {
   "cell_type": "code",
   "execution_count": 18,
   "metadata": {},
   "outputs": [
    {
     "data": {
      "text/plain": [
       "['.*conocophillips.*', '.*phillips.*']"
      ]
     },
     "execution_count": 18,
     "metadata": {},
     "output_type": "execute_result"
    }
   ],
   "source": [
    "def extract_values(OPERATOR_ID, col, df = company_res, id_col = 'OPERATOR_ID'):\n",
    "    return df.loc[df[id_col] == str(OPERATOR_ID)][col].unique().tolist()\n",
    "\n",
    "extract_res = partial(extract_values, col='re_')\n",
    "extract_res('31684')"
   ]
  },
  {
   "cell_type": "code",
   "execution_count": 19,
   "metadata": {},
   "outputs": [],
   "source": [
    "company_res.to_feather(f'../preprocessed_data/company_res_{today}.feather')"
   ]
  },
  {
   "cell_type": "markdown",
   "metadata": {},
   "source": [
    "### 7.2.1 Check regular expression validity"
   ]
  },
  {
   "cell_type": "code",
   "execution_count": 20,
   "metadata": {},
   "outputs": [],
   "source": [
    "for _, expression in company_res['re_'].items():\n",
    "    matches = sample[sample['NAME'].str.match(expression, case=False)]\n",
    "    if len(matches) == 0:\n",
    "        print(f'Regular expression {expression} does not match anything!')"
   ]
  },
  {
   "cell_type": "markdown",
   "metadata": {},
   "source": [
    "### 7.2.2 Function to find namesakes"
   ]
  },
  {
   "cell_type": "code",
   "execution_count": 21,
   "metadata": {},
   "outputs": [
    {
     "data": {
      "text/html": [
       "<div>\n",
       "<style scoped>\n",
       "    .dataframe tbody tr th:only-of-type {\n",
       "        vertical-align: middle;\n",
       "    }\n",
       "\n",
       "    .dataframe tbody tr th {\n",
       "        vertical-align: top;\n",
       "    }\n",
       "\n",
       "    .dataframe thead th {\n",
       "        text-align: right;\n",
       "    }\n",
       "</style>\n",
       "<table border=\"1\" class=\"dataframe\">\n",
       "  <thead>\n",
       "    <tr style=\"text-align: right;\">\n",
       "      <th></th>\n",
       "      <th>OPERATOR_ID</th>\n",
       "      <th>NAME</th>\n",
       "    </tr>\n",
       "  </thead>\n",
       "  <tbody>\n",
       "    <tr>\n",
       "      <th>118</th>\n",
       "      <td>4906</td>\n",
       "      <td>EXXONMOBIL PIPELINE CO</td>\n",
       "    </tr>\n",
       "    <tr>\n",
       "      <th>193</th>\n",
       "      <td>12628</td>\n",
       "      <td>EXXONMOBIL PIPELINE CO</td>\n",
       "    </tr>\n",
       "  </tbody>\n",
       "</table>\n",
       "</div>"
      ],
      "text/plain": [
       "    OPERATOR_ID                    NAME\n",
       "118        4906  EXXONMOBIL PIPELINE CO\n",
       "193       12628  EXXONMOBIL PIPELINE CO"
      ]
     },
     "execution_count": 21,
     "metadata": {},
     "output_type": "execute_result"
    }
   ],
   "source": [
    "def find_namesakes(re_, df = sample, col = 'NAME', id_col = 'OPERATOR_ID'):\n",
    "    if isinstance(re_, str):\n",
    "        re_ = [re_]\n",
    "    \n",
    "    if len(re_) == 1:\n",
    "        results = df.loc[df[col].str.match(re_[0], case=False)][['OPERATOR_ID', 'NAME']].drop_duplicates()\n",
    "        return results\n",
    "        \n",
    "    if len(re_) > 1:\n",
    "        results = pd.DataFrame()\n",
    "        for expression in re_:\n",
    "            results = results.append(find_namesakes(expression))\n",
    "        return(results)\n",
    "    \n",
    "find_namesakes(r'.*exxonmobil.*')"
   ]
  },
  {
   "cell_type": "markdown",
   "metadata": {},
   "source": [
    "## 7.3 Create main loop"
   ]
  },
  {
   "cell_type": "code",
   "execution_count": 22,
   "metadata": {},
   "outputs": [],
   "source": [
    "from IPython.core.debugger import set_trace\n",
    "\n",
    "def analyze_sample():    \n",
    "    parents_handled = []\n",
    "    namesakes_handled = []\n",
    "    messages = []\n",
    "    \n",
    "    for _, id_ in largest_observations_ordered['OPERATOR_ID'][:50].iteritems():\n",
    "        current_name = find_latest_name(id_)\n",
    "        message = ''\n",
    "\n",
    "        names = find_names(id_)\n",
    "        if len(names) > 1:\n",
    "            message += f\"\\n{current_name} (OPERATOR_ID {id_}) has changed its name:\\n\"\n",
    "            for name in names:\n",
    "                message += f\"\\n\\tWas named {name['name']} from {name['start_year']} to {name['end_year']}.\\n\"\n",
    "        \n",
    "        same_parent = compare_parents(id_)\n",
    "        same_parent_names = [sibling[1] for sibling in same_parent]\n",
    "        same_parent_ids = [sibling[0] for sibling in same_parent]      \n",
    "\n",
    "        if (id_) not in parents_handled:\n",
    "            if same_parent:\n",
    "                message += f\"\\n{current_name} (OPERATOR_ID {id_}) has the same parent company as:\\n\"\n",
    "                for sibling in same_parent:\n",
    "                    message += f\"\\n\\t{sibling[1]} (OPERATOR_ID {sibling[0]})\\n\"\n",
    "                parents_handled = parents_handled + [sibling[0] for sibling in same_parent]\n",
    "        \n",
    "        re_ = extract_res(id_)\n",
    "        namesakes = find_namesakes(re_)\n",
    "        namesakes = namesakes.loc[~namesakes['NAME'].isin(same_parent_names)]\n",
    "        namesakes = namesakes.loc[~namesakes['OPERATOR_ID'].isin(same_parent_names)]\n",
    "        namesakes = namesakes[~(namesakes['OPERATOR_ID'] == id_)]\n",
    "        if len(namesakes) > 0 and set(namesakes['OPERATOR_ID']) not in namesakes_handled:\n",
    "            namesakes_handled = namesakes_handled + [set(namesakes['OPERATOR_ID'])]\n",
    "            \n",
    "            message += f\"\\n{current_name} (OPERATOR_ID {id_}) may have a namesake or namesakes:\\n\"\n",
    "            for _, row in namesakes.iterrows():\n",
    "                message += f\"\\n\\t{row['NAME']} (OPERATOR_ID {row['OPERATOR_ID']})\\n\"\n",
    "\n",
    "        if message:\n",
    "            messages.append(message)\n",
    "            \n",
    "    return messages"
   ]
  },
  {
   "cell_type": "code",
   "execution_count": 23,
   "metadata": {},
   "outputs": [],
   "source": [
    "import pickle\n",
    "\n",
    "issues_to_address = analyze_sample()\n",
    "with open(f'../preprocessed_data/issues_to_address_{today}.pickle', 'wb') as file:\n",
    "    pickle.dump(issues_to_address, file)"
   ]
  }
 ],
 "metadata": {
  "kernelspec": {
   "display_name": "oil_industry",
   "language": "python",
   "name": "oil_industry"
  },
  "language_info": {
   "codemirror_mode": {
    "name": "ipython",
    "version": 3
   },
   "file_extension": ".py",
   "mimetype": "text/x-python",
   "name": "python",
   "nbconvert_exporter": "python",
   "pygments_lexer": "ipython3",
   "version": "3.6.8"
  }
 },
 "nbformat": 4,
 "nbformat_minor": 4
}
