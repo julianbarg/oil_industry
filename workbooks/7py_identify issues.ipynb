{
 "cells": [
  {
   "cell_type": "markdown",
   "metadata": {},
   "source": [
    "# 7. (Functions to) identify all data issue"
   ]
  },
  {
   "cell_type": "code",
   "execution_count": 1,
   "metadata": {},
   "outputs": [],
   "source": [
    "pipeline_2010_selected_file = '../preprocessed_data/pipelines_2010_selected_2019-08-22.feather'\n",
    "incidents_selected_file = '../preprocessed_data/incidents_selected_2019-08-22.feather'\n",
    "largest_observations_file = '../preprocessed_data/largest_companies_2019-09-01.feather'\n",
    "sample_file = '../preprocessed_data/sample_2019-09-02.feather'\n",
    "\n",
    "pipelines_2010_raw_file = '../data/pipelines_2010_2019-08-11.feather'\n",
    "incidents_raw = '../data/incidents_2019-08-11.feather'\n",
    "regular_impressions_file = '../input/company_names_res_2019-09-01.csv'"
   ]
  },
  {
   "cell_type": "code",
   "execution_count": 2,
   "metadata": {},
   "outputs": [],
   "source": [
    "sample_len = 150"
   ]
  },
  {
   "cell_type": "markdown",
   "metadata": {},
   "source": [
    "## Setup"
   ]
  },
  {
   "cell_type": "code",
   "execution_count": 3,
   "metadata": {},
   "outputs": [],
   "source": [
    "import pandas as pd\n",
    "import numpy as np\n",
    "from datetime import date\n",
    "from functools import partial\n",
    "\n",
    "today = date.today().isoformat()"
   ]
  },
  {
   "cell_type": "code",
   "execution_count": 4,
   "metadata": {},
   "outputs": [
    {
     "name": "stdout",
     "output_type": "stream",
     "text": [
      "Loading library list...\n",
      "Done\n"
     ]
    }
   ],
   "source": [
    "import wrds\n",
    "\n",
    "db = wrds.Connection(wrds_username='juujian')"
   ]
  },
  {
   "cell_type": "markdown",
   "metadata": {},
   "source": [
    "# Load data"
   ]
  },
  {
   "cell_type": "code",
   "execution_count": 5,
   "metadata": {},
   "outputs": [
    {
     "data": {
      "text/html": [
       "<div>\n",
       "<style scoped>\n",
       "    .dataframe tbody tr th:only-of-type {\n",
       "        vertical-align: middle;\n",
       "    }\n",
       "\n",
       "    .dataframe tbody tr th {\n",
       "        vertical-align: top;\n",
       "    }\n",
       "\n",
       "    .dataframe thead th {\n",
       "        text-align: right;\n",
       "    }\n",
       "</style>\n",
       "<table border=\"1\" class=\"dataframe\">\n",
       "  <thead>\n",
       "    <tr style=\"text-align: right;\">\n",
       "      <th></th>\n",
       "      <th>OPERATOR_ID</th>\n",
       "      <th>YEAR</th>\n",
       "      <th>NAME</th>\n",
       "      <th>COMMODITY</th>\n",
       "      <th>MILES</th>\n",
       "      <th>AGE_UNKNOWN_MILES</th>\n",
       "      <th>PRE_1940_MILES</th>\n",
       "      <th>1940_MILES</th>\n",
       "      <th>1950_MILES</th>\n",
       "      <th>1960_MILES</th>\n",
       "      <th>1970_MILES</th>\n",
       "      <th>1980_MILES</th>\n",
       "      <th>1990_MILES</th>\n",
       "      <th>2000_MILES</th>\n",
       "      <th>2010_MILES</th>\n",
       "      <th>PERC_OFFSHORE</th>\n",
       "      <th>AVG_AGE</th>\n",
       "    </tr>\n",
       "  </thead>\n",
       "  <tbody>\n",
       "    <tr>\n",
       "      <th>2945</th>\n",
       "      <td>31563</td>\n",
       "      <td>2010</td>\n",
       "      <td>WHITECAP PIPE LINE COMPANY, L.L.C.</td>\n",
       "      <td>Crude Oil</td>\n",
       "      <td>NaN</td>\n",
       "      <td>0.0</td>\n",
       "      <td>0.0</td>\n",
       "      <td>0.0</td>\n",
       "      <td>0.0</td>\n",
       "      <td>0.0</td>\n",
       "      <td>0.0</td>\n",
       "      <td>0.0</td>\n",
       "      <td>0.0</td>\n",
       "      <td>0.0</td>\n",
       "      <td>0.0</td>\n",
       "      <td>0.0</td>\n",
       "      <td>NaN</td>\n",
       "    </tr>\n",
       "    <tr>\n",
       "      <th>1755</th>\n",
       "      <td>15915</td>\n",
       "      <td>2012</td>\n",
       "      <td>PIPELINES OF PUERTO RICO INCD, THE</td>\n",
       "      <td>Refined and/or Petroleum Product (non-HVL)</td>\n",
       "      <td>9.5</td>\n",
       "      <td>0.0</td>\n",
       "      <td>0.0</td>\n",
       "      <td>0.0</td>\n",
       "      <td>0.0</td>\n",
       "      <td>8.5</td>\n",
       "      <td>0.0</td>\n",
       "      <td>0.0</td>\n",
       "      <td>0.0</td>\n",
       "      <td>0.0</td>\n",
       "      <td>0.0</td>\n",
       "      <td>0.0</td>\n",
       "      <td>55.0</td>\n",
       "    </tr>\n",
       "  </tbody>\n",
       "</table>\n",
       "</div>"
      ],
      "text/plain": [
       "     OPERATOR_ID  YEAR                                NAME  \\\n",
       "2945       31563  2010  WHITECAP PIPE LINE COMPANY, L.L.C.   \n",
       "1755       15915  2012  PIPELINES OF PUERTO RICO INCD, THE   \n",
       "\n",
       "                                       COMMODITY  MILES  AGE_UNKNOWN_MILES  \\\n",
       "2945                                   Crude Oil    NaN                0.0   \n",
       "1755  Refined and/or Petroleum Product (non-HVL)    9.5                0.0   \n",
       "\n",
       "      PRE_1940_MILES  1940_MILES  1950_MILES  1960_MILES  1970_MILES  \\\n",
       "2945             0.0         0.0         0.0         0.0         0.0   \n",
       "1755             0.0         0.0         0.0         8.5         0.0   \n",
       "\n",
       "      1980_MILES  1990_MILES  2000_MILES  2010_MILES  PERC_OFFSHORE  AVG_AGE  \n",
       "2945         0.0         0.0         0.0         0.0            0.0      NaN  \n",
       "1755         0.0         0.0         0.0         0.0            0.0     55.0  "
      ]
     },
     "execution_count": 5,
     "metadata": {},
     "output_type": "execute_result"
    }
   ],
   "source": [
    "pipelines_2010 = pd.read_feather(pipeline_2010_selected_file)\n",
    "pipelines_2010.sample(2)"
   ]
  },
  {
   "cell_type": "code",
   "execution_count": 6,
   "metadata": {},
   "outputs": [
    {
     "data": {
      "text/html": [
       "<div>\n",
       "<style scoped>\n",
       "    .dataframe tbody tr th:only-of-type {\n",
       "        vertical-align: middle;\n",
       "    }\n",
       "\n",
       "    .dataframe tbody tr th {\n",
       "        vertical-align: top;\n",
       "    }\n",
       "\n",
       "    .dataframe thead th {\n",
       "        text-align: right;\n",
       "    }\n",
       "</style>\n",
       "<table border=\"1\" class=\"dataframe\">\n",
       "  <thead>\n",
       "    <tr style=\"text-align: right;\">\n",
       "      <th></th>\n",
       "      <th>OPERATOR_ID</th>\n",
       "      <th>LOCAL_DATETIME</th>\n",
       "      <th>NAME</th>\n",
       "      <th>COMMODITY</th>\n",
       "      <th>SERIOUS</th>\n",
       "      <th>SIGNIFICANT</th>\n",
       "      <th>LOCATION_LATITUDE</th>\n",
       "      <th>LOCATION_LONGITUDE</th>\n",
       "      <th>ONSHORE</th>\n",
       "    </tr>\n",
       "  </thead>\n",
       "  <tbody>\n",
       "    <tr>\n",
       "      <th>311</th>\n",
       "      <td>22610</td>\n",
       "      <td>2010-12-05 20:30:00</td>\n",
       "      <td>MAGELLAN PIPELINE COMPANY, LP</td>\n",
       "      <td>REFINED AND/OR PETROLEUM PRODUCT (NON-HVL) WHI...</td>\n",
       "      <td>False</td>\n",
       "      <td>False</td>\n",
       "      <td>39.13805</td>\n",
       "      <td>-94.60250</td>\n",
       "      <td>True</td>\n",
       "    </tr>\n",
       "    <tr>\n",
       "      <th>3546</th>\n",
       "      <td>32551</td>\n",
       "      <td>2018-11-02 15:00:00</td>\n",
       "      <td>BKEP PIPELINE, LLC</td>\n",
       "      <td>CRUDE OIL</td>\n",
       "      <td>False</td>\n",
       "      <td>True</td>\n",
       "      <td>34.77353</td>\n",
       "      <td>-97.44631</td>\n",
       "      <td>True</td>\n",
       "    </tr>\n",
       "  </tbody>\n",
       "</table>\n",
       "</div>"
      ],
      "text/plain": [
       "     OPERATOR_ID      LOCAL_DATETIME                           NAME  \\\n",
       "311        22610 2010-12-05 20:30:00  MAGELLAN PIPELINE COMPANY, LP   \n",
       "3546       32551 2018-11-02 15:00:00             BKEP PIPELINE, LLC   \n",
       "\n",
       "                                              COMMODITY  SERIOUS  SIGNIFICANT  \\\n",
       "311   REFINED AND/OR PETROLEUM PRODUCT (NON-HVL) WHI...    False        False   \n",
       "3546                                          CRUDE OIL    False         True   \n",
       "\n",
       "      LOCATION_LATITUDE  LOCATION_LONGITUDE  ONSHORE  \n",
       "311            39.13805           -94.60250     True  \n",
       "3546           34.77353           -97.44631     True  "
      ]
     },
     "execution_count": 6,
     "metadata": {},
     "output_type": "execute_result"
    }
   ],
   "source": [
    "incidents = pd.read_feather(incidents_selected_file)\n",
    "incidents.sample(2)"
   ]
  },
  {
   "cell_type": "code",
   "execution_count": 7,
   "metadata": {},
   "outputs": [
    {
     "data": {
      "text/html": [
       "<div>\n",
       "<style scoped>\n",
       "    .dataframe tbody tr th:only-of-type {\n",
       "        vertical-align: middle;\n",
       "    }\n",
       "\n",
       "    .dataframe tbody tr th {\n",
       "        vertical-align: top;\n",
       "    }\n",
       "\n",
       "    .dataframe thead th {\n",
       "        text-align: right;\n",
       "    }\n",
       "</style>\n",
       "<table border=\"1\" class=\"dataframe\">\n",
       "  <thead>\n",
       "    <tr style=\"text-align: right;\">\n",
       "      <th></th>\n",
       "      <th>OPERATOR_ID</th>\n",
       "      <th>YEAR</th>\n",
       "      <th>NAME</th>\n",
       "      <th>COMMODITY</th>\n",
       "      <th>MILES</th>\n",
       "      <th>AGE_UNKNOWN_MILES</th>\n",
       "      <th>MILES_PRE_1940</th>\n",
       "      <th>MILES_1940</th>\n",
       "      <th>MILES_1950</th>\n",
       "      <th>MILES_1960</th>\n",
       "      <th>MILES_1970</th>\n",
       "      <th>MILES_1980</th>\n",
       "      <th>MILES_1990</th>\n",
       "      <th>MILES_2000</th>\n",
       "      <th>MILES_2010</th>\n",
       "      <th>PERC_OFFSHORE</th>\n",
       "      <th>AVG_AGE</th>\n",
       "      <th>PARENT</th>\n",
       "      <th>INCIDENTS</th>\n",
       "      <th>SIGNIFICANT_INCIDENTS</th>\n",
       "    </tr>\n",
       "  </thead>\n",
       "  <tbody>\n",
       "    <tr>\n",
       "      <th>1659</th>\n",
       "      <td>39205</td>\n",
       "      <td>2017</td>\n",
       "      <td>DAPL-ETCO OPERATIONS MANAGEMENT, LLC</td>\n",
       "      <td>crude</td>\n",
       "      <td>795.900</td>\n",
       "      <td>0.0</td>\n",
       "      <td>0.0</td>\n",
       "      <td>0.0</td>\n",
       "      <td>0.0</td>\n",
       "      <td>0.000</td>\n",
       "      <td>0.130</td>\n",
       "      <td>0.000</td>\n",
       "      <td>0.0</td>\n",
       "      <td>0.050</td>\n",
       "      <td>129.170</td>\n",
       "      <td>0.0</td>\n",
       "      <td>5.044066</td>\n",
       "      <td>Energy Transfer</td>\n",
       "      <td>7.0</td>\n",
       "      <td>1.0</td>\n",
       "    </tr>\n",
       "    <tr>\n",
       "      <th>1642</th>\n",
       "      <td>39105</td>\n",
       "      <td>2016</td>\n",
       "      <td>VALERO PARTNERS OPERATING CO. LLC</td>\n",
       "      <td>non-hvl</td>\n",
       "      <td>57.315</td>\n",
       "      <td>0.0</td>\n",
       "      <td>0.0</td>\n",
       "      <td>0.0</td>\n",
       "      <td>0.0</td>\n",
       "      <td>2.848</td>\n",
       "      <td>25.322</td>\n",
       "      <td>10.732</td>\n",
       "      <td>0.0</td>\n",
       "      <td>16.589</td>\n",
       "      <td>5.857</td>\n",
       "      <td>0.0</td>\n",
       "      <td>31.783758</td>\n",
       "      <td>Valero Energy Corporation</td>\n",
       "      <td>0.0</td>\n",
       "      <td>0.0</td>\n",
       "    </tr>\n",
       "  </tbody>\n",
       "</table>\n",
       "</div>"
      ],
      "text/plain": [
       "     OPERATOR_ID  YEAR                                  NAME COMMODITY  \\\n",
       "1659       39205  2017  DAPL-ETCO OPERATIONS MANAGEMENT, LLC     crude   \n",
       "1642       39105  2016     VALERO PARTNERS OPERATING CO. LLC   non-hvl   \n",
       "\n",
       "        MILES  AGE_UNKNOWN_MILES  MILES_PRE_1940  MILES_1940  MILES_1950  \\\n",
       "1659  795.900                0.0             0.0         0.0         0.0   \n",
       "1642   57.315                0.0             0.0         0.0         0.0   \n",
       "\n",
       "      MILES_1960  MILES_1970  MILES_1980  MILES_1990  MILES_2000  MILES_2010  \\\n",
       "1659       0.000       0.130       0.000         0.0       0.050     129.170   \n",
       "1642       2.848      25.322      10.732         0.0      16.589       5.857   \n",
       "\n",
       "      PERC_OFFSHORE    AVG_AGE                     PARENT  INCIDENTS  \\\n",
       "1659            0.0   5.044066            Energy Transfer        7.0   \n",
       "1642            0.0  31.783758  Valero Energy Corporation        0.0   \n",
       "\n",
       "      SIGNIFICANT_INCIDENTS  \n",
       "1659                    1.0  \n",
       "1642                    0.0  "
      ]
     },
     "execution_count": 7,
     "metadata": {},
     "output_type": "execute_result"
    }
   ],
   "source": [
    "sample = pd.read_feather(sample_file)\n",
    "sample.sample(2)"
   ]
  },
  {
   "cell_type": "code",
   "execution_count": 8,
   "metadata": {},
   "outputs": [
    {
     "data": {
      "text/html": [
       "<div>\n",
       "<style scoped>\n",
       "    .dataframe tbody tr th:only-of-type {\n",
       "        vertical-align: middle;\n",
       "    }\n",
       "\n",
       "    .dataframe tbody tr th {\n",
       "        vertical-align: top;\n",
       "    }\n",
       "\n",
       "    .dataframe thead th {\n",
       "        text-align: right;\n",
       "    }\n",
       "</style>\n",
       "<table border=\"1\" class=\"dataframe\">\n",
       "  <thead>\n",
       "    <tr style=\"text-align: right;\">\n",
       "      <th></th>\n",
       "      <th>OPERATOR_ID</th>\n",
       "      <th>YEAR</th>\n",
       "      <th>NAME</th>\n",
       "      <th>TOTAL_MILES</th>\n",
       "    </tr>\n",
       "  </thead>\n",
       "  <tbody>\n",
       "    <tr>\n",
       "      <th>0</th>\n",
       "      <td>31618</td>\n",
       "      <td>2018.0</td>\n",
       "      <td>ENTERPRISE PRODUCTS OPERATING LLC</td>\n",
       "      <td>8311.369</td>\n",
       "    </tr>\n",
       "    <tr>\n",
       "      <th>1</th>\n",
       "      <td>32109</td>\n",
       "      <td>2018.0</td>\n",
       "      <td>ONEOK NGL PIPELINE, LLC</td>\n",
       "      <td>4756.610</td>\n",
       "    </tr>\n",
       "    <tr>\n",
       "      <th>2</th>\n",
       "      <td>22610</td>\n",
       "      <td>2014.0</td>\n",
       "      <td>MAGELLAN PIPELINE COMPANY, LP</td>\n",
       "      <td>4505.500</td>\n",
       "    </tr>\n",
       "    <tr>\n",
       "      <th>3</th>\n",
       "      <td>2552</td>\n",
       "      <td>2015.0</td>\n",
       "      <td>COLONIAL PIPELINE CO</td>\n",
       "      <td>4500.920</td>\n",
       "    </tr>\n",
       "    <tr>\n",
       "      <th>4</th>\n",
       "      <td>31684</td>\n",
       "      <td>2017.0</td>\n",
       "      <td>PHILLIPS 66 PIPELINE LLC</td>\n",
       "      <td>4474.100</td>\n",
       "    </tr>\n",
       "  </tbody>\n",
       "</table>\n",
       "</div>"
      ],
      "text/plain": [
       "  OPERATOR_ID    YEAR                               NAME  TOTAL_MILES\n",
       "0       31618  2018.0  ENTERPRISE PRODUCTS OPERATING LLC     8311.369\n",
       "1       32109  2018.0            ONEOK NGL PIPELINE, LLC     4756.610\n",
       "2       22610  2014.0      MAGELLAN PIPELINE COMPANY, LP     4505.500\n",
       "3        2552  2015.0               COLONIAL PIPELINE CO     4500.920\n",
       "4       31684  2017.0           PHILLIPS 66 PIPELINE LLC     4474.100"
      ]
     },
     "execution_count": 8,
     "metadata": {},
     "output_type": "execute_result"
    }
   ],
   "source": [
    "largest_observations_ordered = pd.read_feather(largest_observations_file)\n",
    "largest_observations_ordered.head(5)"
   ]
  },
  {
   "cell_type": "code",
   "execution_count": 9,
   "metadata": {},
   "outputs": [],
   "source": [
    "pipelines_2010_raw = pd.read_feather(pipelines_2010_raw_file)"
   ]
  },
  {
   "cell_type": "markdown",
   "metadata": {},
   "source": [
    "## 7.1 Define functions for analysis"
   ]
  },
  {
   "cell_type": "markdown",
   "metadata": {},
   "source": [
    "### 7.1.1 Functions to compare with raw data"
   ]
  },
  {
   "cell_type": "code",
   "execution_count": 10,
   "metadata": {},
   "outputs": [
    {
     "data": {
      "text/plain": [
       "[{'name': 'EXXONMOBIL PIPELINE CO', 'start_year': 2010, 'end_year': 2018}]"
      ]
     },
     "execution_count": 10,
     "metadata": {},
     "output_type": "execute_result"
    }
   ],
   "source": [
    "def find_info(OPERATOR_ID, info_col: str, title: str, df = pipelines_2010_raw, id_col = 'OPERATOR_ID', \n",
    "              year_col = 'REPORT_YEAR', fuzzy=False):\n",
    "    from fuzzywuzzy import fuzz\n",
    "    \n",
    "    values = np.unique(df[df[id_col] == int(OPERATOR_ID)][info_col]).tolist()\n",
    "    result = []\n",
    "    for value in values:\n",
    "        start_year = df[df[info_col] == value][year_col].min()\n",
    "        end_year = df[df[info_col] == value][year_col].max()\n",
    "        result = result + [{title: value, 'start_year': start_year, 'end_year': end_year}]\n",
    "        \n",
    "    if fuzzy and len(result) == 2 and fuzz.ratio(result[0][title].lower(), result[1][title].lower()) >= 95:\n",
    "            result = [result[0]]\n",
    "            \n",
    "    return(result)\n",
    "\n",
    "find_address = partial(find_info, info_col='PARTA4STREET', title='address')\n",
    "find_names = partial(find_info, info_col='PARTA2NAMEOFCOMP', title='name', fuzzy=True)\n",
    "find_names('4906')"
   ]
  },
  {
   "cell_type": "code",
   "execution_count": 11,
   "metadata": {},
   "outputs": [
    {
     "data": {
      "text/plain": [
       "'MID - VALLEY PIPELINE CO'"
      ]
     },
     "execution_count": 11,
     "metadata": {},
     "output_type": "execute_result"
    }
   ],
   "source": [
    "import operator\n",
    "\n",
    "def find_latest_info(OPERATOR_ID, info_col: str, df = pipelines_2010_raw, \n",
    "                     id_col = 'OPERATOR_ID', year_col = 'REPORT_YEAR'):\n",
    "    data_points = find_info(OPERATOR_ID=OPERATOR_ID, info_col=info_col, title='value', \n",
    "                            id_col=id_col, year_col=year_col, fuzzy=False)\n",
    "    latest_info = max(data_points.__iter__(), key=operator.itemgetter('end_year'))['value']\n",
    "    return latest_info\n",
    "\n",
    "find_latest_name = partial(find_latest_info, info_col='PARTA2NAMEOFCOMP')\n",
    "find_latest_name('12470')"
   ]
  },
  {
   "cell_type": "markdown",
   "metadata": {},
   "source": [
    "### 7.1.2 Compare parents"
   ]
  },
  {
   "cell_type": "code",
   "execution_count": 12,
   "metadata": {},
   "outputs": [
    {
     "data": {
      "text/plain": [
       "'Plains GP Holding'"
      ]
     },
     "execution_count": 12,
     "metadata": {},
     "output_type": "execute_result"
    }
   ],
   "source": [
    "def extract_value(OPERATOR_ID, col, df = sample, id_col = 'OPERATOR_ID'):\n",
    "    candidates = df.loc[df[id_col] == OPERATOR_ID][col].unique()\n",
    "    if len(candidates) == 1:\n",
    "        return(candidates[0])\n",
    "    elif len(candidates) == 0:\n",
    "        raise LookupError (f'OPERATOR_ID or {col} not found.')\n",
    "    elif len(candidates) > 1:\n",
    "        raise LookupError (f'More than one value found for {col}.')\n",
    "        \n",
    "extract_parent = partial(extract_value, col='PARENT')\n",
    "extract_parent('300')"
   ]
  },
  {
   "cell_type": "code",
   "execution_count": 13,
   "metadata": {},
   "outputs": [
    {
     "data": {
      "text/plain": [
       "[('15774', 'NORTH DAKOTA PIPELINE COMPANY LLC'),\n",
       " ('26026', 'MARKWEST RANGER PIPELINE COMPANY, L.L.C.'),\n",
       " ('31570', 'TESORO HIGH PLAINS PIPELINE COMPANY LLC'),\n",
       " ('31574', 'WESTERN REFINING LOGISTICS, LP'),\n",
       " ('32147', 'MARATHON PIPE LINE LLC'),\n",
       " ('38933', 'TESORO LOGISTICS OPERATIONS, LLC'),\n",
       " ('39013', 'TESORO SOCAL PIPELINE COMPANY LLC'),\n",
       " ('39029', 'TESORO LOGISTICS NORTHWEST PIPELINE LLC'),\n",
       " ('39347', 'ILLINOIS EXTENSION PIPELINE COMPANY, L.L.C.')]"
      ]
     },
     "execution_count": 13,
     "metadata": {},
     "output_type": "execute_result"
    }
   ],
   "source": [
    "def compare_values(OPERATOR_ID, col, df = sample, id_col = 'OPERATOR_ID'):\n",
    "    value = extract_value(OPERATOR_ID, col=col, df=df, id_col=id_col)\n",
    "    rows = df.loc[df[col] == value]\n",
    "    ids_with_same_values = rows[id_col].unique().tolist()\n",
    "    ids_with_same_values.remove(OPERATOR_ID)\n",
    "    name_with_same_values = [find_latest_name(id_) for id_ in ids_with_same_values]\n",
    "    return(list(zip(ids_with_same_values, name_with_same_values)))\n",
    "    \n",
    "compare_parents = partial(compare_values, col='PARENT')\n",
    "compare_parents('22830')"
   ]
  },
  {
   "cell_type": "markdown",
   "metadata": {},
   "source": [
    "## 7.2 Create regular expressions"
   ]
  },
  {
   "cell_type": "code",
   "execution_count": 14,
   "metadata": {},
   "outputs": [],
   "source": [
    "ids = sample['OPERATOR_ID'].unique()"
   ]
  },
  {
   "cell_type": "code",
   "execution_count": 15,
   "metadata": {},
   "outputs": [],
   "source": [
    "entry = []\n",
    "for id_ in ids:\n",
    "    entry = entry + [[id_, entry['name']] for entry in find_names(id_)]\n",
    "\n",
    "pd.DataFrame(entry, columns = ['OPERATOR_ID', 'NAME']).to_csv(f'../input/company_names_{today}.csv', index=False)"
   ]
  },
  {
   "cell_type": "markdown",
   "metadata": {},
   "source": [
    "For this step, we modify the exported company names file before importing the resulting .csv back into python."
   ]
  },
  {
   "cell_type": "code",
   "execution_count": 16,
   "metadata": {},
   "outputs": [
    {
     "data": {
      "text/html": [
       "<div>\n",
       "<style scoped>\n",
       "    .dataframe tbody tr th:only-of-type {\n",
       "        vertical-align: middle;\n",
       "    }\n",
       "\n",
       "    .dataframe tbody tr th {\n",
       "        vertical-align: top;\n",
       "    }\n",
       "\n",
       "    .dataframe thead th {\n",
       "        text-align: right;\n",
       "    }\n",
       "</style>\n",
       "<table border=\"1\" class=\"dataframe\">\n",
       "  <thead>\n",
       "    <tr style=\"text-align: right;\">\n",
       "      <th></th>\n",
       "      <th>OPERATOR_ID</th>\n",
       "      <th>NAME</th>\n",
       "      <th>RES</th>\n",
       "    </tr>\n",
       "  </thead>\n",
       "  <tbody>\n",
       "    <tr>\n",
       "      <th>57</th>\n",
       "      <td>26026</td>\n",
       "      <td>MARKWEST ENERGY APPALACHIA, LLC</td>\n",
       "      <td>.*markwest.*</td>\n",
       "    </tr>\n",
       "    <tr>\n",
       "      <th>153</th>\n",
       "      <td>39205</td>\n",
       "      <td>DAPL-ETCO OPERATIONS MANAGEMENT, LLC</td>\n",
       "      <td>.*dapl.*</td>\n",
       "    </tr>\n",
       "    <tr>\n",
       "      <th>24</th>\n",
       "      <td>11551</td>\n",
       "      <td>LION OIL TRADING &amp; TRANSPORTATION, INC</td>\n",
       "      <td>.*lion\\soil.*</td>\n",
       "    </tr>\n",
       "    <tr>\n",
       "      <th>162</th>\n",
       "      <td>39535</td>\n",
       "      <td>TORRANCE PIPELINE COMPANY LLC</td>\n",
       "      <td>.*torrance.*</td>\n",
       "    </tr>\n",
       "    <tr>\n",
       "      <th>138</th>\n",
       "      <td>32543</td>\n",
       "      <td>DENBURY GREEN PIPELINE-TEXAS, LLC</td>\n",
       "      <td>.*denbury.*</td>\n",
       "    </tr>\n",
       "  </tbody>\n",
       "</table>\n",
       "</div>"
      ],
      "text/plain": [
       "     OPERATOR_ID                                    NAME            RES\n",
       "57         26026         MARKWEST ENERGY APPALACHIA, LLC   .*markwest.*\n",
       "153        39205    DAPL-ETCO OPERATIONS MANAGEMENT, LLC       .*dapl.*\n",
       "24         11551  LION OIL TRADING & TRANSPORTATION, INC  .*lion\\soil.*\n",
       "162        39535           TORRANCE PIPELINE COMPANY LLC   .*torrance.*\n",
       "138        32543       DENBURY GREEN PIPELINE-TEXAS, LLC    .*denbury.*"
      ]
     },
     "execution_count": 16,
     "metadata": {},
     "output_type": "execute_result"
    }
   ],
   "source": [
    "company_res = pd.read_csv(regular_impressions_file)\n",
    "company_res.sample(5)"
   ]
  },
  {
   "cell_type": "code",
   "execution_count": 17,
   "metadata": {},
   "outputs": [
    {
     "data": {
      "text/plain": [
       "OPERATOR_ID     int64\n",
       "NAME           object\n",
       "RES            object\n",
       "dtype: object"
      ]
     },
     "execution_count": 17,
     "metadata": {},
     "output_type": "execute_result"
    }
   ],
   "source": [
    "company_res.dtypes"
   ]
  },
  {
   "cell_type": "code",
   "execution_count": 18,
   "metadata": {},
   "outputs": [
    {
     "data": {
      "text/plain": [
       "OPERATOR_ID    object\n",
       "NAME           object\n",
       "RES            object\n",
       "dtype: object"
      ]
     },
     "execution_count": 18,
     "metadata": {},
     "output_type": "execute_result"
    }
   ],
   "source": [
    "company_res['OPERATOR_ID'] = company_res['OPERATOR_ID'].astype('str')\n",
    "company_res.dtypes"
   ]
  },
  {
   "cell_type": "code",
   "execution_count": 19,
   "metadata": {},
   "outputs": [
    {
     "data": {
      "text/plain": [
       "['.*conocophillips.*', '.*phillips\\\\s66.*']"
      ]
     },
     "execution_count": 19,
     "metadata": {},
     "output_type": "execute_result"
    }
   ],
   "source": [
    "def extract_values(OPERATOR_ID, col, df = company_res, id_col = 'OPERATOR_ID'):\n",
    "    return df.loc[df[id_col] == str(OPERATOR_ID)][col].unique().tolist()\n",
    "\n",
    "extract_res = partial(extract_values, col='RES')\n",
    "extract_res('31684')"
   ]
  },
  {
   "cell_type": "code",
   "execution_count": 20,
   "metadata": {},
   "outputs": [],
   "source": [
    "company_res.to_feather(f'../preprocessed_data/company_res_{today}.feather')"
   ]
  },
  {
   "cell_type": "markdown",
   "metadata": {},
   "source": [
    "### 7.2.1 Check regular expression validity"
   ]
  },
  {
   "cell_type": "code",
   "execution_count": 21,
   "metadata": {},
   "outputs": [],
   "source": [
    "for _, expression in company_res['RES'].items():\n",
    "    matches = sample[sample['NAME'].str.match(pat=expression, case=False)]\n",
    "    if len(matches) == 0:\n",
    "        print(f'Regular expression {expression} does not match anything!')"
   ]
  },
  {
   "cell_type": "markdown",
   "metadata": {},
   "source": [
    "### 7.2.2 Function to find namesakes"
   ]
  },
  {
   "cell_type": "code",
   "execution_count": 22,
   "metadata": {},
   "outputs": [
    {
     "data": {
      "text/html": [
       "<div>\n",
       "<style scoped>\n",
       "    .dataframe tbody tr th:only-of-type {\n",
       "        vertical-align: middle;\n",
       "    }\n",
       "\n",
       "    .dataframe tbody tr th {\n",
       "        vertical-align: top;\n",
       "    }\n",
       "\n",
       "    .dataframe thead th {\n",
       "        text-align: right;\n",
       "    }\n",
       "</style>\n",
       "<table border=\"1\" class=\"dataframe\">\n",
       "  <thead>\n",
       "    <tr style=\"text-align: right;\">\n",
       "      <th></th>\n",
       "      <th>OPERATOR_ID</th>\n",
       "      <th>NAME</th>\n",
       "    </tr>\n",
       "  </thead>\n",
       "  <tbody>\n",
       "    <tr>\n",
       "      <th>235</th>\n",
       "      <td>4906</td>\n",
       "      <td>EXXONMOBIL PIPELINE CO</td>\n",
       "    </tr>\n",
       "    <tr>\n",
       "      <th>370</th>\n",
       "      <td>12624</td>\n",
       "      <td>EXXONMOBIL OIL CORPORATION</td>\n",
       "    </tr>\n",
       "    <tr>\n",
       "      <th>382</th>\n",
       "      <td>12628</td>\n",
       "      <td>EXXONMOBIL PIPELINE CO</td>\n",
       "    </tr>\n",
       "    <tr>\n",
       "      <th>412</th>\n",
       "      <td>12634</td>\n",
       "      <td>EXXONMOBIL OIL CORPORATION</td>\n",
       "    </tr>\n",
       "    <tr>\n",
       "      <th>832</th>\n",
       "      <td>26134</td>\n",
       "      <td>EXXONMOBIL OIL CORP - WEST COAST</td>\n",
       "    </tr>\n",
       "  </tbody>\n",
       "</table>\n",
       "</div>"
      ],
      "text/plain": [
       "    OPERATOR_ID                              NAME\n",
       "235        4906            EXXONMOBIL PIPELINE CO\n",
       "370       12624        EXXONMOBIL OIL CORPORATION\n",
       "382       12628            EXXONMOBIL PIPELINE CO\n",
       "412       12634        EXXONMOBIL OIL CORPORATION\n",
       "832       26134  EXXONMOBIL OIL CORP - WEST COAST"
      ]
     },
     "execution_count": 22,
     "metadata": {},
     "output_type": "execute_result"
    }
   ],
   "source": [
    "def find_namesakes(re_, df = sample, col = 'NAME', id_col = 'OPERATOR_ID'):\n",
    "    if isinstance(re_, str):\n",
    "        re_ = [re_]\n",
    "    \n",
    "    if len(re_) == 1:\n",
    "        results = df.loc[df[col].str.match(re_[0], case=False)][['OPERATOR_ID', 'NAME']].drop_duplicates()\n",
    "        return results\n",
    "        \n",
    "    if len(re_) > 1:\n",
    "        results = pd.DataFrame()\n",
    "        for expression in re_:\n",
    "            results = results.append(find_namesakes(expression))\n",
    "        return(results)\n",
    "    \n",
    "find_namesakes(r'.*exxonmobil.*')"
   ]
  },
  {
   "cell_type": "markdown",
   "metadata": {},
   "source": [
    "## 7.3 Create main loop"
   ]
  },
  {
   "cell_type": "code",
   "execution_count": 23,
   "metadata": {},
   "outputs": [],
   "source": [
    "from IPython.core.debugger import set_trace\n",
    "\n",
    "def analyze_sample():    \n",
    "    parents_handled = []\n",
    "    namesakes_handled = []\n",
    "    messages = []\n",
    "    \n",
    "    for _, id_ in largest_observations_ordered['OPERATOR_ID'][:sample_len].iteritems():\n",
    "        current_name = find_latest_name(id_)\n",
    "        message = ''\n",
    "\n",
    "        names = find_names(id_)\n",
    "        if len(names) > 1:\n",
    "            message += f\"\\n{current_name} (OPERATOR_ID {id_}) has changed its name:\\n\"\n",
    "            for name in names:\n",
    "                message += f\"\\n\\tWas named {name['name']} from {name['start_year']} to {name['end_year']}.\\n\"\n",
    "        \n",
    "        same_parent = compare_parents(id_)\n",
    "        same_parent_names = [sibling[1] for sibling in same_parent]\n",
    "        same_parent_ids = [sibling[0] for sibling in same_parent]      \n",
    "\n",
    "        if (id_) not in parents_handled:\n",
    "            if same_parent:\n",
    "                message += f\"\\n{current_name} (OPERATOR_ID {id_}) has the same parent company as:\\n\"\n",
    "                for sibling in same_parent:\n",
    "                    message += f\"\\n\\t{sibling[1]} (OPERATOR_ID {sibling[0]})\\n\"\n",
    "                parents_handled = parents_handled + [sibling[0] for sibling in same_parent]\n",
    "        \n",
    "        re_ = extract_res(id_)\n",
    "        namesakes = find_namesakes(re_)\n",
    "        namesakes = namesakes.loc[~namesakes['NAME'].isin(same_parent_names)]\n",
    "        namesakes = namesakes.loc[~namesakes['OPERATOR_ID'].isin(same_parent_names)]\n",
    "        namesakes = namesakes[~(namesakes['OPERATOR_ID'] == id_)]\n",
    "        if len(namesakes) > 0 and set(namesakes['OPERATOR_ID']) not in namesakes_handled:\n",
    "            namesakes_handled = namesakes_handled + [set(namesakes['OPERATOR_ID'])]\n",
    "            \n",
    "            message += f\"\\n{current_name} (OPERATOR_ID {id_}) may have a namesake or namesakes:\\n\"\n",
    "            for _, row in namesakes.iterrows():\n",
    "                message += f\"\\n\\t{row['NAME']} (OPERATOR_ID {row['OPERATOR_ID']})\\n\"\n",
    "\n",
    "        if message:\n",
    "            messages.append(message)\n",
    "            \n",
    "    return messages"
   ]
  },
  {
   "cell_type": "code",
   "execution_count": 24,
   "metadata": {},
   "outputs": [],
   "source": [
    "import pickle\n",
    "\n",
    "issues_to_address = analyze_sample()\n",
    "with open(f'../preprocessed_data/issues_to_address_{today}.pickle', 'wb') as file:\n",
    "    pickle.dump(issues_to_address, file)"
   ]
  }
 ],
 "metadata": {
  "jupytext": {
   "formats": "ipynb,md"
  },
  "kernelspec": {
   "display_name": "oil_industry",
   "language": "python",
   "name": "oil_industry"
  },
  "language_info": {
   "codemirror_mode": {
    "name": "ipython",
    "version": 3
   },
   "file_extension": ".py",
   "mimetype": "text/x-python",
   "name": "python",
   "nbconvert_exporter": "python",
   "pygments_lexer": "ipython3",
   "version": "3.6.8"
  }
 },
 "nbformat": 4,
 "nbformat_minor": 4
}
