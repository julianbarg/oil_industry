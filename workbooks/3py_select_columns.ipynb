{
 "cells": [
  {
   "cell_type": "markdown",
   "metadata": {},
   "source": [
    "# 3 - Select columns"
   ]
  },
  {
   "cell_type": "code",
   "execution_count": 1,
   "metadata": {},
   "outputs": [],
   "source": [
    "import pandas as pd\n",
    "import numpy as np\n",
    "from datetime import date\n",
    "\n",
    "today = date.today().isoformat()"
   ]
  },
  {
   "cell_type": "markdown",
   "metadata": {},
   "source": [
    "## 3.1 Extract relevant columns of the pipeline incidents dataset"
   ]
  },
  {
   "cell_type": "code",
   "execution_count": 2,
   "metadata": {},
   "outputs": [
    {
     "data": {
      "text/html": [
       "<div>\n",
       "<style scoped>\n",
       "    .dataframe tbody tr th:only-of-type {\n",
       "        vertical-align: middle;\n",
       "    }\n",
       "\n",
       "    .dataframe tbody tr th {\n",
       "        vertical-align: top;\n",
       "    }\n",
       "\n",
       "    .dataframe thead th {\n",
       "        text-align: right;\n",
       "    }\n",
       "</style>\n",
       "<table border=\"1\" class=\"dataframe\">\n",
       "  <thead>\n",
       "    <tr style=\"text-align: right;\">\n",
       "      <th></th>\n",
       "      <th>OPERATOR_ID</th>\n",
       "      <th>LOCAL_DATETIME</th>\n",
       "      <th>NAME</th>\n",
       "      <th>COMMODITY_RELEASED_TYPE</th>\n",
       "      <th>SERIOUS</th>\n",
       "      <th>SIGNIFICANT</th>\n",
       "      <th>LOCATION_LATITUDE</th>\n",
       "      <th>LOCATION_LONGITUDE</th>\n",
       "    </tr>\n",
       "  </thead>\n",
       "  <tbody>\n",
       "    <tr>\n",
       "      <th>2227</th>\n",
       "      <td>39085</td>\n",
       "      <td>2015-09-10 00:27:00</td>\n",
       "      <td>RIMROCK MIDSTREAM</td>\n",
       "      <td>CRUDE OIL</td>\n",
       "      <td>NO</td>\n",
       "      <td>YES</td>\n",
       "      <td>37.803480</td>\n",
       "      <td>-96.513700</td>\n",
       "    </tr>\n",
       "    <tr>\n",
       "      <th>2548</th>\n",
       "      <td>18718</td>\n",
       "      <td>2016-06-06 15:30:00</td>\n",
       "      <td>SUNOCO PIPELINE L.P.</td>\n",
       "      <td>CRUDE OIL</td>\n",
       "      <td>NO</td>\n",
       "      <td>NO</td>\n",
       "      <td>32.081450</td>\n",
       "      <td>-96.414450</td>\n",
       "    </tr>\n",
       "    <tr>\n",
       "      <th>2190</th>\n",
       "      <td>2552</td>\n",
       "      <td>2015-08-21 06:12:00</td>\n",
       "      <td>COLONIAL PIPELINE CO</td>\n",
       "      <td>REFINED AND/OR PETROLEUM PRODUCT (NON-HVL) WHI...</td>\n",
       "      <td>NO</td>\n",
       "      <td>NO</td>\n",
       "      <td>36.071010</td>\n",
       "      <td>-79.936690</td>\n",
       "    </tr>\n",
       "    <tr>\n",
       "      <th>1352</th>\n",
       "      <td>32147</td>\n",
       "      <td>2013-08-29 07:30:00</td>\n",
       "      <td>MARATHON PIPE LINE LLC</td>\n",
       "      <td>CRUDE OIL</td>\n",
       "      <td>NO</td>\n",
       "      <td>YES</td>\n",
       "      <td>39.327116</td>\n",
       "      <td>-87.898132</td>\n",
       "    </tr>\n",
       "    <tr>\n",
       "      <th>1531</th>\n",
       "      <td>31684</td>\n",
       "      <td>2014-02-16 07:00:00</td>\n",
       "      <td>PHILLIPS 66 PIPELINE LLC</td>\n",
       "      <td>BIOFUEL / ALTERNATIVE FUEL(INCLUDING ETHANOL B...</td>\n",
       "      <td>NO</td>\n",
       "      <td>NO</td>\n",
       "      <td>35.265278</td>\n",
       "      <td>-101.890833</td>\n",
       "    </tr>\n",
       "  </tbody>\n",
       "</table>\n",
       "</div>"
      ],
      "text/plain": [
       "      OPERATOR_ID      LOCAL_DATETIME                      NAME  \\\n",
       "2227        39085 2015-09-10 00:27:00         RIMROCK MIDSTREAM   \n",
       "2548        18718 2016-06-06 15:30:00      SUNOCO PIPELINE L.P.   \n",
       "2190         2552 2015-08-21 06:12:00      COLONIAL PIPELINE CO   \n",
       "1352        32147 2013-08-29 07:30:00    MARATHON PIPE LINE LLC   \n",
       "1531        31684 2014-02-16 07:00:00  PHILLIPS 66 PIPELINE LLC   \n",
       "\n",
       "                                COMMODITY_RELEASED_TYPE SERIOUS SIGNIFICANT  \\\n",
       "2227                                          CRUDE OIL      NO         YES   \n",
       "2548                                          CRUDE OIL      NO          NO   \n",
       "2190  REFINED AND/OR PETROLEUM PRODUCT (NON-HVL) WHI...      NO          NO   \n",
       "1352                                          CRUDE OIL      NO         YES   \n",
       "1531  BIOFUEL / ALTERNATIVE FUEL(INCLUDING ETHANOL B...      NO          NO   \n",
       "\n",
       "      LOCATION_LATITUDE  LOCATION_LONGITUDE  \n",
       "2227          37.803480          -96.513700  \n",
       "2548          32.081450          -96.414450  \n",
       "2190          36.071010          -79.936690  \n",
       "1352          39.327116          -87.898132  \n",
       "1531          35.265278         -101.890833  "
      ]
     },
     "execution_count": 2,
     "metadata": {},
     "output_type": "execute_result"
    }
   ],
   "source": [
    "incidents = pd.read_excel('../data/incidents_2019-08-01/hl2010toPresent.xlsx', \n",
    "                          sheet_name=1)\n",
    "incidents_selected = incidents[['OPERATOR_ID', 'LOCAL_DATETIME', 'NAME', 'COMMODITY_RELEASED_TYPE', \n",
    "                                'SERIOUS', 'SIGNIFICANT', 'LOCATION_LATITUDE', 'LOCATION_LONGITUDE']].copy()\n",
    "\n",
    "incidents_selected.sample(5)"
   ]
  },
  {
   "cell_type": "code",
   "execution_count": 3,
   "metadata": {},
   "outputs": [
    {
     "data": {
      "text/plain": [
       "OPERATOR_ID                         int64\n",
       "LOCAL_DATETIME             datetime64[ns]\n",
       "NAME                               object\n",
       "COMMODITY_RELEASED_TYPE            object\n",
       "SERIOUS                            object\n",
       "SIGNIFICANT                        object\n",
       "LOCATION_LATITUDE                 float64\n",
       "LOCATION_LONGITUDE                float64\n",
       "dtype: object"
      ]
     },
     "execution_count": 3,
     "metadata": {},
     "output_type": "execute_result"
    }
   ],
   "source": [
    "incidents_selected.dtypes"
   ]
  },
  {
   "cell_type": "code",
   "execution_count": 4,
   "metadata": {},
   "outputs": [
    {
     "data": {
      "text/plain": [
       "OPERATOR_ID                        object\n",
       "LOCAL_DATETIME             datetime64[ns]\n",
       "NAME                               object\n",
       "COMMODITY_RELEASED_TYPE            object\n",
       "SERIOUS                            object\n",
       "SIGNIFICANT                        object\n",
       "LOCATION_LATITUDE                 float64\n",
       "LOCATION_LONGITUDE                float64\n",
       "dtype: object"
      ]
     },
     "execution_count": 4,
     "metadata": {},
     "output_type": "execute_result"
    }
   ],
   "source": [
    "incidents_selected['OPERATOR_ID'] = incidents_selected['OPERATOR_ID'].astype(str)\n",
    "incidents_selected.dtypes"
   ]
  },
  {
   "cell_type": "markdown",
   "metadata": {},
   "source": [
    "Make sure SERIOUS and SIGNIFICANT are booleans."
   ]
  },
  {
   "cell_type": "code",
   "execution_count": 5,
   "metadata": {},
   "outputs": [
    {
     "data": {
      "text/plain": [
       "False    3803\n",
       "True       16\n",
       "Name: SERIOUS, dtype: int64"
      ]
     },
     "execution_count": 5,
     "metadata": {},
     "output_type": "execute_result"
    }
   ],
   "source": [
    "(incidents_selected[['SERIOUS']] == 'YES')['SERIOUS'].value_counts()"
   ]
  },
  {
   "cell_type": "code",
   "execution_count": 6,
   "metadata": {},
   "outputs": [],
   "source": [
    "incidents_selected['SERIOUS'] = incidents_selected[['SERIOUS']] == 'YES'"
   ]
  },
  {
   "cell_type": "code",
   "execution_count": 7,
   "metadata": {},
   "outputs": [
    {
     "data": {
      "text/plain": [
       "False    2364\n",
       "True     1455\n",
       "Name: SIGNIFICANT, dtype: int64"
      ]
     },
     "execution_count": 7,
     "metadata": {},
     "output_type": "execute_result"
    }
   ],
   "source": [
    "(incidents_selected[['SIGNIFICANT']] == 'YES')['SIGNIFICANT'].value_counts()"
   ]
  },
  {
   "cell_type": "code",
   "execution_count": 8,
   "metadata": {},
   "outputs": [],
   "source": [
    "incidents_selected['SIGNIFICANT'] = incidents_selected[['SIGNIFICANT']] == 'YES'"
   ]
  },
  {
   "cell_type": "code",
   "execution_count": 9,
   "metadata": {},
   "outputs": [
    {
     "data": {
      "text/plain": [
       "OPERATOR_ID                        object\n",
       "LOCAL_DATETIME             datetime64[ns]\n",
       "NAME                               object\n",
       "COMMODITY_RELEASED_TYPE            object\n",
       "SERIOUS                              bool\n",
       "SIGNIFICANT                          bool\n",
       "LOCATION_LATITUDE                 float64\n",
       "LOCATION_LONGITUDE                float64\n",
       "dtype: object"
      ]
     },
     "execution_count": 9,
     "metadata": {},
     "output_type": "execute_result"
    }
   ],
   "source": [
    "incidents_selected.dtypes"
   ]
  },
  {
   "cell_type": "code",
   "execution_count": 10,
   "metadata": {},
   "outputs": [],
   "source": [
    "incidents_selected = incidents_selected.rename(columns={'COMMODITY_RELEASED_TYPE': 'COMMODITY'})"
   ]
  },
  {
   "cell_type": "code",
   "execution_count": 11,
   "metadata": {},
   "outputs": [],
   "source": [
    "incidents_selected.to_feather(f'../preprocessed_data/incidents_selected_{today}.feather')"
   ]
  },
  {
   "cell_type": "markdown",
   "metadata": {},
   "source": [
    "## 3.2 Extract relevant columns of the pipeline system dataset"
   ]
  },
  {
   "cell_type": "code",
   "execution_count": 12,
   "metadata": {},
   "outputs": [
    {
     "data": {
      "text/html": [
       "<div>\n",
       "<style scoped>\n",
       "    .dataframe tbody tr th:only-of-type {\n",
       "        vertical-align: middle;\n",
       "    }\n",
       "\n",
       "    .dataframe tbody tr th {\n",
       "        vertical-align: top;\n",
       "    }\n",
       "\n",
       "    .dataframe thead th {\n",
       "        text-align: right;\n",
       "    }\n",
       "</style>\n",
       "<table border=\"1\" class=\"dataframe\">\n",
       "  <thead>\n",
       "    <tr style=\"text-align: right;\">\n",
       "      <th></th>\n",
       "      <th>DATAFILE_AS_OF</th>\n",
       "      <th>REPORT_YEAR</th>\n",
       "      <th>REPORT_NUMBER</th>\n",
       "      <th>SUPPLEMENTAL_NUMBER</th>\n",
       "      <th>OPERATOR_ID</th>\n",
       "      <th>PARTA2NAMEOFCOMP</th>\n",
       "      <th>PARTA4STREET</th>\n",
       "      <th>PARTA4CITY</th>\n",
       "      <th>PARTA4STATE</th>\n",
       "      <th>PARTA4ZIP</th>\n",
       "      <th>...</th>\n",
       "      <th>PARTE2010HF</th>\n",
       "      <th>PARTE2010LF</th>\n",
       "      <th>PARTE2010TOTAL</th>\n",
       "      <th>PARTETOTAL</th>\n",
       "      <th>PARTETOTALHF</th>\n",
       "      <th>PARTETOTALLF</th>\n",
       "      <th>REPORT_SUBMISSION_TYPE</th>\n",
       "      <th>REPORT_DATE</th>\n",
       "      <th>FILING_DATE</th>\n",
       "      <th>FORM_REV</th>\n",
       "    </tr>\n",
       "  </thead>\n",
       "  <tbody>\n",
       "    <tr>\n",
       "      <th>4802</th>\n",
       "      <td>2019-07-01 11:08:29</td>\n",
       "      <td>2015</td>\n",
       "      <td>20161933</td>\n",
       "      <td>14170</td>\n",
       "      <td>20202</td>\n",
       "      <td>ULTRAMAR INC</td>\n",
       "      <td>2402 EAST ANAHEIM STREET</td>\n",
       "      <td>WILMINGTON</td>\n",
       "      <td>CA</td>\n",
       "      <td>90744</td>\n",
       "      <td>...</td>\n",
       "      <td>0.00</td>\n",
       "      <td>0.0</td>\n",
       "      <td>0.00</td>\n",
       "      <td>4.310</td>\n",
       "      <td>4.310</td>\n",
       "      <td>0.0</td>\n",
       "      <td>INITIAL</td>\n",
       "      <td>2016-06-08 15:23:32</td>\n",
       "      <td>2016-06-08 15:23:32</td>\n",
       "      <td>7000-1.1 (Rev. 06-2014)</td>\n",
       "    </tr>\n",
       "    <tr>\n",
       "      <th>591</th>\n",
       "      <td>2019-07-01 11:28:09</td>\n",
       "      <td>2017</td>\n",
       "      <td>20183638</td>\n",
       "      <td>16184</td>\n",
       "      <td>39410</td>\n",
       "      <td>RELIANCE GATHERING LLC</td>\n",
       "      <td>300 N. MARIENFELD SUITE 1100</td>\n",
       "      <td>MIDLAND</td>\n",
       "      <td>TX</td>\n",
       "      <td>79701</td>\n",
       "      <td>...</td>\n",
       "      <td>0.00</td>\n",
       "      <td>0.0</td>\n",
       "      <td>0.00</td>\n",
       "      <td>0.000</td>\n",
       "      <td>0.000</td>\n",
       "      <td>0.0</td>\n",
       "      <td>INITIAL</td>\n",
       "      <td>2018-06-15 16:51:17</td>\n",
       "      <td>2018-06-15 16:51:17</td>\n",
       "      <td>7000-1.1 (Rev. 06-2014)</td>\n",
       "    </tr>\n",
       "    <tr>\n",
       "      <th>4526</th>\n",
       "      <td>2019-07-01 11:21:18</td>\n",
       "      <td>2016</td>\n",
       "      <td>20172617</td>\n",
       "      <td>14987</td>\n",
       "      <td>38964</td>\n",
       "      <td>PHILADELPHIA ENERGY SOLUTIONS REFINING AND MAR...</td>\n",
       "      <td>1735 MARKET STREET</td>\n",
       "      <td>PHILADELPHIA</td>\n",
       "      <td>PA</td>\n",
       "      <td>19103</td>\n",
       "      <td>...</td>\n",
       "      <td>0.00</td>\n",
       "      <td>0.0</td>\n",
       "      <td>0.00</td>\n",
       "      <td>2.660</td>\n",
       "      <td>2.660</td>\n",
       "      <td>0.0</td>\n",
       "      <td>INITIAL</td>\n",
       "      <td>2017-06-12 13:58:00</td>\n",
       "      <td>2017-06-12 13:58:00</td>\n",
       "      <td>7000-1.1 (Rev. 06-2014)</td>\n",
       "    </tr>\n",
       "    <tr>\n",
       "      <th>3347</th>\n",
       "      <td>2019-07-01 10:31:50</td>\n",
       "      <td>2010</td>\n",
       "      <td>20110448</td>\n",
       "      <td>10484</td>\n",
       "      <td>32602</td>\n",
       "      <td>OXY USA INC</td>\n",
       "      <td>301 E. OCEAN BLVD.</td>\n",
       "      <td>LONG BEACH</td>\n",
       "      <td>CA</td>\n",
       "      <td>90802</td>\n",
       "      <td>...</td>\n",
       "      <td>0.00</td>\n",
       "      <td>0.0</td>\n",
       "      <td>0.00</td>\n",
       "      <td>5.542</td>\n",
       "      <td>5.542</td>\n",
       "      <td>0.0</td>\n",
       "      <td>INITIAL</td>\n",
       "      <td>2011-10-07 11:35:47</td>\n",
       "      <td>2011-10-07 11:35:47</td>\n",
       "      <td>7000-1.1 (Rev. 06-2011)</td>\n",
       "    </tr>\n",
       "    <tr>\n",
       "      <th>1188</th>\n",
       "      <td>2019-07-01 11:03:57</td>\n",
       "      <td>2014</td>\n",
       "      <td>20151157</td>\n",
       "      <td>13260</td>\n",
       "      <td>515</td>\n",
       "      <td>DAKOTA GASIFICATION COMPANY</td>\n",
       "      <td>GREAT PLAINS SYNFUELS PLANT 1717 EAST INTERSTA...</td>\n",
       "      <td>BISMARCK</td>\n",
       "      <td>ND</td>\n",
       "      <td>58503-0564</td>\n",
       "      <td>...</td>\n",
       "      <td>0.26</td>\n",
       "      <td>0.0</td>\n",
       "      <td>0.26</td>\n",
       "      <td>167.040</td>\n",
       "      <td>167.040</td>\n",
       "      <td>0.0</td>\n",
       "      <td>INITIAL</td>\n",
       "      <td>2015-04-27 11:43:58</td>\n",
       "      <td>2015-04-27 11:43:58</td>\n",
       "      <td>7000-1.1 (Rev. 06-2014)</td>\n",
       "    </tr>\n",
       "  </tbody>\n",
       "</table>\n",
       "<p>5 rows × 85 columns</p>\n",
       "</div>"
      ],
      "text/plain": [
       "          DATAFILE_AS_OF  REPORT_YEAR  REPORT_NUMBER  SUPPLEMENTAL_NUMBER  \\\n",
       "4802 2019-07-01 11:08:29         2015       20161933                14170   \n",
       "591  2019-07-01 11:28:09         2017       20183638                16184   \n",
       "4526 2019-07-01 11:21:18         2016       20172617                14987   \n",
       "3347 2019-07-01 10:31:50         2010       20110448                10484   \n",
       "1188 2019-07-01 11:03:57         2014       20151157                13260   \n",
       "\n",
       "      OPERATOR_ID                                   PARTA2NAMEOFCOMP  \\\n",
       "4802        20202                                       ULTRAMAR INC   \n",
       "591         39410                             RELIANCE GATHERING LLC   \n",
       "4526        38964  PHILADELPHIA ENERGY SOLUTIONS REFINING AND MAR...   \n",
       "3347        32602                                        OXY USA INC   \n",
       "1188          515                        DAKOTA GASIFICATION COMPANY   \n",
       "\n",
       "                                           PARTA4STREET    PARTA4CITY  \\\n",
       "4802                           2402 EAST ANAHEIM STREET    WILMINGTON   \n",
       "591                        300 N. MARIENFELD SUITE 1100       MIDLAND   \n",
       "4526                                 1735 MARKET STREET  PHILADELPHIA   \n",
       "3347                                 301 E. OCEAN BLVD.    LONG BEACH   \n",
       "1188  GREAT PLAINS SYNFUELS PLANT 1717 EAST INTERSTA...      BISMARCK   \n",
       "\n",
       "     PARTA4STATE   PARTA4ZIP  ... PARTE2010HF PARTE2010LF PARTE2010TOTAL  \\\n",
       "4802          CA       90744  ...        0.00         0.0           0.00   \n",
       "591           TX       79701  ...        0.00         0.0           0.00   \n",
       "4526          PA       19103  ...        0.00         0.0           0.00   \n",
       "3347          CA       90802  ...        0.00         0.0           0.00   \n",
       "1188          ND  58503-0564  ...        0.26         0.0           0.26   \n",
       "\n",
       "     PARTETOTAL  PARTETOTALHF  PARTETOTALLF  REPORT_SUBMISSION_TYPE  \\\n",
       "4802      4.310         4.310           0.0                 INITIAL   \n",
       "591       0.000         0.000           0.0                 INITIAL   \n",
       "4526      2.660         2.660           0.0                 INITIAL   \n",
       "3347      5.542         5.542           0.0                 INITIAL   \n",
       "1188    167.040       167.040           0.0                 INITIAL   \n",
       "\n",
       "             REPORT_DATE         FILING_DATE                 FORM_REV  \n",
       "4802 2016-06-08 15:23:32 2016-06-08 15:23:32  7000-1.1 (Rev. 06-2014)  \n",
       "591  2018-06-15 16:51:17 2018-06-15 16:51:17  7000-1.1 (Rev. 06-2014)  \n",
       "4526 2017-06-12 13:58:00 2017-06-12 13:58:00  7000-1.1 (Rev. 06-2014)  \n",
       "3347 2011-10-07 11:35:47 2011-10-07 11:35:47  7000-1.1 (Rev. 06-2011)  \n",
       "1188 2015-04-27 11:43:58 2015-04-27 11:43:58  7000-1.1 (Rev. 06-2014)  \n",
       "\n",
       "[5 rows x 85 columns]"
      ]
     },
     "execution_count": 12,
     "metadata": {},
     "output_type": "execute_result"
    }
   ],
   "source": [
    "from os import listdir\n",
    "\n",
    "pipelines_2010_present = [file for file in listdir('../data/pipelines_2010_present_2019-08-02/') if 'annual_hazardous_liquid' in file]\n",
    "pipelines_2010_present = pd.concat([pd.read_excel(f'../data/pipelines_2010_present_2019-08-02/{file}', skiprows=2) \n",
    "                                    for file in pipelines_2010_present])\n",
    "pipelines_2010_present = pipelines_2010_present.reset_index(drop = True)\n",
    "\n",
    "pipelines_2010_present.sample(5)"
   ]
  },
  {
   "cell_type": "code",
   "execution_count": 13,
   "metadata": {},
   "outputs": [
    {
     "data": {
      "text/html": [
       "<div>\n",
       "<style scoped>\n",
       "    .dataframe tbody tr th:only-of-type {\n",
       "        vertical-align: middle;\n",
       "    }\n",
       "\n",
       "    .dataframe tbody tr th {\n",
       "        vertical-align: top;\n",
       "    }\n",
       "\n",
       "    .dataframe thead th {\n",
       "        text-align: right;\n",
       "    }\n",
       "</style>\n",
       "<table border=\"1\" class=\"dataframe\">\n",
       "  <thead>\n",
       "    <tr style=\"text-align: right;\">\n",
       "      <th></th>\n",
       "      <th>ORIGINAL</th>\n",
       "      <th>SUPPLEMENT</th>\n",
       "      <th>YR</th>\n",
       "      <th>RPTID</th>\n",
       "      <th>HL_SUP_ID</th>\n",
       "      <th>SYSTEM_TYPE</th>\n",
       "      <th>OPERATOR_ID</th>\n",
       "      <th>NAME</th>\n",
       "      <th>PARENT</th>\n",
       "      <th>OFSTREET</th>\n",
       "      <th>...</th>\n",
       "      <th>BA_5</th>\n",
       "      <th>BA_6</th>\n",
       "      <th>BA_7</th>\n",
       "      <th>BA_8</th>\n",
       "      <th>DOR</th>\n",
       "      <th>DOE</th>\n",
       "      <th>PNAME</th>\n",
       "      <th>PPHONE</th>\n",
       "      <th>PEMAIL</th>\n",
       "      <th>PFAX</th>\n",
       "    </tr>\n",
       "  </thead>\n",
       "  <tbody>\n",
       "    <tr>\n",
       "      <th>2238</th>\n",
       "      <td>Y</td>\n",
       "      <td>N</td>\n",
       "      <td>2004</td>\n",
       "      <td>20040047</td>\n",
       "      <td>71</td>\n",
       "      <td>CRUDE OIL</td>\n",
       "      <td>31630</td>\n",
       "      <td>BP AMERICA PRODUCTION COMPANY</td>\n",
       "      <td>NaN</td>\n",
       "      <td>501 WESTLAKE PARK BLVD</td>\n",
       "      <td>...</td>\n",
       "      <td>0.00</td>\n",
       "      <td>0.0</td>\n",
       "      <td>0.0</td>\n",
       "      <td>NaN</td>\n",
       "      <td>2005-06-01</td>\n",
       "      <td>2005-06-01 16:31:18</td>\n",
       "      <td>PAUL C. FALGOUT</td>\n",
       "      <td>2813666382</td>\n",
       "      <td>PAUL.FALGOUT@BP.COM</td>\n",
       "      <td>3.37337e+09</td>\n",
       "    </tr>\n",
       "    <tr>\n",
       "      <th>613</th>\n",
       "      <td>Y</td>\n",
       "      <td>N</td>\n",
       "      <td>2006</td>\n",
       "      <td>20080488</td>\n",
       "      <td>5740</td>\n",
       "      <td>HVLS</td>\n",
       "      <td>32454</td>\n",
       "      <td>DRY TRAILS MIDSTREAM ENERGY, LLC</td>\n",
       "      <td>NaN</td>\n",
       "      <td>8801 S YALE, SUITE 350</td>\n",
       "      <td>...</td>\n",
       "      <td>45.17</td>\n",
       "      <td>0.0</td>\n",
       "      <td>0.0</td>\n",
       "      <td>NaN</td>\n",
       "      <td>2009-12-09</td>\n",
       "      <td>2009-12-09 13:46:02</td>\n",
       "      <td>REGINA GREGORY</td>\n",
       "      <td>9.18389e+09</td>\n",
       "      <td>RGREGORY@MIDSTREAMENERGYLLC.COM</td>\n",
       "      <td>NaN</td>\n",
       "    </tr>\n",
       "    <tr>\n",
       "      <th>1153</th>\n",
       "      <td>Y</td>\n",
       "      <td>N</td>\n",
       "      <td>2009</td>\n",
       "      <td>20090364</td>\n",
       "      <td>7354</td>\n",
       "      <td>PETROLEUM &amp; REFINED PRODUCTS</td>\n",
       "      <td>26054</td>\n",
       "      <td>KEY WEST PIPELINE CO</td>\n",
       "      <td>NaN</td>\n",
       "      <td>TRUMBO POINT NAVAL ANNEX, BUILDING D-19</td>\n",
       "      <td>...</td>\n",
       "      <td>0.00</td>\n",
       "      <td>0.0</td>\n",
       "      <td>0.0</td>\n",
       "      <td>0.0</td>\n",
       "      <td>2010-06-15</td>\n",
       "      <td>2010-06-15 10:08:16</td>\n",
       "      <td>MARK RAUCH</td>\n",
       "      <td>7136271700</td>\n",
       "      <td>MARK@PTMC.US</td>\n",
       "      <td>7.13622e+09</td>\n",
       "    </tr>\n",
       "    <tr>\n",
       "      <th>1953</th>\n",
       "      <td>N</td>\n",
       "      <td>Y</td>\n",
       "      <td>2004</td>\n",
       "      <td>20040075</td>\n",
       "      <td>440</td>\n",
       "      <td>PETROLEUM &amp; REFINED PRODUCTS</td>\n",
       "      <td>26048</td>\n",
       "      <td>HUNT REFINING COMPANY</td>\n",
       "      <td>NaN</td>\n",
       "      <td>1855 FAIRLAWN ROAD</td>\n",
       "      <td>...</td>\n",
       "      <td>0.00</td>\n",
       "      <td>0.0</td>\n",
       "      <td>0.0</td>\n",
       "      <td>NaN</td>\n",
       "      <td>2005-04-13</td>\n",
       "      <td>2005-06-28 10:25:05</td>\n",
       "      <td>GERRY HALL OPERATIONS SPECIALIST</td>\n",
       "      <td>2053913379</td>\n",
       "      <td>GHALL@HUNTREFINING.COM</td>\n",
       "      <td>2.05391e+09</td>\n",
       "    </tr>\n",
       "    <tr>\n",
       "      <th>422</th>\n",
       "      <td>Y</td>\n",
       "      <td>N</td>\n",
       "      <td>2008</td>\n",
       "      <td>20080031</td>\n",
       "      <td>4363</td>\n",
       "      <td>CO2 OR OTHER</td>\n",
       "      <td>32141</td>\n",
       "      <td>RESOLUTE NATURAL RESOURCES COMPANY</td>\n",
       "      <td>NaN</td>\n",
       "      <td>1675 BROADWAY, SUITE 1950</td>\n",
       "      <td>...</td>\n",
       "      <td>0.00</td>\n",
       "      <td>0.0</td>\n",
       "      <td>0.0</td>\n",
       "      <td>NaN</td>\n",
       "      <td>2009-03-02</td>\n",
       "      <td>2009-03-02 17:47:37</td>\n",
       "      <td>DWIGHT MALLORY</td>\n",
       "      <td>3035344600</td>\n",
       "      <td>DMALLORY@RNRC.NET</td>\n",
       "      <td>NaN</td>\n",
       "    </tr>\n",
       "  </tbody>\n",
       "</table>\n",
       "<p>5 rows × 167 columns</p>\n",
       "</div>"
      ],
      "text/plain": [
       "     ORIGINAL SUPPLEMENT    YR     RPTID  HL_SUP_ID  \\\n",
       "2238        Y          N  2004  20040047         71   \n",
       "613         Y          N  2006  20080488       5740   \n",
       "1153        Y          N  2009  20090364       7354   \n",
       "1953        N          Y  2004  20040075        440   \n",
       "422         Y          N  2008  20080031       4363   \n",
       "\n",
       "                       SYSTEM_TYPE  OPERATOR_ID  \\\n",
       "2238                     CRUDE OIL        31630   \n",
       "613                           HVLS        32454   \n",
       "1153  PETROLEUM & REFINED PRODUCTS        26054   \n",
       "1953  PETROLEUM & REFINED PRODUCTS        26048   \n",
       "422                   CO2 OR OTHER        32141   \n",
       "\n",
       "                                    NAME PARENT  \\\n",
       "2238       BP AMERICA PRODUCTION COMPANY    NaN   \n",
       "613     DRY TRAILS MIDSTREAM ENERGY, LLC    NaN   \n",
       "1153                KEY WEST PIPELINE CO    NaN   \n",
       "1953               HUNT REFINING COMPANY    NaN   \n",
       "422   RESOLUTE NATURAL RESOURCES COMPANY    NaN   \n",
       "\n",
       "                                     OFSTREET  ...   BA_5 BA_6 BA_7 BA_8  \\\n",
       "2238                   501 WESTLAKE PARK BLVD  ...   0.00  0.0  0.0  NaN   \n",
       "613                    8801 S YALE, SUITE 350  ...  45.17  0.0  0.0  NaN   \n",
       "1153  TRUMBO POINT NAVAL ANNEX, BUILDING D-19  ...   0.00  0.0  0.0  0.0   \n",
       "1953                       1855 FAIRLAWN ROAD  ...   0.00  0.0  0.0  NaN   \n",
       "422                 1675 BROADWAY, SUITE 1950  ...   0.00  0.0  0.0  NaN   \n",
       "\n",
       "            DOR                 DOE                             PNAME  \\\n",
       "2238 2005-06-01 2005-06-01 16:31:18                   PAUL C. FALGOUT   \n",
       "613  2009-12-09 2009-12-09 13:46:02                    REGINA GREGORY   \n",
       "1153 2010-06-15 2010-06-15 10:08:16                        MARK RAUCH   \n",
       "1953 2005-04-13 2005-06-28 10:25:05  GERRY HALL OPERATIONS SPECIALIST   \n",
       "422  2009-03-02 2009-03-02 17:47:37                    DWIGHT MALLORY   \n",
       "\n",
       "           PPHONE                           PEMAIL         PFAX  \n",
       "2238   2813666382              PAUL.FALGOUT@BP.COM  3.37337e+09  \n",
       "613   9.18389e+09  RGREGORY@MIDSTREAMENERGYLLC.COM          NaN  \n",
       "1153   7136271700                     MARK@PTMC.US  7.13622e+09  \n",
       "1953   2053913379           GHALL@HUNTREFINING.COM  2.05391e+09  \n",
       "422    3035344600                DMALLORY@RNRC.NET          NaN  \n",
       "\n",
       "[5 rows x 167 columns]"
      ]
     },
     "execution_count": 13,
     "metadata": {},
     "output_type": "execute_result"
    }
   ],
   "source": [
    "pipelines_2004_2009 = [file for file in listdir('../data/pipelines_2004_2009_2019-08-02/') if 'annual_hazardous_liquid' in file]\n",
    "pipelines_2004_2009 = pd.concat([pd.read_excel(f'../data/pipelines_2004_2009_2019-08-02/{file}') \n",
    "                                 for file in pipelines_2004_2009])\n",
    "pipelines_2004_2009 = pipelines_2004_2009.reset_index(drop = True)\n",
    "\n",
    "pipelines_2004_2009.sample(5)"
   ]
  },
  {
   "cell_type": "markdown",
   "metadata": {},
   "source": [
    "### 3.2.1 Select relevant columns"
   ]
  },
  {
   "cell_type": "markdown",
   "metadata": {},
   "source": [
    "#### For 2010-"
   ]
  },
  {
   "cell_type": "code",
   "execution_count": 14,
   "metadata": {},
   "outputs": [
    {
     "data": {
      "text/html": [
       "<div>\n",
       "<style scoped>\n",
       "    .dataframe tbody tr th:only-of-type {\n",
       "        vertical-align: middle;\n",
       "    }\n",
       "\n",
       "    .dataframe tbody tr th {\n",
       "        vertical-align: top;\n",
       "    }\n",
       "\n",
       "    .dataframe thead th {\n",
       "        text-align: right;\n",
       "    }\n",
       "</style>\n",
       "<table border=\"1\" class=\"dataframe\">\n",
       "  <thead>\n",
       "    <tr style=\"text-align: right;\">\n",
       "      <th></th>\n",
       "      <th>OPERATOR_ID</th>\n",
       "      <th>REPORT_YEAR</th>\n",
       "      <th>PARTA2NAMEOFCOMP</th>\n",
       "      <th>PARTA5COMMODITY</th>\n",
       "      <th>PARTBHCATOTAL</th>\n",
       "    </tr>\n",
       "  </thead>\n",
       "  <tbody>\n",
       "    <tr>\n",
       "      <th>718</th>\n",
       "      <td>3445</td>\n",
       "      <td>2011</td>\n",
       "      <td>DIXIE PIPELINE COMPANY LLC</td>\n",
       "      <td>HVL</td>\n",
       "      <td>577.251</td>\n",
       "    </tr>\n",
       "    <tr>\n",
       "      <th>687</th>\n",
       "      <td>879</td>\n",
       "      <td>2011</td>\n",
       "      <td>CHEMOIL TERMINALS CORP.</td>\n",
       "      <td>Refined and/or Petroleum Product (non-HVL)</td>\n",
       "      <td>9.780</td>\n",
       "    </tr>\n",
       "    <tr>\n",
       "      <th>267</th>\n",
       "      <td>31526</td>\n",
       "      <td>2017</td>\n",
       "      <td>DELAWARE STORAGE AND PIPELINE COMPANY</td>\n",
       "      <td>Refined and/or Petroleum Product (non-HVL)</td>\n",
       "      <td>6.720</td>\n",
       "    </tr>\n",
       "    <tr>\n",
       "      <th>1108</th>\n",
       "      <td>32364</td>\n",
       "      <td>2011</td>\n",
       "      <td>VALERO REFINING-NEW ORLEANS, L.L.C.</td>\n",
       "      <td>Crude Oil</td>\n",
       "      <td>1.500</td>\n",
       "    </tr>\n",
       "    <tr>\n",
       "      <th>834</th>\n",
       "      <td>26085</td>\n",
       "      <td>2011</td>\n",
       "      <td>PLAINS MARKETING, L.P.</td>\n",
       "      <td>Refined and/or Petroleum Product (non-HVL)</td>\n",
       "      <td>6.240</td>\n",
       "    </tr>\n",
       "  </tbody>\n",
       "</table>\n",
       "</div>"
      ],
      "text/plain": [
       "      OPERATOR_ID  REPORT_YEAR                       PARTA2NAMEOFCOMP  \\\n",
       "718          3445         2011             DIXIE PIPELINE COMPANY LLC   \n",
       "687           879         2011                CHEMOIL TERMINALS CORP.   \n",
       "267         31526         2017  DELAWARE STORAGE AND PIPELINE COMPANY   \n",
       "1108        32364         2011    VALERO REFINING-NEW ORLEANS, L.L.C.   \n",
       "834         26085         2011                 PLAINS MARKETING, L.P.   \n",
       "\n",
       "                                 PARTA5COMMODITY  PARTBHCATOTAL  \n",
       "718                                          HVL        577.251  \n",
       "687   Refined and/or Petroleum Product (non-HVL)          9.780  \n",
       "267   Refined and/or Petroleum Product (non-HVL)          6.720  \n",
       "1108                                   Crude Oil          1.500  \n",
       "834   Refined and/or Petroleum Product (non-HVL)          6.240  "
      ]
     },
     "execution_count": 14,
     "metadata": {},
     "output_type": "execute_result"
    }
   ],
   "source": [
    "pipelines_2010_selected = pipelines_2010_present[[\n",
    "    'OPERATOR_ID', 'REPORT_YEAR', 'PARTA2NAMEOFCOMP', 'PARTA5COMMODITY', 'PARTBHCATOTAL']].copy()\n",
    "\n",
    "pipelines_2010_selected.sample(5)"
   ]
  },
  {
   "cell_type": "code",
   "execution_count": 15,
   "metadata": {},
   "outputs": [
    {
     "data": {
      "text/plain": [
       "OPERATOR_ID           int64\n",
       "REPORT_YEAR           int64\n",
       "PARTA2NAMEOFCOMP     object\n",
       "PARTA5COMMODITY      object\n",
       "PARTBHCATOTAL       float64\n",
       "dtype: object"
      ]
     },
     "execution_count": 15,
     "metadata": {},
     "output_type": "execute_result"
    }
   ],
   "source": [
    "pipelines_2010_selected.dtypes"
   ]
  },
  {
   "cell_type": "code",
   "execution_count": 16,
   "metadata": {},
   "outputs": [
    {
     "data": {
      "text/plain": [
       "OPERATOR_ID          object\n",
       "REPORT_YEAR           int64\n",
       "PARTA2NAMEOFCOMP     object\n",
       "PARTA5COMMODITY      object\n",
       "PARTBHCATOTAL       float64\n",
       "dtype: object"
      ]
     },
     "execution_count": 16,
     "metadata": {},
     "output_type": "execute_result"
    }
   ],
   "source": [
    "pipelines_2010_selected['OPERATOR_ID'] = pipelines_2010_selected['OPERATOR_ID'].astype(str)\n",
    "pipelines_2010_selected.dtypes"
   ]
  },
  {
   "cell_type": "code",
   "execution_count": 17,
   "metadata": {},
   "outputs": [
    {
     "data": {
      "text/html": [
       "<div>\n",
       "<style scoped>\n",
       "    .dataframe tbody tr th:only-of-type {\n",
       "        vertical-align: middle;\n",
       "    }\n",
       "\n",
       "    .dataframe tbody tr th {\n",
       "        vertical-align: top;\n",
       "    }\n",
       "\n",
       "    .dataframe thead th {\n",
       "        text-align: right;\n",
       "    }\n",
       "</style>\n",
       "<table border=\"1\" class=\"dataframe\">\n",
       "  <thead>\n",
       "    <tr style=\"text-align: right;\">\n",
       "      <th></th>\n",
       "      <th>OPERATOR_ID</th>\n",
       "      <th>YEAR</th>\n",
       "      <th>NAME</th>\n",
       "      <th>COMMODITY</th>\n",
       "      <th>MILES</th>\n",
       "    </tr>\n",
       "  </thead>\n",
       "  <tbody>\n",
       "    <tr>\n",
       "      <th>1739</th>\n",
       "      <td>39106</td>\n",
       "      <td>2014</td>\n",
       "      <td>PROGRESS SOLUTIONS LLC</td>\n",
       "      <td>Crude Oil</td>\n",
       "      <td>0.00</td>\n",
       "    </tr>\n",
       "    <tr>\n",
       "      <th>2844</th>\n",
       "      <td>39065</td>\n",
       "      <td>2013</td>\n",
       "      <td>HESS ND</td>\n",
       "      <td>Refined and/or Petroleum Product (non-HVL)</td>\n",
       "      <td>0.00</td>\n",
       "    </tr>\n",
       "    <tr>\n",
       "      <th>3747</th>\n",
       "      <td>32428</td>\n",
       "      <td>2018</td>\n",
       "      <td>INTERCONTINENTAL TERMINAL COMPANY, LLC</td>\n",
       "      <td>HVL</td>\n",
       "      <td>3.00</td>\n",
       "    </tr>\n",
       "    <tr>\n",
       "      <th>1520</th>\n",
       "      <td>31887</td>\n",
       "      <td>2014</td>\n",
       "      <td>DUKE ENERGY KENTUCKY - LIQUID</td>\n",
       "      <td>HVL</td>\n",
       "      <td>3.41</td>\n",
       "    </tr>\n",
       "    <tr>\n",
       "      <th>1364</th>\n",
       "      <td>30658</td>\n",
       "      <td>2014</td>\n",
       "      <td>KERN OIL &amp; REFINING CO.</td>\n",
       "      <td>Crude Oil</td>\n",
       "      <td>13.65</td>\n",
       "    </tr>\n",
       "  </tbody>\n",
       "</table>\n",
       "</div>"
      ],
      "text/plain": [
       "     OPERATOR_ID  YEAR                                    NAME  \\\n",
       "1739       39106  2014                  PROGRESS SOLUTIONS LLC   \n",
       "2844       39065  2013                                 HESS ND   \n",
       "3747       32428  2018  INTERCONTINENTAL TERMINAL COMPANY, LLC   \n",
       "1520       31887  2014           DUKE ENERGY KENTUCKY - LIQUID   \n",
       "1364       30658  2014                 KERN OIL & REFINING CO.   \n",
       "\n",
       "                                       COMMODITY  MILES  \n",
       "1739                                   Crude Oil   0.00  \n",
       "2844  Refined and/or Petroleum Product (non-HVL)   0.00  \n",
       "3747                                         HVL   3.00  \n",
       "1520                                         HVL   3.41  \n",
       "1364                                   Crude Oil  13.65  "
      ]
     },
     "execution_count": 17,
     "metadata": {},
     "output_type": "execute_result"
    }
   ],
   "source": [
    "pipelines_2010_selected = pipelines_2010_selected.rename(\n",
    "    columns={'REPORT_YEAR': 'YEAR', 'PARTA2NAMEOFCOMP': 'NAME', 'PARTA5COMMODITY': 'COMMODITY', 'PARTBHCATOTAL': \"MILES\"})\n",
    "pipelines_2010_selected.sample(5)"
   ]
  },
  {
   "cell_type": "code",
   "execution_count": 18,
   "metadata": {},
   "outputs": [],
   "source": [
    "pipelines_2010_selected.to_feather(f'../preprocessed_data/pipelines_2010_selected_{today}.feather')"
   ]
  },
  {
   "cell_type": "markdown",
   "metadata": {},
   "source": [
    "#### For 2004-"
   ]
  },
  {
   "cell_type": "markdown",
   "metadata": {},
   "source": [
    "Clean name column"
   ]
  },
  {
   "cell_type": "code",
   "execution_count": 19,
   "metadata": {},
   "outputs": [
    {
     "data": {
      "text/plain": [
       "False    2730\n",
       "Name: NAME_FIXED, dtype: int64"
      ]
     },
     "execution_count": 19,
     "metadata": {},
     "output_type": "execute_result"
    }
   ],
   "source": [
    "import numpy as np\n",
    "\n",
    "pipelines_2004_2009['NAME_FIXED'] = np.where(pd.isnull(pipelines_2004_2009['PARENT']), \n",
    "                                             pipelines_2004_2009['NAME'], \n",
    "                                             pipelines_2004_2009['PARENT'])\n",
    "pd.isnull(pipelines_2004_2009['NAME_FIXED']).value_counts()"
   ]
  },
  {
   "cell_type": "code",
   "execution_count": 20,
   "metadata": {},
   "outputs": [
    {
     "data": {
      "text/html": [
       "<div>\n",
       "<style scoped>\n",
       "    .dataframe tbody tr th:only-of-type {\n",
       "        vertical-align: middle;\n",
       "    }\n",
       "\n",
       "    .dataframe tbody tr th {\n",
       "        vertical-align: top;\n",
       "    }\n",
       "\n",
       "    .dataframe thead th {\n",
       "        text-align: right;\n",
       "    }\n",
       "</style>\n",
       "<table border=\"1\" class=\"dataframe\">\n",
       "  <thead>\n",
       "    <tr style=\"text-align: right;\">\n",
       "      <th></th>\n",
       "      <th>NAME_FIXED</th>\n",
       "      <th>NAME</th>\n",
       "      <th>PARENT</th>\n",
       "    </tr>\n",
       "  </thead>\n",
       "  <tbody>\n",
       "    <tr>\n",
       "      <th>1107</th>\n",
       "      <td>VALERO REFINING COMPANY - CALIFORNIA</td>\n",
       "      <td>VALERO REFINING COMPANY - CALIFORNIA</td>\n",
       "      <td>NaN</td>\n",
       "    </tr>\n",
       "    <tr>\n",
       "      <th>2018</th>\n",
       "      <td>DUKE ENERGY FIELD SERVICES, LP</td>\n",
       "      <td>DUKE ENERGY FIELD SERVICES, LP</td>\n",
       "      <td>NaN</td>\n",
       "    </tr>\n",
       "    <tr>\n",
       "      <th>1519</th>\n",
       "      <td>CHAPARRAL ENERGY, L.L.C.</td>\n",
       "      <td>CHAPARRAL ENERGY, L.L.C.</td>\n",
       "      <td>NaN</td>\n",
       "    </tr>\n",
       "    <tr>\n",
       "      <th>1675</th>\n",
       "      <td>MARATHON PETROLEUM COMPANY LLC</td>\n",
       "      <td>MARATHON ASHLAND PIPE LINE, LLC</td>\n",
       "      <td>MARATHON PETROLEUM COMPANY LLC</td>\n",
       "    </tr>\n",
       "    <tr>\n",
       "      <th>1711</th>\n",
       "      <td>THE DOW CHEMICAL COMPANY, INCORPORATED</td>\n",
       "      <td>UCAR PIPELINE INCORPORATED</td>\n",
       "      <td>THE DOW CHEMICAL COMPANY, INCORPORATED</td>\n",
       "    </tr>\n",
       "  </tbody>\n",
       "</table>\n",
       "</div>"
      ],
      "text/plain": [
       "                                  NAME_FIXED  \\\n",
       "1107    VALERO REFINING COMPANY - CALIFORNIA   \n",
       "2018          DUKE ENERGY FIELD SERVICES, LP   \n",
       "1519                CHAPARRAL ENERGY, L.L.C.   \n",
       "1675          MARATHON PETROLEUM COMPANY LLC   \n",
       "1711  THE DOW CHEMICAL COMPANY, INCORPORATED   \n",
       "\n",
       "                                      NAME  \\\n",
       "1107  VALERO REFINING COMPANY - CALIFORNIA   \n",
       "2018        DUKE ENERGY FIELD SERVICES, LP   \n",
       "1519              CHAPARRAL ENERGY, L.L.C.   \n",
       "1675       MARATHON ASHLAND PIPE LINE, LLC   \n",
       "1711            UCAR PIPELINE INCORPORATED   \n",
       "\n",
       "                                      PARENT  \n",
       "1107                                     NaN  \n",
       "2018                                     NaN  \n",
       "1519                                     NaN  \n",
       "1675          MARATHON PETROLEUM COMPANY LLC  \n",
       "1711  THE DOW CHEMICAL COMPANY, INCORPORATED  "
      ]
     },
     "execution_count": 20,
     "metadata": {},
     "output_type": "execute_result"
    }
   ],
   "source": [
    "pipelines_2004_2009[['NAME_FIXED', 'NAME', 'PARENT']].sample(5)"
   ]
  },
  {
   "cell_type": "markdown",
   "metadata": {},
   "source": [
    "Select columns"
   ]
  },
  {
   "cell_type": "code",
   "execution_count": 21,
   "metadata": {},
   "outputs": [
    {
     "data": {
      "text/plain": [
       "OPERATOR_ID      int64\n",
       "YR               int64\n",
       "NAME_FIXED      object\n",
       "HCAMT          float64\n",
       "dtype: object"
      ]
     },
     "execution_count": 21,
     "metadata": {},
     "output_type": "execute_result"
    }
   ],
   "source": [
    "pipelines_2004_selected = pipelines_2004_2009[['OPERATOR_ID', 'YR', 'NAME_FIXED', 'HCAMT']].copy()\n",
    "pipelines_2004_selected.dtypes"
   ]
  },
  {
   "cell_type": "code",
   "execution_count": 22,
   "metadata": {},
   "outputs": [
    {
     "data": {
      "text/plain": [
       "OPERATOR_ID     object\n",
       "YR               int64\n",
       "NAME_FIXED      object\n",
       "HCAMT          float64\n",
       "dtype: object"
      ]
     },
     "execution_count": 22,
     "metadata": {},
     "output_type": "execute_result"
    }
   ],
   "source": [
    "pipelines_2004_selected['OPERATOR_ID'] = pipelines_2004_selected['OPERATOR_ID'].astype(str)\n",
    "pipelines_2004_selected.dtypes"
   ]
  },
  {
   "cell_type": "code",
   "execution_count": 23,
   "metadata": {},
   "outputs": [
    {
     "data": {
      "text/html": [
       "<div>\n",
       "<style scoped>\n",
       "    .dataframe tbody tr th:only-of-type {\n",
       "        vertical-align: middle;\n",
       "    }\n",
       "\n",
       "    .dataframe tbody tr th {\n",
       "        vertical-align: top;\n",
       "    }\n",
       "\n",
       "    .dataframe thead th {\n",
       "        text-align: right;\n",
       "    }\n",
       "</style>\n",
       "<table border=\"1\" class=\"dataframe\">\n",
       "  <thead>\n",
       "    <tr style=\"text-align: right;\">\n",
       "      <th></th>\n",
       "      <th>OPERATOR_ID</th>\n",
       "      <th>YEAR</th>\n",
       "      <th>NAME</th>\n",
       "      <th>MILES_TOTAL</th>\n",
       "    </tr>\n",
       "  </thead>\n",
       "  <tbody>\n",
       "    <tr>\n",
       "      <th>122</th>\n",
       "      <td>31875</td>\n",
       "      <td>2008</td>\n",
       "      <td>MERIT ENERGY COMPANY</td>\n",
       "      <td>89.500</td>\n",
       "    </tr>\n",
       "    <tr>\n",
       "      <th>1075</th>\n",
       "      <td>32037</td>\n",
       "      <td>2009</td>\n",
       "      <td>ENERDYNE POWER SYSTEMS</td>\n",
       "      <td>0.000</td>\n",
       "    </tr>\n",
       "    <tr>\n",
       "      <th>1463</th>\n",
       "      <td>31672</td>\n",
       "      <td>2005</td>\n",
       "      <td>CHAPARRAL ENERGY, L.L.C.</td>\n",
       "      <td>0.000</td>\n",
       "    </tr>\n",
       "    <tr>\n",
       "      <th>857</th>\n",
       "      <td>31067</td>\n",
       "      <td>2006</td>\n",
       "      <td>AERA ENERGY LLC</td>\n",
       "      <td>1.583</td>\n",
       "    </tr>\n",
       "    <tr>\n",
       "      <th>145</th>\n",
       "      <td>31822</td>\n",
       "      <td>2008</td>\n",
       "      <td>SUNCOR ENERGY (USA) PIPELINE CO.</td>\n",
       "      <td>82.394</td>\n",
       "    </tr>\n",
       "  </tbody>\n",
       "</table>\n",
       "</div>"
      ],
      "text/plain": [
       "     OPERATOR_ID  YEAR                              NAME  MILES_TOTAL\n",
       "122        31875  2008              MERIT ENERGY COMPANY       89.500\n",
       "1075       32037  2009            ENERDYNE POWER SYSTEMS        0.000\n",
       "1463       31672  2005          CHAPARRAL ENERGY, L.L.C.        0.000\n",
       "857        31067  2006                   AERA ENERGY LLC        1.583\n",
       "145        31822  2008  SUNCOR ENERGY (USA) PIPELINE CO.       82.394"
      ]
     },
     "execution_count": 23,
     "metadata": {},
     "output_type": "execute_result"
    }
   ],
   "source": [
    "pipelines_2004_selected = pipelines_2004_selected.rename(\n",
    "    columns={'YR': 'YEAR', 'NAME_FIXED': 'NAME', 'HCAMT': 'MILES_TOTAL'})\n",
    "pipelines_2004_selected.sample(5)"
   ]
  },
  {
   "cell_type": "code",
   "execution_count": 24,
   "metadata": {},
   "outputs": [],
   "source": [
    "pipelines_2004_selected.to_feather(f'../preprocessed_data/pipelines_2004_selected_{today}.feather')"
   ]
  },
  {
   "cell_type": "markdown",
   "metadata": {},
   "source": [
    "### 3.3 Write original data to .feather for reference"
   ]
  },
  {
   "cell_type": "markdown",
   "metadata": {},
   "source": [
    "Some columns get erroneously read to data type 'O'. We convert those manually to str type."
   ]
  },
  {
   "cell_type": "code",
   "execution_count": 25,
   "metadata": {},
   "outputs": [],
   "source": [
    "pipelines_2010_present.loc[:, pipelines_2010_present.dtypes == 'O'] = pipelines_2010_present.loc[\n",
    "    :, pipelines_2010_present.dtypes == 'O'].astype(str)\n",
    "\n",
    "pipelines_2004_2009.loc[:, pipelines_2004_2009.dtypes == 'O'] = pipelines_2004_2009.loc[\n",
    "    :, pipelines_2004_2009.dtypes == 'O'].astype(str)\n",
    "\n",
    "incidents.loc[:, incidents.dtypes == 'O'] = incidents.loc[\n",
    "    :, incidents.dtypes == 'O'].astype(str)"
   ]
  },
  {
   "cell_type": "code",
   "execution_count": 26,
   "metadata": {},
   "outputs": [],
   "source": [
    "pipelines_2010_present.to_feather(f'../data/pipelines_2010_{today}.feather')\n",
    "pipelines_2004_2009.to_feather(f'../data/pipelines_2004_{today}.feather')\n",
    "incidents.to_feather(f'../data/incidents_{today}.feather')"
   ]
  }
 ],
 "metadata": {
  "kernelspec": {
   "display_name": "oil_industry",
   "language": "python",
   "name": "oil_industry"
  },
  "language_info": {
   "codemirror_mode": {
    "name": "ipython",
    "version": 3
   },
   "file_extension": ".py",
   "mimetype": "text/x-python",
   "name": "python",
   "nbconvert_exporter": "python",
   "pygments_lexer": "ipython3",
   "version": "3.6.8"
  }
 },
 "nbformat": 4,
 "nbformat_minor": 4
}
