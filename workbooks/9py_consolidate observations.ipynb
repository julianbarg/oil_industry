{
 "cells": [
  {
   "cell_type": "markdown",
   "metadata": {},
   "source": [
    "# 9. Consolidate observations"
   ]
  },
  {
   "cell_type": "code",
   "execution_count": 527,
   "metadata": {},
   "outputs": [],
   "source": [
    "sample_file = '../preprocessed_data/sample_2019-08-17.feather'\n",
    "consolidate = '../preprocessed_data/consolidate_2019-08-17.pickle'\n",
    "pipelines_2010_raw_file = '../data/pipelines_2010_2019-08-16.feather'"
   ]
  },
  {
   "cell_type": "markdown",
   "metadata": {},
   "source": [
    "We will use some R functions for convenience."
   ]
  },
  {
   "cell_type": "code",
   "execution_count": 528,
   "metadata": {},
   "outputs": [],
   "source": [
    "import rpy2.rinterface"
   ]
  },
  {
   "cell_type": "code",
   "execution_count": 529,
   "metadata": {},
   "outputs": [
    {
     "name": "stdout",
     "output_type": "stream",
     "text": [
      "The rpy2.ipython extension is already loaded. To reload it, use:\n",
      "  %reload_ext rpy2.ipython\n"
     ]
    }
   ],
   "source": [
    "%load_ext rpy2.ipython"
   ]
  },
  {
   "cell_type": "code",
   "execution_count": 530,
   "metadata": {},
   "outputs": [],
   "source": [
    "%%R\n",
    "suppressPackageStartupMessages(library(tidyverse))"
   ]
  },
  {
   "cell_type": "markdown",
   "metadata": {},
   "source": [
    "## Setup"
   ]
  },
  {
   "cell_type": "code",
   "execution_count": 531,
   "metadata": {},
   "outputs": [],
   "source": [
    "import pandas as pd\n",
    "import numpy as np\n",
    "from datetime import date\n",
    "from functools import partial\n",
    "\n",
    "today = date.today().isoformat()"
   ]
  },
  {
   "cell_type": "markdown",
   "metadata": {},
   "source": [
    "# Load data "
   ]
  },
  {
   "cell_type": "code",
   "execution_count": 532,
   "metadata": {},
   "outputs": [
    {
     "data": {
      "text/html": [
       "<div>\n",
       "<style scoped>\n",
       "    .dataframe tbody tr th:only-of-type {\n",
       "        vertical-align: middle;\n",
       "    }\n",
       "\n",
       "    .dataframe tbody tr th {\n",
       "        vertical-align: top;\n",
       "    }\n",
       "\n",
       "    .dataframe thead th {\n",
       "        text-align: right;\n",
       "    }\n",
       "</style>\n",
       "<table border=\"1\" class=\"dataframe\">\n",
       "  <thead>\n",
       "    <tr style=\"text-align: right;\">\n",
       "      <th></th>\n",
       "      <th>OPERATOR_ID</th>\n",
       "      <th>YEAR</th>\n",
       "      <th>NAME</th>\n",
       "      <th>COMMODITY</th>\n",
       "      <th>MILES</th>\n",
       "      <th>PARENT</th>\n",
       "      <th>INCIDENTS</th>\n",
       "      <th>SIGNIFICANT_INCIDENTS</th>\n",
       "    </tr>\n",
       "  </thead>\n",
       "  <tbody>\n",
       "    <tr>\n",
       "      <th>745</th>\n",
       "      <td>32334</td>\n",
       "      <td>2016</td>\n",
       "      <td>TC OIL PIPELINE OPERATIONS INC</td>\n",
       "      <td>crude</td>\n",
       "      <td>785.830</td>\n",
       "      <td>TransCanada USA</td>\n",
       "      <td>2.0</td>\n",
       "      <td>1.0</td>\n",
       "    </tr>\n",
       "    <tr>\n",
       "      <th>708</th>\n",
       "      <td>32147</td>\n",
       "      <td>2012</td>\n",
       "      <td>MARATHON PIPE LINE LLC</td>\n",
       "      <td>non-hvl</td>\n",
       "      <td>2043.950</td>\n",
       "      <td>Marathon Petroleum</td>\n",
       "      <td>1.0</td>\n",
       "      <td>0.0</td>\n",
       "    </tr>\n",
       "    <tr>\n",
       "      <th>593</th>\n",
       "      <td>31618</td>\n",
       "      <td>2015</td>\n",
       "      <td>ENTERPRISE PRODUCTS OPERATING LLC</td>\n",
       "      <td>non-hvl</td>\n",
       "      <td>624.302</td>\n",
       "      <td>Enterprise Products Partners</td>\n",
       "      <td>5.0</td>\n",
       "      <td>1.0</td>\n",
       "    </tr>\n",
       "  </tbody>\n",
       "</table>\n",
       "</div>"
      ],
      "text/plain": [
       "    OPERATOR_ID  YEAR                               NAME COMMODITY     MILES  \\\n",
       "745       32334  2016     TC OIL PIPELINE OPERATIONS INC     crude   785.830   \n",
       "708       32147  2012             MARATHON PIPE LINE LLC   non-hvl  2043.950   \n",
       "593       31618  2015  ENTERPRISE PRODUCTS OPERATING LLC   non-hvl   624.302   \n",
       "\n",
       "                           PARENT  INCIDENTS  SIGNIFICANT_INCIDENTS  \n",
       "745               TransCanada USA        2.0                    1.0  \n",
       "708            Marathon Petroleum        1.0                    0.0  \n",
       "593  Enterprise Products Partners        5.0                    1.0  "
      ]
     },
     "execution_count": 532,
     "metadata": {},
     "output_type": "execute_result"
    }
   ],
   "source": [
    "sample = pd.read_feather(sample_file)\n",
    "sample.sample(3)"
   ]
  },
  {
   "cell_type": "code",
   "execution_count": 533,
   "metadata": {},
   "outputs": [],
   "source": [
    "import pickle\n",
    "\n",
    "with open(consolidate, 'rb') as file:\n",
    "    company_groups, m_as, spin_offs = pickle.load(file)"
   ]
  },
  {
   "cell_type": "code",
   "execution_count": 545,
   "metadata": {},
   "outputs": [
    {
     "ename": "AttributeError",
     "evalue": "'list' object has no attribute 'itemgetter'",
     "output_type": "error",
     "traceback": [
      "\u001b[0;31m---------------------------------------------------------------------------\u001b[0m",
      "\u001b[0;31mAttributeError\u001b[0m                            Traceback (most recent call last)",
      "\u001b[0;32m<ipython-input-545-5db32caa5148>\u001b[0m in \u001b[0;36m<module>\u001b[0;34m\u001b[0m\n\u001b[0;32m----> 1\u001b[0;31m \u001b[0mpd\u001b[0m\u001b[0;34m.\u001b[0m\u001b[0mDataFrame\u001b[0m\u001b[0;34m(\u001b[0m\u001b[0mcompany_groups\u001b[0m\u001b[0;34m.\u001b[0m\u001b[0mitemgetter\u001b[0m\u001b[0;34m(\u001b[0m\u001b[0;34m)\u001b[0m\u001b[0;34m)\u001b[0m\u001b[0;34m\u001b[0m\u001b[0;34m\u001b[0m\u001b[0m\n\u001b[0m",
      "\u001b[0;31mAttributeError\u001b[0m: 'list' object has no attribute 'itemgetter'"
     ]
    }
   ],
   "source": [
    "pd.DataFrame()"
   ]
  },
  {
   "cell_type": "markdown",
   "metadata": {},
   "source": [
    "## 9.1 Calculate absolute change"
   ]
  },
  {
   "cell_type": "markdown",
   "metadata": {},
   "source": [
    "We calculate absolute change before merging to obtain more accurate data."
   ]
  },
  {
   "cell_type": "code",
   "execution_count": 534,
   "metadata": {},
   "outputs": [],
   "source": [
    "%%R -i sample\n",
    "sample <- sample %>%\n",
    "    group_by(OPERATOR_ID, COMMODITY) %>%\n",
    "    arrange(YEAR) %>%\n",
    "    mutate(CHANGE = abs(MILES - lag(MILES, 1)))"
   ]
  },
  {
   "cell_type": "code",
   "execution_count": 535,
   "metadata": {},
   "outputs": [
    {
     "data": {
      "text/html": [
       "<div>\n",
       "<style scoped>\n",
       "    .dataframe tbody tr th:only-of-type {\n",
       "        vertical-align: middle;\n",
       "    }\n",
       "\n",
       "    .dataframe tbody tr th {\n",
       "        vertical-align: top;\n",
       "    }\n",
       "\n",
       "    .dataframe thead th {\n",
       "        text-align: right;\n",
       "    }\n",
       "</style>\n",
       "<table border=\"1\" class=\"dataframe\">\n",
       "  <thead>\n",
       "    <tr style=\"text-align: right;\">\n",
       "      <th></th>\n",
       "      <th>OPERATOR_ID</th>\n",
       "      <th>YEAR</th>\n",
       "      <th>NAME</th>\n",
       "      <th>COMMODITY</th>\n",
       "      <th>MILES</th>\n",
       "      <th>PARENT</th>\n",
       "      <th>INCIDENTS</th>\n",
       "      <th>SIGNIFICANT_INCIDENTS</th>\n",
       "      <th>CHANGE</th>\n",
       "    </tr>\n",
       "  </thead>\n",
       "  <tbody>\n",
       "    <tr>\n",
       "      <th>599</th>\n",
       "      <td>38933</td>\n",
       "      <td>2016</td>\n",
       "      <td>TESORO LOGISTICS OPERATIONS LLC - SOUTHERN CAL...</td>\n",
       "      <td>crude</td>\n",
       "      <td>5.30</td>\n",
       "      <td>Marathon Petroleum</td>\n",
       "      <td>0.0</td>\n",
       "      <td>0.0</td>\n",
       "      <td>3.30</td>\n",
       "    </tr>\n",
       "    <tr>\n",
       "      <th>167</th>\n",
       "      <td>300</td>\n",
       "      <td>2012</td>\n",
       "      <td>PLAINS PIPELINE, L.P.</td>\n",
       "      <td>non-hvl</td>\n",
       "      <td>265.17</td>\n",
       "      <td>Plains All American Pipeline</td>\n",
       "      <td>1.0</td>\n",
       "      <td>1.0</td>\n",
       "      <td>61.63</td>\n",
       "    </tr>\n",
       "    <tr>\n",
       "      <th>634</th>\n",
       "      <td>18092</td>\n",
       "      <td>2017</td>\n",
       "      <td>SFPP, LP</td>\n",
       "      <td>non-hvl</td>\n",
       "      <td>1773.36</td>\n",
       "      <td>Kinder Morgan</td>\n",
       "      <td>5.0</td>\n",
       "      <td>3.0</td>\n",
       "      <td>5.05</td>\n",
       "    </tr>\n",
       "    <tr>\n",
       "      <th>614</th>\n",
       "      <td>2731</td>\n",
       "      <td>2017</td>\n",
       "      <td>CHEVRON PIPE LINE CO</td>\n",
       "      <td>crude</td>\n",
       "      <td>301.00</td>\n",
       "      <td>Chevron</td>\n",
       "      <td>0.0</td>\n",
       "      <td>0.0</td>\n",
       "      <td>0.00</td>\n",
       "    </tr>\n",
       "    <tr>\n",
       "      <th>444</th>\n",
       "      <td>12470</td>\n",
       "      <td>2015</td>\n",
       "      <td>MID - VALLEY PIPELINE CO</td>\n",
       "      <td>crude</td>\n",
       "      <td>662.00</td>\n",
       "      <td>Energy Transfer</td>\n",
       "      <td>1.0</td>\n",
       "      <td>1.0</td>\n",
       "      <td>6.00</td>\n",
       "    </tr>\n",
       "  </tbody>\n",
       "</table>\n",
       "</div>"
      ],
      "text/plain": [
       "    OPERATOR_ID  YEAR                                               NAME  \\\n",
       "599       38933  2016  TESORO LOGISTICS OPERATIONS LLC - SOUTHERN CAL...   \n",
       "167         300  2012                              PLAINS PIPELINE, L.P.   \n",
       "634       18092  2017                                           SFPP, LP   \n",
       "614        2731  2017                               CHEVRON PIPE LINE CO   \n",
       "444       12470  2015                           MID - VALLEY PIPELINE CO   \n",
       "\n",
       "    COMMODITY    MILES                        PARENT  INCIDENTS  \\\n",
       "599     crude     5.30            Marathon Petroleum        0.0   \n",
       "167   non-hvl   265.17  Plains All American Pipeline        1.0   \n",
       "634   non-hvl  1773.36                 Kinder Morgan        5.0   \n",
       "614     crude   301.00                       Chevron        0.0   \n",
       "444     crude   662.00               Energy Transfer        1.0   \n",
       "\n",
       "     SIGNIFICANT_INCIDENTS  CHANGE  \n",
       "599                    0.0    3.30  \n",
       "167                    1.0   61.63  \n",
       "634                    3.0    5.05  \n",
       "614                    0.0    0.00  \n",
       "444                    1.0    6.00  "
      ]
     },
     "execution_count": 535,
     "metadata": {},
     "output_type": "execute_result"
    }
   ],
   "source": [
    "sample = %Rget sample\n",
    "sample.sample(5)"
   ]
  },
  {
   "cell_type": "markdown",
   "metadata": {},
   "source": [
    "## 9.2 Consolidate observations"
   ]
  },
  {
   "cell_type": "markdown",
   "metadata": {},
   "source": [
    "### 9.2.1 Group observations: company_groups"
   ]
  },
  {
   "cell_type": "code",
   "execution_count": 536,
   "metadata": {},
   "outputs": [
    {
     "data": {
      "text/plain": [
       "[{'name': 'Enterprise Products (Group)',\n",
       "  'members': ['31618', '30829', '3445']},\n",
       " {'name': 'Buckeye (Group)', 'members': ['1845', '31371']},\n",
       " {'name': 'Marathon (Group)', 'members': ['32147', '22830']},\n",
       " {'name': 'Tesoro (Group)', 'members': ['38933', '39029']},\n",
       " {'name': 'Sunoco (Group)', 'members': ['18718', '12470', '39596']},\n",
       " {'name': 'Energy Transfer (Group)', 'members': ['32099', '39205']},\n",
       " {'name': 'ExxonMobil (Group)', 'members': ['4906', '12628']},\n",
       " {'name': 'NuStar', 'members': ['10012', '31454']},\n",
       " {'name': 'Kinder Morgan (Group)',\n",
       "  'members': ['15674', '18092', '26125', '32258']},\n",
       " {'name': 'Enbridge (Group)', 'members': ['11169', '32080', '32502']},\n",
       " {'name': 'Plains Pipeline (Group)', 'members': ['300', '31666']},\n",
       " {'name': 'BP (Group)', 'members': ['31189', '30781']}]"
      ]
     },
     "execution_count": 536,
     "metadata": {},
     "output_type": "execute_result"
    }
   ],
   "source": [
    "company_groups"
   ]
  },
  {
   "cell_type": "code",
   "execution_count": 538,
   "metadata": {},
   "outputs": [
    {
     "name": "stdout",
     "output_type": "stream",
     "text": [
      "    OPERATOR_ID  YEAR        NAME               COMMODITY  MILES  PARENT  \\\n",
      "771  BP (Group)  2015  BP (Group)       non-hvlhvlnon-hvl    NaN  parent   \n",
      "772  BP (Group)  2016  BP (Group)              hvlnon-hvl    NaN  parent   \n",
      "773  BP (Group)  2017  BP (Group)              hvlnon-hvl    NaN  parent   \n",
      "774  BP (Group)  2017  BP (Group)            non-hvlcrude    NaN  parent   \n",
      "775  BP (Group)  2018  BP (Group)  non-hvlcrudehvlnon-hvl    NaN  parent   \n",
      "\n",
      "     INCIDENTS  SIGNIFICANT_INCIDENTS  CHANGE  \n",
      "771        NaN                    NaN     NaN  \n",
      "772        NaN                    NaN     NaN  \n",
      "773        NaN                    NaN     NaN  \n",
      "774        NaN                    NaN     NaN  \n",
      "775        NaN                    NaN     NaN  \n"
     ]
    }
   ],
   "source": [
    "from functools import reduce\n",
    "\n",
    "for group in company_groups:\n",
    "    new_group = sample.loc[sample['OPERATOR_ID'].isin(group['members'])]\n",
    "    \n",
    "    new_group_miles = new_group[['YEAR', 'COMMODITY', 'MILES']].groupby(['YEAR', 'COMMODITY']).sum()\n",
    "    new_group_change = new_group[['YEAR', 'COMMODITY', 'CHANGE']].groupby(['YEAR', 'COMMODITY']).sum()\n",
    "    new_group_incidents = new_group[['YEAR', 'COMMODITY', 'INCIDENTS']].groupby(['YEAR', 'INCIDENTS']).sum()\n",
    "    \n",
    "    new_group_dfs = [new_group_miles, new_group_change, new_group_incidents]\n",
    "    new_group = reduce(lambda left, right: pd.merge(left, right, on=['YEAR', 'COMMODITY'], how='outer'), new_group_dfs)\n",
    "    new_group['OPERATOR_ID'] = group['name']\n",
    "    new_group['NAME'] = group['name']\n",
    "    new_group['PARENT'] = 'parent'\n",
    "    # new_group['YEAR'] = new_group.index\n",
    "    new_group = new_group.reset_index('YEAR')\n",
    "    \n",
    "    sample = pd.concat([sample, new_group], sort=False, ignore_index=True)\n",
    "    sample = sample.loc[~sample['OPERATOR_ID'].isin(group['members'])]\n",
    "\n",
    "sample = sample.reset_index(drop=True)\n",
    "print(sample.tail())"
   ]
  },
  {
   "cell_type": "markdown",
   "metadata": {},
   "source": [
    "### 9.2.2 Group observations: m_as"
   ]
  },
  {
   "cell_type": "code",
   "execution_count": 540,
   "metadata": {},
   "outputs": [
    {
     "data": {
      "text/plain": [
       "[{'name': 'Marathon (Group)',\n",
       "  'members': ['Marathon (Group)', 'Tesoro (Group)'],\n",
       "  'start_year': '2018'}]"
      ]
     },
     "execution_count": 540,
     "metadata": {},
     "output_type": "execute_result"
    }
   ],
   "source": [
    "m_as[:1]"
   ]
  },
  {
   "cell_type": "code",
   "execution_count": 541,
   "metadata": {},
   "outputs": [
    {
     "name": "stdout",
     "output_type": "stream",
     "text": [
      "          OPERATOR_ID  YEAR              NAME            COMMODITY    MILES  \\\n",
      "439  Marathon (Group)  2010  Marathon (Group)                crude   805.60   \n",
      "440  Marathon (Group)  2010  Marathon (Group)                  hvl    63.60   \n",
      "441  Marathon (Group)  2010  Marathon (Group)              non-hvl  2653.13   \n",
      "442  Marathon (Group)  2011  Marathon (Group)                crude   824.20   \n",
      "443  Marathon (Group)  2011  Marathon (Group)                  hvl    64.00   \n",
      "444  Marathon (Group)  2011  Marathon (Group)              non-hvl  2617.23   \n",
      "445  Marathon (Group)  2011  Marathon (Group)              non-hvl  2617.23   \n",
      "446  Marathon (Group)  2012  Marathon (Group)                crude   826.50   \n",
      "447  Marathon (Group)  2012  Marathon (Group)                  hvl    64.50   \n",
      "448  Marathon (Group)  2012  Marathon (Group)              non-hvl  2579.06   \n",
      "449  Marathon (Group)  2013  Marathon (Group)                crude  1234.50   \n",
      "450  Marathon (Group)  2013  Marathon (Group)                  hvl   168.20   \n",
      "451  Marathon (Group)  2013  Marathon (Group)              non-hvl  2857.84   \n",
      "452  Marathon (Group)  2013  Marathon (Group)              non-hvl  2857.84   \n",
      "453  Marathon (Group)  2014  Marathon (Group)                crude  1246.80   \n",
      "454  Marathon (Group)  2014  Marathon (Group)                  hvl   168.10   \n",
      "455  Marathon (Group)  2014  Marathon (Group)              non-hvl  2793.89   \n",
      "456  Marathon (Group)  2014  Marathon (Group)              non-hvl  2793.89   \n",
      "457  Marathon (Group)  2015  Marathon (Group)                crude  1247.80   \n",
      "458  Marathon (Group)  2015  Marathon (Group)                  hvl   168.10   \n",
      "459  Marathon (Group)  2015  Marathon (Group)              non-hvl  2751.39   \n",
      "460  Marathon (Group)  2015  Marathon (Group)              non-hvl  2751.39   \n",
      "461  Marathon (Group)  2016  Marathon (Group)                crude  1268.10   \n",
      "462  Marathon (Group)  2016  Marathon (Group)                  hvl   167.10   \n",
      "463  Marathon (Group)  2016  Marathon (Group)              non-hvl  2675.49   \n",
      "464  Marathon (Group)  2017  Marathon (Group)                crude  1594.20   \n",
      "465  Marathon (Group)  2017  Marathon (Group)                  hvl   167.10   \n",
      "466  Marathon (Group)  2017  Marathon (Group)              non-hvl  2582.95   \n",
      "467  Marathon (Group)  2017  Marathon (Group)              non-hvl  2582.95   \n",
      "468  Marathon (Group)  2018  Marathon (Group)                crude  1605.30   \n",
      "469  Marathon (Group)  2018  Marathon (Group)                  hvl   170.80   \n",
      "470  Marathon (Group)  2018  Marathon (Group)              non-hvl  2774.99   \n",
      "471  Marathon (Group)  2010  Marathon (Group)           non-hvlhvl      NaN   \n",
      "472  Marathon (Group)  2012  Marathon (Group)           hvlnon-hvl      NaN   \n",
      "473  Marathon (Group)  2016  Marathon (Group)           hvlnon-hvl      NaN   \n",
      "474  Marathon (Group)  2018  Marathon (Group)           non-hvlhvl      NaN   \n",
      "475    Tesoro (Group)  2012    Tesoro (Group)                crude     2.10   \n",
      "476    Tesoro (Group)  2012    Tesoro (Group)              non-hvl    13.40   \n",
      "477    Tesoro (Group)  2013    Tesoro (Group)                crude     2.10   \n",
      "478    Tesoro (Group)  2013    Tesoro (Group)              non-hvl   504.40   \n",
      "479    Tesoro (Group)  2014    Tesoro (Group)                crude     2.10   \n",
      "480    Tesoro (Group)  2014    Tesoro (Group)              non-hvl   480.30   \n",
      "481    Tesoro (Group)  2015    Tesoro (Group)                crude     2.00   \n",
      "482    Tesoro (Group)  2015    Tesoro (Group)              non-hvl   480.20   \n",
      "483    Tesoro (Group)  2016    Tesoro (Group)                crude     5.30   \n",
      "484    Tesoro (Group)  2016    Tesoro (Group)              non-hvl   494.40   \n",
      "485    Tesoro (Group)  2017    Tesoro (Group)                crude     8.60   \n",
      "486    Tesoro (Group)  2017    Tesoro (Group)              non-hvl   490.57   \n",
      "487    Tesoro (Group)  2018    Tesoro (Group)                crude   263.50   \n",
      "488    Tesoro (Group)  2018    Tesoro (Group)                  hvl     9.90   \n",
      "489    Tesoro (Group)  2018    Tesoro (Group)              non-hvl   657.30   \n",
      "490    Tesoro (Group)  2012    Tesoro (Group)         crudenon-hvl      NaN   \n",
      "491    Tesoro (Group)  2013    Tesoro (Group)         crudenon-hvl      NaN   \n",
      "492    Tesoro (Group)  2014    Tesoro (Group)  crudenon-hvlnon-hvl      NaN   \n",
      "493    Tesoro (Group)  2015    Tesoro (Group)         crudenon-hvl      NaN   \n",
      "494    Tesoro (Group)  2016    Tesoro (Group)         crudenon-hvl      NaN   \n",
      "495    Tesoro (Group)  2017    Tesoro (Group)  crudenon-hvlnon-hvl      NaN   \n",
      "496    Tesoro (Group)  2018    Tesoro (Group)      crudehvlnon-hvl      NaN   \n",
      "\n",
      "     PARENT  INCIDENTS  SIGNIFICANT_INCIDENTS  CHANGE  \n",
      "439  parent        NaN                    NaN    0.00  \n",
      "440  parent        NaN                    NaN    0.00  \n",
      "441  parent        NaN                    NaN    0.00  \n",
      "442  parent        NaN                    NaN   18.60  \n",
      "443  parent        NaN                    NaN    0.40  \n",
      "444  parent        NaN                    NaN   35.90  \n",
      "445  parent        NaN                    NaN   35.90  \n",
      "446  parent        NaN                    NaN    2.30  \n",
      "447  parent        NaN                    NaN    0.50  \n",
      "448  parent        NaN                    NaN   38.17  \n",
      "449  parent        NaN                    NaN  408.00  \n",
      "450  parent        NaN                    NaN  103.70  \n",
      "451  parent        NaN                    NaN  278.78  \n",
      "452  parent        NaN                    NaN  278.78  \n",
      "453  parent        NaN                    NaN   12.30  \n",
      "454  parent        NaN                    NaN    0.10  \n",
      "455  parent        NaN                    NaN   63.95  \n",
      "456  parent        NaN                    NaN   63.95  \n",
      "457  parent        NaN                    NaN    1.00  \n",
      "458  parent        NaN                    NaN    0.00  \n",
      "459  parent        NaN                    NaN   42.50  \n",
      "460  parent        NaN                    NaN   42.50  \n",
      "461  parent        NaN                    NaN   20.30  \n",
      "462  parent        NaN                    NaN    1.00  \n",
      "463  parent        NaN                    NaN   75.90  \n",
      "464  parent        NaN                    NaN  326.10  \n",
      "465  parent        NaN                    NaN    0.00  \n",
      "466  parent        NaN                    NaN  142.74  \n",
      "467  parent        NaN                    NaN  142.74  \n",
      "468  parent        NaN                    NaN   11.10  \n",
      "469  parent        NaN                    NaN    3.70  \n",
      "470  parent        NaN                    NaN  192.04  \n",
      "471  parent        NaN                    NaN     NaN  \n",
      "472  parent        NaN                    NaN     NaN  \n",
      "473  parent        NaN                    NaN     NaN  \n",
      "474  parent        NaN                    NaN     NaN  \n",
      "475  parent        NaN                    NaN    0.00  \n",
      "476  parent        NaN                    NaN    0.00  \n",
      "477  parent        NaN                    NaN    0.00  \n",
      "478  parent        NaN                    NaN    0.00  \n",
      "479  parent        NaN                    NaN    0.00  \n",
      "480  parent        NaN                    NaN   24.10  \n",
      "481  parent        NaN                    NaN    0.10  \n",
      "482  parent        NaN                    NaN    0.10  \n",
      "483  parent        NaN                    NaN    3.30  \n",
      "484  parent        NaN                    NaN   20.40  \n",
      "485  parent        NaN                    NaN    3.30  \n",
      "486  parent        NaN                    NaN    3.83  \n",
      "487  parent        NaN                    NaN  254.90  \n",
      "488  parent        NaN                    NaN    0.00  \n",
      "489  parent        NaN                    NaN  650.93  \n",
      "490  parent        NaN                    NaN     NaN  \n",
      "491  parent        NaN                    NaN     NaN  \n",
      "492  parent        NaN                    NaN     NaN  \n",
      "493  parent        NaN                    NaN     NaN  \n",
      "494  parent        NaN                    NaN     NaN  \n",
      "495  parent        NaN                    NaN     NaN  \n",
      "496  parent        NaN                    NaN     NaN  \n"
     ]
    }
   ],
   "source": [
    "for group in m_as[:1]:\n",
    "    observations = [sample[sample['OPERATOR_ID'] == member] for member in group['members']]\n",
    "    new_group = pd.concat(observations)\n",
    "    \n",
    "    if 'start_year' in group:\n",
    "        observations = new_group.loc[new_group['YEAR'] >= int(group['start_year'])]\n",
    "    if 'end_year' in group:\n",
    "        observations = new_group.loc[new_group['YEAR'] < int(group['start_year'])]\n",
    "    \n",
    "    print(new_group)\n",
    "    "
   ]
  },
  {
   "cell_type": "code",
   "execution_count": 542,
   "metadata": {},
   "outputs": [
    {
     "data": {
      "text/html": [
       "<div>\n",
       "<style scoped>\n",
       "    .dataframe tbody tr th:only-of-type {\n",
       "        vertical-align: middle;\n",
       "    }\n",
       "\n",
       "    .dataframe tbody tr th {\n",
       "        vertical-align: top;\n",
       "    }\n",
       "\n",
       "    .dataframe thead th {\n",
       "        text-align: right;\n",
       "    }\n",
       "</style>\n",
       "<table border=\"1\" class=\"dataframe\">\n",
       "  <thead>\n",
       "    <tr style=\"text-align: right;\">\n",
       "      <th></th>\n",
       "      <th>OPERATOR_ID</th>\n",
       "      <th>YEAR</th>\n",
       "      <th>NAME</th>\n",
       "      <th>COMMODITY</th>\n",
       "      <th>MILES</th>\n",
       "      <th>PARENT</th>\n",
       "      <th>INCIDENTS</th>\n",
       "      <th>SIGNIFICANT_INCIDENTS</th>\n",
       "      <th>CHANGE</th>\n",
       "    </tr>\n",
       "  </thead>\n",
       "  <tbody>\n",
       "  </tbody>\n",
       "</table>\n",
       "</div>"
      ],
      "text/plain": [
       "Empty DataFrame\n",
       "Columns: [OPERATOR_ID, YEAR, NAME, COMMODITY, MILES, PARENT, INCIDENTS, SIGNIFICANT_INCIDENTS, CHANGE]\n",
       "Index: []"
      ]
     },
     "execution_count": 542,
     "metadata": {},
     "output_type": "execute_result"
    }
   ],
   "source": [
    "sample[sample['YEAR'].isna()]"
   ]
  }
 ],
 "metadata": {
  "kernelspec": {
   "display_name": "oil_industry",
   "language": "python",
   "name": "oil_industry"
  },
  "language_info": {
   "codemirror_mode": {
    "name": "ipython",
    "version": 3
   },
   "file_extension": ".py",
   "mimetype": "text/x-python",
   "name": "python",
   "nbconvert_exporter": "python",
   "pygments_lexer": "ipython3",
   "version": "3.6.8"
  }
 },
 "nbformat": 4,
 "nbformat_minor": 4
}
