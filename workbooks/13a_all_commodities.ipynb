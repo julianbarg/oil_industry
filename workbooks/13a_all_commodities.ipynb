{
 "cells": [
  {
   "cell_type": "markdown",
   "metadata": {},
   "source": [
    "# 13. Modeling (Stata) - all commodities"
   ]
  },
  {
   "cell_type": "code",
   "execution_count": 1,
   "metadata": {},
   "outputs": [],
   "source": [
    "use \"../stata_data/sample_features_2019-09-05.dta\""
   ]
  },
  {
   "cell_type": "code",
   "execution_count": 2,
   "metadata": {},
   "outputs": [
    {
     "name": "stdout",
     "output_type": "stream",
     "text": [
      "YEAR          MILES         MILES_1950    MILES_1990    INCIDENTS     AVG_AGE       change_2      miles_avg_3   age_miles     perc_1960     perc_2000     avg_1950      avg_1990      SIGN_INC_M~E  log_sd_cha~e  miles_x_ch~e\n",
      "COMMODITY     AGE_UNKNOW~S  MILES_1960    MILES_2000    SIGNIFICAN~S  CHANGE        change_3      miles_1950_3  perc_pr~1940  perc_1970     perc_2010     avg_1960      avg_2000      M_A_3         sd_change_sq\n",
      "OPERATOR_ID   MILES_P~1940  MILES_1970    MILES_2010    GROUP         M_A           mean_chang~3  sign_inc_3    perc_1940     perc_1980     avg_pre_1940  avg_1970      avg_2010      LOG_INCIDE~E  sd_chang~w_3\n",
      "NAME          MILES_1940    MILES_1980    PARENT        PERC_OFFSH~E  change_1      sd_change_3   inc_per_mi~3  perc_1950     perc_1990     avg_1940      avg_1980      INCIDENTS_~E  LOG_SIGN_I~E  one_over_s~e\n"
     ]
    }
   ],
   "source": [
    "ds"
   ]
  },
  {
   "cell_type": "code",
   "execution_count": 3,
   "metadata": {},
   "outputs": [],
   "source": [
    "egen panelid = group(OPERATOR_ID COMMODITY), label"
   ]
  },
  {
   "cell_type": "code",
   "execution_count": 4,
   "metadata": {},
   "outputs": [
    {
     "name": "stdout",
     "output_type": "stream",
     "text": [
      "       panel variable:  panelid (unbalanced)\n",
      "        time variable:  YEAR, 2008 to 2018, but with gaps\n",
      "                delta:  1 unit\n"
     ]
    }
   ],
   "source": [
    "xtset panelid YEAR"
   ]
  },
  {
   "cell_type": "code",
   "execution_count": 6,
   "metadata": {},
   "outputs": [
    {
     "name": "stdout",
     "output_type": "stream",
     "text": [
      "\n",
      "Fixed-effects (within) regression               Number of obs     =        604\n",
      "Group variable: panelid                         Number of groups  =        114\n",
      "\n",
      "R-sq:                                           Obs per group:\n",
      "     within  = 0.0104                                         min =          1\n",
      "     between = 0.0003                                         avg =        5.3\n",
      "     overall = 0.0000                                         max =          6\n",
      "\n",
      "                                                F(10,113)         =       0.88\n",
      "corr(u_i, Xb)  = -0.3173                        Prob > F          =     0.5579\n",
      "\n",
      "                              (Std. Err. adjusted for 114 clusters in panelid)\n",
      "------------------------------------------------------------------------------\n",
      "             |               Robust\n",
      "inc_per_mi~3 |      Coef.   Std. Err.      t    P>|t|     [95% Conf. Interval]\n",
      "-------------+----------------------------------------------------------------\n",
      " sd_change_3 |  -4.24e-06   2.07e-06    -2.05   0.042    -8.34e-06   -1.51e-07\n",
      "sd_change_sq |   2.98e-09   1.60e-09     1.86   0.065    -1.92e-10    6.15e-09\n",
      "    avg_1940 |   .0051743   .0048878     1.06   0.292    -.0045094    .0148579\n",
      "    avg_1950 |   .0035782   .0063618     0.56   0.575    -.0090256    .0161821\n",
      "    avg_1960 |   .0088428     .00541     1.63   0.105    -.0018753     .019561\n",
      "    avg_1970 |   .0074957    .005391     1.39   0.167    -.0031848    .0181763\n",
      "    avg_1980 |  -.0026457   .0125642    -0.21   0.834    -.0275376    .0222463\n",
      "    avg_1990 |   .0142277   .0074471     1.91   0.059    -.0005263    .0289816\n",
      "    avg_2000 |   .0051925   .0070542     0.74   0.463    -.0087831     .019168\n",
      "    avg_2010 |   .0096785   .0056166     1.72   0.088     -.001449    .0208059\n",
      "       _cons |  -.0034775   .0040293    -0.86   0.390    -.0114602    .0045053\n",
      "-------------+----------------------------------------------------------------\n",
      "     sigma_u |  .00786497\n",
      "     sigma_e |  .00567187\n",
      "         rho |  .65786629   (fraction of variance due to u_i)\n",
      "------------------------------------------------------------------------------\n"
     ]
    }
   ],
   "source": [
    "xtreg inc_per_mile_3 sd_change_3 sd_change_sq avg_1940 avg_1950 avg_1960 avg_1970 avg_1980 avg_1990 avg_2000 avg_2010, fe vce(robust)"
   ]
  },
  {
   "cell_type": "code",
   "execution_count": 7,
   "metadata": {},
   "outputs": [],
   "source": [
    "local date : di  %tdCY-N-D  daily(\"$S_DATE\", \"DMY\")"
   ]
  },
  {
   "cell_type": "code",
   "execution_count": 8,
   "metadata": {},
   "outputs": [
    {
     "name": "stdout",
     "output_type": "stream",
     "text": [
      "Note: file will be replaced when the first putexcel command is issued\n"
     ]
    }
   ],
   "source": [
    "putexcel set \"../results/fe_all_`date'.xlsx\", replace"
   ]
  },
  {
   "cell_type": "code",
   "execution_count": 9,
   "metadata": {},
   "outputs": [],
   "source": [
    "matrix D = r(table)'"
   ]
  },
  {
   "cell_type": "code",
   "execution_count": 10,
   "metadata": {},
   "outputs": [
    {
     "name": "stdout",
     "output_type": "stream",
     "text": [
      "file ../results/fe_all_2019-09-06.xlsx saved\n"
     ]
    }
   ],
   "source": [
    "putexcel A1 = matrix(D), names"
   ]
  },
  {
   "cell_type": "markdown",
   "metadata": {},
   "source": [
    "## Hausman test"
   ]
  },
  {
   "cell_type": "code",
   "execution_count": 11,
   "metadata": {},
   "outputs": [
    {
     "name": "stdout",
     "output_type": "stream",
     "text": [
      "\n",
      "Fixed-effects (within) regression               Number of obs     =        604\n",
      "Group variable: panelid                         Number of groups  =        114\n",
      "\n",
      "R-sq:                                           Obs per group:\n",
      "     within  = 0.0104                                         min =          1\n",
      "     between = 0.0003                                         avg =        5.3\n",
      "     overall = 0.0000                                         max =          6\n",
      "\n",
      "                                                F(10,480)         =       0.51\n",
      "corr(u_i, Xb)  = -0.3173                        Prob > F          =     0.8860\n",
      "\n",
      "------------------------------------------------------------------------------\n",
      "inc_per_mi~3 |      Coef.   Std. Err.      t    P>|t|     [95% Conf. Interval]\n",
      "-------------+----------------------------------------------------------------\n",
      " sd_change_3 |  -4.24e-06   4.65e-06    -0.91   0.361    -.0000134    4.88e-06\n",
      "sd_change_sq |   2.98e-09   4.33e-09     0.69   0.491    -5.52e-09    1.15e-08\n",
      "    avg_1940 |   .0051743   .0089514     0.58   0.564    -.0124146    .0227631\n",
      "    avg_1950 |   .0035782   .0089514     0.40   0.690    -.0140105     .021167\n",
      "    avg_1960 |   .0088428   .0090483     0.98   0.329    -.0089363     .026622\n",
      "    avg_1970 |   .0074957   .0090875     0.82   0.410    -.0103605     .025352\n",
      "    avg_1980 |  -.0026457    .011406    -0.23   0.817    -.0250575    .0197662\n",
      "    avg_1990 |   .0142277   .0090598     1.57   0.117     -.003574    .0320293\n",
      "    avg_2000 |   .0051925   .0087708     0.59   0.554    -.0120415    .0224264\n",
      "    avg_2010 |   .0096785   .0091532     1.06   0.291    -.0083067    .0276637\n",
      "       _cons |  -.0034775   .0077366    -0.45   0.653    -.0186792    .0117243\n",
      "-------------+----------------------------------------------------------------\n",
      "     sigma_u |  .00786497\n",
      "     sigma_e |  .00567187\n",
      "         rho |  .65786629   (fraction of variance due to u_i)\n",
      "------------------------------------------------------------------------------\n",
      "F test that all u_i=0: F(113, 480) = 8.79                    Prob > F = 0.0000\n"
     ]
    }
   ],
   "source": [
    "xtreg inc_per_mile_3 sd_change_3 sd_change_sq avg_1940 avg_1950 avg_1960 avg_1970 avg_1980 avg_1990 avg_2000 avg_2010, fe"
   ]
  },
  {
   "cell_type": "code",
   "execution_count": 12,
   "metadata": {},
   "outputs": [],
   "source": [
    "estimate store fixed"
   ]
  },
  {
   "cell_type": "code",
   "execution_count": 13,
   "metadata": {},
   "outputs": [
    {
     "name": "stdout",
     "output_type": "stream",
     "text": [
      "\n",
      "Random-effects GLS regression                   Number of obs     =        604\n",
      "Group variable: panelid                         Number of groups  =        114\n",
      "\n",
      "R-sq:                                           Obs per group:\n",
      "     within  = 0.0032                                         min =          1\n",
      "     between = 0.0502                                         avg =        5.3\n",
      "     overall = 0.0292                                         max =          6\n",
      "\n",
      "                                                Wald chi2(10)     =       6.34\n",
      "corr(u_i, X)   = 0 (assumed)                    Prob > chi2       =     0.7856\n",
      "\n",
      "------------------------------------------------------------------------------\n",
      "inc_per_mi~3 |      Coef.   Std. Err.      z    P>|z|     [95% Conf. Interval]\n",
      "-------------+----------------------------------------------------------------\n",
      " sd_change_3 |  -4.76e-06   4.20e-06    -1.13   0.258     -.000013    3.48e-06\n",
      "sd_change_sq |   3.42e-09   4.11e-09     0.83   0.405    -4.64e-09    1.15e-08\n",
      "    avg_1940 |   .0018618   .0073152     0.25   0.799    -.0124756    .0161993\n",
      "    avg_1950 |   .0068166   .0066684     1.02   0.307    -.0062533    .0198864\n",
      "    avg_1960 |    .002601   .0066888     0.39   0.697    -.0105088    .0157108\n",
      "    avg_1970 |   .0043338   .0066247     0.65   0.513    -.0086504     .017318\n",
      "    avg_1980 |   .0016634    .007269     0.23   0.819    -.0125835    .0159103\n",
      "    avg_1990 |    .006612   .0067307     0.98   0.326    -.0065799     .019804\n",
      "    avg_2000 |   .0067877    .006981     0.97   0.331    -.0068947    .0204702\n",
      "    avg_2010 |   .0070461   .0066793     1.05   0.291    -.0060451    .0201373\n",
      "       _cons |  -.0013153   .0061934    -0.21   0.832    -.0134541    .0108235\n",
      "-------------+----------------------------------------------------------------\n",
      "     sigma_u |  .00702615\n",
      "     sigma_e |  .00567187\n",
      "         rho |  .60545374   (fraction of variance due to u_i)\n",
      "------------------------------------------------------------------------------\n"
     ]
    }
   ],
   "source": [
    "xtreg inc_per_mile_3 sd_change_3 sd_change_sq avg_1940 avg_1950 avg_1960 avg_1970 avg_1980 avg_1990 avg_2000 avg_2010, re"
   ]
  },
  {
   "cell_type": "code",
   "execution_count": 14,
   "metadata": {},
   "outputs": [
    {
     "name": "stdout",
     "output_type": "stream",
     "text": [
      "\n",
      "Note: the rank of the differenced variance matrix (9) does not equal the number of coefficients being tested (10); be sure this is what you expect, or there may be problems computing the test.  Examine the output of your estimators for anything unexpected\n",
      "        and possibly consider scaling your variables so that the coefficients are on a similar scale.\n",
      "\n",
      "                 ---- Coefficients ----\n",
      "             |      (b)          (B)            (b-B)     sqrt(diag(V_b-V_B))\n",
      "             |     fixed          .          Difference          S.E.\n",
      "-------------+----------------------------------------------------------------\n",
      " sd_change_3 |   -4.24e-06    -4.76e-06        5.15e-07        1.95e-06\n",
      "sd_change_sq |    2.98e-09     3.42e-09       -4.41e-10        1.31e-09\n",
      "    avg_1940 |    .0051743     .0018618        .0033124         .005116\n",
      "    avg_1950 |    .0035782     .0068166       -.0032383        .0059344\n",
      "    avg_1960 |    .0088428      .002601        .0062418        .0060564\n",
      "    avg_1970 |    .0074957     .0043338        .0031619        .0061839\n",
      "    avg_1980 |   -.0026457     .0016634       -.0043091        .0087487\n",
      "    avg_1990 |    .0142277      .006612        .0076156        .0060269\n",
      "    avg_2000 |    .0051925     .0067877       -.0015952        .0052696\n",
      "    avg_2010 |    .0096785     .0070461        .0026324        .0062213\n",
      "------------------------------------------------------------------------------\n",
      "                           b = consistent under Ho and Ha; obtained from xtreg\n",
      "            B = inconsistent under Ha, efficient under Ho; obtained from xtreg\n",
      "\n",
      "    Test:  Ho:  difference in coefficients not systematic\n",
      "\n",
      "                  chi2(9) = (b-B)'[(V_b-V_B)^(-1)](b-B)\n",
      "                          =        6.13\n",
      "                Prob>chi2 =      0.7266\n"
     ]
    }
   ],
   "source": [
    "hausman fixed ., sigmamore"
   ]
  }
 ],
 "metadata": {
  "kernelspec": {
   "display_name": "Stata",
   "language": "stata",
   "name": "stata"
  },
  "language_info": {
   "codemirror_mode": "stata",
   "file_extension": ".do",
   "mimetype": "text/x-stata",
   "name": "stata",
   "version": "15.1"
  }
 },
 "nbformat": 4,
 "nbformat_minor": 4
}
