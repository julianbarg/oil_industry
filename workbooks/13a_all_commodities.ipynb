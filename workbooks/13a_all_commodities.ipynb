{
 "cells": [
  {
   "cell_type": "markdown",
   "metadata": {},
   "source": [
    "# 13. Modeling (Stata) - all commodities"
   ]
  },
  {
   "cell_type": "code",
   "execution_count": 1,
   "metadata": {},
   "outputs": [],
   "source": [
    "use \"../stata_data/sample_features_2019-09-03.dta\""
   ]
  },
  {
   "cell_type": "code",
   "execution_count": 2,
   "metadata": {},
   "outputs": [
    {
     "name": "stdout",
     "output_type": "stream",
     "text": [
      "YEAR          MILES         MILES_1950    MILES_1990    INCIDENTS     AVG_AGE       change_2      miles_avg_3   age_miles     perc_1960     perc_2000     avg_1950      avg_1990      SIGN_INC_M~E  log_sd_cha~e  miles_x_ch~e\n",
      "COMMODITY     AGE_UNKNOW~S  MILES_1960    MILES_2000    SIGNIFICAN~S  CHANGE        change_3      miles_1950_3  perc_pr~1940  perc_1970     perc_2010     avg_1960      avg_2000      M_A_3         sd_change_sq\n",
      "OPERATOR_ID   MILES_P~1940  MILES_1970    MILES_2010    GROUP         M_A           mean_chang~3  sign_inc_3    perc_1940     perc_1980     avg_pre_1940  avg_1970      avg_2010      LOG_INCIDE~E  sd_chang~w_3\n",
      "NAME          MILES_1940    MILES_1980    PARENT        PERC_OFFSH~E  change_1      sd_change_3   inc_per_mi~3  perc_1950     perc_1990     avg_1940      avg_1980      INCIDENTS_~E  LOG_SIGN_I~E  one_over_s~e\n"
     ]
    }
   ],
   "source": [
    "ds"
   ]
  },
  {
   "cell_type": "code",
   "execution_count": 3,
   "metadata": {},
   "outputs": [],
   "source": [
    "egen panelid = group(OPERATOR_ID COMMODITY), label"
   ]
  },
  {
   "cell_type": "code",
   "execution_count": 4,
   "metadata": {},
   "outputs": [
    {
     "name": "stdout",
     "output_type": "stream",
     "text": [
      "       panel variable:  panelid (unbalanced)\n",
      "        time variable:  YEAR, 2008 to 2018, but with gaps\n",
      "                delta:  1 unit\n"
     ]
    }
   ],
   "source": [
    "xtset panelid YEAR"
   ]
  },
  {
   "cell_type": "code",
   "execution_count": 5,
   "metadata": {},
   "outputs": [
    {
     "name": "stdout",
     "output_type": "stream",
     "text": [
      "\n",
      "Fixed-effects (within) regression               Number of obs     =        635\n",
      "Group variable: panelid                         Number of groups  =        117\n",
      "\n",
      "R-sq:                                           Obs per group:\n",
      "     within  = 0.0013                                         min =          1\n",
      "     between = 0.0103                                         avg =        5.4\n",
      "     overall = 0.0047                                         max =          6\n",
      "\n",
      "                                                F(1,116)          =          .\n",
      "corr(u_i, Xb)  = 0.0405                         Prob > F          =          .\n",
      "\n",
      "                              (Std. Err. adjusted for 117 clusters in panelid)\n",
      "------------------------------------------------------------------------------\n",
      "             |               Robust\n",
      "inc_per_mi~3 |      Coef.   Std. Err.      t    P>|t|     [95% Conf. Interval]\n",
      "-------------+----------------------------------------------------------------\n",
      " sd_change_3 |  -3.14e-06   1.81e-06    -1.74   0.085    -6.72e-06    4.37e-07\n",
      "sd_change_sq |   1.81e-09   9.96e-10     1.81   0.072    -1.65e-10    3.78e-09\n",
      "       _cons |   .0033118   .0001455    22.77   0.000     .0030237       .0036\n",
      "-------------+----------------------------------------------------------------\n",
      "     sigma_u |   .0073836\n",
      "     sigma_e |  .00549859\n",
      "         rho |  .64325908   (fraction of variance due to u_i)\n",
      "------------------------------------------------------------------------------\n"
     ]
    }
   ],
   "source": [
    "xtreg inc_per_mile_3 sd_change_3 sd_change_sq, fe vce(robust)"
   ]
  },
  {
   "cell_type": "code",
   "execution_count": 6,
   "metadata": {},
   "outputs": [
    {
     "name": "stdout",
     "output_type": "stream",
     "text": [
      "\n",
      "Fixed-effects (within) regression               Number of obs     =        604\n",
      "Group variable: panelid                         Number of groups  =        114\n",
      "\n",
      "R-sq:                                           Obs per group:\n",
      "     within  = 0.0114                                         min =          1\n",
      "     between = 0.0002                                         avg =        5.3\n",
      "     overall = 0.0000                                         max =          6\n",
      "\n",
      "                                                F(9,113)          =          .\n",
      "corr(u_i, Xb)  = -0.3253                        Prob > F          =          .\n",
      "\n",
      "                              (Std. Err. adjusted for 114 clusters in panelid)\n",
      "------------------------------------------------------------------------------\n",
      "             |               Robust\n",
      "inc_per_mi~3 |      Coef.   Std. Err.      t    P>|t|     [95% Conf. Interval]\n",
      "-------------+----------------------------------------------------------------\n",
      " sd_change_3 |  -4.46e-06   1.76e-06    -2.53   0.013    -7.95e-06   -9.74e-07\n",
      "sd_change_sq |   2.87e-09   1.04e-09     2.76   0.007     8.10e-10    4.93e-09\n",
      "    avg_1940 |    .006574    .005007     1.31   0.192    -.0033458    .0164938\n",
      "    avg_1950 |   .0047516   .0064353     0.74   0.462     -.007998    .0175011\n",
      "    avg_1960 |   .0103321   .0055383     1.87   0.065    -.0006402    .0213044\n",
      "    avg_1970 |   .0089262   .0053916     1.66   0.101    -.0017556    .0196079\n",
      "    avg_1980 |  -.0012723   .0124456    -0.10   0.919    -.0259293    .0233847\n",
      "    avg_1990 |   .0156452   .0075439     2.07   0.040     .0006994     .030591\n",
      "    avg_2000 |    .006537   .0071191     0.92   0.360    -.0075671    .0206412\n",
      "    avg_2010 |   .0109028   .0056352     1.93   0.056    -.0002616    .0220672\n",
      "       _cons |  -.0047853   .0040787    -1.17   0.243    -.0128659    .0032953\n",
      "-------------+----------------------------------------------------------------\n",
      "     sigma_u |  .00788856\n",
      "     sigma_e |  .00567102\n",
      "         rho |  .65928066   (fraction of variance due to u_i)\n",
      "------------------------------------------------------------------------------\n"
     ]
    }
   ],
   "source": [
    "xtreg inc_per_mile_3 sd_change_3 sd_change_sq avg_1940 avg_1950 avg_1960 avg_1970 avg_1980 avg_1990 avg_2000 avg_2010, fe vce(robust)"
   ]
  },
  {
   "cell_type": "markdown",
   "metadata": {},
   "source": [
    "## Hausman test"
   ]
  },
  {
   "cell_type": "code",
   "execution_count": 7,
   "metadata": {},
   "outputs": [
    {
     "name": "stdout",
     "output_type": "stream",
     "text": [
      "\n",
      "Fixed-effects (within) regression               Number of obs     =        604\n",
      "Group variable: panelid                         Number of groups  =        114\n",
      "\n",
      "R-sq:                                           Obs per group:\n",
      "     within  = 0.0114                                         min =          1\n",
      "     between = 0.0002                                         avg =        5.3\n",
      "     overall = 0.0000                                         max =          6\n",
      "\n",
      "                                                F(10,480)         =       0.55\n",
      "corr(u_i, Xb)  = -0.3253                        Prob > F          =     0.8531\n",
      "\n",
      "------------------------------------------------------------------------------\n",
      "inc_per_mi~3 |      Coef.   Std. Err.      t    P>|t|     [95% Conf. Interval]\n",
      "-------------+----------------------------------------------------------------\n",
      " sd_change_3 |  -4.46e-06   4.20e-06    -1.06   0.288    -.0000127    3.79e-06\n",
      "sd_change_sq |   2.87e-09   2.96e-09     0.97   0.333    -2.95e-09    8.69e-09\n",
      "    avg_1940 |    .006574   .0091709     0.72   0.474     -.011446     .024594\n",
      "    avg_1950 |   .0047516   .0091482     0.52   0.604    -.0132239    .0227271\n",
      "    avg_1960 |   .0103321   .0092552     1.12   0.265    -.0078535    .0285178\n",
      "    avg_1970 |   .0089262   .0092683     0.96   0.336    -.0092852    .0271376\n",
      "    avg_1980 |  -.0012723   .0115144    -0.11   0.912    -.0238972    .0213526\n",
      "    avg_1990 |   .0156452   .0092511     1.69   0.091    -.0025325    .0338229\n",
      "    avg_2000 |    .006537     .00896     0.73   0.466    -.0110687    .0241427\n",
      "    avg_2010 |   .0109028   .0093084     1.17   0.242    -.0073875    .0291931\n",
      "       _cons |  -.0047853   .0079426    -0.60   0.547    -.0203918    .0108213\n",
      "-------------+----------------------------------------------------------------\n",
      "     sigma_u |  .00788856\n",
      "     sigma_e |  .00567102\n",
      "         rho |  .65928066   (fraction of variance due to u_i)\n",
      "------------------------------------------------------------------------------\n",
      "F test that all u_i=0: F(113, 480) = 8.80                    Prob > F = 0.0000\n"
     ]
    }
   ],
   "source": [
    "xtreg inc_per_mile_3 sd_change_3 sd_change_sq avg_1940 avg_1950 avg_1960 avg_1970 avg_1980 avg_1990 avg_2000 avg_2010, fe"
   ]
  },
  {
   "cell_type": "code",
   "execution_count": 8,
   "metadata": {},
   "outputs": [],
   "source": [
    "estimate store fixed"
   ]
  },
  {
   "cell_type": "code",
   "execution_count": 9,
   "metadata": {},
   "outputs": [
    {
     "name": "stdout",
     "output_type": "stream",
     "text": [
      "\n",
      "Random-effects GLS regression                   Number of obs     =        604\n",
      "Group variable: panelid                         Number of groups  =        114\n",
      "\n",
      "R-sq:                                           Obs per group:\n",
      "     within  = 0.0038                                         min =          1\n",
      "     between = 0.0487                                         avg =        5.3\n",
      "     overall = 0.0285                                         max =          6\n",
      "\n",
      "                                                Wald chi2(10)     =       6.56\n",
      "corr(u_i, X)   = 0 (assumed)                    Prob > chi2       =     0.7664\n",
      "\n",
      "------------------------------------------------------------------------------\n",
      "inc_per_mi~3 |      Coef.   Std. Err.      z    P>|z|     [95% Conf. Interval]\n",
      "-------------+----------------------------------------------------------------\n",
      " sd_change_3 |  -4.68e-06   3.78e-06    -1.24   0.215    -.0000121    2.72e-06\n",
      "sd_change_sq |   3.07e-09   2.78e-09     1.10   0.270    -2.38e-09    8.53e-09\n",
      "    avg_1940 |   .0026905   .0074735     0.36   0.719    -.0119573    .0173383\n",
      "    avg_1950 |    .007612   .0068298     1.11   0.265    -.0057742    .0209981\n",
      "    avg_1960 |   .0034323   .0068477     0.50   0.616    -.0099889    .0168536\n",
      "    avg_1970 |   .0051135   .0067879     0.75   0.451    -.0081906    .0184176\n",
      "    avg_1980 |   .0024412   .0074072     0.33   0.742    -.0120766    .0169589\n",
      "    avg_1990 |   .0074032   .0068912     1.07   0.283    -.0061033    .0209098\n",
      "    avg_2000 |   .0075772   .0071423     1.06   0.289    -.0064213    .0215758\n",
      "    avg_2010 |   .0077659   .0068313     1.14   0.256    -.0056232     .021155\n",
      "       _cons |  -.0020774   .0063583    -0.33   0.744    -.0145395    .0103847\n",
      "-------------+----------------------------------------------------------------\n",
      "     sigma_u |  .00702633\n",
      "     sigma_e |  .00567102\n",
      "         rho |  .60553743   (fraction of variance due to u_i)\n",
      "------------------------------------------------------------------------------\n"
     ]
    }
   ],
   "source": [
    "xtreg inc_per_mile_3 sd_change_3 sd_change_sq avg_1940 avg_1950 avg_1960 avg_1970 avg_1980 avg_1990 avg_2000 avg_2010, re"
   ]
  },
  {
   "cell_type": "code",
   "execution_count": 10,
   "metadata": {},
   "outputs": [
    {
     "name": "stdout",
     "output_type": "stream",
     "text": [
      "\n",
      "Note: the rank of the differenced variance matrix (9) does not equal the number of coefficients being tested (10); be sure this is what you expect, or there may be problems computing the test.  Examine the output of your estimators for anything unexpected\n",
      "        and possibly consider scaling your variables so that the coefficients are on a similar scale.\n",
      "\n",
      "                 ---- Coefficients ----\n",
      "             |      (b)          (B)            (b-B)     sqrt(diag(V_b-V_B))\n",
      "             |     fixed          .          Difference          S.E.\n",
      "-------------+----------------------------------------------------------------\n",
      " sd_change_3 |   -4.46e-06    -4.68e-06        2.17e-07        1.81e-06\n",
      "sd_change_sq |    2.87e-09     3.07e-09       -2.03e-10        9.82e-10\n",
      "    avg_1940 |     .006574     .0026905        .0038835        .0052745\n",
      "    avg_1950 |    .0047516      .007612       -.0028604         .006051\n",
      "    avg_1960 |    .0103321     .0034323        .0068998        .0061909\n",
      "    avg_1970 |    .0089262     .0051135        .0038127        .0062757\n",
      "    avg_1980 |   -.0012723     .0024412       -.0037135         .008777\n",
      "    avg_1990 |    .0156452     .0074032         .008242        .0061364\n",
      "    avg_2000 |     .006537     .0075772       -.0010402         .005372\n",
      "    avg_2010 |    .0109028     .0077659        .0031369        .0062877\n",
      "------------------------------------------------------------------------------\n",
      "                           b = consistent under Ho and Ha; obtained from xtreg\n",
      "            B = inconsistent under Ha, efficient under Ho; obtained from xtreg\n",
      "\n",
      "    Test:  Ho:  difference in coefficients not systematic\n",
      "\n",
      "                  chi2(9) = (b-B)'[(V_b-V_B)^(-1)](b-B)\n",
      "                          =        6.10\n",
      "                Prob>chi2 =      0.7296\n"
     ]
    }
   ],
   "source": [
    "hausman fixed ., sigmamore"
   ]
  }
 ],
 "metadata": {
  "kernelspec": {
   "display_name": "Stata",
   "language": "stata",
   "name": "stata"
  },
  "language_info": {
   "codemirror_mode": "stata",
   "file_extension": ".do",
   "mimetype": "text/x-stata",
   "name": "stata",
   "version": "15.1"
  }
 },
 "nbformat": 4,
 "nbformat_minor": 4
}
