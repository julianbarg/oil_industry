{
 "cells": [
  {
   "cell_type": "markdown",
   "metadata": {},
   "source": [
    "# 8. Resolve data issues"
   ]
  },
  {
   "cell_type": "code",
   "execution_count": 1,
   "metadata": {},
   "outputs": [],
   "source": [
    "sample_file = '../preprocessed_data/sample_2019-08-17.feather'\n",
    "issues_to_address = '../preprocessed_data/issues_to_address_2019-08-17.pickle'\n",
    "pipelines_2010_raw_file = '../data/pipelines_2010_2019-08-16.feather'"
   ]
  },
  {
   "cell_type": "markdown",
   "metadata": {},
   "source": [
    "## Setup"
   ]
  },
  {
   "cell_type": "code",
   "execution_count": 2,
   "metadata": {},
   "outputs": [],
   "source": [
    "import pandas as pd\n",
    "import numpy as np\n",
    "from datetime import date\n",
    "from functools import partial\n",
    "\n",
    "today = date.today().isoformat()"
   ]
  },
  {
   "cell_type": "code",
   "execution_count": 3,
   "metadata": {},
   "outputs": [
    {
     "name": "stdout",
     "output_type": "stream",
     "text": [
      "Loading library list...\n",
      "Done\n"
     ]
    }
   ],
   "source": [
    "import wrds\n",
    "\n",
    "db = wrds.Connection(wrds_username='juujian')"
   ]
  },
  {
   "cell_type": "markdown",
   "metadata": {},
   "source": [
    "## Load data"
   ]
  },
  {
   "cell_type": "code",
   "execution_count": 4,
   "metadata": {},
   "outputs": [],
   "source": [
    "import pickle\n",
    "\n",
    "with open(f'../preprocessed_data/issues_to_address_2019-08-14.pickle', 'rb') as file:\n",
    "    issues = pickle.load(file)\n",
    "    \n",
    "issues = (issue for issue in issues)"
   ]
  },
  {
   "cell_type": "code",
   "execution_count": 5,
   "metadata": {},
   "outputs": [
    {
     "data": {
      "text/html": [
       "<div>\n",
       "<style scoped>\n",
       "    .dataframe tbody tr th:only-of-type {\n",
       "        vertical-align: middle;\n",
       "    }\n",
       "\n",
       "    .dataframe tbody tr th {\n",
       "        vertical-align: top;\n",
       "    }\n",
       "\n",
       "    .dataframe thead th {\n",
       "        text-align: right;\n",
       "    }\n",
       "</style>\n",
       "<table border=\"1\" class=\"dataframe\">\n",
       "  <thead>\n",
       "    <tr style=\"text-align: right;\">\n",
       "      <th></th>\n",
       "      <th>OPERATOR_ID</th>\n",
       "      <th>YEAR</th>\n",
       "      <th>NAME</th>\n",
       "      <th>COMMODITY</th>\n",
       "      <th>MILES</th>\n",
       "      <th>PARENT</th>\n",
       "      <th>INCIDENTS</th>\n",
       "      <th>SIGNIFICANT_INCIDENTS</th>\n",
       "    </tr>\n",
       "  </thead>\n",
       "  <tbody>\n",
       "    <tr>\n",
       "      <th>126</th>\n",
       "      <td>4906</td>\n",
       "      <td>2014</td>\n",
       "      <td>EXXONMOBIL PIPELINE CO</td>\n",
       "      <td>non-hvl</td>\n",
       "      <td>536.84</td>\n",
       "      <td>Exxon Mobil</td>\n",
       "      <td>3.0</td>\n",
       "      <td>1.0</td>\n",
       "    </tr>\n",
       "    <tr>\n",
       "      <th>739</th>\n",
       "      <td>32334</td>\n",
       "      <td>2011</td>\n",
       "      <td>TC OIL PIPELINE OPERATIONS INC</td>\n",
       "      <td>crude</td>\n",
       "      <td>524.00</td>\n",
       "      <td>TransCanada USA</td>\n",
       "      <td>6.0</td>\n",
       "      <td>4.0</td>\n",
       "    </tr>\n",
       "    <tr>\n",
       "      <th>301</th>\n",
       "      <td>22610</td>\n",
       "      <td>2017</td>\n",
       "      <td>MAGELLAN PIPELINE COMPANY, LP</td>\n",
       "      <td>non-hvl</td>\n",
       "      <td>3925.12</td>\n",
       "      <td>Magellan Midstream Partners</td>\n",
       "      <td>9.0</td>\n",
       "      <td>1.0</td>\n",
       "    </tr>\n",
       "    <tr>\n",
       "      <th>114</th>\n",
       "      <td>4805</td>\n",
       "      <td>2010</td>\n",
       "      <td>EXPLORER PIPELINE CO</td>\n",
       "      <td>non-hvl</td>\n",
       "      <td>1221.02</td>\n",
       "      <td>Explorer Pipeline</td>\n",
       "      <td>7.0</td>\n",
       "      <td>5.0</td>\n",
       "    </tr>\n",
       "    <tr>\n",
       "      <th>136</th>\n",
       "      <td>4906</td>\n",
       "      <td>2018</td>\n",
       "      <td>EXXONMOBIL PIPELINE CO</td>\n",
       "      <td>crude</td>\n",
       "      <td>366.51</td>\n",
       "      <td>Exxon Mobil</td>\n",
       "      <td>3.0</td>\n",
       "      <td>1.0</td>\n",
       "    </tr>\n",
       "  </tbody>\n",
       "</table>\n",
       "</div>"
      ],
      "text/plain": [
       "    OPERATOR_ID  YEAR                            NAME COMMODITY    MILES  \\\n",
       "126        4906  2014          EXXONMOBIL PIPELINE CO   non-hvl   536.84   \n",
       "739       32334  2011  TC OIL PIPELINE OPERATIONS INC     crude   524.00   \n",
       "301       22610  2017   MAGELLAN PIPELINE COMPANY, LP   non-hvl  3925.12   \n",
       "114        4805  2010            EXPLORER PIPELINE CO   non-hvl  1221.02   \n",
       "136        4906  2018          EXXONMOBIL PIPELINE CO     crude   366.51   \n",
       "\n",
       "                          PARENT  INCIDENTS  SIGNIFICANT_INCIDENTS  \n",
       "126                  Exxon Mobil        3.0                    1.0  \n",
       "739              TransCanada USA        6.0                    4.0  \n",
       "301  Magellan Midstream Partners        9.0                    1.0  \n",
       "114            Explorer Pipeline        7.0                    5.0  \n",
       "136                  Exxon Mobil        3.0                    1.0  "
      ]
     },
     "execution_count": 5,
     "metadata": {},
     "output_type": "execute_result"
    }
   ],
   "source": [
    "sample = pd.read_feather(sample_file)\n",
    "sample.sample(5)"
   ]
  },
  {
   "cell_type": "code",
   "execution_count": 6,
   "metadata": {},
   "outputs": [],
   "source": [
    "pipelines_2010_raw = pd.read_feather(pipelines_2010_raw_file)"
   ]
  },
  {
   "cell_type": "markdown",
   "metadata": {},
   "source": [
    "## 8.1 Functions for analysis"
   ]
  },
  {
   "cell_type": "code",
   "execution_count": 7,
   "metadata": {},
   "outputs": [
    {
     "data": {
      "text/plain": [
       "[{'name': 'EXXONMOBIL PIPELINE CO', 'start_year': 2010, 'end_year': 2018}]"
      ]
     },
     "execution_count": 7,
     "metadata": {},
     "output_type": "execute_result"
    }
   ],
   "source": [
    "from functools import partial\n",
    "\n",
    "def find_info(OPERATOR_ID, info_col: str, title: str, df = pipelines_2010_raw, id_col = 'OPERATOR_ID', \n",
    "              year_col = 'REPORT_YEAR', fuzzy=False):\n",
    "    from fuzzywuzzy import fuzz\n",
    "    \n",
    "    values = np.unique(df[df[id_col] == int(OPERATOR_ID)][info_col]).tolist()\n",
    "    result = []\n",
    "    for value in values:\n",
    "        start_year = df[df[info_col] == value][year_col].min()\n",
    "        end_year = df[df[info_col] == value][year_col].max()\n",
    "        result = result + [{title: value, 'start_year': start_year, 'end_year': end_year}]\n",
    "        \n",
    "    if fuzzy and len(result) == 2 and fuzz.ratio(result[0][title].lower(), result[1][title].lower()) >= 95:\n",
    "            result = [result[0]]\n",
    "            \n",
    "    return(result)\n",
    "\n",
    "find_address = partial(find_info, info_col='PARTA4STREET', title='address')\n",
    "find_names = partial(find_info, info_col='PARTA2NAMEOFCOMP', title='name', fuzzy=True)\n",
    "find_names('4906')"
   ]
  },
  {
   "cell_type": "code",
   "execution_count": 8,
   "metadata": {},
   "outputs": [
    {
     "data": {
      "text/plain": [
       "2113.75"
      ]
     },
     "execution_count": 8,
     "metadata": {},
     "output_type": "execute_result"
    }
   ],
   "source": [
    "def find_total_miles_year(OPERATOR_ID, year, df = pipelines_2010_raw, year_col = 'REPORT_YEAR', \n",
    "                          id_col = 'OPERATOR_ID', miles_col='PARTBHCATOTAL'):\n",
    "    observations = df.loc[(df[year_col] == year) & (df[id_col] == int(OPERATOR_ID))][miles_col]\n",
    "    return observations.sum()\n",
    "\n",
    "find_total_miles_year('4906', 2015)"
   ]
  },
  {
   "cell_type": "code",
   "execution_count": 9,
   "metadata": {},
   "outputs": [
    {
     "data": {
      "text/plain": [
       "[[2013, 2944.4], [2014, 2343.06], [2015, 2113.75], [2016, 2590.17]]"
      ]
     },
     "execution_count": 9,
     "metadata": {},
     "output_type": "execute_result"
    }
   ],
   "source": [
    "def find_total_miles(OPERATOR_ID, years, df = pipelines_2010_raw, year_col = 'REPORT_YEAR', miles_col='PARTBHCATOTAL'):\n",
    "    result = []\n",
    "    for year in years:\n",
    "        result.append([year, find_total_miles_year(OPERATOR_ID, year)])\n",
    "    return(result)\n",
    "\n",
    "find_total_miles('4906', range(2013, 2017))"
   ]
  },
  {
   "cell_type": "markdown",
   "metadata": {},
   "source": [
    "## 8.2 Iterate over issues and resolve them one at a time"
   ]
  },
  {
   "cell_type": "markdown",
   "metadata": {},
   "source": [
    "We use the dictionary \"company groups\" to capture any companies we have to combine to form one observation."
   ]
  },
  {
   "cell_type": "markdown",
   "metadata": {},
   "source": [
    "### Store results in"
   ]
  },
  {
   "cell_type": "code",
   "execution_count": 10,
   "metadata": {},
   "outputs": [],
   "source": [
    "company_groups = pd.DataFrame()\n",
    "\n",
    "def add_company_group(name: str, members: list, df = company_groups):\n",
    "    new_group = pd.DataFrame({'members': members})\n",
    "    new_group['name'] = name\n",
    "    df = df.append(new_group, ignore_index=True)\n",
    "    return df"
   ]
  },
  {
   "cell_type": "code",
   "execution_count": 11,
   "metadata": {},
   "outputs": [],
   "source": [
    "m_as = pd.DataFrame()\n",
    "\n",
    "def add_m_a(name: str, members: list, df, start_year: str = None, end_year: str = None):\n",
    "    new_group = pd.DataFrame({'members': members})\n",
    "    new_group['name'] = name\n",
    "    \n",
    "    if start_year:\n",
    "        new_group['start_year'] = start_year\n",
    "    if end_year:\n",
    "        new_group['end_year'] = end_year\n",
    "    \n",
    "    df = df.append(new_group, sort=False, ignore_index=True)\n",
    "    return df"
   ]
  },
  {
   "cell_type": "code",
   "execution_count": 12,
   "metadata": {},
   "outputs": [],
   "source": [
    "spin_offs = []"
   ]
  },
  {
   "cell_type": "markdown",
   "metadata": {},
   "source": [
    "### 8.2.1 Enterprise Products Operating"
   ]
  },
  {
   "cell_type": "code",
   "execution_count": 13,
   "metadata": {},
   "outputs": [
    {
     "name": "stdout",
     "output_type": "stream",
     "text": [
      "\n",
      "ENTERPRISE PRODUCTS OPERATING LLC (OPERATOR_ID 31618) has the same parent company as:\n",
      "\n",
      "\tENTERPRISE CRUDE PIPELINE LLC (OPERATOR_ID 30829)\n",
      "\n",
      "\tDIXIE PIPELINE COMPANY LLC (OPERATOR_ID 3445)\n",
      "\n"
     ]
    }
   ],
   "source": [
    "print(next(issues))"
   ]
  },
  {
   "cell_type": "markdown",
   "metadata": {},
   "source": [
    "### Gather infor_asation"
   ]
  },
  {
   "cell_type": "code",
   "execution_count": 14,
   "metadata": {},
   "outputs": [
    {
     "data": {
      "text/plain": [
       "[{'name': 'ENTERPRISE PRODUCTS OPERATING LLC',\n",
       "  'start_year': 2010,\n",
       "  'end_year': 2018}]"
      ]
     },
     "execution_count": 14,
     "metadata": {},
     "output_type": "execute_result"
    }
   ],
   "source": [
    "find_names('31618')"
   ]
  },
  {
   "cell_type": "code",
   "execution_count": 15,
   "metadata": {},
   "outputs": [
    {
     "data": {
      "text/plain": [
       "[{'name': 'ENTERPRISE CRUDE PIPELINE LLC',\n",
       "  'start_year': 2010,\n",
       "  'end_year': 2018}]"
      ]
     },
     "execution_count": 15,
     "metadata": {},
     "output_type": "execute_result"
    }
   ],
   "source": [
    "find_names('30829')"
   ]
  },
  {
   "cell_type": "code",
   "execution_count": 16,
   "metadata": {},
   "outputs": [
    {
     "data": {
      "text/plain": [
       "[{'name': 'DIXIE PIPELINE', 'start_year': 2010, 'end_year': 2010},\n",
       " {'name': 'DIXIE PIPELINE COMPANY LLC', 'start_year': 2011, 'end_year': 2018}]"
      ]
     },
     "execution_count": 16,
     "metadata": {},
     "output_type": "execute_result"
    }
   ],
   "source": [
    "find_names('3445')"
   ]
  },
  {
   "cell_type": "code",
   "execution_count": 17,
   "metadata": {},
   "outputs": [
    {
     "data": {
      "text/html": [
       "<div>\n",
       "<style scoped>\n",
       "    .dataframe tbody tr th:only-of-type {\n",
       "        vertical-align: middle;\n",
       "    }\n",
       "\n",
       "    .dataframe tbody tr th {\n",
       "        vertical-align: top;\n",
       "    }\n",
       "\n",
       "    .dataframe thead th {\n",
       "        text-align: right;\n",
       "    }\n",
       "</style>\n",
       "<table border=\"1\" class=\"dataframe\">\n",
       "  <thead>\n",
       "    <tr style=\"text-align: right;\">\n",
       "      <th></th>\n",
       "      <th>gvkey</th>\n",
       "      <th>conm</th>\n",
       "      <th>tic</th>\n",
       "      <th>cusip</th>\n",
       "      <th>cik</th>\n",
       "      <th>sic</th>\n",
       "      <th>naics</th>\n",
       "      <th>gsubind</th>\n",
       "      <th>gind</th>\n",
       "      <th>year1</th>\n",
       "      <th>year2</th>\n",
       "    </tr>\n",
       "  </thead>\n",
       "  <tbody>\n",
       "    <tr>\n",
       "      <th>0</th>\n",
       "      <td>004399</td>\n",
       "      <td>ENTERPRISE DEVELOPMENT GROUP</td>\n",
       "      <td>EDG.2</td>\n",
       "      <td>293705109</td>\n",
       "      <td>0000020236</td>\n",
       "      <td>1531</td>\n",
       "      <td>None</td>\n",
       "      <td>None</td>\n",
       "      <td>None</td>\n",
       "      <td>1970.0</td>\n",
       "      <td>1981.0</td>\n",
       "    </tr>\n",
       "    <tr>\n",
       "      <th>1</th>\n",
       "      <td>004400</td>\n",
       "      <td>ENTERPRISE TECHNOLOGIES -OLD</td>\n",
       "      <td>ENTRQ</td>\n",
       "      <td>293799102</td>\n",
       "      <td>None</td>\n",
       "      <td>5171</td>\n",
       "      <td>422710</td>\n",
       "      <td>10102030</td>\n",
       "      <td>101020</td>\n",
       "      <td>1981.0</td>\n",
       "      <td>1983.0</td>\n",
       "    </tr>\n",
       "    <tr>\n",
       "      <th>2</th>\n",
       "      <td>013370</td>\n",
       "      <td>ENTERPRISE INFORMATICS INC</td>\n",
       "      <td>EINF</td>\n",
       "      <td>29372R208</td>\n",
       "      <td>0000813747</td>\n",
       "      <td>7373</td>\n",
       "      <td>541512</td>\n",
       "      <td>45103010</td>\n",
       "      <td>451030</td>\n",
       "      <td>1986.0</td>\n",
       "      <td>2007.0</td>\n",
       "    </tr>\n",
       "    <tr>\n",
       "      <th>3</th>\n",
       "      <td>020151</td>\n",
       "      <td>ENTERPRISE SOFTWARE INC</td>\n",
       "      <td>ENSW</td>\n",
       "      <td>29379K107</td>\n",
       "      <td>0000833847</td>\n",
       "      <td>7372</td>\n",
       "      <td>511210</td>\n",
       "      <td>45103010</td>\n",
       "      <td>451030</td>\n",
       "      <td>1988.0</td>\n",
       "      <td>1998.0</td>\n",
       "    </tr>\n",
       "    <tr>\n",
       "      <th>4</th>\n",
       "      <td>030803</td>\n",
       "      <td>ENTERPRISE FED BANCORP INC</td>\n",
       "      <td>EFBI.1</td>\n",
       "      <td>293711107</td>\n",
       "      <td>0000922036</td>\n",
       "      <td>6035</td>\n",
       "      <td>522120</td>\n",
       "      <td>40101010</td>\n",
       "      <td>401010</td>\n",
       "      <td>1994.0</td>\n",
       "      <td>1998.0</td>\n",
       "    </tr>\n",
       "    <tr>\n",
       "      <th>5</th>\n",
       "      <td>061438</td>\n",
       "      <td>ENTERPRISE SYSTEMS INC</td>\n",
       "      <td>ESIX</td>\n",
       "      <td>293797106</td>\n",
       "      <td>0001000188</td>\n",
       "      <td>7373</td>\n",
       "      <td>541512</td>\n",
       "      <td>45103020</td>\n",
       "      <td>451030</td>\n",
       "      <td>1990.0</td>\n",
       "      <td>1996.0</td>\n",
       "    </tr>\n",
       "    <tr>\n",
       "      <th>6</th>\n",
       "      <td>100571</td>\n",
       "      <td>ENTERPRISE OIL PLC</td>\n",
       "      <td>ETPOY</td>\n",
       "      <td>293779302</td>\n",
       "      <td>0000887985</td>\n",
       "      <td>1311</td>\n",
       "      <td>211111</td>\n",
       "      <td>10102020</td>\n",
       "      <td>101020</td>\n",
       "      <td>1989.0</td>\n",
       "      <td>2001.0</td>\n",
       "    </tr>\n",
       "    <tr>\n",
       "      <th>7</th>\n",
       "      <td>112876</td>\n",
       "      <td>ENTERPRISE PRODS PRTNRS  -LP</td>\n",
       "      <td>EPD</td>\n",
       "      <td>293792107</td>\n",
       "      <td>0001061219</td>\n",
       "      <td>1311</td>\n",
       "      <td>486210</td>\n",
       "      <td>10102040</td>\n",
       "      <td>101020</td>\n",
       "      <td>1995.0</td>\n",
       "      <td>2018.0</td>\n",
       "    </tr>\n",
       "    <tr>\n",
       "      <th>8</th>\n",
       "      <td>117141</td>\n",
       "      <td>ENTERPRISE FINL SERVICES CP</td>\n",
       "      <td>EFSC</td>\n",
       "      <td>293712105</td>\n",
       "      <td>0001025835</td>\n",
       "      <td>6020</td>\n",
       "      <td>522110</td>\n",
       "      <td>40101015</td>\n",
       "      <td>401010</td>\n",
       "      <td>1998.0</td>\n",
       "      <td>2018.0</td>\n",
       "    </tr>\n",
       "    <tr>\n",
       "      <th>9</th>\n",
       "      <td>118525</td>\n",
       "      <td>ENTERPRISE BANCORP INC/MA</td>\n",
       "      <td>EBTC</td>\n",
       "      <td>293668109</td>\n",
       "      <td>0001018399</td>\n",
       "      <td>6020</td>\n",
       "      <td>522110</td>\n",
       "      <td>40101015</td>\n",
       "      <td>401010</td>\n",
       "      <td>2002.0</td>\n",
       "      <td>2018.0</td>\n",
       "    </tr>\n",
       "  </tbody>\n",
       "</table>\n",
       "</div>"
      ],
      "text/plain": [
       "    gvkey                          conm     tic      cusip         cik   sic  \\\n",
       "0  004399  ENTERPRISE DEVELOPMENT GROUP   EDG.2  293705109  0000020236  1531   \n",
       "1  004400  ENTERPRISE TECHNOLOGIES -OLD   ENTRQ  293799102        None  5171   \n",
       "2  013370    ENTERPRISE INFORMATICS INC    EINF  29372R208  0000813747  7373   \n",
       "3  020151       ENTERPRISE SOFTWARE INC    ENSW  29379K107  0000833847  7372   \n",
       "4  030803    ENTERPRISE FED BANCORP INC  EFBI.1  293711107  0000922036  6035   \n",
       "5  061438        ENTERPRISE SYSTEMS INC    ESIX  293797106  0001000188  7373   \n",
       "6  100571            ENTERPRISE OIL PLC   ETPOY  293779302  0000887985  1311   \n",
       "7  112876  ENTERPRISE PRODS PRTNRS  -LP     EPD  293792107  0001061219  1311   \n",
       "8  117141   ENTERPRISE FINL SERVICES CP    EFSC  293712105  0001025835  6020   \n",
       "9  118525     ENTERPRISE BANCORP INC/MA    EBTC  293668109  0001018399  6020   \n",
       "\n",
       "    naics   gsubind    gind   year1   year2  \n",
       "0    None      None    None  1970.0  1981.0  \n",
       "1  422710  10102030  101020  1981.0  1983.0  \n",
       "2  541512  45103010  451030  1986.0  2007.0  \n",
       "3  511210  45103010  451030  1988.0  1998.0  \n",
       "4  522120  40101010  401010  1994.0  1998.0  \n",
       "5  541512  45103020  451030  1990.0  1996.0  \n",
       "6  211111  10102020  101020  1989.0  2001.0  \n",
       "7  486210  10102040  101020  1995.0  2018.0  \n",
       "8  522110  40101015  401010  1998.0  2018.0  \n",
       "9  522110  40101015  401010  2002.0  2018.0  "
      ]
     },
     "execution_count": 17,
     "metadata": {},
     "output_type": "execute_result"
    }
   ],
   "source": [
    "db.raw_sql(\"SELECT * FROM compa.names WHERE lower(conm) LIKE 'enterprise%%' LIMIT 10\")"
   ]
  },
  {
   "cell_type": "code",
   "execution_count": 18,
   "metadata": {},
   "outputs": [
    {
     "data": {
      "text/html": [
       "<div>\n",
       "<style scoped>\n",
       "    .dataframe tbody tr th:only-of-type {\n",
       "        vertical-align: middle;\n",
       "    }\n",
       "\n",
       "    .dataframe tbody tr th {\n",
       "        vertical-align: top;\n",
       "    }\n",
       "\n",
       "    .dataframe thead th {\n",
       "        text-align: right;\n",
       "    }\n",
       "</style>\n",
       "<table border=\"1\" class=\"dataframe\">\n",
       "  <thead>\n",
       "    <tr style=\"text-align: right;\">\n",
       "      <th></th>\n",
       "      <th>gvkey</th>\n",
       "      <th>conm</th>\n",
       "      <th>tic</th>\n",
       "      <th>cusip</th>\n",
       "      <th>cik</th>\n",
       "      <th>sic</th>\n",
       "      <th>naics</th>\n",
       "      <th>gsubind</th>\n",
       "      <th>gind</th>\n",
       "      <th>year1</th>\n",
       "      <th>year2</th>\n",
       "    </tr>\n",
       "  </thead>\n",
       "  <tbody>\n",
       "    <tr>\n",
       "      <th>0</th>\n",
       "      <td>004001</td>\n",
       "      <td>DIXIE GROUP INC</td>\n",
       "      <td>DXYN</td>\n",
       "      <td>255519100</td>\n",
       "      <td>0000029332</td>\n",
       "      <td>2273</td>\n",
       "      <td>314110</td>\n",
       "      <td>25201020</td>\n",
       "      <td>252010</td>\n",
       "      <td>1974.0</td>\n",
       "      <td>2018.0</td>\n",
       "    </tr>\n",
       "  </tbody>\n",
       "</table>\n",
       "</div>"
      ],
      "text/plain": [
       "    gvkey             conm   tic      cusip         cik   sic   naics  \\\n",
       "0  004001  DIXIE GROUP INC  DXYN  255519100  0000029332  2273  314110   \n",
       "\n",
       "    gsubind    gind   year1   year2  \n",
       "0  25201020  252010  1974.0  2018.0  "
      ]
     },
     "execution_count": 18,
     "metadata": {},
     "output_type": "execute_result"
    }
   ],
   "source": [
    "db.raw_sql(\"SELECT * FROM compa.names WHERE lower(conm) LIKE 'dixie%%' LIMIT 10\")"
   ]
  },
  {
   "cell_type": "markdown",
   "metadata": {},
   "source": [
    "### Decision"
   ]
  },
  {
   "cell_type": "markdown",
   "metadata": {},
   "source": [
    "ENTERPRISE CRUDE PIPELINE LLC (OPERATOR_ID 30829) is a subsidiary of Enterprise Products Operating (https://www.sec.gov/Archives/edgar/data/1061219/000106121918000008/exhibit21_1.htm)."
   ]
  },
  {
   "cell_type": "markdown",
   "metadata": {},
   "source": [
    "A quick google search reveals that Dixie Group is a \"Carpet and rug mills company\", so we can disregard this hit and just merge Dixie Pipeline with its parent company."
   ]
  },
  {
   "cell_type": "code",
   "execution_count": 19,
   "metadata": {},
   "outputs": [
    {
     "data": {
      "text/html": [
       "<div>\n",
       "<style scoped>\n",
       "    .dataframe tbody tr th:only-of-type {\n",
       "        vertical-align: middle;\n",
       "    }\n",
       "\n",
       "    .dataframe tbody tr th {\n",
       "        vertical-align: top;\n",
       "    }\n",
       "\n",
       "    .dataframe thead th {\n",
       "        text-align: right;\n",
       "    }\n",
       "</style>\n",
       "<table border=\"1\" class=\"dataframe\">\n",
       "  <thead>\n",
       "    <tr style=\"text-align: right;\">\n",
       "      <th></th>\n",
       "      <th>members</th>\n",
       "      <th>name</th>\n",
       "    </tr>\n",
       "  </thead>\n",
       "  <tbody>\n",
       "    <tr>\n",
       "      <th>0</th>\n",
       "      <td>31618</td>\n",
       "      <td>Enterprise Products (Group)</td>\n",
       "    </tr>\n",
       "    <tr>\n",
       "      <th>1</th>\n",
       "      <td>30829</td>\n",
       "      <td>Enterprise Products (Group)</td>\n",
       "    </tr>\n",
       "    <tr>\n",
       "      <th>2</th>\n",
       "      <td>3445</td>\n",
       "      <td>Enterprise Products (Group)</td>\n",
       "    </tr>\n",
       "  </tbody>\n",
       "</table>\n",
       "</div>"
      ],
      "text/plain": [
       "  members                         name\n",
       "0   31618  Enterprise Products (Group)\n",
       "1   30829  Enterprise Products (Group)\n",
       "2    3445  Enterprise Products (Group)"
      ]
     },
     "execution_count": 19,
     "metadata": {},
     "output_type": "execute_result"
    }
   ],
   "source": [
    "company_groups = add_company_group('Enterprise Products (Group)', ['31618', '30829', '3445'], company_groups)\n",
    "company_groups"
   ]
  },
  {
   "cell_type": "markdown",
   "metadata": {},
   "source": [
    "### 8.2.2 Oneok NGL"
   ]
  },
  {
   "cell_type": "code",
   "execution_count": 20,
   "metadata": {},
   "outputs": [
    {
     "name": "stdout",
     "output_type": "stream",
     "text": [
      "\n",
      "ONEOK NGL PIPELINE, LLC (OPERATOR_ID 32109) has changed its name:\n",
      "\n",
      "\tWas named ONEOK NGL PIPELINE LP from 2010 to 2011.\n",
      "\n",
      "\tWas named ONEOK NGL PIPELINE, LLC from 2012 to 2018.\n",
      "\n"
     ]
    }
   ],
   "source": [
    "print(next(issues))"
   ]
  },
  {
   "cell_type": "markdown",
   "metadata": {},
   "source": [
    "No action necessary."
   ]
  },
  {
   "cell_type": "markdown",
   "metadata": {},
   "source": [
    "### 8.2.3 Phillips 66"
   ]
  },
  {
   "cell_type": "code",
   "execution_count": 21,
   "metadata": {},
   "outputs": [
    {
     "name": "stdout",
     "output_type": "stream",
     "text": [
      "\n",
      "PHILLIPS 66 PIPELINE LLC (OPERATOR_ID 31684) has changed its name:\n",
      "\n",
      "\tWas named CONOCOPHILLIPS from 2010 to 2010.\n",
      "\n",
      "\tWas named PHILLIPS 66 PIPELINE LLC from 2011 to 2018.\n",
      "\n"
     ]
    }
   ],
   "source": [
    "print(next(issues))"
   ]
  },
  {
   "cell_type": "markdown",
   "metadata": {},
   "source": [
    "Downstream business was spun off in 2011/2012."
   ]
  },
  {
   "cell_type": "code",
   "execution_count": 22,
   "metadata": {},
   "outputs": [
    {
     "data": {
      "text/html": [
       "<div>\n",
       "<style scoped>\n",
       "    .dataframe tbody tr th:only-of-type {\n",
       "        vertical-align: middle;\n",
       "    }\n",
       "\n",
       "    .dataframe tbody tr th {\n",
       "        vertical-align: top;\n",
       "    }\n",
       "\n",
       "    .dataframe thead th {\n",
       "        text-align: right;\n",
       "    }\n",
       "</style>\n",
       "<table border=\"1\" class=\"dataframe\">\n",
       "  <thead>\n",
       "    <tr style=\"text-align: right;\">\n",
       "      <th></th>\n",
       "      <th>gvkey</th>\n",
       "      <th>conm</th>\n",
       "      <th>tic</th>\n",
       "      <th>cusip</th>\n",
       "      <th>cik</th>\n",
       "      <th>sic</th>\n",
       "      <th>naics</th>\n",
       "      <th>gsubind</th>\n",
       "      <th>gind</th>\n",
       "      <th>year1</th>\n",
       "      <th>year2</th>\n",
       "    </tr>\n",
       "  </thead>\n",
       "  <tbody>\n",
       "    <tr>\n",
       "      <th>0</th>\n",
       "      <td>017933</td>\n",
       "      <td>PHILLIPS 66 PARTNERS LP</td>\n",
       "      <td>PSXP</td>\n",
       "      <td>718549207</td>\n",
       "      <td>0001572910</td>\n",
       "      <td>4610</td>\n",
       "      <td>486110</td>\n",
       "      <td>10102040</td>\n",
       "      <td>101020</td>\n",
       "      <td>2011.0</td>\n",
       "      <td>2018.0</td>\n",
       "    </tr>\n",
       "    <tr>\n",
       "      <th>1</th>\n",
       "      <td>170841</td>\n",
       "      <td>PHILLIPS 66</td>\n",
       "      <td>PSX</td>\n",
       "      <td>718546104</td>\n",
       "      <td>0001534701</td>\n",
       "      <td>2911</td>\n",
       "      <td>324110</td>\n",
       "      <td>10102030</td>\n",
       "      <td>101020</td>\n",
       "      <td>2009.0</td>\n",
       "      <td>2018.0</td>\n",
       "    </tr>\n",
       "  </tbody>\n",
       "</table>\n",
       "</div>"
      ],
      "text/plain": [
       "    gvkey                     conm   tic      cusip         cik   sic   naics  \\\n",
       "0  017933  PHILLIPS 66 PARTNERS LP  PSXP  718549207  0001572910  4610  486110   \n",
       "1  170841              PHILLIPS 66   PSX  718546104  0001534701  2911  324110   \n",
       "\n",
       "    gsubind    gind   year1   year2  \n",
       "0  10102040  101020  2011.0  2018.0  \n",
       "1  10102030  101020  2009.0  2018.0  "
      ]
     },
     "execution_count": 22,
     "metadata": {},
     "output_type": "execute_result"
    }
   ],
   "source": [
    "db.raw_sql(\"SELECT * FROM compa.names WHERE lower(conm) LIKE '%%phillips 66%%' LIMIT 10\")"
   ]
  },
  {
   "cell_type": "markdown",
   "metadata": {},
   "source": [
    "The first row is a good hit in terms of the naics."
   ]
  },
  {
   "cell_type": "code",
   "execution_count": 23,
   "metadata": {},
   "outputs": [
    {
     "data": {
      "text/html": [
       "<div>\n",
       "<style scoped>\n",
       "    .dataframe tbody tr th:only-of-type {\n",
       "        vertical-align: middle;\n",
       "    }\n",
       "\n",
       "    .dataframe tbody tr th {\n",
       "        vertical-align: top;\n",
       "    }\n",
       "\n",
       "    .dataframe thead th {\n",
       "        text-align: right;\n",
       "    }\n",
       "</style>\n",
       "<table border=\"1\" class=\"dataframe\">\n",
       "  <thead>\n",
       "    <tr style=\"text-align: right;\">\n",
       "      <th></th>\n",
       "      <th>gvkey</th>\n",
       "      <th>conm</th>\n",
       "      <th>tic</th>\n",
       "      <th>cusip</th>\n",
       "      <th>cik</th>\n",
       "      <th>sic</th>\n",
       "      <th>naics</th>\n",
       "      <th>gsubind</th>\n",
       "      <th>gind</th>\n",
       "      <th>year1</th>\n",
       "      <th>year2</th>\n",
       "    </tr>\n",
       "  </thead>\n",
       "  <tbody>\n",
       "    <tr>\n",
       "      <th>0</th>\n",
       "      <td>008549</td>\n",
       "      <td>CONOCOPHILLIPS</td>\n",
       "      <td>COP</td>\n",
       "      <td>20825C104</td>\n",
       "      <td>0001163165</td>\n",
       "      <td>1311</td>\n",
       "      <td>2111</td>\n",
       "      <td>10102020</td>\n",
       "      <td>101020</td>\n",
       "      <td>1950.0</td>\n",
       "      <td>2018.0</td>\n",
       "    </tr>\n",
       "    <tr>\n",
       "      <th>1</th>\n",
       "      <td>150400</td>\n",
       "      <td>CONOCOPHILLIPS-PRO FORMA1</td>\n",
       "      <td>COP.P</td>\n",
       "      <td>20899Y933</td>\n",
       "      <td>None</td>\n",
       "      <td>2911</td>\n",
       "      <td>324110</td>\n",
       "      <td>10102010</td>\n",
       "      <td>101020</td>\n",
       "      <td>2000.0</td>\n",
       "      <td>2001.0</td>\n",
       "    </tr>\n",
       "    <tr>\n",
       "      <th>2</th>\n",
       "      <td>166674</td>\n",
       "      <td>CONOCOPHILLIPS-PRO FORMA</td>\n",
       "      <td>COP.R</td>\n",
       "      <td>20899W937</td>\n",
       "      <td>None</td>\n",
       "      <td>2911</td>\n",
       "      <td>324110</td>\n",
       "      <td>10102010</td>\n",
       "      <td>101020</td>\n",
       "      <td>2004.0</td>\n",
       "      <td>2004.0</td>\n",
       "    </tr>\n",
       "  </tbody>\n",
       "</table>\n",
       "</div>"
      ],
      "text/plain": [
       "    gvkey                       conm    tic      cusip         cik   sic  \\\n",
       "0  008549             CONOCOPHILLIPS    COP  20825C104  0001163165  1311   \n",
       "1  150400  CONOCOPHILLIPS-PRO FORMA1  COP.P  20899Y933        None  2911   \n",
       "2  166674   CONOCOPHILLIPS-PRO FORMA  COP.R  20899W937        None  2911   \n",
       "\n",
       "    naics   gsubind    gind   year1   year2  \n",
       "0    2111  10102020  101020  1950.0  2018.0  \n",
       "1  324110  10102010  101020  2000.0  2001.0  \n",
       "2  324110  10102010  101020  2004.0  2004.0  "
      ]
     },
     "execution_count": 23,
     "metadata": {},
     "output_type": "execute_result"
    }
   ],
   "source": [
    "db.raw_sql(\"SELECT * FROM compa.names WHERE lower(conm) LIKE '%%conocophillips%%' LIMIT 10\")"
   ]
  },
  {
   "cell_type": "code",
   "execution_count": 24,
   "metadata": {},
   "outputs": [
    {
     "data": {
      "text/html": [
       "<div>\n",
       "<style scoped>\n",
       "    .dataframe tbody tr th:only-of-type {\n",
       "        vertical-align: middle;\n",
       "    }\n",
       "\n",
       "    .dataframe tbody tr th {\n",
       "        vertical-align: top;\n",
       "    }\n",
       "\n",
       "    .dataframe thead th {\n",
       "        text-align: right;\n",
       "    }\n",
       "</style>\n",
       "<table border=\"1\" class=\"dataframe\">\n",
       "  <thead>\n",
       "    <tr style=\"text-align: right;\">\n",
       "      <th></th>\n",
       "      <th>gvkey</th>\n",
       "      <th>datadate</th>\n",
       "      <th>fyear</th>\n",
       "      <th>revenue</th>\n",
       "      <th>assets</th>\n",
       "    </tr>\n",
       "  </thead>\n",
       "  <tbody>\n",
       "    <tr>\n",
       "      <th>0</th>\n",
       "      <td>008549</td>\n",
       "      <td>2009-12-31</td>\n",
       "      <td>2009.0</td>\n",
       "      <td>136016.0</td>\n",
       "      <td>21167.0</td>\n",
       "    </tr>\n",
       "    <tr>\n",
       "      <th>1</th>\n",
       "      <td>008549</td>\n",
       "      <td>2010-12-31</td>\n",
       "      <td>2010.0</td>\n",
       "      <td>175752.0</td>\n",
       "      <td>34660.0</td>\n",
       "    </tr>\n",
       "    <tr>\n",
       "      <th>2</th>\n",
       "      <td>008549</td>\n",
       "      <td>2011-12-31</td>\n",
       "      <td>2011.0</td>\n",
       "      <td>230859.0</td>\n",
       "      <td>30218.0</td>\n",
       "    </tr>\n",
       "    <tr>\n",
       "      <th>3</th>\n",
       "      <td>008549</td>\n",
       "      <td>2012-12-31</td>\n",
       "      <td>2012.0</td>\n",
       "      <td>57967.0</td>\n",
       "      <td>23989.0</td>\n",
       "    </tr>\n",
       "    <tr>\n",
       "      <th>4</th>\n",
       "      <td>008549</td>\n",
       "      <td>2013-12-31</td>\n",
       "      <td>2013.0</td>\n",
       "      <td>54413.0</td>\n",
       "      <td>19023.0</td>\n",
       "    </tr>\n",
       "  </tbody>\n",
       "</table>\n",
       "</div>"
      ],
      "text/plain": [
       "    gvkey    datadate   fyear   revenue   assets\n",
       "0  008549  2009-12-31  2009.0  136016.0  21167.0\n",
       "1  008549  2010-12-31  2010.0  175752.0  34660.0\n",
       "2  008549  2011-12-31  2011.0  230859.0  30218.0\n",
       "3  008549  2012-12-31  2012.0   57967.0  23989.0\n",
       "4  008549  2013-12-31  2013.0   54413.0  19023.0"
      ]
     },
     "execution_count": 24,
     "metadata": {},
     "output_type": "execute_result"
    }
   ],
   "source": [
    "db.raw_sql(\"\"\"SELECT gvkey, datadate, fyear, revt AS revenue, act AS assets FROM compa.funda WHERE gvkey='008549'\n",
    "           AND fyear BETWEEN '2009' AND '2013' AND act is not null\"\"\")"
   ]
  },
  {
   "cell_type": "code",
   "execution_count": 25,
   "metadata": {},
   "outputs": [
    {
     "data": {
      "text/html": [
       "<div>\n",
       "<style scoped>\n",
       "    .dataframe tbody tr th:only-of-type {\n",
       "        vertical-align: middle;\n",
       "    }\n",
       "\n",
       "    .dataframe tbody tr th {\n",
       "        vertical-align: top;\n",
       "    }\n",
       "\n",
       "    .dataframe thead th {\n",
       "        text-align: right;\n",
       "    }\n",
       "</style>\n",
       "<table border=\"1\" class=\"dataframe\">\n",
       "  <thead>\n",
       "    <tr style=\"text-align: right;\">\n",
       "      <th></th>\n",
       "      <th>gvkey</th>\n",
       "      <th>datadate</th>\n",
       "      <th>fyear</th>\n",
       "      <th>revenue</th>\n",
       "      <th>assets</th>\n",
       "    </tr>\n",
       "  </thead>\n",
       "  <tbody>\n",
       "    <tr>\n",
       "      <th>0</th>\n",
       "      <td>017933</td>\n",
       "      <td>2011-12-31</td>\n",
       "      <td>2011.0</td>\n",
       "      <td>76.0</td>\n",
       "      <td>0.4</td>\n",
       "    </tr>\n",
       "    <tr>\n",
       "      <th>1</th>\n",
       "      <td>017933</td>\n",
       "      <td>2012-12-31</td>\n",
       "      <td>2012.0</td>\n",
       "      <td>80.1</td>\n",
       "      <td>0.5</td>\n",
       "    </tr>\n",
       "    <tr>\n",
       "      <th>2</th>\n",
       "      <td>017933</td>\n",
       "      <td>2013-12-31</td>\n",
       "      <td>2013.0</td>\n",
       "      <td>106.6</td>\n",
       "      <td>439.4</td>\n",
       "    </tr>\n",
       "  </tbody>\n",
       "</table>\n",
       "</div>"
      ],
      "text/plain": [
       "    gvkey    datadate   fyear  revenue  assets\n",
       "0  017933  2011-12-31  2011.0     76.0     0.4\n",
       "1  017933  2012-12-31  2012.0     80.1     0.5\n",
       "2  017933  2013-12-31  2013.0    106.6   439.4"
      ]
     },
     "execution_count": 25,
     "metadata": {},
     "output_type": "execute_result"
    }
   ],
   "source": [
    "db.raw_sql(\"\"\"SELECT gvkey, datadate, fyear, revt AS revenue, act AS assets FROM compa.funda WHERE gvkey='017933'\n",
    "           AND fyear BETWEEN '2009' AND '2013' And act is not null\"\"\")"
   ]
  },
  {
   "cell_type": "code",
   "execution_count": 26,
   "metadata": {},
   "outputs": [
    {
     "data": {
      "text/html": [
       "<div>\n",
       "<style scoped>\n",
       "    .dataframe tbody tr th:only-of-type {\n",
       "        vertical-align: middle;\n",
       "    }\n",
       "\n",
       "    .dataframe tbody tr th {\n",
       "        vertical-align: top;\n",
       "    }\n",
       "\n",
       "    .dataframe thead th {\n",
       "        text-align: right;\n",
       "    }\n",
       "</style>\n",
       "<table border=\"1\" class=\"dataframe\">\n",
       "  <thead>\n",
       "    <tr style=\"text-align: right;\">\n",
       "      <th></th>\n",
       "      <th>gvkey</th>\n",
       "      <th>datadate</th>\n",
       "      <th>fyear</th>\n",
       "      <th>revenue</th>\n",
       "      <th>assets</th>\n",
       "    </tr>\n",
       "  </thead>\n",
       "  <tbody>\n",
       "    <tr>\n",
       "      <th>0</th>\n",
       "      <td>170841</td>\n",
       "      <td>2010-12-31</td>\n",
       "      <td>2010.0</td>\n",
       "      <td>132872.0</td>\n",
       "      <td>14704.0</td>\n",
       "    </tr>\n",
       "    <tr>\n",
       "      <th>1</th>\n",
       "      <td>170841</td>\n",
       "      <td>2011-12-31</td>\n",
       "      <td>2011.0</td>\n",
       "      <td>182133.0</td>\n",
       "      <td>13948.0</td>\n",
       "    </tr>\n",
       "    <tr>\n",
       "      <th>2</th>\n",
       "      <td>170841</td>\n",
       "      <td>2012-12-31</td>\n",
       "      <td>2012.0</td>\n",
       "      <td>166089.0</td>\n",
       "      <td>17962.0</td>\n",
       "    </tr>\n",
       "    <tr>\n",
       "      <th>3</th>\n",
       "      <td>170841</td>\n",
       "      <td>2013-12-31</td>\n",
       "      <td>2013.0</td>\n",
       "      <td>157730.0</td>\n",
       "      <td>19237.0</td>\n",
       "    </tr>\n",
       "  </tbody>\n",
       "</table>\n",
       "</div>"
      ],
      "text/plain": [
       "    gvkey    datadate   fyear   revenue   assets\n",
       "0  170841  2010-12-31  2010.0  132872.0  14704.0\n",
       "1  170841  2011-12-31  2011.0  182133.0  13948.0\n",
       "2  170841  2012-12-31  2012.0  166089.0  17962.0\n",
       "3  170841  2013-12-31  2013.0  157730.0  19237.0"
      ]
     },
     "execution_count": 26,
     "metadata": {},
     "output_type": "execute_result"
    }
   ],
   "source": [
    "db.raw_sql(\"\"\"SELECT gvkey, datadate, fyear, revt AS revenue, act AS assets FROM compa.funda WHERE gvkey='170841'\n",
    "           AND fyear BETWEEN '2009' AND '2013' AND act is not null\"\"\")"
   ]
  },
  {
   "cell_type": "markdown",
   "metadata": {},
   "source": [
    "### Decision"
   ]
  },
  {
   "cell_type": "markdown",
   "metadata": {},
   "source": [
    "It is hard to tell what is going on. Taking the address could clear the confusion, but we would probably obtain the cleanest results if we cut of the observations for the organization in 2011 (after the subsidiary was spun off and renamed according to the FERC documents, since we are not interested in the effects from spin-offs. If more spin-offs occur, we might choose to control for it through a categorical variable."
   ]
  },
  {
   "cell_type": "code",
   "execution_count": 27,
   "metadata": {},
   "outputs": [],
   "source": [
    "spin_offs.append({'name': '31684', 'year': '2011'})"
   ]
  },
  {
   "cell_type": "markdown",
   "metadata": {},
   "source": [
    "### 8.2.4 Buckeye"
   ]
  },
  {
   "cell_type": "code",
   "execution_count": 28,
   "metadata": {},
   "outputs": [
    {
     "name": "stdout",
     "output_type": "stream",
     "text": [
      "\n",
      "BUCKEYE PARTNERS, LP (OPERATOR_ID 1845) has the same parent company as:\n",
      "\n",
      "\tBUCKEYE DEVELOPMENT & LOGISTICS, LLC (OPERATOR_ID 31371)\n",
      "\n"
     ]
    }
   ],
   "source": [
    "print(next(issues))"
   ]
  },
  {
   "cell_type": "code",
   "execution_count": 29,
   "metadata": {},
   "outputs": [
    {
     "data": {
      "text/html": [
       "<div>\n",
       "<style scoped>\n",
       "    .dataframe tbody tr th:only-of-type {\n",
       "        vertical-align: middle;\n",
       "    }\n",
       "\n",
       "    .dataframe tbody tr th {\n",
       "        vertical-align: top;\n",
       "    }\n",
       "\n",
       "    .dataframe thead th {\n",
       "        text-align: right;\n",
       "    }\n",
       "</style>\n",
       "<table border=\"1\" class=\"dataframe\">\n",
       "  <thead>\n",
       "    <tr style=\"text-align: right;\">\n",
       "      <th></th>\n",
       "      <th>gvkey</th>\n",
       "      <th>conm</th>\n",
       "      <th>tic</th>\n",
       "      <th>cusip</th>\n",
       "      <th>cik</th>\n",
       "      <th>sic</th>\n",
       "      <th>naics</th>\n",
       "      <th>gsubind</th>\n",
       "      <th>gind</th>\n",
       "      <th>year1</th>\n",
       "      <th>year2</th>\n",
       "    </tr>\n",
       "  </thead>\n",
       "  <tbody>\n",
       "    <tr>\n",
       "      <th>0</th>\n",
       "      <td>002451</td>\n",
       "      <td>BUCKEYE INTL INC</td>\n",
       "      <td>BEYE.</td>\n",
       "      <td>118169101</td>\n",
       "      <td>0000015070</td>\n",
       "      <td>3320</td>\n",
       "      <td>None</td>\n",
       "      <td>None</td>\n",
       "      <td>None</td>\n",
       "      <td>1965.0</td>\n",
       "      <td>1979.0</td>\n",
       "    </tr>\n",
       "    <tr>\n",
       "      <th>1</th>\n",
       "      <td>013526</td>\n",
       "      <td>BUCKEYE PARTNERS LP</td>\n",
       "      <td>BPL</td>\n",
       "      <td>118230101</td>\n",
       "      <td>0000805022</td>\n",
       "      <td>4610</td>\n",
       "      <td>486910</td>\n",
       "      <td>10102040</td>\n",
       "      <td>101020</td>\n",
       "      <td>1986.0</td>\n",
       "      <td>2018.0</td>\n",
       "    </tr>\n",
       "    <tr>\n",
       "      <th>2</th>\n",
       "      <td>024417</td>\n",
       "      <td>BUCKEYE COMMUNICATIONS INC</td>\n",
       "      <td>3BKCIE</td>\n",
       "      <td>118154202</td>\n",
       "      <td>0000822822</td>\n",
       "      <td>5130</td>\n",
       "      <td>4223</td>\n",
       "      <td>25501010</td>\n",
       "      <td>255010</td>\n",
       "      <td>1989.0</td>\n",
       "      <td>1994.0</td>\n",
       "    </tr>\n",
       "    <tr>\n",
       "      <th>3</th>\n",
       "      <td>061596</td>\n",
       "      <td>BUCKEYE TECHNOLOGIES INC</td>\n",
       "      <td>BKI.1</td>\n",
       "      <td>118255108</td>\n",
       "      <td>0000899597</td>\n",
       "      <td>2611</td>\n",
       "      <td>322110</td>\n",
       "      <td>15105020</td>\n",
       "      <td>151050</td>\n",
       "      <td>1993.0</td>\n",
       "      <td>2013.0</td>\n",
       "    </tr>\n",
       "    <tr>\n",
       "      <th>4</th>\n",
       "      <td>174316</td>\n",
       "      <td>BUCKEYE GP HOLDINGS LP</td>\n",
       "      <td>BGH.2</td>\n",
       "      <td>118167105</td>\n",
       "      <td>0001359055</td>\n",
       "      <td>5172</td>\n",
       "      <td>424720</td>\n",
       "      <td>10102040</td>\n",
       "      <td>101020</td>\n",
       "      <td>2001.0</td>\n",
       "      <td>2009.0</td>\n",
       "    </tr>\n",
       "  </tbody>\n",
       "</table>\n",
       "</div>"
      ],
      "text/plain": [
       "    gvkey                        conm     tic      cusip         cik   sic  \\\n",
       "0  002451            BUCKEYE INTL INC   BEYE.  118169101  0000015070  3320   \n",
       "1  013526         BUCKEYE PARTNERS LP     BPL  118230101  0000805022  4610   \n",
       "2  024417  BUCKEYE COMMUNICATIONS INC  3BKCIE  118154202  0000822822  5130   \n",
       "3  061596    BUCKEYE TECHNOLOGIES INC   BKI.1  118255108  0000899597  2611   \n",
       "4  174316      BUCKEYE GP HOLDINGS LP   BGH.2  118167105  0001359055  5172   \n",
       "\n",
       "    naics   gsubind    gind   year1   year2  \n",
       "0    None      None    None  1965.0  1979.0  \n",
       "1  486910  10102040  101020  1986.0  2018.0  \n",
       "2    4223  25501010  255010  1989.0  1994.0  \n",
       "3  322110  15105020  151050  1993.0  2013.0  \n",
       "4  424720  10102040  101020  2001.0  2009.0  "
      ]
     },
     "execution_count": 29,
     "metadata": {},
     "output_type": "execute_result"
    }
   ],
   "source": [
    "db.raw_sql(\"SELECT * FROM compa.names WHERE lower(conm) LIKE '%%buckeye%%' LIMIT 10\")"
   ]
  },
  {
   "cell_type": "markdown",
   "metadata": {},
   "source": [
    "### Decision"
   ]
  },
  {
   "cell_type": "markdown",
   "metadata": {},
   "source": [
    "We consolidate the two organizations into one."
   ]
  },
  {
   "cell_type": "code",
   "execution_count": 30,
   "metadata": {},
   "outputs": [
    {
     "data": {
      "text/html": [
       "<div>\n",
       "<style scoped>\n",
       "    .dataframe tbody tr th:only-of-type {\n",
       "        vertical-align: middle;\n",
       "    }\n",
       "\n",
       "    .dataframe tbody tr th {\n",
       "        vertical-align: top;\n",
       "    }\n",
       "\n",
       "    .dataframe thead th {\n",
       "        text-align: right;\n",
       "    }\n",
       "</style>\n",
       "<table border=\"1\" class=\"dataframe\">\n",
       "  <thead>\n",
       "    <tr style=\"text-align: right;\">\n",
       "      <th></th>\n",
       "      <th>members</th>\n",
       "      <th>name</th>\n",
       "    </tr>\n",
       "  </thead>\n",
       "  <tbody>\n",
       "    <tr>\n",
       "      <th>0</th>\n",
       "      <td>31618</td>\n",
       "      <td>Enterprise Products (Group)</td>\n",
       "    </tr>\n",
       "    <tr>\n",
       "      <th>1</th>\n",
       "      <td>30829</td>\n",
       "      <td>Enterprise Products (Group)</td>\n",
       "    </tr>\n",
       "    <tr>\n",
       "      <th>2</th>\n",
       "      <td>3445</td>\n",
       "      <td>Enterprise Products (Group)</td>\n",
       "    </tr>\n",
       "    <tr>\n",
       "      <th>3</th>\n",
       "      <td>1845</td>\n",
       "      <td>Buckeye (Group)</td>\n",
       "    </tr>\n",
       "    <tr>\n",
       "      <th>4</th>\n",
       "      <td>31371</td>\n",
       "      <td>Buckeye (Group)</td>\n",
       "    </tr>\n",
       "  </tbody>\n",
       "</table>\n",
       "</div>"
      ],
      "text/plain": [
       "  members                         name\n",
       "0   31618  Enterprise Products (Group)\n",
       "1   30829  Enterprise Products (Group)\n",
       "2    3445  Enterprise Products (Group)\n",
       "3    1845              Buckeye (Group)\n",
       "4   31371              Buckeye (Group)"
      ]
     },
     "execution_count": 30,
     "metadata": {},
     "output_type": "execute_result"
    }
   ],
   "source": [
    "company_groups = add_company_group('Buckeye (Group)', ['1845', '31371'], company_groups)\n",
    "company_groups.tail()"
   ]
  },
  {
   "cell_type": "markdown",
   "metadata": {},
   "source": [
    "### 8.2.5 Marathon"
   ]
  },
  {
   "cell_type": "code",
   "execution_count": 31,
   "metadata": {},
   "outputs": [
    {
     "name": "stdout",
     "output_type": "stream",
     "text": [
      "\n",
      "MARATHON PIPE LINE LLC (OPERATOR_ID 32147) has the same parent company as:\n",
      "\n",
      "\tWOLVERINE PIPELINE CO (OPERATOR_ID 22830)\n",
      "\n",
      "\tTESORO LOGISTICS OPERATIONS, LLC (OPERATOR_ID 38933)\n",
      "\n",
      "\tTESORO LOGISTICS NORTHWEST PIPELINE LLC (OPERATOR_ID 39029)\n",
      "\n"
     ]
    }
   ],
   "source": [
    "print(next(issues))"
   ]
  },
  {
   "cell_type": "markdown",
   "metadata": {},
   "source": [
    "Marathon acquired Andeavor in 2018."
   ]
  },
  {
   "cell_type": "markdown",
   "metadata": {},
   "source": [
    "### Names"
   ]
  },
  {
   "cell_type": "code",
   "execution_count": 32,
   "metadata": {},
   "outputs": [
    {
     "data": {
      "text/plain": [
       "[{'name': 'MARATHON PIPE LINE LLC', 'start_year': 2010, 'end_year': 2018}]"
      ]
     },
     "execution_count": 32,
     "metadata": {},
     "output_type": "execute_result"
    }
   ],
   "source": [
    "find_names('32147')"
   ]
  },
  {
   "cell_type": "code",
   "execution_count": 33,
   "metadata": {},
   "outputs": [
    {
     "data": {
      "text/plain": [
       "[{'name': 'WOLVERINE PIPELINE CO', 'start_year': 2010, 'end_year': 2018}]"
      ]
     },
     "execution_count": 33,
     "metadata": {},
     "output_type": "execute_result"
    }
   ],
   "source": [
    "find_names('22830')"
   ]
  },
  {
   "cell_type": "code",
   "execution_count": 34,
   "metadata": {},
   "outputs": [
    {
     "data": {
      "text/plain": [
       "[{'name': 'TESORO LOGISTICS OPERATIONS LLC - SOUTHERN CALIFORNIA',\n",
       "  'start_year': 2012,\n",
       "  'end_year': 2017},\n",
       " {'name': 'TESORO LOGISTICS OPERATIONS, LLC',\n",
       "  'start_year': 2018,\n",
       "  'end_year': 2018}]"
      ]
     },
     "execution_count": 34,
     "metadata": {},
     "output_type": "execute_result"
    }
   ],
   "source": [
    "find_names('38933')"
   ]
  },
  {
   "cell_type": "code",
   "execution_count": 35,
   "metadata": {},
   "outputs": [
    {
     "data": {
      "text/plain": [
       "[{'name': 'TESORO LOGISTICS NORTHWEST PIPELINE LLC',\n",
       "  'start_year': 2013,\n",
       "  'end_year': 2017}]"
      ]
     },
     "execution_count": 35,
     "metadata": {},
     "output_type": "execute_result"
    }
   ],
   "source": [
    "find_names('39029')"
   ]
  },
  {
   "cell_type": "markdown",
   "metadata": {},
   "source": [
    "### Track miles to find merger date"
   ]
  },
  {
   "cell_type": "code",
   "execution_count": 36,
   "metadata": {},
   "outputs": [
    {
     "data": {
      "text/plain": [
       "[[2015, 3653.3999999999996],\n",
       " [2016, 3596.7999999999997],\n",
       " [2017, 3948.0],\n",
       " [2018, 4037.2]]"
      ]
     },
     "execution_count": 36,
     "metadata": {},
     "output_type": "execute_result"
    }
   ],
   "source": [
    "find_total_miles('32147', range(2015, 2019))"
   ]
  },
  {
   "cell_type": "code",
   "execution_count": 37,
   "metadata": {},
   "outputs": [
    {
     "data": {
      "text/plain": [
       "[[2015, 513.89], [2016, 513.89], [2017, 396.25], [2018, 513.89]]"
      ]
     },
     "execution_count": 37,
     "metadata": {},
     "output_type": "execute_result"
    }
   ],
   "source": [
    "find_total_miles('22830', range(2015, 2019))"
   ]
  },
  {
   "cell_type": "code",
   "execution_count": 38,
   "metadata": {},
   "outputs": [
    {
     "data": {
      "text/plain": [
       "[[2015, 15.3],\n",
       " [2016, 15.5],\n",
       " [2017, 14.969999999999999],\n",
       " [2018, 930.6999999999999]]"
      ]
     },
     "execution_count": 38,
     "metadata": {},
     "output_type": "execute_result"
    }
   ],
   "source": [
    "find_total_miles('38933', range(2015, 2019))"
   ]
  },
  {
   "cell_type": "code",
   "execution_count": 39,
   "metadata": {},
   "outputs": [
    {
     "data": {
      "text/plain": [
       "[[2015, 466.9], [2016, 484.2], [2017, 484.2], [2018, 0.0]]"
      ]
     },
     "execution_count": 39,
     "metadata": {},
     "output_type": "execute_result"
    }
   ],
   "source": [
    "find_total_miles('39029', range(2015, 2019))"
   ]
  },
  {
   "cell_type": "markdown",
   "metadata": {},
   "source": [
    "It seems the are transferred to one of Tosero's business units, but not reported by the (new) parent."
   ]
  },
  {
   "cell_type": "markdown",
   "metadata": {},
   "source": [
    "### Identify gvkeys"
   ]
  },
  {
   "cell_type": "code",
   "execution_count": 40,
   "metadata": {},
   "outputs": [
    {
     "data": {
      "text/html": [
       "<div>\n",
       "<style scoped>\n",
       "    .dataframe tbody tr th:only-of-type {\n",
       "        vertical-align: middle;\n",
       "    }\n",
       "\n",
       "    .dataframe tbody tr th {\n",
       "        vertical-align: top;\n",
       "    }\n",
       "\n",
       "    .dataframe thead th {\n",
       "        text-align: right;\n",
       "    }\n",
       "</style>\n",
       "<table border=\"1\" class=\"dataframe\">\n",
       "  <thead>\n",
       "    <tr style=\"text-align: right;\">\n",
       "      <th></th>\n",
       "      <th>gvkey</th>\n",
       "      <th>conm</th>\n",
       "      <th>tic</th>\n",
       "      <th>cusip</th>\n",
       "      <th>cik</th>\n",
       "      <th>sic</th>\n",
       "      <th>naics</th>\n",
       "      <th>gsubind</th>\n",
       "      <th>gind</th>\n",
       "      <th>year1</th>\n",
       "      <th>year2</th>\n",
       "    </tr>\n",
       "  </thead>\n",
       "  <tbody>\n",
       "    <tr>\n",
       "      <th>0</th>\n",
       "      <td>004384</td>\n",
       "      <td>MARATHON PATENT GROUP INC</td>\n",
       "      <td>MARA</td>\n",
       "      <td>56585W401</td>\n",
       "      <td>0001507605</td>\n",
       "      <td>7374</td>\n",
       "      <td>518210</td>\n",
       "      <td>45102020</td>\n",
       "      <td>451020</td>\n",
       "      <td>2011.0</td>\n",
       "      <td>2018.0</td>\n",
       "    </tr>\n",
       "    <tr>\n",
       "      <th>1</th>\n",
       "      <td>007017</td>\n",
       "      <td>MARATHON OIL CORP</td>\n",
       "      <td>MRO</td>\n",
       "      <td>565849106</td>\n",
       "      <td>0000101778</td>\n",
       "      <td>1311</td>\n",
       "      <td>2111</td>\n",
       "      <td>10102020</td>\n",
       "      <td>101020</td>\n",
       "      <td>1950.0</td>\n",
       "      <td>2018.0</td>\n",
       "    </tr>\n",
       "    <tr>\n",
       "      <th>2</th>\n",
       "      <td>177047</td>\n",
       "      <td>MARATHON PGM CORP</td>\n",
       "      <td>MAR.Z</td>\n",
       "      <td>565851102</td>\n",
       "      <td>None</td>\n",
       "      <td>1000</td>\n",
       "      <td>212</td>\n",
       "      <td>15104020</td>\n",
       "      <td>151040</td>\n",
       "      <td>2004.0</td>\n",
       "      <td>2009.0</td>\n",
       "    </tr>\n",
       "    <tr>\n",
       "      <th>3</th>\n",
       "      <td>186042</td>\n",
       "      <td>MARATHON GOLD CORP</td>\n",
       "      <td>MGDPF</td>\n",
       "      <td>56580Q102</td>\n",
       "      <td>0001507472</td>\n",
       "      <td>1000</td>\n",
       "      <td>212221</td>\n",
       "      <td>15104030</td>\n",
       "      <td>151040</td>\n",
       "      <td>2010.0</td>\n",
       "      <td>2018.0</td>\n",
       "    </tr>\n",
       "    <tr>\n",
       "      <th>4</th>\n",
       "      <td>186989</td>\n",
       "      <td>MARATHON PETROLEUM CORP</td>\n",
       "      <td>MPC</td>\n",
       "      <td>56585A102</td>\n",
       "      <td>0001510295</td>\n",
       "      <td>2911</td>\n",
       "      <td>324110</td>\n",
       "      <td>10102030</td>\n",
       "      <td>101020</td>\n",
       "      <td>2006.0</td>\n",
       "      <td>2018.0</td>\n",
       "    </tr>\n",
       "  </tbody>\n",
       "</table>\n",
       "</div>"
      ],
      "text/plain": [
       "    gvkey                       conm    tic      cusip         cik   sic  \\\n",
       "0  004384  MARATHON PATENT GROUP INC   MARA  56585W401  0001507605  7374   \n",
       "1  007017          MARATHON OIL CORP    MRO  565849106  0000101778  1311   \n",
       "2  177047          MARATHON PGM CORP  MAR.Z  565851102        None  1000   \n",
       "3  186042         MARATHON GOLD CORP  MGDPF  56580Q102  0001507472  1000   \n",
       "4  186989    MARATHON PETROLEUM CORP    MPC  56585A102  0001510295  2911   \n",
       "\n",
       "    naics   gsubind    gind   year1   year2  \n",
       "0  518210  45102020  451020  2011.0  2018.0  \n",
       "1    2111  10102020  101020  1950.0  2018.0  \n",
       "2     212  15104020  151040  2004.0  2009.0  \n",
       "3  212221  15104030  151040  2010.0  2018.0  \n",
       "4  324110  10102030  101020  2006.0  2018.0  "
      ]
     },
     "execution_count": 40,
     "metadata": {},
     "output_type": "execute_result"
    }
   ],
   "source": [
    "db.raw_sql(\"SELECT * FROM compa.names WHERE lower(conm) LIKE '%%marathon%%' AND year2 > 2000 LIMIT 10\")"
   ]
  },
  {
   "cell_type": "markdown",
   "metadata": {},
   "source": [
    "Marathon petrolium corp is a refinery spin-off of Marathon Oil (spun off in 2011). What we are interested in is the pipeline subsidiary of Maraton Oil (gvkey 007017)."
   ]
  },
  {
   "cell_type": "code",
   "execution_count": 41,
   "metadata": {},
   "outputs": [
    {
     "data": {
      "text/html": [
       "<div>\n",
       "<style scoped>\n",
       "    .dataframe tbody tr th:only-of-type {\n",
       "        vertical-align: middle;\n",
       "    }\n",
       "\n",
       "    .dataframe tbody tr th {\n",
       "        vertical-align: top;\n",
       "    }\n",
       "\n",
       "    .dataframe thead th {\n",
       "        text-align: right;\n",
       "    }\n",
       "</style>\n",
       "<table border=\"1\" class=\"dataframe\">\n",
       "  <thead>\n",
       "    <tr style=\"text-align: right;\">\n",
       "      <th></th>\n",
       "      <th>gvkey</th>\n",
       "      <th>conm</th>\n",
       "      <th>tic</th>\n",
       "      <th>cusip</th>\n",
       "      <th>cik</th>\n",
       "      <th>sic</th>\n",
       "      <th>naics</th>\n",
       "      <th>gsubind</th>\n",
       "      <th>gind</th>\n",
       "      <th>year1</th>\n",
       "      <th>year2</th>\n",
       "    </tr>\n",
       "  </thead>\n",
       "  <tbody>\n",
       "    <tr>\n",
       "      <th>0</th>\n",
       "      <td>011566</td>\n",
       "      <td>WOLVERINE WORLD WIDE</td>\n",
       "      <td>WWW</td>\n",
       "      <td>978097103</td>\n",
       "      <td>0000110471</td>\n",
       "      <td>3140</td>\n",
       "      <td>3162</td>\n",
       "      <td>25203020</td>\n",
       "      <td>252030</td>\n",
       "      <td>1960.0</td>\n",
       "      <td>2018.0</td>\n",
       "    </tr>\n",
       "    <tr>\n",
       "      <th>1</th>\n",
       "      <td>014450</td>\n",
       "      <td>WOLVERINE TUBE INC</td>\n",
       "      <td>WLVTQ</td>\n",
       "      <td>978093102</td>\n",
       "      <td>0000821407</td>\n",
       "      <td>3350</td>\n",
       "      <td>331421</td>\n",
       "      <td>20106020</td>\n",
       "      <td>201060</td>\n",
       "      <td>1987.0</td>\n",
       "      <td>2009.0</td>\n",
       "    </tr>\n",
       "    <tr>\n",
       "      <th>2</th>\n",
       "      <td>186290</td>\n",
       "      <td>WOLVERINE BANCORP INC</td>\n",
       "      <td>WBKC</td>\n",
       "      <td>977880103</td>\n",
       "      <td>0001500836</td>\n",
       "      <td>6035</td>\n",
       "      <td>522120</td>\n",
       "      <td>40102010</td>\n",
       "      <td>401020</td>\n",
       "      <td>2008.0</td>\n",
       "      <td>2016.0</td>\n",
       "    </tr>\n",
       "  </tbody>\n",
       "</table>\n",
       "</div>"
      ],
      "text/plain": [
       "    gvkey                   conm    tic      cusip         cik   sic   naics  \\\n",
       "0  011566   WOLVERINE WORLD WIDE    WWW  978097103  0000110471  3140    3162   \n",
       "1  014450     WOLVERINE TUBE INC  WLVTQ  978093102  0000821407  3350  331421   \n",
       "2  186290  WOLVERINE BANCORP INC   WBKC  977880103  0001500836  6035  522120   \n",
       "\n",
       "    gsubind    gind   year1   year2  \n",
       "0  25203020  252030  1960.0  2018.0  \n",
       "1  20106020  201060  1987.0  2009.0  \n",
       "2  40102010  401020  2008.0  2016.0  "
      ]
     },
     "execution_count": 41,
     "metadata": {},
     "output_type": "execute_result"
    }
   ],
   "source": [
    "db.raw_sql(\"SELECT * FROM compa.names WHERE lower(conm) LIKE '%%wolverine%%' AND year2 > 2000 LIMIT 10\")"
   ]
  },
  {
   "cell_type": "markdown",
   "metadata": {},
   "source": [
    "The correct organization cannot be found here. We are probably looking at a wholly owned subsidiary, and can merge the observations with those of Marathon."
   ]
  },
  {
   "cell_type": "code",
   "execution_count": 42,
   "metadata": {},
   "outputs": [
    {
     "data": {
      "text/html": [
       "<div>\n",
       "<style scoped>\n",
       "    .dataframe tbody tr th:only-of-type {\n",
       "        vertical-align: middle;\n",
       "    }\n",
       "\n",
       "    .dataframe tbody tr th {\n",
       "        vertical-align: top;\n",
       "    }\n",
       "\n",
       "    .dataframe thead th {\n",
       "        text-align: right;\n",
       "    }\n",
       "</style>\n",
       "<table border=\"1\" class=\"dataframe\">\n",
       "  <thead>\n",
       "    <tr style=\"text-align: right;\">\n",
       "      <th></th>\n",
       "      <th>gvkey</th>\n",
       "      <th>conm</th>\n",
       "      <th>tic</th>\n",
       "      <th>cusip</th>\n",
       "      <th>cik</th>\n",
       "      <th>sic</th>\n",
       "      <th>naics</th>\n",
       "      <th>gsubind</th>\n",
       "      <th>gind</th>\n",
       "      <th>year1</th>\n",
       "      <th>year2</th>\n",
       "    </tr>\n",
       "  </thead>\n",
       "  <tbody>\n",
       "    <tr>\n",
       "      <th>0</th>\n",
       "      <td>031655</td>\n",
       "      <td>TESORO CORP-PRO FORMA</td>\n",
       "      <td>TSO.P</td>\n",
       "      <td>88199G936</td>\n",
       "      <td>None</td>\n",
       "      <td>2911</td>\n",
       "      <td>324110</td>\n",
       "      <td>None</td>\n",
       "      <td>None</td>\n",
       "      <td>2015.0</td>\n",
       "      <td>2016.0</td>\n",
       "    </tr>\n",
       "    <tr>\n",
       "      <th>1</th>\n",
       "      <td>105634</td>\n",
       "      <td>TESORO MINERALS CORP</td>\n",
       "      <td>NNGVF</td>\n",
       "      <td>88160V102</td>\n",
       "      <td>None</td>\n",
       "      <td>1040</td>\n",
       "      <td>212221</td>\n",
       "      <td>15104030</td>\n",
       "      <td>151040</td>\n",
       "      <td>2002.0</td>\n",
       "      <td>2018.0</td>\n",
       "    </tr>\n",
       "  </tbody>\n",
       "</table>\n",
       "</div>"
      ],
      "text/plain": [
       "    gvkey                   conm    tic      cusip   cik   sic   naics  \\\n",
       "0  031655  TESORO CORP-PRO FORMA  TSO.P  88199G936  None  2911  324110   \n",
       "1  105634   TESORO MINERALS CORP  NNGVF  88160V102  None  1040  212221   \n",
       "\n",
       "    gsubind    gind   year1   year2  \n",
       "0      None    None  2015.0  2016.0  \n",
       "1  15104030  151040  2002.0  2018.0  "
      ]
     },
     "execution_count": 42,
     "metadata": {},
     "output_type": "execute_result"
    }
   ],
   "source": [
    "db.raw_sql(\"SELECT * FROM compa.names WHERE lower(conm) LIKE '%%tesoro%%' AND year2 > 2000 LIMIT 10\")"
   ]
  },
  {
   "cell_type": "markdown",
   "metadata": {},
   "source": [
    "### Track asset values"
   ]
  },
  {
   "cell_type": "markdown",
   "metadata": {},
   "source": [
    "#### Tesoro"
   ]
  },
  {
   "cell_type": "code",
   "execution_count": 43,
   "metadata": {},
   "outputs": [
    {
     "data": {
      "text/html": [
       "<div>\n",
       "<style scoped>\n",
       "    .dataframe tbody tr th:only-of-type {\n",
       "        vertical-align: middle;\n",
       "    }\n",
       "\n",
       "    .dataframe tbody tr th {\n",
       "        vertical-align: top;\n",
       "    }\n",
       "\n",
       "    .dataframe thead th {\n",
       "        text-align: right;\n",
       "    }\n",
       "</style>\n",
       "<table border=\"1\" class=\"dataframe\">\n",
       "  <thead>\n",
       "    <tr style=\"text-align: right;\">\n",
       "      <th></th>\n",
       "      <th>gvkey</th>\n",
       "      <th>datadate</th>\n",
       "      <th>fyear</th>\n",
       "      <th>revenue</th>\n",
       "      <th>assets</th>\n",
       "    </tr>\n",
       "  </thead>\n",
       "  <tbody>\n",
       "    <tr>\n",
       "      <th>0</th>\n",
       "      <td>031655</td>\n",
       "      <td>2015-12-31</td>\n",
       "      <td>2015.0</td>\n",
       "      <td>38763.0</td>\n",
       "      <td>NaN</td>\n",
       "    </tr>\n",
       "    <tr>\n",
       "      <th>1</th>\n",
       "      <td>031655</td>\n",
       "      <td>2016-09-30</td>\n",
       "      <td>2016.0</td>\n",
       "      <td>23749.0</td>\n",
       "      <td>6783.000</td>\n",
       "    </tr>\n",
       "    <tr>\n",
       "      <th>2</th>\n",
       "      <td>105634</td>\n",
       "      <td>2014-10-31</td>\n",
       "      <td>2014.0</td>\n",
       "      <td>0.0</td>\n",
       "      <td>0.836</td>\n",
       "    </tr>\n",
       "    <tr>\n",
       "      <th>3</th>\n",
       "      <td>105634</td>\n",
       "      <td>2015-10-31</td>\n",
       "      <td>2015.0</td>\n",
       "      <td>0.0</td>\n",
       "      <td>0.556</td>\n",
       "    </tr>\n",
       "    <tr>\n",
       "      <th>4</th>\n",
       "      <td>105634</td>\n",
       "      <td>2016-10-31</td>\n",
       "      <td>2016.0</td>\n",
       "      <td>0.0</td>\n",
       "      <td>0.098</td>\n",
       "    </tr>\n",
       "    <tr>\n",
       "      <th>5</th>\n",
       "      <td>105634</td>\n",
       "      <td>2017-10-31</td>\n",
       "      <td>2017.0</td>\n",
       "      <td>0.0</td>\n",
       "      <td>0.345</td>\n",
       "    </tr>\n",
       "  </tbody>\n",
       "</table>\n",
       "</div>"
      ],
      "text/plain": [
       "    gvkey    datadate   fyear  revenue    assets\n",
       "0  031655  2015-12-31  2015.0  38763.0       NaN\n",
       "1  031655  2016-09-30  2016.0  23749.0  6783.000\n",
       "2  105634  2014-10-31  2014.0      0.0     0.836\n",
       "3  105634  2015-10-31  2015.0      0.0     0.556\n",
       "4  105634  2016-10-31  2016.0      0.0     0.098\n",
       "5  105634  2017-10-31  2017.0      0.0     0.345"
      ]
     },
     "execution_count": 43,
     "metadata": {},
     "output_type": "execute_result"
    }
   ],
   "source": [
    "db.raw_sql(\"\"\"SELECT gvkey, datadate, fyear, revt AS revenue, act AS assets FROM compa.funda \n",
    "              WHERE gvkey IN ('031655', '105634') AND fyear BETWEEN '2014' AND '2017'\n",
    "              AND (act is not null OR revt is not null)\"\"\")"
   ]
  },
  {
   "cell_type": "markdown",
   "metadata": {},
   "source": [
    "#### Andeavor"
   ]
  },
  {
   "cell_type": "markdown",
   "metadata": {},
   "source": [
    "Tesoro also used to be called andeavor."
   ]
  },
  {
   "cell_type": "code",
   "execution_count": 44,
   "metadata": {},
   "outputs": [
    {
     "data": {
      "text/html": [
       "<div>\n",
       "<style scoped>\n",
       "    .dataframe tbody tr th:only-of-type {\n",
       "        vertical-align: middle;\n",
       "    }\n",
       "\n",
       "    .dataframe tbody tr th {\n",
       "        vertical-align: top;\n",
       "    }\n",
       "\n",
       "    .dataframe thead th {\n",
       "        text-align: right;\n",
       "    }\n",
       "</style>\n",
       "<table border=\"1\" class=\"dataframe\">\n",
       "  <thead>\n",
       "    <tr style=\"text-align: right;\">\n",
       "      <th></th>\n",
       "      <th>gvkey</th>\n",
       "      <th>conm</th>\n",
       "      <th>tic</th>\n",
       "      <th>cusip</th>\n",
       "      <th>cik</th>\n",
       "      <th>sic</th>\n",
       "      <th>naics</th>\n",
       "      <th>gsubind</th>\n",
       "      <th>gind</th>\n",
       "      <th>year1</th>\n",
       "      <th>year2</th>\n",
       "    </tr>\n",
       "  </thead>\n",
       "  <tbody>\n",
       "    <tr>\n",
       "      <th>0</th>\n",
       "      <td>010466</td>\n",
       "      <td>ANDEAVOR</td>\n",
       "      <td>ANDV</td>\n",
       "      <td>03349M105</td>\n",
       "      <td>0000050104</td>\n",
       "      <td>2911</td>\n",
       "      <td>324110</td>\n",
       "      <td>10102030</td>\n",
       "      <td>101020</td>\n",
       "      <td>1966.0</td>\n",
       "      <td>2017.0</td>\n",
       "    </tr>\n",
       "    <tr>\n",
       "      <th>1</th>\n",
       "      <td>186206</td>\n",
       "      <td>ANDEAVOR LOGISTICS LP</td>\n",
       "      <td>ANDX</td>\n",
       "      <td>03350F106</td>\n",
       "      <td>0001507615</td>\n",
       "      <td>4610</td>\n",
       "      <td>486</td>\n",
       "      <td>10102040</td>\n",
       "      <td>101020</td>\n",
       "      <td>2005.0</td>\n",
       "      <td>2018.0</td>\n",
       "    </tr>\n",
       "  </tbody>\n",
       "</table>\n",
       "</div>"
      ],
      "text/plain": [
       "    gvkey                   conm   tic      cusip         cik   sic   naics  \\\n",
       "0  010466               ANDEAVOR  ANDV  03349M105  0000050104  2911  324110   \n",
       "1  186206  ANDEAVOR LOGISTICS LP  ANDX  03350F106  0001507615  4610     486   \n",
       "\n",
       "    gsubind    gind   year1   year2  \n",
       "0  10102030  101020  1966.0  2017.0  \n",
       "1  10102040  101020  2005.0  2018.0  "
      ]
     },
     "execution_count": 44,
     "metadata": {},
     "output_type": "execute_result"
    }
   ],
   "source": [
    "db.raw_sql(\"SELECT * FROM compa.names WHERE lower(conm) LIKE '%%andeavor%%' AND year2 > 2000 LIMIT 10\")"
   ]
  },
  {
   "cell_type": "code",
   "execution_count": 45,
   "metadata": {},
   "outputs": [
    {
     "data": {
      "text/html": [
       "<div>\n",
       "<style scoped>\n",
       "    .dataframe tbody tr th:only-of-type {\n",
       "        vertical-align: middle;\n",
       "    }\n",
       "\n",
       "    .dataframe tbody tr th {\n",
       "        vertical-align: top;\n",
       "    }\n",
       "\n",
       "    .dataframe thead th {\n",
       "        text-align: right;\n",
       "    }\n",
       "</style>\n",
       "<table border=\"1\" class=\"dataframe\">\n",
       "  <thead>\n",
       "    <tr style=\"text-align: right;\">\n",
       "      <th></th>\n",
       "      <th>gvkey</th>\n",
       "      <th>datadate</th>\n",
       "      <th>fyear</th>\n",
       "      <th>revenue</th>\n",
       "      <th>assets</th>\n",
       "    </tr>\n",
       "  </thead>\n",
       "  <tbody>\n",
       "    <tr>\n",
       "      <th>0</th>\n",
       "      <td>010466</td>\n",
       "      <td>2016-12-31</td>\n",
       "      <td>2016.0</td>\n",
       "      <td>24005.0</td>\n",
       "      <td>7414.0</td>\n",
       "    </tr>\n",
       "    <tr>\n",
       "      <th>1</th>\n",
       "      <td>010466</td>\n",
       "      <td>2017-12-31</td>\n",
       "      <td>2017.0</td>\n",
       "      <td>34204.0</td>\n",
       "      <td>6883.0</td>\n",
       "    </tr>\n",
       "    <tr>\n",
       "      <th>2</th>\n",
       "      <td>186206</td>\n",
       "      <td>2016-12-31</td>\n",
       "      <td>2016.0</td>\n",
       "      <td>1220.0</td>\n",
       "      <td>938.0</td>\n",
       "    </tr>\n",
       "    <tr>\n",
       "      <th>3</th>\n",
       "      <td>186206</td>\n",
       "      <td>2017-12-31</td>\n",
       "      <td>2017.0</td>\n",
       "      <td>3213.0</td>\n",
       "      <td>505.0</td>\n",
       "    </tr>\n",
       "    <tr>\n",
       "      <th>4</th>\n",
       "      <td>186206</td>\n",
       "      <td>2018-12-31</td>\n",
       "      <td>2018.0</td>\n",
       "      <td>2380.0</td>\n",
       "      <td>563.0</td>\n",
       "    </tr>\n",
       "  </tbody>\n",
       "</table>\n",
       "</div>"
      ],
      "text/plain": [
       "    gvkey    datadate   fyear  revenue  assets\n",
       "0  010466  2016-12-31  2016.0  24005.0  7414.0\n",
       "1  010466  2017-12-31  2017.0  34204.0  6883.0\n",
       "2  186206  2016-12-31  2016.0   1220.0   938.0\n",
       "3  186206  2017-12-31  2017.0   3213.0   505.0\n",
       "4  186206  2018-12-31  2018.0   2380.0   563.0"
      ]
     },
     "execution_count": 45,
     "metadata": {},
     "output_type": "execute_result"
    }
   ],
   "source": [
    "db.raw_sql(\"\"\"SELECT gvkey, datadate, fyear, revt AS revenue, act AS assets FROM compa.funda \n",
    "              WHERE gvkey IN ('010466', '186206') AND fyear>'2015'\n",
    "              AND (act is not null OR revt is not null)\"\"\")"
   ]
  },
  {
   "cell_type": "markdown",
   "metadata": {},
   "source": [
    "#### Marathon"
   ]
  },
  {
   "cell_type": "code",
   "execution_count": 46,
   "metadata": {},
   "outputs": [
    {
     "data": {
      "text/html": [
       "<div>\n",
       "<style scoped>\n",
       "    .dataframe tbody tr th:only-of-type {\n",
       "        vertical-align: middle;\n",
       "    }\n",
       "\n",
       "    .dataframe tbody tr th {\n",
       "        vertical-align: top;\n",
       "    }\n",
       "\n",
       "    .dataframe thead th {\n",
       "        text-align: right;\n",
       "    }\n",
       "</style>\n",
       "<table border=\"1\" class=\"dataframe\">\n",
       "  <thead>\n",
       "    <tr style=\"text-align: right;\">\n",
       "      <th></th>\n",
       "      <th>gvkey</th>\n",
       "      <th>datadate</th>\n",
       "      <th>fyear</th>\n",
       "      <th>revenue</th>\n",
       "      <th>assets</th>\n",
       "    </tr>\n",
       "  </thead>\n",
       "  <tbody>\n",
       "    <tr>\n",
       "      <th>0</th>\n",
       "      <td>007017</td>\n",
       "      <td>2015-12-31</td>\n",
       "      <td>2015.0</td>\n",
       "      <td>5522.0</td>\n",
       "      <td>2590.0</td>\n",
       "    </tr>\n",
       "    <tr>\n",
       "      <th>1</th>\n",
       "      <td>007017</td>\n",
       "      <td>2016-12-31</td>\n",
       "      <td>2016.0</td>\n",
       "      <td>4031.0</td>\n",
       "      <td>3665.0</td>\n",
       "    </tr>\n",
       "    <tr>\n",
       "      <th>2</th>\n",
       "      <td>007017</td>\n",
       "      <td>2017-12-31</td>\n",
       "      <td>2017.0</td>\n",
       "      <td>4373.0</td>\n",
       "      <td>2566.0</td>\n",
       "    </tr>\n",
       "    <tr>\n",
       "      <th>3</th>\n",
       "      <td>007017</td>\n",
       "      <td>2018-12-31</td>\n",
       "      <td>2018.0</td>\n",
       "      <td>5888.0</td>\n",
       "      <td>2921.0</td>\n",
       "    </tr>\n",
       "  </tbody>\n",
       "</table>\n",
       "</div>"
      ],
      "text/plain": [
       "    gvkey    datadate   fyear  revenue  assets\n",
       "0  007017  2015-12-31  2015.0   5522.0  2590.0\n",
       "1  007017  2016-12-31  2016.0   4031.0  3665.0\n",
       "2  007017  2017-12-31  2017.0   4373.0  2566.0\n",
       "3  007017  2018-12-31  2018.0   5888.0  2921.0"
      ]
     },
     "execution_count": 46,
     "metadata": {},
     "output_type": "execute_result"
    }
   ],
   "source": [
    "db.raw_sql(\"\"\"SELECT gvkey, datadate, fyear, revt AS revenue, act AS assets FROM compa.funda WHERE gvkey='007017'\n",
    "           AND fyear BETWEEN '2015' AND '2019' AND act is not null\"\"\")"
   ]
  },
  {
   "cell_type": "code",
   "execution_count": 47,
   "metadata": {},
   "outputs": [
    {
     "data": {
      "text/html": [
       "<div>\n",
       "<style scoped>\n",
       "    .dataframe tbody tr th:only-of-type {\n",
       "        vertical-align: middle;\n",
       "    }\n",
       "\n",
       "    .dataframe tbody tr th {\n",
       "        vertical-align: top;\n",
       "    }\n",
       "\n",
       "    .dataframe thead th {\n",
       "        text-align: right;\n",
       "    }\n",
       "</style>\n",
       "<table border=\"1\" class=\"dataframe\">\n",
       "  <thead>\n",
       "    <tr style=\"text-align: right;\">\n",
       "      <th></th>\n",
       "      <th>gvkey</th>\n",
       "      <th>datadate</th>\n",
       "      <th>fyear</th>\n",
       "      <th>revenue</th>\n",
       "      <th>assets</th>\n",
       "    </tr>\n",
       "  </thead>\n",
       "  <tbody>\n",
       "    <tr>\n",
       "      <th>0</th>\n",
       "      <td>186989</td>\n",
       "      <td>2015-12-31</td>\n",
       "      <td>2015.0</td>\n",
       "      <td>64359.0</td>\n",
       "      <td>9471.0</td>\n",
       "    </tr>\n",
       "    <tr>\n",
       "      <th>1</th>\n",
       "      <td>186989</td>\n",
       "      <td>2016-12-31</td>\n",
       "      <td>2016.0</td>\n",
       "      <td>55833.0</td>\n",
       "      <td>10401.0</td>\n",
       "    </tr>\n",
       "    <tr>\n",
       "      <th>2</th>\n",
       "      <td>186989</td>\n",
       "      <td>2017-12-31</td>\n",
       "      <td>2017.0</td>\n",
       "      <td>66974.0</td>\n",
       "      <td>13401.0</td>\n",
       "    </tr>\n",
       "    <tr>\n",
       "      <th>3</th>\n",
       "      <td>186989</td>\n",
       "      <td>2018-12-31</td>\n",
       "      <td>2018.0</td>\n",
       "      <td>96504.0</td>\n",
       "      <td>18023.0</td>\n",
       "    </tr>\n",
       "  </tbody>\n",
       "</table>\n",
       "</div>"
      ],
      "text/plain": [
       "    gvkey    datadate   fyear  revenue   assets\n",
       "0  186989  2015-12-31  2015.0  64359.0   9471.0\n",
       "1  186989  2016-12-31  2016.0  55833.0  10401.0\n",
       "2  186989  2017-12-31  2017.0  66974.0  13401.0\n",
       "3  186989  2018-12-31  2018.0  96504.0  18023.0"
      ]
     },
     "execution_count": 47,
     "metadata": {},
     "output_type": "execute_result"
    }
   ],
   "source": [
    "db.raw_sql(\"\"\"SELECT gvkey, datadate, fyear, revt AS revenue, act AS assets FROM compa.funda WHERE gvkey='186989'\n",
    "           AND fyear BETWEEN '2015' AND '2019' AND act is not null\"\"\")"
   ]
  },
  {
   "cell_type": "markdown",
   "metadata": {},
   "source": [
    "The asset gains 2016-2018 are roughly in line with the asset value of Tesoro."
   ]
  },
  {
   "cell_type": "markdown",
   "metadata": {},
   "source": [
    "### Decision"
   ]
  },
  {
   "cell_type": "markdown",
   "metadata": {},
   "source": [
    "The merger between Marathon and Tesoro was finalized in 2018 (http://ir.andeavor.com/phoenix.zhtml?c=79122&p=irol-newsArticle&ID=2345407). We will group Wolverine with Marathon, and also combine the two Tesoros into one observation. For 2018, we will subsume Tesoro under Marathon."
   ]
  },
  {
   "cell_type": "markdown",
   "metadata": {},
   "source": [
    "We group Wolverine with Marathon, and the two Tesoros together. We cut of the observations for Tesoro group in 2016, and add their observations to the Marathon group, in order to track the impact of this acquisition as a source of change."
   ]
  },
  {
   "cell_type": "code",
   "execution_count": 48,
   "metadata": {},
   "outputs": [
    {
     "data": {
      "text/html": [
       "<div>\n",
       "<style scoped>\n",
       "    .dataframe tbody tr th:only-of-type {\n",
       "        vertical-align: middle;\n",
       "    }\n",
       "\n",
       "    .dataframe tbody tr th {\n",
       "        vertical-align: top;\n",
       "    }\n",
       "\n",
       "    .dataframe thead th {\n",
       "        text-align: right;\n",
       "    }\n",
       "</style>\n",
       "<table border=\"1\" class=\"dataframe\">\n",
       "  <thead>\n",
       "    <tr style=\"text-align: right;\">\n",
       "      <th></th>\n",
       "      <th>members</th>\n",
       "      <th>name</th>\n",
       "    </tr>\n",
       "  </thead>\n",
       "  <tbody>\n",
       "    <tr>\n",
       "      <th>4</th>\n",
       "      <td>31371</td>\n",
       "      <td>Buckeye (Group)</td>\n",
       "    </tr>\n",
       "    <tr>\n",
       "      <th>5</th>\n",
       "      <td>32147</td>\n",
       "      <td>Marathon (Group)</td>\n",
       "    </tr>\n",
       "    <tr>\n",
       "      <th>6</th>\n",
       "      <td>22830</td>\n",
       "      <td>Marathon (Group)</td>\n",
       "    </tr>\n",
       "    <tr>\n",
       "      <th>7</th>\n",
       "      <td>38933</td>\n",
       "      <td>Tesoro (Group)</td>\n",
       "    </tr>\n",
       "    <tr>\n",
       "      <th>8</th>\n",
       "      <td>39029</td>\n",
       "      <td>Tesoro (Group)</td>\n",
       "    </tr>\n",
       "  </tbody>\n",
       "</table>\n",
       "</div>"
      ],
      "text/plain": [
       "  members              name\n",
       "4   31371   Buckeye (Group)\n",
       "5   32147  Marathon (Group)\n",
       "6   22830  Marathon (Group)\n",
       "7   38933    Tesoro (Group)\n",
       "8   39029    Tesoro (Group)"
      ]
     },
     "execution_count": 48,
     "metadata": {},
     "output_type": "execute_result"
    }
   ],
   "source": [
    "# Marathon and Wolverine\n",
    "company_groups = add_company_group('Marathon (Group)', ['32147', '22830'], company_groups)\n",
    "\n",
    "# Tesoro\n",
    "company_groups = add_company_group('Tesoro (Group)', ['38933', '39029'], company_groups)\n",
    "company_groups.tail()"
   ]
  },
  {
   "cell_type": "code",
   "execution_count": 49,
   "metadata": {},
   "outputs": [
    {
     "data": {
      "text/html": [
       "<div>\n",
       "<style scoped>\n",
       "    .dataframe tbody tr th:only-of-type {\n",
       "        vertical-align: middle;\n",
       "    }\n",
       "\n",
       "    .dataframe tbody tr th {\n",
       "        vertical-align: top;\n",
       "    }\n",
       "\n",
       "    .dataframe thead th {\n",
       "        text-align: right;\n",
       "    }\n",
       "</style>\n",
       "<table border=\"1\" class=\"dataframe\">\n",
       "  <thead>\n",
       "    <tr style=\"text-align: right;\">\n",
       "      <th></th>\n",
       "      <th>members</th>\n",
       "      <th>name</th>\n",
       "      <th>start_year</th>\n",
       "    </tr>\n",
       "  </thead>\n",
       "  <tbody>\n",
       "    <tr>\n",
       "      <th>0</th>\n",
       "      <td>Marathon (Group)</td>\n",
       "      <td>Marathon (Group)</td>\n",
       "      <td>2018</td>\n",
       "    </tr>\n",
       "    <tr>\n",
       "      <th>1</th>\n",
       "      <td>Tesoro (Group)</td>\n",
       "      <td>Marathon (Group)</td>\n",
       "      <td>2018</td>\n",
       "    </tr>\n",
       "  </tbody>\n",
       "</table>\n",
       "</div>"
      ],
      "text/plain": [
       "            members              name start_year\n",
       "0  Marathon (Group)  Marathon (Group)       2018\n",
       "1    Tesoro (Group)  Marathon (Group)       2018"
      ]
     },
     "execution_count": 49,
     "metadata": {},
     "output_type": "execute_result"
    }
   ],
   "source": [
    "m_as = add_m_a('Marathon (Group)', ['Marathon (Group)', 'Tesoro (Group)'], m_as, start_year = '2018')\n",
    "m_as"
   ]
  },
  {
   "cell_type": "markdown",
   "metadata": {},
   "source": [
    "### 8.2.6 Sunoco"
   ]
  },
  {
   "cell_type": "code",
   "execution_count": 50,
   "metadata": {},
   "outputs": [
    {
     "name": "stdout",
     "output_type": "stream",
     "text": [
      "\n",
      "SUNOCO PIPELINE L.P. (OPERATOR_ID 18718) has the same parent company as:\n",
      "\n",
      "\tMID - VALLEY PIPELINE CO (OPERATOR_ID 12470)\n",
      "\n",
      "\tENERGY TRANSFER COMPANY (OPERATOR_ID 32099)\n",
      "\n",
      "\tDAPL-ETCO OPERATIONS MANAGEMENT, LLC (OPERATOR_ID 39205)\n",
      "\n",
      "\tPERMIAN EXPRESS PARTNERS LLC (OPERATOR_ID 39596)\n",
      "\n"
     ]
    }
   ],
   "source": [
    "print(next(issues))"
   ]
  },
  {
   "cell_type": "markdown",
   "metadata": {},
   "source": [
    "### Names and miles"
   ]
  },
  {
   "cell_type": "code",
   "execution_count": 51,
   "metadata": {},
   "outputs": [
    {
     "data": {
      "text/plain": [
       "[{'name': 'SUNOCO PIPELINE L.P.', 'start_year': 2010, 'end_year': 2018}]"
      ]
     },
     "execution_count": 51,
     "metadata": {},
     "output_type": "execute_result"
    }
   ],
   "source": [
    "find_names('18718')"
   ]
  },
  {
   "cell_type": "code",
   "execution_count": 52,
   "metadata": {},
   "outputs": [
    {
     "data": {
      "text/plain": [
       "[[2010, 3466.74],\n",
       " [2011, 3379.19],\n",
       " [2012, 3098.0699999999997],\n",
       " [2013, 2529.64],\n",
       " [2014, 3185.63],\n",
       " [2015, 3364.17],\n",
       " [2016, 3308.1299999999997],\n",
       " [2017, 3320.93],\n",
       " [2018, 3050.2]]"
      ]
     },
     "execution_count": 52,
     "metadata": {},
     "output_type": "execute_result"
    }
   ],
   "source": [
    "find_total_miles('18718', range(2010, 2019))"
   ]
  },
  {
   "cell_type": "code",
   "execution_count": 53,
   "metadata": {},
   "outputs": [
    {
     "data": {
      "text/plain": [
       "[{'name': 'MID - VALLEY PIPELINE CO', 'start_year': 2010, 'end_year': 2018}]"
      ]
     },
     "execution_count": 53,
     "metadata": {},
     "output_type": "execute_result"
    }
   ],
   "source": [
    "find_names('12470')"
   ]
  },
  {
   "cell_type": "code",
   "execution_count": 54,
   "metadata": {},
   "outputs": [
    {
     "data": {
      "text/plain": [
       "[[2010, 542.0],\n",
       " [2011, 542.0],\n",
       " [2012, 542.0],\n",
       " [2013, 633.0],\n",
       " [2014, 656.0],\n",
       " [2015, 662.0],\n",
       " [2016, 632.0],\n",
       " [2017, 650.0],\n",
       " [2018, 650.47]]"
      ]
     },
     "execution_count": 54,
     "metadata": {},
     "output_type": "execute_result"
    }
   ],
   "source": [
    "find_total_miles('12470', range(2010, 2019))"
   ]
  },
  {
   "cell_type": "markdown",
   "metadata": {},
   "source": [
    "A wholly owned subsidiary of Sunoco."
   ]
  },
  {
   "cell_type": "code",
   "execution_count": 55,
   "metadata": {},
   "outputs": [
    {
     "data": {
      "text/plain": [
       "[{'name': 'ENERGY TRANSFER COMPANY', 'start_year': 2011, 'end_year': 2018}]"
      ]
     },
     "execution_count": 55,
     "metadata": {},
     "output_type": "execute_result"
    }
   ],
   "source": [
    "find_names('32099')"
   ]
  },
  {
   "cell_type": "code",
   "execution_count": 56,
   "metadata": {},
   "outputs": [
    {
     "data": {
      "text/plain": [
       "[[2010, 0.0],\n",
       " [2011, 331.8],\n",
       " [2012, 463.2],\n",
       " [2013, 463.43],\n",
       " [2014, 460.89],\n",
       " [2015, 468.79],\n",
       " [2016, 744.4200000000001],\n",
       " [2017, 1310.0],\n",
       " [2018, 1295.11]]"
      ]
     },
     "execution_count": 56,
     "metadata": {},
     "output_type": "execute_result"
    }
   ],
   "source": [
    "find_total_miles('32099', range(2010, 2019))"
   ]
  },
  {
   "cell_type": "code",
   "execution_count": 57,
   "metadata": {},
   "outputs": [
    {
     "data": {
      "text/plain": [
       "[{'name': 'DAPL-ETCO OPERATIONS MANAGEMENT, LLC',\n",
       "  'start_year': 2017,\n",
       "  'end_year': 2018}]"
      ]
     },
     "execution_count": 57,
     "metadata": {},
     "output_type": "execute_result"
    }
   ],
   "source": [
    "find_names('39205')"
   ]
  },
  {
   "cell_type": "code",
   "execution_count": 58,
   "metadata": {},
   "outputs": [
    {
     "data": {
      "text/plain": [
       "[[2010, 0.0],\n",
       " [2011, 0.0],\n",
       " [2012, 0.0],\n",
       " [2013, 0.0],\n",
       " [2014, 0.0],\n",
       " [2015, 0.0],\n",
       " [2016, 0.0],\n",
       " [2017, 795.9],\n",
       " [2018, 950.64]]"
      ]
     },
     "execution_count": 58,
     "metadata": {},
     "output_type": "execute_result"
    }
   ],
   "source": [
    "find_total_miles('39205', range(2010, 2019))"
   ]
  },
  {
   "cell_type": "markdown",
   "metadata": {},
   "source": [
    "Dacota Access PipeLine - construction started in 2016."
   ]
  },
  {
   "cell_type": "code",
   "execution_count": 59,
   "metadata": {},
   "outputs": [
    {
     "data": {
      "text/plain": [
       "[{'name': 'PERMIAN EXPRESS PARTNERS LLC',\n",
       "  'start_year': 2017,\n",
       "  'end_year': 2018}]"
      ]
     },
     "execution_count": 59,
     "metadata": {},
     "output_type": "execute_result"
    }
   ],
   "source": [
    "find_names('39596')"
   ]
  },
  {
   "cell_type": "code",
   "execution_count": 60,
   "metadata": {},
   "outputs": [
    {
     "data": {
      "text/plain": [
       "[[2010, 0.0],\n",
       " [2011, 0.0],\n",
       " [2012, 0.0],\n",
       " [2013, 0.0],\n",
       " [2014, 0.0],\n",
       " [2015, 0.0],\n",
       " [2016, 0.0],\n",
       " [2017, 946.0],\n",
       " [2018, 946.62]]"
      ]
     },
     "execution_count": 60,
     "metadata": {},
     "output_type": "execute_result"
    }
   ],
   "source": [
    "find_total_miles('39596', range(2010, 2019))"
   ]
  },
  {
   "cell_type": "markdown",
   "metadata": {},
   "source": [
    "Permian express oil pipeline - wholly owned subsidiary of Sunoco, construction started in 2013 (https://www.sourcewatch.org/index.php/Permian_Express_Oil_Pipeline)."
   ]
  },
  {
   "cell_type": "markdown",
   "metadata": {},
   "source": [
    "### Company structure - gvkeys on wrds"
   ]
  },
  {
   "cell_type": "code",
   "execution_count": 61,
   "metadata": {},
   "outputs": [
    {
     "data": {
      "text/html": [
       "<div>\n",
       "<style scoped>\n",
       "    .dataframe tbody tr th:only-of-type {\n",
       "        vertical-align: middle;\n",
       "    }\n",
       "\n",
       "    .dataframe tbody tr th {\n",
       "        vertical-align: top;\n",
       "    }\n",
       "\n",
       "    .dataframe thead th {\n",
       "        text-align: right;\n",
       "    }\n",
       "</style>\n",
       "<table border=\"1\" class=\"dataframe\">\n",
       "  <thead>\n",
       "    <tr style=\"text-align: right;\">\n",
       "      <th></th>\n",
       "      <th>gvkey</th>\n",
       "      <th>conm</th>\n",
       "      <th>tic</th>\n",
       "      <th>cusip</th>\n",
       "      <th>cik</th>\n",
       "      <th>sic</th>\n",
       "      <th>naics</th>\n",
       "      <th>gsubind</th>\n",
       "      <th>gind</th>\n",
       "      <th>year1</th>\n",
       "      <th>year2</th>\n",
       "    </tr>\n",
       "  </thead>\n",
       "  <tbody>\n",
       "    <tr>\n",
       "      <th>0</th>\n",
       "      <td>010156</td>\n",
       "      <td>SUNOCO INC</td>\n",
       "      <td>SUN.1</td>\n",
       "      <td>86764P109</td>\n",
       "      <td>0000095304</td>\n",
       "      <td>2911</td>\n",
       "      <td>324110</td>\n",
       "      <td>10102030</td>\n",
       "      <td>101020</td>\n",
       "      <td>1950.0</td>\n",
       "      <td>2011.0</td>\n",
       "    </tr>\n",
       "    <tr>\n",
       "      <th>1</th>\n",
       "      <td>012892</td>\n",
       "      <td>SUNOCO LP</td>\n",
       "      <td>SUN</td>\n",
       "      <td>86765K109</td>\n",
       "      <td>0001552275</td>\n",
       "      <td>5172</td>\n",
       "      <td>424720</td>\n",
       "      <td>10102040</td>\n",
       "      <td>101020</td>\n",
       "      <td>2007.0</td>\n",
       "      <td>2018.0</td>\n",
       "    </tr>\n",
       "    <tr>\n",
       "      <th>2</th>\n",
       "      <td>147208</td>\n",
       "      <td>SUNOCO LOGISTICS PARTNERS LP</td>\n",
       "      <td>SXL</td>\n",
       "      <td>86764L108</td>\n",
       "      <td>None</td>\n",
       "      <td>4610</td>\n",
       "      <td>486110</td>\n",
       "      <td>10102040</td>\n",
       "      <td>101020</td>\n",
       "      <td>1997.0</td>\n",
       "      <td>2016.0</td>\n",
       "    </tr>\n",
       "  </tbody>\n",
       "</table>\n",
       "</div>"
      ],
      "text/plain": [
       "    gvkey                          conm    tic      cusip         cik   sic  \\\n",
       "0  010156                    SUNOCO INC  SUN.1  86764P109  0000095304  2911   \n",
       "1  012892                     SUNOCO LP    SUN  86765K109  0001552275  5172   \n",
       "2  147208  SUNOCO LOGISTICS PARTNERS LP    SXL  86764L108        None  4610   \n",
       "\n",
       "    naics   gsubind    gind   year1   year2  \n",
       "0  324110  10102030  101020  1950.0  2011.0  \n",
       "1  424720  10102040  101020  2007.0  2018.0  \n",
       "2  486110  10102040  101020  1997.0  2016.0  "
      ]
     },
     "execution_count": 61,
     "metadata": {},
     "output_type": "execute_result"
    }
   ],
   "source": [
    "db.raw_sql(\"SELECT * FROM compa.names WHERE lower(conm) LIKE 'sunoco%%' LIMIT 10\")"
   ]
  },
  {
   "cell_type": "markdown",
   "metadata": {},
   "source": [
    "For sunoco, the third row is a good hit. The naics matches (crude oil pipelines), and the company history matches public information. "
   ]
  },
  {
   "cell_type": "code",
   "execution_count": 62,
   "metadata": {},
   "outputs": [
    {
     "data": {
      "text/html": [
       "<div>\n",
       "<style scoped>\n",
       "    .dataframe tbody tr th:only-of-type {\n",
       "        vertical-align: middle;\n",
       "    }\n",
       "\n",
       "    .dataframe tbody tr th {\n",
       "        vertical-align: top;\n",
       "    }\n",
       "\n",
       "    .dataframe thead th {\n",
       "        text-align: right;\n",
       "    }\n",
       "</style>\n",
       "<table border=\"1\" class=\"dataframe\">\n",
       "  <thead>\n",
       "    <tr style=\"text-align: right;\">\n",
       "      <th></th>\n",
       "      <th>gvkey</th>\n",
       "      <th>conm</th>\n",
       "      <th>tic</th>\n",
       "      <th>cusip</th>\n",
       "      <th>cik</th>\n",
       "      <th>sic</th>\n",
       "      <th>naics</th>\n",
       "      <th>gsubind</th>\n",
       "      <th>gind</th>\n",
       "      <th>year1</th>\n",
       "      <th>year2</th>\n",
       "    </tr>\n",
       "  </thead>\n",
       "  <tbody>\n",
       "    <tr>\n",
       "      <th>0</th>\n",
       "      <td>141720</td>\n",
       "      <td>ENERGY TRANSFER PARTNERS -LP</td>\n",
       "      <td>ETP</td>\n",
       "      <td>29278N103</td>\n",
       "      <td>0001161154</td>\n",
       "      <td>4922</td>\n",
       "      <td>486210</td>\n",
       "      <td>10102040</td>\n",
       "      <td>101020</td>\n",
       "      <td>1999.0</td>\n",
       "      <td>2017.0</td>\n",
       "    </tr>\n",
       "    <tr>\n",
       "      <th>1</th>\n",
       "      <td>165649</td>\n",
       "      <td>ENERGY TRANSFER LP</td>\n",
       "      <td>ET</td>\n",
       "      <td>29273V100</td>\n",
       "      <td>0001276187</td>\n",
       "      <td>4922</td>\n",
       "      <td>486210</td>\n",
       "      <td>10102040</td>\n",
       "      <td>101020</td>\n",
       "      <td>2004.0</td>\n",
       "      <td>2018.0</td>\n",
       "    </tr>\n",
       "    <tr>\n",
       "      <th>2</th>\n",
       "      <td>170976</td>\n",
       "      <td>ENERGY TRANSFER EQY-PROFORMA</td>\n",
       "      <td>ETE.P</td>\n",
       "      <td>29299L938</td>\n",
       "      <td>None</td>\n",
       "      <td>4922</td>\n",
       "      <td>221210</td>\n",
       "      <td>10102040</td>\n",
       "      <td>101020</td>\n",
       "      <td>2010.0</td>\n",
       "      <td>2010.0</td>\n",
       "    </tr>\n",
       "  </tbody>\n",
       "</table>\n",
       "</div>"
      ],
      "text/plain": [
       "    gvkey                          conm    tic      cusip         cik   sic  \\\n",
       "0  141720  ENERGY TRANSFER PARTNERS -LP    ETP  29278N103  0001161154  4922   \n",
       "1  165649            ENERGY TRANSFER LP     ET  29273V100  0001276187  4922   \n",
       "2  170976  ENERGY TRANSFER EQY-PROFORMA  ETE.P  29299L938        None  4922   \n",
       "\n",
       "    naics   gsubind    gind   year1   year2  \n",
       "0  486210  10102040  101020  1999.0  2017.0  \n",
       "1  486210  10102040  101020  2004.0  2018.0  \n",
       "2  221210  10102040  101020  2010.0  2010.0  "
      ]
     },
     "execution_count": 62,
     "metadata": {},
     "output_type": "execute_result"
    }
   ],
   "source": [
    "db.raw_sql(\"SELECT * FROM compa.names WHERE lower(conm) LIKE 'energy transfer%%' LIMIT 10\")"
   ]
  },
  {
   "cell_type": "markdown",
   "metadata": {},
   "source": [
    "For energy transfer company, the second row matches. The first row is the parent company that currently holds both of them (https://www.wsj.com/articles/sunoco-logistics-to-buy-energy-transfer-owners-of-dakota-access-pipeline-1479742796). Sunoco was acquired by the parent in 2012, and acuired that parent's pipeline subsidiary in 2017."
   ]
  },
  {
   "cell_type": "code",
   "execution_count": 63,
   "metadata": {},
   "outputs": [
    {
     "data": {
      "text/html": [
       "<div>\n",
       "<style scoped>\n",
       "    .dataframe tbody tr th:only-of-type {\n",
       "        vertical-align: middle;\n",
       "    }\n",
       "\n",
       "    .dataframe tbody tr th {\n",
       "        vertical-align: top;\n",
       "    }\n",
       "\n",
       "    .dataframe thead th {\n",
       "        text-align: right;\n",
       "    }\n",
       "</style>\n",
       "<table border=\"1\" class=\"dataframe\">\n",
       "  <thead>\n",
       "    <tr style=\"text-align: right;\">\n",
       "      <th></th>\n",
       "      <th>gvkey</th>\n",
       "      <th>conm</th>\n",
       "      <th>tic</th>\n",
       "      <th>cusip</th>\n",
       "      <th>cik</th>\n",
       "      <th>sic</th>\n",
       "      <th>naics</th>\n",
       "      <th>gsubind</th>\n",
       "      <th>gind</th>\n",
       "      <th>year1</th>\n",
       "      <th>year2</th>\n",
       "    </tr>\n",
       "  </thead>\n",
       "  <tbody>\n",
       "    <tr>\n",
       "      <th>0</th>\n",
       "      <td>008493</td>\n",
       "      <td>PERMIAN BASIN ROYALTY TRUST</td>\n",
       "      <td>PBT</td>\n",
       "      <td>714236106</td>\n",
       "      <td>0000319654</td>\n",
       "      <td>6792</td>\n",
       "      <td>533110</td>\n",
       "      <td>10102020</td>\n",
       "      <td>101020</td>\n",
       "      <td>1981.0</td>\n",
       "      <td>2018.0</td>\n",
       "    </tr>\n",
       "    <tr>\n",
       "      <th>1</th>\n",
       "      <td>013575</td>\n",
       "      <td>PERMIAN PARTNERS  -LP</td>\n",
       "      <td>5706B</td>\n",
       "      <td>714240207</td>\n",
       "      <td>0000812023</td>\n",
       "      <td>5172</td>\n",
       "      <td>422720</td>\n",
       "      <td>10102030</td>\n",
       "      <td>101020</td>\n",
       "      <td>1983.0</td>\n",
       "      <td>1989.0</td>\n",
       "    </tr>\n",
       "    <tr>\n",
       "      <th>2</th>\n",
       "      <td>019171</td>\n",
       "      <td>RSP PERMIAN INC</td>\n",
       "      <td>RSPP</td>\n",
       "      <td>74978Q105</td>\n",
       "      <td>0001588216</td>\n",
       "      <td>1311</td>\n",
       "      <td>211111</td>\n",
       "      <td>10102020</td>\n",
       "      <td>101020</td>\n",
       "      <td>2011.0</td>\n",
       "      <td>2017.0</td>\n",
       "    </tr>\n",
       "  </tbody>\n",
       "</table>\n",
       "</div>"
      ],
      "text/plain": [
       "    gvkey                         conm    tic      cusip         cik   sic  \\\n",
       "0  008493  PERMIAN BASIN ROYALTY TRUST    PBT  714236106  0000319654  6792   \n",
       "1  013575        PERMIAN PARTNERS  -LP  5706B  714240207  0000812023  5172   \n",
       "2  019171              RSP PERMIAN INC   RSPP  74978Q105  0001588216  1311   \n",
       "\n",
       "    naics   gsubind    gind   year1   year2  \n",
       "0  533110  10102020  101020  1981.0  2018.0  \n",
       "1  422720  10102030  101020  1983.0  1989.0  \n",
       "2  211111  10102020  101020  2011.0  2017.0  "
      ]
     },
     "execution_count": 63,
     "metadata": {},
     "output_type": "execute_result"
    }
   ],
   "source": [
    "db.raw_sql(\"SELECT * FROM compa.names WHERE lower(conm) LIKE '%%permian%%' LIMIT 10\")"
   ]
  },
  {
   "cell_type": "markdown",
   "metadata": {},
   "source": [
    "Based on the industry classification and years of existence, the first and third are all potential candidates."
   ]
  },
  {
   "cell_type": "code",
   "execution_count": 64,
   "metadata": {},
   "outputs": [
    {
     "data": {
      "text/html": [
       "<div>\n",
       "<style scoped>\n",
       "    .dataframe tbody tr th:only-of-type {\n",
       "        vertical-align: middle;\n",
       "    }\n",
       "\n",
       "    .dataframe tbody tr th {\n",
       "        vertical-align: top;\n",
       "    }\n",
       "\n",
       "    .dataframe thead th {\n",
       "        text-align: right;\n",
       "    }\n",
       "</style>\n",
       "<table border=\"1\" class=\"dataframe\">\n",
       "  <thead>\n",
       "    <tr style=\"text-align: right;\">\n",
       "      <th></th>\n",
       "      <th>gvkey</th>\n",
       "      <th>conm</th>\n",
       "      <th>tic</th>\n",
       "      <th>cusip</th>\n",
       "      <th>cik</th>\n",
       "      <th>sic</th>\n",
       "      <th>naics</th>\n",
       "      <th>gsubind</th>\n",
       "      <th>gind</th>\n",
       "      <th>year1</th>\n",
       "      <th>year2</th>\n",
       "    </tr>\n",
       "  </thead>\n",
       "  <tbody>\n",
       "  </tbody>\n",
       "</table>\n",
       "</div>"
      ],
      "text/plain": [
       "Empty DataFrame\n",
       "Columns: [gvkey, conm, tic, cusip, cik, sic, naics, gsubind, gind, year1, year2]\n",
       "Index: []"
      ]
     },
     "execution_count": 64,
     "metadata": {},
     "output_type": "execute_result"
    }
   ],
   "source": [
    "db.raw_sql(\"SELECT * FROM compa.names WHERE (lower(conm) LIKE '%%dapl%%' OR lower(conm) LIKE '%%dakota%%access%%') LIMIT 10\")"
   ]
  },
  {
   "cell_type": "code",
   "execution_count": 65,
   "metadata": {},
   "outputs": [
    {
     "data": {
      "text/html": [
       "<div>\n",
       "<style scoped>\n",
       "    .dataframe tbody tr th:only-of-type {\n",
       "        vertical-align: middle;\n",
       "    }\n",
       "\n",
       "    .dataframe tbody tr th {\n",
       "        vertical-align: top;\n",
       "    }\n",
       "\n",
       "    .dataframe thead th {\n",
       "        text-align: right;\n",
       "    }\n",
       "</style>\n",
       "<table border=\"1\" class=\"dataframe\">\n",
       "  <thead>\n",
       "    <tr style=\"text-align: right;\">\n",
       "      <th></th>\n",
       "      <th>gvkey</th>\n",
       "      <th>conm</th>\n",
       "      <th>tic</th>\n",
       "      <th>cusip</th>\n",
       "      <th>cik</th>\n",
       "      <th>sic</th>\n",
       "      <th>naics</th>\n",
       "      <th>gsubind</th>\n",
       "      <th>gind</th>\n",
       "      <th>year1</th>\n",
       "      <th>year2</th>\n",
       "    </tr>\n",
       "  </thead>\n",
       "  <tbody>\n",
       "  </tbody>\n",
       "</table>\n",
       "</div>"
      ],
      "text/plain": [
       "Empty DataFrame\n",
       "Columns: [gvkey, conm, tic, cusip, cik, sic, naics, gsubind, gind, year1, year2]\n",
       "Index: []"
      ]
     },
     "execution_count": 65,
     "metadata": {},
     "output_type": "execute_result"
    }
   ],
   "source": [
    "db.raw_sql(\"SELECT * FROM compa.names WHERE lower(conm) LIKE '%%mid%%-%%-valley%%' LIMIT 10\")"
   ]
  },
  {
   "cell_type": "markdown",
   "metadata": {},
   "source": [
    "Information on these should be found as subsidiaries."
   ]
  },
  {
   "cell_type": "markdown",
   "metadata": {},
   "source": [
    "### Company financials on wrds"
   ]
  },
  {
   "cell_type": "markdown",
   "metadata": {},
   "source": [
    "#### Sunoco"
   ]
  },
  {
   "cell_type": "code",
   "execution_count": 66,
   "metadata": {},
   "outputs": [
    {
     "data": {
      "text/html": [
       "<div>\n",
       "<style scoped>\n",
       "    .dataframe tbody tr th:only-of-type {\n",
       "        vertical-align: middle;\n",
       "    }\n",
       "\n",
       "    .dataframe tbody tr th {\n",
       "        vertical-align: top;\n",
       "    }\n",
       "\n",
       "    .dataframe thead th {\n",
       "        text-align: right;\n",
       "    }\n",
       "</style>\n",
       "<table border=\"1\" class=\"dataframe\">\n",
       "  <thead>\n",
       "    <tr style=\"text-align: right;\">\n",
       "      <th></th>\n",
       "      <th>gvkey</th>\n",
       "      <th>datadate</th>\n",
       "      <th>fyear</th>\n",
       "      <th>revenue</th>\n",
       "      <th>assets</th>\n",
       "    </tr>\n",
       "  </thead>\n",
       "  <tbody>\n",
       "    <tr>\n",
       "      <th>0</th>\n",
       "      <td>012892</td>\n",
       "      <td>2011-12-31</td>\n",
       "      <td>2011.0</td>\n",
       "      <td>3820.378</td>\n",
       "      <td>147.412</td>\n",
       "    </tr>\n",
       "    <tr>\n",
       "      <th>1</th>\n",
       "      <td>012892</td>\n",
       "      <td>2012-12-31</td>\n",
       "      <td>2012.0</td>\n",
       "      <td>4277.341</td>\n",
       "      <td>103.105</td>\n",
       "    </tr>\n",
       "    <tr>\n",
       "      <th>2</th>\n",
       "      <td>012892</td>\n",
       "      <td>2013-12-31</td>\n",
       "      <td>2013.0</td>\n",
       "      <td>4492.579</td>\n",
       "      <td>138.222</td>\n",
       "    </tr>\n",
       "    <tr>\n",
       "      <th>3</th>\n",
       "      <td>012892</td>\n",
       "      <td>2014-12-31</td>\n",
       "      <td>2014.0</td>\n",
       "      <td>5382.016</td>\n",
       "      <td>225.141</td>\n",
       "    </tr>\n",
       "    <tr>\n",
       "      <th>4</th>\n",
       "      <td>012892</td>\n",
       "      <td>2015-12-31</td>\n",
       "      <td>2015.0</td>\n",
       "      <td>16935.347</td>\n",
       "      <td>1014.151</td>\n",
       "    </tr>\n",
       "    <tr>\n",
       "      <th>5</th>\n",
       "      <td>012892</td>\n",
       "      <td>2016-12-31</td>\n",
       "      <td>2016.0</td>\n",
       "      <td>15698.000</td>\n",
       "      <td>1389.000</td>\n",
       "    </tr>\n",
       "    <tr>\n",
       "      <th>6</th>\n",
       "      <td>012892</td>\n",
       "      <td>2017-12-31</td>\n",
       "      <td>2017.0</td>\n",
       "      <td>11723.000</td>\n",
       "      <td>4544.000</td>\n",
       "    </tr>\n",
       "    <tr>\n",
       "      <th>7</th>\n",
       "      <td>012892</td>\n",
       "      <td>2018-12-31</td>\n",
       "      <td>2018.0</td>\n",
       "      <td>16994.000</td>\n",
       "      <td>905.000</td>\n",
       "    </tr>\n",
       "    <tr>\n",
       "      <th>8</th>\n",
       "      <td>147208</td>\n",
       "      <td>2011-12-31</td>\n",
       "      <td>2011.0</td>\n",
       "      <td>10905.000</td>\n",
       "      <td>2506.000</td>\n",
       "    </tr>\n",
       "    <tr>\n",
       "      <th>9</th>\n",
       "      <td>147208</td>\n",
       "      <td>2012-12-31</td>\n",
       "      <td>2012.0</td>\n",
       "      <td>13110.000</td>\n",
       "      <td>2390.000</td>\n",
       "    </tr>\n",
       "    <tr>\n",
       "      <th>10</th>\n",
       "      <td>147208</td>\n",
       "      <td>2013-12-31</td>\n",
       "      <td>2013.0</td>\n",
       "      <td>16639.000</td>\n",
       "      <td>3073.000</td>\n",
       "    </tr>\n",
       "    <tr>\n",
       "      <th>11</th>\n",
       "      <td>147208</td>\n",
       "      <td>2014-12-31</td>\n",
       "      <td>2014.0</td>\n",
       "      <td>18088.000</td>\n",
       "      <td>2349.000</td>\n",
       "    </tr>\n",
       "    <tr>\n",
       "      <th>12</th>\n",
       "      <td>147208</td>\n",
       "      <td>2015-12-31</td>\n",
       "      <td>2015.0</td>\n",
       "      <td>10486.000</td>\n",
       "      <td>1848.000</td>\n",
       "    </tr>\n",
       "    <tr>\n",
       "      <th>13</th>\n",
       "      <td>147208</td>\n",
       "      <td>2016-12-31</td>\n",
       "      <td>2016.0</td>\n",
       "      <td>9151.000</td>\n",
       "      <td>2906.000</td>\n",
       "    </tr>\n",
       "  </tbody>\n",
       "</table>\n",
       "</div>"
      ],
      "text/plain": [
       "     gvkey    datadate   fyear    revenue    assets\n",
       "0   012892  2011-12-31  2011.0   3820.378   147.412\n",
       "1   012892  2012-12-31  2012.0   4277.341   103.105\n",
       "2   012892  2013-12-31  2013.0   4492.579   138.222\n",
       "3   012892  2014-12-31  2014.0   5382.016   225.141\n",
       "4   012892  2015-12-31  2015.0  16935.347  1014.151\n",
       "5   012892  2016-12-31  2016.0  15698.000  1389.000\n",
       "6   012892  2017-12-31  2017.0  11723.000  4544.000\n",
       "7   012892  2018-12-31  2018.0  16994.000   905.000\n",
       "8   147208  2011-12-31  2011.0  10905.000  2506.000\n",
       "9   147208  2012-12-31  2012.0  13110.000  2390.000\n",
       "10  147208  2013-12-31  2013.0  16639.000  3073.000\n",
       "11  147208  2014-12-31  2014.0  18088.000  2349.000\n",
       "12  147208  2015-12-31  2015.0  10486.000  1848.000\n",
       "13  147208  2016-12-31  2016.0   9151.000  2906.000"
      ]
     },
     "execution_count": 66,
     "metadata": {},
     "output_type": "execute_result"
    }
   ],
   "source": [
    "db.raw_sql(\"\"\"SELECT gvkey, datadate, fyear, revt AS revenue, act AS assets  \n",
    "              FROM compa.funda WHERE gvkey IN ('012892', '147208')\n",
    "              AND fyear between '2011' AND '2018'\n",
    "              AND (act is not null OR revt is not null)\"\"\")"
   ]
  },
  {
   "cell_type": "markdown",
   "metadata": {},
   "source": [
    "#### Energy Transfer"
   ]
  },
  {
   "cell_type": "code",
   "execution_count": 67,
   "metadata": {},
   "outputs": [
    {
     "data": {
      "text/html": [
       "<div>\n",
       "<style scoped>\n",
       "    .dataframe tbody tr th:only-of-type {\n",
       "        vertical-align: middle;\n",
       "    }\n",
       "\n",
       "    .dataframe tbody tr th {\n",
       "        vertical-align: top;\n",
       "    }\n",
       "\n",
       "    .dataframe thead th {\n",
       "        text-align: right;\n",
       "    }\n",
       "</style>\n",
       "<table border=\"1\" class=\"dataframe\">\n",
       "  <thead>\n",
       "    <tr style=\"text-align: right;\">\n",
       "      <th></th>\n",
       "      <th>gvkey</th>\n",
       "      <th>datadate</th>\n",
       "      <th>fyear</th>\n",
       "      <th>revenue</th>\n",
       "      <th>assets</th>\n",
       "    </tr>\n",
       "  </thead>\n",
       "  <tbody>\n",
       "    <tr>\n",
       "      <th>0</th>\n",
       "      <td>165649</td>\n",
       "      <td>2011-12-31</td>\n",
       "      <td>2011.0</td>\n",
       "      <td>8240.703</td>\n",
       "      <td>1455.444</td>\n",
       "    </tr>\n",
       "    <tr>\n",
       "      <th>1</th>\n",
       "      <td>165649</td>\n",
       "      <td>2012-12-31</td>\n",
       "      <td>2012.0</td>\n",
       "      <td>16391.000</td>\n",
       "      <td>5597.000</td>\n",
       "    </tr>\n",
       "    <tr>\n",
       "      <th>2</th>\n",
       "      <td>165649</td>\n",
       "      <td>2013-12-31</td>\n",
       "      <td>2013.0</td>\n",
       "      <td>46115.000</td>\n",
       "      <td>6536.000</td>\n",
       "    </tr>\n",
       "    <tr>\n",
       "      <th>3</th>\n",
       "      <td>165649</td>\n",
       "      <td>2014-12-31</td>\n",
       "      <td>2014.0</td>\n",
       "      <td>53231.000</td>\n",
       "      <td>6153.000</td>\n",
       "    </tr>\n",
       "    <tr>\n",
       "      <th>4</th>\n",
       "      <td>165649</td>\n",
       "      <td>2015-12-31</td>\n",
       "      <td>2015.0</td>\n",
       "      <td>39076.000</td>\n",
       "      <td>5410.000</td>\n",
       "    </tr>\n",
       "    <tr>\n",
       "      <th>5</th>\n",
       "      <td>165649</td>\n",
       "      <td>2016-12-31</td>\n",
       "      <td>2016.0</td>\n",
       "      <td>34024.000</td>\n",
       "      <td>6985.000</td>\n",
       "    </tr>\n",
       "    <tr>\n",
       "      <th>6</th>\n",
       "      <td>165649</td>\n",
       "      <td>2017-12-31</td>\n",
       "      <td>2017.0</td>\n",
       "      <td>40289.000</td>\n",
       "      <td>10683.000</td>\n",
       "    </tr>\n",
       "    <tr>\n",
       "      <th>7</th>\n",
       "      <td>165649</td>\n",
       "      <td>2018-12-31</td>\n",
       "      <td>2018.0</td>\n",
       "      <td>53717.000</td>\n",
       "      <td>6750.000</td>\n",
       "    </tr>\n",
       "  </tbody>\n",
       "</table>\n",
       "</div>"
      ],
      "text/plain": [
       "    gvkey    datadate   fyear    revenue     assets\n",
       "0  165649  2011-12-31  2011.0   8240.703   1455.444\n",
       "1  165649  2012-12-31  2012.0  16391.000   5597.000\n",
       "2  165649  2013-12-31  2013.0  46115.000   6536.000\n",
       "3  165649  2014-12-31  2014.0  53231.000   6153.000\n",
       "4  165649  2015-12-31  2015.0  39076.000   5410.000\n",
       "5  165649  2016-12-31  2016.0  34024.000   6985.000\n",
       "6  165649  2017-12-31  2017.0  40289.000  10683.000\n",
       "7  165649  2018-12-31  2018.0  53717.000   6750.000"
      ]
     },
     "execution_count": 67,
     "metadata": {},
     "output_type": "execute_result"
    }
   ],
   "source": [
    "db.raw_sql(\"\"\"SELECT gvkey, datadate, fyear, revt AS revenue, act AS assets  \n",
    "              FROM compa.funda WHERE gvkey='165649'\n",
    "              AND fyear between '2011' AND '2018'\n",
    "              AND (act is not null OR revt is not null)\"\"\")"
   ]
  },
  {
   "cell_type": "code",
   "execution_count": 68,
   "metadata": {},
   "outputs": [
    {
     "data": {
      "text/html": [
       "<div>\n",
       "<style scoped>\n",
       "    .dataframe tbody tr th:only-of-type {\n",
       "        vertical-align: middle;\n",
       "    }\n",
       "\n",
       "    .dataframe tbody tr th {\n",
       "        vertical-align: top;\n",
       "    }\n",
       "\n",
       "    .dataframe thead th {\n",
       "        text-align: right;\n",
       "    }\n",
       "</style>\n",
       "<table border=\"1\" class=\"dataframe\">\n",
       "  <thead>\n",
       "    <tr style=\"text-align: right;\">\n",
       "      <th></th>\n",
       "      <th>gvkey</th>\n",
       "      <th>datadate</th>\n",
       "      <th>fyear</th>\n",
       "      <th>revenue</th>\n",
       "      <th>assets</th>\n",
       "    </tr>\n",
       "  </thead>\n",
       "  <tbody>\n",
       "    <tr>\n",
       "      <th>0</th>\n",
       "      <td>141720</td>\n",
       "      <td>2011-12-31</td>\n",
       "      <td>2011.0</td>\n",
       "      <td>6850.440</td>\n",
       "      <td>1275.494</td>\n",
       "    </tr>\n",
       "    <tr>\n",
       "      <th>1</th>\n",
       "      <td>141720</td>\n",
       "      <td>2012-12-31</td>\n",
       "      <td>2012.0</td>\n",
       "      <td>15129.000</td>\n",
       "      <td>5404.000</td>\n",
       "    </tr>\n",
       "    <tr>\n",
       "      <th>2</th>\n",
       "      <td>141720</td>\n",
       "      <td>2013-12-31</td>\n",
       "      <td>2013.0</td>\n",
       "      <td>44119.000</td>\n",
       "      <td>6239.000</td>\n",
       "    </tr>\n",
       "    <tr>\n",
       "      <th>3</th>\n",
       "      <td>141720</td>\n",
       "      <td>2014-12-31</td>\n",
       "      <td>2014.0</td>\n",
       "      <td>48698.000</td>\n",
       "      <td>5439.000</td>\n",
       "    </tr>\n",
       "    <tr>\n",
       "      <th>4</th>\n",
       "      <td>141720</td>\n",
       "      <td>2015-12-31</td>\n",
       "      <td>2015.0</td>\n",
       "      <td>32442.000</td>\n",
       "      <td>4698.000</td>\n",
       "    </tr>\n",
       "    <tr>\n",
       "      <th>5</th>\n",
       "      <td>141720</td>\n",
       "      <td>2016-12-31</td>\n",
       "      <td>2016.0</td>\n",
       "      <td>21827.000</td>\n",
       "      <td>5729.000</td>\n",
       "    </tr>\n",
       "    <tr>\n",
       "      <th>6</th>\n",
       "      <td>141720</td>\n",
       "      <td>2017-12-31</td>\n",
       "      <td>2017.0</td>\n",
       "      <td>29054.000</td>\n",
       "      <td>6528.000</td>\n",
       "    </tr>\n",
       "    <tr>\n",
       "      <th>7</th>\n",
       "      <td>165649</td>\n",
       "      <td>2011-12-31</td>\n",
       "      <td>2011.0</td>\n",
       "      <td>8240.703</td>\n",
       "      <td>1455.444</td>\n",
       "    </tr>\n",
       "    <tr>\n",
       "      <th>8</th>\n",
       "      <td>165649</td>\n",
       "      <td>2012-12-31</td>\n",
       "      <td>2012.0</td>\n",
       "      <td>16391.000</td>\n",
       "      <td>5597.000</td>\n",
       "    </tr>\n",
       "    <tr>\n",
       "      <th>9</th>\n",
       "      <td>165649</td>\n",
       "      <td>2013-12-31</td>\n",
       "      <td>2013.0</td>\n",
       "      <td>46115.000</td>\n",
       "      <td>6536.000</td>\n",
       "    </tr>\n",
       "    <tr>\n",
       "      <th>10</th>\n",
       "      <td>165649</td>\n",
       "      <td>2014-12-31</td>\n",
       "      <td>2014.0</td>\n",
       "      <td>53231.000</td>\n",
       "      <td>6153.000</td>\n",
       "    </tr>\n",
       "    <tr>\n",
       "      <th>11</th>\n",
       "      <td>165649</td>\n",
       "      <td>2015-12-31</td>\n",
       "      <td>2015.0</td>\n",
       "      <td>39076.000</td>\n",
       "      <td>5410.000</td>\n",
       "    </tr>\n",
       "    <tr>\n",
       "      <th>12</th>\n",
       "      <td>165649</td>\n",
       "      <td>2016-12-31</td>\n",
       "      <td>2016.0</td>\n",
       "      <td>34024.000</td>\n",
       "      <td>6985.000</td>\n",
       "    </tr>\n",
       "    <tr>\n",
       "      <th>13</th>\n",
       "      <td>165649</td>\n",
       "      <td>2017-12-31</td>\n",
       "      <td>2017.0</td>\n",
       "      <td>40289.000</td>\n",
       "      <td>10683.000</td>\n",
       "    </tr>\n",
       "    <tr>\n",
       "      <th>14</th>\n",
       "      <td>165649</td>\n",
       "      <td>2018-12-31</td>\n",
       "      <td>2018.0</td>\n",
       "      <td>53717.000</td>\n",
       "      <td>6750.000</td>\n",
       "    </tr>\n",
       "  </tbody>\n",
       "</table>\n",
       "</div>"
      ],
      "text/plain": [
       "     gvkey    datadate   fyear    revenue     assets\n",
       "0   141720  2011-12-31  2011.0   6850.440   1275.494\n",
       "1   141720  2012-12-31  2012.0  15129.000   5404.000\n",
       "2   141720  2013-12-31  2013.0  44119.000   6239.000\n",
       "3   141720  2014-12-31  2014.0  48698.000   5439.000\n",
       "4   141720  2015-12-31  2015.0  32442.000   4698.000\n",
       "5   141720  2016-12-31  2016.0  21827.000   5729.000\n",
       "6   141720  2017-12-31  2017.0  29054.000   6528.000\n",
       "7   165649  2011-12-31  2011.0   8240.703   1455.444\n",
       "8   165649  2012-12-31  2012.0  16391.000   5597.000\n",
       "9   165649  2013-12-31  2013.0  46115.000   6536.000\n",
       "10  165649  2014-12-31  2014.0  53231.000   6153.000\n",
       "11  165649  2015-12-31  2015.0  39076.000   5410.000\n",
       "12  165649  2016-12-31  2016.0  34024.000   6985.000\n",
       "13  165649  2017-12-31  2017.0  40289.000  10683.000\n",
       "14  165649  2018-12-31  2018.0  53717.000   6750.000"
      ]
     },
     "execution_count": 68,
     "metadata": {},
     "output_type": "execute_result"
    }
   ],
   "source": [
    "db.raw_sql(\"\"\"SELECT gvkey, datadate, fyear, revt AS revenue, act AS assets  \n",
    "              FROM compa.funda WHERE gvkey in ('141720', '165649', '170976')\n",
    "              AND fyear between '2011' AND '2018'\n",
    "              AND (act is not null OR revt is not null)\"\"\")"
   ]
  },
  {
   "cell_type": "markdown",
   "metadata": {},
   "source": [
    "The numbers match up. The act column describes total asset value, we see that the assets added to ENERGY TRANSFER LP (gvkey 165649) in 2017 roughly equal those of the asset value from 2016 combined with the assets from SUNOCO."
   ]
  },
  {
   "cell_type": "markdown",
   "metadata": {},
   "source": [
    "We can retain both organizations until 2016 in our dataset and be fairly certain that we will be able to find financial data from capital iq on the organization also."
   ]
  },
  {
   "cell_type": "markdown",
   "metadata": {},
   "source": [
    "### Decision"
   ]
  },
  {
   "cell_type": "markdown",
   "metadata": {},
   "source": [
    "We list Sunoco (OPERATOR_ID 18718), Mid-Valley Pipeline (OPERATOR_ID 12470), and Permian (OPERATOR_ID 39596) together as one company until 2017. Similarly, we list Energy Transfer (OPERATOR_ID 32099) and DAPL (OPERATOR_ID 39205) together until 2017. From 2017, we merge the two under the name of Sunoco."
   ]
  },
  {
   "cell_type": "code",
   "execution_count": 69,
   "metadata": {},
   "outputs": [
    {
     "data": {
      "text/html": [
       "<div>\n",
       "<style scoped>\n",
       "    .dataframe tbody tr th:only-of-type {\n",
       "        vertical-align: middle;\n",
       "    }\n",
       "\n",
       "    .dataframe tbody tr th {\n",
       "        vertical-align: top;\n",
       "    }\n",
       "\n",
       "    .dataframe thead th {\n",
       "        text-align: right;\n",
       "    }\n",
       "</style>\n",
       "<table border=\"1\" class=\"dataframe\">\n",
       "  <thead>\n",
       "    <tr style=\"text-align: right;\">\n",
       "      <th></th>\n",
       "      <th>members</th>\n",
       "      <th>name</th>\n",
       "    </tr>\n",
       "  </thead>\n",
       "  <tbody>\n",
       "    <tr>\n",
       "      <th>9</th>\n",
       "      <td>18718</td>\n",
       "      <td>Sunoco (Group)</td>\n",
       "    </tr>\n",
       "    <tr>\n",
       "      <th>10</th>\n",
       "      <td>12470</td>\n",
       "      <td>Sunoco (Group)</td>\n",
       "    </tr>\n",
       "    <tr>\n",
       "      <th>11</th>\n",
       "      <td>39596</td>\n",
       "      <td>Sunoco (Group)</td>\n",
       "    </tr>\n",
       "    <tr>\n",
       "      <th>12</th>\n",
       "      <td>32099</td>\n",
       "      <td>Energy Transfer (Group)</td>\n",
       "    </tr>\n",
       "    <tr>\n",
       "      <th>13</th>\n",
       "      <td>39205</td>\n",
       "      <td>Energy Transfer (Group)</td>\n",
       "    </tr>\n",
       "  </tbody>\n",
       "</table>\n",
       "</div>"
      ],
      "text/plain": [
       "   members                     name\n",
       "9    18718           Sunoco (Group)\n",
       "10   12470           Sunoco (Group)\n",
       "11   39596           Sunoco (Group)\n",
       "12   32099  Energy Transfer (Group)\n",
       "13   39205  Energy Transfer (Group)"
      ]
     },
     "execution_count": 69,
     "metadata": {},
     "output_type": "execute_result"
    }
   ],
   "source": [
    "# Sunoco\n",
    "company_groups = add_company_group('Sunoco (Group)', ['18718', '12470', '39596'], company_groups)\n",
    "\n",
    "# Tesoro\n",
    "company_groups = add_company_group('Energy Transfer (Group)', ['32099', '39205'], company_groups)\n",
    "company_groups.tail()"
   ]
  },
  {
   "cell_type": "code",
   "execution_count": 70,
   "metadata": {},
   "outputs": [
    {
     "data": {
      "text/html": [
       "<div>\n",
       "<style scoped>\n",
       "    .dataframe tbody tr th:only-of-type {\n",
       "        vertical-align: middle;\n",
       "    }\n",
       "\n",
       "    .dataframe tbody tr th {\n",
       "        vertical-align: top;\n",
       "    }\n",
       "\n",
       "    .dataframe thead th {\n",
       "        text-align: right;\n",
       "    }\n",
       "</style>\n",
       "<table border=\"1\" class=\"dataframe\">\n",
       "  <thead>\n",
       "    <tr style=\"text-align: right;\">\n",
       "      <th></th>\n",
       "      <th>members</th>\n",
       "      <th>name</th>\n",
       "      <th>start_year</th>\n",
       "    </tr>\n",
       "  </thead>\n",
       "  <tbody>\n",
       "    <tr>\n",
       "      <th>0</th>\n",
       "      <td>Marathon (Group)</td>\n",
       "      <td>Marathon (Group)</td>\n",
       "      <td>2018</td>\n",
       "    </tr>\n",
       "    <tr>\n",
       "      <th>1</th>\n",
       "      <td>Tesoro (Group)</td>\n",
       "      <td>Marathon (Group)</td>\n",
       "      <td>2018</td>\n",
       "    </tr>\n",
       "    <tr>\n",
       "      <th>2</th>\n",
       "      <td>Sunoco (Group)</td>\n",
       "      <td>Sunoco (Group)</td>\n",
       "      <td>2017</td>\n",
       "    </tr>\n",
       "    <tr>\n",
       "      <th>3</th>\n",
       "      <td>Energy Transfer (Group)</td>\n",
       "      <td>Sunoco (Group)</td>\n",
       "      <td>2017</td>\n",
       "    </tr>\n",
       "  </tbody>\n",
       "</table>\n",
       "</div>"
      ],
      "text/plain": [
       "                   members              name start_year\n",
       "0         Marathon (Group)  Marathon (Group)       2018\n",
       "1           Tesoro (Group)  Marathon (Group)       2018\n",
       "2           Sunoco (Group)    Sunoco (Group)       2017\n",
       "3  Energy Transfer (Group)    Sunoco (Group)       2017"
      ]
     },
     "execution_count": 70,
     "metadata": {},
     "output_type": "execute_result"
    }
   ],
   "source": [
    "m_as = add_m_a('Sunoco (Group)', ['Sunoco (Group)', 'Energy Transfer (Group)'], m_as, start_year = '2017')\n",
    "m_as"
   ]
  },
  {
   "cell_type": "markdown",
   "metadata": {},
   "source": [
    "### 8.2.7 ExxonMobil"
   ]
  },
  {
   "cell_type": "code",
   "execution_count": 71,
   "metadata": {},
   "outputs": [
    {
     "name": "stdout",
     "output_type": "stream",
     "text": [
      "\n",
      "EXXONMOBIL PIPELINE CO (OPERATOR_ID 4906) has the same parent company as:\n",
      "\n",
      "\tEXXONMOBIL PIPELINE CO (OPERATOR_ID 12628)\n",
      "\n"
     ]
    }
   ],
   "source": [
    "print(next(issues))"
   ]
  },
  {
   "cell_type": "code",
   "execution_count": 72,
   "metadata": {},
   "outputs": [
    {
     "data": {
      "text/plain": [
       "[{'name': 'EXXONMOBIL PIPELINE CO', 'start_year': 2010, 'end_year': 2018}]"
      ]
     },
     "execution_count": 72,
     "metadata": {},
     "output_type": "execute_result"
    }
   ],
   "source": [
    "find_names('4906')"
   ]
  },
  {
   "cell_type": "code",
   "execution_count": 73,
   "metadata": {},
   "outputs": [
    {
     "data": {
      "text/plain": [
       "[{'name': 'EXXONMOBIL PIPELINE CO', 'start_year': 2010, 'end_year': 2018},\n",
       " {'name': 'MOBIL  PIPE  LINE COMPANY', 'start_year': 2012, 'end_year': 2018},\n",
       " {'name': 'MOBIL PIPELINE CO', 'start_year': 2010, 'end_year': 2010}]"
      ]
     },
     "execution_count": 73,
     "metadata": {},
     "output_type": "execute_result"
    }
   ],
   "source": [
    "find_names('12628')"
   ]
  },
  {
   "cell_type": "markdown",
   "metadata": {},
   "source": [
    "Company name inconsistent between different documents."
   ]
  },
  {
   "cell_type": "code",
   "execution_count": 74,
   "metadata": {},
   "outputs": [
    {
     "data": {
      "text/html": [
       "<div>\n",
       "<style scoped>\n",
       "    .dataframe tbody tr th:only-of-type {\n",
       "        vertical-align: middle;\n",
       "    }\n",
       "\n",
       "    .dataframe tbody tr th {\n",
       "        vertical-align: top;\n",
       "    }\n",
       "\n",
       "    .dataframe thead th {\n",
       "        text-align: right;\n",
       "    }\n",
       "</style>\n",
       "<table border=\"1\" class=\"dataframe\">\n",
       "  <thead>\n",
       "    <tr style=\"text-align: right;\">\n",
       "      <th></th>\n",
       "      <th>gvkey</th>\n",
       "      <th>conm</th>\n",
       "      <th>tic</th>\n",
       "      <th>cusip</th>\n",
       "      <th>cik</th>\n",
       "      <th>sic</th>\n",
       "      <th>naics</th>\n",
       "      <th>gsubind</th>\n",
       "      <th>gind</th>\n",
       "      <th>year1</th>\n",
       "      <th>year2</th>\n",
       "    </tr>\n",
       "  </thead>\n",
       "  <tbody>\n",
       "  </tbody>\n",
       "</table>\n",
       "</div>"
      ],
      "text/plain": [
       "Empty DataFrame\n",
       "Columns: [gvkey, conm, tic, cusip, cik, sic, naics, gsubind, gind, year1, year2]\n",
       "Index: []"
      ]
     },
     "execution_count": 74,
     "metadata": {},
     "output_type": "execute_result"
    }
   ],
   "source": [
    "db.raw_sql(\"SELECT * FROM compa.names WHERE lower(conm) LIKE '%%mobil pipe%%' LIMIT 10\")"
   ]
  },
  {
   "cell_type": "markdown",
   "metadata": {},
   "source": [
    "All are wholly owned subsidiaries of exxonmobil. We combine them into one observation."
   ]
  },
  {
   "cell_type": "code",
   "execution_count": 75,
   "metadata": {},
   "outputs": [
    {
     "data": {
      "text/html": [
       "<div>\n",
       "<style scoped>\n",
       "    .dataframe tbody tr th:only-of-type {\n",
       "        vertical-align: middle;\n",
       "    }\n",
       "\n",
       "    .dataframe tbody tr th {\n",
       "        vertical-align: top;\n",
       "    }\n",
       "\n",
       "    .dataframe thead th {\n",
       "        text-align: right;\n",
       "    }\n",
       "</style>\n",
       "<table border=\"1\" class=\"dataframe\">\n",
       "  <thead>\n",
       "    <tr style=\"text-align: right;\">\n",
       "      <th></th>\n",
       "      <th>members</th>\n",
       "      <th>name</th>\n",
       "    </tr>\n",
       "  </thead>\n",
       "  <tbody>\n",
       "    <tr>\n",
       "      <th>11</th>\n",
       "      <td>39596</td>\n",
       "      <td>Sunoco (Group)</td>\n",
       "    </tr>\n",
       "    <tr>\n",
       "      <th>12</th>\n",
       "      <td>32099</td>\n",
       "      <td>Energy Transfer (Group)</td>\n",
       "    </tr>\n",
       "    <tr>\n",
       "      <th>13</th>\n",
       "      <td>39205</td>\n",
       "      <td>Energy Transfer (Group)</td>\n",
       "    </tr>\n",
       "    <tr>\n",
       "      <th>14</th>\n",
       "      <td>4906</td>\n",
       "      <td>ExxonMobil (Group)</td>\n",
       "    </tr>\n",
       "    <tr>\n",
       "      <th>15</th>\n",
       "      <td>12628</td>\n",
       "      <td>ExxonMobil (Group)</td>\n",
       "    </tr>\n",
       "  </tbody>\n",
       "</table>\n",
       "</div>"
      ],
      "text/plain": [
       "   members                     name\n",
       "11   39596           Sunoco (Group)\n",
       "12   32099  Energy Transfer (Group)\n",
       "13   39205  Energy Transfer (Group)\n",
       "14    4906       ExxonMobil (Group)\n",
       "15   12628       ExxonMobil (Group)"
      ]
     },
     "execution_count": 75,
     "metadata": {},
     "output_type": "execute_result"
    }
   ],
   "source": [
    "company_groups = add_company_group('ExxonMobil (Group)', ['4906', '12628'], company_groups)\n",
    "company_groups.tail()"
   ]
  },
  {
   "cell_type": "markdown",
   "metadata": {},
   "source": [
    "### 8.2.8 Flint Hills"
   ]
  },
  {
   "cell_type": "code",
   "execution_count": 76,
   "metadata": {},
   "outputs": [
    {
     "name": "stdout",
     "output_type": "stream",
     "text": [
      "\n",
      "FLINT HILLS RESOURCES, LC (OPERATOR_ID 22855) has changed its name:\n",
      "\n",
      "\tWas named FLINT HILLS RESOURCES, LC from 2017 to 2018.\n",
      "\n",
      "\tWas named KOCH PIPELINE COMPANY, L.P. from 2010 to 2016.\n",
      "\n"
     ]
    }
   ],
   "source": [
    "print(next(issues))"
   ]
  },
  {
   "cell_type": "code",
   "execution_count": 77,
   "metadata": {},
   "outputs": [
    {
     "data": {
      "text/plain": [
       "[[2015, 1885.19], [2016, 1674.88], [2017, 1711.48], [2018, 1750.7199999999998]]"
      ]
     },
     "execution_count": 77,
     "metadata": {},
     "output_type": "execute_result"
    }
   ],
   "source": [
    "find_total_miles('22855', range(2015, 2019))"
   ]
  },
  {
   "cell_type": "markdown",
   "metadata": {},
   "source": [
    "The restructuring or sell-off does not seem to affect the organizations pipeline assets. We will ignore the rebranding efforts."
   ]
  },
  {
   "cell_type": "markdown",
   "metadata": {},
   "source": [
    "### 8.2.9 Nustar"
   ]
  },
  {
   "cell_type": "code",
   "execution_count": 78,
   "metadata": {},
   "outputs": [
    {
     "name": "stdout",
     "output_type": "stream",
     "text": [
      "\n",
      "NUSTAR PIPELINE OPERATING PARTNERSHIP L.P. (OPERATOR_ID 10012) has the same parent company as:\n",
      "\n",
      "\tNUSTAR LOGISTICS, L.P. (OPERATOR_ID 31454)\n",
      "\n"
     ]
    }
   ],
   "source": [
    "print(next(issues))"
   ]
  },
  {
   "cell_type": "code",
   "execution_count": 79,
   "metadata": {},
   "outputs": [
    {
     "data": {
      "text/plain": [
       "[{'name': 'NUSTAR PIPELINE OPERATING PARTNERSHIP L.P.',\n",
       "  'start_year': 2010,\n",
       "  'end_year': 2018}]"
      ]
     },
     "execution_count": 79,
     "metadata": {},
     "output_type": "execute_result"
    }
   ],
   "source": [
    "find_names('10012')"
   ]
  },
  {
   "cell_type": "code",
   "execution_count": 80,
   "metadata": {},
   "outputs": [
    {
     "data": {
      "text/plain": [
       "[{'name': 'NUSTAR LOGISTICS, L.P.', 'start_year': 2010, 'end_year': 2018}]"
      ]
     },
     "execution_count": 80,
     "metadata": {},
     "output_type": "execute_result"
    }
   ],
   "source": [
    "find_names('31454')"
   ]
  },
  {
   "cell_type": "code",
   "execution_count": 81,
   "metadata": {},
   "outputs": [
    {
     "data": {
      "text/html": [
       "<div>\n",
       "<style scoped>\n",
       "    .dataframe tbody tr th:only-of-type {\n",
       "        vertical-align: middle;\n",
       "    }\n",
       "\n",
       "    .dataframe tbody tr th {\n",
       "        vertical-align: top;\n",
       "    }\n",
       "\n",
       "    .dataframe thead th {\n",
       "        text-align: right;\n",
       "    }\n",
       "</style>\n",
       "<table border=\"1\" class=\"dataframe\">\n",
       "  <thead>\n",
       "    <tr style=\"text-align: right;\">\n",
       "      <th></th>\n",
       "      <th>gvkey</th>\n",
       "      <th>conm</th>\n",
       "      <th>tic</th>\n",
       "      <th>cusip</th>\n",
       "      <th>cik</th>\n",
       "      <th>sic</th>\n",
       "      <th>naics</th>\n",
       "      <th>gsubind</th>\n",
       "      <th>gind</th>\n",
       "      <th>year1</th>\n",
       "      <th>year2</th>\n",
       "    </tr>\n",
       "  </thead>\n",
       "  <tbody>\n",
       "    <tr>\n",
       "      <th>0</th>\n",
       "      <td>107044</td>\n",
       "      <td>INTREPID NUSTAR EXCHANGE CP</td>\n",
       "      <td>IXN.</td>\n",
       "      <td>461193104</td>\n",
       "      <td>None</td>\n",
       "      <td>1000</td>\n",
       "      <td>212</td>\n",
       "      <td>15104040</td>\n",
       "      <td>151040</td>\n",
       "      <td>2001.0</td>\n",
       "      <td>2005.0</td>\n",
       "    </tr>\n",
       "    <tr>\n",
       "      <th>1</th>\n",
       "      <td>141363</td>\n",
       "      <td>NUSTAR ENERGY LP</td>\n",
       "      <td>NS</td>\n",
       "      <td>67058H102</td>\n",
       "      <td>0001110805</td>\n",
       "      <td>2911</td>\n",
       "      <td>324110</td>\n",
       "      <td>10102030</td>\n",
       "      <td>101020</td>\n",
       "      <td>1997.0</td>\n",
       "      <td>2018.0</td>\n",
       "    </tr>\n",
       "    <tr>\n",
       "      <th>2</th>\n",
       "      <td>174135</td>\n",
       "      <td>NUSTAR GP HOLDINGS LLC</td>\n",
       "      <td>NSH</td>\n",
       "      <td>67059L102</td>\n",
       "      <td>0001223786</td>\n",
       "      <td>5171</td>\n",
       "      <td>424710</td>\n",
       "      <td>10102040</td>\n",
       "      <td>101020</td>\n",
       "      <td>2001.0</td>\n",
       "      <td>2017.0</td>\n",
       "    </tr>\n",
       "  </tbody>\n",
       "</table>\n",
       "</div>"
      ],
      "text/plain": [
       "    gvkey                         conm   tic      cusip         cik   sic  \\\n",
       "0  107044  INTREPID NUSTAR EXCHANGE CP  IXN.  461193104        None  1000   \n",
       "1  141363             NUSTAR ENERGY LP    NS  67058H102  0001110805  2911   \n",
       "2  174135       NUSTAR GP HOLDINGS LLC   NSH  67059L102  0001223786  5171   \n",
       "\n",
       "    naics   gsubind    gind   year1   year2  \n",
       "0     212  15104040  151040  2001.0  2005.0  \n",
       "1  324110  10102030  101020  1997.0  2018.0  \n",
       "2  424710  10102040  101020  2001.0  2017.0  "
      ]
     },
     "execution_count": 81,
     "metadata": {},
     "output_type": "execute_result"
    }
   ],
   "source": [
    "db.raw_sql(\"SELECT * FROM compa.names WHERE lower(conm) LIKE '%%nustar%%' LIMIT 10\")"
   ]
  },
  {
   "cell_type": "markdown",
   "metadata": {},
   "source": [
    "Nustar GP was a holding in Europe (https://www.newswire.ca/news-releases/inter-pipeline-announces-acquisition-of-multinational-european-bulk-liquid-storage-business-698997581.html), so it is not the organization that we see in the data. Since the two organizations are not listed separately we will consolidate them into one organization."
   ]
  },
  {
   "cell_type": "code",
   "execution_count": 82,
   "metadata": {},
   "outputs": [
    {
     "data": {
      "text/html": [
       "<div>\n",
       "<style scoped>\n",
       "    .dataframe tbody tr th:only-of-type {\n",
       "        vertical-align: middle;\n",
       "    }\n",
       "\n",
       "    .dataframe tbody tr th {\n",
       "        vertical-align: top;\n",
       "    }\n",
       "\n",
       "    .dataframe thead th {\n",
       "        text-align: right;\n",
       "    }\n",
       "</style>\n",
       "<table border=\"1\" class=\"dataframe\">\n",
       "  <thead>\n",
       "    <tr style=\"text-align: right;\">\n",
       "      <th></th>\n",
       "      <th>members</th>\n",
       "      <th>name</th>\n",
       "    </tr>\n",
       "  </thead>\n",
       "  <tbody>\n",
       "    <tr>\n",
       "      <th>13</th>\n",
       "      <td>39205</td>\n",
       "      <td>Energy Transfer (Group)</td>\n",
       "    </tr>\n",
       "    <tr>\n",
       "      <th>14</th>\n",
       "      <td>4906</td>\n",
       "      <td>ExxonMobil (Group)</td>\n",
       "    </tr>\n",
       "    <tr>\n",
       "      <th>15</th>\n",
       "      <td>12628</td>\n",
       "      <td>ExxonMobil (Group)</td>\n",
       "    </tr>\n",
       "    <tr>\n",
       "      <th>16</th>\n",
       "      <td>10012</td>\n",
       "      <td>NuStar</td>\n",
       "    </tr>\n",
       "    <tr>\n",
       "      <th>17</th>\n",
       "      <td>31454</td>\n",
       "      <td>NuStar</td>\n",
       "    </tr>\n",
       "  </tbody>\n",
       "</table>\n",
       "</div>"
      ],
      "text/plain": [
       "   members                     name\n",
       "13   39205  Energy Transfer (Group)\n",
       "14    4906       ExxonMobil (Group)\n",
       "15   12628       ExxonMobil (Group)\n",
       "16   10012                   NuStar\n",
       "17   31454                   NuStar"
      ]
     },
     "execution_count": 82,
     "metadata": {},
     "output_type": "execute_result"
    }
   ],
   "source": [
    "company_groups = add_company_group('NuStar', ['10012', '31454'], company_groups)\n",
    "company_groups.tail()"
   ]
  },
  {
   "cell_type": "markdown",
   "metadata": {},
   "source": [
    "### 8.2.10 Kinder Morgan"
   ]
  },
  {
   "cell_type": "code",
   "execution_count": 83,
   "metadata": {},
   "outputs": [
    {
     "name": "stdout",
     "output_type": "stream",
     "text": [
      "\n",
      "PLANTATION PIPE LINE CO (OPERATOR_ID 15674) has the same parent company as:\n",
      "\n",
      "\tSFPP, LP (OPERATOR_ID 18092)\n",
      "\n",
      "\tCALNEV PIPELINE CO (OPERATOR_ID 26125)\n",
      "\n",
      "\tKINDER MORGAN COCHIN LLC (OPERATOR_ID 32258)\n",
      "\n"
     ]
    }
   ],
   "source": [
    "print(next(issues))"
   ]
  },
  {
   "cell_type": "code",
   "execution_count": 84,
   "metadata": {},
   "outputs": [
    {
     "data": {
      "text/plain": [
       "[{'name': 'PLANTATION PIPE LINE CO', 'start_year': 2010, 'end_year': 2018}]"
      ]
     },
     "execution_count": 84,
     "metadata": {},
     "output_type": "execute_result"
    }
   ],
   "source": [
    "find_names('15674')"
   ]
  },
  {
   "cell_type": "markdown",
   "metadata": {},
   "source": [
    "Owned by Kinder Morgan since 2000 (https://www.kindermorgan.com/pages/business/products_pipelines/plantation_history.aspx)."
   ]
  },
  {
   "cell_type": "code",
   "execution_count": 85,
   "metadata": {},
   "outputs": [
    {
     "data": {
      "text/plain": [
       "[{'name': 'SFPP, LP', 'start_year': 2010, 'end_year': 2018}]"
      ]
     },
     "execution_count": 85,
     "metadata": {},
     "output_type": "execute_result"
    }
   ],
   "source": [
    "find_names('18092')"
   ]
  },
  {
   "cell_type": "markdown",
   "metadata": {},
   "source": [
    "SFPP is a wholly owned subsidiary for the observation period also."
   ]
  },
  {
   "cell_type": "code",
   "execution_count": 86,
   "metadata": {},
   "outputs": [
    {
     "data": {
      "text/plain": [
       "[{'name': 'CALNEV PIPELINE CO', 'start_year': 2010, 'end_year': 2018}]"
      ]
     },
     "execution_count": 86,
     "metadata": {},
     "output_type": "execute_result"
    }
   ],
   "source": [
    "find_names('26125')"
   ]
  },
  {
   "cell_type": "markdown",
   "metadata": {},
   "source": [
    "Also wholly owned for observation period."
   ]
  },
  {
   "cell_type": "code",
   "execution_count": 87,
   "metadata": {},
   "outputs": [
    {
     "data": {
      "text/plain": [
       "[{'name': 'KINDER MORGAN COCHIN LLC', 'start_year': 2010, 'end_year': 2018}]"
      ]
     },
     "execution_count": 87,
     "metadata": {},
     "output_type": "execute_result"
    }
   ],
   "source": [
    "find_names('32258')"
   ]
  },
  {
   "cell_type": "markdown",
   "metadata": {},
   "source": [
    "Also wholly owned for observation period."
   ]
  },
  {
   "cell_type": "markdown",
   "metadata": {},
   "source": [
    "### Decision"
   ]
  },
  {
   "cell_type": "code",
   "execution_count": 88,
   "metadata": {},
   "outputs": [
    {
     "data": {
      "text/html": [
       "<div>\n",
       "<style scoped>\n",
       "    .dataframe tbody tr th:only-of-type {\n",
       "        vertical-align: middle;\n",
       "    }\n",
       "\n",
       "    .dataframe tbody tr th {\n",
       "        vertical-align: top;\n",
       "    }\n",
       "\n",
       "    .dataframe thead th {\n",
       "        text-align: right;\n",
       "    }\n",
       "</style>\n",
       "<table border=\"1\" class=\"dataframe\">\n",
       "  <thead>\n",
       "    <tr style=\"text-align: right;\">\n",
       "      <th></th>\n",
       "      <th>members</th>\n",
       "      <th>name</th>\n",
       "    </tr>\n",
       "  </thead>\n",
       "  <tbody>\n",
       "    <tr>\n",
       "      <th>17</th>\n",
       "      <td>31454</td>\n",
       "      <td>NuStar</td>\n",
       "    </tr>\n",
       "    <tr>\n",
       "      <th>18</th>\n",
       "      <td>15674</td>\n",
       "      <td>Kinder Morgan (Group)</td>\n",
       "    </tr>\n",
       "    <tr>\n",
       "      <th>19</th>\n",
       "      <td>18092</td>\n",
       "      <td>Kinder Morgan (Group)</td>\n",
       "    </tr>\n",
       "    <tr>\n",
       "      <th>20</th>\n",
       "      <td>26125</td>\n",
       "      <td>Kinder Morgan (Group)</td>\n",
       "    </tr>\n",
       "    <tr>\n",
       "      <th>21</th>\n",
       "      <td>32258</td>\n",
       "      <td>Kinder Morgan (Group)</td>\n",
       "    </tr>\n",
       "  </tbody>\n",
       "</table>\n",
       "</div>"
      ],
      "text/plain": [
       "   members                   name\n",
       "17   31454                 NuStar\n",
       "18   15674  Kinder Morgan (Group)\n",
       "19   18092  Kinder Morgan (Group)\n",
       "20   26125  Kinder Morgan (Group)\n",
       "21   32258  Kinder Morgan (Group)"
      ]
     },
     "execution_count": 88,
     "metadata": {},
     "output_type": "execute_result"
    }
   ],
   "source": [
    "company_groups = add_company_group('Kinder Morgan (Group)', ['15674', '18092', '26125', '32258'], company_groups)\n",
    "company_groups.tail()"
   ]
  },
  {
   "cell_type": "markdown",
   "metadata": {},
   "source": [
    "### 8.2.11 Enbridge"
   ]
  },
  {
   "cell_type": "code",
   "execution_count": 89,
   "metadata": {},
   "outputs": [
    {
     "name": "stdout",
     "output_type": "stream",
     "text": [
      "\n",
      "ENBRIDGE ENERGY, LIMITED PARTNERSHIP (OPERATOR_ID 11169) has the same parent company as:\n",
      "\n",
      "\tEXPRESS HOLDINGS (USA), LLC (OPERATOR_ID 31720)\n",
      "\n",
      "\tCCPS TRANSPORTATION, LLC (OPERATOR_ID 32080)\n",
      "\n",
      "\tENBRIDGE PIPELINES (SOUTHERN LIGHTS) L.L.C. (OPERATOR_ID 32502)\n",
      "\n"
     ]
    }
   ],
   "source": [
    "print(next(issues))"
   ]
  },
  {
   "cell_type": "code",
   "execution_count": 90,
   "metadata": {},
   "outputs": [
    {
     "data": {
      "text/plain": [
       "[{'name': 'ENBRIDGE ENERGY, LIMITED PARTNERSHIP',\n",
       "  'start_year': 2010,\n",
       "  'end_year': 2018}]"
      ]
     },
     "execution_count": 90,
     "metadata": {},
     "output_type": "execute_result"
    }
   ],
   "source": [
    "find_names('11169')"
   ]
  },
  {
   "cell_type": "code",
   "execution_count": 91,
   "metadata": {},
   "outputs": [
    {
     "data": {
      "text/plain": [
       "[{'name': 'EXPRESS HOLDINGS (USA), LLC', 'start_year': 2013, 'end_year': 2018},\n",
       " {'name': 'KINDER MORGAN PIPELINES (USA) INC',\n",
       "  'start_year': 2010,\n",
       "  'end_year': 2012}]"
      ]
     },
     "execution_count": 91,
     "metadata": {},
     "output_type": "execute_result"
    }
   ],
   "source": [
    "find_names('31720')"
   ]
  },
  {
   "cell_type": "code",
   "execution_count": 92,
   "metadata": {},
   "outputs": [
    {
     "data": {
      "text/plain": [
       "[[2010, 196.0], [2011, 196.0], [2012, 196.0], [2013, 219.3], [2014, 212.4]]"
      ]
     },
     "execution_count": 92,
     "metadata": {},
     "output_type": "execute_result"
    }
   ],
   "source": [
    "find_total_miles('31720', range(2010, 2015))"
   ]
  },
  {
   "cell_type": "code",
   "execution_count": 93,
   "metadata": {},
   "outputs": [
    {
     "data": {
      "text/plain": [
       "[{'name': 'CCPS TRANSPORTATION, LLC', 'start_year': 2010, 'end_year': 2018}]"
      ]
     },
     "execution_count": 93,
     "metadata": {},
     "output_type": "execute_result"
    }
   ],
   "source": [
    "find_names('32080')"
   ]
  },
  {
   "cell_type": "markdown",
   "metadata": {},
   "source": [
    "CCPS has been a wholly owned subsidiary of Enbridge since 2005"
   ]
  },
  {
   "cell_type": "code",
   "execution_count": 94,
   "metadata": {},
   "outputs": [
    {
     "data": {
      "text/plain": [
       "[{'name': 'ENBRIDGE PIPELINES (SOUTHERN LIGHTS) L.L.C.',\n",
       "  'start_year': 2010,\n",
       "  'end_year': 2018}]"
      ]
     },
     "execution_count": 94,
     "metadata": {},
     "output_type": "execute_result"
    }
   ],
   "source": [
    "find_names('32502')"
   ]
  },
  {
   "cell_type": "markdown",
   "metadata": {},
   "source": [
    "### Express Holdings"
   ]
  },
  {
   "cell_type": "code",
   "execution_count": 95,
   "metadata": {},
   "outputs": [
    {
     "data": {
      "text/plain": [
       "[[2010, 196.0], [2011, 196.0], [2012, 196.0], [2013, 219.3], [2014, 212.4]]"
      ]
     },
     "execution_count": 95,
     "metadata": {},
     "output_type": "execute_result"
    }
   ],
   "source": [
    "find_total_miles('31720', range(2010, 2015))"
   ]
  },
  {
   "cell_type": "markdown",
   "metadata": {},
   "source": [
    "The Express pipeline system was sold by Kinder Morgan to Spectra Energy ~2012-2013 (https://ir.kindermorgan.com/sites/kindermorgan.investorhq.businesswire.com/files/report/additional/KMI_2012_annual_report_financials.pdf). Enbridge merged with Spectra Energy in 2018 (https://www.newswire.ca/news-releases/enbridge-inc-and-spectra-energy-partners-lp-complete-merger-702921861.html)."
   ]
  },
  {
   "cell_type": "markdown",
   "metadata": {},
   "source": [
    "### CCPS Transportation"
   ]
  },
  {
   "cell_type": "markdown",
   "metadata": {},
   "source": [
    "Has been acquired (90%) by Enbridge in 2003 (https://apps.neb-one.gc.ca/REGDOCS/File/Download/346893)."
   ]
  },
  {
   "cell_type": "markdown",
   "metadata": {},
   "source": [
    "### Decision"
   ]
  },
  {
   "cell_type": "markdown",
   "metadata": {},
   "source": [
    "We group the CCPS and Enbridge Pipelines (Southern Lights) with Enbridge. Express Holdings is modeled as part of Kinder Morgan until 2012, then as part of Spectra Energy (which has no other pipeline business in the datset) until 2017, And finally as part of Enbridge in 2018."
   ]
  },
  {
   "cell_type": "code",
   "execution_count": 96,
   "metadata": {},
   "outputs": [
    {
     "data": {
      "text/html": [
       "<div>\n",
       "<style scoped>\n",
       "    .dataframe tbody tr th:only-of-type {\n",
       "        vertical-align: middle;\n",
       "    }\n",
       "\n",
       "    .dataframe tbody tr th {\n",
       "        vertical-align: top;\n",
       "    }\n",
       "\n",
       "    .dataframe thead th {\n",
       "        text-align: right;\n",
       "    }\n",
       "</style>\n",
       "<table border=\"1\" class=\"dataframe\">\n",
       "  <thead>\n",
       "    <tr style=\"text-align: right;\">\n",
       "      <th></th>\n",
       "      <th>members</th>\n",
       "      <th>name</th>\n",
       "    </tr>\n",
       "  </thead>\n",
       "  <tbody>\n",
       "    <tr>\n",
       "      <th>20</th>\n",
       "      <td>26125</td>\n",
       "      <td>Kinder Morgan (Group)</td>\n",
       "    </tr>\n",
       "    <tr>\n",
       "      <th>21</th>\n",
       "      <td>32258</td>\n",
       "      <td>Kinder Morgan (Group)</td>\n",
       "    </tr>\n",
       "    <tr>\n",
       "      <th>22</th>\n",
       "      <td>11169</td>\n",
       "      <td>Enbridge (Group)</td>\n",
       "    </tr>\n",
       "    <tr>\n",
       "      <th>23</th>\n",
       "      <td>32080</td>\n",
       "      <td>Enbridge (Group)</td>\n",
       "    </tr>\n",
       "    <tr>\n",
       "      <th>24</th>\n",
       "      <td>32502</td>\n",
       "      <td>Enbridge (Group)</td>\n",
       "    </tr>\n",
       "  </tbody>\n",
       "</table>\n",
       "</div>"
      ],
      "text/plain": [
       "   members                   name\n",
       "20   26125  Kinder Morgan (Group)\n",
       "21   32258  Kinder Morgan (Group)\n",
       "22   11169       Enbridge (Group)\n",
       "23   32080       Enbridge (Group)\n",
       "24   32502       Enbridge (Group)"
      ]
     },
     "execution_count": 96,
     "metadata": {},
     "output_type": "execute_result"
    }
   ],
   "source": [
    "company_groups = add_company_group('Enbridge (Group)', ['11169', '32080', '32502'], company_groups)\n",
    "company_groups.tail()"
   ]
  },
  {
   "cell_type": "code",
   "execution_count": 97,
   "metadata": {},
   "outputs": [
    {
     "data": {
      "text/html": [
       "<div>\n",
       "<style scoped>\n",
       "    .dataframe tbody tr th:only-of-type {\n",
       "        vertical-align: middle;\n",
       "    }\n",
       "\n",
       "    .dataframe tbody tr th {\n",
       "        vertical-align: top;\n",
       "    }\n",
       "\n",
       "    .dataframe thead th {\n",
       "        text-align: right;\n",
       "    }\n",
       "</style>\n",
       "<table border=\"1\" class=\"dataframe\">\n",
       "  <thead>\n",
       "    <tr style=\"text-align: right;\">\n",
       "      <th></th>\n",
       "      <th>members</th>\n",
       "      <th>name</th>\n",
       "      <th>start_year</th>\n",
       "      <th>end_year</th>\n",
       "    </tr>\n",
       "  </thead>\n",
       "  <tbody>\n",
       "    <tr>\n",
       "      <th>0</th>\n",
       "      <td>Marathon (Group)</td>\n",
       "      <td>Marathon (Group)</td>\n",
       "      <td>2018</td>\n",
       "      <td>NaN</td>\n",
       "    </tr>\n",
       "    <tr>\n",
       "      <th>1</th>\n",
       "      <td>Tesoro (Group)</td>\n",
       "      <td>Marathon (Group)</td>\n",
       "      <td>2018</td>\n",
       "      <td>NaN</td>\n",
       "    </tr>\n",
       "    <tr>\n",
       "      <th>2</th>\n",
       "      <td>Sunoco (Group)</td>\n",
       "      <td>Sunoco (Group)</td>\n",
       "      <td>2017</td>\n",
       "      <td>NaN</td>\n",
       "    </tr>\n",
       "    <tr>\n",
       "      <th>3</th>\n",
       "      <td>Energy Transfer (Group)</td>\n",
       "      <td>Sunoco (Group)</td>\n",
       "      <td>2017</td>\n",
       "      <td>NaN</td>\n",
       "    </tr>\n",
       "    <tr>\n",
       "      <th>4</th>\n",
       "      <td>Kinder Morgan (Group)</td>\n",
       "      <td>Kinder Morgan (Group)</td>\n",
       "      <td>NaN</td>\n",
       "      <td>2013</td>\n",
       "    </tr>\n",
       "    <tr>\n",
       "      <th>5</th>\n",
       "      <td>31720</td>\n",
       "      <td>Kinder Morgan (Group)</td>\n",
       "      <td>NaN</td>\n",
       "      <td>2013</td>\n",
       "    </tr>\n",
       "    <tr>\n",
       "      <th>6</th>\n",
       "      <td>Enbridge (Group)</td>\n",
       "      <td>Enbridge (Group)</td>\n",
       "      <td>2018</td>\n",
       "      <td>NaN</td>\n",
       "    </tr>\n",
       "    <tr>\n",
       "      <th>7</th>\n",
       "      <td>31720</td>\n",
       "      <td>Enbridge (Group)</td>\n",
       "      <td>2018</td>\n",
       "      <td>NaN</td>\n",
       "    </tr>\n",
       "  </tbody>\n",
       "</table>\n",
       "</div>"
      ],
      "text/plain": [
       "                   members                   name start_year end_year\n",
       "0         Marathon (Group)       Marathon (Group)       2018      NaN\n",
       "1           Tesoro (Group)       Marathon (Group)       2018      NaN\n",
       "2           Sunoco (Group)         Sunoco (Group)       2017      NaN\n",
       "3  Energy Transfer (Group)         Sunoco (Group)       2017      NaN\n",
       "4    Kinder Morgan (Group)  Kinder Morgan (Group)        NaN     2013\n",
       "5                    31720  Kinder Morgan (Group)        NaN     2013\n",
       "6         Enbridge (Group)       Enbridge (Group)       2018      NaN\n",
       "7                    31720       Enbridge (Group)       2018      NaN"
      ]
     },
     "execution_count": 97,
     "metadata": {},
     "output_type": "execute_result"
    }
   ],
   "source": [
    "# new_9 - Kinder Morgan\n",
    "m_as = add_m_a('Kinder Morgan (Group)', ['Kinder Morgan (Group)', '31720'], m_as, end_year = '2013')\n",
    "\n",
    "m_as = add_m_a('Enbridge (Group)', ['Enbridge (Group)', '31720'], m_as, start_year = '2018')\n",
    "m_as"
   ]
  },
  {
   "cell_type": "markdown",
   "metadata": {},
   "source": [
    "### 8.2.11 Plains Pipeline"
   ]
  },
  {
   "cell_type": "code",
   "execution_count": 98,
   "metadata": {},
   "outputs": [
    {
     "name": "stdout",
     "output_type": "stream",
     "text": [
      "\n",
      "PLAINS PIPELINE, L.P. (OPERATOR_ID 300) has the same parent company as:\n",
      "\n",
      "\tROCKY MOUNTAIN PIPELINE SYSTEM, LLC (OPERATOR_ID 31666)\n",
      "\n"
     ]
    }
   ],
   "source": [
    "print(next(issues))"
   ]
  },
  {
   "cell_type": "markdown",
   "metadata": {},
   "source": [
    "Wholly owned subsidiary for the duration of our observation period."
   ]
  },
  {
   "cell_type": "code",
   "execution_count": 99,
   "metadata": {},
   "outputs": [
    {
     "data": {
      "text/html": [
       "<div>\n",
       "<style scoped>\n",
       "    .dataframe tbody tr th:only-of-type {\n",
       "        vertical-align: middle;\n",
       "    }\n",
       "\n",
       "    .dataframe tbody tr th {\n",
       "        vertical-align: top;\n",
       "    }\n",
       "\n",
       "    .dataframe thead th {\n",
       "        text-align: right;\n",
       "    }\n",
       "</style>\n",
       "<table border=\"1\" class=\"dataframe\">\n",
       "  <thead>\n",
       "    <tr style=\"text-align: right;\">\n",
       "      <th></th>\n",
       "      <th>members</th>\n",
       "      <th>name</th>\n",
       "    </tr>\n",
       "  </thead>\n",
       "  <tbody>\n",
       "    <tr>\n",
       "      <th>22</th>\n",
       "      <td>11169</td>\n",
       "      <td>Enbridge (Group)</td>\n",
       "    </tr>\n",
       "    <tr>\n",
       "      <th>23</th>\n",
       "      <td>32080</td>\n",
       "      <td>Enbridge (Group)</td>\n",
       "    </tr>\n",
       "    <tr>\n",
       "      <th>24</th>\n",
       "      <td>32502</td>\n",
       "      <td>Enbridge (Group)</td>\n",
       "    </tr>\n",
       "    <tr>\n",
       "      <th>25</th>\n",
       "      <td>300</td>\n",
       "      <td>Plains Pipeline (Group)</td>\n",
       "    </tr>\n",
       "    <tr>\n",
       "      <th>26</th>\n",
       "      <td>31666</td>\n",
       "      <td>Plains Pipeline (Group)</td>\n",
       "    </tr>\n",
       "  </tbody>\n",
       "</table>\n",
       "</div>"
      ],
      "text/plain": [
       "   members                     name\n",
       "22   11169         Enbridge (Group)\n",
       "23   32080         Enbridge (Group)\n",
       "24   32502         Enbridge (Group)\n",
       "25     300  Plains Pipeline (Group)\n",
       "26   31666  Plains Pipeline (Group)"
      ]
     },
     "execution_count": 99,
     "metadata": {},
     "output_type": "execute_result"
    }
   ],
   "source": [
    "company_groups = add_company_group('Plains Pipeline (Group)', ['300', '31666'], company_groups)\n",
    "company_groups.tail()"
   ]
  },
  {
   "cell_type": "markdown",
   "metadata": {},
   "source": [
    "### 8.2.12 BP"
   ]
  },
  {
   "cell_type": "code",
   "execution_count": 100,
   "metadata": {},
   "outputs": [
    {
     "name": "stdout",
     "output_type": "stream",
     "text": [
      "\n",
      "BP PIPELINE (NORTH AMERICA) INC. (OPERATOR_ID 31189) has the same parent company as:\n",
      "\n",
      "\tOLYMPIC PIPE LINE COMPANY (OPERATOR_ID 30781)\n",
      "\n"
     ]
    }
   ],
   "source": [
    "print(next(issues))"
   ]
  },
  {
   "cell_type": "markdown",
   "metadata": {},
   "source": [
    "BP owned olympic for the duration of our observation period."
   ]
  },
  {
   "cell_type": "code",
   "execution_count": 101,
   "metadata": {},
   "outputs": [
    {
     "data": {
      "text/plain": [
       "[{'name': 'OLYMPIC PIPE LINE COMPANY', 'start_year': 2010, 'end_year': 2018}]"
      ]
     },
     "execution_count": 101,
     "metadata": {},
     "output_type": "execute_result"
    }
   ],
   "source": [
    "find_names('30781')"
   ]
  },
  {
   "cell_type": "code",
   "execution_count": 102,
   "metadata": {},
   "outputs": [
    {
     "data": {
      "text/plain": [
       "[[2010, 316.0],\n",
       " [2011, 316.0],\n",
       " [2012, 316.0],\n",
       " [2013, 366.0],\n",
       " [2014, 380.3],\n",
       " [2015, 380.4],\n",
       " [2016, 380.4],\n",
       " [2017, 380.7],\n",
       " [2018, 380.6]]"
      ]
     },
     "execution_count": 102,
     "metadata": {},
     "output_type": "execute_result"
    }
   ],
   "source": [
    "find_total_miles('30781', range(2010, 2019))"
   ]
  },
  {
   "cell_type": "code",
   "execution_count": 103,
   "metadata": {},
   "outputs": [
    {
     "data": {
      "text/html": [
       "<div>\n",
       "<style scoped>\n",
       "    .dataframe tbody tr th:only-of-type {\n",
       "        vertical-align: middle;\n",
       "    }\n",
       "\n",
       "    .dataframe tbody tr th {\n",
       "        vertical-align: top;\n",
       "    }\n",
       "\n",
       "    .dataframe thead th {\n",
       "        text-align: right;\n",
       "    }\n",
       "</style>\n",
       "<table border=\"1\" class=\"dataframe\">\n",
       "  <thead>\n",
       "    <tr style=\"text-align: right;\">\n",
       "      <th></th>\n",
       "      <th>members</th>\n",
       "      <th>name</th>\n",
       "    </tr>\n",
       "  </thead>\n",
       "  <tbody>\n",
       "    <tr>\n",
       "      <th>24</th>\n",
       "      <td>32502</td>\n",
       "      <td>Enbridge (Group)</td>\n",
       "    </tr>\n",
       "    <tr>\n",
       "      <th>25</th>\n",
       "      <td>300</td>\n",
       "      <td>Plains Pipeline (Group)</td>\n",
       "    </tr>\n",
       "    <tr>\n",
       "      <th>26</th>\n",
       "      <td>31666</td>\n",
       "      <td>Plains Pipeline (Group)</td>\n",
       "    </tr>\n",
       "    <tr>\n",
       "      <th>27</th>\n",
       "      <td>31189</td>\n",
       "      <td>BP (Group)</td>\n",
       "    </tr>\n",
       "    <tr>\n",
       "      <th>28</th>\n",
       "      <td>30781</td>\n",
       "      <td>BP (Group)</td>\n",
       "    </tr>\n",
       "  </tbody>\n",
       "</table>\n",
       "</div>"
      ],
      "text/plain": [
       "   members                     name\n",
       "24   32502         Enbridge (Group)\n",
       "25     300  Plains Pipeline (Group)\n",
       "26   31666  Plains Pipeline (Group)\n",
       "27   31189               BP (Group)\n",
       "28   30781               BP (Group)"
      ]
     },
     "execution_count": 103,
     "metadata": {},
     "output_type": "execute_result"
    }
   ],
   "source": [
    "company_groups = add_company_group('BP (Group)', ['31189', '30781'], company_groups)\n",
    "company_groups.tail()"
   ]
  },
  {
   "cell_type": "markdown",
   "metadata": {},
   "source": [
    "### 8.2.13"
   ]
  },
  {
   "cell_type": "code",
   "execution_count": 104,
   "metadata": {},
   "outputs": [
    {
     "name": "stdout",
     "output_type": "stream",
     "text": [
      "\n",
      "EXXONMOBIL PIPELINE CO (OPERATOR_ID 12628) has changed its name:\n",
      "\n",
      "\tWas named EXXONMOBIL PIPELINE CO from 2010 to 2018.\n",
      "\n",
      "\tWas named MOBIL  PIPE  LINE COMPANY from 2012 to 2018.\n",
      "\n",
      "\tWas named MOBIL PIPELINE CO from 2010 to 2010.\n",
      "\n"
     ]
    }
   ],
   "source": [
    "print(next(issues))"
   ]
  },
  {
   "cell_type": "markdown",
   "metadata": {},
   "source": [
    "The different names used do not imply an ownership change."
   ]
  },
  {
   "cell_type": "markdown",
   "metadata": {},
   "source": [
    "### 8.2.14"
   ]
  },
  {
   "cell_type": "code",
   "execution_count": 105,
   "metadata": {},
   "outputs": [
    {
     "name": "stdout",
     "output_type": "stream",
     "text": [
      "\n",
      "TESORO LOGISTICS OPERATIONS, LLC (OPERATOR_ID 38933) has changed its name:\n",
      "\n",
      "\tWas named TESORO LOGISTICS OPERATIONS LLC - SOUTHERN CALIFORNIA from 2012 to 2017.\n",
      "\n",
      "\tWas named TESORO LOGISTICS OPERATIONS, LLC from 2018 to 2018.\n",
      "\n"
     ]
    }
   ],
   "source": [
    "print(next(issues))"
   ]
  },
  {
   "cell_type": "code",
   "execution_count": 106,
   "metadata": {},
   "outputs": [
    {
     "data": {
      "text/plain": [
       "[[2010, 0.0],\n",
       " [2011, 0.0],\n",
       " [2012, 15.5],\n",
       " [2013, 15.5],\n",
       " [2014, 15.5],\n",
       " [2015, 15.3],\n",
       " [2016, 15.5],\n",
       " [2017, 14.969999999999999],\n",
       " [2018, 930.6999999999999]]"
      ]
     },
     "execution_count": 106,
     "metadata": {},
     "output_type": "execute_result"
    }
   ],
   "source": [
    "find_total_miles('38933', range (2010, 2019))"
   ]
  },
  {
   "cell_type": "markdown",
   "metadata": {},
   "source": [
    "We have already covered this organization above."
   ]
  },
  {
   "cell_type": "markdown",
   "metadata": {},
   "source": [
    "### 8.2.15"
   ]
  },
  {
   "cell_type": "code",
   "execution_count": 107,
   "metadata": {},
   "outputs": [
    {
     "name": "stdout",
     "output_type": "stream",
     "text": [
      "\n",
      "TC OIL PIPELINE OPERATIONS INC (OPERATOR_ID 32334) may have a namesake or namesakes:\n",
      "\n",
      "\tDAPL-ETCO OPERATIONS MANAGEMENT, LLC (OPERATOR_ID 39205)\n",
      "\n"
     ]
    }
   ],
   "source": [
    "print(next(issues))"
   ]
  },
  {
   "cell_type": "markdown",
   "metadata": {},
   "source": [
    "No action necessary."
   ]
  },
  {
   "cell_type": "markdown",
   "metadata": {},
   "source": [
    "### 8.2.16"
   ]
  },
  {
   "cell_type": "code",
   "execution_count": 108,
   "metadata": {},
   "outputs": [
    {
     "name": "stdout",
     "output_type": "stream",
     "text": [
      "\n",
      "DIXIE PIPELINE COMPANY LLC (OPERATOR_ID 3445) has changed its name:\n",
      "\n",
      "\tWas named DIXIE PIPELINE from 2010 to 2010.\n",
      "\n",
      "\tWas named DIXIE PIPELINE COMPANY LLC from 2011 to 2018.\n",
      "\n"
     ]
    }
   ],
   "source": [
    "print(next(issues))"
   ]
  },
  {
   "cell_type": "markdown",
   "metadata": {},
   "source": [
    "No action necessary."
   ]
  },
  {
   "cell_type": "markdown",
   "metadata": {},
   "source": [
    "### 8.2.17"
   ]
  },
  {
   "cell_type": "code",
   "execution_count": 109,
   "metadata": {},
   "outputs": [
    {
     "name": "stdout",
     "output_type": "stream",
     "text": [
      "\n",
      "KINDER MORGAN COCHIN LLC (OPERATOR_ID 32258) may have a namesake or namesakes:\n",
      "\n",
      "\tKINDER MORGAN PIPELINES (USA) INC (OPERATOR_ID 31720)\n",
      "\n"
     ]
    }
   ],
   "source": [
    "print(next(issues))"
   ]
  },
  {
   "cell_type": "code",
   "execution_count": 110,
   "metadata": {},
   "outputs": [
    {
     "data": {
      "text/plain": [
       "[{'name': 'KINDER MORGAN COCHIN LLC', 'start_year': 2010, 'end_year': 2018}]"
      ]
     },
     "execution_count": 110,
     "metadata": {},
     "output_type": "execute_result"
    }
   ],
   "source": [
    "find_names('32258')"
   ]
  },
  {
   "cell_type": "code",
   "execution_count": 111,
   "metadata": {},
   "outputs": [
    {
     "data": {
      "text/plain": [
       "[{'name': 'EXPRESS HOLDINGS (USA), LLC', 'start_year': 2013, 'end_year': 2018},\n",
       " {'name': 'KINDER MORGAN PIPELINES (USA) INC',\n",
       "  'start_year': 2010,\n",
       "  'end_year': 2012}]"
      ]
     },
     "execution_count": 111,
     "metadata": {},
     "output_type": "execute_result"
    }
   ],
   "source": [
    "find_names('31720')"
   ]
  },
  {
   "cell_type": "markdown",
   "metadata": {},
   "source": [
    "We have already handled this one above."
   ]
  },
  {
   "cell_type": "markdown",
   "metadata": {},
   "source": [
    "### 8.2.18"
   ]
  },
  {
   "cell_type": "code",
   "execution_count": 112,
   "metadata": {},
   "outputs": [
    {
     "name": "stdout",
     "output_type": "stream",
     "text": [
      "\n",
      "TESORO LOGISTICS NORTHWEST PIPELINE LLC (OPERATOR_ID 39029) may have a namesake or namesakes:\n",
      "\n",
      "\tTESORO LOGISTICS OPERATIONS LLC - SOUTHERN CALIFORNIA (OPERATOR_ID 38933)\n",
      "\n"
     ]
    }
   ],
   "source": [
    "print(next(issues))"
   ]
  },
  {
   "cell_type": "markdown",
   "metadata": {},
   "source": [
    "Already addressed."
   ]
  },
  {
   "cell_type": "markdown",
   "metadata": {},
   "source": [
    "### 8.2.19"
   ]
  },
  {
   "cell_type": "code",
   "execution_count": 113,
   "metadata": {},
   "outputs": [
    {
     "name": "stdout",
     "output_type": "stream",
     "text": [
      "\n",
      "EXPRESS HOLDINGS (USA), LLC (OPERATOR_ID 31720) has changed its name:\n",
      "\n",
      "\tWas named EXPRESS HOLDINGS (USA), LLC from 2013 to 2018.\n",
      "\n",
      "\tWas named KINDER MORGAN PIPELINES (USA) INC from 2010 to 2012.\n",
      "\n",
      "EXPRESS HOLDINGS (USA), LLC (OPERATOR_ID 31720) may have a namesake or namesakes:\n",
      "\n",
      "\tTALLGRASS PONY EXPRESS PIPELINE, LLC (OPERATOR_ID 39043)\n",
      "\n",
      "\tPERMIAN EXPRESS PARTNERS LLC (OPERATOR_ID 39596)\n",
      "\n",
      "\tKINDER MORGAN COCHIN LLC (OPERATOR_ID 32258)\n",
      "\n"
     ]
    }
   ],
   "source": [
    "print(next(issues))"
   ]
  },
  {
   "cell_type": "markdown",
   "metadata": {},
   "source": [
    "We have already addressed this above."
   ]
  },
  {
   "cell_type": "markdown",
   "metadata": {},
   "source": [
    "## 8.3 Overview"
   ]
  },
  {
   "cell_type": "code",
   "execution_count": 114,
   "metadata": {},
   "outputs": [
    {
     "data": {
      "text/html": [
       "<div>\n",
       "<style scoped>\n",
       "    .dataframe tbody tr th:only-of-type {\n",
       "        vertical-align: middle;\n",
       "    }\n",
       "\n",
       "    .dataframe tbody tr th {\n",
       "        vertical-align: top;\n",
       "    }\n",
       "\n",
       "    .dataframe thead th {\n",
       "        text-align: right;\n",
       "    }\n",
       "</style>\n",
       "<table border=\"1\" class=\"dataframe\">\n",
       "  <thead>\n",
       "    <tr style=\"text-align: right;\">\n",
       "      <th></th>\n",
       "      <th>members</th>\n",
       "      <th>name</th>\n",
       "    </tr>\n",
       "  </thead>\n",
       "  <tbody>\n",
       "    <tr>\n",
       "      <th>0</th>\n",
       "      <td>31618</td>\n",
       "      <td>Enterprise Products (Group)</td>\n",
       "    </tr>\n",
       "    <tr>\n",
       "      <th>1</th>\n",
       "      <td>30829</td>\n",
       "      <td>Enterprise Products (Group)</td>\n",
       "    </tr>\n",
       "    <tr>\n",
       "      <th>2</th>\n",
       "      <td>3445</td>\n",
       "      <td>Enterprise Products (Group)</td>\n",
       "    </tr>\n",
       "    <tr>\n",
       "      <th>3</th>\n",
       "      <td>1845</td>\n",
       "      <td>Buckeye (Group)</td>\n",
       "    </tr>\n",
       "    <tr>\n",
       "      <th>4</th>\n",
       "      <td>31371</td>\n",
       "      <td>Buckeye (Group)</td>\n",
       "    </tr>\n",
       "    <tr>\n",
       "      <th>5</th>\n",
       "      <td>32147</td>\n",
       "      <td>Marathon (Group)</td>\n",
       "    </tr>\n",
       "    <tr>\n",
       "      <th>6</th>\n",
       "      <td>22830</td>\n",
       "      <td>Marathon (Group)</td>\n",
       "    </tr>\n",
       "    <tr>\n",
       "      <th>7</th>\n",
       "      <td>38933</td>\n",
       "      <td>Tesoro (Group)</td>\n",
       "    </tr>\n",
       "    <tr>\n",
       "      <th>8</th>\n",
       "      <td>39029</td>\n",
       "      <td>Tesoro (Group)</td>\n",
       "    </tr>\n",
       "    <tr>\n",
       "      <th>9</th>\n",
       "      <td>18718</td>\n",
       "      <td>Sunoco (Group)</td>\n",
       "    </tr>\n",
       "    <tr>\n",
       "      <th>10</th>\n",
       "      <td>12470</td>\n",
       "      <td>Sunoco (Group)</td>\n",
       "    </tr>\n",
       "    <tr>\n",
       "      <th>11</th>\n",
       "      <td>39596</td>\n",
       "      <td>Sunoco (Group)</td>\n",
       "    </tr>\n",
       "    <tr>\n",
       "      <th>12</th>\n",
       "      <td>32099</td>\n",
       "      <td>Energy Transfer (Group)</td>\n",
       "    </tr>\n",
       "    <tr>\n",
       "      <th>13</th>\n",
       "      <td>39205</td>\n",
       "      <td>Energy Transfer (Group)</td>\n",
       "    </tr>\n",
       "    <tr>\n",
       "      <th>14</th>\n",
       "      <td>4906</td>\n",
       "      <td>ExxonMobil (Group)</td>\n",
       "    </tr>\n",
       "    <tr>\n",
       "      <th>15</th>\n",
       "      <td>12628</td>\n",
       "      <td>ExxonMobil (Group)</td>\n",
       "    </tr>\n",
       "    <tr>\n",
       "      <th>16</th>\n",
       "      <td>10012</td>\n",
       "      <td>NuStar</td>\n",
       "    </tr>\n",
       "    <tr>\n",
       "      <th>17</th>\n",
       "      <td>31454</td>\n",
       "      <td>NuStar</td>\n",
       "    </tr>\n",
       "    <tr>\n",
       "      <th>18</th>\n",
       "      <td>15674</td>\n",
       "      <td>Kinder Morgan (Group)</td>\n",
       "    </tr>\n",
       "    <tr>\n",
       "      <th>19</th>\n",
       "      <td>18092</td>\n",
       "      <td>Kinder Morgan (Group)</td>\n",
       "    </tr>\n",
       "    <tr>\n",
       "      <th>20</th>\n",
       "      <td>26125</td>\n",
       "      <td>Kinder Morgan (Group)</td>\n",
       "    </tr>\n",
       "    <tr>\n",
       "      <th>21</th>\n",
       "      <td>32258</td>\n",
       "      <td>Kinder Morgan (Group)</td>\n",
       "    </tr>\n",
       "    <tr>\n",
       "      <th>22</th>\n",
       "      <td>11169</td>\n",
       "      <td>Enbridge (Group)</td>\n",
       "    </tr>\n",
       "    <tr>\n",
       "      <th>23</th>\n",
       "      <td>32080</td>\n",
       "      <td>Enbridge (Group)</td>\n",
       "    </tr>\n",
       "    <tr>\n",
       "      <th>24</th>\n",
       "      <td>32502</td>\n",
       "      <td>Enbridge (Group)</td>\n",
       "    </tr>\n",
       "    <tr>\n",
       "      <th>25</th>\n",
       "      <td>300</td>\n",
       "      <td>Plains Pipeline (Group)</td>\n",
       "    </tr>\n",
       "    <tr>\n",
       "      <th>26</th>\n",
       "      <td>31666</td>\n",
       "      <td>Plains Pipeline (Group)</td>\n",
       "    </tr>\n",
       "    <tr>\n",
       "      <th>27</th>\n",
       "      <td>31189</td>\n",
       "      <td>BP (Group)</td>\n",
       "    </tr>\n",
       "    <tr>\n",
       "      <th>28</th>\n",
       "      <td>30781</td>\n",
       "      <td>BP (Group)</td>\n",
       "    </tr>\n",
       "  </tbody>\n",
       "</table>\n",
       "</div>"
      ],
      "text/plain": [
       "   members                         name\n",
       "0    31618  Enterprise Products (Group)\n",
       "1    30829  Enterprise Products (Group)\n",
       "2     3445  Enterprise Products (Group)\n",
       "3     1845              Buckeye (Group)\n",
       "4    31371              Buckeye (Group)\n",
       "5    32147             Marathon (Group)\n",
       "6    22830             Marathon (Group)\n",
       "7    38933               Tesoro (Group)\n",
       "8    39029               Tesoro (Group)\n",
       "9    18718               Sunoco (Group)\n",
       "10   12470               Sunoco (Group)\n",
       "11   39596               Sunoco (Group)\n",
       "12   32099      Energy Transfer (Group)\n",
       "13   39205      Energy Transfer (Group)\n",
       "14    4906           ExxonMobil (Group)\n",
       "15   12628           ExxonMobil (Group)\n",
       "16   10012                       NuStar\n",
       "17   31454                       NuStar\n",
       "18   15674        Kinder Morgan (Group)\n",
       "19   18092        Kinder Morgan (Group)\n",
       "20   26125        Kinder Morgan (Group)\n",
       "21   32258        Kinder Morgan (Group)\n",
       "22   11169             Enbridge (Group)\n",
       "23   32080             Enbridge (Group)\n",
       "24   32502             Enbridge (Group)\n",
       "25     300      Plains Pipeline (Group)\n",
       "26   31666      Plains Pipeline (Group)\n",
       "27   31189                   BP (Group)\n",
       "28   30781                   BP (Group)"
      ]
     },
     "execution_count": 114,
     "metadata": {},
     "output_type": "execute_result"
    }
   ],
   "source": [
    "company_groups"
   ]
  },
  {
   "cell_type": "code",
   "execution_count": 115,
   "metadata": {},
   "outputs": [
    {
     "data": {
      "text/html": [
       "<div>\n",
       "<style scoped>\n",
       "    .dataframe tbody tr th:only-of-type {\n",
       "        vertical-align: middle;\n",
       "    }\n",
       "\n",
       "    .dataframe tbody tr th {\n",
       "        vertical-align: top;\n",
       "    }\n",
       "\n",
       "    .dataframe thead th {\n",
       "        text-align: right;\n",
       "    }\n",
       "</style>\n",
       "<table border=\"1\" class=\"dataframe\">\n",
       "  <thead>\n",
       "    <tr style=\"text-align: right;\">\n",
       "      <th></th>\n",
       "      <th>members</th>\n",
       "      <th>name</th>\n",
       "      <th>start_year</th>\n",
       "      <th>end_year</th>\n",
       "    </tr>\n",
       "  </thead>\n",
       "  <tbody>\n",
       "    <tr>\n",
       "      <th>0</th>\n",
       "      <td>Marathon (Group)</td>\n",
       "      <td>Marathon (Group)</td>\n",
       "      <td>2018</td>\n",
       "      <td>NaN</td>\n",
       "    </tr>\n",
       "    <tr>\n",
       "      <th>1</th>\n",
       "      <td>Tesoro (Group)</td>\n",
       "      <td>Marathon (Group)</td>\n",
       "      <td>2018</td>\n",
       "      <td>NaN</td>\n",
       "    </tr>\n",
       "    <tr>\n",
       "      <th>2</th>\n",
       "      <td>Sunoco (Group)</td>\n",
       "      <td>Sunoco (Group)</td>\n",
       "      <td>2017</td>\n",
       "      <td>NaN</td>\n",
       "    </tr>\n",
       "    <tr>\n",
       "      <th>3</th>\n",
       "      <td>Energy Transfer (Group)</td>\n",
       "      <td>Sunoco (Group)</td>\n",
       "      <td>2017</td>\n",
       "      <td>NaN</td>\n",
       "    </tr>\n",
       "    <tr>\n",
       "      <th>4</th>\n",
       "      <td>Kinder Morgan (Group)</td>\n",
       "      <td>Kinder Morgan (Group)</td>\n",
       "      <td>NaN</td>\n",
       "      <td>2013</td>\n",
       "    </tr>\n",
       "    <tr>\n",
       "      <th>5</th>\n",
       "      <td>31720</td>\n",
       "      <td>Kinder Morgan (Group)</td>\n",
       "      <td>NaN</td>\n",
       "      <td>2013</td>\n",
       "    </tr>\n",
       "    <tr>\n",
       "      <th>6</th>\n",
       "      <td>Enbridge (Group)</td>\n",
       "      <td>Enbridge (Group)</td>\n",
       "      <td>2018</td>\n",
       "      <td>NaN</td>\n",
       "    </tr>\n",
       "    <tr>\n",
       "      <th>7</th>\n",
       "      <td>31720</td>\n",
       "      <td>Enbridge (Group)</td>\n",
       "      <td>2018</td>\n",
       "      <td>NaN</td>\n",
       "    </tr>\n",
       "  </tbody>\n",
       "</table>\n",
       "</div>"
      ],
      "text/plain": [
       "                   members                   name start_year end_year\n",
       "0         Marathon (Group)       Marathon (Group)       2018      NaN\n",
       "1           Tesoro (Group)       Marathon (Group)       2018      NaN\n",
       "2           Sunoco (Group)         Sunoco (Group)       2017      NaN\n",
       "3  Energy Transfer (Group)         Sunoco (Group)       2017      NaN\n",
       "4    Kinder Morgan (Group)  Kinder Morgan (Group)        NaN     2013\n",
       "5                    31720  Kinder Morgan (Group)        NaN     2013\n",
       "6         Enbridge (Group)       Enbridge (Group)       2018      NaN\n",
       "7                    31720       Enbridge (Group)       2018      NaN"
      ]
     },
     "execution_count": 115,
     "metadata": {},
     "output_type": "execute_result"
    }
   ],
   "source": [
    "m_as"
   ]
  },
  {
   "cell_type": "code",
   "execution_count": 116,
   "metadata": {},
   "outputs": [
    {
     "data": {
      "text/plain": [
       "[{'name': '31684', 'year': '2011'}]"
      ]
     },
     "execution_count": 116,
     "metadata": {},
     "output_type": "execute_result"
    }
   ],
   "source": [
    "spin_offs"
   ]
  },
  {
   "cell_type": "code",
   "execution_count": 117,
   "metadata": {},
   "outputs": [],
   "source": [
    "company_groups.to_feather(f'../preprocessed_data/company_groups_{today}.feather')\n",
    "m_as.to_feather(f'../preprocessed_data/m_as_{today}.feather')"
   ]
  }
 ],
 "metadata": {
  "kernelspec": {
   "display_name": "oil_industry",
   "language": "python",
   "name": "oil_industry"
  },
  "language_info": {
   "codemirror_mode": {
    "name": "ipython",
    "version": 3
   },
   "file_extension": ".py",
   "mimetype": "text/x-python",
   "name": "python",
   "nbconvert_exporter": "python",
   "pygments_lexer": "ipython3",
   "version": "3.6.8"
  }
 },
 "nbformat": 4,
 "nbformat_minor": 4
}
