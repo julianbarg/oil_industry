{
 "cells": [
  {
   "cell_type": "markdown",
   "metadata": {},
   "source": [
    "# 8. Resolve data issues"
   ]
  },
  {
   "cell_type": "markdown",
   "metadata": {},
   "source": [
    "The analysis in section 8.2 is based on data retrieved from LexisNexis (LexisNexis Dossier)."
   ]
  },
  {
   "cell_type": "code",
   "execution_count": 1,
   "metadata": {},
   "outputs": [],
   "source": [
    "sample_file = '../preprocessed_data/sample_2019-08-24.feather'\n",
    "issues_to_address = '../preprocessed_data/issues_to_address_2019-08-23.pickle'\n",
    "pipelines_2010_raw_file = '../data/pipelines_2010_2019-08-16.feather'"
   ]
  },
  {
   "cell_type": "markdown",
   "metadata": {},
   "source": [
    "## Setup"
   ]
  },
  {
   "cell_type": "code",
   "execution_count": 2,
   "metadata": {},
   "outputs": [],
   "source": [
    "import pandas as pd\n",
    "import numpy as np\n",
    "from datetime import date\n",
    "from functools import partial\n",
    "\n",
    "today = date.today().isoformat()"
   ]
  },
  {
   "cell_type": "code",
   "execution_count": 3,
   "metadata": {},
   "outputs": [
    {
     "name": "stdout",
     "output_type": "stream",
     "text": [
      "Loading library list...\n",
      "Done\n"
     ]
    }
   ],
   "source": [
    "import wrds\n",
    "\n",
    "db = wrds.Connection(wrds_username='juujian')"
   ]
  },
  {
   "cell_type": "markdown",
   "metadata": {},
   "source": [
    "## Load data"
   ]
  },
  {
   "cell_type": "code",
   "execution_count": 4,
   "metadata": {},
   "outputs": [],
   "source": [
    "import pickle\n",
    "\n",
    "with open(issues_to_address, 'rb') as file:\n",
    "    issues = pickle.load(file)\n",
    "    \n",
    "issues = (issue for issue in issues)"
   ]
  },
  {
   "cell_type": "code",
   "execution_count": 5,
   "metadata": {},
   "outputs": [
    {
     "data": {
      "text/html": [
       "<div>\n",
       "<style scoped>\n",
       "    .dataframe tbody tr th:only-of-type {\n",
       "        vertical-align: middle;\n",
       "    }\n",
       "\n",
       "    .dataframe tbody tr th {\n",
       "        vertical-align: top;\n",
       "    }\n",
       "\n",
       "    .dataframe thead th {\n",
       "        text-align: right;\n",
       "    }\n",
       "</style>\n",
       "<table border=\"1\" class=\"dataframe\">\n",
       "  <thead>\n",
       "    <tr style=\"text-align: right;\">\n",
       "      <th></th>\n",
       "      <th>OPERATOR_ID</th>\n",
       "      <th>YEAR</th>\n",
       "      <th>NAME</th>\n",
       "      <th>COMMODITY</th>\n",
       "      <th>MILES</th>\n",
       "      <th>AGE_UNKNOWN_MILES</th>\n",
       "      <th>MILES_PRE_1940</th>\n",
       "      <th>MILES_1940</th>\n",
       "      <th>MILES_1950</th>\n",
       "      <th>MILES_1960</th>\n",
       "      <th>MILES_1970</th>\n",
       "      <th>MILES_1980</th>\n",
       "      <th>MILES_1990</th>\n",
       "      <th>MILES_2000</th>\n",
       "      <th>MILES_2010</th>\n",
       "      <th>PERC_OFFSHORE</th>\n",
       "      <th>AVG_AGE</th>\n",
       "      <th>PARENT</th>\n",
       "      <th>INCIDENTS</th>\n",
       "      <th>SIGNIFICANT_INCIDENTS</th>\n",
       "    </tr>\n",
       "  </thead>\n",
       "  <tbody>\n",
       "    <tr>\n",
       "      <th>127</th>\n",
       "      <td>4906</td>\n",
       "      <td>2013</td>\n",
       "      <td>EXXONMOBIL PIPELINE CO</td>\n",
       "      <td>non-hvl</td>\n",
       "      <td>493.30</td>\n",
       "      <td>0.0</td>\n",
       "      <td>0.0</td>\n",
       "      <td>3.1</td>\n",
       "      <td>13.090</td>\n",
       "      <td>218.090</td>\n",
       "      <td>13.440</td>\n",
       "      <td>40.160</td>\n",
       "      <td>27.220</td>\n",
       "      <td>47.270</td>\n",
       "      <td>48.020</td>\n",
       "      <td>0.0</td>\n",
       "      <td>40.737713</td>\n",
       "      <td>Exxon Mobil</td>\n",
       "      <td>3.0</td>\n",
       "      <td>0.0</td>\n",
       "    </tr>\n",
       "    <tr>\n",
       "      <th>583</th>\n",
       "      <td>30826</td>\n",
       "      <td>2012</td>\n",
       "      <td>WILLIAMS FIELD SERVICES</td>\n",
       "      <td>hvl</td>\n",
       "      <td>375.90</td>\n",
       "      <td>22.0</td>\n",
       "      <td>0.0</td>\n",
       "      <td>0.0</td>\n",
       "      <td>0.000</td>\n",
       "      <td>0.000</td>\n",
       "      <td>0.000</td>\n",
       "      <td>25.000</td>\n",
       "      <td>0.000</td>\n",
       "      <td>1047.000</td>\n",
       "      <td>36.000</td>\n",
       "      <td>0.0</td>\n",
       "      <td>15.126354</td>\n",
       "      <td>The Williams Companies</td>\n",
       "      <td>0.0</td>\n",
       "      <td>0.0</td>\n",
       "    </tr>\n",
       "    <tr>\n",
       "      <th>530</th>\n",
       "      <td>26149</td>\n",
       "      <td>2010</td>\n",
       "      <td>ALYESKA PIPELINE SERVICE CO</td>\n",
       "      <td>crude</td>\n",
       "      <td>353.00</td>\n",
       "      <td>0.0</td>\n",
       "      <td>0.0</td>\n",
       "      <td>0.0</td>\n",
       "      <td>0.000</td>\n",
       "      <td>0.000</td>\n",
       "      <td>0.000</td>\n",
       "      <td>0.000</td>\n",
       "      <td>0.000</td>\n",
       "      <td>0.000</td>\n",
       "      <td>0.000</td>\n",
       "      <td>0.0</td>\n",
       "      <td>NaN</td>\n",
       "      <td>Alyeska Pipeline Service</td>\n",
       "      <td>2.0</td>\n",
       "      <td>1.0</td>\n",
       "    </tr>\n",
       "    <tr>\n",
       "      <th>593</th>\n",
       "      <td>30829</td>\n",
       "      <td>2012</td>\n",
       "      <td>ENTERPRISE CRUDE PIPELINE LLC</td>\n",
       "      <td>crude</td>\n",
       "      <td>811.00</td>\n",
       "      <td>0.0</td>\n",
       "      <td>0.0</td>\n",
       "      <td>0.0</td>\n",
       "      <td>0.006</td>\n",
       "      <td>87.714</td>\n",
       "      <td>0.047</td>\n",
       "      <td>0.039</td>\n",
       "      <td>0.129</td>\n",
       "      <td>67.612</td>\n",
       "      <td>39.238</td>\n",
       "      <td>0.0</td>\n",
       "      <td>31.017455</td>\n",
       "      <td>Enterprise Products Partners</td>\n",
       "      <td>24.0</td>\n",
       "      <td>10.0</td>\n",
       "    </tr>\n",
       "    <tr>\n",
       "      <th>474</th>\n",
       "      <td>26085</td>\n",
       "      <td>2012</td>\n",
       "      <td>PLAINS MARKETING, L.P.</td>\n",
       "      <td>non-hvl</td>\n",
       "      <td>6.27</td>\n",
       "      <td>0.0</td>\n",
       "      <td>0.0</td>\n",
       "      <td>0.0</td>\n",
       "      <td>0.000</td>\n",
       "      <td>0.000</td>\n",
       "      <td>3.780</td>\n",
       "      <td>0.000</td>\n",
       "      <td>2.490</td>\n",
       "      <td>0.000</td>\n",
       "      <td>0.000</td>\n",
       "      <td>0.0</td>\n",
       "      <td>37.057416</td>\n",
       "      <td>Plains GP Holding</td>\n",
       "      <td>0.0</td>\n",
       "      <td>0.0</td>\n",
       "    </tr>\n",
       "  </tbody>\n",
       "</table>\n",
       "</div>"
      ],
      "text/plain": [
       "    OPERATOR_ID  YEAR                           NAME COMMODITY   MILES  \\\n",
       "127        4906  2013         EXXONMOBIL PIPELINE CO   non-hvl  493.30   \n",
       "583       30826  2012        WILLIAMS FIELD SERVICES       hvl  375.90   \n",
       "530       26149  2010    ALYESKA PIPELINE SERVICE CO     crude  353.00   \n",
       "593       30829  2012  ENTERPRISE CRUDE PIPELINE LLC     crude  811.00   \n",
       "474       26085  2012         PLAINS MARKETING, L.P.   non-hvl    6.27   \n",
       "\n",
       "     AGE_UNKNOWN_MILES  MILES_PRE_1940  MILES_1940  MILES_1950  MILES_1960  \\\n",
       "127                0.0             0.0         3.1      13.090     218.090   \n",
       "583               22.0             0.0         0.0       0.000       0.000   \n",
       "530                0.0             0.0         0.0       0.000       0.000   \n",
       "593                0.0             0.0         0.0       0.006      87.714   \n",
       "474                0.0             0.0         0.0       0.000       0.000   \n",
       "\n",
       "     MILES_1970  MILES_1980  MILES_1990  MILES_2000  MILES_2010  \\\n",
       "127      13.440      40.160      27.220      47.270      48.020   \n",
       "583       0.000      25.000       0.000    1047.000      36.000   \n",
       "530       0.000       0.000       0.000       0.000       0.000   \n",
       "593       0.047       0.039       0.129      67.612      39.238   \n",
       "474       3.780       0.000       2.490       0.000       0.000   \n",
       "\n",
       "     PERC_OFFSHORE    AVG_AGE                        PARENT  INCIDENTS  \\\n",
       "127            0.0  40.737713                   Exxon Mobil        3.0   \n",
       "583            0.0  15.126354        The Williams Companies        0.0   \n",
       "530            0.0        NaN      Alyeska Pipeline Service        2.0   \n",
       "593            0.0  31.017455  Enterprise Products Partners       24.0   \n",
       "474            0.0  37.057416             Plains GP Holding        0.0   \n",
       "\n",
       "     SIGNIFICANT_INCIDENTS  \n",
       "127                    0.0  \n",
       "583                    0.0  \n",
       "530                    1.0  \n",
       "593                   10.0  \n",
       "474                    0.0  "
      ]
     },
     "execution_count": 5,
     "metadata": {},
     "output_type": "execute_result"
    }
   ],
   "source": [
    "sample = pd.read_feather(sample_file)\n",
    "sample.sample(5)"
   ]
  },
  {
   "cell_type": "code",
   "execution_count": 6,
   "metadata": {},
   "outputs": [],
   "source": [
    "pipelines_2010_raw = pd.read_feather(pipelines_2010_raw_file)"
   ]
  },
  {
   "cell_type": "markdown",
   "metadata": {},
   "source": [
    "## 8.1 Functions for analysis"
   ]
  },
  {
   "cell_type": "code",
   "execution_count": 7,
   "metadata": {},
   "outputs": [
    {
     "data": {
      "text/plain": [
       "[{'name': 'EXXONMOBIL PIPELINE CO', 'start_year': 2010, 'end_year': 2018}]"
      ]
     },
     "execution_count": 7,
     "metadata": {},
     "output_type": "execute_result"
    }
   ],
   "source": [
    "from functools import partial\n",
    "\n",
    "def find_info(OPERATOR_ID, info_col: str, title: str, df = pipelines_2010_raw, id_col = 'OPERATOR_ID', \n",
    "              year_col = 'REPORT_YEAR', fuzzy=False):\n",
    "    from fuzzywuzzy import fuzz\n",
    "    \n",
    "    values = np.unique(df[df[id_col] == int(OPERATOR_ID)][info_col]).tolist()\n",
    "    result = []\n",
    "    for value in values:\n",
    "        start_year = df[df[info_col] == value][year_col].min()\n",
    "        end_year = df[df[info_col] == value][year_col].max()\n",
    "        result = result + [{title: value, 'start_year': start_year, 'end_year': end_year}]\n",
    "        \n",
    "    if fuzzy and len(result) == 2 and fuzz.ratio(result[0][title].lower(), result[1][title].lower()) >= 95:\n",
    "            result = [result[0]]\n",
    "            \n",
    "    return(result)\n",
    "\n",
    "find_address = partial(find_info, info_col='PARTA4STREET', title='address')\n",
    "find_names = partial(find_info, info_col='PARTA2NAMEOFCOMP', title='name', fuzzy=True)\n",
    "find_names('4906')"
   ]
  },
  {
   "cell_type": "code",
   "execution_count": 8,
   "metadata": {},
   "outputs": [
    {
     "data": {
      "text/plain": [
       "2113.75"
      ]
     },
     "execution_count": 8,
     "metadata": {},
     "output_type": "execute_result"
    }
   ],
   "source": [
    "def find_total_miles_year(OPERATOR_ID, year, df = pipelines_2010_raw, year_col = 'REPORT_YEAR', \n",
    "                          id_col = 'OPERATOR_ID', miles_col='PARTBHCATOTAL'):\n",
    "    observations = df.loc[(df[year_col] == year) & (df[id_col] == int(OPERATOR_ID))][miles_col]\n",
    "    return observations.sum()\n",
    "\n",
    "find_total_miles_year('4906', 2015)"
   ]
  },
  {
   "cell_type": "code",
   "execution_count": 9,
   "metadata": {},
   "outputs": [
    {
     "data": {
      "text/plain": [
       "[[2013, 2944.4], [2014, 2343.06], [2015, 2113.75], [2016, 2590.17]]"
      ]
     },
     "execution_count": 9,
     "metadata": {},
     "output_type": "execute_result"
    }
   ],
   "source": [
    "def find_total_miles(OPERATOR_ID, years, df = pipelines_2010_raw, year_col = 'REPORT_YEAR', miles_col='PARTBHCATOTAL'):\n",
    "    result = []\n",
    "    for year in years:\n",
    "        result.append([year, find_total_miles_year(OPERATOR_ID, year)])\n",
    "    return(result)\n",
    "\n",
    "find_total_miles('4906', range(2013, 2017))"
   ]
  },
  {
   "cell_type": "markdown",
   "metadata": {},
   "source": [
    "## 8.2 Iterate over issues and resolve them one at a time"
   ]
  },
  {
   "cell_type": "markdown",
   "metadata": {},
   "source": [
    "We use the dictionary \"company groups\" to capture any companies we have to combine to form one observation."
   ]
  },
  {
   "cell_type": "markdown",
   "metadata": {},
   "source": [
    "### Store results in"
   ]
  },
  {
   "cell_type": "code",
   "execution_count": 10,
   "metadata": {},
   "outputs": [],
   "source": [
    "company_groups = pd.DataFrame()\n",
    "\n",
    "def add_company_group(name: str, members: list, df = company_groups):\n",
    "    new_group = pd.DataFrame({'members': members})\n",
    "    new_group['name'] = name\n",
    "    df = df.append(new_group, ignore_index=True)\n",
    "    return df"
   ]
  },
  {
   "cell_type": "code",
   "execution_count": 11,
   "metadata": {},
   "outputs": [],
   "source": [
    "m_as = pd.DataFrame()\n",
    "\n",
    "def add_m_a(name: str, members: list, df, start_year: str = None, end_year: str = None):\n",
    "    new_group = pd.DataFrame({'members': members})\n",
    "    new_group['name'] = name\n",
    "    \n",
    "    if start_year:\n",
    "        new_group['start_year'] = start_year\n",
    "    if end_year:\n",
    "        new_group['end_year'] = end_year\n",
    "    \n",
    "    df = df.append(new_group, sort=False, ignore_index=True)\n",
    "    return df"
   ]
  },
  {
   "cell_type": "code",
   "execution_count": 12,
   "metadata": {},
   "outputs": [],
   "source": [
    "spin_offs = []"
   ]
  },
  {
   "cell_type": "markdown",
   "metadata": {},
   "source": [
    "### 8.2.1 Enterprise Products Operating"
   ]
  },
  {
   "cell_type": "code",
   "execution_count": 13,
   "metadata": {},
   "outputs": [
    {
     "name": "stdout",
     "output_type": "stream",
     "text": [
      "\n",
      "ENTERPRISE PRODUCTS OPERATING LLC (OPERATOR_ID 31618) has the same parent company as:\n",
      "\n",
      "\tDIXIE PIPELINE COMPANY LLC (OPERATOR_ID 3445)\n",
      "\n",
      "\tENTERPRISE CRUDE PIPELINE LLC (OPERATOR_ID 30829)\n",
      "\n"
     ]
    }
   ],
   "source": [
    "print(next(issues))"
   ]
  },
  {
   "cell_type": "markdown",
   "metadata": {},
   "source": [
    "### Gather infor_asation"
   ]
  },
  {
   "cell_type": "code",
   "execution_count": 14,
   "metadata": {},
   "outputs": [
    {
     "data": {
      "text/plain": [
       "[{'name': 'ENTERPRISE PRODUCTS OPERATING LLC',\n",
       "  'start_year': 2010,\n",
       "  'end_year': 2018}]"
      ]
     },
     "execution_count": 14,
     "metadata": {},
     "output_type": "execute_result"
    }
   ],
   "source": [
    "find_names('31618')"
   ]
  },
  {
   "cell_type": "code",
   "execution_count": 15,
   "metadata": {},
   "outputs": [
    {
     "data": {
      "text/plain": [
       "[{'name': 'ENTERPRISE CRUDE PIPELINE LLC',\n",
       "  'start_year': 2010,\n",
       "  'end_year': 2018}]"
      ]
     },
     "execution_count": 15,
     "metadata": {},
     "output_type": "execute_result"
    }
   ],
   "source": [
    "find_names('30829')"
   ]
  },
  {
   "cell_type": "code",
   "execution_count": 16,
   "metadata": {},
   "outputs": [
    {
     "data": {
      "text/plain": [
       "[{'name': 'DIXIE PIPELINE', 'start_year': 2010, 'end_year': 2010},\n",
       " {'name': 'DIXIE PIPELINE COMPANY LLC', 'start_year': 2011, 'end_year': 2018}]"
      ]
     },
     "execution_count": 16,
     "metadata": {},
     "output_type": "execute_result"
    }
   ],
   "source": [
    "find_names('3445')"
   ]
  },
  {
   "cell_type": "markdown",
   "metadata": {},
   "source": [
    "### Decision"
   ]
  },
  {
   "cell_type": "markdown",
   "metadata": {},
   "source": [
    "Enterprise products partners aqcuired a majority stake in Dixie Pipelines in 2005. Enterprise Crude Pipeline is a wholly owned subsidiary."
   ]
  },
  {
   "cell_type": "code",
   "execution_count": 17,
   "metadata": {},
   "outputs": [
    {
     "data": {
      "text/html": [
       "<div>\n",
       "<style scoped>\n",
       "    .dataframe tbody tr th:only-of-type {\n",
       "        vertical-align: middle;\n",
       "    }\n",
       "\n",
       "    .dataframe tbody tr th {\n",
       "        vertical-align: top;\n",
       "    }\n",
       "\n",
       "    .dataframe thead th {\n",
       "        text-align: right;\n",
       "    }\n",
       "</style>\n",
       "<table border=\"1\" class=\"dataframe\">\n",
       "  <thead>\n",
       "    <tr style=\"text-align: right;\">\n",
       "      <th></th>\n",
       "      <th>members</th>\n",
       "      <th>name</th>\n",
       "    </tr>\n",
       "  </thead>\n",
       "  <tbody>\n",
       "    <tr>\n",
       "      <th>0</th>\n",
       "      <td>31618</td>\n",
       "      <td>Enterprise Products (Group)</td>\n",
       "    </tr>\n",
       "    <tr>\n",
       "      <th>1</th>\n",
       "      <td>30829</td>\n",
       "      <td>Enterprise Products (Group)</td>\n",
       "    </tr>\n",
       "    <tr>\n",
       "      <th>2</th>\n",
       "      <td>3445</td>\n",
       "      <td>Enterprise Products (Group)</td>\n",
       "    </tr>\n",
       "  </tbody>\n",
       "</table>\n",
       "</div>"
      ],
      "text/plain": [
       "  members                         name\n",
       "0   31618  Enterprise Products (Group)\n",
       "1   30829  Enterprise Products (Group)\n",
       "2    3445  Enterprise Products (Group)"
      ]
     },
     "execution_count": 17,
     "metadata": {},
     "output_type": "execute_result"
    }
   ],
   "source": [
    "company_groups = add_company_group('Enterprise Products (Group)', ['31618', '30829', '3445'], company_groups)\n",
    "company_groups"
   ]
  },
  {
   "cell_type": "markdown",
   "metadata": {},
   "source": [
    "### 8.2.2 Oneok NGL"
   ]
  },
  {
   "cell_type": "code",
   "execution_count": 18,
   "metadata": {},
   "outputs": [
    {
     "name": "stdout",
     "output_type": "stream",
     "text": [
      "\n",
      "ONEOK NGL PIPELINE, LLC (OPERATOR_ID 32109) has changed its name:\n",
      "\n",
      "\tWas named ONEOK NGL PIPELINE LP from 2010 to 2011.\n",
      "\n",
      "\tWas named ONEOK NGL PIPELINE, LLC from 2012 to 2018.\n",
      "\n"
     ]
    }
   ],
   "source": [
    "print(next(issues))"
   ]
  },
  {
   "cell_type": "markdown",
   "metadata": {},
   "source": [
    "No action necessary."
   ]
  },
  {
   "cell_type": "markdown",
   "metadata": {},
   "source": [
    "### 8.2.3 Magellan"
   ]
  },
  {
   "cell_type": "code",
   "execution_count": 19,
   "metadata": {},
   "outputs": [
    {
     "name": "stdout",
     "output_type": "stream",
     "text": [
      "\n",
      "MAGELLAN PIPELINE COMPANY, LP (OPERATOR_ID 22610) has the same parent company as:\n",
      "\n",
      "\tMAGELLAN CRUDE OIL PIPELINE COMPANY, L.P. (OPERATOR_ID 39504)\n",
      "\n",
      "MAGELLAN PIPELINE COMPANY, LP (OPERATOR_ID 22610) may have a namesake or namesakes:\n",
      "\n",
      "\tMAGELLAN AMMONIA PIPELINE, L.P. (OPERATOR_ID 12105)\n",
      "\n",
      "\tMagellan Ammonia Pipeline, L.P. (OPERATOR_ID 12105)\n",
      "\n"
     ]
    }
   ],
   "source": [
    "print(next(issues))"
   ]
  },
  {
   "cell_type": "code",
   "execution_count": 20,
   "metadata": {},
   "outputs": [
    {
     "data": {
      "text/plain": [
       "[{'name': 'MAGELLAN PIPELINE COMPANY, LP',\n",
       "  'start_year': 2011,\n",
       "  'end_year': 2018}]"
      ]
     },
     "execution_count": 20,
     "metadata": {},
     "output_type": "execute_result"
    }
   ],
   "source": [
    "find_names('22610')"
   ]
  },
  {
   "cell_type": "code",
   "execution_count": 21,
   "metadata": {},
   "outputs": [
    {
     "data": {
      "text/plain": [
       "[{'name': 'MAGELLAN CRUDE OIL PIPELINE COMPANY, L.P.',\n",
       "  'start_year': 2016,\n",
       "  'end_year': 2018}]"
      ]
     },
     "execution_count": 21,
     "metadata": {},
     "output_type": "execute_result"
    }
   ],
   "source": [
    "find_names('39504')"
   ]
  },
  {
   "cell_type": "markdown",
   "metadata": {},
   "source": [
    "Why does this business unit only exist from 2016?"
   ]
  },
  {
   "cell_type": "code",
   "execution_count": 22,
   "metadata": {},
   "outputs": [
    {
     "data": {
      "text/plain": [
       "[{'name': 'MAGELLAN AMMONIA PIPELINE, L.P.',\n",
       "  'start_year': 2011,\n",
       "  'end_year': 2018}]"
      ]
     },
     "execution_count": 22,
     "metadata": {},
     "output_type": "execute_result"
    }
   ],
   "source": [
    "find_names('12105')"
   ]
  },
  {
   "cell_type": "code",
   "execution_count": 23,
   "metadata": {},
   "outputs": [
    {
     "data": {
      "text/plain": [
       "[[2014, 4505.5], [2015, 4493.25], [2016, 4370.52], [2017, 4403.66]]"
      ]
     },
     "execution_count": 23,
     "metadata": {},
     "output_type": "execute_result"
    }
   ],
   "source": [
    "find_total_miles('22610', range(2014, 2018))"
   ]
  },
  {
   "cell_type": "code",
   "execution_count": 24,
   "metadata": {},
   "outputs": [
    {
     "data": {
      "text/plain": [
       "[[2014, 244.5], [2015, 245.0], [2016, 245.61], [2017, 244.74]]"
      ]
     },
     "execution_count": 24,
     "metadata": {},
     "output_type": "execute_result"
    }
   ],
   "source": [
    "find_total_miles('12105', range(2014, 2018))"
   ]
  },
  {
   "cell_type": "code",
   "execution_count": 25,
   "metadata": {},
   "outputs": [
    {
     "data": {
      "text/plain": [
       "[[2016, 223.68], [2017, 234.02], [2018, 234.07]]"
      ]
     },
     "execution_count": 25,
     "metadata": {},
     "output_type": "execute_result"
    }
   ],
   "source": [
    "find_total_miles('39504', range(2016, 2019))"
   ]
  },
  {
   "cell_type": "markdown",
   "metadata": {},
   "source": [
    "A search on LexisNexis Dossiers yielded no insights on the subsidiaries being outside acquisitions that were merged in."
   ]
  },
  {
   "cell_type": "markdown",
   "metadata": {},
   "source": [
    "Magellan acquired some pipelines from BP in September 2010, which might explain the start of reporting in 2011. https://www.magellanlp.com/uploadedFiles/Investors/Financials/2011/annual%20report%202011.pdf."
   ]
  },
  {
   "cell_type": "markdown",
   "metadata": {},
   "source": [
    "### Decision"
   ]
  },
  {
   "cell_type": "code",
   "execution_count": 26,
   "metadata": {},
   "outputs": [
    {
     "data": {
      "text/html": [
       "<div>\n",
       "<style scoped>\n",
       "    .dataframe tbody tr th:only-of-type {\n",
       "        vertical-align: middle;\n",
       "    }\n",
       "\n",
       "    .dataframe tbody tr th {\n",
       "        vertical-align: top;\n",
       "    }\n",
       "\n",
       "    .dataframe thead th {\n",
       "        text-align: right;\n",
       "    }\n",
       "</style>\n",
       "<table border=\"1\" class=\"dataframe\">\n",
       "  <thead>\n",
       "    <tr style=\"text-align: right;\">\n",
       "      <th></th>\n",
       "      <th>members</th>\n",
       "      <th>name</th>\n",
       "    </tr>\n",
       "  </thead>\n",
       "  <tbody>\n",
       "    <tr>\n",
       "      <th>0</th>\n",
       "      <td>31618</td>\n",
       "      <td>Enterprise Products (Group)</td>\n",
       "    </tr>\n",
       "    <tr>\n",
       "      <th>1</th>\n",
       "      <td>30829</td>\n",
       "      <td>Enterprise Products (Group)</td>\n",
       "    </tr>\n",
       "    <tr>\n",
       "      <th>2</th>\n",
       "      <td>3445</td>\n",
       "      <td>Enterprise Products (Group)</td>\n",
       "    </tr>\n",
       "    <tr>\n",
       "      <th>3</th>\n",
       "      <td>22610</td>\n",
       "      <td>Magellan (Group)</td>\n",
       "    </tr>\n",
       "    <tr>\n",
       "      <th>4</th>\n",
       "      <td>12105</td>\n",
       "      <td>Magellan (Group)</td>\n",
       "    </tr>\n",
       "    <tr>\n",
       "      <th>5</th>\n",
       "      <td>39504</td>\n",
       "      <td>Magellan (Group)</td>\n",
       "    </tr>\n",
       "  </tbody>\n",
       "</table>\n",
       "</div>"
      ],
      "text/plain": [
       "  members                         name\n",
       "0   31618  Enterprise Products (Group)\n",
       "1   30829  Enterprise Products (Group)\n",
       "2    3445  Enterprise Products (Group)\n",
       "3   22610             Magellan (Group)\n",
       "4   12105             Magellan (Group)\n",
       "5   39504             Magellan (Group)"
      ]
     },
     "execution_count": 26,
     "metadata": {},
     "output_type": "execute_result"
    }
   ],
   "source": [
    "company_groups = add_company_group('Magellan (Group)', ['22610', '12105', '39504'], company_groups)\n",
    "company_groups"
   ]
  },
  {
   "cell_type": "markdown",
   "metadata": {},
   "source": [
    "### 8.2.4 Phillips 66"
   ]
  },
  {
   "cell_type": "code",
   "execution_count": 27,
   "metadata": {},
   "outputs": [
    {
     "name": "stdout",
     "output_type": "stream",
     "text": [
      "\n",
      "PHILLIPS 66 PIPELINE LLC (OPERATOR_ID 31684) has changed its name:\n",
      "\n",
      "\tWas named CONOCOPHILLIPS from 2010 to 2010.\n",
      "\n",
      "\tWas named PHILLIPS 66 PIPELINE LLC from 2011 to 2018.\n",
      "\n",
      "PHILLIPS 66 PIPELINE LLC (OPERATOR_ID 31684) has the same parent company as:\n",
      "\n",
      "\tPHILLIPS 66 COMPANY - SWEENY REFINERY (OPERATOR_ID 15485)\n",
      "\n",
      "PHILLIPS 66 PIPELINE LLC (OPERATOR_ID 31684) may have a namesake or namesakes:\n",
      "\n",
      "\tCONOCOPHILLIPS COMPANY (OPERATOR_ID 15485)\n",
      "\n",
      "\tPHILLIPS 66 COMPANY (OPERATOR_ID 15485)\n",
      "\n",
      "\tCONOCOPHILLIPS COMPANY (OPERATOR_ID 15485)\n",
      "\n"
     ]
    }
   ],
   "source": [
    "print(next(issues))"
   ]
  },
  {
   "cell_type": "markdown",
   "metadata": {},
   "source": [
    "Downstream business was spun off in 2011 as Phillips 66."
   ]
  },
  {
   "cell_type": "code",
   "execution_count": 28,
   "metadata": {},
   "outputs": [
    {
     "data": {
      "text/plain": [
       "[{'name': 'CONOCOPHILLIPS COMPANY', 'start_year': 2010, 'end_year': 2010},\n",
       " {'name': 'PHILLIPS 66 COMPANY', 'start_year': 2011, 'end_year': 2011},\n",
       " {'name': 'PHILLIPS 66 COMPANY - SWEENY REFINERY',\n",
       "  'start_year': 2012,\n",
       "  'end_year': 2018}]"
      ]
     },
     "execution_count": 28,
     "metadata": {},
     "output_type": "execute_result"
    }
   ],
   "source": [
    "find_names('15485')"
   ]
  },
  {
   "cell_type": "code",
   "execution_count": 29,
   "metadata": {},
   "outputs": [
    {
     "data": {
      "text/plain": [
       "[{'name': 'CONOCOPHILLIPS', 'start_year': 2010, 'end_year': 2010},\n",
       " {'name': 'PHILLIPS 66 PIPELINE LLC', 'start_year': 2011, 'end_year': 2018}]"
      ]
     },
     "execution_count": 29,
     "metadata": {},
     "output_type": "execute_result"
    }
   ],
   "source": [
    "find_names('31684')"
   ]
  },
  {
   "cell_type": "code",
   "execution_count": 30,
   "metadata": {},
   "outputs": [
    {
     "data": {
      "text/plain": [
       "[[2010, 4179.09],\n",
       " [2011, 3967.0699999999997],\n",
       " [2012, 4036.4300000000003],\n",
       " [2013, 4050.83]]"
      ]
     },
     "execution_count": 30,
     "metadata": {},
     "output_type": "execute_result"
    }
   ],
   "source": [
    "find_total_miles('31684', range(2010, 2014))"
   ]
  },
  {
   "cell_type": "code",
   "execution_count": 31,
   "metadata": {},
   "outputs": [
    {
     "data": {
      "text/plain": [
       "[[2010, 340.23699999999997],\n",
       " [2011, 340.23699999999997],\n",
       " [2012, 125.0],\n",
       " [2013, 95.96000000000001]]"
      ]
     },
     "execution_count": 31,
     "metadata": {},
     "output_type": "execute_result"
    }
   ],
   "source": [
    "find_total_miles('15485', range(2010, 2014))"
   ]
  },
  {
   "cell_type": "code",
   "execution_count": 32,
   "metadata": {},
   "outputs": [
    {
     "data": {
      "text/html": [
       "<div>\n",
       "<style scoped>\n",
       "    .dataframe tbody tr th:only-of-type {\n",
       "        vertical-align: middle;\n",
       "    }\n",
       "\n",
       "    .dataframe tbody tr th {\n",
       "        vertical-align: top;\n",
       "    }\n",
       "\n",
       "    .dataframe thead th {\n",
       "        text-align: right;\n",
       "    }\n",
       "</style>\n",
       "<table border=\"1\" class=\"dataframe\">\n",
       "  <thead>\n",
       "    <tr style=\"text-align: right;\">\n",
       "      <th></th>\n",
       "      <th>gvkey</th>\n",
       "      <th>conm</th>\n",
       "      <th>tic</th>\n",
       "      <th>cusip</th>\n",
       "      <th>cik</th>\n",
       "      <th>sic</th>\n",
       "      <th>naics</th>\n",
       "      <th>gsubind</th>\n",
       "      <th>gind</th>\n",
       "      <th>year1</th>\n",
       "      <th>year2</th>\n",
       "    </tr>\n",
       "  </thead>\n",
       "  <tbody>\n",
       "  </tbody>\n",
       "</table>\n",
       "</div>"
      ],
      "text/plain": [
       "Empty DataFrame\n",
       "Columns: [gvkey, conm, tic, cusip, cik, sic, naics, gsubind, gind, year1, year2]\n",
       "Index: []"
      ]
     },
     "execution_count": 32,
     "metadata": {},
     "output_type": "execute_result"
    }
   ],
   "source": [
    "db.raw_sql(\"SELECT * FROM compa.names WHERE lower(conm) LIKE '%%sweeny%%' LIMIT 10\")"
   ]
  },
  {
   "cell_type": "markdown",
   "metadata": {},
   "source": [
    "Sweeny refinery is not an independent organizations. We will reconsolidate the two organizations."
   ]
  },
  {
   "cell_type": "markdown",
   "metadata": {},
   "source": [
    "### Decision"
   ]
  },
  {
   "cell_type": "code",
   "execution_count": 33,
   "metadata": {},
   "outputs": [
    {
     "data": {
      "text/html": [
       "<div>\n",
       "<style scoped>\n",
       "    .dataframe tbody tr th:only-of-type {\n",
       "        vertical-align: middle;\n",
       "    }\n",
       "\n",
       "    .dataframe tbody tr th {\n",
       "        vertical-align: top;\n",
       "    }\n",
       "\n",
       "    .dataframe thead th {\n",
       "        text-align: right;\n",
       "    }\n",
       "</style>\n",
       "<table border=\"1\" class=\"dataframe\">\n",
       "  <thead>\n",
       "    <tr style=\"text-align: right;\">\n",
       "      <th></th>\n",
       "      <th>members</th>\n",
       "      <th>name</th>\n",
       "    </tr>\n",
       "  </thead>\n",
       "  <tbody>\n",
       "    <tr>\n",
       "      <th>0</th>\n",
       "      <td>31618</td>\n",
       "      <td>Enterprise Products (Group)</td>\n",
       "    </tr>\n",
       "    <tr>\n",
       "      <th>1</th>\n",
       "      <td>30829</td>\n",
       "      <td>Enterprise Products (Group)</td>\n",
       "    </tr>\n",
       "    <tr>\n",
       "      <th>2</th>\n",
       "      <td>3445</td>\n",
       "      <td>Enterprise Products (Group)</td>\n",
       "    </tr>\n",
       "    <tr>\n",
       "      <th>3</th>\n",
       "      <td>22610</td>\n",
       "      <td>Magellan (Group)</td>\n",
       "    </tr>\n",
       "    <tr>\n",
       "      <th>4</th>\n",
       "      <td>12105</td>\n",
       "      <td>Magellan (Group)</td>\n",
       "    </tr>\n",
       "    <tr>\n",
       "      <th>5</th>\n",
       "      <td>39504</td>\n",
       "      <td>Magellan (Group)</td>\n",
       "    </tr>\n",
       "    <tr>\n",
       "      <th>6</th>\n",
       "      <td>15485</td>\n",
       "      <td>Phillips 66 (Group)</td>\n",
       "    </tr>\n",
       "    <tr>\n",
       "      <th>7</th>\n",
       "      <td>31684</td>\n",
       "      <td>Phillips 66 (Group)</td>\n",
       "    </tr>\n",
       "  </tbody>\n",
       "</table>\n",
       "</div>"
      ],
      "text/plain": [
       "  members                         name\n",
       "0   31618  Enterprise Products (Group)\n",
       "1   30829  Enterprise Products (Group)\n",
       "2    3445  Enterprise Products (Group)\n",
       "3   22610             Magellan (Group)\n",
       "4   12105             Magellan (Group)\n",
       "5   39504             Magellan (Group)\n",
       "6   15485          Phillips 66 (Group)\n",
       "7   31684          Phillips 66 (Group)"
      ]
     },
     "execution_count": 33,
     "metadata": {},
     "output_type": "execute_result"
    }
   ],
   "source": [
    "company_groups = add_company_group('Phillips 66 (Group)', ['15485', '31684'], company_groups)\n",
    "company_groups"
   ]
  },
  {
   "cell_type": "code",
   "execution_count": 34,
   "metadata": {},
   "outputs": [],
   "source": [
    "spin_offs.append({'name': 'Phillips 66 (Group)', 'year': '2011'})"
   ]
  },
  {
   "cell_type": "markdown",
   "metadata": {},
   "source": [
    "### 8.2.5 Buckeye"
   ]
  },
  {
   "cell_type": "code",
   "execution_count": 35,
   "metadata": {},
   "outputs": [
    {
     "name": "stdout",
     "output_type": "stream",
     "text": [
      "\n",
      "BUCKEYE PARTNERS, LP (OPERATOR_ID 1845) has the same parent company as:\n",
      "\n",
      "\tBUCKEYE DEVELOPMENT & LOGISTICS, LLC (OPERATOR_ID 31371)\n",
      "\n"
     ]
    }
   ],
   "source": [
    "print(next(issues))"
   ]
  },
  {
   "cell_type": "code",
   "execution_count": 36,
   "metadata": {},
   "outputs": [
    {
     "data": {
      "text/html": [
       "<div>\n",
       "<style scoped>\n",
       "    .dataframe tbody tr th:only-of-type {\n",
       "        vertical-align: middle;\n",
       "    }\n",
       "\n",
       "    .dataframe tbody tr th {\n",
       "        vertical-align: top;\n",
       "    }\n",
       "\n",
       "    .dataframe thead th {\n",
       "        text-align: right;\n",
       "    }\n",
       "</style>\n",
       "<table border=\"1\" class=\"dataframe\">\n",
       "  <thead>\n",
       "    <tr style=\"text-align: right;\">\n",
       "      <th></th>\n",
       "      <th>gvkey</th>\n",
       "      <th>conm</th>\n",
       "      <th>tic</th>\n",
       "      <th>cusip</th>\n",
       "      <th>cik</th>\n",
       "      <th>sic</th>\n",
       "      <th>naics</th>\n",
       "      <th>gsubind</th>\n",
       "      <th>gind</th>\n",
       "      <th>year1</th>\n",
       "      <th>year2</th>\n",
       "    </tr>\n",
       "  </thead>\n",
       "  <tbody>\n",
       "    <tr>\n",
       "      <th>0</th>\n",
       "      <td>002451</td>\n",
       "      <td>BUCKEYE INTL INC</td>\n",
       "      <td>BEYE.</td>\n",
       "      <td>118169101</td>\n",
       "      <td>0000015070</td>\n",
       "      <td>3320</td>\n",
       "      <td>None</td>\n",
       "      <td>None</td>\n",
       "      <td>None</td>\n",
       "      <td>1965.0</td>\n",
       "      <td>1979.0</td>\n",
       "    </tr>\n",
       "    <tr>\n",
       "      <th>1</th>\n",
       "      <td>013526</td>\n",
       "      <td>BUCKEYE PARTNERS LP</td>\n",
       "      <td>BPL</td>\n",
       "      <td>118230101</td>\n",
       "      <td>0000805022</td>\n",
       "      <td>4610</td>\n",
       "      <td>486910</td>\n",
       "      <td>10102040</td>\n",
       "      <td>101020</td>\n",
       "      <td>1986.0</td>\n",
       "      <td>2018.0</td>\n",
       "    </tr>\n",
       "    <tr>\n",
       "      <th>2</th>\n",
       "      <td>024417</td>\n",
       "      <td>BUCKEYE COMMUNICATIONS INC</td>\n",
       "      <td>3BKCIE</td>\n",
       "      <td>118154202</td>\n",
       "      <td>0000822822</td>\n",
       "      <td>5130</td>\n",
       "      <td>4223</td>\n",
       "      <td>25501010</td>\n",
       "      <td>255010</td>\n",
       "      <td>1989.0</td>\n",
       "      <td>1994.0</td>\n",
       "    </tr>\n",
       "    <tr>\n",
       "      <th>3</th>\n",
       "      <td>061596</td>\n",
       "      <td>BUCKEYE TECHNOLOGIES INC</td>\n",
       "      <td>BKI.1</td>\n",
       "      <td>118255108</td>\n",
       "      <td>0000899597</td>\n",
       "      <td>2611</td>\n",
       "      <td>322110</td>\n",
       "      <td>15105020</td>\n",
       "      <td>151050</td>\n",
       "      <td>1993.0</td>\n",
       "      <td>2013.0</td>\n",
       "    </tr>\n",
       "    <tr>\n",
       "      <th>4</th>\n",
       "      <td>174316</td>\n",
       "      <td>BUCKEYE GP HOLDINGS LP</td>\n",
       "      <td>BGH.2</td>\n",
       "      <td>118167105</td>\n",
       "      <td>0001359055</td>\n",
       "      <td>5172</td>\n",
       "      <td>424720</td>\n",
       "      <td>10102040</td>\n",
       "      <td>101020</td>\n",
       "      <td>2001.0</td>\n",
       "      <td>2009.0</td>\n",
       "    </tr>\n",
       "  </tbody>\n",
       "</table>\n",
       "</div>"
      ],
      "text/plain": [
       "    gvkey                        conm     tic      cusip         cik   sic  \\\n",
       "0  002451            BUCKEYE INTL INC   BEYE.  118169101  0000015070  3320   \n",
       "1  013526         BUCKEYE PARTNERS LP     BPL  118230101  0000805022  4610   \n",
       "2  024417  BUCKEYE COMMUNICATIONS INC  3BKCIE  118154202  0000822822  5130   \n",
       "3  061596    BUCKEYE TECHNOLOGIES INC   BKI.1  118255108  0000899597  2611   \n",
       "4  174316      BUCKEYE GP HOLDINGS LP   BGH.2  118167105  0001359055  5172   \n",
       "\n",
       "    naics   gsubind    gind   year1   year2  \n",
       "0    None      None    None  1965.0  1979.0  \n",
       "1  486910  10102040  101020  1986.0  2018.0  \n",
       "2    4223  25501010  255010  1989.0  1994.0  \n",
       "3  322110  15105020  151050  1993.0  2013.0  \n",
       "4  424720  10102040  101020  2001.0  2009.0  "
      ]
     },
     "execution_count": 36,
     "metadata": {},
     "output_type": "execute_result"
    }
   ],
   "source": [
    "db.raw_sql(\"SELECT * FROM compa.names WHERE lower(conm) LIKE '%%buckeye%%' LIMIT 10\")"
   ]
  },
  {
   "cell_type": "markdown",
   "metadata": {},
   "source": [
    "### Decision"
   ]
  },
  {
   "cell_type": "markdown",
   "metadata": {},
   "source": [
    "LexisNexis does not indicate that Buckeye Development & Logistics is an outside acquisition by Buckeye Partners. We consolidate the two organizations into one."
   ]
  },
  {
   "cell_type": "code",
   "execution_count": 37,
   "metadata": {},
   "outputs": [
    {
     "data": {
      "text/html": [
       "<div>\n",
       "<style scoped>\n",
       "    .dataframe tbody tr th:only-of-type {\n",
       "        vertical-align: middle;\n",
       "    }\n",
       "\n",
       "    .dataframe tbody tr th {\n",
       "        vertical-align: top;\n",
       "    }\n",
       "\n",
       "    .dataframe thead th {\n",
       "        text-align: right;\n",
       "    }\n",
       "</style>\n",
       "<table border=\"1\" class=\"dataframe\">\n",
       "  <thead>\n",
       "    <tr style=\"text-align: right;\">\n",
       "      <th></th>\n",
       "      <th>members</th>\n",
       "      <th>name</th>\n",
       "    </tr>\n",
       "  </thead>\n",
       "  <tbody>\n",
       "    <tr>\n",
       "      <th>5</th>\n",
       "      <td>39504</td>\n",
       "      <td>Magellan (Group)</td>\n",
       "    </tr>\n",
       "    <tr>\n",
       "      <th>6</th>\n",
       "      <td>15485</td>\n",
       "      <td>Phillips 66 (Group)</td>\n",
       "    </tr>\n",
       "    <tr>\n",
       "      <th>7</th>\n",
       "      <td>31684</td>\n",
       "      <td>Phillips 66 (Group)</td>\n",
       "    </tr>\n",
       "    <tr>\n",
       "      <th>8</th>\n",
       "      <td>1845</td>\n",
       "      <td>Buckeye (Group)</td>\n",
       "    </tr>\n",
       "    <tr>\n",
       "      <th>9</th>\n",
       "      <td>31371</td>\n",
       "      <td>Buckeye (Group)</td>\n",
       "    </tr>\n",
       "  </tbody>\n",
       "</table>\n",
       "</div>"
      ],
      "text/plain": [
       "  members                 name\n",
       "5   39504     Magellan (Group)\n",
       "6   15485  Phillips 66 (Group)\n",
       "7   31684  Phillips 66 (Group)\n",
       "8    1845      Buckeye (Group)\n",
       "9   31371      Buckeye (Group)"
      ]
     },
     "execution_count": 37,
     "metadata": {},
     "output_type": "execute_result"
    }
   ],
   "source": [
    "company_groups = add_company_group('Buckeye (Group)', ['1845', '31371'], company_groups)\n",
    "company_groups.tail()"
   ]
  },
  {
   "cell_type": "markdown",
   "metadata": {},
   "source": [
    "### 8.2.5 Sunoco"
   ]
  },
  {
   "cell_type": "code",
   "execution_count": 38,
   "metadata": {},
   "outputs": [
    {
     "name": "stdout",
     "output_type": "stream",
     "text": [
      "\n",
      "SUNOCO PIPELINE L.P. (OPERATOR_ID 18718) has the same parent company as:\n",
      "\n",
      "\tMID - VALLEY PIPELINE CO (OPERATOR_ID 12470)\n",
      "\n",
      "\tENERGY TRANSFER COMPANY (OPERATOR_ID 32099)\n",
      "\n",
      "\tINLAND CORPORATION (OPERATOR_ID 32683)\n",
      "\n",
      "\tDAPL-ETCO OPERATIONS MANAGEMENT, LLC (OPERATOR_ID 39205)\n",
      "\n",
      "\tPERMIAN EXPRESS PARTNERS LLC (OPERATOR_ID 39596)\n",
      "\n"
     ]
    }
   ],
   "source": [
    "print(next(issues))"
   ]
  },
  {
   "cell_type": "markdown",
   "metadata": {},
   "source": [
    "### Names"
   ]
  },
  {
   "cell_type": "code",
   "execution_count": 39,
   "metadata": {},
   "outputs": [
    {
     "data": {
      "text/plain": [
       "[{'name': 'SUNOCO PIPELINE L.P.', 'start_year': 2010, 'end_year': 2018}]"
      ]
     },
     "execution_count": 39,
     "metadata": {},
     "output_type": "execute_result"
    }
   ],
   "source": [
    "find_names('18718')"
   ]
  },
  {
   "cell_type": "code",
   "execution_count": 40,
   "metadata": {},
   "outputs": [
    {
     "data": {
      "text/plain": [
       "[{'name': 'MID - VALLEY PIPELINE CO', 'start_year': 2010, 'end_year': 2018}]"
      ]
     },
     "execution_count": 40,
     "metadata": {},
     "output_type": "execute_result"
    }
   ],
   "source": [
    "find_names('12470')"
   ]
  },
  {
   "cell_type": "code",
   "execution_count": 41,
   "metadata": {},
   "outputs": [
    {
     "data": {
      "text/plain": [
       "[[2010, 542.0],\n",
       " [2011, 542.0],\n",
       " [2012, 542.0],\n",
       " [2013, 633.0],\n",
       " [2014, 656.0],\n",
       " [2015, 662.0],\n",
       " [2016, 632.0],\n",
       " [2017, 650.0],\n",
       " [2018, 650.47]]"
      ]
     },
     "execution_count": 41,
     "metadata": {},
     "output_type": "execute_result"
    }
   ],
   "source": [
    "find_total_miles('12470', range(2010, 2019))"
   ]
  },
  {
   "cell_type": "markdown",
   "metadata": {},
   "source": [
    "Sunoco has a controlling stake in Mid-Valley Pipeline Company. Some stakes were acquired in 2010, but Sunoco had a controlling stake even before that transaction."
   ]
  },
  {
   "cell_type": "code",
   "execution_count": 42,
   "metadata": {},
   "outputs": [
    {
     "data": {
      "text/plain": [
       "[{'name': 'ENERGY TRANSFER COMPANY', 'start_year': 2011, 'end_year': 2018}]"
      ]
     },
     "execution_count": 42,
     "metadata": {},
     "output_type": "execute_result"
    }
   ],
   "source": [
    "find_names('32099')"
   ]
  },
  {
   "cell_type": "code",
   "execution_count": 43,
   "metadata": {},
   "outputs": [
    {
     "data": {
      "text/plain": [
       "[[2010, 0.0],\n",
       " [2011, 331.8],\n",
       " [2012, 463.2],\n",
       " [2013, 463.43],\n",
       " [2014, 460.89],\n",
       " [2015, 468.79],\n",
       " [2016, 744.4200000000001],\n",
       " [2017, 1310.0],\n",
       " [2018, 1295.11]]"
      ]
     },
     "execution_count": 43,
     "metadata": {},
     "output_type": "execute_result"
    }
   ],
   "source": [
    "find_total_miles('32099', range(2010, 2019))"
   ]
  },
  {
   "cell_type": "code",
   "execution_count": 44,
   "metadata": {},
   "outputs": [
    {
     "data": {
      "text/plain": [
       "[{'name': 'DAPL-ETCO OPERATIONS MANAGEMENT, LLC',\n",
       "  'start_year': 2017,\n",
       "  'end_year': 2018}]"
      ]
     },
     "execution_count": 44,
     "metadata": {},
     "output_type": "execute_result"
    }
   ],
   "source": [
    "find_names('39205')"
   ]
  },
  {
   "cell_type": "code",
   "execution_count": 45,
   "metadata": {},
   "outputs": [
    {
     "data": {
      "text/plain": [
       "[[2010, 0.0],\n",
       " [2011, 0.0],\n",
       " [2012, 0.0],\n",
       " [2013, 0.0],\n",
       " [2014, 0.0],\n",
       " [2015, 0.0],\n",
       " [2016, 0.0],\n",
       " [2017, 795.9],\n",
       " [2018, 950.64]]"
      ]
     },
     "execution_count": 45,
     "metadata": {},
     "output_type": "execute_result"
    }
   ],
   "source": [
    "find_total_miles('39205', range(2010, 2019))"
   ]
  },
  {
   "cell_type": "markdown",
   "metadata": {},
   "source": [
    "Dacota Access PipeLine - construction started in 2016."
   ]
  },
  {
   "cell_type": "code",
   "execution_count": 46,
   "metadata": {},
   "outputs": [
    {
     "data": {
      "text/plain": [
       "[{'name': 'PERMIAN EXPRESS PARTNERS LLC',\n",
       "  'start_year': 2017,\n",
       "  'end_year': 2018}]"
      ]
     },
     "execution_count": 46,
     "metadata": {},
     "output_type": "execute_result"
    }
   ],
   "source": [
    "find_names('39596')"
   ]
  },
  {
   "cell_type": "code",
   "execution_count": 47,
   "metadata": {},
   "outputs": [
    {
     "data": {
      "text/plain": [
       "[[2010, 0.0],\n",
       " [2011, 0.0],\n",
       " [2012, 0.0],\n",
       " [2013, 0.0],\n",
       " [2014, 0.0],\n",
       " [2015, 0.0],\n",
       " [2016, 0.0],\n",
       " [2017, 946.0],\n",
       " [2018, 946.62]]"
      ]
     },
     "execution_count": 47,
     "metadata": {},
     "output_type": "execute_result"
    }
   ],
   "source": [
    "find_total_miles('39596', range(2010, 2019))"
   ]
  },
  {
   "cell_type": "markdown",
   "metadata": {},
   "source": [
    "Permian express oil pipeline - wholly owned subsidiary of Sunoco, construction started in 2013 (https://www.sourcewatch.org/index.php/Permian_Express_Oil_Pipeline)."
   ]
  },
  {
   "cell_type": "code",
   "execution_count": 48,
   "metadata": {},
   "outputs": [
    {
     "data": {
      "text/plain": [
       "[{'name': 'INLAND CORPORATION', 'start_year': 2012, 'end_year': 2018}]"
      ]
     },
     "execution_count": 48,
     "metadata": {},
     "output_type": "execute_result"
    }
   ],
   "source": [
    "find_names('32683')"
   ]
  },
  {
   "cell_type": "code",
   "execution_count": 49,
   "metadata": {},
   "outputs": [
    {
     "data": {
      "text/plain": [
       "[[2010, 0.0], [2011, 0.0], [2012, 221.69], [2013, 264.0], [2014, 264.0]]"
      ]
     },
     "execution_count": 49,
     "metadata": {},
     "output_type": "execute_result"
    }
   ],
   "source": [
    "find_total_miles('32683', range(2010, 2015))"
   ]
  },
  {
   "cell_type": "markdown",
   "metadata": {},
   "source": [
    "Sunoco Logistics acquired Inland Corp from BP in 2011 (Mergerstat M&A database Deal Number 586584). BP did probably not report this part of their pipeline system as a separate entity, hence the organization showing up as new in the FERC database."
   ]
  },
  {
   "cell_type": "markdown",
   "metadata": {},
   "source": [
    "### Decision"
   ]
  },
  {
   "cell_type": "markdown",
   "metadata": {},
   "source": [
    "We list Sunoco (OPERATOR_ID 18718), Mid-Valley Pipeline (OPERATOR_ID 12470), Inland Corporation (OPERATOR_ID 32683), and Permian (OPERATOR_ID 39596) together as one company until 2017. Similarly, we list Energy Transfer (OPERATOR_ID 32099) and DAPL (OPERATOR_ID 39205) together until 2017. From 2017, we merge the two under the name of Sunoco."
   ]
  },
  {
   "cell_type": "code",
   "execution_count": 50,
   "metadata": {},
   "outputs": [
    {
     "data": {
      "text/html": [
       "<div>\n",
       "<style scoped>\n",
       "    .dataframe tbody tr th:only-of-type {\n",
       "        vertical-align: middle;\n",
       "    }\n",
       "\n",
       "    .dataframe tbody tr th {\n",
       "        vertical-align: top;\n",
       "    }\n",
       "\n",
       "    .dataframe thead th {\n",
       "        text-align: right;\n",
       "    }\n",
       "</style>\n",
       "<table border=\"1\" class=\"dataframe\">\n",
       "  <thead>\n",
       "    <tr style=\"text-align: right;\">\n",
       "      <th></th>\n",
       "      <th>members</th>\n",
       "      <th>name</th>\n",
       "    </tr>\n",
       "  </thead>\n",
       "  <tbody>\n",
       "    <tr>\n",
       "      <th>11</th>\n",
       "      <td>12470</td>\n",
       "      <td>Sunoco (Group)</td>\n",
       "    </tr>\n",
       "    <tr>\n",
       "      <th>12</th>\n",
       "      <td>39596</td>\n",
       "      <td>Sunoco (Group)</td>\n",
       "    </tr>\n",
       "    <tr>\n",
       "      <th>13</th>\n",
       "      <td>32683</td>\n",
       "      <td>Sunoco (Group)</td>\n",
       "    </tr>\n",
       "    <tr>\n",
       "      <th>14</th>\n",
       "      <td>32099</td>\n",
       "      <td>Energy Transfer (Group)</td>\n",
       "    </tr>\n",
       "    <tr>\n",
       "      <th>15</th>\n",
       "      <td>39205</td>\n",
       "      <td>Energy Transfer (Group)</td>\n",
       "    </tr>\n",
       "  </tbody>\n",
       "</table>\n",
       "</div>"
      ],
      "text/plain": [
       "   members                     name\n",
       "11   12470           Sunoco (Group)\n",
       "12   39596           Sunoco (Group)\n",
       "13   32683           Sunoco (Group)\n",
       "14   32099  Energy Transfer (Group)\n",
       "15   39205  Energy Transfer (Group)"
      ]
     },
     "execution_count": 50,
     "metadata": {},
     "output_type": "execute_result"
    }
   ],
   "source": [
    "# Sunoco\n",
    "company_groups = add_company_group('Sunoco (Group)', ['18718', '12470', '39596', '32683'], company_groups)\n",
    "\n",
    "# Tesoro\n",
    "company_groups = add_company_group('Energy Transfer (Group)', ['32099', '39205'], company_groups)\n",
    "company_groups.tail()"
   ]
  },
  {
   "cell_type": "code",
   "execution_count": 51,
   "metadata": {},
   "outputs": [
    {
     "data": {
      "text/html": [
       "<div>\n",
       "<style scoped>\n",
       "    .dataframe tbody tr th:only-of-type {\n",
       "        vertical-align: middle;\n",
       "    }\n",
       "\n",
       "    .dataframe tbody tr th {\n",
       "        vertical-align: top;\n",
       "    }\n",
       "\n",
       "    .dataframe thead th {\n",
       "        text-align: right;\n",
       "    }\n",
       "</style>\n",
       "<table border=\"1\" class=\"dataframe\">\n",
       "  <thead>\n",
       "    <tr style=\"text-align: right;\">\n",
       "      <th></th>\n",
       "      <th>members</th>\n",
       "      <th>name</th>\n",
       "      <th>start_year</th>\n",
       "    </tr>\n",
       "  </thead>\n",
       "  <tbody>\n",
       "    <tr>\n",
       "      <th>0</th>\n",
       "      <td>Sunoco (Group)</td>\n",
       "      <td>Sunoco (Group)</td>\n",
       "      <td>2017</td>\n",
       "    </tr>\n",
       "    <tr>\n",
       "      <th>1</th>\n",
       "      <td>Energy Transfer (Group)</td>\n",
       "      <td>Sunoco (Group)</td>\n",
       "      <td>2017</td>\n",
       "    </tr>\n",
       "  </tbody>\n",
       "</table>\n",
       "</div>"
      ],
      "text/plain": [
       "                   members            name start_year\n",
       "0           Sunoco (Group)  Sunoco (Group)       2017\n",
       "1  Energy Transfer (Group)  Sunoco (Group)       2017"
      ]
     },
     "execution_count": 51,
     "metadata": {},
     "output_type": "execute_result"
    }
   ],
   "source": [
    "m_as = add_m_a('Sunoco (Group)', ['Sunoco (Group)', 'Energy Transfer (Group)'], m_as, start_year = '2017')\n",
    "m_as"
   ]
  },
  {
   "cell_type": "markdown",
   "metadata": {},
   "source": [
    "Marathon acquired Andeavor in 2018."
   ]
  },
  {
   "cell_type": "markdown",
   "metadata": {},
   "source": [
    "### 8.2.6 Flint Hills"
   ]
  },
  {
   "cell_type": "code",
   "execution_count": 52,
   "metadata": {},
   "outputs": [
    {
     "name": "stdout",
     "output_type": "stream",
     "text": [
      "\n",
      "FLINT HILLS RESOURCES, LC (OPERATOR_ID 22855) has changed its name:\n",
      "\n",
      "\tWas named FLINT HILLS RESOURCES, LC from 2017 to 2018.\n",
      "\n",
      "\tWas named KOCH PIPELINE COMPANY, L.P. from 2010 to 2016.\n",
      "\n"
     ]
    }
   ],
   "source": [
    "print(next(issues))"
   ]
  },
  {
   "cell_type": "code",
   "execution_count": 53,
   "metadata": {},
   "outputs": [
    {
     "data": {
      "text/plain": [
       "[[2015, 1885.19], [2016, 1674.88], [2017, 1711.48], [2018, 1750.7199999999998]]"
      ]
     },
     "execution_count": 53,
     "metadata": {},
     "output_type": "execute_result"
    }
   ],
   "source": [
    "find_total_miles('22855', range(2015, 2019))"
   ]
  },
  {
   "cell_type": "markdown",
   "metadata": {},
   "source": [
    "The restructuring or sell-off does not seem to affect the organizations pipeline assets. We will ignore the rebranding efforts."
   ]
  },
  {
   "cell_type": "markdown",
   "metadata": {},
   "source": [
    "### 8.2.7 NuStar"
   ]
  },
  {
   "cell_type": "code",
   "execution_count": 54,
   "metadata": {},
   "outputs": [
    {
     "name": "stdout",
     "output_type": "stream",
     "text": [
      "\n",
      "NUSTAR PIPELINE OPERATING PARTNERSHIP L.P. (OPERATOR_ID 10012) has the same parent company as:\n",
      "\n",
      "\tNUSTAR LOGISTICS, L.P. (OPERATOR_ID 31454)\n",
      "\n"
     ]
    }
   ],
   "source": [
    "print(next(issues))"
   ]
  },
  {
   "cell_type": "code",
   "execution_count": 55,
   "metadata": {},
   "outputs": [
    {
     "data": {
      "text/plain": [
       "[{'name': 'NUSTAR PIPELINE OPERATING PARTNERSHIP L.P.',\n",
       "  'start_year': 2010,\n",
       "  'end_year': 2018}]"
      ]
     },
     "execution_count": 55,
     "metadata": {},
     "output_type": "execute_result"
    }
   ],
   "source": [
    "find_names('10012')"
   ]
  },
  {
   "cell_type": "code",
   "execution_count": 56,
   "metadata": {},
   "outputs": [
    {
     "data": {
      "text/plain": [
       "[{'name': 'NUSTAR LOGISTICS, L.P.', 'start_year': 2010, 'end_year': 2018}]"
      ]
     },
     "execution_count": 56,
     "metadata": {},
     "output_type": "execute_result"
    }
   ],
   "source": [
    "find_names('31454')"
   ]
  },
  {
   "cell_type": "markdown",
   "metadata": {},
   "source": [
    "LexisNexis Doessier does not list any M&As for the two subsidiaries. They just seem to be two separate subsidiaries, that we can group together."
   ]
  },
  {
   "cell_type": "code",
   "execution_count": 57,
   "metadata": {},
   "outputs": [
    {
     "data": {
      "text/html": [
       "<div>\n",
       "<style scoped>\n",
       "    .dataframe tbody tr th:only-of-type {\n",
       "        vertical-align: middle;\n",
       "    }\n",
       "\n",
       "    .dataframe tbody tr th {\n",
       "        vertical-align: top;\n",
       "    }\n",
       "\n",
       "    .dataframe thead th {\n",
       "        text-align: right;\n",
       "    }\n",
       "</style>\n",
       "<table border=\"1\" class=\"dataframe\">\n",
       "  <thead>\n",
       "    <tr style=\"text-align: right;\">\n",
       "      <th></th>\n",
       "      <th>members</th>\n",
       "      <th>name</th>\n",
       "    </tr>\n",
       "  </thead>\n",
       "  <tbody>\n",
       "    <tr>\n",
       "      <th>13</th>\n",
       "      <td>32683</td>\n",
       "      <td>Sunoco (Group)</td>\n",
       "    </tr>\n",
       "    <tr>\n",
       "      <th>14</th>\n",
       "      <td>32099</td>\n",
       "      <td>Energy Transfer (Group)</td>\n",
       "    </tr>\n",
       "    <tr>\n",
       "      <th>15</th>\n",
       "      <td>39205</td>\n",
       "      <td>Energy Transfer (Group)</td>\n",
       "    </tr>\n",
       "    <tr>\n",
       "      <th>16</th>\n",
       "      <td>10012</td>\n",
       "      <td>NuStar</td>\n",
       "    </tr>\n",
       "    <tr>\n",
       "      <th>17</th>\n",
       "      <td>31454</td>\n",
       "      <td>NuStar</td>\n",
       "    </tr>\n",
       "  </tbody>\n",
       "</table>\n",
       "</div>"
      ],
      "text/plain": [
       "   members                     name\n",
       "13   32683           Sunoco (Group)\n",
       "14   32099  Energy Transfer (Group)\n",
       "15   39205  Energy Transfer (Group)\n",
       "16   10012                   NuStar\n",
       "17   31454                   NuStar"
      ]
     },
     "execution_count": 57,
     "metadata": {},
     "output_type": "execute_result"
    }
   ],
   "source": [
    "company_groups = add_company_group('NuStar', ['10012', '31454'], company_groups)\n",
    "company_groups.tail()"
   ]
  },
  {
   "cell_type": "markdown",
   "metadata": {},
   "source": [
    "### 8.2.8 Kinder Morgan"
   ]
  },
  {
   "cell_type": "code",
   "execution_count": 58,
   "metadata": {},
   "outputs": [
    {
     "name": "stdout",
     "output_type": "stream",
     "text": [
      "\n",
      "PLANTATION PIPE LINE CO (OPERATOR_ID 15674) has the same parent company as:\n",
      "\n",
      "\tSFPP, LP (OPERATOR_ID 18092)\n",
      "\n",
      "\tCALNEV PIPELINE CO (OPERATOR_ID 26125)\n",
      "\n",
      "\tKINDER MORGAN COCHIN LLC (OPERATOR_ID 32258)\n",
      "\n"
     ]
    }
   ],
   "source": [
    "print(next(issues))"
   ]
  },
  {
   "cell_type": "code",
   "execution_count": 59,
   "metadata": {},
   "outputs": [
    {
     "data": {
      "text/plain": [
       "[{'name': 'PLANTATION PIPE LINE CO', 'start_year': 2010, 'end_year': 2018}]"
      ]
     },
     "execution_count": 59,
     "metadata": {},
     "output_type": "execute_result"
    }
   ],
   "source": [
    "find_names('15674')"
   ]
  },
  {
   "cell_type": "markdown",
   "metadata": {},
   "source": [
    "Kinder Morgan owns a majority stake since 1999 (LexnisNexis Deal Number 877657020)."
   ]
  },
  {
   "cell_type": "code",
   "execution_count": 60,
   "metadata": {},
   "outputs": [
    {
     "data": {
      "text/plain": [
       "[{'name': 'SFPP, LP', 'start_year': 2010, 'end_year': 2018}]"
      ]
     },
     "execution_count": 60,
     "metadata": {},
     "output_type": "execute_result"
    }
   ],
   "source": [
    "find_names('18092')"
   ]
  },
  {
   "cell_type": "markdown",
   "metadata": {},
   "source": [
    "LexisNexis indicates no M&As. Probably represents greenfield investment."
   ]
  },
  {
   "cell_type": "code",
   "execution_count": 61,
   "metadata": {},
   "outputs": [
    {
     "data": {
      "text/plain": [
       "[{'name': 'CALNEV PIPELINE CO', 'start_year': 2010, 'end_year': 2018}]"
      ]
     },
     "execution_count": 61,
     "metadata": {},
     "output_type": "execute_result"
    }
   ],
   "source": [
    "find_names('26125')"
   ]
  },
  {
   "cell_type": "markdown",
   "metadata": {},
   "source": [
    "LexisNexis indicates no M&As. Probably represents greenfield investment."
   ]
  },
  {
   "cell_type": "code",
   "execution_count": 62,
   "metadata": {},
   "outputs": [
    {
     "data": {
      "text/plain": [
       "[{'name': 'KINDER MORGAN COCHIN LLC', 'start_year': 2010, 'end_year': 2018}]"
      ]
     },
     "execution_count": 62,
     "metadata": {},
     "output_type": "execute_result"
    }
   ],
   "source": [
    "find_names('32258')"
   ]
  },
  {
   "cell_type": "markdown",
   "metadata": {},
   "source": [
    "About to be sold of to Pembina, but LexisNexis indicates that it originally represented a greenfield investment by Kinder Morgan."
   ]
  },
  {
   "cell_type": "markdown",
   "metadata": {},
   "source": [
    "### Decision"
   ]
  },
  {
   "cell_type": "code",
   "execution_count": 63,
   "metadata": {},
   "outputs": [
    {
     "data": {
      "text/html": [
       "<div>\n",
       "<style scoped>\n",
       "    .dataframe tbody tr th:only-of-type {\n",
       "        vertical-align: middle;\n",
       "    }\n",
       "\n",
       "    .dataframe tbody tr th {\n",
       "        vertical-align: top;\n",
       "    }\n",
       "\n",
       "    .dataframe thead th {\n",
       "        text-align: right;\n",
       "    }\n",
       "</style>\n",
       "<table border=\"1\" class=\"dataframe\">\n",
       "  <thead>\n",
       "    <tr style=\"text-align: right;\">\n",
       "      <th></th>\n",
       "      <th>members</th>\n",
       "      <th>name</th>\n",
       "    </tr>\n",
       "  </thead>\n",
       "  <tbody>\n",
       "    <tr>\n",
       "      <th>17</th>\n",
       "      <td>31454</td>\n",
       "      <td>NuStar</td>\n",
       "    </tr>\n",
       "    <tr>\n",
       "      <th>18</th>\n",
       "      <td>15674</td>\n",
       "      <td>Kinder Morgan (Group)</td>\n",
       "    </tr>\n",
       "    <tr>\n",
       "      <th>19</th>\n",
       "      <td>18092</td>\n",
       "      <td>Kinder Morgan (Group)</td>\n",
       "    </tr>\n",
       "    <tr>\n",
       "      <th>20</th>\n",
       "      <td>26125</td>\n",
       "      <td>Kinder Morgan (Group)</td>\n",
       "    </tr>\n",
       "    <tr>\n",
       "      <th>21</th>\n",
       "      <td>32258</td>\n",
       "      <td>Kinder Morgan (Group)</td>\n",
       "    </tr>\n",
       "  </tbody>\n",
       "</table>\n",
       "</div>"
      ],
      "text/plain": [
       "   members                   name\n",
       "17   31454                 NuStar\n",
       "18   15674  Kinder Morgan (Group)\n",
       "19   18092  Kinder Morgan (Group)\n",
       "20   26125  Kinder Morgan (Group)\n",
       "21   32258  Kinder Morgan (Group)"
      ]
     },
     "execution_count": 63,
     "metadata": {},
     "output_type": "execute_result"
    }
   ],
   "source": [
    "company_groups = add_company_group('Kinder Morgan (Group)', ['15674', '18092', '26125', '32258'], company_groups)\n",
    "company_groups.tail()"
   ]
  },
  {
   "cell_type": "markdown",
   "metadata": {},
   "source": [
    "### 8.2.9 Enbridge"
   ]
  },
  {
   "cell_type": "code",
   "execution_count": 64,
   "metadata": {},
   "outputs": [
    {
     "name": "stdout",
     "output_type": "stream",
     "text": [
      "\n",
      "ENBRIDGE ENERGY, LIMITED PARTNERSHIP (OPERATOR_ID 11169) has the same parent company as:\n",
      "\n",
      "\tEXPRESS HOLDINGS (USA), LLC (OPERATOR_ID 31720)\n",
      "\n",
      "\tENBRIDGE PIPELINES (OZARK) L.L.C. (OPERATOR_ID 31947)\n",
      "\n",
      "\tCCPS TRANSPORTATION, LLC (OPERATOR_ID 32080)\n",
      "\n",
      "\tENBRIDGE PIPELINES (SOUTHERN LIGHTS) L.L.C. (OPERATOR_ID 32502)\n",
      "\n"
     ]
    }
   ],
   "source": [
    "print(next(issues))"
   ]
  },
  {
   "cell_type": "code",
   "execution_count": 65,
   "metadata": {},
   "outputs": [
    {
     "data": {
      "text/plain": [
       "[{'name': 'ENBRIDGE ENERGY, LIMITED PARTNERSHIP',\n",
       "  'start_year': 2010,\n",
       "  'end_year': 2018}]"
      ]
     },
     "execution_count": 65,
     "metadata": {},
     "output_type": "execute_result"
    }
   ],
   "source": [
    "find_names('11169')"
   ]
  },
  {
   "cell_type": "code",
   "execution_count": 66,
   "metadata": {},
   "outputs": [
    {
     "data": {
      "text/plain": [
       "[{'name': 'EXPRESS HOLDINGS (USA), LLC', 'start_year': 2013, 'end_year': 2018},\n",
       " {'name': 'KINDER MORGAN PIPELINES (USA) INC',\n",
       "  'start_year': 2010,\n",
       "  'end_year': 2012}]"
      ]
     },
     "execution_count": 66,
     "metadata": {},
     "output_type": "execute_result"
    }
   ],
   "source": [
    "find_names('31720')"
   ]
  },
  {
   "cell_type": "code",
   "execution_count": 67,
   "metadata": {},
   "outputs": [
    {
     "data": {
      "text/plain": [
       "[[2010, 196.0], [2011, 196.0], [2012, 196.0], [2013, 219.3], [2014, 212.4]]"
      ]
     },
     "execution_count": 67,
     "metadata": {},
     "output_type": "execute_result"
    }
   ],
   "source": [
    "find_total_miles('31720', range(2010, 2015))"
   ]
  },
  {
   "cell_type": "code",
   "execution_count": 68,
   "metadata": {},
   "outputs": [
    {
     "data": {
      "text/plain": [
       "[{'name': 'CCPS TRANSPORTATION, LLC', 'start_year': 2010, 'end_year': 2018}]"
      ]
     },
     "execution_count": 68,
     "metadata": {},
     "output_type": "execute_result"
    }
   ],
   "source": [
    "find_names('32080')"
   ]
  },
  {
   "cell_type": "markdown",
   "metadata": {},
   "source": [
    "LexisNexis indicates no M&A activities."
   ]
  },
  {
   "cell_type": "code",
   "execution_count": 69,
   "metadata": {},
   "outputs": [
    {
     "data": {
      "text/plain": [
       "[{'name': 'ENBRIDGE PIPELINES (SOUTHERN LIGHTS) L.L.C.',\n",
       "  'start_year': 2010,\n",
       "  'end_year': 2018}]"
      ]
     },
     "execution_count": 69,
     "metadata": {},
     "output_type": "execute_result"
    }
   ],
   "source": [
    "find_names('32502')"
   ]
  },
  {
   "cell_type": "markdown",
   "metadata": {},
   "source": [
    "LexisNexis indicates no M&A activities."
   ]
  },
  {
   "cell_type": "code",
   "execution_count": 70,
   "metadata": {},
   "outputs": [
    {
     "data": {
      "text/plain": [
       "[{'name': 'ENBRIDGE PIPELINES (OZARK) L.L.C.',\n",
       "  'start_year': 2010,\n",
       "  'end_year': 2018}]"
      ]
     },
     "execution_count": 70,
     "metadata": {},
     "output_type": "execute_result"
    }
   ],
   "source": [
    "find_names('31947')"
   ]
  },
  {
   "cell_type": "markdown",
   "metadata": {},
   "source": [
    "LexisNexis indicates no M&A activities."
   ]
  },
  {
   "cell_type": "markdown",
   "metadata": {},
   "source": [
    "### Express Holdings"
   ]
  },
  {
   "cell_type": "code",
   "execution_count": 71,
   "metadata": {},
   "outputs": [
    {
     "data": {
      "text/plain": [
       "[[2010, 196.0], [2011, 196.0], [2012, 196.0], [2013, 219.3], [2014, 212.4]]"
      ]
     },
     "execution_count": 71,
     "metadata": {},
     "output_type": "execute_result"
    }
   ],
   "source": [
    "find_total_miles('31720', range(2010, 2015))"
   ]
  },
  {
   "cell_type": "markdown",
   "metadata": {},
   "source": [
    "The Express pipeline system was sold by Kinder Morgan to Spectra Energy ~2012 (LexisNexis Dossier Deal Number 2476224040). Enbridge merged with Spectra Energy in 2017 (LexisNexis Dossier Deal Number 885812)."
   ]
  },
  {
   "cell_type": "markdown",
   "metadata": {},
   "source": [
    "### Decision"
   ]
  },
  {
   "cell_type": "markdown",
   "metadata": {},
   "source": [
    "We group the CCPS, Enbridge Pipelines Ozark, and Enbridge Pipelines (Southern Lights) with Enbridge. Express Holdings is modeled as part of Kinder Morgan until 2012, then as part of Spectra Energy (which has no other pipeline business in the datset) until 2016, and finally as part of Enbridge in 2018."
   ]
  },
  {
   "cell_type": "code",
   "execution_count": 72,
   "metadata": {},
   "outputs": [
    {
     "data": {
      "text/html": [
       "<div>\n",
       "<style scoped>\n",
       "    .dataframe tbody tr th:only-of-type {\n",
       "        vertical-align: middle;\n",
       "    }\n",
       "\n",
       "    .dataframe tbody tr th {\n",
       "        vertical-align: top;\n",
       "    }\n",
       "\n",
       "    .dataframe thead th {\n",
       "        text-align: right;\n",
       "    }\n",
       "</style>\n",
       "<table border=\"1\" class=\"dataframe\">\n",
       "  <thead>\n",
       "    <tr style=\"text-align: right;\">\n",
       "      <th></th>\n",
       "      <th>members</th>\n",
       "      <th>name</th>\n",
       "    </tr>\n",
       "  </thead>\n",
       "  <tbody>\n",
       "    <tr>\n",
       "      <th>21</th>\n",
       "      <td>32258</td>\n",
       "      <td>Kinder Morgan (Group)</td>\n",
       "    </tr>\n",
       "    <tr>\n",
       "      <th>22</th>\n",
       "      <td>11169</td>\n",
       "      <td>Enbridge (Group)</td>\n",
       "    </tr>\n",
       "    <tr>\n",
       "      <th>23</th>\n",
       "      <td>32080</td>\n",
       "      <td>Enbridge (Group)</td>\n",
       "    </tr>\n",
       "    <tr>\n",
       "      <th>24</th>\n",
       "      <td>32502</td>\n",
       "      <td>Enbridge (Group)</td>\n",
       "    </tr>\n",
       "    <tr>\n",
       "      <th>25</th>\n",
       "      <td>31947</td>\n",
       "      <td>Enbridge (Group)</td>\n",
       "    </tr>\n",
       "  </tbody>\n",
       "</table>\n",
       "</div>"
      ],
      "text/plain": [
       "   members                   name\n",
       "21   32258  Kinder Morgan (Group)\n",
       "22   11169       Enbridge (Group)\n",
       "23   32080       Enbridge (Group)\n",
       "24   32502       Enbridge (Group)\n",
       "25   31947       Enbridge (Group)"
      ]
     },
     "execution_count": 72,
     "metadata": {},
     "output_type": "execute_result"
    }
   ],
   "source": [
    "company_groups = add_company_group('Enbridge (Group)', ['11169', '32080', '32502', '31947'], company_groups)\n",
    "company_groups.tail()"
   ]
  },
  {
   "cell_type": "code",
   "execution_count": 73,
   "metadata": {},
   "outputs": [
    {
     "data": {
      "text/html": [
       "<div>\n",
       "<style scoped>\n",
       "    .dataframe tbody tr th:only-of-type {\n",
       "        vertical-align: middle;\n",
       "    }\n",
       "\n",
       "    .dataframe tbody tr th {\n",
       "        vertical-align: top;\n",
       "    }\n",
       "\n",
       "    .dataframe thead th {\n",
       "        text-align: right;\n",
       "    }\n",
       "</style>\n",
       "<table border=\"1\" class=\"dataframe\">\n",
       "  <thead>\n",
       "    <tr style=\"text-align: right;\">\n",
       "      <th></th>\n",
       "      <th>members</th>\n",
       "      <th>name</th>\n",
       "      <th>start_year</th>\n",
       "      <th>end_year</th>\n",
       "    </tr>\n",
       "  </thead>\n",
       "  <tbody>\n",
       "    <tr>\n",
       "      <th>0</th>\n",
       "      <td>Sunoco (Group)</td>\n",
       "      <td>Sunoco (Group)</td>\n",
       "      <td>2017</td>\n",
       "      <td>NaN</td>\n",
       "    </tr>\n",
       "    <tr>\n",
       "      <th>1</th>\n",
       "      <td>Energy Transfer (Group)</td>\n",
       "      <td>Sunoco (Group)</td>\n",
       "      <td>2017</td>\n",
       "      <td>NaN</td>\n",
       "    </tr>\n",
       "    <tr>\n",
       "      <th>2</th>\n",
       "      <td>Kinder Morgan (Group)</td>\n",
       "      <td>Kinder Morgan (Group)</td>\n",
       "      <td>NaN</td>\n",
       "      <td>2013</td>\n",
       "    </tr>\n",
       "    <tr>\n",
       "      <th>3</th>\n",
       "      <td>31720</td>\n",
       "      <td>Kinder Morgan (Group)</td>\n",
       "      <td>NaN</td>\n",
       "      <td>2013</td>\n",
       "    </tr>\n",
       "    <tr>\n",
       "      <th>4</th>\n",
       "      <td>Enbridge (Group)</td>\n",
       "      <td>Enbridge (Group)</td>\n",
       "      <td>2017</td>\n",
       "      <td>NaN</td>\n",
       "    </tr>\n",
       "    <tr>\n",
       "      <th>5</th>\n",
       "      <td>31720</td>\n",
       "      <td>Enbridge (Group)</td>\n",
       "      <td>2017</td>\n",
       "      <td>NaN</td>\n",
       "    </tr>\n",
       "  </tbody>\n",
       "</table>\n",
       "</div>"
      ],
      "text/plain": [
       "                   members                   name start_year end_year\n",
       "0           Sunoco (Group)         Sunoco (Group)       2017      NaN\n",
       "1  Energy Transfer (Group)         Sunoco (Group)       2017      NaN\n",
       "2    Kinder Morgan (Group)  Kinder Morgan (Group)        NaN     2013\n",
       "3                    31720  Kinder Morgan (Group)        NaN     2013\n",
       "4         Enbridge (Group)       Enbridge (Group)       2017      NaN\n",
       "5                    31720       Enbridge (Group)       2017      NaN"
      ]
     },
     "execution_count": 73,
     "metadata": {},
     "output_type": "execute_result"
    }
   ],
   "source": [
    "# new_9 - Kinder Morgan\n",
    "m_as = add_m_a('Kinder Morgan (Group)', ['Kinder Morgan (Group)', '31720'], m_as, end_year = '2013')\n",
    "\n",
    "m_as = add_m_a('Enbridge (Group)', ['Enbridge (Group)', '31720'], m_as, start_year = '2017')\n",
    "m_as"
   ]
  },
  {
   "cell_type": "markdown",
   "metadata": {},
   "source": [
    "### 9.2.10 Marathon"
   ]
  },
  {
   "cell_type": "code",
   "execution_count": 74,
   "metadata": {},
   "outputs": [
    {
     "name": "stdout",
     "output_type": "stream",
     "text": [
      "\n",
      "MARATHON PIPE LINE LLC (OPERATOR_ID 32147) has the same parent company as:\n",
      "\n",
      "\tWOLVERINE PIPELINE CO (OPERATOR_ID 22830)\n",
      "\n",
      "\tTESORO LOGISTICS OPERATIONS, LLC (OPERATOR_ID 38933)\n",
      "\n",
      "\tTESORO LOGISTICS NORTHWEST PIPELINE LLC (OPERATOR_ID 39029)\n",
      "\n"
     ]
    }
   ],
   "source": [
    "print(next(issues))"
   ]
  },
  {
   "cell_type": "markdown",
   "metadata": {},
   "source": [
    "### Names"
   ]
  },
  {
   "cell_type": "code",
   "execution_count": 75,
   "metadata": {},
   "outputs": [
    {
     "data": {
      "text/plain": [
       "[{'name': 'MARATHON PIPE LINE LLC', 'start_year': 2010, 'end_year': 2018}]"
      ]
     },
     "execution_count": 75,
     "metadata": {},
     "output_type": "execute_result"
    }
   ],
   "source": [
    "find_names('32147')"
   ]
  },
  {
   "cell_type": "code",
   "execution_count": 76,
   "metadata": {},
   "outputs": [
    {
     "data": {
      "text/plain": [
       "[{'name': 'WOLVERINE PIPELINE CO', 'start_year': 2010, 'end_year': 2018}]"
      ]
     },
     "execution_count": 76,
     "metadata": {},
     "output_type": "execute_result"
    }
   ],
   "source": [
    "find_names('22830')"
   ]
  },
  {
   "cell_type": "markdown",
   "metadata": {},
   "source": [
    "LexisNexis Dossier indicates that Sunoco holds a minority interest in Wolverine Pipeline (or Pipe Line) Co. Other than that, the company is continually owned by Marathon."
   ]
  },
  {
   "cell_type": "code",
   "execution_count": 77,
   "metadata": {},
   "outputs": [
    {
     "data": {
      "text/plain": [
       "[{'name': 'TESORO LOGISTICS OPERATIONS LLC - SOUTHERN CALIFORNIA',\n",
       "  'start_year': 2012,\n",
       "  'end_year': 2017},\n",
       " {'name': 'TESORO LOGISTICS OPERATIONS, LLC',\n",
       "  'start_year': 2018,\n",
       "  'end_year': 2018}]"
      ]
     },
     "execution_count": 77,
     "metadata": {},
     "output_type": "execute_result"
    }
   ],
   "source": [
    "find_names('38933')"
   ]
  },
  {
   "cell_type": "markdown",
   "metadata": {},
   "source": [
    "LexisNexis Dossiers indicates no M&A activities."
   ]
  },
  {
   "cell_type": "code",
   "execution_count": 78,
   "metadata": {},
   "outputs": [
    {
     "data": {
      "text/plain": [
       "[{'name': 'TESORO LOGISTICS NORTHWEST PIPELINE LLC',\n",
       "  'start_year': 2013,\n",
       "  'end_year': 2017}]"
      ]
     },
     "execution_count": 78,
     "metadata": {},
     "output_type": "execute_result"
    }
   ],
   "source": [
    "find_names('39029')"
   ]
  },
  {
   "cell_type": "markdown",
   "metadata": {},
   "source": [
    "### Decision"
   ]
  },
  {
   "cell_type": "markdown",
   "metadata": {},
   "source": [
    "LexisNexis indicates that Tesoro was renamed to Andeavor, and acquired by Marathon in 2018 (LexisNexis Dossier Deal Number 3052392). We will group Wolverine with Marathon, and also combine the two Tesoros into one observation. For 2018, we will subsume Tesoro under Marathon."
   ]
  },
  {
   "cell_type": "code",
   "execution_count": 79,
   "metadata": {},
   "outputs": [
    {
     "data": {
      "text/html": [
       "<div>\n",
       "<style scoped>\n",
       "    .dataframe tbody tr th:only-of-type {\n",
       "        vertical-align: middle;\n",
       "    }\n",
       "\n",
       "    .dataframe tbody tr th {\n",
       "        vertical-align: top;\n",
       "    }\n",
       "\n",
       "    .dataframe thead th {\n",
       "        text-align: right;\n",
       "    }\n",
       "</style>\n",
       "<table border=\"1\" class=\"dataframe\">\n",
       "  <thead>\n",
       "    <tr style=\"text-align: right;\">\n",
       "      <th></th>\n",
       "      <th>members</th>\n",
       "      <th>name</th>\n",
       "    </tr>\n",
       "  </thead>\n",
       "  <tbody>\n",
       "    <tr>\n",
       "      <th>25</th>\n",
       "      <td>31947</td>\n",
       "      <td>Enbridge (Group)</td>\n",
       "    </tr>\n",
       "    <tr>\n",
       "      <th>26</th>\n",
       "      <td>32147</td>\n",
       "      <td>Marathon (Group)</td>\n",
       "    </tr>\n",
       "    <tr>\n",
       "      <th>27</th>\n",
       "      <td>22830</td>\n",
       "      <td>Marathon (Group)</td>\n",
       "    </tr>\n",
       "    <tr>\n",
       "      <th>28</th>\n",
       "      <td>38933</td>\n",
       "      <td>Tesoro (Group)</td>\n",
       "    </tr>\n",
       "    <tr>\n",
       "      <th>29</th>\n",
       "      <td>39029</td>\n",
       "      <td>Tesoro (Group)</td>\n",
       "    </tr>\n",
       "  </tbody>\n",
       "</table>\n",
       "</div>"
      ],
      "text/plain": [
       "   members              name\n",
       "25   31947  Enbridge (Group)\n",
       "26   32147  Marathon (Group)\n",
       "27   22830  Marathon (Group)\n",
       "28   38933    Tesoro (Group)\n",
       "29   39029    Tesoro (Group)"
      ]
     },
     "execution_count": 79,
     "metadata": {},
     "output_type": "execute_result"
    }
   ],
   "source": [
    "# Marathon and Wolverine\n",
    "company_groups = add_company_group('Marathon (Group)', ['32147', '22830'], company_groups)\n",
    "\n",
    "# Tesoro\n",
    "company_groups = add_company_group('Tesoro (Group)', ['38933', '39029'], company_groups)\n",
    "company_groups.tail()"
   ]
  },
  {
   "cell_type": "code",
   "execution_count": 80,
   "metadata": {},
   "outputs": [
    {
     "data": {
      "text/html": [
       "<div>\n",
       "<style scoped>\n",
       "    .dataframe tbody tr th:only-of-type {\n",
       "        vertical-align: middle;\n",
       "    }\n",
       "\n",
       "    .dataframe tbody tr th {\n",
       "        vertical-align: top;\n",
       "    }\n",
       "\n",
       "    .dataframe thead th {\n",
       "        text-align: right;\n",
       "    }\n",
       "</style>\n",
       "<table border=\"1\" class=\"dataframe\">\n",
       "  <thead>\n",
       "    <tr style=\"text-align: right;\">\n",
       "      <th></th>\n",
       "      <th>members</th>\n",
       "      <th>name</th>\n",
       "      <th>start_year</th>\n",
       "      <th>end_year</th>\n",
       "    </tr>\n",
       "  </thead>\n",
       "  <tbody>\n",
       "    <tr>\n",
       "      <th>0</th>\n",
       "      <td>Sunoco (Group)</td>\n",
       "      <td>Sunoco (Group)</td>\n",
       "      <td>2017</td>\n",
       "      <td>NaN</td>\n",
       "    </tr>\n",
       "    <tr>\n",
       "      <th>1</th>\n",
       "      <td>Energy Transfer (Group)</td>\n",
       "      <td>Sunoco (Group)</td>\n",
       "      <td>2017</td>\n",
       "      <td>NaN</td>\n",
       "    </tr>\n",
       "    <tr>\n",
       "      <th>2</th>\n",
       "      <td>Kinder Morgan (Group)</td>\n",
       "      <td>Kinder Morgan (Group)</td>\n",
       "      <td>NaN</td>\n",
       "      <td>2013</td>\n",
       "    </tr>\n",
       "    <tr>\n",
       "      <th>3</th>\n",
       "      <td>31720</td>\n",
       "      <td>Kinder Morgan (Group)</td>\n",
       "      <td>NaN</td>\n",
       "      <td>2013</td>\n",
       "    </tr>\n",
       "    <tr>\n",
       "      <th>4</th>\n",
       "      <td>Enbridge (Group)</td>\n",
       "      <td>Enbridge (Group)</td>\n",
       "      <td>2017</td>\n",
       "      <td>NaN</td>\n",
       "    </tr>\n",
       "    <tr>\n",
       "      <th>5</th>\n",
       "      <td>31720</td>\n",
       "      <td>Enbridge (Group)</td>\n",
       "      <td>2017</td>\n",
       "      <td>NaN</td>\n",
       "    </tr>\n",
       "    <tr>\n",
       "      <th>6</th>\n",
       "      <td>Marathon (Group)</td>\n",
       "      <td>Marathon (Group)</td>\n",
       "      <td>2018</td>\n",
       "      <td>NaN</td>\n",
       "    </tr>\n",
       "    <tr>\n",
       "      <th>7</th>\n",
       "      <td>Tesoro (Group)</td>\n",
       "      <td>Marathon (Group)</td>\n",
       "      <td>2018</td>\n",
       "      <td>NaN</td>\n",
       "    </tr>\n",
       "  </tbody>\n",
       "</table>\n",
       "</div>"
      ],
      "text/plain": [
       "                   members                   name start_year end_year\n",
       "0           Sunoco (Group)         Sunoco (Group)       2017      NaN\n",
       "1  Energy Transfer (Group)         Sunoco (Group)       2017      NaN\n",
       "2    Kinder Morgan (Group)  Kinder Morgan (Group)        NaN     2013\n",
       "3                    31720  Kinder Morgan (Group)        NaN     2013\n",
       "4         Enbridge (Group)       Enbridge (Group)       2017      NaN\n",
       "5                    31720       Enbridge (Group)       2017      NaN\n",
       "6         Marathon (Group)       Marathon (Group)       2018      NaN\n",
       "7           Tesoro (Group)       Marathon (Group)       2018      NaN"
      ]
     },
     "execution_count": 80,
     "metadata": {},
     "output_type": "execute_result"
    }
   ],
   "source": [
    "m_as = add_m_a('Marathon (Group)', ['Marathon (Group)', 'Tesoro (Group)'], m_as, start_year = '2018')\n",
    "m_as"
   ]
  },
  {
   "cell_type": "markdown",
   "metadata": {},
   "source": [
    "### 8.2.11 ExxonMobil"
   ]
  },
  {
   "cell_type": "code",
   "execution_count": 81,
   "metadata": {},
   "outputs": [
    {
     "name": "stdout",
     "output_type": "stream",
     "text": [
      "\n",
      "EXXONMOBIL PIPELINE CO (OPERATOR_ID 4906) has the same parent company as:\n",
      "\n",
      "\tEXXONMOBIL PIPELINE CO (OPERATOR_ID 12628)\n",
      "\n",
      "\tEXXONMOBIL OIL CORP - WEST COAST (OPERATOR_ID 26134)\n",
      "\n"
     ]
    }
   ],
   "source": [
    "print(next(issues))"
   ]
  },
  {
   "cell_type": "code",
   "execution_count": 82,
   "metadata": {},
   "outputs": [
    {
     "data": {
      "text/plain": [
       "[{'name': 'EXXONMOBIL PIPELINE CO', 'start_year': 2010, 'end_year': 2018}]"
      ]
     },
     "execution_count": 82,
     "metadata": {},
     "output_type": "execute_result"
    }
   ],
   "source": [
    "find_names('4906')"
   ]
  },
  {
   "cell_type": "code",
   "execution_count": 83,
   "metadata": {},
   "outputs": [
    {
     "data": {
      "text/plain": [
       "[{'name': 'EXXONMOBIL PIPELINE CO', 'start_year': 2010, 'end_year': 2018},\n",
       " {'name': 'MOBIL  PIPE  LINE COMPANY', 'start_year': 2012, 'end_year': 2018},\n",
       " {'name': 'MOBIL PIPELINE CO', 'start_year': 2010, 'end_year': 2010}]"
      ]
     },
     "execution_count": 83,
     "metadata": {},
     "output_type": "execute_result"
    }
   ],
   "source": [
    "find_names('12628')"
   ]
  },
  {
   "cell_type": "markdown",
   "metadata": {},
   "source": [
    "Company name inconsistent between different documents."
   ]
  },
  {
   "cell_type": "code",
   "execution_count": 84,
   "metadata": {},
   "outputs": [
    {
     "data": {
      "text/plain": [
       "[{'name': 'EXXONMOBIL OIL CORP - WEST COAST',\n",
       "  'start_year': 2010,\n",
       "  'end_year': 2018}]"
      ]
     },
     "execution_count": 84,
     "metadata": {},
     "output_type": "execute_result"
    }
   ],
   "source": [
    "find_names('26134')"
   ]
  },
  {
   "cell_type": "markdown",
   "metadata": {},
   "source": [
    "All are wholly owned subsidiaries of exxonmobil. LexisNexis indicates no M&A activities. We combine them into one observation."
   ]
  },
  {
   "cell_type": "code",
   "execution_count": 85,
   "metadata": {},
   "outputs": [
    {
     "data": {
      "text/html": [
       "<div>\n",
       "<style scoped>\n",
       "    .dataframe tbody tr th:only-of-type {\n",
       "        vertical-align: middle;\n",
       "    }\n",
       "\n",
       "    .dataframe tbody tr th {\n",
       "        vertical-align: top;\n",
       "    }\n",
       "\n",
       "    .dataframe thead th {\n",
       "        text-align: right;\n",
       "    }\n",
       "</style>\n",
       "<table border=\"1\" class=\"dataframe\">\n",
       "  <thead>\n",
       "    <tr style=\"text-align: right;\">\n",
       "      <th></th>\n",
       "      <th>members</th>\n",
       "      <th>name</th>\n",
       "    </tr>\n",
       "  </thead>\n",
       "  <tbody>\n",
       "    <tr>\n",
       "      <th>28</th>\n",
       "      <td>38933</td>\n",
       "      <td>Tesoro (Group)</td>\n",
       "    </tr>\n",
       "    <tr>\n",
       "      <th>29</th>\n",
       "      <td>39029</td>\n",
       "      <td>Tesoro (Group)</td>\n",
       "    </tr>\n",
       "    <tr>\n",
       "      <th>30</th>\n",
       "      <td>4906</td>\n",
       "      <td>ExxonMobil (Group)</td>\n",
       "    </tr>\n",
       "    <tr>\n",
       "      <th>31</th>\n",
       "      <td>12628</td>\n",
       "      <td>ExxonMobil (Group)</td>\n",
       "    </tr>\n",
       "    <tr>\n",
       "      <th>32</th>\n",
       "      <td>26134</td>\n",
       "      <td>ExxonMobil (Group)</td>\n",
       "    </tr>\n",
       "  </tbody>\n",
       "</table>\n",
       "</div>"
      ],
      "text/plain": [
       "   members                name\n",
       "28   38933      Tesoro (Group)\n",
       "29   39029      Tesoro (Group)\n",
       "30    4906  ExxonMobil (Group)\n",
       "31   12628  ExxonMobil (Group)\n",
       "32   26134  ExxonMobil (Group)"
      ]
     },
     "execution_count": 85,
     "metadata": {},
     "output_type": "execute_result"
    }
   ],
   "source": [
    "company_groups = add_company_group('ExxonMobil (Group)', ['4906', '12628', '26134'], company_groups)\n",
    "company_groups.tail()"
   ]
  },
  {
   "cell_type": "markdown",
   "metadata": {},
   "source": [
    "### 8.2.12 ExxonMobil"
   ]
  },
  {
   "cell_type": "code",
   "execution_count": 86,
   "metadata": {},
   "outputs": [
    {
     "name": "stdout",
     "output_type": "stream",
     "text": [
      "\n",
      "EXXONMOBIL PIPELINE CO (OPERATOR_ID 12628) has changed its name:\n",
      "\n",
      "\tWas named EXXONMOBIL PIPELINE CO from 2010 to 2018.\n",
      "\n",
      "\tWas named MOBIL  PIPE  LINE COMPANY from 2012 to 2018.\n",
      "\n",
      "\tWas named MOBIL PIPELINE CO from 2010 to 2010.\n",
      "\n"
     ]
    }
   ],
   "source": [
    "print(next(issues))"
   ]
  },
  {
   "cell_type": "markdown",
   "metadata": {},
   "source": [
    "Already addressed above."
   ]
  },
  {
   "cell_type": "markdown",
   "metadata": {},
   "source": [
    "### 8.2.13 Tesoro"
   ]
  },
  {
   "cell_type": "code",
   "execution_count": 87,
   "metadata": {},
   "outputs": [
    {
     "name": "stdout",
     "output_type": "stream",
     "text": [
      "\n",
      "TESORO LOGISTICS OPERATIONS, LLC (OPERATOR_ID 38933) has changed its name:\n",
      "\n",
      "\tWas named TESORO LOGISTICS OPERATIONS LLC - SOUTHERN CALIFORNIA from 2012 to 2017.\n",
      "\n",
      "\tWas named TESORO LOGISTICS OPERATIONS, LLC from 2018 to 2018.\n",
      "\n"
     ]
    }
   ],
   "source": [
    "print(next(issues))"
   ]
  },
  {
   "cell_type": "markdown",
   "metadata": {},
   "source": [
    "Already addressed above."
   ]
  },
  {
   "cell_type": "markdown",
   "metadata": {},
   "source": [
    "### 8.2.14 TC OIL"
   ]
  },
  {
   "cell_type": "code",
   "execution_count": 88,
   "metadata": {},
   "outputs": [
    {
     "name": "stdout",
     "output_type": "stream",
     "text": [
      "\n",
      "TC OIL PIPELINE OPERATIONS INC (OPERATOR_ID 32334) may have a namesake or namesakes:\n",
      "\n",
      "\tDAPL-ETCO OPERATIONS MANAGEMENT, LLC (OPERATOR_ID 39205)\n",
      "\n"
     ]
    }
   ],
   "source": [
    "print(next(issues))"
   ]
  },
  {
   "cell_type": "markdown",
   "metadata": {},
   "source": [
    "False positive"
   ]
  },
  {
   "cell_type": "markdown",
   "metadata": {},
   "source": [
    "### 8.2.15 Plains Pipeline"
   ]
  },
  {
   "cell_type": "code",
   "execution_count": 89,
   "metadata": {},
   "outputs": [
    {
     "name": "stdout",
     "output_type": "stream",
     "text": [
      "\n",
      "ROCKY MOUNTAIN PIPELINE SYSTEM, LLC (OPERATOR_ID 31666) has the same parent company as:\n",
      "\n",
      "\tPLAINS PIPELINE, L.P. (OPERATOR_ID 300)\n",
      "\n",
      "\tPLAINS MARKETING, L.P. (OPERATOR_ID 26085)\n",
      "\n"
     ]
    }
   ],
   "source": [
    "print(next(issues))"
   ]
  },
  {
   "cell_type": "code",
   "execution_count": 90,
   "metadata": {},
   "outputs": [
    {
     "data": {
      "text/plain": [
       "[{'name': 'PLAINS MARKETING, L.P.', 'start_year': 2010, 'end_year': 2018}]"
      ]
     },
     "execution_count": 90,
     "metadata": {},
     "output_type": "execute_result"
    }
   ],
   "source": [
    "find_names('26085')"
   ]
  },
  {
   "cell_type": "code",
   "execution_count": 91,
   "metadata": {},
   "outputs": [
    {
     "data": {
      "text/plain": [
       "[{'name': 'PLAINS PIPELINE, L.P.', 'start_year': 2010, 'end_year': 2018}]"
      ]
     },
     "execution_count": 91,
     "metadata": {},
     "output_type": "execute_result"
    }
   ],
   "source": [
    "find_names('300')"
   ]
  },
  {
   "cell_type": "code",
   "execution_count": 92,
   "metadata": {},
   "outputs": [
    {
     "data": {
      "text/plain": [
       "[{'name': 'ROCKY MOUNTAIN PIPELINE SYSTEM, LLC',\n",
       "  'start_year': 2010,\n",
       "  'end_year': 2010}]"
      ]
     },
     "execution_count": 92,
     "metadata": {},
     "output_type": "execute_result"
    }
   ],
   "source": [
    "find_names('31666')"
   ]
  },
  {
   "cell_type": "code",
   "execution_count": 93,
   "metadata": {},
   "outputs": [
    {
     "data": {
      "text/plain": [
       "[[2010, 723.55], [2011, 0.0], [2012, 0.0]]"
      ]
     },
     "execution_count": 93,
     "metadata": {},
     "output_type": "execute_result"
    }
   ],
   "source": [
    "find_total_miles('31666', range(2010, 2013))"
   ]
  },
  {
   "cell_type": "code",
   "execution_count": 94,
   "metadata": {},
   "outputs": [
    {
     "data": {
      "text/plain": [
       "[[2010, 1323.72], [2011, 2314.94], [2012, 2350.39]]"
      ]
     },
     "execution_count": 94,
     "metadata": {},
     "output_type": "execute_result"
    }
   ],
   "source": [
    "find_total_miles('300', range(2010, 2013))"
   ]
  },
  {
   "cell_type": "code",
   "execution_count": 95,
   "metadata": {},
   "outputs": [
    {
     "data": {
      "text/plain": [
       "[[2010, 336.27], [2011, 283.46000000000004], [2012, 261.39]]"
      ]
     },
     "execution_count": 95,
     "metadata": {},
     "output_type": "execute_result"
    }
   ],
   "source": [
    "find_total_miles('26085', range(2010, 2013))"
   ]
  },
  {
   "cell_type": "markdown",
   "metadata": {},
   "source": [
    "LexisNexis Doassiers indicates no M&As for the subsidiaries, Plains Marketing and Rocky Mountain Pipeline System."
   ]
  },
  {
   "cell_type": "markdown",
   "metadata": {},
   "source": [
    "### Decision"
   ]
  },
  {
   "cell_type": "markdown",
   "metadata": {},
   "source": [
    "Obviously Plains Pipeline absorbed its wholly owned subsidiary, Rocky Mountain Pipeline System. We list the three suborganizations as one organization."
   ]
  },
  {
   "cell_type": "code",
   "execution_count": 96,
   "metadata": {},
   "outputs": [
    {
     "data": {
      "text/html": [
       "<div>\n",
       "<style scoped>\n",
       "    .dataframe tbody tr th:only-of-type {\n",
       "        vertical-align: middle;\n",
       "    }\n",
       "\n",
       "    .dataframe tbody tr th {\n",
       "        vertical-align: top;\n",
       "    }\n",
       "\n",
       "    .dataframe thead th {\n",
       "        text-align: right;\n",
       "    }\n",
       "</style>\n",
       "<table border=\"1\" class=\"dataframe\">\n",
       "  <thead>\n",
       "    <tr style=\"text-align: right;\">\n",
       "      <th></th>\n",
       "      <th>members</th>\n",
       "      <th>name</th>\n",
       "    </tr>\n",
       "  </thead>\n",
       "  <tbody>\n",
       "    <tr>\n",
       "      <th>31</th>\n",
       "      <td>12628</td>\n",
       "      <td>ExxonMobil (Group)</td>\n",
       "    </tr>\n",
       "    <tr>\n",
       "      <th>32</th>\n",
       "      <td>26134</td>\n",
       "      <td>ExxonMobil (Group)</td>\n",
       "    </tr>\n",
       "    <tr>\n",
       "      <th>33</th>\n",
       "      <td>300</td>\n",
       "      <td>Plains Pipeline (Group)</td>\n",
       "    </tr>\n",
       "    <tr>\n",
       "      <th>34</th>\n",
       "      <td>31666</td>\n",
       "      <td>Plains Pipeline (Group)</td>\n",
       "    </tr>\n",
       "    <tr>\n",
       "      <th>35</th>\n",
       "      <td>26085</td>\n",
       "      <td>Plains Pipeline (Group)</td>\n",
       "    </tr>\n",
       "  </tbody>\n",
       "</table>\n",
       "</div>"
      ],
      "text/plain": [
       "   members                     name\n",
       "31   12628       ExxonMobil (Group)\n",
       "32   26134       ExxonMobil (Group)\n",
       "33     300  Plains Pipeline (Group)\n",
       "34   31666  Plains Pipeline (Group)\n",
       "35   26085  Plains Pipeline (Group)"
      ]
     },
     "execution_count": 96,
     "metadata": {},
     "output_type": "execute_result"
    }
   ],
   "source": [
    "company_groups = add_company_group('Plains Pipeline (Group)', ['300', '31666', '26085'], company_groups)\n",
    "company_groups.tail()"
   ]
  },
  {
   "cell_type": "markdown",
   "metadata": {},
   "source": [
    "### 8.2.16 Dixie Pipeline"
   ]
  },
  {
   "cell_type": "code",
   "execution_count": 97,
   "metadata": {},
   "outputs": [
    {
     "name": "stdout",
     "output_type": "stream",
     "text": [
      "\n",
      "DIXIE PIPELINE COMPANY LLC (OPERATOR_ID 3445) has changed its name:\n",
      "\n",
      "\tWas named DIXIE PIPELINE from 2010 to 2010.\n",
      "\n",
      "\tWas named DIXIE PIPELINE COMPANY LLC from 2011 to 2018.\n",
      "\n"
     ]
    }
   ],
   "source": [
    "print(next(issues))"
   ]
  },
  {
   "cell_type": "markdown",
   "metadata": {},
   "source": [
    "No action necessary."
   ]
  },
  {
   "cell_type": "markdown",
   "metadata": {},
   "source": [
    "### 8.2.17 Kinder Morgan"
   ]
  },
  {
   "cell_type": "code",
   "execution_count": 98,
   "metadata": {},
   "outputs": [
    {
     "name": "stdout",
     "output_type": "stream",
     "text": [
      "\n",
      "KINDER MORGAN COCHIN LLC (OPERATOR_ID 32258) may have a namesake or namesakes:\n",
      "\n",
      "\tKINDER MORGAN PIPELINES (USA) INC (OPERATOR_ID 31720)\n",
      "\n"
     ]
    }
   ],
   "source": [
    "print(next(issues))"
   ]
  },
  {
   "cell_type": "markdown",
   "metadata": {},
   "source": [
    "Already addressed above."
   ]
  },
  {
   "cell_type": "markdown",
   "metadata": {},
   "source": [
    "### 8.2.18 BP"
   ]
  },
  {
   "cell_type": "code",
   "execution_count": 99,
   "metadata": {},
   "outputs": [
    {
     "name": "stdout",
     "output_type": "stream",
     "text": [
      "\n",
      "BP PIPELINE (NORTH AMERICA) INC. (OPERATOR_ID 31189) has the same parent company as:\n",
      "\n",
      "\tBP OIL PIPELINE CO (OPERATOR_ID 18386)\n",
      "\n",
      "\tOLYMPIC PIPE LINE COMPANY (OPERATOR_ID 30781)\n",
      "\n"
     ]
    }
   ],
   "source": [
    "print(next(issues))"
   ]
  },
  {
   "cell_type": "code",
   "execution_count": 100,
   "metadata": {},
   "outputs": [
    {
     "data": {
      "text/plain": [
       "[{'name': 'BP PIPELINE (NORTH AMERICA) INC.',\n",
       "  'start_year': 2010,\n",
       "  'end_year': 2018}]"
      ]
     },
     "execution_count": 100,
     "metadata": {},
     "output_type": "execute_result"
    }
   ],
   "source": [
    "find_names('31189')"
   ]
  },
  {
   "cell_type": "code",
   "execution_count": 101,
   "metadata": {},
   "outputs": [
    {
     "data": {
      "text/plain": [
       "[{'name': 'BP OIL PIPELINE CO', 'start_year': 2010, 'end_year': 2018}]"
      ]
     },
     "execution_count": 101,
     "metadata": {},
     "output_type": "execute_result"
    }
   ],
   "source": [
    "find_names('18386')"
   ]
  },
  {
   "cell_type": "markdown",
   "metadata": {},
   "source": [
    "LexisNexis indicates no M&As that would concern us, only the sale of some assets in 2005."
   ]
  },
  {
   "cell_type": "code",
   "execution_count": 102,
   "metadata": {},
   "outputs": [
    {
     "data": {
      "text/plain": [
       "[{'name': 'OLYMPIC PIPE LINE COMPANY', 'start_year': 2010, 'end_year': 2018}]"
      ]
     },
     "execution_count": 102,
     "metadata": {},
     "output_type": "execute_result"
    }
   ],
   "source": [
    "find_names('30781')"
   ]
  },
  {
   "cell_type": "markdown",
   "metadata": {},
   "source": [
    "We have previously wrongly assumed Olympic is a subsidiary of BP. In 2006, Enbridge acquired a majority stake (LexisNexis Doassier Deal Number 358159)."
   ]
  },
  {
   "cell_type": "code",
   "execution_count": 103,
   "metadata": {},
   "outputs": [
    {
     "data": {
      "text/html": [
       "<div>\n",
       "<style scoped>\n",
       "    .dataframe tbody tr th:only-of-type {\n",
       "        vertical-align: middle;\n",
       "    }\n",
       "\n",
       "    .dataframe tbody tr th {\n",
       "        vertical-align: top;\n",
       "    }\n",
       "\n",
       "    .dataframe thead th {\n",
       "        text-align: right;\n",
       "    }\n",
       "</style>\n",
       "<table border=\"1\" class=\"dataframe\">\n",
       "  <thead>\n",
       "    <tr style=\"text-align: right;\">\n",
       "      <th></th>\n",
       "      <th>members</th>\n",
       "      <th>name</th>\n",
       "    </tr>\n",
       "  </thead>\n",
       "  <tbody>\n",
       "    <tr>\n",
       "      <th>33</th>\n",
       "      <td>300</td>\n",
       "      <td>Plains Pipeline (Group)</td>\n",
       "    </tr>\n",
       "    <tr>\n",
       "      <th>34</th>\n",
       "      <td>31666</td>\n",
       "      <td>Plains Pipeline (Group)</td>\n",
       "    </tr>\n",
       "    <tr>\n",
       "      <th>35</th>\n",
       "      <td>26085</td>\n",
       "      <td>Plains Pipeline (Group)</td>\n",
       "    </tr>\n",
       "    <tr>\n",
       "      <th>36</th>\n",
       "      <td>31189</td>\n",
       "      <td>BP (Group)</td>\n",
       "    </tr>\n",
       "    <tr>\n",
       "      <th>37</th>\n",
       "      <td>18386</td>\n",
       "      <td>BP (Group)</td>\n",
       "    </tr>\n",
       "  </tbody>\n",
       "</table>\n",
       "</div>"
      ],
      "text/plain": [
       "   members                     name\n",
       "33     300  Plains Pipeline (Group)\n",
       "34   31666  Plains Pipeline (Group)\n",
       "35   26085  Plains Pipeline (Group)\n",
       "36   31189               BP (Group)\n",
       "37   18386               BP (Group)"
      ]
     },
     "execution_count": 103,
     "metadata": {},
     "output_type": "execute_result"
    }
   ],
   "source": [
    "company_groups = add_company_group('BP (Group)', ['31189', '18386'], company_groups)\n",
    "company_groups.tail()"
   ]
  },
  {
   "cell_type": "code",
   "execution_count": 104,
   "metadata": {},
   "outputs": [
    {
     "data": {
      "text/html": [
       "<div>\n",
       "<style scoped>\n",
       "    .dataframe tbody tr th:only-of-type {\n",
       "        vertical-align: middle;\n",
       "    }\n",
       "\n",
       "    .dataframe tbody tr th {\n",
       "        vertical-align: top;\n",
       "    }\n",
       "\n",
       "    .dataframe thead th {\n",
       "        text-align: right;\n",
       "    }\n",
       "</style>\n",
       "<table border=\"1\" class=\"dataframe\">\n",
       "  <thead>\n",
       "    <tr style=\"text-align: right;\">\n",
       "      <th></th>\n",
       "      <th>members</th>\n",
       "      <th>name</th>\n",
       "    </tr>\n",
       "  </thead>\n",
       "  <tbody>\n",
       "    <tr>\n",
       "      <th>34</th>\n",
       "      <td>31666</td>\n",
       "      <td>Plains Pipeline (Group)</td>\n",
       "    </tr>\n",
       "    <tr>\n",
       "      <th>35</th>\n",
       "      <td>26085</td>\n",
       "      <td>Plains Pipeline (Group)</td>\n",
       "    </tr>\n",
       "    <tr>\n",
       "      <th>36</th>\n",
       "      <td>31189</td>\n",
       "      <td>BP (Group)</td>\n",
       "    </tr>\n",
       "    <tr>\n",
       "      <th>37</th>\n",
       "      <td>18386</td>\n",
       "      <td>BP (Group)</td>\n",
       "    </tr>\n",
       "    <tr>\n",
       "      <th>38</th>\n",
       "      <td>30781</td>\n",
       "      <td>Enbridge (Group)</td>\n",
       "    </tr>\n",
       "  </tbody>\n",
       "</table>\n",
       "</div>"
      ],
      "text/plain": [
       "   members                     name\n",
       "34   31666  Plains Pipeline (Group)\n",
       "35   26085  Plains Pipeline (Group)\n",
       "36   31189               BP (Group)\n",
       "37   18386               BP (Group)\n",
       "38   30781         Enbridge (Group)"
      ]
     },
     "execution_count": 104,
     "metadata": {},
     "output_type": "execute_result"
    }
   ],
   "source": [
    "company_groups = add_company_group('Enbridge (Group)', ['30781'], company_groups)\n",
    "company_groups.tail()"
   ]
  },
  {
   "cell_type": "markdown",
   "metadata": {},
   "source": [
    "### 8.2.19 Tesoro"
   ]
  },
  {
   "cell_type": "code",
   "execution_count": 105,
   "metadata": {},
   "outputs": [
    {
     "name": "stdout",
     "output_type": "stream",
     "text": [
      "\n",
      "TESORO LOGISTICS NORTHWEST PIPELINE LLC (OPERATOR_ID 39029) may have a namesake or namesakes:\n",
      "\n",
      "\tTESORO LOGISTICS OPERATIONS LLC - SOUTHERN CALIFORNIA (OPERATOR_ID 38933)\n",
      "\n"
     ]
    }
   ],
   "source": [
    "print(next(issues))"
   ]
  },
  {
   "cell_type": "markdown",
   "metadata": {},
   "source": [
    "Already addressed above (Marathon)."
   ]
  },
  {
   "cell_type": "markdown",
   "metadata": {},
   "source": [
    "### 8.2.20 Express Holdings"
   ]
  },
  {
   "cell_type": "code",
   "execution_count": 106,
   "metadata": {},
   "outputs": [
    {
     "name": "stdout",
     "output_type": "stream",
     "text": [
      "\n",
      "EXPRESS HOLDINGS (USA), LLC (OPERATOR_ID 31720) has changed its name:\n",
      "\n",
      "\tWas named EXPRESS HOLDINGS (USA), LLC from 2013 to 2018.\n",
      "\n",
      "\tWas named KINDER MORGAN PIPELINES (USA) INC from 2010 to 2012.\n",
      "\n",
      "EXPRESS HOLDINGS (USA), LLC (OPERATOR_ID 31720) may have a namesake or namesakes:\n",
      "\n",
      "\tTALLGRASS PONY EXPRESS PIPELINE, LLC (OPERATOR_ID 39043)\n",
      "\n",
      "\tPERMIAN EXPRESS PARTNERS LLC (OPERATOR_ID 39596)\n",
      "\n",
      "\tKINDER MORGAN COCHIN LLC (OPERATOR_ID 32258)\n",
      "\n"
     ]
    }
   ],
   "source": [
    "print(next(issues))"
   ]
  },
  {
   "cell_type": "markdown",
   "metadata": {},
   "source": [
    "Kinder Morgan already adressed above (8.2.10). No new relevant namesakes."
   ]
  },
  {
   "cell_type": "markdown",
   "metadata": {},
   "source": [
    "### 8.2.21"
   ]
  },
  {
   "cell_type": "code",
   "execution_count": 107,
   "metadata": {},
   "outputs": [
    {
     "ename": "StopIteration",
     "evalue": "",
     "output_type": "error",
     "traceback": [
      "\u001b[0;31m---------------------------------------------------------------------------\u001b[0m",
      "\u001b[0;31mStopIteration\u001b[0m                             Traceback (most recent call last)",
      "\u001b[0;32m<ipython-input-107-299de9c15250>\u001b[0m in \u001b[0;36m<module>\u001b[0;34m\u001b[0m\n\u001b[0;32m----> 1\u001b[0;31m \u001b[0mprint\u001b[0m\u001b[0;34m(\u001b[0m\u001b[0mnext\u001b[0m\u001b[0;34m(\u001b[0m\u001b[0missues\u001b[0m\u001b[0;34m)\u001b[0m\u001b[0;34m)\u001b[0m\u001b[0;34m\u001b[0m\u001b[0;34m\u001b[0m\u001b[0m\n\u001b[0m",
      "\u001b[0;31mStopIteration\u001b[0m: "
     ]
    }
   ],
   "source": [
    "print(next(issues))"
   ]
  },
  {
   "cell_type": "markdown",
   "metadata": {},
   "source": [
    "## 8.3 Overview"
   ]
  },
  {
   "cell_type": "code",
   "execution_count": 108,
   "metadata": {},
   "outputs": [
    {
     "data": {
      "text/html": [
       "<div>\n",
       "<style scoped>\n",
       "    .dataframe tbody tr th:only-of-type {\n",
       "        vertical-align: middle;\n",
       "    }\n",
       "\n",
       "    .dataframe tbody tr th {\n",
       "        vertical-align: top;\n",
       "    }\n",
       "\n",
       "    .dataframe thead th {\n",
       "        text-align: right;\n",
       "    }\n",
       "</style>\n",
       "<table border=\"1\" class=\"dataframe\">\n",
       "  <thead>\n",
       "    <tr style=\"text-align: right;\">\n",
       "      <th></th>\n",
       "      <th>members</th>\n",
       "      <th>name</th>\n",
       "    </tr>\n",
       "  </thead>\n",
       "  <tbody>\n",
       "    <tr>\n",
       "      <th>0</th>\n",
       "      <td>31618</td>\n",
       "      <td>Enterprise Products (Group)</td>\n",
       "    </tr>\n",
       "    <tr>\n",
       "      <th>1</th>\n",
       "      <td>30829</td>\n",
       "      <td>Enterprise Products (Group)</td>\n",
       "    </tr>\n",
       "    <tr>\n",
       "      <th>2</th>\n",
       "      <td>3445</td>\n",
       "      <td>Enterprise Products (Group)</td>\n",
       "    </tr>\n",
       "    <tr>\n",
       "      <th>3</th>\n",
       "      <td>22610</td>\n",
       "      <td>Magellan (Group)</td>\n",
       "    </tr>\n",
       "    <tr>\n",
       "      <th>4</th>\n",
       "      <td>12105</td>\n",
       "      <td>Magellan (Group)</td>\n",
       "    </tr>\n",
       "    <tr>\n",
       "      <th>5</th>\n",
       "      <td>39504</td>\n",
       "      <td>Magellan (Group)</td>\n",
       "    </tr>\n",
       "    <tr>\n",
       "      <th>6</th>\n",
       "      <td>15485</td>\n",
       "      <td>Phillips 66 (Group)</td>\n",
       "    </tr>\n",
       "    <tr>\n",
       "      <th>7</th>\n",
       "      <td>31684</td>\n",
       "      <td>Phillips 66 (Group)</td>\n",
       "    </tr>\n",
       "    <tr>\n",
       "      <th>8</th>\n",
       "      <td>1845</td>\n",
       "      <td>Buckeye (Group)</td>\n",
       "    </tr>\n",
       "    <tr>\n",
       "      <th>9</th>\n",
       "      <td>31371</td>\n",
       "      <td>Buckeye (Group)</td>\n",
       "    </tr>\n",
       "    <tr>\n",
       "      <th>10</th>\n",
       "      <td>18718</td>\n",
       "      <td>Sunoco (Group)</td>\n",
       "    </tr>\n",
       "    <tr>\n",
       "      <th>11</th>\n",
       "      <td>12470</td>\n",
       "      <td>Sunoco (Group)</td>\n",
       "    </tr>\n",
       "    <tr>\n",
       "      <th>12</th>\n",
       "      <td>39596</td>\n",
       "      <td>Sunoco (Group)</td>\n",
       "    </tr>\n",
       "    <tr>\n",
       "      <th>13</th>\n",
       "      <td>32683</td>\n",
       "      <td>Sunoco (Group)</td>\n",
       "    </tr>\n",
       "    <tr>\n",
       "      <th>14</th>\n",
       "      <td>32099</td>\n",
       "      <td>Energy Transfer (Group)</td>\n",
       "    </tr>\n",
       "    <tr>\n",
       "      <th>15</th>\n",
       "      <td>39205</td>\n",
       "      <td>Energy Transfer (Group)</td>\n",
       "    </tr>\n",
       "    <tr>\n",
       "      <th>16</th>\n",
       "      <td>10012</td>\n",
       "      <td>NuStar</td>\n",
       "    </tr>\n",
       "    <tr>\n",
       "      <th>17</th>\n",
       "      <td>31454</td>\n",
       "      <td>NuStar</td>\n",
       "    </tr>\n",
       "    <tr>\n",
       "      <th>18</th>\n",
       "      <td>15674</td>\n",
       "      <td>Kinder Morgan (Group)</td>\n",
       "    </tr>\n",
       "    <tr>\n",
       "      <th>19</th>\n",
       "      <td>18092</td>\n",
       "      <td>Kinder Morgan (Group)</td>\n",
       "    </tr>\n",
       "    <tr>\n",
       "      <th>20</th>\n",
       "      <td>26125</td>\n",
       "      <td>Kinder Morgan (Group)</td>\n",
       "    </tr>\n",
       "    <tr>\n",
       "      <th>21</th>\n",
       "      <td>32258</td>\n",
       "      <td>Kinder Morgan (Group)</td>\n",
       "    </tr>\n",
       "    <tr>\n",
       "      <th>22</th>\n",
       "      <td>11169</td>\n",
       "      <td>Enbridge (Group)</td>\n",
       "    </tr>\n",
       "    <tr>\n",
       "      <th>23</th>\n",
       "      <td>32080</td>\n",
       "      <td>Enbridge (Group)</td>\n",
       "    </tr>\n",
       "    <tr>\n",
       "      <th>24</th>\n",
       "      <td>32502</td>\n",
       "      <td>Enbridge (Group)</td>\n",
       "    </tr>\n",
       "    <tr>\n",
       "      <th>25</th>\n",
       "      <td>31947</td>\n",
       "      <td>Enbridge (Group)</td>\n",
       "    </tr>\n",
       "    <tr>\n",
       "      <th>26</th>\n",
       "      <td>32147</td>\n",
       "      <td>Marathon (Group)</td>\n",
       "    </tr>\n",
       "    <tr>\n",
       "      <th>27</th>\n",
       "      <td>22830</td>\n",
       "      <td>Marathon (Group)</td>\n",
       "    </tr>\n",
       "    <tr>\n",
       "      <th>28</th>\n",
       "      <td>38933</td>\n",
       "      <td>Tesoro (Group)</td>\n",
       "    </tr>\n",
       "    <tr>\n",
       "      <th>29</th>\n",
       "      <td>39029</td>\n",
       "      <td>Tesoro (Group)</td>\n",
       "    </tr>\n",
       "    <tr>\n",
       "      <th>30</th>\n",
       "      <td>4906</td>\n",
       "      <td>ExxonMobil (Group)</td>\n",
       "    </tr>\n",
       "    <tr>\n",
       "      <th>31</th>\n",
       "      <td>12628</td>\n",
       "      <td>ExxonMobil (Group)</td>\n",
       "    </tr>\n",
       "    <tr>\n",
       "      <th>32</th>\n",
       "      <td>26134</td>\n",
       "      <td>ExxonMobil (Group)</td>\n",
       "    </tr>\n",
       "    <tr>\n",
       "      <th>33</th>\n",
       "      <td>300</td>\n",
       "      <td>Plains Pipeline (Group)</td>\n",
       "    </tr>\n",
       "    <tr>\n",
       "      <th>34</th>\n",
       "      <td>31666</td>\n",
       "      <td>Plains Pipeline (Group)</td>\n",
       "    </tr>\n",
       "    <tr>\n",
       "      <th>35</th>\n",
       "      <td>26085</td>\n",
       "      <td>Plains Pipeline (Group)</td>\n",
       "    </tr>\n",
       "    <tr>\n",
       "      <th>36</th>\n",
       "      <td>31189</td>\n",
       "      <td>BP (Group)</td>\n",
       "    </tr>\n",
       "    <tr>\n",
       "      <th>37</th>\n",
       "      <td>18386</td>\n",
       "      <td>BP (Group)</td>\n",
       "    </tr>\n",
       "    <tr>\n",
       "      <th>38</th>\n",
       "      <td>30781</td>\n",
       "      <td>Enbridge (Group)</td>\n",
       "    </tr>\n",
       "  </tbody>\n",
       "</table>\n",
       "</div>"
      ],
      "text/plain": [
       "   members                         name\n",
       "0    31618  Enterprise Products (Group)\n",
       "1    30829  Enterprise Products (Group)\n",
       "2     3445  Enterprise Products (Group)\n",
       "3    22610             Magellan (Group)\n",
       "4    12105             Magellan (Group)\n",
       "5    39504             Magellan (Group)\n",
       "6    15485          Phillips 66 (Group)\n",
       "7    31684          Phillips 66 (Group)\n",
       "8     1845              Buckeye (Group)\n",
       "9    31371              Buckeye (Group)\n",
       "10   18718               Sunoco (Group)\n",
       "11   12470               Sunoco (Group)\n",
       "12   39596               Sunoco (Group)\n",
       "13   32683               Sunoco (Group)\n",
       "14   32099      Energy Transfer (Group)\n",
       "15   39205      Energy Transfer (Group)\n",
       "16   10012                       NuStar\n",
       "17   31454                       NuStar\n",
       "18   15674        Kinder Morgan (Group)\n",
       "19   18092        Kinder Morgan (Group)\n",
       "20   26125        Kinder Morgan (Group)\n",
       "21   32258        Kinder Morgan (Group)\n",
       "22   11169             Enbridge (Group)\n",
       "23   32080             Enbridge (Group)\n",
       "24   32502             Enbridge (Group)\n",
       "25   31947             Enbridge (Group)\n",
       "26   32147             Marathon (Group)\n",
       "27   22830             Marathon (Group)\n",
       "28   38933               Tesoro (Group)\n",
       "29   39029               Tesoro (Group)\n",
       "30    4906           ExxonMobil (Group)\n",
       "31   12628           ExxonMobil (Group)\n",
       "32   26134           ExxonMobil (Group)\n",
       "33     300      Plains Pipeline (Group)\n",
       "34   31666      Plains Pipeline (Group)\n",
       "35   26085      Plains Pipeline (Group)\n",
       "36   31189                   BP (Group)\n",
       "37   18386                   BP (Group)\n",
       "38   30781             Enbridge (Group)"
      ]
     },
     "execution_count": 108,
     "metadata": {},
     "output_type": "execute_result"
    }
   ],
   "source": [
    "company_groups"
   ]
  },
  {
   "cell_type": "code",
   "execution_count": 109,
   "metadata": {},
   "outputs": [
    {
     "data": {
      "text/html": [
       "<div>\n",
       "<style scoped>\n",
       "    .dataframe tbody tr th:only-of-type {\n",
       "        vertical-align: middle;\n",
       "    }\n",
       "\n",
       "    .dataframe tbody tr th {\n",
       "        vertical-align: top;\n",
       "    }\n",
       "\n",
       "    .dataframe thead th {\n",
       "        text-align: right;\n",
       "    }\n",
       "</style>\n",
       "<table border=\"1\" class=\"dataframe\">\n",
       "  <thead>\n",
       "    <tr style=\"text-align: right;\">\n",
       "      <th></th>\n",
       "      <th>members</th>\n",
       "      <th>name</th>\n",
       "      <th>start_year</th>\n",
       "      <th>end_year</th>\n",
       "    </tr>\n",
       "  </thead>\n",
       "  <tbody>\n",
       "    <tr>\n",
       "      <th>0</th>\n",
       "      <td>Sunoco (Group)</td>\n",
       "      <td>Sunoco (Group)</td>\n",
       "      <td>2017</td>\n",
       "      <td>NaN</td>\n",
       "    </tr>\n",
       "    <tr>\n",
       "      <th>1</th>\n",
       "      <td>Energy Transfer (Group)</td>\n",
       "      <td>Sunoco (Group)</td>\n",
       "      <td>2017</td>\n",
       "      <td>NaN</td>\n",
       "    </tr>\n",
       "    <tr>\n",
       "      <th>2</th>\n",
       "      <td>Kinder Morgan (Group)</td>\n",
       "      <td>Kinder Morgan (Group)</td>\n",
       "      <td>NaN</td>\n",
       "      <td>2013</td>\n",
       "    </tr>\n",
       "    <tr>\n",
       "      <th>3</th>\n",
       "      <td>31720</td>\n",
       "      <td>Kinder Morgan (Group)</td>\n",
       "      <td>NaN</td>\n",
       "      <td>2013</td>\n",
       "    </tr>\n",
       "    <tr>\n",
       "      <th>4</th>\n",
       "      <td>Enbridge (Group)</td>\n",
       "      <td>Enbridge (Group)</td>\n",
       "      <td>2017</td>\n",
       "      <td>NaN</td>\n",
       "    </tr>\n",
       "    <tr>\n",
       "      <th>5</th>\n",
       "      <td>31720</td>\n",
       "      <td>Enbridge (Group)</td>\n",
       "      <td>2017</td>\n",
       "      <td>NaN</td>\n",
       "    </tr>\n",
       "    <tr>\n",
       "      <th>6</th>\n",
       "      <td>Marathon (Group)</td>\n",
       "      <td>Marathon (Group)</td>\n",
       "      <td>2018</td>\n",
       "      <td>NaN</td>\n",
       "    </tr>\n",
       "    <tr>\n",
       "      <th>7</th>\n",
       "      <td>Tesoro (Group)</td>\n",
       "      <td>Marathon (Group)</td>\n",
       "      <td>2018</td>\n",
       "      <td>NaN</td>\n",
       "    </tr>\n",
       "  </tbody>\n",
       "</table>\n",
       "</div>"
      ],
      "text/plain": [
       "                   members                   name start_year end_year\n",
       "0           Sunoco (Group)         Sunoco (Group)       2017      NaN\n",
       "1  Energy Transfer (Group)         Sunoco (Group)       2017      NaN\n",
       "2    Kinder Morgan (Group)  Kinder Morgan (Group)        NaN     2013\n",
       "3                    31720  Kinder Morgan (Group)        NaN     2013\n",
       "4         Enbridge (Group)       Enbridge (Group)       2017      NaN\n",
       "5                    31720       Enbridge (Group)       2017      NaN\n",
       "6         Marathon (Group)       Marathon (Group)       2018      NaN\n",
       "7           Tesoro (Group)       Marathon (Group)       2018      NaN"
      ]
     },
     "execution_count": 109,
     "metadata": {},
     "output_type": "execute_result"
    }
   ],
   "source": [
    "m_as"
   ]
  },
  {
   "cell_type": "code",
   "execution_count": 110,
   "metadata": {},
   "outputs": [
    {
     "data": {
      "text/plain": [
       "[{'name': 'Phillips 66 (Group)', 'year': '2011'}]"
      ]
     },
     "execution_count": 110,
     "metadata": {},
     "output_type": "execute_result"
    }
   ],
   "source": [
    "spin_offs"
   ]
  },
  {
   "cell_type": "code",
   "execution_count": 111,
   "metadata": {},
   "outputs": [],
   "source": [
    "company_groups.to_feather(f'../preprocessed_data/company_groups_{today}.feather')\n",
    "m_as.to_feather(f'../preprocessed_data/m_as_{today}.feather')"
   ]
  },
  {
   "cell_type": "code",
   "execution_count": null,
   "metadata": {},
   "outputs": [],
   "source": []
  }
 ],
 "metadata": {
  "kernelspec": {
   "display_name": "oil_industry",
   "language": "python",
   "name": "oil_industry"
  },
  "language_info": {
   "codemirror_mode": {
    "name": "ipython",
    "version": 3
   },
   "file_extension": ".py",
   "mimetype": "text/x-python",
   "name": "python",
   "nbconvert_exporter": "python",
   "pygments_lexer": "ipython3",
   "version": "3.6.8"
  }
 },
 "nbformat": 4,
 "nbformat_minor": 4
}
