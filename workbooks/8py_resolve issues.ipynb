{
 "cells": [
  {
   "cell_type": "markdown",
   "metadata": {},
   "source": [
    "# 8. Resolve data issues"
   ]
  },
  {
   "cell_type": "markdown",
   "metadata": {},
   "source": [
    "The analysis in section 8.2 is based on data retrieved from LexisNexis (LexisNexis Dossier)."
   ]
  },
  {
   "cell_type": "code",
   "execution_count": 1,
   "metadata": {},
   "outputs": [],
   "source": [
    "sample_file = '../preprocessed_data/sample_2019-09-10.feather'\n",
    "issues_to_address = '../preprocessed_data/issues_to_address_2019-09-10.pickle'\n",
    "names_table_file = '../preprocessed_data/names_table_2019-09-09.feather'\n",
    "\n",
    "pipelines_2010_raw = '../data/pipelines_2010_2019-08-11.feather'\n",
    "pipelines_2004_raw = '../data/pipelines_2004_2019-08-11.feather'"
   ]
  },
  {
   "cell_type": "markdown",
   "metadata": {},
   "source": [
    "## Setup"
   ]
  },
  {
   "cell_type": "code",
   "execution_count": 2,
   "metadata": {},
   "outputs": [],
   "source": [
    "import pandas as pd\n",
    "import numpy as np\n",
    "from datetime import date\n",
    "from functools import partial\n",
    "\n",
    "today = date.today().isoformat()"
   ]
  },
  {
   "cell_type": "markdown",
   "metadata": {},
   "source": [
    "## Load data"
   ]
  },
  {
   "cell_type": "code",
   "execution_count": 3,
   "metadata": {},
   "outputs": [],
   "source": [
    "import pickle\n",
    "\n",
    "with open(issues_to_address, 'rb') as file:\n",
    "    issues = pickle.load(file)\n",
    "    \n",
    "issues = (issue for issue in issues)"
   ]
  },
  {
   "cell_type": "code",
   "execution_count": 4,
   "metadata": {},
   "outputs": [],
   "source": [
    "sample = pd.read_feather(sample_file)\n",
    "sample.sample(5)\n",
    "assert sample.duplicated(subset=['OPERATOR_ID', 'YEAR', 'COMMODITY']).sum() == 0"
   ]
  },
  {
   "cell_type": "code",
   "execution_count": 5,
   "metadata": {},
   "outputs": [
    {
     "data": {
      "text/html": [
       "<div>\n",
       "<style scoped>\n",
       "    .dataframe tbody tr th:only-of-type {\n",
       "        vertical-align: middle;\n",
       "    }\n",
       "\n",
       "    .dataframe tbody tr th {\n",
       "        vertical-align: top;\n",
       "    }\n",
       "\n",
       "    .dataframe thead th {\n",
       "        text-align: right;\n",
       "    }\n",
       "</style>\n",
       "<table border=\"1\" class=\"dataframe\">\n",
       "  <thead>\n",
       "    <tr style=\"text-align: right;\">\n",
       "      <th></th>\n",
       "      <th>OPERATOR_ID</th>\n",
       "      <th>YEAR</th>\n",
       "      <th>NAME</th>\n",
       "      <th>STREET</th>\n",
       "    </tr>\n",
       "  </thead>\n",
       "  <tbody>\n",
       "    <tr>\n",
       "      <th>6307</th>\n",
       "      <td>30755</td>\n",
       "      <td>2009</td>\n",
       "      <td>Citgo Products Pipeline Co</td>\n",
       "      <td>6100 S. YALE, PO 3758</td>\n",
       "    </tr>\n",
       "    <tr>\n",
       "      <th>4018</th>\n",
       "      <td>99031</td>\n",
       "      <td>2018</td>\n",
       "      <td>Citgo Petroleum Corporation Terminals</td>\n",
       "      <td>1293 ELDRIDGE PARKWAY</td>\n",
       "    </tr>\n",
       "    <tr>\n",
       "      <th>2750</th>\n",
       "      <td>32493</td>\n",
       "      <td>2013</td>\n",
       "      <td>Unev Pipeline Llc</td>\n",
       "      <td>2828 N. HARWOOD ST., SUITE 1300</td>\n",
       "    </tr>\n",
       "  </tbody>\n",
       "</table>\n",
       "</div>"
      ],
      "text/plain": [
       "      OPERATOR_ID  YEAR                                   NAME  \\\n",
       "6307        30755  2009             Citgo Products Pipeline Co   \n",
       "4018        99031  2018  Citgo Petroleum Corporation Terminals   \n",
       "2750        32493  2013                      Unev Pipeline Llc   \n",
       "\n",
       "                               STREET  \n",
       "6307            6100 S. YALE, PO 3758  \n",
       "4018            1293 ELDRIDGE PARKWAY  \n",
       "2750  2828 N. HARWOOD ST., SUITE 1300  "
      ]
     },
     "execution_count": 5,
     "metadata": {},
     "output_type": "execute_result"
    }
   ],
   "source": [
    "names_table = pd.read_feather(names_table_file)\n",
    "names_table['NAME'] = names_table['NAME'].str.title()\n",
    "names_table['NAME'] = names_table['NAME'].str.replace(r'[^A-Za-z0-9\\s]+', '')\n",
    "names_table.sample(3)"
   ]
  },
  {
   "cell_type": "code",
   "execution_count": 6,
   "metadata": {},
   "outputs": [],
   "source": [
    "pipelines_2010_raw = pd.read_feather(pipelines_2010_raw)\n",
    "pipelines_2004_raw = pd.read_feather(pipelines_2004_raw)"
   ]
  },
  {
   "cell_type": "markdown",
   "metadata": {},
   "source": [
    "## 8.1 Functions for analysis"
   ]
  },
  {
   "cell_type": "code",
   "execution_count": 7,
   "metadata": {},
   "outputs": [
    {
     "data": {
      "text/plain": [
       "[{'name': 'Dixie Pipeline',\n",
       "  'start_year': 2007,\n",
       "  'end_year': 2010,\n",
       "  'id_': '3445'},\n",
       " {'name': 'Dixie Pipeline Company',\n",
       "  'start_year': 2004,\n",
       "  'end_year': 2006,\n",
       "  'id_': '3445'},\n",
       " {'name': 'Dixie Pipeline Company Llc',\n",
       "  'start_year': 2011,\n",
       "  'end_year': 2018,\n",
       "  'id_': '3445'}]"
      ]
     },
     "execution_count": 7,
     "metadata": {},
     "output_type": "execute_result"
    }
   ],
   "source": [
    "from functools import partial\n",
    "\n",
    "def find_info(OPERATOR_ID, info_col: str, title: str, df = names_table, id_col = 'OPERATOR_ID', \n",
    "              year_col = 'YEAR', fuzzy=False):\n",
    "    from fuzzywuzzy import fuzz\n",
    "    \n",
    "    values = np.unique(df[df[id_col] == int(OPERATOR_ID)][info_col]).tolist()\n",
    "    result = []\n",
    "    for value in values:\n",
    "        start_year = df[df[info_col] == value][year_col].min()\n",
    "        end_year = df[df[info_col] == value][year_col].max()\n",
    "        id_ = OPERATOR_ID\n",
    "        result = result + [{title: value, 'start_year': start_year, 'end_year': end_year, 'id_': id_}]\n",
    "        \n",
    "    if fuzzy and len(result) == 2 and fuzz.ratio(result[0][title].lower(), result[1][title].lower()) >= 95:\n",
    "            result = [result[0]]\n",
    "            \n",
    "    return(result)\n",
    "\n",
    "find_address = partial(find_info, info_col='STREET', title='street')\n",
    "find_name = partial(find_info, info_col='NAME', title='name', fuzzy=True)\n",
    "find_name('3445')"
   ]
  },
  {
   "cell_type": "code",
   "execution_count": 8,
   "metadata": {},
   "outputs": [
    {
     "name": "stdout",
     "output_type": "stream",
     "text": [
      "\n",
      "Organization 3445 has changed its name:\n",
      "    3445 was named Dixie Pipeline from 2007 to 2010.\n",
      "    3445 was named Dixie Pipeline Company from 2004 to 2006.\n",
      "    3445 was named Dixie Pipeline Company Llc from 2011 to 2018.\n"
     ]
    }
   ],
   "source": [
    "def report_names(names: list):\n",
    "    for name in names: \n",
    "        hist = find_name(name)\n",
    "        if len(hist) > 1:\n",
    "            print(f\"\\nOrganization {hist[0]['id_']} has changed its name:\")\n",
    "            for row in hist:\n",
    "                print(f\"    {row['id_']} was named {row['name']} from {row['start_year']} to {row['end_year']}.\")\n",
    "    \n",
    "    if max([len(find_name(name)) for name in names]) < 2:\n",
    "        print('No organizations were renamed at any time.')\n",
    "\n",
    "report_names(['4907', '3445'])"
   ]
  },
  {
   "cell_type": "code",
   "execution_count": 9,
   "metadata": {},
   "outputs": [
    {
     "data": {
      "text/plain": [
       "2113.75"
      ]
     },
     "execution_count": 9,
     "metadata": {},
     "output_type": "execute_result"
    }
   ],
   "source": [
    "def find_total_miles_year(OPERATOR_ID, year, df = pipelines_2010_raw, year_col = 'REPORT_YEAR', \n",
    "                          id_col = 'OPERATOR_ID', miles_col='PARTBHCATOTAL'):\n",
    "    observations = df.loc[(df[year_col] == year) & (df[id_col] == int(OPERATOR_ID))][miles_col]\n",
    "    return observations.sum()\n",
    "\n",
    "find_total_miles_year('4906', 2015)"
   ]
  },
  {
   "cell_type": "code",
   "execution_count": 10,
   "metadata": {},
   "outputs": [
    {
     "data": {
      "text/plain": [
       "[[2013, 2944.4], [2014, 2343.06], [2015, 2113.75], [2016, 2590.17]]"
      ]
     },
     "execution_count": 10,
     "metadata": {},
     "output_type": "execute_result"
    }
   ],
   "source": [
    "def find_total_miles(OPERATOR_ID, years, df = pipelines_2010_raw, year_col = 'REPORT_YEAR', miles_col='PARTBHCATOTAL', id_col='OPERATOR_ID'):\n",
    "    result = []\n",
    "    for year in years:\n",
    "        result.append([year, find_total_miles_year(OPERATOR_ID, year, df=df, year_col=year_col, id_col=id_col, miles_col=miles_col)])\n",
    "    return(result)\n",
    "\n",
    "find_total_miles('4906', range(2013, 2017))"
   ]
  },
  {
   "cell_type": "code",
   "execution_count": 11,
   "metadata": {},
   "outputs": [
    {
     "data": {
      "text/plain": [
       "[[2007, 12.0], [2008, 14.0], [2009, 14.0]]"
      ]
     },
     "execution_count": 11,
     "metadata": {},
     "output_type": "execute_result"
    }
   ],
   "source": [
    "find_total_miles_2004 = partial(find_total_miles, df = pipelines_2004_raw, year_col = 'YR', miles_col = 'HCAONM')\n",
    "find_total_miles_2004(31579, range(2007, 2010))"
   ]
  },
  {
   "cell_type": "markdown",
   "metadata": {},
   "source": [
    "## 8.2 Iterate over issues and resolve them one at a time"
   ]
  },
  {
   "cell_type": "markdown",
   "metadata": {},
   "source": [
    "We use the dictionary \"company groups\" to capture any companies we have to combine to form one observation. At every step we consult ownership_changes.txt to see if there are changed in ownership over time."
   ]
  },
  {
   "cell_type": "markdown",
   "metadata": {},
   "source": [
    "### Store results in"
   ]
  },
  {
   "cell_type": "code",
   "execution_count": 12,
   "metadata": {},
   "outputs": [],
   "source": [
    "company_groups = pd.DataFrame()\n",
    "\n",
    "def add_company_group(name: str, members: list, df = company_groups):\n",
    "    new_group = pd.DataFrame({'members': members})\n",
    "    new_group['name'] = name\n",
    "    df = df.append(new_group, ignore_index=True)\n",
    "    return df"
   ]
  },
  {
   "cell_type": "code",
   "execution_count": 13,
   "metadata": {},
   "outputs": [],
   "source": [
    "m_as = pd.DataFrame()\n",
    "\n",
    "def add_m_a(name: str, members: list, df, start_year: str = None, end_year: str = None):\n",
    "    new_group = pd.DataFrame({'members': members})\n",
    "    new_group['name'] = name\n",
    "    \n",
    "    if start_year:\n",
    "        new_group['start_year'] = start_year\n",
    "    if end_year:\n",
    "        new_group['end_year'] = end_year\n",
    "    \n",
    "    df = df.append(new_group, sort=False, ignore_index=True)\n",
    "    return df"
   ]
  },
  {
   "cell_type": "code",
   "execution_count": 14,
   "metadata": {},
   "outputs": [],
   "source": [
    "spin_offs = []"
   ]
  },
  {
   "cell_type": "markdown",
   "metadata": {},
   "source": [
    "### 8.2.1 Enterprise Products Operating"
   ]
  },
  {
   "cell_type": "code",
   "execution_count": 15,
   "metadata": {},
   "outputs": [
    {
     "name": "stdout",
     "output_type": "stream",
     "text": [
      "\n",
      "ENTERPRISE PRODUCTS OPERATING LLC (OPERATOR_ID 31618) has the same parent company as:\n",
      "\n",
      "\tDIXIE PIPELINE COMPANY LLC (OPERATOR_ID 3445)\n",
      "\n",
      "\tOILTANKING, HOUSTON LP (OPERATOR_ID 14194)\n",
      "\n",
      "\tENTERPRISE CRUDE PIPELINE LLC (OPERATOR_ID 30829)\n",
      "\n",
      "\tTRI-STATES NGL PIPELINE LLC (OPERATOR_ID 31270)\n",
      "\n",
      "\tTEPPCO MIDSTREAM COMPANIES, LLC (OPERATOR_ID 32209)\n",
      "\n"
     ]
    }
   ],
   "source": [
    "print(next(issues))"
   ]
  },
  {
   "cell_type": "code",
   "execution_count": 16,
   "metadata": {},
   "outputs": [
    {
     "name": "stdout",
     "output_type": "stream",
     "text": [
      "\n",
      "Organization 3445 has changed its name:\n",
      "    3445 was named Dixie Pipeline from 2007 to 2010.\n",
      "    3445 was named Dixie Pipeline Company from 2004 to 2006.\n",
      "    3445 was named Dixie Pipeline Company Llc from 2011 to 2018.\n",
      "\n",
      "Organization 14194 has changed its name:\n",
      "    14194 was named Oil Tanking Houston LP from 2005 to 2005.\n",
      "    14194 was named Oiltanking Houston LP from 2006 to 2006.\n",
      "    14194 was named Oiltanking Houston Lp from 2004 to 2018.\n",
      "\n",
      "Organization 30829 has changed its name:\n",
      "    30829 was named Enterprise Crude Pipeline Llc from 2010 to 2018.\n",
      "    30829 was named Teppco Crude Pipeline LP from 2004 to 2006.\n",
      "    30829 was named Teppco Crude Pipeline LP  from 2004 to 2004.\n",
      "    30829 was named Teppco Crude Pipeline Llc from 2007 to 2009.\n",
      "    30829 was named Tteppco Crude Pipeline LP from 2005 to 2005.\n"
     ]
    }
   ],
   "source": [
    "report_names(['31618', '3445', '14194', '30829', '31270', '32209'])"
   ]
  },
  {
   "cell_type": "markdown",
   "metadata": {},
   "source": [
    "As per ownership_changes.txt, enterprise products hold a majority stake in Dixie Pipelines since at leat 2005, since data on an M&A is missing, we assume it has held a majority stake for the whole observation period before that. Teppco was acquired on Oct 26, 2009 (Deal Number 511604)."
   ]
  },
  {
   "cell_type": "code",
   "execution_count": 17,
   "metadata": {},
   "outputs": [
    {
     "data": {
      "text/html": [
       "<div>\n",
       "<style scoped>\n",
       "    .dataframe tbody tr th:only-of-type {\n",
       "        vertical-align: middle;\n",
       "    }\n",
       "\n",
       "    .dataframe tbody tr th {\n",
       "        vertical-align: top;\n",
       "    }\n",
       "\n",
       "    .dataframe thead th {\n",
       "        text-align: right;\n",
       "    }\n",
       "</style>\n",
       "<table border=\"1\" class=\"dataframe\">\n",
       "  <thead>\n",
       "    <tr style=\"text-align: right;\">\n",
       "      <th></th>\n",
       "      <th>members</th>\n",
       "      <th>name</th>\n",
       "    </tr>\n",
       "  </thead>\n",
       "  <tbody>\n",
       "    <tr>\n",
       "      <th>0</th>\n",
       "      <td>30829</td>\n",
       "      <td>Teppco (Group)</td>\n",
       "    </tr>\n",
       "    <tr>\n",
       "      <th>1</th>\n",
       "      <td>32209</td>\n",
       "      <td>Teppco (Group)</td>\n",
       "    </tr>\n",
       "    <tr>\n",
       "      <th>2</th>\n",
       "      <td>3445</td>\n",
       "      <td>Teppco (Group)</td>\n",
       "    </tr>\n",
       "  </tbody>\n",
       "</table>\n",
       "</div>"
      ],
      "text/plain": [
       "  members            name\n",
       "0   30829  Teppco (Group)\n",
       "1   32209  Teppco (Group)\n",
       "2    3445  Teppco (Group)"
      ]
     },
     "execution_count": 17,
     "metadata": {},
     "output_type": "execute_result"
    }
   ],
   "source": [
    "company_groups = add_company_group('Enterprise Products (Group)', ['31618', '14194', '31270'], company_groups)\n",
    "company_groups = add_company_group('Teppco (Group)', ['30829', '32209', '3445'])\n",
    "company_groups.tail()"
   ]
  },
  {
   "cell_type": "code",
   "execution_count": 18,
   "metadata": {},
   "outputs": [
    {
     "data": {
      "text/html": [
       "<div>\n",
       "<style scoped>\n",
       "    .dataframe tbody tr th:only-of-type {\n",
       "        vertical-align: middle;\n",
       "    }\n",
       "\n",
       "    .dataframe tbody tr th {\n",
       "        vertical-align: top;\n",
       "    }\n",
       "\n",
       "    .dataframe thead th {\n",
       "        text-align: right;\n",
       "    }\n",
       "</style>\n",
       "<table border=\"1\" class=\"dataframe\">\n",
       "  <thead>\n",
       "    <tr style=\"text-align: right;\">\n",
       "      <th></th>\n",
       "      <th>members</th>\n",
       "      <th>name</th>\n",
       "      <th>start_year</th>\n",
       "    </tr>\n",
       "  </thead>\n",
       "  <tbody>\n",
       "    <tr>\n",
       "      <th>0</th>\n",
       "      <td>Enterprise Products (Group)</td>\n",
       "      <td>Enterprise Products (Group)</td>\n",
       "      <td>2010</td>\n",
       "    </tr>\n",
       "    <tr>\n",
       "      <th>1</th>\n",
       "      <td>Teppco (Group)</td>\n",
       "      <td>Enterprise Products (Group)</td>\n",
       "      <td>2010</td>\n",
       "    </tr>\n",
       "  </tbody>\n",
       "</table>\n",
       "</div>"
      ],
      "text/plain": [
       "                       members                         name start_year\n",
       "0  Enterprise Products (Group)  Enterprise Products (Group)       2010\n",
       "1               Teppco (Group)  Enterprise Products (Group)       2010"
      ]
     },
     "execution_count": 18,
     "metadata": {},
     "output_type": "execute_result"
    }
   ],
   "source": [
    "m_as = add_m_a('Enterprise Products (Group)', ['Enterprise Products (Group)', 'Teppco (Group)'], start_year = '2010')\n",
    "m_as.tail()"
   ]
  },
  {
   "cell_type": "markdown",
   "metadata": {},
   "source": [
    "### 8.2.2 Oneok NGL"
   ]
  },
  {
   "cell_type": "code",
   "execution_count": 19,
   "metadata": {},
   "outputs": [
    {
     "name": "stdout",
     "output_type": "stream",
     "text": [
      "\n",
      "ONEOK NGL PIPELINE, LLC (OPERATOR_ID 32109) has changed its name:\n",
      "\n",
      "\tWas named ONEOK NGL PIPELINE LP from 2005 to 2011.\n",
      "\n",
      "\tWas named ONEOK NGL PIPELINE, LLC from 2012 to 2018.\n",
      "\n",
      "ONEOK NGL PIPELINE, LLC (OPERATOR_ID 32109) has the same parent company as:\n",
      "\n",
      "\tONEOK FIELD SERVICES  (OPERATOR_ID 30629)\n",
      "\n",
      "ONEOK NGL PIPELINE, LLC (OPERATOR_ID 32109) may have a namesake or namesakes:\n",
      "\n",
      "\tONEOK, INC  (OPERATOR_ID 30629)\n",
      "\n"
     ]
    }
   ],
   "source": [
    "print(next(issues))"
   ]
  },
  {
   "cell_type": "code",
   "execution_count": 20,
   "metadata": {},
   "outputs": [],
   "source": [
    "company_groups = add_company_group('ONEOK (Group)', ['32109', '30629'], company_groups)"
   ]
  },
  {
   "cell_type": "markdown",
   "metadata": {},
   "source": [
    "### 8.2.3 Phillips 66"
   ]
  },
  {
   "cell_type": "code",
   "execution_count": 21,
   "metadata": {},
   "outputs": [
    {
     "name": "stdout",
     "output_type": "stream",
     "text": [
      "\n",
      "PHILLIPS 66 PIPELINE LLC (OPERATOR_ID 31684) has changed its name:\n",
      "\n",
      "\tWas named CONOCOPHILLIPS from 2007 to 2010.\n",
      "\n",
      "\tWas named CONOCOPHILLIPS - LOS ANGELES REFINERY from 2004 to 2011.\n",
      "\n",
      "\tWas named CONOCOPHILLIPS PIPE LINE CO. from 2004 to 2005.\n",
      "\n",
      "\tWas named CONOCOPHILLIPS PIPE LINE COMPANY from 2004 to 2006.\n",
      "\n",
      "\tWas named PHILLIPS 66 PIPELINE LLC from 2011 to 2018.\n",
      "\n",
      "PHILLIPS 66 PIPELINE LLC (OPERATOR_ID 31684) has the same parent company as:\n",
      "\n",
      "\tPHILLIPS 66 COMPANY - SWEENY REFINERY (OPERATOR_ID 15485)\n",
      "\n",
      "PHILLIPS 66 PIPELINE LLC (OPERATOR_ID 31684) may have a namesake or namesakes:\n",
      "\n",
      "\tCONOCOPHILLIPS COMPANY (OPERATOR_ID 15485)\n",
      "\n",
      "\tPHILLIPS 66 COMPANY (OPERATOR_ID 15485)\n",
      "\n"
     ]
    }
   ],
   "source": [
    "print(next(issues))"
   ]
  },
  {
   "cell_type": "markdown",
   "metadata": {},
   "source": [
    "Downstream business was spun off in 2011 as Phillips 66."
   ]
  },
  {
   "cell_type": "markdown",
   "metadata": {},
   "source": [
    "Sweeny refinery is not an independent organizations. We will reconsolidate the two organizations."
   ]
  },
  {
   "cell_type": "markdown",
   "metadata": {},
   "source": [
    "### Decision"
   ]
  },
  {
   "cell_type": "code",
   "execution_count": 22,
   "metadata": {},
   "outputs": [
    {
     "data": {
      "text/html": [
       "<div>\n",
       "<style scoped>\n",
       "    .dataframe tbody tr th:only-of-type {\n",
       "        vertical-align: middle;\n",
       "    }\n",
       "\n",
       "    .dataframe tbody tr th {\n",
       "        vertical-align: top;\n",
       "    }\n",
       "\n",
       "    .dataframe thead th {\n",
       "        text-align: right;\n",
       "    }\n",
       "</style>\n",
       "<table border=\"1\" class=\"dataframe\">\n",
       "  <thead>\n",
       "    <tr style=\"text-align: right;\">\n",
       "      <th></th>\n",
       "      <th>members</th>\n",
       "      <th>name</th>\n",
       "    </tr>\n",
       "  </thead>\n",
       "  <tbody>\n",
       "    <tr>\n",
       "      <th>2</th>\n",
       "      <td>3445</td>\n",
       "      <td>Teppco (Group)</td>\n",
       "    </tr>\n",
       "    <tr>\n",
       "      <th>3</th>\n",
       "      <td>32109</td>\n",
       "      <td>ONEOK (Group)</td>\n",
       "    </tr>\n",
       "    <tr>\n",
       "      <th>4</th>\n",
       "      <td>30629</td>\n",
       "      <td>ONEOK (Group)</td>\n",
       "    </tr>\n",
       "    <tr>\n",
       "      <th>5</th>\n",
       "      <td>15485</td>\n",
       "      <td>Phillips 66 (Group)</td>\n",
       "    </tr>\n",
       "    <tr>\n",
       "      <th>6</th>\n",
       "      <td>31684</td>\n",
       "      <td>Phillips 66 (Group)</td>\n",
       "    </tr>\n",
       "  </tbody>\n",
       "</table>\n",
       "</div>"
      ],
      "text/plain": [
       "  members                 name\n",
       "2    3445       Teppco (Group)\n",
       "3   32109        ONEOK (Group)\n",
       "4   30629        ONEOK (Group)\n",
       "5   15485  Phillips 66 (Group)\n",
       "6   31684  Phillips 66 (Group)"
      ]
     },
     "execution_count": 22,
     "metadata": {},
     "output_type": "execute_result"
    }
   ],
   "source": [
    "company_groups = add_company_group('Phillips 66 (Group)', ['15485', '31684'], company_groups)\n",
    "company_groups.tail()"
   ]
  },
  {
   "cell_type": "markdown",
   "metadata": {},
   "source": [
    "### 8.2.4 Magellan"
   ]
  },
  {
   "cell_type": "code",
   "execution_count": 23,
   "metadata": {},
   "outputs": [
    {
     "name": "stdout",
     "output_type": "stream",
     "text": [
      "\n",
      "MAGELLAN PIPELINE COMPANY, LP (OPERATOR_ID 22610) has changed its name:\n",
      "\n",
      "\tWas named MAGELLAN PIPELINE COMPANY, L.P. from 2005 to 2006.\n",
      "\n",
      "\tWas named MAGELLAN PIPELINE COMPANY, LLC from 2004 to 2004.\n",
      "\n",
      "\tWas named MAGELLAN PIPELINE COMPANY, LP from 2007 to 2018.\n",
      "\n",
      "\tWas named Magellan Pipeline Company, L.P. from 2010 to 2010.\n",
      "\n",
      "MAGELLAN PIPELINE COMPANY, LP (OPERATOR_ID 22610) has the same parent company as:\n",
      "\n",
      "\tMAGELLAN AMMONIA PIPELINE, L.P. (OPERATOR_ID 12105)\n",
      "\n",
      "\tMAGELLAN PIPELINES HOLDINGS, LP (OPERATOR_ID 31579)\n",
      "\n",
      "\tMAGELLAN CRUDE OIL PIPELINE COMPANY, L.P. (OPERATOR_ID 39504)\n",
      "\n",
      "MAGELLAN PIPELINE COMPANY, LP (OPERATOR_ID 22610) may have a namesake or namesakes:\n",
      "\n",
      "\tMagellan Ammonia Pipeline, L.P. (OPERATOR_ID 12105)\n",
      "\n",
      "\tMagellan Pipelines Holdings, L.P. (OPERATOR_ID 31579)\n",
      "\n",
      "\tMAGELLAN PIPELINES HOLDINGS, L.P. (OPERATOR_ID 31579)\n",
      "\n"
     ]
    }
   ],
   "source": [
    "print(next(issues))"
   ]
  },
  {
   "cell_type": "code",
   "execution_count": 24,
   "metadata": {},
   "outputs": [
    {
     "name": "stdout",
     "output_type": "stream",
     "text": [
      "\n",
      "Organization 22610 has changed its name:\n",
      "    22610 was named Magellan Pipeline Company LP from 2005 to 2010.\n",
      "    22610 was named Magellan Pipeline Company Llc from 2004 to 2004.\n",
      "    22610 was named Magellan Pipeline Company Lp from 2007 to 2018.\n"
     ]
    }
   ],
   "source": [
    "report_names(['22610', '12105', '31579', '39504'])"
   ]
  },
  {
   "cell_type": "markdown",
   "metadata": {},
   "source": [
    "LexisNexis yielded no reports of ownership changed for any subsidiaries (some assets changed hands, but that case is appropriately covered by the FERC data)."
   ]
  },
  {
   "cell_type": "markdown",
   "metadata": {},
   "source": [
    "### Decision"
   ]
  },
  {
   "cell_type": "code",
   "execution_count": 25,
   "metadata": {},
   "outputs": [
    {
     "data": {
      "text/html": [
       "<div>\n",
       "<style scoped>\n",
       "    .dataframe tbody tr th:only-of-type {\n",
       "        vertical-align: middle;\n",
       "    }\n",
       "\n",
       "    .dataframe tbody tr th {\n",
       "        vertical-align: top;\n",
       "    }\n",
       "\n",
       "    .dataframe thead th {\n",
       "        text-align: right;\n",
       "    }\n",
       "</style>\n",
       "<table border=\"1\" class=\"dataframe\">\n",
       "  <thead>\n",
       "    <tr style=\"text-align: right;\">\n",
       "      <th></th>\n",
       "      <th>members</th>\n",
       "      <th>name</th>\n",
       "    </tr>\n",
       "  </thead>\n",
       "  <tbody>\n",
       "    <tr>\n",
       "      <th>6</th>\n",
       "      <td>31684</td>\n",
       "      <td>Phillips 66 (Group)</td>\n",
       "    </tr>\n",
       "    <tr>\n",
       "      <th>7</th>\n",
       "      <td>22610</td>\n",
       "      <td>Magellan (Group)</td>\n",
       "    </tr>\n",
       "    <tr>\n",
       "      <th>8</th>\n",
       "      <td>12105</td>\n",
       "      <td>Magellan (Group)</td>\n",
       "    </tr>\n",
       "    <tr>\n",
       "      <th>9</th>\n",
       "      <td>31579</td>\n",
       "      <td>Magellan (Group)</td>\n",
       "    </tr>\n",
       "    <tr>\n",
       "      <th>10</th>\n",
       "      <td>39504</td>\n",
       "      <td>Magellan (Group)</td>\n",
       "    </tr>\n",
       "  </tbody>\n",
       "</table>\n",
       "</div>"
      ],
      "text/plain": [
       "   members                 name\n",
       "6    31684  Phillips 66 (Group)\n",
       "7    22610     Magellan (Group)\n",
       "8    12105     Magellan (Group)\n",
       "9    31579     Magellan (Group)\n",
       "10   39504     Magellan (Group)"
      ]
     },
     "execution_count": 25,
     "metadata": {},
     "output_type": "execute_result"
    }
   ],
   "source": [
    "company_groups = add_company_group('Magellan (Group)', ['22610', '12105', '31579', '39504'], company_groups)\n",
    "company_groups.tail()"
   ]
  },
  {
   "cell_type": "markdown",
   "metadata": {},
   "source": [
    "### 8.2.5 Colonial Pipeline"
   ]
  },
  {
   "cell_type": "code",
   "execution_count": 26,
   "metadata": {},
   "outputs": [
    {
     "name": "stdout",
     "output_type": "stream",
     "text": [
      "\n",
      "COLONIAL PIPELINE CO (OPERATOR_ID 2552) has changed its name:\n",
      "\n",
      "\tWas named COLONIAL PIPELINE CO from 2007 to 2018.\n",
      "\n",
      "\tWas named COLONIAL PIPELINE COMPANY from 2004 to 2006.\n",
      "\n"
     ]
    }
   ],
   "source": [
    "print(next(issues))"
   ]
  },
  {
   "cell_type": "markdown",
   "metadata": {},
   "source": [
    "Not a concern."
   ]
  },
  {
   "cell_type": "markdown",
   "metadata": {},
   "source": [
    "### 8.2.6 Buckeye"
   ]
  },
  {
   "cell_type": "code",
   "execution_count": 27,
   "metadata": {},
   "outputs": [
    {
     "name": "stdout",
     "output_type": "stream",
     "text": [
      "\n",
      "BUCKEYE PARTNERS, LP (OPERATOR_ID 1845) has the same parent company as:\n",
      "\n",
      "\tBUCKEYE DEVELOPMENT & LOGISTICS, LLC (OPERATOR_ID 31371)\n",
      "\n",
      "BUCKEYE PARTNERS, LP (OPERATOR_ID 1845) may have a namesake or namesakes:\n",
      "\n",
      "\t BUCKEYE PARTNERS, LP (OPERATOR_ID 31371)\n",
      "\n",
      "\tBUCKEYE PARTNERS, LP  (OPERATOR_ID 31371)\n",
      "\n",
      "\tBUCKEYE PARTNERS, LP (OPERATOR_ID 31371)\n",
      "\n",
      "\tBUCKEYE GULF COAST PIPELINE LP (OPERATOR_ID 31371)\n",
      "\n"
     ]
    }
   ],
   "source": [
    "print(next(issues))"
   ]
  },
  {
   "cell_type": "markdown",
   "metadata": {},
   "source": [
    "### Decision"
   ]
  },
  {
   "cell_type": "markdown",
   "metadata": {},
   "source": [
    "LexisNexis does not indicate that Buckeye Development & Logistics is an outside acquisition by Buckeye Partners. We consolidate the two organizations into one."
   ]
  },
  {
   "cell_type": "code",
   "execution_count": 28,
   "metadata": {},
   "outputs": [
    {
     "data": {
      "text/html": [
       "<div>\n",
       "<style scoped>\n",
       "    .dataframe tbody tr th:only-of-type {\n",
       "        vertical-align: middle;\n",
       "    }\n",
       "\n",
       "    .dataframe tbody tr th {\n",
       "        vertical-align: top;\n",
       "    }\n",
       "\n",
       "    .dataframe thead th {\n",
       "        text-align: right;\n",
       "    }\n",
       "</style>\n",
       "<table border=\"1\" class=\"dataframe\">\n",
       "  <thead>\n",
       "    <tr style=\"text-align: right;\">\n",
       "      <th></th>\n",
       "      <th>members</th>\n",
       "      <th>name</th>\n",
       "    </tr>\n",
       "  </thead>\n",
       "  <tbody>\n",
       "    <tr>\n",
       "      <th>8</th>\n",
       "      <td>12105</td>\n",
       "      <td>Magellan (Group)</td>\n",
       "    </tr>\n",
       "    <tr>\n",
       "      <th>9</th>\n",
       "      <td>31579</td>\n",
       "      <td>Magellan (Group)</td>\n",
       "    </tr>\n",
       "    <tr>\n",
       "      <th>10</th>\n",
       "      <td>39504</td>\n",
       "      <td>Magellan (Group)</td>\n",
       "    </tr>\n",
       "    <tr>\n",
       "      <th>11</th>\n",
       "      <td>1845</td>\n",
       "      <td>Buckeye (Group)</td>\n",
       "    </tr>\n",
       "    <tr>\n",
       "      <th>12</th>\n",
       "      <td>31371</td>\n",
       "      <td>Buckeye (Group)</td>\n",
       "    </tr>\n",
       "  </tbody>\n",
       "</table>\n",
       "</div>"
      ],
      "text/plain": [
       "   members              name\n",
       "8    12105  Magellan (Group)\n",
       "9    31579  Magellan (Group)\n",
       "10   39504  Magellan (Group)\n",
       "11    1845   Buckeye (Group)\n",
       "12   31371   Buckeye (Group)"
      ]
     },
     "execution_count": 28,
     "metadata": {},
     "output_type": "execute_result"
    }
   ],
   "source": [
    "company_groups = add_company_group('Buckeye (Group)', ['1845', '31371'], company_groups)\n",
    "company_groups.tail()"
   ]
  },
  {
   "cell_type": "markdown",
   "metadata": {},
   "source": [
    "### 8.2.7 Sunoco"
   ]
  },
  {
   "cell_type": "code",
   "execution_count": 29,
   "metadata": {},
   "outputs": [
    {
     "name": "stdout",
     "output_type": "stream",
     "text": [
      "\n",
      "SUNOCO PIPELINE L.P. (OPERATOR_ID 18718) has changed its name:\n",
      "\n",
      "\tWas named SUNOCO PIPELINE L.P. from 2007 to 2018.\n",
      "\n",
      "\tWas named SUNOCO PIPELINE L.P.  - WESTERN AREA from 2004 to 2006.\n",
      "\n",
      "\tWas named SUNOCO PIPELINE L.P. (EASTERN AREA) from 2004 to 2006.\n",
      "\n",
      "\tWas named SUNOCO PIPELINE L.P. - WESTERN AREA from 2005 to 2005.\n",
      "\n",
      "SUNOCO PIPELINE L.P. (OPERATOR_ID 18718) has the same parent company as:\n",
      "\n",
      "\tHARBOR PIPELINE CO (OPERATOR_ID 7063)\n",
      "\n",
      "\tMID - VALLEY PIPELINE CO (OPERATOR_ID 12470)\n",
      "\n",
      "\tWEST TEXAS GULF PIPELINE CO (OPERATOR_ID 22442)\n",
      "\n",
      "\tENERGY TRANSFER COMPANY (OPERATOR_ID 32099)\n",
      "\n",
      "\tINLAND CORPORATION (OPERATOR_ID 32683)\n",
      "\n",
      "\tDAPL-ETCO OPERATIONS MANAGEMENT, LLC (OPERATOR_ID 39205)\n",
      "\n",
      "\tPERMIAN EXPRESS PARTNERS LLC (OPERATOR_ID 39596)\n",
      "\n",
      "SUNOCO PIPELINE L.P. (OPERATOR_ID 18718) may have a namesake or namesakes:\n",
      "\n",
      "\tHARBOR PIPELINE (OPERATED BY SUNOCO PIPELINE L.P.) (OPERATOR_ID 7063)\n",
      "\n",
      "\tOPERATED BY SUNOCO PIPELINE L.P. (OPERATOR_ID 7063)\n",
      "\n"
     ]
    }
   ],
   "source": [
    "print(next(issues))"
   ]
  },
  {
   "cell_type": "code",
   "execution_count": 30,
   "metadata": {},
   "outputs": [
    {
     "name": "stdout",
     "output_type": "stream",
     "text": [
      "\n",
      "Organization 18718 has changed its name:\n",
      "    18718 was named Sunoco Pipeline LP from 2007 to 2018.\n",
      "    18718 was named Sunoco Pipeline LP   Western Area from 2004 to 2006.\n",
      "    18718 was named Sunoco Pipeline LP  Western Area from 2005 to 2005.\n",
      "    18718 was named Sunoco Pipeline LP Eastern Area from 2004 to 2006.\n",
      "\n",
      "Organization 7063 has changed its name:\n",
      "    7063 was named Harbor Pipeline from 2006 to 2006.\n",
      "    7063 was named Harbor Pipeline Co from 2007 to 2018.\n",
      "    7063 was named Harbor Pipeline Operated By Sunoco Pipeline LP from 2004 to 2005.\n",
      "\n",
      "Organization 12470 has changed its name:\n",
      "    12470 was named Mid  Valley Pipeline Co from 2007 to 2018.\n",
      "    12470 was named MidValley Pipeline Co from 2005 to 2006.\n",
      "    12470 was named MidValley Pipeline Company from 2004 to 2004.\n",
      "\n",
      "Organization 22442 has changed its name:\n",
      "    22442 was named West Texas Gulf Pipeline Co from 2005 to 2018.\n",
      "    22442 was named West Texas Gulf Pipeline Company from 2004 to 2004.\n"
     ]
    }
   ],
   "source": [
    "report_names(['18718', '7063', '12470', '22442', '32099', '32683', '39205', '39596'])"
   ]
  },
  {
   "cell_type": "markdown",
   "metadata": {},
   "source": [
    "According to our .txt file on ownership changes, Sunoco \n",
    "\n",
    "    - acquired a majority stake in Inland Corp (32683) on May 17, 2011\n",
    "    \n",
    "    - acquired a majority stake in West Texas Gulf Pipeline (22442) on Aug 18, 2010\n",
    "    \n",
    "    - merged with Energy Transfer (32099) on Oct 5, 2012"
   ]
  },
  {
   "cell_type": "code",
   "execution_count": 31,
   "metadata": {},
   "outputs": [
    {
     "data": {
      "text/html": [
       "<div>\n",
       "<style scoped>\n",
       "    .dataframe tbody tr th:only-of-type {\n",
       "        vertical-align: middle;\n",
       "    }\n",
       "\n",
       "    .dataframe tbody tr th {\n",
       "        vertical-align: top;\n",
       "    }\n",
       "\n",
       "    .dataframe thead th {\n",
       "        text-align: right;\n",
       "    }\n",
       "</style>\n",
       "<table border=\"1\" class=\"dataframe\">\n",
       "  <thead>\n",
       "    <tr style=\"text-align: right;\">\n",
       "      <th></th>\n",
       "      <th>members</th>\n",
       "      <th>name</th>\n",
       "    </tr>\n",
       "  </thead>\n",
       "  <tbody>\n",
       "    <tr>\n",
       "      <th>14</th>\n",
       "      <td>12470</td>\n",
       "      <td>Sunoco (Group)</td>\n",
       "    </tr>\n",
       "    <tr>\n",
       "      <th>15</th>\n",
       "      <td>39205</td>\n",
       "      <td>Sunoco (Group)</td>\n",
       "    </tr>\n",
       "    <tr>\n",
       "      <th>16</th>\n",
       "      <td>39596</td>\n",
       "      <td>Sunoco (Group)</td>\n",
       "    </tr>\n",
       "    <tr>\n",
       "      <th>17</th>\n",
       "      <td>7063</td>\n",
       "      <td>Sunoco (Group)</td>\n",
       "    </tr>\n",
       "    <tr>\n",
       "      <th>18</th>\n",
       "      <td>32099</td>\n",
       "      <td>Energy Transfer Partners (Group)</td>\n",
       "    </tr>\n",
       "  </tbody>\n",
       "</table>\n",
       "</div>"
      ],
      "text/plain": [
       "   members                              name\n",
       "14   12470                    Sunoco (Group)\n",
       "15   39205                    Sunoco (Group)\n",
       "16   39596                    Sunoco (Group)\n",
       "17    7063                    Sunoco (Group)\n",
       "18   32099  Energy Transfer Partners (Group)"
      ]
     },
     "execution_count": 31,
     "metadata": {},
     "output_type": "execute_result"
    }
   ],
   "source": [
    "company_groups = add_company_group('Sunoco (Group)', ['18718', '12470', '39205', '39596', '7063'], company_groups)\n",
    "company_groups = add_company_group('Energy Transfer Partners (Group)', ['32099'], company_groups)\n",
    "company_groups.tail()"
   ]
  },
  {
   "cell_type": "code",
   "execution_count": 32,
   "metadata": {},
   "outputs": [
    {
     "data": {
      "text/html": [
       "<div>\n",
       "<style scoped>\n",
       "    .dataframe tbody tr th:only-of-type {\n",
       "        vertical-align: middle;\n",
       "    }\n",
       "\n",
       "    .dataframe tbody tr th {\n",
       "        vertical-align: top;\n",
       "    }\n",
       "\n",
       "    .dataframe thead th {\n",
       "        text-align: right;\n",
       "    }\n",
       "</style>\n",
       "<table border=\"1\" class=\"dataframe\">\n",
       "  <thead>\n",
       "    <tr style=\"text-align: right;\">\n",
       "      <th></th>\n",
       "      <th>members</th>\n",
       "      <th>name</th>\n",
       "      <th>start_year</th>\n",
       "    </tr>\n",
       "  </thead>\n",
       "  <tbody>\n",
       "    <tr>\n",
       "      <th>2</th>\n",
       "      <td>Sunoco (Group)</td>\n",
       "      <td>Sunoco (Group)</td>\n",
       "      <td>2011</td>\n",
       "    </tr>\n",
       "    <tr>\n",
       "      <th>3</th>\n",
       "      <td>32683</td>\n",
       "      <td>Sunoco (Group)</td>\n",
       "      <td>2011</td>\n",
       "    </tr>\n",
       "    <tr>\n",
       "      <th>4</th>\n",
       "      <td>22442</td>\n",
       "      <td>Sunoco (Group)</td>\n",
       "      <td>2011</td>\n",
       "    </tr>\n",
       "    <tr>\n",
       "      <th>5</th>\n",
       "      <td>Sunoco (Group)</td>\n",
       "      <td>Sunoco (Group)</td>\n",
       "      <td>2013</td>\n",
       "    </tr>\n",
       "    <tr>\n",
       "      <th>6</th>\n",
       "      <td>Energy Transfer Partners (Group)</td>\n",
       "      <td>Sunoco (Group)</td>\n",
       "      <td>2013</td>\n",
       "    </tr>\n",
       "  </tbody>\n",
       "</table>\n",
       "</div>"
      ],
      "text/plain": [
       "                            members            name start_year\n",
       "2                    Sunoco (Group)  Sunoco (Group)       2011\n",
       "3                             32683  Sunoco (Group)       2011\n",
       "4                             22442  Sunoco (Group)       2011\n",
       "5                    Sunoco (Group)  Sunoco (Group)       2013\n",
       "6  Energy Transfer Partners (Group)  Sunoco (Group)       2013"
      ]
     },
     "execution_count": 32,
     "metadata": {},
     "output_type": "execute_result"
    }
   ],
   "source": [
    "m_as = add_m_a('Sunoco (Group)', ['Sunoco (Group)', '32683', '22442'], m_as, start_year = '2011')\n",
    "m_as = add_m_a('Sunoco (Group)', ['Sunoco (Group)', 'Energy Transfer Partners (Group)'], m_as, start_year = '2013')\n",
    "\n",
    "m_as.tail()"
   ]
  },
  {
   "cell_type": "markdown",
   "metadata": {},
   "source": [
    "### 8.2.8 Flint Hills"
   ]
  },
  {
   "cell_type": "code",
   "execution_count": 33,
   "metadata": {},
   "outputs": [
    {
     "name": "stdout",
     "output_type": "stream",
     "text": [
      "\n",
      "FLINT HILLS RESOURCES, LC (OPERATOR_ID 22855) has changed its name:\n",
      "\n",
      "\tWas named  KOCH PIPELINE COMPANY, LP from 2004 to 2004.\n",
      "\n",
      "\tWas named FLINT HILLS RESOURCES, LC from 2017 to 2018.\n",
      "\n",
      "\tWas named KOCH PIPELINE COMPANY, L.P. from 2007 to 2016.\n",
      "\n",
      "\tWas named KOCH PIPELINE COMPANY, LP from 2004 to 2006.\n",
      "\n",
      "\tWas named Koch Pipeline Company, LP from 2005 to 2005.\n",
      "\n"
     ]
    }
   ],
   "source": [
    "print(next(issues))"
   ]
  },
  {
   "cell_type": "code",
   "execution_count": 34,
   "metadata": {},
   "outputs": [
    {
     "data": {
      "text/plain": [
       "[[2015, 1885.19], [2016, 1674.88], [2017, 1711.48], [2018, 1750.7199999999998]]"
      ]
     },
     "execution_count": 34,
     "metadata": {},
     "output_type": "execute_result"
    }
   ],
   "source": [
    "find_total_miles('22855', range(2015, 2019))"
   ]
  },
  {
   "cell_type": "markdown",
   "metadata": {},
   "source": [
    "The restructuring or sell-off does not seem to affect the organizations pipeline assets. We will ignore the rebranding efforts."
   ]
  },
  {
   "cell_type": "markdown",
   "metadata": {},
   "source": [
    "### 3.2.9 Kinder Morgan"
   ]
  },
  {
   "cell_type": "code",
   "execution_count": 35,
   "metadata": {},
   "outputs": [
    {
     "name": "stdout",
     "output_type": "stream",
     "text": [
      "\n",
      "TE PRODUCTS PIPELINE COMPANY, LLC (OPERATOR_ID 19237) has changed its name:\n",
      "\n",
      "\tWas named TE PRODUCTS PIPELINE CO., LP  from 2004 to 2004.\n",
      "\n",
      "\tWas named TE PRODUCTS PIPELINE COMPANY, LIMITED PARTNERSHIP from 2005 to 2005.\n",
      "\n",
      "\tWas named TE PRODUCTS PIPELINE COMPANY, LLC from 2007 to 2009.\n",
      "\n",
      "\tWas named TE PRODUCTS PIPELINE, LIMITED PARTNERSHIP from 2006 to 2006.\n",
      "\n",
      "TE PRODUCTS PIPELINE COMPANY, LLC (OPERATOR_ID 19237) has the same parent company as:\n",
      "\n",
      "\tCENTRAL FLORIDA PIPELINE CORP (OPERATOR_ID 2190)\n",
      "\n",
      "\tCYPRESS INTERSTATE PIPELINE LLC (OPERATOR_ID 4472)\n",
      "\n",
      "\tPLANTATION PIPE LINE CO (OPERATOR_ID 15674)\n",
      "\n",
      "\tSFPP, LP (OPERATOR_ID 18092)\n",
      "\n",
      "\tTRANS MOUNTAIN PIPELINE (PUGET SOUND) LLC (OPERATOR_ID 19585)\n",
      "\n",
      "\tCALNEV PIPELINE CO (OPERATOR_ID 26125)\n",
      "\n",
      "\tKINDER MORGAN WINK PIPELINE LLC (OPERATOR_ID 31957)\n",
      "\n",
      "\tCOPANO NGL SERVICES LLC (OPERATOR_ID 32114)\n",
      "\n",
      "\tKINDER MORGAN COCHIN LLC (OPERATOR_ID 32258)\n",
      "\n",
      "\tCOPANO NGL SERVICES (MARKHAM), LLC (OPERATOR_ID 32541)\n",
      "\n",
      "\tHILAND CRUDE, LLC (OPERATOR_ID 32619)\n",
      "\n",
      "\tKINDER MORGAN CRUDE AND CONDENSATE LLC (OPERATOR_ID 32678)\n",
      "\n",
      "\tDOUBLE EAGLE PIPELINE LLC (OPERATOR_ID 39023)\n",
      "\n",
      "\tDOUBLE H (OPERATOR_ID 39440)\n",
      "\n",
      "\tKINDER MORGAN UTOPIA LLC (OPERATOR_ID 39518)\n",
      "\n"
     ]
    }
   ],
   "source": [
    "print(next(issues))"
   ]
  },
  {
   "cell_type": "code",
   "execution_count": 36,
   "metadata": {},
   "outputs": [
    {
     "name": "stdout",
     "output_type": "stream",
     "text": [
      "\n",
      "Organization 19237 has changed its name:\n",
      "    19237 was named Te Products Pipeline Co Lp  from 2004 to 2004.\n",
      "    19237 was named Te Products Pipeline Company Limited Partnership from 2005 to 2005.\n",
      "    19237 was named Te Products Pipeline Company Llc from 2007 to 2009.\n",
      "    19237 was named Te Products Pipeline Limited Partnership from 2006 to 2006.\n",
      "\n",
      "Organization 2190 has changed its name:\n",
      "    2190 was named Central Florida Pipeline Corp from 2007 to 2018.\n",
      "    2190 was named Central Florida Pipeline Llc from 2004 to 2006.\n",
      "\n",
      "Organization 4472 has changed its name:\n",
      "    4472 was named Cypress Interstate Pipeline Llc from 2012 to 2018.\n",
      "    4472 was named Kinder Morgan Energy Partners LP from 2004 to 2011.\n",
      "\n",
      "Organization 15674 has changed its name:\n",
      "    15674 was named Plantation Pipe Line Co from 2007 to 2018.\n",
      "    15674 was named Plantation Pipe Line Company from 2004 to 2006.\n",
      "\n",
      "Organization 19585 has changed its name:\n",
      "    19585 was named Terasen Pipeline Puget Sound Corp from 2007 to 2007.\n",
      "    19585 was named Terasen Pipelines Puget Sound Corp from 2005 to 2006.\n",
      "    19585 was named Terasen Pipelines Puget Sound Inc from 2004 to 2004.\n",
      "    19585 was named Trans Mountain Pipeline Puget Sound Llc from 2008 to 2018.\n",
      "\n",
      "Organization 31555 has changed its name:\n",
      "    31555 was named Kinder Morgan Co2 Co Lp from 2007 to 2018.\n",
      "    31555 was named Kinder Morgan Co2 Company Lp from 2004 to 2006.\n",
      "\n",
      "Organization 32114 has changed its name:\n",
      "    32114 was named Copano Ngl Services LP from 2005 to 2012.\n",
      "    32114 was named Copano Ngl Services Llc from 2013 to 2018.\n"
     ]
    }
   ],
   "source": [
    "report_names(['19237', '2190', '4472', '15674', '18092', '19585', '26125', '31555', '31957', '32114', \n",
    "              '32258', '32541', '32619', '32678', '39023', '39440', '39518'])"
   ]
  },
  {
   "cell_type": "markdown",
   "metadata": {},
   "source": [
    "According to our .txt file on ownership changes, Kinder Morgan:\n",
    "\n",
    "    - has held a majority share in Plantation Pipe Line (15674) since June 16, 1999\n",
    "    \n",
    "    - sold off Cochin (32258) to Pembina on Aug 21, 2019"
   ]
  },
  {
   "cell_type": "code",
   "execution_count": 37,
   "metadata": {},
   "outputs": [
    {
     "data": {
      "text/html": [
       "<div>\n",
       "<style scoped>\n",
       "    .dataframe tbody tr th:only-of-type {\n",
       "        vertical-align: middle;\n",
       "    }\n",
       "\n",
       "    .dataframe tbody tr th {\n",
       "        vertical-align: top;\n",
       "    }\n",
       "\n",
       "    .dataframe thead th {\n",
       "        text-align: right;\n",
       "    }\n",
       "</style>\n",
       "<table border=\"1\" class=\"dataframe\">\n",
       "  <thead>\n",
       "    <tr style=\"text-align: right;\">\n",
       "      <th></th>\n",
       "      <th>members</th>\n",
       "      <th>name</th>\n",
       "    </tr>\n",
       "  </thead>\n",
       "  <tbody>\n",
       "    <tr>\n",
       "      <th>31</th>\n",
       "      <td>32619</td>\n",
       "      <td>Kinder Morgan (Group)</td>\n",
       "    </tr>\n",
       "    <tr>\n",
       "      <th>32</th>\n",
       "      <td>32678</td>\n",
       "      <td>Kinder Morgan (Group)</td>\n",
       "    </tr>\n",
       "    <tr>\n",
       "      <th>33</th>\n",
       "      <td>39023</td>\n",
       "      <td>Kinder Morgan (Group)</td>\n",
       "    </tr>\n",
       "    <tr>\n",
       "      <th>34</th>\n",
       "      <td>39440</td>\n",
       "      <td>Kinder Morgan (Group)</td>\n",
       "    </tr>\n",
       "    <tr>\n",
       "      <th>35</th>\n",
       "      <td>39518</td>\n",
       "      <td>Kinder Morgan (Group)</td>\n",
       "    </tr>\n",
       "  </tbody>\n",
       "</table>\n",
       "</div>"
      ],
      "text/plain": [
       "   members                   name\n",
       "31   32619  Kinder Morgan (Group)\n",
       "32   32678  Kinder Morgan (Group)\n",
       "33   39023  Kinder Morgan (Group)\n",
       "34   39440  Kinder Morgan (Group)\n",
       "35   39518  Kinder Morgan (Group)"
      ]
     },
     "execution_count": 37,
     "metadata": {},
     "output_type": "execute_result"
    }
   ],
   "source": [
    "company_groups = add_company_group('Kinder Morgan (Group)', \n",
    "                                   ['19237', '2190', '4472', '15674', '18092', '19585', '26125', '31555', '31957', '32114', \n",
    "                                    '32258', '32541', '32619', '32678', '39023', '39440', '39518'], \n",
    "                                   company_groups)\n",
    "company_groups.tail()"
   ]
  },
  {
   "cell_type": "markdown",
   "metadata": {},
   "source": [
    "### 8.2.10 NuStar"
   ]
  },
  {
   "cell_type": "code",
   "execution_count": 38,
   "metadata": {},
   "outputs": [
    {
     "name": "stdout",
     "output_type": "stream",
     "text": [
      "\n",
      "NUSTAR PIPELINE OPERATING PARTNERSHIP L.P. (OPERATOR_ID 10012) has changed its name:\n",
      "\n",
      "\tWas named KANEB PIPE LINE COMPANY LLC from 2004 to 2005.\n",
      "\n",
      "\tWas named KANEB PIPE LINE OPERATING PARTNERSHIP, L.P. from 2006 to 2006.\n",
      "\n",
      "\tWas named NUSTAR PIPELINE OPERATING PARTNERSHIP L.P. from 2007 to 2018.\n",
      "\n",
      "NUSTAR PIPELINE OPERATING PARTNERSHIP L.P. (OPERATOR_ID 10012) has the same parent company as:\n",
      "\n",
      "\tNUSTAR TERMINALS OPERATIONS PARTNERSHIP L. P. (OPERATOR_ID 26094)\n",
      "\n",
      "\tNUSTAR LOGISTICS, L.P. (OPERATOR_ID 31454)\n",
      "\n",
      "\tNUSTAR PERMIAN TRANSPORTATION AND STORAGE, LLC (OPERATOR_ID 39348)\n",
      "\n",
      "NUSTAR PIPELINE OPERATING PARTNERSHIP L.P. (OPERATOR_ID 10012) may have a namesake or namesakes:\n",
      "\n",
      "\tNUSTAR LOGISITICS, L.P. (OPERATOR_ID 31454)\n",
      "\n"
     ]
    }
   ],
   "source": [
    "print(next(issues))"
   ]
  },
  {
   "cell_type": "code",
   "execution_count": 39,
   "metadata": {},
   "outputs": [
    {
     "name": "stdout",
     "output_type": "stream",
     "text": [
      "\n",
      "Organization 10012 has changed its name:\n",
      "    10012 was named Kaneb Pipe Line Company Llc from 2004 to 2005.\n",
      "    10012 was named Kaneb Pipe Line Operating Partnership LP from 2006 to 2006.\n",
      "    10012 was named Nustar Pipeline Operating Partnership LP from 2007 to 2018.\n",
      "\n",
      "Organization 26094 has changed its name:\n",
      "    26094 was named Nustar Terminals Operations Partnership L P from 2007 to 2018.\n",
      "    26094 was named Support Terminals Operating Partnership from 2004 to 2004.\n",
      "    26094 was named Support Terminals Operating Partnership LP from 2005 to 2006.\n",
      "\n",
      "Organization 31454 has changed its name:\n",
      "    31454 was named Nustar Logisitics LP from 2006 to 2006.\n",
      "    31454 was named Nustar Logistics LP from 2007 to 2018.\n",
      "    31454 was named Valero Logistics Operations Lp from 2004 to 2005.\n",
      "    31454 was named Valero Logistics Operations Lp  from 2004 to 2004.\n"
     ]
    }
   ],
   "source": [
    "report_names(['10012', '26094', '31454', '39348'])"
   ]
  },
  {
   "cell_type": "markdown",
   "metadata": {},
   "source": [
    "Before Kaneb became Nustar Pipeline, it was operated by a partnership between Valero and NuStar (http://nustarenergy.com/en-us/Company/Pages/History.aspx)."
   ]
  },
  {
   "cell_type": "markdown",
   "metadata": {},
   "source": [
    "LexisNexis Doessier does not list any M&As for the other three subsidiaries. They just seem to be two separate subsidiaries, that we can group together."
   ]
  },
  {
   "cell_type": "code",
   "execution_count": 40,
   "metadata": {},
   "outputs": [
    {
     "data": {
      "text/html": [
       "<div>\n",
       "<style scoped>\n",
       "    .dataframe tbody tr th:only-of-type {\n",
       "        vertical-align: middle;\n",
       "    }\n",
       "\n",
       "    .dataframe tbody tr th {\n",
       "        vertical-align: top;\n",
       "    }\n",
       "\n",
       "    .dataframe thead th {\n",
       "        text-align: right;\n",
       "    }\n",
       "</style>\n",
       "<table border=\"1\" class=\"dataframe\">\n",
       "  <thead>\n",
       "    <tr style=\"text-align: right;\">\n",
       "      <th></th>\n",
       "      <th>members</th>\n",
       "      <th>name</th>\n",
       "    </tr>\n",
       "  </thead>\n",
       "  <tbody>\n",
       "    <tr>\n",
       "      <th>34</th>\n",
       "      <td>39440</td>\n",
       "      <td>Kinder Morgan (Group)</td>\n",
       "    </tr>\n",
       "    <tr>\n",
       "      <th>35</th>\n",
       "      <td>39518</td>\n",
       "      <td>Kinder Morgan (Group)</td>\n",
       "    </tr>\n",
       "    <tr>\n",
       "      <th>36</th>\n",
       "      <td>26094</td>\n",
       "      <td>NuStar (Group)</td>\n",
       "    </tr>\n",
       "    <tr>\n",
       "      <th>37</th>\n",
       "      <td>31454</td>\n",
       "      <td>NuStar (Group)</td>\n",
       "    </tr>\n",
       "    <tr>\n",
       "      <th>38</th>\n",
       "      <td>39348</td>\n",
       "      <td>NuStar (Group)</td>\n",
       "    </tr>\n",
       "  </tbody>\n",
       "</table>\n",
       "</div>"
      ],
      "text/plain": [
       "   members                   name\n",
       "34   39440  Kinder Morgan (Group)\n",
       "35   39518  Kinder Morgan (Group)\n",
       "36   26094         NuStar (Group)\n",
       "37   31454         NuStar (Group)\n",
       "38   39348         NuStar (Group)"
      ]
     },
     "execution_count": 40,
     "metadata": {},
     "output_type": "execute_result"
    }
   ],
   "source": [
    "company_groups = add_company_group('NuStar (Group)', ['26094', '31454', '39348'], company_groups)\n",
    "company_groups.tail()"
   ]
  },
  {
   "cell_type": "code",
   "execution_count": 41,
   "metadata": {},
   "outputs": [
    {
     "data": {
      "text/html": [
       "<div>\n",
       "<style scoped>\n",
       "    .dataframe tbody tr th:only-of-type {\n",
       "        vertical-align: middle;\n",
       "    }\n",
       "\n",
       "    .dataframe tbody tr th {\n",
       "        vertical-align: top;\n",
       "    }\n",
       "\n",
       "    .dataframe thead th {\n",
       "        text-align: right;\n",
       "    }\n",
       "</style>\n",
       "<table border=\"1\" class=\"dataframe\">\n",
       "  <thead>\n",
       "    <tr style=\"text-align: right;\">\n",
       "      <th></th>\n",
       "      <th>members</th>\n",
       "      <th>name</th>\n",
       "      <th>start_year</th>\n",
       "    </tr>\n",
       "  </thead>\n",
       "  <tbody>\n",
       "    <tr>\n",
       "      <th>6</th>\n",
       "      <td>Energy Transfer Partners (Group)</td>\n",
       "      <td>Sunoco (Group)</td>\n",
       "      <td>2013</td>\n",
       "    </tr>\n",
       "    <tr>\n",
       "      <th>7</th>\n",
       "      <td>NuStar (Group)</td>\n",
       "      <td>NuStar (Group)</td>\n",
       "      <td>2007</td>\n",
       "    </tr>\n",
       "    <tr>\n",
       "      <th>8</th>\n",
       "      <td>10012</td>\n",
       "      <td>NuStar (Group)</td>\n",
       "      <td>2007</td>\n",
       "    </tr>\n",
       "    <tr>\n",
       "      <th>9</th>\n",
       "      <td>NuStar (Group)</td>\n",
       "      <td>NuStar (Group)</td>\n",
       "      <td>2006</td>\n",
       "    </tr>\n",
       "    <tr>\n",
       "      <th>10</th>\n",
       "      <td>31454</td>\n",
       "      <td>NuStar (Group)</td>\n",
       "      <td>2006</td>\n",
       "    </tr>\n",
       "  </tbody>\n",
       "</table>\n",
       "</div>"
      ],
      "text/plain": [
       "                             members            name start_year\n",
       "6   Energy Transfer Partners (Group)  Sunoco (Group)       2013\n",
       "7                     NuStar (Group)  NuStar (Group)       2007\n",
       "8                              10012  NuStar (Group)       2007\n",
       "9                     NuStar (Group)  NuStar (Group)       2006\n",
       "10                             31454  NuStar (Group)       2006"
      ]
     },
     "execution_count": 41,
     "metadata": {},
     "output_type": "execute_result"
    }
   ],
   "source": [
    "m_as = add_m_a('NuStar (Group)', ['NuStar (Group)', '10012'], m_as, start_year = '2007')\n",
    "m_as = add_m_a('NuStar (Group)', ['NuStar (Group)', '31454'], m_as, start_year = '2006')\n",
    "m_as.tail()"
   ]
  },
  {
   "cell_type": "markdown",
   "metadata": {},
   "source": [
    "### 8.2.11 Plantation Pipeline"
   ]
  },
  {
   "cell_type": "code",
   "execution_count": 42,
   "metadata": {},
   "outputs": [
    {
     "name": "stdout",
     "output_type": "stream",
     "text": [
      "\n",
      "PLANTATION PIPE LINE CO (OPERATOR_ID 15674) has changed its name:\n",
      "\n",
      "\tWas named PLANTATION PIPE LINE CO from 2007 to 2018.\n",
      "\n",
      "\tWas named PLANTATION PIPE LINE COMPANY from 2004 to 2006.\n",
      "\n"
     ]
    }
   ],
   "source": [
    "print(next(issues))"
   ]
  },
  {
   "cell_type": "markdown",
   "metadata": {},
   "source": [
    "Not a concern."
   ]
  },
  {
   "cell_type": "markdown",
   "metadata": {},
   "source": [
    "### 8.2.12 Enbridge"
   ]
  },
  {
   "cell_type": "code",
   "execution_count": 43,
   "metadata": {},
   "outputs": [
    {
     "name": "stdout",
     "output_type": "stream",
     "text": [
      "\n",
      "ENBRIDGE ENERGY, LIMITED PARTNERSHIP (OPERATOR_ID 11169) has the same parent company as:\n",
      "\n",
      "\tENBRIDGE PIPELINES (TOLEDO) INC (OPERATOR_ID 31448)\n",
      "\n",
      "\tEXPRESS HOLDINGS (USA), LLC (OPERATOR_ID 31720)\n",
      "\n",
      "\tENBRIDGE PIPELINES (OZARK) L.L.C. (OPERATOR_ID 31947)\n",
      "\n",
      "\tCCPS TRANSPORTATION, LLC (OPERATOR_ID 32080)\n",
      "\n",
      "\tENBRIDGE PIPELINES (SOUTHERN LIGHTS) L.L.C. (OPERATOR_ID 32502)\n",
      "\n",
      "ENBRIDGE ENERGY, LIMITED PARTNERSHIP (OPERATOR_ID 11169) may have a namesake or namesakes:\n",
      "\n",
      "\tENBRIDGE PIPELINES (NORTH DAKOTA) LLC (OPERATOR_ID 15774)\n",
      "\n",
      "\tENBRIDGE ENERGY PARTNERS, LP (OPERATOR_ID 15774)\n",
      "\n",
      "\tENBRIDGE ENERGY PARTNERS, L.P. (OPERATOR_ID 15774)\n",
      "\n",
      "\tENBRIDGE (US) INC (OPERATOR_ID 31448)\n",
      "\n",
      "\tENBRIDGE (U.S.) INC. (OPERATOR_ID 31448)\n",
      "\n",
      "\tENBRIDGE ENERGY PARTNERS, L.P. (OPERATOR_ID 31448)\n",
      "\n",
      "\tENBRIDGE ENERGY PARTNERS, LP (OPERATOR_ID 31947)\n",
      "\n",
      "\tENBRIDGE ENERGY PARTNERS, L.P. (OPERATOR_ID 31947)\n",
      "\n",
      "\tENBRIDGE ENERGY COMPANY INC. (OPERATOR_ID 32080)\n",
      "\n",
      "\tENBRIDGE ENERGY COMPANY, INC. (OPERATOR_ID 32080)\n",
      "\n"
     ]
    }
   ],
   "source": [
    "print(next(issues))"
   ]
  },
  {
   "cell_type": "code",
   "execution_count": 44,
   "metadata": {},
   "outputs": [
    {
     "name": "stdout",
     "output_type": "stream",
     "text": [
      "\n",
      "Organization 31720 has changed its name:\n",
      "    31720 was named Express Holdings Usa Llc from 2013 to 2018.\n",
      "    31720 was named Kinder Morgan Pipelines Usa Inc from 2008 to 2012.\n",
      "    31720 was named Terasen Pipeline Usa Inc  from 2004 to 2004.\n",
      "    31720 was named Terasen Pipelines Usa Inc from 2005 to 2007.\n",
      "\n",
      "Organization 15774 has changed its name:\n",
      "    15774 was named Enbridge Pipelines North Dakota Llc from 2004 to 2012.\n",
      "    15774 was named North Dakota Pipeline Company Llc from 2013 to 2018.\n"
     ]
    }
   ],
   "source": [
    "report_names(['11169', '31448', '31720', '31947', '32080', '15774', '32502'])"
   ]
  },
  {
   "cell_type": "markdown",
   "metadata": {},
   "source": [
    "Spectra Energy bought Express Pipeline (31720) in 2012 from a number of stakeholders, including Kinder Morgan (Deal Number 741207). Enbridge merged with Spectra Energy on Feb 27, 2017 (LexisNexis Dossier Deal Number 885812)."
   ]
  },
  {
   "cell_type": "markdown",
   "metadata": {},
   "source": [
    "North Dakota Pipeline Company is a subsidiary of Marathon, so we will assume that this asset has been bough by marathon in 2013."
   ]
  },
  {
   "cell_type": "code",
   "execution_count": 45,
   "metadata": {},
   "outputs": [
    {
     "data": {
      "text/html": [
       "<div>\n",
       "<style scoped>\n",
       "    .dataframe tbody tr th:only-of-type {\n",
       "        vertical-align: middle;\n",
       "    }\n",
       "\n",
       "    .dataframe tbody tr th {\n",
       "        vertical-align: top;\n",
       "    }\n",
       "\n",
       "    .dataframe thead th {\n",
       "        text-align: right;\n",
       "    }\n",
       "</style>\n",
       "<table border=\"1\" class=\"dataframe\">\n",
       "  <thead>\n",
       "    <tr style=\"text-align: right;\">\n",
       "      <th></th>\n",
       "      <th>members</th>\n",
       "      <th>name</th>\n",
       "    </tr>\n",
       "  </thead>\n",
       "  <tbody>\n",
       "    <tr>\n",
       "      <th>41</th>\n",
       "      <td>31720</td>\n",
       "      <td>Enbridge (Group)</td>\n",
       "    </tr>\n",
       "    <tr>\n",
       "      <th>42</th>\n",
       "      <td>31947</td>\n",
       "      <td>Enbridge (Group)</td>\n",
       "    </tr>\n",
       "    <tr>\n",
       "      <th>43</th>\n",
       "      <td>32080</td>\n",
       "      <td>Enbridge (Group)</td>\n",
       "    </tr>\n",
       "    <tr>\n",
       "      <th>44</th>\n",
       "      <td>31947</td>\n",
       "      <td>Enbridge (Group)</td>\n",
       "    </tr>\n",
       "    <tr>\n",
       "      <th>45</th>\n",
       "      <td>32502</td>\n",
       "      <td>Enbridge (Group)</td>\n",
       "    </tr>\n",
       "  </tbody>\n",
       "</table>\n",
       "</div>"
      ],
      "text/plain": [
       "   members              name\n",
       "41   31720  Enbridge (Group)\n",
       "42   31947  Enbridge (Group)\n",
       "43   32080  Enbridge (Group)\n",
       "44   31947  Enbridge (Group)\n",
       "45   32502  Enbridge (Group)"
      ]
     },
     "execution_count": 45,
     "metadata": {},
     "output_type": "execute_result"
    }
   ],
   "source": [
    "company_groups = add_company_group('Enbridge (Group)', \n",
    "                                   ['11169', '31448', '31720', '31947', '32080', '32502'], company_groups)\n",
    "company_groups.tail()"
   ]
  },
  {
   "cell_type": "code",
   "execution_count": 46,
   "metadata": {},
   "outputs": [
    {
     "data": {
      "text/html": [
       "<div>\n",
       "<style scoped>\n",
       "    .dataframe tbody tr th:only-of-type {\n",
       "        vertical-align: middle;\n",
       "    }\n",
       "\n",
       "    .dataframe tbody tr th {\n",
       "        vertical-align: top;\n",
       "    }\n",
       "\n",
       "    .dataframe thead th {\n",
       "        text-align: right;\n",
       "    }\n",
       "</style>\n",
       "<table border=\"1\" class=\"dataframe\">\n",
       "  <thead>\n",
       "    <tr style=\"text-align: right;\">\n",
       "      <th></th>\n",
       "      <th>members</th>\n",
       "      <th>name</th>\n",
       "      <th>start_year</th>\n",
       "      <th>end_year</th>\n",
       "    </tr>\n",
       "  </thead>\n",
       "  <tbody>\n",
       "    <tr>\n",
       "      <th>10</th>\n",
       "      <td>31454</td>\n",
       "      <td>NuStar (Group)</td>\n",
       "      <td>2006</td>\n",
       "      <td>NaN</td>\n",
       "    </tr>\n",
       "    <tr>\n",
       "      <th>11</th>\n",
       "      <td>Enbridge (Group)</td>\n",
       "      <td>Enbridge (Group)</td>\n",
       "      <td>NaN</td>\n",
       "      <td>2013</td>\n",
       "    </tr>\n",
       "    <tr>\n",
       "      <th>12</th>\n",
       "      <td>15774</td>\n",
       "      <td>Enbridge (Group)</td>\n",
       "      <td>NaN</td>\n",
       "      <td>2013</td>\n",
       "    </tr>\n",
       "    <tr>\n",
       "      <th>13</th>\n",
       "      <td>Enbridge (Group)</td>\n",
       "      <td>Enbridge (Group)</td>\n",
       "      <td>2012</td>\n",
       "      <td>NaN</td>\n",
       "    </tr>\n",
       "    <tr>\n",
       "      <th>14</th>\n",
       "      <td>31720</td>\n",
       "      <td>Enbridge (Group)</td>\n",
       "      <td>2012</td>\n",
       "      <td>NaN</td>\n",
       "    </tr>\n",
       "  </tbody>\n",
       "</table>\n",
       "</div>"
      ],
      "text/plain": [
       "             members              name start_year end_year\n",
       "10             31454    NuStar (Group)       2006      NaN\n",
       "11  Enbridge (Group)  Enbridge (Group)        NaN     2013\n",
       "12             15774  Enbridge (Group)        NaN     2013\n",
       "13  Enbridge (Group)  Enbridge (Group)       2012      NaN\n",
       "14             31720  Enbridge (Group)       2012      NaN"
      ]
     },
     "execution_count": 46,
     "metadata": {},
     "output_type": "execute_result"
    }
   ],
   "source": [
    "m_as = add_m_a('Enbridge (Group)', ['Enbridge (Group)', '15774'], m_as, end_year='2013')\n",
    "m_as = add_m_a('Enbridge (Group)', ['Enbridge (Group)', '31720'], m_as, start_year='2012')\n",
    "m_as.tail()"
   ]
  },
  {
   "cell_type": "markdown",
   "metadata": {},
   "source": [
    "According to our notes, Enbridge also acquired a majority in Olympic pipeline (30781) from BP on Feb 1, 2006."
   ]
  },
  {
   "cell_type": "code",
   "execution_count": 47,
   "metadata": {},
   "outputs": [
    {
     "data": {
      "text/html": [
       "<div>\n",
       "<style scoped>\n",
       "    .dataframe tbody tr th:only-of-type {\n",
       "        vertical-align: middle;\n",
       "    }\n",
       "\n",
       "    .dataframe tbody tr th {\n",
       "        vertical-align: top;\n",
       "    }\n",
       "\n",
       "    .dataframe thead th {\n",
       "        text-align: right;\n",
       "    }\n",
       "</style>\n",
       "<table border=\"1\" class=\"dataframe\">\n",
       "  <thead>\n",
       "    <tr style=\"text-align: right;\">\n",
       "      <th></th>\n",
       "      <th>members</th>\n",
       "      <th>name</th>\n",
       "      <th>start_year</th>\n",
       "      <th>end_year</th>\n",
       "    </tr>\n",
       "  </thead>\n",
       "  <tbody>\n",
       "    <tr>\n",
       "      <th>14</th>\n",
       "      <td>31720</td>\n",
       "      <td>Enbridge (Group)</td>\n",
       "      <td>2012</td>\n",
       "      <td>NaN</td>\n",
       "    </tr>\n",
       "    <tr>\n",
       "      <th>15</th>\n",
       "      <td>Enbridge (Group)</td>\n",
       "      <td>Enbridge (Group)</td>\n",
       "      <td>2006</td>\n",
       "      <td>NaN</td>\n",
       "    </tr>\n",
       "    <tr>\n",
       "      <th>16</th>\n",
       "      <td>30781</td>\n",
       "      <td>Enbridge (Group)</td>\n",
       "      <td>2006</td>\n",
       "      <td>NaN</td>\n",
       "    </tr>\n",
       "    <tr>\n",
       "      <th>17</th>\n",
       "      <td>BP (Group)</td>\n",
       "      <td>BP (Group)</td>\n",
       "      <td>2001</td>\n",
       "      <td>2006</td>\n",
       "    </tr>\n",
       "    <tr>\n",
       "      <th>18</th>\n",
       "      <td>30781</td>\n",
       "      <td>BP (Group)</td>\n",
       "      <td>2001</td>\n",
       "      <td>2006</td>\n",
       "    </tr>\n",
       "  </tbody>\n",
       "</table>\n",
       "</div>"
      ],
      "text/plain": [
       "             members              name start_year end_year\n",
       "14             31720  Enbridge (Group)       2012      NaN\n",
       "15  Enbridge (Group)  Enbridge (Group)       2006      NaN\n",
       "16             30781  Enbridge (Group)       2006      NaN\n",
       "17        BP (Group)        BP (Group)       2001     2006\n",
       "18             30781        BP (Group)       2001     2006"
      ]
     },
     "execution_count": 47,
     "metadata": {},
     "output_type": "execute_result"
    }
   ],
   "source": [
    "m_as = add_m_a('Enbridge (Group)', ['Enbridge (Group)', '30781'], m_as, start_year='2006')\n",
    "m_as = add_m_a('BP (Group)', ['BP (Group)', '30781'], m_as, start_year='2001', end_year='2006')\n",
    "m_as.tail()"
   ]
  },
  {
   "cell_type": "markdown",
   "metadata": {},
   "source": [
    "### 9.2.13 Marathon"
   ]
  },
  {
   "cell_type": "code",
   "execution_count": 48,
   "metadata": {},
   "outputs": [
    {
     "name": "stdout",
     "output_type": "stream",
     "text": [
      "\n",
      "MARATHON PIPE LINE LLC (OPERATOR_ID 32147) has changed its name:\n",
      "\n",
      "\tWas named MARATHON ASHLAND PIPE LINE, LLC from 2005 to 2005.\n",
      "\n",
      "\tWas named MARATHON PIPE LINE LLC from 2005 to 2018.\n",
      "\n",
      "MARATHON PIPE LINE LLC (OPERATOR_ID 32147) has the same parent company as:\n",
      "\n",
      "\tNORTH DAKOTA PIPELINE COMPANY LLC (OPERATOR_ID 15774)\n",
      "\n",
      "\tWOLVERINE PIPELINE CO (OPERATOR_ID 22830)\n",
      "\n",
      "\tMARKWEST RANGER PIPELINE COMPANY, L.L.C. (OPERATOR_ID 26026)\n",
      "\n",
      "\tTESORO HIGH PLAINS PIPELINE COMPANY LLC (OPERATOR_ID 31570)\n",
      "\n",
      "\tWESTERN REFINING LOGISTICS, LP (OPERATOR_ID 31574)\n",
      "\n",
      "\tTESORO LOGISTICS OPERATIONS LLC - MOUNTAIN REGION (OPERATOR_ID 31583)\n",
      "\n",
      "\tMARKWEST MICHIGAN PIPELINE COMPANY, L.L.C. (OPERATOR_ID 31871)\n",
      "\n",
      "\tTESORO LOGISTICS OPERATIONS LLC - GOLDEN EAGLE (OPERATOR_ID 31874)\n",
      "\n",
      "\tTESORO LOGISTICS OPERATIONS, LLC (OPERATOR_ID 38933)\n",
      "\n",
      "\tTESORO SOCAL PIPELINE COMPANY LLC (OPERATOR_ID 39013)\n",
      "\n",
      "\tTESORO LOGISTICS NORTHWEST PIPELINE LLC (OPERATOR_ID 39029)\n",
      "\n",
      "\tILLINOIS EXTENSION PIPELINE COMPANY, L.L.C. (OPERATOR_ID 39347)\n",
      "\n",
      "\tMARATHON ASHLAND PIPE LINE LLC  (OPERATOR_ID 12127)\n",
      "\n",
      "MARATHON PIPE LINE LLC (OPERATOR_ID 32147) may have a namesake or namesakes:\n",
      "\n",
      "\tMARATHON ASHLAND PETROLEUM LLC  (OPERATOR_ID 12127)\n",
      "\n"
     ]
    }
   ],
   "source": [
    "print(next(issues))"
   ]
  },
  {
   "cell_type": "code",
   "execution_count": 49,
   "metadata": {},
   "outputs": [
    {
     "name": "stdout",
     "output_type": "stream",
     "text": [
      "\n",
      "Organization 32147 has changed its name:\n",
      "    32147 was named Marathon Ashland Pipe Line Llc from 2005 to 2005.\n",
      "    32147 was named Marathon Pipe Line Llc from 2005 to 2018.\n",
      "\n",
      "Organization 15774 has changed its name:\n",
      "    15774 was named Enbridge Pipelines North Dakota Llc from 2004 to 2012.\n",
      "    15774 was named North Dakota Pipeline Company Llc from 2013 to 2018.\n",
      "\n",
      "Organization 26026 has changed its name:\n",
      "    26026 was named Markwest Energy Appalachia LLC from 2005 to 2006.\n",
      "    26026 was named Markwest Energy Appalachia Llc from 2004 to 2010.\n",
      "    26026 was named Markwest Ranger Pipeline Company LLC from 2012 to 2018.\n",
      "    26026 was named Markwest Ranger Pipeline Company Llc from 2011 to 2011.\n",
      "\n",
      "Organization 31570 has changed its name:\n",
      "    31570 was named Tesoro  High Plains Pipeline Company from 2007 to 2011.\n",
      "    31570 was named Tesoro High Plain Pipeline Company from 2006 to 2006.\n",
      "    31570 was named Tesoro High Plains Pipeline Company from 2005 to 2005.\n",
      "    31570 was named Tesoro High Plains Pipeline Company  from 2004 to 2004.\n",
      "    31570 was named Tesoro High Plains Pipeline Company Llc from 2012 to 2017.\n",
      "\n",
      "Organization 31574 has changed its name:\n",
      "    31574 was named Giant Pipeline Company from 2005 to 2006.\n",
      "    31574 was named Western Refining Logistics Lp from 2018 to 2018.\n",
      "    31574 was named Western Refining Pipeline Company from 2007 to 2012.\n",
      "    31574 was named Western Refining Pipeline Llc from 2013 to 2017.\n",
      "\n",
      "Organization 31583 has changed its name:\n",
      "    31583 was named Tesoro Logistics Operations Llc  Mountain Region from 2012 to 2017.\n",
      "    31583 was named Tesoro Refining  Marketing Co Mountain Region from 2005 to 2011.\n",
      "    31583 was named Tesoro Refining  Marketing Co Mountain Region  from 2004 to 2004.\n",
      "\n",
      "Organization 31871 has changed its name:\n",
      "    31871 was named Markwest Michigan Pipeline Company LLC from 2006 to 2018.\n",
      "    31871 was named Markwest Michigan Pipeline Llc from 2004 to 2017.\n",
      "    31871 was named MarkwestMichigan Pipeline Company LLC from 2005 to 2005.\n",
      "\n",
      "Organization 38933 has changed its name:\n",
      "    38933 was named Tesoro Logistics Operations Llc from 2018 to 2018.\n",
      "    38933 was named Tesoro Logistics Operations Llc  Southern California from 2012 to 2017.\n"
     ]
    }
   ],
   "source": [
    "report_names(['32147', '15774', '22830', '26026', '31570', '31574', '31583', '31871', '38933', '39013', '39029', '39347', '12127'])"
   ]
  },
  {
   "cell_type": "markdown",
   "metadata": {},
   "source": [
    "As we have touched on above, the North Dakota pipeline's owner was named \"Enbridge Pipelines\", but it was actually owned by a consortium of different actors."
   ]
  },
  {
   "cell_type": "markdown",
   "metadata": {},
   "source": [
    "LexisNexis indicates that Tesoro was renamed to Andeavor, and acquired by Marathon on Oct 1, 2018 (LexisNexis Dossier Deal Number 3052392). We will group Wolverine with Marathon, and also combine all Tesoros into one observation. For 2019, we would subsume Tesoro under Marathon."
   ]
  },
  {
   "cell_type": "code",
   "execution_count": 50,
   "metadata": {},
   "outputs": [
    {
     "data": {
      "text/html": [
       "<div>\n",
       "<style scoped>\n",
       "    .dataframe tbody tr th:only-of-type {\n",
       "        vertical-align: middle;\n",
       "    }\n",
       "\n",
       "    .dataframe tbody tr th {\n",
       "        vertical-align: top;\n",
       "    }\n",
       "\n",
       "    .dataframe thead th {\n",
       "        text-align: right;\n",
       "    }\n",
       "</style>\n",
       "<table border=\"1\" class=\"dataframe\">\n",
       "  <thead>\n",
       "    <tr style=\"text-align: right;\">\n",
       "      <th></th>\n",
       "      <th>members</th>\n",
       "      <th>name</th>\n",
       "    </tr>\n",
       "  </thead>\n",
       "  <tbody>\n",
       "    <tr>\n",
       "      <th>53</th>\n",
       "      <td>31570</td>\n",
       "      <td>Tesoro (Group)</td>\n",
       "    </tr>\n",
       "    <tr>\n",
       "      <th>54</th>\n",
       "      <td>31583</td>\n",
       "      <td>Tesoro (Group)</td>\n",
       "    </tr>\n",
       "    <tr>\n",
       "      <th>55</th>\n",
       "      <td>38933</td>\n",
       "      <td>Tesoro (Group)</td>\n",
       "    </tr>\n",
       "    <tr>\n",
       "      <th>56</th>\n",
       "      <td>39013</td>\n",
       "      <td>Tesoro (Group)</td>\n",
       "    </tr>\n",
       "    <tr>\n",
       "      <th>57</th>\n",
       "      <td>39029</td>\n",
       "      <td>Tesoro (Group)</td>\n",
       "    </tr>\n",
       "  </tbody>\n",
       "</table>\n",
       "</div>"
      ],
      "text/plain": [
       "   members            name\n",
       "53   31570  Tesoro (Group)\n",
       "54   31583  Tesoro (Group)\n",
       "55   38933  Tesoro (Group)\n",
       "56   39013  Tesoro (Group)\n",
       "57   39029  Tesoro (Group)"
      ]
     },
     "execution_count": 50,
     "metadata": {},
     "output_type": "execute_result"
    }
   ],
   "source": [
    "# Marathon and Wolverine\n",
    "company_groups = add_company_group('Marathon (Group)', \n",
    "                                   ['32147', '22830', '26026', '31574', '31871', '39347', '12127'], company_groups)\n",
    "\n",
    "# Tesoro\n",
    "company_groups = add_company_group('Tesoro (Group)', ['31570', '31583', '38933', '39013', '39029'], company_groups)\n",
    "company_groups.tail()"
   ]
  },
  {
   "cell_type": "markdown",
   "metadata": {},
   "source": [
    "North Dakota Pipeline was acquired from Enbridge in 2013."
   ]
  },
  {
   "cell_type": "code",
   "execution_count": 51,
   "metadata": {},
   "outputs": [],
   "source": [
    "m_as = add_m_a('Marathon (Group)', ['Marathon (Group)', '15774'], m_as, start_year='2013')"
   ]
  },
  {
   "cell_type": "markdown",
   "metadata": {},
   "source": [
    "### 8.2.14 ExxonMobil"
   ]
  },
  {
   "cell_type": "code",
   "execution_count": 52,
   "metadata": {},
   "outputs": [
    {
     "name": "stdout",
     "output_type": "stream",
     "text": [
      "\n",
      "EXXONMOBIL PIPELINE CO (OPERATOR_ID 4906) has changed its name:\n",
      "\n",
      "\tWas named EXXONMOBIL PIPELINE CO from 2007 to 2018.\n",
      "\n",
      "\tWas named EXXONMOBIL PIPELINE COMPANY from 2004 to 2006.\n",
      "\n",
      "EXXONMOBIL PIPELINE CO (OPERATOR_ID 4906) has the same parent company as:\n",
      "\n",
      "\tEXXONMOBIL OIL CORPORATION (OPERATOR_ID 12624)\n",
      "\n",
      "\tEXXONMOBIL PIPELINE CO (OPERATOR_ID 12628)\n",
      "\n",
      "\tEXXONMOBIL OIL CORPORATION (OPERATOR_ID 12634)\n",
      "\n",
      "\tEXXONMOBIL OIL CORP - WEST COAST (OPERATOR_ID 26134)\n",
      "\n",
      "\tMOBIL PACIFIC PIPELINE CO (OPERATOR_ID 30005)\n",
      "\n",
      "EXXONMOBIL PIPELINE CO (OPERATOR_ID 4906) may have a namesake or namesakes:\n",
      "\n",
      "\tMOBIL CORP (OPERATOR_ID 12624)\n",
      "\n",
      "\tMOBIL OIL CORPORATION - MOBIL BEAUMNT REFINERY (HULL) (OPERATOR_ID 12624)\n",
      "\n",
      "\tMOBIL OIL  CORPORATION-MOBIL BEAUMONT REFINERY (MAGPETCO) (OPERATOR_ID 12624)\n",
      "\n",
      "\tMOBIL OIL CORPORATION - MOBIL BEAUMONT REFINERY (HULL) (OPERATOR_ID 12624)\n",
      "\n",
      "\tEXXONMOBIL OIL CORPORATION - BEAUMONT REFINERY (HULL) (OPERATOR_ID 12624)\n",
      "\n",
      "\tEXXONMOBIL OIL CORPORATION - BEAUMONT REFINERY (MAGPETCO) (OPERATOR_ID 12624)\n",
      "\n",
      "\tMOBIL BEAUMONT REFINERY (OPERATOR_ID 12624)\n",
      "\n",
      "\tMOBIL  PIPE  LINE COMPANY (OPERATOR_ID 12628)\n",
      "\n",
      "\tMOBIL PIPELINE CO (OPERATOR_ID 12628)\n",
      "\n",
      "\tMOBIL PIPE LINE COMPANY (OPERATOR_ID 12628)\n",
      "\n",
      "\tMOBIL CHEMICAL CO (OPERATOR_ID 12634)\n",
      "\n",
      "\tMOBIL CHEMICAL COMPANY (OPERATOR_ID 12634)\n",
      "\n",
      "\tEXXONMOBIL CHEMICAL COMPANY (OPERATOR_ID 12634)\n",
      "\n",
      "\tMOBIL OIL CORPORATION - WEST COAST PIPELINE (OPERATOR_ID 26134)\n",
      "\n",
      "\tMOBIL OIL CORPORATION WEST COAST PIPELINE (OPERATOR_ID 26134)\n",
      "\n",
      "\tEXXONMOBIL OIL CORPORATION - WEST COAST PIPELINE (OPERATOR_ID 26134)\n",
      "\n",
      "\tMOBIL PACIFIC PIPELINE COMPANY (OPERATOR_ID 30005)\n",
      "\n",
      "\tMOBIL PACIFIC PIPELINE (OPERATOR_ID 30005)\n",
      "\n"
     ]
    }
   ],
   "source": [
    "print(next(issues))"
   ]
  },
  {
   "cell_type": "code",
   "execution_count": 53,
   "metadata": {},
   "outputs": [
    {
     "name": "stdout",
     "output_type": "stream",
     "text": [
      "\n",
      "Organization 4906 has changed its name:\n",
      "    4906 was named Exxonmobil Pipeline Co from 2007 to 2018.\n",
      "    4906 was named Exxonmobil Pipeline Company from 2004 to 2006.\n",
      "\n",
      "Organization 12624 has changed its name:\n",
      "    12624 was named Exxonmobil Oil Corporation from 2018 to 2018.\n",
      "    12624 was named Exxonmobil Oil Corporation  Beaumont Refinery Hull from 2006 to 2006.\n",
      "    12624 was named Exxonmobil Oil Corporation  Beaumont Refinery Magpetco from 2006 to 2006.\n",
      "    12624 was named Mobil Corp from 2004 to 2017.\n",
      "    12624 was named Mobil Oil  CorporationMobil Beaumont Refinery Magpetco from 2004 to 2004.\n",
      "    12624 was named Mobil Oil Corporation  Mobil Beaumnt Refinery Hull from 2004 to 2004.\n",
      "    12624 was named Mobil Oil Corporation  Mobil Beaumont Refinery Hull from 2005 to 2005.\n",
      "    12624 was named Mobil Oil Corporation  Mobil Beaumont Refinery Magpetco from 2005 to 2005.\n",
      "\n",
      "Organization 12628 has changed its name:\n",
      "    12628 was named Exxonmobil Pipeline Co from 2007 to 2018.\n",
      "    12628 was named Mobil  Pipe  Line Company from 2012 to 2018.\n",
      "    12628 was named Mobil Pipe Line Company from 2004 to 2006.\n",
      "    12628 was named Mobil Pipeline Co from 2010 to 2010.\n",
      "\n",
      "Organization 12634 has changed its name:\n",
      "    12634 was named Exxonmobil Chemical Company from 2006 to 2006.\n",
      "    12634 was named Exxonmobil Oil Corporation from 2018 to 2018.\n",
      "    12634 was named Mobil Chemical Co from 2007 to 2017.\n",
      "    12634 was named Mobil Chemical Company from 2004 to 2005.\n",
      "\n",
      "Organization 30005 has changed its name:\n",
      "    30005 was named Mobil Pacific Pipeline from 2005 to 2005.\n",
      "    30005 was named Mobil Pacific Pipeline Co from 2007 to 2015.\n",
      "    30005 was named Mobil Pacific Pipeline Company from 2004 to 2006.\n"
     ]
    }
   ],
   "source": [
    "report_names(['4906', '12624', '12628', '12634', '30005'])"
   ]
  },
  {
   "cell_type": "markdown",
   "metadata": {},
   "source": [
    "All are wholly owned subsidiaries of exxonmobil. LexisNexis indicates no M&A activities. We combine them into one observation."
   ]
  },
  {
   "cell_type": "code",
   "execution_count": 54,
   "metadata": {},
   "outputs": [
    {
     "data": {
      "text/html": [
       "<div>\n",
       "<style scoped>\n",
       "    .dataframe tbody tr th:only-of-type {\n",
       "        vertical-align: middle;\n",
       "    }\n",
       "\n",
       "    .dataframe tbody tr th {\n",
       "        vertical-align: top;\n",
       "    }\n",
       "\n",
       "    .dataframe thead th {\n",
       "        text-align: right;\n",
       "    }\n",
       "</style>\n",
       "<table border=\"1\" class=\"dataframe\">\n",
       "  <thead>\n",
       "    <tr style=\"text-align: right;\">\n",
       "      <th></th>\n",
       "      <th>members</th>\n",
       "      <th>name</th>\n",
       "    </tr>\n",
       "  </thead>\n",
       "  <tbody>\n",
       "    <tr>\n",
       "      <th>58</th>\n",
       "      <td>4906</td>\n",
       "      <td>ExxonMobil (Group)</td>\n",
       "    </tr>\n",
       "    <tr>\n",
       "      <th>59</th>\n",
       "      <td>12624</td>\n",
       "      <td>ExxonMobil (Group)</td>\n",
       "    </tr>\n",
       "    <tr>\n",
       "      <th>60</th>\n",
       "      <td>12628</td>\n",
       "      <td>ExxonMobil (Group)</td>\n",
       "    </tr>\n",
       "    <tr>\n",
       "      <th>61</th>\n",
       "      <td>12634</td>\n",
       "      <td>ExxonMobil (Group)</td>\n",
       "    </tr>\n",
       "    <tr>\n",
       "      <th>62</th>\n",
       "      <td>30005</td>\n",
       "      <td>ExxonMobil (Group)</td>\n",
       "    </tr>\n",
       "  </tbody>\n",
       "</table>\n",
       "</div>"
      ],
      "text/plain": [
       "   members                name\n",
       "58    4906  ExxonMobil (Group)\n",
       "59   12624  ExxonMobil (Group)\n",
       "60   12628  ExxonMobil (Group)\n",
       "61   12634  ExxonMobil (Group)\n",
       "62   30005  ExxonMobil (Group)"
      ]
     },
     "execution_count": 54,
     "metadata": {},
     "output_type": "execute_result"
    }
   ],
   "source": [
    "company_groups = add_company_group('ExxonMobil (Group)', ['4906', '12624', '12628', '12634', '30005'], company_groups)\n",
    "company_groups.tail()"
   ]
  },
  {
   "cell_type": "markdown",
   "metadata": {},
   "source": [
    "### 8.2.15 Chevron"
   ]
  },
  {
   "cell_type": "code",
   "execution_count": 55,
   "metadata": {},
   "outputs": [
    {
     "name": "stdout",
     "output_type": "stream",
     "text": [
      "\n",
      "CHEVRON PIPE LINE CO (OPERATOR_ID 2731) has changed its name:\n",
      "\n",
      "\tWas named CHEVRON PIPE LINE CO from 2007 to 2018.\n",
      "\n",
      "\tWas named CHEVRON PIPE LINE COMPANY from 2004 to 2006.\n",
      "\n",
      "\tWas named CHEVRON PIPELINE COMPANY from 2004 to 2004.\n",
      "\n",
      "CHEVRON PIPE LINE CO (OPERATOR_ID 2731) has the same parent company as:\n",
      "\n",
      "\tCHEVRON PRODUCTS COMPANY - HAWAII (OPERATOR_ID 2339)\n",
      "\n",
      "\tCHEVRON MIDSTREAM PIPELINES LLC (OPERATOR_ID 31556)\n",
      "\n",
      "CHEVRON PIPE LINE CO (OPERATOR_ID 2731) may have a namesake or namesakes:\n",
      "\n",
      "\tCHEVRON PETROCHEMICAL PIPELINE LLC (OPERATOR_ID 31554)\n",
      "\n",
      "\tCHEVRON PETROCHEMICAL PIPELINE LLC (FORMERLY TEXACO PETROCHEMICAL PIPELINE LLC) (OPERATOR_ID 31554)\n",
      "\n",
      "\tCHEVRON USA, INC. (OPERATOR_ID 2339)\n",
      "\n",
      "\tCHEVRON USA,  INC. (OPERATOR_ID 2339)\n",
      "\n",
      "\tCHEVRON PRODUCTS COMPANY - HAWAII  (OPERATOR_ID 2339)\n",
      "\n"
     ]
    }
   ],
   "source": [
    "print(next(issues))"
   ]
  },
  {
   "cell_type": "code",
   "execution_count": 56,
   "metadata": {},
   "outputs": [
    {
     "name": "stdout",
     "output_type": "stream",
     "text": [
      "\n",
      "Organization 2731 has changed its name:\n",
      "    2731 was named Chevron Pipe Line Co from 2007 to 2018.\n",
      "    2731 was named Chevron Pipe Line Company from 2004 to 2006.\n",
      "    2731 was named Chevron Pipeline Company from 2004 to 2004.\n",
      "\n",
      "Organization 2339 has changed its name:\n",
      "    2339 was named Chevron Products Company  Hawaii from 2010 to 2015.\n",
      "    2339 was named Chevron Products Company  Hawaii  from 2007 to 2009.\n",
      "    2339 was named Chevron Products Company Hawaii Refinery from 2004 to 2006.\n",
      "\n",
      "Organization 31556 has changed its name:\n",
      "    31556 was named Chevron Midstream Pipelines Llc from 2009 to 2015.\n",
      "    31556 was named Texaco Pipelines Llc from 2004 to 2008.\n",
      "\n",
      "Organization 31554 has changed its name:\n",
      "    31554 was named Boardwalk Petrochemical Pipeline Llc from 2014 to 2018.\n",
      "    31554 was named Chevron Petrochemical Pipeline Llc from 2007 to 2013.\n",
      "    31554 was named Chevron Petrochemical Pipeline Llc Formerly Texaco Petrochemical Pipeline Llc from 2006 to 2006.\n",
      "    31554 was named Texaco Petrochemical Pipeline Llc from 2004 to 2005.\n"
     ]
    }
   ],
   "source": [
    "report_names(['2731', '2339', '31556', '31554'])"
   ]
  },
  {
   "cell_type": "markdown",
   "metadata": {},
   "source": [
    "Texaco merged with Chevron in early 2002. Our notes indicate that Boardwalk is a subsidiary of the Loews Corporation (which does not hold any other pipeline assets) that acquired assets from Chevron on Oct 8, 2014."
   ]
  },
  {
   "cell_type": "code",
   "execution_count": 57,
   "metadata": {},
   "outputs": [
    {
     "data": {
      "text/html": [
       "<div>\n",
       "<style scoped>\n",
       "    .dataframe tbody tr th:only-of-type {\n",
       "        vertical-align: middle;\n",
       "    }\n",
       "\n",
       "    .dataframe tbody tr th {\n",
       "        vertical-align: top;\n",
       "    }\n",
       "\n",
       "    .dataframe thead th {\n",
       "        text-align: right;\n",
       "    }\n",
       "</style>\n",
       "<table border=\"1\" class=\"dataframe\">\n",
       "  <thead>\n",
       "    <tr style=\"text-align: right;\">\n",
       "      <th></th>\n",
       "      <th>members</th>\n",
       "      <th>name</th>\n",
       "    </tr>\n",
       "  </thead>\n",
       "  <tbody>\n",
       "    <tr>\n",
       "      <th>60</th>\n",
       "      <td>12628</td>\n",
       "      <td>ExxonMobil (Group)</td>\n",
       "    </tr>\n",
       "    <tr>\n",
       "      <th>61</th>\n",
       "      <td>12634</td>\n",
       "      <td>ExxonMobil (Group)</td>\n",
       "    </tr>\n",
       "    <tr>\n",
       "      <th>62</th>\n",
       "      <td>30005</td>\n",
       "      <td>ExxonMobil (Group)</td>\n",
       "    </tr>\n",
       "    <tr>\n",
       "      <th>63</th>\n",
       "      <td>2731</td>\n",
       "      <td>Chevron (Group)</td>\n",
       "    </tr>\n",
       "    <tr>\n",
       "      <th>64</th>\n",
       "      <td>2339</td>\n",
       "      <td>Chevron (Group)</td>\n",
       "    </tr>\n",
       "  </tbody>\n",
       "</table>\n",
       "</div>"
      ],
      "text/plain": [
       "   members                name\n",
       "60   12628  ExxonMobil (Group)\n",
       "61   12634  ExxonMobil (Group)\n",
       "62   30005  ExxonMobil (Group)\n",
       "63    2731     Chevron (Group)\n",
       "64    2339     Chevron (Group)"
      ]
     },
     "execution_count": 57,
     "metadata": {},
     "output_type": "execute_result"
    }
   ],
   "source": [
    "company_groups = add_company_group('Chevron (Group)', ['2731', '2339'], company_groups)\n",
    "company_groups.tail()"
   ]
  },
  {
   "cell_type": "code",
   "execution_count": 58,
   "metadata": {},
   "outputs": [
    {
     "data": {
      "text/html": [
       "<div>\n",
       "<style scoped>\n",
       "    .dataframe tbody tr th:only-of-type {\n",
       "        vertical-align: middle;\n",
       "    }\n",
       "\n",
       "    .dataframe tbody tr th {\n",
       "        vertical-align: top;\n",
       "    }\n",
       "\n",
       "    .dataframe thead th {\n",
       "        text-align: right;\n",
       "    }\n",
       "</style>\n",
       "<table border=\"1\" class=\"dataframe\">\n",
       "  <thead>\n",
       "    <tr style=\"text-align: right;\">\n",
       "      <th></th>\n",
       "      <th>members</th>\n",
       "      <th>name</th>\n",
       "      <th>start_year</th>\n",
       "      <th>end_year</th>\n",
       "    </tr>\n",
       "  </thead>\n",
       "  <tbody>\n",
       "    <tr>\n",
       "      <th>20</th>\n",
       "      <td>15774</td>\n",
       "      <td>Marathon (Group)</td>\n",
       "      <td>2013</td>\n",
       "      <td>NaN</td>\n",
       "    </tr>\n",
       "    <tr>\n",
       "      <th>21</th>\n",
       "      <td>Chevron (Group)</td>\n",
       "      <td>Chevron (Group)</td>\n",
       "      <td>2002</td>\n",
       "      <td>NaN</td>\n",
       "    </tr>\n",
       "    <tr>\n",
       "      <th>22</th>\n",
       "      <td>31556</td>\n",
       "      <td>Chevron (Group)</td>\n",
       "      <td>2002</td>\n",
       "      <td>NaN</td>\n",
       "    </tr>\n",
       "    <tr>\n",
       "      <th>23</th>\n",
       "      <td>Chevron (Group)</td>\n",
       "      <td>Chevron (Group)</td>\n",
       "      <td>2002</td>\n",
       "      <td>2014</td>\n",
       "    </tr>\n",
       "    <tr>\n",
       "      <th>24</th>\n",
       "      <td>31554</td>\n",
       "      <td>Chevron (Group)</td>\n",
       "      <td>2002</td>\n",
       "      <td>2014</td>\n",
       "    </tr>\n",
       "  </tbody>\n",
       "</table>\n",
       "</div>"
      ],
      "text/plain": [
       "            members              name start_year end_year\n",
       "20            15774  Marathon (Group)       2013      NaN\n",
       "21  Chevron (Group)   Chevron (Group)       2002      NaN\n",
       "22            31556   Chevron (Group)       2002      NaN\n",
       "23  Chevron (Group)   Chevron (Group)       2002     2014\n",
       "24            31554   Chevron (Group)       2002     2014"
      ]
     },
     "execution_count": 58,
     "metadata": {},
     "output_type": "execute_result"
    }
   ],
   "source": [
    "m_as = add_m_a('Chevron (Group)', ['Chevron (Group)', '31556'], m_as, start_year='2002')\n",
    "m_as = add_m_a('Chevron (Group)', ['Chevron (Group)', '31554'], m_as, start_year='2002', end_year='2014')\n",
    "m_as.tail()"
   ]
  },
  {
   "cell_type": "markdown",
   "metadata": {},
   "source": [
    "### 8.2.16 NuStar (repeat)"
   ]
  },
  {
   "cell_type": "code",
   "execution_count": 59,
   "metadata": {},
   "outputs": [
    {
     "name": "stdout",
     "output_type": "stream",
     "text": [
      "\n",
      "NUSTAR LOGISTICS, L.P. (OPERATOR_ID 31454) has changed its name:\n",
      "\n",
      "\tWas named NUSTAR LOGISITICS, L.P. from 2006 to 2006.\n",
      "\n",
      "\tWas named NUSTAR LOGISTICS, L.P. from 2007 to 2018.\n",
      "\n",
      "\tWas named VALERO LOGISTICS OPERATIONS, LP from 2004 to 2005.\n",
      "\n",
      "\tWas named VALERO LOGISTICS OPERATIONS, LP  from 2004 to 2004.\n",
      "\n",
      "NUSTAR LOGISTICS, L.P. (OPERATOR_ID 31454) may have a namesake or namesakes:\n",
      "\n",
      "\tVALERO TERMINALING AND DISTRIBUTION COMPANY (OPERATOR_ID 4430)\n",
      "\n",
      "\tVALERO ENERGY CORPORATION (OPERATOR_ID 4430)\n",
      "\n",
      "\tVALERO PARTNERS OPERATING CO. LLC (OPERATOR_ID 39105)\n",
      "\n",
      "\tVALERO ENERGY CORPORATION (OPERATOR_ID 31742)\n",
      "\n",
      "\tVALERO REFINING - TEXAS LP (OPERATOR_ID 32032)\n",
      "\n"
     ]
    }
   ],
   "source": [
    "print(next(issues))"
   ]
  },
  {
   "cell_type": "markdown",
   "metadata": {},
   "source": [
    "We have addressed NuStar above and will address Valero below."
   ]
  },
  {
   "cell_type": "markdown",
   "metadata": {},
   "source": [
    "### 8.2.17 SFPP"
   ]
  },
  {
   "cell_type": "code",
   "execution_count": 60,
   "metadata": {},
   "outputs": [
    {
     "name": "stdout",
     "output_type": "stream",
     "text": [
      "\n",
      "SFPP, LP (OPERATOR_ID 18092) has changed its name:\n",
      "\n",
      "\tWas named SFPP, L.P. from 2006 to 2006.\n",
      "\n",
      "\tWas named SFPP, LP from 2004 to 2018.\n",
      "\n"
     ]
    }
   ],
   "source": [
    "print(next(issues))"
   ]
  },
  {
   "cell_type": "markdown",
   "metadata": {},
   "source": [
    "Not a concern."
   ]
  },
  {
   "cell_type": "markdown",
   "metadata": {},
   "source": [
    "### 8.2.18 Marathon (repeat)"
   ]
  },
  {
   "cell_type": "code",
   "execution_count": 61,
   "metadata": {},
   "outputs": [
    {
     "name": "stdout",
     "output_type": "stream",
     "text": [
      "\n",
      "MARATHON ASHLAND PIPE LINE LLC  (OPERATOR_ID 12127) may have a namesake or namesakes:\n",
      "\n",
      "\tMARATHON PETROLEUM COMPANY LLC (OPERATOR_ID 32147)\n",
      "\n"
     ]
    }
   ],
   "source": [
    "print(next(issues))"
   ]
  },
  {
   "cell_type": "markdown",
   "metadata": {},
   "source": [
    "Already addressed above, not a concern."
   ]
  },
  {
   "cell_type": "markdown",
   "metadata": {},
   "source": [
    "### 8.2.19 Explorer Pipeline"
   ]
  },
  {
   "cell_type": "code",
   "execution_count": 62,
   "metadata": {},
   "outputs": [
    {
     "name": "stdout",
     "output_type": "stream",
     "text": [
      "\n",
      "EXPLORER PIPELINE CO (OPERATOR_ID 4805) has changed its name:\n",
      "\n",
      "\tWas named EXPLORER PIPELINE CO from 2007 to 2018.\n",
      "\n",
      "\tWas named EXPLORER PIPELINE COMPANY from 2004 to 2006.\n",
      "\n"
     ]
    }
   ],
   "source": [
    "print(next(issues))"
   ]
  },
  {
   "cell_type": "markdown",
   "metadata": {},
   "source": [
    "Not a concern."
   ]
  },
  {
   "cell_type": "markdown",
   "metadata": {},
   "source": [
    "### 8.2.20 Buckeye"
   ]
  },
  {
   "cell_type": "code",
   "execution_count": 63,
   "metadata": {},
   "outputs": [
    {
     "name": "stdout",
     "output_type": "stream",
     "text": [
      "\n",
      "BUCKEYE DEVELOPMENT & LOGISTICS, LLC (OPERATOR_ID 31371) has changed its name:\n",
      "\n",
      "\tWas named BUCKEYE DEVELOPMENT & LOGISTICS, LLC from 2010 to 2018.\n",
      "\n",
      "\tWas named BUCKEYE GULF COAST PIPE LINES, LP from 2004 to 2006.\n",
      "\n",
      "\tWas named BUCKEYE GULF COAST PIPE LINES, LP  from 2004 to 2004.\n",
      "\n",
      "\tWas named BUCKEYE GULF COAST PIPELINE LP from 2007 to 2009.\n",
      "\n"
     ]
    }
   ],
   "source": [
    "print(next(issues))"
   ]
  },
  {
   "cell_type": "markdown",
   "metadata": {},
   "source": [
    "Not a concern."
   ]
  },
  {
   "cell_type": "markdown",
   "metadata": {},
   "source": [
    "### 8.2.21 Enterprise"
   ]
  },
  {
   "cell_type": "code",
   "execution_count": 64,
   "metadata": {},
   "outputs": [
    {
     "name": "stdout",
     "output_type": "stream",
     "text": [
      "\n",
      "ENTERPRISE CRUDE PIPELINE LLC (OPERATOR_ID 30829) has changed its name:\n",
      "\n",
      "\tWas named ENTERPRISE CRUDE PIPELINE LLC from 2010 to 2018.\n",
      "\n",
      "\tWas named TEPPCO CRUDE PIPELINE, L.P. from 2004 to 2006.\n",
      "\n",
      "\tWas named TEPPCO CRUDE PIPELINE, L.P.  from 2004 to 2004.\n",
      "\n",
      "\tWas named TEPPCO CRUDE PIPELINE, LLC from 2007 to 2009.\n",
      "\n",
      "\tWas named TTEPPCO CRUDE PIPELINE, L.P. from 2005 to 2005.\n",
      "\n",
      "ENTERPRISE CRUDE PIPELINE LLC (OPERATOR_ID 30829) may have a namesake or namesakes:\n",
      "\n",
      "\tTEPPCO MIDSTREAM COMPANIES, L.P. (OPERATOR_ID 32209)\n",
      "\n"
     ]
    }
   ],
   "source": [
    "print(next(issues))"
   ]
  },
  {
   "cell_type": "markdown",
   "metadata": {},
   "source": [
    "Already addressed above."
   ]
  },
  {
   "cell_type": "markdown",
   "metadata": {},
   "source": [
    "### 8.2.22 Equistar"
   ]
  },
  {
   "cell_type": "code",
   "execution_count": 65,
   "metadata": {},
   "outputs": [
    {
     "name": "stdout",
     "output_type": "stream",
     "text": [
      "\n",
      "EQUISTAR CHEMICALS, L.P. (OPERATOR_ID 25146) has changed its name:\n",
      "\n",
      "\tWas named EQUISTAR CHEMICALS LP from 2004 to 2004.\n",
      "\n",
      "\tWas named EQUISTAR CHEMICALS, L.P. from 2007 to 2018.\n",
      "\n",
      "\tWas named EQUISTAR CHEMICALS, LP from 2005 to 2006.\n",
      "\n"
     ]
    }
   ],
   "source": [
    "print(next(issues))"
   ]
  },
  {
   "cell_type": "markdown",
   "metadata": {},
   "source": [
    "Not a concern."
   ]
  },
  {
   "cell_type": "markdown",
   "metadata": {},
   "source": [
    "### 8.2.23 Teppco"
   ]
  },
  {
   "cell_type": "code",
   "execution_count": 66,
   "metadata": {},
   "outputs": [
    {
     "name": "stdout",
     "output_type": "stream",
     "text": [
      "\n",
      "TEPPCO MIDSTREAM COMPANIES, LLC (OPERATOR_ID 32209) has changed its name:\n",
      "\n",
      "\tWas named TEPPCO MIDSTREAM COMPANIES, L.P. from 2007 to 2008.\n",
      "\n",
      "\tWas named TEPPCO MIDSTREAM COMPANIES, LLC from 2009 to 2009.\n",
      "\n",
      "TEPPCO MIDSTREAM COMPANIES, LLC (OPERATOR_ID 32209) may have a namesake or namesakes:\n",
      "\n",
      "\tTEPPCO CRUDE PIPELINE, L.P. (OPERATOR_ID 30829)\n",
      "\n",
      "\tTEPPCO CRUDE PIPELINE, L.P.  (OPERATOR_ID 30829)\n",
      "\n",
      "\tTTEPPCO CRUDE PIPELINE, L.P. (OPERATOR_ID 30829)\n",
      "\n",
      "\tTEPPCO CRUDE PIPELINE, LLC (OPERATOR_ID 30829)\n",
      "\n"
     ]
    }
   ],
   "source": [
    "print(next(issues))"
   ]
  },
  {
   "cell_type": "markdown",
   "metadata": {},
   "source": [
    "Not a conern/already adressed above."
   ]
  },
  {
   "cell_type": "markdown",
   "metadata": {},
   "source": [
    "### 8.2.24 Kinder Morgan"
   ]
  },
  {
   "cell_type": "code",
   "execution_count": 67,
   "metadata": {},
   "outputs": [
    {
     "name": "stdout",
     "output_type": "stream",
     "text": [
      "\n",
      "KINDER MORGAN COCHIN LLC (OPERATOR_ID 32258) may have a namesake or namesakes:\n",
      "\n",
      "\tKINDER MORGAN ENERGY PARTNERS, L.P. (OPERATOR_ID 4472)\n",
      "\n",
      "\tKINDER MORGAN CANADA INC. (OPERATOR_ID 19585)\n",
      "\n",
      "\tKINDER MORGAN CANAADA INC. (OPERATOR_ID 19585)\n",
      "\n",
      "\tKINDER MORGAN CANADA INC.  (OPERATOR_ID 19585)\n",
      "\n",
      "\tKINDER MORGAN LIQUID TERMINALS, LLC (OPERATOR_ID 26041)\n",
      "\n",
      "\tKINDER MORGAN, INC (OPERATOR_ID 26041)\n",
      "\n",
      "\tKINDER MORGAN LIQUID TERMINAL, LLC (WEST COAST TERMINALS) (OPERATOR_ID 26041)\n",
      "\n",
      "\tKINDER MORGAN LIQUIDS TERMINALS LLC (OPERATOR_ID 26041)\n",
      "\n",
      "\tKINDER MORGAN LIQUIDS TERMINALS, L.P. (OPERATOR_ID 26041)\n",
      "\n",
      "\tKINDER MORGAN PIPELINES (USA) INC (OPERATOR_ID 31720)\n",
      "\n",
      "\tKINDER MORGAN CANADA INC. (OPERATOR_ID 31720)\n",
      "\n",
      "\tKINDER MORGAN CANADA, INC. (OPERATOR_ID 31720)\n",
      "\n",
      "\tKINDER MORGAN CANADA INC.  (OPERATOR_ID 31720)\n",
      "\n",
      "\tKINDER MORGAN WINK PIPELINE LP (OPERATOR_ID 31957)\n",
      "\n",
      "\tKINDER MORGAN WINK PIPELINE, LP (OPERATOR_ID 31957)\n",
      "\n"
     ]
    }
   ],
   "source": [
    "print(next(issues))"
   ]
  },
  {
   "cell_type": "markdown",
   "metadata": {},
   "source": [
    "Not a concern/already addressed above."
   ]
  },
  {
   "cell_type": "markdown",
   "metadata": {},
   "source": [
    "### 8.2.25 Permian"
   ]
  },
  {
   "cell_type": "code",
   "execution_count": 68,
   "metadata": {},
   "outputs": [
    {
     "name": "stdout",
     "output_type": "stream",
     "text": [
      "\n",
      "PERMIAN EXPRESS PARTNERS LLC (OPERATOR_ID 39596) may have a namesake or namesakes:\n",
      "\n",
      "\tNUSTAR PERMIAN TRANSPORTATION AND STORAGE, LLC (OPERATOR_ID 39348)\n",
      "\n"
     ]
    }
   ],
   "source": [
    "print(next(issues))"
   ]
  },
  {
   "cell_type": "markdown",
   "metadata": {},
   "source": [
    "Permian is already integrated with NuStar."
   ]
  },
  {
   "cell_type": "markdown",
   "metadata": {},
   "source": [
    "### 8.2.26 Tesoro (repeat)"
   ]
  },
  {
   "cell_type": "code",
   "execution_count": 69,
   "metadata": {},
   "outputs": [
    {
     "name": "stdout",
     "output_type": "stream",
     "text": [
      "\n",
      "TESORO LOGISTICS OPERATIONS, LLC (OPERATOR_ID 38933) has changed its name:\n",
      "\n",
      "\tWas named TESORO LOGISTICS OPERATIONS LLC - SOUTHERN CALIFORNIA from 2012 to 2017.\n",
      "\n",
      "\tWas named TESORO LOGISTICS OPERATIONS, LLC from 2018 to 2018.\n",
      "\n",
      "TESORO LOGISTICS OPERATIONS, LLC (OPERATOR_ID 38933) may have a namesake or namesakes:\n",
      "\n",
      "\tTESORO - HIGH PLAINS PIPELINE COMPANY (OPERATOR_ID 31570)\n",
      "\n",
      "\tTESORO HIGH PLAINS PIPELINE COMPANY  (OPERATOR_ID 31570)\n",
      "\n",
      "\tTESORO CORPORATION (OPERATOR_ID 31570)\n",
      "\n",
      "\tTESORO REFINING & MARKETING CO., MOUNTAIN REGION (OPERATOR_ID 31583)\n",
      "\n",
      "\tTESORO REFINING & MARKETING CO, MOUNTAIN REGION  (OPERATOR_ID 31583)\n",
      "\n",
      "\tTESORO CORPORATION (OPERATOR_ID 31583)\n",
      "\n",
      "\tTESORO REFINING & MARKETING C O., GOLDEN EAGLE (OPERATOR_ID 31874)\n",
      "\n",
      "\tTESORO CORPORATION (OPERATOR_ID 31874)\n",
      "\n"
     ]
    }
   ],
   "source": [
    "print(next(issues))"
   ]
  },
  {
   "cell_type": "markdown",
   "metadata": {},
   "source": [
    "Already covered above."
   ]
  },
  {
   "cell_type": "markdown",
   "metadata": {},
   "source": [
    "### 8.2.27 Plains Pipeline"
   ]
  },
  {
   "cell_type": "code",
   "execution_count": 70,
   "metadata": {},
   "outputs": [
    {
     "name": "stdout",
     "output_type": "stream",
     "text": [
      "\n",
      "ROCKY MOUNTAIN PIPELINE SYSTEM, LLC (OPERATOR_ID 31666) has changed its name:\n",
      "\n",
      "\tWas named ROCKY MOUNTAIN PIPELINE SYSTEM  LLC from 2006 to 2006.\n",
      "\n",
      "\tWas named ROCKY MOUNTAIN PIPELINE SYSTEM LLC from 2005 to 2005.\n",
      "\n",
      "\tWas named ROCKY MOUNTAIN PIPELINE SYSTEM, LLC from 2004 to 2010.\n",
      "\n",
      "ROCKY MOUNTAIN PIPELINE SYSTEM, LLC (OPERATOR_ID 31666) has the same parent company as:\n",
      "\n",
      "\tPLAINS PIPELINE, L.P. (OPERATOR_ID 300)\n",
      "\n",
      "\tPLAINS MARKETING, L.P. (OPERATOR_ID 26085)\n",
      "\n"
     ]
    }
   ],
   "source": [
    "print(next(issues))"
   ]
  },
  {
   "cell_type": "code",
   "execution_count": 71,
   "metadata": {},
   "outputs": [
    {
     "name": "stdout",
     "output_type": "stream",
     "text": [
      "No organizations were renamed at any time.\n"
     ]
    }
   ],
   "source": [
    "report_names(['31666', '300', '26085'])"
   ]
  },
  {
   "cell_type": "markdown",
   "metadata": {},
   "source": [
    "LexisNexis Doassiers indicates no M&As for the subsidiaries, Plains Marketing and Rocky Mountain Pipeline System."
   ]
  },
  {
   "cell_type": "code",
   "execution_count": 72,
   "metadata": {},
   "outputs": [
    {
     "data": {
      "text/html": [
       "<div>\n",
       "<style scoped>\n",
       "    .dataframe tbody tr th:only-of-type {\n",
       "        vertical-align: middle;\n",
       "    }\n",
       "\n",
       "    .dataframe tbody tr th {\n",
       "        vertical-align: top;\n",
       "    }\n",
       "\n",
       "    .dataframe thead th {\n",
       "        text-align: right;\n",
       "    }\n",
       "</style>\n",
       "<table border=\"1\" class=\"dataframe\">\n",
       "  <thead>\n",
       "    <tr style=\"text-align: right;\">\n",
       "      <th></th>\n",
       "      <th>members</th>\n",
       "      <th>name</th>\n",
       "    </tr>\n",
       "  </thead>\n",
       "  <tbody>\n",
       "    <tr>\n",
       "      <th>63</th>\n",
       "      <td>2731</td>\n",
       "      <td>Chevron (Group)</td>\n",
       "    </tr>\n",
       "    <tr>\n",
       "      <th>64</th>\n",
       "      <td>2339</td>\n",
       "      <td>Chevron (Group)</td>\n",
       "    </tr>\n",
       "    <tr>\n",
       "      <th>65</th>\n",
       "      <td>300</td>\n",
       "      <td>Plains Pipeline (Group)</td>\n",
       "    </tr>\n",
       "    <tr>\n",
       "      <th>66</th>\n",
       "      <td>31666</td>\n",
       "      <td>Plains Pipeline (Group)</td>\n",
       "    </tr>\n",
       "    <tr>\n",
       "      <th>67</th>\n",
       "      <td>26085</td>\n",
       "      <td>Plains Pipeline (Group)</td>\n",
       "    </tr>\n",
       "  </tbody>\n",
       "</table>\n",
       "</div>"
      ],
      "text/plain": [
       "   members                     name\n",
       "63    2731          Chevron (Group)\n",
       "64    2339          Chevron (Group)\n",
       "65     300  Plains Pipeline (Group)\n",
       "66   31666  Plains Pipeline (Group)\n",
       "67   26085  Plains Pipeline (Group)"
      ]
     },
     "execution_count": 72,
     "metadata": {},
     "output_type": "execute_result"
    }
   ],
   "source": [
    "company_groups = add_company_group('Plains Pipeline (Group)', ['300', '31666', '26085'], company_groups)\n",
    "company_groups.tail()"
   ]
  },
  {
   "cell_type": "markdown",
   "metadata": {},
   "source": [
    "### 3.2.28 Mid-Valley"
   ]
  },
  {
   "cell_type": "code",
   "execution_count": 73,
   "metadata": {},
   "outputs": [
    {
     "name": "stdout",
     "output_type": "stream",
     "text": [
      "\n",
      "MID - VALLEY PIPELINE CO (OPERATOR_ID 12470) has changed its name:\n",
      "\n",
      "\tWas named MID - VALLEY PIPELINE CO from 2007 to 2018.\n",
      "\n",
      "\tWas named MID-VALLEY PIPELINE CO from 2005 to 2005.\n",
      "\n",
      "\tWas named MID-VALLEY PIPELINE CO. from 2006 to 2006.\n",
      "\n",
      "\tWas named MID-VALLEY PIPELINE COMPANY from 2004 to 2004.\n",
      "\n"
     ]
    }
   ],
   "source": [
    "print(next(issues))"
   ]
  },
  {
   "cell_type": "markdown",
   "metadata": {},
   "source": [
    "No concern."
   ]
  },
  {
   "cell_type": "markdown",
   "metadata": {},
   "source": [
    "### 8.2.29 Kinder Morgan (repeat)"
   ]
  },
  {
   "cell_type": "code",
   "execution_count": 74,
   "metadata": {},
   "outputs": [
    {
     "name": "stdout",
     "output_type": "stream",
     "text": [
      "\n",
      "CYPRESS INTERSTATE PIPELINE LLC (OPERATOR_ID 4472) has changed its name:\n",
      "\n",
      "\tWas named CYPRESS INTERSTATE PIPELINE LLC from 2012 to 2018.\n",
      "\n",
      "\tWas named KINDER MORGAN ENERGY PARTNERS, L.P. from 2004 to 2011.\n",
      "\n",
      "CYPRESS INTERSTATE PIPELINE LLC (OPERATOR_ID 4472) may have a namesake or namesakes:\n",
      "\n",
      "\tKINDER MORGAN CANADA INC. (OPERATOR_ID 19585)\n",
      "\n",
      "\tKINDER MORGAN CANAADA INC. (OPERATOR_ID 19585)\n",
      "\n",
      "\tKINDER MORGAN CANADA INC.  (OPERATOR_ID 19585)\n",
      "\n",
      "\tKINDER MORGAN LIQUID TERMINALS, LLC (OPERATOR_ID 26041)\n",
      "\n",
      "\tKINDER MORGAN, INC (OPERATOR_ID 26041)\n",
      "\n",
      "\tKINDER MORGAN LIQUID TERMINAL, LLC (WEST COAST TERMINALS) (OPERATOR_ID 26041)\n",
      "\n",
      "\tKINDER MORGAN LIQUIDS TERMINALS LLC (OPERATOR_ID 26041)\n",
      "\n",
      "\tKINDER MORGAN LIQUIDS TERMINALS, L.P. (OPERATOR_ID 26041)\n",
      "\n",
      "\tKINDER MORGAN PIPELINES (USA) INC (OPERATOR_ID 31720)\n",
      "\n",
      "\tKINDER MORGAN CANADA INC. (OPERATOR_ID 31720)\n",
      "\n",
      "\tKINDER MORGAN CANADA, INC. (OPERATOR_ID 31720)\n",
      "\n",
      "\tKINDER MORGAN CANADA INC.  (OPERATOR_ID 31720)\n",
      "\n",
      "\tKINDER MORGAN WINK PIPELINE LP (OPERATOR_ID 31957)\n",
      "\n",
      "\tKINDER MORGAN WINK PIPELINE, LP (OPERATOR_ID 31957)\n",
      "\n"
     ]
    }
   ],
   "source": [
    "print(next(issues))"
   ]
  },
  {
   "cell_type": "markdown",
   "metadata": {},
   "source": [
    "Already covered above."
   ]
  },
  {
   "cell_type": "markdown",
   "metadata": {},
   "source": [
    "### 8.2.30 Shell pipeline"
   ]
  },
  {
   "cell_type": "code",
   "execution_count": 75,
   "metadata": {},
   "outputs": [
    {
     "name": "stdout",
     "output_type": "stream",
     "text": [
      "\n",
      "SHELL PIPELINE CO., L.P. (OPERATOR_ID 31174) has changed its name:\n",
      "\n",
      "\tWas named SHELL PIPELINE CO., L.P. from 2007 to 2018.\n",
      "\n",
      "\tWas named SHELL PIPELINE COMPANY, LP from 2004 to 2006.\n",
      "\n"
     ]
    }
   ],
   "source": [
    "print(next(issues))"
   ]
  },
  {
   "cell_type": "markdown",
   "metadata": {},
   "source": [
    "Not a concern."
   ]
  },
  {
   "cell_type": "markdown",
   "metadata": {},
   "source": [
    "### 8.2.31 DCP "
   ]
  },
  {
   "cell_type": "code",
   "execution_count": 76,
   "metadata": {},
   "outputs": [
    {
     "name": "stdout",
     "output_type": "stream",
     "text": [
      "\n",
      "DCP MIDSTREAM (OPERATOR_ID 31130) has changed its name:\n",
      "\n",
      "\tWas named DCP MIDSTREAM from 2006 to 2018.\n",
      "\n",
      "\tWas named DUKE ENERGY FIELD SERVICES from 2004 to 2005.\n",
      "\n",
      "\tWas named DUKE ENERGY FIELD SERVICES LLC from 2004 to 2004.\n",
      "\n",
      "\tWas named DUKE ENERGY FIELD SERVICES LP from 2004 to 2005.\n",
      "\n",
      "\tWas named DUKE ENERGY FIELD SERVICES, LP from 2004 to 2005.\n",
      "\n",
      "\tWas named DUKE ENERGY NGL OPERATING from 2004 to 2004.\n",
      "\n",
      "\tWas named DUKE ENERGY NGL OPERATING, LLC from 2004 to 2005.\n",
      "\n",
      "\tWas named DUKE ENERGY NGL SERVICES from 2004 to 2004.\n",
      "\n",
      "\tWas named DUKE ENERGY NGL SERVICES, LP from 2004 to 2005.\n",
      "\n"
     ]
    }
   ],
   "source": [
    "print(next(issues))"
   ]
  },
  {
   "cell_type": "markdown",
   "metadata": {},
   "source": [
    "Since it is the only organization in the group, this is not a concern."
   ]
  },
  {
   "cell_type": "markdown",
   "metadata": {},
   "source": [
    "### 3.2.32 BP"
   ]
  },
  {
   "cell_type": "code",
   "execution_count": 77,
   "metadata": {},
   "outputs": [
    {
     "name": "stdout",
     "output_type": "stream",
     "text": [
      "\n",
      "BP PIPELINE (NORTH AMERICA) INC. (OPERATOR_ID 31189) has changed its name:\n",
      "\n",
      "\tWas named BP PIPELINE from 2006 to 2006.\n",
      "\n",
      "\tWas named BP PIPELINE (NORTH AMERICA) INC. from 2007 to 2018.\n",
      "\n",
      "\tWas named BP PIPELINES N.A. from 2005 to 2005.\n",
      "\n",
      "\tWas named BP PIPELINES NORTH AMERICA INC. from 2004 to 2004.\n",
      "\n",
      "BP PIPELINE (NORTH AMERICA) INC. (OPERATOR_ID 31189) has the same parent company as:\n",
      "\n",
      "\tBP OIL PIPELINE CO (OPERATOR_ID 18386)\n",
      "\n",
      "\tOLYMPIC PIPE LINE COMPANY (OPERATOR_ID 30781)\n",
      "\n",
      "\tBP WEST COAST PRODUCTS L.L.C. (OPERATOR_ID 31610)\n",
      "\n",
      "\tBLACK LAKE PIPE LINE CO (OPERATOR_ID 1466)\n",
      "\n",
      "\tSEAWAY PRODUCTS PIPELINE COMPANY (OPERATOR_ID 31549)\n",
      "\n",
      "BP PIPELINE (NORTH AMERICA) INC. (OPERATOR_ID 31189) may have a namesake or namesakes:\n",
      "\n",
      "\tBP PIPELINES NORTH AMERICA INC. (OPERATOR_ID 395)\n",
      "\n",
      "\tBP PIPELINES N.A. (OPERATOR_ID 395)\n",
      "\n",
      "\tBP PIPELINES (NORTH AMERICA),  INC. (OPERATOR_ID 395)\n",
      "\n",
      "\tBP PIPELINES (NORTH AMERICA), INC. (OPERATOR_ID 395)\n",
      "\n",
      "\tBP PIPELINES NORTH AMERICA INC. (OPERATOR_ID 18386)\n",
      "\n",
      "\tBP PIPELINES N.A. (OPERATOR_ID 18386)\n",
      "\n",
      "\tBP PIPELINES (NORTH AMERICA), INC. (OPERATOR_ID 18386)\n",
      "\n",
      "\tBP PIPELINES NORTH AMERICA INC. (OPERATOR_ID 30781)\n",
      "\n",
      "\tBP PIPELINES N.A. (OPERATOR_ID 30781)\n",
      "\n",
      "\tBP PIPELINES (NORTH AMERICA), INC. (OPERATOR_ID 30781)\n",
      "\n",
      "\tBP (OPERATOR_ID 3466)\n",
      "\n",
      "\tBP CANADA ENERGY COMPANY (OPERATOR_ID 3466)\n",
      "\n",
      "\tBP PIPELINES NORTH AMERICA INC. (OPERATOR_ID 31270)\n",
      "\n",
      "\tBP PIPELINE (NORTH AMERICA), INC. (OPERATOR_ID 31270)\n",
      "\n",
      "\tBP PIPELINES (NORTH AMERICA), INC. (OPERATOR_ID 31270)\n",
      "\n",
      "\tBP PIPELINES NORTH AMERICA INC. (OPERATOR_ID 31610)\n",
      "\n",
      "\tBP PIPELINES N.A. (OPERATOR_ID 31610)\n",
      "\n",
      "\tBP PIPELINES (NORTH AMERICA), INC. (OPERATOR_ID 31610)\n",
      "\n",
      "\tBP PIPELINES NORTH AMERICA INC. (OPERATOR_ID 1466)\n",
      "\n",
      "\tBP PIPELINES N.A. (OPERATOR_ID 1466)\n",
      "\n",
      "\tBP PIPELINES (NORTH AMERICA), INC. (OPERATOR_ID 1466)\n",
      "\n",
      "\tBP PIPELINES NORTH AMERICA INC. (OPERATOR_ID 31549)\n",
      "\n"
     ]
    }
   ],
   "source": [
    "print(next(issues))"
   ]
  },
  {
   "cell_type": "code",
   "execution_count": 78,
   "metadata": {},
   "outputs": [
    {
     "name": "stdout",
     "output_type": "stream",
     "text": [
      "\n",
      "Organization 31189 has changed its name:\n",
      "    31189 was named Bp Pipeline from 2006 to 2006.\n",
      "    31189 was named Bp Pipeline North America Inc from 2007 to 2018.\n",
      "    31189 was named Bp Pipelines NA from 2005 to 2005.\n",
      "    31189 was named Bp Pipelines North America Inc from 2004 to 2004.\n",
      "\n",
      "Organization 18386 has changed its name:\n",
      "    18386 was named Bp Oil from 2006 to 2006.\n",
      "    18386 was named Bp Oil Pipeline from 2005 to 2005.\n",
      "    18386 was named Bp Oil Pipeline Co from 2007 to 2018.\n",
      "    18386 was named Bp Oil Pipeline Company from 2004 to 2004.\n",
      "\n",
      "Organization 31610 has changed its name:\n",
      "    31610 was named Bp West Coast Products LLC from 2007 to 2012.\n",
      "    31610 was named Bp Westcoast Products from 2005 to 2005.\n",
      "    31610 was named Bp Westcoast Products LLC from 2004 to 2004.\n",
      "    31610 was named Bp Westcoast Products Llc from 2006 to 2006.\n",
      "\n",
      "Organization 1466 has changed its name:\n",
      "    1466 was named Black Lake Pipe Line Co from 2007 to 2009.\n",
      "    1466 was named Black Lake Pipeline from 2005 to 2006.\n",
      "    1466 was named Black Lake Pipeline Company from 2004 to 2004.\n"
     ]
    }
   ],
   "source": [
    "report_names(['31189', '18386', '30781', '31610', '1466', '31549'])"
   ]
  },
  {
   "cell_type": "code",
   "execution_count": 79,
   "metadata": {},
   "outputs": [
    {
     "data": {
      "text/html": [
       "<div>\n",
       "<style scoped>\n",
       "    .dataframe tbody tr th:only-of-type {\n",
       "        vertical-align: middle;\n",
       "    }\n",
       "\n",
       "    .dataframe tbody tr th {\n",
       "        vertical-align: top;\n",
       "    }\n",
       "\n",
       "    .dataframe thead th {\n",
       "        text-align: right;\n",
       "    }\n",
       "</style>\n",
       "<table border=\"1\" class=\"dataframe\">\n",
       "  <thead>\n",
       "    <tr style=\"text-align: right;\">\n",
       "      <th></th>\n",
       "      <th>members</th>\n",
       "      <th>name</th>\n",
       "    </tr>\n",
       "  </thead>\n",
       "  <tbody>\n",
       "    <tr>\n",
       "      <th>68</th>\n",
       "      <td>31189</td>\n",
       "      <td>BP (Group)</td>\n",
       "    </tr>\n",
       "    <tr>\n",
       "      <th>69</th>\n",
       "      <td>18386</td>\n",
       "      <td>BP (Group)</td>\n",
       "    </tr>\n",
       "    <tr>\n",
       "      <th>70</th>\n",
       "      <td>31610</td>\n",
       "      <td>BP (Group)</td>\n",
       "    </tr>\n",
       "    <tr>\n",
       "      <th>71</th>\n",
       "      <td>1466</td>\n",
       "      <td>BP (Group)</td>\n",
       "    </tr>\n",
       "    <tr>\n",
       "      <th>72</th>\n",
       "      <td>31549</td>\n",
       "      <td>BP (Group)</td>\n",
       "    </tr>\n",
       "  </tbody>\n",
       "</table>\n",
       "</div>"
      ],
      "text/plain": [
       "   members        name\n",
       "68   31189  BP (Group)\n",
       "69   18386  BP (Group)\n",
       "70   31610  BP (Group)\n",
       "71    1466  BP (Group)\n",
       "72   31549  BP (Group)"
      ]
     },
     "execution_count": 79,
     "metadata": {},
     "output_type": "execute_result"
    }
   ],
   "source": [
    "company_groups = add_company_group('BP (Group)', ['31189', '18386', '31610', '1466', '31549'], company_groups)\n",
    "company_groups.tail()"
   ]
  },
  {
   "cell_type": "code",
   "execution_count": 80,
   "metadata": {},
   "outputs": [
    {
     "data": {
      "text/html": [
       "<div>\n",
       "<style scoped>\n",
       "    .dataframe tbody tr th:only-of-type {\n",
       "        vertical-align: middle;\n",
       "    }\n",
       "\n",
       "    .dataframe tbody tr th {\n",
       "        vertical-align: top;\n",
       "    }\n",
       "\n",
       "    .dataframe thead th {\n",
       "        text-align: right;\n",
       "    }\n",
       "</style>\n",
       "<table border=\"1\" class=\"dataframe\">\n",
       "  <thead>\n",
       "    <tr style=\"text-align: right;\">\n",
       "      <th></th>\n",
       "      <th>members</th>\n",
       "      <th>name</th>\n",
       "      <th>start_year</th>\n",
       "      <th>end_year</th>\n",
       "    </tr>\n",
       "  </thead>\n",
       "  <tbody>\n",
       "    <tr>\n",
       "      <th>22</th>\n",
       "      <td>31556</td>\n",
       "      <td>Chevron (Group)</td>\n",
       "      <td>2002</td>\n",
       "      <td>NaN</td>\n",
       "    </tr>\n",
       "    <tr>\n",
       "      <th>23</th>\n",
       "      <td>Chevron (Group)</td>\n",
       "      <td>Chevron (Group)</td>\n",
       "      <td>2002</td>\n",
       "      <td>2014</td>\n",
       "    </tr>\n",
       "    <tr>\n",
       "      <th>24</th>\n",
       "      <td>31554</td>\n",
       "      <td>Chevron (Group)</td>\n",
       "      <td>2002</td>\n",
       "      <td>2014</td>\n",
       "    </tr>\n",
       "    <tr>\n",
       "      <th>25</th>\n",
       "      <td>BP (Group)</td>\n",
       "      <td>BP (Group)</td>\n",
       "      <td>2001</td>\n",
       "      <td>2006</td>\n",
       "    </tr>\n",
       "    <tr>\n",
       "      <th>26</th>\n",
       "      <td>30781</td>\n",
       "      <td>BP (Group)</td>\n",
       "      <td>2001</td>\n",
       "      <td>2006</td>\n",
       "    </tr>\n",
       "  </tbody>\n",
       "</table>\n",
       "</div>"
      ],
      "text/plain": [
       "            members             name start_year end_year\n",
       "22            31556  Chevron (Group)       2002      NaN\n",
       "23  Chevron (Group)  Chevron (Group)       2002     2014\n",
       "24            31554  Chevron (Group)       2002     2014\n",
       "25       BP (Group)       BP (Group)       2001     2006\n",
       "26            30781       BP (Group)       2001     2006"
      ]
     },
     "execution_count": 80,
     "metadata": {},
     "output_type": "execute_result"
    }
   ],
   "source": [
    "m_as = add_m_a('BP (Group)', ['BP (Group)', '30781'], m_as, start_year='2001', end_year='2006')\n",
    "m_as.tail()"
   ]
  },
  {
   "cell_type": "markdown",
   "metadata": {},
   "source": [
    "### 8.2.33 ExxonMobil (repeat)"
   ]
  },
  {
   "cell_type": "code",
   "execution_count": 81,
   "metadata": {},
   "outputs": [
    {
     "name": "stdout",
     "output_type": "stream",
     "text": [
      "\n",
      "EXXONMOBIL PIPELINE CO (OPERATOR_ID 12628) has changed its name:\n",
      "\n",
      "\tWas named EXXONMOBIL PIPELINE CO from 2007 to 2018.\n",
      "\n",
      "\tWas named MOBIL  PIPE  LINE COMPANY from 2012 to 2018.\n",
      "\n",
      "\tWas named MOBIL PIPE LINE COMPANY from 2004 to 2006.\n",
      "\n",
      "\tWas named MOBIL PIPELINE CO from 2010 to 2010.\n",
      "\n",
      "EXXONMOBIL PIPELINE CO (OPERATOR_ID 12628) may have a namesake or namesakes:\n",
      "\n",
      "\tEXXONMOBIL PIPELINE COMPANY (OPERATOR_ID 4906)\n",
      "\n",
      "\tMOBIL CORP (OPERATOR_ID 12624)\n",
      "\n",
      "\tMOBIL OIL CORPORATION - MOBIL BEAUMNT REFINERY (HULL) (OPERATOR_ID 12624)\n",
      "\n",
      "\tMOBIL OIL  CORPORATION-MOBIL BEAUMONT REFINERY (MAGPETCO) (OPERATOR_ID 12624)\n",
      "\n",
      "\tMOBIL OIL CORPORATION - MOBIL BEAUMONT REFINERY (HULL) (OPERATOR_ID 12624)\n",
      "\n",
      "\tEXXONMOBIL OIL CORPORATION - BEAUMONT REFINERY (HULL) (OPERATOR_ID 12624)\n",
      "\n",
      "\tEXXONMOBIL OIL CORPORATION - BEAUMONT REFINERY (MAGPETCO) (OPERATOR_ID 12624)\n",
      "\n",
      "\tMOBIL BEAUMONT REFINERY (OPERATOR_ID 12624)\n",
      "\n",
      "\tMOBIL CHEMICAL CO (OPERATOR_ID 12634)\n",
      "\n",
      "\tMOBIL CHEMICAL COMPANY (OPERATOR_ID 12634)\n",
      "\n",
      "\tEXXONMOBIL CHEMICAL COMPANY (OPERATOR_ID 12634)\n",
      "\n",
      "\tMOBIL OIL CORPORATION - WEST COAST PIPELINE (OPERATOR_ID 26134)\n",
      "\n",
      "\tMOBIL OIL CORPORATION WEST COAST PIPELINE (OPERATOR_ID 26134)\n",
      "\n",
      "\tEXXONMOBIL OIL CORPORATION - WEST COAST PIPELINE (OPERATOR_ID 26134)\n",
      "\n",
      "\tMOBIL PACIFIC PIPELINE COMPANY (OPERATOR_ID 30005)\n",
      "\n",
      "\tMOBIL PACIFIC PIPELINE (OPERATOR_ID 30005)\n",
      "\n"
     ]
    }
   ],
   "source": [
    "print(next(issues))"
   ]
  },
  {
   "cell_type": "markdown",
   "metadata": {},
   "source": [
    "Already covered above."
   ]
  },
  {
   "cell_type": "markdown",
   "metadata": {},
   "source": [
    "### 8.2.34 Amoco"
   ]
  },
  {
   "cell_type": "code",
   "execution_count": 82,
   "metadata": {},
   "outputs": [
    {
     "name": "stdout",
     "output_type": "stream",
     "text": [
      "\n",
      "AMOCO OIL CO (OPERATOR_ID 395) has changed its name:\n",
      "\n",
      "\tWas named AMOCO OIL from 2006 to 2006.\n",
      "\n",
      "\tWas named AMOCO OIL CO from 2007 to 2018.\n",
      "\n",
      "\tWas named AMOCO OIL COMPANY from 2004 to 2005.\n",
      "\n",
      "AMOCO OIL CO (OPERATOR_ID 395) has the same parent company as:\n",
      "\n",
      "\tDOME PETROLEUM CORP (OPERATOR_ID 3466)\n",
      "\n"
     ]
    }
   ],
   "source": [
    "print(next(issues))"
   ]
  },
  {
   "cell_type": "markdown",
   "metadata": {},
   "source": [
    "According to our notes, Dome has been part of Amoco since 1988."
   ]
  },
  {
   "cell_type": "code",
   "execution_count": 83,
   "metadata": {},
   "outputs": [
    {
     "data": {
      "text/html": [
       "<div>\n",
       "<style scoped>\n",
       "    .dataframe tbody tr th:only-of-type {\n",
       "        vertical-align: middle;\n",
       "    }\n",
       "\n",
       "    .dataframe tbody tr th {\n",
       "        vertical-align: top;\n",
       "    }\n",
       "\n",
       "    .dataframe thead th {\n",
       "        text-align: right;\n",
       "    }\n",
       "</style>\n",
       "<table border=\"1\" class=\"dataframe\">\n",
       "  <thead>\n",
       "    <tr style=\"text-align: right;\">\n",
       "      <th></th>\n",
       "      <th>members</th>\n",
       "      <th>name</th>\n",
       "    </tr>\n",
       "  </thead>\n",
       "  <tbody>\n",
       "    <tr>\n",
       "      <th>70</th>\n",
       "      <td>31610</td>\n",
       "      <td>BP (Group)</td>\n",
       "    </tr>\n",
       "    <tr>\n",
       "      <th>71</th>\n",
       "      <td>1466</td>\n",
       "      <td>BP (Group)</td>\n",
       "    </tr>\n",
       "    <tr>\n",
       "      <th>72</th>\n",
       "      <td>31549</td>\n",
       "      <td>BP (Group)</td>\n",
       "    </tr>\n",
       "    <tr>\n",
       "      <th>73</th>\n",
       "      <td>395</td>\n",
       "      <td>Amoco (Group)</td>\n",
       "    </tr>\n",
       "    <tr>\n",
       "      <th>74</th>\n",
       "      <td>3466</td>\n",
       "      <td>Amoco (Group)</td>\n",
       "    </tr>\n",
       "  </tbody>\n",
       "</table>\n",
       "</div>"
      ],
      "text/plain": [
       "   members           name\n",
       "70   31610     BP (Group)\n",
       "71    1466     BP (Group)\n",
       "72   31549     BP (Group)\n",
       "73     395  Amoco (Group)\n",
       "74    3466  Amoco (Group)"
      ]
     },
     "execution_count": 83,
     "metadata": {},
     "output_type": "execute_result"
    }
   ],
   "source": [
    "company_groups = add_company_group('Amoco (Group)', ['395', '3466'], company_groups)\n",
    "company_groups.tail()"
   ]
  },
  {
   "cell_type": "code",
   "execution_count": 84,
   "metadata": {},
   "outputs": [
    {
     "name": "stdout",
     "output_type": "stream",
     "text": [
      "\n",
      "DOME PETROLEUM CORP (OPERATOR_ID 3466) has changed its name:\n",
      "\n",
      "\tWas named DOME PETROLEUM CORP from 2007 to 2011.\n",
      "\n",
      "\tWas named DOME PETROLEUM LLC from 2010 to 2010.\n",
      "\n",
      "\tWas named DOME PIPELINE CORP from 2004 to 2004.\n",
      "\n",
      "\tWas named DOME PIPELINE CORPORATION from 2004 to 2006.\n",
      "\n"
     ]
    }
   ],
   "source": [
    "print(next(issues))"
   ]
  },
  {
   "cell_type": "markdown",
   "metadata": {},
   "source": [
    "Name change is not a concern."
   ]
  },
  {
   "cell_type": "markdown",
   "metadata": {},
   "source": [
    "###  8.2.35 Dixie (repeat)"
   ]
  },
  {
   "cell_type": "code",
   "execution_count": 85,
   "metadata": {},
   "outputs": [
    {
     "name": "stdout",
     "output_type": "stream",
     "text": [
      "\n",
      "DIXIE PIPELINE COMPANY LLC (OPERATOR_ID 3445) has changed its name:\n",
      "\n",
      "\tWas named DIXIE PIPELINE from 2007 to 2010.\n",
      "\n",
      "\tWas named DIXIE PIPELINE COMPANY from 2004 to 2006.\n",
      "\n",
      "\tWas named DIXIE PIPELINE COMPANY LLC from 2011 to 2018.\n",
      "\n"
     ]
    }
   ],
   "source": [
    "print(next(issues))"
   ]
  },
  {
   "cell_type": "markdown",
   "metadata": {},
   "source": [
    "Name change is not a concern."
   ]
  },
  {
   "cell_type": "markdown",
   "metadata": {},
   "source": [
    "### 8.2.36 West shore"
   ]
  },
  {
   "cell_type": "code",
   "execution_count": 86,
   "metadata": {},
   "outputs": [
    {
     "name": "stdout",
     "output_type": "stream",
     "text": [
      "\n",
      "WEST SHORE PIPELINE CO (OPERATOR_ID 22430) has changed its name:\n",
      "\n",
      "\tWas named WEST SHORE PIPELINE from 2006 to 2006.\n",
      "\n",
      "\tWas named WEST SHORE PIPELINE CO from 2007 to 2018.\n",
      "\n",
      "\tWas named WEST SHORE PIPELINE COMPANY from 2004 to 2006.\n",
      "\n"
     ]
    }
   ],
   "source": [
    "print(next(issues))"
   ]
  },
  {
   "cell_type": "markdown",
   "metadata": {},
   "source": [
    "Name change is not a concern."
   ]
  },
  {
   "cell_type": "markdown",
   "metadata": {},
   "source": [
    "### 8.2.37 Alon USA"
   ]
  },
  {
   "cell_type": "code",
   "execution_count": 87,
   "metadata": {},
   "outputs": [
    {
     "name": "stdout",
     "output_type": "stream",
     "text": [
      "\n",
      "ALON USA, LP (OPERATOR_ID 31443) may have a namesake or namesakes:\n",
      "\n",
      "\tALON USA (OPERATOR_ID 26136)\n",
      "\n"
     ]
    }
   ],
   "source": [
    "print(next(issues))"
   ]
  },
  {
   "cell_type": "markdown",
   "metadata": {},
   "source": [
    "Seems the organization has adapted a new operator ID for some reason."
   ]
  },
  {
   "cell_type": "code",
   "execution_count": 88,
   "metadata": {},
   "outputs": [
    {
     "name": "stdout",
     "output_type": "stream",
     "text": [
      "No organizations were renamed at any time.\n"
     ]
    }
   ],
   "source": [
    "report_names(['31443', '26136'])"
   ]
  },
  {
   "cell_type": "code",
   "execution_count": 89,
   "metadata": {},
   "outputs": [
    {
     "data": {
      "text/plain": [
       "[[2010, 21.0], [2011, 21.0], [2012, 21.0]]"
      ]
     },
     "execution_count": 89,
     "metadata": {},
     "output_type": "execute_result"
    }
   ],
   "source": [
    "find_total_miles('31443', range(2010, 2013))"
   ]
  },
  {
   "cell_type": "code",
   "execution_count": 90,
   "metadata": {},
   "outputs": [
    {
     "data": {
      "text/plain": [
       "[[2005, 320.0], [2006, 21.0], [2007, 21.0], [2008, 21.0]]"
      ]
     },
     "execution_count": 90,
     "metadata": {},
     "output_type": "execute_result"
    }
   ],
   "source": [
    "find_total_miles_2004('31443', range(2005, 2009))"
   ]
  },
  {
   "cell_type": "code",
   "execution_count": 91,
   "metadata": {},
   "outputs": [
    {
     "data": {
      "text/plain": [
       "[[2010, 129.97],\n",
       " [2011, 129.97],\n",
       " [2012, 129.97],\n",
       " [2013, 129.97],\n",
       " [2014, 129.97]]"
      ]
     },
     "execution_count": 91,
     "metadata": {},
     "output_type": "execute_result"
    }
   ],
   "source": [
    "find_total_miles('26136', range(2010, 2015))"
   ]
  },
  {
   "cell_type": "markdown",
   "metadata": {},
   "source": [
    "Seems to be two separate subsidiaries."
   ]
  },
  {
   "cell_type": "code",
   "execution_count": 92,
   "metadata": {},
   "outputs": [],
   "source": [
    "company_groups = add_company_group('Alon (Group)', ['31443', '26136'], company_groups)"
   ]
  },
  {
   "cell_type": "markdown",
   "metadata": {},
   "source": [
    "### 8.2.38 Citgo"
   ]
  },
  {
   "cell_type": "code",
   "execution_count": 93,
   "metadata": {},
   "outputs": [
    {
     "name": "stdout",
     "output_type": "stream",
     "text": [
      "\n",
      "CITGO PRODUCTS PIPELINE CO (OPERATOR_ID 30755) has changed its name:\n",
      "\n",
      "\tWas named CITGO PRODUCTS PIPELINE from 2006 to 2006.\n",
      "\n",
      "\tWas named CITGO PRODUCTS PIPELINE CO from 2005 to 2018.\n",
      "\n",
      "\tWas named CITGO PRODUCTS PIPELINE COMPANY from 2004 to 2004.\n",
      "\n",
      "CITGO PRODUCTS PIPELINE CO (OPERATOR_ID 30755) has the same parent company as:\n",
      "\n",
      "\tCITGO PIPELINE CO (OPERATOR_ID 2387)\n",
      "\n",
      "\tCITGO REFINING & CHEMICAL CO. L.P. (OPERATOR_ID 31023)\n",
      "\n",
      "CITGO PRODUCTS PIPELINE CO (OPERATOR_ID 30755) may have a namesake or namesakes:\n",
      "\n",
      "\tCITGO PETROLEUM  (OPERATOR_ID 2387)\n",
      "\n",
      "\tCITGO PETROLEUM (OPERATOR_ID 2387)\n",
      "\n",
      "\tCITGO PETROLEUM CORPORATION (OPERATOR_ID 31023)\n",
      "\n",
      "\tCITGO PETROLEUM COMPANY (OPERATOR_ID 31023)\n",
      "\n"
     ]
    }
   ],
   "source": [
    "print(next(issues))"
   ]
  },
  {
   "cell_type": "code",
   "execution_count": 94,
   "metadata": {},
   "outputs": [
    {
     "name": "stdout",
     "output_type": "stream",
     "text": [
      "\n",
      "Organization 30755 has changed its name:\n",
      "    30755 was named Citgo Products Pipeline from 2006 to 2006.\n",
      "    30755 was named Citgo Products Pipeline Co from 2005 to 2018.\n",
      "    30755 was named Citgo Products Pipeline Company from 2004 to 2004.\n",
      "\n",
      "Organization 2387 has changed its name:\n",
      "    2387 was named Citgo Pipeline from 2006 to 2006.\n",
      "    2387 was named Citgo Pipeline Co from 2007 to 2018.\n",
      "    2387 was named Citgo Pipeline Company from 2004 to 2005.\n"
     ]
    }
   ],
   "source": [
    "report_names(['30755', '2387', '31023'])"
   ]
  },
  {
   "cell_type": "markdown",
   "metadata": {},
   "source": [
    "Our notes suggest no M&A activities."
   ]
  },
  {
   "cell_type": "code",
   "execution_count": 95,
   "metadata": {},
   "outputs": [
    {
     "data": {
      "text/html": [
       "<div>\n",
       "<style scoped>\n",
       "    .dataframe tbody tr th:only-of-type {\n",
       "        vertical-align: middle;\n",
       "    }\n",
       "\n",
       "    .dataframe tbody tr th {\n",
       "        vertical-align: top;\n",
       "    }\n",
       "\n",
       "    .dataframe thead th {\n",
       "        text-align: right;\n",
       "    }\n",
       "</style>\n",
       "<table border=\"1\" class=\"dataframe\">\n",
       "  <thead>\n",
       "    <tr style=\"text-align: right;\">\n",
       "      <th></th>\n",
       "      <th>members</th>\n",
       "      <th>name</th>\n",
       "    </tr>\n",
       "  </thead>\n",
       "  <tbody>\n",
       "    <tr>\n",
       "      <th>75</th>\n",
       "      <td>31443</td>\n",
       "      <td>Alon (Group)</td>\n",
       "    </tr>\n",
       "    <tr>\n",
       "      <th>76</th>\n",
       "      <td>26136</td>\n",
       "      <td>Alon (Group)</td>\n",
       "    </tr>\n",
       "    <tr>\n",
       "      <th>77</th>\n",
       "      <td>30755</td>\n",
       "      <td>Citgo (Group)</td>\n",
       "    </tr>\n",
       "    <tr>\n",
       "      <th>78</th>\n",
       "      <td>2387</td>\n",
       "      <td>Citgo (Group)</td>\n",
       "    </tr>\n",
       "    <tr>\n",
       "      <th>79</th>\n",
       "      <td>31023</td>\n",
       "      <td>Citgo (Group)</td>\n",
       "    </tr>\n",
       "  </tbody>\n",
       "</table>\n",
       "</div>"
      ],
      "text/plain": [
       "   members           name\n",
       "75   31443   Alon (Group)\n",
       "76   26136   Alon (Group)\n",
       "77   30755  Citgo (Group)\n",
       "78    2387  Citgo (Group)\n",
       "79   31023  Citgo (Group)"
      ]
     },
     "execution_count": 95,
     "metadata": {},
     "output_type": "execute_result"
    }
   ],
   "source": [
    "company_groups = add_company_group('Citgo (Group)', ['30755', '2387', '31023'], company_groups)\n",
    "company_groups.tail()"
   ]
  },
  {
   "cell_type": "markdown",
   "metadata": {},
   "source": [
    "### 8.2.39 Sinclair"
   ]
  },
  {
   "cell_type": "code",
   "execution_count": 96,
   "metadata": {},
   "outputs": [
    {
     "name": "stdout",
     "output_type": "stream",
     "text": [
      "\n",
      "SINCLAIR TRANSPORTATION COMPANY (OPERATOR_ID 15156) has changed its name:\n",
      "\n",
      "\tWas named SINCLAIR PIPELINE COMPANY from 2004 to 2005.\n",
      "\n",
      "\tWas named SINCLAIR TRANSPORTATION from 2006 to 2006.\n",
      "\n",
      "\tWas named SINCLAIR TRANSPORTATION COMPANY from 2006 to 2018.\n",
      "\n"
     ]
    }
   ],
   "source": [
    "print(next(issues))"
   ]
  },
  {
   "cell_type": "markdown",
   "metadata": {},
   "source": [
    "Not a concern."
   ]
  },
  {
   "cell_type": "markdown",
   "metadata": {},
   "source": [
    "### 8.2.40 Holly"
   ]
  },
  {
   "cell_type": "code",
   "execution_count": 97,
   "metadata": {},
   "outputs": [
    {
     "name": "stdout",
     "output_type": "stream",
     "text": [
      "\n",
      "HOLLY ENERGY PARTNERS - OPERATING, L.P. (OPERATOR_ID 32011) has changed its name:\n",
      "\n",
      "\tWas named HOLLY ENERGY PARTNERS from 2006 to 2006.\n",
      "\n",
      "\tWas named HOLLY ENERGY PARTNERS - OPERATING, L.P. from 2004 to 2018.\n",
      "\n",
      "HOLLY ENERGY PARTNERS - OPERATING, L.P. (OPERATOR_ID 32011) has the same parent company as:\n",
      "\n",
      "\tUNEV PIPELINE, LLC (OPERATOR_ID 32493)\n",
      "\n",
      "\tFRONTIER PIPELINE CO (OPERATOR_ID 5656)\n",
      "\n",
      "\tNAVAJO PIPELINE CO (OPERATOR_ID 13161)\n",
      "\n"
     ]
    }
   ],
   "source": [
    "print(next(issues))"
   ]
  },
  {
   "cell_type": "code",
   "execution_count": 98,
   "metadata": {},
   "outputs": [
    {
     "name": "stdout",
     "output_type": "stream",
     "text": [
      "\n",
      "Organization 32011 has changed its name:\n",
      "    32011 was named Holly Energy Partners from 2006 to 2006.\n",
      "    32011 was named Holly Energy Partners  Operating LP from 2004 to 2018.\n",
      "\n",
      "Organization 13161 has changed its name:\n",
      "    13161 was named Navajo Pipeline Co from 2005 to 2007.\n",
      "    13161 was named Navajo Pipeline Co Lp from 2004 to 2004.\n",
      "    13161 was named Navajo Pipeline Company from 2006 to 2006.\n"
     ]
    }
   ],
   "source": [
    "report_names(['32011', '32493', '5656', '13161'])"
   ]
  },
  {
   "cell_type": "code",
   "execution_count": 99,
   "metadata": {},
   "outputs": [
    {
     "data": {
      "text/html": [
       "<div>\n",
       "<style scoped>\n",
       "    .dataframe tbody tr th:only-of-type {\n",
       "        vertical-align: middle;\n",
       "    }\n",
       "\n",
       "    .dataframe tbody tr th {\n",
       "        vertical-align: top;\n",
       "    }\n",
       "\n",
       "    .dataframe thead th {\n",
       "        text-align: right;\n",
       "    }\n",
       "</style>\n",
       "<table border=\"1\" class=\"dataframe\">\n",
       "  <thead>\n",
       "    <tr style=\"text-align: right;\">\n",
       "      <th></th>\n",
       "      <th>members</th>\n",
       "      <th>name</th>\n",
       "    </tr>\n",
       "  </thead>\n",
       "  <tbody>\n",
       "    <tr>\n",
       "      <th>79</th>\n",
       "      <td>31023</td>\n",
       "      <td>Citgo (Group)</td>\n",
       "    </tr>\n",
       "    <tr>\n",
       "      <th>80</th>\n",
       "      <td>32011</td>\n",
       "      <td>HollyFrontier (Group)</td>\n",
       "    </tr>\n",
       "    <tr>\n",
       "      <th>81</th>\n",
       "      <td>32493</td>\n",
       "      <td>HollyFrontier (Group)</td>\n",
       "    </tr>\n",
       "    <tr>\n",
       "      <th>82</th>\n",
       "      <td>5656</td>\n",
       "      <td>HollyFrontier (Group)</td>\n",
       "    </tr>\n",
       "    <tr>\n",
       "      <th>83</th>\n",
       "      <td>13161</td>\n",
       "      <td>HollyFrontier (Group)</td>\n",
       "    </tr>\n",
       "  </tbody>\n",
       "</table>\n",
       "</div>"
      ],
      "text/plain": [
       "   members                   name\n",
       "79   31023          Citgo (Group)\n",
       "80   32011  HollyFrontier (Group)\n",
       "81   32493  HollyFrontier (Group)\n",
       "82    5656  HollyFrontier (Group)\n",
       "83   13161  HollyFrontier (Group)"
      ]
     },
     "execution_count": 99,
     "metadata": {},
     "output_type": "execute_result"
    }
   ],
   "source": [
    "company_groups = add_company_group('HollyFrontier (Group)', ['32011', '32493', '5656', '13161'], company_groups)\n",
    "company_groups.tail()"
   ]
  },
  {
   "cell_type": "markdown",
   "metadata": {},
   "source": [
    "Repeats"
   ]
  },
  {
   "cell_type": "code",
   "execution_count": 100,
   "metadata": {},
   "outputs": [
    {
     "name": "stdout",
     "output_type": "stream",
     "text": [
      "\n",
      "ENBRIDGE PIPELINES (SOUTHERN LIGHTS) L.L.C. (OPERATOR_ID 32502) may have a namesake or namesakes:\n",
      "\n",
      "\tENBRIDGE ENERGY PARTNERS, LP (OPERATOR_ID 11169)\n",
      "\n",
      "\tENBRIDGE ENERGY PARTNERS, LP  (OPERATOR_ID 11169)\n",
      "\n",
      "\tENBRIDGE ENERGY PARTNERS, L.P. (OPERATOR_ID 11169)\n",
      "\n",
      "\tENBRIDGE ENERGY PARTNERS, L..P. (OPERATOR_ID 11169)\n",
      "\n",
      "\tENBRIDGE PIPELINES (NORTH DAKOTA) LLC (OPERATOR_ID 15774)\n",
      "\n",
      "\tENBRIDGE ENERGY PARTNERS, LP (OPERATOR_ID 15774)\n",
      "\n",
      "\tENBRIDGE ENERGY PARTNERS, L.P. (OPERATOR_ID 15774)\n",
      "\n",
      "\tENBRIDGE (US) INC (OPERATOR_ID 31448)\n",
      "\n",
      "\tENBRIDGE (U.S.) INC. (OPERATOR_ID 31448)\n",
      "\n",
      "\tENBRIDGE ENERGY PARTNERS, L.P. (OPERATOR_ID 31448)\n",
      "\n",
      "\tENBRIDGE ENERGY PARTNERS, LP (OPERATOR_ID 31947)\n",
      "\n",
      "\tENBRIDGE ENERGY PARTNERS, L.P. (OPERATOR_ID 31947)\n",
      "\n",
      "\tENBRIDGE ENERGY COMPANY INC. (OPERATOR_ID 32080)\n",
      "\n",
      "\tENBRIDGE ENERGY COMPANY, INC. (OPERATOR_ID 32080)\n",
      "\n"
     ]
    }
   ],
   "source": [
    "print(next(issues))"
   ]
  },
  {
   "cell_type": "code",
   "execution_count": 101,
   "metadata": {},
   "outputs": [
    {
     "name": "stdout",
     "output_type": "stream",
     "text": [
      "\n",
      "TESORO LOGISTICS NORTHWEST PIPELINE LLC (OPERATOR_ID 39029) may have a namesake or namesakes:\n",
      "\n",
      "\tTESORO - HIGH PLAINS PIPELINE COMPANY (OPERATOR_ID 31570)\n",
      "\n",
      "\tTESORO HIGH PLAINS PIPELINE COMPANY  (OPERATOR_ID 31570)\n",
      "\n",
      "\tTESORO CORPORATION (OPERATOR_ID 31570)\n",
      "\n",
      "\tTESORO REFINING & MARKETING CO., MOUNTAIN REGION (OPERATOR_ID 31583)\n",
      "\n",
      "\tTESORO REFINING & MARKETING CO, MOUNTAIN REGION  (OPERATOR_ID 31583)\n",
      "\n",
      "\tTESORO CORPORATION (OPERATOR_ID 31583)\n",
      "\n",
      "\tTESORO REFINING & MARKETING C O., GOLDEN EAGLE (OPERATOR_ID 31874)\n",
      "\n",
      "\tTESORO CORPORATION (OPERATOR_ID 31874)\n",
      "\n",
      "\tTESORO LOGISTICS OPERATIONS LLC - SOUTHERN CALIFORNIA (OPERATOR_ID 38933)\n",
      "\n"
     ]
    }
   ],
   "source": [
    "print(next(issues))"
   ]
  },
  {
   "cell_type": "markdown",
   "metadata": {},
   "source": [
    "### 8.2.41 Genesis"
   ]
  },
  {
   "cell_type": "code",
   "execution_count": 102,
   "metadata": {},
   "outputs": [
    {
     "name": "stdout",
     "output_type": "stream",
     "text": [
      "\n",
      "GENESIS PIPELINE TEXAS, L.P. (OPERATOR_ID 31045) has changed its name:\n",
      "\n",
      "\tWas named  GENESIS PIPELINE USA L.P. from 2005 to 2005.\n",
      "\n",
      "\tWas named GENESIS CO2 PIPELINE, L. P. from 2005 to 2005.\n",
      "\n",
      "\tWas named GENESIS CO2, L.P. from 2006 to 2006.\n",
      "\n",
      "\tWas named GENESIS CRUDE OIL LP from 2007 to 2007.\n",
      "\n",
      "\tWas named GENESIS PIPELINE TEXAS, L.P. from 2006 to 2018.\n",
      "\n",
      "\tWas named GENESIS PIPELINE USA LP from 2004 to 2004.\n",
      "\n",
      "\tWas named GENESIS PIPELINE USA, L.P. from 2008 to 2018.\n",
      "\n",
      "GENESIS PIPELINE TEXAS, L.P. (OPERATOR_ID 31045) has the same parent company as:\n",
      "\n",
      "\tGENESIS PIPELINE TEXAS, L.P. (OPERATOR_ID 32407)\n",
      "\n"
     ]
    }
   ],
   "source": [
    "print(next(issues))"
   ]
  },
  {
   "cell_type": "code",
   "execution_count": 103,
   "metadata": {},
   "outputs": [
    {
     "name": "stdout",
     "output_type": "stream",
     "text": [
      "\n",
      "Organization 31045 has changed its name:\n",
      "    31045 was named  Genesis Pipeline Usa LP from 2005 to 2005.\n",
      "    31045 was named Genesis Co2 LP from 2006 to 2006.\n",
      "    31045 was named Genesis Co2 Pipeline L P from 2005 to 2005.\n",
      "    31045 was named Genesis Crude Oil Lp from 2007 to 2007.\n",
      "    31045 was named Genesis Pipeline Texas LP from 2006 to 2018.\n",
      "    31045 was named Genesis Pipeline Usa LP from 2008 to 2018.\n",
      "    31045 was named Genesis Pipeline Usa Lp from 2004 to 2004.\n"
     ]
    }
   ],
   "source": [
    "report_names(['31045', '32407'])"
   ]
  },
  {
   "cell_type": "code",
   "execution_count": 104,
   "metadata": {},
   "outputs": [
    {
     "data": {
      "text/html": [
       "<div>\n",
       "<style scoped>\n",
       "    .dataframe tbody tr th:only-of-type {\n",
       "        vertical-align: middle;\n",
       "    }\n",
       "\n",
       "    .dataframe tbody tr th {\n",
       "        vertical-align: top;\n",
       "    }\n",
       "\n",
       "    .dataframe thead th {\n",
       "        text-align: right;\n",
       "    }\n",
       "</style>\n",
       "<table border=\"1\" class=\"dataframe\">\n",
       "  <thead>\n",
       "    <tr style=\"text-align: right;\">\n",
       "      <th></th>\n",
       "      <th>members</th>\n",
       "      <th>name</th>\n",
       "    </tr>\n",
       "  </thead>\n",
       "  <tbody>\n",
       "    <tr>\n",
       "      <th>81</th>\n",
       "      <td>32493</td>\n",
       "      <td>HollyFrontier (Group)</td>\n",
       "    </tr>\n",
       "    <tr>\n",
       "      <th>82</th>\n",
       "      <td>5656</td>\n",
       "      <td>HollyFrontier (Group)</td>\n",
       "    </tr>\n",
       "    <tr>\n",
       "      <th>83</th>\n",
       "      <td>13161</td>\n",
       "      <td>HollyFrontier (Group)</td>\n",
       "    </tr>\n",
       "    <tr>\n",
       "      <th>84</th>\n",
       "      <td>31045</td>\n",
       "      <td>Gensis (Group)</td>\n",
       "    </tr>\n",
       "    <tr>\n",
       "      <th>85</th>\n",
       "      <td>32407</td>\n",
       "      <td>Gensis (Group)</td>\n",
       "    </tr>\n",
       "  </tbody>\n",
       "</table>\n",
       "</div>"
      ],
      "text/plain": [
       "   members                   name\n",
       "81   32493  HollyFrontier (Group)\n",
       "82    5656  HollyFrontier (Group)\n",
       "83   13161  HollyFrontier (Group)\n",
       "84   31045         Gensis (Group)\n",
       "85   32407         Gensis (Group)"
      ]
     },
     "execution_count": 104,
     "metadata": {},
     "output_type": "execute_result"
    }
   ],
   "source": [
    "company_groups = add_company_group('Gensis (Group)', ['31045', '32407'], company_groups)\n",
    "company_groups.tail()"
   ]
  },
  {
   "cell_type": "code",
   "execution_count": 105,
   "metadata": {},
   "outputs": [
    {
     "name": "stdout",
     "output_type": "stream",
     "text": [
      "\n",
      "EXXONMOBIL OIL CORP - WEST COAST (OPERATOR_ID 26134) has changed its name:\n",
      "\n",
      "\tWas named EXXONMOBIL OIL CORP - WEST COAST from 2007 to 2018.\n",
      "\n",
      "\tWas named EXXONMOBIL OIL CORPORATION - WEST COAST PIPELINE from 2006 to 2006.\n",
      "\n",
      "\tWas named MOBIL OIL CORPORATION - WEST COAST PIPELINE from 2004 to 2004.\n",
      "\n",
      "\tWas named MOBIL OIL CORPORATION WEST COAST PIPELINE from 2005 to 2005.\n",
      "\n",
      "EXXONMOBIL OIL CORP - WEST COAST (OPERATOR_ID 26134) may have a namesake or namesakes:\n",
      "\n",
      "\tEXXONMOBIL PIPELINE COMPANY (OPERATOR_ID 4906)\n",
      "\n",
      "\tMOBIL CORP (OPERATOR_ID 12624)\n",
      "\n",
      "\tMOBIL OIL CORPORATION - MOBIL BEAUMNT REFINERY (HULL) (OPERATOR_ID 12624)\n",
      "\n",
      "\tMOBIL OIL  CORPORATION-MOBIL BEAUMONT REFINERY (MAGPETCO) (OPERATOR_ID 12624)\n",
      "\n",
      "\tMOBIL OIL CORPORATION - MOBIL BEAUMONT REFINERY (HULL) (OPERATOR_ID 12624)\n",
      "\n",
      "\tEXXONMOBIL OIL CORPORATION - BEAUMONT REFINERY (HULL) (OPERATOR_ID 12624)\n",
      "\n",
      "\tEXXONMOBIL OIL CORPORATION - BEAUMONT REFINERY (MAGPETCO) (OPERATOR_ID 12624)\n",
      "\n",
      "\tMOBIL BEAUMONT REFINERY (OPERATOR_ID 12624)\n",
      "\n",
      "\tMOBIL  PIPE  LINE COMPANY (OPERATOR_ID 12628)\n",
      "\n",
      "\tMOBIL PIPELINE CO (OPERATOR_ID 12628)\n",
      "\n",
      "\tMOBIL PIPE LINE COMPANY (OPERATOR_ID 12628)\n",
      "\n",
      "\tMOBIL CHEMICAL CO (OPERATOR_ID 12634)\n",
      "\n",
      "\tMOBIL CHEMICAL COMPANY (OPERATOR_ID 12634)\n",
      "\n",
      "\tEXXONMOBIL CHEMICAL COMPANY (OPERATOR_ID 12634)\n",
      "\n",
      "\tMOBIL PACIFIC PIPELINE COMPANY (OPERATOR_ID 30005)\n",
      "\n",
      "\tMOBIL PACIFIC PIPELINE (OPERATOR_ID 30005)\n",
      "\n"
     ]
    }
   ],
   "source": [
    "print(next(issues))"
   ]
  },
  {
   "cell_type": "markdown",
   "metadata": {},
   "source": [
    "### 3.2.42 Williams Field services"
   ]
  },
  {
   "cell_type": "code",
   "execution_count": 106,
   "metadata": {},
   "outputs": [
    {
     "name": "stdout",
     "output_type": "stream",
     "text": [
      "\n",
      "WILLIAMS FIELD SERVICES (OPERATOR_ID 30826) has the same parent company as:\n",
      "\n",
      "\tWILLIAMS FIELD SERVICES - GULF COAST COMPANY, LP (OPERATOR_ID 994)\n",
      "\n",
      "\tWILLIAMS OLEFINS FEEDSTOCK PIPELINES, LLC (OPERATOR_ID 32614)\n",
      "\n"
     ]
    }
   ],
   "source": [
    "print(next(issues))"
   ]
  },
  {
   "cell_type": "code",
   "execution_count": 107,
   "metadata": {},
   "outputs": [
    {
     "name": "stdout",
     "output_type": "stream",
     "text": [
      "\n",
      "Organization 994 has changed its name:\n",
      "    994 was named Williams Field Services  Gulf Coast Compant LP from 2005 to 2005.\n",
      "    994 was named Williams Field Services  Gulf Coast Company LP from 2004 to 2006.\n",
      "    994 was named Williams Field Services  Gulf Coast Company Lp from 2007 to 2018.\n"
     ]
    }
   ],
   "source": [
    "report_names(['30826', '994', '32614'])"
   ]
  },
  {
   "cell_type": "code",
   "execution_count": 108,
   "metadata": {},
   "outputs": [
    {
     "data": {
      "text/html": [
       "<div>\n",
       "<style scoped>\n",
       "    .dataframe tbody tr th:only-of-type {\n",
       "        vertical-align: middle;\n",
       "    }\n",
       "\n",
       "    .dataframe tbody tr th {\n",
       "        vertical-align: top;\n",
       "    }\n",
       "\n",
       "    .dataframe thead th {\n",
       "        text-align: right;\n",
       "    }\n",
       "</style>\n",
       "<table border=\"1\" class=\"dataframe\">\n",
       "  <thead>\n",
       "    <tr style=\"text-align: right;\">\n",
       "      <th></th>\n",
       "      <th>members</th>\n",
       "      <th>name</th>\n",
       "    </tr>\n",
       "  </thead>\n",
       "  <tbody>\n",
       "    <tr>\n",
       "      <th>84</th>\n",
       "      <td>31045</td>\n",
       "      <td>Gensis (Group)</td>\n",
       "    </tr>\n",
       "    <tr>\n",
       "      <th>85</th>\n",
       "      <td>32407</td>\n",
       "      <td>Gensis (Group)</td>\n",
       "    </tr>\n",
       "    <tr>\n",
       "      <th>86</th>\n",
       "      <td>30826</td>\n",
       "      <td>Williams Field Services (Group)</td>\n",
       "    </tr>\n",
       "    <tr>\n",
       "      <th>87</th>\n",
       "      <td>994</td>\n",
       "      <td>Williams Field Services (Group)</td>\n",
       "    </tr>\n",
       "    <tr>\n",
       "      <th>88</th>\n",
       "      <td>32614</td>\n",
       "      <td>Williams Field Services (Group)</td>\n",
       "    </tr>\n",
       "  </tbody>\n",
       "</table>\n",
       "</div>"
      ],
      "text/plain": [
       "   members                             name\n",
       "84   31045                   Gensis (Group)\n",
       "85   32407                   Gensis (Group)\n",
       "86   30826  Williams Field Services (Group)\n",
       "87     994  Williams Field Services (Group)\n",
       "88   32614  Williams Field Services (Group)"
      ]
     },
     "execution_count": 108,
     "metadata": {},
     "output_type": "execute_result"
    }
   ],
   "source": [
    "company_groups = add_company_group('Williams Field Services (Group)', ['30826', '994', '32614'], company_groups)\n",
    "company_groups.tail()"
   ]
  },
  {
   "cell_type": "code",
   "execution_count": 109,
   "metadata": {},
   "outputs": [
    {
     "name": "stdout",
     "output_type": "stream",
     "text": [
      "\n",
      "EXPRESS HOLDINGS (USA), LLC (OPERATOR_ID 31720) has changed its name:\n",
      "\n",
      "\tWas named EXPRESS HOLDINGS (USA), LLC from 2013 to 2018.\n",
      "\n",
      "\tWas named KINDER MORGAN PIPELINES (USA) INC from 2008 to 2012.\n",
      "\n",
      "\tWas named TERASEN PIPELINE (USA) INC  from 2004 to 2004.\n",
      "\n",
      "\tWas named TERASEN PIPELINES (USA) INC. from 2005 to 2007.\n",
      "\n",
      "EXPRESS HOLDINGS (USA), LLC (OPERATOR_ID 31720) may have a namesake or namesakes:\n",
      "\n",
      "\tKINDER MORGAN ENERGY PARTNERS, L.P. (OPERATOR_ID 4472)\n",
      "\n",
      "\tKINDER MORGAN CANADA INC. (OPERATOR_ID 19585)\n",
      "\n",
      "\tKINDER MORGAN CANAADA INC. (OPERATOR_ID 19585)\n",
      "\n",
      "\tKINDER MORGAN CANADA INC.  (OPERATOR_ID 19585)\n",
      "\n",
      "\tKINDER MORGAN LIQUID TERMINALS, LLC (OPERATOR_ID 26041)\n",
      "\n",
      "\tKINDER MORGAN, INC (OPERATOR_ID 26041)\n",
      "\n",
      "\tKINDER MORGAN LIQUID TERMINAL, LLC (WEST COAST TERMINALS) (OPERATOR_ID 26041)\n",
      "\n",
      "\tKINDER MORGAN LIQUIDS TERMINALS LLC (OPERATOR_ID 26041)\n",
      "\n",
      "\tKINDER MORGAN LIQUIDS TERMINALS, L.P. (OPERATOR_ID 26041)\n",
      "\n",
      "\tKINDER MORGAN WINK PIPELINE LLC (OPERATOR_ID 31957)\n",
      "\n",
      "\tKINDER MORGAN WINK PIPELINE LP (OPERATOR_ID 31957)\n",
      "\n",
      "\tKINDER MORGAN WINK PIPELINE, LP (OPERATOR_ID 31957)\n",
      "\n",
      "\tKINDER MORGAN COCHIN LLC (OPERATOR_ID 32258)\n",
      "\n",
      "\tKINDER MORGAN CRUDE AND CONDENSATE LLC (OPERATOR_ID 32678)\n",
      "\n",
      "\tKINDER MORGAN UTOPIA LLC (OPERATOR_ID 39518)\n",
      "\n",
      "\tTERASEN ENVIRONMENTAL SERVICES INC (OPERATOR_ID 19585)\n",
      "\n"
     ]
    }
   ],
   "source": [
    "print(next(issues))"
   ]
  },
  {
   "cell_type": "markdown",
   "metadata": {},
   "source": [
    "### 8.2.43 Pacific pipeline system"
   ]
  },
  {
   "cell_type": "code",
   "execution_count": 110,
   "metadata": {},
   "outputs": [
    {
     "name": "stdout",
     "output_type": "stream",
     "text": [
      "\n",
      "PACIFIC PIPELINE SYSTEM LLC (OPERATOR_ID 31325) has changed its name:\n",
      "\n",
      "\tWas named PACIFIC PIPELINE SYSTEM  LLC from 2006 to 2006.\n",
      "\n",
      "\tWas named PACIFIC PIPELINE SYSTEM LLC from 2005 to 2010.\n",
      "\n",
      "\tWas named PACIFIC PIPELINE SYSTEM LLC  from 2004 to 2004.\n",
      "\n",
      "PACIFIC PIPELINE SYSTEM LLC (OPERATOR_ID 31325) has the same parent company as:\n",
      "\n",
      "\tPACIFIC MARKETING AND TRANSPORTATION LLC (OPERATOR_ID 31695)\n",
      "\n",
      "\tPACIFIC PIPELINE SYSTEM LLC (OPERATOR_ID 31885)\n",
      "\n",
      "PACIFIC PIPELINE SYSTEM LLC (OPERATOR_ID 31325) may have a namesake or namesakes:\n",
      "\n",
      "\tMOBIL PACIFIC PIPELINE CO (OPERATOR_ID 30005)\n",
      "\n",
      "\tMOBIL PACIFIC PIPELINE COMPANY (OPERATOR_ID 30005)\n",
      "\n",
      "\tMOBIL PACIFIC PIPELINE (OPERATOR_ID 30005)\n",
      "\n"
     ]
    }
   ],
   "source": [
    "print(next(issues))"
   ]
  },
  {
   "cell_type": "code",
   "execution_count": 111,
   "metadata": {},
   "outputs": [
    {
     "name": "stdout",
     "output_type": "stream",
     "text": [
      "\n",
      "Organization 31325 has changed its name:\n",
      "    31325 was named Pacific Pipeline System  Llc from 2006 to 2006.\n",
      "    31325 was named Pacific Pipeline System Llc from 2005 to 2010.\n",
      "    31325 was named Pacific Pipeline System Llc  from 2004 to 2004.\n",
      "\n",
      "Organization 31695 has changed its name:\n",
      "    31695 was named Pacific Marketing  Transportation  Llc from 2006 to 2006.\n",
      "    31695 was named Pacific Marketing And Transportation Llc from 2005 to 2007.\n",
      "    31695 was named Pacific Marketing And Transportation Llc  from 2004 to 2004.\n",
      "\n",
      "Organization 31885 has changed its name:\n",
      "    31885 was named Pacific Pipeline System Llc from 2005 to 2010.\n",
      "    31885 was named Pacific Terminals  Llc from 2006 to 2006.\n",
      "    31885 was named Pacific Terminals Llc from 2007 to 2008.\n",
      "    31885 was named Pacific Terminals Llc  from 2004 to 2004.\n"
     ]
    }
   ],
   "source": [
    "report_names(['31325', '31695', '31885'])"
   ]
  },
  {
   "cell_type": "code",
   "execution_count": 112,
   "metadata": {},
   "outputs": [
    {
     "data": {
      "text/html": [
       "<div>\n",
       "<style scoped>\n",
       "    .dataframe tbody tr th:only-of-type {\n",
       "        vertical-align: middle;\n",
       "    }\n",
       "\n",
       "    .dataframe tbody tr th {\n",
       "        vertical-align: top;\n",
       "    }\n",
       "\n",
       "    .dataframe thead th {\n",
       "        text-align: right;\n",
       "    }\n",
       "</style>\n",
       "<table border=\"1\" class=\"dataframe\">\n",
       "  <thead>\n",
       "    <tr style=\"text-align: right;\">\n",
       "      <th></th>\n",
       "      <th>members</th>\n",
       "      <th>name</th>\n",
       "    </tr>\n",
       "  </thead>\n",
       "  <tbody>\n",
       "    <tr>\n",
       "      <th>87</th>\n",
       "      <td>994</td>\n",
       "      <td>Williams Field Services (Group)</td>\n",
       "    </tr>\n",
       "    <tr>\n",
       "      <th>88</th>\n",
       "      <td>32614</td>\n",
       "      <td>Williams Field Services (Group)</td>\n",
       "    </tr>\n",
       "    <tr>\n",
       "      <th>89</th>\n",
       "      <td>31325</td>\n",
       "      <td>Pacific (Group)</td>\n",
       "    </tr>\n",
       "    <tr>\n",
       "      <th>90</th>\n",
       "      <td>31695</td>\n",
       "      <td>Pacific (Group)</td>\n",
       "    </tr>\n",
       "    <tr>\n",
       "      <th>91</th>\n",
       "      <td>31885</td>\n",
       "      <td>Pacific (Group)</td>\n",
       "    </tr>\n",
       "  </tbody>\n",
       "</table>\n",
       "</div>"
      ],
      "text/plain": [
       "   members                             name\n",
       "87     994  Williams Field Services (Group)\n",
       "88   32614  Williams Field Services (Group)\n",
       "89   31325                  Pacific (Group)\n",
       "90   31695                  Pacific (Group)\n",
       "91   31885                  Pacific (Group)"
      ]
     },
     "execution_count": 112,
     "metadata": {},
     "output_type": "execute_result"
    }
   ],
   "source": [
    "company_groups = add_company_group('Pacific (Group)', ['31325', '31695', '31885'], company_groups)\n",
    "company_groups.tail()"
   ]
  },
  {
   "cell_type": "markdown",
   "metadata": {},
   "source": [
    "### 8.2.44 Velero"
   ]
  },
  {
   "cell_type": "code",
   "execution_count": 113,
   "metadata": {},
   "outputs": [
    {
     "name": "stdout",
     "output_type": "stream",
     "text": [
      "\n",
      "VALERO TERMINALING AND DISTRIBUTION COMPANY (OPERATOR_ID 4430) has the same parent company as:\n",
      "\n",
      "\tVALERO PARTNERS OPERATING CO. LLC (OPERATOR_ID 39105)\n",
      "\n",
      "\tPARKWAY PIPELINE LLC (OPERATOR_ID 32679)\n",
      "\n",
      "\tPREMCOR P A PIPELINE COMPANY (OPERATOR_ID 31415)\n",
      "\n",
      "\tTHE PREMCOR PIPELINE COMPANY (OPERATOR_ID 31742)\n",
      "\n",
      "\tVALERO REFINING - TEXAS LP (OPERATOR_ID 32032)\n",
      "\n",
      "VALERO TERMINALING AND DISTRIBUTION COMPANY (OPERATOR_ID 4430) may have a namesake or namesakes:\n",
      "\n",
      "\tVALERO LOGISTICS OPERATIONS, LP (OPERATOR_ID 31454)\n",
      "\n",
      "\tVALERO LOGISTICS OPERATIONS, LP  (OPERATOR_ID 31454)\n",
      "\n",
      "\tVALERO ENERGY CORPORATION (OPERATOR_ID 31742)\n",
      "\n"
     ]
    }
   ],
   "source": [
    "print(next(issues))"
   ]
  },
  {
   "cell_type": "code",
   "execution_count": 114,
   "metadata": {},
   "outputs": [
    {
     "name": "stdout",
     "output_type": "stream",
     "text": [
      "\n",
      "Organization 31742 has changed its name:\n",
      "    31742 was named The Premcor Pipeline Co from 2004 to 2005.\n",
      "    31742 was named The Premcor Pipeline Company from 2006 to 2006.\n",
      "\n",
      "Organization 31454 has changed its name:\n",
      "    31454 was named Nustar Logisitics LP from 2006 to 2006.\n",
      "    31454 was named Nustar Logistics LP from 2007 to 2018.\n",
      "    31454 was named Valero Logistics Operations Lp from 2004 to 2005.\n",
      "    31454 was named Valero Logistics Operations Lp  from 2004 to 2004.\n"
     ]
    }
   ],
   "source": [
    "report_names(['4430', '39105', '32679', '31415', '31742', '32032', '31454'])"
   ]
  },
  {
   "cell_type": "markdown",
   "metadata": {},
   "source": [
    "Since 31454 was held in a partnership, we do not include this observation in the group. Premcor was acquired by Valero in 2005."
   ]
  },
  {
   "cell_type": "code",
   "execution_count": 115,
   "metadata": {},
   "outputs": [
    {
     "data": {
      "text/html": [
       "<div>\n",
       "<style scoped>\n",
       "    .dataframe tbody tr th:only-of-type {\n",
       "        vertical-align: middle;\n",
       "    }\n",
       "\n",
       "    .dataframe tbody tr th {\n",
       "        vertical-align: top;\n",
       "    }\n",
       "\n",
       "    .dataframe thead th {\n",
       "        text-align: right;\n",
       "    }\n",
       "</style>\n",
       "<table border=\"1\" class=\"dataframe\">\n",
       "  <thead>\n",
       "    <tr style=\"text-align: right;\">\n",
       "      <th></th>\n",
       "      <th>members</th>\n",
       "      <th>name</th>\n",
       "    </tr>\n",
       "  </thead>\n",
       "  <tbody>\n",
       "    <tr>\n",
       "      <th>92</th>\n",
       "      <td>4430</td>\n",
       "      <td>Valero (Group)</td>\n",
       "    </tr>\n",
       "    <tr>\n",
       "      <th>93</th>\n",
       "      <td>39105</td>\n",
       "      <td>Valero (Group)</td>\n",
       "    </tr>\n",
       "    <tr>\n",
       "      <th>94</th>\n",
       "      <td>32679</td>\n",
       "      <td>Valero (Group)</td>\n",
       "    </tr>\n",
       "    <tr>\n",
       "      <th>95</th>\n",
       "      <td>31415</td>\n",
       "      <td>Valero (Group)</td>\n",
       "    </tr>\n",
       "    <tr>\n",
       "      <th>96</th>\n",
       "      <td>32032</td>\n",
       "      <td>Valero (Group)</td>\n",
       "    </tr>\n",
       "  </tbody>\n",
       "</table>\n",
       "</div>"
      ],
      "text/plain": [
       "   members            name\n",
       "92    4430  Valero (Group)\n",
       "93   39105  Valero (Group)\n",
       "94   32679  Valero (Group)\n",
       "95   31415  Valero (Group)\n",
       "96   32032  Valero (Group)"
      ]
     },
     "execution_count": 115,
     "metadata": {},
     "output_type": "execute_result"
    }
   ],
   "source": [
    "company_groups = add_company_group('Valero (Group)', ['4430', '39105', '32679', '31415', '32032'], company_groups)\n",
    "company_groups.tail()"
   ]
  },
  {
   "cell_type": "code",
   "execution_count": 116,
   "metadata": {},
   "outputs": [
    {
     "data": {
      "text/html": [
       "<div>\n",
       "<style scoped>\n",
       "    .dataframe tbody tr th:only-of-type {\n",
       "        vertical-align: middle;\n",
       "    }\n",
       "\n",
       "    .dataframe tbody tr th {\n",
       "        vertical-align: top;\n",
       "    }\n",
       "\n",
       "    .dataframe thead th {\n",
       "        text-align: right;\n",
       "    }\n",
       "</style>\n",
       "<table border=\"1\" class=\"dataframe\">\n",
       "  <thead>\n",
       "    <tr style=\"text-align: right;\">\n",
       "      <th></th>\n",
       "      <th>members</th>\n",
       "      <th>name</th>\n",
       "      <th>start_year</th>\n",
       "      <th>end_year</th>\n",
       "    </tr>\n",
       "  </thead>\n",
       "  <tbody>\n",
       "    <tr>\n",
       "      <th>24</th>\n",
       "      <td>31554</td>\n",
       "      <td>Chevron (Group)</td>\n",
       "      <td>2002</td>\n",
       "      <td>2014</td>\n",
       "    </tr>\n",
       "    <tr>\n",
       "      <th>25</th>\n",
       "      <td>BP (Group)</td>\n",
       "      <td>BP (Group)</td>\n",
       "      <td>2001</td>\n",
       "      <td>2006</td>\n",
       "    </tr>\n",
       "    <tr>\n",
       "      <th>26</th>\n",
       "      <td>30781</td>\n",
       "      <td>BP (Group)</td>\n",
       "      <td>2001</td>\n",
       "      <td>2006</td>\n",
       "    </tr>\n",
       "    <tr>\n",
       "      <th>27</th>\n",
       "      <td>Valero (Group)</td>\n",
       "      <td>Valero (Group)</td>\n",
       "      <td>2005</td>\n",
       "      <td>NaN</td>\n",
       "    </tr>\n",
       "    <tr>\n",
       "      <th>28</th>\n",
       "      <td>31742</td>\n",
       "      <td>Valero (Group)</td>\n",
       "      <td>2005</td>\n",
       "      <td>NaN</td>\n",
       "    </tr>\n",
       "  </tbody>\n",
       "</table>\n",
       "</div>"
      ],
      "text/plain": [
       "           members             name start_year end_year\n",
       "24           31554  Chevron (Group)       2002     2014\n",
       "25      BP (Group)       BP (Group)       2001     2006\n",
       "26           30781       BP (Group)       2001     2006\n",
       "27  Valero (Group)   Valero (Group)       2005      NaN\n",
       "28           31742   Valero (Group)       2005      NaN"
      ]
     },
     "execution_count": 116,
     "metadata": {},
     "output_type": "execute_result"
    }
   ],
   "source": [
    "m_as = add_m_a('Valero (Group)', ['Valero (Group)', '31742'], m_as, start_year='2005')\n",
    "m_as.tail()"
   ]
  },
  {
   "cell_type": "code",
   "execution_count": 117,
   "metadata": {},
   "outputs": [
    {
     "name": "stdout",
     "output_type": "stream",
     "text": [
      "\n",
      "PHILLIPS 66 COMPANY - SWEENY REFINERY (OPERATOR_ID 15485) has changed its name:\n",
      "\n",
      "\tWas named CONOCOPHILLIPS COMPANY from 2004 to 2010.\n",
      "\n",
      "\tWas named PHILLIPS 66 COMPANY from 2011 to 2011.\n",
      "\n",
      "\tWas named PHILLIPS 66 COMPANY - SWEENY REFINERY from 2012 to 2018.\n",
      "\n",
      "PHILLIPS 66 COMPANY - SWEENY REFINERY (OPERATOR_ID 15485) may have a namesake or namesakes:\n",
      "\n",
      "\tCONOCOPHILLIPS (OPERATOR_ID 31684)\n",
      "\n",
      "\tCONOCOPHILLIPS - LOS ANGELES REFINERY (OPERATOR_ID 31684)\n",
      "\n",
      "\tCONOCOPHILLIPS PIPE LINE CO. (OPERATOR_ID 31684)\n",
      "\n",
      "\tCONOCOPHILLIPS PIPE LINE COMPANY (OPERATOR_ID 31684)\n",
      "\n"
     ]
    }
   ],
   "source": [
    "print(next(issues))"
   ]
  },
  {
   "cell_type": "code",
   "execution_count": 118,
   "metadata": {},
   "outputs": [
    {
     "name": "stdout",
     "output_type": "stream",
     "text": [
      "\n",
      "EXXONMOBIL OIL CORPORATION (OPERATOR_ID 12634) has changed its name:\n",
      "\n",
      "\tWas named EXXONMOBIL CHEMICAL COMPANY from 2006 to 2006.\n",
      "\n",
      "\tWas named EXXONMOBIL OIL CORPORATION from 2018 to 2018.\n",
      "\n",
      "\tWas named MOBIL CHEMICAL CO from 2007 to 2017.\n",
      "\n",
      "\tWas named MOBIL CHEMICAL COMPANY from 2004 to 2005.\n",
      "\n",
      "EXXONMOBIL OIL CORPORATION (OPERATOR_ID 12634) may have a namesake or namesakes:\n",
      "\n",
      "\tEXXONMOBIL PIPELINE COMPANY (OPERATOR_ID 4906)\n",
      "\n",
      "\tMOBIL CORP (OPERATOR_ID 12624)\n",
      "\n",
      "\tMOBIL OIL CORPORATION - MOBIL BEAUMNT REFINERY (HULL) (OPERATOR_ID 12624)\n",
      "\n",
      "\tMOBIL OIL  CORPORATION-MOBIL BEAUMONT REFINERY (MAGPETCO) (OPERATOR_ID 12624)\n",
      "\n",
      "\tMOBIL OIL CORPORATION - MOBIL BEAUMONT REFINERY (HULL) (OPERATOR_ID 12624)\n",
      "\n",
      "\tEXXONMOBIL OIL CORPORATION - BEAUMONT REFINERY (HULL) (OPERATOR_ID 12624)\n",
      "\n",
      "\tEXXONMOBIL OIL CORPORATION - BEAUMONT REFINERY (MAGPETCO) (OPERATOR_ID 12624)\n",
      "\n",
      "\tMOBIL BEAUMONT REFINERY (OPERATOR_ID 12624)\n",
      "\n",
      "\tMOBIL  PIPE  LINE COMPANY (OPERATOR_ID 12628)\n",
      "\n",
      "\tMOBIL PIPELINE CO (OPERATOR_ID 12628)\n",
      "\n",
      "\tMOBIL PIPE LINE COMPANY (OPERATOR_ID 12628)\n",
      "\n",
      "\tMOBIL OIL CORPORATION - WEST COAST PIPELINE (OPERATOR_ID 26134)\n",
      "\n",
      "\tMOBIL OIL CORPORATION WEST COAST PIPELINE (OPERATOR_ID 26134)\n",
      "\n",
      "\tEXXONMOBIL OIL CORPORATION - WEST COAST PIPELINE (OPERATOR_ID 26134)\n",
      "\n",
      "\tMOBIL PACIFIC PIPELINE COMPANY (OPERATOR_ID 30005)\n",
      "\n",
      "\tMOBIL PACIFIC PIPELINE (OPERATOR_ID 30005)\n",
      "\n"
     ]
    }
   ],
   "source": [
    "print(next(issues))"
   ]
  },
  {
   "cell_type": "code",
   "execution_count": 119,
   "metadata": {},
   "outputs": [
    {
     "name": "stdout",
     "output_type": "stream",
     "text": [
      "\n",
      "WEST TEXAS GULF PIPELINE CO (OPERATOR_ID 22442) has changed its name:\n",
      "\n",
      "\tWas named WEST TEXAS GULF PIPELINE CO from 2005 to 2018.\n",
      "\n",
      "\tWas named WEST TEXAS GULF PIPELINE COMPANY from 2004 to 2004.\n",
      "\n"
     ]
    }
   ],
   "source": [
    "print(next(issues))"
   ]
  },
  {
   "cell_type": "code",
   "execution_count": 120,
   "metadata": {},
   "outputs": [
    {
     "name": "stdout",
     "output_type": "stream",
     "text": [
      "\n",
      "BP OIL PIPELINE CO (OPERATOR_ID 18386) has changed its name:\n",
      "\n",
      "\tWas named BP OIL from 2006 to 2006.\n",
      "\n",
      "\tWas named BP OIL PIPELINE from 2005 to 2005.\n",
      "\n",
      "\tWas named BP OIL PIPELINE CO from 2007 to 2018.\n",
      "\n",
      "\tWas named BP OIL PIPELINE COMPANY from 2004 to 2004.\n",
      "\n",
      "BP OIL PIPELINE CO (OPERATOR_ID 18386) may have a namesake or namesakes:\n",
      "\n",
      "\tBP PIPELINES NORTH AMERICA INC. (OPERATOR_ID 395)\n",
      "\n",
      "\tBP PIPELINES N.A. (OPERATOR_ID 395)\n",
      "\n",
      "\tBP PIPELINES (NORTH AMERICA),  INC. (OPERATOR_ID 395)\n",
      "\n",
      "\tBP PIPELINES (NORTH AMERICA), INC. (OPERATOR_ID 395)\n",
      "\n",
      "\tBP PIPELINES NORTH AMERICA INC. (OPERATOR_ID 30781)\n",
      "\n",
      "\tBP PIPELINES N.A. (OPERATOR_ID 30781)\n",
      "\n",
      "\tBP PIPELINES (NORTH AMERICA), INC. (OPERATOR_ID 30781)\n",
      "\n",
      "\tBP PIPELINES NORTH AMERICA INC. (OPERATOR_ID 31189)\n",
      "\n",
      "\tBP PIPELINES N.A. (OPERATOR_ID 31189)\n",
      "\n",
      "\tBP PIPELINES (NORTH AMERICA), INC. (OPERATOR_ID 31189)\n",
      "\n",
      "\tBP (OPERATOR_ID 3466)\n",
      "\n",
      "\tBP CANADA ENERGY COMPANY (OPERATOR_ID 3466)\n",
      "\n",
      "\tBP PIPELINES NORTH AMERICA INC. (OPERATOR_ID 31270)\n",
      "\n",
      "\tBP PIPELINE (NORTH AMERICA), INC. (OPERATOR_ID 31270)\n",
      "\n",
      "\tBP PIPELINES (NORTH AMERICA), INC. (OPERATOR_ID 31270)\n",
      "\n",
      "\tBP PIPELINES NORTH AMERICA INC. (OPERATOR_ID 31610)\n",
      "\n",
      "\tBP PIPELINES N.A. (OPERATOR_ID 31610)\n",
      "\n",
      "\tBP PIPELINES (NORTH AMERICA), INC. (OPERATOR_ID 31610)\n",
      "\n",
      "\tBP PIPELINES NORTH AMERICA INC. (OPERATOR_ID 1466)\n",
      "\n",
      "\tBP PIPELINES N.A. (OPERATOR_ID 1466)\n",
      "\n",
      "\tBP PIPELINES (NORTH AMERICA), INC. (OPERATOR_ID 1466)\n",
      "\n",
      "\tBP PIPELINES NORTH AMERICA INC. (OPERATOR_ID 31549)\n",
      "\n"
     ]
    }
   ],
   "source": [
    "print(next(issues))"
   ]
  },
  {
   "cell_type": "code",
   "execution_count": 121,
   "metadata": {},
   "outputs": [
    {
     "name": "stdout",
     "output_type": "stream",
     "text": [
      "\n",
      "ALYESKA PIPELINE SERVICE CO (OPERATOR_ID 26149) has changed its name:\n",
      "\n",
      "\tWas named ALYESKA PIPELINE SERVICE CO from 2007 to 2018.\n",
      "\n",
      "\tWas named ALYESKA PIPELINE SERVICE COMPANY from 2004 to 2006.\n",
      "\n"
     ]
    }
   ],
   "source": [
    "print(next(issues))"
   ]
  },
  {
   "cell_type": "markdown",
   "metadata": {},
   "source": [
    "### 8.2.45 CHS"
   ]
  },
  {
   "cell_type": "code",
   "execution_count": 122,
   "metadata": {},
   "outputs": [
    {
     "name": "stdout",
     "output_type": "stream",
     "text": [
      "\n",
      "CENEX PIPELINE LLC (OPERATOR_ID 2170) has the same parent company as:\n",
      "\n",
      "\tJAYHAWK PIPELINE LLC (OPERATOR_ID 9175)\n",
      "\n",
      "\tOSAGE PIPE LINE COMPANY, LLC (OPERATOR_ID 14391)\n",
      "\n",
      "\tCHS MCPHERSON REFINERY INC. (OPERATOR_ID 26065)\n",
      "\n",
      "\tSEADRIFT PIPELINE CORP (OPERATOR_ID 26086)\n",
      "\n",
      "\tFRONT RANGE PIPELINE, LLC. (OPERATOR_ID 32283)\n",
      "\n"
     ]
    }
   ],
   "source": [
    "print(next(issues))"
   ]
  },
  {
   "cell_type": "code",
   "execution_count": 123,
   "metadata": {},
   "outputs": [
    {
     "name": "stdout",
     "output_type": "stream",
     "text": [
      "\n",
      "Organization 9175 has changed its name:\n",
      "    9175 was named Jayhawk Pipeline LLC from 2005 to 2006.\n",
      "    9175 was named Jayhawk Pipeline Llc from 2007 to 2018.\n",
      "    9175 was named Jayhawk Pipeline Llc  from 2004 to 2004.\n",
      "\n",
      "Organization 14391 has changed its name:\n",
      "    14391 was named Osage Pipe Line Company Llc from 2007 to 2018.\n",
      "    14391 was named Osage Pipeline Company from 2004 to 2004.\n",
      "    14391 was named Osage Pipeline Company Llc from 2005 to 2010.\n",
      "\n",
      "Organization 26065 has changed its name:\n",
      "    26065 was named Chs Mcpherson Refinery Inc from 2015 to 2018.\n",
      "    26065 was named National Coop Refinery Assco from 2007 to 2014.\n",
      "    26065 was named National Cooperative  Refinery Association  from 2004 to 2004.\n",
      "    26065 was named National Cooperative Refinery Association from 2004 to 2004.\n",
      "    26065 was named National Cooperative Refining Association Ncra from 2005 to 2006.\n",
      "\n",
      "Organization 26086 has changed its name:\n",
      "    26086 was named Seadrift Pipeline Corp from 2007 to 2018.\n",
      "    26086 was named Seadrift Pipeline Corporation from 2004 to 2006.\n"
     ]
    }
   ],
   "source": [
    "report_names(['2170', '9175', '14391', '26065', '26086', '32283'])"
   ]
  },
  {
   "cell_type": "code",
   "execution_count": 124,
   "metadata": {},
   "outputs": [
    {
     "data": {
      "text/html": [
       "<div>\n",
       "<style scoped>\n",
       "    .dataframe tbody tr th:only-of-type {\n",
       "        vertical-align: middle;\n",
       "    }\n",
       "\n",
       "    .dataframe tbody tr th {\n",
       "        vertical-align: top;\n",
       "    }\n",
       "\n",
       "    .dataframe thead th {\n",
       "        text-align: right;\n",
       "    }\n",
       "</style>\n",
       "<table border=\"1\" class=\"dataframe\">\n",
       "  <thead>\n",
       "    <tr style=\"text-align: right;\">\n",
       "      <th></th>\n",
       "      <th>members</th>\n",
       "      <th>name</th>\n",
       "    </tr>\n",
       "  </thead>\n",
       "  <tbody>\n",
       "    <tr>\n",
       "      <th>98</th>\n",
       "      <td>9175</td>\n",
       "      <td>CHS (Group)</td>\n",
       "    </tr>\n",
       "    <tr>\n",
       "      <th>99</th>\n",
       "      <td>14391</td>\n",
       "      <td>CHS (Group)</td>\n",
       "    </tr>\n",
       "    <tr>\n",
       "      <th>100</th>\n",
       "      <td>26065</td>\n",
       "      <td>CHS (Group)</td>\n",
       "    </tr>\n",
       "    <tr>\n",
       "      <th>101</th>\n",
       "      <td>26086</td>\n",
       "      <td>CHS (Group)</td>\n",
       "    </tr>\n",
       "    <tr>\n",
       "      <th>102</th>\n",
       "      <td>32283</td>\n",
       "      <td>CHS (Group)</td>\n",
       "    </tr>\n",
       "  </tbody>\n",
       "</table>\n",
       "</div>"
      ],
      "text/plain": [
       "    members         name\n",
       "98     9175  CHS (Group)\n",
       "99    14391  CHS (Group)\n",
       "100   26065  CHS (Group)\n",
       "101   26086  CHS (Group)\n",
       "102   32283  CHS (Group)"
      ]
     },
     "execution_count": 124,
     "metadata": {},
     "output_type": "execute_result"
    }
   ],
   "source": [
    "company_groups = add_company_group('CHS (Group)', ['2170', '9175', '14391', '26065', '26086', '32283'], company_groups)\n",
    "company_groups.tail()"
   ]
  },
  {
   "cell_type": "code",
   "execution_count": 125,
   "metadata": {},
   "outputs": [
    {
     "name": "stdout",
     "output_type": "stream",
     "text": [
      "\n",
      "MAGELLAN AMMONIA PIPELINE, L.P. (OPERATOR_ID 12105) may have a namesake or namesakes:\n",
      "\n",
      "\tMagellan Pipeline Company, L.P. (OPERATOR_ID 22610)\n",
      "\n",
      "\tMAGELLAN PIPELINE COMPANY, LLC (OPERATOR_ID 22610)\n",
      "\n",
      "\tMAGELLAN PIPELINE COMPANY, L.P. (OPERATOR_ID 22610)\n",
      "\n",
      "\tMagellan Pipelines Holdings, L.P. (OPERATOR_ID 31579)\n",
      "\n",
      "\tMAGELLAN PIPELINES HOLDINGS, L.P. (OPERATOR_ID 31579)\n",
      "\n"
     ]
    }
   ],
   "source": [
    "print(next(issues))"
   ]
  },
  {
   "cell_type": "markdown",
   "metadata": {},
   "source": [
    "### 8.2.46 Rose Rock"
   ]
  },
  {
   "cell_type": "code",
   "execution_count": 126,
   "metadata": {},
   "outputs": [
    {
     "name": "stdout",
     "output_type": "stream",
     "text": [
      "\n",
      "ROSE ROCK MIDSTREAM L.P. (OPERATOR_ID 31476) has changed its name:\n",
      "\n",
      "\tWas named ROSE ROCK MIDSTREAM L.P. from 2012 to 2018.\n",
      "\n",
      "\tWas named Rose Rock Midstream L.P. from 2011 to 2011.\n",
      "\n",
      "\tWas named SEMCRUDE L.P. from 2006 to 2007.\n",
      "\n",
      "\tWas named SEMCRUDE LP from 2004 to 2005.\n",
      "\n",
      "\tWas named SEMGROUP LP from 2008 to 2010.\n",
      "\n",
      "\tWas named SEMPIPE L.P. from 2006 to 2007.\n",
      "\n",
      "\tWas named SEMPIPE LP from 2004 to 2005.\n",
      "\n",
      "ROSE ROCK MIDSTREAM L.P. (OPERATOR_ID 31476) has the same parent company as:\n",
      "\n",
      "\tWHITE CLIFFS PIPELINE, LLC (OPERATOR_ID 32288)\n",
      "\n"
     ]
    }
   ],
   "source": [
    "print(next(issues))"
   ]
  },
  {
   "cell_type": "code",
   "execution_count": 127,
   "metadata": {},
   "outputs": [
    {
     "data": {
      "text/html": [
       "<div>\n",
       "<style scoped>\n",
       "    .dataframe tbody tr th:only-of-type {\n",
       "        vertical-align: middle;\n",
       "    }\n",
       "\n",
       "    .dataframe tbody tr th {\n",
       "        vertical-align: top;\n",
       "    }\n",
       "\n",
       "    .dataframe thead th {\n",
       "        text-align: right;\n",
       "    }\n",
       "</style>\n",
       "<table border=\"1\" class=\"dataframe\">\n",
       "  <thead>\n",
       "    <tr style=\"text-align: right;\">\n",
       "      <th></th>\n",
       "      <th>members</th>\n",
       "      <th>name</th>\n",
       "    </tr>\n",
       "  </thead>\n",
       "  <tbody>\n",
       "    <tr>\n",
       "      <th>100</th>\n",
       "      <td>26065</td>\n",
       "      <td>CHS (Group)</td>\n",
       "    </tr>\n",
       "    <tr>\n",
       "      <th>101</th>\n",
       "      <td>26086</td>\n",
       "      <td>CHS (Group)</td>\n",
       "    </tr>\n",
       "    <tr>\n",
       "      <th>102</th>\n",
       "      <td>32283</td>\n",
       "      <td>CHS (Group)</td>\n",
       "    </tr>\n",
       "    <tr>\n",
       "      <th>103</th>\n",
       "      <td>31476</td>\n",
       "      <td>Rose Rock (Group)</td>\n",
       "    </tr>\n",
       "    <tr>\n",
       "      <th>104</th>\n",
       "      <td>32288</td>\n",
       "      <td>Rose Rock (Group)</td>\n",
       "    </tr>\n",
       "  </tbody>\n",
       "</table>\n",
       "</div>"
      ],
      "text/plain": [
       "    members               name\n",
       "100   26065        CHS (Group)\n",
       "101   26086        CHS (Group)\n",
       "102   32283        CHS (Group)\n",
       "103   31476  Rose Rock (Group)\n",
       "104   32288  Rose Rock (Group)"
      ]
     },
     "execution_count": 127,
     "metadata": {},
     "output_type": "execute_result"
    }
   ],
   "source": [
    "company_groups = add_company_group('Rose Rock (Group)', ['31476', '32288'], company_groups)\n",
    "company_groups.tail()"
   ]
  },
  {
   "cell_type": "markdown",
   "metadata": {},
   "source": [
    "### 8.2.47 BKEP"
   ]
  },
  {
   "cell_type": "code",
   "execution_count": 128,
   "metadata": {},
   "outputs": [
    {
     "name": "stdout",
     "output_type": "stream",
     "text": [
      "\n",
      "BKEP PIPELINE, LLC (OPERATOR_ID 32551) has the same parent company as:\n",
      "\n",
      "\tBKEP CRUDE, LLC (OPERATOR_ID 32481)\n",
      "\n"
     ]
    }
   ],
   "source": [
    "print(next(issues))"
   ]
  },
  {
   "cell_type": "code",
   "execution_count": 129,
   "metadata": {},
   "outputs": [
    {
     "name": "stdout",
     "output_type": "stream",
     "text": [
      "No organizations were renamed at any time.\n"
     ]
    }
   ],
   "source": [
    "report_names(['32551', '32481'])"
   ]
  },
  {
   "cell_type": "code",
   "execution_count": 130,
   "metadata": {},
   "outputs": [
    {
     "data": {
      "text/html": [
       "<div>\n",
       "<style scoped>\n",
       "    .dataframe tbody tr th:only-of-type {\n",
       "        vertical-align: middle;\n",
       "    }\n",
       "\n",
       "    .dataframe tbody tr th {\n",
       "        vertical-align: top;\n",
       "    }\n",
       "\n",
       "    .dataframe thead th {\n",
       "        text-align: right;\n",
       "    }\n",
       "</style>\n",
       "<table border=\"1\" class=\"dataframe\">\n",
       "  <thead>\n",
       "    <tr style=\"text-align: right;\">\n",
       "      <th></th>\n",
       "      <th>members</th>\n",
       "      <th>name</th>\n",
       "    </tr>\n",
       "  </thead>\n",
       "  <tbody>\n",
       "    <tr>\n",
       "      <th>102</th>\n",
       "      <td>32283</td>\n",
       "      <td>CHS (Group)</td>\n",
       "    </tr>\n",
       "    <tr>\n",
       "      <th>103</th>\n",
       "      <td>31476</td>\n",
       "      <td>Rose Rock (Group)</td>\n",
       "    </tr>\n",
       "    <tr>\n",
       "      <th>104</th>\n",
       "      <td>32288</td>\n",
       "      <td>Rose Rock (Group)</td>\n",
       "    </tr>\n",
       "    <tr>\n",
       "      <th>105</th>\n",
       "      <td>32551</td>\n",
       "      <td>BKEP (Group)</td>\n",
       "    </tr>\n",
       "    <tr>\n",
       "      <th>106</th>\n",
       "      <td>32481</td>\n",
       "      <td>BKEP (Group)</td>\n",
       "    </tr>\n",
       "  </tbody>\n",
       "</table>\n",
       "</div>"
      ],
      "text/plain": [
       "    members               name\n",
       "102   32283        CHS (Group)\n",
       "103   31476  Rose Rock (Group)\n",
       "104   32288  Rose Rock (Group)\n",
       "105   32551       BKEP (Group)\n",
       "106   32481       BKEP (Group)"
      ]
     },
     "execution_count": 130,
     "metadata": {},
     "output_type": "execute_result"
    }
   ],
   "source": [
    "company_groups = add_company_group('BKEP (Group)', ['32551', '32481'], company_groups)\n",
    "company_groups.tail()"
   ]
  },
  {
   "cell_type": "code",
   "execution_count": 131,
   "metadata": {},
   "outputs": [
    {
     "name": "stdout",
     "output_type": "stream",
     "text": [
      "\n",
      "JAYHAWK PIPELINE LLC (OPERATOR_ID 9175) has changed its name:\n",
      "\n",
      "\tWas named JAYHAWK PIPELINE L.L.C. from 2005 to 2006.\n",
      "\n",
      "\tWas named JAYHAWK PIPELINE LLC from 2007 to 2018.\n",
      "\n",
      "\tWas named JAYHAWK PIPELINE LLC  from 2004 to 2004.\n",
      "\n"
     ]
    }
   ],
   "source": [
    "print(next(issues))"
   ]
  },
  {
   "cell_type": "code",
   "execution_count": 132,
   "metadata": {},
   "outputs": [
    {
     "name": "stdout",
     "output_type": "stream",
     "text": [
      "\n",
      "SEADRIFT PIPELINE CORP (OPERATOR_ID 26086) has changed its name:\n",
      "\n",
      "\tWas named SEADRIFT PIPELINE CORP from 2007 to 2018.\n",
      "\n",
      "\tWas named SEADRIFT PIPELINE CORPORATION from 2004 to 2006.\n",
      "\n"
     ]
    }
   ],
   "source": [
    "print(next(issues))"
   ]
  },
  {
   "cell_type": "code",
   "execution_count": 133,
   "metadata": {},
   "outputs": [
    {
     "name": "stdout",
     "output_type": "stream",
     "text": [
      "\n",
      "PLAINS PIPELINE, L.P. (OPERATOR_ID 300) may have a namesake or namesakes:\n",
      "\n",
      "\tTESORO HIGH PLAINS PIPELINE COMPANY LLC (OPERATOR_ID 31570)\n",
      "\n",
      "\tTESORO - HIGH PLAINS PIPELINE COMPANY (OPERATOR_ID 31570)\n",
      "\n",
      "\tTESORO HIGH PLAINS PIPELINE COMPANY  (OPERATOR_ID 31570)\n",
      "\n",
      "\tGREAT SALT PLAINS PIPELINE LLC (OPERATOR_ID 39401)\n",
      "\n"
     ]
    }
   ],
   "source": [
    "print(next(issues))"
   ]
  },
  {
   "cell_type": "markdown",
   "metadata": {},
   "source": [
    "### 8.2.48 Targa Resources"
   ]
  },
  {
   "cell_type": "code",
   "execution_count": 134,
   "metadata": {},
   "outputs": [
    {
     "name": "stdout",
     "output_type": "stream",
     "text": [
      "\n",
      "TARGA RESOURCES OPERATING LLC (OPERATOR_ID 32296) has the same parent company as:\n",
      "\n",
      "\tTARGA NGL PIPE LINE CO (OPERATOR_ID 30626)\n",
      "\n",
      "\tTARGA DOWNSTREAM LLC (OPERATOR_ID 39823)\n",
      "\n",
      "\tTARGA MIDSTREAM SERVICES, L.P. (OPERATOR_ID 22175)\n",
      "\n",
      "\tTARGA RESOURCES, INC. (OPERATOR_ID 31977)\n",
      "\n",
      "TARGA RESOURCES OPERATING LLC (OPERATOR_ID 32296) may have a namesake or namesakes:\n",
      "\n",
      "\tTARGA NGL PIPLINE COMPANY LLC (OPERATOR_ID 30626)\n",
      "\n"
     ]
    }
   ],
   "source": [
    "print(next(issues))"
   ]
  },
  {
   "cell_type": "code",
   "execution_count": 135,
   "metadata": {},
   "outputs": [
    {
     "name": "stdout",
     "output_type": "stream",
     "text": [
      "\n",
      "Organization 30626 has changed its name:\n",
      "    30626 was named Dynegy Ngl Pipeline from 2004 to 2004.\n",
      "    30626 was named Targa Ngl Pipe Line Co from 2007 to 2018.\n",
      "    30626 was named Targa Ngl Pipeline Company Llc from 2006 to 2006.\n",
      "    30626 was named Targa Ngl Pipline Company Llc from 2005 to 2005.\n",
      "\n",
      "Organization 22175 has changed its name:\n",
      "    22175 was named Dynegy Midstream Services LP  from 2004 to 2004.\n",
      "    22175 was named Dynegy Midstream Services Limited Partnership from 2004 to 2004.\n",
      "    22175 was named Dynegy Midstream Services Lp from 2004 to 2004.\n",
      "    22175 was named Targa Midstream Services LP from 2007 to 2009.\n",
      "    22175 was named Targa Midstream Services Limited Partnership from 2005 to 2005.\n",
      "    22175 was named Targa Midstream Services Lp from 2006 to 2006.\n"
     ]
    }
   ],
   "source": [
    "report_names(['32296', '30626', '39823', '22175', '31977'])"
   ]
  },
  {
   "cell_type": "markdown",
   "metadata": {},
   "source": [
    "Dynegy still exists under different ownership. Targa probably bought the pipeline assets in 2005."
   ]
  },
  {
   "cell_type": "code",
   "execution_count": 136,
   "metadata": {},
   "outputs": [
    {
     "data": {
      "text/html": [
       "<div>\n",
       "<style scoped>\n",
       "    .dataframe tbody tr th:only-of-type {\n",
       "        vertical-align: middle;\n",
       "    }\n",
       "\n",
       "    .dataframe tbody tr th {\n",
       "        vertical-align: top;\n",
       "    }\n",
       "\n",
       "    .dataframe thead th {\n",
       "        text-align: right;\n",
       "    }\n",
       "</style>\n",
       "<table border=\"1\" class=\"dataframe\">\n",
       "  <thead>\n",
       "    <tr style=\"text-align: right;\">\n",
       "      <th></th>\n",
       "      <th>members</th>\n",
       "      <th>name</th>\n",
       "    </tr>\n",
       "  </thead>\n",
       "  <tbody>\n",
       "    <tr>\n",
       "      <th>105</th>\n",
       "      <td>32551</td>\n",
       "      <td>BKEP (Group)</td>\n",
       "    </tr>\n",
       "    <tr>\n",
       "      <th>106</th>\n",
       "      <td>32481</td>\n",
       "      <td>BKEP (Group)</td>\n",
       "    </tr>\n",
       "    <tr>\n",
       "      <th>107</th>\n",
       "      <td>32296</td>\n",
       "      <td>Targa (Group)</td>\n",
       "    </tr>\n",
       "    <tr>\n",
       "      <th>108</th>\n",
       "      <td>39823</td>\n",
       "      <td>Targa (Group)</td>\n",
       "    </tr>\n",
       "    <tr>\n",
       "      <th>109</th>\n",
       "      <td>31977</td>\n",
       "      <td>Targa (Group)</td>\n",
       "    </tr>\n",
       "  </tbody>\n",
       "</table>\n",
       "</div>"
      ],
      "text/plain": [
       "    members           name\n",
       "105   32551   BKEP (Group)\n",
       "106   32481   BKEP (Group)\n",
       "107   32296  Targa (Group)\n",
       "108   39823  Targa (Group)\n",
       "109   31977  Targa (Group)"
      ]
     },
     "execution_count": 136,
     "metadata": {},
     "output_type": "execute_result"
    }
   ],
   "source": [
    "company_groups = add_company_group('Targa (Group)', ['32296', '39823', '31977'], company_groups)\n",
    "company_groups.tail()"
   ]
  },
  {
   "cell_type": "code",
   "execution_count": 137,
   "metadata": {},
   "outputs": [
    {
     "data": {
      "text/html": [
       "<div>\n",
       "<style scoped>\n",
       "    .dataframe tbody tr th:only-of-type {\n",
       "        vertical-align: middle;\n",
       "    }\n",
       "\n",
       "    .dataframe tbody tr th {\n",
       "        vertical-align: top;\n",
       "    }\n",
       "\n",
       "    .dataframe thead th {\n",
       "        text-align: right;\n",
       "    }\n",
       "</style>\n",
       "<table border=\"1\" class=\"dataframe\">\n",
       "  <thead>\n",
       "    <tr style=\"text-align: right;\">\n",
       "      <th></th>\n",
       "      <th>members</th>\n",
       "      <th>name</th>\n",
       "      <th>start_year</th>\n",
       "      <th>end_year</th>\n",
       "    </tr>\n",
       "  </thead>\n",
       "  <tbody>\n",
       "    <tr>\n",
       "      <th>28</th>\n",
       "      <td>31742</td>\n",
       "      <td>Valero (Group)</td>\n",
       "      <td>2005</td>\n",
       "      <td>NaN</td>\n",
       "    </tr>\n",
       "    <tr>\n",
       "      <th>29</th>\n",
       "      <td>30626</td>\n",
       "      <td>Dynegy (Group)</td>\n",
       "      <td>NaN</td>\n",
       "      <td>2005</td>\n",
       "    </tr>\n",
       "    <tr>\n",
       "      <th>30</th>\n",
       "      <td>22175</td>\n",
       "      <td>Dynegy (Group)</td>\n",
       "      <td>NaN</td>\n",
       "      <td>2005</td>\n",
       "    </tr>\n",
       "    <tr>\n",
       "      <th>31</th>\n",
       "      <td>307626</td>\n",
       "      <td>Targa (Group)</td>\n",
       "      <td>2006</td>\n",
       "      <td>NaN</td>\n",
       "    </tr>\n",
       "    <tr>\n",
       "      <th>32</th>\n",
       "      <td>22175</td>\n",
       "      <td>Targa (Group)</td>\n",
       "      <td>2006</td>\n",
       "      <td>NaN</td>\n",
       "    </tr>\n",
       "  </tbody>\n",
       "</table>\n",
       "</div>"
      ],
      "text/plain": [
       "   members            name start_year end_year\n",
       "28   31742  Valero (Group)       2005      NaN\n",
       "29   30626  Dynegy (Group)        NaN     2005\n",
       "30   22175  Dynegy (Group)        NaN     2005\n",
       "31  307626   Targa (Group)       2006      NaN\n",
       "32   22175   Targa (Group)       2006      NaN"
      ]
     },
     "execution_count": 137,
     "metadata": {},
     "output_type": "execute_result"
    }
   ],
   "source": [
    "m_as = add_m_a('Dynegy (Group)', ['30626', '22175'], m_as, end_year = '2005')\n",
    "m_as = add_m_a('Targa (Group)', ['307626', '22175'], m_as, start_year = '2006')\n",
    "m_as.tail()"
   ]
  },
  {
   "cell_type": "code",
   "execution_count": 138,
   "metadata": {},
   "outputs": [
    {
     "name": "stdout",
     "output_type": "stream",
     "text": [
      "\n",
      "ENBRIDGE PIPELINES (OZARK) L.L.C. (OPERATOR_ID 31947) may have a namesake or namesakes:\n",
      "\n",
      "\tENBRIDGE ENERGY PARTNERS, LP (OPERATOR_ID 11169)\n",
      "\n",
      "\tENBRIDGE ENERGY PARTNERS, LP  (OPERATOR_ID 11169)\n",
      "\n",
      "\tENBRIDGE ENERGY PARTNERS, L.P. (OPERATOR_ID 11169)\n",
      "\n",
      "\tENBRIDGE ENERGY PARTNERS, L..P. (OPERATOR_ID 11169)\n",
      "\n",
      "\tENBRIDGE PIPELINES (NORTH DAKOTA) LLC (OPERATOR_ID 15774)\n",
      "\n",
      "\tENBRIDGE ENERGY PARTNERS, LP (OPERATOR_ID 15774)\n",
      "\n",
      "\tENBRIDGE ENERGY PARTNERS, L.P. (OPERATOR_ID 15774)\n",
      "\n",
      "\tENBRIDGE (US) INC (OPERATOR_ID 31448)\n",
      "\n",
      "\tENBRIDGE (U.S.) INC. (OPERATOR_ID 31448)\n",
      "\n",
      "\tENBRIDGE ENERGY PARTNERS, L.P. (OPERATOR_ID 31448)\n",
      "\n",
      "\tENBRIDGE ENERGY COMPANY INC. (OPERATOR_ID 32080)\n",
      "\n",
      "\tENBRIDGE ENERGY COMPANY, INC. (OPERATOR_ID 32080)\n",
      "\n"
     ]
    }
   ],
   "source": [
    "print(next(issues))"
   ]
  },
  {
   "cell_type": "code",
   "execution_count": 139,
   "metadata": {},
   "outputs": [
    {
     "name": "stdout",
     "output_type": "stream",
     "text": [
      "\n",
      "HARVEST MIDSTREAM COMPANY (OPERATOR_ID 30782) has changed its name:\n",
      "\n",
      "\tWas named HARVEST MIDSTREAM COMPANY from 2018 to 2018.\n",
      "\n",
      "\tWas named HARVEST PIPELINE COMPANY from 2007 to 2017.\n",
      "\n"
     ]
    }
   ],
   "source": [
    "print(next(issues))"
   ]
  },
  {
   "cell_type": "code",
   "execution_count": 140,
   "metadata": {},
   "outputs": [
    {
     "name": "stdout",
     "output_type": "stream",
     "text": [
      "\n",
      "COUNTRYMARK REFINING AND LOGISTICS, LLC (OPERATOR_ID 26049) has changed its name:\n",
      "\n",
      "\tWas named CONTRYMARK COOPERATIVE, LLP from 2005 to 2005.\n",
      "\n",
      "\tWas named COUNTRYMARK COOPERATIVE, LLP from 2004 to 2010.\n",
      "\n",
      "\tWas named COUNTRYMARK COOPERATIVE, LLP  from 2004 to 2004.\n",
      "\n",
      "\tWas named COUNTRYMARK REFINING AND LOGISTICS, LLC from 2011 to 2018.\n",
      "\n"
     ]
    }
   ],
   "source": [
    "print(next(issues))"
   ]
  },
  {
   "cell_type": "code",
   "execution_count": 141,
   "metadata": {},
   "outputs": [
    {
     "name": "stdout",
     "output_type": "stream",
     "text": [
      "\n",
      "CHEVRON MIDSTREAM PIPELINES LLC (OPERATOR_ID 31556) has changed its name:\n",
      "\n",
      "\tWas named CHEVRON MIDSTREAM PIPELINES LLC from 2009 to 2015.\n",
      "\n",
      "\tWas named TEXACO PIPELINES LLC from 2004 to 2006.\n",
      "\n",
      "\tWas named TEXACO PIPELINES, LLC from 2007 to 2008.\n",
      "\n",
      "CHEVRON MIDSTREAM PIPELINES LLC (OPERATOR_ID 31556) may have a namesake or namesakes:\n",
      "\n",
      "\tCHEVRON PIPELINE COMPANY (OPERATOR_ID 2731)\n",
      "\n",
      "\tCHEVRON PIPE LINE COMPANY (OPERATOR_ID 2731)\n",
      "\n",
      "\tCHEVRON PETROCHEMICAL PIPELINE LLC (OPERATOR_ID 31554)\n",
      "\n",
      "\tCHEVRON PETROCHEMICAL PIPELINE LLC (FORMERLY TEXACO PETROCHEMICAL PIPELINE LLC) (OPERATOR_ID 31554)\n",
      "\n",
      "\tCHEVRON USA, INC. (OPERATOR_ID 2339)\n",
      "\n",
      "\tCHEVRON USA,  INC. (OPERATOR_ID 2339)\n",
      "\n",
      "\tCHEVRON PRODUCTS COMPANY - HAWAII  (OPERATOR_ID 2339)\n",
      "\n",
      "\tTEXACO PETROCHEMICAL PIPELINE LLC (OPERATOR_ID 31554)\n",
      "\n",
      "\tCHEVRON PETROCHEMICAL PIPELINE LLC (FORMERLY TEXACO PETROCHEMICAL PIPELINE LLC) (OPERATOR_ID 31554)\n",
      "\n"
     ]
    }
   ],
   "source": [
    "print(next(issues))"
   ]
  },
  {
   "cell_type": "markdown",
   "metadata": {},
   "source": [
    "### 3.2.49 Dow"
   ]
  },
  {
   "cell_type": "code",
   "execution_count": 142,
   "metadata": {},
   "outputs": [
    {
     "name": "stdout",
     "output_type": "stream",
     "text": [
      "\n",
      "DOW PIPELINE CO (OPERATOR_ID 3527) has changed its name:\n",
      "\n",
      "\tWas named DOW PIPELINE CO from 2007 to 2018.\n",
      "\n",
      "\tWas named DOW PIPELINE COMPANY from 2004 to 2006.\n",
      "\n",
      "DOW PIPELINE CO (OPERATOR_ID 3527) has the same parent company as:\n",
      "\n",
      "\tDOW PIPELINE CO - CAYUSE (OPERATOR_ID 2162)\n",
      "\n",
      "\tDOW PIPELINE CO (OPERATOR_ID 3535)\n",
      "\n",
      "\tTHE DOW CHEMICAL COMPANY (OPERATOR_ID 30959)\n",
      "\n",
      "DOW PIPELINE CO (OPERATOR_ID 3527) may have a namesake or namesakes:\n",
      "\n",
      "\tTHE DOW CHEMICAL COMPANY, INCORPORATED (OPERATOR_ID 2162)\n",
      "\n",
      "\tTHE DOW CHEMICAL COMPANY, INC. (OPERATOR_ID 2162)\n",
      "\n",
      "\tTHE DOW CHEMICAL COMPANY, INCORPORATED (OPERATOR_ID 3535)\n",
      "\n",
      "\tTHE DOW CHEMICAL COMPANY, INC. (OPERATOR_ID 3535)\n",
      "\n",
      "\tTHE DOW CHEMICAL COMPANY, INCORPORATED (OPERATOR_ID 26086)\n",
      "\n",
      "\tTHE DOW CHEMICAL COMPANY, INC. (OPERATOR_ID 26086)\n",
      "\n",
      "\tTARGA DOWNSTREAM LLC (OPERATOR_ID 39823)\n",
      "\n"
     ]
    }
   ],
   "source": [
    "print(next(issues))"
   ]
  },
  {
   "cell_type": "code",
   "execution_count": 143,
   "metadata": {},
   "outputs": [
    {
     "name": "stdout",
     "output_type": "stream",
     "text": [
      "\n",
      "Organization 3527 has changed its name:\n",
      "    3527 was named Dow Pipeline Co from 2007 to 2018.\n",
      "    3527 was named Dow Pipeline Company from 2004 to 2006.\n",
      "\n",
      "Organization 2162 has changed its name:\n",
      "    2162 was named Dow Pipeline Co  Cayuse from 2007 to 2018.\n",
      "    2162 was named Dow Pipeline Company from 2004 to 2006.\n",
      "\n",
      "Organization 3535 has changed its name:\n",
      "    3535 was named Dow Pipeline Co from 2007 to 2018.\n",
      "    3535 was named Dow Pipeline Company from 2004 to 2006.\n",
      "\n",
      "Organization 26086 has changed its name:\n",
      "    26086 was named Seadrift Pipeline Corp from 2007 to 2018.\n",
      "    26086 was named Seadrift Pipeline Corporation from 2004 to 2006.\n"
     ]
    }
   ],
   "source": [
    "report_names(['3527', '2162', '3535', '30959', '26086', '39823'])"
   ]
  },
  {
   "cell_type": "code",
   "execution_count": 144,
   "metadata": {},
   "outputs": [
    {
     "data": {
      "text/html": [
       "<div>\n",
       "<style scoped>\n",
       "    .dataframe tbody tr th:only-of-type {\n",
       "        vertical-align: middle;\n",
       "    }\n",
       "\n",
       "    .dataframe tbody tr th {\n",
       "        vertical-align: top;\n",
       "    }\n",
       "\n",
       "    .dataframe thead th {\n",
       "        text-align: right;\n",
       "    }\n",
       "</style>\n",
       "<table border=\"1\" class=\"dataframe\">\n",
       "  <thead>\n",
       "    <tr style=\"text-align: right;\">\n",
       "      <th></th>\n",
       "      <th>members</th>\n",
       "      <th>name</th>\n",
       "    </tr>\n",
       "  </thead>\n",
       "  <tbody>\n",
       "    <tr>\n",
       "      <th>109</th>\n",
       "      <td>31977</td>\n",
       "      <td>Targa (Group)</td>\n",
       "    </tr>\n",
       "    <tr>\n",
       "      <th>110</th>\n",
       "      <td>3527</td>\n",
       "      <td>Dow (Group)</td>\n",
       "    </tr>\n",
       "    <tr>\n",
       "      <th>111</th>\n",
       "      <td>2162</td>\n",
       "      <td>Dow (Group)</td>\n",
       "    </tr>\n",
       "    <tr>\n",
       "      <th>112</th>\n",
       "      <td>3535</td>\n",
       "      <td>Dow (Group)</td>\n",
       "    </tr>\n",
       "    <tr>\n",
       "      <th>113</th>\n",
       "      <td>30959</td>\n",
       "      <td>Dow (Group)</td>\n",
       "    </tr>\n",
       "  </tbody>\n",
       "</table>\n",
       "</div>"
      ],
      "text/plain": [
       "    members           name\n",
       "109   31977  Targa (Group)\n",
       "110    3527    Dow (Group)\n",
       "111    2162    Dow (Group)\n",
       "112    3535    Dow (Group)\n",
       "113   30959    Dow (Group)"
      ]
     },
     "execution_count": 144,
     "metadata": {},
     "output_type": "execute_result"
    }
   ],
   "source": [
    "company_groups = add_company_group('Dow (Group)', ['3527', '2162', '3535', '30959'], company_groups)\n",
    "company_groups.tail()"
   ]
  },
  {
   "cell_type": "markdown",
   "metadata": {},
   "source": [
    "### 8.2.50 Boardwalk"
   ]
  },
  {
   "cell_type": "code",
   "execution_count": 145,
   "metadata": {},
   "outputs": [
    {
     "name": "stdout",
     "output_type": "stream",
     "text": [
      "\n",
      "BOARDWALK LOUISIANA MIDSTREAM, LLC (OPERATOR_ID 39138) has the same parent company as:\n",
      "\n",
      "\tBOARDWALK PETROCHEMICAL PIPELINE, LLC (OPERATOR_ID 31554)\n",
      "\n"
     ]
    }
   ],
   "source": [
    "print(next(issues))"
   ]
  },
  {
   "cell_type": "code",
   "execution_count": 146,
   "metadata": {},
   "outputs": [
    {
     "name": "stdout",
     "output_type": "stream",
     "text": [
      "\n",
      "Organization 31554 has changed its name:\n",
      "    31554 was named Boardwalk Petrochemical Pipeline Llc from 2014 to 2018.\n",
      "    31554 was named Chevron Petrochemical Pipeline Llc from 2007 to 2013.\n",
      "    31554 was named Chevron Petrochemical Pipeline Llc Formerly Texaco Petrochemical Pipeline Llc from 2006 to 2006.\n",
      "    31554 was named Texaco Petrochemical Pipeline Llc from 2004 to 2005.\n"
     ]
    }
   ],
   "source": [
    "report_names(['39138', '31554'])"
   ]
  },
  {
   "cell_type": "code",
   "execution_count": 147,
   "metadata": {},
   "outputs": [
    {
     "data": {
      "text/html": [
       "<div>\n",
       "<style scoped>\n",
       "    .dataframe tbody tr th:only-of-type {\n",
       "        vertical-align: middle;\n",
       "    }\n",
       "\n",
       "    .dataframe tbody tr th {\n",
       "        vertical-align: top;\n",
       "    }\n",
       "\n",
       "    .dataframe thead th {\n",
       "        text-align: right;\n",
       "    }\n",
       "</style>\n",
       "<table border=\"1\" class=\"dataframe\">\n",
       "  <thead>\n",
       "    <tr style=\"text-align: right;\">\n",
       "      <th></th>\n",
       "      <th>members</th>\n",
       "      <th>name</th>\n",
       "    </tr>\n",
       "  </thead>\n",
       "  <tbody>\n",
       "    <tr>\n",
       "      <th>110</th>\n",
       "      <td>3527</td>\n",
       "      <td>Dow (Group)</td>\n",
       "    </tr>\n",
       "    <tr>\n",
       "      <th>111</th>\n",
       "      <td>2162</td>\n",
       "      <td>Dow (Group)</td>\n",
       "    </tr>\n",
       "    <tr>\n",
       "      <th>112</th>\n",
       "      <td>3535</td>\n",
       "      <td>Dow (Group)</td>\n",
       "    </tr>\n",
       "    <tr>\n",
       "      <th>113</th>\n",
       "      <td>30959</td>\n",
       "      <td>Dow (Group)</td>\n",
       "    </tr>\n",
       "    <tr>\n",
       "      <th>114</th>\n",
       "      <td>39138</td>\n",
       "      <td>Boardwalk (Group)</td>\n",
       "    </tr>\n",
       "  </tbody>\n",
       "</table>\n",
       "</div>"
      ],
      "text/plain": [
       "    members               name\n",
       "110    3527        Dow (Group)\n",
       "111    2162        Dow (Group)\n",
       "112    3535        Dow (Group)\n",
       "113   30959        Dow (Group)\n",
       "114   39138  Boardwalk (Group)"
      ]
     },
     "execution_count": 147,
     "metadata": {},
     "output_type": "execute_result"
    }
   ],
   "source": [
    "company_groups = add_company_group('Boardwalk (Group)', ['39138'], company_groups)\n",
    "company_groups.tail()"
   ]
  },
  {
   "cell_type": "code",
   "execution_count": 148,
   "metadata": {},
   "outputs": [
    {
     "data": {
      "text/html": [
       "<div>\n",
       "<style scoped>\n",
       "    .dataframe tbody tr th:only-of-type {\n",
       "        vertical-align: middle;\n",
       "    }\n",
       "\n",
       "    .dataframe tbody tr th {\n",
       "        vertical-align: top;\n",
       "    }\n",
       "\n",
       "    .dataframe thead th {\n",
       "        text-align: right;\n",
       "    }\n",
       "</style>\n",
       "<table border=\"1\" class=\"dataframe\">\n",
       "  <thead>\n",
       "    <tr style=\"text-align: right;\">\n",
       "      <th></th>\n",
       "      <th>members</th>\n",
       "      <th>name</th>\n",
       "      <th>start_year</th>\n",
       "      <th>end_year</th>\n",
       "    </tr>\n",
       "  </thead>\n",
       "  <tbody>\n",
       "    <tr>\n",
       "      <th>30</th>\n",
       "      <td>22175</td>\n",
       "      <td>Dynegy (Group)</td>\n",
       "      <td>NaN</td>\n",
       "      <td>2005</td>\n",
       "    </tr>\n",
       "    <tr>\n",
       "      <th>31</th>\n",
       "      <td>307626</td>\n",
       "      <td>Targa (Group)</td>\n",
       "      <td>2006</td>\n",
       "      <td>NaN</td>\n",
       "    </tr>\n",
       "    <tr>\n",
       "      <th>32</th>\n",
       "      <td>22175</td>\n",
       "      <td>Targa (Group)</td>\n",
       "      <td>2006</td>\n",
       "      <td>NaN</td>\n",
       "    </tr>\n",
       "    <tr>\n",
       "      <th>33</th>\n",
       "      <td>Boardwalk (Group)</td>\n",
       "      <td>Boardwalk (Group)</td>\n",
       "      <td>2014</td>\n",
       "      <td>NaN</td>\n",
       "    </tr>\n",
       "    <tr>\n",
       "      <th>34</th>\n",
       "      <td>31554</td>\n",
       "      <td>Boardwalk (Group)</td>\n",
       "      <td>2014</td>\n",
       "      <td>NaN</td>\n",
       "    </tr>\n",
       "  </tbody>\n",
       "</table>\n",
       "</div>"
      ],
      "text/plain": [
       "              members               name start_year end_year\n",
       "30              22175     Dynegy (Group)        NaN     2005\n",
       "31             307626      Targa (Group)       2006      NaN\n",
       "32              22175      Targa (Group)       2006      NaN\n",
       "33  Boardwalk (Group)  Boardwalk (Group)       2014      NaN\n",
       "34              31554  Boardwalk (Group)       2014      NaN"
      ]
     },
     "execution_count": 148,
     "metadata": {},
     "output_type": "execute_result"
    }
   ],
   "source": [
    "m_as = add_m_a('Boardwalk (Group)', ['Boardwalk (Group)', '31554'], m_as, start_year = '2014')\n",
    "m_as.tail()"
   ]
  },
  {
   "cell_type": "code",
   "execution_count": 149,
   "metadata": {},
   "outputs": [
    {
     "name": "stdout",
     "output_type": "stream",
     "text": [
      "\n",
      "VALERO PARTNERS OPERATING CO. LLC (OPERATOR_ID 39105) may have a namesake or namesakes:\n",
      "\n",
      "\tVALERO ENERGY CORPORATION (OPERATOR_ID 4430)\n",
      "\n",
      "\tVALERO LOGISTICS OPERATIONS, LP (OPERATOR_ID 31454)\n",
      "\n",
      "\tVALERO LOGISTICS OPERATIONS, LP  (OPERATOR_ID 31454)\n",
      "\n",
      "\tVALERO ENERGY CORPORATION (OPERATOR_ID 31742)\n",
      "\n"
     ]
    }
   ],
   "source": [
    "print(next(issues))"
   ]
  },
  {
   "cell_type": "code",
   "execution_count": 150,
   "metadata": {},
   "outputs": [
    {
     "name": "stdout",
     "output_type": "stream",
     "text": [
      "\n",
      "MAGELLAN CRUDE OIL PIPELINE COMPANY, L.P. (OPERATOR_ID 39504) may have a namesake or namesakes:\n",
      "\n",
      "\tMagellan Ammonia Pipeline, L.P. (OPERATOR_ID 12105)\n",
      "\n",
      "\tMagellan Pipeline Company, L.P. (OPERATOR_ID 22610)\n",
      "\n",
      "\tMAGELLAN PIPELINE COMPANY, LLC (OPERATOR_ID 22610)\n",
      "\n",
      "\tMAGELLAN PIPELINE COMPANY, L.P. (OPERATOR_ID 22610)\n",
      "\n",
      "\tMagellan Pipelines Holdings, L.P. (OPERATOR_ID 31579)\n",
      "\n",
      "\tMAGELLAN PIPELINES HOLDINGS, L.P. (OPERATOR_ID 31579)\n",
      "\n"
     ]
    }
   ],
   "source": [
    "print(next(issues))"
   ]
  },
  {
   "cell_type": "code",
   "execution_count": 151,
   "metadata": {},
   "outputs": [
    {
     "name": "stdout",
     "output_type": "stream",
     "text": [
      "\n",
      "TARGA NGL PIPE LINE CO (OPERATOR_ID 30626) has changed its name:\n",
      "\n",
      "\tWas named DYNEGY NGL PIPELINE from 2004 to 2004.\n",
      "\n",
      "\tWas named TARGA NGL PIPE LINE CO from 2007 to 2018.\n",
      "\n",
      "\tWas named TARGA NGL PIPELINE COMPANY, LLC from 2006 to 2006.\n",
      "\n",
      "\tWas named TARGA NGL PIPLINE COMPANY LLC from 2005 to 2005.\n",
      "\n",
      "TARGA NGL PIPE LINE CO (OPERATOR_ID 30626) may have a namesake or namesakes:\n",
      "\n",
      "\tDYNEGY, INC (OPERATOR_ID 22175)\n",
      "\n",
      "\tTARGA RESOURCES OPERATING LP (OPERATOR_ID 32296)\n",
      "\n",
      "\tTARGA RESOURCES INC. (OPERATOR_ID 32296)\n",
      "\n"
     ]
    }
   ],
   "source": [
    "print(next(issues))"
   ]
  },
  {
   "cell_type": "code",
   "execution_count": 152,
   "metadata": {},
   "outputs": [
    {
     "name": "stdout",
     "output_type": "stream",
     "text": [
      "\n",
      "PETROLOGISTICS OLEFINS, LLC (OPERATOR_ID 20160) has changed its name:\n",
      "\n",
      "\tWas named PETROLOGISTICS OLEFINS LLC from 2005 to 2005.\n",
      "\n",
      "\tWas named PETROLOGISTICS OLEFINS, LLC from 2007 to 2012.\n",
      "\n",
      "\tWas named PETROLOGISTICS OLEFINS, LLC  from 2004 to 2004.\n",
      "\n",
      "\tWas named PETROLOGISTICS OLEFINS, LLC. from 2006 to 2006.\n",
      "\n",
      "\tWas named PL Midstream LLC from 2010 to 2010.\n",
      "\n"
     ]
    }
   ],
   "source": [
    "print(next(issues))"
   ]
  },
  {
   "cell_type": "markdown",
   "metadata": {},
   "source": [
    "### 8.2.51 Enlink"
   ]
  },
  {
   "cell_type": "code",
   "execution_count": 153,
   "metadata": {},
   "outputs": [
    {
     "name": "stdout",
     "output_type": "stream",
     "text": [
      "\n",
      "ENLINK LBU-GAS&LIQUIDS (OPERATOR_ID 32005) has the same parent company as:\n",
      "\n",
      "\tENLINK NGL PIPELINE, LP (OPERATOR_ID 32107)\n",
      "\n"
     ]
    }
   ],
   "source": [
    "print(next(issues))"
   ]
  },
  {
   "cell_type": "code",
   "execution_count": 154,
   "metadata": {},
   "outputs": [
    {
     "name": "stdout",
     "output_type": "stream",
     "text": [
      "\n",
      "Organization 32107 has changed its name:\n",
      "    32107 was named Crosstex Ngl Pipeline LP from 2006 to 2012.\n",
      "    32107 was named Enlink Ngl Pipeline Lp from 2013 to 2016.\n"
     ]
    }
   ],
   "source": [
    "report_names(['32005', '32107'])"
   ]
  },
  {
   "cell_type": "markdown",
   "metadata": {},
   "source": [
    "No indicator of an M&A taking place on LexisNexis."
   ]
  },
  {
   "cell_type": "code",
   "execution_count": 155,
   "metadata": {},
   "outputs": [
    {
     "data": {
      "text/html": [
       "<div>\n",
       "<style scoped>\n",
       "    .dataframe tbody tr th:only-of-type {\n",
       "        vertical-align: middle;\n",
       "    }\n",
       "\n",
       "    .dataframe tbody tr th {\n",
       "        vertical-align: top;\n",
       "    }\n",
       "\n",
       "    .dataframe thead th {\n",
       "        text-align: right;\n",
       "    }\n",
       "</style>\n",
       "<table border=\"1\" class=\"dataframe\">\n",
       "  <thead>\n",
       "    <tr style=\"text-align: right;\">\n",
       "      <th></th>\n",
       "      <th>members</th>\n",
       "      <th>name</th>\n",
       "    </tr>\n",
       "  </thead>\n",
       "  <tbody>\n",
       "    <tr>\n",
       "      <th>112</th>\n",
       "      <td>3535</td>\n",
       "      <td>Dow (Group)</td>\n",
       "    </tr>\n",
       "    <tr>\n",
       "      <th>113</th>\n",
       "      <td>30959</td>\n",
       "      <td>Dow (Group)</td>\n",
       "    </tr>\n",
       "    <tr>\n",
       "      <th>114</th>\n",
       "      <td>39138</td>\n",
       "      <td>Boardwalk (Group)</td>\n",
       "    </tr>\n",
       "    <tr>\n",
       "      <th>115</th>\n",
       "      <td>32005</td>\n",
       "      <td>Enlink (Group)</td>\n",
       "    </tr>\n",
       "    <tr>\n",
       "      <th>116</th>\n",
       "      <td>32107</td>\n",
       "      <td>Enlink (Group)</td>\n",
       "    </tr>\n",
       "  </tbody>\n",
       "</table>\n",
       "</div>"
      ],
      "text/plain": [
       "    members               name\n",
       "112    3535        Dow (Group)\n",
       "113   30959        Dow (Group)\n",
       "114   39138  Boardwalk (Group)\n",
       "115   32005     Enlink (Group)\n",
       "116   32107     Enlink (Group)"
      ]
     },
     "execution_count": 155,
     "metadata": {},
     "output_type": "execute_result"
    }
   ],
   "source": [
    "company_groups = add_company_group('Enlink (Group)', ['32005', '32107'], company_groups)\n",
    "company_groups.tail()"
   ]
  },
  {
   "cell_type": "markdown",
   "metadata": {},
   "source": [
    "### 8.2.52 Hunt"
   ]
  },
  {
   "cell_type": "code",
   "execution_count": 156,
   "metadata": {},
   "outputs": [
    {
     "name": "stdout",
     "output_type": "stream",
     "text": [
      "\n",
      "HUNT REFINING CO (OPERATOR_ID 26048) has changed its name:\n",
      "\n",
      "\tWas named  HUNT REFINING COMPANY from 2004 to 2004.\n",
      "\n",
      "\tWas named HUNT CRUDE OIL SUPPLY COMPANY from 2004 to 2006.\n",
      "\n",
      "\tWas named HUNT REFINING CO from 2007 to 2018.\n",
      "\n",
      "\tWas named HUNT REFINING COMPANY from 2005 to 2006.\n",
      "\n",
      "HUNT REFINING CO (OPERATOR_ID 26048) has the same parent company as:\n",
      "\n",
      "\tHUNT CRUDE OIL SUPPLY CO (OPERATOR_ID 7660)\n",
      "\n",
      "HUNT REFINING CO (OPERATOR_ID 26048) may have a namesake or namesakes:\n",
      "\n",
      "\tHUNT CRUDE OIL SUPPLY COMPANY (OPERATOR_ID 7660)\n",
      "\n"
     ]
    }
   ],
   "source": [
    "print(next(issues))"
   ]
  },
  {
   "cell_type": "code",
   "execution_count": 157,
   "metadata": {},
   "outputs": [
    {
     "name": "stdout",
     "output_type": "stream",
     "text": [
      "\n",
      "Organization 26048 has changed its name:\n",
      "    26048 was named  Hunt Refining Company from 2004 to 2004.\n",
      "    26048 was named Hunt Crude Oil Supply Company from 2004 to 2006.\n",
      "    26048 was named Hunt Refining Co from 2007 to 2018.\n",
      "    26048 was named Hunt Refining Company from 2005 to 2006.\n",
      "\n",
      "Organization 7660 has changed its name:\n",
      "    7660 was named Hunt Crude Oil Supply Co from 2007 to 2018.\n",
      "    7660 was named Hunt Crude Oil Supply Company from 2004 to 2006.\n",
      "\n",
      "Organization 26048 has changed its name:\n",
      "    26048 was named  Hunt Refining Company from 2004 to 2004.\n",
      "    26048 was named Hunt Crude Oil Supply Company from 2004 to 2006.\n",
      "    26048 was named Hunt Refining Co from 2007 to 2018.\n",
      "    26048 was named Hunt Refining Company from 2005 to 2006.\n"
     ]
    }
   ],
   "source": [
    "report_names(['26048', '7660'])"
   ]
  },
  {
   "cell_type": "code",
   "execution_count": 158,
   "metadata": {},
   "outputs": [
    {
     "data": {
      "text/html": [
       "<div>\n",
       "<style scoped>\n",
       "    .dataframe tbody tr th:only-of-type {\n",
       "        vertical-align: middle;\n",
       "    }\n",
       "\n",
       "    .dataframe tbody tr th {\n",
       "        vertical-align: top;\n",
       "    }\n",
       "\n",
       "    .dataframe thead th {\n",
       "        text-align: right;\n",
       "    }\n",
       "</style>\n",
       "<table border=\"1\" class=\"dataframe\">\n",
       "  <thead>\n",
       "    <tr style=\"text-align: right;\">\n",
       "      <th></th>\n",
       "      <th>members</th>\n",
       "      <th>name</th>\n",
       "    </tr>\n",
       "  </thead>\n",
       "  <tbody>\n",
       "    <tr>\n",
       "      <th>115</th>\n",
       "      <td>32005</td>\n",
       "      <td>Enlink (Group)</td>\n",
       "    </tr>\n",
       "    <tr>\n",
       "      <th>116</th>\n",
       "      <td>32107</td>\n",
       "      <td>Enlink (Group)</td>\n",
       "    </tr>\n",
       "    <tr>\n",
       "      <th>117</th>\n",
       "      <td>26048</td>\n",
       "      <td>Hunt (Group)</td>\n",
       "    </tr>\n",
       "    <tr>\n",
       "      <th>118</th>\n",
       "      <td>7660</td>\n",
       "      <td>Hunt (Group)</td>\n",
       "    </tr>\n",
       "    <tr>\n",
       "      <th>119</th>\n",
       "      <td>26048</td>\n",
       "      <td>Hunt (Group)</td>\n",
       "    </tr>\n",
       "  </tbody>\n",
       "</table>\n",
       "</div>"
      ],
      "text/plain": [
       "    members            name\n",
       "115   32005  Enlink (Group)\n",
       "116   32107  Enlink (Group)\n",
       "117   26048    Hunt (Group)\n",
       "118    7660    Hunt (Group)\n",
       "119   26048    Hunt (Group)"
      ]
     },
     "execution_count": 158,
     "metadata": {},
     "output_type": "execute_result"
    }
   ],
   "source": [
    "company_groups = add_company_group('Hunt (Group)', ['26048', '7660'], company_groups)\n",
    "company_groups.tail()"
   ]
  },
  {
   "cell_type": "code",
   "execution_count": 159,
   "metadata": {},
   "outputs": [
    {
     "name": "stdout",
     "output_type": "stream",
     "text": [
      "\n",
      "TPC GROUP, LLC (OPERATOR_ID 19319) has changed its name:\n",
      "\n",
      "\tWas named TEXAS PETROCHEMICALS CORP from 2007 to 2011.\n",
      "\n",
      "\tWas named TEXAS PETROCHEMICALS LP from 2004 to 2004.\n",
      "\n",
      "\tWas named TEXAS PETROCHEMICALS, LP from 2006 to 2006.\n",
      "\n",
      "\tWas named TPC GROUP, LLC from 2011 to 2018.\n",
      "\n",
      "\tWas named TPC Group LLC from 2010 to 2010.\n",
      "\n",
      "TPC GROUP, LLC (OPERATOR_ID 19319) may have a namesake or namesakes:\n",
      "\n",
      "\tWEST TEXAS GULF PIPELINE CO (OPERATOR_ID 22442)\n",
      "\n",
      "\tWEST TEXAS GULF PIPELINE COMPANY (OPERATOR_ID 22442)\n",
      "\n",
      "\tDELEK PIPELINE TEXAS, INC (OPERATOR_ID 26061)\n",
      "\n",
      "\tDELEK PIPELINE TEXAS, INC. (OPERATOR_ID 26061)\n",
      "\n",
      "\tTEXAS EASTMAN DIVISION, EASTMAN CHEMICAL CO (OPERATOR_ID 26103)\n",
      "\n",
      "\tGENESIS PIPELINE TEXAS LP (OPERATOR_ID 31045)\n",
      "\n",
      "\tGENESIS PIPELINE TEXAS, L.P. (OPERATOR_ID 32407)\n",
      "\n",
      "\tASCEND PERFORMANCE MATERIALS TEXAS INC (OPERATOR_ID 31517)\n",
      "\n",
      "\tTEXAS GENCO LP (OPERATOR_ID 31802)\n",
      "\n",
      "\tVALERO REFINING - TEXAS LP (OPERATOR_ID 32032)\n",
      "\n"
     ]
    }
   ],
   "source": [
    "print(next(issues))"
   ]
  },
  {
   "cell_type": "code",
   "execution_count": 160,
   "metadata": {},
   "outputs": [
    {
     "name": "stdout",
     "output_type": "stream",
     "text": [
      "\n",
      "THE PREMCOR PIPELINE COMPANY (OPERATOR_ID 31742) has changed its name:\n",
      "\n",
      "\tWas named THE PREMCOR PIPELINE CO from 2004 to 2004.\n",
      "\n",
      "\tWas named THE PREMCOR PIPELINE CO. from 2005 to 2005.\n",
      "\n",
      "\tWas named THE PREMCOR PIPELINE COMPANY from 2006 to 2006.\n",
      "\n",
      "THE PREMCOR PIPELINE COMPANY (OPERATOR_ID 31742) may have a namesake or namesakes:\n",
      "\n",
      "\tTHE PREMCOR REFINING GROUP INC (OPERATOR_ID 31415)\n",
      "\n"
     ]
    }
   ],
   "source": [
    "print(next(issues))"
   ]
  },
  {
   "cell_type": "markdown",
   "metadata": {},
   "source": [
    "### 8.2.53 Eastman Chemical"
   ]
  },
  {
   "cell_type": "code",
   "execution_count": 161,
   "metadata": {},
   "outputs": [
    {
     "name": "stdout",
     "output_type": "stream",
     "text": [
      "\n",
      "MUSTANG  PIPE  LINE  LLC (OPERATOR_ID 31166) has changed its name:\n",
      "\n",
      "\tWas named MUSTANG  PIPE  LINE  LLC from 2012 to 2018.\n",
      "\n",
      "\tWas named MUSTANG PIPE LINE LLC from 2006 to 2006.\n",
      "\n",
      "\tWas named MUSTANG PIPE LINE PARTNERS from 2004 to 2011.\n",
      "\n",
      "\tWas named MUSTANG PIPELINE PARTNERS from 2005 to 2005.\n",
      "\n",
      "MUSTANG  PIPE  LINE  LLC (OPERATOR_ID 31166) has the same parent company as:\n",
      "\n",
      "\tTEXAS EASTMAN DIVISION, EASTMAN CHEMICAL CO (OPERATOR_ID 26103)\n",
      "\n"
     ]
    }
   ],
   "source": [
    "print(next(issues))"
   ]
  },
  {
   "cell_type": "code",
   "execution_count": 162,
   "metadata": {},
   "outputs": [
    {
     "data": {
      "text/html": [
       "<div>\n",
       "<style scoped>\n",
       "    .dataframe tbody tr th:only-of-type {\n",
       "        vertical-align: middle;\n",
       "    }\n",
       "\n",
       "    .dataframe tbody tr th {\n",
       "        vertical-align: top;\n",
       "    }\n",
       "\n",
       "    .dataframe thead th {\n",
       "        text-align: right;\n",
       "    }\n",
       "</style>\n",
       "<table border=\"1\" class=\"dataframe\">\n",
       "  <thead>\n",
       "    <tr style=\"text-align: right;\">\n",
       "      <th></th>\n",
       "      <th>members</th>\n",
       "      <th>name</th>\n",
       "    </tr>\n",
       "  </thead>\n",
       "  <tbody>\n",
       "    <tr>\n",
       "      <th>117</th>\n",
       "      <td>26048</td>\n",
       "      <td>Hunt (Group)</td>\n",
       "    </tr>\n",
       "    <tr>\n",
       "      <th>118</th>\n",
       "      <td>7660</td>\n",
       "      <td>Hunt (Group)</td>\n",
       "    </tr>\n",
       "    <tr>\n",
       "      <th>119</th>\n",
       "      <td>26048</td>\n",
       "      <td>Hunt (Group)</td>\n",
       "    </tr>\n",
       "    <tr>\n",
       "      <th>120</th>\n",
       "      <td>31166</td>\n",
       "      <td>Eastman Chemical (Group)</td>\n",
       "    </tr>\n",
       "    <tr>\n",
       "      <th>121</th>\n",
       "      <td>26103</td>\n",
       "      <td>Eastman Chemical (Group)</td>\n",
       "    </tr>\n",
       "  </tbody>\n",
       "</table>\n",
       "</div>"
      ],
      "text/plain": [
       "    members                      name\n",
       "117   26048              Hunt (Group)\n",
       "118    7660              Hunt (Group)\n",
       "119   26048              Hunt (Group)\n",
       "120   31166  Eastman Chemical (Group)\n",
       "121   26103  Eastman Chemical (Group)"
      ]
     },
     "execution_count": 162,
     "metadata": {},
     "output_type": "execute_result"
    }
   ],
   "source": [
    "company_groups = add_company_group('Eastman Chemical (Group)', ['31166', '26103'], company_groups)\n",
    "company_groups.tail()"
   ]
  },
  {
   "cell_type": "code",
   "execution_count": 163,
   "metadata": {},
   "outputs": [
    {
     "name": "stdout",
     "output_type": "stream",
     "text": [
      "\n",
      "TARGA MIDSTREAM SERVICES, L.P. (OPERATOR_ID 22175) has changed its name:\n",
      "\n",
      "\tWas named DYNEGY MIDSTREAM SERVICES, L.P.  from 2004 to 2004.\n",
      "\n",
      "\tWas named DYNEGY MIDSTREAM SERVICES, LIMITED PARTNERSHIP from 2004 to 2004.\n",
      "\n",
      "\tWas named DYNEGY MIDSTREAM SERVICES, LP from 2004 to 2004.\n",
      "\n",
      "\tWas named TARGA MIDSTREAM SERVICES LIMITED PARTNERSHIP from 2005 to 2005.\n",
      "\n",
      "\tWas named TARGA MIDSTREAM SERVICES LP from 2006 to 2006.\n",
      "\n",
      "\tWas named TARGA MIDSTREAM SERVICES, L.P. from 2007 to 2009.\n",
      "\n",
      "\tWas named TARGA MIDSTREAM SERVICES, LP from 2006 to 2006.\n",
      "\n",
      "TARGA MIDSTREAM SERVICES, L.P. (OPERATOR_ID 22175) may have a namesake or namesakes:\n",
      "\n",
      "\tDYNEGY INC (OPERATOR_ID 30626)\n",
      "\n",
      "\tTARGA NGL PIPLINE COMPANY LLC (OPERATOR_ID 30626)\n",
      "\n",
      "\tTARGA RESOURCES OPERATING LP (OPERATOR_ID 32296)\n",
      "\n",
      "\tTARGA RESOURCES INC. (OPERATOR_ID 32296)\n",
      "\n"
     ]
    }
   ],
   "source": [
    "print(next(issues))"
   ]
  },
  {
   "cell_type": "code",
   "execution_count": 164,
   "metadata": {},
   "outputs": [
    {
     "name": "stdout",
     "output_type": "stream",
     "text": [
      "\n",
      "EXXONMOBIL OIL CORPORATION (OPERATOR_ID 12624) has changed its name:\n",
      "\n",
      "\tWas named EXXONMOBIL OIL CORPORATION from 2018 to 2018.\n",
      "\n",
      "\tWas named EXXONMOBIL OIL CORPORATION - BEAUMONT REFINERY (HULL) from 2006 to 2006.\n",
      "\n",
      "\tWas named EXXONMOBIL OIL CORPORATION - BEAUMONT REFINERY (MAGPETCO) from 2006 to 2006.\n",
      "\n",
      "\tWas named MOBIL CORP from 2004 to 2017.\n",
      "\n",
      "\tWas named MOBIL OIL  CORPORATION-MOBIL BEAUMONT REFINERY (MAGPETCO) from 2004 to 2004.\n",
      "\n",
      "\tWas named MOBIL OIL CORPORATION - MOBIL BEAUMNT REFINERY (HULL) from 2004 to 2004.\n",
      "\n",
      "\tWas named MOBIL OIL CORPORATION - MOBIL BEAUMONT REFINERY (HULL) from 2005 to 2005.\n",
      "\n",
      "\tWas named MOBIL OIL CORPORATION - MOBIL BEAUMONT REFINERY (MAGPETCO) from 2005 to 2005.\n",
      "\n",
      "EXXONMOBIL OIL CORPORATION (OPERATOR_ID 12624) may have a namesake or namesakes:\n",
      "\n",
      "\tEXXONMOBIL PIPELINE COMPANY (OPERATOR_ID 4906)\n",
      "\n",
      "\tMOBIL  PIPE  LINE COMPANY (OPERATOR_ID 12628)\n",
      "\n",
      "\tMOBIL PIPELINE CO (OPERATOR_ID 12628)\n",
      "\n",
      "\tMOBIL PIPE LINE COMPANY (OPERATOR_ID 12628)\n",
      "\n",
      "\tMOBIL CHEMICAL CO (OPERATOR_ID 12634)\n",
      "\n",
      "\tMOBIL CHEMICAL COMPANY (OPERATOR_ID 12634)\n",
      "\n",
      "\tEXXONMOBIL CHEMICAL COMPANY (OPERATOR_ID 12634)\n",
      "\n",
      "\tMOBIL OIL CORPORATION - WEST COAST PIPELINE (OPERATOR_ID 26134)\n",
      "\n",
      "\tMOBIL OIL CORPORATION WEST COAST PIPELINE (OPERATOR_ID 26134)\n",
      "\n",
      "\tEXXONMOBIL OIL CORPORATION - WEST COAST PIPELINE (OPERATOR_ID 26134)\n",
      "\n",
      "\tMOBIL PACIFIC PIPELINE COMPANY (OPERATOR_ID 30005)\n",
      "\n",
      "\tMOBIL PACIFIC PIPELINE (OPERATOR_ID 30005)\n",
      "\n"
     ]
    }
   ],
   "source": [
    "print(next(issues))"
   ]
  },
  {
   "cell_type": "code",
   "execution_count": 165,
   "metadata": {},
   "outputs": [
    {
     "name": "stdout",
     "output_type": "stream",
     "text": [
      "\n",
      "NORTH DAKOTA PIPELINE COMPANY LLC (OPERATOR_ID 15774) has changed its name:\n",
      "\n",
      "\tWas named ENBRIDGE PIPELINES (NORTH DAKOTA) LLC from 2004 to 2012.\n",
      "\n",
      "\tWas named NORTH DAKOTA PIPELINE COMPANY LLC from 2013 to 2018.\n",
      "\n",
      "NORTH DAKOTA PIPELINE COMPANY LLC (OPERATOR_ID 15774) may have a namesake or namesakes:\n",
      "\n",
      "\tENBRIDGE ENERGY, LIMITED PARTNERSHIP (OPERATOR_ID 11169)\n",
      "\n",
      "\tENBRIDGE ENERGY PARTNERS, LP (OPERATOR_ID 11169)\n",
      "\n",
      "\tENBRIDGE ENERGY PARTNERS, LP  (OPERATOR_ID 11169)\n",
      "\n",
      "\tENBRIDGE ENERGY PARTNERS, L.P. (OPERATOR_ID 11169)\n",
      "\n",
      "\tENBRIDGE ENERGY PARTNERS, L..P. (OPERATOR_ID 11169)\n",
      "\n",
      "\tENBRIDGE PIPELINES (TOLEDO) INC (OPERATOR_ID 31448)\n",
      "\n",
      "\tENBRIDGE (US) INC (OPERATOR_ID 31448)\n",
      "\n",
      "\tENBRIDGE (U.S.) INC. (OPERATOR_ID 31448)\n",
      "\n",
      "\tENBRIDGE ENERGY PARTNERS, L.P. (OPERATOR_ID 31448)\n",
      "\n",
      "\tENBRIDGE PIPELINES (OZARK) L.L.C. (OPERATOR_ID 31947)\n",
      "\n",
      "\tENBRIDGE ENERGY PARTNERS, LP (OPERATOR_ID 31947)\n",
      "\n",
      "\tENBRIDGE ENERGY PARTNERS, L.P. (OPERATOR_ID 31947)\n",
      "\n",
      "\tENBRIDGE ENERGY COMPANY INC. (OPERATOR_ID 32080)\n",
      "\n",
      "\tENBRIDGE ENERGY COMPANY, INC. (OPERATOR_ID 32080)\n",
      "\n",
      "\tENBRIDGE PIPELINES (SOUTHERN LIGHTS) L.L.C. (OPERATOR_ID 32502)\n",
      "\n"
     ]
    }
   ],
   "source": [
    "print(next(issues))"
   ]
  },
  {
   "cell_type": "code",
   "execution_count": 166,
   "metadata": {},
   "outputs": [
    {
     "name": "stdout",
     "output_type": "stream",
     "text": [
      "\n",
      "MARKWEST LIBERTY MIDSTREAM & RESOURCES, L.L.C. (OPERATOR_ID 32412) may have a namesake or namesakes:\n",
      "\n",
      "\tMARKWEST RANGER PIPELINE COMPANY, L.L.C. (OPERATOR_ID 26026)\n",
      "\n",
      "\tMARKWEST RANGER PIPELINE COMPANY, LLC (OPERATOR_ID 26026)\n",
      "\n",
      "\tMARKWEST ENERGY APPALACHIA, LLC (OPERATOR_ID 26026)\n",
      "\n",
      "\tMARKWEST HYDROCARBON, INC (OPERATOR_ID 26026)\n",
      "\n",
      "\tMARKWEST HYDROCARBON, INC. (OPERATOR_ID 26026)\n",
      "\n",
      "\tMARKWEST ENERGY PARTNERS, L.P. (OPERATOR_ID 26026)\n",
      "\n",
      "\tMARKWEST MICHIGAN PIPELINE, LLC (OPERATOR_ID 31871)\n",
      "\n",
      "\tMARKWEST MICHIGAN PIPELINE COMPANY, L.L.C. (OPERATOR_ID 31871)\n",
      "\n",
      "\tMARKWEST-MICHIGAN PIPELINE COMPANY, L.L.C (OPERATOR_ID 31871)\n",
      "\n",
      "\tMARKWEST MICHIGAN PIPELINE COMPANY L.L.C (OPERATOR_ID 31871)\n",
      "\n"
     ]
    }
   ],
   "source": [
    "print(next(issues))"
   ]
  },
  {
   "cell_type": "code",
   "execution_count": 167,
   "metadata": {},
   "outputs": [
    {
     "name": "stdout",
     "output_type": "stream",
     "text": [
      "\n",
      "MARTIN OPERATING PARTNERSHIP, L.P. (OPERATOR_ID 32051) has changed its name:\n",
      "\n",
      "\tWas named MARTIN OPERATING PARTNERS, LP from 2006 to 2006.\n",
      "\n",
      "\tWas named MARTIN OPERATING PARTNERSHIP LP from 2005 to 2005.\n",
      "\n",
      "\tWas named MARTIN OPERATING PARTNERSHIP, L.P. from 2007 to 2018.\n",
      "\n"
     ]
    }
   ],
   "source": [
    "print(next(issues))"
   ]
  },
  {
   "cell_type": "code",
   "execution_count": 168,
   "metadata": {},
   "outputs": [
    {
     "name": "stdout",
     "output_type": "stream",
     "text": [
      "\n",
      "CENTRAL FLORIDA PIPELINE CORP (OPERATOR_ID 2190) has changed its name:\n",
      "\n",
      "\tWas named CENTRAL FLORIDA PIPELINE CORP from 2007 to 2018.\n",
      "\n",
      "\tWas named CENTRAL FLORIDA PIPELINE LLC from 2004 to 2006.\n",
      "\n"
     ]
    }
   ],
   "source": [
    "print(next(issues))"
   ]
  },
  {
   "cell_type": "code",
   "execution_count": 169,
   "metadata": {},
   "outputs": [
    {
     "name": "stdout",
     "output_type": "stream",
     "text": [
      "\n",
      "P B ENERGY STORAGE SERVICES INC. (OPERATOR_ID 31890) has changed its name:\n",
      "\n",
      "\tWas named P B ENERGY STORAGE SERVICES INC. from 2004 to 2009.\n",
      "\n",
      "\tWas named PB ENERGY STORAGE SERVICES INC from 2004 to 2004.\n",
      "\n",
      "\tWas named PB ENERGY STORAGE SERVICES, INC from 2005 to 2005.\n",
      "\n",
      "\tWas named PB ENERGY STORAGE SERVICES, INC. from 2006 to 2006.\n",
      "\n"
     ]
    }
   ],
   "source": [
    "print(next(issues))"
   ]
  },
  {
   "cell_type": "code",
   "execution_count": 170,
   "metadata": {},
   "outputs": [
    {
     "name": "stdout",
     "output_type": "stream",
     "text": [
      "\n",
      "TARGA RESOURCES, INC. (OPERATOR_ID 31977) may have a namesake or namesakes:\n",
      "\n",
      "\tTARGA NGL PIPLINE COMPANY LLC (OPERATOR_ID 30626)\n",
      "\n",
      "\tTARGA RESOURCES, INC. (OPERATOR_ID 30626)\n",
      "\n",
      "\tTARGA RESOURCES OPERATING LP (OPERATOR_ID 32296)\n",
      "\n",
      "\tTARGA RESOURCES, INC. (OPERATOR_ID 32296)\n",
      "\n",
      "\tTARGA RESOURCES INC. (OPERATOR_ID 32296)\n",
      "\n",
      "\tTARGA RESOURCES, INC. (OPERATOR_ID 22175)\n",
      "\n"
     ]
    }
   ],
   "source": [
    "print(next(issues))"
   ]
  },
  {
   "cell_type": "code",
   "execution_count": 171,
   "metadata": {},
   "outputs": [
    {
     "name": "stdout",
     "output_type": "stream",
     "text": [
      "\n",
      "DOMINION ENERGY TRANSMISSION, INC. (OPERATOR_ID 2714) has changed its name:\n",
      "\n",
      "\tWas named DOMINION ENERGY TRANSMISSION, INC. from 2017 to 2018.\n",
      "\n",
      "\tWas named DOMINION TRANSMISION, INCORPORATED from 2004 to 2004.\n",
      "\n",
      "\tWas named DOMINION TRANSMISSION INC from 2007 to 2007.\n",
      "\n",
      "\tWas named DOMINION TRANSMISSION, INC from 2008 to 2016.\n",
      "\n",
      "\tWas named DOMINION TRANSMISSION, INC. from 2005 to 2006.\n",
      "\n",
      "\tWas named DOMINION TRANSMISSION, INCORPORATED from 2004 to 2004.\n",
      "\n"
     ]
    }
   ],
   "source": [
    "print(next(issues))"
   ]
  },
  {
   "cell_type": "code",
   "execution_count": 172,
   "metadata": {},
   "outputs": [
    {
     "name": "stdout",
     "output_type": "stream",
     "text": [
      "\n",
      "TESORO HIGH PLAINS PIPELINE COMPANY LLC (OPERATOR_ID 31570) has changed its name:\n",
      "\n",
      "\tWas named TESORO - HIGH PLAINS PIPELINE COMPANY from 2007 to 2011.\n",
      "\n",
      "\tWas named TESORO HIGH PLAIN PIPELINE COMPANY from 2006 to 2006.\n",
      "\n",
      "\tWas named TESORO HIGH PLAINS PIPELINE COMPANY from 2005 to 2005.\n",
      "\n",
      "\tWas named TESORO HIGH PLAINS PIPELINE COMPANY  from 2004 to 2004.\n",
      "\n",
      "\tWas named TESORO HIGH PLAINS PIPELINE COMPANY LLC from 2012 to 2017.\n",
      "\n",
      "TESORO HIGH PLAINS PIPELINE COMPANY LLC (OPERATOR_ID 31570) may have a namesake or namesakes:\n",
      "\n",
      "\tTESORO REFINING & MARKETING CO., MOUNTAIN REGION (OPERATOR_ID 31583)\n",
      "\n",
      "\tTESORO REFINING & MARKETING CO, MOUNTAIN REGION  (OPERATOR_ID 31583)\n",
      "\n",
      "\tTESORO CORPORATION (OPERATOR_ID 31583)\n",
      "\n",
      "\tTESORO REFINING & MARKETING C O., GOLDEN EAGLE (OPERATOR_ID 31874)\n",
      "\n",
      "\tTESORO CORPORATION (OPERATOR_ID 31874)\n",
      "\n",
      "\tTESORO LOGISTICS OPERATIONS LLC - SOUTHERN CALIFORNIA (OPERATOR_ID 38933)\n",
      "\n"
     ]
    }
   ],
   "source": [
    "print(next(issues))"
   ]
  },
  {
   "cell_type": "code",
   "execution_count": 173,
   "metadata": {},
   "outputs": [
    {
     "name": "stdout",
     "output_type": "stream",
     "text": [
      "\n",
      "HUNTSMAN PETROCHEMICAL LLC (OPERATOR_ID 30709) has changed its name:\n",
      "\n",
      "\tWas named HUNTSMAN PETROCHEMICAL CORPORATION from 2004 to 2009.\n",
      "\n",
      "\tWas named HUNTSMAN PETROCHEMICAL LLC from 2010 to 2018.\n",
      "\n"
     ]
    }
   ],
   "source": [
    "print(next(issues))"
   ]
  },
  {
   "cell_type": "code",
   "execution_count": 174,
   "metadata": {},
   "outputs": [
    {
     "name": "stdout",
     "output_type": "stream",
     "text": [
      "\n",
      "WESTERN REFINING LOGISTICS, LP (OPERATOR_ID 31574) has changed its name:\n",
      "\n",
      "\tWas named GIANT PIPELINE COMPANY from 2005 to 2006.\n",
      "\n",
      "\tWas named WESTERN REFINING LOGISTICS, LP from 2018 to 2018.\n",
      "\n",
      "\tWas named WESTERN REFINING PIPELINE COMPANY from 2007 to 2012.\n",
      "\n",
      "\tWas named WESTERN REFINING PIPELINE, LLC from 2013 to 2017.\n",
      "\n",
      "WESTERN REFINING LOGISTICS, LP (OPERATOR_ID 31574) may have a namesake or namesakes:\n",
      "\n",
      "\tGIANT INDUSTRIES INC (OPERATOR_ID 2371)\n",
      "\n",
      "\tGIANT INDUSTRIES, INC. (OPERATOR_ID 2371)\n",
      "\n",
      "\tGIANT INDUSTRIES ARIZONA, INC. (OPERATOR_ID 2371)\n",
      "\n",
      "\tWESTERN REFINING SOUTHWEST, INC (OPERATOR_ID 2371)\n",
      "\n"
     ]
    }
   ],
   "source": [
    "print(next(issues))"
   ]
  },
  {
   "cell_type": "markdown",
   "metadata": {},
   "source": [
    "### 8.2.54 Delek"
   ]
  },
  {
   "cell_type": "code",
   "execution_count": 175,
   "metadata": {},
   "outputs": [
    {
     "name": "stdout",
     "output_type": "stream",
     "text": [
      "\n",
      "DELEK LOGISTICS OPERATING, LLC. (OPERATOR_ID 11551) has changed its name:\n",
      "\n",
      "\tWas named DELEK LOGISTICS OPERATING, LLC. from 2013 to 2018.\n",
      "\n",
      "\tWas named LION OIL CO from 2005 to 2008.\n",
      "\n",
      "\tWas named LION OIL TRADING & TRANSPORTATION, INC from 2009 to 2012.\n",
      "\n",
      "\tWas named LION OIL TRADING & TRANSPORTATION, INC. from 2004 to 2004.\n",
      "\n",
      "DELEK LOGISTICS OPERATING, LLC. (OPERATOR_ID 11551) has the same parent company as:\n",
      "\n",
      "\tDELEK MARKETING AND SUPPLY, LP (OPERATOR_ID 15851)\n",
      "\n",
      "\tDELEK CRUDE LOGISTICS, LLC. (OPERATOR_ID 26061)\n",
      "\n",
      "\tPARAMOUNT PETROLEUM CORP (OPERATOR_ID 26136)\n",
      "\n",
      "DELEK LOGISTICS OPERATING, LLC. (OPERATOR_ID 11551) may have a namesake or namesakes:\n",
      "\n",
      "\tDELEK MARKETING & SUPPLY, LP (OPERATOR_ID 15851)\n",
      "\n",
      "\tDELEK PIPELINE TEXAS, INC (OPERATOR_ID 26061)\n",
      "\n",
      "\tDELEK PIPELINE TEXAS, INC. (OPERATOR_ID 26061)\n",
      "\n",
      "\tDELEK US HOLDINGS (OPERATOR_ID 26061)\n",
      "\n",
      "\tDELEK U.S. HOLDINGS (OPERATOR_ID 26061)\n",
      "\n",
      "\tMEDALLION OPERATING COMPANY, LLC (OPERATOR_ID 39183)\n",
      "\n"
     ]
    }
   ],
   "source": [
    "print(next(issues))"
   ]
  },
  {
   "cell_type": "code",
   "execution_count": 176,
   "metadata": {},
   "outputs": [
    {
     "name": "stdout",
     "output_type": "stream",
     "text": [
      "\n",
      "Organization 11551 has changed its name:\n",
      "    11551 was named Delek Logistics Operating Llc from 2013 to 2018.\n",
      "    11551 was named Lion Oil Co from 2005 to 2008.\n",
      "    11551 was named Lion Oil Trading  Transportation Inc from 2004 to 2012.\n",
      "\n",
      "Organization 15851 has changed its name:\n",
      "    15851 was named Delek Marketing  Supply Lp from 2006 to 2006.\n",
      "    15851 was named Delek Marketing And Supply Lp from 2007 to 2018.\n",
      "    15851 was named Pride Refining Inc from 2004 to 2005.\n",
      "\n",
      "Organization 26061 has changed its name:\n",
      "    26061 was named Delek Crude Logistics Llc from 2013 to 2018.\n",
      "    26061 was named Delek Pipeline Texas Inc from 2004 to 2012.\n",
      "    26061 was named Mcmurrey Pipeline Co from 2008 to 2008.\n"
     ]
    }
   ],
   "source": [
    "report_names(['11551', '15851', '26061', '26136', '39183'])"
   ]
  },
  {
   "cell_type": "markdown",
   "metadata": {},
   "source": [
    "LexisNexis does not indicate that Delek bought Lion Oil."
   ]
  },
  {
   "cell_type": "code",
   "execution_count": 177,
   "metadata": {},
   "outputs": [
    {
     "data": {
      "text/html": [
       "<div>\n",
       "<style scoped>\n",
       "    .dataframe tbody tr th:only-of-type {\n",
       "        vertical-align: middle;\n",
       "    }\n",
       "\n",
       "    .dataframe tbody tr th {\n",
       "        vertical-align: top;\n",
       "    }\n",
       "\n",
       "    .dataframe thead th {\n",
       "        text-align: right;\n",
       "    }\n",
       "</style>\n",
       "<table border=\"1\" class=\"dataframe\">\n",
       "  <thead>\n",
       "    <tr style=\"text-align: right;\">\n",
       "      <th></th>\n",
       "      <th>members</th>\n",
       "      <th>name</th>\n",
       "    </tr>\n",
       "  </thead>\n",
       "  <tbody>\n",
       "    <tr>\n",
       "      <th>121</th>\n",
       "      <td>26103</td>\n",
       "      <td>Eastman Chemical (Group)</td>\n",
       "    </tr>\n",
       "    <tr>\n",
       "      <th>122</th>\n",
       "      <td>11551</td>\n",
       "      <td>Delek (Group)</td>\n",
       "    </tr>\n",
       "    <tr>\n",
       "      <th>123</th>\n",
       "      <td>15851</td>\n",
       "      <td>Delek (Group)</td>\n",
       "    </tr>\n",
       "    <tr>\n",
       "      <th>124</th>\n",
       "      <td>26061</td>\n",
       "      <td>Delek (Group)</td>\n",
       "    </tr>\n",
       "    <tr>\n",
       "      <th>125</th>\n",
       "      <td>26136</td>\n",
       "      <td>Delek (Group)</td>\n",
       "    </tr>\n",
       "  </tbody>\n",
       "</table>\n",
       "</div>"
      ],
      "text/plain": [
       "    members                      name\n",
       "121   26103  Eastman Chemical (Group)\n",
       "122   11551             Delek (Group)\n",
       "123   15851             Delek (Group)\n",
       "124   26061             Delek (Group)\n",
       "125   26136             Delek (Group)"
      ]
     },
     "execution_count": 177,
     "metadata": {},
     "output_type": "execute_result"
    }
   ],
   "source": [
    "company_groups = add_company_group('Delek (Group)', ['11551', '15851', '26061', '26136'], company_groups)\n",
    "company_groups.tail()"
   ]
  },
  {
   "cell_type": "code",
   "execution_count": 178,
   "metadata": {},
   "outputs": [
    {
     "name": "stdout",
     "output_type": "stream",
     "text": [
      "\n",
      "THE DOW CHEMICAL COMPANY (OPERATOR_ID 30959) may have a namesake or namesakes:\n",
      "\n",
      "\tTHE DOW CHEMICAL COMPANY, INCORPORATED (OPERATOR_ID 2162)\n",
      "\n",
      "\tTHE DOW CHEMICAL COMPANY, INC. (OPERATOR_ID 2162)\n",
      "\n",
      "\tTHE DOW CHEMICAL COMPANY, INCORPORATED (OPERATOR_ID 3527)\n",
      "\n",
      "\tTHE DOW CHEMICAL COMPANY, INC. (OPERATOR_ID 3527)\n",
      "\n",
      "\tTHE DOW CHEMICAL COMPANY, INCORPORATED (OPERATOR_ID 3535)\n",
      "\n",
      "\tTHE DOW CHEMICAL COMPANY, INC. (OPERATOR_ID 3535)\n",
      "\n",
      "\tTHE DOW CHEMICAL COMPANY, INCORPORATED (OPERATOR_ID 26086)\n",
      "\n",
      "\tTHE DOW CHEMICAL COMPANY, INC. (OPERATOR_ID 26086)\n",
      "\n",
      "\tTARGA DOWNSTREAM LLC (OPERATOR_ID 39823)\n",
      "\n"
     ]
    }
   ],
   "source": [
    "print(next(issues))"
   ]
  },
  {
   "cell_type": "markdown",
   "metadata": {},
   "source": [
    "### 8.2.55 Suncor"
   ]
  },
  {
   "cell_type": "code",
   "execution_count": 179,
   "metadata": {},
   "outputs": [
    {
     "name": "stdout",
     "output_type": "stream",
     "text": [
      "\n",
      "PORTLAND PIPE LINE CORPORATION (OPERATOR_ID 15786) has changed its name:\n",
      "\n",
      "\tWas named PORTLAND PIPE LINE CORPORATION from 2004 to 2018.\n",
      "\n",
      "\tWas named PORTLAND PIPELINE CORP from 2007 to 2011.\n",
      "\n",
      "PORTLAND PIPE LINE CORPORATION (OPERATOR_ID 15786) has the same parent company as:\n",
      "\n",
      "\tSUNCOR ENERGY (USA) PIPELINE CO. (OPERATOR_ID 31822)\n",
      "\n"
     ]
    }
   ],
   "source": [
    "print(next(issues))"
   ]
  },
  {
   "cell_type": "code",
   "execution_count": 180,
   "metadata": {},
   "outputs": [
    {
     "data": {
      "text/html": [
       "<div>\n",
       "<style scoped>\n",
       "    .dataframe tbody tr th:only-of-type {\n",
       "        vertical-align: middle;\n",
       "    }\n",
       "\n",
       "    .dataframe tbody tr th {\n",
       "        vertical-align: top;\n",
       "    }\n",
       "\n",
       "    .dataframe thead th {\n",
       "        text-align: right;\n",
       "    }\n",
       "</style>\n",
       "<table border=\"1\" class=\"dataframe\">\n",
       "  <thead>\n",
       "    <tr style=\"text-align: right;\">\n",
       "      <th></th>\n",
       "      <th>members</th>\n",
       "      <th>name</th>\n",
       "    </tr>\n",
       "  </thead>\n",
       "  <tbody>\n",
       "    <tr>\n",
       "      <th>123</th>\n",
       "      <td>15851</td>\n",
       "      <td>Delek (Group)</td>\n",
       "    </tr>\n",
       "    <tr>\n",
       "      <th>124</th>\n",
       "      <td>26061</td>\n",
       "      <td>Delek (Group)</td>\n",
       "    </tr>\n",
       "    <tr>\n",
       "      <th>125</th>\n",
       "      <td>26136</td>\n",
       "      <td>Delek (Group)</td>\n",
       "    </tr>\n",
       "    <tr>\n",
       "      <th>126</th>\n",
       "      <td>15786</td>\n",
       "      <td>Suncor (Group)</td>\n",
       "    </tr>\n",
       "    <tr>\n",
       "      <th>127</th>\n",
       "      <td>31822</td>\n",
       "      <td>Suncor (Group)</td>\n",
       "    </tr>\n",
       "  </tbody>\n",
       "</table>\n",
       "</div>"
      ],
      "text/plain": [
       "    members            name\n",
       "123   15851   Delek (Group)\n",
       "124   26061   Delek (Group)\n",
       "125   26136   Delek (Group)\n",
       "126   15786  Suncor (Group)\n",
       "127   31822  Suncor (Group)"
      ]
     },
     "execution_count": 180,
     "metadata": {},
     "output_type": "execute_result"
    }
   ],
   "source": [
    "company_groups = add_company_group('Suncor (Group)', ['15786', '31822'], company_groups)\n",
    "company_groups.tail()"
   ]
  },
  {
   "cell_type": "markdown",
   "metadata": {},
   "source": [
    "### 8.2.56 Arrow"
   ]
  },
  {
   "cell_type": "code",
   "execution_count": 181,
   "metadata": {},
   "outputs": [
    {
     "name": "stdout",
     "output_type": "stream",
     "text": [
      "\n",
      "ARROW PIPELINE (OPERATOR_ID 39083) has the same parent company as:\n",
      "\n",
      "\tCRESTWOOD MIDSTREAM PARTNERS LP (OPERATOR_ID 39368)\n",
      "\n"
     ]
    }
   ],
   "source": [
    "print(next(issues))"
   ]
  },
  {
   "cell_type": "code",
   "execution_count": 182,
   "metadata": {},
   "outputs": [
    {
     "name": "stdout",
     "output_type": "stream",
     "text": [
      "No organizations were renamed at any time.\n"
     ]
    }
   ],
   "source": [
    "report_names(['39083', '39368'])"
   ]
  },
  {
   "cell_type": "code",
   "execution_count": 183,
   "metadata": {},
   "outputs": [],
   "source": [
    "company_groups = add_company_group('Crestwood (Group)', ['39083', '39368'], company_groups)"
   ]
  },
  {
   "cell_type": "markdown",
   "metadata": {},
   "source": [
    "### 8.2.57 Torrance"
   ]
  },
  {
   "cell_type": "code",
   "execution_count": 184,
   "metadata": {},
   "outputs": [
    {
     "name": "stdout",
     "output_type": "stream",
     "text": [
      "\n",
      "TORRANCE VALLEY PIPELINE COMPANY LLC (OPERATOR_ID 39534) has the same parent company as:\n",
      "\n",
      "\tCOLLINS PIPELINE CO (OPERATOR_ID 26120)\n",
      "\n",
      "\tMOEM PIPELINE LLC (OPERATOR_ID 31167)\n",
      "\n",
      "\tTORRANCE PIPELINE COMPANY LLC (OPERATOR_ID 39535)\n",
      "\n"
     ]
    }
   ],
   "source": [
    "print(next(issues))"
   ]
  },
  {
   "cell_type": "code",
   "execution_count": 185,
   "metadata": {},
   "outputs": [
    {
     "name": "stdout",
     "output_type": "stream",
     "text": [
      "\n",
      "Organization 26120 has changed its name:\n",
      "    26120 was named Collins Pipeline Co from 2007 to 2018.\n",
      "    26120 was named Collins Pipeline Company from 2005 to 2006.\n",
      "    26120 was named Collins Pipeline Llc from 2004 to 2004.\n"
     ]
    }
   ],
   "source": [
    "report_names(['39534', '26120', '31167', '39535'])"
   ]
  },
  {
   "cell_type": "code",
   "execution_count": 186,
   "metadata": {},
   "outputs": [
    {
     "data": {
      "text/html": [
       "<div>\n",
       "<style scoped>\n",
       "    .dataframe tbody tr th:only-of-type {\n",
       "        vertical-align: middle;\n",
       "    }\n",
       "\n",
       "    .dataframe tbody tr th {\n",
       "        vertical-align: top;\n",
       "    }\n",
       "\n",
       "    .dataframe thead th {\n",
       "        text-align: right;\n",
       "    }\n",
       "</style>\n",
       "<table border=\"1\" class=\"dataframe\">\n",
       "  <thead>\n",
       "    <tr style=\"text-align: right;\">\n",
       "      <th></th>\n",
       "      <th>members</th>\n",
       "      <th>name</th>\n",
       "    </tr>\n",
       "  </thead>\n",
       "  <tbody>\n",
       "    <tr>\n",
       "      <th>129</th>\n",
       "      <td>39368</td>\n",
       "      <td>Crestwood (Group)</td>\n",
       "    </tr>\n",
       "    <tr>\n",
       "      <th>130</th>\n",
       "      <td>39534</td>\n",
       "      <td>Torrance (Group)</td>\n",
       "    </tr>\n",
       "    <tr>\n",
       "      <th>131</th>\n",
       "      <td>26120</td>\n",
       "      <td>Torrance (Group)</td>\n",
       "    </tr>\n",
       "    <tr>\n",
       "      <th>132</th>\n",
       "      <td>31167</td>\n",
       "      <td>Torrance (Group)</td>\n",
       "    </tr>\n",
       "    <tr>\n",
       "      <th>133</th>\n",
       "      <td>39535</td>\n",
       "      <td>Torrance (Group)</td>\n",
       "    </tr>\n",
       "  </tbody>\n",
       "</table>\n",
       "</div>"
      ],
      "text/plain": [
       "    members               name\n",
       "129   39368  Crestwood (Group)\n",
       "130   39534   Torrance (Group)\n",
       "131   26120   Torrance (Group)\n",
       "132   31167   Torrance (Group)\n",
       "133   39535   Torrance (Group)"
      ]
     },
     "execution_count": 186,
     "metadata": {},
     "output_type": "execute_result"
    }
   ],
   "source": [
    "company_groups = add_company_group('Torrance (Group)', ['39534', '26120', '31167', '39535'], company_groups)\n",
    "company_groups.tail()"
   ]
  },
  {
   "cell_type": "code",
   "execution_count": 187,
   "metadata": {},
   "outputs": [
    {
     "name": "stdout",
     "output_type": "stream",
     "text": [
      "\n",
      "CHS MCPHERSON REFINERY INC. (OPERATOR_ID 26065) has changed its name:\n",
      "\n",
      "\tWas named CHS MCPHERSON REFINERY INC. from 2015 to 2018.\n",
      "\n",
      "\tWas named NATIONAL COOP REFINERY ASSCO from 2007 to 2014.\n",
      "\n",
      "\tWas named NATIONAL COOPERATIVE  REFINERY ASSOCIATION  from 2004 to 2004.\n",
      "\n",
      "\tWas named NATIONAL COOPERATIVE REFINERY ASSOCIATION from 2004 to 2004.\n",
      "\n",
      "\tWas named NATIONAL COOPERATIVE REFINING ASSOCIATION (NCRA) from 2005 to 2006.\n",
      "\n"
     ]
    }
   ],
   "source": [
    "print(next(issues))"
   ]
  },
  {
   "cell_type": "code",
   "execution_count": 188,
   "metadata": {},
   "outputs": [
    {
     "name": "stdout",
     "output_type": "stream",
     "text": [
      "\n",
      "MARKWEST RANGER PIPELINE COMPANY, L.L.C. (OPERATOR_ID 26026) has changed its name:\n",
      "\n",
      "\tWas named MARKWEST ENERGY APPALACHIA, L.L.C. from 2005 to 2006.\n",
      "\n",
      "\tWas named MARKWEST ENERGY APPALACHIA, LLC from 2004 to 2010.\n",
      "\n",
      "\tWas named MARKWEST RANGER PIPELINE COMPANY, L.L.C. from 2012 to 2018.\n",
      "\n",
      "\tWas named MARKWEST RANGER PIPELINE COMPANY, LLC from 2011 to 2011.\n",
      "\n",
      "MARKWEST RANGER PIPELINE COMPANY, L.L.C. (OPERATOR_ID 26026) may have a namesake or namesakes:\n",
      "\n",
      "\tMARKWEST MICHIGAN PIPELINE, LLC (OPERATOR_ID 31871)\n",
      "\n",
      "\tMARKWEST-MICHIGAN PIPELINE COMPANY, L.L.C (OPERATOR_ID 31871)\n",
      "\n",
      "\tMARKWEST MICHIGAN PIPELINE COMPANY L.L.C (OPERATOR_ID 31871)\n",
      "\n",
      "\tMARKWEST LIBERTY MIDSTREAM & RESOURCES, LLC (OPERATOR_ID 32412)\n",
      "\n",
      "\tMARKWEST LIBERTY MIDSTREAM & RESOURCES, L.L.C. (OPERATOR_ID 32412)\n",
      "\n"
     ]
    }
   ],
   "source": [
    "print(next(issues))"
   ]
  },
  {
   "cell_type": "code",
   "execution_count": 189,
   "metadata": {},
   "outputs": [
    {
     "name": "stdout",
     "output_type": "stream",
     "text": [
      "\n",
      "BELLE FOURCHE PIPELINE CO (OPERATOR_ID 1248) has changed its name:\n",
      "\n",
      "\tWas named BELLE FOURCHE PIPELINE from 2004 to 2005.\n",
      "\n",
      "\tWas named BELLE FOURCHE PIPELINE CO from 2007 to 2018.\n",
      "\n",
      "\tWas named BELLE FOURCHE PIPELINE CO. from 2006 to 2006.\n",
      "\n"
     ]
    }
   ],
   "source": [
    "print(next(issues))"
   ]
  },
  {
   "cell_type": "code",
   "execution_count": 190,
   "metadata": {},
   "outputs": [
    {
     "name": "stdout",
     "output_type": "stream",
     "text": [
      "\n",
      "BP WEST COAST PRODUCTS L.L.C. (OPERATOR_ID 31610) has changed its name:\n",
      "\n",
      "\tWas named BP WEST COAST PRODUCTS L.L.C. from 2007 to 2012.\n",
      "\n",
      "\tWas named BP WESTCOAST PRODUCTS from 2005 to 2005.\n",
      "\n",
      "\tWas named BP WESTCOAST PRODUCTS L.L.C. from 2004 to 2004.\n",
      "\n",
      "\tWas named BP WESTCOAST PRODUCTS LLC from 2006 to 2006.\n",
      "\n",
      "BP WEST COAST PRODUCTS L.L.C. (OPERATOR_ID 31610) may have a namesake or namesakes:\n",
      "\n",
      "\tBP PIPELINES NORTH AMERICA INC. (OPERATOR_ID 395)\n",
      "\n",
      "\tBP PIPELINES N.A. (OPERATOR_ID 395)\n",
      "\n",
      "\tBP PIPELINES (NORTH AMERICA),  INC. (OPERATOR_ID 395)\n",
      "\n",
      "\tBP PIPELINES (NORTH AMERICA), INC. (OPERATOR_ID 395)\n",
      "\n",
      "\tBP PIPELINES NORTH AMERICA INC. (OPERATOR_ID 18386)\n",
      "\n",
      "\tBP PIPELINES N.A. (OPERATOR_ID 18386)\n",
      "\n",
      "\tBP PIPELINES (NORTH AMERICA), INC. (OPERATOR_ID 18386)\n",
      "\n",
      "\tBP PIPELINES NORTH AMERICA INC. (OPERATOR_ID 30781)\n",
      "\n",
      "\tBP PIPELINES N.A. (OPERATOR_ID 30781)\n",
      "\n",
      "\tBP PIPELINES (NORTH AMERICA), INC. (OPERATOR_ID 30781)\n",
      "\n",
      "\tBP PIPELINES NORTH AMERICA INC. (OPERATOR_ID 31189)\n",
      "\n",
      "\tBP PIPELINES N.A. (OPERATOR_ID 31189)\n",
      "\n",
      "\tBP PIPELINES (NORTH AMERICA), INC. (OPERATOR_ID 31189)\n",
      "\n",
      "\tBP (OPERATOR_ID 3466)\n",
      "\n",
      "\tBP CANADA ENERGY COMPANY (OPERATOR_ID 3466)\n",
      "\n",
      "\tBP PIPELINES NORTH AMERICA INC. (OPERATOR_ID 31270)\n",
      "\n",
      "\tBP PIPELINE (NORTH AMERICA), INC. (OPERATOR_ID 31270)\n",
      "\n",
      "\tBP PIPELINES (NORTH AMERICA), INC. (OPERATOR_ID 31270)\n",
      "\n",
      "\tBP PIPELINES NORTH AMERICA INC. (OPERATOR_ID 1466)\n",
      "\n",
      "\tBP PIPELINES N.A. (OPERATOR_ID 1466)\n",
      "\n",
      "\tBP PIPELINES (NORTH AMERICA), INC. (OPERATOR_ID 1466)\n",
      "\n",
      "\tBP PIPELINES NORTH AMERICA INC. (OPERATOR_ID 31549)\n",
      "\n"
     ]
    }
   ],
   "source": [
    "print(next(issues))"
   ]
  },
  {
   "cell_type": "code",
   "execution_count": 191,
   "metadata": {},
   "outputs": [
    {
     "name": "stdout",
     "output_type": "stream",
     "text": [
      "\n",
      "DOW PIPELINE CO - CAYUSE (OPERATOR_ID 2162) has changed its name:\n",
      "\n",
      "\tWas named DOW PIPELINE CO - CAYUSE from 2007 to 2018.\n",
      "\n",
      "\tWas named DOW PIPELINE COMPANY from 2004 to 2006.\n",
      "\n",
      "DOW PIPELINE CO - CAYUSE (OPERATOR_ID 2162) may have a namesake or namesakes:\n",
      "\n",
      "\tTHE DOW CHEMICAL COMPANY, INCORPORATED (OPERATOR_ID 3527)\n",
      "\n",
      "\tTHE DOW CHEMICAL COMPANY, INC. (OPERATOR_ID 3527)\n",
      "\n",
      "\tTHE DOW CHEMICAL COMPANY, INCORPORATED (OPERATOR_ID 3535)\n",
      "\n",
      "\tTHE DOW CHEMICAL COMPANY, INC. (OPERATOR_ID 3535)\n",
      "\n",
      "\tTHE DOW CHEMICAL COMPANY, INCORPORATED (OPERATOR_ID 26086)\n",
      "\n",
      "\tTHE DOW CHEMICAL COMPANY, INC. (OPERATOR_ID 26086)\n",
      "\n",
      "\tTARGA DOWNSTREAM LLC (OPERATOR_ID 39823)\n",
      "\n"
     ]
    }
   ],
   "source": [
    "print(next(issues))"
   ]
  },
  {
   "cell_type": "code",
   "execution_count": 192,
   "metadata": {},
   "outputs": [
    {
     "name": "stdout",
     "output_type": "stream",
     "text": [
      "\n",
      "BLACK LAKE PIPE LINE CO (OPERATOR_ID 1466) has changed its name:\n",
      "\n",
      "\tWas named BLACK LAKE PIPE LINE CO from 2007 to 2009.\n",
      "\n",
      "\tWas named BLACK LAKE PIPELINE from 2005 to 2006.\n",
      "\n",
      "\tWas named BLACK LAKE PIPELINE COMPANY from 2004 to 2004.\n",
      "\n"
     ]
    }
   ],
   "source": [
    "print(next(issues))"
   ]
  },
  {
   "cell_type": "code",
   "execution_count": 193,
   "metadata": {},
   "outputs": [
    {
     "name": "stdout",
     "output_type": "stream",
     "text": [
      "\n",
      "ASCEND PERFORMANCE MATERIALS TEXAS INC (OPERATOR_ID 31517) has changed its name:\n",
      "\n",
      "\tWas named ASCEND PERFORMANCE MATERIALS OPERATIONS LLC from 2012 to 2014.\n",
      "\n",
      "\tWas named ASCEND PERFORMANCE MATERIALS TEXAS INC from 2015 to 2016.\n",
      "\n",
      "\tWas named ASCEND PERFORMANCE MATERIALS, LLC from 2009 to 2011.\n",
      "\n",
      "\tWas named SOLUTIA INC from 2004 to 2005.\n",
      "\n",
      "\tWas named SOLUTIA, INC from 2006 to 2008.\n",
      "\n"
     ]
    }
   ],
   "source": [
    "print(next(issues))"
   ]
  },
  {
   "cell_type": "code",
   "execution_count": 194,
   "metadata": {},
   "outputs": [
    {
     "name": "stdout",
     "output_type": "stream",
     "text": [
      "\n",
      "SUNCOR ENERGY (USA) PIPELINE CO. (OPERATOR_ID 31822) has changed its name:\n",
      "\n",
      "\tWas named SUNCOR ENERGY (U.S.A.) PIPELINE COMPANY from 2006 to 2006.\n",
      "\n",
      "\tWas named SUNCOR ENERGY (USA) PIPELINE CO. from 2004 to 2018.\n",
      "\n",
      "\tWas named SUNCOR ENERGY (USA) PIPELINE COMPANY from 2005 to 2005.\n",
      "\n"
     ]
    }
   ],
   "source": [
    "print(next(issues))"
   ]
  },
  {
   "cell_type": "code",
   "execution_count": 195,
   "metadata": {},
   "outputs": [
    {
     "name": "stdout",
     "output_type": "stream",
     "text": [
      "\n",
      "WILLIAMS FIELD SERVICES - GULF COAST COMPANY, LP (OPERATOR_ID 994) has changed its name:\n",
      "\n",
      "\tWas named WILLIAMS FIELD SERVICES - GULF COAST COMPANT, L.P. from 2005 to 2005.\n",
      "\n",
      "\tWas named WILLIAMS FIELD SERVICES - GULF COAST COMPANY, L.P. from 2004 to 2006.\n",
      "\n",
      "\tWas named WILLIAMS FIELD SERVICES - GULF COAST COMPANY, LP from 2007 to 2018.\n",
      "\n"
     ]
    }
   ],
   "source": [
    "print(next(issues))"
   ]
  },
  {
   "cell_type": "code",
   "execution_count": 196,
   "metadata": {},
   "outputs": [
    {
     "name": "stdout",
     "output_type": "stream",
     "text": [
      "\n",
      "NAVAJO PIPELINE CO (OPERATOR_ID 13161) has changed its name:\n",
      "\n",
      "\tWas named NAVAJO PIPELINE CO from 2005 to 2007.\n",
      "\n",
      "\tWas named NAVAJO PIPELINE CO, LP from 2004 to 2004.\n",
      "\n",
      "\tWas named NAVAJO PIPELINE COMPANY from 2006 to 2006.\n",
      "\n",
      "NAVAJO PIPELINE CO (OPERATOR_ID 13161) may have a namesake or namesakes:\n",
      "\n",
      "\tNAVAJO NATION OIL AND GAS COMPANY (OPERATOR_ID 31663)\n",
      "\n",
      "\tNAVAJO NATION OIL & GAS CO. (OPERATOR_ID 31663)\n",
      "\n",
      "\tNAVAJO NATION OIL & OIL GAS CO. (OPERATOR_ID 31663)\n",
      "\n",
      "\tNAVAJO NATION OIL & GAS (OPERATOR_ID 31663)\n",
      "\n"
     ]
    }
   ],
   "source": [
    "print(next(issues))"
   ]
  },
  {
   "cell_type": "markdown",
   "metadata": {},
   "source": [
    "### 8.2.58 LDH"
   ]
  },
  {
   "cell_type": "code",
   "execution_count": 197,
   "metadata": {},
   "outputs": [
    {
     "name": "stdout",
     "output_type": "stream",
     "text": [
      "\n",
      "LDH ENERGY PIPELINE L.P. (OPERATOR_ID 32035) has changed its name:\n",
      "\n",
      "\tWas named LDH ENERGY PIPELINE L.P. from 2007 to 2010.\n",
      "\n",
      "\tWas named LOUIS DREYFUS PIPELINE L.P. from 2005 to 2006.\n",
      "\n",
      "\tWas named LOUIS DREYFUS PIPELINE LP  from 2004 to 2004.\n",
      "\n",
      "LDH ENERGY PIPELINE L.P. (OPERATOR_ID 32035) has the same parent company as:\n",
      "\n",
      "\tLDH ENERGY OLEFINS LLC (OPERATOR_ID 31673)\n",
      "\n",
      "\tLDH ENERGY MONT BELVIEU L.P. (OPERATOR_ID 32246)\n",
      "\n",
      "LDH ENERGY PIPELINE L.P. (OPERATOR_ID 32035) may have a namesake or namesakes:\n",
      "\n",
      "\tLDH ENERGY RESOURCES LLC (OPERATOR_ID 32246)\n",
      "\n",
      "\tBOARDWALK LOUISIANA MIDSTREAM, LLC (OPERATOR_ID 39138)\n",
      "\n",
      "\tLOUIS DREYFUS OLEFINS, LLC (OPERATOR_ID 31673)\n",
      "\n",
      "\tLOUIS DREYFUS OLEFINS LLC (OPERATOR_ID 31673)\n",
      "\n"
     ]
    }
   ],
   "source": [
    "print(next(issues))"
   ]
  },
  {
   "cell_type": "code",
   "execution_count": 198,
   "metadata": {},
   "outputs": [
    {
     "name": "stdout",
     "output_type": "stream",
     "text": [
      "\n",
      "Organization 32035 has changed its name:\n",
      "    32035 was named Ldh Energy Pipeline LP from 2007 to 2010.\n",
      "    32035 was named Louis Dreyfus Pipeline LP from 2005 to 2006.\n",
      "    32035 was named Louis Dreyfus Pipeline Lp  from 2004 to 2004.\n",
      "\n",
      "Organization 31673 has changed its name:\n",
      "    31673 was named Ldh Energy Olefins Llc from 2007 to 2010.\n",
      "    31673 was named Louis Dreyfus Olefins Llc from 2005 to 2006.\n"
     ]
    }
   ],
   "source": [
    "report_names(['32035', '31673', '32246'])"
   ]
  },
  {
   "cell_type": "markdown",
   "metadata": {},
   "source": [
    "Our notes don't indicate an M&A has taken place."
   ]
  },
  {
   "cell_type": "code",
   "execution_count": 199,
   "metadata": {},
   "outputs": [
    {
     "data": {
      "text/html": [
       "<div>\n",
       "<style scoped>\n",
       "    .dataframe tbody tr th:only-of-type {\n",
       "        vertical-align: middle;\n",
       "    }\n",
       "\n",
       "    .dataframe tbody tr th {\n",
       "        vertical-align: top;\n",
       "    }\n",
       "\n",
       "    .dataframe thead th {\n",
       "        text-align: right;\n",
       "    }\n",
       "</style>\n",
       "<table border=\"1\" class=\"dataframe\">\n",
       "  <thead>\n",
       "    <tr style=\"text-align: right;\">\n",
       "      <th></th>\n",
       "      <th>members</th>\n",
       "      <th>name</th>\n",
       "    </tr>\n",
       "  </thead>\n",
       "  <tbody>\n",
       "    <tr>\n",
       "      <th>132</th>\n",
       "      <td>31167</td>\n",
       "      <td>Torrance (Group)</td>\n",
       "    </tr>\n",
       "    <tr>\n",
       "      <th>133</th>\n",
       "      <td>39535</td>\n",
       "      <td>Torrance (Group)</td>\n",
       "    </tr>\n",
       "    <tr>\n",
       "      <th>134</th>\n",
       "      <td>32035</td>\n",
       "      <td>LDH Energy (Group)</td>\n",
       "    </tr>\n",
       "    <tr>\n",
       "      <th>135</th>\n",
       "      <td>31673</td>\n",
       "      <td>LDH Energy (Group)</td>\n",
       "    </tr>\n",
       "    <tr>\n",
       "      <th>136</th>\n",
       "      <td>32246</td>\n",
       "      <td>LDH Energy (Group)</td>\n",
       "    </tr>\n",
       "  </tbody>\n",
       "</table>\n",
       "</div>"
      ],
      "text/plain": [
       "    members                name\n",
       "132   31167    Torrance (Group)\n",
       "133   39535    Torrance (Group)\n",
       "134   32035  LDH Energy (Group)\n",
       "135   31673  LDH Energy (Group)\n",
       "136   32246  LDH Energy (Group)"
      ]
     },
     "execution_count": 199,
     "metadata": {},
     "output_type": "execute_result"
    }
   ],
   "source": [
    "company_groups = add_company_group('LDH Energy (Group)', ['32035', '31673', '32246'], company_groups)\n",
    "company_groups.tail()"
   ]
  },
  {
   "cell_type": "markdown",
   "metadata": {},
   "source": [
    "According to our notes, LDH has been acquired by JV between Energy Transfer Partners and Regency Energy Partners, controlled by ETP on May 2, 2011."
   ]
  },
  {
   "cell_type": "code",
   "execution_count": 200,
   "metadata": {},
   "outputs": [
    {
     "data": {
      "text/html": [
       "<div>\n",
       "<style scoped>\n",
       "    .dataframe tbody tr th:only-of-type {\n",
       "        vertical-align: middle;\n",
       "    }\n",
       "\n",
       "    .dataframe tbody tr th {\n",
       "        vertical-align: top;\n",
       "    }\n",
       "\n",
       "    .dataframe thead th {\n",
       "        text-align: right;\n",
       "    }\n",
       "</style>\n",
       "<table border=\"1\" class=\"dataframe\">\n",
       "  <thead>\n",
       "    <tr style=\"text-align: right;\">\n",
       "      <th></th>\n",
       "      <th>members</th>\n",
       "      <th>name</th>\n",
       "      <th>start_year</th>\n",
       "      <th>end_year</th>\n",
       "    </tr>\n",
       "  </thead>\n",
       "  <tbody>\n",
       "    <tr>\n",
       "      <th>32</th>\n",
       "      <td>22175</td>\n",
       "      <td>Targa (Group)</td>\n",
       "      <td>2006</td>\n",
       "      <td>NaN</td>\n",
       "    </tr>\n",
       "    <tr>\n",
       "      <th>33</th>\n",
       "      <td>Boardwalk (Group)</td>\n",
       "      <td>Boardwalk (Group)</td>\n",
       "      <td>2014</td>\n",
       "      <td>NaN</td>\n",
       "    </tr>\n",
       "    <tr>\n",
       "      <th>34</th>\n",
       "      <td>31554</td>\n",
       "      <td>Boardwalk (Group)</td>\n",
       "      <td>2014</td>\n",
       "      <td>NaN</td>\n",
       "    </tr>\n",
       "    <tr>\n",
       "      <th>35</th>\n",
       "      <td>Energy Transfer Partners (Group)</td>\n",
       "      <td>Energy Transfer Partners (Group)</td>\n",
       "      <td>2011</td>\n",
       "      <td>NaN</td>\n",
       "    </tr>\n",
       "    <tr>\n",
       "      <th>36</th>\n",
       "      <td>LDH Energy (Group)</td>\n",
       "      <td>Energy Transfer Partners (Group)</td>\n",
       "      <td>2011</td>\n",
       "      <td>NaN</td>\n",
       "    </tr>\n",
       "  </tbody>\n",
       "</table>\n",
       "</div>"
      ],
      "text/plain": [
       "                             members                              name  \\\n",
       "32                             22175                     Targa (Group)   \n",
       "33                 Boardwalk (Group)                 Boardwalk (Group)   \n",
       "34                             31554                 Boardwalk (Group)   \n",
       "35  Energy Transfer Partners (Group)  Energy Transfer Partners (Group)   \n",
       "36                LDH Energy (Group)  Energy Transfer Partners (Group)   \n",
       "\n",
       "   start_year end_year  \n",
       "32       2006      NaN  \n",
       "33       2014      NaN  \n",
       "34       2014      NaN  \n",
       "35       2011      NaN  \n",
       "36       2011      NaN  "
      ]
     },
     "execution_count": 200,
     "metadata": {},
     "output_type": "execute_result"
    }
   ],
   "source": [
    "m_as = add_m_a('Energy Transfer Partners (Group)', ['Energy Transfer Partners (Group)', 'LDH Energy (Group)'], m_as, start_year = '2011')\n",
    "m_as.tail()"
   ]
  },
  {
   "cell_type": "code",
   "execution_count": 201,
   "metadata": {},
   "outputs": [
    {
     "name": "stdout",
     "output_type": "stream",
     "text": [
      "\n",
      "MOTIVA ENTERPRISE LLC (OPERATOR_ID 30777) has changed its name:\n",
      "\n",
      "\tWas named MOTIVA ENTERPRISE LLC from 2004 to 2018.\n",
      "\n",
      "\tWas named MOTIVA ENTERPRISE LLC  from 2004 to 2004.\n",
      "\n",
      "\tWas named MOTIVA ENTERPRISES LLC from 2005 to 2005.\n",
      "\n",
      "\tWas named MOTIVA ENTERPRISES, LLC from 2006 to 2006.\n",
      "\n",
      "\tWas named Motiva Enterprises LLC from 2010 to 2010.\n",
      "\n",
      "\tWas named Motiva Enterprises LLC Convent Refinery from 2010 to 2010.\n",
      "\n"
     ]
    }
   ],
   "source": [
    "print(next(issues))"
   ]
  },
  {
   "cell_type": "code",
   "execution_count": 202,
   "metadata": {},
   "outputs": [
    {
     "name": "stdout",
     "output_type": "stream",
     "text": [
      "\n",
      "TEXAS EASTMAN DIVISION, EASTMAN CHEMICAL CO (OPERATOR_ID 26103) has changed its name:\n",
      "\n",
      "\tWas named TEXAS EASTMAN DIVISION from 2005 to 2006.\n",
      "\n",
      "\tWas named TEXAS EASTMAN DIVISION  from 2004 to 2004.\n",
      "\n",
      "\tWas named TEXAS EASTMAN DIVISION, EASTMAN CHEMICAL CO from 2007 to 2018.\n",
      "\n"
     ]
    }
   ],
   "source": [
    "print(next(issues))"
   ]
  },
  {
   "cell_type": "code",
   "execution_count": 203,
   "metadata": {},
   "outputs": [
    {
     "name": "stdout",
     "output_type": "stream",
     "text": [
      "\n",
      "COLLINS PIPELINE CO (OPERATOR_ID 26120) has changed its name:\n",
      "\n",
      "\tWas named COLLINS PIPELINE CO from 2007 to 2018.\n",
      "\n",
      "\tWas named COLLINS PIPELINE COMPANY from 2005 to 2006.\n",
      "\n",
      "\tWas named COLLINS PIPELINE LLC from 2004 to 2004.\n",
      "\n"
     ]
    }
   ],
   "source": [
    "print(next(issues))"
   ]
  },
  {
   "cell_type": "code",
   "execution_count": 204,
   "metadata": {},
   "outputs": [
    {
     "name": "stdout",
     "output_type": "stream",
     "text": [
      "\n",
      "HUNT CRUDE OIL SUPPLY CO (OPERATOR_ID 7660) has changed its name:\n",
      "\n",
      "\tWas named HUNT CRUDE OIL SUPPLY CO from 2007 to 2018.\n",
      "\n",
      "\tWas named HUNT CRUDE OIL SUPPLY COMPANY from 2004 to 2006.\n",
      "\n",
      "HUNT CRUDE OIL SUPPLY CO (OPERATOR_ID 7660) may have a namesake or namesakes:\n",
      "\n",
      "\tHUNT CRUDE OIL SUPPLY COMPANY (OPERATOR_ID 26048)\n",
      "\n"
     ]
    }
   ],
   "source": [
    "print(next(issues))"
   ]
  },
  {
   "cell_type": "code",
   "execution_count": 205,
   "metadata": {},
   "outputs": [
    {
     "name": "stdout",
     "output_type": "stream",
     "text": [
      "\n",
      "ENLINK NGL PIPELINE, LP (OPERATOR_ID 32107) has changed its name:\n",
      "\n",
      "\tWas named CROSSTEX NGL PIPELINE, L.P. from 2006 to 2012.\n",
      "\n",
      "\tWas named ENLINK NGL PIPELINE, LP from 2013 to 2016.\n",
      "\n"
     ]
    }
   ],
   "source": [
    "print(next(issues))"
   ]
  },
  {
   "cell_type": "code",
   "execution_count": 206,
   "metadata": {},
   "outputs": [
    {
     "name": "stdout",
     "output_type": "stream",
     "text": [
      "\n",
      "TRANSMONTAIGNE OPERATING COMPANY L.P. (OPERATOR_ID 30909) has changed its name:\n",
      "\n",
      "\tWas named TRANSMONTAIGNE OPERATING COMPANY L.P. from 2007 to 2018.\n",
      "\n",
      "\tWas named TRANSMONTAIGNE PRODUCT SERVICES INC  from 2004 to 2004.\n",
      "\n",
      "\tWas named TRANSMONTAIGNE PRODUCT SERVICES INC. from 2005 to 2005.\n",
      "\n",
      "\tWas named TRANSMONTAIGNE PRODUCT SERVICES, INC. from 2006 to 2006.\n",
      "\n",
      "\tWas named TRANSMONTAIGNE PRODUCTS SERVICES INC from 2007 to 2008.\n",
      "\n"
     ]
    }
   ],
   "source": [
    "print(next(issues))"
   ]
  },
  {
   "cell_type": "code",
   "execution_count": 207,
   "metadata": {},
   "outputs": [
    {
     "name": "stdout",
     "output_type": "stream",
     "text": [
      "\n",
      "COPANO NGL SERVICES (MARKHAM), LLC (OPERATOR_ID 32541) may have a namesake or namesakes:\n",
      "\n",
      "\tCOPANO NGL SERVICES, L.P. (OPERATOR_ID 32114)\n",
      "\n"
     ]
    }
   ],
   "source": [
    "print(next(issues))"
   ]
  },
  {
   "cell_type": "code",
   "execution_count": 208,
   "metadata": {},
   "outputs": [
    {
     "name": "stdout",
     "output_type": "stream",
     "text": [
      "\n",
      "MAGELLAN PIPELINES HOLDINGS, LP (OPERATOR_ID 31579) has changed its name:\n",
      "\n",
      "\tWas named MAGELLAN PIPELINES HOLDINGS, L.P. from 2005 to 2006.\n",
      "\n",
      "\tWas named MAGELLAN PIPELINES HOLDINGS, LP from 2004 to 2018.\n",
      "\n",
      "\tWas named Magellan Pipelines Holdings, L.P. from 2010 to 2010.\n",
      "\n",
      "MAGELLAN PIPELINES HOLDINGS, LP (OPERATOR_ID 31579) may have a namesake or namesakes:\n",
      "\n",
      "\tMagellan Ammonia Pipeline, L.P. (OPERATOR_ID 12105)\n",
      "\n",
      "\tMagellan Pipeline Company, L.P. (OPERATOR_ID 22610)\n",
      "\n",
      "\tMAGELLAN PIPELINE COMPANY, LLC (OPERATOR_ID 22610)\n",
      "\n",
      "\tMAGELLAN PIPELINE COMPANY, L.P. (OPERATOR_ID 22610)\n",
      "\n"
     ]
    }
   ],
   "source": [
    "print(next(issues))"
   ]
  },
  {
   "cell_type": "code",
   "execution_count": 209,
   "metadata": {},
   "outputs": [
    {
     "name": "stdout",
     "output_type": "stream",
     "text": [
      "\n",
      "DELEK MARKETING AND SUPPLY, LP (OPERATOR_ID 15851) has changed its name:\n",
      "\n",
      "\tWas named DELEK MARKETING & SUPPLY, LP from 2006 to 2006.\n",
      "\n",
      "\tWas named DELEK MARKETING AND SUPPLY, LP from 2007 to 2018.\n",
      "\n",
      "\tWas named PRIDE REFINING, INC. from 2004 to 2005.\n",
      "\n",
      "DELEK MARKETING AND SUPPLY, LP (OPERATOR_ID 15851) may have a namesake or namesakes:\n",
      "\n",
      "\tDELEK PIPELINE TEXAS, INC (OPERATOR_ID 26061)\n",
      "\n",
      "\tDELEK PIPELINE TEXAS, INC. (OPERATOR_ID 26061)\n",
      "\n",
      "\tDELEK US HOLDINGS (OPERATOR_ID 26061)\n",
      "\n",
      "\tDELEK U.S. HOLDINGS (OPERATOR_ID 26061)\n",
      "\n"
     ]
    }
   ],
   "source": [
    "print(next(issues))"
   ]
  },
  {
   "cell_type": "code",
   "execution_count": 210,
   "metadata": {},
   "outputs": [
    {
     "name": "stdout",
     "output_type": "stream",
     "text": [
      "\n",
      "DELEK CRUDE LOGISTICS, LLC. (OPERATOR_ID 26061) has changed its name:\n",
      "\n",
      "\tWas named DELEK CRUDE LOGISTICS, LLC. from 2013 to 2018.\n",
      "\n",
      "\tWas named DELEK PIPELINE TEXAS, INC from 2006 to 2012.\n",
      "\n",
      "\tWas named DELEK PIPELINE TEXAS, INC. from 2004 to 2007.\n",
      "\n",
      "\tWas named MCMURREY PIPELINE CO from 2008 to 2008.\n",
      "\n",
      "DELEK CRUDE LOGISTICS, LLC. (OPERATOR_ID 26061) may have a namesake or namesakes:\n",
      "\n",
      "\tDELEK MARKETING & SUPPLY, LP (OPERATOR_ID 15851)\n",
      "\n"
     ]
    }
   ],
   "source": [
    "print(next(issues))"
   ]
  },
  {
   "cell_type": "code",
   "execution_count": 211,
   "metadata": {},
   "outputs": [
    {
     "name": "stdout",
     "output_type": "stream",
     "text": [
      "\n",
      "PREMCOR P A PIPELINE COMPANY (OPERATOR_ID 31415) may have a namesake or namesakes:\n",
      "\n",
      "\tTHE PREMCOR REFINING GROUP, INC (OPERATOR_ID 31742)\n",
      "\n",
      "\tTHE PREMCOR REFINING GROUP INC (OPERATOR_ID 31742)\n",
      "\n"
     ]
    }
   ],
   "source": [
    "print(next(issues))"
   ]
  },
  {
   "cell_type": "code",
   "execution_count": 212,
   "metadata": {},
   "outputs": [
    {
     "name": "stdout",
     "output_type": "stream",
     "text": [
      "\n",
      "TAMPA BAY PIPELINE CO. (OPERATOR_ID 26099) has changed its name:\n",
      "\n",
      "\tWas named TAMPA BAY PIPELINE CO. from 2007 to 2018.\n",
      "\n",
      "\tWas named TAMPA BAY PIPELINE COMPANY from 2005 to 2006.\n",
      "\n"
     ]
    }
   ],
   "source": [
    "print(next(issues))"
   ]
  },
  {
   "cell_type": "code",
   "execution_count": 213,
   "metadata": {},
   "outputs": [
    {
     "name": "stdout",
     "output_type": "stream",
     "text": [
      "\n",
      "GENESIS PIPELINE TEXAS, L.P. (OPERATOR_ID 32407) may have a namesake or namesakes:\n",
      "\n",
      "\tGENESIS PIPELINE USA, L.P. (OPERATOR_ID 31045)\n",
      "\n",
      "\tGENESIS PIPELINE TEXAS LP (OPERATOR_ID 31045)\n",
      "\n",
      "\tGENESIS CO2 PIPELINE, L. P. (OPERATOR_ID 31045)\n",
      "\n",
      "\tGENESIS CRUDE OIL LP (OPERATOR_ID 31045)\n",
      "\n"
     ]
    }
   ],
   "source": [
    "print(next(issues))"
   ]
  },
  {
   "cell_type": "code",
   "execution_count": 214,
   "metadata": {},
   "outputs": [
    {
     "name": "stdout",
     "output_type": "stream",
     "text": [
      "\n",
      "FRONT RANGE PIPELINE, LLC. (OPERATOR_ID 32283) has changed its name:\n",
      "\n",
      "\tWas named FRONT RANGE PIPELINE LLC from 2004 to 2004.\n",
      "\n",
      "\tWas named FRONT RANGE PIPELINE, LLC from 2005 to 2007.\n",
      "\n",
      "\tWas named FRONT RANGE PIPELINE, LLC. from 2008 to 2018.\n",
      "\n"
     ]
    }
   ],
   "source": [
    "print(next(issues))"
   ]
  },
  {
   "cell_type": "code",
   "execution_count": 215,
   "metadata": {},
   "outputs": [
    {
     "name": "stdout",
     "output_type": "stream",
     "text": [
      "\n",
      "GLASS MOUNTAIN PIPELINE (OPERATOR_ID 39080) has the same parent company as:\n",
      "\n",
      "\tGLASS MOUNTAIN PIPELINE, LLC (OPERATOR_ID 39774)\n",
      "\n"
     ]
    }
   ],
   "source": [
    "print(next(issues))"
   ]
  },
  {
   "cell_type": "markdown",
   "metadata": {},
   "source": [
    "### 8.2.59 Glass Mountain"
   ]
  },
  {
   "cell_type": "code",
   "execution_count": 216,
   "metadata": {},
   "outputs": [
    {
     "name": "stdout",
     "output_type": "stream",
     "text": [
      "\n",
      "GLASS MOUNTAIN PIPELINE, LLC (OPERATOR_ID 39774) has changed its name:\n",
      "\n",
      "\tWas named GLASS MOUNTAIN PIPELINE, LLC from 2018 to 2018.\n",
      "\n",
      "\tWas named NAVIGATOR ENERGY SERVICES, LLC from 2017 to 2017.\n",
      "\n"
     ]
    }
   ],
   "source": [
    "print(next(issues))"
   ]
  },
  {
   "cell_type": "code",
   "execution_count": 217,
   "metadata": {},
   "outputs": [
    {
     "data": {
      "text/plain": [
       "[[2015, 72.5], [2016, 98.83], [2017, 0.0], [2018, 0.0], [2019, 0.0]]"
      ]
     },
     "execution_count": 217,
     "metadata": {},
     "output_type": "execute_result"
    }
   ],
   "source": [
    "find_total_miles('39080', range(2015, 2020))"
   ]
  },
  {
   "cell_type": "code",
   "execution_count": 218,
   "metadata": {},
   "outputs": [
    {
     "data": {
      "text/plain": [
       "[[2015, 0.0], [2016, 0.0], [2017, 98.83], [2018, 79.35], [2019, 0.0]]"
      ]
     },
     "execution_count": 218,
     "metadata": {},
     "output_type": "execute_result"
    }
   ],
   "source": [
    "find_total_miles('39774', range(2015, 2020))"
   ]
  },
  {
   "cell_type": "code",
   "execution_count": 219,
   "metadata": {},
   "outputs": [
    {
     "name": "stdout",
     "output_type": "stream",
     "text": [
      "\n",
      "Organization 39774 has changed its name:\n",
      "    39774 was named Glass Mountain Pipeline Llc from 2018 to 2018.\n",
      "    39774 was named Navigator Energy Services Llc from 2017 to 2017.\n"
     ]
    }
   ],
   "source": [
    "report_names(['39080', '39774'])"
   ]
  },
  {
   "cell_type": "markdown",
   "metadata": {},
   "source": [
    "LexisNexis does not indicate who the owner of Glass Mountain is, but shows that Navigator Energy was acquired by NuStar on May 4, 2017 (Deal Number 3004179). Since the two IDs obviously refer to the same organization, and this organization did not then continue reporting as part of NuStar, there is nothing we need to do other than group them together."
   ]
  },
  {
   "cell_type": "code",
   "execution_count": 220,
   "metadata": {},
   "outputs": [
    {
     "data": {
      "text/html": [
       "<div>\n",
       "<style scoped>\n",
       "    .dataframe tbody tr th:only-of-type {\n",
       "        vertical-align: middle;\n",
       "    }\n",
       "\n",
       "    .dataframe tbody tr th {\n",
       "        vertical-align: top;\n",
       "    }\n",
       "\n",
       "    .dataframe thead th {\n",
       "        text-align: right;\n",
       "    }\n",
       "</style>\n",
       "<table border=\"1\" class=\"dataframe\">\n",
       "  <thead>\n",
       "    <tr style=\"text-align: right;\">\n",
       "      <th></th>\n",
       "      <th>members</th>\n",
       "      <th>name</th>\n",
       "    </tr>\n",
       "  </thead>\n",
       "  <tbody>\n",
       "    <tr>\n",
       "      <th>134</th>\n",
       "      <td>32035</td>\n",
       "      <td>LDH Energy (Group)</td>\n",
       "    </tr>\n",
       "    <tr>\n",
       "      <th>135</th>\n",
       "      <td>31673</td>\n",
       "      <td>LDH Energy (Group)</td>\n",
       "    </tr>\n",
       "    <tr>\n",
       "      <th>136</th>\n",
       "      <td>32246</td>\n",
       "      <td>LDH Energy (Group)</td>\n",
       "    </tr>\n",
       "    <tr>\n",
       "      <th>137</th>\n",
       "      <td>39080</td>\n",
       "      <td>Glass Mountain (Group)</td>\n",
       "    </tr>\n",
       "    <tr>\n",
       "      <th>138</th>\n",
       "      <td>39774</td>\n",
       "      <td>Glass Mountain (Group)</td>\n",
       "    </tr>\n",
       "  </tbody>\n",
       "</table>\n",
       "</div>"
      ],
      "text/plain": [
       "    members                    name\n",
       "134   32035      LDH Energy (Group)\n",
       "135   31673      LDH Energy (Group)\n",
       "136   32246      LDH Energy (Group)\n",
       "137   39080  Glass Mountain (Group)\n",
       "138   39774  Glass Mountain (Group)"
      ]
     },
     "execution_count": 220,
     "metadata": {},
     "output_type": "execute_result"
    }
   ],
   "source": [
    "company_groups = add_company_group('Glass Mountain (Group)', ['39080', '39774'], company_groups)\n",
    "company_groups.tail()"
   ]
  },
  {
   "cell_type": "code",
   "execution_count": 221,
   "metadata": {},
   "outputs": [
    {
     "name": "stdout",
     "output_type": "stream",
     "text": [
      "\n",
      "KINDER MORGAN LIQUID TERMINALS, LLC (OPERATOR_ID 26041) has changed its name:\n",
      "\n",
      "\tWas named ICPT, LLC from 2006 to 2006.\n",
      "\n",
      "\tWas named KINDER MORGAN LIQUID TERMINAL, LLC (WEST COAST TERMINALS) from 2005 to 2006.\n",
      "\n",
      "\tWas named KINDER MORGAN LIQUID TERMINALS LLC (WEST COAST TERMINALS) from 2005 to 2005.\n",
      "\n",
      "\tWas named KINDER MORGAN LIQUID TERMINALS, LLC from 2007 to 2018.\n",
      "\n",
      "\tWas named KINDER MORGAN LIQUIDS TERMINALS LLC from 2005 to 2005.\n",
      "\n",
      "\tWas named KINDER MORGAN LIQUIDS TERMINALS LLC (WEST COAST TERMINALS) from 2006 to 2006.\n",
      "\n",
      "\tWas named KINDER MORGAN LIQUIDS TERMINALS, L.P. from 2006 to 2006.\n",
      "\n",
      "\tWas named KINDER MORGAN LIQUIDS TERMINALS, LLC from 2004 to 2006.\n",
      "\n",
      "\tWas named KINDER MORGAN T. GABRIEL from 2005 to 2005.\n",
      "\n",
      "\tWas named KM LIQUIDS TERMINALS, L.P. from 2004 to 2005.\n",
      "\n",
      "KINDER MORGAN LIQUID TERMINALS, LLC (OPERATOR_ID 26041) may have a namesake or namesakes:\n",
      "\n",
      "\tKINDER MORGAN ENERGY PARTNERS, L.P. (OPERATOR_ID 4472)\n",
      "\n",
      "\tKINDER MORGAN CANADA INC. (OPERATOR_ID 19585)\n",
      "\n",
      "\tKINDER MORGAN CANAADA INC. (OPERATOR_ID 19585)\n",
      "\n",
      "\tKINDER MORGAN CANADA INC.  (OPERATOR_ID 19585)\n",
      "\n",
      "\tKINDER MORGAN PIPELINES (USA) INC (OPERATOR_ID 31720)\n",
      "\n",
      "\tKINDER MORGAN CANADA INC. (OPERATOR_ID 31720)\n",
      "\n",
      "\tKINDER MORGAN CANADA, INC. (OPERATOR_ID 31720)\n",
      "\n",
      "\tKINDER MORGAN CANADA INC.  (OPERATOR_ID 31720)\n",
      "\n",
      "\tKINDER MORGAN WINK PIPELINE LLC (OPERATOR_ID 31957)\n",
      "\n",
      "\tKINDER MORGAN WINK PIPELINE LP (OPERATOR_ID 31957)\n",
      "\n",
      "\tKINDER MORGAN WINK PIPELINE, LP (OPERATOR_ID 31957)\n",
      "\n",
      "\tKINDER MORGAN COCHIN LLC (OPERATOR_ID 32258)\n",
      "\n",
      "\tKINDER MORGAN CRUDE AND CONDENSATE LLC (OPERATOR_ID 32678)\n",
      "\n",
      "\tKINDER MORGAN UTOPIA LLC (OPERATOR_ID 39518)\n",
      "\n"
     ]
    }
   ],
   "source": [
    "print(next(issues))"
   ]
  },
  {
   "cell_type": "code",
   "execution_count": 222,
   "metadata": {},
   "outputs": [
    {
     "name": "stdout",
     "output_type": "stream",
     "text": [
      "\n",
      "ENBRIDGE PIPELINES (TOLEDO) INC (OPERATOR_ID 31448) has changed its name:\n",
      "\n",
      "\tWas named ENBRIDGE PIPELINES (TOLEDO) INC from 2007 to 2018.\n",
      "\n",
      "\tWas named ENBRIDGE PIPELINES (TOLEDO) INC  from 2004 to 2004.\n",
      "\n",
      "\tWas named ENBRIDGE PIPELINES (TOLEDO) INC. from 2005 to 2006.\n",
      "\n",
      "ENBRIDGE PIPELINES (TOLEDO) INC (OPERATOR_ID 31448) may have a namesake or namesakes:\n",
      "\n",
      "\tENBRIDGE ENERGY PARTNERS, LP (OPERATOR_ID 11169)\n",
      "\n",
      "\tENBRIDGE ENERGY PARTNERS, LP  (OPERATOR_ID 11169)\n",
      "\n",
      "\tENBRIDGE ENERGY PARTNERS, L.P. (OPERATOR_ID 11169)\n",
      "\n",
      "\tENBRIDGE ENERGY PARTNERS, L..P. (OPERATOR_ID 11169)\n",
      "\n",
      "\tENBRIDGE PIPELINES (NORTH DAKOTA) LLC (OPERATOR_ID 15774)\n",
      "\n",
      "\tENBRIDGE ENERGY PARTNERS, LP (OPERATOR_ID 15774)\n",
      "\n",
      "\tENBRIDGE ENERGY PARTNERS, L.P. (OPERATOR_ID 15774)\n",
      "\n",
      "\tENBRIDGE ENERGY PARTNERS, LP (OPERATOR_ID 31947)\n",
      "\n",
      "\tENBRIDGE ENERGY PARTNERS, L.P. (OPERATOR_ID 31947)\n",
      "\n",
      "\tENBRIDGE ENERGY COMPANY INC. (OPERATOR_ID 32080)\n",
      "\n",
      "\tENBRIDGE ENERGY COMPANY, INC. (OPERATOR_ID 32080)\n",
      "\n"
     ]
    }
   ],
   "source": [
    "print(next(issues))"
   ]
  },
  {
   "cell_type": "code",
   "execution_count": 223,
   "metadata": {},
   "outputs": [
    {
     "name": "stdout",
     "output_type": "stream",
     "text": [
      "\n",
      "NAVAJO NATION OIL AND GAS COMPANY (OPERATOR_ID 31663) has changed its name:\n",
      "\n",
      "\tWas named NAVAJO NATION OIL AND GAS COMPANY from 2007 to 2018.\n",
      "\n",
      "\tWas named RUNNING HORSE PIPELINE from 2004 to 2006.\n",
      "\n",
      "NAVAJO NATION OIL AND GAS COMPANY (OPERATOR_ID 31663) may have a namesake or namesakes:\n",
      "\n",
      "\tNAVAJO PIPELINE CO (OPERATOR_ID 13161)\n",
      "\n",
      "\tNAVAJO PIPELINE COMPANY (OPERATOR_ID 13161)\n",
      "\n"
     ]
    }
   ],
   "source": [
    "print(next(issues))"
   ]
  },
  {
   "cell_type": "code",
   "execution_count": 224,
   "metadata": {},
   "outputs": [
    {
     "name": "stdout",
     "output_type": "stream",
     "text": [
      "\n",
      "PACIFIC MARKETING AND TRANSPORTATION LLC (OPERATOR_ID 31695) has changed its name:\n",
      "\n",
      "\tWas named PACIFIC MARKETING & TRANSPORTATION  LLC from 2006 to 2006.\n",
      "\n",
      "\tWas named PACIFIC MARKETING AND TRANSPORTATION LLC from 2005 to 2007.\n",
      "\n",
      "\tWas named PACIFIC MARKETING AND TRANSPORTATION LLC  from 2004 to 2004.\n",
      "\n",
      "PACIFIC MARKETING AND TRANSPORTATION LLC (OPERATOR_ID 31695) may have a namesake or namesakes:\n",
      "\n",
      "\tMOBIL PACIFIC PIPELINE CO (OPERATOR_ID 30005)\n",
      "\n",
      "\tMOBIL PACIFIC PIPELINE COMPANY (OPERATOR_ID 30005)\n",
      "\n",
      "\tMOBIL PACIFIC PIPELINE (OPERATOR_ID 30005)\n",
      "\n",
      "\tPACIFIC ENERGY PARTNER, LP (OPERATOR_ID 5656)\n",
      "\n",
      "\tPACIFIC ENERGY GROUP, LLC (OPERATOR_ID 5656)\n",
      "\n",
      "\tPACIFIC ENERGY PARTNER, LP (OPERATOR_ID 30968)\n",
      "\n",
      "\tPACIFIC ENERGY GROUP, LLC (OPERATOR_ID 30968)\n",
      "\n",
      "\tPACIFIC ENERGY GROUP LLC  (OPERATOR_ID 31325)\n",
      "\n",
      "\tPACIFIC ENERGY PARTNER, LP (OPERATOR_ID 31325)\n",
      "\n",
      "\tPACIFIC ENERGY GROUP, LLC (OPERATOR_ID 31325)\n",
      "\n",
      "\tPACIFIC ENERGY PARTNERS, LP (OPERATOR_ID 31666)\n",
      "\n",
      "\tPACIFIC ENERGY PARTNER, LP (OPERATOR_ID 31666)\n",
      "\n",
      "\tPACIFIC ENERGY GROUP, LLC (OPERATOR_ID 31666)\n",
      "\n",
      "\tPACIFIC ENERGY GROUP LLC  (OPERATOR_ID 31885)\n",
      "\n",
      "\tPACIFIC ENERGY PARTNER, LP (OPERATOR_ID 31885)\n",
      "\n"
     ]
    }
   ],
   "source": [
    "print(next(issues))"
   ]
  },
  {
   "cell_type": "code",
   "execution_count": 225,
   "metadata": {},
   "outputs": [
    {
     "name": "stdout",
     "output_type": "stream",
     "text": [
      "\n",
      "KINDER MORGAN WINK PIPELINE LLC (OPERATOR_ID 31957) has changed its name:\n",
      "\n",
      "\tWas named KINDER MORGAN WINK PIPELINE LLC from 2010 to 2018.\n",
      "\n",
      "\tWas named KINDER MORGAN WINK PIPELINE LP from 2004 to 2014.\n",
      "\n",
      "\tWas named KINDER MORGAN WINK PIPELINE, LP from 2006 to 2006.\n",
      "\n",
      "KINDER MORGAN WINK PIPELINE LLC (OPERATOR_ID 31957) may have a namesake or namesakes:\n",
      "\n",
      "\tKINDER MORGAN ENERGY PARTNERS, L.P. (OPERATOR_ID 4472)\n",
      "\n",
      "\tKINDER MORGAN CANADA INC. (OPERATOR_ID 19585)\n",
      "\n",
      "\tKINDER MORGAN CANAADA INC. (OPERATOR_ID 19585)\n",
      "\n",
      "\tKINDER MORGAN CANADA INC.  (OPERATOR_ID 19585)\n",
      "\n",
      "\tKINDER MORGAN LIQUID TERMINALS, LLC (OPERATOR_ID 26041)\n",
      "\n",
      "\tKINDER MORGAN, INC (OPERATOR_ID 26041)\n",
      "\n",
      "\tKINDER MORGAN LIQUID TERMINAL, LLC (WEST COAST TERMINALS) (OPERATOR_ID 26041)\n",
      "\n",
      "\tKINDER MORGAN LIQUIDS TERMINALS LLC (OPERATOR_ID 26041)\n",
      "\n",
      "\tKINDER MORGAN LIQUIDS TERMINALS, L.P. (OPERATOR_ID 26041)\n",
      "\n",
      "\tKINDER MORGAN PIPELINES (USA) INC (OPERATOR_ID 31720)\n",
      "\n",
      "\tKINDER MORGAN CANADA INC. (OPERATOR_ID 31720)\n",
      "\n",
      "\tKINDER MORGAN CANADA, INC. (OPERATOR_ID 31720)\n",
      "\n",
      "\tKINDER MORGAN CANADA INC.  (OPERATOR_ID 31720)\n",
      "\n"
     ]
    }
   ],
   "source": [
    "print(next(issues))"
   ]
  },
  {
   "cell_type": "code",
   "execution_count": 226,
   "metadata": {},
   "outputs": [
    {
     "name": "stdout",
     "output_type": "stream",
     "text": [
      "\n",
      "HARBOR PIPELINE CO (OPERATOR_ID 7063) has changed its name:\n",
      "\n",
      "\tWas named HARBOR PIPELINE from 2006 to 2006.\n",
      "\n",
      "\tWas named HARBOR PIPELINE (OPERATED BY SUNOCO PIPELINE L.P.) from 2004 to 2005.\n",
      "\n",
      "\tWas named HARBOR PIPELINE CO from 2007 to 2018.\n",
      "\n"
     ]
    }
   ],
   "source": [
    "print(next(issues))"
   ]
  },
  {
   "cell_type": "code",
   "execution_count": 227,
   "metadata": {},
   "outputs": [
    {
     "name": "stdout",
     "output_type": "stream",
     "text": [
      "\n",
      "PACIFIC PIPELINE SYSTEM LLC (OPERATOR_ID 31885) has changed its name:\n",
      "\n",
      "\tWas named PACIFIC PIPELINE SYSTEM LLC from 2005 to 2010.\n",
      "\n",
      "\tWas named PACIFIC TERMINALS  LLC from 2006 to 2006.\n",
      "\n",
      "\tWas named PACIFIC TERMINALS LLC from 2007 to 2008.\n",
      "\n",
      "\tWas named PACIFIC TERMINALS LLC  from 2004 to 2004.\n",
      "\n"
     ]
    }
   ],
   "source": [
    "print(next(issues))"
   ]
  },
  {
   "cell_type": "code",
   "execution_count": 228,
   "metadata": {},
   "outputs": [
    {
     "name": "stdout",
     "output_type": "stream",
     "text": [
      "\n",
      "OILTANKING, HOUSTON LP (OPERATOR_ID 14194) has changed its name:\n",
      "\n",
      "\tWas named OIL TANKING HOUSTON, L.P. from 2005 to 2005.\n",
      "\n",
      "\tWas named OILTANKING HOUSTON, L.P. from 2006 to 2006.\n",
      "\n",
      "\tWas named OILTANKING HOUSTON, LP from 2004 to 2004.\n",
      "\n",
      "\tWas named OILTANKING, HOUSTON LP from 2007 to 2018.\n",
      "\n"
     ]
    }
   ],
   "source": [
    "print(next(issues))"
   ]
  },
  {
   "cell_type": "code",
   "execution_count": 229,
   "metadata": {},
   "outputs": [
    {
     "name": "stdout",
     "output_type": "stream",
     "text": [
      "\n",
      "WESTERN REFINING SOUTHWEST, INC (OPERATOR_ID 2371) has changed its name:\n",
      "\n",
      "\tWas named CINIZA PIPE LINE from 2004 to 2004.\n",
      "\n",
      "\tWas named CINIZA PIPE LINE  from 2005 to 2005.\n",
      "\n",
      "\tWas named CINIZA PIPE LINE COMPANY from 2006 to 2006.\n",
      "\n",
      "\tWas named CINIZA PIPELINE  from 2005 to 2005.\n",
      "\n",
      "\tWas named WESTERN REFINING SOUTHWEST, INC from 2007 to 2017.\n",
      "\n",
      "WESTERN REFINING SOUTHWEST, INC (OPERATOR_ID 2371) may have a namesake or namesakes:\n",
      "\n",
      "\tWESTERN REFINING PIPELINE, LLC (OPERATOR_ID 31574)\n",
      "\n",
      "\tWESTERN REFINING PIPELINE COMPANY (OPERATOR_ID 31574)\n",
      "\n",
      "\tWESTERN REFINING LOGISTICS, LP (OPERATOR_ID 31574)\n",
      "\n",
      "\tWESTERN REFINING INC. (OPERATOR_ID 31574)\n",
      "\n"
     ]
    }
   ],
   "source": [
    "print(next(issues))"
   ]
  },
  {
   "cell_type": "code",
   "execution_count": 230,
   "metadata": {},
   "outputs": [
    {
     "name": "stdout",
     "output_type": "stream",
     "text": [
      "\n",
      "CITGO REFINING & CHEMICAL CO. L.P. (OPERATOR_ID 31023) may have a namesake or namesakes:\n",
      "\n",
      "\tCITGO PETROLEUM  (OPERATOR_ID 2387)\n",
      "\n",
      "\tCITGO PETROLEUM (OPERATOR_ID 2387)\n",
      "\n",
      "\tCITGO PETROLEUM (OPERATOR_ID 30755)\n",
      "\n"
     ]
    }
   ],
   "source": [
    "print(next(issues))"
   ]
  },
  {
   "cell_type": "code",
   "execution_count": 231,
   "metadata": {},
   "outputs": [
    {
     "name": "stdout",
     "output_type": "stream",
     "text": [
      "\n",
      "COPANO NGL SERVICES LLC (OPERATOR_ID 32114) has changed its name:\n",
      "\n",
      "\tWas named COPANO NGL SERVICES LLC from 2013 to 2018.\n",
      "\n",
      "\tWas named COPANO NGL SERVICES, L.P. from 2005 to 2012.\n",
      "\n"
     ]
    }
   ],
   "source": [
    "print(next(issues))"
   ]
  },
  {
   "cell_type": "code",
   "execution_count": 232,
   "metadata": {},
   "outputs": [
    {
     "name": "stdout",
     "output_type": "stream",
     "text": [
      "\n",
      "ONEOK FIELD SERVICES  (OPERATOR_ID 30629) may have a namesake or namesakes:\n",
      "\n",
      "\tONEOK NGL PIPELINE LP (OPERATOR_ID 32109)\n",
      "\n",
      "\tONEOK INC (OPERATOR_ID 32109)\n",
      "\n"
     ]
    }
   ],
   "source": [
    "print(next(issues))"
   ]
  },
  {
   "cell_type": "code",
   "execution_count": 233,
   "metadata": {},
   "outputs": [
    {
     "name": "stdout",
     "output_type": "stream",
     "text": [
      "\n",
      "LDH ENERGY OLEFINS LLC (OPERATOR_ID 31673) has changed its name:\n",
      "\n",
      "\tWas named LDH ENERGY OLEFINS LLC from 2007 to 2010.\n",
      "\n",
      "\tWas named LOUIS DREYFUS OLEFINS LLC from 2006 to 2006.\n",
      "\n",
      "\tWas named LOUIS DREYFUS OLEFINS, LLC from 2005 to 2005.\n",
      "\n",
      "LDH ENERGY OLEFINS LLC (OPERATOR_ID 31673) may have a namesake or namesakes:\n",
      "\n",
      "\tLDH ENERGY RESOURCES LLC (OPERATOR_ID 32246)\n",
      "\n",
      "\tBOARDWALK LOUISIANA MIDSTREAM, LLC (OPERATOR_ID 39138)\n",
      "\n",
      "\tLOUIS DREYFUS PIPELINE LP  (OPERATOR_ID 32035)\n",
      "\n",
      "\tLOUIS DREYFUS PIPELINE L.P. (OPERATOR_ID 32035)\n",
      "\n"
     ]
    }
   ],
   "source": [
    "print(next(issues))"
   ]
  },
  {
   "cell_type": "code",
   "execution_count": 234,
   "metadata": {},
   "outputs": [
    {
     "name": "stdout",
     "output_type": "stream",
     "text": [
      "\n",
      "OSAGE PIPE LINE COMPANY, LLC (OPERATOR_ID 14391) has changed its name:\n",
      "\n",
      "\tWas named OSAGE PIPE LINE COMPANY, LLC from 2007 to 2018.\n",
      "\n",
      "\tWas named OSAGE PIPELINE COMPANY from 2004 to 2004.\n",
      "\n",
      "\tWas named OSAGE PIPELINE COMPANY, LLC from 2005 to 2006.\n",
      "\n",
      "\tWas named Osage Pipeline Company, LLC from 2010 to 2010.\n",
      "\n"
     ]
    }
   ],
   "source": [
    "print(next(issues))"
   ]
  },
  {
   "cell_type": "code",
   "execution_count": 235,
   "metadata": {},
   "outputs": [
    {
     "name": "stdout",
     "output_type": "stream",
     "text": [
      "\n",
      "CHEVRON PRODUCTS COMPANY - HAWAII (OPERATOR_ID 2339) has changed its name:\n",
      "\n",
      "\tWas named CHEVRON PRODUCTS COMPANY - HAWAII from 2010 to 2015.\n",
      "\n",
      "\tWas named CHEVRON PRODUCTS COMPANY - HAWAII  from 2007 to 2009.\n",
      "\n",
      "\tWas named CHEVRON PRODUCTS COMPANY HAWAII REFINERY from 2004 to 2005.\n",
      "\n",
      "\tWas named CHEVRON PRODUCTS COMPANY, HAWAII REFINERY from 2006 to 2006.\n",
      "\n",
      "CHEVRON PRODUCTS COMPANY - HAWAII (OPERATOR_ID 2339) may have a namesake or namesakes:\n",
      "\n",
      "\tCHEVRON PIPELINE COMPANY (OPERATOR_ID 2731)\n",
      "\n",
      "\tCHEVRON PIPE LINE COMPANY (OPERATOR_ID 2731)\n",
      "\n",
      "\tCHEVRON PETROCHEMICAL PIPELINE LLC (OPERATOR_ID 31554)\n",
      "\n",
      "\tCHEVRON PETROCHEMICAL PIPELINE LLC (FORMERLY TEXACO PETROCHEMICAL PIPELINE LLC) (OPERATOR_ID 31554)\n",
      "\n"
     ]
    }
   ],
   "source": [
    "print(next(issues))"
   ]
  },
  {
   "cell_type": "code",
   "execution_count": 236,
   "metadata": {},
   "outputs": [
    {
     "name": "stdout",
     "output_type": "stream",
     "text": [
      "\n",
      "TESORO LOGISTICS OPERATIONS LLC - MOUNTAIN REGION (OPERATOR_ID 31583) has changed its name:\n",
      "\n",
      "\tWas named TESORO LOGISTICS OPERATIONS LLC - MOUNTAIN REGION from 2012 to 2017.\n",
      "\n",
      "\tWas named TESORO REFINING & MARKETING CO, MOUNTAIN REGION  from 2004 to 2004.\n",
      "\n",
      "\tWas named TESORO REFINING & MARKETING CO., MOUNTAIN REGION from 2007 to 2011.\n",
      "\n",
      "\tWas named TESORO REFINING & MARKETING CO.; MOUNTAIN REGION from 2005 to 2006.\n",
      "\n",
      "TESORO LOGISTICS OPERATIONS LLC - MOUNTAIN REGION (OPERATOR_ID 31583) may have a namesake or namesakes:\n",
      "\n",
      "\tTESORO - HIGH PLAINS PIPELINE COMPANY (OPERATOR_ID 31570)\n",
      "\n",
      "\tTESORO HIGH PLAINS PIPELINE COMPANY  (OPERATOR_ID 31570)\n",
      "\n",
      "\tTESORO CORPORATION (OPERATOR_ID 31570)\n",
      "\n",
      "\tTESORO REFINING & MARKETING C O., GOLDEN EAGLE (OPERATOR_ID 31874)\n",
      "\n",
      "\tTESORO CORPORATION (OPERATOR_ID 31874)\n",
      "\n",
      "\tTESORO LOGISTICS OPERATIONS LLC - SOUTHERN CALIFORNIA (OPERATOR_ID 38933)\n",
      "\n"
     ]
    }
   ],
   "source": [
    "print(next(issues))"
   ]
  },
  {
   "cell_type": "code",
   "execution_count": 237,
   "metadata": {},
   "outputs": [
    {
     "name": "stdout",
     "output_type": "stream",
     "text": [
      "\n",
      "BOARDWALK PETROCHEMICAL PIPELINE, LLC (OPERATOR_ID 31554) has changed its name:\n",
      "\n",
      "\tWas named BOARDWALK PETROCHEMICAL PIPELINE, LLC from 2014 to 2018.\n",
      "\n",
      "\tWas named CHEVRON PETROCHEMICAL PIPELINE LLC from 2007 to 2013.\n",
      "\n",
      "\tWas named CHEVRON PETROCHEMICAL PIPELINE LLC (FORMERLY TEXACO PETROCHEMICAL PIPELINE LLC) from 2006 to 2006.\n",
      "\n",
      "\tWas named TEXACO PETROCHEMICAL PIPELINE LLC from 2004 to 2005.\n",
      "\n",
      "BOARDWALK PETROCHEMICAL PIPELINE, LLC (OPERATOR_ID 31554) may have a namesake or namesakes:\n",
      "\n",
      "\tCHEVRON PIPE LINE CO (OPERATOR_ID 2731)\n",
      "\n",
      "\tCHEVRON PIPELINE COMPANY (OPERATOR_ID 2731)\n",
      "\n",
      "\tCHEVRON PIPE LINE COMPANY (OPERATOR_ID 2731)\n",
      "\n",
      "\tCHEVRON PRODUCTS COMPANY - HAWAII (OPERATOR_ID 2339)\n",
      "\n",
      "\tCHEVRON USA, INC. (OPERATOR_ID 2339)\n",
      "\n",
      "\tCHEVRON USA,  INC. (OPERATOR_ID 2339)\n",
      "\n",
      "\tCHEVRON PRODUCTS COMPANY - HAWAII  (OPERATOR_ID 2339)\n",
      "\n",
      "\tCHEVRON MIDSTREAM PIPELINES LLC (OPERATOR_ID 31556)\n",
      "\n",
      "\tTEXACO PIPELINES LLC (OPERATOR_ID 31556)\n",
      "\n",
      "\tTEXACO PIPELINES, LLC (OPERATOR_ID 31556)\n",
      "\n"
     ]
    }
   ],
   "source": [
    "print(next(issues))"
   ]
  },
  {
   "cell_type": "code",
   "execution_count": 238,
   "metadata": {},
   "outputs": [
    {
     "name": "stdout",
     "output_type": "stream",
     "text": [
      "\n",
      "CITGO PIPELINE CO (OPERATOR_ID 2387) has changed its name:\n",
      "\n",
      "\tWas named CITGO PIPELINE from 2006 to 2006.\n",
      "\n",
      "\tWas named CITGO PIPELINE CO from 2007 to 2018.\n",
      "\n",
      "\tWas named CITGO PIPELINE COMPANY from 2004 to 2005.\n",
      "\n",
      "CITGO PIPELINE CO (OPERATOR_ID 2387) may have a namesake or namesakes:\n",
      "\n",
      "\tCITGO PETROLEUM (OPERATOR_ID 30755)\n",
      "\n",
      "\tCITGO PETROLEUM CORPORATION (OPERATOR_ID 31023)\n",
      "\n",
      "\tCITGO PETROLEUM COMPANY (OPERATOR_ID 31023)\n",
      "\n"
     ]
    }
   ],
   "source": [
    "print(next(issues))"
   ]
  },
  {
   "cell_type": "code",
   "execution_count": 239,
   "metadata": {},
   "outputs": [
    {
     "name": "stdout",
     "output_type": "stream",
     "text": [
      "\n",
      "TRANS MOUNTAIN PIPELINE (PUGET SOUND) LLC (OPERATOR_ID 19585) has changed its name:\n",
      "\n",
      "\tWas named TERASEN PIPELINE (PUGET SOUND) CORP. from 2007 to 2007.\n",
      "\n",
      "\tWas named TERASEN PIPELINES (PUGET SOUND) CORP. from 2005 to 2006.\n",
      "\n",
      "\tWas named TERASEN PIPELINES (PUGET SOUND) INC from 2004 to 2004.\n",
      "\n",
      "\tWas named TRANS MOUNTAIN PIPELINE (PUGET SOUND) LLC from 2008 to 2018.\n",
      "\n",
      "TRANS MOUNTAIN PIPELINE (PUGET SOUND) LLC (OPERATOR_ID 19585) may have a namesake or namesakes:\n",
      "\n",
      "\tTERASEN INC  (OPERATOR_ID 31720)\n",
      "\n"
     ]
    }
   ],
   "source": [
    "print(next(issues))"
   ]
  },
  {
   "cell_type": "code",
   "execution_count": 240,
   "metadata": {},
   "outputs": [
    {
     "name": "stdout",
     "output_type": "stream",
     "text": [
      "\n",
      "MOBIL PACIFIC PIPELINE CO (OPERATOR_ID 30005) has changed its name:\n",
      "\n",
      "\tWas named MOBIL PACIFIC PIPELINE from 2005 to 2005.\n",
      "\n",
      "\tWas named MOBIL PACIFIC PIPELINE CO from 2007 to 2015.\n",
      "\n",
      "\tWas named MOBIL PACIFIC PIPELINE COMPANY from 2004 to 2006.\n",
      "\n",
      "MOBIL PACIFIC PIPELINE CO (OPERATOR_ID 30005) may have a namesake or namesakes:\n",
      "\n",
      "\tEXXONMOBIL PIPELINE COMPANY (OPERATOR_ID 4906)\n",
      "\n",
      "\tMOBIL CORP (OPERATOR_ID 12624)\n",
      "\n",
      "\tMOBIL OIL CORPORATION - MOBIL BEAUMNT REFINERY (HULL) (OPERATOR_ID 12624)\n",
      "\n",
      "\tMOBIL OIL  CORPORATION-MOBIL BEAUMONT REFINERY (MAGPETCO) (OPERATOR_ID 12624)\n",
      "\n",
      "\tMOBIL OIL CORPORATION - MOBIL BEAUMONT REFINERY (HULL) (OPERATOR_ID 12624)\n",
      "\n",
      "\tEXXONMOBIL OIL CORPORATION - BEAUMONT REFINERY (HULL) (OPERATOR_ID 12624)\n",
      "\n",
      "\tEXXONMOBIL OIL CORPORATION - BEAUMONT REFINERY (MAGPETCO) (OPERATOR_ID 12624)\n",
      "\n",
      "\tMOBIL BEAUMONT REFINERY (OPERATOR_ID 12624)\n",
      "\n",
      "\tMOBIL  PIPE  LINE COMPANY (OPERATOR_ID 12628)\n",
      "\n",
      "\tMOBIL PIPELINE CO (OPERATOR_ID 12628)\n",
      "\n",
      "\tMOBIL PIPE LINE COMPANY (OPERATOR_ID 12628)\n",
      "\n",
      "\tMOBIL CHEMICAL CO (OPERATOR_ID 12634)\n",
      "\n",
      "\tMOBIL CHEMICAL COMPANY (OPERATOR_ID 12634)\n",
      "\n",
      "\tEXXONMOBIL CHEMICAL COMPANY (OPERATOR_ID 12634)\n",
      "\n",
      "\tMOBIL OIL CORPORATION - WEST COAST PIPELINE (OPERATOR_ID 26134)\n",
      "\n",
      "\tMOBIL OIL CORPORATION WEST COAST PIPELINE (OPERATOR_ID 26134)\n",
      "\n",
      "\tEXXONMOBIL OIL CORPORATION - WEST COAST PIPELINE (OPERATOR_ID 26134)\n",
      "\n"
     ]
    }
   ],
   "source": [
    "print(next(issues))"
   ]
  },
  {
   "cell_type": "code",
   "execution_count": 241,
   "metadata": {},
   "outputs": [
    {
     "name": "stdout",
     "output_type": "stream",
     "text": [
      "\n",
      "MARKWEST MICHIGAN PIPELINE COMPANY, L.L.C. (OPERATOR_ID 31871) has changed its name:\n",
      "\n",
      "\tWas named MARKWEST MICHIGAN PIPELINE COMPANY L.L.C from 2006 to 2006.\n",
      "\n",
      "\tWas named MARKWEST MICHIGAN PIPELINE COMPANY, L.L.C. from 2018 to 2018.\n",
      "\n",
      "\tWas named MARKWEST MICHIGAN PIPELINE, LLC from 2004 to 2017.\n",
      "\n",
      "\tWas named MARKWEST-MICHIGAN PIPELINE COMPANY, L.L.C from 2005 to 2005.\n",
      "\n",
      "MARKWEST MICHIGAN PIPELINE COMPANY, L.L.C. (OPERATOR_ID 31871) may have a namesake or namesakes:\n",
      "\n",
      "\tMARKWEST RANGER PIPELINE COMPANY, LLC (OPERATOR_ID 26026)\n",
      "\n",
      "\tMARKWEST ENERGY APPALACHIA, LLC (OPERATOR_ID 26026)\n",
      "\n",
      "\tMARKWEST HYDROCARBON, INC (OPERATOR_ID 26026)\n",
      "\n",
      "\tMARKWEST HYDROCARBON, INC. (OPERATOR_ID 26026)\n",
      "\n",
      "\tMARKWEST ENERGY PARTNERS, L.P. (OPERATOR_ID 26026)\n",
      "\n",
      "\tMARKWEST LIBERTY MIDSTREAM & RESOURCES, LLC (OPERATOR_ID 32412)\n",
      "\n",
      "\tMARKWEST LIBERTY MIDSTREAM & RESOURCES, L.L.C. (OPERATOR_ID 32412)\n",
      "\n"
     ]
    }
   ],
   "source": [
    "print(next(issues))"
   ]
  },
  {
   "cell_type": "code",
   "execution_count": 242,
   "metadata": {},
   "outputs": [
    {
     "name": "stdout",
     "output_type": "stream",
     "text": [
      "\n",
      "TESORO LOGISTICS OPERATIONS LLC - GOLDEN EAGLE (OPERATOR_ID 31874) has changed its name:\n",
      "\n",
      "\tWas named TESORO LOGISTICS OPERATIONS LLC - GOLDEN EAGLE from 2012 to 2017.\n",
      "\n",
      "\tWas named TESORO REFINING & MARKETING C O., GOLDEN EAGLE from 2007 to 2011.\n",
      "\n",
      "\tWas named TESORO REFINING & MARKETING C O., GOLDEN EAGLE  from 2004 to 2004.\n",
      "\n",
      "\tWas named TESORO REFINING & MARKETING CO  from 2004 to 2004.\n",
      "\n",
      "\tWas named TESORO REFINING & MARKETING CO., GOLDEN EAGLE  from 2006 to 2006.\n",
      "\n",
      "\tWas named TESORO REFINING & MARKETING CO.; GOLDEN EAGLE from 2005 to 2005.\n",
      "\n",
      "TESORO LOGISTICS OPERATIONS LLC - GOLDEN EAGLE (OPERATOR_ID 31874) may have a namesake or namesakes:\n",
      "\n",
      "\tTESORO - HIGH PLAINS PIPELINE COMPANY (OPERATOR_ID 31570)\n",
      "\n",
      "\tTESORO HIGH PLAINS PIPELINE COMPANY  (OPERATOR_ID 31570)\n",
      "\n",
      "\tTESORO CORPORATION (OPERATOR_ID 31570)\n",
      "\n",
      "\tTESORO REFINING & MARKETING CO., MOUNTAIN REGION (OPERATOR_ID 31583)\n",
      "\n",
      "\tTESORO REFINING & MARKETING CO, MOUNTAIN REGION  (OPERATOR_ID 31583)\n",
      "\n",
      "\tTESORO CORPORATION (OPERATOR_ID 31583)\n",
      "\n",
      "\tTESORO LOGISTICS OPERATIONS LLC - SOUTHERN CALIFORNIA (OPERATOR_ID 38933)\n",
      "\n"
     ]
    }
   ],
   "source": [
    "print(next(issues))"
   ]
  },
  {
   "cell_type": "code",
   "execution_count": 243,
   "metadata": {},
   "outputs": [
    {
     "name": "stdout",
     "output_type": "stream",
     "text": [
      "\n",
      "INTERSTATE ENERGY COMPANY (OPERATOR_ID 8166) has changed its name:\n",
      "\n",
      "\tWas named INTERSTATE ENERGY COMPANY from 2016 to 2018.\n",
      "\n",
      "\tWas named PPL INTERSTATE ENERGY CO from 2010 to 2015.\n",
      "\n",
      "\tWas named PPL INTERSTATE ENERGY CO  from 2007 to 2009.\n",
      "\n",
      "\tWas named PPL INTERSTATE ENERGY COMPANY from 2004 to 2006.\n",
      "\n"
     ]
    }
   ],
   "source": [
    "print(next(issues))"
   ]
  },
  {
   "cell_type": "code",
   "execution_count": 244,
   "metadata": {},
   "outputs": [
    {
     "name": "stdout",
     "output_type": "stream",
     "text": [
      "\n",
      "DOW PIPELINE CO (OPERATOR_ID 3535) has changed its name:\n",
      "\n",
      "\tWas named DOW PIPELINE CO from 2007 to 2018.\n",
      "\n",
      "\tWas named DOW PIPELINE COMPANY from 2004 to 2006.\n",
      "\n",
      "DOW PIPELINE CO (OPERATOR_ID 3535) may have a namesake or namesakes:\n",
      "\n",
      "\tTHE DOW CHEMICAL COMPANY, INCORPORATED (OPERATOR_ID 2162)\n",
      "\n",
      "\tTHE DOW CHEMICAL COMPANY, INC. (OPERATOR_ID 2162)\n",
      "\n",
      "\tTHE DOW CHEMICAL COMPANY, INCORPORATED (OPERATOR_ID 3527)\n",
      "\n",
      "\tTHE DOW CHEMICAL COMPANY, INC. (OPERATOR_ID 3527)\n",
      "\n",
      "\tTHE DOW CHEMICAL COMPANY, INCORPORATED (OPERATOR_ID 26086)\n",
      "\n",
      "\tTHE DOW CHEMICAL COMPANY, INC. (OPERATOR_ID 26086)\n",
      "\n",
      "\tTARGA DOWNSTREAM LLC (OPERATOR_ID 39823)\n",
      "\n"
     ]
    }
   ],
   "source": [
    "print(next(issues))"
   ]
  },
  {
   "cell_type": "code",
   "execution_count": 245,
   "metadata": {},
   "outputs": [
    {
     "name": "stdout",
     "output_type": "stream",
     "text": [
      "\n",
      "NUSTAR TERMINALS OPERATIONS PARTNERSHIP L. P. (OPERATOR_ID 26094) has changed its name:\n",
      "\n",
      "\tWas named NUSTAR TERMINALS OPERATIONS PARTNERSHIP L. P. from 2007 to 2018.\n",
      "\n",
      "\tWas named SUPPORT TERMINALS OPERATING PARTNERSHIP from 2004 to 2004.\n",
      "\n",
      "\tWas named SUPPORT TERMINALS OPERATING PARTNERSHIP L.P. from 2005 to 2005.\n",
      "\n",
      "\tWas named SUPPORT TERMINALS OPERATING PARTNERSHIP, L.P. from 2006 to 2006.\n",
      "\n"
     ]
    }
   ],
   "source": [
    "print(next(issues))"
   ]
  },
  {
   "cell_type": "code",
   "execution_count": 246,
   "metadata": {},
   "outputs": [
    {
     "name": "stdout",
     "output_type": "stream",
     "text": [
      "\n",
      "CALIFORNIA RESOURCES ELK HILLS, LLC (OPERATOR_ID 31228) has changed its name:\n",
      "\n",
      "\tWas named CALIFORNIA RESOURCES ELK HILLS, LLC from 2014 to 2018.\n",
      "\n",
      "\tWas named OCCIDENTAL OF ELK HILLS, INC from 2007 to 2013.\n",
      "\n",
      "\tWas named OCCIDENTAL OF ELK HILLS, INC. from 2004 to 2006.\n",
      "\n",
      "CALIFORNIA RESOURCES ELK HILLS, LLC (OPERATOR_ID 31228) may have a namesake or namesakes:\n",
      "\n",
      "\tTESORO LOGISTICS OPERATIONS LLC - SOUTHERN CALIFORNIA (OPERATOR_ID 38933)\n",
      "\n",
      "\tOCCIDENTAL PETROLEUM CORP (OPERATOR_ID 31888)\n",
      "\n"
     ]
    }
   ],
   "source": [
    "print(next(issues))"
   ]
  },
  {
   "cell_type": "code",
   "execution_count": 247,
   "metadata": {},
   "outputs": [
    {
     "ename": "StopIteration",
     "evalue": "",
     "output_type": "error",
     "traceback": [
      "\u001b[0;31m---------------------------------------------------------------------------\u001b[0m",
      "\u001b[0;31mStopIteration\u001b[0m                             Traceback (most recent call last)",
      "\u001b[0;32m<ipython-input-247-299de9c15250>\u001b[0m in \u001b[0;36m<module>\u001b[0;34m\u001b[0m\n\u001b[0;32m----> 1\u001b[0;31m \u001b[0mprint\u001b[0m\u001b[0;34m(\u001b[0m\u001b[0mnext\u001b[0m\u001b[0;34m(\u001b[0m\u001b[0missues\u001b[0m\u001b[0;34m)\u001b[0m\u001b[0;34m)\u001b[0m\u001b[0;34m\u001b[0m\u001b[0;34m\u001b[0m\u001b[0m\n\u001b[0m",
      "\u001b[0;31mStopIteration\u001b[0m: "
     ]
    }
   ],
   "source": [
    "print(next(issues))"
   ]
  },
  {
   "cell_type": "markdown",
   "metadata": {},
   "source": [
    "## 8.3 Overview"
   ]
  },
  {
   "cell_type": "code",
   "execution_count": 248,
   "metadata": {},
   "outputs": [
    {
     "data": {
      "text/html": [
       "<div>\n",
       "<style scoped>\n",
       "    .dataframe tbody tr th:only-of-type {\n",
       "        vertical-align: middle;\n",
       "    }\n",
       "\n",
       "    .dataframe tbody tr th {\n",
       "        vertical-align: top;\n",
       "    }\n",
       "\n",
       "    .dataframe thead th {\n",
       "        text-align: right;\n",
       "    }\n",
       "</style>\n",
       "<table border=\"1\" class=\"dataframe\">\n",
       "  <thead>\n",
       "    <tr style=\"text-align: right;\">\n",
       "      <th></th>\n",
       "      <th>members</th>\n",
       "      <th>name</th>\n",
       "    </tr>\n",
       "  </thead>\n",
       "  <tbody>\n",
       "    <tr>\n",
       "      <th>0</th>\n",
       "      <td>30829</td>\n",
       "      <td>Teppco (Group)</td>\n",
       "    </tr>\n",
       "    <tr>\n",
       "      <th>1</th>\n",
       "      <td>32209</td>\n",
       "      <td>Teppco (Group)</td>\n",
       "    </tr>\n",
       "    <tr>\n",
       "      <th>2</th>\n",
       "      <td>3445</td>\n",
       "      <td>Teppco (Group)</td>\n",
       "    </tr>\n",
       "    <tr>\n",
       "      <th>3</th>\n",
       "      <td>32109</td>\n",
       "      <td>ONEOK (Group)</td>\n",
       "    </tr>\n",
       "    <tr>\n",
       "      <th>4</th>\n",
       "      <td>30629</td>\n",
       "      <td>ONEOK (Group)</td>\n",
       "    </tr>\n",
       "    <tr>\n",
       "      <th>5</th>\n",
       "      <td>15485</td>\n",
       "      <td>Phillips 66 (Group)</td>\n",
       "    </tr>\n",
       "    <tr>\n",
       "      <th>6</th>\n",
       "      <td>31684</td>\n",
       "      <td>Phillips 66 (Group)</td>\n",
       "    </tr>\n",
       "    <tr>\n",
       "      <th>7</th>\n",
       "      <td>22610</td>\n",
       "      <td>Magellan (Group)</td>\n",
       "    </tr>\n",
       "    <tr>\n",
       "      <th>8</th>\n",
       "      <td>12105</td>\n",
       "      <td>Magellan (Group)</td>\n",
       "    </tr>\n",
       "    <tr>\n",
       "      <th>9</th>\n",
       "      <td>31579</td>\n",
       "      <td>Magellan (Group)</td>\n",
       "    </tr>\n",
       "    <tr>\n",
       "      <th>10</th>\n",
       "      <td>39504</td>\n",
       "      <td>Magellan (Group)</td>\n",
       "    </tr>\n",
       "    <tr>\n",
       "      <th>11</th>\n",
       "      <td>1845</td>\n",
       "      <td>Buckeye (Group)</td>\n",
       "    </tr>\n",
       "    <tr>\n",
       "      <th>12</th>\n",
       "      <td>31371</td>\n",
       "      <td>Buckeye (Group)</td>\n",
       "    </tr>\n",
       "    <tr>\n",
       "      <th>13</th>\n",
       "      <td>18718</td>\n",
       "      <td>Sunoco (Group)</td>\n",
       "    </tr>\n",
       "    <tr>\n",
       "      <th>14</th>\n",
       "      <td>12470</td>\n",
       "      <td>Sunoco (Group)</td>\n",
       "    </tr>\n",
       "    <tr>\n",
       "      <th>15</th>\n",
       "      <td>39205</td>\n",
       "      <td>Sunoco (Group)</td>\n",
       "    </tr>\n",
       "    <tr>\n",
       "      <th>16</th>\n",
       "      <td>39596</td>\n",
       "      <td>Sunoco (Group)</td>\n",
       "    </tr>\n",
       "    <tr>\n",
       "      <th>17</th>\n",
       "      <td>7063</td>\n",
       "      <td>Sunoco (Group)</td>\n",
       "    </tr>\n",
       "    <tr>\n",
       "      <th>18</th>\n",
       "      <td>32099</td>\n",
       "      <td>Energy Transfer Partners (Group)</td>\n",
       "    </tr>\n",
       "    <tr>\n",
       "      <th>19</th>\n",
       "      <td>19237</td>\n",
       "      <td>Kinder Morgan (Group)</td>\n",
       "    </tr>\n",
       "    <tr>\n",
       "      <th>20</th>\n",
       "      <td>2190</td>\n",
       "      <td>Kinder Morgan (Group)</td>\n",
       "    </tr>\n",
       "    <tr>\n",
       "      <th>21</th>\n",
       "      <td>4472</td>\n",
       "      <td>Kinder Morgan (Group)</td>\n",
       "    </tr>\n",
       "    <tr>\n",
       "      <th>22</th>\n",
       "      <td>15674</td>\n",
       "      <td>Kinder Morgan (Group)</td>\n",
       "    </tr>\n",
       "    <tr>\n",
       "      <th>23</th>\n",
       "      <td>18092</td>\n",
       "      <td>Kinder Morgan (Group)</td>\n",
       "    </tr>\n",
       "    <tr>\n",
       "      <th>24</th>\n",
       "      <td>19585</td>\n",
       "      <td>Kinder Morgan (Group)</td>\n",
       "    </tr>\n",
       "    <tr>\n",
       "      <th>25</th>\n",
       "      <td>26125</td>\n",
       "      <td>Kinder Morgan (Group)</td>\n",
       "    </tr>\n",
       "    <tr>\n",
       "      <th>26</th>\n",
       "      <td>31555</td>\n",
       "      <td>Kinder Morgan (Group)</td>\n",
       "    </tr>\n",
       "    <tr>\n",
       "      <th>27</th>\n",
       "      <td>31957</td>\n",
       "      <td>Kinder Morgan (Group)</td>\n",
       "    </tr>\n",
       "    <tr>\n",
       "      <th>28</th>\n",
       "      <td>32114</td>\n",
       "      <td>Kinder Morgan (Group)</td>\n",
       "    </tr>\n",
       "    <tr>\n",
       "      <th>29</th>\n",
       "      <td>32258</td>\n",
       "      <td>Kinder Morgan (Group)</td>\n",
       "    </tr>\n",
       "    <tr>\n",
       "      <th>...</th>\n",
       "      <td>...</td>\n",
       "      <td>...</td>\n",
       "    </tr>\n",
       "    <tr>\n",
       "      <th>109</th>\n",
       "      <td>31977</td>\n",
       "      <td>Targa (Group)</td>\n",
       "    </tr>\n",
       "    <tr>\n",
       "      <th>110</th>\n",
       "      <td>3527</td>\n",
       "      <td>Dow (Group)</td>\n",
       "    </tr>\n",
       "    <tr>\n",
       "      <th>111</th>\n",
       "      <td>2162</td>\n",
       "      <td>Dow (Group)</td>\n",
       "    </tr>\n",
       "    <tr>\n",
       "      <th>112</th>\n",
       "      <td>3535</td>\n",
       "      <td>Dow (Group)</td>\n",
       "    </tr>\n",
       "    <tr>\n",
       "      <th>113</th>\n",
       "      <td>30959</td>\n",
       "      <td>Dow (Group)</td>\n",
       "    </tr>\n",
       "    <tr>\n",
       "      <th>114</th>\n",
       "      <td>39138</td>\n",
       "      <td>Boardwalk (Group)</td>\n",
       "    </tr>\n",
       "    <tr>\n",
       "      <th>115</th>\n",
       "      <td>32005</td>\n",
       "      <td>Enlink (Group)</td>\n",
       "    </tr>\n",
       "    <tr>\n",
       "      <th>116</th>\n",
       "      <td>32107</td>\n",
       "      <td>Enlink (Group)</td>\n",
       "    </tr>\n",
       "    <tr>\n",
       "      <th>117</th>\n",
       "      <td>26048</td>\n",
       "      <td>Hunt (Group)</td>\n",
       "    </tr>\n",
       "    <tr>\n",
       "      <th>118</th>\n",
       "      <td>7660</td>\n",
       "      <td>Hunt (Group)</td>\n",
       "    </tr>\n",
       "    <tr>\n",
       "      <th>119</th>\n",
       "      <td>26048</td>\n",
       "      <td>Hunt (Group)</td>\n",
       "    </tr>\n",
       "    <tr>\n",
       "      <th>120</th>\n",
       "      <td>31166</td>\n",
       "      <td>Eastman Chemical (Group)</td>\n",
       "    </tr>\n",
       "    <tr>\n",
       "      <th>121</th>\n",
       "      <td>26103</td>\n",
       "      <td>Eastman Chemical (Group)</td>\n",
       "    </tr>\n",
       "    <tr>\n",
       "      <th>122</th>\n",
       "      <td>11551</td>\n",
       "      <td>Delek (Group)</td>\n",
       "    </tr>\n",
       "    <tr>\n",
       "      <th>123</th>\n",
       "      <td>15851</td>\n",
       "      <td>Delek (Group)</td>\n",
       "    </tr>\n",
       "    <tr>\n",
       "      <th>124</th>\n",
       "      <td>26061</td>\n",
       "      <td>Delek (Group)</td>\n",
       "    </tr>\n",
       "    <tr>\n",
       "      <th>125</th>\n",
       "      <td>26136</td>\n",
       "      <td>Delek (Group)</td>\n",
       "    </tr>\n",
       "    <tr>\n",
       "      <th>126</th>\n",
       "      <td>15786</td>\n",
       "      <td>Suncor (Group)</td>\n",
       "    </tr>\n",
       "    <tr>\n",
       "      <th>127</th>\n",
       "      <td>31822</td>\n",
       "      <td>Suncor (Group)</td>\n",
       "    </tr>\n",
       "    <tr>\n",
       "      <th>128</th>\n",
       "      <td>39083</td>\n",
       "      <td>Crestwood (Group)</td>\n",
       "    </tr>\n",
       "    <tr>\n",
       "      <th>129</th>\n",
       "      <td>39368</td>\n",
       "      <td>Crestwood (Group)</td>\n",
       "    </tr>\n",
       "    <tr>\n",
       "      <th>130</th>\n",
       "      <td>39534</td>\n",
       "      <td>Torrance (Group)</td>\n",
       "    </tr>\n",
       "    <tr>\n",
       "      <th>131</th>\n",
       "      <td>26120</td>\n",
       "      <td>Torrance (Group)</td>\n",
       "    </tr>\n",
       "    <tr>\n",
       "      <th>132</th>\n",
       "      <td>31167</td>\n",
       "      <td>Torrance (Group)</td>\n",
       "    </tr>\n",
       "    <tr>\n",
       "      <th>133</th>\n",
       "      <td>39535</td>\n",
       "      <td>Torrance (Group)</td>\n",
       "    </tr>\n",
       "    <tr>\n",
       "      <th>134</th>\n",
       "      <td>32035</td>\n",
       "      <td>LDH Energy (Group)</td>\n",
       "    </tr>\n",
       "    <tr>\n",
       "      <th>135</th>\n",
       "      <td>31673</td>\n",
       "      <td>LDH Energy (Group)</td>\n",
       "    </tr>\n",
       "    <tr>\n",
       "      <th>136</th>\n",
       "      <td>32246</td>\n",
       "      <td>LDH Energy (Group)</td>\n",
       "    </tr>\n",
       "    <tr>\n",
       "      <th>137</th>\n",
       "      <td>39080</td>\n",
       "      <td>Glass Mountain (Group)</td>\n",
       "    </tr>\n",
       "    <tr>\n",
       "      <th>138</th>\n",
       "      <td>39774</td>\n",
       "      <td>Glass Mountain (Group)</td>\n",
       "    </tr>\n",
       "  </tbody>\n",
       "</table>\n",
       "<p>139 rows × 2 columns</p>\n",
       "</div>"
      ],
      "text/plain": [
       "    members                    name\n",
       "0     30829          Teppco (Group)\n",
       "1     32209          Teppco (Group)\n",
       "2      3445          Teppco (Group)\n",
       "3     32109           ONEOK (Group)\n",
       "4     30629           ONEOK (Group)\n",
       "..      ...                     ...\n",
       "134   32035      LDH Energy (Group)\n",
       "135   31673      LDH Energy (Group)\n",
       "136   32246      LDH Energy (Group)\n",
       "137   39080  Glass Mountain (Group)\n",
       "138   39774  Glass Mountain (Group)\n",
       "\n",
       "[139 rows x 2 columns]"
      ]
     },
     "execution_count": 248,
     "metadata": {},
     "output_type": "execute_result"
    }
   ],
   "source": [
    "company_groups"
   ]
  },
  {
   "cell_type": "code",
   "execution_count": 249,
   "metadata": {},
   "outputs": [
    {
     "data": {
      "text/html": [
       "<div>\n",
       "<style scoped>\n",
       "    .dataframe tbody tr th:only-of-type {\n",
       "        vertical-align: middle;\n",
       "    }\n",
       "\n",
       "    .dataframe tbody tr th {\n",
       "        vertical-align: top;\n",
       "    }\n",
       "\n",
       "    .dataframe thead th {\n",
       "        text-align: right;\n",
       "    }\n",
       "</style>\n",
       "<table border=\"1\" class=\"dataframe\">\n",
       "  <thead>\n",
       "    <tr style=\"text-align: right;\">\n",
       "      <th></th>\n",
       "      <th>members</th>\n",
       "      <th>name</th>\n",
       "      <th>start_year</th>\n",
       "      <th>end_year</th>\n",
       "    </tr>\n",
       "  </thead>\n",
       "  <tbody>\n",
       "    <tr>\n",
       "      <th>0</th>\n",
       "      <td>Enterprise Products (Group)</td>\n",
       "      <td>Enterprise Products (Group)</td>\n",
       "      <td>2010</td>\n",
       "      <td>NaN</td>\n",
       "    </tr>\n",
       "    <tr>\n",
       "      <th>1</th>\n",
       "      <td>Teppco (Group)</td>\n",
       "      <td>Enterprise Products (Group)</td>\n",
       "      <td>2010</td>\n",
       "      <td>NaN</td>\n",
       "    </tr>\n",
       "    <tr>\n",
       "      <th>2</th>\n",
       "      <td>Sunoco (Group)</td>\n",
       "      <td>Sunoco (Group)</td>\n",
       "      <td>2011</td>\n",
       "      <td>NaN</td>\n",
       "    </tr>\n",
       "    <tr>\n",
       "      <th>3</th>\n",
       "      <td>32683</td>\n",
       "      <td>Sunoco (Group)</td>\n",
       "      <td>2011</td>\n",
       "      <td>NaN</td>\n",
       "    </tr>\n",
       "    <tr>\n",
       "      <th>4</th>\n",
       "      <td>22442</td>\n",
       "      <td>Sunoco (Group)</td>\n",
       "      <td>2011</td>\n",
       "      <td>NaN</td>\n",
       "    </tr>\n",
       "    <tr>\n",
       "      <th>5</th>\n",
       "      <td>Sunoco (Group)</td>\n",
       "      <td>Sunoco (Group)</td>\n",
       "      <td>2013</td>\n",
       "      <td>NaN</td>\n",
       "    </tr>\n",
       "    <tr>\n",
       "      <th>6</th>\n",
       "      <td>Energy Transfer Partners (Group)</td>\n",
       "      <td>Sunoco (Group)</td>\n",
       "      <td>2013</td>\n",
       "      <td>NaN</td>\n",
       "    </tr>\n",
       "    <tr>\n",
       "      <th>7</th>\n",
       "      <td>NuStar (Group)</td>\n",
       "      <td>NuStar (Group)</td>\n",
       "      <td>2007</td>\n",
       "      <td>NaN</td>\n",
       "    </tr>\n",
       "    <tr>\n",
       "      <th>8</th>\n",
       "      <td>10012</td>\n",
       "      <td>NuStar (Group)</td>\n",
       "      <td>2007</td>\n",
       "      <td>NaN</td>\n",
       "    </tr>\n",
       "    <tr>\n",
       "      <th>9</th>\n",
       "      <td>NuStar (Group)</td>\n",
       "      <td>NuStar (Group)</td>\n",
       "      <td>2006</td>\n",
       "      <td>NaN</td>\n",
       "    </tr>\n",
       "    <tr>\n",
       "      <th>10</th>\n",
       "      <td>31454</td>\n",
       "      <td>NuStar (Group)</td>\n",
       "      <td>2006</td>\n",
       "      <td>NaN</td>\n",
       "    </tr>\n",
       "    <tr>\n",
       "      <th>11</th>\n",
       "      <td>Enbridge (Group)</td>\n",
       "      <td>Enbridge (Group)</td>\n",
       "      <td>NaN</td>\n",
       "      <td>2013</td>\n",
       "    </tr>\n",
       "    <tr>\n",
       "      <th>12</th>\n",
       "      <td>15774</td>\n",
       "      <td>Enbridge (Group)</td>\n",
       "      <td>NaN</td>\n",
       "      <td>2013</td>\n",
       "    </tr>\n",
       "    <tr>\n",
       "      <th>13</th>\n",
       "      <td>Enbridge (Group)</td>\n",
       "      <td>Enbridge (Group)</td>\n",
       "      <td>2012</td>\n",
       "      <td>NaN</td>\n",
       "    </tr>\n",
       "    <tr>\n",
       "      <th>14</th>\n",
       "      <td>31720</td>\n",
       "      <td>Enbridge (Group)</td>\n",
       "      <td>2012</td>\n",
       "      <td>NaN</td>\n",
       "    </tr>\n",
       "    <tr>\n",
       "      <th>15</th>\n",
       "      <td>Enbridge (Group)</td>\n",
       "      <td>Enbridge (Group)</td>\n",
       "      <td>2006</td>\n",
       "      <td>NaN</td>\n",
       "    </tr>\n",
       "    <tr>\n",
       "      <th>16</th>\n",
       "      <td>30781</td>\n",
       "      <td>Enbridge (Group)</td>\n",
       "      <td>2006</td>\n",
       "      <td>NaN</td>\n",
       "    </tr>\n",
       "    <tr>\n",
       "      <th>17</th>\n",
       "      <td>BP (Group)</td>\n",
       "      <td>BP (Group)</td>\n",
       "      <td>2001</td>\n",
       "      <td>2006</td>\n",
       "    </tr>\n",
       "    <tr>\n",
       "      <th>18</th>\n",
       "      <td>30781</td>\n",
       "      <td>BP (Group)</td>\n",
       "      <td>2001</td>\n",
       "      <td>2006</td>\n",
       "    </tr>\n",
       "    <tr>\n",
       "      <th>19</th>\n",
       "      <td>Marathon (Group)</td>\n",
       "      <td>Marathon (Group)</td>\n",
       "      <td>2013</td>\n",
       "      <td>NaN</td>\n",
       "    </tr>\n",
       "    <tr>\n",
       "      <th>20</th>\n",
       "      <td>15774</td>\n",
       "      <td>Marathon (Group)</td>\n",
       "      <td>2013</td>\n",
       "      <td>NaN</td>\n",
       "    </tr>\n",
       "    <tr>\n",
       "      <th>21</th>\n",
       "      <td>Chevron (Group)</td>\n",
       "      <td>Chevron (Group)</td>\n",
       "      <td>2002</td>\n",
       "      <td>NaN</td>\n",
       "    </tr>\n",
       "    <tr>\n",
       "      <th>22</th>\n",
       "      <td>31556</td>\n",
       "      <td>Chevron (Group)</td>\n",
       "      <td>2002</td>\n",
       "      <td>NaN</td>\n",
       "    </tr>\n",
       "    <tr>\n",
       "      <th>23</th>\n",
       "      <td>Chevron (Group)</td>\n",
       "      <td>Chevron (Group)</td>\n",
       "      <td>2002</td>\n",
       "      <td>2014</td>\n",
       "    </tr>\n",
       "    <tr>\n",
       "      <th>24</th>\n",
       "      <td>31554</td>\n",
       "      <td>Chevron (Group)</td>\n",
       "      <td>2002</td>\n",
       "      <td>2014</td>\n",
       "    </tr>\n",
       "    <tr>\n",
       "      <th>25</th>\n",
       "      <td>BP (Group)</td>\n",
       "      <td>BP (Group)</td>\n",
       "      <td>2001</td>\n",
       "      <td>2006</td>\n",
       "    </tr>\n",
       "    <tr>\n",
       "      <th>26</th>\n",
       "      <td>30781</td>\n",
       "      <td>BP (Group)</td>\n",
       "      <td>2001</td>\n",
       "      <td>2006</td>\n",
       "    </tr>\n",
       "    <tr>\n",
       "      <th>27</th>\n",
       "      <td>Valero (Group)</td>\n",
       "      <td>Valero (Group)</td>\n",
       "      <td>2005</td>\n",
       "      <td>NaN</td>\n",
       "    </tr>\n",
       "    <tr>\n",
       "      <th>28</th>\n",
       "      <td>31742</td>\n",
       "      <td>Valero (Group)</td>\n",
       "      <td>2005</td>\n",
       "      <td>NaN</td>\n",
       "    </tr>\n",
       "    <tr>\n",
       "      <th>29</th>\n",
       "      <td>30626</td>\n",
       "      <td>Dynegy (Group)</td>\n",
       "      <td>NaN</td>\n",
       "      <td>2005</td>\n",
       "    </tr>\n",
       "    <tr>\n",
       "      <th>30</th>\n",
       "      <td>22175</td>\n",
       "      <td>Dynegy (Group)</td>\n",
       "      <td>NaN</td>\n",
       "      <td>2005</td>\n",
       "    </tr>\n",
       "    <tr>\n",
       "      <th>31</th>\n",
       "      <td>307626</td>\n",
       "      <td>Targa (Group)</td>\n",
       "      <td>2006</td>\n",
       "      <td>NaN</td>\n",
       "    </tr>\n",
       "    <tr>\n",
       "      <th>32</th>\n",
       "      <td>22175</td>\n",
       "      <td>Targa (Group)</td>\n",
       "      <td>2006</td>\n",
       "      <td>NaN</td>\n",
       "    </tr>\n",
       "    <tr>\n",
       "      <th>33</th>\n",
       "      <td>Boardwalk (Group)</td>\n",
       "      <td>Boardwalk (Group)</td>\n",
       "      <td>2014</td>\n",
       "      <td>NaN</td>\n",
       "    </tr>\n",
       "    <tr>\n",
       "      <th>34</th>\n",
       "      <td>31554</td>\n",
       "      <td>Boardwalk (Group)</td>\n",
       "      <td>2014</td>\n",
       "      <td>NaN</td>\n",
       "    </tr>\n",
       "    <tr>\n",
       "      <th>35</th>\n",
       "      <td>Energy Transfer Partners (Group)</td>\n",
       "      <td>Energy Transfer Partners (Group)</td>\n",
       "      <td>2011</td>\n",
       "      <td>NaN</td>\n",
       "    </tr>\n",
       "    <tr>\n",
       "      <th>36</th>\n",
       "      <td>LDH Energy (Group)</td>\n",
       "      <td>Energy Transfer Partners (Group)</td>\n",
       "      <td>2011</td>\n",
       "      <td>NaN</td>\n",
       "    </tr>\n",
       "  </tbody>\n",
       "</table>\n",
       "</div>"
      ],
      "text/plain": [
       "                             members                              name  \\\n",
       "0        Enterprise Products (Group)       Enterprise Products (Group)   \n",
       "1                     Teppco (Group)       Enterprise Products (Group)   \n",
       "2                     Sunoco (Group)                    Sunoco (Group)   \n",
       "3                              32683                    Sunoco (Group)   \n",
       "4                              22442                    Sunoco (Group)   \n",
       "5                     Sunoco (Group)                    Sunoco (Group)   \n",
       "6   Energy Transfer Partners (Group)                    Sunoco (Group)   \n",
       "7                     NuStar (Group)                    NuStar (Group)   \n",
       "8                              10012                    NuStar (Group)   \n",
       "9                     NuStar (Group)                    NuStar (Group)   \n",
       "10                             31454                    NuStar (Group)   \n",
       "11                  Enbridge (Group)                  Enbridge (Group)   \n",
       "12                             15774                  Enbridge (Group)   \n",
       "13                  Enbridge (Group)                  Enbridge (Group)   \n",
       "14                             31720                  Enbridge (Group)   \n",
       "15                  Enbridge (Group)                  Enbridge (Group)   \n",
       "16                             30781                  Enbridge (Group)   \n",
       "17                        BP (Group)                        BP (Group)   \n",
       "18                             30781                        BP (Group)   \n",
       "19                  Marathon (Group)                  Marathon (Group)   \n",
       "20                             15774                  Marathon (Group)   \n",
       "21                   Chevron (Group)                   Chevron (Group)   \n",
       "22                             31556                   Chevron (Group)   \n",
       "23                   Chevron (Group)                   Chevron (Group)   \n",
       "24                             31554                   Chevron (Group)   \n",
       "25                        BP (Group)                        BP (Group)   \n",
       "26                             30781                        BP (Group)   \n",
       "27                    Valero (Group)                    Valero (Group)   \n",
       "28                             31742                    Valero (Group)   \n",
       "29                             30626                    Dynegy (Group)   \n",
       "30                             22175                    Dynegy (Group)   \n",
       "31                            307626                     Targa (Group)   \n",
       "32                             22175                     Targa (Group)   \n",
       "33                 Boardwalk (Group)                 Boardwalk (Group)   \n",
       "34                             31554                 Boardwalk (Group)   \n",
       "35  Energy Transfer Partners (Group)  Energy Transfer Partners (Group)   \n",
       "36                LDH Energy (Group)  Energy Transfer Partners (Group)   \n",
       "\n",
       "   start_year end_year  \n",
       "0        2010      NaN  \n",
       "1        2010      NaN  \n",
       "2        2011      NaN  \n",
       "3        2011      NaN  \n",
       "4        2011      NaN  \n",
       "5        2013      NaN  \n",
       "6        2013      NaN  \n",
       "7        2007      NaN  \n",
       "8        2007      NaN  \n",
       "9        2006      NaN  \n",
       "10       2006      NaN  \n",
       "11        NaN     2013  \n",
       "12        NaN     2013  \n",
       "13       2012      NaN  \n",
       "14       2012      NaN  \n",
       "15       2006      NaN  \n",
       "16       2006      NaN  \n",
       "17       2001     2006  \n",
       "18       2001     2006  \n",
       "19       2013      NaN  \n",
       "20       2013      NaN  \n",
       "21       2002      NaN  \n",
       "22       2002      NaN  \n",
       "23       2002     2014  \n",
       "24       2002     2014  \n",
       "25       2001     2006  \n",
       "26       2001     2006  \n",
       "27       2005      NaN  \n",
       "28       2005      NaN  \n",
       "29        NaN     2005  \n",
       "30        NaN     2005  \n",
       "31       2006      NaN  \n",
       "32       2006      NaN  \n",
       "33       2014      NaN  \n",
       "34       2014      NaN  \n",
       "35       2011      NaN  \n",
       "36       2011      NaN  "
      ]
     },
     "execution_count": 249,
     "metadata": {},
     "output_type": "execute_result"
    }
   ],
   "source": [
    "m_as"
   ]
  },
  {
   "cell_type": "code",
   "execution_count": 250,
   "metadata": {},
   "outputs": [
    {
     "data": {
      "text/plain": [
       "[]"
      ]
     },
     "execution_count": 250,
     "metadata": {},
     "output_type": "execute_result"
    }
   ],
   "source": [
    "spin_offs"
   ]
  },
  {
   "cell_type": "markdown",
   "metadata": {},
   "source": [
    "## 8.4 Additions from ownership changes text file"
   ]
  },
  {
   "cell_type": "code",
   "execution_count": 251,
   "metadata": {},
   "outputs": [
    {
     "data": {
      "text/plain": [
       "[{'name': 'Tesoro Logistics Northwest Pipeline Llc',\n",
       "  'start_year': 2013,\n",
       "  'end_year': 2017,\n",
       "  'id_': '39029'}]"
      ]
     },
     "execution_count": 251,
     "metadata": {},
     "output_type": "execute_result"
    }
   ],
   "source": [
    "find_name('39029')"
   ]
  },
  {
   "cell_type": "markdown",
   "metadata": {},
   "source": [
    "Was sold by Chevron to Tesoro in 2013, but Tesoro set up a new unit for this pipeline, so we do not need to take any action."
   ]
  },
  {
   "cell_type": "code",
   "execution_count": 252,
   "metadata": {},
   "outputs": [],
   "source": [
    "company_groups.to_feather(f'../preprocessed_data/company_groups_{today}.feather')\n",
    "m_as.to_feather(f'../preprocessed_data/m_as_{today}.feather')"
   ]
  },
  {
   "cell_type": "code",
   "execution_count": null,
   "metadata": {},
   "outputs": [],
   "source": []
  }
 ],
 "metadata": {
  "jupytext": {
   "formats": "ipynb,md"
  },
  "kernelspec": {
   "display_name": "oil_industry",
   "language": "python",
   "name": "oil_industry"
  },
  "language_info": {
   "codemirror_mode": {
    "name": "ipython",
    "version": 3
   },
   "file_extension": ".py",
   "mimetype": "text/x-python",
   "name": "python",
   "nbconvert_exporter": "python",
   "pygments_lexer": "ipython3",
   "version": "3.6.8"
  }
 },
 "nbformat": 4,
 "nbformat_minor": 4
}
