{
 "cells": [
  {
   "cell_type": "markdown",
   "metadata": {},
   "source": [
    "# 8. Resolve data issues"
   ]
  },
  {
   "cell_type": "markdown",
   "metadata": {},
   "source": [
    "The analysis in section 8.2 is based on data retrieved from LexisNexis (LexisNexis Dossier)."
   ]
  },
  {
   "cell_type": "code",
   "execution_count": 1,
   "metadata": {},
   "outputs": [],
   "source": [
    "sample_file = '../preprocessed_data/sample_2019-09-02.feather'\n",
    "issues_to_address = '../preprocessed_data/issues_to_address_2019-09-02.pickle'\n",
    "pipelines_2010_raw_file = '../data/pipelines_2010_2019-08-16.feather'"
   ]
  },
  {
   "cell_type": "markdown",
   "metadata": {},
   "source": [
    "## Setup"
   ]
  },
  {
   "cell_type": "code",
   "execution_count": 2,
   "metadata": {},
   "outputs": [],
   "source": [
    "import pandas as pd\n",
    "import numpy as np\n",
    "from datetime import date\n",
    "from functools import partial\n",
    "\n",
    "today = date.today().isoformat()"
   ]
  },
  {
   "cell_type": "code",
   "execution_count": 3,
   "metadata": {},
   "outputs": [
    {
     "name": "stdout",
     "output_type": "stream",
     "text": [
      "Loading library list...\n",
      "Done\n"
     ]
    }
   ],
   "source": [
    "import wrds\n",
    "\n",
    "db = wrds.Connection(wrds_username='juujian')"
   ]
  },
  {
   "cell_type": "markdown",
   "metadata": {},
   "source": [
    "## Load data"
   ]
  },
  {
   "cell_type": "code",
   "execution_count": 4,
   "metadata": {},
   "outputs": [],
   "source": [
    "import pickle\n",
    "\n",
    "with open(issues_to_address, 'rb') as file:\n",
    "    issues = pickle.load(file)\n",
    "    \n",
    "issues = (issue for issue in issues)"
   ]
  },
  {
   "cell_type": "code",
   "execution_count": 5,
   "metadata": {},
   "outputs": [
    {
     "data": {
      "text/html": [
       "<div>\n",
       "<style scoped>\n",
       "    .dataframe tbody tr th:only-of-type {\n",
       "        vertical-align: middle;\n",
       "    }\n",
       "\n",
       "    .dataframe tbody tr th {\n",
       "        vertical-align: top;\n",
       "    }\n",
       "\n",
       "    .dataframe thead th {\n",
       "        text-align: right;\n",
       "    }\n",
       "</style>\n",
       "<table border=\"1\" class=\"dataframe\">\n",
       "  <thead>\n",
       "    <tr style=\"text-align: right;\">\n",
       "      <th></th>\n",
       "      <th>OPERATOR_ID</th>\n",
       "      <th>YEAR</th>\n",
       "      <th>NAME</th>\n",
       "      <th>COMMODITY</th>\n",
       "      <th>MILES</th>\n",
       "      <th>AGE_UNKNOWN_MILES</th>\n",
       "      <th>MILES_PRE_1940</th>\n",
       "      <th>MILES_1940</th>\n",
       "      <th>MILES_1950</th>\n",
       "      <th>MILES_1960</th>\n",
       "      <th>MILES_1970</th>\n",
       "      <th>MILES_1980</th>\n",
       "      <th>MILES_1990</th>\n",
       "      <th>MILES_2000</th>\n",
       "      <th>MILES_2010</th>\n",
       "      <th>PERC_OFFSHORE</th>\n",
       "      <th>AVG_AGE</th>\n",
       "      <th>PARENT</th>\n",
       "      <th>INCIDENTS</th>\n",
       "      <th>SIGNIFICANT_INCIDENTS</th>\n",
       "    </tr>\n",
       "  </thead>\n",
       "  <tbody>\n",
       "    <tr>\n",
       "      <th>383</th>\n",
       "      <td>12628</td>\n",
       "      <td>2011</td>\n",
       "      <td>EXXONMOBIL PIPELINE CO</td>\n",
       "      <td>hvl</td>\n",
       "      <td>66.00</td>\n",
       "      <td>0.00</td>\n",
       "      <td>0.00</td>\n",
       "      <td>0.00</td>\n",
       "      <td>80.00</td>\n",
       "      <td>56.50</td>\n",
       "      <td>73.00</td>\n",
       "      <td>15.00</td>\n",
       "      <td>7.00</td>\n",
       "      <td>12.50</td>\n",
       "      <td>0.00</td>\n",
       "      <td>0.0</td>\n",
       "      <td>51.147541</td>\n",
       "      <td>Exxon Mobil</td>\n",
       "      <td>0.0</td>\n",
       "      <td>0.0</td>\n",
       "    </tr>\n",
       "    <tr>\n",
       "      <th>649</th>\n",
       "      <td>22855</td>\n",
       "      <td>2016</td>\n",
       "      <td>KOCH PIPELINE COMPANY, L.P.</td>\n",
       "      <td>crude</td>\n",
       "      <td>582.23</td>\n",
       "      <td>0.00</td>\n",
       "      <td>0.00</td>\n",
       "      <td>0.00</td>\n",
       "      <td>213.88</td>\n",
       "      <td>0.00</td>\n",
       "      <td>256.90</td>\n",
       "      <td>767.54</td>\n",
       "      <td>76.58</td>\n",
       "      <td>317.21</td>\n",
       "      <td>143.92</td>\n",
       "      <td>0.0</td>\n",
       "      <td>33.624911</td>\n",
       "      <td>Koch Industries</td>\n",
       "      <td>1.0</td>\n",
       "      <td>1.0</td>\n",
       "    </tr>\n",
       "    <tr>\n",
       "      <th>611</th>\n",
       "      <td>22610</td>\n",
       "      <td>2015</td>\n",
       "      <td>MAGELLAN PIPELINE COMPANY, LP</td>\n",
       "      <td>crude</td>\n",
       "      <td>463.75</td>\n",
       "      <td>0.75</td>\n",
       "      <td>0.00</td>\n",
       "      <td>60.75</td>\n",
       "      <td>34.00</td>\n",
       "      <td>131.75</td>\n",
       "      <td>191.00</td>\n",
       "      <td>3.50</td>\n",
       "      <td>16.00</td>\n",
       "      <td>32.25</td>\n",
       "      <td>486.25</td>\n",
       "      <td>0.0</td>\n",
       "      <td>27.257980</td>\n",
       "      <td>Magellan Midstream Partners</td>\n",
       "      <td>5.0</td>\n",
       "      <td>2.0</td>\n",
       "    </tr>\n",
       "    <tr>\n",
       "      <th>1446</th>\n",
       "      <td>32296</td>\n",
       "      <td>2017</td>\n",
       "      <td>TARGA RESOURCES OPERATING LLC</td>\n",
       "      <td>hvl</td>\n",
       "      <td>150.15</td>\n",
       "      <td>8.71</td>\n",
       "      <td>26.98</td>\n",
       "      <td>4.33</td>\n",
       "      <td>59.79</td>\n",
       "      <td>166.11</td>\n",
       "      <td>147.69</td>\n",
       "      <td>30.69</td>\n",
       "      <td>28.77</td>\n",
       "      <td>4.24</td>\n",
       "      <td>11.43</td>\n",
       "      <td>0.0</td>\n",
       "      <td>50.695894</td>\n",
       "      <td>Targa Resources</td>\n",
       "      <td>0.0</td>\n",
       "      <td>0.0</td>\n",
       "    </tr>\n",
       "    <tr>\n",
       "      <th>1426</th>\n",
       "      <td>32258</td>\n",
       "      <td>2015</td>\n",
       "      <td>KINDER MORGAN COCHIN LLC</td>\n",
       "      <td>hvl</td>\n",
       "      <td>187.71</td>\n",
       "      <td>0.00</td>\n",
       "      <td>0.00</td>\n",
       "      <td>0.00</td>\n",
       "      <td>0.25</td>\n",
       "      <td>0.00</td>\n",
       "      <td>262.77</td>\n",
       "      <td>0.00</td>\n",
       "      <td>38.86</td>\n",
       "      <td>0.00</td>\n",
       "      <td>1.39</td>\n",
       "      <td>0.0</td>\n",
       "      <td>42.270419</td>\n",
       "      <td>Kinder Morgan</td>\n",
       "      <td>0.0</td>\n",
       "      <td>0.0</td>\n",
       "    </tr>\n",
       "  </tbody>\n",
       "</table>\n",
       "</div>"
      ],
      "text/plain": [
       "     OPERATOR_ID  YEAR                           NAME COMMODITY   MILES  \\\n",
       "383        12628  2011         EXXONMOBIL PIPELINE CO       hvl   66.00   \n",
       "649        22855  2016    KOCH PIPELINE COMPANY, L.P.     crude  582.23   \n",
       "611        22610  2015  MAGELLAN PIPELINE COMPANY, LP     crude  463.75   \n",
       "1446       32296  2017  TARGA RESOURCES OPERATING LLC       hvl  150.15   \n",
       "1426       32258  2015       KINDER MORGAN COCHIN LLC       hvl  187.71   \n",
       "\n",
       "      AGE_UNKNOWN_MILES  MILES_PRE_1940  MILES_1940  MILES_1950  MILES_1960  \\\n",
       "383                0.00            0.00        0.00       80.00       56.50   \n",
       "649                0.00            0.00        0.00      213.88        0.00   \n",
       "611                0.75            0.00       60.75       34.00      131.75   \n",
       "1446               8.71           26.98        4.33       59.79      166.11   \n",
       "1426               0.00            0.00        0.00        0.25        0.00   \n",
       "\n",
       "      MILES_1970  MILES_1980  MILES_1990  MILES_2000  MILES_2010  \\\n",
       "383        73.00       15.00        7.00       12.50        0.00   \n",
       "649       256.90      767.54       76.58      317.21      143.92   \n",
       "611       191.00        3.50       16.00       32.25      486.25   \n",
       "1446      147.69       30.69       28.77        4.24       11.43   \n",
       "1426      262.77        0.00       38.86        0.00        1.39   \n",
       "\n",
       "      PERC_OFFSHORE    AVG_AGE                       PARENT  INCIDENTS  \\\n",
       "383             0.0  51.147541                  Exxon Mobil        0.0   \n",
       "649             0.0  33.624911              Koch Industries        1.0   \n",
       "611             0.0  27.257980  Magellan Midstream Partners        5.0   \n",
       "1446            0.0  50.695894              Targa Resources        0.0   \n",
       "1426            0.0  42.270419                Kinder Morgan        0.0   \n",
       "\n",
       "      SIGNIFICANT_INCIDENTS  \n",
       "383                     0.0  \n",
       "649                     1.0  \n",
       "611                     2.0  \n",
       "1446                    0.0  \n",
       "1426                    0.0  "
      ]
     },
     "execution_count": 5,
     "metadata": {},
     "output_type": "execute_result"
    }
   ],
   "source": [
    "sample = pd.read_feather(sample_file)\n",
    "sample.sample(5)"
   ]
  },
  {
   "cell_type": "code",
   "execution_count": 6,
   "metadata": {},
   "outputs": [],
   "source": [
    "pipelines_2010_raw = pd.read_feather(pipelines_2010_raw_file)"
   ]
  },
  {
   "cell_type": "markdown",
   "metadata": {},
   "source": [
    "## 8.1 Functions for analysis"
   ]
  },
  {
   "cell_type": "code",
   "execution_count": 7,
   "metadata": {},
   "outputs": [
    {
     "data": {
      "text/plain": [
       "[{'name': 'DIXIE PIPELINE',\n",
       "  'start_year': 2010,\n",
       "  'end_year': 2010,\n",
       "  'id_': '3445'},\n",
       " {'name': 'DIXIE PIPELINE COMPANY LLC',\n",
       "  'start_year': 2011,\n",
       "  'end_year': 2018,\n",
       "  'id_': '3445'}]"
      ]
     },
     "execution_count": 7,
     "metadata": {},
     "output_type": "execute_result"
    }
   ],
   "source": [
    "from functools import partial\n",
    "\n",
    "def find_info(OPERATOR_ID, info_col: str, title: str, df = pipelines_2010_raw, id_col = 'OPERATOR_ID', \n",
    "              year_col = 'REPORT_YEAR', fuzzy=False):\n",
    "    from fuzzywuzzy import fuzz\n",
    "    \n",
    "    values = np.unique(df[df[id_col] == int(OPERATOR_ID)][info_col]).tolist()\n",
    "    result = []\n",
    "    for value in values:\n",
    "        start_year = df[df[info_col] == value][year_col].min()\n",
    "        end_year = df[df[info_col] == value][year_col].max()\n",
    "        id_ = OPERATOR_ID\n",
    "        result = result + [{title: value, 'start_year': start_year, 'end_year': end_year, 'id_': id_}]\n",
    "        \n",
    "    if fuzzy and len(result) == 2 and fuzz.ratio(result[0][title].lower(), result[1][title].lower()) >= 95:\n",
    "            result = [result[0]]\n",
    "            \n",
    "    return(result)\n",
    "\n",
    "find_address = partial(find_info, info_col='PARTA4STREET', title='address')\n",
    "find_name = partial(find_info, info_col='PARTA2NAMEOFCOMP', title='name', fuzzy=True)\n",
    "find_name('3445')"
   ]
  },
  {
   "cell_type": "code",
   "execution_count": 8,
   "metadata": {},
   "outputs": [
    {
     "name": "stdout",
     "output_type": "stream",
     "text": [
      "\n",
      "Organization 3445 has changed its name:\n",
      "    3445 was named DIXIE PIPELINE from 2010 to 2010.\n",
      "    3445 was named DIXIE PIPELINE COMPANY LLC from 2011 to 2018.\n"
     ]
    }
   ],
   "source": [
    "def report_names(names: list):\n",
    "    for name in names: \n",
    "        hist = find_name(name)\n",
    "        if len(hist) > 1:\n",
    "            print(f\"\\nOrganization {hist[0]['id_']} has changed its name:\")\n",
    "            for row in hist:\n",
    "                print(f\"    {row['id_']} was named {row['name']} from {row['start_year']} to {row['end_year']}.\")\n",
    "    \n",
    "    if max([len(find_name(name)) for name in names]) < 2:\n",
    "        print('No organizations were renamed at any time.')\n",
    "\n",
    "report_names(['4907', '3445'])"
   ]
  },
  {
   "cell_type": "code",
   "execution_count": 9,
   "metadata": {},
   "outputs": [
    {
     "data": {
      "text/plain": [
       "2113.75"
      ]
     },
     "execution_count": 9,
     "metadata": {},
     "output_type": "execute_result"
    }
   ],
   "source": [
    "def find_total_miles_year(OPERATOR_ID, year, df = pipelines_2010_raw, year_col = 'REPORT_YEAR', \n",
    "                          id_col = 'OPERATOR_ID', miles_col='PARTBHCATOTAL'):\n",
    "    observations = df.loc[(df[year_col] == year) & (df[id_col] == int(OPERATOR_ID))][miles_col]\n",
    "    return observations.sum()\n",
    "\n",
    "find_total_miles_year('4906', 2015)"
   ]
  },
  {
   "cell_type": "code",
   "execution_count": 10,
   "metadata": {},
   "outputs": [
    {
     "data": {
      "text/plain": [
       "[[2013, 2944.4], [2014, 2343.06], [2015, 2113.75], [2016, 2590.17]]"
      ]
     },
     "execution_count": 10,
     "metadata": {},
     "output_type": "execute_result"
    }
   ],
   "source": [
    "def find_total_miles(OPERATOR_ID, years, df = pipelines_2010_raw, year_col = 'REPORT_YEAR', miles_col='PARTBHCATOTAL'):\n",
    "    result = []\n",
    "    for year in years:\n",
    "        result.append([year, find_total_miles_year(OPERATOR_ID, year)])\n",
    "    return(result)\n",
    "\n",
    "find_total_miles('4906', range(2013, 2017))"
   ]
  },
  {
   "cell_type": "markdown",
   "metadata": {},
   "source": [
    "## 8.2 Iterate over issues and resolve them one at a time"
   ]
  },
  {
   "cell_type": "markdown",
   "metadata": {},
   "source": [
    "We use the dictionary \"company groups\" to capture any companies we have to combine to form one observation. At every step we consult ownership_changes.txt to see if there are changed in ownership over time."
   ]
  },
  {
   "cell_type": "markdown",
   "metadata": {},
   "source": [
    "### Store results in"
   ]
  },
  {
   "cell_type": "code",
   "execution_count": 11,
   "metadata": {},
   "outputs": [],
   "source": [
    "company_groups = pd.DataFrame()\n",
    "\n",
    "def add_company_group(name: str, members: list, df = company_groups):\n",
    "    new_group = pd.DataFrame({'members': members})\n",
    "    new_group['name'] = name\n",
    "    df = df.append(new_group, ignore_index=True)\n",
    "    return df"
   ]
  },
  {
   "cell_type": "code",
   "execution_count": 12,
   "metadata": {},
   "outputs": [],
   "source": [
    "m_as = pd.DataFrame()\n",
    "\n",
    "def add_m_a(name: str, members: list, df, start_year: str = None, end_year: str = None):\n",
    "    new_group = pd.DataFrame({'members': members})\n",
    "    new_group['name'] = name\n",
    "    \n",
    "    if start_year:\n",
    "        new_group['start_year'] = start_year\n",
    "    if end_year:\n",
    "        new_group['end_year'] = end_year\n",
    "    \n",
    "    df = df.append(new_group, sort=False, ignore_index=True)\n",
    "    return df"
   ]
  },
  {
   "cell_type": "code",
   "execution_count": 13,
   "metadata": {},
   "outputs": [],
   "source": [
    "spin_offs = []"
   ]
  },
  {
   "cell_type": "markdown",
   "metadata": {},
   "source": [
    "### 8.2.1 Enterprise Products Operating"
   ]
  },
  {
   "cell_type": "code",
   "execution_count": 14,
   "metadata": {},
   "outputs": [
    {
     "name": "stdout",
     "output_type": "stream",
     "text": [
      "\n",
      "ENTERPRISE PRODUCTS OPERATING LLC (OPERATOR_ID 31618) has the same parent company as:\n",
      "\n",
      "\tDIXIE PIPELINE COMPANY LLC (OPERATOR_ID 3445)\n",
      "\n",
      "\tENTERPRISE CRUDE PIPELINE LLC (OPERATOR_ID 30829)\n",
      "\n",
      "\tTRI-STATES NGL PIPELINE LLC (OPERATOR_ID 31270)\n",
      "\n"
     ]
    }
   ],
   "source": [
    "print(next(issues))"
   ]
  },
  {
   "cell_type": "markdown",
   "metadata": {},
   "source": [
    "### Gather infor_asation"
   ]
  },
  {
   "cell_type": "code",
   "execution_count": 15,
   "metadata": {},
   "outputs": [
    {
     "name": "stdout",
     "output_type": "stream",
     "text": [
      "\n",
      "Organization 3445 has changed its name:\n",
      "    3445 was named DIXIE PIPELINE from 2010 to 2010.\n",
      "    3445 was named DIXIE PIPELINE COMPANY LLC from 2011 to 2018.\n"
     ]
    }
   ],
   "source": [
    "report_names(['31618', '3445', '30829', '31270'])"
   ]
  },
  {
   "cell_type": "markdown",
   "metadata": {},
   "source": [
    "### Decision"
   ]
  },
  {
   "cell_type": "markdown",
   "metadata": {},
   "source": [
    "As per ownership_changes.txt, enterprise products partners aqcuired a majority stake in Dixie Pipelines in 2005. The others are wholly-owned subsidies."
   ]
  },
  {
   "cell_type": "code",
   "execution_count": 16,
   "metadata": {},
   "outputs": [
    {
     "data": {
      "text/html": [
       "<div>\n",
       "<style scoped>\n",
       "    .dataframe tbody tr th:only-of-type {\n",
       "        vertical-align: middle;\n",
       "    }\n",
       "\n",
       "    .dataframe tbody tr th {\n",
       "        vertical-align: top;\n",
       "    }\n",
       "\n",
       "    .dataframe thead th {\n",
       "        text-align: right;\n",
       "    }\n",
       "</style>\n",
       "<table border=\"1\" class=\"dataframe\">\n",
       "  <thead>\n",
       "    <tr style=\"text-align: right;\">\n",
       "      <th></th>\n",
       "      <th>members</th>\n",
       "      <th>name</th>\n",
       "    </tr>\n",
       "  </thead>\n",
       "  <tbody>\n",
       "    <tr>\n",
       "      <th>0</th>\n",
       "      <td>31618</td>\n",
       "      <td>Enterprise Products (Group)</td>\n",
       "    </tr>\n",
       "    <tr>\n",
       "      <th>1</th>\n",
       "      <td>3445</td>\n",
       "      <td>Enterprise Products (Group)</td>\n",
       "    </tr>\n",
       "    <tr>\n",
       "      <th>2</th>\n",
       "      <td>30829</td>\n",
       "      <td>Enterprise Products (Group)</td>\n",
       "    </tr>\n",
       "    <tr>\n",
       "      <th>3</th>\n",
       "      <td>31270</td>\n",
       "      <td>Enterprise Products (Group)</td>\n",
       "    </tr>\n",
       "  </tbody>\n",
       "</table>\n",
       "</div>"
      ],
      "text/plain": [
       "  members                         name\n",
       "0   31618  Enterprise Products (Group)\n",
       "1    3445  Enterprise Products (Group)\n",
       "2   30829  Enterprise Products (Group)\n",
       "3   31270  Enterprise Products (Group)"
      ]
     },
     "execution_count": 16,
     "metadata": {},
     "output_type": "execute_result"
    }
   ],
   "source": [
    "company_groups = add_company_group('Enterprise Products (Group)', ['31618', '3445', '30829', '31270'], company_groups)\n",
    "company_groups"
   ]
  },
  {
   "cell_type": "markdown",
   "metadata": {},
   "source": [
    "### 8.2.2 Oneok NGL"
   ]
  },
  {
   "cell_type": "code",
   "execution_count": 17,
   "metadata": {},
   "outputs": [
    {
     "name": "stdout",
     "output_type": "stream",
     "text": [
      "\n",
      "ONEOK NGL PIPELINE, LLC (OPERATOR_ID 32109) has changed its name:\n",
      "\n",
      "\tWas named ONEOK NGL PIPELINE LP from 2010 to 2011.\n",
      "\n",
      "\tWas named ONEOK NGL PIPELINE, LLC from 2012 to 2018.\n",
      "\n"
     ]
    }
   ],
   "source": [
    "print(next(issues))"
   ]
  },
  {
   "cell_type": "markdown",
   "metadata": {},
   "source": [
    "No action necessary."
   ]
  },
  {
   "cell_type": "markdown",
   "metadata": {},
   "source": [
    "### 8.2.3 Magellan"
   ]
  },
  {
   "cell_type": "code",
   "execution_count": 18,
   "metadata": {},
   "outputs": [
    {
     "name": "stdout",
     "output_type": "stream",
     "text": [
      "\n",
      "MAGELLAN PIPELINE COMPANY, LP (OPERATOR_ID 22610) has the same parent company as:\n",
      "\n",
      "\tMAGELLAN AMMONIA PIPELINE, L.P. (OPERATOR_ID 12105)\n",
      "\n",
      "\tMAGELLAN PIPELINES HOLDINGS, LP (OPERATOR_ID 31579)\n",
      "\n",
      "\tMAGELLAN CRUDE OIL PIPELINE COMPANY, L.P. (OPERATOR_ID 39504)\n",
      "\n",
      "MAGELLAN PIPELINE COMPANY, LP (OPERATOR_ID 22610) may have a namesake or namesakes:\n",
      "\n",
      "\tMagellan Ammonia Pipeline, L.P. (OPERATOR_ID 12105)\n",
      "\n",
      "\tMagellan Pipelines Holdings, L.P. (OPERATOR_ID 31579)\n",
      "\n"
     ]
    }
   ],
   "source": [
    "print(next(issues))"
   ]
  },
  {
   "cell_type": "code",
   "execution_count": 19,
   "metadata": {},
   "outputs": [
    {
     "name": "stdout",
     "output_type": "stream",
     "text": [
      "No organizations were renamed at any time.\n"
     ]
    }
   ],
   "source": [
    "report_names(['22610', '12105', '31579', '39504'])"
   ]
  },
  {
   "cell_type": "markdown",
   "metadata": {},
   "source": [
    "LexisNexis yielded no reports of ownership changed for any subsidiaries (some assets changed hands, but that case is appropriately covered by the FERC data)."
   ]
  },
  {
   "cell_type": "markdown",
   "metadata": {},
   "source": [
    "### Decision"
   ]
  },
  {
   "cell_type": "code",
   "execution_count": 20,
   "metadata": {},
   "outputs": [
    {
     "data": {
      "text/html": [
       "<div>\n",
       "<style scoped>\n",
       "    .dataframe tbody tr th:only-of-type {\n",
       "        vertical-align: middle;\n",
       "    }\n",
       "\n",
       "    .dataframe tbody tr th {\n",
       "        vertical-align: top;\n",
       "    }\n",
       "\n",
       "    .dataframe thead th {\n",
       "        text-align: right;\n",
       "    }\n",
       "</style>\n",
       "<table border=\"1\" class=\"dataframe\">\n",
       "  <thead>\n",
       "    <tr style=\"text-align: right;\">\n",
       "      <th></th>\n",
       "      <th>members</th>\n",
       "      <th>name</th>\n",
       "    </tr>\n",
       "  </thead>\n",
       "  <tbody>\n",
       "    <tr>\n",
       "      <th>3</th>\n",
       "      <td>31270</td>\n",
       "      <td>Enterprise Products (Group)</td>\n",
       "    </tr>\n",
       "    <tr>\n",
       "      <th>4</th>\n",
       "      <td>22610</td>\n",
       "      <td>Magellan (Group)</td>\n",
       "    </tr>\n",
       "    <tr>\n",
       "      <th>5</th>\n",
       "      <td>12105</td>\n",
       "      <td>Magellan (Group)</td>\n",
       "    </tr>\n",
       "    <tr>\n",
       "      <th>6</th>\n",
       "      <td>31579</td>\n",
       "      <td>Magellan (Group)</td>\n",
       "    </tr>\n",
       "    <tr>\n",
       "      <th>7</th>\n",
       "      <td>39504</td>\n",
       "      <td>Magellan (Group)</td>\n",
       "    </tr>\n",
       "  </tbody>\n",
       "</table>\n",
       "</div>"
      ],
      "text/plain": [
       "  members                         name\n",
       "3   31270  Enterprise Products (Group)\n",
       "4   22610             Magellan (Group)\n",
       "5   12105             Magellan (Group)\n",
       "6   31579             Magellan (Group)\n",
       "7   39504             Magellan (Group)"
      ]
     },
     "execution_count": 20,
     "metadata": {},
     "output_type": "execute_result"
    }
   ],
   "source": [
    "company_groups = add_company_group('Magellan (Group)', ['22610', '12105', '31579', '39504'], company_groups)\n",
    "company_groups.tail()"
   ]
  },
  {
   "cell_type": "markdown",
   "metadata": {},
   "source": [
    "### 8.2.4 Phillips 66"
   ]
  },
  {
   "cell_type": "code",
   "execution_count": 21,
   "metadata": {},
   "outputs": [
    {
     "name": "stdout",
     "output_type": "stream",
     "text": [
      "\n",
      "PHILLIPS 66 PIPELINE LLC (OPERATOR_ID 31684) has changed its name:\n",
      "\n",
      "\tWas named CONOCOPHILLIPS from 2010 to 2010.\n",
      "\n",
      "\tWas named PHILLIPS 66 PIPELINE LLC from 2011 to 2018.\n",
      "\n",
      "PHILLIPS 66 PIPELINE LLC (OPERATOR_ID 31684) has the same parent company as:\n",
      "\n",
      "\tPHILLIPS 66 COMPANY - SWEENY REFINERY (OPERATOR_ID 15485)\n",
      "\n",
      "PHILLIPS 66 PIPELINE LLC (OPERATOR_ID 31684) may have a namesake or namesakes:\n",
      "\n",
      "\tCONOCOPHILLIPS COMPANY (OPERATOR_ID 15485)\n",
      "\n",
      "\tPHILLIPS 66 COMPANY (OPERATOR_ID 15485)\n",
      "\n"
     ]
    }
   ],
   "source": [
    "print(next(issues))"
   ]
  },
  {
   "cell_type": "markdown",
   "metadata": {},
   "source": [
    "Downstream business was spun off in 2011 as Phillips 66."
   ]
  },
  {
   "cell_type": "code",
   "execution_count": 22,
   "metadata": {},
   "outputs": [
    {
     "name": "stdout",
     "output_type": "stream",
     "text": [
      "\n",
      "Organization 31684 has changed its name:\n",
      "    31684 was named CONOCOPHILLIPS from 2010 to 2010.\n",
      "    31684 was named PHILLIPS 66 PIPELINE LLC from 2011 to 2018.\n",
      "\n",
      "Organization 15485 has changed its name:\n",
      "    15485 was named CONOCOPHILLIPS COMPANY from 2010 to 2010.\n",
      "    15485 was named PHILLIPS 66 COMPANY from 2011 to 2011.\n",
      "    15485 was named PHILLIPS 66 COMPANY - SWEENY REFINERY from 2012 to 2018.\n"
     ]
    }
   ],
   "source": [
    "report_names(['31684', '15485'])"
   ]
  },
  {
   "cell_type": "markdown",
   "metadata": {},
   "source": [
    "Sweeny refinery is not an independent organizations. We will reconsolidate the two organizations."
   ]
  },
  {
   "cell_type": "markdown",
   "metadata": {},
   "source": [
    "### Decision"
   ]
  },
  {
   "cell_type": "code",
   "execution_count": 23,
   "metadata": {},
   "outputs": [
    {
     "data": {
      "text/html": [
       "<div>\n",
       "<style scoped>\n",
       "    .dataframe tbody tr th:only-of-type {\n",
       "        vertical-align: middle;\n",
       "    }\n",
       "\n",
       "    .dataframe tbody tr th {\n",
       "        vertical-align: top;\n",
       "    }\n",
       "\n",
       "    .dataframe thead th {\n",
       "        text-align: right;\n",
       "    }\n",
       "</style>\n",
       "<table border=\"1\" class=\"dataframe\">\n",
       "  <thead>\n",
       "    <tr style=\"text-align: right;\">\n",
       "      <th></th>\n",
       "      <th>members</th>\n",
       "      <th>name</th>\n",
       "    </tr>\n",
       "  </thead>\n",
       "  <tbody>\n",
       "    <tr>\n",
       "      <th>5</th>\n",
       "      <td>12105</td>\n",
       "      <td>Magellan (Group)</td>\n",
       "    </tr>\n",
       "    <tr>\n",
       "      <th>6</th>\n",
       "      <td>31579</td>\n",
       "      <td>Magellan (Group)</td>\n",
       "    </tr>\n",
       "    <tr>\n",
       "      <th>7</th>\n",
       "      <td>39504</td>\n",
       "      <td>Magellan (Group)</td>\n",
       "    </tr>\n",
       "    <tr>\n",
       "      <th>8</th>\n",
       "      <td>15485</td>\n",
       "      <td>Phillips 66 (Group)</td>\n",
       "    </tr>\n",
       "    <tr>\n",
       "      <th>9</th>\n",
       "      <td>31684</td>\n",
       "      <td>Phillips 66 (Group)</td>\n",
       "    </tr>\n",
       "  </tbody>\n",
       "</table>\n",
       "</div>"
      ],
      "text/plain": [
       "  members                 name\n",
       "5   12105     Magellan (Group)\n",
       "6   31579     Magellan (Group)\n",
       "7   39504     Magellan (Group)\n",
       "8   15485  Phillips 66 (Group)\n",
       "9   31684  Phillips 66 (Group)"
      ]
     },
     "execution_count": 23,
     "metadata": {},
     "output_type": "execute_result"
    }
   ],
   "source": [
    "company_groups = add_company_group('Phillips 66 (Group)', ['15485', '31684'], company_groups)\n",
    "company_groups.tail()"
   ]
  },
  {
   "cell_type": "markdown",
   "metadata": {},
   "source": [
    "### 8.2.5 Buckeye"
   ]
  },
  {
   "cell_type": "code",
   "execution_count": 24,
   "metadata": {},
   "outputs": [
    {
     "name": "stdout",
     "output_type": "stream",
     "text": [
      "\n",
      "BUCKEYE PARTNERS, LP (OPERATOR_ID 1845) has the same parent company as:\n",
      "\n",
      "\tBUCKEYE DEVELOPMENT & LOGISTICS, LLC (OPERATOR_ID 31371)\n",
      "\n"
     ]
    }
   ],
   "source": [
    "print(next(issues))"
   ]
  },
  {
   "cell_type": "code",
   "execution_count": 25,
   "metadata": {},
   "outputs": [
    {
     "name": "stdout",
     "output_type": "stream",
     "text": [
      "No organizations were renamed at any time.\n"
     ]
    }
   ],
   "source": [
    "report_names(['1845', '31371'])"
   ]
  },
  {
   "cell_type": "markdown",
   "metadata": {},
   "source": [
    "### Decision"
   ]
  },
  {
   "cell_type": "markdown",
   "metadata": {},
   "source": [
    "LexisNexis does not indicate that Buckeye Development & Logistics is an outside acquisition by Buckeye Partners. We consolidate the two organizations into one."
   ]
  },
  {
   "cell_type": "code",
   "execution_count": 26,
   "metadata": {},
   "outputs": [
    {
     "data": {
      "text/html": [
       "<div>\n",
       "<style scoped>\n",
       "    .dataframe tbody tr th:only-of-type {\n",
       "        vertical-align: middle;\n",
       "    }\n",
       "\n",
       "    .dataframe tbody tr th {\n",
       "        vertical-align: top;\n",
       "    }\n",
       "\n",
       "    .dataframe thead th {\n",
       "        text-align: right;\n",
       "    }\n",
       "</style>\n",
       "<table border=\"1\" class=\"dataframe\">\n",
       "  <thead>\n",
       "    <tr style=\"text-align: right;\">\n",
       "      <th></th>\n",
       "      <th>members</th>\n",
       "      <th>name</th>\n",
       "    </tr>\n",
       "  </thead>\n",
       "  <tbody>\n",
       "    <tr>\n",
       "      <th>7</th>\n",
       "      <td>39504</td>\n",
       "      <td>Magellan (Group)</td>\n",
       "    </tr>\n",
       "    <tr>\n",
       "      <th>8</th>\n",
       "      <td>15485</td>\n",
       "      <td>Phillips 66 (Group)</td>\n",
       "    </tr>\n",
       "    <tr>\n",
       "      <th>9</th>\n",
       "      <td>31684</td>\n",
       "      <td>Phillips 66 (Group)</td>\n",
       "    </tr>\n",
       "    <tr>\n",
       "      <th>10</th>\n",
       "      <td>1845</td>\n",
       "      <td>Buckeye (Group)</td>\n",
       "    </tr>\n",
       "    <tr>\n",
       "      <th>11</th>\n",
       "      <td>31371</td>\n",
       "      <td>Buckeye (Group)</td>\n",
       "    </tr>\n",
       "  </tbody>\n",
       "</table>\n",
       "</div>"
      ],
      "text/plain": [
       "   members                 name\n",
       "7    39504     Magellan (Group)\n",
       "8    15485  Phillips 66 (Group)\n",
       "9    31684  Phillips 66 (Group)\n",
       "10    1845      Buckeye (Group)\n",
       "11   31371      Buckeye (Group)"
      ]
     },
     "execution_count": 26,
     "metadata": {},
     "output_type": "execute_result"
    }
   ],
   "source": [
    "company_groups = add_company_group('Buckeye (Group)', ['1845', '31371'], company_groups)\n",
    "company_groups.tail()"
   ]
  },
  {
   "cell_type": "markdown",
   "metadata": {},
   "source": [
    "### 8.2.5 Sunoco"
   ]
  },
  {
   "cell_type": "code",
   "execution_count": 27,
   "metadata": {},
   "outputs": [
    {
     "name": "stdout",
     "output_type": "stream",
     "text": [
      "\n",
      "SUNOCO PIPELINE L.P. (OPERATOR_ID 18718) has the same parent company as:\n",
      "\n",
      "\tMID - VALLEY PIPELINE CO (OPERATOR_ID 12470)\n",
      "\n",
      "\tWEST TEXAS GULF PIPELINE CO (OPERATOR_ID 22442)\n",
      "\n",
      "\tENERGY TRANSFER COMPANY (OPERATOR_ID 32099)\n",
      "\n",
      "\tINLAND CORPORATION (OPERATOR_ID 32683)\n",
      "\n",
      "\tDAPL-ETCO OPERATIONS MANAGEMENT, LLC (OPERATOR_ID 39205)\n",
      "\n",
      "\tPERMIAN EXPRESS PARTNERS LLC (OPERATOR_ID 39596)\n",
      "\n"
     ]
    }
   ],
   "source": [
    "print(next(issues))"
   ]
  },
  {
   "cell_type": "code",
   "execution_count": 28,
   "metadata": {},
   "outputs": [
    {
     "name": "stdout",
     "output_type": "stream",
     "text": [
      "No organizations were renamed at any time.\n"
     ]
    }
   ],
   "source": [
    "report_names(['18718', '12470', '22442', '32099', '32683', '39205', '39596'])"
   ]
  },
  {
   "cell_type": "markdown",
   "metadata": {},
   "source": [
    "According to our .txt file on ownership changes, Sunoco \n",
    "\n",
    "    - acquired a majority stake in Inland Corp (32683) on May 17, 2011\n",
    "    \n",
    "    - acquired a majority stake in West Texas Gulf Pipeline (22442) on Aug 18, 2010\n",
    "    \n",
    "    - merged with Energy Transfer (32099) on Oct 5, 2012"
   ]
  },
  {
   "cell_type": "code",
   "execution_count": 29,
   "metadata": {},
   "outputs": [
    {
     "data": {
      "text/html": [
       "<div>\n",
       "<style scoped>\n",
       "    .dataframe tbody tr th:only-of-type {\n",
       "        vertical-align: middle;\n",
       "    }\n",
       "\n",
       "    .dataframe tbody tr th {\n",
       "        vertical-align: top;\n",
       "    }\n",
       "\n",
       "    .dataframe thead th {\n",
       "        text-align: right;\n",
       "    }\n",
       "</style>\n",
       "<table border=\"1\" class=\"dataframe\">\n",
       "  <thead>\n",
       "    <tr style=\"text-align: right;\">\n",
       "      <th></th>\n",
       "      <th>members</th>\n",
       "      <th>name</th>\n",
       "    </tr>\n",
       "  </thead>\n",
       "  <tbody>\n",
       "    <tr>\n",
       "      <th>11</th>\n",
       "      <td>31371</td>\n",
       "      <td>Buckeye (Group)</td>\n",
       "    </tr>\n",
       "    <tr>\n",
       "      <th>12</th>\n",
       "      <td>18718</td>\n",
       "      <td>Sunoco (Group)</td>\n",
       "    </tr>\n",
       "    <tr>\n",
       "      <th>13</th>\n",
       "      <td>12470</td>\n",
       "      <td>Sunoco (Group)</td>\n",
       "    </tr>\n",
       "    <tr>\n",
       "      <th>14</th>\n",
       "      <td>39205</td>\n",
       "      <td>Sunoco (Group)</td>\n",
       "    </tr>\n",
       "    <tr>\n",
       "      <th>15</th>\n",
       "      <td>39596</td>\n",
       "      <td>Sunoco (Group)</td>\n",
       "    </tr>\n",
       "  </tbody>\n",
       "</table>\n",
       "</div>"
      ],
      "text/plain": [
       "   members             name\n",
       "11   31371  Buckeye (Group)\n",
       "12   18718   Sunoco (Group)\n",
       "13   12470   Sunoco (Group)\n",
       "14   39205   Sunoco (Group)\n",
       "15   39596   Sunoco (Group)"
      ]
     },
     "execution_count": 29,
     "metadata": {},
     "output_type": "execute_result"
    }
   ],
   "source": [
    "company_groups = add_company_group('Sunoco (Group)', ['18718', '12470', '39205', '39596'], company_groups)\n",
    "company_groups.tail()"
   ]
  },
  {
   "cell_type": "code",
   "execution_count": 30,
   "metadata": {},
   "outputs": [
    {
     "data": {
      "text/html": [
       "<div>\n",
       "<style scoped>\n",
       "    .dataframe tbody tr th:only-of-type {\n",
       "        vertical-align: middle;\n",
       "    }\n",
       "\n",
       "    .dataframe tbody tr th {\n",
       "        vertical-align: top;\n",
       "    }\n",
       "\n",
       "    .dataframe thead th {\n",
       "        text-align: right;\n",
       "    }\n",
       "</style>\n",
       "<table border=\"1\" class=\"dataframe\">\n",
       "  <thead>\n",
       "    <tr style=\"text-align: right;\">\n",
       "      <th></th>\n",
       "      <th>members</th>\n",
       "      <th>name</th>\n",
       "      <th>start_year</th>\n",
       "    </tr>\n",
       "  </thead>\n",
       "  <tbody>\n",
       "    <tr>\n",
       "      <th>0</th>\n",
       "      <td>Sunoco (Group)</td>\n",
       "      <td>Sunoco (Group)</td>\n",
       "      <td>2011</td>\n",
       "    </tr>\n",
       "    <tr>\n",
       "      <th>1</th>\n",
       "      <td>32683</td>\n",
       "      <td>Sunoco (Group)</td>\n",
       "      <td>2011</td>\n",
       "    </tr>\n",
       "    <tr>\n",
       "      <th>2</th>\n",
       "      <td>22442</td>\n",
       "      <td>Sunoco (Group)</td>\n",
       "      <td>2011</td>\n",
       "    </tr>\n",
       "    <tr>\n",
       "      <th>3</th>\n",
       "      <td>Sunoco (Group)</td>\n",
       "      <td>Sunoco (Group)</td>\n",
       "      <td>2013</td>\n",
       "    </tr>\n",
       "    <tr>\n",
       "      <th>4</th>\n",
       "      <td>32099</td>\n",
       "      <td>Sunoco (Group)</td>\n",
       "      <td>2013</td>\n",
       "    </tr>\n",
       "  </tbody>\n",
       "</table>\n",
       "</div>"
      ],
      "text/plain": [
       "          members            name start_year\n",
       "0  Sunoco (Group)  Sunoco (Group)       2011\n",
       "1           32683  Sunoco (Group)       2011\n",
       "2           22442  Sunoco (Group)       2011\n",
       "3  Sunoco (Group)  Sunoco (Group)       2013\n",
       "4           32099  Sunoco (Group)       2013"
      ]
     },
     "execution_count": 30,
     "metadata": {},
     "output_type": "execute_result"
    }
   ],
   "source": [
    "m_as = add_m_a('Sunoco (Group)', ['Sunoco (Group)', '32683', '22442'], m_as, start_year = '2011')\n",
    "m_as = add_m_a('Sunoco (Group)', ['Sunoco (Group)', '32099'], m_as, start_year = '2013')\n",
    "\n",
    "m_as"
   ]
  },
  {
   "cell_type": "markdown",
   "metadata": {},
   "source": [
    "### 8.2.6 Flint Hills"
   ]
  },
  {
   "cell_type": "code",
   "execution_count": 31,
   "metadata": {},
   "outputs": [
    {
     "name": "stdout",
     "output_type": "stream",
     "text": [
      "\n",
      "FLINT HILLS RESOURCES, LC (OPERATOR_ID 22855) has changed its name:\n",
      "\n",
      "\tWas named FLINT HILLS RESOURCES, LC from 2017 to 2018.\n",
      "\n",
      "\tWas named KOCH PIPELINE COMPANY, L.P. from 2010 to 2016.\n",
      "\n"
     ]
    }
   ],
   "source": [
    "print(next(issues))"
   ]
  },
  {
   "cell_type": "code",
   "execution_count": 32,
   "metadata": {},
   "outputs": [
    {
     "data": {
      "text/plain": [
       "[[2015, 1885.19], [2016, 1674.88], [2017, 1711.48], [2018, 1750.7199999999998]]"
      ]
     },
     "execution_count": 32,
     "metadata": {},
     "output_type": "execute_result"
    }
   ],
   "source": [
    "find_total_miles('22855', range(2015, 2019))"
   ]
  },
  {
   "cell_type": "markdown",
   "metadata": {},
   "source": [
    "The restructuring or sell-off does not seem to affect the organizations pipeline assets. We will ignore the rebranding efforts."
   ]
  },
  {
   "cell_type": "markdown",
   "metadata": {},
   "source": [
    "### 8.2.7 NuStar"
   ]
  },
  {
   "cell_type": "code",
   "execution_count": 33,
   "metadata": {},
   "outputs": [
    {
     "name": "stdout",
     "output_type": "stream",
     "text": [
      "\n",
      "NUSTAR PIPELINE OPERATING PARTNERSHIP L.P. (OPERATOR_ID 10012) has the same parent company as:\n",
      "\n",
      "\tNUSTAR LOGISTICS, L.P. (OPERATOR_ID 31454)\n",
      "\n",
      "\tNUSTAR PERMIAN TRANSPORTATION AND STORAGE, LLC (OPERATOR_ID 39348)\n",
      "\n"
     ]
    }
   ],
   "source": [
    "print(next(issues))"
   ]
  },
  {
   "cell_type": "code",
   "execution_count": 34,
   "metadata": {},
   "outputs": [
    {
     "name": "stdout",
     "output_type": "stream",
     "text": [
      "No organizations were renamed at any time.\n"
     ]
    }
   ],
   "source": [
    "report_names('10012')"
   ]
  },
  {
   "cell_type": "markdown",
   "metadata": {},
   "source": [
    "LexisNexis Doessier does not list any M&As for the two subsidiaries. They just seem to be two separate subsidiaries, that we can group together."
   ]
  },
  {
   "cell_type": "code",
   "execution_count": 35,
   "metadata": {},
   "outputs": [
    {
     "data": {
      "text/html": [
       "<div>\n",
       "<style scoped>\n",
       "    .dataframe tbody tr th:only-of-type {\n",
       "        vertical-align: middle;\n",
       "    }\n",
       "\n",
       "    .dataframe tbody tr th {\n",
       "        vertical-align: top;\n",
       "    }\n",
       "\n",
       "    .dataframe thead th {\n",
       "        text-align: right;\n",
       "    }\n",
       "</style>\n",
       "<table border=\"1\" class=\"dataframe\">\n",
       "  <thead>\n",
       "    <tr style=\"text-align: right;\">\n",
       "      <th></th>\n",
       "      <th>members</th>\n",
       "      <th>name</th>\n",
       "    </tr>\n",
       "  </thead>\n",
       "  <tbody>\n",
       "    <tr>\n",
       "      <th>13</th>\n",
       "      <td>12470</td>\n",
       "      <td>Sunoco (Group)</td>\n",
       "    </tr>\n",
       "    <tr>\n",
       "      <th>14</th>\n",
       "      <td>39205</td>\n",
       "      <td>Sunoco (Group)</td>\n",
       "    </tr>\n",
       "    <tr>\n",
       "      <th>15</th>\n",
       "      <td>39596</td>\n",
       "      <td>Sunoco (Group)</td>\n",
       "    </tr>\n",
       "    <tr>\n",
       "      <th>16</th>\n",
       "      <td>10012</td>\n",
       "      <td>NuStar</td>\n",
       "    </tr>\n",
       "    <tr>\n",
       "      <th>17</th>\n",
       "      <td>31454</td>\n",
       "      <td>NuStar</td>\n",
       "    </tr>\n",
       "  </tbody>\n",
       "</table>\n",
       "</div>"
      ],
      "text/plain": [
       "   members            name\n",
       "13   12470  Sunoco (Group)\n",
       "14   39205  Sunoco (Group)\n",
       "15   39596  Sunoco (Group)\n",
       "16   10012          NuStar\n",
       "17   31454          NuStar"
      ]
     },
     "execution_count": 35,
     "metadata": {},
     "output_type": "execute_result"
    }
   ],
   "source": [
    "company_groups = add_company_group('NuStar', ['10012', '31454'], company_groups)\n",
    "company_groups.tail()"
   ]
  },
  {
   "cell_type": "markdown",
   "metadata": {},
   "source": [
    "### 8.2.8 Kinder Morgan"
   ]
  },
  {
   "cell_type": "code",
   "execution_count": 36,
   "metadata": {},
   "outputs": [
    {
     "name": "stdout",
     "output_type": "stream",
     "text": [
      "\n",
      "PLANTATION PIPE LINE CO (OPERATOR_ID 15674) has the same parent company as:\n",
      "\n",
      "\tCENTRAL FLORIDA PIPELINE CORP (OPERATOR_ID 2190)\n",
      "\n",
      "\tSFPP, LP (OPERATOR_ID 18092)\n",
      "\n",
      "\tCALNEV PIPELINE CO (OPERATOR_ID 26125)\n",
      "\n",
      "\tKINDER MORGAN CO2 CO. LP (OPERATOR_ID 31555)\n",
      "\n",
      "\tKINDER MORGAN COCHIN LLC (OPERATOR_ID 32258)\n",
      "\n",
      "\tCOPANO NGL SERVICES (MARKHAM), LLC (OPERATOR_ID 32541)\n",
      "\n",
      "\tHILAND CRUDE, LLC (OPERATOR_ID 32619)\n",
      "\n",
      "\tKINDER MORGAN CRUDE AND CONDENSATE LLC (OPERATOR_ID 32678)\n",
      "\n",
      "\tDOUBLE H (OPERATOR_ID 39440)\n",
      "\n"
     ]
    }
   ],
   "source": [
    "print(next(issues))"
   ]
  },
  {
   "cell_type": "code",
   "execution_count": 37,
   "metadata": {},
   "outputs": [
    {
     "name": "stdout",
     "output_type": "stream",
     "text": [
      "No organizations were renamed at any time.\n"
     ]
    }
   ],
   "source": [
    "report_names(['15674', '2190', '18092', '26125', '31555', '32258', '32541', '32619', '32678', '39440'])"
   ]
  },
  {
   "cell_type": "markdown",
   "metadata": {},
   "source": [
    "According to our .txt file on ownership changes, Kinder Morgan:\n",
    "\n",
    "    - has held a majority share in Plantation Pipe Line (15674) since June 16, 1999\n",
    "    \n",
    "    - sold off Cochin (32258) to Pembina on Aug 21, 2019"
   ]
  },
  {
   "cell_type": "code",
   "execution_count": 38,
   "metadata": {},
   "outputs": [
    {
     "data": {
      "text/html": [
       "<div>\n",
       "<style scoped>\n",
       "    .dataframe tbody tr th:only-of-type {\n",
       "        vertical-align: middle;\n",
       "    }\n",
       "\n",
       "    .dataframe tbody tr th {\n",
       "        vertical-align: top;\n",
       "    }\n",
       "\n",
       "    .dataframe thead th {\n",
       "        text-align: right;\n",
       "    }\n",
       "</style>\n",
       "<table border=\"1\" class=\"dataframe\">\n",
       "  <thead>\n",
       "    <tr style=\"text-align: right;\">\n",
       "      <th></th>\n",
       "      <th>members</th>\n",
       "      <th>name</th>\n",
       "    </tr>\n",
       "  </thead>\n",
       "  <tbody>\n",
       "    <tr>\n",
       "      <th>23</th>\n",
       "      <td>32258</td>\n",
       "      <td>Kinder Morgan (Group)</td>\n",
       "    </tr>\n",
       "    <tr>\n",
       "      <th>24</th>\n",
       "      <td>32541</td>\n",
       "      <td>Kinder Morgan (Group)</td>\n",
       "    </tr>\n",
       "    <tr>\n",
       "      <th>25</th>\n",
       "      <td>32619</td>\n",
       "      <td>Kinder Morgan (Group)</td>\n",
       "    </tr>\n",
       "    <tr>\n",
       "      <th>26</th>\n",
       "      <td>32678</td>\n",
       "      <td>Kinder Morgan (Group)</td>\n",
       "    </tr>\n",
       "    <tr>\n",
       "      <th>27</th>\n",
       "      <td>39440</td>\n",
       "      <td>Kinder Morgan (Group)</td>\n",
       "    </tr>\n",
       "  </tbody>\n",
       "</table>\n",
       "</div>"
      ],
      "text/plain": [
       "   members                   name\n",
       "23   32258  Kinder Morgan (Group)\n",
       "24   32541  Kinder Morgan (Group)\n",
       "25   32619  Kinder Morgan (Group)\n",
       "26   32678  Kinder Morgan (Group)\n",
       "27   39440  Kinder Morgan (Group)"
      ]
     },
     "execution_count": 38,
     "metadata": {},
     "output_type": "execute_result"
    }
   ],
   "source": [
    "company_groups = add_company_group('Kinder Morgan (Group)', \n",
    "                                   ['15674', '2190', '18092', '26125', '31555', '32258', '32541', '32619', '32678', '39440'], \n",
    "                                   company_groups)\n",
    "company_groups.tail()"
   ]
  },
  {
   "cell_type": "markdown",
   "metadata": {},
   "source": [
    "### 8.2.9 Enbridge"
   ]
  },
  {
   "cell_type": "code",
   "execution_count": 39,
   "metadata": {},
   "outputs": [
    {
     "name": "stdout",
     "output_type": "stream",
     "text": [
      "\n",
      "ENBRIDGE ENERGY, LIMITED PARTNERSHIP (OPERATOR_ID 11169) has the same parent company as:\n",
      "\n",
      "\tENBRIDGE PIPELINES (TOLEDO) INC (OPERATOR_ID 31448)\n",
      "\n",
      "\tEXPRESS HOLDINGS (USA), LLC (OPERATOR_ID 31720)\n",
      "\n",
      "\tENBRIDGE PIPELINES (OZARK) L.L.C. (OPERATOR_ID 31947)\n",
      "\n",
      "\tCCPS TRANSPORTATION, LLC (OPERATOR_ID 32080)\n",
      "\n",
      "\tENBRIDGE PIPELINES (SOUTHERN LIGHTS) L.L.C. (OPERATOR_ID 32502)\n",
      "\n",
      "ENBRIDGE ENERGY, LIMITED PARTNERSHIP (OPERATOR_ID 11169) may have a namesake or namesakes:\n",
      "\n",
      "\tENBRIDGE PIPELINES (NORTH DAKOTA) LLC (OPERATOR_ID 15774)\n",
      "\n"
     ]
    }
   ],
   "source": [
    "print(next(issues))"
   ]
  },
  {
   "cell_type": "code",
   "execution_count": 40,
   "metadata": {},
   "outputs": [
    {
     "name": "stdout",
     "output_type": "stream",
     "text": [
      "\n",
      "Organization 31720 has changed its name:\n",
      "    31720 was named EXPRESS HOLDINGS (USA), LLC from 2013 to 2018.\n",
      "    31720 was named KINDER MORGAN PIPELINES (USA) INC from 2010 to 2012.\n",
      "\n",
      "Organization 15774 has changed its name:\n",
      "    15774 was named ENBRIDGE PIPELINES (NORTH DAKOTA) LLC from 2010 to 2012.\n",
      "    15774 was named NORTH DAKOTA PIPELINE COMPANY LLC from 2013 to 2018.\n"
     ]
    }
   ],
   "source": [
    "report_names(['11169',  '31448', '31720', '31947', '32080', '32502', '15774'])"
   ]
  },
  {
   "cell_type": "markdown",
   "metadata": {},
   "source": [
    "### Express Holdings"
   ]
  },
  {
   "cell_type": "code",
   "execution_count": 41,
   "metadata": {},
   "outputs": [
    {
     "data": {
      "text/plain": [
       "[[2010, 196.0], [2011, 196.0], [2012, 196.0], [2013, 219.3], [2014, 212.4]]"
      ]
     },
     "execution_count": 41,
     "metadata": {},
     "output_type": "execute_result"
    }
   ],
   "source": [
    "find_total_miles('31720', range(2010, 2015))"
   ]
  },
  {
   "cell_type": "markdown",
   "metadata": {},
   "source": [
    "Spectra Energy bought Express Pipeline (31720) in 2012 from a number of stakeholders, including Kinder Morgan (Deal Number 741207). Enbridge merged with Spectra Energy on Feb 27, 2017 (LexisNexis Dossier Deal Number 885812)."
   ]
  },
  {
   "cell_type": "code",
   "execution_count": 42,
   "metadata": {},
   "outputs": [
    {
     "data": {
      "text/html": [
       "<div>\n",
       "<style scoped>\n",
       "    .dataframe tbody tr th:only-of-type {\n",
       "        vertical-align: middle;\n",
       "    }\n",
       "\n",
       "    .dataframe tbody tr th {\n",
       "        vertical-align: top;\n",
       "    }\n",
       "\n",
       "    .dataframe thead th {\n",
       "        text-align: right;\n",
       "    }\n",
       "</style>\n",
       "<table border=\"1\" class=\"dataframe\">\n",
       "  <thead>\n",
       "    <tr style=\"text-align: right;\">\n",
       "      <th></th>\n",
       "      <th>members</th>\n",
       "      <th>name</th>\n",
       "    </tr>\n",
       "  </thead>\n",
       "  <tbody>\n",
       "    <tr>\n",
       "      <th>29</th>\n",
       "      <td>31448</td>\n",
       "      <td>Enbridge (Group)</td>\n",
       "    </tr>\n",
       "    <tr>\n",
       "      <th>30</th>\n",
       "      <td>31947</td>\n",
       "      <td>Enbridge (Group)</td>\n",
       "    </tr>\n",
       "    <tr>\n",
       "      <th>31</th>\n",
       "      <td>32080</td>\n",
       "      <td>Enbridge (Group)</td>\n",
       "    </tr>\n",
       "    <tr>\n",
       "      <th>32</th>\n",
       "      <td>32502</td>\n",
       "      <td>Enbridge (Group)</td>\n",
       "    </tr>\n",
       "    <tr>\n",
       "      <th>33</th>\n",
       "      <td>15774</td>\n",
       "      <td>Enbridge (Group)</td>\n",
       "    </tr>\n",
       "  </tbody>\n",
       "</table>\n",
       "</div>"
      ],
      "text/plain": [
       "   members              name\n",
       "29   31448  Enbridge (Group)\n",
       "30   31947  Enbridge (Group)\n",
       "31   32080  Enbridge (Group)\n",
       "32   32502  Enbridge (Group)\n",
       "33   15774  Enbridge (Group)"
      ]
     },
     "execution_count": 42,
     "metadata": {},
     "output_type": "execute_result"
    }
   ],
   "source": [
    "company_groups = add_company_group('Enbridge (Group)', \n",
    "                                   ['11169',  '31448', '31947', '32080', '32502', '15774'], company_groups)\n",
    "company_groups.tail()"
   ]
  },
  {
   "cell_type": "markdown",
   "metadata": {},
   "source": [
    "### 9.2.10 Marathon"
   ]
  },
  {
   "cell_type": "code",
   "execution_count": 43,
   "metadata": {},
   "outputs": [
    {
     "name": "stdout",
     "output_type": "stream",
     "text": [
      "\n",
      "MARATHON PIPE LINE LLC (OPERATOR_ID 32147) has the same parent company as:\n",
      "\n",
      "\tNORTH DAKOTA PIPELINE COMPANY LLC (OPERATOR_ID 15774)\n",
      "\n",
      "\tWOLVERINE PIPELINE CO (OPERATOR_ID 22830)\n",
      "\n",
      "\tMARKWEST RANGER PIPELINE COMPANY, L.L.C. (OPERATOR_ID 26026)\n",
      "\n",
      "\tTESORO HIGH PLAINS PIPELINE COMPANY LLC (OPERATOR_ID 31570)\n",
      "\n",
      "\tWESTERN REFINING LOGISTICS, LP (OPERATOR_ID 31574)\n",
      "\n",
      "\tTESORO LOGISTICS OPERATIONS, LLC (OPERATOR_ID 38933)\n",
      "\n",
      "\tTESORO SOCAL PIPELINE COMPANY LLC (OPERATOR_ID 39013)\n",
      "\n",
      "\tTESORO LOGISTICS NORTHWEST PIPELINE LLC (OPERATOR_ID 39029)\n",
      "\n",
      "\tILLINOIS EXTENSION PIPELINE COMPANY, L.L.C. (OPERATOR_ID 39347)\n",
      "\n"
     ]
    }
   ],
   "source": [
    "print(next(issues))"
   ]
  },
  {
   "cell_type": "code",
   "execution_count": 44,
   "metadata": {},
   "outputs": [
    {
     "name": "stdout",
     "output_type": "stream",
     "text": [
      "\n",
      "Organization 15774 has changed its name:\n",
      "    15774 was named ENBRIDGE PIPELINES (NORTH DAKOTA) LLC from 2010 to 2012.\n",
      "    15774 was named NORTH DAKOTA PIPELINE COMPANY LLC from 2013 to 2018.\n",
      "\n",
      "Organization 26026 has changed its name:\n",
      "    26026 was named MARKWEST ENERGY APPALACHIA, LLC from 2010 to 2010.\n",
      "    26026 was named MARKWEST RANGER PIPELINE COMPANY, L.L.C. from 2012 to 2018.\n",
      "    26026 was named MARKWEST RANGER PIPELINE COMPANY, LLC from 2011 to 2011.\n",
      "\n",
      "Organization 31570 has changed its name:\n",
      "    31570 was named TESORO - HIGH PLAINS PIPELINE COMPANY from 2010 to 2011.\n",
      "    31570 was named TESORO HIGH PLAINS PIPELINE COMPANY LLC from 2012 to 2017.\n",
      "\n",
      "Organization 31574 has changed its name:\n",
      "    31574 was named WESTERN REFINING LOGISTICS, LP from 2018 to 2018.\n",
      "    31574 was named WESTERN REFINING PIPELINE COMPANY from 2010 to 2012.\n",
      "    31574 was named WESTERN REFINING PIPELINE, LLC from 2013 to 2017.\n",
      "\n",
      "Organization 38933 has changed its name:\n",
      "    38933 was named TESORO LOGISTICS OPERATIONS LLC - SOUTHERN CALIFORNIA from 2012 to 2017.\n",
      "    38933 was named TESORO LOGISTICS OPERATIONS, LLC from 2018 to 2018.\n"
     ]
    }
   ],
   "source": [
    "report_names(['32147', '15774', '22830', '26026', '31570', '31574', '38933', '39013', '39029', '39347'])"
   ]
  },
  {
   "cell_type": "markdown",
   "metadata": {},
   "source": [
    "As we have touched on above, the North Dakota pipeline's owner was named \"Enbridge Pipelines\", but it was actually owned by a consortium of different actors."
   ]
  },
  {
   "cell_type": "markdown",
   "metadata": {},
   "source": [
    "LexisNexis indicates that Tesoro was renamed to Andeavor, and acquired by Marathon on Oct 1, 2018 (LexisNexis Dossier Deal Number 3052392). We will group Wolverine with Marathon, and also combine the two Tesoros into one observation. For 2019, we would subsume Tesoro under Marathon."
   ]
  },
  {
   "cell_type": "code",
   "execution_count": 45,
   "metadata": {},
   "outputs": [
    {
     "data": {
      "text/html": [
       "<div>\n",
       "<style scoped>\n",
       "    .dataframe tbody tr th:only-of-type {\n",
       "        vertical-align: middle;\n",
       "    }\n",
       "\n",
       "    .dataframe tbody tr th {\n",
       "        vertical-align: top;\n",
       "    }\n",
       "\n",
       "    .dataframe thead th {\n",
       "        text-align: right;\n",
       "    }\n",
       "</style>\n",
       "<table border=\"1\" class=\"dataframe\">\n",
       "  <thead>\n",
       "    <tr style=\"text-align: right;\">\n",
       "      <th></th>\n",
       "      <th>members</th>\n",
       "      <th>name</th>\n",
       "    </tr>\n",
       "  </thead>\n",
       "  <tbody>\n",
       "    <tr>\n",
       "      <th>38</th>\n",
       "      <td>39347</td>\n",
       "      <td>Marathon (Group)</td>\n",
       "    </tr>\n",
       "    <tr>\n",
       "      <th>39</th>\n",
       "      <td>31570</td>\n",
       "      <td>Tesoro (Group)</td>\n",
       "    </tr>\n",
       "    <tr>\n",
       "      <th>40</th>\n",
       "      <td>38933</td>\n",
       "      <td>Tesoro (Group)</td>\n",
       "    </tr>\n",
       "    <tr>\n",
       "      <th>41</th>\n",
       "      <td>39013</td>\n",
       "      <td>Tesoro (Group)</td>\n",
       "    </tr>\n",
       "    <tr>\n",
       "      <th>42</th>\n",
       "      <td>39029</td>\n",
       "      <td>Tesoro (Group)</td>\n",
       "    </tr>\n",
       "  </tbody>\n",
       "</table>\n",
       "</div>"
      ],
      "text/plain": [
       "   members              name\n",
       "38   39347  Marathon (Group)\n",
       "39   31570    Tesoro (Group)\n",
       "40   38933    Tesoro (Group)\n",
       "41   39013    Tesoro (Group)\n",
       "42   39029    Tesoro (Group)"
      ]
     },
     "execution_count": 45,
     "metadata": {},
     "output_type": "execute_result"
    }
   ],
   "source": [
    "# Marathon and Wolverine\n",
    "company_groups = add_company_group('Marathon (Group)', \n",
    "                                   ['32147', '22830', '26026', '31574', '39347'], company_groups)\n",
    "\n",
    "# Tesoro\n",
    "company_groups = add_company_group('Tesoro (Group)', ['31570', '38933', '39013', '39029'], company_groups)\n",
    "company_groups.tail()"
   ]
  },
  {
   "cell_type": "markdown",
   "metadata": {},
   "source": [
    "### 8.2.11 ExxonMobil"
   ]
  },
  {
   "cell_type": "code",
   "execution_count": 46,
   "metadata": {},
   "outputs": [
    {
     "name": "stdout",
     "output_type": "stream",
     "text": [
      "\n",
      "EXXONMOBIL PIPELINE CO (OPERATOR_ID 4906) has the same parent company as:\n",
      "\n",
      "\tEXXONMOBIL OIL CORPORATION (OPERATOR_ID 12624)\n",
      "\n",
      "\tEXXONMOBIL PIPELINE CO (OPERATOR_ID 12628)\n",
      "\n",
      "\tEXXONMOBIL OIL CORPORATION (OPERATOR_ID 12634)\n",
      "\n",
      "\tEXXONMOBIL OIL CORP - WEST COAST (OPERATOR_ID 26134)\n",
      "\n"
     ]
    }
   ],
   "source": [
    "print(next(issues))"
   ]
  },
  {
   "cell_type": "code",
   "execution_count": 47,
   "metadata": {},
   "outputs": [
    {
     "name": "stdout",
     "output_type": "stream",
     "text": [
      "\n",
      "Organization 12624 has changed its name:\n",
      "    12624 was named EXXONMOBIL OIL CORPORATION from 2018 to 2018.\n",
      "    12624 was named MOBIL CORP from 2010 to 2017.\n",
      "\n",
      "Organization 12628 has changed its name:\n",
      "    12628 was named EXXONMOBIL PIPELINE CO from 2010 to 2018.\n",
      "    12628 was named MOBIL  PIPE  LINE COMPANY from 2012 to 2018.\n",
      "    12628 was named MOBIL PIPELINE CO from 2010 to 2010.\n",
      "\n",
      "Organization 12634 has changed its name:\n",
      "    12634 was named EXXONMOBIL OIL CORPORATION from 2018 to 2018.\n",
      "    12634 was named MOBIL CHEMICAL CO from 2010 to 2017.\n"
     ]
    }
   ],
   "source": [
    "report_names(['4906', '12624', '12628', '12634', '26134'])"
   ]
  },
  {
   "cell_type": "markdown",
   "metadata": {},
   "source": [
    "All are wholly owned subsidiaries of exxonmobil. LexisNexis indicates no M&A activities. We combine them into one observation."
   ]
  },
  {
   "cell_type": "code",
   "execution_count": 48,
   "metadata": {},
   "outputs": [
    {
     "data": {
      "text/html": [
       "<div>\n",
       "<style scoped>\n",
       "    .dataframe tbody tr th:only-of-type {\n",
       "        vertical-align: middle;\n",
       "    }\n",
       "\n",
       "    .dataframe tbody tr th {\n",
       "        vertical-align: top;\n",
       "    }\n",
       "\n",
       "    .dataframe thead th {\n",
       "        text-align: right;\n",
       "    }\n",
       "</style>\n",
       "<table border=\"1\" class=\"dataframe\">\n",
       "  <thead>\n",
       "    <tr style=\"text-align: right;\">\n",
       "      <th></th>\n",
       "      <th>members</th>\n",
       "      <th>name</th>\n",
       "    </tr>\n",
       "  </thead>\n",
       "  <tbody>\n",
       "    <tr>\n",
       "      <th>43</th>\n",
       "      <td>4906</td>\n",
       "      <td>ExxonMobil (Group)</td>\n",
       "    </tr>\n",
       "    <tr>\n",
       "      <th>44</th>\n",
       "      <td>12624</td>\n",
       "      <td>ExxonMobil (Group)</td>\n",
       "    </tr>\n",
       "    <tr>\n",
       "      <th>45</th>\n",
       "      <td>12628</td>\n",
       "      <td>ExxonMobil (Group)</td>\n",
       "    </tr>\n",
       "    <tr>\n",
       "      <th>46</th>\n",
       "      <td>12634</td>\n",
       "      <td>ExxonMobil (Group)</td>\n",
       "    </tr>\n",
       "    <tr>\n",
       "      <th>47</th>\n",
       "      <td>26134</td>\n",
       "      <td>ExxonMobil (Group)</td>\n",
       "    </tr>\n",
       "  </tbody>\n",
       "</table>\n",
       "</div>"
      ],
      "text/plain": [
       "   members                name\n",
       "43    4906  ExxonMobil (Group)\n",
       "44   12624  ExxonMobil (Group)\n",
       "45   12628  ExxonMobil (Group)\n",
       "46   12634  ExxonMobil (Group)\n",
       "47   26134  ExxonMobil (Group)"
      ]
     },
     "execution_count": 48,
     "metadata": {},
     "output_type": "execute_result"
    }
   ],
   "source": [
    "company_groups = add_company_group('ExxonMobil (Group)', ['4906', '12624', '12628', '12634', '26134'], company_groups)\n",
    "company_groups.tail()"
   ]
  },
  {
   "cell_type": "markdown",
   "metadata": {},
   "source": [
    "### 8.2.12 ExxonMobil"
   ]
  },
  {
   "cell_type": "code",
   "execution_count": 49,
   "metadata": {},
   "outputs": [
    {
     "name": "stdout",
     "output_type": "stream",
     "text": [
      "\n",
      "EXXONMOBIL PIPELINE CO (OPERATOR_ID 12628) has changed its name:\n",
      "\n",
      "\tWas named EXXONMOBIL PIPELINE CO from 2010 to 2018.\n",
      "\n",
      "\tWas named MOBIL  PIPE  LINE COMPANY from 2012 to 2018.\n",
      "\n",
      "\tWas named MOBIL PIPELINE CO from 2010 to 2010.\n",
      "\n",
      "EXXONMOBIL PIPELINE CO (OPERATOR_ID 12628) may have a namesake or namesakes:\n",
      "\n",
      "\tMOBIL CORP (OPERATOR_ID 12624)\n",
      "\n",
      "\tMOBIL CHEMICAL CO (OPERATOR_ID 12634)\n",
      "\n"
     ]
    }
   ],
   "source": [
    "print(next(issues))"
   ]
  },
  {
   "cell_type": "markdown",
   "metadata": {},
   "source": [
    "Already addressed above."
   ]
  },
  {
   "cell_type": "markdown",
   "metadata": {},
   "source": [
    "### 8.2.13 NuStar"
   ]
  },
  {
   "cell_type": "code",
   "execution_count": 50,
   "metadata": {},
   "outputs": [
    {
     "name": "stdout",
     "output_type": "stream",
     "text": [
      "\n",
      "PERMIAN EXPRESS PARTNERS LLC (OPERATOR_ID 39596) may have a namesake or namesakes:\n",
      "\n",
      "\tNUSTAR PERMIAN TRANSPORTATION AND STORAGE, LLC (OPERATOR_ID 39348)\n",
      "\n"
     ]
    }
   ],
   "source": [
    "print(next(issues))"
   ]
  },
  {
   "cell_type": "markdown",
   "metadata": {},
   "source": [
    "Already addressed above."
   ]
  },
  {
   "cell_type": "markdown",
   "metadata": {},
   "source": [
    "### 8.2.14 Tesoro"
   ]
  },
  {
   "cell_type": "code",
   "execution_count": 51,
   "metadata": {},
   "outputs": [
    {
     "name": "stdout",
     "output_type": "stream",
     "text": [
      "\n",
      "TESORO LOGISTICS OPERATIONS, LLC (OPERATOR_ID 38933) has changed its name:\n",
      "\n",
      "\tWas named TESORO LOGISTICS OPERATIONS LLC - SOUTHERN CALIFORNIA from 2012 to 2017.\n",
      "\n",
      "\tWas named TESORO LOGISTICS OPERATIONS, LLC from 2018 to 2018.\n",
      "\n",
      "TESORO LOGISTICS OPERATIONS, LLC (OPERATOR_ID 38933) may have a namesake or namesakes:\n",
      "\n",
      "\tTESORO - HIGH PLAINS PIPELINE COMPANY (OPERATOR_ID 31570)\n",
      "\n"
     ]
    }
   ],
   "source": [
    "print(next(issues))"
   ]
  },
  {
   "cell_type": "markdown",
   "metadata": {},
   "source": [
    "Already addressed above."
   ]
  },
  {
   "cell_type": "markdown",
   "metadata": {},
   "source": [
    "### 8.2.15 Plains Pipeline"
   ]
  },
  {
   "cell_type": "code",
   "execution_count": 52,
   "metadata": {},
   "outputs": [
    {
     "name": "stdout",
     "output_type": "stream",
     "text": [
      "\n",
      "ROCKY MOUNTAIN PIPELINE SYSTEM, LLC (OPERATOR_ID 31666) has the same parent company as:\n",
      "\n",
      "\tPLAINS PIPELINE, L.P. (OPERATOR_ID 300)\n",
      "\n",
      "\tPLAINS MARKETING, L.P. (OPERATOR_ID 26085)\n",
      "\n"
     ]
    }
   ],
   "source": [
    "print(next(issues))"
   ]
  },
  {
   "cell_type": "code",
   "execution_count": 53,
   "metadata": {},
   "outputs": [
    {
     "name": "stdout",
     "output_type": "stream",
     "text": [
      "No organizations were renamed at any time.\n"
     ]
    }
   ],
   "source": [
    "report_names(['31666', '300', '26085'])"
   ]
  },
  {
   "cell_type": "markdown",
   "metadata": {},
   "source": [
    "LexisNexis Doassiers indicates no M&As for the subsidiaries, Plains Marketing and Rocky Mountain Pipeline System."
   ]
  },
  {
   "cell_type": "code",
   "execution_count": 54,
   "metadata": {},
   "outputs": [
    {
     "data": {
      "text/html": [
       "<div>\n",
       "<style scoped>\n",
       "    .dataframe tbody tr th:only-of-type {\n",
       "        vertical-align: middle;\n",
       "    }\n",
       "\n",
       "    .dataframe tbody tr th {\n",
       "        vertical-align: top;\n",
       "    }\n",
       "\n",
       "    .dataframe thead th {\n",
       "        text-align: right;\n",
       "    }\n",
       "</style>\n",
       "<table border=\"1\" class=\"dataframe\">\n",
       "  <thead>\n",
       "    <tr style=\"text-align: right;\">\n",
       "      <th></th>\n",
       "      <th>members</th>\n",
       "      <th>name</th>\n",
       "    </tr>\n",
       "  </thead>\n",
       "  <tbody>\n",
       "    <tr>\n",
       "      <th>46</th>\n",
       "      <td>12634</td>\n",
       "      <td>ExxonMobil (Group)</td>\n",
       "    </tr>\n",
       "    <tr>\n",
       "      <th>47</th>\n",
       "      <td>26134</td>\n",
       "      <td>ExxonMobil (Group)</td>\n",
       "    </tr>\n",
       "    <tr>\n",
       "      <th>48</th>\n",
       "      <td>300</td>\n",
       "      <td>Plains Pipeline (Group)</td>\n",
       "    </tr>\n",
       "    <tr>\n",
       "      <th>49</th>\n",
       "      <td>31666</td>\n",
       "      <td>Plains Pipeline (Group)</td>\n",
       "    </tr>\n",
       "    <tr>\n",
       "      <th>50</th>\n",
       "      <td>26085</td>\n",
       "      <td>Plains Pipeline (Group)</td>\n",
       "    </tr>\n",
       "  </tbody>\n",
       "</table>\n",
       "</div>"
      ],
      "text/plain": [
       "   members                     name\n",
       "46   12634       ExxonMobil (Group)\n",
       "47   26134       ExxonMobil (Group)\n",
       "48     300  Plains Pipeline (Group)\n",
       "49   31666  Plains Pipeline (Group)\n",
       "50   26085  Plains Pipeline (Group)"
      ]
     },
     "execution_count": 54,
     "metadata": {},
     "output_type": "execute_result"
    }
   ],
   "source": [
    "company_groups = add_company_group('Plains Pipeline (Group)', ['300', '31666', '26085'], company_groups)\n",
    "company_groups.tail()"
   ]
  },
  {
   "cell_type": "markdown",
   "metadata": {},
   "source": [
    "### 8.2.16 Dixie Pipeline"
   ]
  },
  {
   "cell_type": "code",
   "execution_count": 55,
   "metadata": {},
   "outputs": [
    {
     "name": "stdout",
     "output_type": "stream",
     "text": [
      "\n",
      "DIXIE PIPELINE COMPANY LLC (OPERATOR_ID 3445) has changed its name:\n",
      "\n",
      "\tWas named DIXIE PIPELINE from 2010 to 2010.\n",
      "\n",
      "\tWas named DIXIE PIPELINE COMPANY LLC from 2011 to 2018.\n",
      "\n"
     ]
    }
   ],
   "source": [
    "print(next(issues))"
   ]
  },
  {
   "cell_type": "markdown",
   "metadata": {},
   "source": [
    "No action necessary."
   ]
  },
  {
   "cell_type": "markdown",
   "metadata": {},
   "source": [
    "### 8.2.17 Kinder Morgan"
   ]
  },
  {
   "cell_type": "code",
   "execution_count": 56,
   "metadata": {},
   "outputs": [
    {
     "name": "stdout",
     "output_type": "stream",
     "text": [
      "\n",
      "KINDER MORGAN COCHIN LLC (OPERATOR_ID 32258) may have a namesake or namesakes:\n",
      "\n",
      "\tKINDER MORGAN LIQUID TERMINALS, LLC (OPERATOR_ID 26041)\n",
      "\n",
      "\tKINDER MORGAN PIPELINES (USA) INC (OPERATOR_ID 31720)\n",
      "\n"
     ]
    }
   ],
   "source": [
    "print(next(issues))"
   ]
  },
  {
   "cell_type": "markdown",
   "metadata": {},
   "source": [
    "Already addressed above."
   ]
  },
  {
   "cell_type": "markdown",
   "metadata": {},
   "source": [
    "### 8.2.18 BP"
   ]
  },
  {
   "cell_type": "code",
   "execution_count": 57,
   "metadata": {},
   "outputs": [
    {
     "name": "stdout",
     "output_type": "stream",
     "text": [
      "\n",
      "BP PIPELINE (NORTH AMERICA) INC. (OPERATOR_ID 31189) has the same parent company as:\n",
      "\n",
      "\tBP OIL PIPELINE CO (OPERATOR_ID 18386)\n",
      "\n",
      "\tOLYMPIC PIPE LINE COMPANY (OPERATOR_ID 30781)\n",
      "\n",
      "\tBP WEST COAST PRODUCTS L.L.C. (OPERATOR_ID 31610)\n",
      "\n"
     ]
    }
   ],
   "source": [
    "print(next(issues))"
   ]
  },
  {
   "cell_type": "code",
   "execution_count": 58,
   "metadata": {},
   "outputs": [
    {
     "name": "stdout",
     "output_type": "stream",
     "text": [
      "No organizations were renamed at any time.\n"
     ]
    }
   ],
   "source": [
    "report_names(['31189', '18386', '30781', '31610'])"
   ]
  },
  {
   "cell_type": "markdown",
   "metadata": {},
   "source": [
    "LexisNexis wrongly reports that BP is the parent of Olympic Pipe Line Company (30781). On Feb 1, 2006 Enbridge acquired a majority stake (LexisNexis Doassier Deal Number 358159)."
   ]
  },
  {
   "cell_type": "code",
   "execution_count": 59,
   "metadata": {},
   "outputs": [
    {
     "data": {
      "text/html": [
       "<div>\n",
       "<style scoped>\n",
       "    .dataframe tbody tr th:only-of-type {\n",
       "        vertical-align: middle;\n",
       "    }\n",
       "\n",
       "    .dataframe tbody tr th {\n",
       "        vertical-align: top;\n",
       "    }\n",
       "\n",
       "    .dataframe thead th {\n",
       "        text-align: right;\n",
       "    }\n",
       "</style>\n",
       "<table border=\"1\" class=\"dataframe\">\n",
       "  <thead>\n",
       "    <tr style=\"text-align: right;\">\n",
       "      <th></th>\n",
       "      <th>members</th>\n",
       "      <th>name</th>\n",
       "    </tr>\n",
       "  </thead>\n",
       "  <tbody>\n",
       "    <tr>\n",
       "      <th>50</th>\n",
       "      <td>26085</td>\n",
       "      <td>Plains Pipeline (Group)</td>\n",
       "    </tr>\n",
       "    <tr>\n",
       "      <th>51</th>\n",
       "      <td>31189</td>\n",
       "      <td>BP (Group)</td>\n",
       "    </tr>\n",
       "    <tr>\n",
       "      <th>52</th>\n",
       "      <td>18386</td>\n",
       "      <td>BP (Group)</td>\n",
       "    </tr>\n",
       "    <tr>\n",
       "      <th>53</th>\n",
       "      <td>31610</td>\n",
       "      <td>BP (Group)</td>\n",
       "    </tr>\n",
       "    <tr>\n",
       "      <th>54</th>\n",
       "      <td>30781</td>\n",
       "      <td>Enbridge (Group)</td>\n",
       "    </tr>\n",
       "  </tbody>\n",
       "</table>\n",
       "</div>"
      ],
      "text/plain": [
       "   members                     name\n",
       "50   26085  Plains Pipeline (Group)\n",
       "51   31189               BP (Group)\n",
       "52   18386               BP (Group)\n",
       "53   31610               BP (Group)\n",
       "54   30781         Enbridge (Group)"
      ]
     },
     "execution_count": 59,
     "metadata": {},
     "output_type": "execute_result"
    }
   ],
   "source": [
    "company_groups = add_company_group('BP (Group)', ['31189', '18386', '31610'], company_groups)\n",
    "company_groups = add_company_group('Enbridge (Group)', ['30781'], company_groups)\n",
    "\n",
    "company_groups.tail()"
   ]
  },
  {
   "cell_type": "markdown",
   "metadata": {},
   "source": [
    "### 8.2.19 Holly"
   ]
  },
  {
   "cell_type": "code",
   "execution_count": 60,
   "metadata": {},
   "outputs": [
    {
     "name": "stdout",
     "output_type": "stream",
     "text": [
      "\n",
      "HOLLY ENERGY PARTNERS - OPERATING, L.P. (OPERATOR_ID 32011) has the same parent company as:\n",
      "\n",
      "\tUNEV PIPELINE, LLC (OPERATOR_ID 32493)\n",
      "\n",
      "\tFRONTIER PIPELINE CO (OPERATOR_ID 5656)\n",
      "\n"
     ]
    }
   ],
   "source": [
    "print(next(issues))"
   ]
  },
  {
   "cell_type": "code",
   "execution_count": 61,
   "metadata": {},
   "outputs": [
    {
     "name": "stdout",
     "output_type": "stream",
     "text": [
      "No organizations were renamed at any time.\n"
     ]
    }
   ],
   "source": [
    "report_names(['32011', '32493', '5656'])"
   ]
  },
  {
   "cell_type": "code",
   "execution_count": 62,
   "metadata": {},
   "outputs": [
    {
     "data": {
      "text/html": [
       "<div>\n",
       "<style scoped>\n",
       "    .dataframe tbody tr th:only-of-type {\n",
       "        vertical-align: middle;\n",
       "    }\n",
       "\n",
       "    .dataframe tbody tr th {\n",
       "        vertical-align: top;\n",
       "    }\n",
       "\n",
       "    .dataframe thead th {\n",
       "        text-align: right;\n",
       "    }\n",
       "</style>\n",
       "<table border=\"1\" class=\"dataframe\">\n",
       "  <thead>\n",
       "    <tr style=\"text-align: right;\">\n",
       "      <th></th>\n",
       "      <th>members</th>\n",
       "      <th>name</th>\n",
       "    </tr>\n",
       "  </thead>\n",
       "  <tbody>\n",
       "    <tr>\n",
       "      <th>53</th>\n",
       "      <td>31610</td>\n",
       "      <td>BP (Group)</td>\n",
       "    </tr>\n",
       "    <tr>\n",
       "      <th>54</th>\n",
       "      <td>30781</td>\n",
       "      <td>Enbridge (Group)</td>\n",
       "    </tr>\n",
       "    <tr>\n",
       "      <th>55</th>\n",
       "      <td>32011</td>\n",
       "      <td>HollyFrontier (Group)</td>\n",
       "    </tr>\n",
       "    <tr>\n",
       "      <th>56</th>\n",
       "      <td>32493</td>\n",
       "      <td>HollyFrontier (Group)</td>\n",
       "    </tr>\n",
       "    <tr>\n",
       "      <th>57</th>\n",
       "      <td>5656</td>\n",
       "      <td>HollyFrontier (Group)</td>\n",
       "    </tr>\n",
       "  </tbody>\n",
       "</table>\n",
       "</div>"
      ],
      "text/plain": [
       "   members                   name\n",
       "53   31610             BP (Group)\n",
       "54   30781       Enbridge (Group)\n",
       "55   32011  HollyFrontier (Group)\n",
       "56   32493  HollyFrontier (Group)\n",
       "57    5656  HollyFrontier (Group)"
      ]
     },
     "execution_count": 62,
     "metadata": {},
     "output_type": "execute_result"
    }
   ],
   "source": [
    "company_groups = add_company_group('HollyFrontier (Group)', ['32011', '32493', '5656'], company_groups)\n",
    "company_groups.tail()"
   ]
  },
  {
   "cell_type": "markdown",
   "metadata": {},
   "source": [
    "### 8.2.20 Tesoro"
   ]
  },
  {
   "cell_type": "code",
   "execution_count": 63,
   "metadata": {},
   "outputs": [
    {
     "name": "stdout",
     "output_type": "stream",
     "text": [
      "\n",
      "TESORO LOGISTICS NORTHWEST PIPELINE LLC (OPERATOR_ID 39029) may have a namesake or namesakes:\n",
      "\n",
      "\tTESORO - HIGH PLAINS PIPELINE COMPANY (OPERATOR_ID 31570)\n",
      "\n",
      "\tTESORO LOGISTICS OPERATIONS LLC - SOUTHERN CALIFORNIA (OPERATOR_ID 38933)\n",
      "\n"
     ]
    }
   ],
   "source": [
    "print(next(issues))"
   ]
  },
  {
   "cell_type": "markdown",
   "metadata": {},
   "source": [
    "### 8.2.21 Williams Field Services "
   ]
  },
  {
   "cell_type": "code",
   "execution_count": 64,
   "metadata": {},
   "outputs": [
    {
     "name": "stdout",
     "output_type": "stream",
     "text": [
      "\n",
      "WILLIAMS FIELD SERVICES (OPERATOR_ID 30826) has the same parent company as:\n",
      "\n",
      "\tWILLIAMS FIELD SERVICES - GULF COAST COMPANY, LP (OPERATOR_ID 994)\n",
      "\n",
      "\tWILLIAMS OLEFINS FEEDSTOCK PIPELINES, LLC (OPERATOR_ID 32614)\n",
      "\n"
     ]
    }
   ],
   "source": [
    "print(next(issues))"
   ]
  },
  {
   "cell_type": "code",
   "execution_count": 65,
   "metadata": {},
   "outputs": [
    {
     "name": "stdout",
     "output_type": "stream",
     "text": [
      "No organizations were renamed at any time.\n"
     ]
    }
   ],
   "source": [
    "report_names(['30826', '994', '32614'])"
   ]
  },
  {
   "cell_type": "code",
   "execution_count": 66,
   "metadata": {},
   "outputs": [
    {
     "data": {
      "text/html": [
       "<div>\n",
       "<style scoped>\n",
       "    .dataframe tbody tr th:only-of-type {\n",
       "        vertical-align: middle;\n",
       "    }\n",
       "\n",
       "    .dataframe tbody tr th {\n",
       "        vertical-align: top;\n",
       "    }\n",
       "\n",
       "    .dataframe thead th {\n",
       "        text-align: right;\n",
       "    }\n",
       "</style>\n",
       "<table border=\"1\" class=\"dataframe\">\n",
       "  <thead>\n",
       "    <tr style=\"text-align: right;\">\n",
       "      <th></th>\n",
       "      <th>members</th>\n",
       "      <th>name</th>\n",
       "    </tr>\n",
       "  </thead>\n",
       "  <tbody>\n",
       "    <tr>\n",
       "      <th>56</th>\n",
       "      <td>32493</td>\n",
       "      <td>HollyFrontier (Group)</td>\n",
       "    </tr>\n",
       "    <tr>\n",
       "      <th>57</th>\n",
       "      <td>5656</td>\n",
       "      <td>HollyFrontier (Group)</td>\n",
       "    </tr>\n",
       "    <tr>\n",
       "      <th>58</th>\n",
       "      <td>30826</td>\n",
       "      <td>Williams Field Services (Group)</td>\n",
       "    </tr>\n",
       "    <tr>\n",
       "      <th>59</th>\n",
       "      <td>994</td>\n",
       "      <td>Williams Field Services (Group)</td>\n",
       "    </tr>\n",
       "    <tr>\n",
       "      <th>60</th>\n",
       "      <td>32614</td>\n",
       "      <td>Williams Field Services (Group)</td>\n",
       "    </tr>\n",
       "  </tbody>\n",
       "</table>\n",
       "</div>"
      ],
      "text/plain": [
       "   members                             name\n",
       "56   32493            HollyFrontier (Group)\n",
       "57    5656            HollyFrontier (Group)\n",
       "58   30826  Williams Field Services (Group)\n",
       "59     994  Williams Field Services (Group)\n",
       "60   32614  Williams Field Services (Group)"
      ]
     },
     "execution_count": 66,
     "metadata": {},
     "output_type": "execute_result"
    }
   ],
   "source": [
    "company_groups = add_company_group('Williams Field Services (Group)', ['30826', '994', '32614'], company_groups)\n",
    "company_groups.tail()"
   ]
  },
  {
   "cell_type": "markdown",
   "metadata": {},
   "source": [
    "### 8.2.22 Express Holdings"
   ]
  },
  {
   "cell_type": "code",
   "execution_count": 67,
   "metadata": {},
   "outputs": [
    {
     "name": "stdout",
     "output_type": "stream",
     "text": [
      "\n",
      "EXPRESS HOLDINGS (USA), LLC (OPERATOR_ID 31720) has changed its name:\n",
      "\n",
      "\tWas named EXPRESS HOLDINGS (USA), LLC from 2013 to 2018.\n",
      "\n",
      "\tWas named KINDER MORGAN PIPELINES (USA) INC from 2010 to 2012.\n",
      "\n",
      "EXPRESS HOLDINGS (USA), LLC (OPERATOR_ID 31720) may have a namesake or namesakes:\n",
      "\n",
      "\tKINDER MORGAN LIQUID TERMINALS, LLC (OPERATOR_ID 26041)\n",
      "\n",
      "\tKINDER MORGAN CO2 CO. LP (OPERATOR_ID 31555)\n",
      "\n",
      "\tKINDER MORGAN COCHIN LLC (OPERATOR_ID 32258)\n",
      "\n",
      "\tKINDER MORGAN CRUDE AND CONDENSATE LLC (OPERATOR_ID 32678)\n",
      "\n"
     ]
    }
   ],
   "source": [
    "print(next(issues))"
   ]
  },
  {
   "cell_type": "markdown",
   "metadata": {},
   "source": [
    "Kinder Morgan already adressed above (8.2.10). No new relevant namesakes."
   ]
  },
  {
   "cell_type": "markdown",
   "metadata": {},
   "source": [
    "### 8.2.23 Gensis Pipeline"
   ]
  },
  {
   "cell_type": "code",
   "execution_count": 68,
   "metadata": {},
   "outputs": [
    {
     "name": "stdout",
     "output_type": "stream",
     "text": [
      "\n",
      "GENESIS PIPELINE USA, L.P. (OPERATOR_ID 31045) has the same parent company as:\n",
      "\n",
      "\tGENESIS PIPELINE TEXAS, L.P. (OPERATOR_ID 32407)\n",
      "\n"
     ]
    }
   ],
   "source": [
    "print(next(issues))"
   ]
  },
  {
   "cell_type": "code",
   "execution_count": 69,
   "metadata": {},
   "outputs": [
    {
     "data": {
      "text/html": [
       "<div>\n",
       "<style scoped>\n",
       "    .dataframe tbody tr th:only-of-type {\n",
       "        vertical-align: middle;\n",
       "    }\n",
       "\n",
       "    .dataframe tbody tr th {\n",
       "        vertical-align: top;\n",
       "    }\n",
       "\n",
       "    .dataframe thead th {\n",
       "        text-align: right;\n",
       "    }\n",
       "</style>\n",
       "<table border=\"1\" class=\"dataframe\">\n",
       "  <thead>\n",
       "    <tr style=\"text-align: right;\">\n",
       "      <th></th>\n",
       "      <th>members</th>\n",
       "      <th>name</th>\n",
       "    </tr>\n",
       "  </thead>\n",
       "  <tbody>\n",
       "    <tr>\n",
       "      <th>58</th>\n",
       "      <td>30826</td>\n",
       "      <td>Williams Field Services (Group)</td>\n",
       "    </tr>\n",
       "    <tr>\n",
       "      <th>59</th>\n",
       "      <td>994</td>\n",
       "      <td>Williams Field Services (Group)</td>\n",
       "    </tr>\n",
       "    <tr>\n",
       "      <th>60</th>\n",
       "      <td>32614</td>\n",
       "      <td>Williams Field Services (Group)</td>\n",
       "    </tr>\n",
       "    <tr>\n",
       "      <th>61</th>\n",
       "      <td>31045</td>\n",
       "      <td>Genesis Pipeline (Group)</td>\n",
       "    </tr>\n",
       "    <tr>\n",
       "      <th>62</th>\n",
       "      <td>32407</td>\n",
       "      <td>Genesis Pipeline (Group)</td>\n",
       "    </tr>\n",
       "  </tbody>\n",
       "</table>\n",
       "</div>"
      ],
      "text/plain": [
       "   members                             name\n",
       "58   30826  Williams Field Services (Group)\n",
       "59     994  Williams Field Services (Group)\n",
       "60   32614  Williams Field Services (Group)\n",
       "61   31045         Genesis Pipeline (Group)\n",
       "62   32407         Genesis Pipeline (Group)"
      ]
     },
     "execution_count": 69,
     "metadata": {},
     "output_type": "execute_result"
    }
   ],
   "source": [
    "company_groups = add_company_group('Genesis Pipeline (Group)', ['31045', '32407'], company_groups)\n",
    "company_groups.tail()"
   ]
  },
  {
   "cell_type": "markdown",
   "metadata": {},
   "source": [
    "### 8.2.24 BKEP"
   ]
  },
  {
   "cell_type": "code",
   "execution_count": 70,
   "metadata": {},
   "outputs": [
    {
     "name": "stdout",
     "output_type": "stream",
     "text": [
      "\n",
      "BKEP PIPELINE, LLC (OPERATOR_ID 32551) has the same parent company as:\n",
      "\n",
      "\tBKEP CRUDE, LLC (OPERATOR_ID 32481)\n",
      "\n"
     ]
    }
   ],
   "source": [
    "print(next(issues))"
   ]
  },
  {
   "cell_type": "code",
   "execution_count": 71,
   "metadata": {},
   "outputs": [
    {
     "data": {
      "text/html": [
       "<div>\n",
       "<style scoped>\n",
       "    .dataframe tbody tr th:only-of-type {\n",
       "        vertical-align: middle;\n",
       "    }\n",
       "\n",
       "    .dataframe tbody tr th {\n",
       "        vertical-align: top;\n",
       "    }\n",
       "\n",
       "    .dataframe thead th {\n",
       "        text-align: right;\n",
       "    }\n",
       "</style>\n",
       "<table border=\"1\" class=\"dataframe\">\n",
       "  <thead>\n",
       "    <tr style=\"text-align: right;\">\n",
       "      <th></th>\n",
       "      <th>members</th>\n",
       "      <th>name</th>\n",
       "    </tr>\n",
       "  </thead>\n",
       "  <tbody>\n",
       "    <tr>\n",
       "      <th>60</th>\n",
       "      <td>32614</td>\n",
       "      <td>Williams Field Services (Group)</td>\n",
       "    </tr>\n",
       "    <tr>\n",
       "      <th>61</th>\n",
       "      <td>31045</td>\n",
       "      <td>Genesis Pipeline (Group)</td>\n",
       "    </tr>\n",
       "    <tr>\n",
       "      <th>62</th>\n",
       "      <td>32407</td>\n",
       "      <td>Genesis Pipeline (Group)</td>\n",
       "    </tr>\n",
       "    <tr>\n",
       "      <th>63</th>\n",
       "      <td>32551</td>\n",
       "      <td>BKEP (Group)</td>\n",
       "    </tr>\n",
       "    <tr>\n",
       "      <th>64</th>\n",
       "      <td>32481</td>\n",
       "      <td>BKEP (Group)</td>\n",
       "    </tr>\n",
       "  </tbody>\n",
       "</table>\n",
       "</div>"
      ],
      "text/plain": [
       "   members                             name\n",
       "60   32614  Williams Field Services (Group)\n",
       "61   31045         Genesis Pipeline (Group)\n",
       "62   32407         Genesis Pipeline (Group)\n",
       "63   32551                     BKEP (Group)\n",
       "64   32481                     BKEP (Group)"
      ]
     },
     "execution_count": 71,
     "metadata": {},
     "output_type": "execute_result"
    }
   ],
   "source": [
    "company_groups = add_company_group('BKEP (Group)', ['32551', '32481'], company_groups)\n",
    "company_groups.tail()"
   ]
  },
  {
   "cell_type": "markdown",
   "metadata": {},
   "source": [
    "### 8.2.25 Phillips 66"
   ]
  },
  {
   "cell_type": "code",
   "execution_count": 72,
   "metadata": {},
   "outputs": [
    {
     "name": "stdout",
     "output_type": "stream",
     "text": [
      "\n",
      "PHILLIPS 66 COMPANY - SWEENY REFINERY (OPERATOR_ID 15485) has changed its name:\n",
      "\n",
      "\tWas named CONOCOPHILLIPS COMPANY from 2010 to 2010.\n",
      "\n",
      "\tWas named PHILLIPS 66 COMPANY from 2011 to 2011.\n",
      "\n",
      "\tWas named PHILLIPS 66 COMPANY - SWEENY REFINERY from 2012 to 2018.\n",
      "\n",
      "PHILLIPS 66 COMPANY - SWEENY REFINERY (OPERATOR_ID 15485) may have a namesake or namesakes:\n",
      "\n",
      "\tCONOCOPHILLIPS (OPERATOR_ID 31684)\n",
      "\n"
     ]
    }
   ],
   "source": [
    "print(next(issues))"
   ]
  },
  {
   "cell_type": "markdown",
   "metadata": {},
   "source": [
    "Covered above."
   ]
  },
  {
   "cell_type": "markdown",
   "metadata": {},
   "source": [
    "### 8.2.26 Plains Marketing"
   ]
  },
  {
   "cell_type": "code",
   "execution_count": 73,
   "metadata": {},
   "outputs": [
    {
     "name": "stdout",
     "output_type": "stream",
     "text": [
      "\n",
      "PLAINS MARKETING, L.P. (OPERATOR_ID 26085) may have a namesake or namesakes:\n",
      "\n",
      "\tTESORO HIGH PLAINS PIPELINE COMPANY LLC (OPERATOR_ID 31570)\n",
      "\n",
      "\tTESORO - HIGH PLAINS PIPELINE COMPANY (OPERATOR_ID 31570)\n",
      "\n",
      "\tGREAT SALT PLAINS PIPELINE LLC (OPERATOR_ID 39401)\n",
      "\n"
     ]
    }
   ],
   "source": [
    "print(next(issues))"
   ]
  },
  {
   "cell_type": "markdown",
   "metadata": {},
   "source": [
    "Covered above."
   ]
  },
  {
   "cell_type": "markdown",
   "metadata": {},
   "source": [
    "### 8.2.27 Targa Resources"
   ]
  },
  {
   "cell_type": "code",
   "execution_count": 74,
   "metadata": {},
   "outputs": [
    {
     "name": "stdout",
     "output_type": "stream",
     "text": [
      "\n",
      "TARGA RESOURCES OPERATING LLC (OPERATOR_ID 32296) has the same parent company as:\n",
      "\n",
      "\tTARGA NGL PIPE LINE CO (OPERATOR_ID 30626)\n",
      "\n"
     ]
    }
   ],
   "source": [
    "print(next(issues))"
   ]
  },
  {
   "cell_type": "code",
   "execution_count": 75,
   "metadata": {},
   "outputs": [
    {
     "data": {
      "text/html": [
       "<div>\n",
       "<style scoped>\n",
       "    .dataframe tbody tr th:only-of-type {\n",
       "        vertical-align: middle;\n",
       "    }\n",
       "\n",
       "    .dataframe tbody tr th {\n",
       "        vertical-align: top;\n",
       "    }\n",
       "\n",
       "    .dataframe thead th {\n",
       "        text-align: right;\n",
       "    }\n",
       "</style>\n",
       "<table border=\"1\" class=\"dataframe\">\n",
       "  <thead>\n",
       "    <tr style=\"text-align: right;\">\n",
       "      <th></th>\n",
       "      <th>members</th>\n",
       "      <th>name</th>\n",
       "    </tr>\n",
       "  </thead>\n",
       "  <tbody>\n",
       "    <tr>\n",
       "      <th>62</th>\n",
       "      <td>32407</td>\n",
       "      <td>Genesis Pipeline (Group)</td>\n",
       "    </tr>\n",
       "    <tr>\n",
       "      <th>63</th>\n",
       "      <td>32551</td>\n",
       "      <td>BKEP (Group)</td>\n",
       "    </tr>\n",
       "    <tr>\n",
       "      <th>64</th>\n",
       "      <td>32481</td>\n",
       "      <td>BKEP (Group)</td>\n",
       "    </tr>\n",
       "    <tr>\n",
       "      <th>65</th>\n",
       "      <td>32296</td>\n",
       "      <td>Targa (Group)</td>\n",
       "    </tr>\n",
       "    <tr>\n",
       "      <th>66</th>\n",
       "      <td>30626</td>\n",
       "      <td>Targa (Group)</td>\n",
       "    </tr>\n",
       "  </tbody>\n",
       "</table>\n",
       "</div>"
      ],
      "text/plain": [
       "   members                      name\n",
       "62   32407  Genesis Pipeline (Group)\n",
       "63   32551              BKEP (Group)\n",
       "64   32481              BKEP (Group)\n",
       "65   32296             Targa (Group)\n",
       "66   30626             Targa (Group)"
      ]
     },
     "execution_count": 75,
     "metadata": {},
     "output_type": "execute_result"
    }
   ],
   "source": [
    "company_groups = add_company_group('Targa (Group)', ['32296', '30626'], company_groups)\n",
    "company_groups.tail()"
   ]
  },
  {
   "cell_type": "markdown",
   "metadata": {},
   "source": [
    "### 8.2.28 Dow"
   ]
  },
  {
   "cell_type": "code",
   "execution_count": 76,
   "metadata": {},
   "outputs": [
    {
     "name": "stdout",
     "output_type": "stream",
     "text": [
      "\n",
      "SEADRIFT PIPELINE CORP (OPERATOR_ID 26086) has the same parent company as:\n",
      "\n",
      "\tDOW PIPELINE CO (OPERATOR_ID 3527)\n",
      "\n",
      "\tTHE DOW CHEMICAL COMPANY (OPERATOR_ID 30959)\n",
      "\n"
     ]
    }
   ],
   "source": [
    "print(next(issues))"
   ]
  },
  {
   "cell_type": "code",
   "execution_count": 77,
   "metadata": {},
   "outputs": [
    {
     "data": {
      "text/html": [
       "<div>\n",
       "<style scoped>\n",
       "    .dataframe tbody tr th:only-of-type {\n",
       "        vertical-align: middle;\n",
       "    }\n",
       "\n",
       "    .dataframe tbody tr th {\n",
       "        vertical-align: top;\n",
       "    }\n",
       "\n",
       "    .dataframe thead th {\n",
       "        text-align: right;\n",
       "    }\n",
       "</style>\n",
       "<table border=\"1\" class=\"dataframe\">\n",
       "  <thead>\n",
       "    <tr style=\"text-align: right;\">\n",
       "      <th></th>\n",
       "      <th>members</th>\n",
       "      <th>name</th>\n",
       "    </tr>\n",
       "  </thead>\n",
       "  <tbody>\n",
       "    <tr>\n",
       "      <th>65</th>\n",
       "      <td>32296</td>\n",
       "      <td>Targa (Group)</td>\n",
       "    </tr>\n",
       "    <tr>\n",
       "      <th>66</th>\n",
       "      <td>30626</td>\n",
       "      <td>Targa (Group)</td>\n",
       "    </tr>\n",
       "    <tr>\n",
       "      <th>67</th>\n",
       "      <td>26086</td>\n",
       "      <td>Dow (Group)</td>\n",
       "    </tr>\n",
       "    <tr>\n",
       "      <th>68</th>\n",
       "      <td>3527</td>\n",
       "      <td>Dow (Group)</td>\n",
       "    </tr>\n",
       "    <tr>\n",
       "      <th>69</th>\n",
       "      <td>30959</td>\n",
       "      <td>Dow (Group)</td>\n",
       "    </tr>\n",
       "  </tbody>\n",
       "</table>\n",
       "</div>"
      ],
      "text/plain": [
       "   members           name\n",
       "65   32296  Targa (Group)\n",
       "66   30626  Targa (Group)\n",
       "67   26086    Dow (Group)\n",
       "68    3527    Dow (Group)\n",
       "69   30959    Dow (Group)"
      ]
     },
     "execution_count": 77,
     "metadata": {},
     "output_type": "execute_result"
    }
   ],
   "source": [
    "company_groups = add_company_group('Dow (Group)', ['26086', '3527', '30959'], company_groups)\n",
    "company_groups.tail()"
   ]
  },
  {
   "cell_type": "markdown",
   "metadata": {},
   "source": [
    "### 8.2.29 CHS"
   ]
  },
  {
   "cell_type": "code",
   "execution_count": 78,
   "metadata": {},
   "outputs": [
    {
     "name": "stdout",
     "output_type": "stream",
     "text": [
      "\n",
      "CENEX PIPELINE LLC (OPERATOR_ID 2170) has the same parent company as:\n",
      "\n",
      "\tJAYHAWK PIPELINE LLC (OPERATOR_ID 9175)\n",
      "\n",
      "\tCHS MCPHERSON REFINERY INC. (OPERATOR_ID 26065)\n",
      "\n",
      "\tFRONT RANGE PIPELINE, LLC. (OPERATOR_ID 32283)\n",
      "\n"
     ]
    }
   ],
   "source": [
    "print(next(issues))"
   ]
  },
  {
   "cell_type": "code",
   "execution_count": 79,
   "metadata": {},
   "outputs": [
    {
     "data": {
      "text/html": [
       "<div>\n",
       "<style scoped>\n",
       "    .dataframe tbody tr th:only-of-type {\n",
       "        vertical-align: middle;\n",
       "    }\n",
       "\n",
       "    .dataframe tbody tr th {\n",
       "        vertical-align: top;\n",
       "    }\n",
       "\n",
       "    .dataframe thead th {\n",
       "        text-align: right;\n",
       "    }\n",
       "</style>\n",
       "<table border=\"1\" class=\"dataframe\">\n",
       "  <thead>\n",
       "    <tr style=\"text-align: right;\">\n",
       "      <th></th>\n",
       "      <th>members</th>\n",
       "      <th>name</th>\n",
       "    </tr>\n",
       "  </thead>\n",
       "  <tbody>\n",
       "    <tr>\n",
       "      <th>69</th>\n",
       "      <td>30959</td>\n",
       "      <td>Dow (Group)</td>\n",
       "    </tr>\n",
       "    <tr>\n",
       "      <th>70</th>\n",
       "      <td>2170</td>\n",
       "      <td>CHS (Group)</td>\n",
       "    </tr>\n",
       "    <tr>\n",
       "      <th>71</th>\n",
       "      <td>9175</td>\n",
       "      <td>CHS (Group)</td>\n",
       "    </tr>\n",
       "    <tr>\n",
       "      <th>72</th>\n",
       "      <td>26065</td>\n",
       "      <td>CHS (Group)</td>\n",
       "    </tr>\n",
       "    <tr>\n",
       "      <th>73</th>\n",
       "      <td>32283</td>\n",
       "      <td>CHS (Group)</td>\n",
       "    </tr>\n",
       "  </tbody>\n",
       "</table>\n",
       "</div>"
      ],
      "text/plain": [
       "   members         name\n",
       "69   30959  Dow (Group)\n",
       "70    2170  CHS (Group)\n",
       "71    9175  CHS (Group)\n",
       "72   26065  CHS (Group)\n",
       "73   32283  CHS (Group)"
      ]
     },
     "execution_count": 79,
     "metadata": {},
     "output_type": "execute_result"
    }
   ],
   "source": [
    "company_groups = add_company_group('CHS (Group)', ['2170', '9175', '26065', '32283'], company_groups)\n",
    "company_groups.tail()"
   ]
  },
  {
   "cell_type": "markdown",
   "metadata": {},
   "source": [
    "### 8.2.30 Harvest Midstream"
   ]
  },
  {
   "cell_type": "code",
   "execution_count": 80,
   "metadata": {},
   "outputs": [
    {
     "name": "stdout",
     "output_type": "stream",
     "text": [
      "\n",
      "HARVEST MIDSTREAM COMPANY (OPERATOR_ID 30782) has changed its name:\n",
      "\n",
      "\tWas named HARVEST MIDSTREAM COMPANY from 2018 to 2018.\n",
      "\n",
      "\tWas named HARVEST PIPELINE COMPANY from 2010 to 2017.\n",
      "\n"
     ]
    }
   ],
   "source": [
    "print(next(issues))"
   ]
  },
  {
   "cell_type": "markdown",
   "metadata": {},
   "source": [
    "Not a concern."
   ]
  },
  {
   "cell_type": "markdown",
   "metadata": {},
   "source": [
    "### 8.2.30 Countrymark"
   ]
  },
  {
   "cell_type": "code",
   "execution_count": 81,
   "metadata": {},
   "outputs": [
    {
     "name": "stdout",
     "output_type": "stream",
     "text": [
      "\n",
      "COUNTRYMARK REFINING AND LOGISTICS, LLC (OPERATOR_ID 26049) has changed its name:\n",
      "\n",
      "\tWas named COUNTRYMARK COOPERATIVE, LLP from 2010 to 2010.\n",
      "\n",
      "\tWas named COUNTRYMARK REFINING AND LOGISTICS, LLC from 2011 to 2018.\n",
      "\n"
     ]
    }
   ],
   "source": [
    "print(next(issues))"
   ]
  },
  {
   "cell_type": "markdown",
   "metadata": {},
   "source": [
    "Not a concern."
   ]
  },
  {
   "cell_type": "markdown",
   "metadata": {},
   "source": [
    "### 8.2.31 Magellan"
   ]
  },
  {
   "cell_type": "code",
   "execution_count": 82,
   "metadata": {},
   "outputs": [
    {
     "name": "stdout",
     "output_type": "stream",
     "text": [
      "\n",
      "MAGELLAN AMMONIA PIPELINE, L.P. (OPERATOR_ID 12105) may have a namesake or namesakes:\n",
      "\n",
      "\tMagellan Pipeline Company, L.P. (OPERATOR_ID 22610)\n",
      "\n",
      "\tMagellan Pipelines Holdings, L.P. (OPERATOR_ID 31579)\n",
      "\n"
     ]
    }
   ],
   "source": [
    "print(next(issues))"
   ]
  },
  {
   "cell_type": "markdown",
   "metadata": {},
   "source": [
    "Already covered in 8.2.3."
   ]
  },
  {
   "cell_type": "markdown",
   "metadata": {},
   "source": [
    "### 8.2.32 Occidental Petroleum"
   ]
  },
  {
   "cell_type": "code",
   "execution_count": 83,
   "metadata": {},
   "outputs": [
    {
     "name": "stdout",
     "output_type": "stream",
     "text": [
      "\n",
      "CENTURION PIPELINE L.P. (OPERATOR_ID 31888) has the same parent company as:\n",
      "\n",
      "\tBRAVO PIPELINE COMPANY (OPERATOR_ID 30657)\n",
      "\n"
     ]
    }
   ],
   "source": [
    "print(next(issues))"
   ]
  },
  {
   "cell_type": "code",
   "execution_count": 84,
   "metadata": {},
   "outputs": [
    {
     "data": {
      "text/html": [
       "<div>\n",
       "<style scoped>\n",
       "    .dataframe tbody tr th:only-of-type {\n",
       "        vertical-align: middle;\n",
       "    }\n",
       "\n",
       "    .dataframe tbody tr th {\n",
       "        vertical-align: top;\n",
       "    }\n",
       "\n",
       "    .dataframe thead th {\n",
       "        text-align: right;\n",
       "    }\n",
       "</style>\n",
       "<table border=\"1\" class=\"dataframe\">\n",
       "  <thead>\n",
       "    <tr style=\"text-align: right;\">\n",
       "      <th></th>\n",
       "      <th>members</th>\n",
       "      <th>name</th>\n",
       "    </tr>\n",
       "  </thead>\n",
       "  <tbody>\n",
       "    <tr>\n",
       "      <th>71</th>\n",
       "      <td>9175</td>\n",
       "      <td>CHS (Group)</td>\n",
       "    </tr>\n",
       "    <tr>\n",
       "      <th>72</th>\n",
       "      <td>26065</td>\n",
       "      <td>CHS (Group)</td>\n",
       "    </tr>\n",
       "    <tr>\n",
       "      <th>73</th>\n",
       "      <td>32283</td>\n",
       "      <td>CHS (Group)</td>\n",
       "    </tr>\n",
       "    <tr>\n",
       "      <th>74</th>\n",
       "      <td>31888</td>\n",
       "      <td>Occidental Petroleum (Group)</td>\n",
       "    </tr>\n",
       "    <tr>\n",
       "      <th>75</th>\n",
       "      <td>30657</td>\n",
       "      <td>Occidental Petroleum (Group)</td>\n",
       "    </tr>\n",
       "  </tbody>\n",
       "</table>\n",
       "</div>"
      ],
      "text/plain": [
       "   members                          name\n",
       "71    9175                   CHS (Group)\n",
       "72   26065                   CHS (Group)\n",
       "73   32283                   CHS (Group)\n",
       "74   31888  Occidental Petroleum (Group)\n",
       "75   30657  Occidental Petroleum (Group)"
      ]
     },
     "execution_count": 84,
     "metadata": {},
     "output_type": "execute_result"
    }
   ],
   "source": [
    "company_groups = add_company_group('Occidental Petroleum (Group)', ['31888', '30657'], company_groups)\n",
    "company_groups.tail()"
   ]
  },
  {
   "cell_type": "markdown",
   "metadata": {},
   "source": [
    "### 8.2.33 Valero"
   ]
  },
  {
   "cell_type": "code",
   "execution_count": 85,
   "metadata": {},
   "outputs": [
    {
     "name": "stdout",
     "output_type": "stream",
     "text": [
      "\n",
      "VALERO PARTNERS OPERATING CO. LLC (OPERATOR_ID 39105) has the same parent company as:\n",
      "\n",
      "\tVALERO TERMINALING AND DISTRIBUTION COMPANY (OPERATOR_ID 4430)\n",
      "\n",
      "\tPARKWAY PIPELINE LLC (OPERATOR_ID 32679)\n",
      "\n"
     ]
    }
   ],
   "source": [
    "print(next(issues))"
   ]
  },
  {
   "cell_type": "code",
   "execution_count": 86,
   "metadata": {},
   "outputs": [
    {
     "name": "stdout",
     "output_type": "stream",
     "text": [
      "No organizations were renamed at any time.\n"
     ]
    }
   ],
   "source": [
    "report_names(['39105', '4430', '32679'])"
   ]
  },
  {
   "cell_type": "markdown",
   "metadata": {},
   "source": [
    "According to our notes on ownership changes, Valero acquired all of Parkway pipeline (32679) on July 12, 2016."
   ]
  },
  {
   "cell_type": "code",
   "execution_count": 87,
   "metadata": {},
   "outputs": [
    {
     "data": {
      "text/html": [
       "<div>\n",
       "<style scoped>\n",
       "    .dataframe tbody tr th:only-of-type {\n",
       "        vertical-align: middle;\n",
       "    }\n",
       "\n",
       "    .dataframe tbody tr th {\n",
       "        vertical-align: top;\n",
       "    }\n",
       "\n",
       "    .dataframe thead th {\n",
       "        text-align: right;\n",
       "    }\n",
       "</style>\n",
       "<table border=\"1\" class=\"dataframe\">\n",
       "  <thead>\n",
       "    <tr style=\"text-align: right;\">\n",
       "      <th></th>\n",
       "      <th>members</th>\n",
       "      <th>name</th>\n",
       "    </tr>\n",
       "  </thead>\n",
       "  <tbody>\n",
       "    <tr>\n",
       "      <th>73</th>\n",
       "      <td>32283</td>\n",
       "      <td>CHS (Group)</td>\n",
       "    </tr>\n",
       "    <tr>\n",
       "      <th>74</th>\n",
       "      <td>31888</td>\n",
       "      <td>Occidental Petroleum (Group)</td>\n",
       "    </tr>\n",
       "    <tr>\n",
       "      <th>75</th>\n",
       "      <td>30657</td>\n",
       "      <td>Occidental Petroleum (Group)</td>\n",
       "    </tr>\n",
       "    <tr>\n",
       "      <th>76</th>\n",
       "      <td>39105</td>\n",
       "      <td>Valero Energy (Group)</td>\n",
       "    </tr>\n",
       "    <tr>\n",
       "      <th>77</th>\n",
       "      <td>4430</td>\n",
       "      <td>Valero Energy (Group)</td>\n",
       "    </tr>\n",
       "  </tbody>\n",
       "</table>\n",
       "</div>"
      ],
      "text/plain": [
       "   members                          name\n",
       "73   32283                   CHS (Group)\n",
       "74   31888  Occidental Petroleum (Group)\n",
       "75   30657  Occidental Petroleum (Group)\n",
       "76   39105         Valero Energy (Group)\n",
       "77    4430         Valero Energy (Group)"
      ]
     },
     "execution_count": 87,
     "metadata": {},
     "output_type": "execute_result"
    }
   ],
   "source": [
    "company_groups = add_company_group('Valero Energy (Group)', ['39105', '4430'], company_groups)\n",
    "company_groups.tail()"
   ]
  },
  {
   "cell_type": "code",
   "execution_count": 88,
   "metadata": {},
   "outputs": [],
   "source": [
    "m_as = add_m_a('Valero Energy (Group)', ['Valero Energy (Group)', '32679'], m_as, start_year = '2017')\n"
   ]
  },
  {
   "cell_type": "markdown",
   "metadata": {},
   "source": [
    "### 8.2.34 Magellan"
   ]
  },
  {
   "cell_type": "code",
   "execution_count": 89,
   "metadata": {},
   "outputs": [
    {
     "name": "stdout",
     "output_type": "stream",
     "text": [
      "\n",
      "MAGELLAN CRUDE OIL PIPELINE COMPANY, L.P. (OPERATOR_ID 39504) may have a namesake or namesakes:\n",
      "\n",
      "\tMagellan Ammonia Pipeline, L.P. (OPERATOR_ID 12105)\n",
      "\n",
      "\tMagellan Pipeline Company, L.P. (OPERATOR_ID 22610)\n",
      "\n",
      "\tMagellan Pipelines Holdings, L.P. (OPERATOR_ID 31579)\n",
      "\n"
     ]
    }
   ],
   "source": [
    "print(next(issues))"
   ]
  },
  {
   "cell_type": "markdown",
   "metadata": {},
   "source": [
    "Already handled above."
   ]
  },
  {
   "cell_type": "markdown",
   "metadata": {},
   "source": [
    "### 8.2.35 Targa"
   ]
  },
  {
   "cell_type": "code",
   "execution_count": 90,
   "metadata": {},
   "outputs": [
    {
     "name": "stdout",
     "output_type": "stream",
     "text": [
      "\n",
      "TARGA NGL PIPE LINE CO (OPERATOR_ID 30626) may have a namesake or namesakes:\n",
      "\n",
      "\tTARGA RESOURCES OPERATING LP (OPERATOR_ID 32296)\n",
      "\n"
     ]
    }
   ],
   "source": [
    "print(next(issues))"
   ]
  },
  {
   "cell_type": "markdown",
   "metadata": {},
   "source": [
    "Already handled above."
   ]
  },
  {
   "cell_type": "markdown",
   "metadata": {},
   "source": [
    "### 8.2.36 SemGroup"
   ]
  },
  {
   "cell_type": "code",
   "execution_count": 91,
   "metadata": {},
   "outputs": [
    {
     "name": "stdout",
     "output_type": "stream",
     "text": [
      "\n",
      "WHITE CLIFFS PIPELINE, LLC (OPERATOR_ID 32288) has the same parent company as:\n",
      "\n",
      "\tROSE ROCK MIDSTREAM L.P. (OPERATOR_ID 31476)\n",
      "\n"
     ]
    }
   ],
   "source": [
    "print(next(issues))"
   ]
  },
  {
   "cell_type": "markdown",
   "metadata": {},
   "source": [
    "See ownership_changes.txt in folder input."
   ]
  },
  {
   "cell_type": "code",
   "execution_count": 92,
   "metadata": {},
   "outputs": [
    {
     "data": {
      "text/html": [
       "<div>\n",
       "<style scoped>\n",
       "    .dataframe tbody tr th:only-of-type {\n",
       "        vertical-align: middle;\n",
       "    }\n",
       "\n",
       "    .dataframe tbody tr th {\n",
       "        vertical-align: top;\n",
       "    }\n",
       "\n",
       "    .dataframe thead th {\n",
       "        text-align: right;\n",
       "    }\n",
       "</style>\n",
       "<table border=\"1\" class=\"dataframe\">\n",
       "  <thead>\n",
       "    <tr style=\"text-align: right;\">\n",
       "      <th></th>\n",
       "      <th>members</th>\n",
       "      <th>name</th>\n",
       "      <th>start_year</th>\n",
       "      <th>end_year</th>\n",
       "    </tr>\n",
       "  </thead>\n",
       "  <tbody>\n",
       "    <tr>\n",
       "      <th>4</th>\n",
       "      <td>32099</td>\n",
       "      <td>Sunoco (Group)</td>\n",
       "      <td>2013</td>\n",
       "      <td>NaN</td>\n",
       "    </tr>\n",
       "    <tr>\n",
       "      <th>5</th>\n",
       "      <td>Valero Energy (Group)</td>\n",
       "      <td>Valero Energy (Group)</td>\n",
       "      <td>2017</td>\n",
       "      <td>NaN</td>\n",
       "    </tr>\n",
       "    <tr>\n",
       "      <th>6</th>\n",
       "      <td>32679</td>\n",
       "      <td>Valero Energy (Group)</td>\n",
       "      <td>2017</td>\n",
       "      <td>NaN</td>\n",
       "    </tr>\n",
       "    <tr>\n",
       "      <th>7</th>\n",
       "      <td>32288</td>\n",
       "      <td>SemGroup (Group)</td>\n",
       "      <td>NaN</td>\n",
       "      <td>2011</td>\n",
       "    </tr>\n",
       "    <tr>\n",
       "      <th>8</th>\n",
       "      <td>31476</td>\n",
       "      <td>SemGroup (Group)</td>\n",
       "      <td>NaN</td>\n",
       "      <td>2011</td>\n",
       "    </tr>\n",
       "  </tbody>\n",
       "</table>\n",
       "</div>"
      ],
      "text/plain": [
       "                 members                   name start_year end_year\n",
       "4                  32099         Sunoco (Group)       2013      NaN\n",
       "5  Valero Energy (Group)  Valero Energy (Group)       2017      NaN\n",
       "6                  32679  Valero Energy (Group)       2017      NaN\n",
       "7                  32288       SemGroup (Group)        NaN     2011\n",
       "8                  31476       SemGroup (Group)        NaN     2011"
      ]
     },
     "execution_count": 92,
     "metadata": {},
     "output_type": "execute_result"
    }
   ],
   "source": [
    "m_as = add_m_a('SemGroup (Group)', ['32288', '31476'], m_as, end_year = '2011')\n",
    "m_as.tail()"
   ]
  },
  {
   "cell_type": "markdown",
   "metadata": {},
   "source": [
    "### 8.2.37 Petrologistics"
   ]
  },
  {
   "cell_type": "code",
   "execution_count": 93,
   "metadata": {},
   "outputs": [
    {
     "name": "stdout",
     "output_type": "stream",
     "text": [
      "\n",
      "PETROLOGISTICS OLEFINS, LLC (OPERATOR_ID 20160) has changed its name:\n",
      "\n",
      "\tWas named PETROLOGISTICS OLEFINS, LLC from 2011 to 2012.\n",
      "\n",
      "\tWas named PL Midstream LLC from 2010 to 2010.\n",
      "\n"
     ]
    }
   ],
   "source": [
    "print(next(issues))"
   ]
  },
  {
   "cell_type": "markdown",
   "metadata": {},
   "source": [
    "### 8.2.37 Enlink"
   ]
  },
  {
   "cell_type": "code",
   "execution_count": 94,
   "metadata": {},
   "outputs": [
    {
     "name": "stdout",
     "output_type": "stream",
     "text": [
      "\n",
      "ENLINK LBU-GAS&LIQUIDS (OPERATOR_ID 32005) has the same parent company as:\n",
      "\n",
      "\tENLINK NGL PIPELINE, LP (OPERATOR_ID 32107)\n",
      "\n"
     ]
    }
   ],
   "source": [
    "print(next(issues))"
   ]
  },
  {
   "cell_type": "code",
   "execution_count": 95,
   "metadata": {},
   "outputs": [
    {
     "data": {
      "text/html": [
       "<div>\n",
       "<style scoped>\n",
       "    .dataframe tbody tr th:only-of-type {\n",
       "        vertical-align: middle;\n",
       "    }\n",
       "\n",
       "    .dataframe tbody tr th {\n",
       "        vertical-align: top;\n",
       "    }\n",
       "\n",
       "    .dataframe thead th {\n",
       "        text-align: right;\n",
       "    }\n",
       "</style>\n",
       "<table border=\"1\" class=\"dataframe\">\n",
       "  <thead>\n",
       "    <tr style=\"text-align: right;\">\n",
       "      <th></th>\n",
       "      <th>members</th>\n",
       "      <th>name</th>\n",
       "    </tr>\n",
       "  </thead>\n",
       "  <tbody>\n",
       "    <tr>\n",
       "      <th>75</th>\n",
       "      <td>30657</td>\n",
       "      <td>Occidental Petroleum (Group)</td>\n",
       "    </tr>\n",
       "    <tr>\n",
       "      <th>76</th>\n",
       "      <td>39105</td>\n",
       "      <td>Valero Energy (Group)</td>\n",
       "    </tr>\n",
       "    <tr>\n",
       "      <th>77</th>\n",
       "      <td>4430</td>\n",
       "      <td>Valero Energy (Group)</td>\n",
       "    </tr>\n",
       "    <tr>\n",
       "      <th>78</th>\n",
       "      <td>32005</td>\n",
       "      <td>Enlink (Group)</td>\n",
       "    </tr>\n",
       "    <tr>\n",
       "      <th>79</th>\n",
       "      <td>32107</td>\n",
       "      <td>Enlink (Group)</td>\n",
       "    </tr>\n",
       "  </tbody>\n",
       "</table>\n",
       "</div>"
      ],
      "text/plain": [
       "   members                          name\n",
       "75   30657  Occidental Petroleum (Group)\n",
       "76   39105         Valero Energy (Group)\n",
       "77    4430         Valero Energy (Group)\n",
       "78   32005                Enlink (Group)\n",
       "79   32107                Enlink (Group)"
      ]
     },
     "execution_count": 95,
     "metadata": {},
     "output_type": "execute_result"
    }
   ],
   "source": [
    "company_groups = add_company_group('Enlink (Group)', ['32005', '32107'], company_groups)\n",
    "company_groups.tail()"
   ]
  },
  {
   "cell_type": "markdown",
   "metadata": {},
   "source": [
    "### 3.2.38 ExxonMobil"
   ]
  },
  {
   "cell_type": "code",
   "execution_count": 96,
   "metadata": {},
   "outputs": [
    {
     "name": "stdout",
     "output_type": "stream",
     "text": [
      "\n",
      "EXXONMOBIL OIL CORPORATION (OPERATOR_ID 12634) has changed its name:\n",
      "\n",
      "\tWas named EXXONMOBIL OIL CORPORATION from 2018 to 2018.\n",
      "\n",
      "\tWas named MOBIL CHEMICAL CO from 2010 to 2017.\n",
      "\n",
      "EXXONMOBIL OIL CORPORATION (OPERATOR_ID 12634) may have a namesake or namesakes:\n",
      "\n",
      "\tMOBIL CORP (OPERATOR_ID 12624)\n",
      "\n",
      "\tMOBIL  PIPE  LINE COMPANY (OPERATOR_ID 12628)\n",
      "\n",
      "\tMOBIL PIPELINE CO (OPERATOR_ID 12628)\n",
      "\n"
     ]
    }
   ],
   "source": [
    "print(next(issues))"
   ]
  },
  {
   "cell_type": "markdown",
   "metadata": {},
   "source": [
    "Already handled above."
   ]
  },
  {
   "cell_type": "markdown",
   "metadata": {},
   "source": [
    "### 8.2.39 Rose Rock"
   ]
  },
  {
   "cell_type": "code",
   "execution_count": 97,
   "metadata": {},
   "outputs": [
    {
     "name": "stdout",
     "output_type": "stream",
     "text": [
      "\n",
      "ROSE ROCK MIDSTREAM L.P. (OPERATOR_ID 31476) has changed its name:\n",
      "\n",
      "\tWas named ROSE ROCK MIDSTREAM L.P. from 2012 to 2018.\n",
      "\n",
      "\tWas named Rose Rock Midstream L.P. from 2011 to 2011.\n",
      "\n",
      "\tWas named SEMGROUP LP from 2010 to 2010.\n",
      "\n"
     ]
    }
   ],
   "source": [
    "print(next(issues))"
   ]
  },
  {
   "cell_type": "markdown",
   "metadata": {},
   "source": [
    "Already handled above."
   ]
  },
  {
   "cell_type": "markdown",
   "metadata": {},
   "source": [
    "### 8.2.40 Eastman Chemical"
   ]
  },
  {
   "cell_type": "code",
   "execution_count": 98,
   "metadata": {},
   "outputs": [
    {
     "name": "stdout",
     "output_type": "stream",
     "text": [
      "\n",
      "MUSTANG  PIPE  LINE  LLC (OPERATOR_ID 31166) has changed its name:\n",
      "\n",
      "\tWas named MUSTANG  PIPE  LINE  LLC from 2012 to 2018.\n",
      "\n",
      "\tWas named MUSTANG PIPE LINE PARTNERS from 2010 to 2011.\n",
      "\n",
      "MUSTANG  PIPE  LINE  LLC (OPERATOR_ID 31166) has the same parent company as:\n",
      "\n",
      "\tTEXAS EASTMAN DIVISION, EASTMAN CHEMICAL CO (OPERATOR_ID 26103)\n",
      "\n"
     ]
    }
   ],
   "source": [
    "print(next(issues))"
   ]
  },
  {
   "cell_type": "code",
   "execution_count": 99,
   "metadata": {},
   "outputs": [
    {
     "data": {
      "text/html": [
       "<div>\n",
       "<style scoped>\n",
       "    .dataframe tbody tr th:only-of-type {\n",
       "        vertical-align: middle;\n",
       "    }\n",
       "\n",
       "    .dataframe tbody tr th {\n",
       "        vertical-align: top;\n",
       "    }\n",
       "\n",
       "    .dataframe thead th {\n",
       "        text-align: right;\n",
       "    }\n",
       "</style>\n",
       "<table border=\"1\" class=\"dataframe\">\n",
       "  <thead>\n",
       "    <tr style=\"text-align: right;\">\n",
       "      <th></th>\n",
       "      <th>members</th>\n",
       "      <th>name</th>\n",
       "    </tr>\n",
       "  </thead>\n",
       "  <tbody>\n",
       "    <tr>\n",
       "      <th>77</th>\n",
       "      <td>4430</td>\n",
       "      <td>Valero Energy (Group)</td>\n",
       "    </tr>\n",
       "    <tr>\n",
       "      <th>78</th>\n",
       "      <td>32005</td>\n",
       "      <td>Enlink (Group)</td>\n",
       "    </tr>\n",
       "    <tr>\n",
       "      <th>79</th>\n",
       "      <td>32107</td>\n",
       "      <td>Enlink (Group)</td>\n",
       "    </tr>\n",
       "    <tr>\n",
       "      <th>80</th>\n",
       "      <td>31166</td>\n",
       "      <td>Eastman Chemical (Group)</td>\n",
       "    </tr>\n",
       "    <tr>\n",
       "      <th>81</th>\n",
       "      <td>26103</td>\n",
       "      <td>Eastman Chemical (Group)</td>\n",
       "    </tr>\n",
       "  </tbody>\n",
       "</table>\n",
       "</div>"
      ],
      "text/plain": [
       "   members                      name\n",
       "77    4430     Valero Energy (Group)\n",
       "78   32005            Enlink (Group)\n",
       "79   32107            Enlink (Group)\n",
       "80   31166  Eastman Chemical (Group)\n",
       "81   26103  Eastman Chemical (Group)"
      ]
     },
     "execution_count": 99,
     "metadata": {},
     "output_type": "execute_result"
    }
   ],
   "source": [
    "company_groups = add_company_group('Eastman Chemical (Group)', ['31166', '26103'], company_groups)\n",
    "company_groups.tail()"
   ]
  },
  {
   "cell_type": "markdown",
   "metadata": {},
   "source": [
    "### 8.2.41 ExxonMobil"
   ]
  },
  {
   "cell_type": "code",
   "execution_count": 100,
   "metadata": {},
   "outputs": [
    {
     "name": "stdout",
     "output_type": "stream",
     "text": [
      "\n",
      "EXXONMOBIL OIL CORPORATION (OPERATOR_ID 12624) has changed its name:\n",
      "\n",
      "\tWas named EXXONMOBIL OIL CORPORATION from 2018 to 2018.\n",
      "\n",
      "\tWas named MOBIL CORP from 2010 to 2017.\n",
      "\n",
      "EXXONMOBIL OIL CORPORATION (OPERATOR_ID 12624) may have a namesake or namesakes:\n",
      "\n",
      "\tMOBIL  PIPE  LINE COMPANY (OPERATOR_ID 12628)\n",
      "\n",
      "\tMOBIL PIPELINE CO (OPERATOR_ID 12628)\n",
      "\n",
      "\tMOBIL CHEMICAL CO (OPERATOR_ID 12634)\n",
      "\n"
     ]
    }
   ],
   "source": [
    "print(next(issues))"
   ]
  },
  {
   "cell_type": "markdown",
   "metadata": {},
   "source": [
    "Already handled above."
   ]
  },
  {
   "cell_type": "markdown",
   "metadata": {},
   "source": [
    "### 8.2.42 Enbridge"
   ]
  },
  {
   "cell_type": "code",
   "execution_count": 101,
   "metadata": {},
   "outputs": [
    {
     "name": "stdout",
     "output_type": "stream",
     "text": [
      "\n",
      "NORTH DAKOTA PIPELINE COMPANY LLC (OPERATOR_ID 15774) has changed its name:\n",
      "\n",
      "\tWas named ENBRIDGE PIPELINES (NORTH DAKOTA) LLC from 2010 to 2012.\n",
      "\n",
      "\tWas named NORTH DAKOTA PIPELINE COMPANY LLC from 2013 to 2018.\n",
      "\n",
      "NORTH DAKOTA PIPELINE COMPANY LLC (OPERATOR_ID 15774) may have a namesake or namesakes:\n",
      "\n",
      "\tENBRIDGE ENERGY, LIMITED PARTNERSHIP (OPERATOR_ID 11169)\n",
      "\n",
      "\tENBRIDGE PIPELINES (TOLEDO) INC (OPERATOR_ID 31448)\n",
      "\n",
      "\tENBRIDGE PIPELINES (OZARK) L.L.C. (OPERATOR_ID 31947)\n",
      "\n",
      "\tENBRIDGE PIPELINES (SOUTHERN LIGHTS) L.L.C. (OPERATOR_ID 32502)\n",
      "\n"
     ]
    }
   ],
   "source": [
    "print(next(issues))"
   ]
  },
  {
   "cell_type": "markdown",
   "metadata": {},
   "source": [
    "Already handled above."
   ]
  },
  {
   "cell_type": "markdown",
   "metadata": {},
   "source": [
    "### 8.2.43 Markwest"
   ]
  },
  {
   "cell_type": "code",
   "execution_count": 102,
   "metadata": {},
   "outputs": [
    {
     "name": "stdout",
     "output_type": "stream",
     "text": [
      "\n",
      "MARKWEST LIBERTY MIDSTREAM & RESOURCES, L.L.C. (OPERATOR_ID 32412) may have a namesake or namesakes:\n",
      "\n",
      "\tMARKWEST RANGER PIPELINE COMPANY, L.L.C. (OPERATOR_ID 26026)\n",
      "\n",
      "\tMARKWEST RANGER PIPELINE COMPANY, LLC (OPERATOR_ID 26026)\n",
      "\n",
      "\tMARKWEST ENERGY APPALACHIA, LLC (OPERATOR_ID 26026)\n",
      "\n"
     ]
    }
   ],
   "source": [
    "print(next(issues))"
   ]
  },
  {
   "cell_type": "markdown",
   "metadata": {},
   "source": [
    "Already handled above."
   ]
  },
  {
   "cell_type": "markdown",
   "metadata": {},
   "source": [
    "### 8.2.44 Dominion"
   ]
  },
  {
   "cell_type": "code",
   "execution_count": 103,
   "metadata": {},
   "outputs": [
    {
     "name": "stdout",
     "output_type": "stream",
     "text": [
      "\n",
      "DOMINION ENERGY TRANSMISSION, INC. (OPERATOR_ID 2714) has changed its name:\n",
      "\n",
      "\tWas named DOMINION ENERGY TRANSMISSION, INC. from 2017 to 2018.\n",
      "\n",
      "\tWas named DOMINION TRANSMISSION, INC from 2010 to 2016.\n",
      "\n"
     ]
    }
   ],
   "source": [
    "print(next(issues))"
   ]
  },
  {
   "cell_type": "markdown",
   "metadata": {},
   "source": [
    "Not an issue we need to address."
   ]
  },
  {
   "cell_type": "markdown",
   "metadata": {},
   "source": [
    "### 8.2.45 Western Refining"
   ]
  },
  {
   "cell_type": "code",
   "execution_count": 104,
   "metadata": {},
   "outputs": [
    {
     "name": "stdout",
     "output_type": "stream",
     "text": [
      "\n",
      "WESTERN REFINING LOGISTICS, LP (OPERATOR_ID 31574) has changed its name:\n",
      "\n",
      "\tWas named WESTERN REFINING LOGISTICS, LP from 2018 to 2018.\n",
      "\n",
      "\tWas named WESTERN REFINING PIPELINE COMPANY from 2010 to 2012.\n",
      "\n",
      "\tWas named WESTERN REFINING PIPELINE, LLC from 2013 to 2017.\n",
      "\n"
     ]
    }
   ],
   "source": [
    "print(next(issues))"
   ]
  },
  {
   "cell_type": "markdown",
   "metadata": {},
   "source": [
    "Not an issue we need to address."
   ]
  },
  {
   "cell_type": "markdown",
   "metadata": {},
   "source": [
    "### 8.2.46 Delek"
   ]
  },
  {
   "cell_type": "code",
   "execution_count": 105,
   "metadata": {},
   "outputs": [
    {
     "name": "stdout",
     "output_type": "stream",
     "text": [
      "\n",
      "DELEK LOGISTICS OPERATING, LLC. (OPERATOR_ID 11551) has changed its name:\n",
      "\n",
      "\tWas named DELEK LOGISTICS OPERATING, LLC. from 2013 to 2018.\n",
      "\n",
      "\tWas named LION OIL TRADING & TRANSPORTATION, INC from 2010 to 2012.\n",
      "\n",
      "DELEK LOGISTICS OPERATING, LLC. (OPERATOR_ID 11551) has the same parent company as:\n",
      "\n",
      "\tDELEK MARKETING AND SUPPLY, LP (OPERATOR_ID 15851)\n",
      "\n",
      "\tDELEK CRUDE LOGISTICS, LLC. (OPERATOR_ID 26061)\n",
      "\n",
      "\tPARAMOUNT PETROLEUM CORP (OPERATOR_ID 26136)\n",
      "\n",
      "DELEK LOGISTICS OPERATING, LLC. (OPERATOR_ID 11551) may have a namesake or namesakes:\n",
      "\n",
      "\tDELEK PIPELINE TEXAS, INC (OPERATOR_ID 26061)\n",
      "\n"
     ]
    }
   ],
   "source": [
    "print(next(issues))"
   ]
  },
  {
   "cell_type": "code",
   "execution_count": 106,
   "metadata": {},
   "outputs": [
    {
     "name": "stdout",
     "output_type": "stream",
     "text": [
      "\n",
      "Organization 11551 has changed its name:\n",
      "    11551 was named DELEK LOGISTICS OPERATING, LLC. from 2013 to 2018.\n",
      "    11551 was named LION OIL TRADING & TRANSPORTATION, INC from 2010 to 2012.\n",
      "\n",
      "Organization 26061 has changed its name:\n",
      "    26061 was named DELEK CRUDE LOGISTICS, LLC. from 2013 to 2018.\n",
      "    26061 was named DELEK PIPELINE TEXAS, INC from 2010 to 2012.\n"
     ]
    }
   ],
   "source": [
    "report_names(['11551', '15851', '26061', '26136'])"
   ]
  },
  {
   "cell_type": "markdown",
   "metadata": {},
   "source": [
    "LexisNexis does not indicate that Delek bought Lion Oil."
   ]
  },
  {
   "cell_type": "code",
   "execution_count": 107,
   "metadata": {},
   "outputs": [
    {
     "data": {
      "text/html": [
       "<div>\n",
       "<style scoped>\n",
       "    .dataframe tbody tr th:only-of-type {\n",
       "        vertical-align: middle;\n",
       "    }\n",
       "\n",
       "    .dataframe tbody tr th {\n",
       "        vertical-align: top;\n",
       "    }\n",
       "\n",
       "    .dataframe thead th {\n",
       "        text-align: right;\n",
       "    }\n",
       "</style>\n",
       "<table border=\"1\" class=\"dataframe\">\n",
       "  <thead>\n",
       "    <tr style=\"text-align: right;\">\n",
       "      <th></th>\n",
       "      <th>members</th>\n",
       "      <th>name</th>\n",
       "    </tr>\n",
       "  </thead>\n",
       "  <tbody>\n",
       "    <tr>\n",
       "      <th>81</th>\n",
       "      <td>26103</td>\n",
       "      <td>Eastman Chemical (Group)</td>\n",
       "    </tr>\n",
       "    <tr>\n",
       "      <th>82</th>\n",
       "      <td>11551</td>\n",
       "      <td>Delek (Group)</td>\n",
       "    </tr>\n",
       "    <tr>\n",
       "      <th>83</th>\n",
       "      <td>15851</td>\n",
       "      <td>Delek (Group)</td>\n",
       "    </tr>\n",
       "    <tr>\n",
       "      <th>84</th>\n",
       "      <td>26061</td>\n",
       "      <td>Delek (Group)</td>\n",
       "    </tr>\n",
       "    <tr>\n",
       "      <th>85</th>\n",
       "      <td>26136</td>\n",
       "      <td>Delek (Group)</td>\n",
       "    </tr>\n",
       "  </tbody>\n",
       "</table>\n",
       "</div>"
      ],
      "text/plain": [
       "   members                      name\n",
       "81   26103  Eastman Chemical (Group)\n",
       "82   11551             Delek (Group)\n",
       "83   15851             Delek (Group)\n",
       "84   26061             Delek (Group)\n",
       "85   26136             Delek (Group)"
      ]
     },
     "execution_count": 107,
     "metadata": {},
     "output_type": "execute_result"
    }
   ],
   "source": [
    "company_groups = add_company_group('Delek (Group)', ['11551', '15851', '26061', '26136'], company_groups)\n",
    "company_groups.tail()"
   ]
  },
  {
   "cell_type": "markdown",
   "metadata": {},
   "source": [
    "### 8.2.47 Suncor"
   ]
  },
  {
   "cell_type": "code",
   "execution_count": 108,
   "metadata": {},
   "outputs": [
    {
     "name": "stdout",
     "output_type": "stream",
     "text": [
      "\n",
      "PORTLAND PIPE LINE CORPORATION (OPERATOR_ID 15786) has changed its name:\n",
      "\n",
      "\tWas named PORTLAND PIPE LINE CORPORATION from 2012 to 2018.\n",
      "\n",
      "\tWas named PORTLAND PIPELINE CORP from 2010 to 2011.\n",
      "\n",
      "PORTLAND PIPE LINE CORPORATION (OPERATOR_ID 15786) has the same parent company as:\n",
      "\n",
      "\tSUNCOR ENERGY (USA) PIPELINE CO. (OPERATOR_ID 31822)\n",
      "\n"
     ]
    }
   ],
   "source": [
    "print(next(issues))"
   ]
  },
  {
   "cell_type": "code",
   "execution_count": 109,
   "metadata": {},
   "outputs": [
    {
     "data": {
      "text/html": [
       "<div>\n",
       "<style scoped>\n",
       "    .dataframe tbody tr th:only-of-type {\n",
       "        vertical-align: middle;\n",
       "    }\n",
       "\n",
       "    .dataframe tbody tr th {\n",
       "        vertical-align: top;\n",
       "    }\n",
       "\n",
       "    .dataframe thead th {\n",
       "        text-align: right;\n",
       "    }\n",
       "</style>\n",
       "<table border=\"1\" class=\"dataframe\">\n",
       "  <thead>\n",
       "    <tr style=\"text-align: right;\">\n",
       "      <th></th>\n",
       "      <th>members</th>\n",
       "      <th>name</th>\n",
       "    </tr>\n",
       "  </thead>\n",
       "  <tbody>\n",
       "    <tr>\n",
       "      <th>83</th>\n",
       "      <td>15851</td>\n",
       "      <td>Delek (Group)</td>\n",
       "    </tr>\n",
       "    <tr>\n",
       "      <th>84</th>\n",
       "      <td>26061</td>\n",
       "      <td>Delek (Group)</td>\n",
       "    </tr>\n",
       "    <tr>\n",
       "      <th>85</th>\n",
       "      <td>26136</td>\n",
       "      <td>Delek (Group)</td>\n",
       "    </tr>\n",
       "    <tr>\n",
       "      <th>86</th>\n",
       "      <td>15786</td>\n",
       "      <td>Suncor (Group)</td>\n",
       "    </tr>\n",
       "    <tr>\n",
       "      <th>87</th>\n",
       "      <td>31822</td>\n",
       "      <td>Suncor (Group)</td>\n",
       "    </tr>\n",
       "  </tbody>\n",
       "</table>\n",
       "</div>"
      ],
      "text/plain": [
       "   members            name\n",
       "83   15851   Delek (Group)\n",
       "84   26061   Delek (Group)\n",
       "85   26136   Delek (Group)\n",
       "86   15786  Suncor (Group)\n",
       "87   31822  Suncor (Group)"
      ]
     },
     "execution_count": 109,
     "metadata": {},
     "output_type": "execute_result"
    }
   ],
   "source": [
    "company_groups = add_company_group('Suncor (Group)', ['15786', '31822'], company_groups)\n",
    "company_groups.tail()"
   ]
  },
  {
   "cell_type": "markdown",
   "metadata": {},
   "source": [
    "### 8.2.48 Crestwood Equity"
   ]
  },
  {
   "cell_type": "code",
   "execution_count": 110,
   "metadata": {},
   "outputs": [
    {
     "name": "stdout",
     "output_type": "stream",
     "text": [
      "\n",
      "ARROW PIPELINE (OPERATOR_ID 39083) has the same parent company as:\n",
      "\n",
      "\tCRESTWOOD MIDSTREAM PARTNERS LP (OPERATOR_ID 39368)\n",
      "\n"
     ]
    }
   ],
   "source": [
    "print(next(issues))"
   ]
  },
  {
   "cell_type": "code",
   "execution_count": 111,
   "metadata": {},
   "outputs": [
    {
     "data": {
      "text/html": [
       "<div>\n",
       "<style scoped>\n",
       "    .dataframe tbody tr th:only-of-type {\n",
       "        vertical-align: middle;\n",
       "    }\n",
       "\n",
       "    .dataframe tbody tr th {\n",
       "        vertical-align: top;\n",
       "    }\n",
       "\n",
       "    .dataframe thead th {\n",
       "        text-align: right;\n",
       "    }\n",
       "</style>\n",
       "<table border=\"1\" class=\"dataframe\">\n",
       "  <thead>\n",
       "    <tr style=\"text-align: right;\">\n",
       "      <th></th>\n",
       "      <th>members</th>\n",
       "      <th>name</th>\n",
       "    </tr>\n",
       "  </thead>\n",
       "  <tbody>\n",
       "    <tr>\n",
       "      <th>85</th>\n",
       "      <td>26136</td>\n",
       "      <td>Delek (Group)</td>\n",
       "    </tr>\n",
       "    <tr>\n",
       "      <th>86</th>\n",
       "      <td>15786</td>\n",
       "      <td>Suncor (Group)</td>\n",
       "    </tr>\n",
       "    <tr>\n",
       "      <th>87</th>\n",
       "      <td>31822</td>\n",
       "      <td>Suncor (Group)</td>\n",
       "    </tr>\n",
       "    <tr>\n",
       "      <th>88</th>\n",
       "      <td>39083</td>\n",
       "      <td>Crestwood (Group)</td>\n",
       "    </tr>\n",
       "    <tr>\n",
       "      <th>89</th>\n",
       "      <td>39368</td>\n",
       "      <td>Crestwood (Group)</td>\n",
       "    </tr>\n",
       "  </tbody>\n",
       "</table>\n",
       "</div>"
      ],
      "text/plain": [
       "   members               name\n",
       "85   26136      Delek (Group)\n",
       "86   15786     Suncor (Group)\n",
       "87   31822     Suncor (Group)\n",
       "88   39083  Crestwood (Group)\n",
       "89   39368  Crestwood (Group)"
      ]
     },
     "execution_count": 111,
     "metadata": {},
     "output_type": "execute_result"
    }
   ],
   "source": [
    "company_groups = add_company_group('Crestwood (Group)', ['39083', '39368'], company_groups)\n",
    "company_groups.tail()"
   ]
  },
  {
   "cell_type": "markdown",
   "metadata": {},
   "source": [
    "### 8.2.49 PBF Energy"
   ]
  },
  {
   "cell_type": "code",
   "execution_count": 112,
   "metadata": {},
   "outputs": [
    {
     "name": "stdout",
     "output_type": "stream",
     "text": [
      "\n",
      "TORRANCE VALLEY PIPELINE COMPANY LLC (OPERATOR_ID 39534) has the same parent company as:\n",
      "\n",
      "\tCOLLINS PIPELINE CO (OPERATOR_ID 26120)\n",
      "\n",
      "\tTORRANCE PIPELINE COMPANY LLC (OPERATOR_ID 39535)\n",
      "\n"
     ]
    }
   ],
   "source": [
    "print(next(issues))"
   ]
  },
  {
   "cell_type": "code",
   "execution_count": 113,
   "metadata": {},
   "outputs": [
    {
     "data": {
      "text/html": [
       "<div>\n",
       "<style scoped>\n",
       "    .dataframe tbody tr th:only-of-type {\n",
       "        vertical-align: middle;\n",
       "    }\n",
       "\n",
       "    .dataframe tbody tr th {\n",
       "        vertical-align: top;\n",
       "    }\n",
       "\n",
       "    .dataframe thead th {\n",
       "        text-align: right;\n",
       "    }\n",
       "</style>\n",
       "<table border=\"1\" class=\"dataframe\">\n",
       "  <thead>\n",
       "    <tr style=\"text-align: right;\">\n",
       "      <th></th>\n",
       "      <th>members</th>\n",
       "      <th>name</th>\n",
       "    </tr>\n",
       "  </thead>\n",
       "  <tbody>\n",
       "    <tr>\n",
       "      <th>88</th>\n",
       "      <td>39083</td>\n",
       "      <td>Crestwood (Group)</td>\n",
       "    </tr>\n",
       "    <tr>\n",
       "      <th>89</th>\n",
       "      <td>39368</td>\n",
       "      <td>Crestwood (Group)</td>\n",
       "    </tr>\n",
       "    <tr>\n",
       "      <th>90</th>\n",
       "      <td>39534</td>\n",
       "      <td>PBF Energy (Group)</td>\n",
       "    </tr>\n",
       "    <tr>\n",
       "      <th>91</th>\n",
       "      <td>26120</td>\n",
       "      <td>PBF Energy (Group)</td>\n",
       "    </tr>\n",
       "    <tr>\n",
       "      <th>92</th>\n",
       "      <td>39535</td>\n",
       "      <td>PBF Energy (Group)</td>\n",
       "    </tr>\n",
       "  </tbody>\n",
       "</table>\n",
       "</div>"
      ],
      "text/plain": [
       "   members                name\n",
       "88   39083   Crestwood (Group)\n",
       "89   39368   Crestwood (Group)\n",
       "90   39534  PBF Energy (Group)\n",
       "91   26120  PBF Energy (Group)\n",
       "92   39535  PBF Energy (Group)"
      ]
     },
     "execution_count": 113,
     "metadata": {},
     "output_type": "execute_result"
    }
   ],
   "source": [
    "company_groups = add_company_group('PBF Energy (Group)', ['39534', '26120', '39535'], company_groups)\n",
    "company_groups.tail()"
   ]
  },
  {
   "cell_type": "markdown",
   "metadata": {},
   "source": [
    "### 8.2.50 CHS McPherson"
   ]
  },
  {
   "cell_type": "code",
   "execution_count": 114,
   "metadata": {},
   "outputs": [
    {
     "name": "stdout",
     "output_type": "stream",
     "text": [
      "\n",
      "CHS MCPHERSON REFINERY INC. (OPERATOR_ID 26065) has changed its name:\n",
      "\n",
      "\tWas named CHS MCPHERSON REFINERY INC. from 2015 to 2018.\n",
      "\n",
      "\tWas named NATIONAL COOP REFINERY ASSCO from 2010 to 2014.\n",
      "\n"
     ]
    }
   ],
   "source": [
    "print(next(issues))"
   ]
  },
  {
   "cell_type": "markdown",
   "metadata": {},
   "source": [
    "LexisNexis indicates not change of ownership."
   ]
  },
  {
   "cell_type": "markdown",
   "metadata": {},
   "source": [
    "### 8.2.51 Markwest"
   ]
  },
  {
   "cell_type": "code",
   "execution_count": 115,
   "metadata": {},
   "outputs": [
    {
     "name": "stdout",
     "output_type": "stream",
     "text": [
      "\n",
      "MARKWEST RANGER PIPELINE COMPANY, L.L.C. (OPERATOR_ID 26026) has changed its name:\n",
      "\n",
      "\tWas named MARKWEST ENERGY APPALACHIA, LLC from 2010 to 2010.\n",
      "\n",
      "\tWas named MARKWEST RANGER PIPELINE COMPANY, L.L.C. from 2012 to 2018.\n",
      "\n",
      "\tWas named MARKWEST RANGER PIPELINE COMPANY, LLC from 2011 to 2011.\n",
      "\n",
      "MARKWEST RANGER PIPELINE COMPANY, L.L.C. (OPERATOR_ID 26026) may have a namesake or namesakes:\n",
      "\n",
      "\tMARKWEST LIBERTY MIDSTREAM & RESOURCES, LLC (OPERATOR_ID 32412)\n",
      "\n",
      "\tMARKWEST LIBERTY MIDSTREAM & RESOURCES, L.L.C. (OPERATOR_ID 32412)\n",
      "\n"
     ]
    }
   ],
   "source": [
    "print(next(issues))"
   ]
  },
  {
   "cell_type": "markdown",
   "metadata": {},
   "source": [
    "Already addressed above."
   ]
  },
  {
   "cell_type": "markdown",
   "metadata": {},
   "source": [
    "### 8.2.52 Delek"
   ]
  },
  {
   "cell_type": "code",
   "execution_count": 116,
   "metadata": {},
   "outputs": [
    {
     "name": "stdout",
     "output_type": "stream",
     "text": [
      "\n",
      "TPC GROUP, LLC (OPERATOR_ID 19319) has changed its name:\n",
      "\n",
      "\tWas named TEXAS PETROCHEMICALS CORP from 2011 to 2011.\n",
      "\n",
      "\tWas named TPC GROUP, LLC from 2011 to 2018.\n",
      "\n",
      "\tWas named TPC Group LLC from 2010 to 2010.\n",
      "\n",
      "TPC GROUP, LLC (OPERATOR_ID 19319) may have a namesake or namesakes:\n",
      "\n",
      "\tWEST TEXAS GULF PIPELINE CO (OPERATOR_ID 22442)\n",
      "\n",
      "\tDELEK PIPELINE TEXAS, INC (OPERATOR_ID 26061)\n",
      "\n",
      "\tTEXAS EASTMAN DIVISION, EASTMAN CHEMICAL CO (OPERATOR_ID 26103)\n",
      "\n",
      "\tGENESIS PIPELINE TEXAS, L.P. (OPERATOR_ID 32407)\n",
      "\n",
      "\tDENBURY GREEN PIPELINE-TEXAS, LLC (OPERATOR_ID 32543)\n",
      "\n",
      "\tASCEND PERFORMANCE MATERIALS TEXAS INC (OPERATOR_ID 31517)\n",
      "\n"
     ]
    }
   ],
   "source": [
    "print(next(issues))"
   ]
  },
  {
   "cell_type": "code",
   "execution_count": 117,
   "metadata": {},
   "outputs": [
    {
     "name": "stdout",
     "output_type": "stream",
     "text": [
      "\n",
      "Organization 19319 has changed its name:\n",
      "    19319 was named TEXAS PETROCHEMICALS CORP from 2011 to 2011.\n",
      "    19319 was named TPC GROUP, LLC from 2011 to 2018.\n",
      "    19319 was named TPC Group LLC from 2010 to 2010.\n",
      "\n",
      "Organization 26061 has changed its name:\n",
      "    26061 was named DELEK CRUDE LOGISTICS, LLC. from 2013 to 2018.\n",
      "    26061 was named DELEK PIPELINE TEXAS, INC from 2010 to 2012.\n",
      "\n",
      "Organization 31517 has changed its name:\n",
      "    31517 was named ASCEND PERFORMANCE MATERIALS OPERATIONS LLC from 2012 to 2014.\n",
      "    31517 was named ASCEND PERFORMANCE MATERIALS TEXAS INC from 2015 to 2016.\n",
      "    31517 was named ASCEND PERFORMANCE MATERIALS, LLC from 2010 to 2011.\n"
     ]
    }
   ],
   "source": [
    "report_names(['19319', '22442', '26061', '26103', '32407', '32543', '31517'])"
   ]
  },
  {
   "cell_type": "markdown",
   "metadata": {},
   "source": [
    "We have some false positives here, based on the term \"Texas\"."
   ]
  },
  {
   "cell_type": "markdown",
   "metadata": {},
   "source": [
    "### 8.2.53 Ascend"
   ]
  },
  {
   "cell_type": "code",
   "execution_count": 118,
   "metadata": {},
   "outputs": [
    {
     "name": "stdout",
     "output_type": "stream",
     "text": [
      "\n",
      "ASCEND PERFORMANCE MATERIALS TEXAS INC (OPERATOR_ID 31517) has changed its name:\n",
      "\n",
      "\tWas named ASCEND PERFORMANCE MATERIALS OPERATIONS LLC from 2012 to 2014.\n",
      "\n",
      "\tWas named ASCEND PERFORMANCE MATERIALS TEXAS INC from 2015 to 2016.\n",
      "\n",
      "\tWas named ASCEND PERFORMANCE MATERIALS, LLC from 2010 to 2011.\n",
      "\n"
     ]
    }
   ],
   "source": [
    "print(next(issues))"
   ]
  },
  {
   "cell_type": "markdown",
   "metadata": {},
   "source": [
    "Not a concern."
   ]
  },
  {
   "cell_type": "markdown",
   "metadata": {},
   "source": [
    "### 8.2.54 Tesoro"
   ]
  },
  {
   "cell_type": "code",
   "execution_count": 119,
   "metadata": {},
   "outputs": [
    {
     "name": "stdout",
     "output_type": "stream",
     "text": [
      "\n",
      "TESORO HIGH PLAINS PIPELINE COMPANY LLC (OPERATOR_ID 31570) has changed its name:\n",
      "\n",
      "\tWas named TESORO - HIGH PLAINS PIPELINE COMPANY from 2010 to 2011.\n",
      "\n",
      "\tWas named TESORO HIGH PLAINS PIPELINE COMPANY LLC from 2012 to 2017.\n",
      "\n",
      "TESORO HIGH PLAINS PIPELINE COMPANY LLC (OPERATOR_ID 31570) may have a namesake or namesakes:\n",
      "\n",
      "\tTESORO LOGISTICS OPERATIONS LLC - SOUTHERN CALIFORNIA (OPERATOR_ID 38933)\n",
      "\n"
     ]
    }
   ],
   "source": [
    "print(next(issues))"
   ]
  },
  {
   "cell_type": "markdown",
   "metadata": {},
   "source": [
    "Not a concern."
   ]
  },
  {
   "cell_type": "markdown",
   "metadata": {},
   "source": [
    "### 8.2.55 LDH"
   ]
  },
  {
   "cell_type": "code",
   "execution_count": 120,
   "metadata": {},
   "outputs": [
    {
     "name": "stdout",
     "output_type": "stream",
     "text": [
      "\n",
      "LDH ENERGY PIPELINE L.P. (OPERATOR_ID 32035) has the same parent company as:\n",
      "\n",
      "\tLDH ENERGY MONT BELVIEU L.P. (OPERATOR_ID 32246)\n",
      "\n"
     ]
    }
   ],
   "source": [
    "print(next(issues))"
   ]
  },
  {
   "cell_type": "code",
   "execution_count": 121,
   "metadata": {},
   "outputs": [
    {
     "name": "stdout",
     "output_type": "stream",
     "text": [
      "No organizations were renamed at any time.\n"
     ]
    }
   ],
   "source": [
    "report_names(['32035', '32246'])"
   ]
  },
  {
   "cell_type": "code",
   "execution_count": 122,
   "metadata": {},
   "outputs": [
    {
     "data": {
      "text/html": [
       "<div>\n",
       "<style scoped>\n",
       "    .dataframe tbody tr th:only-of-type {\n",
       "        vertical-align: middle;\n",
       "    }\n",
       "\n",
       "    .dataframe tbody tr th {\n",
       "        vertical-align: top;\n",
       "    }\n",
       "\n",
       "    .dataframe thead th {\n",
       "        text-align: right;\n",
       "    }\n",
       "</style>\n",
       "<table border=\"1\" class=\"dataframe\">\n",
       "  <thead>\n",
       "    <tr style=\"text-align: right;\">\n",
       "      <th></th>\n",
       "      <th>members</th>\n",
       "      <th>name</th>\n",
       "    </tr>\n",
       "  </thead>\n",
       "  <tbody>\n",
       "    <tr>\n",
       "      <th>90</th>\n",
       "      <td>39534</td>\n",
       "      <td>PBF Energy (Group)</td>\n",
       "    </tr>\n",
       "    <tr>\n",
       "      <th>91</th>\n",
       "      <td>26120</td>\n",
       "      <td>PBF Energy (Group)</td>\n",
       "    </tr>\n",
       "    <tr>\n",
       "      <th>92</th>\n",
       "      <td>39535</td>\n",
       "      <td>PBF Energy (Group)</td>\n",
       "    </tr>\n",
       "    <tr>\n",
       "      <th>93</th>\n",
       "      <td>32035</td>\n",
       "      <td>LDH Energy (Group)</td>\n",
       "    </tr>\n",
       "    <tr>\n",
       "      <th>94</th>\n",
       "      <td>32246</td>\n",
       "      <td>LDH Energy (Group)</td>\n",
       "    </tr>\n",
       "  </tbody>\n",
       "</table>\n",
       "</div>"
      ],
      "text/plain": [
       "   members                name\n",
       "90   39534  PBF Energy (Group)\n",
       "91   26120  PBF Energy (Group)\n",
       "92   39535  PBF Energy (Group)\n",
       "93   32035  LDH Energy (Group)\n",
       "94   32246  LDH Energy (Group)"
      ]
     },
     "execution_count": 122,
     "metadata": {},
     "output_type": "execute_result"
    }
   ],
   "source": [
    "company_groups = add_company_group('LDH Energy (Group)', ['32035', '32246'], company_groups)\n",
    "company_groups.tail()"
   ]
  },
  {
   "cell_type": "markdown",
   "metadata": {},
   "source": [
    "According to our notes, LDH was acquired by Energy Transfer Partners on March 8, 2017, which, at the time was already part of Sunoco."
   ]
  },
  {
   "cell_type": "code",
   "execution_count": 123,
   "metadata": {},
   "outputs": [
    {
     "data": {
      "text/html": [
       "<div>\n",
       "<style scoped>\n",
       "    .dataframe tbody tr th:only-of-type {\n",
       "        vertical-align: middle;\n",
       "    }\n",
       "\n",
       "    .dataframe tbody tr th {\n",
       "        vertical-align: top;\n",
       "    }\n",
       "\n",
       "    .dataframe thead th {\n",
       "        text-align: right;\n",
       "    }\n",
       "</style>\n",
       "<table border=\"1\" class=\"dataframe\">\n",
       "  <thead>\n",
       "    <tr style=\"text-align: right;\">\n",
       "      <th></th>\n",
       "      <th>members</th>\n",
       "      <th>name</th>\n",
       "      <th>start_year</th>\n",
       "      <th>end_year</th>\n",
       "    </tr>\n",
       "  </thead>\n",
       "  <tbody>\n",
       "    <tr>\n",
       "      <th>6</th>\n",
       "      <td>32679</td>\n",
       "      <td>Valero Energy (Group)</td>\n",
       "      <td>2017</td>\n",
       "      <td>NaN</td>\n",
       "    </tr>\n",
       "    <tr>\n",
       "      <th>7</th>\n",
       "      <td>32288</td>\n",
       "      <td>SemGroup (Group)</td>\n",
       "      <td>NaN</td>\n",
       "      <td>2011</td>\n",
       "    </tr>\n",
       "    <tr>\n",
       "      <th>8</th>\n",
       "      <td>31476</td>\n",
       "      <td>SemGroup (Group)</td>\n",
       "      <td>NaN</td>\n",
       "      <td>2011</td>\n",
       "    </tr>\n",
       "    <tr>\n",
       "      <th>9</th>\n",
       "      <td>Sunoco (Group)</td>\n",
       "      <td>Sunoco (Group)</td>\n",
       "      <td>2017</td>\n",
       "      <td>NaN</td>\n",
       "    </tr>\n",
       "    <tr>\n",
       "      <th>10</th>\n",
       "      <td>LDH Energy (Group)</td>\n",
       "      <td>Sunoco (Group)</td>\n",
       "      <td>2017</td>\n",
       "      <td>NaN</td>\n",
       "    </tr>\n",
       "  </tbody>\n",
       "</table>\n",
       "</div>"
      ],
      "text/plain": [
       "               members                   name start_year end_year\n",
       "6                32679  Valero Energy (Group)       2017      NaN\n",
       "7                32288       SemGroup (Group)        NaN     2011\n",
       "8                31476       SemGroup (Group)        NaN     2011\n",
       "9       Sunoco (Group)         Sunoco (Group)       2017      NaN\n",
       "10  LDH Energy (Group)         Sunoco (Group)       2017      NaN"
      ]
     },
     "execution_count": 123,
     "metadata": {},
     "output_type": "execute_result"
    }
   ],
   "source": [
    "m_as = add_m_a('Sunoco (Group)', ['Sunoco (Group)', 'LDH Energy (Group)'], m_as, start_year = '2017')\n",
    "m_as.tail()"
   ]
  },
  {
   "cell_type": "markdown",
   "metadata": {},
   "source": [
    "### 8.2.56 Enlink"
   ]
  },
  {
   "cell_type": "code",
   "execution_count": 124,
   "metadata": {},
   "outputs": [
    {
     "name": "stdout",
     "output_type": "stream",
     "text": [
      "\n",
      "ENLINK NGL PIPELINE, LP (OPERATOR_ID 32107) has changed its name:\n",
      "\n",
      "\tWas named CROSSTEX NGL PIPELINE, L.P. from 2010 to 2012.\n",
      "\n",
      "\tWas named ENLINK NGL PIPELINE, LP from 2013 to 2016.\n",
      "\n"
     ]
    }
   ],
   "source": [
    "print(next(issues))"
   ]
  },
  {
   "cell_type": "markdown",
   "metadata": {},
   "source": [
    "LexisNexis does not indicate any M&A activity."
   ]
  },
  {
   "cell_type": "markdown",
   "metadata": {},
   "source": [
    "### 8.2.57 Magellan"
   ]
  },
  {
   "cell_type": "code",
   "execution_count": 125,
   "metadata": {},
   "outputs": [
    {
     "name": "stdout",
     "output_type": "stream",
     "text": [
      "\n",
      "MAGELLAN PIPELINES HOLDINGS, LP (OPERATOR_ID 31579) may have a namesake or namesakes:\n",
      "\n",
      "\tMagellan Ammonia Pipeline, L.P. (OPERATOR_ID 12105)\n",
      "\n",
      "\tMagellan Pipeline Company, L.P. (OPERATOR_ID 22610)\n",
      "\n"
     ]
    }
   ],
   "source": [
    "print(next(issues))"
   ]
  },
  {
   "cell_type": "markdown",
   "metadata": {},
   "source": [
    "No concern."
   ]
  },
  {
   "cell_type": "markdown",
   "metadata": {},
   "source": [
    "### 8.2.58 Delek"
   ]
  },
  {
   "cell_type": "code",
   "execution_count": 126,
   "metadata": {},
   "outputs": [
    {
     "name": "stdout",
     "output_type": "stream",
     "text": [
      "\n",
      "DELEK CRUDE LOGISTICS, LLC. (OPERATOR_ID 26061) has changed its name:\n",
      "\n",
      "\tWas named DELEK CRUDE LOGISTICS, LLC. from 2013 to 2018.\n",
      "\n",
      "\tWas named DELEK PIPELINE TEXAS, INC from 2010 to 2012.\n",
      "\n"
     ]
    }
   ],
   "source": [
    "print(next(issues))"
   ]
  },
  {
   "cell_type": "markdown",
   "metadata": {},
   "source": [
    "Already covered above."
   ]
  },
  {
   "cell_type": "markdown",
   "metadata": {},
   "source": [
    "### 8.2.59 Glass Mountain"
   ]
  },
  {
   "cell_type": "code",
   "execution_count": 127,
   "metadata": {},
   "outputs": [
    {
     "name": "stdout",
     "output_type": "stream",
     "text": [
      "\n",
      "GLASS MOUNTAIN PIPELINE (OPERATOR_ID 39080) has the same parent company as:\n",
      "\n",
      "\tGLASS MOUNTAIN PIPELINE, LLC (OPERATOR_ID 39774)\n",
      "\n"
     ]
    }
   ],
   "source": [
    "print(next(issues))"
   ]
  },
  {
   "cell_type": "code",
   "execution_count": 128,
   "metadata": {},
   "outputs": [
    {
     "data": {
      "text/plain": [
       "[[2015, 72.5], [2016, 98.83], [2017, 0.0], [2018, 0.0], [2019, 0.0]]"
      ]
     },
     "execution_count": 128,
     "metadata": {},
     "output_type": "execute_result"
    }
   ],
   "source": [
    "find_total_miles('39080', range(2015, 2020))"
   ]
  },
  {
   "cell_type": "code",
   "execution_count": 129,
   "metadata": {},
   "outputs": [
    {
     "data": {
      "text/plain": [
       "[[2015, 0.0], [2016, 0.0], [2017, 98.83], [2018, 79.35], [2019, 0.0]]"
      ]
     },
     "execution_count": 129,
     "metadata": {},
     "output_type": "execute_result"
    }
   ],
   "source": [
    "find_total_miles('39774', range(2015, 2020))"
   ]
  },
  {
   "cell_type": "code",
   "execution_count": 130,
   "metadata": {},
   "outputs": [
    {
     "name": "stdout",
     "output_type": "stream",
     "text": [
      "\n",
      "Organization 39774 has changed its name:\n",
      "    39774 was named GLASS MOUNTAIN PIPELINE, LLC from 2018 to 2018.\n",
      "    39774 was named NAVIGATOR ENERGY SERVICES, LLC from 2017 to 2017.\n"
     ]
    }
   ],
   "source": [
    "report_names(['39080', '39774'])"
   ]
  },
  {
   "cell_type": "markdown",
   "metadata": {},
   "source": [
    "LexisNexis does not indicate who the owner of Glass Mountain is, but shows that Navigator Energy was acquired by NuStar on May 4, 2017 (Deal Number 3004179). Since the two IDs obviously refer to the same organization, and this organization did not then continue reporting as part of NuStar, there is nothing we need to do other than group them together."
   ]
  },
  {
   "cell_type": "code",
   "execution_count": 131,
   "metadata": {},
   "outputs": [
    {
     "data": {
      "text/html": [
       "<div>\n",
       "<style scoped>\n",
       "    .dataframe tbody tr th:only-of-type {\n",
       "        vertical-align: middle;\n",
       "    }\n",
       "\n",
       "    .dataframe tbody tr th {\n",
       "        vertical-align: top;\n",
       "    }\n",
       "\n",
       "    .dataframe thead th {\n",
       "        text-align: right;\n",
       "    }\n",
       "</style>\n",
       "<table border=\"1\" class=\"dataframe\">\n",
       "  <thead>\n",
       "    <tr style=\"text-align: right;\">\n",
       "      <th></th>\n",
       "      <th>members</th>\n",
       "      <th>name</th>\n",
       "    </tr>\n",
       "  </thead>\n",
       "  <tbody>\n",
       "    <tr>\n",
       "      <th>92</th>\n",
       "      <td>39535</td>\n",
       "      <td>PBF Energy (Group)</td>\n",
       "    </tr>\n",
       "    <tr>\n",
       "      <th>93</th>\n",
       "      <td>32035</td>\n",
       "      <td>LDH Energy (Group)</td>\n",
       "    </tr>\n",
       "    <tr>\n",
       "      <th>94</th>\n",
       "      <td>32246</td>\n",
       "      <td>LDH Energy (Group)</td>\n",
       "    </tr>\n",
       "    <tr>\n",
       "      <th>95</th>\n",
       "      <td>39080</td>\n",
       "      <td>Glass Mountain (Group)</td>\n",
       "    </tr>\n",
       "    <tr>\n",
       "      <th>96</th>\n",
       "      <td>39774</td>\n",
       "      <td>Glass Mountain (Group)</td>\n",
       "    </tr>\n",
       "  </tbody>\n",
       "</table>\n",
       "</div>"
      ],
      "text/plain": [
       "   members                    name\n",
       "92   39535      PBF Energy (Group)\n",
       "93   32035      LDH Energy (Group)\n",
       "94   32246      LDH Energy (Group)\n",
       "95   39080  Glass Mountain (Group)\n",
       "96   39774  Glass Mountain (Group)"
      ]
     },
     "execution_count": 131,
     "metadata": {},
     "output_type": "execute_result"
    }
   ],
   "source": [
    "company_groups = add_company_group('Glass Mountain (Group)', ['39080', '39774'], company_groups)\n",
    "company_groups.tail()"
   ]
  },
  {
   "cell_type": "markdown",
   "metadata": {},
   "source": [
    "Also, we know from our notes that Glass Mountain was part of SemGroup until Dec 2017, from at least 2015, but probably long before that."
   ]
  },
  {
   "cell_type": "code",
   "execution_count": 132,
   "metadata": {},
   "outputs": [
    {
     "data": {
      "text/html": [
       "<div>\n",
       "<style scoped>\n",
       "    .dataframe tbody tr th:only-of-type {\n",
       "        vertical-align: middle;\n",
       "    }\n",
       "\n",
       "    .dataframe tbody tr th {\n",
       "        vertical-align: top;\n",
       "    }\n",
       "\n",
       "    .dataframe thead th {\n",
       "        text-align: right;\n",
       "    }\n",
       "</style>\n",
       "<table border=\"1\" class=\"dataframe\">\n",
       "  <thead>\n",
       "    <tr style=\"text-align: right;\">\n",
       "      <th></th>\n",
       "      <th>members</th>\n",
       "      <th>name</th>\n",
       "      <th>start_year</th>\n",
       "      <th>end_year</th>\n",
       "    </tr>\n",
       "  </thead>\n",
       "  <tbody>\n",
       "    <tr>\n",
       "      <th>8</th>\n",
       "      <td>31476</td>\n",
       "      <td>SemGroup (Group)</td>\n",
       "      <td>NaN</td>\n",
       "      <td>2011</td>\n",
       "    </tr>\n",
       "    <tr>\n",
       "      <th>9</th>\n",
       "      <td>Sunoco (Group)</td>\n",
       "      <td>Sunoco (Group)</td>\n",
       "      <td>2017</td>\n",
       "      <td>NaN</td>\n",
       "    </tr>\n",
       "    <tr>\n",
       "      <th>10</th>\n",
       "      <td>LDH Energy (Group)</td>\n",
       "      <td>Sunoco (Group)</td>\n",
       "      <td>2017</td>\n",
       "      <td>NaN</td>\n",
       "    </tr>\n",
       "    <tr>\n",
       "      <th>11</th>\n",
       "      <td>SemGroup (Group)</td>\n",
       "      <td>SemGroup (Group)</td>\n",
       "      <td>NaN</td>\n",
       "      <td>2017</td>\n",
       "    </tr>\n",
       "    <tr>\n",
       "      <th>12</th>\n",
       "      <td>Glass Mountain (Group)</td>\n",
       "      <td>SemGroup (Group)</td>\n",
       "      <td>NaN</td>\n",
       "      <td>2017</td>\n",
       "    </tr>\n",
       "  </tbody>\n",
       "</table>\n",
       "</div>"
      ],
      "text/plain": [
       "                   members              name start_year end_year\n",
       "8                    31476  SemGroup (Group)        NaN     2011\n",
       "9           Sunoco (Group)    Sunoco (Group)       2017      NaN\n",
       "10      LDH Energy (Group)    Sunoco (Group)       2017      NaN\n",
       "11        SemGroup (Group)  SemGroup (Group)        NaN     2017\n",
       "12  Glass Mountain (Group)  SemGroup (Group)        NaN     2017"
      ]
     },
     "execution_count": 132,
     "metadata": {},
     "output_type": "execute_result"
    }
   ],
   "source": [
    "m_as = add_m_a('SemGroup (Group)', ['SemGroup (Group)', 'Glass Mountain (Group)'], m_as, end_year = '2017')\n",
    "m_as.tail()"
   ]
  },
  {
   "cell_type": "markdown",
   "metadata": {},
   "source": [
    "### 8.2.60 Glass Mountain"
   ]
  },
  {
   "cell_type": "code",
   "execution_count": 133,
   "metadata": {},
   "outputs": [
    {
     "name": "stdout",
     "output_type": "stream",
     "text": [
      "\n",
      "GLASS MOUNTAIN PIPELINE, LLC (OPERATOR_ID 39774) has changed its name:\n",
      "\n",
      "\tWas named GLASS MOUNTAIN PIPELINE, LLC from 2018 to 2018.\n",
      "\n",
      "\tWas named NAVIGATOR ENERGY SERVICES, LLC from 2017 to 2017.\n",
      "\n"
     ]
    }
   ],
   "source": [
    "print(next(issues))"
   ]
  },
  {
   "cell_type": "markdown",
   "metadata": {},
   "source": [
    "Already addressed above."
   ]
  },
  {
   "cell_type": "markdown",
   "metadata": {},
   "source": [
    "### 8.2.61 Motiva"
   ]
  },
  {
   "cell_type": "code",
   "execution_count": 134,
   "metadata": {},
   "outputs": [
    {
     "name": "stdout",
     "output_type": "stream",
     "text": [
      "\n",
      "MOTIVA ENTERPRISE LLC (OPERATOR_ID 30777) has changed its name:\n",
      "\n",
      "\tWas named MOTIVA ENTERPRISE LLC from 2010 to 2018.\n",
      "\n",
      "\tWas named Motiva Enterprises LLC from 2010 to 2010.\n",
      "\n",
      "\tWas named Motiva Enterprises LLC Convent Refinery from 2010 to 2010.\n",
      "\n"
     ]
    }
   ],
   "source": [
    "print(next(issues))"
   ]
  },
  {
   "cell_type": "markdown",
   "metadata": {},
   "source": [
    "Not an issue we need to address."
   ]
  },
  {
   "cell_type": "markdown",
   "metadata": {},
   "source": [
    "### 8.2.60 Kinder Morgan"
   ]
  },
  {
   "cell_type": "code",
   "execution_count": 135,
   "metadata": {},
   "outputs": [
    {
     "name": "stdout",
     "output_type": "stream",
     "text": [
      "\n",
      "KINDER MORGAN LIQUID TERMINALS, LLC (OPERATOR_ID 26041) may have a namesake or namesakes:\n",
      "\n",
      "\tKINDER MORGAN CO2 CO. LP (OPERATOR_ID 31555)\n",
      "\n",
      "\tKINDER MORGAN PIPELINES (USA) INC (OPERATOR_ID 31720)\n",
      "\n",
      "\tKINDER MORGAN COCHIN LLC (OPERATOR_ID 32258)\n",
      "\n",
      "\tKINDER MORGAN CRUDE AND CONDENSATE LLC (OPERATOR_ID 32678)\n",
      "\n"
     ]
    }
   ],
   "source": [
    "print(next(issues))"
   ]
  },
  {
   "cell_type": "markdown",
   "metadata": {},
   "source": [
    "Already addressed above."
   ]
  },
  {
   "cell_type": "code",
   "execution_count": 136,
   "metadata": {},
   "outputs": [
    {
     "ename": "StopIteration",
     "evalue": "",
     "output_type": "error",
     "traceback": [
      "\u001b[0;31m---------------------------------------------------------------------------\u001b[0m",
      "\u001b[0;31mStopIteration\u001b[0m                             Traceback (most recent call last)",
      "\u001b[0;32m<ipython-input-136-299de9c15250>\u001b[0m in \u001b[0;36m<module>\u001b[0;34m\u001b[0m\n\u001b[0;32m----> 1\u001b[0;31m \u001b[0mprint\u001b[0m\u001b[0;34m(\u001b[0m\u001b[0mnext\u001b[0m\u001b[0;34m(\u001b[0m\u001b[0missues\u001b[0m\u001b[0;34m)\u001b[0m\u001b[0;34m)\u001b[0m\u001b[0;34m\u001b[0m\u001b[0;34m\u001b[0m\u001b[0m\n\u001b[0m",
      "\u001b[0;31mStopIteration\u001b[0m: "
     ]
    }
   ],
   "source": [
    "print(next(issues))"
   ]
  },
  {
   "cell_type": "markdown",
   "metadata": {},
   "source": [
    "## 8.3 Overview"
   ]
  },
  {
   "cell_type": "code",
   "execution_count": 137,
   "metadata": {},
   "outputs": [
    {
     "data": {
      "text/html": [
       "<div>\n",
       "<style scoped>\n",
       "    .dataframe tbody tr th:only-of-type {\n",
       "        vertical-align: middle;\n",
       "    }\n",
       "\n",
       "    .dataframe tbody tr th {\n",
       "        vertical-align: top;\n",
       "    }\n",
       "\n",
       "    .dataframe thead th {\n",
       "        text-align: right;\n",
       "    }\n",
       "</style>\n",
       "<table border=\"1\" class=\"dataframe\">\n",
       "  <thead>\n",
       "    <tr style=\"text-align: right;\">\n",
       "      <th></th>\n",
       "      <th>members</th>\n",
       "      <th>name</th>\n",
       "    </tr>\n",
       "  </thead>\n",
       "  <tbody>\n",
       "    <tr>\n",
       "      <th>0</th>\n",
       "      <td>31618</td>\n",
       "      <td>Enterprise Products (Group)</td>\n",
       "    </tr>\n",
       "    <tr>\n",
       "      <th>1</th>\n",
       "      <td>3445</td>\n",
       "      <td>Enterprise Products (Group)</td>\n",
       "    </tr>\n",
       "    <tr>\n",
       "      <th>2</th>\n",
       "      <td>30829</td>\n",
       "      <td>Enterprise Products (Group)</td>\n",
       "    </tr>\n",
       "    <tr>\n",
       "      <th>3</th>\n",
       "      <td>31270</td>\n",
       "      <td>Enterprise Products (Group)</td>\n",
       "    </tr>\n",
       "    <tr>\n",
       "      <th>4</th>\n",
       "      <td>22610</td>\n",
       "      <td>Magellan (Group)</td>\n",
       "    </tr>\n",
       "    <tr>\n",
       "      <th>5</th>\n",
       "      <td>12105</td>\n",
       "      <td>Magellan (Group)</td>\n",
       "    </tr>\n",
       "    <tr>\n",
       "      <th>6</th>\n",
       "      <td>31579</td>\n",
       "      <td>Magellan (Group)</td>\n",
       "    </tr>\n",
       "    <tr>\n",
       "      <th>7</th>\n",
       "      <td>39504</td>\n",
       "      <td>Magellan (Group)</td>\n",
       "    </tr>\n",
       "    <tr>\n",
       "      <th>8</th>\n",
       "      <td>15485</td>\n",
       "      <td>Phillips 66 (Group)</td>\n",
       "    </tr>\n",
       "    <tr>\n",
       "      <th>9</th>\n",
       "      <td>31684</td>\n",
       "      <td>Phillips 66 (Group)</td>\n",
       "    </tr>\n",
       "    <tr>\n",
       "      <th>10</th>\n",
       "      <td>1845</td>\n",
       "      <td>Buckeye (Group)</td>\n",
       "    </tr>\n",
       "    <tr>\n",
       "      <th>11</th>\n",
       "      <td>31371</td>\n",
       "      <td>Buckeye (Group)</td>\n",
       "    </tr>\n",
       "    <tr>\n",
       "      <th>12</th>\n",
       "      <td>18718</td>\n",
       "      <td>Sunoco (Group)</td>\n",
       "    </tr>\n",
       "    <tr>\n",
       "      <th>13</th>\n",
       "      <td>12470</td>\n",
       "      <td>Sunoco (Group)</td>\n",
       "    </tr>\n",
       "    <tr>\n",
       "      <th>14</th>\n",
       "      <td>39205</td>\n",
       "      <td>Sunoco (Group)</td>\n",
       "    </tr>\n",
       "    <tr>\n",
       "      <th>15</th>\n",
       "      <td>39596</td>\n",
       "      <td>Sunoco (Group)</td>\n",
       "    </tr>\n",
       "    <tr>\n",
       "      <th>16</th>\n",
       "      <td>10012</td>\n",
       "      <td>NuStar</td>\n",
       "    </tr>\n",
       "    <tr>\n",
       "      <th>17</th>\n",
       "      <td>31454</td>\n",
       "      <td>NuStar</td>\n",
       "    </tr>\n",
       "    <tr>\n",
       "      <th>18</th>\n",
       "      <td>15674</td>\n",
       "      <td>Kinder Morgan (Group)</td>\n",
       "    </tr>\n",
       "    <tr>\n",
       "      <th>19</th>\n",
       "      <td>2190</td>\n",
       "      <td>Kinder Morgan (Group)</td>\n",
       "    </tr>\n",
       "    <tr>\n",
       "      <th>20</th>\n",
       "      <td>18092</td>\n",
       "      <td>Kinder Morgan (Group)</td>\n",
       "    </tr>\n",
       "    <tr>\n",
       "      <th>21</th>\n",
       "      <td>26125</td>\n",
       "      <td>Kinder Morgan (Group)</td>\n",
       "    </tr>\n",
       "    <tr>\n",
       "      <th>22</th>\n",
       "      <td>31555</td>\n",
       "      <td>Kinder Morgan (Group)</td>\n",
       "    </tr>\n",
       "    <tr>\n",
       "      <th>23</th>\n",
       "      <td>32258</td>\n",
       "      <td>Kinder Morgan (Group)</td>\n",
       "    </tr>\n",
       "    <tr>\n",
       "      <th>24</th>\n",
       "      <td>32541</td>\n",
       "      <td>Kinder Morgan (Group)</td>\n",
       "    </tr>\n",
       "    <tr>\n",
       "      <th>25</th>\n",
       "      <td>32619</td>\n",
       "      <td>Kinder Morgan (Group)</td>\n",
       "    </tr>\n",
       "    <tr>\n",
       "      <th>26</th>\n",
       "      <td>32678</td>\n",
       "      <td>Kinder Morgan (Group)</td>\n",
       "    </tr>\n",
       "    <tr>\n",
       "      <th>27</th>\n",
       "      <td>39440</td>\n",
       "      <td>Kinder Morgan (Group)</td>\n",
       "    </tr>\n",
       "    <tr>\n",
       "      <th>28</th>\n",
       "      <td>11169</td>\n",
       "      <td>Enbridge (Group)</td>\n",
       "    </tr>\n",
       "    <tr>\n",
       "      <th>29</th>\n",
       "      <td>31448</td>\n",
       "      <td>Enbridge (Group)</td>\n",
       "    </tr>\n",
       "    <tr>\n",
       "      <th>...</th>\n",
       "      <td>...</td>\n",
       "      <td>...</td>\n",
       "    </tr>\n",
       "    <tr>\n",
       "      <th>67</th>\n",
       "      <td>26086</td>\n",
       "      <td>Dow (Group)</td>\n",
       "    </tr>\n",
       "    <tr>\n",
       "      <th>68</th>\n",
       "      <td>3527</td>\n",
       "      <td>Dow (Group)</td>\n",
       "    </tr>\n",
       "    <tr>\n",
       "      <th>69</th>\n",
       "      <td>30959</td>\n",
       "      <td>Dow (Group)</td>\n",
       "    </tr>\n",
       "    <tr>\n",
       "      <th>70</th>\n",
       "      <td>2170</td>\n",
       "      <td>CHS (Group)</td>\n",
       "    </tr>\n",
       "    <tr>\n",
       "      <th>71</th>\n",
       "      <td>9175</td>\n",
       "      <td>CHS (Group)</td>\n",
       "    </tr>\n",
       "    <tr>\n",
       "      <th>72</th>\n",
       "      <td>26065</td>\n",
       "      <td>CHS (Group)</td>\n",
       "    </tr>\n",
       "    <tr>\n",
       "      <th>73</th>\n",
       "      <td>32283</td>\n",
       "      <td>CHS (Group)</td>\n",
       "    </tr>\n",
       "    <tr>\n",
       "      <th>74</th>\n",
       "      <td>31888</td>\n",
       "      <td>Occidental Petroleum (Group)</td>\n",
       "    </tr>\n",
       "    <tr>\n",
       "      <th>75</th>\n",
       "      <td>30657</td>\n",
       "      <td>Occidental Petroleum (Group)</td>\n",
       "    </tr>\n",
       "    <tr>\n",
       "      <th>76</th>\n",
       "      <td>39105</td>\n",
       "      <td>Valero Energy (Group)</td>\n",
       "    </tr>\n",
       "    <tr>\n",
       "      <th>77</th>\n",
       "      <td>4430</td>\n",
       "      <td>Valero Energy (Group)</td>\n",
       "    </tr>\n",
       "    <tr>\n",
       "      <th>78</th>\n",
       "      <td>32005</td>\n",
       "      <td>Enlink (Group)</td>\n",
       "    </tr>\n",
       "    <tr>\n",
       "      <th>79</th>\n",
       "      <td>32107</td>\n",
       "      <td>Enlink (Group)</td>\n",
       "    </tr>\n",
       "    <tr>\n",
       "      <th>80</th>\n",
       "      <td>31166</td>\n",
       "      <td>Eastman Chemical (Group)</td>\n",
       "    </tr>\n",
       "    <tr>\n",
       "      <th>81</th>\n",
       "      <td>26103</td>\n",
       "      <td>Eastman Chemical (Group)</td>\n",
       "    </tr>\n",
       "    <tr>\n",
       "      <th>82</th>\n",
       "      <td>11551</td>\n",
       "      <td>Delek (Group)</td>\n",
       "    </tr>\n",
       "    <tr>\n",
       "      <th>83</th>\n",
       "      <td>15851</td>\n",
       "      <td>Delek (Group)</td>\n",
       "    </tr>\n",
       "    <tr>\n",
       "      <th>84</th>\n",
       "      <td>26061</td>\n",
       "      <td>Delek (Group)</td>\n",
       "    </tr>\n",
       "    <tr>\n",
       "      <th>85</th>\n",
       "      <td>26136</td>\n",
       "      <td>Delek (Group)</td>\n",
       "    </tr>\n",
       "    <tr>\n",
       "      <th>86</th>\n",
       "      <td>15786</td>\n",
       "      <td>Suncor (Group)</td>\n",
       "    </tr>\n",
       "    <tr>\n",
       "      <th>87</th>\n",
       "      <td>31822</td>\n",
       "      <td>Suncor (Group)</td>\n",
       "    </tr>\n",
       "    <tr>\n",
       "      <th>88</th>\n",
       "      <td>39083</td>\n",
       "      <td>Crestwood (Group)</td>\n",
       "    </tr>\n",
       "    <tr>\n",
       "      <th>89</th>\n",
       "      <td>39368</td>\n",
       "      <td>Crestwood (Group)</td>\n",
       "    </tr>\n",
       "    <tr>\n",
       "      <th>90</th>\n",
       "      <td>39534</td>\n",
       "      <td>PBF Energy (Group)</td>\n",
       "    </tr>\n",
       "    <tr>\n",
       "      <th>91</th>\n",
       "      <td>26120</td>\n",
       "      <td>PBF Energy (Group)</td>\n",
       "    </tr>\n",
       "    <tr>\n",
       "      <th>92</th>\n",
       "      <td>39535</td>\n",
       "      <td>PBF Energy (Group)</td>\n",
       "    </tr>\n",
       "    <tr>\n",
       "      <th>93</th>\n",
       "      <td>32035</td>\n",
       "      <td>LDH Energy (Group)</td>\n",
       "    </tr>\n",
       "    <tr>\n",
       "      <th>94</th>\n",
       "      <td>32246</td>\n",
       "      <td>LDH Energy (Group)</td>\n",
       "    </tr>\n",
       "    <tr>\n",
       "      <th>95</th>\n",
       "      <td>39080</td>\n",
       "      <td>Glass Mountain (Group)</td>\n",
       "    </tr>\n",
       "    <tr>\n",
       "      <th>96</th>\n",
       "      <td>39774</td>\n",
       "      <td>Glass Mountain (Group)</td>\n",
       "    </tr>\n",
       "  </tbody>\n",
       "</table>\n",
       "<p>97 rows × 2 columns</p>\n",
       "</div>"
      ],
      "text/plain": [
       "   members                         name\n",
       "0    31618  Enterprise Products (Group)\n",
       "1     3445  Enterprise Products (Group)\n",
       "2    30829  Enterprise Products (Group)\n",
       "3    31270  Enterprise Products (Group)\n",
       "4    22610             Magellan (Group)\n",
       "..     ...                          ...\n",
       "92   39535           PBF Energy (Group)\n",
       "93   32035           LDH Energy (Group)\n",
       "94   32246           LDH Energy (Group)\n",
       "95   39080       Glass Mountain (Group)\n",
       "96   39774       Glass Mountain (Group)\n",
       "\n",
       "[97 rows x 2 columns]"
      ]
     },
     "execution_count": 137,
     "metadata": {},
     "output_type": "execute_result"
    }
   ],
   "source": [
    "company_groups"
   ]
  },
  {
   "cell_type": "code",
   "execution_count": 138,
   "metadata": {},
   "outputs": [
    {
     "data": {
      "text/html": [
       "<div>\n",
       "<style scoped>\n",
       "    .dataframe tbody tr th:only-of-type {\n",
       "        vertical-align: middle;\n",
       "    }\n",
       "\n",
       "    .dataframe tbody tr th {\n",
       "        vertical-align: top;\n",
       "    }\n",
       "\n",
       "    .dataframe thead th {\n",
       "        text-align: right;\n",
       "    }\n",
       "</style>\n",
       "<table border=\"1\" class=\"dataframe\">\n",
       "  <thead>\n",
       "    <tr style=\"text-align: right;\">\n",
       "      <th></th>\n",
       "      <th>members</th>\n",
       "      <th>name</th>\n",
       "      <th>start_year</th>\n",
       "      <th>end_year</th>\n",
       "    </tr>\n",
       "  </thead>\n",
       "  <tbody>\n",
       "    <tr>\n",
       "      <th>0</th>\n",
       "      <td>Sunoco (Group)</td>\n",
       "      <td>Sunoco (Group)</td>\n",
       "      <td>2011</td>\n",
       "      <td>NaN</td>\n",
       "    </tr>\n",
       "    <tr>\n",
       "      <th>1</th>\n",
       "      <td>32683</td>\n",
       "      <td>Sunoco (Group)</td>\n",
       "      <td>2011</td>\n",
       "      <td>NaN</td>\n",
       "    </tr>\n",
       "    <tr>\n",
       "      <th>2</th>\n",
       "      <td>22442</td>\n",
       "      <td>Sunoco (Group)</td>\n",
       "      <td>2011</td>\n",
       "      <td>NaN</td>\n",
       "    </tr>\n",
       "    <tr>\n",
       "      <th>3</th>\n",
       "      <td>Sunoco (Group)</td>\n",
       "      <td>Sunoco (Group)</td>\n",
       "      <td>2013</td>\n",
       "      <td>NaN</td>\n",
       "    </tr>\n",
       "    <tr>\n",
       "      <th>4</th>\n",
       "      <td>32099</td>\n",
       "      <td>Sunoco (Group)</td>\n",
       "      <td>2013</td>\n",
       "      <td>NaN</td>\n",
       "    </tr>\n",
       "    <tr>\n",
       "      <th>5</th>\n",
       "      <td>Valero Energy (Group)</td>\n",
       "      <td>Valero Energy (Group)</td>\n",
       "      <td>2017</td>\n",
       "      <td>NaN</td>\n",
       "    </tr>\n",
       "    <tr>\n",
       "      <th>6</th>\n",
       "      <td>32679</td>\n",
       "      <td>Valero Energy (Group)</td>\n",
       "      <td>2017</td>\n",
       "      <td>NaN</td>\n",
       "    </tr>\n",
       "    <tr>\n",
       "      <th>7</th>\n",
       "      <td>32288</td>\n",
       "      <td>SemGroup (Group)</td>\n",
       "      <td>NaN</td>\n",
       "      <td>2011</td>\n",
       "    </tr>\n",
       "    <tr>\n",
       "      <th>8</th>\n",
       "      <td>31476</td>\n",
       "      <td>SemGroup (Group)</td>\n",
       "      <td>NaN</td>\n",
       "      <td>2011</td>\n",
       "    </tr>\n",
       "    <tr>\n",
       "      <th>9</th>\n",
       "      <td>Sunoco (Group)</td>\n",
       "      <td>Sunoco (Group)</td>\n",
       "      <td>2017</td>\n",
       "      <td>NaN</td>\n",
       "    </tr>\n",
       "    <tr>\n",
       "      <th>10</th>\n",
       "      <td>LDH Energy (Group)</td>\n",
       "      <td>Sunoco (Group)</td>\n",
       "      <td>2017</td>\n",
       "      <td>NaN</td>\n",
       "    </tr>\n",
       "    <tr>\n",
       "      <th>11</th>\n",
       "      <td>SemGroup (Group)</td>\n",
       "      <td>SemGroup (Group)</td>\n",
       "      <td>NaN</td>\n",
       "      <td>2017</td>\n",
       "    </tr>\n",
       "    <tr>\n",
       "      <th>12</th>\n",
       "      <td>Glass Mountain (Group)</td>\n",
       "      <td>SemGroup (Group)</td>\n",
       "      <td>NaN</td>\n",
       "      <td>2017</td>\n",
       "    </tr>\n",
       "  </tbody>\n",
       "</table>\n",
       "</div>"
      ],
      "text/plain": [
       "                   members                   name start_year end_year\n",
       "0           Sunoco (Group)         Sunoco (Group)       2011      NaN\n",
       "1                    32683         Sunoco (Group)       2011      NaN\n",
       "2                    22442         Sunoco (Group)       2011      NaN\n",
       "3           Sunoco (Group)         Sunoco (Group)       2013      NaN\n",
       "4                    32099         Sunoco (Group)       2013      NaN\n",
       "5    Valero Energy (Group)  Valero Energy (Group)       2017      NaN\n",
       "6                    32679  Valero Energy (Group)       2017      NaN\n",
       "7                    32288       SemGroup (Group)        NaN     2011\n",
       "8                    31476       SemGroup (Group)        NaN     2011\n",
       "9           Sunoco (Group)         Sunoco (Group)       2017      NaN\n",
       "10      LDH Energy (Group)         Sunoco (Group)       2017      NaN\n",
       "11        SemGroup (Group)       SemGroup (Group)        NaN     2017\n",
       "12  Glass Mountain (Group)       SemGroup (Group)        NaN     2017"
      ]
     },
     "execution_count": 138,
     "metadata": {},
     "output_type": "execute_result"
    }
   ],
   "source": [
    "m_as"
   ]
  },
  {
   "cell_type": "code",
   "execution_count": 139,
   "metadata": {},
   "outputs": [
    {
     "data": {
      "text/plain": [
       "[]"
      ]
     },
     "execution_count": 139,
     "metadata": {},
     "output_type": "execute_result"
    }
   ],
   "source": [
    "spin_offs"
   ]
  },
  {
   "cell_type": "markdown",
   "metadata": {},
   "source": [
    "## 8.4 Additions from ownership changes text file"
   ]
  },
  {
   "cell_type": "code",
   "execution_count": 140,
   "metadata": {},
   "outputs": [
    {
     "data": {
      "text/plain": [
       "[{'name': 'TESORO LOGISTICS NORTHWEST PIPELINE LLC',\n",
       "  'start_year': 2013,\n",
       "  'end_year': 2017,\n",
       "  'id_': '39029'}]"
      ]
     },
     "execution_count": 140,
     "metadata": {},
     "output_type": "execute_result"
    }
   ],
   "source": [
    "find_name('39029')"
   ]
  },
  {
   "cell_type": "markdown",
   "metadata": {},
   "source": [
    "Was sold by Chevron to Tesoro in 2013, but Tesoro set up a new unit for this pipeline, so we do not need to take any action."
   ]
  },
  {
   "cell_type": "code",
   "execution_count": 141,
   "metadata": {},
   "outputs": [],
   "source": [
    "company_groups.to_feather(f'../preprocessed_data/company_groups_{today}.feather')\n",
    "m_as.to_feather(f'../preprocessed_data/m_as_{today}.feather')"
   ]
  },
  {
   "cell_type": "code",
   "execution_count": null,
   "metadata": {},
   "outputs": [],
   "source": []
  }
 ],
 "metadata": {
  "kernelspec": {
   "display_name": "oil_industry",
   "language": "python",
   "name": "oil_industry"
  },
  "language_info": {
   "codemirror_mode": {
    "name": "ipython",
    "version": 3
   },
   "file_extension": ".py",
   "mimetype": "text/x-python",
   "name": "python",
   "nbconvert_exporter": "python",
   "pygments_lexer": "ipython3",
   "version": "3.6.8"
  }
 },
 "nbformat": 4,
 "nbformat_minor": 4
}
