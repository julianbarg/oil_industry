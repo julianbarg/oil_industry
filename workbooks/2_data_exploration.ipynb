{
 "cells": [
  {
   "cell_type": "markdown",
   "metadata": {
    "pycharm": {
     "name": "#%% md\n"
    }
   },
   "source": [
    "\n",
    "# 2 - Data exploration\n"
   ]
  },
  {
   "cell_type": "code",
   "execution_count": 1,
   "metadata": {
    "collapsed": false,
    "jupyter": {
     "outputs_hidden": false
    },
    "pycharm": {
     "is_executing": false,
     "name": "#%% \n"
    }
   },
   "outputs": [],
   "source": [
    "# import parameters\n",
    "import pandas as pd\n",
    "import matplotlib.pyplot as plt\n",
    "import numpy as np\n",
    "\n",
    "plt.rcParams[\"figure.figsize\"] = (20,10)"
   ]
  },
  {
   "cell_type": "markdown",
   "metadata": {},
   "source": [
    "## 2.1 Incidents data overview"
   ]
  },
  {
   "cell_type": "code",
   "execution_count": 2,
   "metadata": {
    "collapsed": false,
    "jupyter": {
     "outputs_hidden": false
    },
    "pycharm": {
     "is_executing": false,
     "name": "#%%\n"
    }
   },
   "outputs": [
    {
     "data": {
      "text/html": [
       "<div>\n",
       "<style scoped>\n",
       "    .dataframe tbody tr th:only-of-type {\n",
       "        vertical-align: middle;\n",
       "    }\n",
       "\n",
       "    .dataframe tbody tr th {\n",
       "        vertical-align: top;\n",
       "    }\n",
       "\n",
       "    .dataframe thead th {\n",
       "        text-align: right;\n",
       "    }\n",
       "</style>\n",
       "<table border=\"1\" class=\"dataframe\">\n",
       "  <thead>\n",
       "    <tr style=\"text-align: right;\">\n",
       "      <th></th>\n",
       "      <th>DATAFILE_AS_OF</th>\n",
       "      <th>SIGNIFICANT</th>\n",
       "      <th>SERIOUS</th>\n",
       "      <th>IPE</th>\n",
       "      <th>IA_IPE</th>\n",
       "      <th>OM_IPE</th>\n",
       "      <th>REPORT_NUMBER</th>\n",
       "      <th>SUPPLEMENTAL_NUMBER</th>\n",
       "      <th>REPORT_RECEIVED_DATE</th>\n",
       "      <th>REPORT_TYPE</th>\n",
       "      <th>...</th>\n",
       "      <th>PREPARER_TITLE</th>\n",
       "      <th>PREPARER_EMAIL</th>\n",
       "      <th>PREPARER_TELEPHONE</th>\n",
       "      <th>PREPARER_FAX</th>\n",
       "      <th>PREPARED_DATE</th>\n",
       "      <th>AUTHORIZER_NAME</th>\n",
       "      <th>AUTHORIZER_TITLE</th>\n",
       "      <th>AUTHORIZER_TELEPHONE</th>\n",
       "      <th>AUTHORIZER_EMAIL</th>\n",
       "      <th>NARRATIVE</th>\n",
       "    </tr>\n",
       "  </thead>\n",
       "  <tbody>\n",
       "    <tr>\n",
       "      <th>2638</th>\n",
       "      <td>2019-07-31 08:37:40</td>\n",
       "      <td>NO</td>\n",
       "      <td>NO</td>\n",
       "      <td>YES</td>\n",
       "      <td>NO</td>\n",
       "      <td>YES</td>\n",
       "      <td>20160305</td>\n",
       "      <td>23149</td>\n",
       "      <td>2016-09-19 11:52:42</td>\n",
       "      <td>SUPPLEMENTAL FINAL</td>\n",
       "      <td>...</td>\n",
       "      <td>COMPLIANCE COORDINATOR SED</td>\n",
       "      <td>djohnson2@colpipe.com</td>\n",
       "      <td>770-819-3574</td>\n",
       "      <td>NaN</td>\n",
       "      <td>2018-02-16</td>\n",
       "      <td>JONATHAN B BERNHARDT</td>\n",
       "      <td>MANAGER PIPELINE COMPLIANCE</td>\n",
       "      <td>678-762-2203</td>\n",
       "      <td>jbernhardt@colpipe.com</td>\n",
       "      <td>ON AUGUST 23, 2016 AT 1800, A MAINTENANCE CREW...</td>\n",
       "    </tr>\n",
       "    <tr>\n",
       "      <th>965</th>\n",
       "      <td>2019-07-31 08:37:40</td>\n",
       "      <td>YES</td>\n",
       "      <td>NO</td>\n",
       "      <td>YES</td>\n",
       "      <td>YES</td>\n",
       "      <td>NO</td>\n",
       "      <td>20120311</td>\n",
       "      <td>20151</td>\n",
       "      <td>2012-10-26 12:00:29</td>\n",
       "      <td>SUPPLEMENTAL FINAL</td>\n",
       "      <td>...</td>\n",
       "      <td>COMPLIANCE COORDINATOR</td>\n",
       "      <td>nfurgerson@colpipe.com</td>\n",
       "      <td>404-807-3822</td>\n",
       "      <td>NaN</td>\n",
       "      <td>2015-02-20</td>\n",
       "      <td>DREW LOHOFF</td>\n",
       "      <td>MANGER PHMSA REGULATORY COMPLIANCE</td>\n",
       "      <td>678-762-2872</td>\n",
       "      <td>dlohoff@colpipe.com</td>\n",
       "      <td>ON OCTOBER 3, AT 1440 EST, A  LANDOWNER CALLED...</td>\n",
       "    </tr>\n",
       "    <tr>\n",
       "      <th>2502</th>\n",
       "      <td>2019-07-31 08:37:40</td>\n",
       "      <td>NO</td>\n",
       "      <td>NO</td>\n",
       "      <td>NO</td>\n",
       "      <td>NO</td>\n",
       "      <td>NO</td>\n",
       "      <td>20160168</td>\n",
       "      <td>21879</td>\n",
       "      <td>2016-06-03 11:20:36</td>\n",
       "      <td>SUPPLEMENTAL FINAL</td>\n",
       "      <td>...</td>\n",
       "      <td>MI ENGINEER - PIPING</td>\n",
       "      <td>connie.christian@crc.com</td>\n",
       "      <td>562-277-5099</td>\n",
       "      <td>562-624-3499</td>\n",
       "      <td>2016-11-21</td>\n",
       "      <td>CHARLIE PLANT</td>\n",
       "      <td>VP OPERATIONS</td>\n",
       "      <td>562-624-3202</td>\n",
       "      <td>charlie.plant@crc.com</td>\n",
       "      <td>ON THURSDAY, MAY 5TH AT APPROXIMATELY 7:20PM, ...</td>\n",
       "    </tr>\n",
       "    <tr>\n",
       "      <th>1190</th>\n",
       "      <td>2019-07-31 08:37:40</td>\n",
       "      <td>YES</td>\n",
       "      <td>NO</td>\n",
       "      <td>YES</td>\n",
       "      <td>NO</td>\n",
       "      <td>YES</td>\n",
       "      <td>20130163</td>\n",
       "      <td>18833</td>\n",
       "      <td>2013-05-07 13:51:16</td>\n",
       "      <td>SUPPLEMENTAL FINAL</td>\n",
       "      <td>...</td>\n",
       "      <td>DOT ADMINISTRATOR'</td>\n",
       "      <td>kbrown@expl.com</td>\n",
       "      <td>918-493-5104</td>\n",
       "      <td>NaN</td>\n",
       "      <td>2013-12-17</td>\n",
       "      <td>JIM SIECK</td>\n",
       "      <td>DIRECTOR HSSE AND ENGINEERING</td>\n",
       "      <td>918-493-5143</td>\n",
       "      <td>jsieck@expl.com</td>\n",
       "      <td>ON APRIL 7, 2013 AT 18:00 HOURS INDICATION OF ...</td>\n",
       "    </tr>\n",
       "    <tr>\n",
       "      <th>2564</th>\n",
       "      <td>2019-07-31 08:37:40</td>\n",
       "      <td>NO</td>\n",
       "      <td>NO</td>\n",
       "      <td>NO</td>\n",
       "      <td>NO</td>\n",
       "      <td>NO</td>\n",
       "      <td>20160230</td>\n",
       "      <td>21545</td>\n",
       "      <td>2016-07-20 16:46:04</td>\n",
       "      <td>ORIGINAL FINAL</td>\n",
       "      <td>...</td>\n",
       "      <td>COMPLIANCE SPECIALIST</td>\n",
       "      <td>crcarter@paalp.com</td>\n",
       "      <td>713-993-5080</td>\n",
       "      <td>713-646-4310</td>\n",
       "      <td>2016-07-20</td>\n",
       "      <td>THOMAS MCLANE</td>\n",
       "      <td>SR DIR ENVIRONMENTAL AND REGULATORY COMPLIANCE</td>\n",
       "      <td>713-646-4109</td>\n",
       "      <td>tjmclane@paalp.com</td>\n",
       "      <td>APPROXIMATELY 1 BBL OF CRUDE OIL WAS RELEASED ...</td>\n",
       "    </tr>\n",
       "  </tbody>\n",
       "</table>\n",
       "<p>5 rows × 606 columns</p>\n",
       "</div>"
      ],
      "text/plain": [
       "          DATAFILE_AS_OF SIGNIFICANT SERIOUS  IPE IA_IPE OM_IPE  \\\n",
       "2638 2019-07-31 08:37:40          NO      NO  YES     NO    YES   \n",
       "965  2019-07-31 08:37:40         YES      NO  YES    YES     NO   \n",
       "2502 2019-07-31 08:37:40          NO      NO   NO     NO     NO   \n",
       "1190 2019-07-31 08:37:40         YES      NO  YES     NO    YES   \n",
       "2564 2019-07-31 08:37:40          NO      NO   NO     NO     NO   \n",
       "\n",
       "      REPORT_NUMBER  SUPPLEMENTAL_NUMBER REPORT_RECEIVED_DATE  \\\n",
       "2638       20160305                23149  2016-09-19 11:52:42   \n",
       "965        20120311                20151  2012-10-26 12:00:29   \n",
       "2502       20160168                21879  2016-06-03 11:20:36   \n",
       "1190       20130163                18833  2013-05-07 13:51:16   \n",
       "2564       20160230                21545  2016-07-20 16:46:04   \n",
       "\n",
       "             REPORT_TYPE  ...              PREPARER_TITLE  \\\n",
       "2638  SUPPLEMENTAL FINAL  ...  COMPLIANCE COORDINATOR SED   \n",
       "965   SUPPLEMENTAL FINAL  ...      COMPLIANCE COORDINATOR   \n",
       "2502  SUPPLEMENTAL FINAL  ...        MI ENGINEER - PIPING   \n",
       "1190  SUPPLEMENTAL FINAL  ...          DOT ADMINISTRATOR'   \n",
       "2564      ORIGINAL FINAL  ...       COMPLIANCE SPECIALIST   \n",
       "\n",
       "                PREPARER_EMAIL PREPARER_TELEPHONE  PREPARER_FAX PREPARED_DATE  \\\n",
       "2638     djohnson2@colpipe.com       770-819-3574           NaN    2018-02-16   \n",
       "965     nfurgerson@colpipe.com       404-807-3822           NaN    2015-02-20   \n",
       "2502  connie.christian@crc.com       562-277-5099  562-624-3499    2016-11-21   \n",
       "1190           kbrown@expl.com       918-493-5104           NaN    2013-12-17   \n",
       "2564        crcarter@paalp.com       713-993-5080  713-646-4310    2016-07-20   \n",
       "\n",
       "           AUTHORIZER_NAME                                AUTHORIZER_TITLE  \\\n",
       "2638  JONATHAN B BERNHARDT                     MANAGER PIPELINE COMPLIANCE   \n",
       "965            DREW LOHOFF              MANGER PHMSA REGULATORY COMPLIANCE   \n",
       "2502         CHARLIE PLANT                                   VP OPERATIONS   \n",
       "1190             JIM SIECK                   DIRECTOR HSSE AND ENGINEERING   \n",
       "2564         THOMAS MCLANE  SR DIR ENVIRONMENTAL AND REGULATORY COMPLIANCE   \n",
       "\n",
       "      AUTHORIZER_TELEPHONE        AUTHORIZER_EMAIL  \\\n",
       "2638          678-762-2203  jbernhardt@colpipe.com   \n",
       "965           678-762-2872     dlohoff@colpipe.com   \n",
       "2502          562-624-3202   charlie.plant@crc.com   \n",
       "1190          918-493-5143         jsieck@expl.com   \n",
       "2564          713-646-4109      tjmclane@paalp.com   \n",
       "\n",
       "                                              NARRATIVE  \n",
       "2638  ON AUGUST 23, 2016 AT 1800, A MAINTENANCE CREW...  \n",
       "965   ON OCTOBER 3, AT 1440 EST, A  LANDOWNER CALLED...  \n",
       "2502  ON THURSDAY, MAY 5TH AT APPROXIMATELY 7:20PM, ...  \n",
       "1190  ON APRIL 7, 2013 AT 18:00 HOURS INDICATION OF ...  \n",
       "2564  APPROXIMATELY 1 BBL OF CRUDE OIL WAS RELEASED ...  \n",
       "\n",
       "[5 rows x 606 columns]"
      ]
     },
     "execution_count": 2,
     "metadata": {},
     "output_type": "execute_result"
    }
   ],
   "source": [
    "incidents = pd.read_excel('../data/incidents_2019-08-09/hl2010toPresent.xlsx', \n",
    "                          sheet_name=1)\n",
    "\n",
    "incidents.sample(5)"
   ]
  },
  {
   "cell_type": "code",
   "execution_count": 3,
   "metadata": {
    "collapsed": false,
    "jupyter": {
     "outputs_hidden": false
    },
    "pycharm": {
     "is_executing": false,
     "name": "#%%\n"
    }
   },
   "outputs": [
    {
     "data": {
      "text/plain": [
       "ENTERPRISE CRUDE PIPELINE LLC          276\n",
       "ENTERPRISE PRODUCTS OPERATING LLC      214\n",
       "SUNOCO PIPELINE L.P.                   211\n",
       "PLAINS PIPELINE, L.P.                  203\n",
       "MAGELLAN PIPELINE COMPANY, LP          180\n",
       "COLONIAL PIPELINE CO                   177\n",
       "BUCKEYE PARTNERS, LP                   148\n",
       "PHILLIPS 66 PIPELINE LLC               121\n",
       "KINDER MORGAN LIQUID TERMINALS, LLC    117\n",
       "MARATHON PIPE LINE LLC                 111\n",
       "Name: NAME, dtype: int64"
      ]
     },
     "execution_count": 3,
     "metadata": {},
     "output_type": "execute_result"
    }
   ],
   "source": [
    "incidents['NAME'].value_counts().head(10)"
   ]
  },
  {
   "cell_type": "code",
   "execution_count": 4,
   "metadata": {
    "collapsed": false,
    "jupyter": {
     "outputs_hidden": false
    },
    "pycharm": {
     "name": "#%%\n"
    }
   },
   "outputs": [
    {
     "data": {
      "text/plain": [
       "30829    282\n",
       "31618    214\n",
       "18718    211\n",
       "300      202\n",
       "22610    180\n",
       "2552     177\n",
       "31684    155\n",
       "1845     148\n",
       "26041    117\n",
       "32109    112\n",
       "Name: OPERATOR_ID, dtype: int64"
      ]
     },
     "execution_count": 4,
     "metadata": {},
     "output_type": "execute_result"
    }
   ],
   "source": [
    "incidents['OPERATOR_ID'].value_counts().head(10)"
   ]
  },
  {
   "cell_type": "markdown",
   "metadata": {},
   "source": [
    "There seem to be some minor discrepancies between ID and name. Matching every ID to its most common company name should fix it. "
   ]
  },
  {
   "cell_type": "code",
   "execution_count": 5,
   "metadata": {},
   "outputs": [
    {
     "data": {
      "text/plain": [
       "<matplotlib.axes._subplots.AxesSubplot at 0x7f23e65dbb70>"
      ]
     },
     "execution_count": 5,
     "metadata": {},
     "output_type": "execute_result"
    },
    {
     "data": {
      "image/png": "[encoded data removed]",
      "text/plain": [
       "<Figure size 1440x720 with 1 Axes>"
      ]
     },
     "metadata": {
      "needs_background": "light"
     },
     "output_type": "display_data"
    }
   ],
   "source": [
    "incidents['OPERATOR_ID'].value_counts().hist(bins=30, figsize=(20, 10))"
   ]
  },
  {
   "cell_type": "code",
   "execution_count": 6,
   "metadata": {},
   "outputs": [
    {
     "data": {
      "text/plain": [
       "3819"
      ]
     },
     "execution_count": 6,
     "metadata": {},
     "output_type": "execute_result"
    }
   ],
   "source": [
    "len(incidents)"
   ]
  },
  {
   "cell_type": "markdown",
   "metadata": {},
   "source": [
    "## 2.2 Oil pipeline data"
   ]
  },
  {
   "cell_type": "code",
   "execution_count": 7,
   "metadata": {},
   "outputs": [
    {
     "data": {
      "text/html": [
       "<div>\n",
       "<style scoped>\n",
       "    .dataframe tbody tr th:only-of-type {\n",
       "        vertical-align: middle;\n",
       "    }\n",
       "\n",
       "    .dataframe tbody tr th {\n",
       "        vertical-align: top;\n",
       "    }\n",
       "\n",
       "    .dataframe thead th {\n",
       "        text-align: right;\n",
       "    }\n",
       "</style>\n",
       "<table border=\"1\" class=\"dataframe\">\n",
       "  <thead>\n",
       "    <tr style=\"text-align: right;\">\n",
       "      <th></th>\n",
       "      <th>DATAFILE_AS_OF</th>\n",
       "      <th>REPORT_YEAR</th>\n",
       "      <th>REPORT_NUMBER</th>\n",
       "      <th>SUPPLEMENTAL_NUMBER</th>\n",
       "      <th>OPERATOR_ID</th>\n",
       "      <th>PARTA2NAMEOFCOMP</th>\n",
       "      <th>PARTA4STREET</th>\n",
       "      <th>PARTA4CITY</th>\n",
       "      <th>PARTA4STATE</th>\n",
       "      <th>PARTA4ZIP</th>\n",
       "      <th>...</th>\n",
       "      <th>PARTE2010HF</th>\n",
       "      <th>PARTE2010LF</th>\n",
       "      <th>PARTE2010TOTAL</th>\n",
       "      <th>PARTETOTAL</th>\n",
       "      <th>PARTETOTALHF</th>\n",
       "      <th>PARTETOTALLF</th>\n",
       "      <th>REPORT_SUBMISSION_TYPE</th>\n",
       "      <th>REPORT_DATE</th>\n",
       "      <th>FILING_DATE</th>\n",
       "      <th>FORM_REV</th>\n",
       "    </tr>\n",
       "  </thead>\n",
       "  <tbody>\n",
       "    <tr>\n",
       "      <th>270</th>\n",
       "      <td>2019-08-01 13:10:42</td>\n",
       "      <td>2010</td>\n",
       "      <td>20110171</td>\n",
       "      <td>10173</td>\n",
       "      <td>31454</td>\n",
       "      <td>NUSTAR LOGISTICS, L.P.</td>\n",
       "      <td>2330 North Loop 1604 W</td>\n",
       "      <td>Corpus Christi</td>\n",
       "      <td>TX</td>\n",
       "      <td>78248</td>\n",
       "      <td>...</td>\n",
       "      <td>0.0</td>\n",
       "      <td>0.0</td>\n",
       "      <td>0.0</td>\n",
       "      <td>455.70</td>\n",
       "      <td>418.0</td>\n",
       "      <td>37.70</td>\n",
       "      <td>INITIAL</td>\n",
       "      <td>2011-08-12 17:10:53</td>\n",
       "      <td>2011-08-12 17:10:53</td>\n",
       "      <td>7000-1.1 (Rev. 06-2011)</td>\n",
       "    </tr>\n",
       "    <tr>\n",
       "      <th>13</th>\n",
       "      <td>2019-08-01 13:10:42</td>\n",
       "      <td>2010</td>\n",
       "      <td>20110105</td>\n",
       "      <td>10106</td>\n",
       "      <td>1248</td>\n",
       "      <td>BELLE FOURCHE PIPELINE CO</td>\n",
       "      <td>PO Drawer 2360</td>\n",
       "      <td>CASPER</td>\n",
       "      <td>WY</td>\n",
       "      <td>82602</td>\n",
       "      <td>...</td>\n",
       "      <td>0.0</td>\n",
       "      <td>0.0</td>\n",
       "      <td>0.0</td>\n",
       "      <td>486.00</td>\n",
       "      <td>299.0</td>\n",
       "      <td>187.00</td>\n",
       "      <td>INITIAL</td>\n",
       "      <td>2011-08-11 15:00:01</td>\n",
       "      <td>2011-08-11 15:00:01</td>\n",
       "      <td>7000-1.1 (Rev. 06-2011)</td>\n",
       "    </tr>\n",
       "    <tr>\n",
       "      <th>2</th>\n",
       "      <td>2019-08-01 13:10:42</td>\n",
       "      <td>2010</td>\n",
       "      <td>20110192</td>\n",
       "      <td>10194</td>\n",
       "      <td>395</td>\n",
       "      <td>AMOCO OIL CO</td>\n",
       "      <td>150 W. Warrenville Rd</td>\n",
       "      <td>OAKBROOK TERRACE</td>\n",
       "      <td>IL</td>\n",
       "      <td>60563</td>\n",
       "      <td>...</td>\n",
       "      <td>0.0</td>\n",
       "      <td>0.0</td>\n",
       "      <td>0.0</td>\n",
       "      <td>220.00</td>\n",
       "      <td>93.0</td>\n",
       "      <td>127.00</td>\n",
       "      <td>INITIAL</td>\n",
       "      <td>2011-08-13 16:22:01</td>\n",
       "      <td>2011-08-13 16:22:01</td>\n",
       "      <td>7000-1.1 (Rev. 06-2011)</td>\n",
       "    </tr>\n",
       "    <tr>\n",
       "      <th>492</th>\n",
       "      <td>2019-08-01 13:10:42</td>\n",
       "      <td>2010</td>\n",
       "      <td>20130537</td>\n",
       "      <td>12507</td>\n",
       "      <td>99043</td>\n",
       "      <td>PETROLEUM FUEL AND TERMINAL COMPANY</td>\n",
       "      <td>5101 ERDMAN AVE</td>\n",
       "      <td>BALTIMORE</td>\n",
       "      <td>MD</td>\n",
       "      <td>21205</td>\n",
       "      <td>...</td>\n",
       "      <td>0.0</td>\n",
       "      <td>0.0</td>\n",
       "      <td>0.0</td>\n",
       "      <td>3.14</td>\n",
       "      <td>0.0</td>\n",
       "      <td>3.14</td>\n",
       "      <td>SUPPLEMENTAL</td>\n",
       "      <td>2013-11-19 16:31:09</td>\n",
       "      <td>2013-11-19 16:36:58</td>\n",
       "      <td>7000-1.1 (Rev. 06-2011)</td>\n",
       "    </tr>\n",
       "    <tr>\n",
       "      <th>223</th>\n",
       "      <td>2019-08-01 13:10:42</td>\n",
       "      <td>2010</td>\n",
       "      <td>20120475</td>\n",
       "      <td>11565</td>\n",
       "      <td>31082</td>\n",
       "      <td>KEY PIPELINE LIMITED</td>\n",
       "      <td>917 N. Dumas Ave.</td>\n",
       "      <td>Dumas</td>\n",
       "      <td>TX</td>\n",
       "      <td>79029</td>\n",
       "      <td>...</td>\n",
       "      <td>0.0</td>\n",
       "      <td>0.0</td>\n",
       "      <td>0.0</td>\n",
       "      <td>17.00</td>\n",
       "      <td>0.0</td>\n",
       "      <td>17.00</td>\n",
       "      <td>INITIAL</td>\n",
       "      <td>2012-08-22 15:05:38</td>\n",
       "      <td>2012-08-22 15:05:38</td>\n",
       "      <td>7000-1.1 (Rev. 06-2011)</td>\n",
       "    </tr>\n",
       "  </tbody>\n",
       "</table>\n",
       "<p>5 rows × 85 columns</p>\n",
       "</div>"
      ],
      "text/plain": [
       "         DATAFILE_AS_OF  REPORT_YEAR  REPORT_NUMBER  SUPPLEMENTAL_NUMBER  \\\n",
       "270 2019-08-01 13:10:42         2010       20110171                10173   \n",
       "13  2019-08-01 13:10:42         2010       20110105                10106   \n",
       "2   2019-08-01 13:10:42         2010       20110192                10194   \n",
       "492 2019-08-01 13:10:42         2010       20130537                12507   \n",
       "223 2019-08-01 13:10:42         2010       20120475                11565   \n",
       "\n",
       "     OPERATOR_ID                     PARTA2NAMEOFCOMP            PARTA4STREET  \\\n",
       "270        31454               NUSTAR LOGISTICS, L.P.  2330 North Loop 1604 W   \n",
       "13          1248            BELLE FOURCHE PIPELINE CO          PO Drawer 2360   \n",
       "2            395                         AMOCO OIL CO   150 W. Warrenville Rd   \n",
       "492        99043  PETROLEUM FUEL AND TERMINAL COMPANY         5101 ERDMAN AVE   \n",
       "223        31082                 KEY PIPELINE LIMITED       917 N. Dumas Ave.   \n",
       "\n",
       "           PARTA4CITY PARTA4STATE PARTA4ZIP  ... PARTE2010HF PARTE2010LF  \\\n",
       "270    Corpus Christi          TX     78248  ...         0.0         0.0   \n",
       "13             CASPER          WY     82602  ...         0.0         0.0   \n",
       "2    OAKBROOK TERRACE          IL     60563  ...         0.0         0.0   \n",
       "492         BALTIMORE          MD     21205  ...         0.0         0.0   \n",
       "223             Dumas          TX     79029  ...         0.0         0.0   \n",
       "\n",
       "    PARTE2010TOTAL PARTETOTAL  PARTETOTALHF  PARTETOTALLF  \\\n",
       "270            0.0     455.70         418.0         37.70   \n",
       "13             0.0     486.00         299.0        187.00   \n",
       "2              0.0     220.00          93.0        127.00   \n",
       "492            0.0       3.14           0.0          3.14   \n",
       "223            0.0      17.00           0.0         17.00   \n",
       "\n",
       "     REPORT_SUBMISSION_TYPE         REPORT_DATE         FILING_DATE  \\\n",
       "270                 INITIAL 2011-08-12 17:10:53 2011-08-12 17:10:53   \n",
       "13                  INITIAL 2011-08-11 15:00:01 2011-08-11 15:00:01   \n",
       "2                   INITIAL 2011-08-13 16:22:01 2011-08-13 16:22:01   \n",
       "492            SUPPLEMENTAL 2013-11-19 16:31:09 2013-11-19 16:36:58   \n",
       "223                 INITIAL 2012-08-22 15:05:38 2012-08-22 15:05:38   \n",
       "\n",
       "                    FORM_REV  \n",
       "270  7000-1.1 (Rev. 06-2011)  \n",
       "13   7000-1.1 (Rev. 06-2011)  \n",
       "2    7000-1.1 (Rev. 06-2011)  \n",
       "492  7000-1.1 (Rev. 06-2011)  \n",
       "223  7000-1.1 (Rev. 06-2011)  \n",
       "\n",
       "[5 rows x 85 columns]"
      ]
     },
     "execution_count": 7,
     "metadata": {},
     "output_type": "execute_result"
    }
   ],
   "source": [
    "oil_pipelines = pd.read_excel('../data/pipelines_2010_present_2019-08-09/annual_hazardous_liquid_2010.xlsx', skiprows=2)\n",
    "\n",
    "oil_pipelines.sample(5)"
   ]
  },
  {
   "cell_type": "code",
   "execution_count": 8,
   "metadata": {},
   "outputs": [
    {
     "data": {
      "text/plain": [
       "['annual_hazardous_liquid_2017.xlsx',\n",
       " 'annual_hazardous_liquid_2011.xlsx',\n",
       " 'annual_hazardous_liquid_2014.xlsx',\n",
       " 'annual_hazardous_liquid_2012.xlsx',\n",
       " 'annual_hazardous_liquid_2013.xlsx',\n",
       " 'annual_hazardous_liquid_2010.xlsx',\n",
       " 'annual_hazardous_liquid_2018.xlsx',\n",
       " 'annual_hazardous_liquid_2016.xlsx',\n",
       " 'annual_hazardous_liquid_2015.xlsx']"
      ]
     },
     "execution_count": 8,
     "metadata": {},
     "output_type": "execute_result"
    }
   ],
   "source": [
    "from os import listdir\n",
    "\n",
    "pipeline_files = [file for file in listdir('../data/pipelines_2010_present_2019-08-09/') if'annual_hazardous_liquid' in file]\n",
    "pipeline_files"
   ]
  },
  {
   "cell_type": "code",
   "execution_count": 9,
   "metadata": {},
   "outputs": [
    {
     "data": {
      "text/html": [
       "<div>\n",
       "<style scoped>\n",
       "    .dataframe tbody tr th:only-of-type {\n",
       "        vertical-align: middle;\n",
       "    }\n",
       "\n",
       "    .dataframe tbody tr th {\n",
       "        vertical-align: top;\n",
       "    }\n",
       "\n",
       "    .dataframe thead th {\n",
       "        text-align: right;\n",
       "    }\n",
       "</style>\n",
       "<table border=\"1\" class=\"dataframe\">\n",
       "  <thead>\n",
       "    <tr style=\"text-align: right;\">\n",
       "      <th></th>\n",
       "      <th>DATAFILE_AS_OF</th>\n",
       "      <th>REPORT_YEAR</th>\n",
       "      <th>REPORT_NUMBER</th>\n",
       "      <th>SUPPLEMENTAL_NUMBER</th>\n",
       "      <th>OPERATOR_ID</th>\n",
       "      <th>PARTA2NAMEOFCOMP</th>\n",
       "      <th>PARTA4STREET</th>\n",
       "      <th>PARTA4CITY</th>\n",
       "      <th>PARTA4STATE</th>\n",
       "      <th>PARTA4ZIP</th>\n",
       "      <th>...</th>\n",
       "      <th>PARTE2010HF</th>\n",
       "      <th>PARTE2010LF</th>\n",
       "      <th>PARTE2010TOTAL</th>\n",
       "      <th>PARTETOTAL</th>\n",
       "      <th>PARTETOTALHF</th>\n",
       "      <th>PARTETOTALLF</th>\n",
       "      <th>REPORT_SUBMISSION_TYPE</th>\n",
       "      <th>REPORT_DATE</th>\n",
       "      <th>FILING_DATE</th>\n",
       "      <th>FORM_REV</th>\n",
       "    </tr>\n",
       "  </thead>\n",
       "  <tbody>\n",
       "    <tr>\n",
       "      <th>1973</th>\n",
       "      <td>2019-08-01 13:19:08</td>\n",
       "      <td>2012</td>\n",
       "      <td>20130174</td>\n",
       "      <td>12424</td>\n",
       "      <td>30829</td>\n",
       "      <td>ENTERPRISE CRUDE PIPELINE LLC</td>\n",
       "      <td>1100 Louisiana Street</td>\n",
       "      <td>Houston</td>\n",
       "      <td>TX</td>\n",
       "      <td>77002</td>\n",
       "      <td>...</td>\n",
       "      <td>39.238</td>\n",
       "      <td>0.0</td>\n",
       "      <td>39.238</td>\n",
       "      <td>194.785</td>\n",
       "      <td>168.214</td>\n",
       "      <td>26.571</td>\n",
       "      <td>SUPPLEMENTAL</td>\n",
       "      <td>2013-06-07 10:12:54</td>\n",
       "      <td>2013-08-06 11:18:31</td>\n",
       "      <td>7000-1.1 (Rev. 06-2011)</td>\n",
       "    </tr>\n",
       "    <tr>\n",
       "      <th>999</th>\n",
       "      <td>2019-08-01 13:14:22</td>\n",
       "      <td>2011</td>\n",
       "      <td>20120503</td>\n",
       "      <td>11621</td>\n",
       "      <td>31806</td>\n",
       "      <td>LINN WESTERN OPERATING, INC</td>\n",
       "      <td>2000 Tonner Canyon Road</td>\n",
       "      <td>BREA</td>\n",
       "      <td>CA</td>\n",
       "      <td>92821</td>\n",
       "      <td>...</td>\n",
       "      <td>0.000</td>\n",
       "      <td>0.0</td>\n",
       "      <td>0.000</td>\n",
       "      <td>0.000</td>\n",
       "      <td>0.000</td>\n",
       "      <td>0.000</td>\n",
       "      <td>INITIAL</td>\n",
       "      <td>2012-11-05 11:51:04</td>\n",
       "      <td>2012-11-05 11:51:04</td>\n",
       "      <td>7000-1.1 (Rev. 06-2011)</td>\n",
       "    </tr>\n",
       "    <tr>\n",
       "      <th>1422</th>\n",
       "      <td>2019-08-01 13:39:40</td>\n",
       "      <td>2014</td>\n",
       "      <td>20151214</td>\n",
       "      <td>13323</td>\n",
       "      <td>31228</td>\n",
       "      <td>CALIFORNIA RESOURCES ELK HILLS, LLC</td>\n",
       "      <td>10800 STOCKDALE HWY</td>\n",
       "      <td>BAKERSFIELD</td>\n",
       "      <td>CA</td>\n",
       "      <td>93311</td>\n",
       "      <td>...</td>\n",
       "      <td>0.000</td>\n",
       "      <td>0.0</td>\n",
       "      <td>0.000</td>\n",
       "      <td>0.000</td>\n",
       "      <td>0.000</td>\n",
       "      <td>0.000</td>\n",
       "      <td>INITIAL</td>\n",
       "      <td>2015-05-22 13:57:52</td>\n",
       "      <td>2015-05-22 13:57:52</td>\n",
       "      <td>7000-1.1 (Rev. 06-2014)</td>\n",
       "    </tr>\n",
       "    <tr>\n",
       "      <th>565</th>\n",
       "      <td>2019-08-01 13:58:36</td>\n",
       "      <td>2017</td>\n",
       "      <td>20183252</td>\n",
       "      <td>15776</td>\n",
       "      <td>39316</td>\n",
       "      <td>RENAISSANCE OFFSHORE, LLC</td>\n",
       "      <td>920 MEMORIAL CITY WAY</td>\n",
       "      <td>HOUSTON</td>\n",
       "      <td>TX</td>\n",
       "      <td>77024</td>\n",
       "      <td>...</td>\n",
       "      <td>0.000</td>\n",
       "      <td>0.0</td>\n",
       "      <td>0.000</td>\n",
       "      <td>0.000</td>\n",
       "      <td>0.000</td>\n",
       "      <td>0.000</td>\n",
       "      <td>SUPPLEMENTAL</td>\n",
       "      <td>2018-06-07 16:24:47</td>\n",
       "      <td>2018-06-08 09:32:09</td>\n",
       "      <td>7000-1.1 (Rev. 06-2014)</td>\n",
       "    </tr>\n",
       "    <tr>\n",
       "      <th>949</th>\n",
       "      <td>2019-08-01 13:14:22</td>\n",
       "      <td>2011</td>\n",
       "      <td>20120451</td>\n",
       "      <td>11510</td>\n",
       "      <td>31475</td>\n",
       "      <td>TRINITY PIPELINE GP LLC</td>\n",
       "      <td>401 WEST WALL STREET</td>\n",
       "      <td>MIDLAND</td>\n",
       "      <td>TX</td>\n",
       "      <td>79701</td>\n",
       "      <td>...</td>\n",
       "      <td>0.000</td>\n",
       "      <td>0.0</td>\n",
       "      <td>0.000</td>\n",
       "      <td>158.000</td>\n",
       "      <td>158.000</td>\n",
       "      <td>0.000</td>\n",
       "      <td>INITIAL</td>\n",
       "      <td>2012-06-22 18:07:19</td>\n",
       "      <td>2012-06-22 18:07:19</td>\n",
       "      <td>7000-1.1 (Rev. 06-2011)</td>\n",
       "    </tr>\n",
       "  </tbody>\n",
       "</table>\n",
       "<p>5 rows × 85 columns</p>\n",
       "</div>"
      ],
      "text/plain": [
       "          DATAFILE_AS_OF  REPORT_YEAR  REPORT_NUMBER  SUPPLEMENTAL_NUMBER  \\\n",
       "1973 2019-08-01 13:19:08         2012       20130174                12424   \n",
       "999  2019-08-01 13:14:22         2011       20120503                11621   \n",
       "1422 2019-08-01 13:39:40         2014       20151214                13323   \n",
       "565  2019-08-01 13:58:36         2017       20183252                15776   \n",
       "949  2019-08-01 13:14:22         2011       20120451                11510   \n",
       "\n",
       "      OPERATOR_ID                     PARTA2NAMEOFCOMP  \\\n",
       "1973        30829        ENTERPRISE CRUDE PIPELINE LLC   \n",
       "999         31806          LINN WESTERN OPERATING, INC   \n",
       "1422        31228  CALIFORNIA RESOURCES ELK HILLS, LLC   \n",
       "565         39316            RENAISSANCE OFFSHORE, LLC   \n",
       "949         31475              TRINITY PIPELINE GP LLC   \n",
       "\n",
       "                 PARTA4STREET   PARTA4CITY PARTA4STATE PARTA4ZIP  ...  \\\n",
       "1973    1100 Louisiana Street      Houston          TX     77002  ...   \n",
       "999   2000 Tonner Canyon Road         BREA          CA     92821  ...   \n",
       "1422      10800 STOCKDALE HWY  BAKERSFIELD          CA     93311  ...   \n",
       "565     920 MEMORIAL CITY WAY      HOUSTON          TX     77024  ...   \n",
       "949      401 WEST WALL STREET      MIDLAND          TX     79701  ...   \n",
       "\n",
       "     PARTE2010HF PARTE2010LF PARTE2010TOTAL PARTETOTAL  PARTETOTALHF  \\\n",
       "1973      39.238         0.0         39.238    194.785       168.214   \n",
       "999        0.000         0.0          0.000      0.000         0.000   \n",
       "1422       0.000         0.0          0.000      0.000         0.000   \n",
       "565        0.000         0.0          0.000      0.000         0.000   \n",
       "949        0.000         0.0          0.000    158.000       158.000   \n",
       "\n",
       "      PARTETOTALLF  REPORT_SUBMISSION_TYPE         REPORT_DATE  \\\n",
       "1973        26.571            SUPPLEMENTAL 2013-06-07 10:12:54   \n",
       "999          0.000                 INITIAL 2012-11-05 11:51:04   \n",
       "1422         0.000                 INITIAL 2015-05-22 13:57:52   \n",
       "565          0.000            SUPPLEMENTAL 2018-06-07 16:24:47   \n",
       "949          0.000                 INITIAL 2012-06-22 18:07:19   \n",
       "\n",
       "             FILING_DATE                 FORM_REV  \n",
       "1973 2013-08-06 11:18:31  7000-1.1 (Rev. 06-2011)  \n",
       "999  2012-11-05 11:51:04  7000-1.1 (Rev. 06-2011)  \n",
       "1422 2015-05-22 13:57:52  7000-1.1 (Rev. 06-2014)  \n",
       "565  2018-06-08 09:32:09  7000-1.1 (Rev. 06-2014)  \n",
       "949  2012-06-22 18:07:19  7000-1.1 (Rev. 06-2011)  \n",
       "\n",
       "[5 rows x 85 columns]"
      ]
     },
     "execution_count": 9,
     "metadata": {},
     "output_type": "execute_result"
    }
   ],
   "source": [
    "pipelines = pd.concat([pd.read_excel(f'../data/pipelines_2010_present_2019-08-09/{file}', skiprows=2) for file in pipeline_files])\n",
    "pipelines = pipelines.reset_index(drop = True)\n",
    "\n",
    "pipelines.sample(5)"
   ]
  },
  {
   "cell_type": "markdown",
   "metadata": {},
   "source": [
    "See which company has the vastest pipeline network."
   ]
  },
  {
   "cell_type": "code",
   "execution_count": 10,
   "metadata": {},
   "outputs": [
    {
     "data": {
      "text/html": [
       "<div>\n",
       "<style scoped>\n",
       "    .dataframe tbody tr th:only-of-type {\n",
       "        vertical-align: middle;\n",
       "    }\n",
       "\n",
       "    .dataframe tbody tr th {\n",
       "        vertical-align: top;\n",
       "    }\n",
       "\n",
       "    .dataframe thead th {\n",
       "        text-align: right;\n",
       "    }\n",
       "</style>\n",
       "<table border=\"1\" class=\"dataframe\">\n",
       "  <thead>\n",
       "    <tr style=\"text-align: right;\">\n",
       "      <th></th>\n",
       "      <th>REPORT_YEAR</th>\n",
       "      <th>OPERATOR_ID</th>\n",
       "      <th>PARTA2NAMEOFCOMP</th>\n",
       "      <th>PARTBHCATOTAL</th>\n",
       "    </tr>\n",
       "  </thead>\n",
       "  <tbody>\n",
       "    <tr>\n",
       "      <th>3634</th>\n",
       "      <td>2018</td>\n",
       "      <td>31618</td>\n",
       "      <td>ENTERPRISE PRODUCTS OPERATING LLC</td>\n",
       "      <td>7726.183</td>\n",
       "    </tr>\n",
       "    <tr>\n",
       "      <th>3704</th>\n",
       "      <td>2018</td>\n",
       "      <td>32109</td>\n",
       "      <td>ONEOK NGL PIPELINE, LLC</td>\n",
       "      <td>4531.480</td>\n",
       "    </tr>\n",
       "    <tr>\n",
       "      <th>4723</th>\n",
       "      <td>2015</td>\n",
       "      <td>2552</td>\n",
       "      <td>COLONIAL PIPELINE CO</td>\n",
       "      <td>4500.920</td>\n",
       "    </tr>\n",
       "    <tr>\n",
       "      <th>4715</th>\n",
       "      <td>2015</td>\n",
       "      <td>1845</td>\n",
       "      <td>BUCKEYE PARTNERS, LP</td>\n",
       "      <td>4266.430</td>\n",
       "    </tr>\n",
       "    <tr>\n",
       "      <th>3484</th>\n",
       "      <td>2018</td>\n",
       "      <td>22610</td>\n",
       "      <td>MAGELLAN PIPELINE COMPANY, LP</td>\n",
       "      <td>3926.400</td>\n",
       "    </tr>\n",
       "    <tr>\n",
       "      <th>4135</th>\n",
       "      <td>2016</td>\n",
       "      <td>15674</td>\n",
       "      <td>PLANTATION PIPE LINE CO</td>\n",
       "      <td>2564.730</td>\n",
       "    </tr>\n",
       "    <tr>\n",
       "      <th>4035</th>\n",
       "      <td>2016</td>\n",
       "      <td>300</td>\n",
       "      <td>PLAINS PIPELINE, L.P.</td>\n",
       "      <td>2312.330</td>\n",
       "    </tr>\n",
       "    <tr>\n",
       "      <th>67</th>\n",
       "      <td>2017</td>\n",
       "      <td>11169</td>\n",
       "      <td>ENBRIDGE ENERGY, LIMITED PARTNERSHIP</td>\n",
       "      <td>2290.000</td>\n",
       "    </tr>\n",
       "    <tr>\n",
       "      <th>3186</th>\n",
       "      <td>2010</td>\n",
       "      <td>31684</td>\n",
       "      <td>CONOCOPHILLIPS</td>\n",
       "      <td>2283.790</td>\n",
       "    </tr>\n",
       "    <tr>\n",
       "      <th>2693</th>\n",
       "      <td>2013</td>\n",
       "      <td>32147</td>\n",
       "      <td>MARATHON PIPE LINE LLC</td>\n",
       "      <td>2281.900</td>\n",
       "    </tr>\n",
       "  </tbody>\n",
       "</table>\n",
       "</div>"
      ],
      "text/plain": [
       "      REPORT_YEAR  OPERATOR_ID                      PARTA2NAMEOFCOMP  \\\n",
       "3634         2018        31618     ENTERPRISE PRODUCTS OPERATING LLC   \n",
       "3704         2018        32109               ONEOK NGL PIPELINE, LLC   \n",
       "4723         2015         2552                  COLONIAL PIPELINE CO   \n",
       "4715         2015         1845                  BUCKEYE PARTNERS, LP   \n",
       "3484         2018        22610         MAGELLAN PIPELINE COMPANY, LP   \n",
       "4135         2016        15674               PLANTATION PIPE LINE CO   \n",
       "4035         2016          300                 PLAINS PIPELINE, L.P.   \n",
       "67           2017        11169  ENBRIDGE ENERGY, LIMITED PARTNERSHIP   \n",
       "3186         2010        31684                        CONOCOPHILLIPS   \n",
       "2693         2013        32147                MARATHON PIPE LINE LLC   \n",
       "\n",
       "      PARTBHCATOTAL  \n",
       "3634       7726.183  \n",
       "3704       4531.480  \n",
       "4723       4500.920  \n",
       "4715       4266.430  \n",
       "3484       3926.400  \n",
       "4135       2564.730  \n",
       "4035       2312.330  \n",
       "67         2290.000  \n",
       "3186       2283.790  \n",
       "2693       2281.900  "
      ]
     },
     "execution_count": 10,
     "metadata": {},
     "output_type": "execute_result"
    }
   ],
   "source": [
    "pipelines.loc[pipelines.groupby('OPERATOR_ID')['PARTBHCATOTAL'].idxmax()].nlargest(10, 'PARTBHCATOTAL')[['REPORT_YEAR', 'OPERATOR_ID', 'PARTA2NAMEOFCOMP', 'PARTBHCATOTAL']]"
   ]
  },
  {
   "cell_type": "markdown",
   "metadata": {},
   "source": [
    "## 2.3 Gas pipelines"
   ]
  },
  {
   "cell_type": "code",
   "execution_count": 12,
   "metadata": {},
   "outputs": [
    {
     "data": {
      "text/html": [
       "<div>\n",
       "<style scoped>\n",
       "    .dataframe tbody tr th:only-of-type {\n",
       "        vertical-align: middle;\n",
       "    }\n",
       "\n",
       "    .dataframe tbody tr th {\n",
       "        vertical-align: top;\n",
       "    }\n",
       "\n",
       "    .dataframe thead th {\n",
       "        text-align: right;\n",
       "    }\n",
       "</style>\n",
       "<table border=\"1\" class=\"dataframe\">\n",
       "  <thead>\n",
       "    <tr style=\"text-align: right;\">\n",
       "      <th></th>\n",
       "      <th>DATAFILE_AS_OF</th>\n",
       "      <th>REPORT_YEAR</th>\n",
       "      <th>REPORT_NUMBER</th>\n",
       "      <th>SUPPLEMENTAL_NUMBER</th>\n",
       "      <th>OPERATOR_ID</th>\n",
       "      <th>PARTA2NAMEOFCOMP</th>\n",
       "      <th>PARTA2NAMEOFPARENT_COM</th>\n",
       "      <th>PARTA3NAME</th>\n",
       "      <th>PARTA3TITLE</th>\n",
       "      <th>PARTA3EMAIL</th>\n",
       "      <th>...</th>\n",
       "      <th>PARTA4ZIP</th>\n",
       "      <th>REPORT_SUBMISSION_TYPE</th>\n",
       "      <th>REPORT_DATE</th>\n",
       "      <th>FILING_DATE</th>\n",
       "      <th>FORM_REV</th>\n",
       "      <th>PARTNPREPNAME</th>\n",
       "      <th>PARTNPREPTITLE</th>\n",
       "      <th>PARTNPREPEMAIL</th>\n",
       "      <th>PARTNPREPPHONE</th>\n",
       "      <th>PARTNPREPFAX</th>\n",
       "    </tr>\n",
       "  </thead>\n",
       "  <tbody>\n",
       "    <tr>\n",
       "      <th>59</th>\n",
       "      <td>2019-08-01 14:19:07</td>\n",
       "      <td>2015</td>\n",
       "      <td>20160312</td>\n",
       "      <td>583</td>\n",
       "      <td>22777</td>\n",
       "      <td>WISCONSIN ELECTRIC POWER COMPANY DBA WE ENERGIES</td>\n",
       "      <td>WEC Energy Group</td>\n",
       "      <td>Tim Strommen</td>\n",
       "      <td>Manager Gas Code Compliance</td>\n",
       "      <td>tim.strommen@we-energies.com</td>\n",
       "      <td>...</td>\n",
       "      <td>53203</td>\n",
       "      <td>INITIAL</td>\n",
       "      <td>2016-03-09 07:16:53</td>\n",
       "      <td>2016-03-09 07:16:53</td>\n",
       "      <td>7100.3-1 (Rev. 10-2014)</td>\n",
       "      <td>Leif Monson</td>\n",
       "      <td>Gas System Senior Analyst</td>\n",
       "      <td>leif.monson@we-energies.com</td>\n",
       "      <td>(414)221-5349</td>\n",
       "      <td>NaN</td>\n",
       "    </tr>\n",
       "    <tr>\n",
       "      <th>76</th>\n",
       "      <td>2019-08-01 14:19:07</td>\n",
       "      <td>2015</td>\n",
       "      <td>20160265</td>\n",
       "      <td>529</td>\n",
       "      <td>32648</td>\n",
       "      <td>PIVOTAL LNG INC.</td>\n",
       "      <td>AGL Resources, Inc.</td>\n",
       "      <td>Ralph McCollum</td>\n",
       "      <td>Sr Compliance Engineer</td>\n",
       "      <td>rmccollu@aglresources.com</td>\n",
       "      <td>...</td>\n",
       "      <td>30309</td>\n",
       "      <td>INITIAL</td>\n",
       "      <td>2016-01-28 08:38:26</td>\n",
       "      <td>2016-01-28 08:38:26</td>\n",
       "      <td>7100.3-1 (Rev. 10-2014)</td>\n",
       "      <td>Ralph McCollum</td>\n",
       "      <td>Sr Compliance Engineer</td>\n",
       "      <td>rmccollu@aglresources.com</td>\n",
       "      <td>(404) 584-3733</td>\n",
       "      <td>(404)584-4710</td>\n",
       "    </tr>\n",
       "    <tr>\n",
       "      <th>21</th>\n",
       "      <td>2019-08-01 14:19:07</td>\n",
       "      <td>2015</td>\n",
       "      <td>20160281</td>\n",
       "      <td>550</td>\n",
       "      <td>5200</td>\n",
       "      <td>FITCHBURG GAS &amp; ELECTRIC LIGHT CO</td>\n",
       "      <td>Unitil Coporation</td>\n",
       "      <td>Jonathan Pfister</td>\n",
       "      <td>Manager, Gas Systems Operations</td>\n",
       "      <td>pfister@unitil.com</td>\n",
       "      <td>...</td>\n",
       "      <td>01420</td>\n",
       "      <td>INITIAL</td>\n",
       "      <td>2016-02-22 08:46:58</td>\n",
       "      <td>2016-02-22 08:46:58</td>\n",
       "      <td>7100.3-1 (Rev. 10-2014)</td>\n",
       "      <td>Leigh Willett</td>\n",
       "      <td>agent</td>\n",
       "      <td>willettl@unitl.com</td>\n",
       "      <td>(603)777-5509</td>\n",
       "      <td>(603)777-5609</td>\n",
       "    </tr>\n",
       "    <tr>\n",
       "      <th>81</th>\n",
       "      <td>2019-08-01 14:19:07</td>\n",
       "      <td>2015</td>\n",
       "      <td>20160295</td>\n",
       "      <td>654</td>\n",
       "      <td>39092</td>\n",
       "      <td>TITAN ALASKA LNG</td>\n",
       "      <td>NaN</td>\n",
       "      <td>Brendan Kern</td>\n",
       "      <td>Engineer</td>\n",
       "      <td>bkern@fngas.com</td>\n",
       "      <td>...</td>\n",
       "      <td>99701</td>\n",
       "      <td>SUPPLEMENTAL</td>\n",
       "      <td>2016-03-02 13:48:24</td>\n",
       "      <td>2017-01-31 16:09:28</td>\n",
       "      <td>7100.3-1 (Rev. 10-2014)</td>\n",
       "      <td>Brendan Kern</td>\n",
       "      <td>Operator</td>\n",
       "      <td>bkern@fngas.com</td>\n",
       "      <td>(907)799-0987</td>\n",
       "      <td>NaN</td>\n",
       "    </tr>\n",
       "    <tr>\n",
       "      <th>7</th>\n",
       "      <td>2019-08-01 14:19:07</td>\n",
       "      <td>2015</td>\n",
       "      <td>20160314</td>\n",
       "      <td>594</td>\n",
       "      <td>1640</td>\n",
       "      <td>BOSTON GAS CO</td>\n",
       "      <td>National Grid</td>\n",
       "      <td>Eric Hahn/Walter Doucette</td>\n",
       "      <td>Directors, LNG Mass</td>\n",
       "      <td>Eric.Hahn@NationalGrid.com</td>\n",
       "      <td>...</td>\n",
       "      <td>02451</td>\n",
       "      <td>SUPPLEMENTAL</td>\n",
       "      <td>2016-03-09 11:09:41</td>\n",
       "      <td>2016-03-11 06:58:05</td>\n",
       "      <td>7100.3-1 (Rev. 10-2014)</td>\n",
       "      <td>Steve Sechovicz</td>\n",
       "      <td>Principle Engineer</td>\n",
       "      <td>stephen.sechovicz@nationalgrid.com</td>\n",
       "      <td>(617)822-5412</td>\n",
       "      <td>NaN</td>\n",
       "    </tr>\n",
       "  </tbody>\n",
       "</table>\n",
       "<p>5 rows × 24 columns</p>\n",
       "</div>"
      ],
      "text/plain": [
       "        DATAFILE_AS_OF  REPORT_YEAR  REPORT_NUMBER  SUPPLEMENTAL_NUMBER  \\\n",
       "59 2019-08-01 14:19:07         2015       20160312                  583   \n",
       "76 2019-08-01 14:19:07         2015       20160265                  529   \n",
       "21 2019-08-01 14:19:07         2015       20160281                  550   \n",
       "81 2019-08-01 14:19:07         2015       20160295                  654   \n",
       "7  2019-08-01 14:19:07         2015       20160314                  594   \n",
       "\n",
       "    OPERATOR_ID                                  PARTA2NAMEOFCOMP  \\\n",
       "59        22777  WISCONSIN ELECTRIC POWER COMPANY DBA WE ENERGIES   \n",
       "76        32648                                  PIVOTAL LNG INC.   \n",
       "21         5200                 FITCHBURG GAS & ELECTRIC LIGHT CO   \n",
       "81        39092                                  TITAN ALASKA LNG   \n",
       "7          1640                                     BOSTON GAS CO   \n",
       "\n",
       "   PARTA2NAMEOFPARENT_COM                 PARTA3NAME  \\\n",
       "59       WEC Energy Group               Tim Strommen   \n",
       "76    AGL Resources, Inc.             Ralph McCollum   \n",
       "21      Unitil Coporation           Jonathan Pfister   \n",
       "81                    NaN               Brendan Kern   \n",
       "7           National Grid  Eric Hahn/Walter Doucette   \n",
       "\n",
       "                        PARTA3TITLE                   PARTA3EMAIL  ...  \\\n",
       "59      Manager Gas Code Compliance  tim.strommen@we-energies.com  ...   \n",
       "76           Sr Compliance Engineer     rmccollu@aglresources.com  ...   \n",
       "21  Manager, Gas Systems Operations            pfister@unitil.com  ...   \n",
       "81                         Engineer               bkern@fngas.com  ...   \n",
       "7               Directors, LNG Mass    Eric.Hahn@NationalGrid.com  ...   \n",
       "\n",
       "   PARTA4ZIP REPORT_SUBMISSION_TYPE         REPORT_DATE         FILING_DATE  \\\n",
       "59     53203                INITIAL 2016-03-09 07:16:53 2016-03-09 07:16:53   \n",
       "76     30309                INITIAL 2016-01-28 08:38:26 2016-01-28 08:38:26   \n",
       "21     01420                INITIAL 2016-02-22 08:46:58 2016-02-22 08:46:58   \n",
       "81     99701           SUPPLEMENTAL 2016-03-02 13:48:24 2017-01-31 16:09:28   \n",
       "7      02451           SUPPLEMENTAL 2016-03-09 11:09:41 2016-03-11 06:58:05   \n",
       "\n",
       "                   FORM_REV    PARTNPREPNAME             PARTNPREPTITLE  \\\n",
       "59  7100.3-1 (Rev. 10-2014)      Leif Monson  Gas System Senior Analyst   \n",
       "76  7100.3-1 (Rev. 10-2014)   Ralph McCollum     Sr Compliance Engineer   \n",
       "21  7100.3-1 (Rev. 10-2014)    Leigh Willett                      agent   \n",
       "81  7100.3-1 (Rev. 10-2014)     Brendan Kern                   Operator   \n",
       "7   7100.3-1 (Rev. 10-2014)  Steve Sechovicz         Principle Engineer   \n",
       "\n",
       "                        PARTNPREPEMAIL  PARTNPREPPHONE   PARTNPREPFAX  \n",
       "59         leif.monson@we-energies.com   (414)221-5349            NaN  \n",
       "76           rmccollu@aglresources.com  (404) 584-3733  (404)584-4710  \n",
       "21                  willettl@unitl.com   (603)777-5509  (603)777-5609  \n",
       "81                     bkern@fngas.com   (907)799-0987            NaN  \n",
       "7   stephen.sechovicz@nationalgrid.com   (617)822-5412            NaN  \n",
       "\n",
       "[5 rows x 24 columns]"
      ]
     },
     "execution_count": 12,
     "metadata": {},
     "output_type": "execute_result"
    }
   ],
   "source": [
    "gas_pipelines = pd.read_excel('../data/gas_2010_present_2019-08-09/annual_liquefied_natural_gas_2015.xlsx', skiprows=1)\n",
    "\n",
    "gas_pipelines.sample(5)"
   ]
  },
  {
   "cell_type": "code",
   "execution_count": 13,
   "metadata": {},
   "outputs": [
    {
     "data": {
      "text/plain": [
       "['annual_liquefied_natural_gas_2013.xlsx',\n",
       " 'annual_liquefied_natural_gas_2011.xlsx',\n",
       " 'annual_liquefied_natural_gas_2016.xlsx',\n",
       " 'annual_liquefied_natural_gas_2012.xlsx',\n",
       " 'annual_liquefied_natural_gas_2017.xlsx',\n",
       " 'annual_liquefied_natural_gas_2018.xlsx',\n",
       " 'annual_liquefied_natural_gas_2010.xlsx',\n",
       " 'annual_liquefied_natural_gas_2014.xlsx',\n",
       " 'annual_liquefied_natural_gas_2015.xlsx']"
      ]
     },
     "execution_count": 13,
     "metadata": {},
     "output_type": "execute_result"
    }
   ],
   "source": [
    "gas_files = [file for file in listdir('../data/gas_2010_present_2019-08-09/') if'annual_liquefied_natural_gas' in file]\n",
    "gas_files"
   ]
  },
  {
   "cell_type": "code",
   "execution_count": 14,
   "metadata": {},
   "outputs": [
    {
     "name": "stderr",
     "output_type": "stream",
     "text": [
      "/home/julian/PycharmProjects/oil_industry/venv/lib/python3.6/site-packages/ipykernel_launcher.py:1: FutureWarning: Sorting because non-concatenation axis is not aligned. A future version\n",
      "of pandas will change to not sort by default.\n",
      "\n",
      "To accept the future behavior, pass 'sort=False'.\n",
      "\n",
      "To retain the current behavior and silence the warning, pass 'sort=True'.\n",
      "\n",
      "  \"\"\"Entry point for launching an IPython kernel.\n"
     ]
    },
    {
     "data": {
      "text/html": [
       "<div>\n",
       "<style scoped>\n",
       "    .dataframe tbody tr th:only-of-type {\n",
       "        vertical-align: middle;\n",
       "    }\n",
       "\n",
       "    .dataframe tbody tr th {\n",
       "        vertical-align: top;\n",
       "    }\n",
       "\n",
       "    .dataframe thead th {\n",
       "        text-align: right;\n",
       "    }\n",
       "</style>\n",
       "<table border=\"1\" class=\"dataframe\">\n",
       "  <thead>\n",
       "    <tr style=\"text-align: right;\">\n",
       "      <th></th>\n",
       "      <th>DATAFILE_AS_OF</th>\n",
       "      <th>FILING_DATE</th>\n",
       "      <th>FORM_REV</th>\n",
       "      <th>OPERATOR_ID</th>\n",
       "      <th>PARTA2NAMEOFCOMP</th>\n",
       "      <th>PARTA2NAMEOFPARENT_COM</th>\n",
       "      <th>PARTA3EMAIL</th>\n",
       "      <th>PARTA3NAME</th>\n",
       "      <th>PARTA3PHONE</th>\n",
       "      <th>PARTA3TITLE</th>\n",
       "      <th>...</th>\n",
       "      <th>PARTNPREPEMAIL</th>\n",
       "      <th>PARTNPREPFAX</th>\n",
       "      <th>PARTNPREPNAME</th>\n",
       "      <th>PARTNPREPPHONE</th>\n",
       "      <th>PARTNPREPTITLE</th>\n",
       "      <th>REPORT_DATE</th>\n",
       "      <th>REPORT_NUMBER</th>\n",
       "      <th>REPORT_SUBMISSION_TYPE</th>\n",
       "      <th>REPORT_YEAR</th>\n",
       "      <th>SUPPLEMENTAL_NUMBER</th>\n",
       "    </tr>\n",
       "  </thead>\n",
       "  <tbody>\n",
       "    <tr>\n",
       "      <th>149</th>\n",
       "      <td>2019-08-01 14:12:58</td>\n",
       "      <td>2013-02-15 11:19:00</td>\n",
       "      <td>7100.3-1 (Rev. 06-2011)</td>\n",
       "      <td>31337</td>\n",
       "      <td>APPLIED LNG TECNOLOGIES USA, LLC</td>\n",
       "      <td>APPLIED NATURAL GAS FUELS, INC.</td>\n",
       "      <td>jcovello@altlng.com</td>\n",
       "      <td>Joseph Covello</td>\n",
       "      <td>(928) 768-8511</td>\n",
       "      <td>Plant Manager</td>\n",
       "      <td>...</td>\n",
       "      <td>jcovello@altlng.com</td>\n",
       "      <td>NaN</td>\n",
       "      <td>Joseph Covello</td>\n",
       "      <td>(928) 768-8511</td>\n",
       "      <td>Plant Manager</td>\n",
       "      <td>2012-05-03 17:46:56</td>\n",
       "      <td>20120082</td>\n",
       "      <td>SUPPLEMENTAL</td>\n",
       "      <td>2011</td>\n",
       "      <td>163</td>\n",
       "    </tr>\n",
       "    <tr>\n",
       "      <th>135</th>\n",
       "      <td>2019-08-01 14:12:58</td>\n",
       "      <td>2015-03-06 12:58:01</td>\n",
       "      <td>7100.3-1 (Rev. 10-2014)</td>\n",
       "      <td>18112</td>\n",
       "      <td>SAN DIEGO GAS &amp; ELECTRIC CO</td>\n",
       "      <td>Sempra Energy</td>\n",
       "      <td>ccriss@semprautilities.com</td>\n",
       "      <td>Curtis B. Criss</td>\n",
       "      <td>(858) 549-6540</td>\n",
       "      <td>M&amp;R and System Protection Manager</td>\n",
       "      <td>...</td>\n",
       "      <td>rconaway@semprautilities.com</td>\n",
       "      <td>(213) 244-8116</td>\n",
       "      <td>Robert W. Conaway</td>\n",
       "      <td>(213) 244-5429</td>\n",
       "      <td>Technical Advisor II</td>\n",
       "      <td>2012-03-15 12:14:13</td>\n",
       "      <td>20120063</td>\n",
       "      <td>SUPPLEMENTAL</td>\n",
       "      <td>2011</td>\n",
       "      <td>455</td>\n",
       "    </tr>\n",
       "    <tr>\n",
       "      <th>21</th>\n",
       "      <td>2019-08-01 14:16:07</td>\n",
       "      <td>2014-03-11 15:01:50</td>\n",
       "      <td>7100.3-1 (Rev. 06-2011)</td>\n",
       "      <td>5200</td>\n",
       "      <td>FITCHBURG GAS &amp; ELECTRIC LIGHT CO</td>\n",
       "      <td>Unitil Corporation</td>\n",
       "      <td>pfister@unitil.com</td>\n",
       "      <td>Jonathan Pfister</td>\n",
       "      <td>(603) 294-5183</td>\n",
       "      <td>Manager, Gas Systens Operatsions</td>\n",
       "      <td>...</td>\n",
       "      <td>willettl@unitil.com</td>\n",
       "      <td>(603) 777-5609</td>\n",
       "      <td>Leigh W Willett</td>\n",
       "      <td>(603) 777-5509</td>\n",
       "      <td>Manager, Oeprations Services</td>\n",
       "      <td>2014-03-11 15:01:50</td>\n",
       "      <td>20140144</td>\n",
       "      <td>INITIAL</td>\n",
       "      <td>2013</td>\n",
       "      <td>363</td>\n",
       "    </tr>\n",
       "    <tr>\n",
       "      <th>229</th>\n",
       "      <td>2019-08-01 14:20:39</td>\n",
       "      <td>2017-03-01 12:38:58</td>\n",
       "      <td>7100.3-1 (Rev. 10-2014)</td>\n",
       "      <td>31664</td>\n",
       "      <td>COVE POINT LNG, LIMITED PARTNERSHIP</td>\n",
       "      <td>NaN</td>\n",
       "      <td>daniel.l.woods@dom.com</td>\n",
       "      <td>Daniel L. Woods</td>\n",
       "      <td>(410)286-5131</td>\n",
       "      <td>Director LNG Operations</td>\n",
       "      <td>...</td>\n",
       "      <td>john.c.marconyak@dom.com</td>\n",
       "      <td>(410)286-5140</td>\n",
       "      <td>John Marconyak</td>\n",
       "      <td>(410)286-5119</td>\n",
       "      <td>Operator</td>\n",
       "      <td>2017-03-01 12:38:58</td>\n",
       "      <td>20170377</td>\n",
       "      <td>INITIAL</td>\n",
       "      <td>2016</td>\n",
       "      <td>683</td>\n",
       "    </tr>\n",
       "    <tr>\n",
       "      <th>118</th>\n",
       "      <td>2019-08-01 14:12:58</td>\n",
       "      <td>2013-02-12 07:48:04</td>\n",
       "      <td>7100.3-1 (Rev. 06-2011)</td>\n",
       "      <td>13750</td>\n",
       "      <td>NORTHERN NATURAL GAS CO</td>\n",
       "      <td>NaN</td>\n",
       "      <td>Byron.wood@nngco.com</td>\n",
       "      <td>Byron Wood</td>\n",
       "      <td>(402) 398-7396</td>\n",
       "      <td>Senior Pipeline Safety Specialist</td>\n",
       "      <td>...</td>\n",
       "      <td>Byron.wood@nngco.com</td>\n",
       "      <td>(402) 398-7606</td>\n",
       "      <td>Byron Wood</td>\n",
       "      <td>(402) 398-7396</td>\n",
       "      <td>Senior Pipeline Safety Specialist</td>\n",
       "      <td>2012-02-20 09:05:40</td>\n",
       "      <td>20120016</td>\n",
       "      <td>SUPPLEMENTAL</td>\n",
       "      <td>2011</td>\n",
       "      <td>142</td>\n",
       "    </tr>\n",
       "  </tbody>\n",
       "</table>\n",
       "<p>5 rows × 25 columns</p>\n",
       "</div>"
      ],
      "text/plain": [
       "         DATAFILE_AS_OF         FILING_DATE                 FORM_REV  \\\n",
       "149 2019-08-01 14:12:58 2013-02-15 11:19:00  7100.3-1 (Rev. 06-2011)   \n",
       "135 2019-08-01 14:12:58 2015-03-06 12:58:01  7100.3-1 (Rev. 10-2014)   \n",
       "21  2019-08-01 14:16:07 2014-03-11 15:01:50  7100.3-1 (Rev. 06-2011)   \n",
       "229 2019-08-01 14:20:39 2017-03-01 12:38:58  7100.3-1 (Rev. 10-2014)   \n",
       "118 2019-08-01 14:12:58 2013-02-12 07:48:04  7100.3-1 (Rev. 06-2011)   \n",
       "\n",
       "     OPERATOR_ID                     PARTA2NAMEOFCOMP  \\\n",
       "149        31337     APPLIED LNG TECNOLOGIES USA, LLC   \n",
       "135        18112          SAN DIEGO GAS & ELECTRIC CO   \n",
       "21          5200    FITCHBURG GAS & ELECTRIC LIGHT CO   \n",
       "229        31664  COVE POINT LNG, LIMITED PARTNERSHIP   \n",
       "118        13750              NORTHERN NATURAL GAS CO   \n",
       "\n",
       "              PARTA2NAMEOFPARENT_COM                 PARTA3EMAIL  \\\n",
       "149  APPLIED NATURAL GAS FUELS, INC.         jcovello@altlng.com   \n",
       "135                    Sempra Energy  ccriss@semprautilities.com   \n",
       "21                Unitil Corporation          pfister@unitil.com   \n",
       "229                              NaN      daniel.l.woods@dom.com   \n",
       "118                              NaN        Byron.wood@nngco.com   \n",
       "\n",
       "           PARTA3NAME     PARTA3PHONE                        PARTA3TITLE  ...  \\\n",
       "149    Joseph Covello  (928) 768-8511                      Plant Manager  ...   \n",
       "135   Curtis B. Criss  (858) 549-6540  M&R and System Protection Manager  ...   \n",
       "21   Jonathan Pfister  (603) 294-5183   Manager, Gas Systens Operatsions  ...   \n",
       "229   Daniel L. Woods   (410)286-5131            Director LNG Operations  ...   \n",
       "118        Byron Wood  (402) 398-7396  Senior Pipeline Safety Specialist  ...   \n",
       "\n",
       "                   PARTNPREPEMAIL    PARTNPREPFAX      PARTNPREPNAME  \\\n",
       "149           jcovello@altlng.com             NaN     Joseph Covello   \n",
       "135  rconaway@semprautilities.com  (213) 244-8116  Robert W. Conaway   \n",
       "21            willettl@unitil.com  (603) 777-5609    Leigh W Willett   \n",
       "229      john.c.marconyak@dom.com   (410)286-5140     John Marconyak   \n",
       "118          Byron.wood@nngco.com  (402) 398-7606         Byron Wood   \n",
       "\n",
       "     PARTNPREPPHONE                     PARTNPREPTITLE         REPORT_DATE  \\\n",
       "149  (928) 768-8511                      Plant Manager 2012-05-03 17:46:56   \n",
       "135  (213) 244-5429               Technical Advisor II 2012-03-15 12:14:13   \n",
       "21   (603) 777-5509       Manager, Oeprations Services 2014-03-11 15:01:50   \n",
       "229   (410)286-5119                           Operator 2017-03-01 12:38:58   \n",
       "118  (402) 398-7396  Senior Pipeline Safety Specialist 2012-02-20 09:05:40   \n",
       "\n",
       "    REPORT_NUMBER REPORT_SUBMISSION_TYPE REPORT_YEAR SUPPLEMENTAL_NUMBER  \n",
       "149      20120082           SUPPLEMENTAL        2011                 163  \n",
       "135      20120063           SUPPLEMENTAL        2011                 455  \n",
       "21       20140144                INITIAL        2013                 363  \n",
       "229      20170377                INITIAL        2016                 683  \n",
       "118      20120016           SUPPLEMENTAL        2011                 142  \n",
       "\n",
       "[5 rows x 25 columns]"
      ]
     },
     "execution_count": 14,
     "metadata": {},
     "output_type": "execute_result"
    }
   ],
   "source": [
    "gas = pd.concat([pd.read_excel(f'../data/gas_2010_present_2019-08-09/{file}', skiprows=1) for file in gas_files[:3]])\n",
    "gas = gas.reset_index(drop = True)\n",
    "\n",
    "gas.sample(5)"
   ]
  },
  {
   "cell_type": "markdown",
   "metadata": {},
   "source": [
    "The warning stems from the fact that the PARTA4NAMEOFCOMP columns was dropped, starting from 2014 (see below). Fortunately, we can use the field \"PARTA2NAMEOFCOMP\" and \"PARTA2NAMEOFPARENT_COM\" to get the information."
   ]
  },
  {
   "cell_type": "code",
   "execution_count": 15,
   "metadata": {},
   "outputs": [
    {
     "data": {
      "text/plain": [
       "{'PARTA4NAMEOFCOMP'}"
      ]
     },
     "execution_count": 15,
     "metadata": {},
     "output_type": "execute_result"
    }
   ],
   "source": [
    "gas_columns_2010 = pd.read_excel('../data/gas_2010_present_2019-08-09/annual_liquefied_natural_gas_2010.xlsx', skiprows=1, skipfooter=999).columns.tolist()\n",
    "gas_columns_2014 = pd.read_excel('../data/gas_2010_present_2019-08-09/annual_liquefied_natural_gas_2014.xlsx', skiprows=1, skipfooter=999).columns.tolist()\n",
    "set(gas_columns_2010) - set(gas_columns_2014)"
   ]
  },
  {
   "cell_type": "markdown",
   "metadata": {},
   "source": [
    "## 2.4. Where do incidents occur? Regular, or LNG pipelines?"
   ]
  },
  {
   "cell_type": "markdown",
   "metadata": {},
   "source": [
    "### 2.4.1 Are there operators who operate both regular and LNG pipelines?"
   ]
  },
  {
   "cell_type": "code",
   "execution_count": 16,
   "metadata": {},
   "outputs": [
    {
     "data": {
      "text/plain": [
       "[180, 630, 792, 909, 1088]"
      ]
     },
     "execution_count": 16,
     "metadata": {},
     "output_type": "execute_result"
    }
   ],
   "source": [
    "gas_operators = np.unique(gas['OPERATOR_ID']).tolist()\n",
    "gas_operators[:5]"
   ]
  },
  {
   "cell_type": "code",
   "execution_count": 17,
   "metadata": {},
   "outputs": [
    {
     "data": {
      "text/plain": [
       "[300, 395, 401, 402, 473]"
      ]
     },
     "execution_count": 17,
     "metadata": {},
     "output_type": "execute_result"
    }
   ],
   "source": [
    "pipeline_operators = np.unique(pipelines['OPERATOR_ID']).tolist()\n",
    "pipeline_operators[:5]"
   ]
  },
  {
   "cell_type": "code",
   "execution_count": 18,
   "metadata": {},
   "outputs": [
    {
     "name": "stdout",
     "output_type": "stream",
     "text": [
      "{31636}\n"
     ]
    }
   ],
   "source": [
    "common_operators = set(gas_operators).intersection(set(pipeline_operators))\n",
    "print(common_operators)"
   ]
  },
  {
   "cell_type": "markdown",
   "metadata": {},
   "source": [
    "Only one company occurs on both lists."
   ]
  },
  {
   "cell_type": "code",
   "execution_count": 19,
   "metadata": {},
   "outputs": [
    {
     "data": {
      "text/plain": [
       "['NORTHERN STATES POWER CO OF MINNESOTA']"
      ]
     },
     "execution_count": 19,
     "metadata": {},
     "output_type": "execute_result"
    }
   ],
   "source": [
    "pipelines.loc[pipelines['OPERATOR_ID'].isin(common_operators) & (pipelines['REPORT_YEAR'] == 2017)]['PARTA2NAMEOFCOMP'].tolist()"
   ]
  },
  {
   "cell_type": "markdown",
   "metadata": {},
   "source": [
    "### 2.4.2 Where do the accidents occur?"
   ]
  },
  {
   "cell_type": "code",
   "execution_count": 20,
   "metadata": {},
   "outputs": [
    {
     "data": {
      "text/html": [
       "<div>\n",
       "<style scoped>\n",
       "    .dataframe tbody tr th:only-of-type {\n",
       "        vertical-align: middle;\n",
       "    }\n",
       "\n",
       "    .dataframe tbody tr th {\n",
       "        vertical-align: top;\n",
       "    }\n",
       "\n",
       "    .dataframe thead th {\n",
       "        text-align: right;\n",
       "    }\n",
       "</style>\n",
       "<table border=\"1\" class=\"dataframe\">\n",
       "  <thead>\n",
       "    <tr style=\"text-align: right;\">\n",
       "      <th></th>\n",
       "      <th>DATAFILE_AS_OF</th>\n",
       "      <th>SIGNIFICANT</th>\n",
       "      <th>SERIOUS</th>\n",
       "      <th>IPE</th>\n",
       "      <th>IA_IPE</th>\n",
       "      <th>OM_IPE</th>\n",
       "      <th>REPORT_NUMBER</th>\n",
       "      <th>SUPPLEMENTAL_NUMBER</th>\n",
       "      <th>REPORT_RECEIVED_DATE</th>\n",
       "      <th>REPORT_TYPE</th>\n",
       "      <th>...</th>\n",
       "      <th>PREPARER_TITLE</th>\n",
       "      <th>PREPARER_EMAIL</th>\n",
       "      <th>PREPARER_TELEPHONE</th>\n",
       "      <th>PREPARER_FAX</th>\n",
       "      <th>PREPARED_DATE</th>\n",
       "      <th>AUTHORIZER_NAME</th>\n",
       "      <th>AUTHORIZER_TITLE</th>\n",
       "      <th>AUTHORIZER_TELEPHONE</th>\n",
       "      <th>AUTHORIZER_EMAIL</th>\n",
       "      <th>NARRATIVE</th>\n",
       "    </tr>\n",
       "  </thead>\n",
       "  <tbody>\n",
       "  </tbody>\n",
       "</table>\n",
       "<p>0 rows × 606 columns</p>\n",
       "</div>"
      ],
      "text/plain": [
       "Empty DataFrame\n",
       "Columns: [DATAFILE_AS_OF, SIGNIFICANT, SERIOUS, IPE, IA_IPE, OM_IPE, REPORT_NUMBER, SUPPLEMENTAL_NUMBER, REPORT_RECEIVED_DATE, REPORT_TYPE, OPERATOR_ID, NAME, OPERATOR_STREET_ADDRESS, OPERATOR_CITY_NAME, OPERATOR_STATE_ABBREVIATION, OPERATOR_POSTAL_CODE, LOCAL_DATETIME, IYEAR, LOCATION_LATITUDE, LOCATION_LONGITUDE, NRC_RPT_NUM, NRC_RPT_DATETIME, COMMODITY_RELEASED_TYPE, COMMODITY_SUBTYPE, COMMODITY_DETAILS, BLEND_DETAILS, BIO_DIESEL_DETAILS, UNINTENTIONAL_RELEASE_BBLS, INTENTIONAL_RELEASE_BBLS, RECOVERED_BBLS, NET_LOSS_BBLS, FATALITY_IND, NUM_EMP_FATALITIES, NUM_CONTR_FATALITIES, NUM_ER_FATALITIES, NUM_WORKER_FATALITIES, NUM_GP_FATALITIES, FATAL, INJURY_IND, NUM_EMP_INJURIES, NUM_CONTR_INJURIES, NUM_ER_INJURIES, NUM_WORKER_INJURIES, NUM_GP_INJURIES, INJURE, SHUTDOWN_DUE_ACCIDENT_IND, SHUTDOWN_EXPLAIN, SHUTDOWN_DATETIME, RESTART_DATETIME, STILL_SHUTDOWN_IND, IGNITE_IND, EXPLODE_IND, NUM_PUB_EVACUATED, INCIDENT_IDENTIFIED_DATETIME, ON_SITE_DATETIME, ON_OFF_SHORE, ONSHORE_STATE_ABBREVIATION, ONSHORE_POSTAL_CODE, ONSHORE_CITY_NAME, ONSHORE_COUNTY_NAME, DESIGNATED_LOCATION, DESIGNATED_NAME, PIPE_FAC_NAME, SEGMENT_NAME, FEDERAL, LOCATION_TYPE, INCIDENT_AREA_TYPE, INCIDENT_AREA_SUBTYPE, INCIDENT_AREA_DETAILS, DEPTH_OF_COVER, CROSSING, BRIDGE_CROSSING_IND, BRIDGE_TYPE, RAILROAD_CROSSING_IND, RAILROAD_TYPE, ROAD_CROSSING_IND, ROAD_TYPE, WATER_CROSSING_IND, WATER_TYPE, WATER_NAME, WATER_DEPTH, WATER_SUBTYPE, OFF_WATER_DEPTH, OFF_ACCIDENT_ORIGIN, OFFSHORE_STATE_ABBREVIATION, OFF_INSTATE_AREA, OFF_INSTATE_BLOCK, OFFSHORE_COUNTY_NAME, OFF_OCS_AREA, OFF_OCS_BLOCK, OFF_AREA_ACCIDENT_TYPE, PIPE_FACILITY_TYPE, SYSTEM_PART_INVOLVED, SYSTEM_SUBPART_INVOLVED, ITEM_INVOLVED, PIPE_TYPE, PIPE_DIAMETER, PIPE_WALL_THICKNESS, PIPE_SMYS, PIPE_SPECIFICATION, ...]\n",
       "Index: []\n",
       "\n",
       "[0 rows x 606 columns]"
      ]
     },
     "execution_count": 20,
     "metadata": {},
     "output_type": "execute_result"
    }
   ],
   "source": [
    "incidents.loc[incidents['OPERATOR_ID'] == 31636]"
   ]
  },
  {
   "cell_type": "markdown",
   "metadata": {},
   "source": [
    "Our common operators has no incidents, so we can ignore this segment."
   ]
  },
  {
   "cell_type": "code",
   "execution_count": 21,
   "metadata": {},
   "outputs": [
    {
     "data": {
      "text/plain": [
       "3814"
      ]
     },
     "execution_count": 21,
     "metadata": {},
     "output_type": "execute_result"
    }
   ],
   "source": [
    "regular_pipeline_incidents = incidents['OPERATOR_ID'].isin(pipelines['OPERATOR_ID']).sum()\n",
    "regular_pipeline_incidents"
   ]
  },
  {
   "cell_type": "code",
   "execution_count": 22,
   "metadata": {},
   "outputs": [
    {
     "data": {
      "text/plain": [
       "0"
      ]
     },
     "execution_count": 22,
     "metadata": {},
     "output_type": "execute_result"
    }
   ],
   "source": [
    "nlg_pipeline_incidents = incidents['OPERATOR_ID'].isin(gas['OPERATOR_ID']).sum()\n",
    "nlg_pipeline_incidents"
   ]
  },
  {
   "cell_type": "markdown",
   "metadata": {},
   "source": [
    "Looks like we can ignore this second dataset for our analysis."
   ]
  },
  {
   "cell_type": "markdown",
   "metadata": {},
   "source": [
    "## 2.5 FERC Notices"
   ]
  },
  {
   "cell_type": "code",
   "execution_count": 23,
   "metadata": {},
   "outputs": [
    {
     "data": {
      "text/plain": [
       "27890"
      ]
     },
     "execution_count": 23,
     "metadata": {},
     "output_type": "execute_result"
    }
   ],
   "source": [
    "notices = pd.read_csv('../data/ferc_notices_2019-08-01.csv')\n",
    "\n",
    "len(notices)"
   ]
  },
  {
   "cell_type": "markdown",
   "metadata": {},
   "source": [
    "Check whether any notes were read incorrectly (too many requests)."
   ]
  },
  {
   "cell_type": "code",
   "execution_count": 24,
   "metadata": {},
   "outputs": [
    {
     "data": {
      "text/plain": [
       "False    27890\n",
       "Name: full-text, dtype: int64"
      ]
     },
     "execution_count": 24,
     "metadata": {},
     "output_type": "execute_result"
    }
   ],
   "source": [
    "notices['full-text'].str.contains('too manyrequests').value_counts()"
   ]
  }
 ],
 "metadata": {
  "kernelspec": {
   "display_name": "oil_industry",
   "language": "python",
   "name": "oil_industry"
  },
  "language_info": {
   "codemirror_mode": {
    "name": "ipython",
    "version": 3
   },
   "file_extension": ".py",
   "mimetype": "text/x-python",
   "name": "python",
   "nbconvert_exporter": "python",
   "pygments_lexer": "ipython3",
   "version": "3.6.8"
  },
  "pycharm": {
   "stem_cell": {
    "cell_type": "raw",
    "metadata": {
     "collapsed": false
    },
    "source": []
   }
  }
 },
 "nbformat": 4,
 "nbformat_minor": 4
}
