{
 "cells": [
  {
   "cell_type": "markdown",
   "metadata": {
    "pycharm": {
     "name": "#%% md\n"
    }
   },
   "source": [
    "\n",
    "# 2 - Data exploration\n"
   ]
  },
  {
   "cell_type": "code",
   "execution_count": 1,
   "metadata": {
    "collapsed": false,
    "jupyter": {
     "outputs_hidden": false
    },
    "pycharm": {
     "is_executing": false,
     "name": "#%% \n"
    }
   },
   "outputs": [],
   "source": [
    "# import parameters\n",
    "import pandas as pd\n",
    "import matplotlib.pyplot as plt\n",
    "\n",
    "plt.rcParams[\"figure.figsize\"] = (20,10)"
   ]
  },
  {
   "cell_type": "markdown",
   "metadata": {},
   "source": [
    "## 2.1 Incidents data overview"
   ]
  },
  {
   "cell_type": "code",
   "execution_count": 2,
   "metadata": {
    "collapsed": false,
    "jupyter": {
     "outputs_hidden": false
    },
    "pycharm": {
     "is_executing": false,
     "name": "#%%\n"
    }
   },
   "outputs": [
    {
     "data": {
      "text/html": [
       "<div>\n",
       "<style scoped>\n",
       "    .dataframe tbody tr th:only-of-type {\n",
       "        vertical-align: middle;\n",
       "    }\n",
       "\n",
       "    .dataframe tbody tr th {\n",
       "        vertical-align: top;\n",
       "    }\n",
       "\n",
       "    .dataframe thead th {\n",
       "        text-align: right;\n",
       "    }\n",
       "</style>\n",
       "<table border=\"1\" class=\"dataframe\">\n",
       "  <thead>\n",
       "    <tr style=\"text-align: right;\">\n",
       "      <th></th>\n",
       "      <th>DATAFILE_AS_OF</th>\n",
       "      <th>SIGNIFICANT</th>\n",
       "      <th>SERIOUS</th>\n",
       "      <th>IPE</th>\n",
       "      <th>IA_IPE</th>\n",
       "      <th>OM_IPE</th>\n",
       "      <th>REPORT_NUMBER</th>\n",
       "      <th>SUPPLEMENTAL_NUMBER</th>\n",
       "      <th>REPORT_RECEIVED_DATE</th>\n",
       "      <th>REPORT_TYPE</th>\n",
       "      <th>...</th>\n",
       "      <th>PREPARER_TITLE</th>\n",
       "      <th>PREPARER_EMAIL</th>\n",
       "      <th>PREPARER_TELEPHONE</th>\n",
       "      <th>PREPARER_FAX</th>\n",
       "      <th>PREPARED_DATE</th>\n",
       "      <th>AUTHORIZER_NAME</th>\n",
       "      <th>AUTHORIZER_TITLE</th>\n",
       "      <th>AUTHORIZER_TELEPHONE</th>\n",
       "      <th>AUTHORIZER_EMAIL</th>\n",
       "      <th>NARRATIVE</th>\n",
       "    </tr>\n",
       "  </thead>\n",
       "  <tbody>\n",
       "    <tr>\n",
       "      <th>186</th>\n",
       "      <td>2019-07-31 08:37:40</td>\n",
       "      <td>NO</td>\n",
       "      <td>NO</td>\n",
       "      <td>NO</td>\n",
       "      <td>NO</td>\n",
       "      <td>NO</td>\n",
       "      <td>20100193</td>\n",
       "      <td>19626</td>\n",
       "      <td>2010-09-02 19:48:25</td>\n",
       "      <td>SUPPLEMENTAL FINAL</td>\n",
       "      <td>...</td>\n",
       "      <td>LEAD PIPELINE SAFETY SPECIALIST</td>\n",
       "      <td>bdmctiernan@sunocoinc.com</td>\n",
       "      <td>610-859-3347</td>\n",
       "      <td>877-588-8590</td>\n",
       "      <td>2014-08-03</td>\n",
       "      <td>BRIAN D. MC TIERNAN</td>\n",
       "      <td>LEAD PIPELINE SAFETY SPECIALIST</td>\n",
       "      <td>610-859-3347</td>\n",
       "      <td>bdmctiernan@sunocoinc.com</td>\n",
       "      <td>ON 8/31/2010 AT APPROXIMATELY 0130 HOURS, AN O...</td>\n",
       "    </tr>\n",
       "    <tr>\n",
       "      <th>573</th>\n",
       "      <td>2019-07-31 08:37:40</td>\n",
       "      <td>NO</td>\n",
       "      <td>NO</td>\n",
       "      <td>NO</td>\n",
       "      <td>NO</td>\n",
       "      <td>NO</td>\n",
       "      <td>20110366</td>\n",
       "      <td>17431</td>\n",
       "      <td>2011-09-28 10:57:38</td>\n",
       "      <td>SUPPLEMENTAL FINAL</td>\n",
       "      <td>...</td>\n",
       "      <td>SR. COMPLIANCE COORDINATOR</td>\n",
       "      <td>ken.lybarger@magellanlp.com</td>\n",
       "      <td>918-574-7315</td>\n",
       "      <td>918-574-7246</td>\n",
       "      <td>2013-03-07</td>\n",
       "      <td>KENNETH L. LYBARGER</td>\n",
       "      <td>SR. COMPLIANCE COORDINATOR</td>\n",
       "      <td>918-574-7315</td>\n",
       "      <td>ken.lybarger@magellanlp.com</td>\n",
       "      <td>A CORROSION COUPON HOLDER WAS OBSERVED TO BE L...</td>\n",
       "    </tr>\n",
       "    <tr>\n",
       "      <th>3754</th>\n",
       "      <td>2019-07-31 08:37:40</td>\n",
       "      <td>YES</td>\n",
       "      <td>NO</td>\n",
       "      <td>YES</td>\n",
       "      <td>NO</td>\n",
       "      <td>NO</td>\n",
       "      <td>20190171</td>\n",
       "      <td>32207</td>\n",
       "      <td>2019-05-28 15:55:52</td>\n",
       "      <td>ORIGINAL</td>\n",
       "      <td>...</td>\n",
       "      <td>ERC COMPLIANCE SPECIALIST</td>\n",
       "      <td>nagonzalez@paalp.com</td>\n",
       "      <td>713-646-4376</td>\n",
       "      <td>NaN</td>\n",
       "      <td>2019-05-28</td>\n",
       "      <td>NGIABI GICUHI</td>\n",
       "      <td>ERC MGR DIRECTOR</td>\n",
       "      <td>713-646-4336</td>\n",
       "      <td>ngicuhi@paalp.com</td>\n",
       "      <td>APPROXIMATELY 89 BARRELS OF CRUDE OIL WERE REL...</td>\n",
       "    </tr>\n",
       "    <tr>\n",
       "      <th>744</th>\n",
       "      <td>2019-07-31 08:37:40</td>\n",
       "      <td>NO</td>\n",
       "      <td>NO</td>\n",
       "      <td>YES</td>\n",
       "      <td>YES</td>\n",
       "      <td>NO</td>\n",
       "      <td>20120084</td>\n",
       "      <td>16506</td>\n",
       "      <td>2012-03-19 13:32:21</td>\n",
       "      <td>ORIGINAL</td>\n",
       "      <td>...</td>\n",
       "      <td>FACILITY COMPLIANCE OFFICER</td>\n",
       "      <td>ccasnelli@apexoil.hrcoxmail.com</td>\n",
       "      <td>757-651-3273</td>\n",
       "      <td>757-622-3989</td>\n",
       "      <td>2012-03-19</td>\n",
       "      <td>CHRIS CASNELLI</td>\n",
       "      <td>FACILITY COMPLIANCE OFFICEDR</td>\n",
       "      <td>757-651-3273</td>\n",
       "      <td>ccasnelli@apexoil.hrcoxmail.com</td>\n",
       "      <td>ON FEBRUARY 17, 2012, PETROLEUM FUEL &amp; TERMINA...</td>\n",
       "    </tr>\n",
       "    <tr>\n",
       "      <th>2602</th>\n",
       "      <td>2019-07-31 08:37:40</td>\n",
       "      <td>NO</td>\n",
       "      <td>NO</td>\n",
       "      <td>NO</td>\n",
       "      <td>NO</td>\n",
       "      <td>NO</td>\n",
       "      <td>20160269</td>\n",
       "      <td>21646</td>\n",
       "      <td>2016-08-31 09:05:06</td>\n",
       "      <td>ORIGINAL FINAL</td>\n",
       "      <td>...</td>\n",
       "      <td>DOT COMPLIANCE MANAGER</td>\n",
       "      <td>tgnardozzi@sunocologistics.com</td>\n",
       "      <td>281-637-6576</td>\n",
       "      <td>877-917-0448</td>\n",
       "      <td>2016-08-31</td>\n",
       "      <td>TODD G. NARDOZZI</td>\n",
       "      <td>DOT COMPLIANCE MANAGER</td>\n",
       "      <td>281-637-6576</td>\n",
       "      <td>tgnardozzi@sunocologistics.com</td>\n",
       "      <td>DURING ROUTINE OPERATIONS AT CORSICANA STATION...</td>\n",
       "    </tr>\n",
       "  </tbody>\n",
       "</table>\n",
       "<p>5 rows × 606 columns</p>\n",
       "</div>"
      ],
      "text/plain": [
       "          DATAFILE_AS_OF SIGNIFICANT SERIOUS  IPE IA_IPE OM_IPE  \\\n",
       "186  2019-07-31 08:37:40          NO      NO   NO     NO     NO   \n",
       "573  2019-07-31 08:37:40          NO      NO   NO     NO     NO   \n",
       "3754 2019-07-31 08:37:40         YES      NO  YES     NO     NO   \n",
       "744  2019-07-31 08:37:40          NO      NO  YES    YES     NO   \n",
       "2602 2019-07-31 08:37:40          NO      NO   NO     NO     NO   \n",
       "\n",
       "      REPORT_NUMBER  SUPPLEMENTAL_NUMBER REPORT_RECEIVED_DATE  \\\n",
       "186        20100193                19626  2010-09-02 19:48:25   \n",
       "573        20110366                17431  2011-09-28 10:57:38   \n",
       "3754       20190171                32207  2019-05-28 15:55:52   \n",
       "744        20120084                16506  2012-03-19 13:32:21   \n",
       "2602       20160269                21646  2016-08-31 09:05:06   \n",
       "\n",
       "             REPORT_TYPE  ...                   PREPARER_TITLE  \\\n",
       "186   SUPPLEMENTAL FINAL  ...  LEAD PIPELINE SAFETY SPECIALIST   \n",
       "573   SUPPLEMENTAL FINAL  ...       SR. COMPLIANCE COORDINATOR   \n",
       "3754            ORIGINAL  ...        ERC COMPLIANCE SPECIALIST   \n",
       "744             ORIGINAL  ...      FACILITY COMPLIANCE OFFICER   \n",
       "2602      ORIGINAL FINAL  ...           DOT COMPLIANCE MANAGER   \n",
       "\n",
       "                       PREPARER_EMAIL PREPARER_TELEPHONE  PREPARER_FAX  \\\n",
       "186         bdmctiernan@sunocoinc.com       610-859-3347  877-588-8590   \n",
       "573       ken.lybarger@magellanlp.com       918-574-7315  918-574-7246   \n",
       "3754             nagonzalez@paalp.com       713-646-4376           NaN   \n",
       "744   ccasnelli@apexoil.hrcoxmail.com       757-651-3273  757-622-3989   \n",
       "2602   tgnardozzi@sunocologistics.com       281-637-6576  877-917-0448   \n",
       "\n",
       "     PREPARED_DATE      AUTHORIZER_NAME                 AUTHORIZER_TITLE  \\\n",
       "186     2014-08-03  BRIAN D. MC TIERNAN  LEAD PIPELINE SAFETY SPECIALIST   \n",
       "573     2013-03-07  KENNETH L. LYBARGER       SR. COMPLIANCE COORDINATOR   \n",
       "3754    2019-05-28        NGIABI GICUHI                 ERC MGR DIRECTOR   \n",
       "744     2012-03-19       CHRIS CASNELLI     FACILITY COMPLIANCE OFFICEDR   \n",
       "2602    2016-08-31     TODD G. NARDOZZI           DOT COMPLIANCE MANAGER   \n",
       "\n",
       "      AUTHORIZER_TELEPHONE                 AUTHORIZER_EMAIL  \\\n",
       "186           610-859-3347        bdmctiernan@sunocoinc.com   \n",
       "573           918-574-7315      ken.lybarger@magellanlp.com   \n",
       "3754          713-646-4336                ngicuhi@paalp.com   \n",
       "744           757-651-3273  ccasnelli@apexoil.hrcoxmail.com   \n",
       "2602          281-637-6576   tgnardozzi@sunocologistics.com   \n",
       "\n",
       "                                              NARRATIVE  \n",
       "186   ON 8/31/2010 AT APPROXIMATELY 0130 HOURS, AN O...  \n",
       "573   A CORROSION COUPON HOLDER WAS OBSERVED TO BE L...  \n",
       "3754  APPROXIMATELY 89 BARRELS OF CRUDE OIL WERE REL...  \n",
       "744   ON FEBRUARY 17, 2012, PETROLEUM FUEL & TERMINA...  \n",
       "2602  DURING ROUTINE OPERATIONS AT CORSICANA STATION...  \n",
       "\n",
       "[5 rows x 606 columns]"
      ]
     },
     "execution_count": 2,
     "metadata": {},
     "output_type": "execute_result"
    }
   ],
   "source": [
    "incidents = pd.read_excel('../data/incidents_2019-08-01/hl2010toPresent.xlsx', \n",
    "                          sheet_name=1)\n",
    "\n",
    "incidents.sample(5)"
   ]
  },
  {
   "cell_type": "code",
   "execution_count": 3,
   "metadata": {
    "collapsed": false,
    "jupyter": {
     "outputs_hidden": false
    },
    "pycharm": {
     "is_executing": false,
     "name": "#%%\n"
    }
   },
   "outputs": [
    {
     "data": {
      "text/plain": [
       "ENTERPRISE CRUDE PIPELINE LLC          276\n",
       "ENTERPRISE PRODUCTS OPERATING LLC      214\n",
       "SUNOCO PIPELINE L.P.                   211\n",
       "PLAINS PIPELINE, L.P.                  203\n",
       "MAGELLAN PIPELINE COMPANY, LP          180\n",
       "COLONIAL PIPELINE CO                   177\n",
       "BUCKEYE PARTNERS, LP                   148\n",
       "PHILLIPS 66 PIPELINE LLC               121\n",
       "KINDER MORGAN LIQUID TERMINALS, LLC    117\n",
       "MARATHON PIPE LINE LLC                 111\n",
       "Name: NAME, dtype: int64"
      ]
     },
     "execution_count": 3,
     "metadata": {},
     "output_type": "execute_result"
    }
   ],
   "source": [
    "incidents['NAME'].value_counts().head(10)"
   ]
  },
  {
   "cell_type": "code",
   "execution_count": 4,
   "metadata": {
    "collapsed": false,
    "jupyter": {
     "outputs_hidden": false
    },
    "pycharm": {
     "name": "#%%\n"
    }
   },
   "outputs": [
    {
     "data": {
      "text/plain": [
       "30829    282\n",
       "31618    214\n",
       "18718    211\n",
       "300      202\n",
       "22610    180\n",
       "2552     177\n",
       "31684    155\n",
       "1845     148\n",
       "26041    117\n",
       "32109    112\n",
       "Name: OPERATOR_ID, dtype: int64"
      ]
     },
     "execution_count": 4,
     "metadata": {},
     "output_type": "execute_result"
    }
   ],
   "source": [
    "incidents['OPERATOR_ID'].value_counts().head(10)"
   ]
  },
  {
   "cell_type": "markdown",
   "metadata": {},
   "source": [
    "There seem to be some minor discrepancies between ID and name. Matching every ID to its most common company name should fix it. "
   ]
  },
  {
   "cell_type": "code",
   "execution_count": 5,
   "metadata": {},
   "outputs": [
    {
     "data": {
      "text/plain": [
       "<matplotlib.axes._subplots.AxesSubplot at 0x7f20516011d0>"
      ]
     },
     "execution_count": 5,
     "metadata": {},
     "output_type": "execute_result"
    },
    {
     "data": {
      "image/png": "[encoded data removed]",
      "text/plain": [
       "<Figure size 1440x720 with 1 Axes>"
      ]
     },
     "metadata": {
      "needs_background": "light"
     },
     "output_type": "display_data"
    }
   ],
   "source": [
    "incidents['OPERATOR_ID'].value_counts().hist(bins=30, figsize=(20, 10))"
   ]
  },
  {
   "cell_type": "code",
   "execution_count": 6,
   "metadata": {},
   "outputs": [
    {
     "data": {
      "text/plain": [
       "3819"
      ]
     },
     "execution_count": 6,
     "metadata": {},
     "output_type": "execute_result"
    }
   ],
   "source": [
    "len(incidents)"
   ]
  },
  {
   "cell_type": "markdown",
   "metadata": {},
   "source": [
    "## 2.2 Oil pipeline data"
   ]
  },
  {
   "cell_type": "code",
   "execution_count": 7,
   "metadata": {},
   "outputs": [],
   "source": [
    "oil_pipelines = pd.read_excel('../data/pipeline_sytem_2019-08-01/annual_hazardous_liquid_2010.xlsx', skiprows=2)"
   ]
  },
  {
   "cell_type": "code",
   "execution_count": 8,
   "metadata": {},
   "outputs": [
    {
     "data": {
      "text/html": [
       "<div>\n",
       "<style scoped>\n",
       "    .dataframe tbody tr th:only-of-type {\n",
       "        vertical-align: middle;\n",
       "    }\n",
       "\n",
       "    .dataframe tbody tr th {\n",
       "        vertical-align: top;\n",
       "    }\n",
       "\n",
       "    .dataframe thead th {\n",
       "        text-align: right;\n",
       "    }\n",
       "</style>\n",
       "<table border=\"1\" class=\"dataframe\">\n",
       "  <thead>\n",
       "    <tr style=\"text-align: right;\">\n",
       "      <th></th>\n",
       "      <th>DATAFILE_AS_OF</th>\n",
       "      <th>REPORT_YEAR</th>\n",
       "      <th>REPORT_NUMBER</th>\n",
       "      <th>SUPPLEMENTAL_NUMBER</th>\n",
       "      <th>OPERATOR_ID</th>\n",
       "      <th>PARTA2NAMEOFCOMP</th>\n",
       "      <th>PARTA4STREET</th>\n",
       "      <th>PARTA4CITY</th>\n",
       "      <th>PARTA4STATE</th>\n",
       "      <th>PARTA4ZIP</th>\n",
       "      <th>...</th>\n",
       "      <th>PARTE2010HF</th>\n",
       "      <th>PARTE2010LF</th>\n",
       "      <th>PARTE2010TOTAL</th>\n",
       "      <th>PARTETOTAL</th>\n",
       "      <th>PARTETOTALHF</th>\n",
       "      <th>PARTETOTALLF</th>\n",
       "      <th>REPORT_SUBMISSION_TYPE</th>\n",
       "      <th>REPORT_DATE</th>\n",
       "      <th>FILING_DATE</th>\n",
       "      <th>FORM_REV</th>\n",
       "    </tr>\n",
       "  </thead>\n",
       "  <tbody>\n",
       "    <tr>\n",
       "      <th>165</th>\n",
       "      <td>2019-07-01 10:31:50</td>\n",
       "      <td>2010</td>\n",
       "      <td>20110097</td>\n",
       "      <td>10098</td>\n",
       "      <td>26103</td>\n",
       "      <td>TEXAS EASTMAN DIVISION, EASTMAN CHEMICAL CO</td>\n",
       "      <td>PO BOX 7444</td>\n",
       "      <td>LONGVIEW</td>\n",
       "      <td>TX</td>\n",
       "      <td>75607</td>\n",
       "      <td>...</td>\n",
       "      <td>0.00</td>\n",
       "      <td>0.0</td>\n",
       "      <td>0.00</td>\n",
       "      <td>402.70</td>\n",
       "      <td>218.30</td>\n",
       "      <td>184.40</td>\n",
       "      <td>INITIAL</td>\n",
       "      <td>2011-08-11 12:42:58</td>\n",
       "      <td>2011-08-11 12:42:58</td>\n",
       "      <td>7000-1.1 (Rev. 06-2011)</td>\n",
       "    </tr>\n",
       "    <tr>\n",
       "      <th>205</th>\n",
       "      <td>2019-07-01 10:31:50</td>\n",
       "      <td>2010</td>\n",
       "      <td>20110014</td>\n",
       "      <td>11084</td>\n",
       "      <td>30901</td>\n",
       "      <td>AIRCRAFT SERVICES INTERNATIONAL GROUP (ASIG)</td>\n",
       "      <td>6000 DEHAVILLAND DRIVE</td>\n",
       "      <td>ANCHORAGE</td>\n",
       "      <td>AK</td>\n",
       "      <td>99502</td>\n",
       "      <td>...</td>\n",
       "      <td>0.00</td>\n",
       "      <td>0.0</td>\n",
       "      <td>0.00</td>\n",
       "      <td>7.10</td>\n",
       "      <td>7.10</td>\n",
       "      <td>0.00</td>\n",
       "      <td>SUPPLEMENTAL</td>\n",
       "      <td>2011-07-28 18:23:42</td>\n",
       "      <td>2012-05-15 14:03:24</td>\n",
       "      <td>7000-1.1 (Rev. 06-2011)</td>\n",
       "    </tr>\n",
       "    <tr>\n",
       "      <th>99</th>\n",
       "      <td>2019-07-01 10:31:50</td>\n",
       "      <td>2010</td>\n",
       "      <td>20110316</td>\n",
       "      <td>12374</td>\n",
       "      <td>15674</td>\n",
       "      <td>PLANTATION PIPE LINE CO</td>\n",
       "      <td>500 Dallas Suite 1000</td>\n",
       "      <td>ALPHARETTA</td>\n",
       "      <td>Texas</td>\n",
       "      <td>77002</td>\n",
       "      <td>...</td>\n",
       "      <td>0.11</td>\n",
       "      <td>0.0</td>\n",
       "      <td>0.11</td>\n",
       "      <td>696.50</td>\n",
       "      <td>567.34</td>\n",
       "      <td>129.16</td>\n",
       "      <td>SUPPLEMENTAL</td>\n",
       "      <td>2011-08-15 17:26:40</td>\n",
       "      <td>2013-07-10 15:08:57</td>\n",
       "      <td>7000-1.1 (Rev. 06-2011)</td>\n",
       "    </tr>\n",
       "    <tr>\n",
       "      <th>62</th>\n",
       "      <td>2019-07-01 10:31:50</td>\n",
       "      <td>2010</td>\n",
       "      <td>20110366</td>\n",
       "      <td>10384</td>\n",
       "      <td>8014</td>\n",
       "      <td>IDAHO PIPELINE CORP</td>\n",
       "      <td>POB 35236</td>\n",
       "      <td>SARASOTA</td>\n",
       "      <td>FL</td>\n",
       "      <td>34242</td>\n",
       "      <td>...</td>\n",
       "      <td>0.00</td>\n",
       "      <td>0.0</td>\n",
       "      <td>0.00</td>\n",
       "      <td>2.00</td>\n",
       "      <td>2.00</td>\n",
       "      <td>0.00</td>\n",
       "      <td>INITIAL</td>\n",
       "      <td>2011-08-16 13:36:13</td>\n",
       "      <td>2011-08-16 13:36:13</td>\n",
       "      <td>7000-1.1 (Rev. 06-2011)</td>\n",
       "    </tr>\n",
       "    <tr>\n",
       "      <th>318</th>\n",
       "      <td>2019-07-01 10:31:50</td>\n",
       "      <td>2010</td>\n",
       "      <td>20110369</td>\n",
       "      <td>11002</td>\n",
       "      <td>31684</td>\n",
       "      <td>CONOCOPHILLIPS</td>\n",
       "      <td>600 North Dairy Ashford</td>\n",
       "      <td>NaN</td>\n",
       "      <td>TX</td>\n",
       "      <td>77079</td>\n",
       "      <td>...</td>\n",
       "      <td>0.00</td>\n",
       "      <td>0.0</td>\n",
       "      <td>0.00</td>\n",
       "      <td>3150.12</td>\n",
       "      <td>949.40</td>\n",
       "      <td>2200.72</td>\n",
       "      <td>SUPPLEMENTAL</td>\n",
       "      <td>2011-08-16 15:00:34</td>\n",
       "      <td>2012-04-02 09:31:51</td>\n",
       "      <td>7000-1.1 (Rev. 06-2011)</td>\n",
       "    </tr>\n",
       "  </tbody>\n",
       "</table>\n",
       "<p>5 rows × 85 columns</p>\n",
       "</div>"
      ],
      "text/plain": [
       "         DATAFILE_AS_OF  REPORT_YEAR  REPORT_NUMBER  SUPPLEMENTAL_NUMBER  \\\n",
       "165 2019-07-01 10:31:50         2010       20110097                10098   \n",
       "205 2019-07-01 10:31:50         2010       20110014                11084   \n",
       "99  2019-07-01 10:31:50         2010       20110316                12374   \n",
       "62  2019-07-01 10:31:50         2010       20110366                10384   \n",
       "318 2019-07-01 10:31:50         2010       20110369                11002   \n",
       "\n",
       "     OPERATOR_ID                              PARTA2NAMEOFCOMP  \\\n",
       "165        26103   TEXAS EASTMAN DIVISION, EASTMAN CHEMICAL CO   \n",
       "205        30901  AIRCRAFT SERVICES INTERNATIONAL GROUP (ASIG)   \n",
       "99         15674                       PLANTATION PIPE LINE CO   \n",
       "62          8014                           IDAHO PIPELINE CORP   \n",
       "318        31684                                CONOCOPHILLIPS   \n",
       "\n",
       "                PARTA4STREET  PARTA4CITY PARTA4STATE PARTA4ZIP  ...  \\\n",
       "165              PO BOX 7444    LONGVIEW          TX     75607  ...   \n",
       "205   6000 DEHAVILLAND DRIVE   ANCHORAGE          AK     99502  ...   \n",
       "99     500 Dallas Suite 1000  ALPHARETTA       Texas     77002  ...   \n",
       "62                 POB 35236    SARASOTA          FL     34242  ...   \n",
       "318  600 North Dairy Ashford         NaN          TX     77079  ...   \n",
       "\n",
       "    PARTE2010HF PARTE2010LF PARTE2010TOTAL PARTETOTAL  PARTETOTALHF  \\\n",
       "165        0.00         0.0           0.00     402.70        218.30   \n",
       "205        0.00         0.0           0.00       7.10          7.10   \n",
       "99         0.11         0.0           0.11     696.50        567.34   \n",
       "62         0.00         0.0           0.00       2.00          2.00   \n",
       "318        0.00         0.0           0.00    3150.12        949.40   \n",
       "\n",
       "     PARTETOTALLF  REPORT_SUBMISSION_TYPE         REPORT_DATE  \\\n",
       "165        184.40                 INITIAL 2011-08-11 12:42:58   \n",
       "205          0.00            SUPPLEMENTAL 2011-07-28 18:23:42   \n",
       "99         129.16            SUPPLEMENTAL 2011-08-15 17:26:40   \n",
       "62           0.00                 INITIAL 2011-08-16 13:36:13   \n",
       "318       2200.72            SUPPLEMENTAL 2011-08-16 15:00:34   \n",
       "\n",
       "            FILING_DATE                 FORM_REV  \n",
       "165 2011-08-11 12:42:58  7000-1.1 (Rev. 06-2011)  \n",
       "205 2012-05-15 14:03:24  7000-1.1 (Rev. 06-2011)  \n",
       "99  2013-07-10 15:08:57  7000-1.1 (Rev. 06-2011)  \n",
       "62  2011-08-16 13:36:13  7000-1.1 (Rev. 06-2011)  \n",
       "318 2012-04-02 09:31:51  7000-1.1 (Rev. 06-2011)  \n",
       "\n",
       "[5 rows x 85 columns]"
      ]
     },
     "execution_count": 8,
     "metadata": {},
     "output_type": "execute_result"
    }
   ],
   "source": [
    "oil_pipelines.sample(5)"
   ]
  },
  {
   "cell_type": "code",
   "execution_count": 9,
   "metadata": {},
   "outputs": [
    {
     "data": {
      "text/plain": [
       "['annual_hazardous_liquid_2017.xlsx',\n",
       " 'annual_hazardous_liquid_2011.xlsx',\n",
       " 'annual_hazardous_liquid_2014.xlsx',\n",
       " 'annual_hazardous_liquid_2012.xlsx',\n",
       " 'annual_hazardous_liquid_2013.xlsx',\n",
       " 'annual_hazardous_liquid_2010.xlsx',\n",
       " 'annual_hazardous_liquid_2018.xlsx',\n",
       " 'annual_hazardous_liquid_2016.xlsx',\n",
       " 'annual_hazardous_liquid_2015.xlsx']"
      ]
     },
     "execution_count": 9,
     "metadata": {},
     "output_type": "execute_result"
    }
   ],
   "source": [
    "from os import listdir\n",
    "\n",
    "pipeline_files = [file for file in listdir('../data/pipeline_sytem_2019-08-01/') if'annual_hazardous_liquid' in file]\n",
    "pipeline_files"
   ]
  },
  {
   "cell_type": "code",
   "execution_count": 10,
   "metadata": {},
   "outputs": [
    {
     "data": {
      "text/html": [
       "<div>\n",
       "<style scoped>\n",
       "    .dataframe tbody tr th:only-of-type {\n",
       "        vertical-align: middle;\n",
       "    }\n",
       "\n",
       "    .dataframe tbody tr th {\n",
       "        vertical-align: top;\n",
       "    }\n",
       "\n",
       "    .dataframe thead th {\n",
       "        text-align: right;\n",
       "    }\n",
       "</style>\n",
       "<table border=\"1\" class=\"dataframe\">\n",
       "  <thead>\n",
       "    <tr style=\"text-align: right;\">\n",
       "      <th></th>\n",
       "      <th>DATAFILE_AS_OF</th>\n",
       "      <th>REPORT_YEAR</th>\n",
       "      <th>REPORT_NUMBER</th>\n",
       "      <th>SUPPLEMENTAL_NUMBER</th>\n",
       "      <th>OPERATOR_ID</th>\n",
       "      <th>PARTA2NAMEOFCOMP</th>\n",
       "      <th>PARTA4STREET</th>\n",
       "      <th>PARTA4CITY</th>\n",
       "      <th>PARTA4STATE</th>\n",
       "      <th>PARTA4ZIP</th>\n",
       "      <th>...</th>\n",
       "      <th>PARTE2010HF</th>\n",
       "      <th>PARTE2010LF</th>\n",
       "      <th>PARTE2010TOTAL</th>\n",
       "      <th>PARTETOTAL</th>\n",
       "      <th>PARTETOTALHF</th>\n",
       "      <th>PARTETOTALLF</th>\n",
       "      <th>REPORT_SUBMISSION_TYPE</th>\n",
       "      <th>REPORT_DATE</th>\n",
       "      <th>FILING_DATE</th>\n",
       "      <th>FORM_REV</th>\n",
       "    </tr>\n",
       "  </thead>\n",
       "  <tbody>\n",
       "    <tr>\n",
       "      <th>5125</th>\n",
       "      <td>2019-07-01 11:08:29</td>\n",
       "      <td>2015</td>\n",
       "      <td>20162111</td>\n",
       "      <td>14370</td>\n",
       "      <td>32532</td>\n",
       "      <td>ENERGY XXI PIPELINE, LLC</td>\n",
       "      <td>1021 MAIN STREET, SUITE 2626</td>\n",
       "      <td>HOUSTON</td>\n",
       "      <td>TX</td>\n",
       "      <td>77002</td>\n",
       "      <td>...</td>\n",
       "      <td>0.0</td>\n",
       "      <td>0.0</td>\n",
       "      <td>0.0</td>\n",
       "      <td>21.1</td>\n",
       "      <td>0.0</td>\n",
       "      <td>21.1</td>\n",
       "      <td>INITIAL</td>\n",
       "      <td>2016-06-14 10:20:08</td>\n",
       "      <td>2016-06-14 10:20:08</td>\n",
       "      <td>7000-1.1 (Rev. 06-2014)</td>\n",
       "    </tr>\n",
       "    <tr>\n",
       "      <th>1247</th>\n",
       "      <td>2019-07-01 11:03:57</td>\n",
       "      <td>2014</td>\n",
       "      <td>20151631</td>\n",
       "      <td>13891</td>\n",
       "      <td>10012</td>\n",
       "      <td>NUSTAR PIPELINE OPERATING PARTNERSHIP L.P.</td>\n",
       "      <td>P.O. BOX 781609</td>\n",
       "      <td>San Antonio</td>\n",
       "      <td>TX</td>\n",
       "      <td>78278</td>\n",
       "      <td>...</td>\n",
       "      <td>1.6</td>\n",
       "      <td>0.0</td>\n",
       "      <td>1.6</td>\n",
       "      <td>1998.6</td>\n",
       "      <td>1998.6</td>\n",
       "      <td>0.0</td>\n",
       "      <td>SUPPLEMENTAL</td>\n",
       "      <td>2015-06-15 20:29:59</td>\n",
       "      <td>2015-08-17 15:31:47</td>\n",
       "      <td>7000-1.1 (Rev. 06-2014)</td>\n",
       "    </tr>\n",
       "    <tr>\n",
       "      <th>1470</th>\n",
       "      <td>2019-07-01 11:03:57</td>\n",
       "      <td>2014</td>\n",
       "      <td>20151350</td>\n",
       "      <td>13471</td>\n",
       "      <td>31580</td>\n",
       "      <td>MAGELLAN TERMINALS HOLDINGS, LP</td>\n",
       "      <td>ONE WILLIAMS CENTER P.O. BOX 22186</td>\n",
       "      <td>TULSA</td>\n",
       "      <td>OK</td>\n",
       "      <td>74172</td>\n",
       "      <td>...</td>\n",
       "      <td>1.0</td>\n",
       "      <td>0.0</td>\n",
       "      <td>1.0</td>\n",
       "      <td>14.0</td>\n",
       "      <td>12.5</td>\n",
       "      <td>1.5</td>\n",
       "      <td>INITIAL</td>\n",
       "      <td>2015-06-10 09:27:08</td>\n",
       "      <td>2015-06-10 09:27:08</td>\n",
       "      <td>7000-1.1 (Rev. 06-2014)</td>\n",
       "    </tr>\n",
       "    <tr>\n",
       "      <th>4831</th>\n",
       "      <td>2019-07-01 11:08:29</td>\n",
       "      <td>2015</td>\n",
       "      <td>20162241</td>\n",
       "      <td>14513</td>\n",
       "      <td>26065</td>\n",
       "      <td>CHS MCPHERSON REFINERY INC.</td>\n",
       "      <td>2000 S. MAIN</td>\n",
       "      <td>MCPHERSON</td>\n",
       "      <td>KS</td>\n",
       "      <td>67460</td>\n",
       "      <td>...</td>\n",
       "      <td>0.0</td>\n",
       "      <td>0.0</td>\n",
       "      <td>0.0</td>\n",
       "      <td>0.0</td>\n",
       "      <td>0.0</td>\n",
       "      <td>0.0</td>\n",
       "      <td>INITIAL</td>\n",
       "      <td>2016-06-15 13:06:04</td>\n",
       "      <td>2016-06-15 13:06:04</td>\n",
       "      <td>7000-1.1 (Rev. 06-2014)</td>\n",
       "    </tr>\n",
       "    <tr>\n",
       "      <th>5149</th>\n",
       "      <td>2019-07-01 11:08:29</td>\n",
       "      <td>2015</td>\n",
       "      <td>20162297</td>\n",
       "      <td>14575</td>\n",
       "      <td>32631</td>\n",
       "      <td>TESORO GREAT PLAINS MIDSTREAM LLC</td>\n",
       "      <td>19100 RIDGEWOOD PARKWAY</td>\n",
       "      <td>SAN ANTONIO</td>\n",
       "      <td>TX</td>\n",
       "      <td>78259</td>\n",
       "      <td>...</td>\n",
       "      <td>115.6</td>\n",
       "      <td>0.0</td>\n",
       "      <td>115.6</td>\n",
       "      <td>115.6</td>\n",
       "      <td>115.6</td>\n",
       "      <td>0.0</td>\n",
       "      <td>INITIAL</td>\n",
       "      <td>2016-06-15 19:53:39</td>\n",
       "      <td>2016-06-15 19:53:39</td>\n",
       "      <td>7000-1.1 (Rev. 06-2014)</td>\n",
       "    </tr>\n",
       "  </tbody>\n",
       "</table>\n",
       "<p>5 rows × 85 columns</p>\n",
       "</div>"
      ],
      "text/plain": [
       "          DATAFILE_AS_OF  REPORT_YEAR  REPORT_NUMBER  SUPPLEMENTAL_NUMBER  \\\n",
       "5125 2019-07-01 11:08:29         2015       20162111                14370   \n",
       "1247 2019-07-01 11:03:57         2014       20151631                13891   \n",
       "1470 2019-07-01 11:03:57         2014       20151350                13471   \n",
       "4831 2019-07-01 11:08:29         2015       20162241                14513   \n",
       "5149 2019-07-01 11:08:29         2015       20162297                14575   \n",
       "\n",
       "      OPERATOR_ID                            PARTA2NAMEOFCOMP  \\\n",
       "5125        32532                    ENERGY XXI PIPELINE, LLC   \n",
       "1247        10012  NUSTAR PIPELINE OPERATING PARTNERSHIP L.P.   \n",
       "1470        31580             MAGELLAN TERMINALS HOLDINGS, LP   \n",
       "4831        26065                 CHS MCPHERSON REFINERY INC.   \n",
       "5149        32631           TESORO GREAT PLAINS MIDSTREAM LLC   \n",
       "\n",
       "                            PARTA4STREET   PARTA4CITY PARTA4STATE PARTA4ZIP  \\\n",
       "5125        1021 MAIN STREET, SUITE 2626      HOUSTON          TX     77002   \n",
       "1247                     P.O. BOX 781609  San Antonio          TX     78278   \n",
       "1470  ONE WILLIAMS CENTER P.O. BOX 22186        TULSA          OK     74172   \n",
       "4831                        2000 S. MAIN    MCPHERSON          KS     67460   \n",
       "5149             19100 RIDGEWOOD PARKWAY  SAN ANTONIO          TX     78259   \n",
       "\n",
       "      ... PARTE2010HF PARTE2010LF PARTE2010TOTAL PARTETOTAL  PARTETOTALHF  \\\n",
       "5125  ...         0.0         0.0            0.0       21.1           0.0   \n",
       "1247  ...         1.6         0.0            1.6     1998.6        1998.6   \n",
       "1470  ...         1.0         0.0            1.0       14.0          12.5   \n",
       "4831  ...         0.0         0.0            0.0        0.0           0.0   \n",
       "5149  ...       115.6         0.0          115.6      115.6         115.6   \n",
       "\n",
       "      PARTETOTALLF  REPORT_SUBMISSION_TYPE         REPORT_DATE  \\\n",
       "5125          21.1                 INITIAL 2016-06-14 10:20:08   \n",
       "1247           0.0            SUPPLEMENTAL 2015-06-15 20:29:59   \n",
       "1470           1.5                 INITIAL 2015-06-10 09:27:08   \n",
       "4831           0.0                 INITIAL 2016-06-15 13:06:04   \n",
       "5149           0.0                 INITIAL 2016-06-15 19:53:39   \n",
       "\n",
       "             FILING_DATE                 FORM_REV  \n",
       "5125 2016-06-14 10:20:08  7000-1.1 (Rev. 06-2014)  \n",
       "1247 2015-08-17 15:31:47  7000-1.1 (Rev. 06-2014)  \n",
       "1470 2015-06-10 09:27:08  7000-1.1 (Rev. 06-2014)  \n",
       "4831 2016-06-15 13:06:04  7000-1.1 (Rev. 06-2014)  \n",
       "5149 2016-06-15 19:53:39  7000-1.1 (Rev. 06-2014)  \n",
       "\n",
       "[5 rows x 85 columns]"
      ]
     },
     "execution_count": 10,
     "metadata": {},
     "output_type": "execute_result"
    }
   ],
   "source": [
    "pipelines = pd.concat([pd.read_excel(f'../data/pipeline_sytem_2019-08-01/{file}', skiprows=2) for file in pipeline_files])\n",
    "pipelines = pipelines.reset_index(drop = True)\n",
    "\n",
    "pipelines.sample(5)"
   ]
  },
  {
   "cell_type": "markdown",
   "metadata": {},
   "source": [
    "See which company has the vastest pipeline network."
   ]
  },
  {
   "cell_type": "code",
   "execution_count": 11,
   "metadata": {},
   "outputs": [
    {
     "data": {
      "text/html": [
       "<div>\n",
       "<style scoped>\n",
       "    .dataframe tbody tr th:only-of-type {\n",
       "        vertical-align: middle;\n",
       "    }\n",
       "\n",
       "    .dataframe tbody tr th {\n",
       "        vertical-align: top;\n",
       "    }\n",
       "\n",
       "    .dataframe thead th {\n",
       "        text-align: right;\n",
       "    }\n",
       "</style>\n",
       "<table border=\"1\" class=\"dataframe\">\n",
       "  <thead>\n",
       "    <tr style=\"text-align: right;\">\n",
       "      <th></th>\n",
       "      <th>REPORT_YEAR</th>\n",
       "      <th>OPERATOR_ID</th>\n",
       "      <th>PARTA2NAMEOFCOMP</th>\n",
       "      <th>PARTBHCATOTAL</th>\n",
       "    </tr>\n",
       "  </thead>\n",
       "  <tbody>\n",
       "    <tr>\n",
       "      <th>3631</th>\n",
       "      <td>2018</td>\n",
       "      <td>31618</td>\n",
       "      <td>ENTERPRISE PRODUCTS OPERATING LLC</td>\n",
       "      <td>7726.183</td>\n",
       "    </tr>\n",
       "    <tr>\n",
       "      <th>3700</th>\n",
       "      <td>2018</td>\n",
       "      <td>32109</td>\n",
       "      <td>ONEOK NGL PIPELINE, LLC</td>\n",
       "      <td>4531.480</td>\n",
       "    </tr>\n",
       "    <tr>\n",
       "      <th>4708</th>\n",
       "      <td>2015</td>\n",
       "      <td>2552</td>\n",
       "      <td>COLONIAL PIPELINE CO</td>\n",
       "      <td>4500.920</td>\n",
       "    </tr>\n",
       "    <tr>\n",
       "      <th>4700</th>\n",
       "      <td>2015</td>\n",
       "      <td>1845</td>\n",
       "      <td>BUCKEYE PARTNERS, LP</td>\n",
       "      <td>4266.430</td>\n",
       "    </tr>\n",
       "    <tr>\n",
       "      <th>3483</th>\n",
       "      <td>2018</td>\n",
       "      <td>22610</td>\n",
       "      <td>MAGELLAN PIPELINE COMPANY, LP</td>\n",
       "      <td>3926.400</td>\n",
       "    </tr>\n",
       "    <tr>\n",
       "      <th>4120</th>\n",
       "      <td>2016</td>\n",
       "      <td>15674</td>\n",
       "      <td>PLANTATION PIPE LINE CO</td>\n",
       "      <td>2564.730</td>\n",
       "    </tr>\n",
       "    <tr>\n",
       "      <th>4020</th>\n",
       "      <td>2016</td>\n",
       "      <td>300</td>\n",
       "      <td>PLAINS PIPELINE, L.P.</td>\n",
       "      <td>2312.330</td>\n",
       "    </tr>\n",
       "    <tr>\n",
       "      <th>67</th>\n",
       "      <td>2017</td>\n",
       "      <td>11169</td>\n",
       "      <td>ENBRIDGE ENERGY, LIMITED PARTNERSHIP</td>\n",
       "      <td>2290.000</td>\n",
       "    </tr>\n",
       "    <tr>\n",
       "      <th>3186</th>\n",
       "      <td>2010</td>\n",
       "      <td>31684</td>\n",
       "      <td>CONOCOPHILLIPS</td>\n",
       "      <td>2283.790</td>\n",
       "    </tr>\n",
       "    <tr>\n",
       "      <th>2693</th>\n",
       "      <td>2013</td>\n",
       "      <td>32147</td>\n",
       "      <td>MARATHON PIPE LINE LLC</td>\n",
       "      <td>2281.900</td>\n",
       "    </tr>\n",
       "  </tbody>\n",
       "</table>\n",
       "</div>"
      ],
      "text/plain": [
       "      REPORT_YEAR  OPERATOR_ID                      PARTA2NAMEOFCOMP  \\\n",
       "3631         2018        31618     ENTERPRISE PRODUCTS OPERATING LLC   \n",
       "3700         2018        32109               ONEOK NGL PIPELINE, LLC   \n",
       "4708         2015         2552                  COLONIAL PIPELINE CO   \n",
       "4700         2015         1845                  BUCKEYE PARTNERS, LP   \n",
       "3483         2018        22610         MAGELLAN PIPELINE COMPANY, LP   \n",
       "4120         2016        15674               PLANTATION PIPE LINE CO   \n",
       "4020         2016          300                 PLAINS PIPELINE, L.P.   \n",
       "67           2017        11169  ENBRIDGE ENERGY, LIMITED PARTNERSHIP   \n",
       "3186         2010        31684                        CONOCOPHILLIPS   \n",
       "2693         2013        32147                MARATHON PIPE LINE LLC   \n",
       "\n",
       "      PARTBHCATOTAL  \n",
       "3631       7726.183  \n",
       "3700       4531.480  \n",
       "4708       4500.920  \n",
       "4700       4266.430  \n",
       "3483       3926.400  \n",
       "4120       2564.730  \n",
       "4020       2312.330  \n",
       "67         2290.000  \n",
       "3186       2283.790  \n",
       "2693       2281.900  "
      ]
     },
     "execution_count": 11,
     "metadata": {},
     "output_type": "execute_result"
    }
   ],
   "source": [
    "pipelines.loc[pipelines.groupby('OPERATOR_ID')['PARTBHCATOTAL'].idxmax()].nlargest(10, 'PARTBHCATOTAL')[['REPORT_YEAR', 'OPERATOR_ID', 'PARTA2NAMEOFCOMP', 'PARTBHCATOTAL']]"
   ]
  },
  {
   "cell_type": "code",
   "execution_count": 12,
   "metadata": {},
   "outputs": [
    {
     "data": {
      "text/plain": [
       "3631"
      ]
     },
     "execution_count": 12,
     "metadata": {},
     "output_type": "execute_result"
    }
   ],
   "source": [
    "pipelines['PARTBHCATOTAL'].idxmax()"
   ]
  },
  {
   "cell_type": "markdown",
   "metadata": {},
   "source": [
    "## 2.3 FERC Notices"
   ]
  },
  {
   "cell_type": "code",
   "execution_count": 13,
   "metadata": {},
   "outputs": [],
   "source": [
    "notices = pd.read_csv('../data/ferc_notices_2019-08-01.csv')"
   ]
  },
  {
   "cell_type": "code",
   "execution_count": 14,
   "metadata": {},
   "outputs": [
    {
     "data": {
      "text/plain": [
       "27890"
      ]
     },
     "execution_count": 14,
     "metadata": {},
     "output_type": "execute_result"
    }
   ],
   "source": [
    "len(notices)"
   ]
  },
  {
   "cell_type": "markdown",
   "metadata": {},
   "source": [
    "Check whether any notes were read incorrectly (too many requests)."
   ]
  },
  {
   "cell_type": "code",
   "execution_count": 15,
   "metadata": {},
   "outputs": [
    {
     "data": {
      "text/plain": [
       "False    27890\n",
       "Name: full-text, dtype: int64"
      ]
     },
     "execution_count": 15,
     "metadata": {},
     "output_type": "execute_result"
    }
   ],
   "source": [
    "notices['full-text'].str.contains('too manyrequests').value_counts()"
   ]
  }
 ],
 "metadata": {
  "kernelspec": {
   "display_name": "oil_industry",
   "language": "python",
   "name": "oil_industry"
  },
  "language_info": {
   "codemirror_mode": {
    "name": "ipython",
    "version": 3
   },
   "file_extension": ".py",
   "mimetype": "text/x-python",
   "name": "python",
   "nbconvert_exporter": "python",
   "pygments_lexer": "ipython3",
   "version": "3.6.8"
  },
  "pycharm": {
   "stem_cell": {
    "cell_type": "raw",
    "metadata": {
     "collapsed": false
    },
    "source": []
   }
  }
 },
 "nbformat": 4,
 "nbformat_minor": 4
}
