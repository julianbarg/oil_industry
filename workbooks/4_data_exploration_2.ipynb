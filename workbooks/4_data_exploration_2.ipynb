{
 "cells": [
  {
   "cell_type": "markdown",
   "metadata": {},
   "source": [
    "# 4. Data exploration"
   ]
  },
  {
   "cell_type": "markdown",
   "metadata": {},
   "source": [
    "We want to figure out what kind of problems we can expect to encounter."
   ]
  },
  {
   "cell_type": "code",
   "execution_count": 1,
   "metadata": {},
   "outputs": [],
   "source": [
    "import pandas as pd\n",
    "import matplotlib.pyplot as plt"
   ]
  },
  {
   "cell_type": "code",
   "execution_count": 2,
   "metadata": {},
   "outputs": [],
   "source": [
    "pipelines_2004_selected_file = '../preprocessed_data/pipelines_2004_selected_2019-08-11.feather'\n",
    "pipelines_2010_selected_file = '../preprocessed_data/pipelines_2010_selected_2019-08-03.feather'\n",
    "\n",
    "incidents_selected = '../preprocessed_data/incidents_filtered_2019-08-11.feather'"
   ]
  },
  {
   "cell_type": "markdown",
   "metadata": {},
   "source": [
    "## Read data"
   ]
  },
  {
   "cell_type": "code",
   "execution_count": 3,
   "metadata": {},
   "outputs": [
    {
     "data": {
      "text/html": [
       "<div>\n",
       "<style scoped>\n",
       "    .dataframe tbody tr th:only-of-type {\n",
       "        vertical-align: middle;\n",
       "    }\n",
       "\n",
       "    .dataframe tbody tr th {\n",
       "        vertical-align: top;\n",
       "    }\n",
       "\n",
       "    .dataframe thead th {\n",
       "        text-align: right;\n",
       "    }\n",
       "</style>\n",
       "<table border=\"1\" class=\"dataframe\">\n",
       "  <thead>\n",
       "    <tr style=\"text-align: right;\">\n",
       "      <th></th>\n",
       "      <th>OPERATOR_ID</th>\n",
       "      <th>YEAR</th>\n",
       "      <th>NAME</th>\n",
       "      <th>MILES_TOTAL</th>\n",
       "    </tr>\n",
       "  </thead>\n",
       "  <tbody>\n",
       "    <tr>\n",
       "      <th>242</th>\n",
       "      <td>30909</td>\n",
       "      <td>2008</td>\n",
       "      <td>TRANSMONTAIGNE PRODUCTS SERVICES INC</td>\n",
       "      <td>11.00</td>\n",
       "    </tr>\n",
       "    <tr>\n",
       "      <th>2515</th>\n",
       "      <td>31527</td>\n",
       "      <td>2007</td>\n",
       "      <td>GORDON TERMINAL SERVICES</td>\n",
       "      <td>4.94</td>\n",
       "    </tr>\n",
       "    <tr>\n",
       "      <th>1852</th>\n",
       "      <td>4906</td>\n",
       "      <td>2004</td>\n",
       "      <td>EXXONMOBIL PIPELINE COMPANY</td>\n",
       "      <td>766.00</td>\n",
       "    </tr>\n",
       "  </tbody>\n",
       "</table>\n",
       "</div>"
      ],
      "text/plain": [
       "     OPERATOR_ID  YEAR                                  NAME  MILES_TOTAL\n",
       "242        30909  2008  TRANSMONTAIGNE PRODUCTS SERVICES INC        11.00\n",
       "2515       31527  2007              GORDON TERMINAL SERVICES         4.94\n",
       "1852        4906  2004           EXXONMOBIL PIPELINE COMPANY       766.00"
      ]
     },
     "execution_count": 3,
     "metadata": {},
     "output_type": "execute_result"
    }
   ],
   "source": [
    "pipelines_2004 = pd.read_feather(pipelines_2004_selected_file)\n",
    "pipelines_2004.sample(3)"
   ]
  },
  {
   "cell_type": "code",
   "execution_count": 4,
   "metadata": {},
   "outputs": [
    {
     "data": {
      "text/html": [
       "<div>\n",
       "<style scoped>\n",
       "    .dataframe tbody tr th:only-of-type {\n",
       "        vertical-align: middle;\n",
       "    }\n",
       "\n",
       "    .dataframe tbody tr th {\n",
       "        vertical-align: top;\n",
       "    }\n",
       "\n",
       "    .dataframe thead th {\n",
       "        text-align: right;\n",
       "    }\n",
       "</style>\n",
       "<table border=\"1\" class=\"dataframe\">\n",
       "  <thead>\n",
       "    <tr style=\"text-align: right;\">\n",
       "      <th></th>\n",
       "      <th>OPERATOR_ID</th>\n",
       "      <th>YEAR</th>\n",
       "      <th>NAME</th>\n",
       "      <th>COMMODITY</th>\n",
       "      <th>MILES</th>\n",
       "    </tr>\n",
       "  </thead>\n",
       "  <tbody>\n",
       "    <tr>\n",
       "      <th>138</th>\n",
       "      <td>26026</td>\n",
       "      <td>2017</td>\n",
       "      <td>MARKWEST RANGER PIPELINE COMPANY, L.L.C.</td>\n",
       "      <td>HVL</td>\n",
       "      <td>81.49</td>\n",
       "    </tr>\n",
       "    <tr>\n",
       "      <th>3103</th>\n",
       "      <td>31178</td>\n",
       "      <td>2010</td>\n",
       "      <td>XTO ENERGY INC</td>\n",
       "      <td>CO2</td>\n",
       "      <td>0.00</td>\n",
       "    </tr>\n",
       "    <tr>\n",
       "      <th>2169</th>\n",
       "      <td>32179</td>\n",
       "      <td>2012</td>\n",
       "      <td>EXXONMOBIL BILLINGS REFINERY</td>\n",
       "      <td>Crude Oil</td>\n",
       "      <td>0.00</td>\n",
       "    </tr>\n",
       "  </tbody>\n",
       "</table>\n",
       "</div>"
      ],
      "text/plain": [
       "      OPERATOR_ID  YEAR                                      NAME  COMMODITY  \\\n",
       "138         26026  2017  MARKWEST RANGER PIPELINE COMPANY, L.L.C.        HVL   \n",
       "3103        31178  2010                            XTO ENERGY INC        CO2   \n",
       "2169        32179  2012              EXXONMOBIL BILLINGS REFINERY  Crude Oil   \n",
       "\n",
       "      MILES  \n",
       "138   81.49  \n",
       "3103   0.00  \n",
       "2169   0.00  "
      ]
     },
     "execution_count": 4,
     "metadata": {},
     "output_type": "execute_result"
    }
   ],
   "source": [
    "pipelines_2010 = pd.read_feather(pipelines_2010_selected_file)\n",
    "pipelines_2010.sample(3)"
   ]
  },
  {
   "cell_type": "markdown",
   "metadata": {},
   "source": [
    "## 4.1 Check for inconsistency between old (2004-2009) and new (2010-present) reporting"
   ]
  },
  {
   "cell_type": "code",
   "execution_count": 5,
   "metadata": {},
   "outputs": [
    {
     "data": {
      "text/plain": [
       "<matplotlib.axes._subplots.AxesSubplot at 0x7f9b99ee6f28>"
      ]
     },
     "execution_count": 5,
     "metadata": {},
     "output_type": "execute_result"
    },
    {
     "data": {
      "image/png": "[encoded data removed]",
      "text/plain": [
       "<Figure size 1080x504 with 1 Axes>"
      ]
     },
     "metadata": {
      "needs_background": "light"
     },
     "output_type": "display_data"
    }
   ],
   "source": [
    "pipelines_2004.groupby('YEAR')['MILES_TOTAL'].sum().plot.bar(figsize=(15, 7))"
   ]
  },
  {
   "cell_type": "code",
   "execution_count": 6,
   "metadata": {},
   "outputs": [
    {
     "data": {
      "text/plain": [
       "<matplotlib.axes._subplots.AxesSubplot at 0x7f9b953aeef0>"
      ]
     },
     "execution_count": 6,
     "metadata": {},
     "output_type": "execute_result"
    },
    {
     "data": {
      "image/png": "[encoded data removed]",
      "text/plain": [
       "<Figure size 1080x504 with 1 Axes>"
      ]
     },
     "metadata": {
      "needs_background": "light"
     },
     "output_type": "display_data"
    }
   ],
   "source": [
    "pipelines_2010.groupby('YEAR')['MILES'].sum().plot.bar(figsize=(15, 7))"
   ]
  },
  {
   "cell_type": "markdown",
   "metadata": {},
   "source": [
    "At least it seems the data reported is the same, albeit grouped differently."
   ]
  },
  {
   "cell_type": "markdown",
   "metadata": {},
   "source": [
    "## 4.2 Number of observations in the new data"
   ]
  },
  {
   "cell_type": "code",
   "execution_count": 7,
   "metadata": {},
   "outputs": [],
   "source": [
    "import rpy2.rinterface"
   ]
  },
  {
   "cell_type": "code",
   "execution_count": 8,
   "metadata": {},
   "outputs": [],
   "source": [
    "%load_ext rpy2.ipython"
   ]
  },
  {
   "cell_type": "code",
   "execution_count": 9,
   "metadata": {},
   "outputs": [
    {
     "data": {
      "image/png": "[encoded data removed]"
     },
     "metadata": {},
     "output_type": "display_data"
    }
   ],
   "source": [
    "%%R -i pipelines_2010 -w 1024\n",
    "suppressMessages(library(tidyverse))\n",
    "\n",
    "pipelines_2010 %>%\n",
    "    group_by(OPERATOR_ID) %>%\n",
    "    summarize(n=n()) %>%\n",
    "    ggplot(aes(x=n)) +\n",
    "        geom_histogram(bins=40)"
   ]
  },
  {
   "cell_type": "markdown",
   "metadata": {},
   "source": [
    "## 4.3 Find sources of inconsistency in incidents data"
   ]
  },
  {
   "cell_type": "markdown",
   "metadata": {},
   "source": [
    "#### Read incidents data"
   ]
  },
  {
   "cell_type": "code",
   "execution_count": 10,
   "metadata": {},
   "outputs": [
    {
     "data": {
      "text/html": [
       "<div>\n",
       "<style scoped>\n",
       "    .dataframe tbody tr th:only-of-type {\n",
       "        vertical-align: middle;\n",
       "    }\n",
       "\n",
       "    .dataframe tbody tr th {\n",
       "        vertical-align: top;\n",
       "    }\n",
       "\n",
       "    .dataframe thead th {\n",
       "        text-align: right;\n",
       "    }\n",
       "</style>\n",
       "<table border=\"1\" class=\"dataframe\">\n",
       "  <thead>\n",
       "    <tr style=\"text-align: right;\">\n",
       "      <th></th>\n",
       "      <th>OPERATOR_ID</th>\n",
       "      <th>LOCAL_DATETIME</th>\n",
       "      <th>NAME</th>\n",
       "      <th>SERIOUS</th>\n",
       "      <th>SIGNIFICANT</th>\n",
       "      <th>LOCATION_LATITUDE</th>\n",
       "      <th>LOCATION_LONGITUDE</th>\n",
       "    </tr>\n",
       "  </thead>\n",
       "  <tbody>\n",
       "    <tr>\n",
       "      <th>1885</th>\n",
       "      <td>1845</td>\n",
       "      <td>2014-12-17 09:40:00</td>\n",
       "      <td>BUCKEYE PARTNERS, LP</td>\n",
       "      <td>False</td>\n",
       "      <td>False</td>\n",
       "      <td>41.643229</td>\n",
       "      <td>-87.467121</td>\n",
       "    </tr>\n",
       "    <tr>\n",
       "      <th>17</th>\n",
       "      <td>31174</td>\n",
       "      <td>2010-01-27 15:30:00</td>\n",
       "      <td>SHELL PIPELINE CO., L.P.</td>\n",
       "      <td>False</td>\n",
       "      <td>False</td>\n",
       "      <td>29.891600</td>\n",
       "      <td>-93.989700</td>\n",
       "    </tr>\n",
       "    <tr>\n",
       "      <th>1445</th>\n",
       "      <td>1845</td>\n",
       "      <td>2013-12-18 13:30:00</td>\n",
       "      <td>BUCKEYE PARTNERS, LP</td>\n",
       "      <td>False</td>\n",
       "      <td>False</td>\n",
       "      <td>40.519999</td>\n",
       "      <td>-75.531339</td>\n",
       "    </tr>\n",
       "    <tr>\n",
       "      <th>1771</th>\n",
       "      <td>300</td>\n",
       "      <td>2014-09-01 07:10:00</td>\n",
       "      <td>PLAINS PIPELINE, L.P.</td>\n",
       "      <td>False</td>\n",
       "      <td>False</td>\n",
       "      <td>32.081519</td>\n",
       "      <td>-103.180924</td>\n",
       "    </tr>\n",
       "    <tr>\n",
       "      <th>3779</th>\n",
       "      <td>31618</td>\n",
       "      <td>2019-05-16 17:20:00</td>\n",
       "      <td>ENTERPRISE PRODUCTS OPERATING LLC</td>\n",
       "      <td>False</td>\n",
       "      <td>True</td>\n",
       "      <td>30.414900</td>\n",
       "      <td>-95.325300</td>\n",
       "    </tr>\n",
       "  </tbody>\n",
       "</table>\n",
       "</div>"
      ],
      "text/plain": [
       "      OPERATOR_ID      LOCAL_DATETIME                               NAME  \\\n",
       "1885         1845 2014-12-17 09:40:00               BUCKEYE PARTNERS, LP   \n",
       "17          31174 2010-01-27 15:30:00           SHELL PIPELINE CO., L.P.   \n",
       "1445         1845 2013-12-18 13:30:00               BUCKEYE PARTNERS, LP   \n",
       "1771          300 2014-09-01 07:10:00              PLAINS PIPELINE, L.P.   \n",
       "3779        31618 2019-05-16 17:20:00  ENTERPRISE PRODUCTS OPERATING LLC   \n",
       "\n",
       "      SERIOUS  SIGNIFICANT  LOCATION_LATITUDE  LOCATION_LONGITUDE  \n",
       "1885    False        False          41.643229          -87.467121  \n",
       "17      False        False          29.891600          -93.989700  \n",
       "1445    False        False          40.519999          -75.531339  \n",
       "1771    False        False          32.081519         -103.180924  \n",
       "3779    False         True          30.414900          -95.325300  "
      ]
     },
     "execution_count": 10,
     "metadata": {},
     "output_type": "execute_result"
    }
   ],
   "source": [
    "incidents = pd.read_feather(incidents_selected)\n",
    "incidents.sample(5)"
   ]
  },
  {
   "cell_type": "markdown",
   "metadata": {},
   "source": [
    "## Incidents data - find source of inconsistency in name vs ID column"
   ]
  },
  {
   "cell_type": "markdown",
   "metadata": {},
   "source": [
    "Here, we sample the largest observations to see what kind of issues we might expect to see later on."
   ]
  },
  {
   "cell_type": "code",
   "execution_count": 11,
   "metadata": {},
   "outputs": [
    {
     "data": {
      "text/plain": [
       "ENTERPRISE CRUDE PIPELINE LLC          276\n",
       "ENTERPRISE PRODUCTS OPERATING LLC      214\n",
       "SUNOCO PIPELINE L.P.                   211\n",
       "PLAINS PIPELINE, L.P.                  203\n",
       "MAGELLAN PIPELINE COMPANY, LP          180\n",
       "COLONIAL PIPELINE CO                   177\n",
       "BUCKEYE PARTNERS, LP                   148\n",
       "PHILLIPS 66 PIPELINE LLC               121\n",
       "KINDER MORGAN LIQUID TERMINALS, LLC    117\n",
       "MARATHON PIPE LINE LLC                 111\n",
       "Name: NAME, dtype: int64"
      ]
     },
     "execution_count": 11,
     "metadata": {},
     "output_type": "execute_result"
    }
   ],
   "source": [
    "incidents['NAME'].value_counts().head(10)"
   ]
  },
  {
   "cell_type": "code",
   "execution_count": 12,
   "metadata": {},
   "outputs": [
    {
     "data": {
      "text/plain": [
       "30829    282\n",
       "31618    214\n",
       "18718    211\n",
       "300      202\n",
       "22610    180\n",
       "2552     177\n",
       "31684    155\n",
       "1845     148\n",
       "26041    117\n",
       "32109    112\n",
       "Name: OPERATOR_ID, dtype: int64"
      ]
     },
     "execution_count": 12,
     "metadata": {},
     "output_type": "execute_result"
    }
   ],
   "source": [
    "incidents['OPERATOR_ID'].value_counts().head(10)"
   ]
  },
  {
   "cell_type": "markdown",
   "metadata": {},
   "source": [
    "It is possible that companies changed their name, which led to the discrepancy. But considering how little off the numbers are, it seems far more likely that there are typos/inconsistencies in naming, which occured during data entry."
   ]
  },
  {
   "cell_type": "code",
   "execution_count": 13,
   "metadata": {},
   "outputs": [],
   "source": [
    "def find_ranges(df, column):\n",
    "    for entry in list(df[column].unique()):\n",
    "        start_date = df[df[column] == entry]['LOCAL_DATETIME'].min()\n",
    "        end_date = df[df[column] == entry]['LOCAL_DATETIME'].max()\n",
    "        print(f'''\n",
    "        Entry:      {entry}\n",
    "        Start date: {start_date}\n",
    "        End date :  {end_date}''')"
   ]
  },
  {
   "cell_type": "code",
   "execution_count": 14,
   "metadata": {},
   "outputs": [
    {
     "name": "stdout",
     "output_type": "stream",
     "text": [
      "\n",
      "        Entry:      TEPPCO CRUDE PIPELINE, LLC\n",
      "        Start date: 2010-03-15 10:00:00\n",
      "        End date :  2010-08-05 15:00:00\n",
      "\n",
      "        Entry:      ENTERPRISE CRUDE PIPELINE LLC\n",
      "        Start date: 2010-10-26 09:30:00\n",
      "        End date :  2019-06-27 10:15:00\n"
     ]
    }
   ],
   "source": [
    "find_ranges(incidents.loc[incidents['OPERATOR_ID'] == 30829], 'NAME')"
   ]
  },
  {
   "cell_type": "code",
   "execution_count": 15,
   "metadata": {},
   "outputs": [
    {
     "name": "stdout",
     "output_type": "stream",
     "text": [
      "\n",
      "        Entry:      300\n",
      "        Start date: 2010-01-07 13:00:00\n",
      "        End date :  2019-06-19 07:30:00\n",
      "\n",
      "        Entry:      26085\n",
      "        Start date: 2019-01-24 17:23:00\n",
      "        End date :  2019-01-24 17:23:00\n"
     ]
    }
   ],
   "source": [
    "find_ranges(incidents.loc[incidents['NAME'] == 'PLAINS PIPELINE, L.P.'], 'OPERATOR_ID')"
   ]
  },
  {
   "cell_type": "code",
   "execution_count": 16,
   "metadata": {},
   "outputs": [
    {
     "data": {
      "text/html": [
       "<div>\n",
       "<style scoped>\n",
       "    .dataframe tbody tr th:only-of-type {\n",
       "        vertical-align: middle;\n",
       "    }\n",
       "\n",
       "    .dataframe tbody tr th {\n",
       "        vertical-align: top;\n",
       "    }\n",
       "\n",
       "    .dataframe thead th {\n",
       "        text-align: right;\n",
       "    }\n",
       "</style>\n",
       "<table border=\"1\" class=\"dataframe\">\n",
       "  <thead>\n",
       "    <tr style=\"text-align: right;\">\n",
       "      <th></th>\n",
       "      <th>OPERATOR_ID</th>\n",
       "      <th>LOCAL_DATETIME</th>\n",
       "      <th>NAME</th>\n",
       "      <th>SERIOUS</th>\n",
       "      <th>SIGNIFICANT</th>\n",
       "      <th>LOCATION_LATITUDE</th>\n",
       "      <th>LOCATION_LONGITUDE</th>\n",
       "    </tr>\n",
       "  </thead>\n",
       "  <tbody>\n",
       "    <tr>\n",
       "      <th>2990</th>\n",
       "      <td>26085</td>\n",
       "      <td>2017-07-06 06:04:00</td>\n",
       "      <td>PLAINS MARKETING, L.P.</td>\n",
       "      <td>False</td>\n",
       "      <td>True</td>\n",
       "      <td>35.054057</td>\n",
       "      <td>-119.314820</td>\n",
       "    </tr>\n",
       "    <tr>\n",
       "      <th>3297</th>\n",
       "      <td>26085</td>\n",
       "      <td>2018-03-19 15:10:00</td>\n",
       "      <td>PLAINS MARKETING, L.P.</td>\n",
       "      <td>False</td>\n",
       "      <td>False</td>\n",
       "      <td>33.862523</td>\n",
       "      <td>-118.223255</td>\n",
       "    </tr>\n",
       "    <tr>\n",
       "      <th>3461</th>\n",
       "      <td>26085</td>\n",
       "      <td>2018-08-29 15:30:00</td>\n",
       "      <td>PLAINS MARKETING, L.P.</td>\n",
       "      <td>False</td>\n",
       "      <td>False</td>\n",
       "      <td>35.054400</td>\n",
       "      <td>-119.317800</td>\n",
       "    </tr>\n",
       "    <tr>\n",
       "      <th>3469</th>\n",
       "      <td>26085</td>\n",
       "      <td>2018-09-08 09:30:00</td>\n",
       "      <td>PLAINS MARKETING, L.P.</td>\n",
       "      <td>False</td>\n",
       "      <td>False</td>\n",
       "      <td>30.003623</td>\n",
       "      <td>-90.855824</td>\n",
       "    </tr>\n",
       "    <tr>\n",
       "      <th>3639</th>\n",
       "      <td>26085</td>\n",
       "      <td>2019-01-24 17:23:00</td>\n",
       "      <td>PLAINS PIPELINE, L.P.</td>\n",
       "      <td>False</td>\n",
       "      <td>False</td>\n",
       "      <td>32.013470</td>\n",
       "      <td>-102.016347</td>\n",
       "    </tr>\n",
       "  </tbody>\n",
       "</table>\n",
       "</div>"
      ],
      "text/plain": [
       "      OPERATOR_ID      LOCAL_DATETIME                    NAME  SERIOUS  \\\n",
       "2990        26085 2017-07-06 06:04:00  PLAINS MARKETING, L.P.    False   \n",
       "3297        26085 2018-03-19 15:10:00  PLAINS MARKETING, L.P.    False   \n",
       "3461        26085 2018-08-29 15:30:00  PLAINS MARKETING, L.P.    False   \n",
       "3469        26085 2018-09-08 09:30:00  PLAINS MARKETING, L.P.    False   \n",
       "3639        26085 2019-01-24 17:23:00   PLAINS PIPELINE, L.P.    False   \n",
       "\n",
       "      SIGNIFICANT  LOCATION_LATITUDE  LOCATION_LONGITUDE  \n",
       "2990         True          35.054057         -119.314820  \n",
       "3297        False          33.862523         -118.223255  \n",
       "3461        False          35.054400         -119.317800  \n",
       "3469        False          30.003623          -90.855824  \n",
       "3639        False          32.013470         -102.016347  "
      ]
     },
     "execution_count": 16,
     "metadata": {},
     "output_type": "execute_result"
    }
   ],
   "source": [
    "incidents.loc[incidents['OPERATOR_ID'] == 26085].tail()"
   ]
  },
  {
   "cell_type": "markdown",
   "metadata": {},
   "source": [
    "The two segments were merged? Seems like for this observation, it would be fair to work with the operator id."
   ]
  },
  {
   "cell_type": "code",
   "execution_count": 17,
   "metadata": {},
   "outputs": [
    {
     "name": "stdout",
     "output_type": "stream",
     "text": [
      "\n",
      "        Entry:      CONOCOPHILLIPS\n",
      "        Start date: 2010-01-11 14:30:00\n",
      "        End date :  2012-04-19 16:37:00\n",
      "\n",
      "        Entry:      PHILLIPS 66 PIPELINE LLC\n",
      "        Start date: 2012-05-23 07:30:00\n",
      "        End date :  2019-06-24 04:35:00\n"
     ]
    }
   ],
   "source": [
    "find_ranges(incidents.loc[incidents['OPERATOR_ID'] == 31684], 'NAME')"
   ]
  },
  {
   "cell_type": "markdown",
   "metadata": {},
   "source": [
    "Phillips 66 is a spin-off (https://en.wikipedia.org/wiki/ConocoPhillips)"
   ]
  },
  {
   "cell_type": "code",
   "execution_count": 18,
   "metadata": {},
   "outputs": [
    {
     "name": "stdout",
     "output_type": "stream",
     "text": [
      "\n",
      "        Entry:      ONEOK NGL PIPELINE LP\n",
      "        Start date: 2010-01-01 07:15:00\n",
      "        End date :  2012-05-01 18:15:00\n",
      "\n",
      "        Entry:      ONEOK NGL PIPELINE, LLC\n",
      "        Start date: 2012-08-19 22:30:00\n",
      "        End date :  2019-06-23 06:58:00\n"
     ]
    }
   ],
   "source": [
    "find_ranges(incidents.loc[incidents['OPERATOR_ID'] == 32109], 'NAME')"
   ]
  },
  {
   "cell_type": "markdown",
   "metadata": {},
   "source": [
    "Changed legal status."
   ]
  },
  {
   "cell_type": "code",
   "execution_count": null,
   "metadata": {},
   "outputs": [],
   "source": []
  }
 ],
 "metadata": {
  "jupytext": {
   "formats": "ipynb,Rmd"
  },
  "kernelspec": {
   "display_name": "oil_industry",
   "language": "python",
   "name": "oil_industry"
  },
  "language_info": {
   "codemirror_mode": {
    "name": "ipython",
    "version": 3
   },
   "file_extension": ".py",
   "mimetype": "text/x-python",
   "name": "python",
   "nbconvert_exporter": "python",
   "pygments_lexer": "ipython3",
   "version": "3.6.8"
  }
 },
 "nbformat": 4,
 "nbformat_minor": 4
}
