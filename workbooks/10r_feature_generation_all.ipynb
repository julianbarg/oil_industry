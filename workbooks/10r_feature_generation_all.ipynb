{
 "cells": [
  {
   "cell_type": "markdown",
   "metadata": {},
   "source": [
    "# 10. Feature generation - all commodities combined (R)"
   ]
  },
  {
   "cell_type": "code",
   "execution_count": 1,
   "metadata": {},
   "outputs": [
    {
     "name": "stderr",
     "output_type": "stream",
     "text": [
      "Registered S3 methods overwritten by 'ggplot2':\n",
      "  method         from \n",
      "  [.quosures     rlang\n",
      "  c.quosures     rlang\n",
      "  print.quosures rlang\n",
      "Registered S3 method overwritten by 'rvest':\n",
      "  method            from\n",
      "  read_xml.response xml2\n",
      "── \u001b[1mAttaching packages\u001b[22m ─────────────────────────────────────── tidyverse 1.2.1 ──\n",
      "\u001b[32m✔\u001b[39m \u001b[34mggplot2\u001b[39m 3.1.1       \u001b[32m✔\u001b[39m \u001b[34mpurrr  \u001b[39m 0.3.2  \n",
      "\u001b[32m✔\u001b[39m \u001b[34mtibble \u001b[39m 2.1.1       \u001b[32m✔\u001b[39m \u001b[34mdplyr  \u001b[39m 0.8.0.\u001b[31m1\u001b[39m\n",
      "\u001b[32m✔\u001b[39m \u001b[34mtidyr  \u001b[39m 0.8.3       \u001b[32m✔\u001b[39m \u001b[34mstringr\u001b[39m 1.4.0  \n",
      "\u001b[32m✔\u001b[39m \u001b[34mreadr  \u001b[39m 1.3.1       \u001b[32m✔\u001b[39m \u001b[34mforcats\u001b[39m 0.4.0  \n",
      "── \u001b[1mConflicts\u001b[22m ────────────────────────────────────────── tidyverse_conflicts() ──\n",
      "\u001b[31m✖\u001b[39m \u001b[34mdplyr\u001b[39m::\u001b[32mfilter()\u001b[39m masks \u001b[34mstats\u001b[39m::filter()\n",
      "\u001b[31m✖\u001b[39m \u001b[34mdplyr\u001b[39m::\u001b[32mlag()\u001b[39m    masks \u001b[34mstats\u001b[39m::lag()\n"
     ]
    }
   ],
   "source": [
    "library(tidyverse)"
   ]
  },
  {
   "cell_type": "code",
   "execution_count": 2,
   "metadata": {},
   "outputs": [],
   "source": [
    "good_look <- function(x, start=2, end=5){\n",
    "    return(x[, c(1:start, (ncol(x) - end):ncol(x))])\n",
    "}"
   ]
  },
  {
   "cell_type": "code",
   "execution_count": 3,
   "metadata": {},
   "outputs": [],
   "source": [
    "sample_consolidated_file <- \"../preprocessed_data/sample_consolidated_2019-09-10.feather\""
   ]
  },
  {
   "cell_type": "markdown",
   "metadata": {},
   "source": [
    "## Read data"
   ]
  },
  {
   "cell_type": "code",
   "execution_count": 4,
   "metadata": {},
   "outputs": [
    {
     "name": "stdout",
     "output_type": "stream",
     "text": [
      "Observations: 2,123\n",
      "Variables: 23\n",
      "$ YEAR                  \u001b[3m\u001b[38;5;246m<dbl>\u001b[39m\u001b[23m 2004, 2004, 2004, 2004, 2004, 2004, 2004, 2004,…\n",
      "$ COMMODITY             \u001b[3m\u001b[38;5;246m<chr>\u001b[39m\u001b[23m \"crude\", \"hvl\", \"non-hvl\", \"hvl\", \"non-hvl\", \"h…\n",
      "$ OPERATOR_ID           \u001b[3m\u001b[38;5;246m<chr>\u001b[39m\u001b[23m \"BP (Group)\", \"BP (Group)\", \"BP (Group)\", \"Chev…\n",
      "$ NAME                  \u001b[3m\u001b[38;5;246m<chr>\u001b[39m\u001b[23m \"BP (Group)\", \"BP (Group)\", \"BP (Group)\", \"Chev…\n",
      "$ MILES                 \u001b[3m\u001b[38;5;246m<dbl>\u001b[39m\u001b[23m 36.00, 539.00, 1272.00, 1206.00, 1038.00, 296.0…\n",
      "$ AGE_UNKNOWN_MILES     \u001b[3m\u001b[38;5;246m<dbl>\u001b[39m\u001b[23m 0, 0, 0, 0, 0, 0, 0, 0, 0, 0, 0, 0, 0, 0, 0, 0,…\n",
      "$ MILES_PRE_1940        \u001b[3m\u001b[38;5;246m<dbl>\u001b[39m\u001b[23m 1.0, 0.0, 152.0, 0.0, 13.0, 0.0, 0.0, 0.0, 0.0,…\n",
      "$ MILES_1940            \u001b[3m\u001b[38;5;246m<dbl>\u001b[39m\u001b[23m 1, 0, 43, 8, 48, 64, 0, 0, 0, 15, 0, 729, 0, 0,…\n",
      "$ MILES_1950            \u001b[3m\u001b[38;5;246m<dbl>\u001b[39m\u001b[23m 4.0, 0.0, 498.0, 486.0, 1344.0, 54.0, 243.0, 0.…\n",
      "$ MILES_1960            \u001b[3m\u001b[38;5;246m<dbl>\u001b[39m\u001b[23m 7.0, 280.0, 524.0, 328.0, 222.0, 139.0, 539.0, …\n",
      "$ MILES_1970            \u001b[3m\u001b[38;5;246m<dbl>\u001b[39m\u001b[23m 5.00, 631.00, 786.00, 411.00, 14.00, 104.00, 0.…\n",
      "$ MILES_1980            \u001b[3m\u001b[38;5;246m<dbl>\u001b[39m\u001b[23m 2.0, 36.0, 41.0, 163.0, 19.0, 13.0, 0.0, 0.0, 0…\n",
      "$ MILES_1990            \u001b[3m\u001b[38;5;246m<dbl>\u001b[39m\u001b[23m 5.00, 98.00, 120.00, 175.00, 6.00, 26.00, 1154.…\n",
      "$ MILES_2000            \u001b[3m\u001b[38;5;246m<dbl>\u001b[39m\u001b[23m 1.0, 1.0, 23.0, 3.0, 13.0, 2.0, 0.0, 0.0, 0.0, …\n",
      "$ MILES_2010            \u001b[3m\u001b[38;5;246m<dbl>\u001b[39m\u001b[23m 0, 0, 0, 0, 0, 0, 0, 0, 0, 0, 0, 0, 0, 0, 0, 0,…\n",
      "$ PARENT                \u001b[3m\u001b[38;5;246m<chr>\u001b[39m\u001b[23m \"BP\", \"BP\", \"BP\", \"Chevron\", \"Chevron\", \"Targa …\n",
      "$ INCIDENTS             \u001b[3m\u001b[38;5;246m<dbl>\u001b[39m\u001b[23m 1, 0, 5, 2, 1, 0, 22, 1, 1, 0, 0, 16, 9, 0, 1, …\n",
      "$ SIGNIFICANT_INCIDENTS \u001b[3m\u001b[38;5;246m<dbl>\u001b[39m\u001b[23m 0, 0, 1, 2, 0, 0, 9, 0, 1, 0, 0, 7, 1, 0, 0, 0,…\n",
      "$ GROUP                 \u001b[3m\u001b[38;5;246m<chr>\u001b[39m\u001b[23m \"m&a\", \"m&a\", \"m&a\", \"m&a\", \"m&a\", \"m&a\", \"m&a\"…\n",
      "$ AVG_AGE               \u001b[3m\u001b[38;5;246m<dbl>\u001b[39m\u001b[23m 47.88462, 45.43021, 54.06722, 50.09530, 63.1209…\n",
      "$ PERC_OFFSHORE         \u001b[3m\u001b[38;5;246m<dbl>\u001b[39m\u001b[23m NA, NA, NA, NA, NA, NA, NA, NA, NA, NA, NA, NA,…\n",
      "$ CHANGE                \u001b[3m\u001b[38;5;246m<dbl>\u001b[39m\u001b[23m NA, NA, NA, NA, NA, NA, NA, NA, NA, NA, NA, NA,…\n",
      "$ M_A                   \u001b[3m\u001b[38;5;246m<lgl>\u001b[39m\u001b[23m FALSE, FALSE, FALSE, FALSE, FALSE, FALSE, FALSE…\n"
     ]
    }
   ],
   "source": [
    "sample <- feather::read_feather(sample_consolidated_file)\n",
    "glimpse(sample)"
   ]
  },
  {
   "cell_type": "markdown",
   "metadata": {},
   "source": [
    "## Alternatively: filter large changes"
   ]
  },
  {
   "cell_type": "code",
   "execution_count": 5,
   "metadata": {},
   "outputs": [
    {
     "name": "stderr",
     "output_type": "stream",
     "text": [
      "`stat_bin()` using `bins = 30`. Pick better value with `binwidth`.\n",
      "Warning message:\n",
      "“Removed 209 rows containing non-finite values (stat_bin).”"
     ]
    },
    {
     "data": {
      "image/png": "[encoded data removed]",
      "text/plain": [
       "plot without title"
      ]
     },
     "metadata": {},
     "output_type": "display_data"
    }
   ],
   "source": [
    "sample %>%\n",
    "    ggplot(aes(x=CHANGE)) +\n",
    "        geom_histogram()"
   ]
  },
  {
   "cell_type": "code",
   "execution_count": 6,
   "metadata": {},
   "outputs": [
    {
     "data": {
      "text/html": [
       "2123"
      ],
      "text/latex": [
       "2123"
      ],
      "text/markdown": [
       "2123"
      ],
      "text/plain": [
       "[1] 2123"
      ]
     },
     "metadata": {},
     "output_type": "display_data"
    }
   ],
   "source": [
    "nrow(sample)"
   ]
  },
  {
   "cell_type": "code",
   "execution_count": 7,
   "metadata": {},
   "outputs": [],
   "source": [
    "# sample <- subset(sample, abs(CHANGE) < 250)"
   ]
  },
  {
   "cell_type": "code",
   "execution_count": 8,
   "metadata": {},
   "outputs": [
    {
     "data": {
      "text/plain": [
       "\n",
       "  crude     hvl non-hvl \n",
       "    716     675     732 "
      ]
     },
     "metadata": {},
     "output_type": "display_data"
    }
   ],
   "source": [
    "sample <- subset(sample, COMMODITY %in% c(\"crude\", \"hvl\", \"non-hvl\"))\n",
    "table(sample$COMMODITY)"
   ]
  },
  {
   "cell_type": "code",
   "execution_count": 9,
   "metadata": {},
   "outputs": [
    {
     "data": {
      "text/html": [
       "2123"
      ],
      "text/latex": [
       "2123"
      ],
      "text/markdown": [
       "2123"
      ],
      "text/plain": [
       "[1] 2123"
      ]
     },
     "metadata": {},
     "output_type": "display_data"
    }
   ],
   "source": [
    "nrow(sample)"
   ]
  },
  {
   "cell_type": "markdown",
   "metadata": {},
   "source": [
    "## Alternatively: combine all commodities"
   ]
  },
  {
   "cell_type": "code",
   "execution_count": 10,
   "metadata": {},
   "outputs": [
    {
     "name": "stdout",
     "output_type": "stream",
     "text": [
      "Observations: 1,154\n",
      "Variables: 3\n",
      "Groups: OPERATOR_ID [99]\n",
      "$ OPERATOR_ID \u001b[3m\u001b[38;5;246m<chr>\u001b[39m\u001b[23m \"10012\", \"10012\", \"10012\", \"1248\", \"1248\", \"1248\", \"1248\"…\n",
      "$ YEAR        \u001b[3m\u001b[38;5;246m<dbl>\u001b[39m\u001b[23m 2004, 2005, 2006, 2004, 2005, 2006, 2007, 2008, 2009, 201…\n",
      "$ M_A         \u001b[3m\u001b[38;5;246m<lgl>\u001b[39m\u001b[23m FALSE, FALSE, FALSE, FALSE, FALSE, FALSE, FALSE, FALSE, F…\n"
     ]
    }
   ],
   "source": [
    "m_as <- sample %>%\n",
    "    group_by(OPERATOR_ID, YEAR) %>%\n",
    "    summarize(M_A = TRUE %in% M_A)\n",
    "glimpse(m_as)"
   ]
  },
  {
   "cell_type": "code",
   "execution_count": 11,
   "metadata": {},
   "outputs": [
    {
     "name": "stdout",
     "output_type": "stream",
     "text": [
      "Observations: 1,154\n",
      "Variables: 41\n",
      "$ YEAR                          \u001b[3m\u001b[38;5;246m<dbl>\u001b[39m\u001b[23m 2004, 2004, 2004, 2004, 2004, 2004, 200…\n",
      "$ OPERATOR_ID                   \u001b[3m\u001b[38;5;246m<chr>\u001b[39m\u001b[23m \"10012\", \"1248\", \"14194\", \"15156\", \"193…\n",
      "$ CRUDE_AGE_UNKNOWN_MILES       \u001b[3m\u001b[38;5;246m<dbl>\u001b[39m\u001b[23m NA, 0, 0, 0, NA, NA, 0, 0, 0, 0, NA, NA…\n",
      "$ CRUDE_AVG_AGE                 \u001b[3m\u001b[38;5;246m<dbl>\u001b[39m\u001b[23m NA, 49.24460, 42.89474, 46.82628, NA, N…\n",
      "$ CRUDE_INCIDENTS               \u001b[3m\u001b[38;5;246m<dbl>\u001b[39m\u001b[23m NA, 0, 0, 1, NA, NA, 0, 0, 4, 2, NA, NA…\n",
      "$ CRUDE_MILES                   \u001b[3m\u001b[38;5;246m<dbl>\u001b[39m\u001b[23m NA, 75.00, 19.00, 210.00, NA, NA, 4.00,…\n",
      "$ CRUDE_MILES_1940              \u001b[3m\u001b[38;5;246m<dbl>\u001b[39m\u001b[23m NA, 0, 0, 26, NA, NA, 0, 0, 44, 0, NA, …\n",
      "$ CRUDE_MILES_1950              \u001b[3m\u001b[38;5;246m<dbl>\u001b[39m\u001b[23m NA, 0, 0, 0, NA, NA, 4, 0, 209, 94, NA,…\n",
      "$ CRUDE_MILES_1960              \u001b[3m\u001b[38;5;246m<dbl>\u001b[39m\u001b[23m NA, 152, 0, 175, NA, NA, 0, 0, 0, 0, NA…\n",
      "$ CRUDE_MILES_1970              \u001b[3m\u001b[38;5;246m<dbl>\u001b[39m\u001b[23m NA, 109, 15, 179, NA, NA, 0, 0, 409, 47…\n",
      "$ CRUDE_MILES_1980              \u001b[3m\u001b[38;5;246m<dbl>\u001b[39m\u001b[23m NA, 0, 4, 0, NA, NA, 0, 0, 818, 0, NA, …\n",
      "$ CRUDE_MILES_1990              \u001b[3m\u001b[38;5;246m<dbl>\u001b[39m\u001b[23m NA, 17, 0, 36, NA, NA, 0, 0, 199, 24, N…\n",
      "$ CRUDE_MILES_2000              \u001b[3m\u001b[38;5;246m<dbl>\u001b[39m\u001b[23m NA, 0, 0, 33, NA, NA, 0, 0, 0, 0, NA, N…\n",
      "$ CRUDE_MILES_2010              \u001b[3m\u001b[38;5;246m<dbl>\u001b[39m\u001b[23m NA, 0, 0, 0, NA, NA, 0, 0, 0, 0, NA, NA…\n",
      "$ CRUDE_SIGNIFICANT_INCIDENTS   \u001b[3m\u001b[38;5;246m<dbl>\u001b[39m\u001b[23m NA, 0, 0, 1, NA, NA, 0, 0, 3, 1, NA, NA…\n",
      "$ HVL_AGE_UNKNOWN_MILES         \u001b[3m\u001b[38;5;246m<dbl>\u001b[39m\u001b[23m 0, NA, NA, NA, 0, 0, NA, NA, 0, 0, 0, N…\n",
      "$ HVL_AVG_AGE                   \u001b[3m\u001b[38;5;246m<dbl>\u001b[39m\u001b[23m 50.71459, NA, NA, NA, NaN, 51.82927, NA…\n",
      "$ HVL_INCIDENTS                 \u001b[3m\u001b[38;5;246m<dbl>\u001b[39m\u001b[23m 0, NA, NA, NA, 0, 0, NA, NA, 2, 0, 4, N…\n",
      "$ HVL_MILES                     \u001b[3m\u001b[38;5;246m<dbl>\u001b[39m\u001b[23m 1191.00, NA, NA, NA, 86.00, 145.00, NA,…\n",
      "$ HVL_MILES_1940                \u001b[3m\u001b[38;5;246m<dbl>\u001b[39m\u001b[23m 0, NA, NA, NA, 0, 0, NA, NA, 0, 0, 0, N…\n",
      "$ HVL_MILES_1950                \u001b[3m\u001b[38;5;246m<dbl>\u001b[39m\u001b[23m 0.00, NA, NA, NA, 0.00, 0.00, NA, NA, 4…\n",
      "$ HVL_MILES_1960                \u001b[3m\u001b[38;5;246m<dbl>\u001b[39m\u001b[23m 1222.14, NA, NA, NA, 0.00, 302.00, NA, …\n",
      "$ HVL_MILES_1970                \u001b[3m\u001b[38;5;246m<dbl>\u001b[39m\u001b[23m 709.00, NA, NA, NA, 0.00, 0.00, NA, NA,…\n",
      "$ HVL_MILES_1980                \u001b[3m\u001b[38;5;246m<dbl>\u001b[39m\u001b[23m 46.0, NA, NA, NA, 0.0, 0.0, NA, NA, 120…\n",
      "$ HVL_MILES_1990                \u001b[3m\u001b[38;5;246m<dbl>\u001b[39m\u001b[23m 18.00, NA, NA, NA, 0.00, 0.00, NA, NA, …\n",
      "$ HVL_MILES_2000                \u001b[3m\u001b[38;5;246m<dbl>\u001b[39m\u001b[23m 0, NA, NA, NA, 0, 26, NA, NA, 21, 0, 4,…\n",
      "$ HVL_MILES_2010                \u001b[3m\u001b[38;5;246m<dbl>\u001b[39m\u001b[23m 0, NA, NA, NA, 0, 0, NA, NA, 0, 0, 0, N…\n",
      "$ HVL_SIGNIFICANT_INCIDENTS     \u001b[3m\u001b[38;5;246m<dbl>\u001b[39m\u001b[23m 0, NA, NA, NA, 0, 0, NA, NA, 1, 0, 1, N…\n",
      "$ NON_HVL_AGE_UNKNOWN_MILES     \u001b[3m\u001b[38;5;246m<dbl>\u001b[39m\u001b[23m 0, 0, 0, 0, 0, NA, 0, NA, 0, NA, NA, 0,…\n",
      "$ NON_HVL_AVG_AGE               \u001b[3m\u001b[38;5;246m<dbl>\u001b[39m\u001b[23m 54.47068, 40.58442, 25.00000, 65.04566,…\n",
      "$ NON_HVL_INCIDENTS             \u001b[3m\u001b[38;5;246m<dbl>\u001b[39m\u001b[23m 3, 0, 0, 1, 0, NA, 1, NA, 1, NA, NA, 10…\n",
      "$ NON_HVL_MILES                 \u001b[3m\u001b[38;5;246m<dbl>\u001b[39m\u001b[23m 1196.00, 0.00, 8.00, 295.00, 5.00, NA, …\n",
      "$ NON_HVL_MILES_1940            \u001b[3m\u001b[38;5;246m<dbl>\u001b[39m\u001b[23m 0, 0, 0, 0, 0, NA, 0, NA, 0, NA, NA, 0,…\n",
      "$ NON_HVL_MILES_1950            \u001b[3m\u001b[38;5;246m<dbl>\u001b[39m\u001b[23m 582.0, 0.0, 0.0, 3.0, 0.0, NA, 231.0, N…\n",
      "$ NON_HVL_MILES_1960            \u001b[3m\u001b[38;5;246m<dbl>\u001b[39m\u001b[23m 941.0, 40.0, 0.0, 201.0, 0.0, NA, 273.0…\n",
      "$ NON_HVL_MILES_1970            \u001b[3m\u001b[38;5;246m<dbl>\u001b[39m\u001b[23m 13.00, 0.00, 0.00, 1.00, 0.00, NA, 32.0…\n",
      "$ NON_HVL_MILES_1980            \u001b[3m\u001b[38;5;246m<dbl>\u001b[39m\u001b[23m 359.00, 0.00, 0.00, 3.00, 0.00, NA, 0.0…\n",
      "$ NON_HVL_MILES_1990            \u001b[3m\u001b[38;5;246m<dbl>\u001b[39m\u001b[23m 10.0, 37.0, 8.0, 29.0, 0.0, NA, 0.0, NA…\n",
      "$ NON_HVL_MILES_2000            \u001b[3m\u001b[38;5;246m<dbl>\u001b[39m\u001b[23m 0.00, 0.00, 0.00, 23.00, 0.00, NA, 0.00…\n",
      "$ NON_HVL_MILES_2010            \u001b[3m\u001b[38;5;246m<dbl>\u001b[39m\u001b[23m 0, 0, 0, 0, 0, NA, 0, NA, 0, NA, NA, 0,…\n",
      "$ NON_HVL_SIGNIFICANT_INCIDENTS \u001b[3m\u001b[38;5;246m<dbl>\u001b[39m\u001b[23m 3, 0, 0, 0, 0, NA, 1, NA, 0, NA, NA, 1,…\n"
     ]
    }
   ],
   "source": [
    "sample_selected <- select(sample, YEAR, COMMODITY, OPERATOR_ID, MILES, AGE_UNKNOWN_MILES, MILES_1940, MILES_1950, MILES_1960, \n",
    "                 MILES_1970, MILES_1980, MILES_1990, MILES_2000, MILES_2010, INCIDENTS, SIGNIFICANT_INCIDENTS, AVG_AGE)\n",
    "\n",
    "sample_selected <- sample_selected %>%\n",
    "    gather(variable, value, -c(YEAR, OPERATOR_ID, COMMODITY)) %>%\n",
    "    mutate(COMMODITY = toupper(COMMODITY)) %>%\n",
    "    mutate(COMMODITY = recode(COMMODITY, `NON-HVL` = \"NON_HVL\")) %>%\n",
    "    unite(temp, COMMODITY, variable) %>%\n",
    "    spread(temp, value)\n",
    "\n",
    "glimpse(sample_selected)"
   ]
  },
  {
   "cell_type": "code",
   "execution_count": 12,
   "metadata": {},
   "outputs": [
    {
     "data": {
      "text/html": [
       "<ol class=list-inline>\n",
       "\t<li>'CRUDE_AGE_UNKNOWN_MILES'</li>\n",
       "\t<li>'CRUDE_AVG_AGE'</li>\n",
       "\t<li>'CRUDE_INCIDENTS'</li>\n",
       "\t<li>'CRUDE_MILES'</li>\n",
       "\t<li>'CRUDE_MILES_1940'</li>\n",
       "\t<li>'CRUDE_MILES_1950'</li>\n",
       "</ol>\n"
      ],
      "text/latex": [
       "\\begin{enumerate*}\n",
       "\\item 'CRUDE\\_AGE\\_UNKNOWN\\_MILES'\n",
       "\\item 'CRUDE\\_AVG\\_AGE'\n",
       "\\item 'CRUDE\\_INCIDENTS'\n",
       "\\item 'CRUDE\\_MILES'\n",
       "\\item 'CRUDE\\_MILES\\_1940'\n",
       "\\item 'CRUDE\\_MILES\\_1950'\n",
       "\\end{enumerate*}\n"
      ],
      "text/markdown": [
       "1. 'CRUDE_AGE_UNKNOWN_MILES'\n",
       "2. 'CRUDE_AVG_AGE'\n",
       "3. 'CRUDE_INCIDENTS'\n",
       "4. 'CRUDE_MILES'\n",
       "5. 'CRUDE_MILES_1940'\n",
       "6. 'CRUDE_MILES_1950'\n",
       "\n",
       "\n"
      ],
      "text/plain": [
       "[1] \"CRUDE_AGE_UNKNOWN_MILES\" \"CRUDE_AVG_AGE\"          \n",
       "[3] \"CRUDE_INCIDENTS\"         \"CRUDE_MILES\"            \n",
       "[5] \"CRUDE_MILES_1940\"        \"CRUDE_MILES_1950\"       "
      ]
     },
     "metadata": {},
     "output_type": "display_data"
    }
   ],
   "source": [
    "potentially_empty_cols <- colnames(sample_selected)\n",
    "potentially_empty_cols <- potentially_empty_cols[!potentially_empty_cols %in% c('YEAR', 'OPERATOR_ID')]\n",
    "head(potentially_empty_cols)"
   ]
  },
  {
   "cell_type": "code",
   "execution_count": 13,
   "metadata": {},
   "outputs": [
    {
     "name": "stdout",
     "output_type": "stream",
     "text": [
      "Observations: 1,154\n",
      "Variables: 8\n",
      "$ YEAR                          \u001b[3m\u001b[38;5;246m<dbl>\u001b[39m\u001b[23m 2004, 2004, 2004, 2004, 2004, 2004, 200…\n",
      "$ OPERATOR_ID                   \u001b[3m\u001b[38;5;246m<chr>\u001b[39m\u001b[23m \"10012\", \"1248\", \"14194\", \"15156\", \"193…\n",
      "$ NON_HVL_MILES_1980            \u001b[3m\u001b[38;5;246m<dbl>\u001b[39m\u001b[23m 359.00, 0.00, 0.00, 3.00, 0.00, 0.00, 0…\n",
      "$ NON_HVL_MILES_1990            \u001b[3m\u001b[38;5;246m<dbl>\u001b[39m\u001b[23m 10.0, 37.0, 8.0, 29.0, 0.0, 0.0, 0.0, 0…\n",
      "$ NON_HVL_MILES_2000            \u001b[3m\u001b[38;5;246m<dbl>\u001b[39m\u001b[23m 0.00, 0.00, 0.00, 23.00, 0.00, 0.00, 0.…\n",
      "$ NON_HVL_MILES_2010            \u001b[3m\u001b[38;5;246m<dbl>\u001b[39m\u001b[23m 0, 0, 0, 0, 0, 0, 0, 0, 0, 0, 0, 0, 0, …\n",
      "$ NON_HVL_SIGNIFICANT_INCIDENTS \u001b[3m\u001b[38;5;246m<dbl>\u001b[39m\u001b[23m 3, 0, 0, 0, 0, 0, 1, 0, 0, 0, 0, 1, 1, …\n",
      "$ SIGNIFICANT_INCIDENTS         \u001b[3m\u001b[38;5;246m<dbl>\u001b[39m\u001b[23m 3, 0, 0, 1, 0, 0, 1, 0, 4, 1, 1, 1, 1, …\n"
     ]
    }
   ],
   "source": [
    "sample_selected <- sample_selected %>%\n",
    "    mutate_at(potentially_empty_cols, ~replace_na(., 0))\n",
    "\n",
    "sample_selected$SIGNIFICANT_INCIDENTS <- (sample_selected$CRUDE_SIGNIFICANT_INCIDENTS + \n",
    "                                          sample_selected$HVL_SIGNIFICANT_INCIDENTS + \n",
    "                                          sample_selected$NON_HVL_SIGNIFICANT_INCIDENTS)\n",
    "\n",
    "glimpse(good_look(sample_selected))"
   ]
  },
  {
   "cell_type": "markdown",
   "metadata": {},
   "source": [
    "## 10.1 Calculate change"
   ]
  },
  {
   "cell_type": "markdown",
   "metadata": {},
   "source": [
    "### 10.1.1 For construction only"
   ]
  },
  {
   "cell_type": "code",
   "execution_count": 14,
   "metadata": {},
   "outputs": [],
   "source": [
    "all_colls <- colnames(sample_selected)\n",
    "non_miles_cols <- c('YEAR', 'OPERATOR_ID', 'CRUDE_INCIDENTS', 'CRUDE_SIGNIFICANT_INCIDENTS',\n",
    "                    'HVL_INCIDENTS', 'HVL_SIGNIFICANT_INCIDENTS', 'NON_HVL_INCIDENTS', \n",
    "                    'NON_HVL_SIGNIFICANT_INCIDENTS', 'SIGNIFICANT_INCIDENTS', 'CRUDE_MILES', 'CRUDE_AVG_AGE',\n",
    "                    'HVL_MILES', 'HVL_AVG_AGE', 'NON_HVL_MILES', 'NON_HVL_AVG_AGE')\n",
    "miles_cols <- all_colls[!all_colls %in% non_miles_cols]"
   ]
  },
  {
   "cell_type": "code",
   "execution_count": 15,
   "metadata": {},
   "outputs": [
    {
     "data": {
      "text/html": [
       "0"
      ],
      "text/latex": [
       "0"
      ],
      "text/markdown": [
       "0"
      ],
      "text/plain": [
       "[1] 0"
      ]
     },
     "metadata": {},
     "output_type": "display_data"
    }
   ],
   "source": [
    "return_positive <- function(x){\n",
    "    if (is.na(x)){\n",
    "        \n",
    "    } else if (x < 0){\n",
    "        x = 0\n",
    "    }\n",
    "    return(x)\n",
    "}\n",
    "return_positive(-2)"
   ]
  },
  {
   "cell_type": "code",
   "execution_count": 16,
   "metadata": {},
   "outputs": [
    {
     "data": {
      "text/html": [
       "0"
      ],
      "text/latex": [
       "0"
      ],
      "text/markdown": [
       "0"
      ],
      "text/plain": [
       "[1] 0"
      ]
     },
     "metadata": {},
     "output_type": "display_data"
    }
   ],
   "source": [
    "return_negative <- function(x){\n",
    "    if (is.na(x)){\n",
    "        \n",
    "    } else if (x > 0){\n",
    "        x = 0\n",
    "    }\n",
    "    return(x)\n",
    "}\n",
    "return_negative(20)"
   ]
  },
  {
   "cell_type": "code",
   "execution_count": 17,
   "metadata": {},
   "outputs": [],
   "source": [
    "added_removed <- sample_selected %>%\n",
    "    gather(variable, value, one_of(miles_cols)) %>%\n",
    "    group_by(variable, OPERATOR_ID) %>% \n",
    "    arrange(desc(YEAR)) %>%\n",
    "    mutate(added = sapply(value - lag(value), return_positive), \n",
    "           removed = sapply(value - lag(value), return_negative)) %>%  \n",
    "    select(YEAR, OPERATOR_ID, variable, added, removed) %>%\n",
    "    group_by(OPERATOR_ID, YEAR) %>%\n",
    "    summarize(ADDED = sum(added),\n",
    "              REMOVED = sum(removed))"
   ]
  },
  {
   "cell_type": "code",
   "execution_count": 18,
   "metadata": {},
   "outputs": [
    {
     "name": "stdout",
     "output_type": "stream",
     "text": [
      "Observations: 1,154\n",
      "Variables: 8\n",
      "$ YEAR                          \u001b[3m\u001b[38;5;246m<dbl>\u001b[39m\u001b[23m 2004, 2004, 2004, 2004, 2004, 2004, 200…\n",
      "$ OPERATOR_ID                   \u001b[3m\u001b[38;5;246m<chr>\u001b[39m\u001b[23m \"10012\", \"1248\", \"14194\", \"15156\", \"193…\n",
      "$ NON_HVL_MILES_2000            \u001b[3m\u001b[38;5;246m<dbl>\u001b[39m\u001b[23m 0.00, 0.00, 0.00, 23.00, 0.00, 0.00, 0.…\n",
      "$ NON_HVL_MILES_2010            \u001b[3m\u001b[38;5;246m<dbl>\u001b[39m\u001b[23m 0, 0, 0, 0, 0, 0, 0, 0, 0, 0, 0, 0, 0, …\n",
      "$ NON_HVL_SIGNIFICANT_INCIDENTS \u001b[3m\u001b[38;5;246m<dbl>\u001b[39m\u001b[23m 3, 0, 0, 0, 0, 0, 1, 0, 0, 0, 0, 1, 1, …\n",
      "$ SIGNIFICANT_INCIDENTS         \u001b[3m\u001b[38;5;246m<dbl>\u001b[39m\u001b[23m 3, 0, 0, 1, 0, 0, 1, 0, 4, 1, 1, 1, 1, …\n",
      "$ ADDED                         \u001b[3m\u001b[38;5;246m<dbl>\u001b[39m\u001b[23m 290.140, 0.000, 0.000, 2.000, 0.000, 0.…\n",
      "$ REMOVED                       \u001b[3m\u001b[38;5;246m<dbl>\u001b[39m\u001b[23m 0.000, 0.000, 0.000, -7.000, -42.600, 0…\n"
     ]
    }
   ],
   "source": [
    "sample_selected <- left_join(sample_selected, added_removed, by=c('OPERATOR_ID', 'YEAR'))\n",
    "glimpse(good_look(sample_selected))"
   ]
  },
  {
   "cell_type": "code",
   "execution_count": 19,
   "metadata": {},
   "outputs": [],
   "source": [
    "sample_selected <- sample_selected %>%\n",
    "    mutate(TOTAL_MILES = rowSums(select(., one_of(miles_cols))))"
   ]
  },
  {
   "cell_type": "code",
   "execution_count": 20,
   "metadata": {},
   "outputs": [
    {
     "data": {
      "text/plain": [
       "\n",
       "   0 0.06  1.6 3.25 3.33 4.68  4.9  5.2  5.3 5.34  5.5 5.52 7.21    8 \n",
       "  81   14    1    1    2    4    1    4    2    2    3    6    1    4 "
      ]
     },
     "metadata": {},
     "output_type": "display_data"
    }
   ],
   "source": [
    "table(round(subset(sample_selected, TOTAL_MILES < 10, TOTAL_MILES), 2))"
   ]
  },
  {
   "cell_type": "markdown",
   "metadata": {},
   "source": [
    "Change does not make sense, when organization has zero miles of pipeline network."
   ]
  },
  {
   "cell_type": "code",
   "execution_count": 21,
   "metadata": {},
   "outputs": [],
   "source": [
    "sample_selected <- subset(sample_selected, TOTAL_MILES > 0)"
   ]
  },
  {
   "cell_type": "code",
   "execution_count": 22,
   "metadata": {},
   "outputs": [
    {
     "data": {
      "text/html": [
       "<table>\n",
       "<caption>A grouped_df: 6 × 47</caption>\n",
       "<thead>\n",
       "\t<tr><th scope=col>YEAR</th><th scope=col>OPERATOR_ID</th><th scope=col>CRUDE_AGE_UNKNOWN_MILES</th><th scope=col>CRUDE_AVG_AGE</th><th scope=col>CRUDE_INCIDENTS</th><th scope=col>CRUDE_MILES</th><th scope=col>CRUDE_MILES_1940</th><th scope=col>CRUDE_MILES_1950</th><th scope=col>CRUDE_MILES_1960</th><th scope=col>CRUDE_MILES_1970</th><th scope=col>⋯</th><th scope=col>NON_HVL_MILES_1990</th><th scope=col>NON_HVL_MILES_2000</th><th scope=col>NON_HVL_MILES_2010</th><th scope=col>NON_HVL_SIGNIFICANT_INCIDENTS</th><th scope=col>SIGNIFICANT_INCIDENTS</th><th scope=col>ADDED</th><th scope=col>REMOVED</th><th scope=col>TOTAL_MILES</th><th scope=col>ADDED_PERC</th><th scope=col>REMOVED_PERC</th></tr>\n",
       "\t<tr><th scope=col>&lt;dbl&gt;</th><th scope=col>&lt;chr&gt;</th><th scope=col>&lt;dbl&gt;</th><th scope=col>&lt;dbl&gt;</th><th scope=col>&lt;dbl&gt;</th><th scope=col>&lt;dbl&gt;</th><th scope=col>&lt;dbl&gt;</th><th scope=col>&lt;dbl&gt;</th><th scope=col>&lt;dbl&gt;</th><th scope=col>&lt;dbl&gt;</th><th scope=col>⋯</th><th scope=col>&lt;dbl&gt;</th><th scope=col>&lt;dbl&gt;</th><th scope=col>&lt;dbl&gt;</th><th scope=col>&lt;dbl&gt;</th><th scope=col>&lt;dbl&gt;</th><th scope=col>&lt;dbl&gt;</th><th scope=col>&lt;dbl&gt;</th><th scope=col>&lt;dbl&gt;</th><th scope=col>&lt;dbl&gt;</th><th scope=col>&lt;dbl&gt;</th></tr>\n",
       "</thead>\n",
       "<tbody>\n",
       "\t<tr><td>2018</td><td>Sunoco (Group)                 </td><td>429.69</td><td>48.84636</td><td>20</td><td>4008.780</td><td>500.35</td><td>519.030</td><td>190.83</td><td>99.300</td><td>⋯</td><td>45.980</td><td> 5.250</td><td>168.030</td><td>1</td><td>11</td><td>NA</td><td>NA</td><td>6057.480</td><td>NA</td><td>NA</td></tr>\n",
       "\t<tr><td>2018</td><td>Targa (Group)                  </td><td>  0.00</td><td> 5.00000</td><td> 0</td><td>  36.500</td><td>  0.00</td><td>  0.000</td><td>  0.00</td><td> 0.000</td><td>⋯</td><td> 0.000</td><td> 1.860</td><td>  0.000</td><td>0</td><td> 0</td><td>NA</td><td>NA</td><td>1310.320</td><td>NA</td><td>NA</td></tr>\n",
       "\t<tr><td>2018</td><td>Tesoro (Group)                 </td><td>  5.50</td><td>38.93026</td><td> 0</td><td> 263.500</td><td>  0.30</td><td>157.300</td><td> 57.00</td><td>40.100</td><td>⋯</td><td>11.200</td><td> 7.200</td><td>  0.800</td><td>0</td><td> 0</td><td>NA</td><td>NA</td><td>1379.380</td><td>NA</td><td>NA</td></tr>\n",
       "\t<tr><td>2018</td><td>Torrance (Group)               </td><td>  0.00</td><td>31.02596</td><td> 4</td><td> 166.500</td><td>  0.00</td><td>  0.000</td><td>  0.00</td><td>59.702</td><td>⋯</td><td> 2.412</td><td> 5.736</td><td>  1.078</td><td>0</td><td> 1</td><td>NA</td><td>NA</td><td> 390.660</td><td>NA</td><td>NA</td></tr>\n",
       "\t<tr><td>2018</td><td>Valero (Group)                 </td><td>  0.00</td><td>43.29019</td><td> 0</td><td>  92.377</td><td>  0.00</td><td> 84.333</td><td> 40.25</td><td> 0.000</td><td>⋯</td><td> 0.367</td><td>17.355</td><td>148.752</td><td>1</td><td> 1</td><td>NA</td><td>NA</td><td> 491.369</td><td>NA</td><td>NA</td></tr>\n",
       "\t<tr><td>2018</td><td>Williams Field Services (Group)</td><td>  0.00</td><td> 5.00000</td><td> 0</td><td>   0.150</td><td>  0.00</td><td>  0.000</td><td>  0.00</td><td> 0.000</td><td>⋯</td><td> 0.090</td><td> 0.012</td><td>  0.010</td><td>0</td><td> 1</td><td>NA</td><td>NA</td><td>1616.614</td><td>NA</td><td>NA</td></tr>\n",
       "</tbody>\n",
       "</table>\n"
      ],
      "text/latex": [
       "A grouped_df: 6 × 47\n",
       "\\begin{tabular}{r|lllllllllllllllllllllllllllllllllllllllllllllll}\n",
       " YEAR & OPERATOR\\_ID & CRUDE\\_AGE\\_UNKNOWN\\_MILES & CRUDE\\_AVG\\_AGE & CRUDE\\_INCIDENTS & CRUDE\\_MILES & CRUDE\\_MILES\\_1940 & CRUDE\\_MILES\\_1950 & CRUDE\\_MILES\\_1960 & CRUDE\\_MILES\\_1970 & CRUDE\\_MILES\\_1980 & CRUDE\\_MILES\\_1990 & CRUDE\\_MILES\\_2000 & CRUDE\\_MILES\\_2010 & CRUDE\\_SIGNIFICANT\\_INCIDENTS & HVL\\_AGE\\_UNKNOWN\\_MILES & HVL\\_AVG\\_AGE & HVL\\_INCIDENTS & HVL\\_MILES & HVL\\_MILES\\_1940 & HVL\\_MILES\\_1950 & HVL\\_MILES\\_1960 & HVL\\_MILES\\_1970 & HVL\\_MILES\\_1980 & HVL\\_MILES\\_1990 & HVL\\_MILES\\_2000 & HVL\\_MILES\\_2010 & HVL\\_SIGNIFICANT\\_INCIDENTS & NON\\_HVL\\_AGE\\_UNKNOWN\\_MILES & NON\\_HVL\\_AVG\\_AGE & NON\\_HVL\\_INCIDENTS & NON\\_HVL\\_MILES & NON\\_HVL\\_MILES\\_1940 & NON\\_HVL\\_MILES\\_1950 & NON\\_HVL\\_MILES\\_1960 & NON\\_HVL\\_MILES\\_1970 & NON\\_HVL\\_MILES\\_1980 & NON\\_HVL\\_MILES\\_1990 & NON\\_HVL\\_MILES\\_2000 & NON\\_HVL\\_MILES\\_2010 & NON\\_HVL\\_SIGNIFICANT\\_INCIDENTS & SIGNIFICANT\\_INCIDENTS & ADDED & REMOVED & TOTAL\\_MILES & ADDED\\_PERC & REMOVED\\_PERC\\\\\n",
       " <dbl> & <chr> & <dbl> & <dbl> & <dbl> & <dbl> & <dbl> & <dbl> & <dbl> & <dbl> & <dbl> & <dbl> & <dbl> & <dbl> & <dbl> & <dbl> & <dbl> & <dbl> & <dbl> & <dbl> & <dbl> & <dbl> & <dbl> & <dbl> & <dbl> & <dbl> & <dbl> & <dbl> & <dbl> & <dbl> & <dbl> & <dbl> & <dbl> & <dbl> & <dbl> & <dbl> & <dbl> & <dbl> & <dbl> & <dbl> & <dbl> & <dbl> & <dbl> & <dbl> & <dbl> & <dbl> & <dbl>\\\\\n",
       "\\hline\n",
       "\t 2018 & Sunoco (Group)                  & 429.69 & 48.84636 & 20 & 4008.780 & 500.35 & 519.030 & 190.83 & 99.300 & 67.050 & 102.820 & 32.000 & 658.490 & 8 & 185.43 & 20.93253 & 2 & 1852.530 & 174.05 & 134.22 &  98.08 & 126.41 & 14.970 & 61.180 &  122.200 & 1366.39 & 2 & 148.89 & 47.77123 & 2 & 1584.960 & 130.37 & 225.200 & 114.860 & 271.510 & 64.900 & 45.980 &  5.250 & 168.030 & 1 & 11 & NA & NA & 6057.480 & NA & NA\\\\\n",
       "\t 2018 & Targa (Group)                   &   0.00 &  5.00000 &  0 &   36.500 &   0.00 &   0.000 &   0.00 &  0.000 &  0.000 &   0.000 &  0.000 & 208.500 & 0 &  28.92 & 35.86968 & 0 &  452.240 &  67.63 & 142.89 & 197.83 & 183.32 & 16.520 & 78.500 &    9.880 &  374.47 & 0 &   0.00 & 15.00000 & 0 &    0.000 &   0.00 &   0.000 &   0.000 &   0.000 &  0.000 &  0.000 &  1.860 &   0.000 & 0 &  0 & NA & NA & 1310.320 & NA & NA\\\\\n",
       "\t 2018 & Tesoro (Group)                  &   5.50 & 38.93026 &  0 &  263.500 &   0.30 & 157.300 &  57.00 & 40.100 & 75.900 &  82.700 & 11.800 & 104.280 & 0 &   0.00 &  5.00000 & 0 &    9.900 &   0.00 &   0.00 &   0.00 &   0.00 &  0.000 &  0.000 &    0.000 &   44.10 & 0 &  27.40 & 62.19242 & 0 &  657.300 & 113.50 & 481.100 &  73.000 &  80.000 &  6.200 & 11.200 &  7.200 &   0.800 & 0 &  0 & NA & NA & 1379.380 & NA & NA\\\\\n",
       "\t 2018 & Torrance (Group)                &   0.00 & 31.02596 &  4 &  166.500 &   0.00 &   0.000 &   0.00 & 59.702 & 32.378 & 140.560 &  2.525 &   2.900 & 1 &   0.00 &  0.00000 & 0 &    0.000 &   0.00 &   0.00 &   0.00 &   0.00 &  0.000 &  0.000 &    0.000 &    0.00 & 0 &   0.00 & 46.67777 & 0 &  163.182 &   5.45 &  13.080 &  15.308 & 103.659 &  5.872 &  2.412 &  5.736 &   1.078 & 0 &  1 & NA & NA &  390.660 & NA & NA\\\\\n",
       "\t 2018 & Valero (Group)                  &   0.00 & 43.29019 &  0 &   92.377 &   0.00 &  84.333 &  40.25 &  0.000 & 18.896 &  19.423 & 15.801 &  35.081 & 0 &   0.00 & 51.04166 & 0 &   24.609 &   0.00 &   0.00 &  52.12 &   0.00 &  4.482 &  1.628 &    2.553 &    0.00 & 0 &   0.00 & 15.78357 & 1 &  170.415 &   0.00 &  11.233 &   2.848 &  25.322 & 10.925 &  0.367 & 17.355 & 148.752 & 1 &  1 & NA & NA &  491.369 & NA & NA\\\\\n",
       "\t 2018 & Williams Field Services (Group) &   0.00 &  5.00000 &  0 &    0.150 &   0.00 &   0.000 &   0.00 &  0.000 &  0.000 &   0.000 &  0.000 &  17.430 & 0 & 290.55 & 18.54243 & 1 &  484.160 &   0.00 &   1.56 &  98.91 &  13.16 & 33.010 &  0.002 & 1047.120 &   72.36 & 1 &   0.49 & 49.06549 & 0 &   47.490 &   0.00 &   0.000 &  21.320 &  16.610 &  3.980 &  0.090 &  0.012 &   0.010 & 0 &  1 & NA & NA & 1616.614 & NA & NA\\\\\n",
       "\\end{tabular}\n"
      ],
      "text/markdown": [
       "\n",
       "A grouped_df: 6 × 47\n",
       "\n",
       "| YEAR &lt;dbl&gt; | OPERATOR_ID &lt;chr&gt; | CRUDE_AGE_UNKNOWN_MILES &lt;dbl&gt; | CRUDE_AVG_AGE &lt;dbl&gt; | CRUDE_INCIDENTS &lt;dbl&gt; | CRUDE_MILES &lt;dbl&gt; | CRUDE_MILES_1940 &lt;dbl&gt; | CRUDE_MILES_1950 &lt;dbl&gt; | CRUDE_MILES_1960 &lt;dbl&gt; | CRUDE_MILES_1970 &lt;dbl&gt; | ⋯ ⋯ | NON_HVL_MILES_1990 &lt;dbl&gt; | NON_HVL_MILES_2000 &lt;dbl&gt; | NON_HVL_MILES_2010 &lt;dbl&gt; | NON_HVL_SIGNIFICANT_INCIDENTS &lt;dbl&gt; | SIGNIFICANT_INCIDENTS &lt;dbl&gt; | ADDED &lt;dbl&gt; | REMOVED &lt;dbl&gt; | TOTAL_MILES &lt;dbl&gt; | ADDED_PERC &lt;dbl&gt; | REMOVED_PERC &lt;dbl&gt; |\n",
       "|---|---|---|---|---|---|---|---|---|---|---|---|---|---|---|---|---|---|---|---|---|\n",
       "| 2018 | Sunoco (Group)                  | 429.69 | 48.84636 | 20 | 4008.780 | 500.35 | 519.030 | 190.83 | 99.300 | ⋯ | 45.980 |  5.250 | 168.030 | 1 | 11 | NA | NA | 6057.480 | NA | NA |\n",
       "| 2018 | Targa (Group)                   |   0.00 |  5.00000 |  0 |   36.500 |   0.00 |   0.000 |   0.00 |  0.000 | ⋯ |  0.000 |  1.860 |   0.000 | 0 |  0 | NA | NA | 1310.320 | NA | NA |\n",
       "| 2018 | Tesoro (Group)                  |   5.50 | 38.93026 |  0 |  263.500 |   0.30 | 157.300 |  57.00 | 40.100 | ⋯ | 11.200 |  7.200 |   0.800 | 0 |  0 | NA | NA | 1379.380 | NA | NA |\n",
       "| 2018 | Torrance (Group)                |   0.00 | 31.02596 |  4 |  166.500 |   0.00 |   0.000 |   0.00 | 59.702 | ⋯ |  2.412 |  5.736 |   1.078 | 0 |  1 | NA | NA |  390.660 | NA | NA |\n",
       "| 2018 | Valero (Group)                  |   0.00 | 43.29019 |  0 |   92.377 |   0.00 |  84.333 |  40.25 |  0.000 | ⋯ |  0.367 | 17.355 | 148.752 | 1 |  1 | NA | NA |  491.369 | NA | NA |\n",
       "| 2018 | Williams Field Services (Group) |   0.00 |  5.00000 |  0 |    0.150 |   0.00 |   0.000 |   0.00 |  0.000 | ⋯ |  0.090 |  0.012 |   0.010 | 0 |  1 | NA | NA | 1616.614 | NA | NA |\n",
       "\n"
      ],
      "text/plain": [
       "  YEAR OPERATOR_ID                     CRUDE_AGE_UNKNOWN_MILES CRUDE_AVG_AGE\n",
       "1 2018 Sunoco (Group)                  429.69                  48.84636     \n",
       "2 2018 Targa (Group)                     0.00                   5.00000     \n",
       "3 2018 Tesoro (Group)                    5.50                  38.93026     \n",
       "4 2018 Torrance (Group)                  0.00                  31.02596     \n",
       "5 2018 Valero (Group)                    0.00                  43.29019     \n",
       "6 2018 Williams Field Services (Group)   0.00                   5.00000     \n",
       "  CRUDE_INCIDENTS CRUDE_MILES CRUDE_MILES_1940 CRUDE_MILES_1950\n",
       "1 20              4008.780    500.35           519.030         \n",
       "2  0                36.500      0.00             0.000         \n",
       "3  0               263.500      0.30           157.300         \n",
       "4  4               166.500      0.00             0.000         \n",
       "5  0                92.377      0.00            84.333         \n",
       "6  0                 0.150      0.00             0.000         \n",
       "  CRUDE_MILES_1960 CRUDE_MILES_1970 ⋯ NON_HVL_MILES_1990 NON_HVL_MILES_2000\n",
       "1 190.83           99.300           ⋯ 45.980              5.250            \n",
       "2   0.00            0.000           ⋯  0.000              1.860            \n",
       "3  57.00           40.100           ⋯ 11.200              7.200            \n",
       "4   0.00           59.702           ⋯  2.412              5.736            \n",
       "5  40.25            0.000           ⋯  0.367             17.355            \n",
       "6   0.00            0.000           ⋯  0.090              0.012            \n",
       "  NON_HVL_MILES_2010 NON_HVL_SIGNIFICANT_INCIDENTS SIGNIFICANT_INCIDENTS ADDED\n",
       "1 168.030            1                             11                    NA   \n",
       "2   0.000            0                              0                    NA   \n",
       "3   0.800            0                              0                    NA   \n",
       "4   1.078            0                              1                    NA   \n",
       "5 148.752            1                              1                    NA   \n",
       "6   0.010            0                              1                    NA   \n",
       "  REMOVED TOTAL_MILES ADDED_PERC REMOVED_PERC\n",
       "1 NA      6057.480    NA         NA          \n",
       "2 NA      1310.320    NA         NA          \n",
       "3 NA      1379.380    NA         NA          \n",
       "4 NA       390.660    NA         NA          \n",
       "5 NA       491.369    NA         NA          \n",
       "6 NA      1616.614    NA         NA          "
      ]
     },
     "metadata": {},
     "output_type": "display_data"
    }
   ],
   "source": [
    "sample_selected <- sample_selected %>%\n",
    "    group_by(OPERATOR_ID) %>%\n",
    "    mutate(ADDED_PERC = ADDED/(lag(TOTAL_MILES)\n",
    "                              ), \n",
    "                              # + 0.01), \n",
    "           REMOVED_PERC = REMOVED/(lag(TOTAL_MILES)\n",
    "                              )) \n",
    "                              # + 0.01))\n",
    "tail(sample_selected)"
   ]
  },
  {
   "cell_type": "code",
   "execution_count": 23,
   "metadata": {},
   "outputs": [
    {
     "data": {
      "text/plain": [
       "\n",
       "   0 0.01 0.02 0.03 0.04 0.05 0.06 0.07 0.08 0.09  0.1 0.11 0.12 0.13 0.14 0.15 \n",
       " 445   64   44   44   22   27   15   21   14   12   14   11    8    3    5    7 \n",
       "0.16 0.17 0.18 0.19  0.2 0.21 0.22 0.23 0.24 0.25 0.26 0.27 0.28 0.29  0.3 0.31 \n",
       "   6    6    6    3    4    2    4    1    6    5    4    1    4    2    3    1 \n",
       "0.32 0.33 0.34 0.35 0.36 0.37 0.38 0.39  0.4 0.41 0.42 0.43 0.46 0.47 0.48  0.5 \n",
       "   4    1    2    4    4    1    3    1    2    3    1    1    1    3    3    1 \n",
       "0.51 0.52 0.54 0.55 0.56 0.57 0.58 0.59 0.62 0.63 0.64 0.65 0.71 0.75 0.77 0.78 \n",
       "   1    1    1    1    1    2    1    1    1    1    1    1    2    1    2    1 \n",
       " 0.8 0.81 0.85 0.87 0.92 0.94 0.98    1 1.01 1.13  1.8 3.03 5.67 5.97 \n",
       "   1    2    2    1    1    2    2    6    2    1    1    1    1    1 "
      ]
     },
     "metadata": {},
     "output_type": "display_data"
    }
   ],
   "source": [
    "table(round(sample_selected$ADDED_PERC, 2))"
   ]
  },
  {
   "cell_type": "code",
   "execution_count": 24,
   "metadata": {},
   "outputs": [
    {
     "data": {
      "text/html": [
       "<table>\n",
       "<caption>A grouped_df: 15 × 7</caption>\n",
       "<thead>\n",
       "\t<tr><th scope=col>YEAR</th><th scope=col>OPERATOR_ID</th><th scope=col>ADDED</th><th scope=col>REMOVED</th><th scope=col>TOTAL_MILES</th><th scope=col>ADDED_PERC</th><th scope=col>REMOVED_PERC</th></tr>\n",
       "\t<tr><th scope=col>&lt;dbl&gt;</th><th scope=col>&lt;chr&gt;</th><th scope=col>&lt;dbl&gt;</th><th scope=col>&lt;dbl&gt;</th><th scope=col>&lt;dbl&gt;</th><th scope=col>&lt;dbl&gt;</th><th scope=col>&lt;dbl&gt;</th></tr>\n",
       "</thead>\n",
       "<tbody>\n",
       "\t<tr><td>2004</td><td>Sunoco (Group)</td><td>   4.39</td><td> -208.44</td><td> 850.00</td><td>          NA</td><td>          NA</td></tr>\n",
       "\t<tr><td>2005</td><td>Sunoco (Group)</td><td>  16.58</td><td>  -23.30</td><td>1054.05</td><td>1.950588e-02</td><td>-0.027411765</td></tr>\n",
       "\t<tr><td>2006</td><td>Sunoco (Group)</td><td>   1.00</td><td>   -0.28</td><td>1060.77</td><td>9.487216e-04</td><td>-0.000265642</td></tr>\n",
       "\t<tr><td>2007</td><td>Sunoco (Group)</td><td>   0.61</td><td> -381.33</td><td>1060.05</td><td>5.750540e-04</td><td>-0.359484148</td></tr>\n",
       "\t<tr><td>2008</td><td>Sunoco (Group)</td><td> 237.38</td><td>  -34.58</td><td>1440.77</td><td>2.239328e-01</td><td>-0.032621103</td></tr>\n",
       "\t<tr><td>2009</td><td>Sunoco (Group)</td><td>   0.20</td><td> -391.84</td><td>1237.97</td><td>1.388147e-04</td><td>-0.271965685</td></tr>\n",
       "\t<tr><td>2010</td><td>Sunoco (Group)</td><td>   3.10</td><td>   -3.04</td><td>1629.61</td><td>2.504099e-03</td><td>-0.002455633</td></tr>\n",
       "\t<tr><td>2011</td><td>Sunoco (Group)</td><td>   0.00</td><td> -270.00</td><td>1629.55</td><td>0.000000e+00</td><td>-0.165683814</td></tr>\n",
       "\t<tr><td>2012</td><td>Sunoco (Group)</td><td>   0.05</td><td>-2448.63</td><td>1899.55</td><td>3.068332e-05</td><td>-1.502641834</td></tr>\n",
       "\t<tr><td>2013</td><td>Sunoco (Group)</td><td>1856.34</td><td>-1460.88</td><td>4348.13</td><td>9.772525e-01</td><td>-0.769066358</td></tr>\n",
       "\t<tr><td>2014</td><td>Sunoco (Group)</td><td> 135.46</td><td> -970.91</td><td>3952.67</td><td>3.115362e-02</td><td>-0.223293692</td></tr>\n",
       "\t<tr><td>2015</td><td>Sunoco (Group)</td><td> 103.40</td><td> -327.83</td><td>4788.12</td><td>2.615953e-02</td><td>-0.082938874</td></tr>\n",
       "\t<tr><td>2016</td><td>Sunoco (Group)</td><td>   0.02</td><td>-1200.58</td><td>5012.55</td><td>4.177005e-06</td><td>-0.250741418</td></tr>\n",
       "\t<tr><td>2017</td><td>Sunoco (Group)</td><td>1126.77</td><td> -971.14</td><td>6213.11</td><td>2.247898e-01</td><td>-0.193741708</td></tr>\n",
       "\t<tr><td>2018</td><td>Sunoco (Group)</td><td>     NA</td><td>      NA</td><td>6057.48</td><td>          NA</td><td>          NA</td></tr>\n",
       "</tbody>\n",
       "</table>\n"
      ],
      "text/latex": [
       "A grouped_df: 15 × 7\n",
       "\\begin{tabular}{r|lllllll}\n",
       " YEAR & OPERATOR\\_ID & ADDED & REMOVED & TOTAL\\_MILES & ADDED\\_PERC & REMOVED\\_PERC\\\\\n",
       " <dbl> & <chr> & <dbl> & <dbl> & <dbl> & <dbl> & <dbl>\\\\\n",
       "\\hline\n",
       "\t 2004 & Sunoco (Group) &    4.39 &  -208.44 &  850.00 &           NA &           NA\\\\\n",
       "\t 2005 & Sunoco (Group) &   16.58 &   -23.30 & 1054.05 & 1.950588e-02 & -0.027411765\\\\\n",
       "\t 2006 & Sunoco (Group) &    1.00 &    -0.28 & 1060.77 & 9.487216e-04 & -0.000265642\\\\\n",
       "\t 2007 & Sunoco (Group) &    0.61 &  -381.33 & 1060.05 & 5.750540e-04 & -0.359484148\\\\\n",
       "\t 2008 & Sunoco (Group) &  237.38 &   -34.58 & 1440.77 & 2.239328e-01 & -0.032621103\\\\\n",
       "\t 2009 & Sunoco (Group) &    0.20 &  -391.84 & 1237.97 & 1.388147e-04 & -0.271965685\\\\\n",
       "\t 2010 & Sunoco (Group) &    3.10 &    -3.04 & 1629.61 & 2.504099e-03 & -0.002455633\\\\\n",
       "\t 2011 & Sunoco (Group) &    0.00 &  -270.00 & 1629.55 & 0.000000e+00 & -0.165683814\\\\\n",
       "\t 2012 & Sunoco (Group) &    0.05 & -2448.63 & 1899.55 & 3.068332e-05 & -1.502641834\\\\\n",
       "\t 2013 & Sunoco (Group) & 1856.34 & -1460.88 & 4348.13 & 9.772525e-01 & -0.769066358\\\\\n",
       "\t 2014 & Sunoco (Group) &  135.46 &  -970.91 & 3952.67 & 3.115362e-02 & -0.223293692\\\\\n",
       "\t 2015 & Sunoco (Group) &  103.40 &  -327.83 & 4788.12 & 2.615953e-02 & -0.082938874\\\\\n",
       "\t 2016 & Sunoco (Group) &    0.02 & -1200.58 & 5012.55 & 4.177005e-06 & -0.250741418\\\\\n",
       "\t 2017 & Sunoco (Group) & 1126.77 &  -971.14 & 6213.11 & 2.247898e-01 & -0.193741708\\\\\n",
       "\t 2018 & Sunoco (Group) &      NA &       NA & 6057.48 &           NA &           NA\\\\\n",
       "\\end{tabular}\n"
      ],
      "text/markdown": [
       "\n",
       "A grouped_df: 15 × 7\n",
       "\n",
       "| YEAR &lt;dbl&gt; | OPERATOR_ID &lt;chr&gt; | ADDED &lt;dbl&gt; | REMOVED &lt;dbl&gt; | TOTAL_MILES &lt;dbl&gt; | ADDED_PERC &lt;dbl&gt; | REMOVED_PERC &lt;dbl&gt; |\n",
       "|---|---|---|---|---|---|---|\n",
       "| 2004 | Sunoco (Group) |    4.39 |  -208.44 |  850.00 |           NA |           NA |\n",
       "| 2005 | Sunoco (Group) |   16.58 |   -23.30 | 1054.05 | 1.950588e-02 | -0.027411765 |\n",
       "| 2006 | Sunoco (Group) |    1.00 |    -0.28 | 1060.77 | 9.487216e-04 | -0.000265642 |\n",
       "| 2007 | Sunoco (Group) |    0.61 |  -381.33 | 1060.05 | 5.750540e-04 | -0.359484148 |\n",
       "| 2008 | Sunoco (Group) |  237.38 |   -34.58 | 1440.77 | 2.239328e-01 | -0.032621103 |\n",
       "| 2009 | Sunoco (Group) |    0.20 |  -391.84 | 1237.97 | 1.388147e-04 | -0.271965685 |\n",
       "| 2010 | Sunoco (Group) |    3.10 |    -3.04 | 1629.61 | 2.504099e-03 | -0.002455633 |\n",
       "| 2011 | Sunoco (Group) |    0.00 |  -270.00 | 1629.55 | 0.000000e+00 | -0.165683814 |\n",
       "| 2012 | Sunoco (Group) |    0.05 | -2448.63 | 1899.55 | 3.068332e-05 | -1.502641834 |\n",
       "| 2013 | Sunoco (Group) | 1856.34 | -1460.88 | 4348.13 | 9.772525e-01 | -0.769066358 |\n",
       "| 2014 | Sunoco (Group) |  135.46 |  -970.91 | 3952.67 | 3.115362e-02 | -0.223293692 |\n",
       "| 2015 | Sunoco (Group) |  103.40 |  -327.83 | 4788.12 | 2.615953e-02 | -0.082938874 |\n",
       "| 2016 | Sunoco (Group) |    0.02 | -1200.58 | 5012.55 | 4.177005e-06 | -0.250741418 |\n",
       "| 2017 | Sunoco (Group) | 1126.77 |  -971.14 | 6213.11 | 2.247898e-01 | -0.193741708 |\n",
       "| 2018 | Sunoco (Group) |      NA |       NA | 6057.48 |           NA |           NA |\n",
       "\n"
      ],
      "text/plain": [
       "   YEAR OPERATOR_ID    ADDED   REMOVED  TOTAL_MILES ADDED_PERC   REMOVED_PERC\n",
       "1  2004 Sunoco (Group)    4.39  -208.44  850.00               NA           NA\n",
       "2  2005 Sunoco (Group)   16.58   -23.30 1054.05     1.950588e-02 -0.027411765\n",
       "3  2006 Sunoco (Group)    1.00    -0.28 1060.77     9.487216e-04 -0.000265642\n",
       "4  2007 Sunoco (Group)    0.61  -381.33 1060.05     5.750540e-04 -0.359484148\n",
       "5  2008 Sunoco (Group)  237.38   -34.58 1440.77     2.239328e-01 -0.032621103\n",
       "6  2009 Sunoco (Group)    0.20  -391.84 1237.97     1.388147e-04 -0.271965685\n",
       "7  2010 Sunoco (Group)    3.10    -3.04 1629.61     2.504099e-03 -0.002455633\n",
       "8  2011 Sunoco (Group)    0.00  -270.00 1629.55     0.000000e+00 -0.165683814\n",
       "9  2012 Sunoco (Group)    0.05 -2448.63 1899.55     3.068332e-05 -1.502641834\n",
       "10 2013 Sunoco (Group) 1856.34 -1460.88 4348.13     9.772525e-01 -0.769066358\n",
       "11 2014 Sunoco (Group)  135.46  -970.91 3952.67     3.115362e-02 -0.223293692\n",
       "12 2015 Sunoco (Group)  103.40  -327.83 4788.12     2.615953e-02 -0.082938874\n",
       "13 2016 Sunoco (Group)    0.02 -1200.58 5012.55     4.177005e-06 -0.250741418\n",
       "14 2017 Sunoco (Group) 1126.77  -971.14 6213.11     2.247898e-01 -0.193741708\n",
       "15 2018 Sunoco (Group)      NA       NA 6057.48               NA           NA"
      ]
     },
     "metadata": {},
     "output_type": "display_data"
    }
   ],
   "source": [
    "sample_selected %>%\n",
    "    filter(OPERATOR_ID == 'Sunoco (Group)') %>%\n",
    "    select(YEAR, OPERATOR_ID, ADDED, REMOVED, TOTAL_MILES, ADDED_PERC, REMOVED_PERC)"
   ]
  },
  {
   "cell_type": "markdown",
   "metadata": {},
   "source": [
    "I seem to be losing 2018 for some reason. But since we are using the moving average of incidents, we cannot use that observation in our model anyways."
   ]
  },
  {
   "cell_type": "code",
   "execution_count": 25,
   "metadata": {},
   "outputs": [
    {
     "name": "stderr",
     "output_type": "stream",
     "text": [
      "`stat_bin()` using `bins = 30`. Pick better value with `binwidth`.\n",
      "Warning message:\n",
      "“Removed 93 rows containing non-finite values (stat_bin).”"
     ]
    },
    {
     "data": {
      "image/png": "[encoded data removed]",
      "text/plain": [
       "plot without title"
      ]
     },
     "metadata": {},
     "output_type": "display_data"
    }
   ],
   "source": [
    "sample_selected %>%\n",
    "    ggplot(aes(x=ADDED)) +\n",
    "        geom_histogram()"
   ]
  },
  {
   "cell_type": "markdown",
   "metadata": {},
   "source": [
    "### 10.1.2 Overall"
   ]
  },
  {
   "cell_type": "code",
   "execution_count": 26,
   "metadata": {},
   "outputs": [],
   "source": [
    "sample_selected <- sample_selected%>%\n",
    "    group_by(OPERATOR_ID) %>%\n",
    "    arrange(desc(YEAR)) %>%\n",
    "    mutate(CHANGE_TOTAL = TOTAL_MILES - lag(TOTAL_MILES)) %>%\n",
    "    mutate(CHANGE_PERC = CHANGE_TOTAL / lag(TOTAL_MILES)) %>%\n",
    "    mutate(MEAN_CHANGE_3 = (CHANGE_PERC + lag(CHANGE_PERC) + lag(CHANGE_PERC)) / 3) %>%\n",
    "    mutate(CHANGE_SD = ((CHANGE_PERC - MEAN_CHANGE_3)^2 + (lag(CHANGE_PERC) - MEAN_CHANGE_3)^2 + (lag(CHANGE_PERC, 2) - MEAN_CHANGE_3)^2) / 2) %>%\n",
    "    mutate(CHANGE_SD_SQ = CHANGE_SD^2,\n",
    "           CHANGE_EXP = exp(CHANGE_SD))"
   ]
  },
  {
   "cell_type": "code",
   "execution_count": 27,
   "metadata": {},
   "outputs": [
    {
     "data": {
      "text/plain": [
       "\n",
       "    0   0.1   0.2   0.3   0.4   0.5   0.6   0.7   0.8   0.9     1   1.1   1.3 \n",
       "  576    87    34    29     8     5     6     4     7     1     2     2     2 \n",
       "  1.4   1.5   1.7   1.8   1.9   2.1   2.2   2.3   2.4   2.6   2.8   2.9     3 \n",
       "    1     1     1     1     1     1     1     1     1     2     1     1     1 \n",
       "  3.2   3.6     4   4.5   4.7     6   6.1  14.9    15  16.7  22.2  22.6  23.1 \n",
       "    1     1     1     2     2     1     1     1     1     1     1     2     1 \n",
       " 25.4    34  36.9  41.6  43.5  47.4  59.8  80.9 122.3 125.1  1691 \n",
       "    1     1     1     1     1     1     1     1     1     1     1 "
      ]
     },
     "metadata": {},
     "output_type": "display_data"
    }
   ],
   "source": [
    "    table(round(sample_selected$CHANGE_SD, 1))"
   ]
  },
  {
   "cell_type": "code",
   "execution_count": 28,
   "metadata": {},
   "outputs": [],
   "source": [
    "sample_selected <- subset(sample_selected, CHANGE_SD < 10)"
   ]
  },
  {
   "cell_type": "markdown",
   "metadata": {},
   "source": [
    "## 10.2 N-year averages"
   ]
  },
  {
   "cell_type": "markdown",
   "metadata": {},
   "source": [
    "### 10.2.1 Incidents"
   ]
  },
  {
   "cell_type": "code",
   "execution_count": 29,
   "metadata": {},
   "outputs": [
    {
     "name": "stdout",
     "output_type": "stream",
     "text": [
      "Observations: 786\n",
      "Variables: 8\n",
      "Groups: OPERATOR_ID [83]\n",
      "$ YEAR         \u001b[3m\u001b[38;5;246m<dbl>\u001b[39m\u001b[23m 2015, 2015, 2015, 2015, 2015, 2015, 2015, 2015, 2015, 20…\n",
      "$ OPERATOR_ID  \u001b[3m\u001b[38;5;246m<chr>\u001b[39m\u001b[23m \"1248\", \"14194\", \"15156\", \"19319\", \"22430\", \"22855\", \"25…\n",
      "$ CHANGE_SD    \u001b[3m\u001b[38;5;246m<dbl>\u001b[39m\u001b[23m 4.912316e-04, 0.000000e+00, 1.235392e-04, 3.086159e-01, …\n",
      "$ CHANGE_SD_SQ \u001b[3m\u001b[38;5;246m<dbl>\u001b[39m\u001b[23m 2.413085e-07, 0.000000e+00, 1.526193e-08, 9.524379e-02, …\n",
      "$ CHANGE_EXP   \u001b[3m\u001b[38;5;246m<dbl>\u001b[39m\u001b[23m 1.000491, 1.000000, 1.000124, 1.361539, 1.000091, 1.0000…\n",
      "$ INC_3        \u001b[3m\u001b[38;5;246m<dbl>\u001b[39m\u001b[23m 3, 0, 4, 0, 1, 10, 0, 15, 11, 1, 0, 0, 0, 0, 4, 0, 5, 4,…\n",
      "$ INC_4        \u001b[3m\u001b[38;5;246m<dbl>\u001b[39m\u001b[23m 4, 0, 5, 0, 3, 12, 0, 18, 17, 1, 1, 0, 0, 1, 6, 0, 5, 8,…\n",
      "$ INC_5        \u001b[3m\u001b[38;5;246m<dbl>\u001b[39m\u001b[23m 8, 0, 5, 0, 5, 12, 1, 20, 20, 1, 1, 0, 0, 1, 6, 1, 6, 8,…\n"
     ]
    }
   ],
   "source": [
    "sample_selected <- sample_selected %>%\n",
    "    group_by(OPERATOR_ID) %>%\n",
    "    arrange(desc(YEAR)) %>%\n",
    "    mutate(INC_3 = SIGNIFICANT_INCIDENTS + lead(SIGNIFICANT_INCIDENTS) + lead(SIGNIFICANT_INCIDENTS, 2), \n",
    "           INC_4 = SIGNIFICANT_INCIDENTS + lead(SIGNIFICANT_INCIDENTS) + lead(SIGNIFICANT_INCIDENTS, 2) + lead(SIGNIFICANT_INCIDENTS, 3), \n",
    "           INC_5 = SIGNIFICANT_INCIDENTS + lead(SIGNIFICANT_INCIDENTS) + lead(SIGNIFICANT_INCIDENTS, 2) + lead(SIGNIFICANT_INCIDENTS, 3) + lead(SIGNIFICANT_INCIDENTS, 4))\n",
    "glimpse(good_look(sample_selected))"
   ]
  },
  {
   "cell_type": "code",
   "execution_count": 30,
   "metadata": {},
   "outputs": [
    {
     "name": "stdout",
     "output_type": "stream",
     "text": [
      "Observations: 786\n",
      "Variables: 8\n",
      "Groups: OPERATOR_ID [83]\n",
      "$ YEAR            \u001b[3m\u001b[38;5;246m<dbl>\u001b[39m\u001b[23m 2015, 2015, 2015, 2015, 2015, 2015, 2015, 2015, 2015,…\n",
      "$ OPERATOR_ID     \u001b[3m\u001b[38;5;246m<chr>\u001b[39m\u001b[23m \"1248\", \"14194\", \"15156\", \"19319\", \"22430\", \"22855\", …\n",
      "$ INC_5           \u001b[3m\u001b[38;5;246m<dbl>\u001b[39m\u001b[23m 8, 0, 5, 0, 5, 12, 1, 20, 20, 1, 1, 0, 0, 1, 6, 1, 6,…\n",
      "$ DISC_ADDED      \u001b[3m\u001b[38;5;246m<dbl>\u001b[39m\u001b[23m NA, NA, NA, NA, NA, NA, NA, NA, NA, NA, NA, NA, NA, N…\n",
      "$ DISC_ADDED_ALT  \u001b[3m\u001b[38;5;246m<dbl>\u001b[39m\u001b[23m NA, NA, NA, NA, NA, NA, NA, NA, NA, NA, NA, NA, NA, N…\n",
      "$ DISC_ADDED_ALT2 \u001b[3m\u001b[38;5;246m<dbl>\u001b[39m\u001b[23m NA, NA, NA, NA, NA, NA, NA, NA, NA, NA, NA, NA, NA, N…\n",
      "$ REMOVED_ADJ     \u001b[3m\u001b[38;5;246m<dbl>\u001b[39m\u001b[23m 0.001283697, 0.000000000, 0.015005359, 20.117572464, …\n",
      "$ CONSOLIDATE     \u001b[3m\u001b[38;5;246m<dbl>\u001b[39m\u001b[23m NA, NA, NA, NA, NA, NA, NA, NA, NA, NA, NA, NA, NA, N…\n"
     ]
    }
   ],
   "source": [
    "sample_selected <- sample_selected %>%\n",
    "    group_by(OPERATOR_ID) %>%\n",
    "    arrange(desc(YEAR)) %>%\n",
    "    mutate(DISC_ADDED = 2/3 * ADDED_PERC + lag(ADDED_PERC) + 2/3 * lag(ADDED_PERC, 2) + 1/3 * lag(ADDED_PERC, 3),\n",
    "           DISC_ADDED_ALT = ADDED_PERC + 2/3 * lag(ADDED_PERC) + 1/3 * lag(ADDED_PERC, 2), \n",
    "           DISC_ADDED_ALT2 = 1 * ADDED_PERC + lag(ADDED_PERC) + 2/3 * lag(ADDED_PERC, 2) + 1/3 * lag(ADDED_PERC, 3)) %>%\n",
    "    mutate(REMOVED_ADJ = sapply(abs(REMOVED_PERC) - ADDED_PERC, return_positive)) %>%\n",
    "    mutate(CONSOLIDATE = REMOVED_ADJ + lag(REMOVED_ADJ, 1) + lag(REMOVED_ADJ, 2))\n",
    "glimpse(good_look(sample_selected))"
   ]
  },
  {
   "cell_type": "markdown",
   "metadata": {},
   "source": [
    "### 10.2.2 Miles & Age"
   ]
  },
  {
   "cell_type": "code",
   "execution_count": 31,
   "metadata": {},
   "outputs": [
    {
     "name": "stdout",
     "output_type": "stream",
     "text": [
      "Observations: 786\n",
      "Variables: 8\n",
      "Groups: OPERATOR_ID [83]\n",
      "$ YEAR            \u001b[3m\u001b[38;5;246m<dbl>\u001b[39m\u001b[23m 2015, 2015, 2015, 2015, 2015, 2015, 2015, 2015, 2015,…\n",
      "$ OPERATOR_ID     \u001b[3m\u001b[38;5;246m<chr>\u001b[39m\u001b[23m \"1248\", \"14194\", \"15156\", \"19319\", \"22430\", \"22855\", …\n",
      "$ DISC_ADDED_ALT2 \u001b[3m\u001b[38;5;246m<dbl>\u001b[39m\u001b[23m NA, NA, NA, NA, NA, NA, NA, NA, NA, NA, NA, NA, NA, N…\n",
      "$ REMOVED_ADJ     \u001b[3m\u001b[38;5;246m<dbl>\u001b[39m\u001b[23m 0.001283697, 0.000000000, 0.015005359, 20.117572464, …\n",
      "$ CONSOLIDATE     \u001b[3m\u001b[38;5;246m<dbl>\u001b[39m\u001b[23m NA, NA, NA, NA, NA, NA, NA, NA, NA, NA, NA, NA, NA, N…\n",
      "$ CRUDE_MILES_3   \u001b[3m\u001b[38;5;246m<dbl>\u001b[39m\u001b[23m 332.000, 40.620, 559.000, 0.000, 10.746, 2962.620, 44…\n",
      "$ HVL_MILES_3     \u001b[3m\u001b[38;5;246m<dbl>\u001b[39m\u001b[23m 0.000, 0.000, 0.000, 343.020, 0.000, 1121.860, 1912.8…\n",
      "$ NON_HVL_MILES_3 \u001b[3m\u001b[38;5;246m<dbl>\u001b[39m\u001b[23m 0.000, 45.680, 1032.000, 55.444, 1213.692, 2464.780, …\n"
     ]
    }
   ],
   "source": [
    "sample_selected <- sample_selected %>%\n",
    "    group_by(OPERATOR_ID) %>%\n",
    "    arrange(desc(YEAR)) %>%\n",
    "    mutate(CRUDE_MILES_3 = CRUDE_MILES + lead(CRUDE_MILES) + lead(CRUDE_MILES, 2), \n",
    "           HVL_MILES_3 = HVL_MILES + lead(HVL_MILES) + lead(HVL_MILES, 2), \n",
    "           NON_HVL_MILES_3 = NON_HVL_MILES + lead(NON_HVL_MILES) + lead(NON_HVL_MILES, 2))\n",
    "glimpse(good_look(sample_selected))"
   ]
  },
  {
   "cell_type": "code",
   "execution_count": 32,
   "metadata": {},
   "outputs": [
    {
     "name": "stdout",
     "output_type": "stream",
     "text": [
      "Observations: 786\n",
      "Variables: 64\n",
      "Groups: OPERATOR_ID [83]\n",
      "$ YEAR                          \u001b[3m\u001b[38;5;246m<dbl>\u001b[39m\u001b[23m 2015, 2015, 2015, 2015, 2015, 2015, 201…\n",
      "$ OPERATOR_ID                   \u001b[3m\u001b[38;5;246m<chr>\u001b[39m\u001b[23m \"1248\", \"14194\", \"15156\", \"19319\", \"224…\n",
      "$ CRUDE_AGE_UNKNOWN_MILES       \u001b[3m\u001b[38;5;246m<dbl>\u001b[39m\u001b[23m 0.000, 0.000, 0.000, 0.000, 0.000, 0.00…\n",
      "$ CRUDE_AVG_AGE                 \u001b[3m\u001b[38;5;246m<dbl>\u001b[39m\u001b[23m 38.587502, 0.000000, 38.549180, 0.00000…\n",
      "$ CRUDE_INCIDENTS               \u001b[3m\u001b[38;5;246m<dbl>\u001b[39m\u001b[23m 1, 0, 0, 0, 0, 1, 0, 0, 0, 1, 0, 0, 0, …\n",
      "$ CRUDE_MILES                   \u001b[3m\u001b[38;5;246m<dbl>\u001b[39m\u001b[23m 64.000, 0.000, 211.000, 0.000, 3.582, 7…\n",
      "$ CRUDE_MILES_1940              \u001b[3m\u001b[38;5;246m<dbl>\u001b[39m\u001b[23m 0.0, 0.0, 79.0, 0.0, 0.0, 0.0, 0.0, 0.0…\n",
      "$ CRUDE_MILES_1950              \u001b[3m\u001b[38;5;246m<dbl>\u001b[39m\u001b[23m 0.000, 0.000, 10.000, 0.000, 3.554, 213…\n",
      "$ CRUDE_MILES_1960              \u001b[3m\u001b[38;5;246m<dbl>\u001b[39m\u001b[23m 359.000, 0.000, 168.000, 0.000, 0.023, …\n",
      "$ CRUDE_MILES_1970              \u001b[3m\u001b[38;5;246m<dbl>\u001b[39m\u001b[23m 149.000, 0.000, 113.000, 0.000, 0.000, …\n",
      "$ CRUDE_MILES_1980              \u001b[3m\u001b[38;5;246m<dbl>\u001b[39m\u001b[23m 63.000, 0.000, 0.000, 0.000, 0.000, 767…\n",
      "$ CRUDE_MILES_1990              \u001b[3m\u001b[38;5;246m<dbl>\u001b[39m\u001b[23m 18.000, 0.000, 15.000, 0.000, 0.000, 76…\n",
      "$ CRUDE_MILES_2000              \u001b[3m\u001b[38;5;246m<dbl>\u001b[39m\u001b[23m 35.000, 0.000, 112.000, 0.000, 0.000, 3…\n",
      "$ CRUDE_MILES_2010              \u001b[3m\u001b[38;5;246m<dbl>\u001b[39m\u001b[23m 63.000, 0.000, 34.000, 0.000, 0.005, 10…\n",
      "$ CRUDE_SIGNIFICANT_INCIDENTS   \u001b[3m\u001b[38;5;246m<dbl>\u001b[39m\u001b[23m 1, 0, 0, 0, 0, 1, 0, 0, 0, 1, 0, 0, 0, …\n",
      "$ HVL_AGE_UNKNOWN_MILES         \u001b[3m\u001b[38;5;246m<dbl>\u001b[39m\u001b[23m 0.000, 0.000, 0.000, 0.000, 0.000, 0.00…\n",
      "$ HVL_AVG_AGE                   \u001b[3m\u001b[38;5;246m<dbl>\u001b[39m\u001b[23m 0.000000, 0.000000, 0.000000, 37.142857…\n",
      "$ HVL_INCIDENTS                 \u001b[3m\u001b[38;5;246m<dbl>\u001b[39m\u001b[23m 0, 0, 0, 0, 0, 2, 0, 0, 0, 0, 0, 0, 0, …\n",
      "$ HVL_MILES                     \u001b[3m\u001b[38;5;246m<dbl>\u001b[39m\u001b[23m 0.000, 0.000, 0.000, 112.650, 0.000, 41…\n",
      "$ HVL_MILES_1940                \u001b[3m\u001b[38;5;246m<dbl>\u001b[39m\u001b[23m 0.000, 0.000, 0.000, 1.720, 0.000, 1.98…\n",
      "$ HVL_MILES_1950                \u001b[3m\u001b[38;5;246m<dbl>\u001b[39m\u001b[23m 0.000, 0.000, 0.000, 0.000, 0.000, 0.87…\n",
      "$ HVL_MILES_1960                \u001b[3m\u001b[38;5;246m<dbl>\u001b[39m\u001b[23m 0.000, 0.000, 0.000, 0.300, 0.000, 185.…\n",
      "$ HVL_MILES_1970                \u001b[3m\u001b[38;5;246m<dbl>\u001b[39m\u001b[23m 0.000, 0.000, 0.000, 0.000, 0.000, 107.…\n",
      "$ HVL_MILES_1980                \u001b[3m\u001b[38;5;246m<dbl>\u001b[39m\u001b[23m 0.000, 0.000, 0.000, 0.000, 0.000, 312.…\n",
      "$ HVL_MILES_1990                \u001b[3m\u001b[38;5;246m<dbl>\u001b[39m\u001b[23m 0.000, 0.000, 0.000, 3.500, 0.000, 51.5…\n",
      "$ HVL_MILES_2000                \u001b[3m\u001b[38;5;246m<dbl>\u001b[39m\u001b[23m 0.000, 0.000, 0.000, 0.000, 0.000, 7.31…\n",
      "$ HVL_MILES_2010                \u001b[3m\u001b[38;5;246m<dbl>\u001b[39m\u001b[23m 0.000, 0.000, 0.000, 0.000, 0.000, 33.9…\n",
      "$ HVL_SIGNIFICANT_INCIDENTS     \u001b[3m\u001b[38;5;246m<dbl>\u001b[39m\u001b[23m 0, 0, 0, 0, 0, 0, 0, 0, 0, 0, 0, 0, 0, …\n",
      "$ NON_HVL_AGE_UNKNOWN_MILES     \u001b[3m\u001b[38;5;246m<dbl>\u001b[39m\u001b[23m 0.0, 0.0, 0.0, 0.0, 0.0, 0.0, 0.0, 12.9…\n",
      "$ NON_HVL_AVG_AGE               \u001b[3m\u001b[38;5;246m<dbl>\u001b[39m\u001b[23m 39.3369294, 9.9786780, 35.8550483, 0.00…\n",
      "$ NON_HVL_INCIDENTS             \u001b[3m\u001b[38;5;246m<dbl>\u001b[39m\u001b[23m 0, 0, 1, 0, 1, 1, 0, 27, 10, 0, 0, 0, 0…\n",
      "$ NON_HVL_MILES                 \u001b[3m\u001b[38;5;246m<dbl>\u001b[39m\u001b[23m 0.000, 4.680, 353.000, 18.352, 402.507,…\n",
      "$ NON_HVL_MILES_1940            \u001b[3m\u001b[38;5;246m<dbl>\u001b[39m\u001b[23m 0.000, 0.000, 24.000, 0.000, 0.000, 2.0…\n",
      "$ NON_HVL_MILES_1950            \u001b[3m\u001b[38;5;246m<dbl>\u001b[39m\u001b[23m 0.000, 0.000, 0.000, 0.000, 21.000, 0.2…\n",
      "$ NON_HVL_MILES_1960            \u001b[3m\u001b[38;5;246m<dbl>\u001b[39m\u001b[23m 49.000, 0.000, 200.000, 0.000, 251.510,…\n",
      "$ NON_HVL_MILES_1970            \u001b[3m\u001b[38;5;246m<dbl>\u001b[39m\u001b[23m 0.000, 0.000, 56.000, 0.000, 69.334, 1.…\n",
      "$ NON_HVL_MILES_1980            \u001b[3m\u001b[38;5;246m<dbl>\u001b[39m\u001b[23m 0.000, 0.000, 0.000, 0.000, 3.298, 826.…\n",
      "$ NON_HVL_MILES_1990            \u001b[3m\u001b[38;5;246m<dbl>\u001b[39m\u001b[23m 27.000, 0.000, 45.000, 0.000, 3.247, 36…\n",
      "$ NON_HVL_MILES_2000            \u001b[3m\u001b[38;5;246m<dbl>\u001b[39m\u001b[23m 0.000, 4.680, 110.000, 0.000, 0.224, 4.…\n",
      "$ NON_HVL_MILES_2010            \u001b[3m\u001b[38;5;246m<dbl>\u001b[39m\u001b[23m 0.000, 0.000, 9.000, 0.000, 0.614, 1.07…\n",
      "$ NON_HVL_SIGNIFICANT_INCIDENTS \u001b[3m\u001b[38;5;246m<dbl>\u001b[39m\u001b[23m 0, 0, 1, 0, 1, 1, 0, 8, 4, 0, 0, 0, 0, …\n",
      "$ SIGNIFICANT_INCIDENTS         \u001b[3m\u001b[38;5;246m<dbl>\u001b[39m\u001b[23m 1, 0, 1, 0, 1, 2, 0, 8, 4, 1, 0, 0, 0, …\n",
      "$ ADDED                         \u001b[3m\u001b[38;5;246m<dbl>\u001b[39m\u001b[23m 0.000, 0.000, 0.000, 0.889, 0.000, 9.74…\n",
      "$ REMOVED                       \u001b[3m\u001b[38;5;246m<dbl>\u001b[39m\u001b[23m -1.000, 0.000, -14.000, -111.938, 0.000…\n",
      "$ TOTAL_MILES                   \u001b[3m\u001b[38;5;246m<dbl>\u001b[39m\u001b[23m 763.000, 4.680, 975.000, 5.520, 352.809…\n",
      "$ ADDED_PERC                    \u001b[3m\u001b[38;5;246m<dbl>\u001b[39m\u001b[23m 0.000000e+00, 0.000000e+00, 0.000000e+0…\n",
      "$ REMOVED_PERC                  \u001b[3m\u001b[38;5;246m<dbl>\u001b[39m\u001b[23m -0.001283697, 0.000000000, -0.015005359…\n",
      "$ CHANGE_TOTAL                  \u001b[3m\u001b[38;5;246m<dbl>\u001b[39m\u001b[23m -1.000, 0.000, -14.000, -111.049, 0.000…\n",
      "$ CHANGE_PERC                   \u001b[3m\u001b[38;5;246m<dbl>\u001b[39m\u001b[23m -1.308901e-03, 0.000000e+00, -1.415571e…\n",
      "$ MEAN_CHANGE_3                 \u001b[3m\u001b[38;5;246m<dbl>\u001b[39m\u001b[23m 0.001313481, 0.000000000, -0.011391911,…\n",
      "$ CHANGE_SD                     \u001b[3m\u001b[38;5;246m<dbl>\u001b[39m\u001b[23m 4.912316e-04, 0.000000e+00, 1.235392e-0…\n",
      "$ CHANGE_SD_SQ                  \u001b[3m\u001b[38;5;246m<dbl>\u001b[39m\u001b[23m 2.413085e-07, 0.000000e+00, 1.526193e-0…\n",
      "$ CHANGE_EXP                    \u001b[3m\u001b[38;5;246m<dbl>\u001b[39m\u001b[23m 1.000491, 1.000000, 1.000124, 1.361539,…\n",
      "$ INC_3                         \u001b[3m\u001b[38;5;246m<dbl>\u001b[39m\u001b[23m 3, 0, 4, 0, 1, 10, 0, 15, 11, 1, 0, 0, …\n",
      "$ INC_4                         \u001b[3m\u001b[38;5;246m<dbl>\u001b[39m\u001b[23m 4, 0, 5, 0, 3, 12, 0, 18, 17, 1, 1, 0, …\n",
      "$ INC_5                         \u001b[3m\u001b[38;5;246m<dbl>\u001b[39m\u001b[23m 8, 0, 5, 0, 5, 12, 1, 20, 20, 1, 1, 0, …\n",
      "$ DISC_ADDED                    \u001b[3m\u001b[38;5;246m<dbl>\u001b[39m\u001b[23m NA, NA, NA, NA, NA, NA, NA, NA, NA, NA,…\n",
      "$ DISC_ADDED_ALT                \u001b[3m\u001b[38;5;246m<dbl>\u001b[39m\u001b[23m NA, NA, NA, NA, NA, NA, NA, NA, NA, NA,…\n",
      "$ DISC_ADDED_ALT2               \u001b[3m\u001b[38;5;246m<dbl>\u001b[39m\u001b[23m NA, NA, NA, NA, NA, NA, NA, NA, NA, NA,…\n",
      "$ REMOVED_ADJ                   \u001b[3m\u001b[38;5;246m<dbl>\u001b[39m\u001b[23m 0.001283697, 0.000000000, 0.015005359, …\n",
      "$ CONSOLIDATE                   \u001b[3m\u001b[38;5;246m<dbl>\u001b[39m\u001b[23m NA, NA, NA, NA, NA, NA, NA, NA, NA, NA,…\n",
      "$ CRUDE_MILES_3                 \u001b[3m\u001b[38;5;246m<dbl>\u001b[39m\u001b[23m 332.000, 40.620, 559.000, 0.000, 10.746…\n",
      "$ HVL_MILES_3                   \u001b[3m\u001b[38;5;246m<dbl>\u001b[39m\u001b[23m 0.000, 0.000, 0.000, 343.020, 0.000, 11…\n",
      "$ NON_HVL_MILES_3               \u001b[3m\u001b[38;5;246m<dbl>\u001b[39m\u001b[23m 0.000, 45.680, 1032.000, 55.444, 1213.6…\n"
     ]
    }
   ],
   "source": [
    "sample_selected$CRUDE_AVG_AGE <- ((sample_selected$CRUDE_MILES_1940 * (sample_selected$YEAR - 1945)) + \n",
    "                                  (sample_selected$CRUDE_MILES_1950 * (sample_selected$YEAR - 1955)) +\n",
    "                                  (sample_selected$CRUDE_MILES_1960 * (sample_selected$YEAR - 1965)) +\n",
    "                                  (sample_selected$CRUDE_MILES_1970 * (sample_selected$YEAR - 1975)) +\n",
    "                                  (sample_selected$CRUDE_MILES_1980 * (sample_selected$YEAR - 1985)) +\n",
    "                                  (sample_selected$CRUDE_MILES_1990 * (sample_selected$YEAR - 1995)) +\n",
    "                                  (sample_selected$CRUDE_MILES_2000 * (sample_selected$YEAR - 2005)) +\n",
    "                                  (sample_selected$CRUDE_MILES_2010 * (sample_selected$YEAR - 2015))) / \n",
    "                                  (sample_selected$CRUDE_MILES_1940 +\n",
    "                                   sample_selected$CRUDE_MILES_1950 +\n",
    "                                   sample_selected$CRUDE_MILES_1960 +\n",
    "                                   sample_selected$CRUDE_MILES_1970 +\n",
    "                                   sample_selected$CRUDE_MILES_1980 +\n",
    "                                   sample_selected$CRUDE_MILES_1990 +\n",
    "                                   sample_selected$CRUDE_MILES_2000 +\n",
    "                                   sample_selected$CRUDE_MILES_2010\n",
    "                                  # ) \n",
    "                                  + 0.01)\n",
    "\n",
    "sample_selected$HVL_AVG_AGE <-   ((sample_selected$HVL_MILES_1940 * (sample_selected$YEAR - 1945)) + \n",
    "                                  (sample_selected$HVL_MILES_1950 * (sample_selected$YEAR - 1955)) +\n",
    "                                  (sample_selected$HVL_MILES_1960 * (sample_selected$YEAR - 1965)) +\n",
    "                                  (sample_selected$HVL_MILES_1970 * (sample_selected$YEAR - 1975)) +\n",
    "                                  (sample_selected$HVL_MILES_1980 * (sample_selected$YEAR - 1985)) +\n",
    "                                  (sample_selected$HVL_MILES_1990 * (sample_selected$YEAR - 1995)) +\n",
    "                                  (sample_selected$HVL_MILES_2000 * (sample_selected$YEAR - 2005)) +\n",
    "                                  (sample_selected$HVL_MILES_2010 * (sample_selected$YEAR - 2015))) / \n",
    "                                  (sample_selected$HVL_MILES_1940 +\n",
    "                                   sample_selected$HVL_MILES_1950 +\n",
    "                                   sample_selected$HVL_MILES_1960 +\n",
    "                                   sample_selected$HVL_MILES_1970 +\n",
    "                                   sample_selected$HVL_MILES_1980 +\n",
    "                                   sample_selected$HVL_MILES_1990 +\n",
    "                                   sample_selected$HVL_MILES_2000 +\n",
    "                                   sample_selected$HVL_MILES_2010\n",
    "                                  # ) \n",
    "                                  + 0.01)\n",
    "\n",
    "sample_selected$NON_HVL_AVG_AGE <- ((sample_selected$NON_HVL_MILES_1940 * (sample_selected$YEAR - 1945)) + \n",
    "                                    (sample_selected$NON_HVL_MILES_1950 * (sample_selected$YEAR - 1955)) +\n",
    "                                    (sample_selected$NON_HVL_MILES_1960 * (sample_selected$YEAR - 1965)) +\n",
    "                                    (sample_selected$NON_HVL_MILES_1970 * (sample_selected$YEAR - 1975)) +\n",
    "                                    (sample_selected$NON_HVL_MILES_1980 * (sample_selected$YEAR - 1985)) +\n",
    "                                    (sample_selected$NON_HVL_MILES_1990 * (sample_selected$YEAR - 1995)) +\n",
    "                                    (sample_selected$NON_HVL_MILES_2000 * (sample_selected$YEAR - 2005)) +\n",
    "                                    (sample_selected$NON_HVL_MILES_2010 * (sample_selected$YEAR - 2015))) / \n",
    "                                    (sample_selected$NON_HVL_MILES_1940 +\n",
    "                                     sample_selected$NON_HVL_MILES_1950 +\n",
    "                                     sample_selected$NON_HVL_MILES_1960 +\n",
    "                                     sample_selected$NON_HVL_MILES_1970 +\n",
    "                                     sample_selected$NON_HVL_MILES_1980 +\n",
    "                                     sample_selected$NON_HVL_MILES_1990 +\n",
    "                                     sample_selected$NON_HVL_MILES_2000 +\n",
    "                                     sample_selected$NON_HVL_MILES_2010\n",
    "                                    # ) \n",
    "                                    + 0.01)\n",
    "\n",
    "glimpse(sample_selected)"
   ]
  },
  {
   "cell_type": "code",
   "execution_count": 33,
   "metadata": {},
   "outputs": [
    {
     "name": "stdout",
     "output_type": "stream",
     "text": [
      "Observations: 786\n",
      "Variables: 8\n",
      "Groups: OPERATOR_ID [83]\n",
      "$ YEAR              \u001b[3m\u001b[38;5;246m<dbl>\u001b[39m\u001b[23m 2015, 2015, 2015, 2015, 2015, 2015, 2015, 2015, 201…\n",
      "$ OPERATOR_ID       \u001b[3m\u001b[38;5;246m<chr>\u001b[39m\u001b[23m \"1248\", \"14194\", \"15156\", \"19319\", \"22430\", \"22855\"…\n",
      "$ CRUDE_MILES_3     \u001b[3m\u001b[38;5;246m<dbl>\u001b[39m\u001b[23m 332.000, 40.620, 559.000, 0.000, 10.746, 2962.620, …\n",
      "$ HVL_MILES_3       \u001b[3m\u001b[38;5;246m<dbl>\u001b[39m\u001b[23m 0.000, 0.000, 0.000, 343.020, 0.000, 1121.860, 1912…\n",
      "$ NON_HVL_MILES_3   \u001b[3m\u001b[38;5;246m<dbl>\u001b[39m\u001b[23m 0.000, 45.680, 1032.000, 55.444, 1213.692, 2464.780…\n",
      "$ CRUDE_AVG_AGE_3   \u001b[3m\u001b[38;5;246m<dbl>\u001b[39m\u001b[23m NA, NA, NA, NA, NA, NA, NA, NA, NA, NA, NA, NA, NA,…\n",
      "$ HVL_AVG_AGE_3     \u001b[3m\u001b[38;5;246m<dbl>\u001b[39m\u001b[23m NA, NA, NA, NA, NA, NA, NA, NA, NA, NA, NA, NA, NA,…\n",
      "$ NON_HVL_AVG_AGE_3 \u001b[3m\u001b[38;5;246m<dbl>\u001b[39m\u001b[23m NA, NA, NA, NA, NA, NA, NA, NA, NA, NA, NA, NA, NA,…\n"
     ]
    }
   ],
   "source": [
    "sample_selected <- sample_selected %>%\n",
    "    group_by(OPERATOR_ID) %>%\n",
    "    arrange(desc(YEAR)) %>%\n",
    "    mutate(CRUDE_AVG_AGE_3 =   (CRUDE_AVG_AGE * CRUDE_MILES + \n",
    "                                lag(CRUDE_AVG_AGE, 1) * lag(CRUDE_MILES, 1) + \n",
    "                                lag(CRUDE_AVG_AGE, 2) * lag(CRUDE_MILES, 2)) /\n",
    "                                (CRUDE_MILES + lag(CRUDE_MILES, 1) + lag(CRUDE_MILES, 2)       # ),\n",
    "                                                                                               + 0.01), \n",
    "           HVL_AVG_AGE_3 =     (HVL_AVG_AGE * HVL_MILES + \n",
    "                                lag(HVL_AVG_AGE, 1) * lag(HVL_MILES, 1) + \n",
    "                                lag(HVL_AVG_AGE, 2) * lag(HVL_MILES, 2)) /\n",
    "                                (HVL_MILES + lag(HVL_MILES, 1) + lag(HVL_MILES, 2)             # ), \n",
    "                                                                                               + 0.01), \n",
    "           NON_HVL_AVG_AGE_3 = (NON_HVL_AVG_AGE * NON_HVL_MILES + \n",
    "                                lag(NON_HVL_AVG_AGE, 1) * lag(NON_HVL_MILES, 1) + \n",
    "                                lag(NON_HVL_AVG_AGE, 2) * lag(NON_HVL_MILES, 2)) /\n",
    "                                (NON_HVL_MILES + lag(NON_HVL_MILES, 1) + lag(NON_HVL_MILES, 2) # )) \n",
    "                                                                                               + 0.01))\n",
    "glimpse(good_look(sample_selected))"
   ]
  },
  {
   "cell_type": "code",
   "execution_count": 34,
   "metadata": {},
   "outputs": [
    {
     "data": {
      "text/plain": [
       "\n",
       "  0   1   2   3   5   6   7   8   9  10  11  12  13  14  15  16  17  18  19  20 \n",
       "194   3   2   1   1   2   2   2   3   3   2   3   4   3   5   5   6   6   5   4 \n",
       " 21  22  23  24  25  26  27  28  29  30  31  32  33  34  35  36  37  38  39  40 \n",
       "  7  10   9   9  19   7   5   6   7   4   8   5  15  20  30  20  13  16  13   8 \n",
       " 41  42  43  44  45  46  47  48  49  50  51  52  53  54  55  56  57  58 \n",
       "  9  11   8   5   8  13  20  14  12   6  10   3   3   1   3   1   4   3 "
      ]
     },
     "metadata": {},
     "output_type": "display_data"
    }
   ],
   "source": [
    "table(round(sample_selected$NON_HVL_AVG_AGE_3))"
   ]
  },
  {
   "cell_type": "markdown",
   "metadata": {},
   "source": [
    "### 10.2.3 Add control for no miles to \"switch off\" (absorb variance) from age"
   ]
  },
  {
   "cell_type": "code",
   "execution_count": 35,
   "metadata": {},
   "outputs": [],
   "source": [
    "sample_selected$NO_CRUDE <- sample_selected$CRUDE_MILES_3 == 0\n",
    "sample_selected$NO_HVL <- sample_selected$HVL_MILES_3 == 0\n",
    "sample_selected$NO_NON_HVL <- sample_selected$NON_HVL_MILES_3 == 0"
   ]
  },
  {
   "cell_type": "markdown",
   "metadata": {},
   "source": [
    "# 10.3 M&As"
   ]
  },
  {
   "cell_type": "code",
   "execution_count": 36,
   "metadata": {},
   "outputs": [
    {
     "name": "stdout",
     "output_type": "stream",
     "text": [
      "Observations: 786\n",
      "Variables: 8\n",
      "Groups: OPERATOR_ID [83]\n",
      "$ YEAR              \u001b[3m\u001b[38;5;246m<dbl>\u001b[39m\u001b[23m 2015, 2015, 2015, 2015, 2015, 2015, 2015, 2015, 201…\n",
      "$ OPERATOR_ID       \u001b[3m\u001b[38;5;246m<chr>\u001b[39m\u001b[23m \"1248\", \"14194\", \"15156\", \"19319\", \"22430\", \"22855\"…\n",
      "$ HVL_AVG_AGE_3     \u001b[3m\u001b[38;5;246m<dbl>\u001b[39m\u001b[23m NA, NA, NA, NA, NA, NA, NA, NA, NA, NA, NA, NA, NA,…\n",
      "$ NON_HVL_AVG_AGE_3 \u001b[3m\u001b[38;5;246m<dbl>\u001b[39m\u001b[23m NA, NA, NA, NA, NA, NA, NA, NA, NA, NA, NA, NA, NA,…\n",
      "$ NO_CRUDE          \u001b[3m\u001b[38;5;246m<lgl>\u001b[39m\u001b[23m FALSE, FALSE, FALSE, TRUE, FALSE, FALSE, FALSE, TRU…\n",
      "$ NO_HVL            \u001b[3m\u001b[38;5;246m<lgl>\u001b[39m\u001b[23m TRUE, TRUE, TRUE, FALSE, TRUE, FALSE, FALSE, TRUE, …\n",
      "$ NO_NON_HVL        \u001b[3m\u001b[38;5;246m<lgl>\u001b[39m\u001b[23m TRUE, FALSE, FALSE, FALSE, FALSE, FALSE, FALSE, FAL…\n",
      "$ M_A               \u001b[3m\u001b[38;5;246m<lgl>\u001b[39m\u001b[23m FALSE, FALSE, FALSE, FALSE, FALSE, FALSE, FALSE, FA…\n"
     ]
    }
   ],
   "source": [
    "sample_selected <- left_join(sample_selected, m_as, by=c('OPERATOR_ID', 'YEAR'))\n",
    "glimpse(good_look(sample_selected))"
   ]
  },
  {
   "cell_type": "code",
   "execution_count": 37,
   "metadata": {},
   "outputs": [
    {
     "name": "stdout",
     "output_type": "stream",
     "text": [
      "Observations: 786\n",
      "Variables: 8\n",
      "Groups: OPERATOR_ID [83]\n",
      "$ YEAR        \u001b[3m\u001b[38;5;246m<dbl>\u001b[39m\u001b[23m 2015, 2015, 2015, 2015, 2015, 2015, 2015, 2015, 2015, 201…\n",
      "$ OPERATOR_ID \u001b[3m\u001b[38;5;246m<chr>\u001b[39m\u001b[23m \"1248\", \"14194\", \"15156\", \"19319\", \"22430\", \"22855\", \"251…\n",
      "$ NO_NON_HVL  \u001b[3m\u001b[38;5;246m<lgl>\u001b[39m\u001b[23m TRUE, FALSE, FALSE, FALSE, FALSE, FALSE, FALSE, FALSE, FA…\n",
      "$ M_A         \u001b[3m\u001b[38;5;246m<lgl>\u001b[39m\u001b[23m FALSE, FALSE, FALSE, FALSE, FALSE, FALSE, FALSE, FALSE, F…\n",
      "$ M_A_1       \u001b[3m\u001b[38;5;246m<lgl>\u001b[39m\u001b[23m FALSE, FALSE, FALSE, FALSE, FALSE, FALSE, FALSE, FALSE, F…\n",
      "$ M_A_2       \u001b[3m\u001b[38;5;246m<lgl>\u001b[39m\u001b[23m FALSE, FALSE, FALSE, FALSE, FALSE, FALSE, FALSE, FALSE, F…\n",
      "$ M_A_3       \u001b[3m\u001b[38;5;246m<lgl>\u001b[39m\u001b[23m FALSE, FALSE, FALSE, FALSE, FALSE, FALSE, FALSE, FALSE, F…\n",
      "$ M_A_past_3  \u001b[3m\u001b[38;5;246m<lgl>\u001b[39m\u001b[23m FALSE, FALSE, FALSE, FALSE, FALSE, FALSE, FALSE, FALSE, F…\n"
     ]
    }
   ],
   "source": [
    "sample_selected <- sample_selected %>%\n",
    "    group_by(OPERATOR_ID) %>%\n",
    "    arrange(desc(YEAR)) %>%\n",
    "    mutate(M_A_1 = lead(M_A), M_A_2 = lead(M_A, 2), M_A_3 = lead(M_A, 3)) %>%\n",
    "    mutate(M_A_past_3 = TRUE %in% c(M_A, M_A_1, M_A_2))\n",
    "glimpse(good_look(sample_selected))"
   ]
  },
  {
   "cell_type": "markdown",
   "metadata": {},
   "source": [
    "## 10.4 Change SD"
   ]
  },
  {
   "cell_type": "code",
   "execution_count": 38,
   "metadata": {},
   "outputs": [
    {
     "name": "stdout",
     "output_type": "stream",
     "text": [
      "Observations: 786\n",
      "Variables: 8\n",
      "Groups: OPERATOR_ID [83]\n",
      "$ YEAR        \u001b[3m\u001b[38;5;246m<dbl>\u001b[39m\u001b[23m 2015, 2015, 2015, 2015, 2015, 2015, 2015, 2015, 2015, 201…\n",
      "$ OPERATOR_ID \u001b[3m\u001b[38;5;246m<chr>\u001b[39m\u001b[23m \"1248\", \"14194\", \"15156\", \"19319\", \"22430\", \"22855\", \"251…\n",
      "$ M_A_1       \u001b[3m\u001b[38;5;246m<lgl>\u001b[39m\u001b[23m FALSE, FALSE, FALSE, FALSE, FALSE, FALSE, FALSE, FALSE, F…\n",
      "$ M_A_2       \u001b[3m\u001b[38;5;246m<lgl>\u001b[39m\u001b[23m FALSE, FALSE, FALSE, FALSE, FALSE, FALSE, FALSE, FALSE, F…\n",
      "$ M_A_3       \u001b[3m\u001b[38;5;246m<lgl>\u001b[39m\u001b[23m FALSE, FALSE, FALSE, FALSE, FALSE, FALSE, FALSE, FALSE, F…\n",
      "$ M_A_past_3  \u001b[3m\u001b[38;5;246m<lgl>\u001b[39m\u001b[23m FALSE, FALSE, FALSE, FALSE, FALSE, FALSE, FALSE, FALSE, F…\n",
      "$ ADDED_1     \u001b[3m\u001b[38;5;246m<dbl>\u001b[39m\u001b[23m 0.0589285714, 0.0000000000, 0.1094339623, 0.0000000000, 0…\n",
      "$ ADDED_2     \u001b[3m\u001b[38;5;246m<dbl>\u001b[39m\u001b[23m 7.454545e-02, 0.000000e+00, 1.593186e-01, 0.000000e+00, 2…\n"
     ]
    }
   ],
   "source": [
    "sample_selected <- sample_selected %>%\n",
    "    group_by(OPERATOR_ID) %>%\n",
    "    arrange(desc(YEAR)) %>%\n",
    "    mutate(ADDED_1 = lead(ADDED_PERC, 1), \n",
    "           ADDED_2 = lead(ADDED_PERC, 2))\n",
    "glimpse(good_look(sample_selected))"
   ]
  },
  {
   "cell_type": "code",
   "execution_count": 39,
   "metadata": {},
   "outputs": [
    {
     "name": "stdout",
     "output_type": "stream",
     "text": [
      "Observations: 786\n",
      "Variables: 8\n",
      "Groups: OPERATOR_ID [83]\n",
      "$ YEAR           \u001b[3m\u001b[38;5;246m<dbl>\u001b[39m\u001b[23m 2015, 2015, 2015, 2015, 2015, 2015, 2015, 2015, 2015, …\n",
      "$ OPERATOR_ID    \u001b[3m\u001b[38;5;246m<chr>\u001b[39m\u001b[23m \"1248\", \"14194\", \"15156\", \"19319\", \"22430\", \"22855\", \"…\n",
      "$ ADDED_1        \u001b[3m\u001b[38;5;246m<dbl>\u001b[39m\u001b[23m 0.000000e+00, 0.000000e+00, 0.000000e+00, 1.610507e-01…\n",
      "$ ADDED_2        \u001b[3m\u001b[38;5;246m<dbl>\u001b[39m\u001b[23m NA, NA, NA, NA, NA, NA, NA, NA, NA, NA, NA, NA, NA, NA…\n",
      "$ ADDED_3        \u001b[3m\u001b[38;5;246m<dbl>\u001b[39m\u001b[23m NA, NA, NA, NA, NA, NA, NA, NA, NA, NA, NA, NA, NA, NA…\n",
      "$ MEAN_ADDED_3   \u001b[3m\u001b[38;5;246m<dbl>\u001b[39m\u001b[23m NA, NA, NA, NA, NA, NA, NA, NA, NA, NA, NA, NA, NA, NA…\n",
      "$ SD_ADDED_3     \u001b[3m\u001b[38;5;246m<dbl>\u001b[39m\u001b[23m NA, NA, NA, NA, NA, NA, NA, NA, NA, NA, NA, NA, NA, NA…\n",
      "$ SD_ADDED_3_EXP \u001b[3m\u001b[38;5;246m<dbl>\u001b[39m\u001b[23m NA, NA, NA, NA, NA, NA, NA, NA, NA, NA, NA, NA, NA, NA…\n"
     ]
    }
   ],
   "source": [
    "sample_selected <- sample_selected %>%\n",
    "    group_by(OPERATOR_ID) %>%\n",
    "    arrange(desc(YEAR)) %>%\n",
    "    mutate(ADDED_1 = lead(ADDED_PERC, 0), \n",
    "           ADDED_2 = lag(ADDED_PERC, 1), \n",
    "           ADDED_3 = lag(ADDED_PERC, 2)) %>%\n",
    "    mutate(MEAN_ADDED_3 = (ADDED_1 + ADDED_2 + ADDED_3) / 3) %>%\n",
    "    mutate(SD_ADDED_3 = sqrt(((ADDED_1 - MEAN_ADDED_3)^2 + (ADDED_2 - MEAN_ADDED_3)^2 + (ADDED_3 - MEAN_ADDED_3)^2) / 3)) %>%\n",
    "    mutate(SD_ADDED_3_EXP = exp(SD_ADDED_3))\n",
    "glimpse(good_look(sample_selected))"
   ]
  },
  {
   "cell_type": "code",
   "execution_count": 40,
   "metadata": {},
   "outputs": [
    {
     "data": {
      "text/plain": [
       "\n",
       "   0 0.01 0.02 0.03 0.04 0.05 0.06 0.07 0.08 0.09  0.1 0.11 0.12 0.13 0.14 0.15 \n",
       " 141   48   48   34   34   21   19   13   12   11   13   12    7    4   13   11 \n",
       "0.16 0.17 0.18 0.19  0.2 0.21 0.22 0.23 0.24 0.25 0.26 0.27 0.28 0.29 0.31 0.33 \n",
       "  10   13    4    3    4    7    2    3    6    3    3    5    1    1    1    3 \n",
       "0.35 0.36 0.37  0.4 0.41 0.42 0.44 0.45 0.46 0.47 0.48  0.8 0.81 0.84 2.67 \n",
       "   3    6    3    3    1    2    3    2    1    2    3    1    1    1    3 "
      ]
     },
     "metadata": {},
     "output_type": "display_data"
    }
   ],
   "source": [
    "table(round(sample_selected$SD_ADDED_3, 2))"
   ]
  },
  {
   "cell_type": "markdown",
   "metadata": {},
   "source": [
    "### 10.4.1 Filter large observations for now"
   ]
  },
  {
   "cell_type": "code",
   "execution_count": 41,
   "metadata": {},
   "outputs": [],
   "source": [
    "# sample_selected <- subset(sample_selected, SD_ADDED_3 < 5)"
   ]
  },
  {
   "cell_type": "markdown",
   "metadata": {},
   "source": [
    "## 10.5 Fill NA (where appropriate) "
   ]
  },
  {
   "cell_type": "code",
   "execution_count": 42,
   "metadata": {},
   "outputs": [
    {
     "name": "stderr",
     "output_type": "stream",
     "text": [
      "Adding missing grouping variables: `OPERATOR_ID`\n"
     ]
    },
    {
     "data": {
      "text/html": [
       "<table>\n",
       "<caption>A grouped_df: 6 × 16</caption>\n",
       "<thead>\n",
       "\t<tr><th scope=col>OPERATOR_ID</th><th scope=col>CRUDE_AGE_UNKNOWN_MILES</th><th scope=col>CRUDE_AVG_AGE</th><th scope=col>CRUDE_INCIDENTS</th><th scope=col>CRUDE_MILES</th><th scope=col>CRUDE_MILES_1940</th><th scope=col>CRUDE_MILES_1950</th><th scope=col>CRUDE_MILES_1960</th><th scope=col>CRUDE_MILES_1970</th><th scope=col>CRUDE_MILES_1980</th><th scope=col>CRUDE_MILES_1990</th><th scope=col>CRUDE_MILES_2000</th><th scope=col>CRUDE_MILES_2010</th><th scope=col>CRUDE_SIGNIFICANT_INCIDENTS</th><th scope=col>CRUDE_MILES_3</th><th scope=col>CRUDE_AVG_AGE_3</th></tr>\n",
       "\t<tr><th scope=col>&lt;chr&gt;</th><th scope=col>&lt;dbl&gt;</th><th scope=col>&lt;dbl&gt;</th><th scope=col>&lt;dbl&gt;</th><th scope=col>&lt;dbl&gt;</th><th scope=col>&lt;dbl&gt;</th><th scope=col>&lt;dbl&gt;</th><th scope=col>&lt;dbl&gt;</th><th scope=col>&lt;dbl&gt;</th><th scope=col>&lt;dbl&gt;</th><th scope=col>&lt;dbl&gt;</th><th scope=col>&lt;dbl&gt;</th><th scope=col>&lt;dbl&gt;</th><th scope=col>&lt;dbl&gt;</th><th scope=col>&lt;dbl&gt;</th><th scope=col>&lt;dbl&gt;</th></tr>\n",
       "</thead>\n",
       "<tbody>\n",
       "\t<tr><td>1248 </td><td>0</td><td>38.58750</td><td>1</td><td> 64.000</td><td> 0</td><td>  0.000</td><td>359.000</td><td>149.00</td><td> 63.00</td><td>18.00</td><td> 35.00</td><td> 63.000</td><td>1</td><td> 332.000</td><td>NA</td></tr>\n",
       "\t<tr><td>14194</td><td>0</td><td> 0.00000</td><td>0</td><td>  0.000</td><td> 0</td><td>  0.000</td><td>  0.000</td><td>  0.00</td><td>  0.00</td><td> 0.00</td><td>  0.00</td><td>  0.000</td><td>0</td><td>  40.620</td><td>NA</td></tr>\n",
       "\t<tr><td>15156</td><td>0</td><td>38.54918</td><td>0</td><td>211.000</td><td>79</td><td> 10.000</td><td>168.000</td><td>113.00</td><td>  0.00</td><td>15.00</td><td>112.00</td><td> 34.000</td><td>0</td><td> 559.000</td><td>NA</td></tr>\n",
       "\t<tr><td>19319</td><td>0</td><td> 0.00000</td><td>0</td><td>  0.000</td><td> 0</td><td>  0.000</td><td>  0.000</td><td>  0.00</td><td>  0.00</td><td> 0.00</td><td>  0.00</td><td>  0.000</td><td>0</td><td>   0.000</td><td>NA</td></tr>\n",
       "\t<tr><td>22430</td><td>0</td><td>59.68541</td><td>0</td><td>  3.582</td><td> 0</td><td>  3.554</td><td>  0.023</td><td>  0.00</td><td>  0.00</td><td> 0.00</td><td>  0.00</td><td>  0.005</td><td>0</td><td>  10.746</td><td>NA</td></tr>\n",
       "\t<tr><td>22855</td><td>0</td><td>29.24262</td><td>1</td><td>798.900</td><td> 0</td><td>213.880</td><td>  0.000</td><td>264.61</td><td>767.67</td><td>76.43</td><td>316.71</td><td>109.610</td><td>1</td><td>2962.620</td><td>NA</td></tr>\n",
       "</tbody>\n",
       "</table>\n"
      ],
      "text/latex": [
       "A grouped_df: 6 × 16\n",
       "\\begin{tabular}{r|llllllllllllllll}\n",
       " OPERATOR\\_ID & CRUDE\\_AGE\\_UNKNOWN\\_MILES & CRUDE\\_AVG\\_AGE & CRUDE\\_INCIDENTS & CRUDE\\_MILES & CRUDE\\_MILES\\_1940 & CRUDE\\_MILES\\_1950 & CRUDE\\_MILES\\_1960 & CRUDE\\_MILES\\_1970 & CRUDE\\_MILES\\_1980 & CRUDE\\_MILES\\_1990 & CRUDE\\_MILES\\_2000 & CRUDE\\_MILES\\_2010 & CRUDE\\_SIGNIFICANT\\_INCIDENTS & CRUDE\\_MILES\\_3 & CRUDE\\_AVG\\_AGE\\_3\\\\\n",
       " <chr> & <dbl> & <dbl> & <dbl> & <dbl> & <dbl> & <dbl> & <dbl> & <dbl> & <dbl> & <dbl> & <dbl> & <dbl> & <dbl> & <dbl> & <dbl>\\\\\n",
       "\\hline\n",
       "\t 1248  & 0 & 38.58750 & 1 &  64.000 &  0 &   0.000 & 359.000 & 149.00 &  63.00 & 18.00 &  35.00 &  63.000 & 1 &  332.000 & NA\\\\\n",
       "\t 14194 & 0 &  0.00000 & 0 &   0.000 &  0 &   0.000 &   0.000 &   0.00 &   0.00 &  0.00 &   0.00 &   0.000 & 0 &   40.620 & NA\\\\\n",
       "\t 15156 & 0 & 38.54918 & 0 & 211.000 & 79 &  10.000 & 168.000 & 113.00 &   0.00 & 15.00 & 112.00 &  34.000 & 0 &  559.000 & NA\\\\\n",
       "\t 19319 & 0 &  0.00000 & 0 &   0.000 &  0 &   0.000 &   0.000 &   0.00 &   0.00 &  0.00 &   0.00 &   0.000 & 0 &    0.000 & NA\\\\\n",
       "\t 22430 & 0 & 59.68541 & 0 &   3.582 &  0 &   3.554 &   0.023 &   0.00 &   0.00 &  0.00 &   0.00 &   0.005 & 0 &   10.746 & NA\\\\\n",
       "\t 22855 & 0 & 29.24262 & 1 & 798.900 &  0 & 213.880 &   0.000 & 264.61 & 767.67 & 76.43 & 316.71 & 109.610 & 1 & 2962.620 & NA\\\\\n",
       "\\end{tabular}\n"
      ],
      "text/markdown": [
       "\n",
       "A grouped_df: 6 × 16\n",
       "\n",
       "| OPERATOR_ID &lt;chr&gt; | CRUDE_AGE_UNKNOWN_MILES &lt;dbl&gt; | CRUDE_AVG_AGE &lt;dbl&gt; | CRUDE_INCIDENTS &lt;dbl&gt; | CRUDE_MILES &lt;dbl&gt; | CRUDE_MILES_1940 &lt;dbl&gt; | CRUDE_MILES_1950 &lt;dbl&gt; | CRUDE_MILES_1960 &lt;dbl&gt; | CRUDE_MILES_1970 &lt;dbl&gt; | CRUDE_MILES_1980 &lt;dbl&gt; | CRUDE_MILES_1990 &lt;dbl&gt; | CRUDE_MILES_2000 &lt;dbl&gt; | CRUDE_MILES_2010 &lt;dbl&gt; | CRUDE_SIGNIFICANT_INCIDENTS &lt;dbl&gt; | CRUDE_MILES_3 &lt;dbl&gt; | CRUDE_AVG_AGE_3 &lt;dbl&gt; |\n",
       "|---|---|---|---|---|---|---|---|---|---|---|---|---|---|---|---|\n",
       "| 1248  | 0 | 38.58750 | 1 |  64.000 |  0 |   0.000 | 359.000 | 149.00 |  63.00 | 18.00 |  35.00 |  63.000 | 1 |  332.000 | NA |\n",
       "| 14194 | 0 |  0.00000 | 0 |   0.000 |  0 |   0.000 |   0.000 |   0.00 |   0.00 |  0.00 |   0.00 |   0.000 | 0 |   40.620 | NA |\n",
       "| 15156 | 0 | 38.54918 | 0 | 211.000 | 79 |  10.000 | 168.000 | 113.00 |   0.00 | 15.00 | 112.00 |  34.000 | 0 |  559.000 | NA |\n",
       "| 19319 | 0 |  0.00000 | 0 |   0.000 |  0 |   0.000 |   0.000 |   0.00 |   0.00 |  0.00 |   0.00 |   0.000 | 0 |    0.000 | NA |\n",
       "| 22430 | 0 | 59.68541 | 0 |   3.582 |  0 |   3.554 |   0.023 |   0.00 |   0.00 |  0.00 |   0.00 |   0.005 | 0 |   10.746 | NA |\n",
       "| 22855 | 0 | 29.24262 | 1 | 798.900 |  0 | 213.880 |   0.000 | 264.61 | 767.67 | 76.43 | 316.71 | 109.610 | 1 | 2962.620 | NA |\n",
       "\n"
      ],
      "text/plain": [
       "  OPERATOR_ID CRUDE_AGE_UNKNOWN_MILES CRUDE_AVG_AGE CRUDE_INCIDENTS CRUDE_MILES\n",
       "1 1248        0                       38.58750      1                64.000    \n",
       "2 14194       0                        0.00000      0                 0.000    \n",
       "3 15156       0                       38.54918      0               211.000    \n",
       "4 19319       0                        0.00000      0                 0.000    \n",
       "5 22430       0                       59.68541      0                 3.582    \n",
       "6 22855       0                       29.24262      1               798.900    \n",
       "  CRUDE_MILES_1940 CRUDE_MILES_1950 CRUDE_MILES_1960 CRUDE_MILES_1970\n",
       "1  0                 0.000          359.000          149.00          \n",
       "2  0                 0.000            0.000            0.00          \n",
       "3 79                10.000          168.000          113.00          \n",
       "4  0                 0.000            0.000            0.00          \n",
       "5  0                 3.554            0.023            0.00          \n",
       "6  0               213.880            0.000          264.61          \n",
       "  CRUDE_MILES_1980 CRUDE_MILES_1990 CRUDE_MILES_2000 CRUDE_MILES_2010\n",
       "1  63.00           18.00             35.00            63.000         \n",
       "2   0.00            0.00              0.00             0.000         \n",
       "3   0.00           15.00            112.00            34.000         \n",
       "4   0.00            0.00              0.00             0.000         \n",
       "5   0.00            0.00              0.00             0.005         \n",
       "6 767.67           76.43            316.71           109.610         \n",
       "  CRUDE_SIGNIFICANT_INCIDENTS CRUDE_MILES_3 CRUDE_AVG_AGE_3\n",
       "1 1                            332.000      NA             \n",
       "2 0                             40.620      NA             \n",
       "3 0                            559.000      NA             \n",
       "4 0                              0.000      NA             \n",
       "5 0                             10.746      NA             \n",
       "6 1                           2962.620      NA             "
      ]
     },
     "metadata": {},
     "output_type": "display_data"
    }
   ],
   "source": [
    "sample_selected[is.na(sample_selected$CRUDE_AVG_AGE_3), ] %>%\n",
    "    select(starts_with(\"CRUDE\")) %>%\n",
    "    head()"
   ]
  },
  {
   "cell_type": "markdown",
   "metadata": {},
   "source": [
    "## 10.5 Interaction etc."
   ]
  },
  {
   "cell_type": "code",
   "execution_count": 43,
   "metadata": {},
   "outputs": [],
   "source": [
    "sample_selected$SD_ADDED_3_EXP_SQ <- sample_selected$SD_ADDED_3_EXP^2\n",
    "sample_selected$SDxADDED <- sample_selected$SD_ADDED_3_EXP * sample_selected$DISC_ADDED\n",
    "\n",
    "sample_selected$CRUDExAGE <- sample_selected$CRUDE_MILES_3 * sample_selected$CRUDE_AVG_AGE_3\n",
    "sample_selected$HVLxAGE <- sample_selected$HVL_MILES_3 * sample_selected$HVL_AVG_AGE_3\n",
    "sample_selected$NON_HVLxAGE <- sample_selected$NON_HVL_MILES_3 * sample_selected$NON_HVL_AVG_AGE_3"
   ]
  },
  {
   "cell_type": "code",
   "execution_count": 44,
   "metadata": {},
   "outputs": [
    {
     "name": "stdout",
     "output_type": "stream",
     "text": [
      "Observations: 786\n",
      "Variables: 86\n",
      "Groups: OPERATOR_ID [83]\n",
      "$ YEAR                          \u001b[3m\u001b[38;5;246m<dbl>\u001b[39m\u001b[23m 2015, 2015, 2015, 2015, 2015, 2015, 201…\n",
      "$ OPERATOR_ID                   \u001b[3m\u001b[38;5;246m<chr>\u001b[39m\u001b[23m \"1248\", \"14194\", \"15156\", \"19319\", \"224…\n",
      "$ CRUDE_AGE_UNKNOWN_MILES       \u001b[3m\u001b[38;5;246m<dbl>\u001b[39m\u001b[23m 0.000, 0.000, 0.000, 0.000, 0.000, 0.00…\n",
      "$ CRUDE_AVG_AGE                 \u001b[3m\u001b[38;5;246m<dbl>\u001b[39m\u001b[23m 38.587502, 0.000000, 38.549180, 0.00000…\n",
      "$ CRUDE_INCIDENTS               \u001b[3m\u001b[38;5;246m<dbl>\u001b[39m\u001b[23m 1, 0, 0, 0, 0, 1, 0, 0, 0, 1, 0, 0, 0, …\n",
      "$ CRUDE_MILES                   \u001b[3m\u001b[38;5;246m<dbl>\u001b[39m\u001b[23m 64.000, 0.000, 211.000, 0.000, 3.582, 7…\n",
      "$ CRUDE_MILES_1940              \u001b[3m\u001b[38;5;246m<dbl>\u001b[39m\u001b[23m 0.0, 0.0, 79.0, 0.0, 0.0, 0.0, 0.0, 0.0…\n",
      "$ CRUDE_MILES_1950              \u001b[3m\u001b[38;5;246m<dbl>\u001b[39m\u001b[23m 0.000, 0.000, 10.000, 0.000, 3.554, 213…\n",
      "$ CRUDE_MILES_1960              \u001b[3m\u001b[38;5;246m<dbl>\u001b[39m\u001b[23m 359.000, 0.000, 168.000, 0.000, 0.023, …\n",
      "$ CRUDE_MILES_1970              \u001b[3m\u001b[38;5;246m<dbl>\u001b[39m\u001b[23m 149.000, 0.000, 113.000, 0.000, 0.000, …\n",
      "$ CRUDE_MILES_1980              \u001b[3m\u001b[38;5;246m<dbl>\u001b[39m\u001b[23m 63.000, 0.000, 0.000, 0.000, 0.000, 767…\n",
      "$ CRUDE_MILES_1990              \u001b[3m\u001b[38;5;246m<dbl>\u001b[39m\u001b[23m 18.000, 0.000, 15.000, 0.000, 0.000, 76…\n",
      "$ CRUDE_MILES_2000              \u001b[3m\u001b[38;5;246m<dbl>\u001b[39m\u001b[23m 35.000, 0.000, 112.000, 0.000, 0.000, 3…\n",
      "$ CRUDE_MILES_2010              \u001b[3m\u001b[38;5;246m<dbl>\u001b[39m\u001b[23m 63.000, 0.000, 34.000, 0.000, 0.005, 10…\n",
      "$ CRUDE_SIGNIFICANT_INCIDENTS   \u001b[3m\u001b[38;5;246m<dbl>\u001b[39m\u001b[23m 1, 0, 0, 0, 0, 1, 0, 0, 0, 1, 0, 0, 0, …\n",
      "$ HVL_AGE_UNKNOWN_MILES         \u001b[3m\u001b[38;5;246m<dbl>\u001b[39m\u001b[23m 0.000, 0.000, 0.000, 0.000, 0.000, 0.00…\n",
      "$ HVL_AVG_AGE                   \u001b[3m\u001b[38;5;246m<dbl>\u001b[39m\u001b[23m 0.000000, 0.000000, 0.000000, 37.142857…\n",
      "$ HVL_INCIDENTS                 \u001b[3m\u001b[38;5;246m<dbl>\u001b[39m\u001b[23m 0, 0, 0, 0, 0, 2, 0, 0, 0, 0, 0, 0, 0, …\n",
      "$ HVL_MILES                     \u001b[3m\u001b[38;5;246m<dbl>\u001b[39m\u001b[23m 0.000, 0.000, 0.000, 112.650, 0.000, 41…\n",
      "$ HVL_MILES_1940                \u001b[3m\u001b[38;5;246m<dbl>\u001b[39m\u001b[23m 0.000, 0.000, 0.000, 1.720, 0.000, 1.98…\n",
      "$ HVL_MILES_1950                \u001b[3m\u001b[38;5;246m<dbl>\u001b[39m\u001b[23m 0.000, 0.000, 0.000, 0.000, 0.000, 0.87…\n",
      "$ HVL_MILES_1960                \u001b[3m\u001b[38;5;246m<dbl>\u001b[39m\u001b[23m 0.000, 0.000, 0.000, 0.300, 0.000, 185.…\n",
      "$ HVL_MILES_1970                \u001b[3m\u001b[38;5;246m<dbl>\u001b[39m\u001b[23m 0.000, 0.000, 0.000, 0.000, 0.000, 107.…\n",
      "$ HVL_MILES_1980                \u001b[3m\u001b[38;5;246m<dbl>\u001b[39m\u001b[23m 0.000, 0.000, 0.000, 0.000, 0.000, 312.…\n",
      "$ HVL_MILES_1990                \u001b[3m\u001b[38;5;246m<dbl>\u001b[39m\u001b[23m 0.000, 0.000, 0.000, 3.500, 0.000, 51.5…\n",
      "$ HVL_MILES_2000                \u001b[3m\u001b[38;5;246m<dbl>\u001b[39m\u001b[23m 0.000, 0.000, 0.000, 0.000, 0.000, 7.31…\n",
      "$ HVL_MILES_2010                \u001b[3m\u001b[38;5;246m<dbl>\u001b[39m\u001b[23m 0.000, 0.000, 0.000, 0.000, 0.000, 33.9…\n",
      "$ HVL_SIGNIFICANT_INCIDENTS     \u001b[3m\u001b[38;5;246m<dbl>\u001b[39m\u001b[23m 0, 0, 0, 0, 0, 0, 0, 0, 0, 0, 0, 0, 0, …\n",
      "$ NON_HVL_AGE_UNKNOWN_MILES     \u001b[3m\u001b[38;5;246m<dbl>\u001b[39m\u001b[23m 0.0, 0.0, 0.0, 0.0, 0.0, 0.0, 0.0, 12.9…\n",
      "$ NON_HVL_AVG_AGE               \u001b[3m\u001b[38;5;246m<dbl>\u001b[39m\u001b[23m 39.3369294, 9.9786780, 35.8550483, 0.00…\n",
      "$ NON_HVL_INCIDENTS             \u001b[3m\u001b[38;5;246m<dbl>\u001b[39m\u001b[23m 0, 0, 1, 0, 1, 1, 0, 27, 10, 0, 0, 0, 0…\n",
      "$ NON_HVL_MILES                 \u001b[3m\u001b[38;5;246m<dbl>\u001b[39m\u001b[23m 0.000, 4.680, 353.000, 18.352, 402.507,…\n",
      "$ NON_HVL_MILES_1940            \u001b[3m\u001b[38;5;246m<dbl>\u001b[39m\u001b[23m 0.000, 0.000, 24.000, 0.000, 0.000, 2.0…\n",
      "$ NON_HVL_MILES_1950            \u001b[3m\u001b[38;5;246m<dbl>\u001b[39m\u001b[23m 0.000, 0.000, 0.000, 0.000, 21.000, 0.2…\n",
      "$ NON_HVL_MILES_1960            \u001b[3m\u001b[38;5;246m<dbl>\u001b[39m\u001b[23m 49.000, 0.000, 200.000, 0.000, 251.510,…\n",
      "$ NON_HVL_MILES_1970            \u001b[3m\u001b[38;5;246m<dbl>\u001b[39m\u001b[23m 0.000, 0.000, 56.000, 0.000, 69.334, 1.…\n",
      "$ NON_HVL_MILES_1980            \u001b[3m\u001b[38;5;246m<dbl>\u001b[39m\u001b[23m 0.000, 0.000, 0.000, 0.000, 3.298, 826.…\n",
      "$ NON_HVL_MILES_1990            \u001b[3m\u001b[38;5;246m<dbl>\u001b[39m\u001b[23m 27.000, 0.000, 45.000, 0.000, 3.247, 36…\n",
      "$ NON_HVL_MILES_2000            \u001b[3m\u001b[38;5;246m<dbl>\u001b[39m\u001b[23m 0.000, 4.680, 110.000, 0.000, 0.224, 4.…\n",
      "$ NON_HVL_MILES_2010            \u001b[3m\u001b[38;5;246m<dbl>\u001b[39m\u001b[23m 0.000, 0.000, 9.000, 0.000, 0.614, 1.07…\n",
      "$ NON_HVL_SIGNIFICANT_INCIDENTS \u001b[3m\u001b[38;5;246m<dbl>\u001b[39m\u001b[23m 0, 0, 1, 0, 1, 1, 0, 8, 4, 0, 0, 0, 0, …\n",
      "$ SIGNIFICANT_INCIDENTS         \u001b[3m\u001b[38;5;246m<dbl>\u001b[39m\u001b[23m 1, 0, 1, 0, 1, 2, 0, 8, 4, 1, 0, 0, 0, …\n",
      "$ ADDED                         \u001b[3m\u001b[38;5;246m<dbl>\u001b[39m\u001b[23m 0.000, 0.000, 0.000, 0.889, 0.000, 9.74…\n",
      "$ REMOVED                       \u001b[3m\u001b[38;5;246m<dbl>\u001b[39m\u001b[23m -1.000, 0.000, -14.000, -111.938, 0.000…\n",
      "$ TOTAL_MILES                   \u001b[3m\u001b[38;5;246m<dbl>\u001b[39m\u001b[23m 763.000, 4.680, 975.000, 5.520, 352.809…\n",
      "$ ADDED_PERC                    \u001b[3m\u001b[38;5;246m<dbl>\u001b[39m\u001b[23m 0.000000e+00, 0.000000e+00, 0.000000e+0…\n",
      "$ REMOVED_PERC                  \u001b[3m\u001b[38;5;246m<dbl>\u001b[39m\u001b[23m -0.001283697, 0.000000000, -0.015005359…\n",
      "$ CHANGE_TOTAL                  \u001b[3m\u001b[38;5;246m<dbl>\u001b[39m\u001b[23m -1.000, 0.000, -14.000, -111.049, 0.000…\n",
      "$ CHANGE_PERC                   \u001b[3m\u001b[38;5;246m<dbl>\u001b[39m\u001b[23m -1.308901e-03, 0.000000e+00, -1.415571e…\n",
      "$ MEAN_CHANGE_3                 \u001b[3m\u001b[38;5;246m<dbl>\u001b[39m\u001b[23m 0.001313481, 0.000000000, -0.011391911,…\n",
      "$ CHANGE_SD                     \u001b[3m\u001b[38;5;246m<dbl>\u001b[39m\u001b[23m 4.912316e-04, 0.000000e+00, 1.235392e-0…\n",
      "$ CHANGE_SD_SQ                  \u001b[3m\u001b[38;5;246m<dbl>\u001b[39m\u001b[23m 2.413085e-07, 0.000000e+00, 1.526193e-0…\n",
      "$ CHANGE_EXP                    \u001b[3m\u001b[38;5;246m<dbl>\u001b[39m\u001b[23m 1.000491, 1.000000, 1.000124, 1.361539,…\n",
      "$ INC_3                         \u001b[3m\u001b[38;5;246m<dbl>\u001b[39m\u001b[23m 3, 0, 4, 0, 1, 10, 0, 15, 11, 1, 0, 0, …\n",
      "$ INC_4                         \u001b[3m\u001b[38;5;246m<dbl>\u001b[39m\u001b[23m 4, 0, 5, 0, 3, 12, 0, 18, 17, 1, 1, 0, …\n",
      "$ INC_5                         \u001b[3m\u001b[38;5;246m<dbl>\u001b[39m\u001b[23m 8, 0, 5, 0, 5, 12, 1, 20, 20, 1, 1, 0, …\n",
      "$ DISC_ADDED                    \u001b[3m\u001b[38;5;246m<dbl>\u001b[39m\u001b[23m NA, NA, NA, NA, NA, NA, NA, NA, NA, NA,…\n",
      "$ DISC_ADDED_ALT                \u001b[3m\u001b[38;5;246m<dbl>\u001b[39m\u001b[23m NA, NA, NA, NA, NA, NA, NA, NA, NA, NA,…\n",
      "$ DISC_ADDED_ALT2               \u001b[3m\u001b[38;5;246m<dbl>\u001b[39m\u001b[23m NA, NA, NA, NA, NA, NA, NA, NA, NA, NA,…\n",
      "$ REMOVED_ADJ                   \u001b[3m\u001b[38;5;246m<dbl>\u001b[39m\u001b[23m 0.001283697, 0.000000000, 0.015005359, …\n",
      "$ CONSOLIDATE                   \u001b[3m\u001b[38;5;246m<dbl>\u001b[39m\u001b[23m NA, NA, NA, NA, NA, NA, NA, NA, NA, NA,…\n",
      "$ CRUDE_MILES_3                 \u001b[3m\u001b[38;5;246m<dbl>\u001b[39m\u001b[23m 332.000, 40.620, 559.000, 0.000, 10.746…\n",
      "$ HVL_MILES_3                   \u001b[3m\u001b[38;5;246m<dbl>\u001b[39m\u001b[23m 0.000, 0.000, 0.000, 343.020, 0.000, 11…\n",
      "$ NON_HVL_MILES_3               \u001b[3m\u001b[38;5;246m<dbl>\u001b[39m\u001b[23m 0.000, 45.680, 1032.000, 55.444, 1213.6…\n",
      "$ CRUDE_AVG_AGE_3               \u001b[3m\u001b[38;5;246m<dbl>\u001b[39m\u001b[23m NA, NA, NA, NA, NA, NA, NA, NA, NA, NA,…\n",
      "$ HVL_AVG_AGE_3                 \u001b[3m\u001b[38;5;246m<dbl>\u001b[39m\u001b[23m NA, NA, NA, NA, NA, NA, NA, NA, NA, NA,…\n",
      "$ NON_HVL_AVG_AGE_3             \u001b[3m\u001b[38;5;246m<dbl>\u001b[39m\u001b[23m NA, NA, NA, NA, NA, NA, NA, NA, NA, NA,…\n",
      "$ NO_CRUDE                      \u001b[3m\u001b[38;5;246m<lgl>\u001b[39m\u001b[23m FALSE, FALSE, FALSE, TRUE, FALSE, FALSE…\n",
      "$ NO_HVL                        \u001b[3m\u001b[38;5;246m<lgl>\u001b[39m\u001b[23m TRUE, TRUE, TRUE, FALSE, TRUE, FALSE, F…\n",
      "$ NO_NON_HVL                    \u001b[3m\u001b[38;5;246m<lgl>\u001b[39m\u001b[23m TRUE, FALSE, FALSE, FALSE, FALSE, FALSE…\n",
      "$ M_A                           \u001b[3m\u001b[38;5;246m<lgl>\u001b[39m\u001b[23m FALSE, FALSE, FALSE, FALSE, FALSE, FALS…\n",
      "$ M_A_1                         \u001b[3m\u001b[38;5;246m<lgl>\u001b[39m\u001b[23m FALSE, FALSE, FALSE, FALSE, FALSE, FALS…\n",
      "$ M_A_2                         \u001b[3m\u001b[38;5;246m<lgl>\u001b[39m\u001b[23m FALSE, FALSE, FALSE, FALSE, FALSE, FALS…\n",
      "$ M_A_3                         \u001b[3m\u001b[38;5;246m<lgl>\u001b[39m\u001b[23m FALSE, FALSE, FALSE, FALSE, FALSE, FALS…\n",
      "$ M_A_past_3                    \u001b[3m\u001b[38;5;246m<lgl>\u001b[39m\u001b[23m FALSE, FALSE, FALSE, FALSE, FALSE, FALS…\n",
      "$ ADDED_1                       \u001b[3m\u001b[38;5;246m<dbl>\u001b[39m\u001b[23m 0.000000e+00, 0.000000e+00, 0.000000e+0…\n",
      "$ ADDED_2                       \u001b[3m\u001b[38;5;246m<dbl>\u001b[39m\u001b[23m NA, NA, NA, NA, NA, NA, NA, NA, NA, NA,…\n",
      "$ ADDED_3                       \u001b[3m\u001b[38;5;246m<dbl>\u001b[39m\u001b[23m NA, NA, NA, NA, NA, NA, NA, NA, NA, NA,…\n",
      "$ MEAN_ADDED_3                  \u001b[3m\u001b[38;5;246m<dbl>\u001b[39m\u001b[23m NA, NA, NA, NA, NA, NA, NA, NA, NA, NA,…\n",
      "$ SD_ADDED_3                    \u001b[3m\u001b[38;5;246m<dbl>\u001b[39m\u001b[23m NA, NA, NA, NA, NA, NA, NA, NA, NA, NA,…\n",
      "$ SD_ADDED_3_EXP                \u001b[3m\u001b[38;5;246m<dbl>\u001b[39m\u001b[23m NA, NA, NA, NA, NA, NA, NA, NA, NA, NA,…\n",
      "$ SD_ADDED_3_EXP_SQ             \u001b[3m\u001b[38;5;246m<dbl>\u001b[39m\u001b[23m NA, NA, NA, NA, NA, NA, NA, NA, NA, NA,…\n",
      "$ SDxADDED                      \u001b[3m\u001b[38;5;246m<dbl>\u001b[39m\u001b[23m NA, NA, NA, NA, NA, NA, NA, NA, NA, NA,…\n",
      "$ CRUDExAGE                     \u001b[3m\u001b[38;5;246m<dbl>\u001b[39m\u001b[23m NA, NA, NA, NA, NA, NA, NA, NA, NA, NA,…\n",
      "$ HVLxAGE                       \u001b[3m\u001b[38;5;246m<dbl>\u001b[39m\u001b[23m NA, NA, NA, NA, NA, NA, NA, NA, NA, NA,…\n",
      "$ NON_HVLxAGE                   \u001b[3m\u001b[38;5;246m<dbl>\u001b[39m\u001b[23m NA, NA, NA, NA, NA, NA, NA, NA, NA, NA,…\n"
     ]
    }
   ],
   "source": [
    "glimpse(sample_selected)"
   ]
  },
  {
   "cell_type": "markdown",
   "metadata": {},
   "source": [
    "## 10.6 With extreme detail"
   ]
  },
  {
   "cell_type": "code",
   "execution_count": 45,
   "metadata": {},
   "outputs": [
    {
     "name": "stdout",
     "output_type": "stream",
     "text": [
      "Observations: 786\n",
      "Variables: 8\n",
      "Groups: OPERATOR_ID [83]\n",
      "$ YEAR                 \u001b[3m\u001b[38;5;246m<dbl>\u001b[39m\u001b[23m 2015, 2015, 2015, 2015, 2015, 2015, 2015, 2015, …\n",
      "$ OPERATOR_ID          \u001b[3m\u001b[38;5;246m<chr>\u001b[39m\u001b[23m \"1248\", \"14194\", \"15156\", \"19319\", \"22430\", \"228…\n",
      "$ NON_HVL_MILES_1960_3 \u001b[3m\u001b[38;5;246m<dbl>\u001b[39m\u001b[23m 147.000, 0.000, 600.000, 0.000, 755.763, 29.790,…\n",
      "$ NON_HVL_MILES_1970_3 \u001b[3m\u001b[38;5;246m<dbl>\u001b[39m\u001b[23m 0.000, 0.000, 179.000, 0.000, 150.046, 4.260, 27…\n",
      "$ NON_HVL_MILES_1980_3 \u001b[3m\u001b[38;5;246m<dbl>\u001b[39m\u001b[23m 0.000, 0.000, 3.000, 0.000, 9.894, 2478.960, 1.5…\n",
      "$ NON_HVL_MILES_1990_3 \u001b[3m\u001b[38;5;246m<dbl>\u001b[39m\u001b[23m 80.000, 16.740, 138.000, 0.000, 9.740, 1096.800,…\n",
      "$ NON_HVL_MILES_2000_3 \u001b[3m\u001b[38;5;246m<dbl>\u001b[39m\u001b[23m 0.000, 28.940, 188.000, 0.000, 0.672, 13.740, 0.…\n",
      "$ NON_HVL_MILES_2010_3 \u001b[3m\u001b[38;5;246m<dbl>\u001b[39m\u001b[23m 0.000, 0.000, 114.000, 0.000, 0.983, 2.530, 0.00…\n"
     ]
    }
   ],
   "source": [
    "sample_selected <- sample_selected %>%\n",
    "    group_by(OPERATOR_ID) %>%\n",
    "    arrange(desc(YEAR)) %>%\n",
    "    mutate(CRUDE_MILES_1940_3 = (     CRUDE_MILES_1940 + \n",
    "                                 lead(CRUDE_MILES_1940, 1) + \n",
    "                                 lead(CRUDE_MILES_1940, 2)), \n",
    "           CRUDE_MILES_1950_3 = (     CRUDE_MILES_1950 + \n",
    "                                 lead(CRUDE_MILES_1950, 1) + \n",
    "                                 lead(CRUDE_MILES_1950, 2)), \n",
    "           CRUDE_MILES_1960_3 = (     CRUDE_MILES_1960 + \n",
    "                                 lead(CRUDE_MILES_1960, 1) + \n",
    "                                 lead(CRUDE_MILES_1960, 2)), \n",
    "           CRUDE_MILES_1970_3 = (     CRUDE_MILES_1970 + \n",
    "                                 lead(CRUDE_MILES_1970, 1) + \n",
    "                                 lead(CRUDE_MILES_1970, 2)), \n",
    "           CRUDE_MILES_1980_3 = (     CRUDE_MILES_1980 + \n",
    "                                 lead(CRUDE_MILES_1980, 1) + \n",
    "                                 lead(CRUDE_MILES_1980, 2)), \n",
    "           CRUDE_MILES_1990_3 = (     CRUDE_MILES_1990 + \n",
    "                                 lead(CRUDE_MILES_1990, 1) + \n",
    "                                 lead(CRUDE_MILES_1990, 2)), \n",
    "           CRUDE_MILES_2000_3 = (     CRUDE_MILES_2000 + \n",
    "                                 lead(CRUDE_MILES_2000, 1) + \n",
    "                                 lead(CRUDE_MILES_2000, 2)), \n",
    "           CRUDE_MILES_2010_3 = (     CRUDE_MILES_2010 + \n",
    "                                 lead(CRUDE_MILES_2010, 1) + \n",
    "                                 lead(CRUDE_MILES_2010, 2)), \n",
    "           HVL_MILES_1940_3 = (       HVL_MILES_1940 + \n",
    "                                 lead(HVL_MILES_1940, 1) + \n",
    "                                 lead(HVL_MILES_1940, 2)), \n",
    "           HVL_MILES_1950_3 = (       HVL_MILES_1950 + \n",
    "                                 lead(HVL_MILES_1950, 1) + \n",
    "                                 lead(HVL_MILES_1950, 2)), \n",
    "           HVL_MILES_1960_3 = (       HVL_MILES_1960 + \n",
    "                                 lead(HVL_MILES_1960, 1) + \n",
    "                                 lead(HVL_MILES_1960, 2)), \n",
    "           HVL_MILES_1970_3 = (       HVL_MILES_1970 + \n",
    "                                 lead(HVL_MILES_1970, 1) + \n",
    "                                 lead(HVL_MILES_1970, 2)), \n",
    "           HVL_MILES_1980_3 = (       HVL_MILES_1980 + \n",
    "                                 lead(HVL_MILES_1980, 1) + \n",
    "                                 lead(HVL_MILES_1980, 2)), \n",
    "           HVL_MILES_1990_3 = (       HVL_MILES_1990 + \n",
    "                                 lead(HVL_MILES_1990, 1) + \n",
    "                                 lead(HVL_MILES_1990, 2)), \n",
    "           HVL_MILES_2000_3 = (       HVL_MILES_2000 + \n",
    "                                 lead(HVL_MILES_2000, 1) + \n",
    "                                 lead(HVL_MILES_2000, 2)), \n",
    "           HVL_MILES_2010_3 = (       HVL_MILES_2010 + \n",
    "                                 lead(HVL_MILES_2010, 1) + \n",
    "                                 lead(HVL_MILES_2010, 2)), \n",
    "           NON_HVL_MILES_1940_3 = (   NON_HVL_MILES_1940 + \n",
    "                                 lead(NON_HVL_MILES_1940, 1) + \n",
    "                                 lead(NON_HVL_MILES_1940, 2)), \n",
    "           NON_HVL_MILES_1950_3 = (   NON_HVL_MILES_1950 + \n",
    "                                 lead(NON_HVL_MILES_1950, 1) + \n",
    "                                 lead(NON_HVL_MILES_1950, 2)), \n",
    "           NON_HVL_MILES_1960_3 = (   NON_HVL_MILES_1960 + \n",
    "                                 lead(NON_HVL_MILES_1960, 1) + \n",
    "                                 lead(NON_HVL_MILES_1960, 2)), \n",
    "           NON_HVL_MILES_1970_3 = (   NON_HVL_MILES_1970 + \n",
    "                                 lead(NON_HVL_MILES_1970, 1) + \n",
    "                                 lead(NON_HVL_MILES_1970, 2)), \n",
    "           NON_HVL_MILES_1980_3 = (   NON_HVL_MILES_1980 + \n",
    "                                 lead(NON_HVL_MILES_1980, 1) + \n",
    "                                 lead(NON_HVL_MILES_1980, 2)), \n",
    "           NON_HVL_MILES_1990_3 = (   NON_HVL_MILES_1990 + \n",
    "                                 lead(NON_HVL_MILES_1990, 1) + \n",
    "                                 lead(NON_HVL_MILES_1990, 2)), \n",
    "           NON_HVL_MILES_2000_3 = (   NON_HVL_MILES_2000 + \n",
    "                                 lead(NON_HVL_MILES_2000, 1) + \n",
    "                                 lead(NON_HVL_MILES_2000, 2)), \n",
    "           NON_HVL_MILES_2010_3 = (   NON_HVL_MILES_2010 + \n",
    "                                 lead(NON_HVL_MILES_2010, 1) + \n",
    "                                 lead(NON_HVL_MILES_2010, 2)))\n",
    "\n",
    "glimpse(good_look(sample_selected))"
   ]
  },
  {
   "cell_type": "markdown",
   "metadata": {},
   "source": [
    "## 10.7 Data types"
   ]
  },
  {
   "cell_type": "code",
   "execution_count": 46,
   "metadata": {},
   "outputs": [],
   "source": [
    "sample_selected$OPERATOR_ID <- as.factor(sample_selected$OPERATOR_ID)"
   ]
  },
  {
   "cell_type": "markdown",
   "metadata": {},
   "source": [
    "## 10.8 Save"
   ]
  },
  {
   "cell_type": "code",
   "execution_count": 47,
   "metadata": {},
   "outputs": [],
   "source": [
    "# testit::assert(nrow(subset(sample, YEAR == 2008)) > 0)\n",
    "feather::write_feather(sample_selected, paste0(\"../preprocessed_data/sample_combined_\", Sys.Date(), \".feather\"))\n",
    "haven::write_dta(sample_selected, paste0(\"../stata_data/sample_combined_\", Sys.Date(), \".dta\"))"
   ]
  }
 ],
 "metadata": {
  "jupytext": {
   "formats": "ipynb,Rmd"
  },
  "kernelspec": {
   "display_name": "R 3.6.1",
   "language": "R",
   "name": "ir361"
  },
  "language_info": {
   "codemirror_mode": "r",
   "file_extension": ".r",
   "mimetype": "text/x-r-source",
   "name": "R",
   "pygments_lexer": "r",
   "version": "3.6.1"
  }
 },
 "nbformat": 4,
 "nbformat_minor": 4
}
