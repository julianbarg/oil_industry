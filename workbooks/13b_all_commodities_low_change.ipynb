{
 "cells": [
  {
   "cell_type": "markdown",
   "metadata": {},
   "source": [
    "# 13. Modeling (Stata) - all commodities"
   ]
  },
  {
   "cell_type": "code",
   "execution_count": 1,
   "metadata": {},
   "outputs": [],
   "source": [
    "use \"../stata_data/low_change_sample_features_2019-09-07.dta\""
   ]
  },
  {
   "cell_type": "code",
   "execution_count": 2,
   "metadata": {},
   "outputs": [
    {
     "name": "stdout",
     "output_type": "stream",
     "text": [
      "YEAR          MILES         MILES_1950    MILES_1990    INCIDENTS     AVG_AGE       change_2      miles_avg_3   age_miles     perc_1960     perc_2000     avg_1950      avg_1990      SIGN_INC_M~E  M_A_past_3    sd_change_sq\n",
      "COMMODITY     AGE_UNKNOW~S  MILES_1960    MILES_2000    SIGNIFICAN~S  CHANGE        change_3      miles_1950_3  perc_pr~1940  perc_1970     perc_2010     avg_1960      avg_2000      M_A_1         LOG_INCIDE~E  sd_chang~w_3\n",
      "OPERATOR_ID   MILES_P~1940  MILES_1970    MILES_2010    GROUP         M_A           mean_chang~3  sign_inc_3    perc_1940     perc_1980     avg_pre_1940  avg_1970      avg_2010      M_A_2         LOG_SIGN_I~E  one_over_s~e\n",
      "NAME          MILES_1940    MILES_1980    PARENT        PERC_OFFSH~E  change_1      sd_change_3   inc_per_mi~3  perc_1950     perc_1990     avg_1940      avg_1980      INCIDENTS_~E  M_A_3         log_sd_cha~e  miles_x_ch~e\n"
     ]
    }
   ],
   "source": [
    "ds"
   ]
  },
  {
   "cell_type": "code",
   "execution_count": 3,
   "metadata": {},
   "outputs": [],
   "source": [
    "egen panelid = group(OPERATOR_ID COMMODITY), label"
   ]
  },
  {
   "cell_type": "code",
   "execution_count": 4,
   "metadata": {},
   "outputs": [
    {
     "name": "stdout",
     "output_type": "stream",
     "text": [
      "       panel variable:  panelid (unbalanced)\n",
      "        time variable:  YEAR, 2009 to 2018, but with gaps\n",
      "                delta:  1 unit\n"
     ]
    }
   ],
   "source": [
    "xtset panelid YEAR"
   ]
  },
  {
   "cell_type": "code",
   "execution_count": 16,
   "metadata": {},
   "outputs": [
    {
     "name": "stdout",
     "output_type": "stream",
     "text": [
      "\n",
      "Fixed-effects (within) regression               Number of obs     =        440\n",
      "Group variable: panelid                         Number of groups  =        102\n",
      "\n",
      "R-sq:                                           Obs per group:\n",
      "     within  = 0.0280                                         min =          1\n",
      "     between = 0.0001                                         avg =        4.3\n",
      "     overall = 0.0006                                         max =          5\n",
      "\n",
      "                                                F(9,101)          =       1.65\n",
      "corr(u_i, Xb)  = -0.5453                        Prob > F          =     0.1121\n",
      "\n",
      "                              (Std. Err. adjusted for 102 clusters in panelid)\n",
      "------------------------------------------------------------------------------\n",
      "             |               Robust\n",
      "inc_per_mi~3 |      Coef.   Std. Err.      t    P>|t|     [95% Conf. Interval]\n",
      "-------------+----------------------------------------------------------------\n",
      " sd_change_3 |  -6.48e-06   3.93e-06    -1.65   0.102    -.0000143    1.32e-06\n",
      "    avg_1940 |   .0094636   .0054506     1.74   0.086    -.0013489    .0202761\n",
      "    avg_1950 |   .0009952   .0079448     0.13   0.901    -.0147652    .0167555\n",
      "    avg_1960 |   .0087829    .004917     1.79   0.077    -.0009712    .0185369\n",
      "    avg_1970 |   .0070093   .0065825     1.06   0.289    -.0060487    .0200673\n",
      "    avg_1980 |  -.0235717   .0216039    -1.09   0.278    -.0664281    .0192847\n",
      "    avg_1990 |   .0104101   .0058235     1.79   0.077    -.0011421    .0219623\n",
      "    avg_2000 |     .01902   .0096908     1.96   0.052    -.0002039     .038244\n",
      "    avg_2010 |   .0067382   .0053457     1.26   0.210    -.0038661    .0173426\n",
      "       _cons |  -.0014213   .0026114    -0.54   0.587    -.0066015     .003759\n",
      "-------------+----------------------------------------------------------------\n",
      "     sigma_u |  .00941464\n",
      "     sigma_e |  .00624875\n",
      "         rho |  .69418714   (fraction of variance due to u_i)\n",
      "------------------------------------------------------------------------------\n"
     ]
    }
   ],
   "source": [
    "xtreg inc_per_mile_3 sd_change_3 avg_1940 avg_1950 avg_1960 avg_1970 avg_1980 avg_1990 avg_2000 avg_2010, fe vce(robust)"
   ]
  },
  {
   "cell_type": "code",
   "execution_count": 6,
   "metadata": {},
   "outputs": [],
   "source": [
    "local date : di  %tdCY-N-D  daily(\"$S_DATE\", \"DMY\")"
   ]
  },
  {
   "cell_type": "code",
   "execution_count": 7,
   "metadata": {},
   "outputs": [
    {
     "name": "stdout",
     "output_type": "stream",
     "text": [
      "Note: file will be replaced when the first putexcel command is issued\n"
     ]
    }
   ],
   "source": [
    "putexcel set \"../results/fe_small_`date'.xlsx\", replace"
   ]
  },
  {
   "cell_type": "code",
   "execution_count": 8,
   "metadata": {},
   "outputs": [],
   "source": [
    "matrix D = r(table)'"
   ]
  },
  {
   "cell_type": "code",
   "execution_count": 9,
   "metadata": {},
   "outputs": [
    {
     "name": "stdout",
     "output_type": "stream",
     "text": [
      "file ../results/fe_small_2019-09-07.xlsx saved\n"
     ]
    }
   ],
   "source": [
    "putexcel A1 = matrix(D), names"
   ]
  },
  {
   "cell_type": "markdown",
   "metadata": {},
   "source": [
    "## Hausman test"
   ]
  },
  {
   "cell_type": "code",
   "execution_count": 10,
   "metadata": {},
   "outputs": [
    {
     "name": "stdout",
     "output_type": "stream",
     "text": [
      "note: M_A omitted because of collinearity\n",
      "\n",
      "Fixed-effects (within) regression               Number of obs     =        440\n",
      "Group variable: panelid                         Number of groups  =        102\n",
      "\n",
      "R-sq:                                           Obs per group:\n",
      "     within  = 0.0287                                         min =          1\n",
      "     between = 0.0001                                         avg =        4.3\n",
      "     overall = 0.0007                                         max =          5\n",
      "\n",
      "                                                F(11,327)         =       0.88\n",
      "corr(u_i, Xb)  = -0.5406                        Prob > F          =     0.5608\n",
      "\n",
      "------------------------------------------------------------------------------\n",
      "inc_per_mi~3 |      Coef.   Std. Err.      t    P>|t|     [95% Conf. Interval]\n",
      "-------------+----------------------------------------------------------------\n",
      " sd_change_3 |  -5.10e-06   7.62e-06    -0.67   0.504    -.0000201    9.89e-06\n",
      "         M_A |          0  (omitted)\n",
      "       M_A_1 |   .0011374   .0072158     0.16   0.875    -.0130578    .0153327\n",
      "       M_A_2 |  -.0022222   .0071198    -0.31   0.755    -.0162285    .0117841\n",
      "    avg_1940 |   .0089595   .0177031     0.51   0.613    -.0258668    .0437857\n",
      "    avg_1950 |   .0008115   .0174947     0.05   0.963    -.0336049    .0352278\n",
      "    avg_1960 |   .0080497   .0175551     0.46   0.647    -.0264855    .0425848\n",
      "    avg_1970 |   .0063512   .0178916     0.35   0.723     -.028846    .0415484\n",
      "    avg_1980 |  -.0240966    .021462    -1.12   0.262    -.0663176    .0181244\n",
      "    avg_1990 |   .0094722   .0172085     0.55   0.582    -.0243812    .0433256\n",
      "    avg_2000 |   .0185269   .0173063     1.07   0.285    -.0155187    .0525726\n",
      "    avg_2010 |   .0064337   .0174954     0.37   0.713    -.0279841    .0408514\n",
      "       _cons |  -.0009508   .0155376    -0.06   0.951    -.0315171    .0296155\n",
      "-------------+----------------------------------------------------------------\n",
      "     sigma_u |  .00938332\n",
      "     sigma_e |  .00626544\n",
      "         rho |  .69163387   (fraction of variance due to u_i)\n",
      "------------------------------------------------------------------------------\n",
      "F test that all u_i=0: F(101, 327) = 6.97                    Prob > F = 0.0000\n"
     ]
    }
   ],
   "source": [
    "xtreg inc_per_mile_3 sd_change_3 M_A M_A_1 M_A_2 avg_1940 avg_1950 avg_1960 avg_1970 avg_1980 avg_1990 avg_2000 avg_2010, fe"
   ]
  },
  {
   "cell_type": "code",
   "execution_count": 11,
   "metadata": {},
   "outputs": [],
   "source": [
    "estimate store fixed"
   ]
  },
  {
   "cell_type": "code",
   "execution_count": 12,
   "metadata": {},
   "outputs": [
    {
     "name": "stdout",
     "output_type": "stream",
     "text": [
      "note: M_A omitted because of collinearity\n",
      "\n",
      "Random-effects GLS regression                   Number of obs     =        440\n",
      "Group variable: panelid                         Number of groups  =        102\n",
      "\n",
      "R-sq:                                           Obs per group:\n",
      "     within  = 0.0111                                         min =          1\n",
      "     between = 0.0615                                         avg =        4.3\n",
      "     overall = 0.0457                                         max =          5\n",
      "\n",
      "                                                Wald chi2(11)     =       9.89\n",
      "corr(u_i, X)   = 0 (assumed)                    Prob > chi2       =     0.5400\n",
      "\n",
      "------------------------------------------------------------------------------\n",
      "inc_per_mi~3 |      Coef.   Std. Err.      z    P>|z|     [95% Conf. Interval]\n",
      "-------------+----------------------------------------------------------------\n",
      " sd_change_3 |  -3.84e-06   6.41e-06    -0.60   0.549    -.0000164    8.72e-06\n",
      "         M_A |          0  (omitted)\n",
      "       M_A_1 |   .0043856   .0046941     0.93   0.350    -.0048146    .0135858\n",
      "       M_A_2 |   .0005347    .005068     0.11   0.916    -.0093985    .0104678\n",
      "    avg_1940 |   .0029904    .010341     0.29   0.772    -.0172776    .0232584\n",
      "    avg_1950 |   .0109837   .0090717     1.21   0.226    -.0067965     .028764\n",
      "    avg_1960 |   .0034195   .0090931     0.38   0.707    -.0144027    .0212417\n",
      "    avg_1970 |   .0060544   .0089196     0.68   0.497    -.0114277    .0235366\n",
      "    avg_1980 |   .0019074   .0096364     0.20   0.843    -.0169796    .0207945\n",
      "    avg_1990 |   .0053251   .0089584     0.59   0.552    -.0122331    .0228833\n",
      "    avg_2000 |   .0150249   .0096439     1.56   0.119    -.0038767    .0339265\n",
      "    avg_2010 |   .0072465    .008993     0.81   0.420    -.0103794    .0248724\n",
      "       _cons |  -.0031238   .0084655    -0.37   0.712    -.0197159    .0134683\n",
      "-------------+----------------------------------------------------------------\n",
      "     sigma_u |  .00715508\n",
      "     sigma_e |  .00626544\n",
      "         rho |  .56599941   (fraction of variance due to u_i)\n",
      "------------------------------------------------------------------------------\n"
     ]
    }
   ],
   "source": [
    "xtreg inc_per_mile_3 sd_change_3 M_A M_A_1 M_A_2 avg_1940 avg_1950 avg_1960 avg_1970 avg_1980 avg_1990 avg_2000 avg_2010, re"
   ]
  },
  {
   "cell_type": "code",
   "execution_count": 13,
   "metadata": {},
   "outputs": [
    {
     "name": "stdout",
     "output_type": "stream",
     "text": [
      "\n",
      "Note: the rank of the differenced variance matrix (10) does not equal the number of coefficients being tested (11); be sure this is what you expect, or there may be problems computing the test.  Examine the output of your estimators for anything\n",
      "        unexpected and possibly consider scaling your variables so that the coefficients are on a similar scale.\n",
      "\n",
      "                 ---- Coefficients ----\n",
      "             |      (b)          (B)            (b-B)     sqrt(diag(V_b-V_B))\n",
      "             |     fixed          .          Difference          S.E.\n",
      "-------------+----------------------------------------------------------------\n",
      " sd_change_3 |   -5.10e-06    -3.84e-06       -1.26e-06        4.14e-06\n",
      "       M_A_1 |    .0011374     .0043856       -.0032482         .005485\n",
      "       M_A_2 |   -.0022222     .0005347       -.0027569        .0050056\n",
      "    avg_1940 |    .0089595     .0029904         .005969        .0143796\n",
      "    avg_1950 |    .0008115     .0109837       -.0101723        .0149691\n",
      "    avg_1960 |    .0080497     .0034195        .0046302        .0150267\n",
      "    avg_1970 |    .0063512     .0060544        .0002968        .0155199\n",
      "    avg_1980 |   -.0240966     .0019074       -.0260041        .0191889\n",
      "    avg_1990 |    .0094722     .0053251        .0041471        .0147029\n",
      "    avg_2000 |    .0185269     .0150249        .0035021        .0143806\n",
      "    avg_2010 |    .0064337     .0072465       -.0008128        .0150173\n",
      "------------------------------------------------------------------------------\n",
      "                           b = consistent under Ho and Ha; obtained from xtreg\n",
      "            B = inconsistent under Ha, efficient under Ho; obtained from xtreg\n",
      "\n",
      "    Test:  Ho:  difference in coefficients not systematic\n",
      "\n",
      "                 chi2(10) = (b-B)'[(V_b-V_B)^(-1)](b-B)\n",
      "                          =        7.20\n",
      "                Prob>chi2 =      0.7066\n",
      "                (V_b-V_B is not positive definite)\n"
     ]
    }
   ],
   "source": [
    "hausman fixed ., sigmamore"
   ]
  }
 ],
 "metadata": {
  "kernelspec": {
   "display_name": "Stata",
   "language": "stata",
   "name": "stata"
  },
  "language_info": {
   "codemirror_mode": "stata",
   "file_extension": ".do",
   "mimetype": "text/x-stata",
   "name": "stata",
   "version": "15.1"
  }
 },
 "nbformat": 4,
 "nbformat_minor": 4
}
