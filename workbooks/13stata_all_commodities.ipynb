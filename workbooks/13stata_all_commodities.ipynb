{
 "cells": [
  {
   "cell_type": "markdown",
   "metadata": {},
   "source": [
    "# 13. Modeling (Stata) - all commodities"
   ]
  },
  {
   "cell_type": "markdown",
   "metadata": {},
   "source": [
    "## Setup"
   ]
  },
  {
   "cell_type": "code",
   "execution_count": 1,
   "metadata": {},
   "outputs": [],
   "source": [
    "use \"../stata_data/sample_combined_2019-09-16.dta\""
   ]
  },
  {
   "cell_type": "code",
   "execution_count": 2,
   "metadata": {},
   "outputs": [],
   "source": [
    "local date : di  %tdCY-N-D  daily(\"$S_DATE\", \"DMY\")"
   ]
  },
  {
   "cell_type": "code",
   "execution_count": 3,
   "metadata": {},
   "outputs": [
    {
     "name": "stdout",
     "output_type": "stream",
     "text": [
      "YEAR          CRUDE_M~1950  CRUDE_SIGN~S  HVL_MIL~1960  NON_HVL_AG~S  NON_HVL~1970  ADDED         MEAN_CHANG~3  DISC_ADDED    NON_HVL_~S_3  M_A           ADDED_3       HVLxAGE       CRUDE_M~90_3  HVL_MIL~80_3  NON_HVL~70_3\n",
      "OPERATOR_ID   CRUDE_M~1960  HVL_AGE_UN~S  HVL_MIL~1970  NON_HVL_AV~E  NON_HVL~1980  REMOVED       CHANGE_SD     DISC_ADDED~T  CRUDE_AVG_~3  M_A_1         MEAN_ADDED_3  NON_HVLxAGE   CRUDE_M~00_3  HVL_MIL~90_3  NON_HVL~80_3\n",
      "CRUDE_AGE_~S  CRUDE_M~1970  HVL_AVG_AGE   HVL_MIL~1980  NON_HVL_IN~S  NON_HVL~1990  TOTAL_MILES   CHANGE_SD_SQ  DISC_ADDED~2  HVL_AVG_AG~3  M_A_2         SD_ADDED_3    CRUDE_M~40_3  CRUDE_M~10_3  HVL_MIL~00_3  NON_HVL~90_3\n",
      "CRUDE_AVG_~E  CRUDE_M~1980  HVL_INCIDE~S  HVL_MIL~1990  NON_HVL_MI~S  NON_HVL~2000  ADDED_PERC    CHANGE_EXP    REMOVED_ADJ   NON_HVL_AV~3  M_A_3         SD_ADDED_3~P  CRUDE_M~50_3  HVL_MIL~40_3  HVL_MIL~10_3  NON_HVL~00_3\n",
      "CRUDE_INCI~S  CRUDE_M~1990  HVL_MILES     HVL_MIL~2000  NON_HVL~1940  NON_HVL~2010  REMOVED_PERC  INC_3         CONSOLIDATE   NO_CRUDE      M_A_past_3    SD_ADDED_3~Q  CRUDE_M~60_3  HVL_MIL~50_3  NON_HVL~40_3  NON_HVL~10_3\n",
      "CRUDE_MILES   CRUDE_M~2000  HVL_MIL~1940  HVL_MIL~2010  NON_HVL~1950  NON_HVL_SI~S  CHANGE_TOTAL  INC_4         CRUDE_MI~S_3  NO_HVL        ADDED_1       SDxADDED      CRUDE_M~70_3  HVL_MIL~60_3  NON_HVL~50_3\n",
      "CRUDE_M~1940  CRUDE_M~2010  HVL_MIL~1950  HVL_SIGNIF~S  NON_HVL~1960  SIGNIFICAN~S  CHANGE_PERC   INC_5         HVL_MILES_3   NO_NON_HVL    ADDED_2       CRUDExAGE     CRUDE_M~80_3  HVL_MIL~70_3  NON_HVL~60_3\n"
     ]
    }
   ],
   "source": [
    "ds"
   ]
  },
  {
   "cell_type": "code",
   "execution_count": 4,
   "metadata": {},
   "outputs": [
    {
     "name": "stdout",
     "output_type": "stream",
     "text": [
      "       panel variable:  OPERATOR_ID (unbalanced)\n",
      "        time variable:  YEAR, 2004 to 2015, but with gaps\n",
      "                delta:  1 unit\n"
     ]
    }
   ],
   "source": [
    "xtset OPERATOR_ID YEAR"
   ]
  },
  {
   "cell_type": "markdown",
   "metadata": {},
   "source": [
    "## 13.2 Total SD"
   ]
  },
  {
   "cell_type": "code",
   "execution_count": 5,
   "metadata": {},
   "outputs": [
    {
     "name": "stdout",
     "output_type": "stream",
     "text": [
      "\n",
      "Fixed-effects (within) regression               Number of obs     =        402\n",
      "Group variable: OPERATOR_ID                     Number of groups  =         68\n",
      "\n",
      "R-sq:                                           Obs per group:\n",
      "     within  = 0.3286                                         min =          1\n",
      "     between = 0.3023                                         avg =        5.9\n",
      "     overall = 0.3389                                         max =          7\n",
      "\n",
      "                                                F(18,67)          =       4.10\n",
      "corr(u_i, Xb)  = -0.7319                        Prob > F          =     0.0000\n",
      "\n",
      "                                (Std. Err. adjusted for 68 clusters in OPERATOR_ID)\n",
      "-----------------------------------------------------------------------------------\n",
      "                  |               Robust\n",
      "            INC_3 |      Coef.   Std. Err.      t    P>|t|     [95% Conf. Interval]\n",
      "------------------+----------------------------------------------------------------\n",
      "        CHANGE_SD |   1.501311   1.211352     1.24   0.220    -.9165578     3.91918\n",
      "     CHANGE_SD_SQ |  -.4575636   .3263317    -1.40   0.165    -1.108924    .1937971\n",
      "       DISC_ADDED |   .1707542   .5894373     0.29   0.773    -1.005768    1.347276\n",
      "      CONSOLIDATE |   .0673028   .0996666     0.68   0.502    -.1316327    .2662382\n",
      "              M_A |   1.525333   1.916301     0.80   0.429    -2.299621    5.350287\n",
      "            M_A_2 |  -1.579202   1.136312    -1.39   0.169     -3.84729    .6888849\n",
      "    CRUDE_MILES_3 |   .0018947   .0034883     0.54   0.589     -.005068    .0088575\n",
      "  CRUDE_AVG_AGE_3 |    .038466   .0213811     1.80   0.077    -.0042109    .0811428\n",
      "        CRUDExAGE |  -.0000734   .0000654    -1.12   0.266    -.0002039    .0000572\n",
      "      HVL_MILES_3 |   .0078744   .0065308     1.21   0.232    -.0051611    .0209098\n",
      "    HVL_AVG_AGE_3 |   .0438344   .0266484     1.64   0.105    -.0093561    .0970249\n",
      "          HVLxAGE |  -.0002276   .0002162    -1.05   0.296    -.0006592     .000204\n",
      "  NON_HVL_MILES_3 |   .0025332   .0026415     0.96   0.341    -.0027392    .0078056\n",
      "NON_HVL_AVG_AGE_3 |  -.0043748   .0282081    -0.16   0.877    -.0606784    .0519288\n",
      "      NON_HVLxAGE |  -2.25e-06   .0000481    -0.05   0.963    -.0000982    .0000937\n",
      "         NO_CRUDE |  -8.657946   4.500766    -1.92   0.059    -17.64151    .3256208\n",
      "           NO_HVL |   1.675584   1.218461     1.38   0.174    -.7564748    4.107644\n",
      "       NO_NON_HVL |  -3.193602   2.939653    -1.09   0.281    -9.061174    2.673971\n",
      "            _cons |   2.124205   2.424063     0.88   0.384    -2.714244    6.962654\n",
      "------------------+----------------------------------------------------------------\n",
      "          sigma_u |  8.1618811\n",
      "          sigma_e |  2.7968715\n",
      "              rho |   .8949138   (fraction of variance due to u_i)\n",
      "-----------------------------------------------------------------------------------\n"
     ]
    }
   ],
   "source": [
    "xtreg INC_3 CHANGE_SD CHANGE_SD_SQ DISC_ADDED CONSOLIDATE M_A M_A_2 CRUDE_MILES_3 CRUDE_AVG_AGE_3 CRUDExAGE ///\n",
    "HVL_MILES_3 HVL_AVG_AGE_3 HVLxAGE NON_HVL_MILES_3 NON_HVL_AVG_AGE_3 NON_HVLxAGE NO_CRUDE NO_HVL NO_NON_HVL, fe vce(robust)"
   ]
  },
  {
   "cell_type": "code",
   "execution_count": 6,
   "metadata": {},
   "outputs": [
    {
     "name": "stdout",
     "output_type": "stream",
     "text": [
      "Note: file will be replaced when the first putexcel command is issued\n"
     ]
    }
   ],
   "source": [
    "putexcel set \"../results/model1_`date'.xlsx\", replace"
   ]
  },
  {
   "cell_type": "code",
   "execution_count": 7,
   "metadata": {},
   "outputs": [],
   "source": [
    "matrix D = r(table)'"
   ]
  },
  {
   "cell_type": "code",
   "execution_count": 8,
   "metadata": {},
   "outputs": [
    {
     "name": "stdout",
     "output_type": "stream",
     "text": [
      "file ../results/model1_2019-09-16.xlsx saved\n"
     ]
    }
   ],
   "source": [
    "putexcel A1 = matrix(D), names"
   ]
  },
  {
   "cell_type": "markdown",
   "metadata": {},
   "source": [
    "### Minimalist"
   ]
  },
  {
   "cell_type": "code",
   "execution_count": 36,
   "metadata": {},
   "outputs": [
    {
     "name": "stdout",
     "output_type": "stream",
     "text": [
      "\n",
      "Fixed-effects (within) regression               Number of obs     =        472\n",
      "Group variable: OPERATOR_ID                     Number of groups  =         70\n",
      "\n",
      "R-sq:                                           Obs per group:\n",
      "     within  = 0.3245                                         min =          1\n",
      "     between = 0.4275                                         avg =        6.7\n",
      "     overall = 0.4243                                         max =          8\n",
      "\n",
      "                                                F(16,69)          =       5.69\n",
      "corr(u_i, Xb)  = -0.7693                        Prob > F          =     0.0000\n",
      "\n",
      "                                (Std. Err. adjusted for 70 clusters in OPERATOR_ID)\n",
      "-----------------------------------------------------------------------------------\n",
      "                  |               Robust\n",
      "            INC_3 |      Coef.   Std. Err.      t    P>|t|     [95% Conf. Interval]\n",
      "------------------+----------------------------------------------------------------\n",
      "        CHANGE_SD |   1.934156   1.153266     1.68   0.098    -.3665479    4.234859\n",
      "     CHANGE_SD_SQ |  -.5416401   .3137284    -1.73   0.089    -1.167511    .0842309\n",
      "              M_A |   3.753253   1.641254     2.29   0.025     .4790411    7.027465\n",
      "            M_A_2 |  -1.208532   .8338355    -1.45   0.152    -2.871988    .4549247\n",
      "    CRUDE_MILES_3 |   .0038975   .0026541     1.47   0.147    -.0013972    .0091923\n",
      "  CRUDE_AVG_AGE_3 |   .0097769   .0196194     0.50   0.620    -.0293628    .0489165\n",
      "        CRUDExAGE |  -.0001112   .0000542    -2.05   0.044    -.0002194   -3.07e-06\n",
      "      HVL_MILES_3 |   .0038894   .0054764     0.71   0.480    -.0070357    .0148145\n",
      "    HVL_AVG_AGE_3 |   .0447601   .0251252     1.78   0.079    -.0053633    .0948835\n",
      "          HVLxAGE |  -.0000948   .0001866    -0.51   0.613     -.000467    .0002774\n",
      "  NON_HVL_MILES_3 |   .0035523   .0023852     1.49   0.141    -.0012061    .0083107\n",
      "NON_HVL_AVG_AGE_3 |    .004796   .0245783     0.20   0.846    -.0442364    .0538284\n",
      "      NON_HVLxAGE |  -.0000138   .0000369    -0.37   0.709    -.0000875    .0000599\n",
      "         NO_CRUDE |  -1.784362   2.711004    -0.66   0.513    -7.192667    3.623942\n",
      "           NO_HVL |   .9797965   .8476394     1.16   0.252    -.7111979    2.670791\n",
      "       NO_NON_HVL |   -1.58622   2.397792    -0.66   0.510    -6.369685    3.197245\n",
      "            _cons |  -1.833435   2.418113    -0.76   0.451    -6.657439    2.990569\n",
      "------------------+----------------------------------------------------------------\n",
      "          sigma_u |  7.7285531\n",
      "          sigma_e |  2.8158877\n",
      "              rho |  .88280739   (fraction of variance due to u_i)\n",
      "-----------------------------------------------------------------------------------\n"
     ]
    }
   ],
   "source": [
    "xtreg INC_3 CHANGE_SD CHANGE_SD_SQ M_A M_A_2 CRUDE_MILES_3 CRUDE_AVG_AGE_3 CRUDExAGE ///\n",
    "HVL_MILES_3 HVL_AVG_AGE_3 HVLxAGE NON_HVL_MILES_3 NON_HVL_AVG_AGE_3 NON_HVLxAGE NO_CRUDE NO_HVL NO_NON_HVL, fe vce(robust)"
   ]
  },
  {
   "cell_type": "code",
   "execution_count": 10,
   "metadata": {},
   "outputs": [
    {
     "name": "stdout",
     "output_type": "stream",
     "text": [
      "Note: file will be replaced when the first putexcel command is issued\n"
     ]
    }
   ],
   "source": [
    "putexcel set \"../results/model2_`date'.xlsx\", replace"
   ]
  },
  {
   "cell_type": "code",
   "execution_count": 11,
   "metadata": {},
   "outputs": [],
   "source": [
    "matrix D = r(table)'"
   ]
  },
  {
   "cell_type": "code",
   "execution_count": 12,
   "metadata": {},
   "outputs": [
    {
     "name": "stdout",
     "output_type": "stream",
     "text": [
      "file ../results/model2_2019-09-16.xlsx saved\n"
     ]
    }
   ],
   "source": [
    "putexcel A1 = matrix(D), names"
   ]
  },
  {
   "cell_type": "markdown",
   "metadata": {},
   "source": [
    "### With year"
   ]
  },
  {
   "cell_type": "code",
   "execution_count": 13,
   "metadata": {},
   "outputs": [
    {
     "name": "stdout",
     "output_type": "stream",
     "text": [
      "\n",
      "Fixed-effects (within) regression               Number of obs     =        402\n",
      "Group variable: OPERATOR_ID                     Number of groups  =         68\n",
      "\n",
      "R-sq:                                           Obs per group:\n",
      "     within  = 0.3340                                         min =          1\n",
      "     between = 0.2999                                         avg =        5.9\n",
      "     overall = 0.3323                                         max =          7\n",
      "\n",
      "                                                F(24,67)          =       6.93\n",
      "corr(u_i, Xb)  = -0.7282                        Prob > F          =     0.0000\n",
      "\n",
      "                                (Std. Err. adjusted for 68 clusters in OPERATOR_ID)\n",
      "-----------------------------------------------------------------------------------\n",
      "                  |               Robust\n",
      "            INC_3 |      Coef.   Std. Err.      t    P>|t|     [95% Conf. Interval]\n",
      "------------------+----------------------------------------------------------------\n",
      "        CHANGE_SD |   1.412855   1.192874     1.18   0.240     -.968131    3.793841\n",
      "     CHANGE_SD_SQ |  -.4216589   .3234989    -1.30   0.197    -1.067365    .2240476\n",
      "                  |\n",
      "             YEAR |\n",
      "            2007  |  -.1945547   .3829494    -0.51   0.613    -.9589249    .5698154\n",
      "            2008  |   .0323852   .5666392     0.06   0.955    -1.098631    1.163402\n",
      "            2009  |   .2976905   .6537297     0.46   0.650    -1.007159     1.60254\n",
      "            2010  |    .425869   .7000832     0.61   0.545     -.971503    1.823241\n",
      "            2011  |   .4415064    .618184     0.71   0.478    -.7923939    1.675407\n",
      "            2012  |   .5606523   .6944249     0.81   0.422    -.8254256     1.94673\n",
      "                  |\n",
      "       DISC_ADDED |   .0952555   .5913479     0.16   0.873     -1.08508    1.275591\n",
      "      CONSOLIDATE |   .0784139   .0955272     0.82   0.415    -.1122593    .2690871\n",
      "              M_A |   1.745668   2.018104     0.87   0.390    -2.282485    5.773821\n",
      "            M_A_2 |  -1.356907   1.163797    -1.17   0.248    -3.679856    .9660418\n",
      "    CRUDE_MILES_3 |   .0023963   .0037531     0.64   0.525     -.005095    .0098875\n",
      "  CRUDE_AVG_AGE_3 |   .0373658   .0220267     1.70   0.094    -.0065996    .0813312\n",
      "        CRUDExAGE |  -.0000874   .0000703    -1.24   0.218    -.0002278    .0000529\n",
      "      HVL_MILES_3 |   .0081572   .0065906     1.24   0.220    -.0049977    .0213121\n",
      "    HVL_AVG_AGE_3 |   .0440587   .0289626     1.52   0.133    -.0137509    .1018682\n",
      "          HVLxAGE |  -.0002381   .0002165    -1.10   0.275    -.0006703     .000194\n",
      "  NON_HVL_MILES_3 |   .0027392    .002656     1.03   0.306    -.0025622    .0080406\n",
      "NON_HVL_AVG_AGE_3 |  -.0068106   .0278836    -0.24   0.808    -.0624665    .0488453\n",
      "      NON_HVLxAGE |  -6.73e-06   .0000474    -0.14   0.888    -.0001014    .0000879\n",
      "         NO_CRUDE |  -8.625485     4.3935    -1.96   0.054    -17.39495    .1439773\n",
      "           NO_HVL |   1.688644   1.320111     1.28   0.205    -.9463085    4.323597\n",
      "       NO_NON_HVL |  -2.868931   3.021526    -0.95   0.346    -8.899922     3.16206\n",
      "            _cons |   1.889947   2.386535     0.79   0.431    -2.873597    6.653492\n",
      "------------------+----------------------------------------------------------------\n",
      "          sigma_u |  8.1110758\n",
      "          sigma_e |  2.8122661\n",
      "              rho |  .89268639   (fraction of variance due to u_i)\n",
      "-----------------------------------------------------------------------------------\n"
     ]
    }
   ],
   "source": [
    "xtreg INC_3 CHANGE_SD CHANGE_SD_SQ i.YEAR DISC_ADDED CONSOLIDATE M_A M_A_2 CRUDE_MILES_3 CRUDE_AVG_AGE_3 CRUDExAGE ///\n",
    "HVL_MILES_3 HVL_AVG_AGE_3 HVLxAGE NON_HVL_MILES_3 NON_HVL_AVG_AGE_3 NON_HVLxAGE NO_CRUDE NO_HVL NO_NON_HVL, fe vce(robust)"
   ]
  },
  {
   "cell_type": "code",
   "execution_count": 14,
   "metadata": {},
   "outputs": [
    {
     "name": "stdout",
     "output_type": "stream",
     "text": [
      "Note: file will be replaced when the first putexcel command is issued\n"
     ]
    }
   ],
   "source": [
    "putexcel set \"../results/model3_`date'.xlsx\", replace"
   ]
  },
  {
   "cell_type": "code",
   "execution_count": 15,
   "metadata": {},
   "outputs": [],
   "source": [
    "matrix D = r(table)'"
   ]
  },
  {
   "cell_type": "code",
   "execution_count": 16,
   "metadata": {},
   "outputs": [
    {
     "name": "stdout",
     "output_type": "stream",
     "text": [
      "file ../results/model3_2019-09-16.xlsx saved\n"
     ]
    }
   ],
   "source": [
    "putexcel A1 = matrix(D), names"
   ]
  },
  {
   "cell_type": "markdown",
   "metadata": {},
   "source": [
    "## 13.1.2 Extended model"
   ]
  },
  {
   "cell_type": "code",
   "execution_count": 17,
   "metadata": {},
   "outputs": [
    {
     "name": "stdout",
     "output_type": "stream",
     "text": [
      "\n",
      "Fixed-effects (within) regression               Number of obs     =        402\n",
      "Group variable: OPERATOR_ID                     Number of groups  =         68\n",
      "\n",
      "R-sq:                                           Obs per group:\n",
      "     within  = 0.7540                                         min =          1\n",
      "     between = 0.1986                                         avg =        5.9\n",
      "     overall = 0.2071                                         max =          7\n",
      "\n",
      "                                                F(30,67)          =    3740.08\n",
      "corr(u_i, Xb)  = -0.9255                        Prob > F          =     0.0000\n",
      "\n",
      "                                   (Std. Err. adjusted for 68 clusters in OPERATOR_ID)\n",
      "--------------------------------------------------------------------------------------\n",
      "                     |               Robust\n",
      "               INC_3 |      Coef.   Std. Err.      t    P>|t|     [95% Conf. Interval]\n",
      "---------------------+----------------------------------------------------------------\n",
      "           CHANGE_SD |   1.221635   .6501103     1.88   0.065    -.0759909     2.51926\n",
      "        CHANGE_SD_SQ |  -.2176413   .1397683    -1.56   0.124      -.49662    .0613374\n",
      "          DISC_ADDED |  -.5682584   .3305456    -1.72   0.090     -1.22803    .0915134\n",
      "         CONSOLIDATE |   .0973659   .0301242     3.23   0.002     .0372377    .1574941\n",
      "                 M_A |   2.217626   1.447433     1.53   0.130    -.6714617    5.106715\n",
      "               M_A_2 |  -.8894956   .2829513    -3.14   0.002    -1.454269   -.3247225\n",
      "  CRUDE_MILES_1940_3 |  -.0000536   .0028233    -0.02   0.985    -.0056889    .0055817\n",
      "  CRUDE_MILES_1950_3 |   .0059381   .0018697     3.18   0.002     .0022061    .0096701\n",
      "  CRUDE_MILES_1960_3 |   .0064323   .0071624     0.90   0.372    -.0078639    .0207285\n",
      "  CRUDE_MILES_1970_3 |   .0035911   .0033115     1.08   0.282    -.0030187     .010201\n",
      "  CRUDE_MILES_1980_3 |   .0073276   .0059044     1.24   0.219    -.0044578    .0191129\n",
      "  CRUDE_MILES_1990_3 |    .001653   .0029475     0.56   0.577    -.0042303    .0075363\n",
      "  CRUDE_MILES_2000_3 |  -.0001869     .00082    -0.23   0.820    -.0018238    .0014499\n",
      "  CRUDE_MILES_2010_3 |  -.0030984   .0066917    -0.46   0.645    -.0164552    .0102583\n",
      "    HVL_MILES_1940_3 |  -.0062717   .0070909    -0.88   0.380    -.0204253    .0078818\n",
      "    HVL_MILES_1950_3 |  -.0004382    .002546    -0.17   0.864      -.00552    .0046437\n",
      "    HVL_MILES_1960_3 |   .0027361   .0011955     2.29   0.025     .0003498    .0051224\n",
      "    HVL_MILES_1970_3 |   -.001438   .0003339    -4.31   0.000    -.0021045   -.0007715\n",
      "    HVL_MILES_1980_3 |  -4.87e-06    .001733    -0.00   0.998     -.003464    .0034542\n",
      "    HVL_MILES_1990_3 |   .0017105   .0021664     0.79   0.433    -.0026137    .0060346\n",
      "    HVL_MILES_2000_3 |   .0023793   .0010138     2.35   0.022     .0003558    .0044029\n",
      "    HVL_MILES_2010_3 |   .0159871   .0072049     2.22   0.030      .001606    .0303682\n",
      "NON_HVL_MILES_1940_3 |  -.0058643   .0014933    -3.93   0.000     -.008845   -.0028837\n",
      "NON_HVL_MILES_1950_3 |   -.001468   .0010533    -1.39   0.168    -.0035703    .0006343\n",
      "NON_HVL_MILES_1960_3 |   .0009737   .0014143     0.69   0.494    -.0018493    .0037968\n",
      "NON_HVL_MILES_1970_3 |   .0035617   .0026679     1.34   0.186    -.0017634    .0088867\n",
      "NON_HVL_MILES_1980_3 |   .0224567   .0038727     5.80   0.000     .0147267    .0301866\n",
      "NON_HVL_MILES_1990_3 |   .0021613   .0050886     0.42   0.672    -.0079956    .0123183\n",
      "NON_HVL_MILES_2000_3 |   -.001461   .0010659    -1.37   0.175    -.0035885    .0006664\n",
      "NON_HVL_MILES_2010_3 |   .0011474    .003583     0.32   0.750    -.0060044    .0082991\n",
      "               _cons |  -4.206233   1.106392    -3.80   0.000    -6.414601   -1.997865\n",
      "---------------------+----------------------------------------------------------------\n",
      "             sigma_u |  15.544028\n",
      "             sigma_e |  1.7258438\n",
      "                 rho |  .98782259   (fraction of variance due to u_i)\n",
      "--------------------------------------------------------------------------------------\n"
     ]
    }
   ],
   "source": [
    "xtreg INC_3 CHANGE_SD CHANGE_SD_SQ DISC_ADDED CONSOLIDATE M_A M_A_2 CRUDE_MILES_1940_3 CRUDE_MILES_1950_3 CRUDE_MILES_1960_3 CRUDE_MILES_1970_3 ///\n",
    "      CRUDE_MILES_1980_3 CRUDE_MILES_1990_3 CRUDE_MILES_2000_3 CRUDE_MILES_2010_3 HVL_MILES_1940_3 HVL_MILES_1950_3 HVL_MILES_1960_3 ///\n",
    "      HVL_MILES_1970_3 HVL_MILES_1980_3 HVL_MILES_1990_3 HVL_MILES_2000_3 HVL_MILES_2010_3 NON_HVL_MILES_1940_3 ///\n",
    "      NON_HVL_MILES_1950_3 NON_HVL_MILES_1960_3 NON_HVL_MILES_1970_3 NON_HVL_MILES_1980_3 NON_HVL_MILES_1990_3 ///\n",
    "      NON_HVL_MILES_2000_3 NON_HVL_MILES_2010_3, fe vce(robust)"
   ]
  },
  {
   "cell_type": "code",
   "execution_count": 18,
   "metadata": {},
   "outputs": [
    {
     "name": "stdout",
     "output_type": "stream",
     "text": [
      "Note: file will be replaced when the first putexcel command is issued\n"
     ]
    }
   ],
   "source": [
    "putexcel set \"../results/model4_`date'.xlsx\", replace"
   ]
  },
  {
   "cell_type": "code",
   "execution_count": 19,
   "metadata": {},
   "outputs": [],
   "source": [
    "matrix D = r(table)'"
   ]
  },
  {
   "cell_type": "code",
   "execution_count": 20,
   "metadata": {},
   "outputs": [
    {
     "name": "stdout",
     "output_type": "stream",
     "text": [
      "file ../results/model4_2019-09-16.xlsx saved\n"
     ]
    }
   ],
   "source": [
    "putexcel A1 = matrix(D), names"
   ]
  },
  {
   "cell_type": "markdown",
   "metadata": {},
   "source": [
    "### Minimalist"
   ]
  },
  {
   "cell_type": "code",
   "execution_count": 21,
   "metadata": {},
   "outputs": [
    {
     "name": "stdout",
     "output_type": "stream",
     "text": [
      "\n",
      "Fixed-effects (within) regression               Number of obs     =        621\n",
      "Group variable: OPERATOR_ID                     Number of groups  =         78\n",
      "\n",
      "R-sq:                                           Obs per group:\n",
      "     within  = 0.6213                                         min =          1\n",
      "     between = 0.3045                                         avg =        8.0\n",
      "     overall = 0.3008                                         max =         10\n",
      "\n",
      "                                                F(28,77)          =    3003.01\n",
      "corr(u_i, Xb)  = -0.8697                        Prob > F          =     0.0000\n",
      "\n",
      "                                   (Std. Err. adjusted for 78 clusters in OPERATOR_ID)\n",
      "--------------------------------------------------------------------------------------\n",
      "                     |               Robust\n",
      "               INC_3 |      Coef.   Std. Err.      t    P>|t|     [95% Conf. Interval]\n",
      "---------------------+----------------------------------------------------------------\n",
      "           CHANGE_SD |    1.29113   .7709946     1.67   0.098    -.2441169    2.826376\n",
      "        CHANGE_SD_SQ |  -.2636874   .1664094    -1.58   0.117    -.5950508    .0676759\n",
      "                 M_A |   2.305082   .7943843     2.90   0.005     .7232605    3.886903\n",
      "               M_A_2 |   1.148823    .770361     1.49   0.140    -.3851619    2.682807\n",
      "  CRUDE_MILES_1940_3 |  -.0003274   .0025767    -0.13   0.899    -.0054583    .0048036\n",
      "  CRUDE_MILES_1950_3 |   .0039005   .0023236     1.68   0.097    -.0007264    .0085275\n",
      "  CRUDE_MILES_1960_3 |   .0044663   .0029987     1.49   0.140     -.001505    .0104375\n",
      "  CRUDE_MILES_1970_3 |   .0019113   .0025393     0.75   0.454     -.003145    .0069677\n",
      "  CRUDE_MILES_1980_3 |   .0059073   .0050003     1.18   0.241    -.0040495    .0158641\n",
      "  CRUDE_MILES_1990_3 |   .0024997   .0029093     0.86   0.393    -.0032935    .0082929\n",
      "  CRUDE_MILES_2000_3 |   .0014857   .0008782     1.69   0.095    -.0002631    .0032345\n",
      "  CRUDE_MILES_2010_3 |   .0003253   .0020476     0.16   0.874     -.003752    .0044026\n",
      "    HVL_MILES_1940_3 |   .0023573   .0056975     0.41   0.680    -.0089878    .0137024\n",
      "    HVL_MILES_1950_3 |   .0008565   .0014627     0.59   0.560    -.0020562    .0037691\n",
      "    HVL_MILES_1960_3 |   .0020045   .0010023     2.00   0.049     8.74e-06    .0040002\n",
      "    HVL_MILES_1970_3 |  -.0012717   .0004554    -2.79   0.007    -.0021785   -.0003649\n",
      "    HVL_MILES_1980_3 |  -.0004189   .0018059    -0.23   0.817    -.0040148    .0031771\n",
      "    HVL_MILES_1990_3 |   .0040115   .0017749     2.26   0.027     .0004773    .0075458\n",
      "    HVL_MILES_2000_3 |   .0018339   .0011639     1.58   0.119    -.0004837    .0041515\n",
      "    HVL_MILES_2010_3 |   .0014495   .0010872     1.33   0.186    -.0007154    .0036143\n",
      "NON_HVL_MILES_1940_3 |  -.0047974   .0013443    -3.57   0.001    -.0074743   -.0021205\n",
      "NON_HVL_MILES_1950_3 |    .000116   .0008636     0.13   0.893    -.0016036    .0018356\n",
      "NON_HVL_MILES_1960_3 |   .0012833   .0011852     1.08   0.282    -.0010767    .0036432\n",
      "NON_HVL_MILES_1970_3 |    .001813   .0022769     0.80   0.428    -.0027209    .0063469\n",
      "NON_HVL_MILES_1980_3 |   .0178954   .0029459     6.07   0.000     .0120294    .0237615\n",
      "NON_HVL_MILES_1990_3 |  -.0024346    .006524    -0.37   0.710    -.0154256    .0105564\n",
      "NON_HVL_MILES_2000_3 |   -.000855   .0016874    -0.51   0.614     -.004215    .0025051\n",
      "NON_HVL_MILES_2010_3 |   .0059071     .00345     1.71   0.091    -.0009628     .012777\n",
      "               _cons |   -2.88403   1.225691    -2.35   0.021    -5.324692   -.4433672\n",
      "---------------------+----------------------------------------------------------------\n",
      "             sigma_u |  11.316483\n",
      "             sigma_e |  2.0975936\n",
      "                 rho |  .96678386   (fraction of variance due to u_i)\n",
      "--------------------------------------------------------------------------------------\n"
     ]
    }
   ],
   "source": [
    "xtreg INC_3 CHANGE_SD CHANGE_SD_SQ M_A M_A_2 CRUDE_MILES_1940_3 CRUDE_MILES_1950_3 CRUDE_MILES_1960_3 CRUDE_MILES_1970_3 ///\n",
    "      CRUDE_MILES_1980_3 CRUDE_MILES_1990_3 CRUDE_MILES_2000_3 CRUDE_MILES_2010_3 HVL_MILES_1940_3 HVL_MILES_1950_3 HVL_MILES_1960_3 ///\n",
    "      HVL_MILES_1970_3 HVL_MILES_1980_3 HVL_MILES_1990_3 HVL_MILES_2000_3 HVL_MILES_2010_3 NON_HVL_MILES_1940_3 ///\n",
    "      NON_HVL_MILES_1950_3 NON_HVL_MILES_1960_3 NON_HVL_MILES_1970_3 NON_HVL_MILES_1980_3 NON_HVL_MILES_1990_3 ///\n",
    "      NON_HVL_MILES_2000_3 NON_HVL_MILES_2010_3, fe vce(robust)"
   ]
  },
  {
   "cell_type": "code",
   "execution_count": 22,
   "metadata": {},
   "outputs": [
    {
     "name": "stdout",
     "output_type": "stream",
     "text": [
      "Note: file will be replaced when the first putexcel command is issued\n"
     ]
    }
   ],
   "source": [
    "putexcel set \"../results/model5_`date'.xlsx\", replace"
   ]
  },
  {
   "cell_type": "code",
   "execution_count": 23,
   "metadata": {},
   "outputs": [],
   "source": [
    "matrix D = r(table)'"
   ]
  },
  {
   "cell_type": "code",
   "execution_count": 24,
   "metadata": {},
   "outputs": [
    {
     "name": "stdout",
     "output_type": "stream",
     "text": [
      "file ../results/model5_2019-09-16.xlsx saved\n"
     ]
    }
   ],
   "source": [
    "putexcel A1 = matrix(D), names"
   ]
  },
  {
   "cell_type": "markdown",
   "metadata": {},
   "source": [
    "### With year"
   ]
  },
  {
   "cell_type": "code",
   "execution_count": 25,
   "metadata": {},
   "outputs": [
    {
     "name": "stdout",
     "output_type": "stream",
     "text": [
      "\n",
      "Fixed-effects (within) regression               Number of obs     =        402\n",
      "Group variable: OPERATOR_ID                     Number of groups  =         68\n",
      "\n",
      "R-sq:                                           Obs per group:\n",
      "     within  = 0.7594                                         min =          1\n",
      "     between = 0.1925                                         avg =        5.9\n",
      "     overall = 0.2019                                         max =          7\n",
      "\n",
      "                                                F(36,67)          =    6675.52\n",
      "corr(u_i, Xb)  = -0.9284                        Prob > F          =     0.0000\n",
      "\n",
      "                                   (Std. Err. adjusted for 68 clusters in OPERATOR_ID)\n",
      "--------------------------------------------------------------------------------------\n",
      "                     |               Robust\n",
      "               INC_3 |      Coef.   Std. Err.      t    P>|t|     [95% Conf. Interval]\n",
      "---------------------+----------------------------------------------------------------\n",
      "           CHANGE_SD |   1.238618   .6611984     1.87   0.065    -.0811394    2.558376\n",
      "        CHANGE_SD_SQ |  -.2133357   .1444424    -1.48   0.144    -.5016439    .0749725\n",
      "                     |\n",
      "                YEAR |\n",
      "               2007  |  -.3042297   .3232967    -0.94   0.350    -.9495326    .3410733\n",
      "               2008  |   .0171227   .3506203     0.05   0.961    -.6827183    .7169638\n",
      "               2009  |   .2393871   .4702741     0.51   0.612    -.6992839    1.178058\n",
      "               2010  |   .1336659   .5214188     0.26   0.798    -.9070905    1.174422\n",
      "               2011  |  -.2899075   .4808763    -0.60   0.549    -1.249741    .6699255\n",
      "               2012  |  -.5334342   .5861962    -0.91   0.366    -1.703487    .6366184\n",
      "                     |\n",
      "          DISC_ADDED |  -.4822707   .3219584    -1.50   0.139    -1.124902    .1603609\n",
      "         CONSOLIDATE |   .0861514   .0299852     2.87   0.005     .0263007    .1460022\n",
      "                 M_A |   2.465112   1.496317     1.65   0.104    -.5215485    5.451773\n",
      "               M_A_2 |  -.9554258   .4448759    -2.15   0.035    -1.843402   -.0674498\n",
      "  CRUDE_MILES_1940_3 |   .0005832   .0028312     0.21   0.837     -.005068    .0062343\n",
      "  CRUDE_MILES_1950_3 |   .0059603   .0019935     2.99   0.004     .0019813    .0099394\n",
      "  CRUDE_MILES_1960_3 |   .0078992   .0076342     1.03   0.305    -.0073387    .0231371\n",
      "  CRUDE_MILES_1970_3 |   .0040776   .0033274     1.23   0.225    -.0025639    .0107191\n",
      "  CRUDE_MILES_1980_3 |   .0066128   .0059705     1.11   0.272    -.0053044      .01853\n",
      "  CRUDE_MILES_1990_3 |   .0009654   .0031461     0.31   0.760    -.0053143    .0072451\n",
      "  CRUDE_MILES_2000_3 |  -.0002589   .0009832    -0.26   0.793    -.0022214    .0017035\n",
      "  CRUDE_MILES_2010_3 |   .0006598   .0060476     0.11   0.913    -.0114113     .012731\n",
      "    HVL_MILES_1940_3 |  -.0062116   .0065739    -0.94   0.348    -.0193332      .00691\n",
      "    HVL_MILES_1950_3 |  -.0006819   .0026053    -0.26   0.794    -.0058821    .0045184\n",
      "    HVL_MILES_1960_3 |   .0025589   .0012421     2.06   0.043     .0000796    .0050381\n",
      "    HVL_MILES_1970_3 |  -.0014601   .0003435    -4.25   0.000    -.0021457   -.0007745\n",
      "    HVL_MILES_1980_3 |   .0000886   .0016768     0.05   0.958    -.0032584    .0034356\n",
      "    HVL_MILES_1990_3 |   .0016174   .0021114     0.77   0.446    -.0025969    .0058317\n",
      "    HVL_MILES_2000_3 |   .0024566   .0010362     2.37   0.021     .0003882    .0045249\n",
      "    HVL_MILES_2010_3 |   .0177164   .0070108     2.53   0.014     .0037228    .0317101\n",
      "NON_HVL_MILES_1940_3 |  -.0059619   .0015362    -3.88   0.000    -.0090281   -.0028958\n",
      "NON_HVL_MILES_1950_3 |  -.0017552   .0010829    -1.62   0.110    -.0039167    .0004062\n",
      "NON_HVL_MILES_1960_3 |   .0011271   .0013932     0.81   0.421    -.0016539     .003908\n",
      "NON_HVL_MILES_1970_3 |   .0038079   .0026421     1.44   0.154    -.0014657    .0090816\n",
      "NON_HVL_MILES_1980_3 |   .0231548   .0039482     5.86   0.000     .0152742    .0310353\n",
      "NON_HVL_MILES_1990_3 |     .00204   .0052357     0.39   0.698    -.0084106    .0124906\n",
      "NON_HVL_MILES_2000_3 |  -.0013741   .0010551    -1.30   0.197    -.0034802    .0007319\n",
      "NON_HVL_MILES_2010_3 |   .0013691   .0037894     0.36   0.719    -.0061945    .0089327\n",
      "               _cons |  -4.212513   1.075411    -3.92   0.000    -6.359042   -2.065984\n",
      "---------------------+----------------------------------------------------------------\n",
      "             sigma_u |  15.907814\n",
      "             sigma_e |    1.72415\n",
      "                 rho |  .98838933   (fraction of variance due to u_i)\n",
      "--------------------------------------------------------------------------------------\n"
     ]
    }
   ],
   "source": [
    "xtreg INC_3 CHANGE_SD CHANGE_SD_SQ i.YEAR DISC_ADDED CONSOLIDATE M_A M_A_2 CRUDE_MILES_1940_3 CRUDE_MILES_1950_3 CRUDE_MILES_1960_3 CRUDE_MILES_1970_3 ///\n",
    "      CRUDE_MILES_1980_3 CRUDE_MILES_1990_3 CRUDE_MILES_2000_3 CRUDE_MILES_2010_3 HVL_MILES_1940_3 HVL_MILES_1950_3 HVL_MILES_1960_3 ///\n",
    "      HVL_MILES_1970_3 HVL_MILES_1980_3 HVL_MILES_1990_3 HVL_MILES_2000_3 HVL_MILES_2010_3 NON_HVL_MILES_1940_3 ///\n",
    "      NON_HVL_MILES_1950_3 NON_HVL_MILES_1960_3 NON_HVL_MILES_1970_3 NON_HVL_MILES_1980_3 NON_HVL_MILES_1990_3 ///\n",
    "      NON_HVL_MILES_2000_3 NON_HVL_MILES_2010_3, fe vce(robust)"
   ]
  },
  {
   "cell_type": "code",
   "execution_count": 26,
   "metadata": {},
   "outputs": [
    {
     "name": "stdout",
     "output_type": "stream",
     "text": [
      "Note: file will be replaced when the first putexcel command is issued\n"
     ]
    }
   ],
   "source": [
    "putexcel set \"../results/model6_`date'.xlsx\", replace"
   ]
  },
  {
   "cell_type": "code",
   "execution_count": 27,
   "metadata": {},
   "outputs": [],
   "source": [
    "matrix D = r(table)'"
   ]
  },
  {
   "cell_type": "code",
   "execution_count": 28,
   "metadata": {},
   "outputs": [
    {
     "name": "stdout",
     "output_type": "stream",
     "text": [
      "file ../results/model6_2019-09-16.xlsx saved\n"
     ]
    }
   ],
   "source": [
    "putexcel A1 = matrix(D), names"
   ]
  },
  {
   "cell_type": "markdown",
   "metadata": {},
   "source": [
    "## 13.3 Hausman test"
   ]
  },
  {
   "cell_type": "code",
   "execution_count": 29,
   "metadata": {},
   "outputs": [
    {
     "name": "stdout",
     "output_type": "stream",
     "text": [
      "\n",
      "Fixed-effects (within) regression               Number of obs     =        402\n",
      "Group variable: OPERATOR_ID                     Number of groups  =         68\n",
      "\n",
      "R-sq:                                           Obs per group:\n",
      "     within  = 0.7485                                         min =          1\n",
      "     between = 0.2284                                         avg =        5.9\n",
      "     overall = 0.2314                                         max =          7\n",
      "\n",
      "                                                F(28,306)         =      32.53\n",
      "corr(u_i, Xb)  = -0.9204                        Prob > F          =     0.0000\n",
      "\n",
      "--------------------------------------------------------------------------------------\n",
      "               INC_3 |      Coef.   Std. Err.      t    P>|t|     [95% Conf. Interval]\n",
      "---------------------+----------------------------------------------------------------\n",
      "           CHANGE_SD |   1.208058   .6718078     1.80   0.073    -.1138891    2.530006\n",
      "        CHANGE_SD_SQ |  -.2198651   .1840502    -1.19   0.233    -.5820294    .1422991\n",
      "          DISC_ADDED |  -.5610484   .3427652    -1.64   0.103    -1.235524    .1134268\n",
      "         CONSOLIDATE |   .0946569   .0506539     1.87   0.063     -.005017    .1943309\n",
      "  CRUDE_MILES_1940_3 |  -.0024639   .0028772    -0.86   0.392    -.0081255    .0031977\n",
      "  CRUDE_MILES_1950_3 |   .0070684   .0018873     3.75   0.000     .0033547    .0107821\n",
      "  CRUDE_MILES_1960_3 |   .0075767   .0040657     1.86   0.063    -.0004235    .0155769\n",
      "  CRUDE_MILES_1970_3 |   .0038468   .0023641     1.63   0.105    -.0008052    .0084989\n",
      "  CRUDE_MILES_1980_3 |   .0080212   .0039773     2.02   0.045     .0001948    .0158475\n",
      "  CRUDE_MILES_1990_3 |   .0023848    .003071     0.78   0.438    -.0036582    .0084278\n",
      "  CRUDE_MILES_2000_3 |  -.0005135   .0009344    -0.55   0.583    -.0023521     .001325\n",
      "  CRUDE_MILES_2010_3 |  -.0037985   .0051671    -0.74   0.463    -.0139661    .0063691\n",
      "    HVL_MILES_1940_3 |  -.0076292   .0034523    -2.21   0.028    -.0144225   -.0008358\n",
      "    HVL_MILES_1950_3 |  -.0011675   .0013144    -0.89   0.375    -.0037539     .001419\n",
      "    HVL_MILES_1960_3 |   .0032739    .000558     5.87   0.000     .0021758    .0043719\n",
      "    HVL_MILES_1970_3 |  -.0013837   .0003039    -4.55   0.000    -.0019816   -.0007858\n",
      "    HVL_MILES_1980_3 |   .0003825   .0007822     0.49   0.625    -.0011567    .0019218\n",
      "    HVL_MILES_1990_3 |    .001133   .0010468     1.08   0.280    -.0009268    .0031928\n",
      "    HVL_MILES_2000_3 |   .0021413   .0005346     4.01   0.000     .0010894    .0031932\n",
      "    HVL_MILES_2010_3 |   .0159651   .0036966     4.32   0.000     .0086912    .0232391\n",
      "NON_HVL_MILES_1940_3 |  -.0057078   .0010238    -5.58   0.000    -.0077223   -.0036933\n",
      "NON_HVL_MILES_1950_3 |  -.0014909   .0006526    -2.28   0.023     -.002775   -.0002067\n",
      "NON_HVL_MILES_1960_3 |   .0009419   .0006514     1.45   0.149    -.0003399    .0022237\n",
      "NON_HVL_MILES_1970_3 |    .004523   .0011367     3.98   0.000     .0022861    .0067598\n",
      "NON_HVL_MILES_1980_3 |   .0207605   .0020913     9.93   0.000     .0166453    .0248756\n",
      "NON_HVL_MILES_1990_3 |   .0001073   .0021613     0.05   0.960    -.0041457    .0043603\n",
      "NON_HVL_MILES_2000_3 |  -.0008408   .0008915    -0.94   0.346    -.0025952    .0009135\n",
      "NON_HVL_MILES_2010_3 |   .0018448   .0037904     0.49   0.627    -.0056137    .0093033\n",
      "               _cons |  -4.160522   .8871994    -4.69   0.000    -5.906305   -2.414738\n",
      "---------------------+----------------------------------------------------------------\n",
      "             sigma_u |  14.783944\n",
      "             sigma_e |  1.7393241\n",
      "                 rho |  .98634756   (fraction of variance due to u_i)\n",
      "--------------------------------------------------------------------------------------\n",
      "F test that all u_i=0: F(67, 306) = 19.68                    Prob > F = 0.0000\n"
     ]
    }
   ],
   "source": [
    "xtreg INC_3 CHANGE_SD CHANGE_SD_SQ DISC_ADDED CONSOLIDATE CRUDE_MILES_1940_3 CRUDE_MILES_1950_3 CRUDE_MILES_1960_3 CRUDE_MILES_1970_3 ///\n",
    "      CRUDE_MILES_1980_3 CRUDE_MILES_1990_3 CRUDE_MILES_2000_3 CRUDE_MILES_2010_3 HVL_MILES_1940_3 HVL_MILES_1950_3 HVL_MILES_1960_3 ///\n",
    "      HVL_MILES_1970_3 HVL_MILES_1980_3 HVL_MILES_1990_3 HVL_MILES_2000_3 HVL_MILES_2010_3 NON_HVL_MILES_1940_3 ///\n",
    "      NON_HVL_MILES_1950_3 NON_HVL_MILES_1960_3 NON_HVL_MILES_1970_3 NON_HVL_MILES_1980_3 NON_HVL_MILES_1990_3 ///\n",
    "      NON_HVL_MILES_2000_3 NON_HVL_MILES_2010_3, fe"
   ]
  },
  {
   "cell_type": "code",
   "execution_count": 30,
   "metadata": {},
   "outputs": [],
   "source": [
    "estimate store fixed"
   ]
  },
  {
   "cell_type": "code",
   "execution_count": 31,
   "metadata": {},
   "outputs": [
    {
     "name": "stdout",
     "output_type": "stream",
     "text": [
      "\n",
      "Random-effects GLS regression                   Number of obs     =        402\n",
      "Group variable: OPERATOR_ID                     Number of groups  =         68\n",
      "\n",
      "R-sq:                                           Obs per group:\n",
      "     within  = 0.6667                                         min =          1\n",
      "     between = 0.6783                                         avg =        5.9\n",
      "     overall = 0.6420                                         max =          7\n",
      "\n",
      "                                                Wald chi2(28)     =     706.73\n",
      "corr(u_i, X)   = 0 (assumed)                    Prob > chi2       =     0.0000\n",
      "\n",
      "--------------------------------------------------------------------------------------\n",
      "               INC_3 |      Coef.   Std. Err.      z    P>|z|     [95% Conf. Interval]\n",
      "---------------------+----------------------------------------------------------------\n",
      "           CHANGE_SD |   .9304263    .764617     1.22   0.224    -.5681954    2.429048\n",
      "        CHANGE_SD_SQ |  -.1909266   .2093034    -0.91   0.362    -.6011538    .2193006\n",
      "          DISC_ADDED |  -.2586986   .3894896    -0.66   0.507    -1.022084     .504687\n",
      "         CONSOLIDATE |   .0387247   .0561899     0.69   0.491    -.0714055    .1488549\n",
      "  CRUDE_MILES_1940_3 |  -.0026479   .0023414    -1.13   0.258    -.0072369    .0019411\n",
      "  CRUDE_MILES_1950_3 |   .0002517   .0013911     0.18   0.856    -.0024749    .0029783\n",
      "  CRUDE_MILES_1960_3 |   .0108019   .0026089     4.14   0.000     .0056885    .0159153\n",
      "  CRUDE_MILES_1970_3 |   .0007468   .0021093     0.35   0.723    -.0033873    .0048809\n",
      "  CRUDE_MILES_1980_3 |   -.004378   .0017038    -2.57   0.010    -.0077174   -.0010386\n",
      "  CRUDE_MILES_1990_3 |   .0004573   .0014148     0.32   0.747    -.0023157    .0032303\n",
      "  CRUDE_MILES_2000_3 |   .0002371   .0009986     0.24   0.812    -.0017201    .0021943\n",
      "  CRUDE_MILES_2010_3 |  -.0002763   .0058761    -0.05   0.962    -.0117933    .0112407\n",
      "    HVL_MILES_1940_3 |  -.0243468   .0029555    -8.24   0.000    -.0301394   -.0185542\n",
      "    HVL_MILES_1950_3 |  -.0006852   .0009611    -0.71   0.476    -.0025689    .0011985\n",
      "    HVL_MILES_1960_3 |   .0046621   .0003862    12.07   0.000     .0039051     .005419\n",
      "    HVL_MILES_1970_3 |  -.0011019   .0003016    -3.65   0.000    -.0016931   -.0005108\n",
      "    HVL_MILES_1980_3 |   .0004776   .0007307     0.65   0.513    -.0009545    .0019097\n",
      "    HVL_MILES_1990_3 |  -.0007672   .0007954    -0.96   0.335    -.0023261    .0007916\n",
      "    HVL_MILES_2000_3 |   .0009321   .0005022     1.86   0.063    -.0000522    .0019164\n",
      "    HVL_MILES_2010_3 |   .0183954   .0041874     4.39   0.000     .0101882    .0266025\n",
      "NON_HVL_MILES_1940_3 |  -.0024778   .0008358    -2.96   0.003    -.0041159   -.0008397\n",
      "NON_HVL_MILES_1950_3 |   .0007638   .0005163     1.48   0.139    -.0002481    .0017757\n",
      "NON_HVL_MILES_1960_3 |   .0007176   .0005514     1.30   0.193    -.0003631    .0017984\n",
      "NON_HVL_MILES_1970_3 |   .0037699   .0008105     4.65   0.000     .0021813    .0053584\n",
      "NON_HVL_MILES_1980_3 |   .0075904   .0013367     5.68   0.000     .0049704    .0102103\n",
      "NON_HVL_MILES_1990_3 |  -.0014844   .0010243    -1.45   0.147     -.003492    .0005233\n",
      "NON_HVL_MILES_2000_3 |  -.0001491   .0009369    -0.16   0.874    -.0019854    .0016872\n",
      "NON_HVL_MILES_2010_3 |  -.0048943   .0031419    -1.56   0.119    -.0110523    .0012638\n",
      "               _cons |    .393786   .5729641     0.69   0.492    -.7292029    1.516775\n",
      "---------------------+----------------------------------------------------------------\n",
      "             sigma_u |  3.2252841\n",
      "             sigma_e |  1.7393241\n",
      "                 rho |  .77470103   (fraction of variance due to u_i)\n",
      "--------------------------------------------------------------------------------------\n"
     ]
    }
   ],
   "source": [
    "xtreg INC_3 CHANGE_SD CHANGE_SD_SQ  DISC_ADDED CONSOLIDATE CRUDE_MILES_1940_3 CRUDE_MILES_1950_3 CRUDE_MILES_1960_3 CRUDE_MILES_1970_3 ///\n",
    "      CRUDE_MILES_1980_3 CRUDE_MILES_1990_3 CRUDE_MILES_2000_3 CRUDE_MILES_2010_3 HVL_MILES_1940_3 HVL_MILES_1950_3 HVL_MILES_1960_3 ///\n",
    "      HVL_MILES_1970_3 HVL_MILES_1980_3 HVL_MILES_1990_3 HVL_MILES_2000_3 HVL_MILES_2010_3 NON_HVL_MILES_1940_3 ///\n",
    "      NON_HVL_MILES_1950_3 NON_HVL_MILES_1960_3 NON_HVL_MILES_1970_3 NON_HVL_MILES_1980_3 NON_HVL_MILES_1990_3 ///\n",
    "      NON_HVL_MILES_2000_3 NON_HVL_MILES_2010_3, re"
   ]
  },
  {
   "cell_type": "code",
   "execution_count": 32,
   "metadata": {},
   "outputs": [],
   "source": [
    "estimate store random"
   ]
  },
  {
   "cell_type": "code",
   "execution_count": 33,
   "metadata": {},
   "outputs": [
    {
     "name": "stdout",
     "output_type": "stream",
     "text": [
      "\n",
      "Note: the rank of the differenced variance matrix (26) does not equal the number of coefficients being tested (28); be sure this is what you expect, or there may be problems computing the test.  Examine the output of your estimators for anything\n",
      "        unexpected and possibly consider scaling your variables so that the coefficients are on a similar scale.\n",
      "\n",
      "                 ---- Coefficients ----\n",
      "             |      (b)          (B)            (b-B)     sqrt(diag(V_b-V_B))\n",
      "             |     fixed        random       Difference          S.E.\n",
      "-------------+----------------------------------------------------------------\n",
      "   CHANGE_SD |    1.208058     .9304263        .2776322        .1879453\n",
      "CHANGE_SD_SQ |   -.2198651    -.1909266       -.0289385        .0521889\n",
      "  DISC_ADDED |   -.5610484    -.2586986       -.3023499        .0984125\n",
      " CONSOLIDATE |    .0946569     .0387247        .0559322        .0191629\n",
      "CRUDE_M~40_3 |   -.0024639    -.0026479         .000184        .0024268\n",
      "CRUDE_M~50_3 |    .0070684     .0002517        .0068168        .0017197\n",
      "CRUDE_M~60_3 |    .0075767     .0108019       -.0032252        .0039874\n",
      "CRUDE_M~70_3 |    .0038468     .0007468           .0031        .0017968\n",
      "CRUDE_M~80_3 |    .0080212     -.004378        .0123992         .004339\n",
      "CRUDE_M~90_3 |    .0023848     .0004573        .0019275        .0033096\n",
      "CRUDE_M~00_3 |   -.0005135     .0002371       -.0007507        .0004495\n",
      "CRUDE_M~10_3 |   -.0037985    -.0002763       -.0035222         .001465\n",
      "HVL_MIL~40_3 |   -.0076292    -.0243468        .0167176        .0027636\n",
      "HVL_MIL~50_3 |   -.0011675    -.0006852       -.0004822         .001204\n",
      "HVL_MIL~60_3 |    .0032739     .0046621       -.0013882        .0005278\n",
      "HVL_MIL~70_3 |   -.0013837    -.0011019       -.0002817        .0001894\n",
      "HVL_MIL~80_3 |    .0003825     .0004776       -.0000951        .0005538\n",
      "HVL_MIL~90_3 |     .001133    -.0007672        .0019003        .0009341\n",
      "HVL_MIL~00_3 |    .0021413     .0009321        .0012092        .0003746\n",
      "HVL_MIL~10_3 |    .0159651     .0183954       -.0024302         .001112\n",
      "NON_HVL~40_3 |   -.0057078    -.0024778         -.00323        .0008609\n",
      "NON_HVL~50_3 |   -.0014909     .0007638       -.0022547        .0005643\n",
      "NON_HVL~60_3 |    .0009419     .0007176        .0002242         .000528\n",
      "NON_HVL~70_3 |     .004523     .0037699        .0007531        .0010574\n",
      "NON_HVL~80_3 |    .0207605     .0075904        .0131701        .0020545\n",
      "NON_HVL~90_3 |    .0001073    -.0014844        .0015917        .0023168\n",
      "NON_HVL~00_3 |   -.0008408    -.0001491       -.0006917        .0004627\n",
      "NON_HVL~10_3 |    .0018448    -.0048943        .0067391        .0031406\n",
      "------------------------------------------------------------------------------\n",
      "                           b = consistent under Ho and Ha; obtained from xtreg\n",
      "            B = inconsistent under Ha, efficient under Ho; obtained from xtreg\n",
      "\n",
      "    Test:  Ho:  difference in coefficients not systematic\n",
      "\n",
      "                 chi2(26) = (b-B)'[(V_b-V_B)^(-1)](b-B)\n",
      "                          =      121.18\n",
      "                Prob>chi2 =      0.0000\n"
     ]
    }
   ],
   "source": [
    "hausman fixed random, sigmamore"
   ]
  },
  {
   "cell_type": "code",
   "execution_count": null,
   "metadata": {},
   "outputs": [],
   "source": []
  }
 ],
 "metadata": {
  "jupytext": {
   "formats": "ipynb,md"
  },
  "kernelspec": {
   "display_name": "Stata",
   "language": "stata",
   "name": "stata"
  },
  "language_info": {
   "codemirror_mode": "stata",
   "file_extension": ".do",
   "mimetype": "text/x-stata",
   "name": "stata",
   "version": "15.1"
  }
 },
 "nbformat": 4,
 "nbformat_minor": 4
}
