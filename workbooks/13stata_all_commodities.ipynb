{
 "cells": [
  {
   "cell_type": "markdown",
   "metadata": {},
   "source": [
    "# 13. Modeling (Stata) - all commodities"
   ]
  },
  {
   "cell_type": "code",
   "execution_count": 1,
   "metadata": {},
   "outputs": [],
   "source": [
    "use \"../stata_data/sample_features_2019-08-26.dta\""
   ]
  },
  {
   "cell_type": "code",
   "execution_count": 2,
   "metadata": {},
   "outputs": [
    {
     "name": "stdout",
     "output_type": "stream",
     "text": [
      "YEAR          MILES         MILES_1950    MILES_1990    INCIDENTS     AVG_AGE       change_2      miles_avg_3   age_miles     perc_1960     perc_2000     avg_1950      avg_1990      SIGN_INC_M~E  log_sd_cha~e  miles_x_ch~e\n",
      "COMMODITY     AGE_UNKNOW~S  MILES_1960    MILES_2000    SIGNIFICAN~S  CHANGE        change_3      miles_1950_3  perc_pr~1940  perc_1970     perc_2010     avg_1960      avg_2000      M_A_3         sd_change_sq\n",
      "OPERATOR_ID   MILES_P~1940  MILES_1970    MILES_2010    GROUP         M_A           mean_chang~3  sign_inc_3    perc_1940     perc_1980     avg_pre_1940  avg_1970      avg_2010      LOG_INCIDE~E  sd_chang~w_3\n",
      "NAME          MILES_1940    MILES_1980    PARENT        PERC_OFFSH~E  change_1      sd_change_3   inc_per_mi~3  perc_1950     perc_1990     avg_1940      avg_1980      INCIDENTS_~E  LOG_SIGN_I~E  one_over_s~e\n"
     ]
    }
   ],
   "source": [
    "ds"
   ]
  },
  {
   "cell_type": "code",
   "execution_count": 3,
   "metadata": {},
   "outputs": [],
   "source": [
    "egen panelid = group(OPERATOR_ID COMMODITY), label"
   ]
  },
  {
   "cell_type": "code",
   "execution_count": 4,
   "metadata": {},
   "outputs": [
    {
     "name": "stdout",
     "output_type": "stream",
     "text": [
      "       panel variable:  panelid (unbalanced)\n",
      "        time variable:  YEAR, 2008 to 2018, but with gaps\n",
      "                delta:  1 unit\n"
     ]
    }
   ],
   "source": [
    "xtset panelid YEAR"
   ]
  },
  {
   "cell_type": "code",
   "execution_count": 11,
   "metadata": {},
   "outputs": [
    {
     "name": "stdout",
     "output_type": "stream",
     "text": [
      "\n",
      "Fixed-effects (within) regression               Number of obs     =        352\n",
      "Group variable: panelid                         Number of groups  =         85\n",
      "\n",
      "R-sq:                                           Obs per group:\n",
      "     within  = 0.0011                                         min =          1\n",
      "     between = 0.0315                                         avg =        4.1\n",
      "     overall = 0.0133                                         max =          6\n",
      "\n",
      "                                                F(2,84)           =       0.72\n",
      "corr(u_i, Xb)  = 0.1081                         Prob > F          =     0.4890\n",
      "\n",
      "                               (Std. Err. adjusted for 85 clusters in panelid)\n",
      "------------------------------------------------------------------------------\n",
      "             |               Robust\n",
      "inc_per_mi~3 |      Coef.   Std. Err.      t    P>|t|     [95% Conf. Interval]\n",
      "-------------+----------------------------------------------------------------\n",
      " sd_change_3 |  -4.10e-06   3.42e-06    -1.20   0.233    -.0000109    2.69e-06\n",
      "sd_change_sq |   3.01e-09   2.62e-09     1.15   0.253    -2.19e-09    8.21e-09\n",
      "       _cons |   .0033678   .0003019    11.15   0.000     .0027674    .0039682\n",
      "-------------+----------------------------------------------------------------\n",
      "     sigma_u |  .00545225\n",
      "     sigma_e |   .0074553\n",
      "         rho |  .34846502   (fraction of variance due to u_i)\n",
      "------------------------------------------------------------------------------\n"
     ]
    }
   ],
   "source": [
    "xtreg inc_per_mile_3 sd_change_3 sd_change_sq, fe vce(robust)"
   ]
  },
  {
   "cell_type": "code",
   "execution_count": 5,
   "metadata": {},
   "outputs": [
    {
     "name": "stdout",
     "output_type": "stream",
     "text": [
      "\n",
      "Fixed-effects (within) regression               Number of obs     =        331\n",
      "Group variable: panelid                         Number of groups  =         81\n",
      "\n",
      "R-sq:                                           Obs per group:\n",
      "     within  = 0.0722                                         min =          1\n",
      "     between = 0.0146                                         avg =        4.1\n",
      "     overall = 0.0096                                         max =          6\n",
      "\n",
      "                                                F(10,80)          =       4.01\n",
      "corr(u_i, Xb)  = -0.9046                        Prob > F          =     0.0002\n",
      "\n",
      "                               (Std. Err. adjusted for 81 clusters in panelid)\n",
      "------------------------------------------------------------------------------\n",
      "             |               Robust\n",
      "inc_per_mi~3 |      Coef.   Std. Err.      t    P>|t|     [95% Conf. Interval]\n",
      "-------------+----------------------------------------------------------------\n",
      " sd_change_3 |  -7.74e-06   3.73e-06    -2.07   0.041    -.0000152   -3.07e-07\n",
      "sd_change_sq |   6.51e-09   3.82e-09     1.70   0.092    -1.10e-09    1.41e-08\n",
      "    avg_1940 |   .0088595   .0099247     0.89   0.375    -.0108913    .0286102\n",
      "    avg_1950 |   .0120871   .0090785     1.33   0.187    -.0059796    .0301538\n",
      "    avg_1960 |   .0106268   .0083993     1.27   0.209    -.0060883     .027342\n",
      "    avg_1970 |   .0098112   .0057362     1.71   0.091    -.0016041    .0212266\n",
      "    avg_1980 |  -.0755369    .026299    -2.87   0.005    -.1278736   -.0232003\n",
      "    avg_1990 |   .0075488   .0107309     0.70   0.484    -.0138065     .028904\n",
      "    avg_2000 |   .0144204    .010517     1.37   0.174    -.0065091    .0353498\n",
      "    avg_2010 |   .0120284   .0069775     1.72   0.089    -.0018573    .0259142\n",
      "       _cons |  -.0000883   .0051873    -0.02   0.986    -.0104113    .0102346\n",
      "-------------+----------------------------------------------------------------\n",
      "     sigma_u |  .01364041\n",
      "     sigma_e |   .0075484\n",
      "         rho |  .76555877   (fraction of variance due to u_i)\n",
      "------------------------------------------------------------------------------\n"
     ]
    }
   ],
   "source": [
    "xtreg inc_per_mile_3 sd_change_3 sd_change_sq avg_1940 avg_1950 avg_1960 avg_1970 avg_1980 avg_1990 avg_2000 avg_2010, fe vce(robust)"
   ]
  },
  {
   "cell_type": "code",
   "execution_count": 6,
   "metadata": {},
   "outputs": [
    {
     "name": "stdout",
     "output_type": "stream",
     "text": [
      "\n",
      "Fixed-effects (within) regression               Number of obs     =        316\n",
      "Group variable: panelid                         Number of groups  =         79\n",
      "\n",
      "R-sq:                                           Obs per group:\n",
      "     within  = 0.3293                                         min =          1\n",
      "     between = 0.0099                                         avg =        4.0\n",
      "     overall = 0.0116                                         max =          6\n",
      "\n",
      "                                                F(10,78)          =       3.45\n",
      "corr(u_i, Xb)  = -0.9404                        Prob > F          =     0.0009\n",
      "\n",
      "                                     (Std. Err. adjusted for 79 clusters in panelid)\n",
      "------------------------------------------------------------------------------------\n",
      "                   |               Robust\n",
      "    inc_per_mile_3 |      Coef.   Std. Err.      t    P>|t|     [95% Conf. Interval]\n",
      "-------------------+----------------------------------------------------------------\n",
      "       sd_change_3 |  -3.23e-06   1.49e-06    -2.17   0.033    -6.19e-06   -2.64e-07\n",
      "one_over_sd_change |  -1.79e-07   1.86e-07    -0.96   0.338    -5.50e-07    1.91e-07\n",
      "          avg_1940 |   .0095145   .0118461     0.80   0.424    -.0140693    .0330983\n",
      "          avg_1950 |   .0126851   .0099336     1.28   0.205    -.0070912    .0324613\n",
      "          avg_1960 |   .0110781   .0091864     1.21   0.231    -.0072106    .0293667\n",
      "          avg_1970 |   .0092221   .0066018     1.40   0.166    -.0039212    .0223654\n",
      "          avg_1980 |  -.0743849   .0264871    -2.81   0.006    -.1271166   -.0216531\n",
      "          avg_1990 |   .0069944   .0115123     0.61   0.545    -.0159248    .0299136\n",
      "          avg_2000 |   .0151087   .0111387     1.36   0.179    -.0070669    .0372842\n",
      "          avg_2010 |   .0120303   .0079498     1.51   0.134    -.0037967    .0278572\n",
      "             _cons |  -.0006003   .0064302    -0.09   0.926    -.0134019    .0122013\n",
      "-------------------+----------------------------------------------------------------\n",
      "           sigma_u |  .01344086\n",
      "           sigma_e |  .00307009\n",
      "               rho |  .95041374   (fraction of variance due to u_i)\n",
      "------------------------------------------------------------------------------------\n"
     ]
    }
   ],
   "source": [
    "xtreg inc_per_mile_3 sd_change_3 one_over_sd avg_1940 avg_1950 avg_1960 avg_1970 avg_1980 avg_1990 avg_2000 avg_2010, fe vce(robust)"
   ]
  },
  {
   "cell_type": "markdown",
   "metadata": {},
   "source": [
    "## Hausman test"
   ]
  },
  {
   "cell_type": "code",
   "execution_count": 7,
   "metadata": {},
   "outputs": [
    {
     "name": "stdout",
     "output_type": "stream",
     "text": [
      "\n",
      "Fixed-effects (within) regression               Number of obs     =        331\n",
      "Group variable: panelid                         Number of groups  =         81\n",
      "\n",
      "R-sq:                                           Obs per group:\n",
      "     within  = 0.0722                                         min =          1\n",
      "     between = 0.0146                                         avg =        4.1\n",
      "     overall = 0.0096                                         max =          6\n",
      "\n",
      "                                                F(10,240)         =       1.87\n",
      "corr(u_i, Xb)  = -0.9046                        Prob > F          =     0.0502\n",
      "\n",
      "------------------------------------------------------------------------------\n",
      "inc_per_mi~3 |      Coef.   Std. Err.      t    P>|t|     [95% Conf. Interval]\n",
      "-------------+----------------------------------------------------------------\n",
      " sd_change_3 |  -7.74e-06   9.97e-06    -0.78   0.439    -.0000274    .0000119\n",
      "sd_change_sq |   6.51e-09   1.27e-08     0.51   0.609    -1.85e-08    3.15e-08\n",
      "    avg_1940 |   .0088595   .0281689     0.31   0.753    -.0466303    .0643492\n",
      "    avg_1950 |   .0120871   .0256589     0.47   0.638    -.0384583    .0626325\n",
      "    avg_1960 |   .0106268   .0265727     0.40   0.690    -.0417186    .0629723\n",
      "    avg_1970 |   .0098112   .0255373     0.38   0.701    -.0404946     .060117\n",
      "    avg_1980 |  -.0755369   .0377913    -2.00   0.047    -.1499819   -.0010919\n",
      "    avg_1990 |   .0075488   .0267404     0.28   0.778    -.0451271    .0602246\n",
      "    avg_2000 |   .0144204   .0317211     0.45   0.650     -.048067    .0769077\n",
      "    avg_2010 |   .0120284   .0265322     0.45   0.651    -.0402373    .0642941\n",
      "       _cons |  -.0000883   .0238815    -0.00   0.997    -.0471325    .0469558\n",
      "-------------+----------------------------------------------------------------\n",
      "     sigma_u |  .01364041\n",
      "     sigma_e |   .0075484\n",
      "         rho |  .76555877   (fraction of variance due to u_i)\n",
      "------------------------------------------------------------------------------\n",
      "F test that all u_i=0: F(80, 240) = 1.92                     Prob > F = 0.0001\n"
     ]
    }
   ],
   "source": [
    "xtreg inc_per_mile_3 sd_change_3 sd_change_sq avg_1940 avg_1950 avg_1960 avg_1970 avg_1980 avg_1990 avg_2000 avg_2010, fe"
   ]
  },
  {
   "cell_type": "code",
   "execution_count": 8,
   "metadata": {},
   "outputs": [],
   "source": [
    "estimate store fixed"
   ]
  },
  {
   "cell_type": "code",
   "execution_count": 9,
   "metadata": {},
   "outputs": [
    {
     "name": "stdout",
     "output_type": "stream",
     "text": [
      "\n",
      "Random-effects GLS regression                   Number of obs     =        331\n",
      "Group variable: panelid                         Number of groups  =         81\n",
      "\n",
      "R-sq:                                           Obs per group:\n",
      "     within  = 0.0189                                         min =          1\n",
      "     between = 0.1792                                         avg =        4.1\n",
      "     overall = 0.1133                                         max =          6\n",
      "\n",
      "                                                Wald chi2(10)     =      23.95\n",
      "corr(u_i, X)   = 0 (assumed)                    Prob > chi2       =     0.0077\n",
      "\n",
      "------------------------------------------------------------------------------\n",
      "inc_per_mi~3 |      Coef.   Std. Err.      z    P>|z|     [95% Conf. Interval]\n",
      "-------------+----------------------------------------------------------------\n",
      " sd_change_3 |  -6.77e-06   7.34e-06    -0.92   0.356    -.0000212    7.61e-06\n",
      "sd_change_sq |   6.82e-09   1.04e-08     0.66   0.512    -1.36e-08    2.72e-08\n",
      "    avg_1940 |   .0076401   .0134593     0.57   0.570    -.0187396    .0340198\n",
      "    avg_1950 |   .0184987   .0124397     1.49   0.137    -.0058827      .04288\n",
      "    avg_1960 |   .0073152   .0126379     0.58   0.563    -.0174547     .032085\n",
      "    avg_1970 |   .0083519    .012102     0.69   0.490    -.0153676    .0320713\n",
      "    avg_1980 |   .0060871   .0123848     0.49   0.623    -.0181866    .0303607\n",
      "    avg_1990 |   .0066338   .0121307     0.55   0.584    -.0171419    .0304095\n",
      "    avg_2000 |   .0172126   .0123559     1.39   0.164    -.0070044    .0414296\n",
      "    avg_2010 |   .0140802   .0123748     1.14   0.255    -.0101741    .0383345\n",
      "       _cons |  -.0069611   .0119755    -0.58   0.561    -.0304328    .0165105\n",
      "-------------+----------------------------------------------------------------\n",
      "     sigma_u |  .00331162\n",
      "     sigma_e |   .0075484\n",
      "         rho |   .1614071   (fraction of variance due to u_i)\n",
      "------------------------------------------------------------------------------\n"
     ]
    }
   ],
   "source": [
    "xtreg inc_per_mile_3 sd_change_3 sd_change_sq avg_1940 avg_1950 avg_1960 avg_1970 avg_1980 avg_1990 avg_2000 avg_2010, re"
   ]
  },
  {
   "cell_type": "code",
   "execution_count": 10,
   "metadata": {},
   "outputs": [
    {
     "name": "stdout",
     "output_type": "stream",
     "text": [
      "\n",
      "Note: the rank of the differenced variance matrix (9) does not equal the number of coefficients being tested (10); be sure this is what you expect, or there may be problems computing the test.  Examine the output of your estimators for anything unexpected\n",
      "        and possibly consider scaling your variables so that the coefficients are on a similar scale.\n",
      "\n",
      "                 ---- Coefficients ----\n",
      "             |      (b)          (B)            (b-B)     sqrt(diag(V_b-V_B))\n",
      "             |     fixed          .          Difference          S.E.\n",
      "-------------+----------------------------------------------------------------\n",
      " sd_change_3 |   -7.74e-06    -6.77e-06       -9.64e-07        6.93e-06\n",
      "sd_change_sq |    6.51e-09     6.82e-09       -3.15e-10        7.51e-09\n",
      "    avg_1940 |    .0088595     .0076401        .0012194        .0251235\n",
      "    avg_1950 |    .0120871     .0184987       -.0064115        .0227877\n",
      "    avg_1960 |    .0106268     .0073152        .0033117        .0237313\n",
      "    avg_1970 |    .0098112     .0083519        .0014594        .0228297\n",
      "    avg_1980 |   -.0755369     .0060871        -.081624        .0361766\n",
      "    avg_1990 |    .0075488     .0066338         .000915        .0241845\n",
      "    avg_2000 |    .0144204     .0172126       -.0027922        .0296223\n",
      "    avg_2010 |    .0120284     .0140802       -.0020518        .0238234\n",
      "------------------------------------------------------------------------------\n",
      "                           b = consistent under Ho and Ha; obtained from xtreg\n",
      "            B = inconsistent under Ha, efficient under Ho; obtained from xtreg\n",
      "\n",
      "    Test:  Ho:  difference in coefficients not systematic\n",
      "\n",
      "                  chi2(9) = (b-B)'[(V_b-V_B)^(-1)](b-B)\n",
      "                          =       15.12\n",
      "                Prob>chi2 =      0.0878\n"
     ]
    }
   ],
   "source": [
    "hausman fixed ., sigmamore"
   ]
  }
 ],
 "metadata": {
  "kernelspec": {
   "display_name": "Stata",
   "language": "stata",
   "name": "stata"
  },
  "language_info": {
   "codemirror_mode": "stata",
   "file_extension": ".do",
   "mimetype": "text/x-stata",
   "name": "stata",
   "version": "15.1"
  }
 },
 "nbformat": 4,
 "nbformat_minor": 4
}
