{
 "cells": [
  {
   "cell_type": "markdown",
   "metadata": {},
   "source": [
    "# 13. Modeling (Stata) - all commodities"
   ]
  },
  {
   "cell_type": "code",
   "execution_count": 1,
   "metadata": {},
   "outputs": [],
   "source": [
    "use \"../stata_data/sample_features_2019-09-02.dta\""
   ]
  },
  {
   "cell_type": "code",
   "execution_count": 2,
   "metadata": {},
   "outputs": [
    {
     "name": "stdout",
     "output_type": "stream",
     "text": [
      "YEAR          MILES         MILES_1950    MILES_1990    INCIDENTS     AVG_AGE       change_2      miles_avg_3   age_miles     perc_1960     perc_2000     avg_1950      avg_1990      SIGN_INC_M~E  log_sd_cha~e  miles_x_ch~e\n",
      "COMMODITY     AGE_UNKNOW~S  MILES_1960    MILES_2000    SIGNIFICAN~S  CHANGE        change_3      miles_1950_3  perc_pr~1940  perc_1970     perc_2010     avg_1960      avg_2000      M_A_3         sd_change_sq\n",
      "OPERATOR_ID   MILES_P~1940  MILES_1970    MILES_2010    GROUP         M_A           mean_chang~3  sign_inc_3    perc_1940     perc_1980     avg_pre_1940  avg_1970      avg_2010      LOG_INCIDE~E  sd_chang~w_3\n",
      "NAME          MILES_1940    MILES_1980    PARENT        PERC_OFFSH~E  change_1      sd_change_3   inc_per_mi~3  perc_1950     perc_1990     avg_1940      avg_1980      INCIDENTS_~E  LOG_SIGN_I~E  one_over_s~e\n"
     ]
    }
   ],
   "source": [
    "ds"
   ]
  },
  {
   "cell_type": "code",
   "execution_count": 3,
   "metadata": {},
   "outputs": [],
   "source": [
    "egen panelid = group(OPERATOR_ID COMMODITY), label"
   ]
  },
  {
   "cell_type": "code",
   "execution_count": 4,
   "metadata": {},
   "outputs": [
    {
     "name": "stdout",
     "output_type": "stream",
     "text": [
      "       panel variable:  panelid (unbalanced)\n",
      "        time variable:  YEAR, 2009 to 2018, but with gaps\n",
      "                delta:  1 unit\n"
     ]
    }
   ],
   "source": [
    "xtset panelid YEAR"
   ]
  },
  {
   "cell_type": "code",
   "execution_count": 5,
   "metadata": {},
   "outputs": [
    {
     "name": "stdout",
     "output_type": "stream",
     "text": [
      "\n",
      "Fixed-effects (within) regression               Number of obs     =        461\n",
      "Group variable: panelid                         Number of groups  =        105\n",
      "\n",
      "R-sq:                                           Obs per group:\n",
      "     within  = 0.0109                                         min =          1\n",
      "     between = 0.0284                                         avg =        4.4\n",
      "     overall = 0.0005                                         max =          5\n",
      "\n",
      "                                                F(2,104)          =      19.32\n",
      "corr(u_i, Xb)  = -0.1238                        Prob > F          =     0.0000\n",
      "\n",
      "                              (Std. Err. adjusted for 105 clusters in panelid)\n",
      "------------------------------------------------------------------------------\n",
      "             |               Robust\n",
      "inc_per_mi~3 |      Coef.   Std. Err.      t    P>|t|     [95% Conf. Interval]\n",
      "-------------+----------------------------------------------------------------\n",
      " sd_change_3 |   6.90e-06   6.38e-06     1.08   0.282    -5.75e-06    .0000196\n",
      "sd_change_sq |  -3.39e-08   9.66e-09    -3.51   0.001    -5.30e-08   -1.47e-08\n",
      "       _cons |   .0031482   .0002941    10.70   0.000      .002565    .0037314\n",
      "-------------+----------------------------------------------------------------\n",
      "     sigma_u |  .00786158\n",
      "     sigma_e |  .00610312\n",
      "         rho |  .62395634   (fraction of variance due to u_i)\n",
      "------------------------------------------------------------------------------\n"
     ]
    }
   ],
   "source": [
    "xtreg inc_per_mile_3 sd_change_3 sd_change_sq, fe vce(robust)"
   ]
  },
  {
   "cell_type": "code",
   "execution_count": 6,
   "metadata": {},
   "outputs": [
    {
     "name": "stdout",
     "output_type": "stream",
     "text": [
      "\n",
      "Fixed-effects (within) regression               Number of obs     =        437\n",
      "Group variable: panelid                         Number of groups  =        101\n",
      "\n",
      "R-sq:                                           Obs per group:\n",
      "     within  = 0.0369                                         min =          1\n",
      "     between = 0.0002                                         avg =        4.3\n",
      "     overall = 0.0004                                         max =          5\n",
      "\n",
      "                                                F(10,100)         =       3.75\n",
      "corr(u_i, Xb)  = -0.5358                        Prob > F          =     0.0003\n",
      "\n",
      "                              (Std. Err. adjusted for 101 clusters in panelid)\n",
      "------------------------------------------------------------------------------\n",
      "             |               Robust\n",
      "inc_per_mi~3 |      Coef.   Std. Err.      t    P>|t|     [95% Conf. Interval]\n",
      "-------------+----------------------------------------------------------------\n",
      " sd_change_3 |   2.25e-06   5.28e-06     0.43   0.671    -8.23e-06    .0000127\n",
      "sd_change_sq |  -2.87e-08   9.05e-09    -3.17   0.002    -4.67e-08   -1.08e-08\n",
      "    avg_1940 |   .0105297   .0054667     1.93   0.057    -.0003161    .0213754\n",
      "    avg_1950 |   .0012118   .0080003     0.15   0.880    -.0146606    .0170843\n",
      "    avg_1960 |   .0085389    .004801     1.78   0.078    -.0009862    .0180639\n",
      "    avg_1970 |   .0075447   .0065668     1.15   0.253    -.0054835     .020573\n",
      "    avg_1980 |  -.0224343    .021487    -1.04   0.299    -.0650638    .0201952\n",
      "    avg_1990 |    .009496   .0058249     1.63   0.106    -.0020603    .0210524\n",
      "    avg_2000 |   .0193975    .009614     2.02   0.046     .0003235    .0384714\n",
      "    avg_2010 |   .0072332   .0052947     1.37   0.175    -.0032713    .0177377\n",
      "       _cons |  -.0018761    .002575    -0.73   0.468    -.0069848    .0032325\n",
      "-------------+----------------------------------------------------------------\n",
      "     sigma_u |  .00952505\n",
      "     sigma_e |  .00627481\n",
      "         rho |  .69736149   (fraction of variance due to u_i)\n",
      "------------------------------------------------------------------------------\n"
     ]
    }
   ],
   "source": [
    "xtreg inc_per_mile_3 sd_change_3 sd_change_sq avg_1940 avg_1950 avg_1960 avg_1970 avg_1980 avg_1990 avg_2000 avg_2010, fe vce(robust)"
   ]
  },
  {
   "cell_type": "markdown",
   "metadata": {},
   "source": [
    "## Hausman test"
   ]
  },
  {
   "cell_type": "code",
   "execution_count": 8,
   "metadata": {},
   "outputs": [
    {
     "name": "stdout",
     "output_type": "stream",
     "text": [
      "\n",
      "Fixed-effects (within) regression               Number of obs     =        437\n",
      "Group variable: panelid                         Number of groups  =        101\n",
      "\n",
      "R-sq:                                           Obs per group:\n",
      "     within  = 0.0369                                         min =          1\n",
      "     between = 0.0002                                         avg =        4.3\n",
      "     overall = 0.0004                                         max =          5\n",
      "\n",
      "                                                F(10,326)         =       1.25\n",
      "corr(u_i, Xb)  = -0.5358                        Prob > F          =     0.2597\n",
      "\n",
      "------------------------------------------------------------------------------\n",
      "inc_per_mi~3 |      Coef.   Std. Err.      t    P>|t|     [95% Conf. Interval]\n",
      "-------------+----------------------------------------------------------------\n",
      " sd_change_3 |   2.25e-06   .0000121     0.19   0.853    -.0000216    .0000261\n",
      "sd_change_sq |  -2.87e-08   2.36e-08    -1.22   0.224    -7.51e-08    1.77e-08\n",
      "    avg_1940 |   .0105297   .0178085     0.59   0.555    -.0245043    .0455637\n",
      "    avg_1950 |   .0012118   .0175412     0.07   0.945    -.0332963      .03572\n",
      "    avg_1960 |   .0085389   .0175927     0.49   0.628    -.0260707    .0431484\n",
      "    avg_1970 |   .0075447   .0179463     0.42   0.674    -.0277605      .04285\n",
      "    avg_1980 |  -.0224343   .0215631    -1.04   0.299    -.0648547    .0199861\n",
      "    avg_1990 |    .009496   .0172669     0.55   0.583    -.0244726    .0434647\n",
      "    avg_2000 |   .0193975   .0173784     1.12   0.265    -.0147904    .0535854\n",
      "    avg_2010 |   .0072332   .0175733     0.41   0.681    -.0273382    .0418045\n",
      "       _cons |  -.0018761   .0156182    -0.12   0.904    -.0326014    .0288491\n",
      "-------------+----------------------------------------------------------------\n",
      "     sigma_u |  .00952505\n",
      "     sigma_e |  .00627481\n",
      "         rho |  .69736149   (fraction of variance due to u_i)\n",
      "------------------------------------------------------------------------------\n",
      "F test that all u_i=0: F(100, 326) = 7.11                    Prob > F = 0.0000\n"
     ]
    }
   ],
   "source": [
    "xtreg inc_per_mile_3 sd_change_3 sd_change_sq avg_1940 avg_1950 avg_1960 avg_1970 avg_1980 avg_1990 avg_2000 avg_2010, fe"
   ]
  },
  {
   "cell_type": "code",
   "execution_count": 9,
   "metadata": {},
   "outputs": [],
   "source": [
    "estimate store fixed"
   ]
  },
  {
   "cell_type": "code",
   "execution_count": 10,
   "metadata": {},
   "outputs": [
    {
     "name": "stdout",
     "output_type": "stream",
     "text": [
      "\n",
      "Random-effects GLS regression                   Number of obs     =        437\n",
      "Group variable: panelid                         Number of groups  =        101\n",
      "\n",
      "R-sq:                                           Obs per group:\n",
      "     within  = 0.0187                                         min =          1\n",
      "     between = 0.0400                                         avg =        4.3\n",
      "     overall = 0.0402                                         max =          5\n",
      "\n",
      "                                                Wald chi2(10)     =       9.77\n",
      "corr(u_i, X)   = 0 (assumed)                    Prob > chi2       =     0.4609\n",
      "\n",
      "------------------------------------------------------------------------------\n",
      "inc_per_mi~3 |      Coef.   Std. Err.      z    P>|z|     [95% Conf. Interval]\n",
      "-------------+----------------------------------------------------------------\n",
      " sd_change_3 |  -1.79e-06   .0000102    -0.18   0.860    -.0000217    .0000181\n",
      "sd_change_sq |  -1.07e-08   2.01e-08    -0.53   0.594    -5.02e-08    2.87e-08\n",
      "    avg_1940 |   .0030882   .0106125     0.29   0.771     -.017712    .0238883\n",
      "    avg_1950 |   .0105931   .0093177     1.14   0.256    -.0076692    .0288555\n",
      "    avg_1960 |   .0032587   .0093637     0.35   0.728    -.0150939    .0216113\n",
      "    avg_1970 |   .0058261   .0091933     0.63   0.526    -.0121923    .0238446\n",
      "    avg_1980 |   .0016455   .0098971     0.17   0.868    -.0177524    .0210435\n",
      "    avg_1990 |   .0050656   .0092174     0.55   0.583    -.0130001    .0231313\n",
      "    avg_2000 |   .0146894   .0099151     1.48   0.138    -.0047438    .0341227\n",
      "    avg_2010 |   .0072613   .0092786     0.78   0.434    -.0109243     .025447\n",
      "       _cons |  -.0028441   .0087409    -0.33   0.745    -.0199759    .0142877\n",
      "-------------+----------------------------------------------------------------\n",
      "     sigma_u |  .00716593\n",
      "     sigma_e |  .00627481\n",
      "         rho |  .56600989   (fraction of variance due to u_i)\n",
      "------------------------------------------------------------------------------\n"
     ]
    }
   ],
   "source": [
    "xtreg inc_per_mile_3 sd_change_3 sd_change_sq avg_1940 avg_1950 avg_1960 avg_1970 avg_1980 avg_1990 avg_2000 avg_2010, re"
   ]
  },
  {
   "cell_type": "code",
   "execution_count": 11,
   "metadata": {},
   "outputs": [
    {
     "name": "stdout",
     "output_type": "stream",
     "text": [
      "\n",
      "Note: the rank of the differenced variance matrix (9) does not equal the number of coefficients being tested (10); be sure this is what you expect, or there may be problems computing the test.  Examine the output of your estimators for anything unexpected\n",
      "        and possibly consider scaling your variables so that the coefficients are on a similar scale.\n",
      "\n",
      "                 ---- Coefficients ----\n",
      "             |      (b)          (B)            (b-B)     sqrt(diag(V_b-V_B))\n",
      "             |     fixed          .          Difference          S.E.\n",
      "-------------+----------------------------------------------------------------\n",
      " sd_change_3 |    2.25e-06    -1.79e-06        4.04e-06        6.76e-06\n",
      "sd_change_sq |   -2.87e-08    -1.07e-08       -1.80e-08        1.25e-08\n",
      "    avg_1940 |    .0105297     .0030882        .0074415        .0144328\n",
      "    avg_1950 |    .0012118     .0105931       -.0093813         .014985\n",
      "    avg_1960 |    .0085389     .0032587        .0052801        .0150174\n",
      "    avg_1970 |    .0075447     .0058261        .0017186        .0155371\n",
      "    avg_1980 |   -.0224343     .0016455       -.0240798        .0193021\n",
      "    avg_1990 |     .009496     .0050656        .0044304        .0147224\n",
      "    avg_2000 |    .0193975     .0146894         .004708        .0143982\n",
      "    avg_2010 |    .0072332     .0072613       -.0000282        .0150472\n",
      "------------------------------------------------------------------------------\n",
      "                           b = consistent under Ho and Ha; obtained from xtreg\n",
      "            B = inconsistent under Ha, efficient under Ho; obtained from xtreg\n",
      "\n",
      "    Test:  Ho:  difference in coefficients not systematic\n",
      "\n",
      "                  chi2(9) = (b-B)'[(V_b-V_B)^(-1)](b-B)\n",
      "                          =        8.54\n",
      "                Prob>chi2 =      0.4807\n"
     ]
    }
   ],
   "source": [
    "hausman fixed ., sigmamore"
   ]
  }
 ],
 "metadata": {
  "kernelspec": {
   "display_name": "Stata",
   "language": "stata",
   "name": "stata"
  },
  "language_info": {
   "codemirror_mode": "stata",
   "file_extension": ".do",
   "mimetype": "text/x-stata",
   "name": "stata",
   "version": "15.1"
  }
 },
 "nbformat": 4,
 "nbformat_minor": 4
}
