{
 "cells": [
  {
   "cell_type": "markdown",
   "metadata": {},
   "source": [
    "# 5. Find largest observations (R)"
   ]
  },
  {
   "cell_type": "code",
   "execution_count": 1,
   "metadata": {},
   "outputs": [
    {
     "name": "stderr",
     "output_type": "stream",
     "text": [
      "Registered S3 methods overwritten by 'ggplot2':\n",
      "  method         from \n",
      "  [.quosures     rlang\n",
      "  c.quosures     rlang\n",
      "  print.quosures rlang\n",
      "Registered S3 method overwritten by 'rvest':\n",
      "  method            from\n",
      "  read_xml.response xml2\n",
      "── \u001b[1mAttaching packages\u001b[22m ─────────────────────────────────────── tidyverse 1.2.1 ──\n",
      "\u001b[32m✔\u001b[39m \u001b[34mggplot2\u001b[39m 3.1.1       \u001b[32m✔\u001b[39m \u001b[34mpurrr  \u001b[39m 0.3.2  \n",
      "\u001b[32m✔\u001b[39m \u001b[34mtibble \u001b[39m 2.1.1       \u001b[32m✔\u001b[39m \u001b[34mdplyr  \u001b[39m 0.8.0.\u001b[31m1\u001b[39m\n",
      "\u001b[32m✔\u001b[39m \u001b[34mtidyr  \u001b[39m 0.8.3       \u001b[32m✔\u001b[39m \u001b[34mstringr\u001b[39m 1.4.0  \n",
      "\u001b[32m✔\u001b[39m \u001b[34mreadr  \u001b[39m 1.3.1       \u001b[32m✔\u001b[39m \u001b[34mforcats\u001b[39m 0.4.0  \n",
      "── \u001b[1mConflicts\u001b[22m ────────────────────────────────────────── tidyverse_conflicts() ──\n",
      "\u001b[31m✖\u001b[39m \u001b[34mdplyr\u001b[39m::\u001b[32mfilter()\u001b[39m masks \u001b[34mstats\u001b[39m::filter()\n",
      "\u001b[31m✖\u001b[39m \u001b[34mdplyr\u001b[39m::\u001b[32mlag()\u001b[39m    masks \u001b[34mstats\u001b[39m::lag()\n"
     ]
    }
   ],
   "source": [
    "library(tidyverse)"
   ]
  },
  {
   "cell_type": "code",
   "execution_count": 2,
   "metadata": {},
   "outputs": [],
   "source": [
    "pre_sample_file = \"../preprocessed_data/pre_sample_2019-09-08.feather\""
   ]
  },
  {
   "cell_type": "markdown",
   "metadata": {},
   "source": [
    "## Load data"
   ]
  },
  {
   "cell_type": "code",
   "execution_count": 3,
   "metadata": {},
   "outputs": [
    {
     "name": "stderr",
     "output_type": "stream",
     "text": [
      "Warning message:\n",
      "“Coercing int64 to double”"
     ]
    },
    {
     "name": "stdout",
     "output_type": "stream",
     "text": [
      "Observations: 6,709\n",
      "Variables: 17\n",
      "$ OPERATOR_ID       \u001b[3m\u001b[38;5;246m<chr>\u001b[39m\u001b[23m \"300\", \"300\", \"395\", \"402\", \"473\", \"473\", \"879\", \"9…\n",
      "$ YEAR              \u001b[3m\u001b[38;5;246m<dbl>\u001b[39m\u001b[23m 2017, 2017, 2017, 2017, 2017, 2017, 2017, 2017, 201…\n",
      "$ NAME              \u001b[3m\u001b[38;5;246m<chr>\u001b[39m\u001b[23m \"PLAINS PIPELINE, L.P.\", \"PLAINS PIPELINE, L.P.\", \"…\n",
      "$ COMMODITY         \u001b[3m\u001b[38;5;246m<chr>\u001b[39m\u001b[23m \"hvl\", \"non-hvl\", \"non-hvl\", \"hvl\", \"crude\", \"hvl\",…\n",
      "$ MILES             \u001b[3m\u001b[38;5;246m<dbl>\u001b[39m\u001b[23m 72.900, 0.000, 662.300, 1.550, 12.000, 0.000, 0.000…\n",
      "$ AGE_UNKNOWN_MILES \u001b[3m\u001b[38;5;246m<dbl>\u001b[39m\u001b[23m 0.000, 0.000, 0.000, 0.000, 0.000, 0.000, 5.155, 0.…\n",
      "$ MILES_PRE_1940    \u001b[3m\u001b[38;5;246m<dbl>\u001b[39m\u001b[23m 0.000, 3.720, 0.600, 0.000, 0.000, 0.000, 0.265, 0.…\n",
      "$ MILES_1940        \u001b[3m\u001b[38;5;246m<dbl>\u001b[39m\u001b[23m 0.000, 0.000, 15.000, 0.000, 0.000, 0.000, 0.000, 0…\n",
      "$ MILES_1950        \u001b[3m\u001b[38;5;246m<dbl>\u001b[39m\u001b[23m 0.000, 0.000, 0.000, 0.000, 0.000, 0.000, 2.162, 0.…\n",
      "$ MILES_1960        \u001b[3m\u001b[38;5;246m<dbl>\u001b[39m\u001b[23m 0.000, 0.000, 0.900, 0.000, 43.000, 0.000, 3.972, 0…\n",
      "$ MILES_1970        \u001b[3m\u001b[38;5;246m<dbl>\u001b[39m\u001b[23m 0.000, 0.000, 1.500, 0.000, 4.000, 0.000, 5.181, 0.…\n",
      "$ MILES_1980        \u001b[3m\u001b[38;5;246m<dbl>\u001b[39m\u001b[23m 0.000, 0.000, 18.500, 0.000, 0.000, 2.000, 0.000, 0…\n",
      "$ MILES_1990        \u001b[3m\u001b[38;5;246m<dbl>\u001b[39m\u001b[23m 0.010, 0.000, 58.200, 0.000, 0.000, 2.000, 0.384, 0…\n",
      "$ MILES_2000        \u001b[3m\u001b[38;5;246m<dbl>\u001b[39m\u001b[23m 0.000, 0.000, 5.100, 49.300, 0.000, 16.500, 4.222, …\n",
      "$ MILES_2010        \u001b[3m\u001b[38;5;246m<dbl>\u001b[39m\u001b[23m 47.920, 0.000, 0.700, 0.000, 121.250, 26.700, 4.387…\n",
      "$ AVG_AGE           \u001b[3m\u001b[38;5;246m<dbl>\u001b[39m\u001b[23m 5.004173, 90.000000, 34.611940, 15.000000, 18.72956…\n",
      "$ PERC_OFFSHORE     \u001b[3m\u001b[38;5;246m<dbl>\u001b[39m\u001b[23m 0, 0, 0, 0, 0, 0, 0, 0, 0, 0, 0, 0, 0, 0, 0, 0, 0, …\n"
     ]
    }
   ],
   "source": [
    "pipelines <- feather::read_feather(pre_sample_file)\n",
    "glimpse(pipelines)"
   ]
  },
  {
   "cell_type": "markdown",
   "metadata": {},
   "source": [
    "## 5.1 Find largest observations"
   ]
  },
  {
   "cell_type": "markdown",
   "metadata": {},
   "source": [
    "Ensure that we don't remove too many observations."
   ]
  },
  {
   "cell_type": "code",
   "execution_count": 4,
   "metadata": {},
   "outputs": [
    {
     "name": "stdout",
     "output_type": "stream",
     "text": [
      "[1] 701\n"
     ]
    }
   ],
   "source": [
    "sample_size <- length(unique(pipelines$OPERATOR_ID))\n",
    "print(sample_size)"
   ]
  },
  {
   "cell_type": "code",
   "execution_count": 5,
   "metadata": {},
   "outputs": [
    {
     "name": "stdout",
     "output_type": "stream",
     "text": [
      "[1] 701\n"
     ]
    }
   ],
   "source": [
    "offshore_size <- pipelines %>%\n",
    "    group_by(OPERATOR_ID) %>%\n",
    "    mutate(max_offshore = max(PERC_OFFSHORE)) %>%\n",
    "    filter(max_offshore == 0) %>%\n",
    "    ungroup() %>%\n",
    "    {length(unique(.$OPERATOR_ID))}\n",
    "print(offshore_size)\n",
    "\n",
    "testit::assert(sample_size == offshore_size)"
   ]
  },
  {
   "cell_type": "code",
   "execution_count": 6,
   "metadata": {},
   "outputs": [
    {
     "data": {
      "text/html": [
       "<table>\n",
       "<caption>A tibble: 10 × 5</caption>\n",
       "<thead>\n",
       "\t<tr><th scope=col>OPERATOR_ID</th><th scope=col>YEAR</th><th scope=col>NAME</th><th scope=col>COMMODITY</th><th scope=col>MILES</th></tr>\n",
       "\t<tr><th scope=col>&lt;chr&gt;</th><th scope=col>&lt;dbl&gt;</th><th scope=col>&lt;chr&gt;</th><th scope=col>&lt;chr&gt;</th><th scope=col>&lt;dbl&gt;</th></tr>\n",
       "</thead>\n",
       "<tbody>\n",
       "\t<tr><td>31618</td><td>2018</td><td>ENTERPRISE PRODUCTS OPERATING LLC   </td><td>hvl    </td><td>7726.183</td></tr>\n",
       "\t<tr><td>32109</td><td>2018</td><td>ONEOK NGL PIPELINE, LLC             </td><td>hvl    </td><td>4531.480</td></tr>\n",
       "\t<tr><td>2552 </td><td>2015</td><td>COLONIAL PIPELINE CO                </td><td>non-hvl</td><td>4500.920</td></tr>\n",
       "\t<tr><td>1845 </td><td>2015</td><td>BUCKEYE PARTNERS, LP                </td><td>non-hvl</td><td>4266.430</td></tr>\n",
       "\t<tr><td>22610</td><td>2018</td><td>MAGELLAN PIPELINE COMPANY, LP       </td><td>non-hvl</td><td>3926.400</td></tr>\n",
       "\t<tr><td>15674</td><td>2016</td><td>PLANTATION PIPE LINE CO             </td><td>non-hvl</td><td>2564.730</td></tr>\n",
       "\t<tr><td>31684</td><td>2005</td><td>CONOCOPHILLIPS PIPE LINE CO.        </td><td>non-hvl</td><td>2558.000</td></tr>\n",
       "\t<tr><td>11169</td><td>2017</td><td>ENBRIDGE ENERGY, LIMITED PARTNERSHIP</td><td>crude  </td><td>2290.000</td></tr>\n",
       "\t<tr><td>32147</td><td>2013</td><td>MARATHON PIPE LINE LLC              </td><td>non-hvl</td><td>2281.900</td></tr>\n",
       "\t<tr><td>18092</td><td>2014</td><td>SFPP, LP                            </td><td>non-hvl</td><td>1786.460</td></tr>\n",
       "</tbody>\n",
       "</table>\n"
      ],
      "text/latex": [
       "A tibble: 10 × 5\n",
       "\\begin{tabular}{r|lllll}\n",
       " OPERATOR\\_ID & YEAR & NAME & COMMODITY & MILES\\\\\n",
       " <chr> & <dbl> & <chr> & <chr> & <dbl>\\\\\n",
       "\\hline\n",
       "\t 31618 & 2018 & ENTERPRISE PRODUCTS OPERATING LLC    & hvl     & 7726.183\\\\\n",
       "\t 32109 & 2018 & ONEOK NGL PIPELINE, LLC              & hvl     & 4531.480\\\\\n",
       "\t 2552  & 2015 & COLONIAL PIPELINE CO                 & non-hvl & 4500.920\\\\\n",
       "\t 1845  & 2015 & BUCKEYE PARTNERS, LP                 & non-hvl & 4266.430\\\\\n",
       "\t 22610 & 2018 & MAGELLAN PIPELINE COMPANY, LP        & non-hvl & 3926.400\\\\\n",
       "\t 15674 & 2016 & PLANTATION PIPE LINE CO              & non-hvl & 2564.730\\\\\n",
       "\t 31684 & 2005 & CONOCOPHILLIPS PIPE LINE CO.         & non-hvl & 2558.000\\\\\n",
       "\t 11169 & 2017 & ENBRIDGE ENERGY, LIMITED PARTNERSHIP & crude   & 2290.000\\\\\n",
       "\t 32147 & 2013 & MARATHON PIPE LINE LLC               & non-hvl & 2281.900\\\\\n",
       "\t 18092 & 2014 & SFPP, LP                             & non-hvl & 1786.460\\\\\n",
       "\\end{tabular}\n"
      ],
      "text/markdown": [
       "\n",
       "A tibble: 10 × 5\n",
       "\n",
       "| OPERATOR_ID &lt;chr&gt; | YEAR &lt;dbl&gt; | NAME &lt;chr&gt; | COMMODITY &lt;chr&gt; | MILES &lt;dbl&gt; |\n",
       "|---|---|---|---|---|\n",
       "| 31618 | 2018 | ENTERPRISE PRODUCTS OPERATING LLC    | hvl     | 7726.183 |\n",
       "| 32109 | 2018 | ONEOK NGL PIPELINE, LLC              | hvl     | 4531.480 |\n",
       "| 2552  | 2015 | COLONIAL PIPELINE CO                 | non-hvl | 4500.920 |\n",
       "| 1845  | 2015 | BUCKEYE PARTNERS, LP                 | non-hvl | 4266.430 |\n",
       "| 22610 | 2018 | MAGELLAN PIPELINE COMPANY, LP        | non-hvl | 3926.400 |\n",
       "| 15674 | 2016 | PLANTATION PIPE LINE CO              | non-hvl | 2564.730 |\n",
       "| 31684 | 2005 | CONOCOPHILLIPS PIPE LINE CO.         | non-hvl | 2558.000 |\n",
       "| 11169 | 2017 | ENBRIDGE ENERGY, LIMITED PARTNERSHIP | crude   | 2290.000 |\n",
       "| 32147 | 2013 | MARATHON PIPE LINE LLC               | non-hvl | 2281.900 |\n",
       "| 18092 | 2014 | SFPP, LP                             | non-hvl | 1786.460 |\n",
       "\n"
      ],
      "text/plain": [
       "   OPERATOR_ID YEAR NAME                                 COMMODITY MILES   \n",
       "1  31618       2018 ENTERPRISE PRODUCTS OPERATING LLC    hvl       7726.183\n",
       "2  32109       2018 ONEOK NGL PIPELINE, LLC              hvl       4531.480\n",
       "3  2552        2015 COLONIAL PIPELINE CO                 non-hvl   4500.920\n",
       "4  1845        2015 BUCKEYE PARTNERS, LP                 non-hvl   4266.430\n",
       "5  22610       2018 MAGELLAN PIPELINE COMPANY, LP        non-hvl   3926.400\n",
       "6  15674       2016 PLANTATION PIPE LINE CO              non-hvl   2564.730\n",
       "7  31684       2005 CONOCOPHILLIPS PIPE LINE CO.         non-hvl   2558.000\n",
       "8  11169       2017 ENBRIDGE ENERGY, LIMITED PARTNERSHIP crude     2290.000\n",
       "9  32147       2013 MARATHON PIPE LINE LLC               non-hvl   2281.900\n",
       "10 18092       2014 SFPP, LP                             non-hvl   1786.460"
      ]
     },
     "metadata": {},
     "output_type": "display_data"
    }
   ],
   "source": [
    "pipelines %>%\n",
    "    group_by(OPERATOR_ID, COMMODITY) %>%\n",
    "    top_n(1, MILES) %>%\n",
    "    ungroup() %>%\n",
    "    select(OPERATOR_ID, YEAR, NAME, COMMODITY, MILES) %>%\n",
    "    top_n(10, MILES) %>%\n",
    "    arrange(desc(MILES))"
   ]
  },
  {
   "cell_type": "markdown",
   "metadata": {},
   "source": [
    "#### Largest for the sum of all types"
   ]
  },
  {
   "cell_type": "code",
   "execution_count": 7,
   "metadata": {},
   "outputs": [
    {
     "data": {
      "text/html": [
       "<ol class=list-inline>\n",
       "\t<li>'hvl'</li>\n",
       "\t<li>'non-hvl'</li>\n",
       "\t<li>'crude'</li>\n",
       "</ol>\n"
      ],
      "text/latex": [
       "\\begin{enumerate*}\n",
       "\\item 'hvl'\n",
       "\\item 'non-hvl'\n",
       "\\item 'crude'\n",
       "\\end{enumerate*}\n"
      ],
      "text/markdown": [
       "1. 'hvl'\n",
       "2. 'non-hvl'\n",
       "3. 'crude'\n",
       "\n",
       "\n"
      ],
      "text/plain": [
       "[1] \"hvl\"     \"non-hvl\" \"crude\"  "
      ]
     },
     "metadata": {},
     "output_type": "display_data"
    }
   ],
   "source": [
    "unique(pipelines$COMMODITY)"
   ]
  },
  {
   "cell_type": "markdown",
   "metadata": {},
   "source": [
    "Check whether any operator ID has more than the maximum of five expected entries."
   ]
  },
  {
   "cell_type": "code",
   "execution_count": 8,
   "metadata": {},
   "outputs": [
    {
     "data": {
      "text/plain": [
       "\n",
       "   1    2    3 \n",
       "4230  848  261 "
      ]
     },
     "metadata": {},
     "output_type": "display_data"
    }
   ],
   "source": [
    "pipelines %>%\n",
    "    group_by(YEAR, OPERATOR_ID) %>%\n",
    "    summarize(n = n()) %>%\n",
    "    ungroup() %>%\n",
    "    {table(.$n)}"
   ]
  },
  {
   "cell_type": "markdown",
   "metadata": {},
   "source": [
    "Everything seems to be A-Okay."
   ]
  },
  {
   "cell_type": "code",
   "execution_count": 9,
   "metadata": {},
   "outputs": [
    {
     "data": {
      "text/html": [
       "<table>\n",
       "<caption>A tibble: 200 × 4</caption>\n",
       "<thead>\n",
       "\t<tr><th scope=col>OPERATOR_ID</th><th scope=col>YEAR</th><th scope=col>NAME</th><th scope=col>TOTAL_MILES</th></tr>\n",
       "\t<tr><th scope=col>&lt;chr&gt;</th><th scope=col>&lt;dbl&gt;</th><th scope=col>&lt;chr&gt;</th><th scope=col>&lt;dbl&gt;</th></tr>\n",
       "</thead>\n",
       "<tbody>\n",
       "\t<tr><td>31618</td><td>2018</td><td>ENTERPRISE PRODUCTS OPERATING LLC         </td><td>8311.369</td></tr>\n",
       "\t<tr><td>32109</td><td>2018</td><td>ONEOK NGL PIPELINE, LLC                   </td><td>4756.610</td></tr>\n",
       "\t<tr><td>31684</td><td>2005</td><td>PHILLIPS 66 PIPELINE LLC                  </td><td>4691.000</td></tr>\n",
       "\t<tr><td>22610</td><td>2014</td><td>MAGELLAN PIPELINE COMPANY, LP             </td><td>4505.500</td></tr>\n",
       "\t<tr><td>2552 </td><td>2015</td><td>COLONIAL PIPELINE CO                      </td><td>4500.920</td></tr>\n",
       "\t<tr><td>1845 </td><td>2015</td><td>BUCKEYE PARTNERS, LP                      </td><td>4298.290</td></tr>\n",
       "\t<tr><td>18718</td><td>2010</td><td>SUNOCO PIPELINE L.P.                      </td><td>3466.740</td></tr>\n",
       "\t<tr><td>22855</td><td>2004</td><td>FLINT HILLS RESOURCES, LC                 </td><td>3051.000</td></tr>\n",
       "\t<tr><td>19237</td><td>2008</td><td>TE PRODUCTS PIPELINE COMPANY, LLC         </td><td>2842.240</td></tr>\n",
       "\t<tr><td>10012</td><td>2018</td><td>NUSTAR PIPELINE OPERATING PARTNERSHIP L.P.</td><td>2645.300</td></tr>\n",
       "\t<tr><td>15674</td><td>2016</td><td>PLANTATION PIPE LINE CO                   </td><td>2564.730</td></tr>\n",
       "\t<tr><td>11169</td><td>2017</td><td>ENBRIDGE ENERGY, LIMITED PARTNERSHIP      </td><td>2460.000</td></tr>\n",
       "\t<tr><td>32147</td><td>2013</td><td>MARATHON PIPE LINE LLC                    </td><td>2450.100</td></tr>\n",
       "\t<tr><td>4906 </td><td>2006</td><td>EXXONMOBIL PIPELINE CO                    </td><td>2176.000</td></tr>\n",
       "\t<tr><td>2731 </td><td>2005</td><td>CHEVRON PIPE LINE CO                      </td><td>2122.110</td></tr>\n",
       "\t<tr><td>31454</td><td>2004</td><td>NUSTAR LOGISTICS, L.P.                    </td><td>1818.000</td></tr>\n",
       "\t<tr><td>18092</td><td>2014</td><td>SFPP, LP                                  </td><td>1786.460</td></tr>\n",
       "\t<tr><td>12127</td><td>2004</td><td>MARATHON ASHLAND PETROLEUM LLC            </td><td>1761.000</td></tr>\n",
       "\t<tr><td>4805 </td><td>2016</td><td>EXPLORER PIPELINE CO                      </td><td>1388.070</td></tr>\n",
       "\t<tr><td>32099</td><td>2017</td><td>ENERGY TRANSFER COMPANY                   </td><td>1310.000</td></tr>\n",
       "\t<tr><td>31371</td><td>2015</td><td><span style=white-space:pre-wrap>BUCKEYE DEVELOPMENT &amp; LOGISTICS, LLC      </span></td><td>1220.157</td></tr>\n",
       "\t<tr><td>30829</td><td>2017</td><td>ENTERPRISE CRUDE PIPELINE LLC             </td><td>1191.397</td></tr>\n",
       "\t<tr><td>25146</td><td>2006</td><td>EQUISTAR CHEMICALS, L.P.                  </td><td>1146.880</td></tr>\n",
       "\t<tr><td>32209</td><td>2008</td><td>TEPPCO MIDSTREAM COMPANIES, LLC           </td><td>1092.220</td></tr>\n",
       "\t<tr><td>32258</td><td>2007</td><td>KINDER MORGAN COCHIN LLC                  </td><td>1008.000</td></tr>\n",
       "\t<tr><td>39205</td><td>2018</td><td>DAPL-ETCO OPERATIONS MANAGEMENT, LLC      </td><td> 950.640</td></tr>\n",
       "\t<tr><td>39596</td><td>2018</td><td>PERMIAN EXPRESS PARTNERS LLC              </td><td> 946.620</td></tr>\n",
       "\t<tr><td>38933</td><td>2018</td><td>TESORO LOGISTICS OPERATIONS, LLC          </td><td> 930.700</td></tr>\n",
       "\t<tr><td>31666</td><td>2007</td><td>ROCKY MOUNTAIN PIPELINE SYSTEM, LLC       </td><td> 917.900</td></tr>\n",
       "\t<tr><td>12470</td><td>2009</td><td>MID - VALLEY PIPELINE CO                  </td><td> 910.000</td></tr>\n",
       "\t<tr><td>⋮</td><td>⋮</td><td>⋮</td><td>⋮</td></tr>\n",
       "\t<tr><td>7063 </td><td>2008</td><td>HARBOR PIPELINE CO                               </td><td>79.280</td></tr>\n",
       "\t<tr><td>31885</td><td>2006</td><td>PLAINS ALL AMERICAN PIPELINE, L.P.               </td><td>79.000</td></tr>\n",
       "\t<tr><td>14194</td><td>2014</td><td>OILTANKING, HOUSTON LP                           </td><td>77.610</td></tr>\n",
       "\t<tr><td>2371 </td><td>2014</td><td>WESTERN REFINING SOUTHWEST, INC                  </td><td>76.900</td></tr>\n",
       "\t<tr><td>30968</td><td>2004</td><td>BEARTOOTH PIPELINE                               </td><td>75.820</td></tr>\n",
       "\t<tr><td>31023</td><td>2012</td><td><span style=white-space:pre-wrap>CITGO REFINING &amp; CHEMICAL CO. L.P.               </span></td><td>75.300</td></tr>\n",
       "\t<tr><td>32114</td><td>2015</td><td>COPANO NGL SERVICES LLC                          </td><td>75.180</td></tr>\n",
       "\t<tr><td>30629</td><td>2004</td><td>ONEOK, INC                                       </td><td>74.000</td></tr>\n",
       "\t<tr><td>39284</td><td>2017</td><td>ORYX SO. DELAWARE OGT LLC                        </td><td>72.910</td></tr>\n",
       "\t<tr><td>31673</td><td>2010</td><td>LDH ENERGY OLEFINS LLC                           </td><td>72.000</td></tr>\n",
       "\t<tr><td>39823</td><td>2018</td><td>TARGA DOWNSTREAM LLC                             </td><td>71.900</td></tr>\n",
       "\t<tr><td>14391</td><td>2018</td><td>OSAGE PIPE LINE COMPANY, LLC                     </td><td>71.600</td></tr>\n",
       "\t<tr><td>2339 </td><td>2007</td><td>CHEVRON PRODUCTS COMPANY - HAWAII                </td><td>71.270</td></tr>\n",
       "\t<tr><td>31583</td><td>2011</td><td>TESORO LOGISTICS OPERATIONS LLC - MOUNTAIN REGION</td><td>70.810</td></tr>\n",
       "\t<tr><td>31554</td><td>2015</td><td>BOARDWALK PETROCHEMICAL PIPELINE, LLC            </td><td>69.700</td></tr>\n",
       "\t<tr><td>39023</td><td>2013</td><td>DOUBLE EAGLE PIPELINE LLC                        </td><td>68.460</td></tr>\n",
       "\t<tr><td>2387 </td><td>2014</td><td>CITGO PIPELINE CO                                </td><td>67.486</td></tr>\n",
       "\t<tr><td>19585</td><td>2004</td><td>TRANS MOUNTAIN PIPELINE (PUGET SOUND) LLC        </td><td>64.000</td></tr>\n",
       "\t<tr><td>30005</td><td>2006</td><td>MOBIL PACIFIC PIPELINE CO                        </td><td>64.000</td></tr>\n",
       "\t<tr><td>31167</td><td>2012</td><td>MOEM PIPELINE LLC                                </td><td>64.000</td></tr>\n",
       "\t<tr><td>39156</td><td>2014</td><td>FRIO LASALLE PIPELINE, LP                        </td><td>63.510</td></tr>\n",
       "\t<tr><td>31871</td><td>2009</td><td>MARKWEST MICHIGAN PIPELINE COMPANY, L.L.C.       </td><td>62.500</td></tr>\n",
       "\t<tr><td>31874</td><td>2011</td><td>TESORO LOGISTICS OPERATIONS LLC - GOLDEN EAGLE   </td><td>59.790</td></tr>\n",
       "\t<tr><td>8166 </td><td>2006</td><td>INTERSTATE ENERGY COMPANY                        </td><td>59.559</td></tr>\n",
       "\t<tr><td>39518</td><td>2016</td><td>KINDER MORGAN UTOPIA LLC                         </td><td>59.110</td></tr>\n",
       "\t<tr><td>31802</td><td>2004</td><td>TEXAS GENCO LP                                   </td><td>59.000</td></tr>\n",
       "\t<tr><td>3535 </td><td>2009</td><td>DOW PIPELINE CO                                  </td><td>57.000</td></tr>\n",
       "\t<tr><td>26094</td><td>2004</td><td>NUSTAR TERMINALS OPERATIONS PARTNERSHIP L. P.    </td><td>56.000</td></tr>\n",
       "\t<tr><td>32032</td><td>2004</td><td>VALERO REFINING - TEXAS LP                       </td><td>54.000</td></tr>\n",
       "\t<tr><td>31228</td><td>2013</td><td>CALIFORNIA RESOURCES ELK HILLS, LLC              </td><td>53.600</td></tr>\n",
       "</tbody>\n",
       "</table>\n"
      ],
      "text/latex": [
       "A tibble: 200 × 4\n",
       "\\begin{tabular}{r|llll}\n",
       " OPERATOR\\_ID & YEAR & NAME & TOTAL\\_MILES\\\\\n",
       " <chr> & <dbl> & <chr> & <dbl>\\\\\n",
       "\\hline\n",
       "\t 31618 & 2018 & ENTERPRISE PRODUCTS OPERATING LLC          & 8311.369\\\\\n",
       "\t 32109 & 2018 & ONEOK NGL PIPELINE, LLC                    & 4756.610\\\\\n",
       "\t 31684 & 2005 & PHILLIPS 66 PIPELINE LLC                   & 4691.000\\\\\n",
       "\t 22610 & 2014 & MAGELLAN PIPELINE COMPANY, LP              & 4505.500\\\\\n",
       "\t 2552  & 2015 & COLONIAL PIPELINE CO                       & 4500.920\\\\\n",
       "\t 1845  & 2015 & BUCKEYE PARTNERS, LP                       & 4298.290\\\\\n",
       "\t 18718 & 2010 & SUNOCO PIPELINE L.P.                       & 3466.740\\\\\n",
       "\t 22855 & 2004 & FLINT HILLS RESOURCES, LC                  & 3051.000\\\\\n",
       "\t 19237 & 2008 & TE PRODUCTS PIPELINE COMPANY, LLC          & 2842.240\\\\\n",
       "\t 10012 & 2018 & NUSTAR PIPELINE OPERATING PARTNERSHIP L.P. & 2645.300\\\\\n",
       "\t 15674 & 2016 & PLANTATION PIPE LINE CO                    & 2564.730\\\\\n",
       "\t 11169 & 2017 & ENBRIDGE ENERGY, LIMITED PARTNERSHIP       & 2460.000\\\\\n",
       "\t 32147 & 2013 & MARATHON PIPE LINE LLC                     & 2450.100\\\\\n",
       "\t 4906  & 2006 & EXXONMOBIL PIPELINE CO                     & 2176.000\\\\\n",
       "\t 2731  & 2005 & CHEVRON PIPE LINE CO                       & 2122.110\\\\\n",
       "\t 31454 & 2004 & NUSTAR LOGISTICS, L.P.                     & 1818.000\\\\\n",
       "\t 18092 & 2014 & SFPP, LP                                   & 1786.460\\\\\n",
       "\t 12127 & 2004 & MARATHON ASHLAND PETROLEUM LLC             & 1761.000\\\\\n",
       "\t 4805  & 2016 & EXPLORER PIPELINE CO                       & 1388.070\\\\\n",
       "\t 32099 & 2017 & ENERGY TRANSFER COMPANY                    & 1310.000\\\\\n",
       "\t 31371 & 2015 & BUCKEYE DEVELOPMENT \\& LOGISTICS, LLC       & 1220.157\\\\\n",
       "\t 30829 & 2017 & ENTERPRISE CRUDE PIPELINE LLC              & 1191.397\\\\\n",
       "\t 25146 & 2006 & EQUISTAR CHEMICALS, L.P.                   & 1146.880\\\\\n",
       "\t 32209 & 2008 & TEPPCO MIDSTREAM COMPANIES, LLC            & 1092.220\\\\\n",
       "\t 32258 & 2007 & KINDER MORGAN COCHIN LLC                   & 1008.000\\\\\n",
       "\t 39205 & 2018 & DAPL-ETCO OPERATIONS MANAGEMENT, LLC       &  950.640\\\\\n",
       "\t 39596 & 2018 & PERMIAN EXPRESS PARTNERS LLC               &  946.620\\\\\n",
       "\t 38933 & 2018 & TESORO LOGISTICS OPERATIONS, LLC           &  930.700\\\\\n",
       "\t 31666 & 2007 & ROCKY MOUNTAIN PIPELINE SYSTEM, LLC        &  917.900\\\\\n",
       "\t 12470 & 2009 & MID - VALLEY PIPELINE CO                   &  910.000\\\\\n",
       "\t ⋮ & ⋮ & ⋮ & ⋮\\\\\n",
       "\t 7063  & 2008 & HARBOR PIPELINE CO                                & 79.280\\\\\n",
       "\t 31885 & 2006 & PLAINS ALL AMERICAN PIPELINE, L.P.                & 79.000\\\\\n",
       "\t 14194 & 2014 & OILTANKING, HOUSTON LP                            & 77.610\\\\\n",
       "\t 2371  & 2014 & WESTERN REFINING SOUTHWEST, INC                   & 76.900\\\\\n",
       "\t 30968 & 2004 & BEARTOOTH PIPELINE                                & 75.820\\\\\n",
       "\t 31023 & 2012 & CITGO REFINING \\& CHEMICAL CO. L.P.                & 75.300\\\\\n",
       "\t 32114 & 2015 & COPANO NGL SERVICES LLC                           & 75.180\\\\\n",
       "\t 30629 & 2004 & ONEOK, INC                                        & 74.000\\\\\n",
       "\t 39284 & 2017 & ORYX SO. DELAWARE OGT LLC                         & 72.910\\\\\n",
       "\t 31673 & 2010 & LDH ENERGY OLEFINS LLC                            & 72.000\\\\\n",
       "\t 39823 & 2018 & TARGA DOWNSTREAM LLC                              & 71.900\\\\\n",
       "\t 14391 & 2018 & OSAGE PIPE LINE COMPANY, LLC                      & 71.600\\\\\n",
       "\t 2339  & 2007 & CHEVRON PRODUCTS COMPANY - HAWAII                 & 71.270\\\\\n",
       "\t 31583 & 2011 & TESORO LOGISTICS OPERATIONS LLC - MOUNTAIN REGION & 70.810\\\\\n",
       "\t 31554 & 2015 & BOARDWALK PETROCHEMICAL PIPELINE, LLC             & 69.700\\\\\n",
       "\t 39023 & 2013 & DOUBLE EAGLE PIPELINE LLC                         & 68.460\\\\\n",
       "\t 2387  & 2014 & CITGO PIPELINE CO                                 & 67.486\\\\\n",
       "\t 19585 & 2004 & TRANS MOUNTAIN PIPELINE (PUGET SOUND) LLC         & 64.000\\\\\n",
       "\t 30005 & 2006 & MOBIL PACIFIC PIPELINE CO                         & 64.000\\\\\n",
       "\t 31167 & 2012 & MOEM PIPELINE LLC                                 & 64.000\\\\\n",
       "\t 39156 & 2014 & FRIO LASALLE PIPELINE, LP                         & 63.510\\\\\n",
       "\t 31871 & 2009 & MARKWEST MICHIGAN PIPELINE COMPANY, L.L.C.        & 62.500\\\\\n",
       "\t 31874 & 2011 & TESORO LOGISTICS OPERATIONS LLC - GOLDEN EAGLE    & 59.790\\\\\n",
       "\t 8166  & 2006 & INTERSTATE ENERGY COMPANY                         & 59.559\\\\\n",
       "\t 39518 & 2016 & KINDER MORGAN UTOPIA LLC                          & 59.110\\\\\n",
       "\t 31802 & 2004 & TEXAS GENCO LP                                    & 59.000\\\\\n",
       "\t 3535  & 2009 & DOW PIPELINE CO                                   & 57.000\\\\\n",
       "\t 26094 & 2004 & NUSTAR TERMINALS OPERATIONS PARTNERSHIP L. P.     & 56.000\\\\\n",
       "\t 32032 & 2004 & VALERO REFINING - TEXAS LP                        & 54.000\\\\\n",
       "\t 31228 & 2013 & CALIFORNIA RESOURCES ELK HILLS, LLC               & 53.600\\\\\n",
       "\\end{tabular}\n"
      ],
      "text/markdown": [
       "\n",
       "A tibble: 200 × 4\n",
       "\n",
       "| OPERATOR_ID &lt;chr&gt; | YEAR &lt;dbl&gt; | NAME &lt;chr&gt; | TOTAL_MILES &lt;dbl&gt; |\n",
       "|---|---|---|---|\n",
       "| 31618 | 2018 | ENTERPRISE PRODUCTS OPERATING LLC          | 8311.369 |\n",
       "| 32109 | 2018 | ONEOK NGL PIPELINE, LLC                    | 4756.610 |\n",
       "| 31684 | 2005 | PHILLIPS 66 PIPELINE LLC                   | 4691.000 |\n",
       "| 22610 | 2014 | MAGELLAN PIPELINE COMPANY, LP              | 4505.500 |\n",
       "| 2552  | 2015 | COLONIAL PIPELINE CO                       | 4500.920 |\n",
       "| 1845  | 2015 | BUCKEYE PARTNERS, LP                       | 4298.290 |\n",
       "| 18718 | 2010 | SUNOCO PIPELINE L.P.                       | 3466.740 |\n",
       "| 22855 | 2004 | FLINT HILLS RESOURCES, LC                  | 3051.000 |\n",
       "| 19237 | 2008 | TE PRODUCTS PIPELINE COMPANY, LLC          | 2842.240 |\n",
       "| 10012 | 2018 | NUSTAR PIPELINE OPERATING PARTNERSHIP L.P. | 2645.300 |\n",
       "| 15674 | 2016 | PLANTATION PIPE LINE CO                    | 2564.730 |\n",
       "| 11169 | 2017 | ENBRIDGE ENERGY, LIMITED PARTNERSHIP       | 2460.000 |\n",
       "| 32147 | 2013 | MARATHON PIPE LINE LLC                     | 2450.100 |\n",
       "| 4906  | 2006 | EXXONMOBIL PIPELINE CO                     | 2176.000 |\n",
       "| 2731  | 2005 | CHEVRON PIPE LINE CO                       | 2122.110 |\n",
       "| 31454 | 2004 | NUSTAR LOGISTICS, L.P.                     | 1818.000 |\n",
       "| 18092 | 2014 | SFPP, LP                                   | 1786.460 |\n",
       "| 12127 | 2004 | MARATHON ASHLAND PETROLEUM LLC             | 1761.000 |\n",
       "| 4805  | 2016 | EXPLORER PIPELINE CO                       | 1388.070 |\n",
       "| 32099 | 2017 | ENERGY TRANSFER COMPANY                    | 1310.000 |\n",
       "| 31371 | 2015 | BUCKEYE DEVELOPMENT &amp; LOGISTICS, LLC       | 1220.157 |\n",
       "| 30829 | 2017 | ENTERPRISE CRUDE PIPELINE LLC              | 1191.397 |\n",
       "| 25146 | 2006 | EQUISTAR CHEMICALS, L.P.                   | 1146.880 |\n",
       "| 32209 | 2008 | TEPPCO MIDSTREAM COMPANIES, LLC            | 1092.220 |\n",
       "| 32258 | 2007 | KINDER MORGAN COCHIN LLC                   | 1008.000 |\n",
       "| 39205 | 2018 | DAPL-ETCO OPERATIONS MANAGEMENT, LLC       |  950.640 |\n",
       "| 39596 | 2018 | PERMIAN EXPRESS PARTNERS LLC               |  946.620 |\n",
       "| 38933 | 2018 | TESORO LOGISTICS OPERATIONS, LLC           |  930.700 |\n",
       "| 31666 | 2007 | ROCKY MOUNTAIN PIPELINE SYSTEM, LLC        |  917.900 |\n",
       "| 12470 | 2009 | MID - VALLEY PIPELINE CO                   |  910.000 |\n",
       "| ⋮ | ⋮ | ⋮ | ⋮ |\n",
       "| 7063  | 2008 | HARBOR PIPELINE CO                                | 79.280 |\n",
       "| 31885 | 2006 | PLAINS ALL AMERICAN PIPELINE, L.P.                | 79.000 |\n",
       "| 14194 | 2014 | OILTANKING, HOUSTON LP                            | 77.610 |\n",
       "| 2371  | 2014 | WESTERN REFINING SOUTHWEST, INC                   | 76.900 |\n",
       "| 30968 | 2004 | BEARTOOTH PIPELINE                                | 75.820 |\n",
       "| 31023 | 2012 | CITGO REFINING &amp; CHEMICAL CO. L.P.                | 75.300 |\n",
       "| 32114 | 2015 | COPANO NGL SERVICES LLC                           | 75.180 |\n",
       "| 30629 | 2004 | ONEOK, INC                                        | 74.000 |\n",
       "| 39284 | 2017 | ORYX SO. DELAWARE OGT LLC                         | 72.910 |\n",
       "| 31673 | 2010 | LDH ENERGY OLEFINS LLC                            | 72.000 |\n",
       "| 39823 | 2018 | TARGA DOWNSTREAM LLC                              | 71.900 |\n",
       "| 14391 | 2018 | OSAGE PIPE LINE COMPANY, LLC                      | 71.600 |\n",
       "| 2339  | 2007 | CHEVRON PRODUCTS COMPANY - HAWAII                 | 71.270 |\n",
       "| 31583 | 2011 | TESORO LOGISTICS OPERATIONS LLC - MOUNTAIN REGION | 70.810 |\n",
       "| 31554 | 2015 | BOARDWALK PETROCHEMICAL PIPELINE, LLC             | 69.700 |\n",
       "| 39023 | 2013 | DOUBLE EAGLE PIPELINE LLC                         | 68.460 |\n",
       "| 2387  | 2014 | CITGO PIPELINE CO                                 | 67.486 |\n",
       "| 19585 | 2004 | TRANS MOUNTAIN PIPELINE (PUGET SOUND) LLC         | 64.000 |\n",
       "| 30005 | 2006 | MOBIL PACIFIC PIPELINE CO                         | 64.000 |\n",
       "| 31167 | 2012 | MOEM PIPELINE LLC                                 | 64.000 |\n",
       "| 39156 | 2014 | FRIO LASALLE PIPELINE, LP                         | 63.510 |\n",
       "| 31871 | 2009 | MARKWEST MICHIGAN PIPELINE COMPANY, L.L.C.        | 62.500 |\n",
       "| 31874 | 2011 | TESORO LOGISTICS OPERATIONS LLC - GOLDEN EAGLE    | 59.790 |\n",
       "| 8166  | 2006 | INTERSTATE ENERGY COMPANY                         | 59.559 |\n",
       "| 39518 | 2016 | KINDER MORGAN UTOPIA LLC                          | 59.110 |\n",
       "| 31802 | 2004 | TEXAS GENCO LP                                    | 59.000 |\n",
       "| 3535  | 2009 | DOW PIPELINE CO                                   | 57.000 |\n",
       "| 26094 | 2004 | NUSTAR TERMINALS OPERATIONS PARTNERSHIP L. P.     | 56.000 |\n",
       "| 32032 | 2004 | VALERO REFINING - TEXAS LP                        | 54.000 |\n",
       "| 31228 | 2013 | CALIFORNIA RESOURCES ELK HILLS, LLC               | 53.600 |\n",
       "\n"
      ],
      "text/plain": [
       "    OPERATOR_ID YEAR NAME                                             \n",
       "1   31618       2018 ENTERPRISE PRODUCTS OPERATING LLC                \n",
       "2   32109       2018 ONEOK NGL PIPELINE, LLC                          \n",
       "3   31684       2005 PHILLIPS 66 PIPELINE LLC                         \n",
       "4   22610       2014 MAGELLAN PIPELINE COMPANY, LP                    \n",
       "5   2552        2015 COLONIAL PIPELINE CO                             \n",
       "6   1845        2015 BUCKEYE PARTNERS, LP                             \n",
       "7   18718       2010 SUNOCO PIPELINE L.P.                             \n",
       "8   22855       2004 FLINT HILLS RESOURCES, LC                        \n",
       "9   19237       2008 TE PRODUCTS PIPELINE COMPANY, LLC                \n",
       "10  10012       2018 NUSTAR PIPELINE OPERATING PARTNERSHIP L.P.       \n",
       "11  15674       2016 PLANTATION PIPE LINE CO                          \n",
       "12  11169       2017 ENBRIDGE ENERGY, LIMITED PARTNERSHIP             \n",
       "13  32147       2013 MARATHON PIPE LINE LLC                           \n",
       "14  4906        2006 EXXONMOBIL PIPELINE CO                           \n",
       "15  2731        2005 CHEVRON PIPE LINE CO                             \n",
       "16  31454       2004 NUSTAR LOGISTICS, L.P.                           \n",
       "17  18092       2014 SFPP, LP                                         \n",
       "18  12127       2004 MARATHON ASHLAND PETROLEUM LLC                   \n",
       "19  4805        2016 EXPLORER PIPELINE CO                             \n",
       "20  32099       2017 ENERGY TRANSFER COMPANY                          \n",
       "21  31371       2015 BUCKEYE DEVELOPMENT & LOGISTICS, LLC             \n",
       "22  30829       2017 ENTERPRISE CRUDE PIPELINE LLC                    \n",
       "23  25146       2006 EQUISTAR CHEMICALS, L.P.                         \n",
       "24  32209       2008 TEPPCO MIDSTREAM COMPANIES, LLC                  \n",
       "25  32258       2007 KINDER MORGAN COCHIN LLC                         \n",
       "26  39205       2018 DAPL-ETCO OPERATIONS MANAGEMENT, LLC             \n",
       "27  39596       2018 PERMIAN EXPRESS PARTNERS LLC                     \n",
       "28  38933       2018 TESORO LOGISTICS OPERATIONS, LLC                 \n",
       "29  31666       2007 ROCKY MOUNTAIN PIPELINE SYSTEM, LLC              \n",
       "30  12470       2009 MID - VALLEY PIPELINE CO                         \n",
       "⋮   ⋮           ⋮    ⋮                                                \n",
       "171 7063        2008 HARBOR PIPELINE CO                               \n",
       "172 31885       2006 PLAINS ALL AMERICAN PIPELINE, L.P.               \n",
       "173 14194       2014 OILTANKING, HOUSTON LP                           \n",
       "174 2371        2014 WESTERN REFINING SOUTHWEST, INC                  \n",
       "175 30968       2004 BEARTOOTH PIPELINE                               \n",
       "176 31023       2012 CITGO REFINING & CHEMICAL CO. L.P.               \n",
       "177 32114       2015 COPANO NGL SERVICES LLC                          \n",
       "178 30629       2004 ONEOK, INC                                       \n",
       "179 39284       2017 ORYX SO. DELAWARE OGT LLC                        \n",
       "180 31673       2010 LDH ENERGY OLEFINS LLC                           \n",
       "181 39823       2018 TARGA DOWNSTREAM LLC                             \n",
       "182 14391       2018 OSAGE PIPE LINE COMPANY, LLC                     \n",
       "183 2339        2007 CHEVRON PRODUCTS COMPANY - HAWAII                \n",
       "184 31583       2011 TESORO LOGISTICS OPERATIONS LLC - MOUNTAIN REGION\n",
       "185 31554       2015 BOARDWALK PETROCHEMICAL PIPELINE, LLC            \n",
       "186 39023       2013 DOUBLE EAGLE PIPELINE LLC                        \n",
       "187 2387        2014 CITGO PIPELINE CO                                \n",
       "188 19585       2004 TRANS MOUNTAIN PIPELINE (PUGET SOUND) LLC        \n",
       "189 30005       2006 MOBIL PACIFIC PIPELINE CO                        \n",
       "190 31167       2012 MOEM PIPELINE LLC                                \n",
       "191 39156       2014 FRIO LASALLE PIPELINE, LP                        \n",
       "192 31871       2009 MARKWEST MICHIGAN PIPELINE COMPANY, L.L.C.       \n",
       "193 31874       2011 TESORO LOGISTICS OPERATIONS LLC - GOLDEN EAGLE   \n",
       "194 8166        2006 INTERSTATE ENERGY COMPANY                        \n",
       "195 39518       2016 KINDER MORGAN UTOPIA LLC                         \n",
       "196 31802       2004 TEXAS GENCO LP                                   \n",
       "197 3535        2009 DOW PIPELINE CO                                  \n",
       "198 26094       2004 NUSTAR TERMINALS OPERATIONS PARTNERSHIP L. P.    \n",
       "199 32032       2004 VALERO REFINING - TEXAS LP                       \n",
       "200 31228       2013 CALIFORNIA RESOURCES ELK HILLS, LLC              \n",
       "    TOTAL_MILES\n",
       "1   8311.369   \n",
       "2   4756.610   \n",
       "3   4691.000   \n",
       "4   4505.500   \n",
       "5   4500.920   \n",
       "6   4298.290   \n",
       "7   3466.740   \n",
       "8   3051.000   \n",
       "9   2842.240   \n",
       "10  2645.300   \n",
       "11  2564.730   \n",
       "12  2460.000   \n",
       "13  2450.100   \n",
       "14  2176.000   \n",
       "15  2122.110   \n",
       "16  1818.000   \n",
       "17  1786.460   \n",
       "18  1761.000   \n",
       "19  1388.070   \n",
       "20  1310.000   \n",
       "21  1220.157   \n",
       "22  1191.397   \n",
       "23  1146.880   \n",
       "24  1092.220   \n",
       "25  1008.000   \n",
       "26   950.640   \n",
       "27   946.620   \n",
       "28   930.700   \n",
       "29   917.900   \n",
       "30   910.000   \n",
       "⋮   ⋮          \n",
       "171 79.280     \n",
       "172 79.000     \n",
       "173 77.610     \n",
       "174 76.900     \n",
       "175 75.820     \n",
       "176 75.300     \n",
       "177 75.180     \n",
       "178 74.000     \n",
       "179 72.910     \n",
       "180 72.000     \n",
       "181 71.900     \n",
       "182 71.600     \n",
       "183 71.270     \n",
       "184 70.810     \n",
       "185 69.700     \n",
       "186 68.460     \n",
       "187 67.486     \n",
       "188 64.000     \n",
       "189 64.000     \n",
       "190 64.000     \n",
       "191 63.510     \n",
       "192 62.500     \n",
       "193 59.790     \n",
       "194 59.559     \n",
       "195 59.110     \n",
       "196 59.000     \n",
       "197 57.000     \n",
       "198 56.000     \n",
       "199 54.000     \n",
       "200 53.600     "
      ]
     },
     "metadata": {},
     "output_type": "display_data"
    }
   ],
   "source": [
    "largest_pipeline_operators <- pipelines %>%\n",
    "    group_by(OPERATOR_ID, COMMODITY) %>%\n",
    "    # Make sure we retrieve the latest name, no matter what year has to most extensive pipeline network\n",
    "    arrange(desc(YEAR)) %>%\n",
    "    mutate(NAME = first(NAME)) %>%\n",
    "    group_by(OPERATOR_ID, YEAR) %>%\n",
    "    summarize(NAME = first(NAME), TOTAL_MILES = sum(MILES)) %>%\n",
    "    group_by(OPERATOR_ID) %>%\n",
    "    top_n(1, TOTAL_MILES) %>%\n",
    "    # Year as tie breaker\n",
    "    top_n(1, YEAR) %>%\n",
    "    ungroup() %>%\n",
    "    arrange(desc(TOTAL_MILES))\n",
    "\n",
    "head(largest_pipeline_operators, 200)"
   ]
  },
  {
   "cell_type": "markdown",
   "metadata": {},
   "source": [
    "## 5.2 Save result"
   ]
  },
  {
   "cell_type": "code",
   "execution_count": 10,
   "metadata": {},
   "outputs": [],
   "source": [
    "feather::write_feather(largest_pipeline_operators, paste0(\"../preprocessed_data/largest_companies_\", Sys.Date(), \".feather\"))"
   ]
  },
  {
   "cell_type": "markdown",
   "metadata": {},
   "source": [
    "We also write the results to .csv, in order to add the parent company names. This column, we add as empty for now."
   ]
  },
  {
   "cell_type": "code",
   "execution_count": 11,
   "metadata": {},
   "outputs": [],
   "source": [
    "largest_pipeline_operators$PARENT <- NA"
   ]
  },
  {
   "cell_type": "code",
   "execution_count": 12,
   "metadata": {},
   "outputs": [],
   "source": [
    "readr::write_csv(largest_pipeline_operators, paste0(\"../input/largest_companies_raw_\", Sys.Date(), \".csv\"))"
   ]
  },
  {
   "cell_type": "code",
   "execution_count": null,
   "metadata": {},
   "outputs": [],
   "source": []
  }
 ],
 "metadata": {
  "jupytext": {
   "formats": "ipynb,Rmd"
  },
  "kernelspec": {
   "display_name": "R 3.6.1",
   "language": "R",
   "name": "ir361"
  },
  "language_info": {
   "codemirror_mode": "r",
   "file_extension": ".r",
   "mimetype": "text/x-r-source",
   "name": "R",
   "pygments_lexer": "r",
   "version": "3.6.1"
  }
 },
 "nbformat": 4,
 "nbformat_minor": 4
}
