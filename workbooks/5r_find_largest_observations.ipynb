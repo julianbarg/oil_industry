{
 "cells": [
  {
   "cell_type": "markdown",
   "metadata": {},
   "source": [
    "# 5. Find largest observations (R)"
   ]
  },
  {
   "cell_type": "code",
   "execution_count": 1,
   "metadata": {},
   "outputs": [
    {
     "name": "stderr",
     "output_type": "stream",
     "text": [
      "Registered S3 methods overwritten by 'ggplot2':\n",
      "  method         from \n",
      "  [.quosures     rlang\n",
      "  c.quosures     rlang\n",
      "  print.quosures rlang\n",
      "Registered S3 method overwritten by 'rvest':\n",
      "  method            from\n",
      "  read_xml.response xml2\n",
      "── \u001b[1mAttaching packages\u001b[22m ─────────────────────────────────────── tidyverse 1.2.1 ──\n",
      "\u001b[32m✔\u001b[39m \u001b[34mggplot2\u001b[39m 3.1.1       \u001b[32m✔\u001b[39m \u001b[34mpurrr  \u001b[39m 0.3.2  \n",
      "\u001b[32m✔\u001b[39m \u001b[34mtibble \u001b[39m 2.1.1       \u001b[32m✔\u001b[39m \u001b[34mdplyr  \u001b[39m 0.8.0.\u001b[31m1\u001b[39m\n",
      "\u001b[32m✔\u001b[39m \u001b[34mtidyr  \u001b[39m 0.8.3       \u001b[32m✔\u001b[39m \u001b[34mstringr\u001b[39m 1.4.0  \n",
      "\u001b[32m✔\u001b[39m \u001b[34mreadr  \u001b[39m 1.3.1       \u001b[32m✔\u001b[39m \u001b[34mforcats\u001b[39m 0.4.0  \n",
      "── \u001b[1mConflicts\u001b[22m ────────────────────────────────────────── tidyverse_conflicts() ──\n",
      "\u001b[31m✖\u001b[39m \u001b[34mdplyr\u001b[39m::\u001b[32mfilter()\u001b[39m masks \u001b[34mstats\u001b[39m::filter()\n",
      "\u001b[31m✖\u001b[39m \u001b[34mdplyr\u001b[39m::\u001b[32mlag()\u001b[39m    masks \u001b[34mstats\u001b[39m::lag()\n"
     ]
    }
   ],
   "source": [
    "library(tidyverse)"
   ]
  },
  {
   "cell_type": "code",
   "execution_count": 2,
   "metadata": {},
   "outputs": [],
   "source": [
    "pipelines_2010_selected_file = \"../preprocessed_data/pipelines_2010_selected_2019-08-24.feather\""
   ]
  },
  {
   "cell_type": "markdown",
   "metadata": {},
   "source": [
    "## Load data"
   ]
  },
  {
   "cell_type": "code",
   "execution_count": 3,
   "metadata": {},
   "outputs": [
    {
     "name": "stderr",
     "output_type": "stream",
     "text": [
      "Warning message:\n",
      "“Coercing int64 to double”"
     ]
    },
    {
     "name": "stdout",
     "output_type": "stream",
     "text": [
      "Observations: 4,957\n",
      "Variables: 17\n",
      "$ OPERATOR_ID       \u001b[3m\u001b[38;5;246m<chr>\u001b[39m\u001b[23m \"300\", \"300\", \"395\", \"402\", \"473\", \"473\", \"515\", \"8…\n",
      "$ YEAR              \u001b[3m\u001b[38;5;246m<dbl>\u001b[39m\u001b[23m 2017, 2017, 2017, 2017, 2017, 2017, 2017, 2017, 201…\n",
      "$ NAME              \u001b[3m\u001b[38;5;246m<chr>\u001b[39m\u001b[23m \"PLAINS PIPELINE, L.P.\", \"PLAINS PIPELINE, L.P.\", \"…\n",
      "$ COMMODITY         \u001b[3m\u001b[38;5;246m<chr>\u001b[39m\u001b[23m \"HVL\", \"Refined and/or Petroleum Product (non-HVL)\"…\n",
      "$ MILES             \u001b[3m\u001b[38;5;246m<dbl>\u001b[39m\u001b[23m 72.900, 0.000, 662.300, 1.550, 12.000, 0.000, 32.90…\n",
      "$ AGE_UNKNOWN_MILES \u001b[3m\u001b[38;5;246m<dbl>\u001b[39m\u001b[23m 0.000, 0.000, 0.000, 0.000, 0.000, 0.000, 0.000, 5.…\n",
      "$ MILES_PRE_1940    \u001b[3m\u001b[38;5;246m<dbl>\u001b[39m\u001b[23m 0.000, 3.720, 0.600, 0.000, 0.000, 0.000, 0.000, 0.…\n",
      "$ MILES_1940        \u001b[3m\u001b[38;5;246m<dbl>\u001b[39m\u001b[23m 0.000, 0.000, 15.000, 0.000, 0.000, 0.000, 0.000, 0…\n",
      "$ MILES_1950        \u001b[3m\u001b[38;5;246m<dbl>\u001b[39m\u001b[23m 0.000, 0.000, 0.000, 0.000, 0.000, 0.000, 0.000, 2.…\n",
      "$ MILES_1960        \u001b[3m\u001b[38;5;246m<dbl>\u001b[39m\u001b[23m 0.000, 0.000, 0.900, 0.000, 43.000, 0.000, 0.000, 3…\n",
      "$ MILES_1970        \u001b[3m\u001b[38;5;246m<dbl>\u001b[39m\u001b[23m 0.000, 0.000, 1.500, 0.000, 4.000, 0.000, 0.000, 5.…\n",
      "$ MILES_1980        \u001b[3m\u001b[38;5;246m<dbl>\u001b[39m\u001b[23m 0.000, 0.000, 18.500, 0.000, 0.000, 2.000, 0.000, 0…\n",
      "$ MILES_1990        \u001b[3m\u001b[38;5;246m<dbl>\u001b[39m\u001b[23m 0.010, 0.000, 58.200, 0.000, 0.000, 2.000, 164.550,…\n",
      "$ MILES_2000        \u001b[3m\u001b[38;5;246m<dbl>\u001b[39m\u001b[23m 0.000, 0.000, 5.100, 49.300, 0.000, 16.500, 2.220, …\n",
      "$ MILES_2010        \u001b[3m\u001b[38;5;246m<dbl>\u001b[39m\u001b[23m 47.920, 0.000, 0.700, 0.000, 121.250, 26.700, 0.270…\n",
      "$ PERC_OFFSHORE     \u001b[3m\u001b[38;5;246m<dbl>\u001b[39m\u001b[23m 0, 0, 0, 0, 0, 0, 0, 0, 0, 0, 0, 0, 0, 0, 0, 0, 0, …\n",
      "$ AVG_AGE           \u001b[3m\u001b[38;5;246m<dbl>\u001b[39m\u001b[23m 5.004173, 90.000000, 34.611940, 15.000000, 18.72956…\n"
     ]
    }
   ],
   "source": [
    "pipelines_2010 <- feather::read_feather(pipelines_2010_selected_file)\n",
    "glimpse(pipelines_2010)"
   ]
  },
  {
   "cell_type": "markdown",
   "metadata": {},
   "source": [
    "## 5.1 Find largest observations"
   ]
  },
  {
   "cell_type": "markdown",
   "metadata": {},
   "source": [
    "Ensure that we don't remove too many observations."
   ]
  },
  {
   "cell_type": "code",
   "execution_count": 4,
   "metadata": {},
   "outputs": [
    {
     "data": {
      "text/html": [
       "667"
      ],
      "text/latex": [
       "667"
      ],
      "text/markdown": [
       "667"
      ],
      "text/plain": [
       "[1] 667"
      ]
     },
     "metadata": {},
     "output_type": "display_data"
    }
   ],
   "source": [
    "length(unique(pipelines_2010$OPERATOR_ID))"
   ]
  },
  {
   "cell_type": "code",
   "execution_count": 5,
   "metadata": {},
   "outputs": [
    {
     "data": {
      "text/html": [
       "667"
      ],
      "text/latex": [
       "667"
      ],
      "text/markdown": [
       "667"
      ],
      "text/plain": [
       "[1] 667"
      ]
     },
     "metadata": {},
     "output_type": "display_data"
    }
   ],
   "source": [
    "pipelines_2010 %>%\n",
    "    group_by(OPERATOR_ID) %>%\n",
    "    mutate(max_offshore = max(PERC_OFFSHORE)) %>%\n",
    "    filter(max_offshore == 0) %>%\n",
    "    ungroup() %>%\n",
    "    {length(unique(.$OPERATOR_ID))}"
   ]
  },
  {
   "cell_type": "markdown",
   "metadata": {},
   "source": [
    "Although it is not the exact number I expected, it is approximately correct."
   ]
  },
  {
   "cell_type": "code",
   "execution_count": 6,
   "metadata": {},
   "outputs": [
    {
     "data": {
      "text/html": [
       "<table>\n",
       "<caption>A tibble: 10 × 5</caption>\n",
       "<thead>\n",
       "\t<tr><th scope=col>OPERATOR_ID</th><th scope=col>YEAR</th><th scope=col>NAME</th><th scope=col>COMMODITY</th><th scope=col>MILES</th></tr>\n",
       "\t<tr><th scope=col>&lt;chr&gt;</th><th scope=col>&lt;dbl&gt;</th><th scope=col>&lt;chr&gt;</th><th scope=col>&lt;chr&gt;</th><th scope=col>&lt;dbl&gt;</th></tr>\n",
       "</thead>\n",
       "<tbody>\n",
       "\t<tr><td>31618</td><td>2018</td><td>ENTERPRISE PRODUCTS OPERATING LLC   </td><td>HVL                                       </td><td>7726.183</td></tr>\n",
       "\t<tr><td>32109</td><td>2018</td><td>ONEOK NGL PIPELINE, LLC             </td><td>HVL                                       </td><td>4531.480</td></tr>\n",
       "\t<tr><td>2552 </td><td>2015</td><td>COLONIAL PIPELINE CO                </td><td>Refined and/or Petroleum Product (non-HVL)</td><td>4500.920</td></tr>\n",
       "\t<tr><td>1845 </td><td>2015</td><td>BUCKEYE PARTNERS, LP                </td><td>Refined and/or Petroleum Product (non-HVL)</td><td>4266.430</td></tr>\n",
       "\t<tr><td>22610</td><td>2018</td><td>MAGELLAN PIPELINE COMPANY, LP       </td><td>Refined and/or Petroleum Product (non-HVL)</td><td>3926.400</td></tr>\n",
       "\t<tr><td>15674</td><td>2016</td><td>PLANTATION PIPE LINE CO             </td><td>Refined and/or Petroleum Product (non-HVL)</td><td>2564.730</td></tr>\n",
       "\t<tr><td>11169</td><td>2017</td><td>ENBRIDGE ENERGY, LIMITED PARTNERSHIP</td><td>Crude Oil                                 </td><td>2290.000</td></tr>\n",
       "\t<tr><td>31684</td><td>2010</td><td>CONOCOPHILLIPS                      </td><td>Refined and/or Petroleum Product (non-HVL)</td><td>2283.790</td></tr>\n",
       "\t<tr><td>32147</td><td>2013</td><td>MARATHON PIPE LINE LLC              </td><td>Refined and/or Petroleum Product (non-HVL)</td><td>2281.900</td></tr>\n",
       "\t<tr><td>18092</td><td>2014</td><td>SFPP, LP                            </td><td>Refined and/or Petroleum Product (non-HVL)</td><td>1786.460</td></tr>\n",
       "</tbody>\n",
       "</table>\n"
      ],
      "text/latex": [
       "A tibble: 10 × 5\n",
       "\\begin{tabular}{r|lllll}\n",
       " OPERATOR\\_ID & YEAR & NAME & COMMODITY & MILES\\\\\n",
       " <chr> & <dbl> & <chr> & <chr> & <dbl>\\\\\n",
       "\\hline\n",
       "\t 31618 & 2018 & ENTERPRISE PRODUCTS OPERATING LLC    & HVL                                        & 7726.183\\\\\n",
       "\t 32109 & 2018 & ONEOK NGL PIPELINE, LLC              & HVL                                        & 4531.480\\\\\n",
       "\t 2552  & 2015 & COLONIAL PIPELINE CO                 & Refined and/or Petroleum Product (non-HVL) & 4500.920\\\\\n",
       "\t 1845  & 2015 & BUCKEYE PARTNERS, LP                 & Refined and/or Petroleum Product (non-HVL) & 4266.430\\\\\n",
       "\t 22610 & 2018 & MAGELLAN PIPELINE COMPANY, LP        & Refined and/or Petroleum Product (non-HVL) & 3926.400\\\\\n",
       "\t 15674 & 2016 & PLANTATION PIPE LINE CO              & Refined and/or Petroleum Product (non-HVL) & 2564.730\\\\\n",
       "\t 11169 & 2017 & ENBRIDGE ENERGY, LIMITED PARTNERSHIP & Crude Oil                                  & 2290.000\\\\\n",
       "\t 31684 & 2010 & CONOCOPHILLIPS                       & Refined and/or Petroleum Product (non-HVL) & 2283.790\\\\\n",
       "\t 32147 & 2013 & MARATHON PIPE LINE LLC               & Refined and/or Petroleum Product (non-HVL) & 2281.900\\\\\n",
       "\t 18092 & 2014 & SFPP, LP                             & Refined and/or Petroleum Product (non-HVL) & 1786.460\\\\\n",
       "\\end{tabular}\n"
      ],
      "text/markdown": [
       "\n",
       "A tibble: 10 × 5\n",
       "\n",
       "| OPERATOR_ID &lt;chr&gt; | YEAR &lt;dbl&gt; | NAME &lt;chr&gt; | COMMODITY &lt;chr&gt; | MILES &lt;dbl&gt; |\n",
       "|---|---|---|---|---|\n",
       "| 31618 | 2018 | ENTERPRISE PRODUCTS OPERATING LLC    | HVL                                        | 7726.183 |\n",
       "| 32109 | 2018 | ONEOK NGL PIPELINE, LLC              | HVL                                        | 4531.480 |\n",
       "| 2552  | 2015 | COLONIAL PIPELINE CO                 | Refined and/or Petroleum Product (non-HVL) | 4500.920 |\n",
       "| 1845  | 2015 | BUCKEYE PARTNERS, LP                 | Refined and/or Petroleum Product (non-HVL) | 4266.430 |\n",
       "| 22610 | 2018 | MAGELLAN PIPELINE COMPANY, LP        | Refined and/or Petroleum Product (non-HVL) | 3926.400 |\n",
       "| 15674 | 2016 | PLANTATION PIPE LINE CO              | Refined and/or Petroleum Product (non-HVL) | 2564.730 |\n",
       "| 11169 | 2017 | ENBRIDGE ENERGY, LIMITED PARTNERSHIP | Crude Oil                                  | 2290.000 |\n",
       "| 31684 | 2010 | CONOCOPHILLIPS                       | Refined and/or Petroleum Product (non-HVL) | 2283.790 |\n",
       "| 32147 | 2013 | MARATHON PIPE LINE LLC               | Refined and/or Petroleum Product (non-HVL) | 2281.900 |\n",
       "| 18092 | 2014 | SFPP, LP                             | Refined and/or Petroleum Product (non-HVL) | 1786.460 |\n",
       "\n"
      ],
      "text/plain": [
       "   OPERATOR_ID YEAR NAME                                \n",
       "1  31618       2018 ENTERPRISE PRODUCTS OPERATING LLC   \n",
       "2  32109       2018 ONEOK NGL PIPELINE, LLC             \n",
       "3  2552        2015 COLONIAL PIPELINE CO                \n",
       "4  1845        2015 BUCKEYE PARTNERS, LP                \n",
       "5  22610       2018 MAGELLAN PIPELINE COMPANY, LP       \n",
       "6  15674       2016 PLANTATION PIPE LINE CO             \n",
       "7  11169       2017 ENBRIDGE ENERGY, LIMITED PARTNERSHIP\n",
       "8  31684       2010 CONOCOPHILLIPS                      \n",
       "9  32147       2013 MARATHON PIPE LINE LLC              \n",
       "10 18092       2014 SFPP, LP                            \n",
       "   COMMODITY                                  MILES   \n",
       "1  HVL                                        7726.183\n",
       "2  HVL                                        4531.480\n",
       "3  Refined and/or Petroleum Product (non-HVL) 4500.920\n",
       "4  Refined and/or Petroleum Product (non-HVL) 4266.430\n",
       "5  Refined and/or Petroleum Product (non-HVL) 3926.400\n",
       "6  Refined and/or Petroleum Product (non-HVL) 2564.730\n",
       "7  Crude Oil                                  2290.000\n",
       "8  Refined and/or Petroleum Product (non-HVL) 2283.790\n",
       "9  Refined and/or Petroleum Product (non-HVL) 2281.900\n",
       "10 Refined and/or Petroleum Product (non-HVL) 1786.460"
      ]
     },
     "metadata": {},
     "output_type": "display_data"
    }
   ],
   "source": [
    "pipelines_2010 %>%\n",
    "    group_by(OPERATOR_ID, COMMODITY) %>%\n",
    "    mutate(max_offshore = max(PERC_OFFSHORE)) %>%\n",
    "    filter(max_offshore == 0) %>%\n",
    "    top_n(1, MILES) %>%\n",
    "    ungroup() %>%\n",
    "    select(OPERATOR_ID, YEAR, NAME, COMMODITY, MILES) %>%\n",
    "    top_n(10, MILES) %>%\n",
    "    arrange(desc(MILES))"
   ]
  },
  {
   "cell_type": "markdown",
   "metadata": {},
   "source": [
    "#### Largest for the sum of all types"
   ]
  },
  {
   "cell_type": "code",
   "execution_count": 7,
   "metadata": {},
   "outputs": [
    {
     "data": {
      "text/html": [
       "<ol class=list-inline>\n",
       "\t<li>'HVL'</li>\n",
       "\t<li>'Refined and/or Petroleum Product (non-HVL)'</li>\n",
       "\t<li>'Crude Oil'</li>\n",
       "\t<li>'CO2'</li>\n",
       "\t<li>'Fuel Grade Ethanol (dedicated system)'</li>\n",
       "</ol>\n"
      ],
      "text/latex": [
       "\\begin{enumerate*}\n",
       "\\item 'HVL'\n",
       "\\item 'Refined and/or Petroleum Product (non-HVL)'\n",
       "\\item 'Crude Oil'\n",
       "\\item 'CO2'\n",
       "\\item 'Fuel Grade Ethanol (dedicated system)'\n",
       "\\end{enumerate*}\n"
      ],
      "text/markdown": [
       "1. 'HVL'\n",
       "2. 'Refined and/or Petroleum Product (non-HVL)'\n",
       "3. 'Crude Oil'\n",
       "4. 'CO2'\n",
       "5. 'Fuel Grade Ethanol (dedicated system)'\n",
       "\n",
       "\n"
      ],
      "text/plain": [
       "[1] \"HVL\"                                       \n",
       "[2] \"Refined and/or Petroleum Product (non-HVL)\"\n",
       "[3] \"Crude Oil\"                                 \n",
       "[4] \"CO2\"                                       \n",
       "[5] \"Fuel Grade Ethanol (dedicated system)\"     "
      ]
     },
     "metadata": {},
     "output_type": "display_data"
    }
   ],
   "source": [
    "unique(pipelines_2010$COMMODITY)"
   ]
  },
  {
   "cell_type": "markdown",
   "metadata": {},
   "source": [
    "Check whether any operator ID has more than the maximum of five expected entries."
   ]
  },
  {
   "cell_type": "code",
   "execution_count": 8,
   "metadata": {},
   "outputs": [
    {
     "data": {
      "text/plain": [
       "\n",
       "   1    2    3    4 \n",
       "3110  582  221    5 "
      ]
     },
     "metadata": {},
     "output_type": "display_data"
    }
   ],
   "source": [
    "pipelines_2010 %>%\n",
    "    group_by(YEAR, OPERATOR_ID) %>%\n",
    "    summarize(n = n()) %>%\n",
    "    ungroup() %>%\n",
    "    {table(.$n)}"
   ]
  },
  {
   "cell_type": "markdown",
   "metadata": {},
   "source": [
    "Everything seems to be A-Okay."
   ]
  },
  {
   "cell_type": "code",
   "execution_count": 10,
   "metadata": {},
   "outputs": [
    {
     "data": {
      "text/html": [
       "<table>\n",
       "<caption>A tibble: 150 × 4</caption>\n",
       "<thead>\n",
       "\t<tr><th scope=col>OPERATOR_ID</th><th scope=col>YEAR</th><th scope=col>NAME</th><th scope=col>TOTAL_MILES</th></tr>\n",
       "\t<tr><th scope=col>&lt;chr&gt;</th><th scope=col>&lt;dbl&gt;</th><th scope=col>&lt;chr&gt;</th><th scope=col>&lt;dbl&gt;</th></tr>\n",
       "</thead>\n",
       "<tbody>\n",
       "\t<tr><td>31618</td><td>2018</td><td>ENTERPRISE PRODUCTS OPERATING LLC         </td><td>8311.369</td></tr>\n",
       "\t<tr><td>32109</td><td>2018</td><td>ONEOK NGL PIPELINE, LLC                   </td><td>4756.610</td></tr>\n",
       "\t<tr><td>22610</td><td>2014</td><td>MAGELLAN PIPELINE COMPANY, LP             </td><td>4505.500</td></tr>\n",
       "\t<tr><td>2552 </td><td>2015</td><td>COLONIAL PIPELINE CO                      </td><td>4500.920</td></tr>\n",
       "\t<tr><td>31684</td><td>2017</td><td>PHILLIPS 66 PIPELINE LLC                  </td><td>4474.100</td></tr>\n",
       "\t<tr><td>1845 </td><td>2015</td><td>BUCKEYE PARTNERS, LP                      </td><td>4298.290</td></tr>\n",
       "\t<tr><td>18718</td><td>2010</td><td>SUNOCO PIPELINE L.P.                      </td><td>3466.740</td></tr>\n",
       "\t<tr><td>22855</td><td>2013</td><td>FLINT HILLS RESOURCES, LC                 </td><td>2757.450</td></tr>\n",
       "\t<tr><td>10012</td><td>2018</td><td>NUSTAR PIPELINE OPERATING PARTNERSHIP L.P.</td><td>2645.300</td></tr>\n",
       "\t<tr><td>15674</td><td>2016</td><td>PLANTATION PIPE LINE CO                   </td><td>2564.730</td></tr>\n",
       "\t<tr><td>11169</td><td>2017</td><td>ENBRIDGE ENERGY, LIMITED PARTNERSHIP      </td><td>2460.000</td></tr>\n",
       "\t<tr><td>32147</td><td>2013</td><td>MARATHON PIPE LINE LLC                    </td><td>2450.100</td></tr>\n",
       "\t<tr><td>4906 </td><td>2013</td><td>EXXONMOBIL PIPELINE CO                    </td><td>2053.100</td></tr>\n",
       "\t<tr><td>18092</td><td>2014</td><td>SFPP, LP                                  </td><td>1786.460</td></tr>\n",
       "\t<tr><td>2731 </td><td>2012</td><td>CHEVRON PIPE LINE CO                      </td><td>1418.900</td></tr>\n",
       "\t<tr><td>4805 </td><td>2016</td><td>EXPLORER PIPELINE CO                      </td><td>1388.070</td></tr>\n",
       "\t<tr><td>32099</td><td>2017</td><td>ENERGY TRANSFER COMPANY                   </td><td>1310.000</td></tr>\n",
       "\t<tr><td>31371</td><td>2014</td><td><span style=white-space:pre-wrap>BUCKEYE DEVELOPMENT &amp; LOGISTICS, LLC      </span></td><td>1220.779</td></tr>\n",
       "\t<tr><td>30829</td><td>2017</td><td>ENTERPRISE CRUDE PIPELINE LLC             </td><td>1191.397</td></tr>\n",
       "\t<tr><td>12628</td><td>2013</td><td>MOBIL  PIPE  LINE COMPANY                 </td><td>1060.990</td></tr>\n",
       "\t<tr><td>39205</td><td>2018</td><td>DAPL-ETCO OPERATIONS MANAGEMENT, LLC      </td><td> 950.640</td></tr>\n",
       "\t<tr><td>39596</td><td>2018</td><td>PERMIAN EXPRESS PARTNERS LLC              </td><td> 946.620</td></tr>\n",
       "\t<tr><td>25146</td><td>2016</td><td>EQUISTAR CHEMICALS, L.P.                  </td><td> 933.160</td></tr>\n",
       "\t<tr><td>38933</td><td>2018</td><td>TESORO LOGISTICS OPERATIONS, LLC          </td><td> 930.700</td></tr>\n",
       "\t<tr><td>31454</td><td>2017</td><td>NUSTAR LOGISTICS, L.P.                    </td><td> 901.100</td></tr>\n",
       "\t<tr><td>31130</td><td>2018</td><td>DCP MIDSTREAM                             </td><td> 828.814</td></tr>\n",
       "\t<tr><td>31174</td><td>2012</td><td>SHELL PIPELINE CO., L.P.                  </td><td> 825.400</td></tr>\n",
       "\t<tr><td>32334</td><td>2018</td><td>TC OIL PIPELINE OPERATIONS INC            </td><td> 787.540</td></tr>\n",
       "\t<tr><td>395  </td><td>2010</td><td>AMOCO OIL CO                              </td><td> 729.000</td></tr>\n",
       "\t<tr><td>31666</td><td>2010</td><td>ROCKY MOUNTAIN PIPELINE SYSTEM, LLC       </td><td> 723.550</td></tr>\n",
       "\t<tr><td>⋮</td><td>⋮</td><td>⋮</td><td>⋮</td></tr>\n",
       "\t<tr><td>30909</td><td>2018</td><td>TRANSMONTAIGNE OPERATING COMPANY L.P.         </td><td>108.590</td></tr>\n",
       "\t<tr><td>32541</td><td>2015</td><td>COPANO NGL SERVICES (MARKHAM), LLC            </td><td>108.500</td></tr>\n",
       "\t<tr><td>31579</td><td>2018</td><td>MAGELLAN PIPELINES HOLDINGS, LP               </td><td>108.210</td></tr>\n",
       "\t<tr><td>32679</td><td>2015</td><td>PARKWAY PIPELINE LLC                          </td><td>107.270</td></tr>\n",
       "\t<tr><td>39401</td><td>2018</td><td>GREAT SALT PLAINS PIPELINE LLC                </td><td>105.950</td></tr>\n",
       "\t<tr><td>473  </td><td>2018</td><td>ANADARKO PETROLEUM CORP                       </td><td>105.130</td></tr>\n",
       "\t<tr><td>15851</td><td>2010</td><td>DELEK MARKETING AND SUPPLY, LP                </td><td>105.000</td></tr>\n",
       "\t<tr><td>26061</td><td>2018</td><td>DELEK CRUDE LOGISTICS, LLC.                   </td><td>104.150</td></tr>\n",
       "\t<tr><td>32246</td><td>2010</td><td>LDH ENERGY MONT BELVIEU L.P.                  </td><td>102.460</td></tr>\n",
       "\t<tr><td>32407</td><td>2015</td><td>GENESIS PIPELINE TEXAS, L.P.                  </td><td>101.140</td></tr>\n",
       "\t<tr><td>26099</td><td>2010</td><td>TAMPA BAY PIPELINE CO.                        </td><td>101.100</td></tr>\n",
       "\t<tr><td>32632</td><td>2014</td><td>JP ENERGY MARKETING, LLC                      </td><td> 99.170</td></tr>\n",
       "\t<tr><td>39080</td><td>2016</td><td>GLASS MOUNTAIN PIPELINE                       </td><td> 98.830</td></tr>\n",
       "\t<tr><td>39774</td><td>2017</td><td>GLASS MOUNTAIN PIPELINE, LLC                  </td><td> 98.830</td></tr>\n",
       "\t<tr><td>30777</td><td>2018</td><td>MOTIVA ENTERPRISE LLC                         </td><td> 97.490</td></tr>\n",
       "\t<tr><td>39347</td><td>2017</td><td>ILLINOIS EXTENSION PIPELINE COMPANY, L.L.C.   </td><td> 97.000</td></tr>\n",
       "\t<tr><td>39535</td><td>2016</td><td>TORRANCE PIPELINE COMPANY LLC                 </td><td> 96.673</td></tr>\n",
       "\t<tr><td>39348</td><td>2016</td><td>NUSTAR PERMIAN TRANSPORTATION AND STORAGE, LLC</td><td> 95.400</td></tr>\n",
       "\t<tr><td>31555</td><td>2014</td><td>KINDER MORGAN CO2 CO. LP                      </td><td> 94.000</td></tr>\n",
       "\t<tr><td>31878</td><td>2014</td><td>BRIDGER PIPELINE LLC                          </td><td> 92.000</td></tr>\n",
       "\t<tr><td>32619</td><td>2018</td><td>HILAND CRUDE, LLC                             </td><td> 91.960</td></tr>\n",
       "\t<tr><td>39440</td><td>2018</td><td>DOUBLE H                                      </td><td> 91.760</td></tr>\n",
       "\t<tr><td>32283</td><td>2018</td><td>FRONT RANGE PIPELINE, LLC.                    </td><td> 91.570</td></tr>\n",
       "\t<tr><td>26041</td><td>2016</td><td>KINDER MORGAN LIQUID TERMINALS, LLC           </td><td> 91.360</td></tr>\n",
       "\t<tr><td>31610</td><td>2012</td><td>BP WEST COAST PRODUCTS L.L.C.                 </td><td> 91.000</td></tr>\n",
       "\t<tr><td>39841</td><td>2018</td><td>RED BUTTE PIPELINE LLC                        </td><td> 90.600</td></tr>\n",
       "\t<tr><td>39848</td><td>2018</td><td>LAMBDA ENERGY RESOURCES LLC                   </td><td> 89.500</td></tr>\n",
       "\t<tr><td>32543</td><td>2017</td><td>DENBURY GREEN PIPELINE-TEXAS, LLC             </td><td> 89.420</td></tr>\n",
       "\t<tr><td>31448</td><td>2017</td><td>ENBRIDGE PIPELINES (TOLEDO) INC               </td><td> 89.000</td></tr>\n",
       "\t<tr><td>31663</td><td>2015</td><td>NAVAJO NATION OIL AND GAS COMPANY             </td><td> 87.510</td></tr>\n",
       "</tbody>\n",
       "</table>\n"
      ],
      "text/latex": [
       "A tibble: 150 × 4\n",
       "\\begin{tabular}{r|llll}\n",
       " OPERATOR\\_ID & YEAR & NAME & TOTAL\\_MILES\\\\\n",
       " <chr> & <dbl> & <chr> & <dbl>\\\\\n",
       "\\hline\n",
       "\t 31618 & 2018 & ENTERPRISE PRODUCTS OPERATING LLC          & 8311.369\\\\\n",
       "\t 32109 & 2018 & ONEOK NGL PIPELINE, LLC                    & 4756.610\\\\\n",
       "\t 22610 & 2014 & MAGELLAN PIPELINE COMPANY, LP              & 4505.500\\\\\n",
       "\t 2552  & 2015 & COLONIAL PIPELINE CO                       & 4500.920\\\\\n",
       "\t 31684 & 2017 & PHILLIPS 66 PIPELINE LLC                   & 4474.100\\\\\n",
       "\t 1845  & 2015 & BUCKEYE PARTNERS, LP                       & 4298.290\\\\\n",
       "\t 18718 & 2010 & SUNOCO PIPELINE L.P.                       & 3466.740\\\\\n",
       "\t 22855 & 2013 & FLINT HILLS RESOURCES, LC                  & 2757.450\\\\\n",
       "\t 10012 & 2018 & NUSTAR PIPELINE OPERATING PARTNERSHIP L.P. & 2645.300\\\\\n",
       "\t 15674 & 2016 & PLANTATION PIPE LINE CO                    & 2564.730\\\\\n",
       "\t 11169 & 2017 & ENBRIDGE ENERGY, LIMITED PARTNERSHIP       & 2460.000\\\\\n",
       "\t 32147 & 2013 & MARATHON PIPE LINE LLC                     & 2450.100\\\\\n",
       "\t 4906  & 2013 & EXXONMOBIL PIPELINE CO                     & 2053.100\\\\\n",
       "\t 18092 & 2014 & SFPP, LP                                   & 1786.460\\\\\n",
       "\t 2731  & 2012 & CHEVRON PIPE LINE CO                       & 1418.900\\\\\n",
       "\t 4805  & 2016 & EXPLORER PIPELINE CO                       & 1388.070\\\\\n",
       "\t 32099 & 2017 & ENERGY TRANSFER COMPANY                    & 1310.000\\\\\n",
       "\t 31371 & 2014 & BUCKEYE DEVELOPMENT \\& LOGISTICS, LLC       & 1220.779\\\\\n",
       "\t 30829 & 2017 & ENTERPRISE CRUDE PIPELINE LLC              & 1191.397\\\\\n",
       "\t 12628 & 2013 & MOBIL  PIPE  LINE COMPANY                  & 1060.990\\\\\n",
       "\t 39205 & 2018 & DAPL-ETCO OPERATIONS MANAGEMENT, LLC       &  950.640\\\\\n",
       "\t 39596 & 2018 & PERMIAN EXPRESS PARTNERS LLC               &  946.620\\\\\n",
       "\t 25146 & 2016 & EQUISTAR CHEMICALS, L.P.                   &  933.160\\\\\n",
       "\t 38933 & 2018 & TESORO LOGISTICS OPERATIONS, LLC           &  930.700\\\\\n",
       "\t 31454 & 2017 & NUSTAR LOGISTICS, L.P.                     &  901.100\\\\\n",
       "\t 31130 & 2018 & DCP MIDSTREAM                              &  828.814\\\\\n",
       "\t 31174 & 2012 & SHELL PIPELINE CO., L.P.                   &  825.400\\\\\n",
       "\t 32334 & 2018 & TC OIL PIPELINE OPERATIONS INC             &  787.540\\\\\n",
       "\t 395   & 2010 & AMOCO OIL CO                               &  729.000\\\\\n",
       "\t 31666 & 2010 & ROCKY MOUNTAIN PIPELINE SYSTEM, LLC        &  723.550\\\\\n",
       "\t ⋮ & ⋮ & ⋮ & ⋮\\\\\n",
       "\t 30909 & 2018 & TRANSMONTAIGNE OPERATING COMPANY L.P.          & 108.590\\\\\n",
       "\t 32541 & 2015 & COPANO NGL SERVICES (MARKHAM), LLC             & 108.500\\\\\n",
       "\t 31579 & 2018 & MAGELLAN PIPELINES HOLDINGS, LP                & 108.210\\\\\n",
       "\t 32679 & 2015 & PARKWAY PIPELINE LLC                           & 107.270\\\\\n",
       "\t 39401 & 2018 & GREAT SALT PLAINS PIPELINE LLC                 & 105.950\\\\\n",
       "\t 473   & 2018 & ANADARKO PETROLEUM CORP                        & 105.130\\\\\n",
       "\t 15851 & 2010 & DELEK MARKETING AND SUPPLY, LP                 & 105.000\\\\\n",
       "\t 26061 & 2018 & DELEK CRUDE LOGISTICS, LLC.                    & 104.150\\\\\n",
       "\t 32246 & 2010 & LDH ENERGY MONT BELVIEU L.P.                   & 102.460\\\\\n",
       "\t 32407 & 2015 & GENESIS PIPELINE TEXAS, L.P.                   & 101.140\\\\\n",
       "\t 26099 & 2010 & TAMPA BAY PIPELINE CO.                         & 101.100\\\\\n",
       "\t 32632 & 2014 & JP ENERGY MARKETING, LLC                       &  99.170\\\\\n",
       "\t 39080 & 2016 & GLASS MOUNTAIN PIPELINE                        &  98.830\\\\\n",
       "\t 39774 & 2017 & GLASS MOUNTAIN PIPELINE, LLC                   &  98.830\\\\\n",
       "\t 30777 & 2018 & MOTIVA ENTERPRISE LLC                          &  97.490\\\\\n",
       "\t 39347 & 2017 & ILLINOIS EXTENSION PIPELINE COMPANY, L.L.C.    &  97.000\\\\\n",
       "\t 39535 & 2016 & TORRANCE PIPELINE COMPANY LLC                  &  96.673\\\\\n",
       "\t 39348 & 2016 & NUSTAR PERMIAN TRANSPORTATION AND STORAGE, LLC &  95.400\\\\\n",
       "\t 31555 & 2014 & KINDER MORGAN CO2 CO. LP                       &  94.000\\\\\n",
       "\t 31878 & 2014 & BRIDGER PIPELINE LLC                           &  92.000\\\\\n",
       "\t 32619 & 2018 & HILAND CRUDE, LLC                              &  91.960\\\\\n",
       "\t 39440 & 2018 & DOUBLE H                                       &  91.760\\\\\n",
       "\t 32283 & 2018 & FRONT RANGE PIPELINE, LLC.                     &  91.570\\\\\n",
       "\t 26041 & 2016 & KINDER MORGAN LIQUID TERMINALS, LLC            &  91.360\\\\\n",
       "\t 31610 & 2012 & BP WEST COAST PRODUCTS L.L.C.                  &  91.000\\\\\n",
       "\t 39841 & 2018 & RED BUTTE PIPELINE LLC                         &  90.600\\\\\n",
       "\t 39848 & 2018 & LAMBDA ENERGY RESOURCES LLC                    &  89.500\\\\\n",
       "\t 32543 & 2017 & DENBURY GREEN PIPELINE-TEXAS, LLC              &  89.420\\\\\n",
       "\t 31448 & 2017 & ENBRIDGE PIPELINES (TOLEDO) INC                &  89.000\\\\\n",
       "\t 31663 & 2015 & NAVAJO NATION OIL AND GAS COMPANY              &  87.510\\\\\n",
       "\\end{tabular}\n"
      ],
      "text/markdown": [
       "\n",
       "A tibble: 150 × 4\n",
       "\n",
       "| OPERATOR_ID &lt;chr&gt; | YEAR &lt;dbl&gt; | NAME &lt;chr&gt; | TOTAL_MILES &lt;dbl&gt; |\n",
       "|---|---|---|---|\n",
       "| 31618 | 2018 | ENTERPRISE PRODUCTS OPERATING LLC          | 8311.369 |\n",
       "| 32109 | 2018 | ONEOK NGL PIPELINE, LLC                    | 4756.610 |\n",
       "| 22610 | 2014 | MAGELLAN PIPELINE COMPANY, LP              | 4505.500 |\n",
       "| 2552  | 2015 | COLONIAL PIPELINE CO                       | 4500.920 |\n",
       "| 31684 | 2017 | PHILLIPS 66 PIPELINE LLC                   | 4474.100 |\n",
       "| 1845  | 2015 | BUCKEYE PARTNERS, LP                       | 4298.290 |\n",
       "| 18718 | 2010 | SUNOCO PIPELINE L.P.                       | 3466.740 |\n",
       "| 22855 | 2013 | FLINT HILLS RESOURCES, LC                  | 2757.450 |\n",
       "| 10012 | 2018 | NUSTAR PIPELINE OPERATING PARTNERSHIP L.P. | 2645.300 |\n",
       "| 15674 | 2016 | PLANTATION PIPE LINE CO                    | 2564.730 |\n",
       "| 11169 | 2017 | ENBRIDGE ENERGY, LIMITED PARTNERSHIP       | 2460.000 |\n",
       "| 32147 | 2013 | MARATHON PIPE LINE LLC                     | 2450.100 |\n",
       "| 4906  | 2013 | EXXONMOBIL PIPELINE CO                     | 2053.100 |\n",
       "| 18092 | 2014 | SFPP, LP                                   | 1786.460 |\n",
       "| 2731  | 2012 | CHEVRON PIPE LINE CO                       | 1418.900 |\n",
       "| 4805  | 2016 | EXPLORER PIPELINE CO                       | 1388.070 |\n",
       "| 32099 | 2017 | ENERGY TRANSFER COMPANY                    | 1310.000 |\n",
       "| 31371 | 2014 | BUCKEYE DEVELOPMENT &amp; LOGISTICS, LLC       | 1220.779 |\n",
       "| 30829 | 2017 | ENTERPRISE CRUDE PIPELINE LLC              | 1191.397 |\n",
       "| 12628 | 2013 | MOBIL  PIPE  LINE COMPANY                  | 1060.990 |\n",
       "| 39205 | 2018 | DAPL-ETCO OPERATIONS MANAGEMENT, LLC       |  950.640 |\n",
       "| 39596 | 2018 | PERMIAN EXPRESS PARTNERS LLC               |  946.620 |\n",
       "| 25146 | 2016 | EQUISTAR CHEMICALS, L.P.                   |  933.160 |\n",
       "| 38933 | 2018 | TESORO LOGISTICS OPERATIONS, LLC           |  930.700 |\n",
       "| 31454 | 2017 | NUSTAR LOGISTICS, L.P.                     |  901.100 |\n",
       "| 31130 | 2018 | DCP MIDSTREAM                              |  828.814 |\n",
       "| 31174 | 2012 | SHELL PIPELINE CO., L.P.                   |  825.400 |\n",
       "| 32334 | 2018 | TC OIL PIPELINE OPERATIONS INC             |  787.540 |\n",
       "| 395   | 2010 | AMOCO OIL CO                               |  729.000 |\n",
       "| 31666 | 2010 | ROCKY MOUNTAIN PIPELINE SYSTEM, LLC        |  723.550 |\n",
       "| ⋮ | ⋮ | ⋮ | ⋮ |\n",
       "| 30909 | 2018 | TRANSMONTAIGNE OPERATING COMPANY L.P.          | 108.590 |\n",
       "| 32541 | 2015 | COPANO NGL SERVICES (MARKHAM), LLC             | 108.500 |\n",
       "| 31579 | 2018 | MAGELLAN PIPELINES HOLDINGS, LP                | 108.210 |\n",
       "| 32679 | 2015 | PARKWAY PIPELINE LLC                           | 107.270 |\n",
       "| 39401 | 2018 | GREAT SALT PLAINS PIPELINE LLC                 | 105.950 |\n",
       "| 473   | 2018 | ANADARKO PETROLEUM CORP                        | 105.130 |\n",
       "| 15851 | 2010 | DELEK MARKETING AND SUPPLY, LP                 | 105.000 |\n",
       "| 26061 | 2018 | DELEK CRUDE LOGISTICS, LLC.                    | 104.150 |\n",
       "| 32246 | 2010 | LDH ENERGY MONT BELVIEU L.P.                   | 102.460 |\n",
       "| 32407 | 2015 | GENESIS PIPELINE TEXAS, L.P.                   | 101.140 |\n",
       "| 26099 | 2010 | TAMPA BAY PIPELINE CO.                         | 101.100 |\n",
       "| 32632 | 2014 | JP ENERGY MARKETING, LLC                       |  99.170 |\n",
       "| 39080 | 2016 | GLASS MOUNTAIN PIPELINE                        |  98.830 |\n",
       "| 39774 | 2017 | GLASS MOUNTAIN PIPELINE, LLC                   |  98.830 |\n",
       "| 30777 | 2018 | MOTIVA ENTERPRISE LLC                          |  97.490 |\n",
       "| 39347 | 2017 | ILLINOIS EXTENSION PIPELINE COMPANY, L.L.C.    |  97.000 |\n",
       "| 39535 | 2016 | TORRANCE PIPELINE COMPANY LLC                  |  96.673 |\n",
       "| 39348 | 2016 | NUSTAR PERMIAN TRANSPORTATION AND STORAGE, LLC |  95.400 |\n",
       "| 31555 | 2014 | KINDER MORGAN CO2 CO. LP                       |  94.000 |\n",
       "| 31878 | 2014 | BRIDGER PIPELINE LLC                           |  92.000 |\n",
       "| 32619 | 2018 | HILAND CRUDE, LLC                              |  91.960 |\n",
       "| 39440 | 2018 | DOUBLE H                                       |  91.760 |\n",
       "| 32283 | 2018 | FRONT RANGE PIPELINE, LLC.                     |  91.570 |\n",
       "| 26041 | 2016 | KINDER MORGAN LIQUID TERMINALS, LLC            |  91.360 |\n",
       "| 31610 | 2012 | BP WEST COAST PRODUCTS L.L.C.                  |  91.000 |\n",
       "| 39841 | 2018 | RED BUTTE PIPELINE LLC                         |  90.600 |\n",
       "| 39848 | 2018 | LAMBDA ENERGY RESOURCES LLC                    |  89.500 |\n",
       "| 32543 | 2017 | DENBURY GREEN PIPELINE-TEXAS, LLC              |  89.420 |\n",
       "| 31448 | 2017 | ENBRIDGE PIPELINES (TOLEDO) INC                |  89.000 |\n",
       "| 31663 | 2015 | NAVAJO NATION OIL AND GAS COMPANY              |  87.510 |\n",
       "\n"
      ],
      "text/plain": [
       "    OPERATOR_ID YEAR NAME                                           TOTAL_MILES\n",
       "1   31618       2018 ENTERPRISE PRODUCTS OPERATING LLC              8311.369   \n",
       "2   32109       2018 ONEOK NGL PIPELINE, LLC                        4756.610   \n",
       "3   22610       2014 MAGELLAN PIPELINE COMPANY, LP                  4505.500   \n",
       "4   2552        2015 COLONIAL PIPELINE CO                           4500.920   \n",
       "5   31684       2017 PHILLIPS 66 PIPELINE LLC                       4474.100   \n",
       "6   1845        2015 BUCKEYE PARTNERS, LP                           4298.290   \n",
       "7   18718       2010 SUNOCO PIPELINE L.P.                           3466.740   \n",
       "8   22855       2013 FLINT HILLS RESOURCES, LC                      2757.450   \n",
       "9   10012       2018 NUSTAR PIPELINE OPERATING PARTNERSHIP L.P.     2645.300   \n",
       "10  15674       2016 PLANTATION PIPE LINE CO                        2564.730   \n",
       "11  11169       2017 ENBRIDGE ENERGY, LIMITED PARTNERSHIP           2460.000   \n",
       "12  32147       2013 MARATHON PIPE LINE LLC                         2450.100   \n",
       "13  4906        2013 EXXONMOBIL PIPELINE CO                         2053.100   \n",
       "14  18092       2014 SFPP, LP                                       1786.460   \n",
       "15  2731        2012 CHEVRON PIPE LINE CO                           1418.900   \n",
       "16  4805        2016 EXPLORER PIPELINE CO                           1388.070   \n",
       "17  32099       2017 ENERGY TRANSFER COMPANY                        1310.000   \n",
       "18  31371       2014 BUCKEYE DEVELOPMENT & LOGISTICS, LLC           1220.779   \n",
       "19  30829       2017 ENTERPRISE CRUDE PIPELINE LLC                  1191.397   \n",
       "20  12628       2013 MOBIL  PIPE  LINE COMPANY                      1060.990   \n",
       "21  39205       2018 DAPL-ETCO OPERATIONS MANAGEMENT, LLC            950.640   \n",
       "22  39596       2018 PERMIAN EXPRESS PARTNERS LLC                    946.620   \n",
       "23  25146       2016 EQUISTAR CHEMICALS, L.P.                        933.160   \n",
       "24  38933       2018 TESORO LOGISTICS OPERATIONS, LLC                930.700   \n",
       "25  31454       2017 NUSTAR LOGISTICS, L.P.                          901.100   \n",
       "26  31130       2018 DCP MIDSTREAM                                   828.814   \n",
       "27  31174       2012 SHELL PIPELINE CO., L.P.                        825.400   \n",
       "28  32334       2018 TC OIL PIPELINE OPERATIONS INC                  787.540   \n",
       "29  395         2010 AMOCO OIL CO                                    729.000   \n",
       "30  31666       2010 ROCKY MOUNTAIN PIPELINE SYSTEM, LLC             723.550   \n",
       "⋮   ⋮           ⋮    ⋮                                              ⋮          \n",
       "121 30909       2018 TRANSMONTAIGNE OPERATING COMPANY L.P.          108.590    \n",
       "122 32541       2015 COPANO NGL SERVICES (MARKHAM), LLC             108.500    \n",
       "123 31579       2018 MAGELLAN PIPELINES HOLDINGS, LP                108.210    \n",
       "124 32679       2015 PARKWAY PIPELINE LLC                           107.270    \n",
       "125 39401       2018 GREAT SALT PLAINS PIPELINE LLC                 105.950    \n",
       "126 473         2018 ANADARKO PETROLEUM CORP                        105.130    \n",
       "127 15851       2010 DELEK MARKETING AND SUPPLY, LP                 105.000    \n",
       "128 26061       2018 DELEK CRUDE LOGISTICS, LLC.                    104.150    \n",
       "129 32246       2010 LDH ENERGY MONT BELVIEU L.P.                   102.460    \n",
       "130 32407       2015 GENESIS PIPELINE TEXAS, L.P.                   101.140    \n",
       "131 26099       2010 TAMPA BAY PIPELINE CO.                         101.100    \n",
       "132 32632       2014 JP ENERGY MARKETING, LLC                        99.170    \n",
       "133 39080       2016 GLASS MOUNTAIN PIPELINE                         98.830    \n",
       "134 39774       2017 GLASS MOUNTAIN PIPELINE, LLC                    98.830    \n",
       "135 30777       2018 MOTIVA ENTERPRISE LLC                           97.490    \n",
       "136 39347       2017 ILLINOIS EXTENSION PIPELINE COMPANY, L.L.C.     97.000    \n",
       "137 39535       2016 TORRANCE PIPELINE COMPANY LLC                   96.673    \n",
       "138 39348       2016 NUSTAR PERMIAN TRANSPORTATION AND STORAGE, LLC  95.400    \n",
       "139 31555       2014 KINDER MORGAN CO2 CO. LP                        94.000    \n",
       "140 31878       2014 BRIDGER PIPELINE LLC                            92.000    \n",
       "141 32619       2018 HILAND CRUDE, LLC                               91.960    \n",
       "142 39440       2018 DOUBLE H                                        91.760    \n",
       "143 32283       2018 FRONT RANGE PIPELINE, LLC.                      91.570    \n",
       "144 26041       2016 KINDER MORGAN LIQUID TERMINALS, LLC             91.360    \n",
       "145 31610       2012 BP WEST COAST PRODUCTS L.L.C.                   91.000    \n",
       "146 39841       2018 RED BUTTE PIPELINE LLC                          90.600    \n",
       "147 39848       2018 LAMBDA ENERGY RESOURCES LLC                     89.500    \n",
       "148 32543       2017 DENBURY GREEN PIPELINE-TEXAS, LLC               89.420    \n",
       "149 31448       2017 ENBRIDGE PIPELINES (TOLEDO) INC                 89.000    \n",
       "150 31663       2015 NAVAJO NATION OIL AND GAS COMPANY               87.510    "
      ]
     },
     "metadata": {},
     "output_type": "display_data"
    }
   ],
   "source": [
    "largest_pipeline_operators <- pipelines_2010 %>%\n",
    "    group_by(OPERATOR_ID, COMMODITY) %>%\n",
    "    mutate(max_offshore = max(PERC_OFFSHORE)) %>%\n",
    "    filter(max_offshore == 0) %>%\n",
    "    # Make sure we retrieve the latestb name, no matter what year has to most extensive pipeline network\n",
    "    arrange(desc(YEAR)) %>%\n",
    "    mutate(NAME = first(NAME)) %>%\n",
    "    group_by(OPERATOR_ID, YEAR) %>%\n",
    "    summarize(NAME = first(NAME), TOTAL_MILES = sum(MILES)) %>%\n",
    "    group_by(OPERATOR_ID) %>%\n",
    "    top_n(1, TOTAL_MILES) %>%\n",
    "    # Year as tie breaker\n",
    "    top_n(1, YEAR) %>%\n",
    "    ungroup() %>%\n",
    "    arrange(desc(TOTAL_MILES))\n",
    "\n",
    "head(largest_pipeline_operators, 150)"
   ]
  },
  {
   "cell_type": "markdown",
   "metadata": {},
   "source": [
    "## 5.2 Save result"
   ]
  },
  {
   "cell_type": "code",
   "execution_count": 11,
   "metadata": {},
   "outputs": [],
   "source": [
    "feather::write_feather(largest_pipeline_operators, paste0(\"../preprocessed_data/largest_companies_\", Sys.Date(), \".feather\"))"
   ]
  },
  {
   "cell_type": "markdown",
   "metadata": {},
   "source": [
    "We also write the results to .csv, in order to add the parent company names. This column, we add as empty for now."
   ]
  },
  {
   "cell_type": "code",
   "execution_count": 12,
   "metadata": {},
   "outputs": [],
   "source": [
    "largest_pipeline_operators$PARENT <- NA"
   ]
  },
  {
   "cell_type": "code",
   "execution_count": 13,
   "metadata": {},
   "outputs": [],
   "source": [
    "readr::write_csv(largest_pipeline_operators, paste0(\"../input/largest_companies_raw_\", Sys.Date(), \".csv\"))"
   ]
  },
  {
   "cell_type": "code",
   "execution_count": null,
   "metadata": {},
   "outputs": [],
   "source": []
  }
 ],
 "metadata": {
  "kernelspec": {
   "display_name": "R 3.6.1",
   "language": "R",
   "name": "ir361"
  },
  "language_info": {
   "codemirror_mode": "r",
   "file_extension": ".r",
   "mimetype": "text/x-r-source",
   "name": "R",
   "pygments_lexer": "r",
   "version": "3.6.1"
  }
 },
 "nbformat": 4,
 "nbformat_minor": 4
}
