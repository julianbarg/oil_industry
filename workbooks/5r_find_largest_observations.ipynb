{
 "cells": [
  {
   "cell_type": "markdown",
   "metadata": {},
   "source": [
    "# 5. Find largest observations (R)"
   ]
  },
  {
   "cell_type": "code",
   "execution_count": 1,
   "metadata": {},
   "outputs": [
    {
     "name": "stderr",
     "output_type": "stream",
     "text": [
      "Registered S3 methods overwritten by 'ggplot2':\n",
      "  method         from \n",
      "  [.quosures     rlang\n",
      "  c.quosures     rlang\n",
      "  print.quosures rlang\n",
      "Registered S3 method overwritten by 'rvest':\n",
      "  method            from\n",
      "  read_xml.response xml2\n",
      "── \u001b[1mAttaching packages\u001b[22m ─────────────────────────────────────── tidyverse 1.2.1 ──\n",
      "\u001b[32m✔\u001b[39m \u001b[34mggplot2\u001b[39m 3.1.1       \u001b[32m✔\u001b[39m \u001b[34mpurrr  \u001b[39m 0.3.2  \n",
      "\u001b[32m✔\u001b[39m \u001b[34mtibble \u001b[39m 2.1.1       \u001b[32m✔\u001b[39m \u001b[34mdplyr  \u001b[39m 0.8.0.\u001b[31m1\u001b[39m\n",
      "\u001b[32m✔\u001b[39m \u001b[34mtidyr  \u001b[39m 0.8.3       \u001b[32m✔\u001b[39m \u001b[34mstringr\u001b[39m 1.4.0  \n",
      "\u001b[32m✔\u001b[39m \u001b[34mreadr  \u001b[39m 1.3.1       \u001b[32m✔\u001b[39m \u001b[34mforcats\u001b[39m 0.4.0  \n",
      "── \u001b[1mConflicts\u001b[22m ────────────────────────────────────────── tidyverse_conflicts() ──\n",
      "\u001b[31m✖\u001b[39m \u001b[34mdplyr\u001b[39m::\u001b[32mfilter()\u001b[39m masks \u001b[34mstats\u001b[39m::filter()\n",
      "\u001b[31m✖\u001b[39m \u001b[34mdplyr\u001b[39m::\u001b[32mlag()\u001b[39m    masks \u001b[34mstats\u001b[39m::lag()\n"
     ]
    }
   ],
   "source": [
    "library(tidyverse)"
   ]
  },
  {
   "cell_type": "code",
   "execution_count": 2,
   "metadata": {},
   "outputs": [],
   "source": [
    "pipelines_2010_selected_file = \"../preprocessed_data/pipelines_2010_selected_2019-08-21.feather\""
   ]
  },
  {
   "cell_type": "markdown",
   "metadata": {},
   "source": [
    "## Load data"
   ]
  },
  {
   "cell_type": "code",
   "execution_count": 3,
   "metadata": {},
   "outputs": [
    {
     "name": "stderr",
     "output_type": "stream",
     "text": [
      "Warning message:\n",
      "“Coercing int64 to double”"
     ]
    },
    {
     "name": "stdout",
     "output_type": "stream",
     "text": [
      "Observations: 5,294\n",
      "Variables: 19\n",
      "$ OPERATOR_ID       \u001b[3m\u001b[38;5;246m<chr>\u001b[39m\u001b[23m \"300\", \"300\", \"300\", \"395\", \"402\", \"473\", \"473\", \"5…\n",
      "$ YEAR              \u001b[3m\u001b[38;5;246m<dbl>\u001b[39m\u001b[23m 2017, 2017, 2017, 2017, 2017, 2017, 2017, 2017, 201…\n",
      "$ NAME              \u001b[3m\u001b[38;5;246m<chr>\u001b[39m\u001b[23m \"PLAINS PIPELINE, L.P.\", \"PLAINS PIPELINE, L.P.\", \"…\n",
      "$ COMMODITY         \u001b[3m\u001b[38;5;246m<chr>\u001b[39m\u001b[23m \"Crude Oil\", \"HVL\", \"Refined and/or Petroleum Produ…\n",
      "$ MILES             \u001b[3m\u001b[38;5;246m<dbl>\u001b[39m\u001b[23m 2101.060, 72.900, 0.000, 662.300, 1.550, 12.000, 0.…\n",
      "$ AGE_UNKNOWN_MILES \u001b[3m\u001b[38;5;246m<dbl>\u001b[39m\u001b[23m 0.000, 0.000, 0.000, 0.000, 0.000, 0.000, 0.000, 0.…\n",
      "$ PRE_1940_MILES    \u001b[3m\u001b[38;5;246m<dbl>\u001b[39m\u001b[23m 57.450, 0.000, 3.720, 0.600, 0.000, 0.000, 0.000, 0…\n",
      "$ `1940_MILES`      \u001b[3m\u001b[38;5;246m<dbl>\u001b[39m\u001b[23m 739.300, 0.000, 0.000, 15.000, 0.000, 0.000, 0.000,…\n",
      "$ `1950_MILES`      \u001b[3m\u001b[38;5;246m<dbl>\u001b[39m\u001b[23m 356.710, 0.000, 0.000, 0.000, 0.000, 0.000, 0.000, …\n",
      "$ `1960_MILES`      \u001b[3m\u001b[38;5;246m<dbl>\u001b[39m\u001b[23m 647.640, 0.000, 0.000, 0.900, 0.000, 43.000, 0.000,…\n",
      "$ `1970_MILES`      \u001b[3m\u001b[38;5;246m<dbl>\u001b[39m\u001b[23m 270.270, 0.000, 0.000, 1.500, 0.000, 4.000, 0.000, …\n",
      "$ `1980_MILES`      \u001b[3m\u001b[38;5;246m<dbl>\u001b[39m\u001b[23m 93.110, 0.000, 0.000, 18.500, 0.000, 0.000, 2.000, …\n",
      "$ `1990_MILES`      \u001b[3m\u001b[38;5;246m<dbl>\u001b[39m\u001b[23m 486.310, 0.010, 0.000, 58.200, 0.000, 0.000, 2.000,…\n",
      "$ `2000_MILES`      \u001b[3m\u001b[38;5;246m<dbl>\u001b[39m\u001b[23m 448.780, 0.000, 0.000, 5.100, 49.300, 0.000, 16.500…\n",
      "$ `2010_MILES`      \u001b[3m\u001b[38;5;246m<dbl>\u001b[39m\u001b[23m 3107.930, 47.920, 0.000, 0.700, 0.000, 121.250, 26.…\n",
      "$ OFFSHORE_MILES    \u001b[3m\u001b[38;5;246m<dbl>\u001b[39m\u001b[23m 0, 0, 0, 0, 0, 0, 0, 0, 0, 0, 0, 0, 0, 0, 0, 0, 0, …\n",
      "$ TOTAL_MILES       \u001b[3m\u001b[38;5;246m<dbl>\u001b[39m\u001b[23m 2101.060, 72.900, 0.000, 662.300, 1.550, 12.000, 0.…\n",
      "$ PERC_OFFSHORE     \u001b[3m\u001b[38;5;246m<dbl>\u001b[39m\u001b[23m 0, 0, 0, 0, 0, 0, 0, 0, 0, 0, 0, 0, 0, 0, 0, 0, 0, …\n",
      "$ AVG_AGE           \u001b[3m\u001b[38;5;246m<dbl>\u001b[39m\u001b[23m 27.269344, 5.004173, 90.000000, 34.611940, 15.00000…\n"
     ]
    }
   ],
   "source": [
    "pipelines_2010 <- feather::read_feather(pipelines_2010_selected_file)\n",
    "glimpse(pipelines_2010)"
   ]
  },
  {
   "cell_type": "markdown",
   "metadata": {},
   "source": [
    "## 5.1 Find largest observations"
   ]
  },
  {
   "cell_type": "markdown",
   "metadata": {},
   "source": [
    "Ensure that we don't remove too many observations."
   ]
  },
  {
   "cell_type": "code",
   "execution_count": 4,
   "metadata": {},
   "outputs": [
    {
     "data": {
      "text/html": [
       "699"
      ],
      "text/latex": [
       "699"
      ],
      "text/markdown": [
       "699"
      ],
      "text/plain": [
       "[1] 699"
      ]
     },
     "metadata": {},
     "output_type": "display_data"
    }
   ],
   "source": [
    "length(unique(pipelines_2010$OPERATOR_ID))"
   ]
  },
  {
   "cell_type": "code",
   "execution_count": 5,
   "metadata": {},
   "outputs": [
    {
     "data": {
      "text/html": [
       "653"
      ],
      "text/latex": [
       "653"
      ],
      "text/markdown": [
       "653"
      ],
      "text/plain": [
       "[1] 653"
      ]
     },
     "metadata": {},
     "output_type": "display_data"
    }
   ],
   "source": [
    "pipelines_2010 %>%\n",
    "    group_by(OPERATOR_ID) %>%\n",
    "    mutate(max_offshore = max(PERC_OFFSHORE)) %>%\n",
    "    filter(max_offshore == 0) %>%\n",
    "    ungroup() %>%\n",
    "    {length(unique(.$OPERATOR_ID))}"
   ]
  },
  {
   "cell_type": "markdown",
   "metadata": {},
   "source": [
    "Although it is not the exact number I expected, it is approximately correct."
   ]
  },
  {
   "cell_type": "code",
   "execution_count": 6,
   "metadata": {},
   "outputs": [
    {
     "data": {
      "text/html": [
       "<table>\n",
       "<caption>A tibble: 10 × 5</caption>\n",
       "<thead>\n",
       "\t<tr><th scope=col>OPERATOR_ID</th><th scope=col>YEAR</th><th scope=col>NAME</th><th scope=col>COMMODITY</th><th scope=col>MILES</th></tr>\n",
       "\t<tr><th scope=col>&lt;chr&gt;</th><th scope=col>&lt;dbl&gt;</th><th scope=col>&lt;chr&gt;</th><th scope=col>&lt;chr&gt;</th><th scope=col>&lt;dbl&gt;</th></tr>\n",
       "</thead>\n",
       "<tbody>\n",
       "\t<tr><td>32109</td><td>2018</td><td>ONEOK NGL PIPELINE, LLC                   </td><td>HVL                                       </td><td>4531.48</td></tr>\n",
       "\t<tr><td>2552 </td><td>2015</td><td>COLONIAL PIPELINE CO                      </td><td>Refined and/or Petroleum Product (non-HVL)</td><td>4500.92</td></tr>\n",
       "\t<tr><td>1845 </td><td>2015</td><td>BUCKEYE PARTNERS, LP                      </td><td>Refined and/or Petroleum Product (non-HVL)</td><td>4266.43</td></tr>\n",
       "\t<tr><td>22610</td><td>2018</td><td>MAGELLAN PIPELINE COMPANY, LP             </td><td>Refined and/or Petroleum Product (non-HVL)</td><td>3926.40</td></tr>\n",
       "\t<tr><td>15674</td><td>2016</td><td>PLANTATION PIPE LINE CO                   </td><td>Refined and/or Petroleum Product (non-HVL)</td><td>2564.73</td></tr>\n",
       "\t<tr><td>11169</td><td>2017</td><td>ENBRIDGE ENERGY, LIMITED PARTNERSHIP      </td><td>Crude Oil                                 </td><td>2290.00</td></tr>\n",
       "\t<tr><td>31684</td><td>2010</td><td>CONOCOPHILLIPS                            </td><td>Refined and/or Petroleum Product (non-HVL)</td><td>2283.79</td></tr>\n",
       "\t<tr><td>18092</td><td>2014</td><td>SFPP, LP                                  </td><td>Refined and/or Petroleum Product (non-HVL)</td><td>1786.46</td></tr>\n",
       "\t<tr><td>10012</td><td>2018</td><td>NUSTAR PIPELINE OPERATING PARTNERSHIP L.P.</td><td>HVL                                       </td><td>1781.60</td></tr>\n",
       "\t<tr><td>18718</td><td>2016</td><td>SUNOCO PIPELINE L.P.                      </td><td>Crude Oil                                 </td><td>1711.93</td></tr>\n",
       "</tbody>\n",
       "</table>\n"
      ],
      "text/latex": [
       "A tibble: 10 × 5\n",
       "\\begin{tabular}{r|lllll}\n",
       " OPERATOR\\_ID & YEAR & NAME & COMMODITY & MILES\\\\\n",
       " <chr> & <dbl> & <chr> & <chr> & <dbl>\\\\\n",
       "\\hline\n",
       "\t 32109 & 2018 & ONEOK NGL PIPELINE, LLC                    & HVL                                        & 4531.48\\\\\n",
       "\t 2552  & 2015 & COLONIAL PIPELINE CO                       & Refined and/or Petroleum Product (non-HVL) & 4500.92\\\\\n",
       "\t 1845  & 2015 & BUCKEYE PARTNERS, LP                       & Refined and/or Petroleum Product (non-HVL) & 4266.43\\\\\n",
       "\t 22610 & 2018 & MAGELLAN PIPELINE COMPANY, LP              & Refined and/or Petroleum Product (non-HVL) & 3926.40\\\\\n",
       "\t 15674 & 2016 & PLANTATION PIPE LINE CO                    & Refined and/or Petroleum Product (non-HVL) & 2564.73\\\\\n",
       "\t 11169 & 2017 & ENBRIDGE ENERGY, LIMITED PARTNERSHIP       & Crude Oil                                  & 2290.00\\\\\n",
       "\t 31684 & 2010 & CONOCOPHILLIPS                             & Refined and/or Petroleum Product (non-HVL) & 2283.79\\\\\n",
       "\t 18092 & 2014 & SFPP, LP                                   & Refined and/or Petroleum Product (non-HVL) & 1786.46\\\\\n",
       "\t 10012 & 2018 & NUSTAR PIPELINE OPERATING PARTNERSHIP L.P. & HVL                                        & 1781.60\\\\\n",
       "\t 18718 & 2016 & SUNOCO PIPELINE L.P.                       & Crude Oil                                  & 1711.93\\\\\n",
       "\\end{tabular}\n"
      ],
      "text/markdown": [
       "\n",
       "A tibble: 10 × 5\n",
       "\n",
       "| OPERATOR_ID &lt;chr&gt; | YEAR &lt;dbl&gt; | NAME &lt;chr&gt; | COMMODITY &lt;chr&gt; | MILES &lt;dbl&gt; |\n",
       "|---|---|---|---|---|\n",
       "| 32109 | 2018 | ONEOK NGL PIPELINE, LLC                    | HVL                                        | 4531.48 |\n",
       "| 2552  | 2015 | COLONIAL PIPELINE CO                       | Refined and/or Petroleum Product (non-HVL) | 4500.92 |\n",
       "| 1845  | 2015 | BUCKEYE PARTNERS, LP                       | Refined and/or Petroleum Product (non-HVL) | 4266.43 |\n",
       "| 22610 | 2018 | MAGELLAN PIPELINE COMPANY, LP              | Refined and/or Petroleum Product (non-HVL) | 3926.40 |\n",
       "| 15674 | 2016 | PLANTATION PIPE LINE CO                    | Refined and/or Petroleum Product (non-HVL) | 2564.73 |\n",
       "| 11169 | 2017 | ENBRIDGE ENERGY, LIMITED PARTNERSHIP       | Crude Oil                                  | 2290.00 |\n",
       "| 31684 | 2010 | CONOCOPHILLIPS                             | Refined and/or Petroleum Product (non-HVL) | 2283.79 |\n",
       "| 18092 | 2014 | SFPP, LP                                   | Refined and/or Petroleum Product (non-HVL) | 1786.46 |\n",
       "| 10012 | 2018 | NUSTAR PIPELINE OPERATING PARTNERSHIP L.P. | HVL                                        | 1781.60 |\n",
       "| 18718 | 2016 | SUNOCO PIPELINE L.P.                       | Crude Oil                                  | 1711.93 |\n",
       "\n"
      ],
      "text/plain": [
       "   OPERATOR_ID YEAR NAME                                      \n",
       "1  32109       2018 ONEOK NGL PIPELINE, LLC                   \n",
       "2  2552        2015 COLONIAL PIPELINE CO                      \n",
       "3  1845        2015 BUCKEYE PARTNERS, LP                      \n",
       "4  22610       2018 MAGELLAN PIPELINE COMPANY, LP             \n",
       "5  15674       2016 PLANTATION PIPE LINE CO                   \n",
       "6  11169       2017 ENBRIDGE ENERGY, LIMITED PARTNERSHIP      \n",
       "7  31684       2010 CONOCOPHILLIPS                            \n",
       "8  18092       2014 SFPP, LP                                  \n",
       "9  10012       2018 NUSTAR PIPELINE OPERATING PARTNERSHIP L.P.\n",
       "10 18718       2016 SUNOCO PIPELINE L.P.                      \n",
       "   COMMODITY                                  MILES  \n",
       "1  HVL                                        4531.48\n",
       "2  Refined and/or Petroleum Product (non-HVL) 4500.92\n",
       "3  Refined and/or Petroleum Product (non-HVL) 4266.43\n",
       "4  Refined and/or Petroleum Product (non-HVL) 3926.40\n",
       "5  Refined and/or Petroleum Product (non-HVL) 2564.73\n",
       "6  Crude Oil                                  2290.00\n",
       "7  Refined and/or Petroleum Product (non-HVL) 2283.79\n",
       "8  Refined and/or Petroleum Product (non-HVL) 1786.46\n",
       "9  HVL                                        1781.60\n",
       "10 Crude Oil                                  1711.93"
      ]
     },
     "metadata": {},
     "output_type": "display_data"
    }
   ],
   "source": [
    "pipelines_2010 %>%\n",
    "    group_by(OPERATOR_ID) %>%\n",
    "    mutate(max_offshore = max(PERC_OFFSHORE)) %>%\n",
    "    filter(max_offshore == 0) %>%\n",
    "    top_n(1, MILES) %>%\n",
    "    ungroup() %>%\n",
    "    select(OPERATOR_ID, YEAR, NAME, COMMODITY, MILES) %>%\n",
    "    top_n(10, MILES) %>%\n",
    "    arrange(desc(MILES))"
   ]
  },
  {
   "cell_type": "markdown",
   "metadata": {},
   "source": [
    "#### Largest for the sum of all types"
   ]
  },
  {
   "cell_type": "code",
   "execution_count": 7,
   "metadata": {},
   "outputs": [
    {
     "data": {
      "text/html": [
       "<ol class=list-inline>\n",
       "\t<li>'Crude Oil'</li>\n",
       "\t<li>'HVL'</li>\n",
       "\t<li>'Refined and/or Petroleum Product (non-HVL)'</li>\n",
       "\t<li>'CO2'</li>\n",
       "\t<li>'Fuel Grade Ethanol (dedicated system)'</li>\n",
       "</ol>\n"
      ],
      "text/latex": [
       "\\begin{enumerate*}\n",
       "\\item 'Crude Oil'\n",
       "\\item 'HVL'\n",
       "\\item 'Refined and/or Petroleum Product (non-HVL)'\n",
       "\\item 'CO2'\n",
       "\\item 'Fuel Grade Ethanol (dedicated system)'\n",
       "\\end{enumerate*}\n"
      ],
      "text/markdown": [
       "1. 'Crude Oil'\n",
       "2. 'HVL'\n",
       "3. 'Refined and/or Petroleum Product (non-HVL)'\n",
       "4. 'CO2'\n",
       "5. 'Fuel Grade Ethanol (dedicated system)'\n",
       "\n",
       "\n"
      ],
      "text/plain": [
       "[1] \"Crude Oil\"                                 \n",
       "[2] \"HVL\"                                       \n",
       "[3] \"Refined and/or Petroleum Product (non-HVL)\"\n",
       "[4] \"CO2\"                                       \n",
       "[5] \"Fuel Grade Ethanol (dedicated system)\"     "
      ]
     },
     "metadata": {},
     "output_type": "display_data"
    }
   ],
   "source": [
    "unique(pipelines_2010$COMMODITY)"
   ]
  },
  {
   "cell_type": "markdown",
   "metadata": {},
   "source": [
    "Check whether any operator ID has more than the maximum of five expected entries."
   ]
  },
  {
   "cell_type": "code",
   "execution_count": 8,
   "metadata": {},
   "outputs": [
    {
     "data": {
      "text/plain": [
       "\n",
       "   1    2    3    4 \n",
       "3307  565  251   26 "
      ]
     },
     "metadata": {},
     "output_type": "display_data"
    }
   ],
   "source": [
    "pipelines_2010 %>%\n",
    "    group_by(YEAR, OPERATOR_ID) %>%\n",
    "    summarize(n = n()) %>%\n",
    "    ungroup() %>%\n",
    "    {table(.$n)}"
   ]
  },
  {
   "cell_type": "markdown",
   "metadata": {},
   "source": [
    "Everything seems to be A-Okay."
   ]
  },
  {
   "cell_type": "code",
   "execution_count": 9,
   "metadata": {},
   "outputs": [
    {
     "data": {
      "text/html": [
       "<table>\n",
       "<caption>A tibble: 50 × 4</caption>\n",
       "<thead>\n",
       "\t<tr><th scope=col>OPERATOR_ID</th><th scope=col>YEAR</th><th scope=col>NAME</th><th scope=col>TOTAL_MILES</th></tr>\n",
       "\t<tr><th scope=col>&lt;chr&gt;</th><th scope=col>&lt;dbl&gt;</th><th scope=col>&lt;chr&gt;</th><th scope=col>&lt;dbl&gt;</th></tr>\n",
       "</thead>\n",
       "<tbody>\n",
       "\t<tr><td>32109</td><td>2018</td><td>ONEOK NGL PIPELINE, LLC                    </td><td>4756.610</td></tr>\n",
       "\t<tr><td>22610</td><td>2014</td><td>MAGELLAN PIPELINE COMPANY, LP              </td><td>4505.500</td></tr>\n",
       "\t<tr><td>2552 </td><td>2015</td><td>COLONIAL PIPELINE CO                       </td><td>4500.920</td></tr>\n",
       "\t<tr><td>31684</td><td>2017</td><td>PHILLIPS 66 PIPELINE LLC                   </td><td>4474.100</td></tr>\n",
       "\t<tr><td>1845 </td><td>2015</td><td>BUCKEYE PARTNERS, LP                       </td><td>4298.290</td></tr>\n",
       "\t<tr><td>18718</td><td>2010</td><td>SUNOCO PIPELINE L.P.                       </td><td>3466.740</td></tr>\n",
       "\t<tr><td>22855</td><td>2013</td><td>FLINT HILLS RESOURCES, LC                  </td><td>2757.450</td></tr>\n",
       "\t<tr><td>10012</td><td>2018</td><td>NUSTAR PIPELINE OPERATING PARTNERSHIP L.P. </td><td>2645.300</td></tr>\n",
       "\t<tr><td>15674</td><td>2016</td><td>PLANTATION PIPE LINE CO                    </td><td>2564.730</td></tr>\n",
       "\t<tr><td>11169</td><td>2017</td><td>ENBRIDGE ENERGY, LIMITED PARTNERSHIP       </td><td>2460.000</td></tr>\n",
       "\t<tr><td>18092</td><td>2014</td><td>SFPP, LP                                   </td><td>1786.460</td></tr>\n",
       "\t<tr><td>4805 </td><td>2016</td><td>EXPLORER PIPELINE CO                       </td><td>1388.070</td></tr>\n",
       "\t<tr><td>32099</td><td>2017</td><td>ENERGY TRANSFER COMPANY                    </td><td>1310.000</td></tr>\n",
       "\t<tr><td>31371</td><td>2014</td><td><span style=white-space:pre-wrap>BUCKEYE DEVELOPMENT &amp; LOGISTICS, LLC       </span></td><td>1220.779</td></tr>\n",
       "\t<tr><td>30829</td><td>2017</td><td>ENTERPRISE CRUDE PIPELINE LLC              </td><td>1191.397</td></tr>\n",
       "\t<tr><td>12628</td><td>2013</td><td>MOBIL  PIPE  LINE COMPANY                  </td><td>1060.990</td></tr>\n",
       "\t<tr><td>39205</td><td>2018</td><td>DAPL-ETCO OPERATIONS MANAGEMENT, LLC       </td><td> 950.640</td></tr>\n",
       "\t<tr><td>39596</td><td>2018</td><td>PERMIAN EXPRESS PARTNERS LLC               </td><td> 946.620</td></tr>\n",
       "\t<tr><td>25146</td><td>2016</td><td>EQUISTAR CHEMICALS, L.P.                   </td><td> 933.160</td></tr>\n",
       "\t<tr><td>38933</td><td>2018</td><td>TESORO LOGISTICS OPERATIONS, LLC           </td><td> 930.700</td></tr>\n",
       "\t<tr><td>31454</td><td>2017</td><td>NUSTAR LOGISTICS, L.P.                     </td><td> 901.100</td></tr>\n",
       "\t<tr><td>31130</td><td>2018</td><td>DCP MIDSTREAM                              </td><td> 828.814</td></tr>\n",
       "\t<tr><td>32334</td><td>2018</td><td>TC OIL PIPELINE OPERATIONS INC             </td><td> 787.540</td></tr>\n",
       "\t<tr><td>395  </td><td>2010</td><td>AMOCO OIL CO                               </td><td> 729.000</td></tr>\n",
       "\t<tr><td>31666</td><td>2010</td><td>ROCKY MOUNTAIN PIPELINE SYSTEM, LLC        </td><td> 723.550</td></tr>\n",
       "\t<tr><td>32080</td><td>2017</td><td>CCPS TRANSPORTATION, LLC                   </td><td> 688.000</td></tr>\n",
       "\t<tr><td>12470</td><td>2015</td><td>MID - VALLEY PIPELINE CO                   </td><td> 662.000</td></tr>\n",
       "\t<tr><td>3445 </td><td>2014</td><td>DIXIE PIPELINE COMPANY LLC                 </td><td> 656.323</td></tr>\n",
       "\t<tr><td>32103</td><td>2018</td><td>CRIMSON PIPELINE L.P.                      </td><td> 628.000</td></tr>\n",
       "\t<tr><td>32258</td><td>2014</td><td>KINDER MORGAN COCHIN LLC                   </td><td> 617.260</td></tr>\n",
       "\t<tr><td>22430</td><td>2010</td><td>WEST SHORE PIPELINE CO                     </td><td> 611.440</td></tr>\n",
       "\t<tr><td>22830</td><td>2013</td><td>WOLVERINE PIPELINE CO                      </td><td> 575.940</td></tr>\n",
       "\t<tr><td>15156</td><td>2016</td><td>SINCLAIR TRANSPORTATION COMPANY            </td><td> 564.000</td></tr>\n",
       "\t<tr><td>39043</td><td>2018</td><td>TALLGRASS PONY EXPRESS PIPELINE, LLC       </td><td> 528.260</td></tr>\n",
       "\t<tr><td>32011</td><td>2017</td><td>HOLLY ENERGY PARTNERS - OPERATING, L.P.    </td><td> 522.200</td></tr>\n",
       "\t<tr><td>32502</td><td>2017</td><td>ENBRIDGE PIPELINES (SOUTHERN LIGHTS) L.L.C.</td><td> 494.000</td></tr>\n",
       "\t<tr><td>39029</td><td>2013</td><td>TESORO LOGISTICS NORTHWEST PIPELINE LLC    </td><td> 491.000</td></tr>\n",
       "\t<tr><td>30826</td><td>2011</td><td>WILLIAMS FIELD SERVICES                    </td><td> 473.500</td></tr>\n",
       "\t<tr><td>31720</td><td>2018</td><td>EXPRESS HOLDINGS (USA), LLC                </td><td> 442.540</td></tr>\n",
       "\t<tr><td>39398</td><td>2018</td><td>INEOS USA LLC                              </td><td> 408.550</td></tr>\n",
       "\t<tr><td>26125</td><td>2013</td><td>CALNEV PIPELINE CO                         </td><td> 405.890</td></tr>\n",
       "\t<tr><td>26149</td><td>2018</td><td>ALYESKA PIPELINE SERVICE CO                </td><td> 382.400</td></tr>\n",
       "\t<tr><td>30781</td><td>2017</td><td>OLYMPIC PIPE LINE COMPANY                  </td><td> 380.700</td></tr>\n",
       "\t<tr><td>31045</td><td>2010</td><td>GENESIS PIPELINE USA, L.P.                 </td><td> 376.290</td></tr>\n",
       "\t<tr><td>32683</td><td>2017</td><td>INLAND CORPORATION                         </td><td> 358.000</td></tr>\n",
       "\t<tr><td>18386</td><td>2011</td><td>BP OIL PIPELINE CO                         </td><td> 357.000</td></tr>\n",
       "\t<tr><td>32551</td><td>2016</td><td>BKEP PIPELINE, LLC                         </td><td> 341.700</td></tr>\n",
       "\t<tr><td>15485</td><td>2011</td><td>PHILLIPS 66 COMPANY - SWEENY REFINERY      </td><td> 340.237</td></tr>\n",
       "\t<tr><td>26085</td><td>2010</td><td>PLAINS MARKETING, L.P.                     </td><td> 336.270</td></tr>\n",
       "\t<tr><td>32296</td><td>2014</td><td>TARGA RESOURCES OPERATING LLC              </td><td> 326.220</td></tr>\n",
       "</tbody>\n",
       "</table>\n"
      ],
      "text/latex": [
       "A tibble: 50 × 4\n",
       "\\begin{tabular}{r|llll}\n",
       " OPERATOR\\_ID & YEAR & NAME & TOTAL\\_MILES\\\\\n",
       " <chr> & <dbl> & <chr> & <dbl>\\\\\n",
       "\\hline\n",
       "\t 32109 & 2018 & ONEOK NGL PIPELINE, LLC                     & 4756.610\\\\\n",
       "\t 22610 & 2014 & MAGELLAN PIPELINE COMPANY, LP               & 4505.500\\\\\n",
       "\t 2552  & 2015 & COLONIAL PIPELINE CO                        & 4500.920\\\\\n",
       "\t 31684 & 2017 & PHILLIPS 66 PIPELINE LLC                    & 4474.100\\\\\n",
       "\t 1845  & 2015 & BUCKEYE PARTNERS, LP                        & 4298.290\\\\\n",
       "\t 18718 & 2010 & SUNOCO PIPELINE L.P.                        & 3466.740\\\\\n",
       "\t 22855 & 2013 & FLINT HILLS RESOURCES, LC                   & 2757.450\\\\\n",
       "\t 10012 & 2018 & NUSTAR PIPELINE OPERATING PARTNERSHIP L.P.  & 2645.300\\\\\n",
       "\t 15674 & 2016 & PLANTATION PIPE LINE CO                     & 2564.730\\\\\n",
       "\t 11169 & 2017 & ENBRIDGE ENERGY, LIMITED PARTNERSHIP        & 2460.000\\\\\n",
       "\t 18092 & 2014 & SFPP, LP                                    & 1786.460\\\\\n",
       "\t 4805  & 2016 & EXPLORER PIPELINE CO                        & 1388.070\\\\\n",
       "\t 32099 & 2017 & ENERGY TRANSFER COMPANY                     & 1310.000\\\\\n",
       "\t 31371 & 2014 & BUCKEYE DEVELOPMENT \\& LOGISTICS, LLC        & 1220.779\\\\\n",
       "\t 30829 & 2017 & ENTERPRISE CRUDE PIPELINE LLC               & 1191.397\\\\\n",
       "\t 12628 & 2013 & MOBIL  PIPE  LINE COMPANY                   & 1060.990\\\\\n",
       "\t 39205 & 2018 & DAPL-ETCO OPERATIONS MANAGEMENT, LLC        &  950.640\\\\\n",
       "\t 39596 & 2018 & PERMIAN EXPRESS PARTNERS LLC                &  946.620\\\\\n",
       "\t 25146 & 2016 & EQUISTAR CHEMICALS, L.P.                    &  933.160\\\\\n",
       "\t 38933 & 2018 & TESORO LOGISTICS OPERATIONS, LLC            &  930.700\\\\\n",
       "\t 31454 & 2017 & NUSTAR LOGISTICS, L.P.                      &  901.100\\\\\n",
       "\t 31130 & 2018 & DCP MIDSTREAM                               &  828.814\\\\\n",
       "\t 32334 & 2018 & TC OIL PIPELINE OPERATIONS INC              &  787.540\\\\\n",
       "\t 395   & 2010 & AMOCO OIL CO                                &  729.000\\\\\n",
       "\t 31666 & 2010 & ROCKY MOUNTAIN PIPELINE SYSTEM, LLC         &  723.550\\\\\n",
       "\t 32080 & 2017 & CCPS TRANSPORTATION, LLC                    &  688.000\\\\\n",
       "\t 12470 & 2015 & MID - VALLEY PIPELINE CO                    &  662.000\\\\\n",
       "\t 3445  & 2014 & DIXIE PIPELINE COMPANY LLC                  &  656.323\\\\\n",
       "\t 32103 & 2018 & CRIMSON PIPELINE L.P.                       &  628.000\\\\\n",
       "\t 32258 & 2014 & KINDER MORGAN COCHIN LLC                    &  617.260\\\\\n",
       "\t 22430 & 2010 & WEST SHORE PIPELINE CO                      &  611.440\\\\\n",
       "\t 22830 & 2013 & WOLVERINE PIPELINE CO                       &  575.940\\\\\n",
       "\t 15156 & 2016 & SINCLAIR TRANSPORTATION COMPANY             &  564.000\\\\\n",
       "\t 39043 & 2018 & TALLGRASS PONY EXPRESS PIPELINE, LLC        &  528.260\\\\\n",
       "\t 32011 & 2017 & HOLLY ENERGY PARTNERS - OPERATING, L.P.     &  522.200\\\\\n",
       "\t 32502 & 2017 & ENBRIDGE PIPELINES (SOUTHERN LIGHTS) L.L.C. &  494.000\\\\\n",
       "\t 39029 & 2013 & TESORO LOGISTICS NORTHWEST PIPELINE LLC     &  491.000\\\\\n",
       "\t 30826 & 2011 & WILLIAMS FIELD SERVICES                     &  473.500\\\\\n",
       "\t 31720 & 2018 & EXPRESS HOLDINGS (USA), LLC                 &  442.540\\\\\n",
       "\t 39398 & 2018 & INEOS USA LLC                               &  408.550\\\\\n",
       "\t 26125 & 2013 & CALNEV PIPELINE CO                          &  405.890\\\\\n",
       "\t 26149 & 2018 & ALYESKA PIPELINE SERVICE CO                 &  382.400\\\\\n",
       "\t 30781 & 2017 & OLYMPIC PIPE LINE COMPANY                   &  380.700\\\\\n",
       "\t 31045 & 2010 & GENESIS PIPELINE USA, L.P.                  &  376.290\\\\\n",
       "\t 32683 & 2017 & INLAND CORPORATION                          &  358.000\\\\\n",
       "\t 18386 & 2011 & BP OIL PIPELINE CO                          &  357.000\\\\\n",
       "\t 32551 & 2016 & BKEP PIPELINE, LLC                          &  341.700\\\\\n",
       "\t 15485 & 2011 & PHILLIPS 66 COMPANY - SWEENY REFINERY       &  340.237\\\\\n",
       "\t 26085 & 2010 & PLAINS MARKETING, L.P.                      &  336.270\\\\\n",
       "\t 32296 & 2014 & TARGA RESOURCES OPERATING LLC               &  326.220\\\\\n",
       "\\end{tabular}\n"
      ],
      "text/markdown": [
       "\n",
       "A tibble: 50 × 4\n",
       "\n",
       "| OPERATOR_ID &lt;chr&gt; | YEAR &lt;dbl&gt; | NAME &lt;chr&gt; | TOTAL_MILES &lt;dbl&gt; |\n",
       "|---|---|---|---|\n",
       "| 32109 | 2018 | ONEOK NGL PIPELINE, LLC                     | 4756.610 |\n",
       "| 22610 | 2014 | MAGELLAN PIPELINE COMPANY, LP               | 4505.500 |\n",
       "| 2552  | 2015 | COLONIAL PIPELINE CO                        | 4500.920 |\n",
       "| 31684 | 2017 | PHILLIPS 66 PIPELINE LLC                    | 4474.100 |\n",
       "| 1845  | 2015 | BUCKEYE PARTNERS, LP                        | 4298.290 |\n",
       "| 18718 | 2010 | SUNOCO PIPELINE L.P.                        | 3466.740 |\n",
       "| 22855 | 2013 | FLINT HILLS RESOURCES, LC                   | 2757.450 |\n",
       "| 10012 | 2018 | NUSTAR PIPELINE OPERATING PARTNERSHIP L.P.  | 2645.300 |\n",
       "| 15674 | 2016 | PLANTATION PIPE LINE CO                     | 2564.730 |\n",
       "| 11169 | 2017 | ENBRIDGE ENERGY, LIMITED PARTNERSHIP        | 2460.000 |\n",
       "| 18092 | 2014 | SFPP, LP                                    | 1786.460 |\n",
       "| 4805  | 2016 | EXPLORER PIPELINE CO                        | 1388.070 |\n",
       "| 32099 | 2017 | ENERGY TRANSFER COMPANY                     | 1310.000 |\n",
       "| 31371 | 2014 | BUCKEYE DEVELOPMENT &amp; LOGISTICS, LLC        | 1220.779 |\n",
       "| 30829 | 2017 | ENTERPRISE CRUDE PIPELINE LLC               | 1191.397 |\n",
       "| 12628 | 2013 | MOBIL  PIPE  LINE COMPANY                   | 1060.990 |\n",
       "| 39205 | 2018 | DAPL-ETCO OPERATIONS MANAGEMENT, LLC        |  950.640 |\n",
       "| 39596 | 2018 | PERMIAN EXPRESS PARTNERS LLC                |  946.620 |\n",
       "| 25146 | 2016 | EQUISTAR CHEMICALS, L.P.                    |  933.160 |\n",
       "| 38933 | 2018 | TESORO LOGISTICS OPERATIONS, LLC            |  930.700 |\n",
       "| 31454 | 2017 | NUSTAR LOGISTICS, L.P.                      |  901.100 |\n",
       "| 31130 | 2018 | DCP MIDSTREAM                               |  828.814 |\n",
       "| 32334 | 2018 | TC OIL PIPELINE OPERATIONS INC              |  787.540 |\n",
       "| 395   | 2010 | AMOCO OIL CO                                |  729.000 |\n",
       "| 31666 | 2010 | ROCKY MOUNTAIN PIPELINE SYSTEM, LLC         |  723.550 |\n",
       "| 32080 | 2017 | CCPS TRANSPORTATION, LLC                    |  688.000 |\n",
       "| 12470 | 2015 | MID - VALLEY PIPELINE CO                    |  662.000 |\n",
       "| 3445  | 2014 | DIXIE PIPELINE COMPANY LLC                  |  656.323 |\n",
       "| 32103 | 2018 | CRIMSON PIPELINE L.P.                       |  628.000 |\n",
       "| 32258 | 2014 | KINDER MORGAN COCHIN LLC                    |  617.260 |\n",
       "| 22430 | 2010 | WEST SHORE PIPELINE CO                      |  611.440 |\n",
       "| 22830 | 2013 | WOLVERINE PIPELINE CO                       |  575.940 |\n",
       "| 15156 | 2016 | SINCLAIR TRANSPORTATION COMPANY             |  564.000 |\n",
       "| 39043 | 2018 | TALLGRASS PONY EXPRESS PIPELINE, LLC        |  528.260 |\n",
       "| 32011 | 2017 | HOLLY ENERGY PARTNERS - OPERATING, L.P.     |  522.200 |\n",
       "| 32502 | 2017 | ENBRIDGE PIPELINES (SOUTHERN LIGHTS) L.L.C. |  494.000 |\n",
       "| 39029 | 2013 | TESORO LOGISTICS NORTHWEST PIPELINE LLC     |  491.000 |\n",
       "| 30826 | 2011 | WILLIAMS FIELD SERVICES                     |  473.500 |\n",
       "| 31720 | 2018 | EXPRESS HOLDINGS (USA), LLC                 |  442.540 |\n",
       "| 39398 | 2018 | INEOS USA LLC                               |  408.550 |\n",
       "| 26125 | 2013 | CALNEV PIPELINE CO                          |  405.890 |\n",
       "| 26149 | 2018 | ALYESKA PIPELINE SERVICE CO                 |  382.400 |\n",
       "| 30781 | 2017 | OLYMPIC PIPE LINE COMPANY                   |  380.700 |\n",
       "| 31045 | 2010 | GENESIS PIPELINE USA, L.P.                  |  376.290 |\n",
       "| 32683 | 2017 | INLAND CORPORATION                          |  358.000 |\n",
       "| 18386 | 2011 | BP OIL PIPELINE CO                          |  357.000 |\n",
       "| 32551 | 2016 | BKEP PIPELINE, LLC                          |  341.700 |\n",
       "| 15485 | 2011 | PHILLIPS 66 COMPANY - SWEENY REFINERY       |  340.237 |\n",
       "| 26085 | 2010 | PLAINS MARKETING, L.P.                      |  336.270 |\n",
       "| 32296 | 2014 | TARGA RESOURCES OPERATING LLC               |  326.220 |\n",
       "\n"
      ],
      "text/plain": [
       "   OPERATOR_ID YEAR NAME                                        TOTAL_MILES\n",
       "1  32109       2018 ONEOK NGL PIPELINE, LLC                     4756.610   \n",
       "2  22610       2014 MAGELLAN PIPELINE COMPANY, LP               4505.500   \n",
       "3  2552        2015 COLONIAL PIPELINE CO                        4500.920   \n",
       "4  31684       2017 PHILLIPS 66 PIPELINE LLC                    4474.100   \n",
       "5  1845        2015 BUCKEYE PARTNERS, LP                        4298.290   \n",
       "6  18718       2010 SUNOCO PIPELINE L.P.                        3466.740   \n",
       "7  22855       2013 FLINT HILLS RESOURCES, LC                   2757.450   \n",
       "8  10012       2018 NUSTAR PIPELINE OPERATING PARTNERSHIP L.P.  2645.300   \n",
       "9  15674       2016 PLANTATION PIPE LINE CO                     2564.730   \n",
       "10 11169       2017 ENBRIDGE ENERGY, LIMITED PARTNERSHIP        2460.000   \n",
       "11 18092       2014 SFPP, LP                                    1786.460   \n",
       "12 4805        2016 EXPLORER PIPELINE CO                        1388.070   \n",
       "13 32099       2017 ENERGY TRANSFER COMPANY                     1310.000   \n",
       "14 31371       2014 BUCKEYE DEVELOPMENT & LOGISTICS, LLC        1220.779   \n",
       "15 30829       2017 ENTERPRISE CRUDE PIPELINE LLC               1191.397   \n",
       "16 12628       2013 MOBIL  PIPE  LINE COMPANY                   1060.990   \n",
       "17 39205       2018 DAPL-ETCO OPERATIONS MANAGEMENT, LLC         950.640   \n",
       "18 39596       2018 PERMIAN EXPRESS PARTNERS LLC                 946.620   \n",
       "19 25146       2016 EQUISTAR CHEMICALS, L.P.                     933.160   \n",
       "20 38933       2018 TESORO LOGISTICS OPERATIONS, LLC             930.700   \n",
       "21 31454       2017 NUSTAR LOGISTICS, L.P.                       901.100   \n",
       "22 31130       2018 DCP MIDSTREAM                                828.814   \n",
       "23 32334       2018 TC OIL PIPELINE OPERATIONS INC               787.540   \n",
       "24 395         2010 AMOCO OIL CO                                 729.000   \n",
       "25 31666       2010 ROCKY MOUNTAIN PIPELINE SYSTEM, LLC          723.550   \n",
       "26 32080       2017 CCPS TRANSPORTATION, LLC                     688.000   \n",
       "27 12470       2015 MID - VALLEY PIPELINE CO                     662.000   \n",
       "28 3445        2014 DIXIE PIPELINE COMPANY LLC                   656.323   \n",
       "29 32103       2018 CRIMSON PIPELINE L.P.                        628.000   \n",
       "30 32258       2014 KINDER MORGAN COCHIN LLC                     617.260   \n",
       "31 22430       2010 WEST SHORE PIPELINE CO                       611.440   \n",
       "32 22830       2013 WOLVERINE PIPELINE CO                        575.940   \n",
       "33 15156       2016 SINCLAIR TRANSPORTATION COMPANY              564.000   \n",
       "34 39043       2018 TALLGRASS PONY EXPRESS PIPELINE, LLC         528.260   \n",
       "35 32011       2017 HOLLY ENERGY PARTNERS - OPERATING, L.P.      522.200   \n",
       "36 32502       2017 ENBRIDGE PIPELINES (SOUTHERN LIGHTS) L.L.C.  494.000   \n",
       "37 39029       2013 TESORO LOGISTICS NORTHWEST PIPELINE LLC      491.000   \n",
       "38 30826       2011 WILLIAMS FIELD SERVICES                      473.500   \n",
       "39 31720       2018 EXPRESS HOLDINGS (USA), LLC                  442.540   \n",
       "40 39398       2018 INEOS USA LLC                                408.550   \n",
       "41 26125       2013 CALNEV PIPELINE CO                           405.890   \n",
       "42 26149       2018 ALYESKA PIPELINE SERVICE CO                  382.400   \n",
       "43 30781       2017 OLYMPIC PIPE LINE COMPANY                    380.700   \n",
       "44 31045       2010 GENESIS PIPELINE USA, L.P.                   376.290   \n",
       "45 32683       2017 INLAND CORPORATION                           358.000   \n",
       "46 18386       2011 BP OIL PIPELINE CO                           357.000   \n",
       "47 32551       2016 BKEP PIPELINE, LLC                           341.700   \n",
       "48 15485       2011 PHILLIPS 66 COMPANY - SWEENY REFINERY        340.237   \n",
       "49 26085       2010 PLAINS MARKETING, L.P.                       336.270   \n",
       "50 32296       2014 TARGA RESOURCES OPERATING LLC                326.220   "
      ]
     },
     "metadata": {},
     "output_type": "display_data"
    }
   ],
   "source": [
    "largest_pipeline_operators <- pipelines_2010 %>%\n",
    "    group_by(OPERATOR_ID) %>%\n",
    "    mutate(max_offshore = max(PERC_OFFSHORE)) %>%\n",
    "    filter(max_offshore == 0) %>%\n",
    "    # Make sure we retrieve the latestb name, no matter what year has to most extensive pipeline network\n",
    "    arrange(desc(YEAR)) %>%\n",
    "    mutate(NAME = first(NAME)) %>%\n",
    "    group_by(OPERATOR_ID, YEAR) %>%\n",
    "    summarize(NAME = first(NAME), TOTAL_MILES = sum(MILES)) %>%\n",
    "    group_by(OPERATOR_ID) %>%\n",
    "    top_n(1, TOTAL_MILES) %>%\n",
    "    # Year as tie breaker\n",
    "    top_n(1, YEAR) %>%\n",
    "    ungroup() %>%\n",
    "    arrange(desc(TOTAL_MILES))\n",
    "\n",
    "head(largest_pipeline_operators, 50)"
   ]
  },
  {
   "cell_type": "markdown",
   "metadata": {},
   "source": [
    "## 5.2 Save result"
   ]
  },
  {
   "cell_type": "code",
   "execution_count": 10,
   "metadata": {},
   "outputs": [],
   "source": [
    "feather::write_feather(largest_pipeline_operators, paste0(\"../preprocessed_data/largest_companies_\", Sys.Date(), \".feather\"))"
   ]
  },
  {
   "cell_type": "code",
   "execution_count": null,
   "metadata": {},
   "outputs": [],
   "source": []
  }
 ],
 "metadata": {
  "kernelspec": {
   "display_name": "R 3.6.1",
   "language": "R",
   "name": "ir361"
  },
  "language_info": {
   "codemirror_mode": "r",
   "file_extension": ".r",
   "mimetype": "text/x-r-source",
   "name": "R",
   "pygments_lexer": "r",
   "version": "3.6.1"
  }
 },
 "nbformat": 4,
 "nbformat_minor": 4
}
