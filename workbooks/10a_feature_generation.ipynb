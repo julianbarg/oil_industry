{
 "cells": [
  {
   "cell_type": "markdown",
   "metadata": {},
   "source": [
    "# 10. Feature generation (R)"
   ]
  },
  {
   "cell_type": "code",
   "execution_count": 1,
   "metadata": {},
   "outputs": [
    {
     "name": "stderr",
     "output_type": "stream",
     "text": [
      "Registered S3 methods overwritten by 'ggplot2':\n",
      "  method         from \n",
      "  [.quosures     rlang\n",
      "  c.quosures     rlang\n",
      "  print.quosures rlang\n",
      "Registered S3 method overwritten by 'rvest':\n",
      "  method            from\n",
      "  read_xml.response xml2\n",
      "── \u001b[1mAttaching packages\u001b[22m ─────────────────────────────────────── tidyverse 1.2.1 ──\n",
      "\u001b[32m✔\u001b[39m \u001b[34mggplot2\u001b[39m 3.1.1       \u001b[32m✔\u001b[39m \u001b[34mpurrr  \u001b[39m 0.3.2  \n",
      "\u001b[32m✔\u001b[39m \u001b[34mtibble \u001b[39m 2.1.1       \u001b[32m✔\u001b[39m \u001b[34mdplyr  \u001b[39m 0.8.0.\u001b[31m1\u001b[39m\n",
      "\u001b[32m✔\u001b[39m \u001b[34mtidyr  \u001b[39m 0.8.3       \u001b[32m✔\u001b[39m \u001b[34mstringr\u001b[39m 1.4.0  \n",
      "\u001b[32m✔\u001b[39m \u001b[34mreadr  \u001b[39m 1.3.1       \u001b[32m✔\u001b[39m \u001b[34mforcats\u001b[39m 0.4.0  \n",
      "── \u001b[1mConflicts\u001b[22m ────────────────────────────────────────── tidyverse_conflicts() ──\n",
      "\u001b[31m✖\u001b[39m \u001b[34mdplyr\u001b[39m::\u001b[32mfilter()\u001b[39m masks \u001b[34mstats\u001b[39m::filter()\n",
      "\u001b[31m✖\u001b[39m \u001b[34mdplyr\u001b[39m::\u001b[32mlag()\u001b[39m    masks \u001b[34mstats\u001b[39m::lag()\n"
     ]
    }
   ],
   "source": [
    "library(tidyverse)"
   ]
  },
  {
   "cell_type": "code",
   "execution_count": 2,
   "metadata": {},
   "outputs": [],
   "source": [
    "sample_consolidated_file <- \"../preprocessed_data/sample_consolidated_2019-09-02.feather\""
   ]
  },
  {
   "cell_type": "markdown",
   "metadata": {},
   "source": [
    "## Read data"
   ]
  },
  {
   "cell_type": "code",
   "execution_count": 3,
   "metadata": {},
   "outputs": [
    {
     "name": "stdout",
     "output_type": "stream",
     "text": [
      "Observations: 1,425\n",
      "Variables: 23\n",
      "$ YEAR                  \u001b[3m\u001b[38;5;246m<dbl>\u001b[39m\u001b[23m 2008, 2008, 2008, 2008, 2008, 2008, 2008, 2008,…\n",
      "$ COMMODITY             \u001b[3m\u001b[38;5;246m<chr>\u001b[39m\u001b[23m \"crude\", \"crude\", \"hvl\", \"non-hvl\", \"hvl\", \"non…\n",
      "$ OPERATOR_ID           \u001b[3m\u001b[38;5;246m<chr>\u001b[39m\u001b[23m \"SemGroup (Group)\", \"BP (Group)\", \"BP (Group)\",…\n",
      "$ NAME                  \u001b[3m\u001b[38;5;246m<chr>\u001b[39m\u001b[23m \"SemGroup (Group)\", \"BP (Group)\", \"BP (Group)\",…\n",
      "$ MILES                 \u001b[3m\u001b[38;5;246m<dbl>\u001b[39m\u001b[23m 119.000, 24.000, 359.000, 762.000, 881.000, 341…\n",
      "$ AGE_UNKNOWN_MILES     \u001b[3m\u001b[38;5;246m<dbl>\u001b[39m\u001b[23m 0, 0, 0, 0, 0, 0, 0, 0, 0, 0, 0, 0, 0, 0, 0, 0,…\n",
      "$ MILES_PRE_1940        \u001b[3m\u001b[38;5;246m<dbl>\u001b[39m\u001b[23m 22.000, 0.000, 0.000, 152.000, 0.000, 0.000, 0.…\n",
      "$ MILES_1940            \u001b[3m\u001b[38;5;246m<dbl>\u001b[39m\u001b[23m 22.000, 0.000, 0.000, 2.000, 0.000, 763.000, 0.…\n",
      "$ MILES_1950            \u001b[3m\u001b[38;5;246m<dbl>\u001b[39m\u001b[23m 146.00, 4.00, 0.00, 166.00, 0.70, 668.20, 368.2…\n",
      "$ MILES_1960            \u001b[3m\u001b[38;5;246m<dbl>\u001b[39m\u001b[23m 10.000, 7.000, 186.000, 80.000, 38.200, 581.000…\n",
      "$ MILES_1970            \u001b[3m\u001b[38;5;246m<dbl>\u001b[39m\u001b[23m 6.000, 5.000, 168.000, 700.000, 581.800, 0.000,…\n",
      "$ MILES_1980            \u001b[3m\u001b[38;5;246m<dbl>\u001b[39m\u001b[23m 2.000, 3.000, 33.000, 29.000, 13.500, 0.000, 32…\n",
      "$ MILES_1990            \u001b[3m\u001b[38;5;246m<dbl>\u001b[39m\u001b[23m 8.000, 3.000, 136.000, 25.000, 232.200, 0.000, …\n",
      "$ MILES_2000            \u001b[3m\u001b[38;5;246m<dbl>\u001b[39m\u001b[23m 10.000, 1.000, 3.000, 13.000, 1.100, 9.000, 62.…\n",
      "$ MILES_2010            \u001b[3m\u001b[38;5;246m<dbl>\u001b[39m\u001b[23m 0, 0, 0, 0, 0, 0, 0, 0, 0, 0, 0, 0, 0, 0, 0, 0,…\n",
      "$ PARENT                \u001b[3m\u001b[38;5;246m<chr>\u001b[39m\u001b[23m NA, NA, NA, NA, NA, NA, NA, NA, NA, NA, NA, NA,…\n",
      "$ INCIDENTS             \u001b[3m\u001b[38;5;246m<dbl>\u001b[39m\u001b[23m 0, 0, 0, 0, 0, 0, 0, 0, 0, 0, 0, 0, 0, 0, 0, 0,…\n",
      "$ SIGNIFICANT_INCIDENTS \u001b[3m\u001b[38;5;246m<dbl>\u001b[39m\u001b[23m 0, 0, 0, 0, 0, 0, 0, 0, 0, 0, 0, 0, 0, 0, 0, 0,…\n",
      "$ GROUP                 \u001b[3m\u001b[38;5;246m<chr>\u001b[39m\u001b[23m \"m&a\", \"group\", \"group\", \"group\", \"group\", \"gro…\n",
      "$ PERC_OFFSHORE         \u001b[3m\u001b[38;5;246m<dbl>\u001b[39m\u001b[23m NA, NA, NA, NA, NA, NA, NA, NA, NA, NA, NA, NA,…\n",
      "$ AVG_AGE               \u001b[3m\u001b[38;5;246m<dbl>\u001b[39m\u001b[23m 63.53982, 46.30435, 42.56654, 53.43188, 39.9095…\n",
      "$ CHANGE                \u001b[3m\u001b[38;5;246m<dbl>\u001b[39m\u001b[23m NA, NA, NA, NA, NA, NA, NA, NA, NA, NA, NA, NA,…\n",
      "$ M_A                   \u001b[3m\u001b[38;5;246m<lgl>\u001b[39m\u001b[23m FALSE, FALSE, FALSE, FALSE, FALSE, FALSE, FALSE…\n"
     ]
    }
   ],
   "source": [
    "sample <- feather::read_feather(sample_consolidated_file)\n",
    "glimpse(sample)"
   ]
  },
  {
   "cell_type": "markdown",
   "metadata": {},
   "source": [
    "## Alternatively: filter large changes"
   ]
  },
  {
   "cell_type": "code",
   "execution_count": 4,
   "metadata": {},
   "outputs": [
    {
     "name": "stderr",
     "output_type": "stream",
     "text": [
      "`stat_bin()` using `bins = 30`. Pick better value with `binwidth`.\n",
      "Warning message:\n",
      "“Removed 186 rows containing non-finite values (stat_bin).”"
     ]
    },
    {
     "data": {
      "image/png": "[encoded data removed]",
      "text/plain": [
       "plot without title"
      ]
     },
     "metadata": {},
     "output_type": "display_data"
    }
   ],
   "source": [
    "sample %>%\n",
    "    ggplot(aes(x=CHANGE)) +\n",
    "        geom_histogram()"
   ]
  },
  {
   "cell_type": "code",
   "execution_count": 5,
   "metadata": {},
   "outputs": [
    {
     "data": {
      "text/html": [
       "1425"
      ],
      "text/latex": [
       "1425"
      ],
      "text/markdown": [
       "1425"
      ],
      "text/plain": [
       "[1] 1425"
      ]
     },
     "metadata": {},
     "output_type": "display_data"
    }
   ],
   "source": [
    "nrow(sample)"
   ]
  },
  {
   "cell_type": "code",
   "execution_count": 6,
   "metadata": {},
   "outputs": [],
   "source": [
    "# sample <- subset(sample, abs(CHANGE) < 250)"
   ]
  },
  {
   "cell_type": "code",
   "execution_count": 7,
   "metadata": {},
   "outputs": [
    {
     "data": {
      "text/plain": [
       "\n",
       "  crude     hvl non-hvl \n",
       "    485     423     449 "
      ]
     },
     "metadata": {},
     "output_type": "display_data"
    }
   ],
   "source": [
    "sample <- subset(sample, COMMODITY %in% c(\"crude\", \"hvl\", \"non-hvl\"))\n",
    "table(sample$COMMODITY)"
   ]
  },
  {
   "cell_type": "code",
   "execution_count": 8,
   "metadata": {},
   "outputs": [
    {
     "data": {
      "text/html": [
       "1357"
      ],
      "text/latex": [
       "1357"
      ],
      "text/markdown": [
       "1357"
      ],
      "text/plain": [
       "[1] 1357"
      ]
     },
     "metadata": {},
     "output_type": "display_data"
    }
   ],
   "source": [
    "nrow(sample)"
   ]
  },
  {
   "cell_type": "markdown",
   "metadata": {},
   "source": [
    "## Alternatively: remove two years of change for oil pipelines we added"
   ]
  },
  {
   "cell_type": "code",
   "execution_count": 9,
   "metadata": {},
   "outputs": [],
   "source": [
    "# sample <- subset(sample, YEAR >= 2010)"
   ]
  },
  {
   "cell_type": "markdown",
   "metadata": {},
   "source": [
    "## 10.1 Three year moving average"
   ]
  },
  {
   "cell_type": "markdown",
   "metadata": {},
   "source": [
    "Change"
   ]
  },
  {
   "cell_type": "code",
   "execution_count": 10,
   "metadata": {},
   "outputs": [],
   "source": [
    "sample <- sample %>%\n",
    "    group_by(OPERATOR_ID, COMMODITY) %>%\n",
    "    arrange(desc(YEAR)) %>%\n",
    "    mutate(change_1 = lead(CHANGE, 1), \n",
    "           change_2 = lead(CHANGE, 2), \n",
    "           change_3 = MILES - lead(MILES, 3)) %>%\n",
    "    mutate(mean_change_3 = (change_3 / 3)) %>%\n",
    "    mutate(sd_change_3 = sqrt((CHANGE - mean_change_3)^2 + (change_1 - mean_change_3)^2 + (change_2 - mean_change_3)^2 / 3))"
   ]
  },
  {
   "cell_type": "markdown",
   "metadata": {},
   "source": [
    "Incidents"
   ]
  },
  {
   "cell_type": "code",
   "execution_count": 11,
   "metadata": {},
   "outputs": [],
   "source": [
    "sample <- sample %>%\n",
    "    group_by(OPERATOR_ID, COMMODITY) %>%\n",
    "    arrange(desc(YEAR)) %>%\n",
    "    mutate(miles_avg_3 = (MILES + lead(MILES, 1) + lead(MILES, 2)) / 3, \n",
    "           miles_1950_3 = (MILES_1950 + lead(MILES_1950, 1) + lead(MILES_1950, 2)) / 3,\n",
    "           sign_inc_3 =  (SIGNIFICANT_INCIDENTS + lag(SIGNIFICANT_INCIDENTS, 1) + lag(SIGNIFICANT_INCIDENTS, 2)) / 3)"
   ]
  },
  {
   "cell_type": "markdown",
   "metadata": {},
   "source": [
    "Incidents per mile"
   ]
  },
  {
   "cell_type": "code",
   "execution_count": 12,
   "metadata": {},
   "outputs": [],
   "source": [
    "sample$inc_per_mile_3 <- sample$sign_inc_3 / sample$miles_avg_3"
   ]
  },
  {
   "cell_type": "markdown",
   "metadata": {},
   "source": [
    "Percent of pipelines for each decade."
   ]
  },
  {
   "cell_type": "code",
   "execution_count": 13,
   "metadata": {},
   "outputs": [],
   "source": [
    "sample <- sample %>%\n",
    "    mutate(age_miles = MILES_PRE_1940 + MILES_1940 + MILES_1950 + MILES_1960 + MILES_1970 + MILES_1980 +\n",
    "                       MILES_1990 + MILES_2000 + MILES_2010)"
   ]
  },
  {
   "cell_type": "code",
   "execution_count": 14,
   "metadata": {},
   "outputs": [],
   "source": [
    "sample <- sample %>%\n",
    "    mutate(perc_pre_1940 = MILES_PRE_1940 / age_miles, \n",
    "           perc_1940 = MILES_1940 / age_miles,\n",
    "           perc_1950 = MILES_1950 / age_miles,\n",
    "           perc_1960 = MILES_1960 / age_miles,\n",
    "           perc_1970 = MILES_1970 / age_miles,\n",
    "           perc_1980 = MILES_1980 / age_miles,\n",
    "           perc_1990 = MILES_1990 / age_miles,\n",
    "           perc_2000 = MILES_2000 / age_miles, \n",
    "           perc_2010 = MILES_2010 / age_miles)"
   ]
  },
  {
   "cell_type": "code",
   "execution_count": 15,
   "metadata": {},
   "outputs": [],
   "source": [
    "sample <- sample %>%\n",
    "    group_by(OPERATOR_ID, COMMODITY) %>%\n",
    "    arrange(desc(YEAR)) %>%\n",
    "    mutate(avg_pre_1940 = (perc_pre_1940 + lag(perc_pre_1940) + lag(perc_pre_1940, 2)) /3, \n",
    "           avg_1940 = (perc_1940 + lag(perc_1940) + lag(perc_1940, 2)) / 3,\n",
    "           avg_1950 = (perc_1950 + lag(perc_1950) + lag(perc_1950, 2)) / 3,\n",
    "           avg_1960 = (perc_1960 + lag(perc_1960) + lag(perc_1960, 2)) / 3,\n",
    "           avg_1970 = (perc_1970 + lag(perc_1970) + lag(perc_1970, 2)) / 3,\n",
    "           avg_1980 = (perc_1980 + lag(perc_1980) + lag(perc_1980, 2)) / 3,\n",
    "           avg_1990 = (perc_1990 + lag(perc_1990) + lag(perc_1990, 2)) / 3,\n",
    "           avg_2000 = (perc_2000 + lag(perc_2000) + lag(perc_2000, 2)) / 3,\n",
    "           avg_2010 = (perc_2010 + lag(perc_2010) + lag(perc_2010, 2)) / 3)"
   ]
  },
  {
   "cell_type": "markdown",
   "metadata": {},
   "source": [
    "## 10.2 Incidents per mile"
   ]
  },
  {
   "cell_type": "code",
   "execution_count": 16,
   "metadata": {},
   "outputs": [],
   "source": [
    "sample$INCIDENTS_MILE <- (sample$INCIDENTS / sample$MILES)\n",
    "sample$SIGN_INC_MILE <- (sample$SIGNIFICANT_INCIDENTS / sample$MILES)"
   ]
  },
  {
   "cell_type": "code",
   "execution_count": 17,
   "metadata": {},
   "outputs": [
    {
     "data": {
      "text/html": [
       "891"
      ],
      "text/latex": [
       "891"
      ],
      "text/markdown": [
       "891"
      ],
      "text/plain": [
       "[1] 891"
      ]
     },
     "metadata": {},
     "output_type": "display_data"
    }
   ],
   "source": [
    "nrow(sample[!is.na(sample$sd_change_3), ])"
   ]
  },
  {
   "cell_type": "markdown",
   "metadata": {},
   "source": [
    "## 10.3 Data types"
   ]
  },
  {
   "cell_type": "code",
   "execution_count": 18,
   "metadata": {},
   "outputs": [],
   "source": [
    "sample$COMMODITY <- as.factor(sample$COMMODITY)\n",
    "sample$OPERATOR_ID <- as.factor(sample$OPERATOR_ID)"
   ]
  },
  {
   "cell_type": "markdown",
   "metadata": {},
   "source": [
    "## 10.4 past M&As"
   ]
  },
  {
   "cell_type": "code",
   "execution_count": 19,
   "metadata": {},
   "outputs": [
    {
     "name": "stdout",
     "output_type": "stream",
     "text": [
      "Observations: 1,357\n",
      "Variables: 54\n",
      "Groups: OPERATOR_ID, COMMODITY [157]\n",
      "$ YEAR                  \u001b[3m\u001b[38;5;246m<dbl>\u001b[39m\u001b[23m 2018, 2018, 2018, 2018, 2018, 2018, 2018, 2018,…\n",
      "$ COMMODITY             \u001b[3m\u001b[38;5;246m<fct>\u001b[39m\u001b[23m crude, hvl, non-hvl, crude, hvl, non-hvl, crude…\n",
      "$ OPERATOR_ID           \u001b[3m\u001b[38;5;246m<fct>\u001b[39m\u001b[23m Sunoco (Group), Sunoco (Group), Sunoco (Group),…\n",
      "$ NAME                  \u001b[3m\u001b[38;5;246m<chr>\u001b[39m\u001b[23m \"Sunoco (Group)\", \"Sunoco (Group)\", \"Sunoco (Gr…\n",
      "$ MILES                 \u001b[3m\u001b[38;5;246m<dbl>\u001b[39m\u001b[23m 11349.160, 3241.490, 3973.070, 92.377, 24.609, …\n",
      "$ AGE_UNKNOWN_MILES     \u001b[3m\u001b[38;5;246m<dbl>\u001b[39m\u001b[23m 1161.930, 235.050, 446.670, 0.000, 0.000, 0.000…\n",
      "$ MILES_PRE_1940        \u001b[3m\u001b[38;5;246m<dbl>\u001b[39m\u001b[23m 807.21, 14.19, 50.76, 0.00, 0.00, 0.00, 1.70, 0…\n",
      "$ MILES_1940            \u001b[3m\u001b[38;5;246m<dbl>\u001b[39m\u001b[23m 1501.050, 301.630, 387.790, 0.000, 0.000, 0.000…\n",
      "$ MILES_1950            \u001b[3m\u001b[38;5;246m<dbl>\u001b[39m\u001b[23m 1557.090, 263.620, 268.660, 84.333, 0.000, 11.2…\n",
      "$ MILES_1960            \u001b[3m\u001b[38;5;246m<dbl>\u001b[39m\u001b[23m 547.710, 140.240, 314.780, 40.250, 52.120, 2.84…\n",
      "$ MILES_1970            \u001b[3m\u001b[38;5;246m<dbl>\u001b[39m\u001b[23m 297.900, 139.530, 677.410, 0.000, 0.000, 25.322…\n",
      "$ MILES_1980            \u001b[3m\u001b[38;5;246m<dbl>\u001b[39m\u001b[23m 148.950, 19.290, 155.620, 18.896, 4.482, 10.925…\n",
      "$ MILES_1990            \u001b[3m\u001b[38;5;246m<dbl>\u001b[39m\u001b[23m 266.080, 104.080, 105.480, 19.423, 1.628, 0.367…\n",
      "$ MILES_2000            \u001b[3m\u001b[38;5;246m<dbl>\u001b[39m\u001b[23m 95.920, 135.060, 13.550, 15.801, 2.553, 17.355,…\n",
      "$ MILES_2010            \u001b[3m\u001b[38;5;246m<dbl>\u001b[39m\u001b[23m 1749.730, 1553.290, 494.760, 35.081, 0.000, 148…\n",
      "$ PARENT                \u001b[3m\u001b[38;5;246m<chr>\u001b[39m\u001b[23m \"Energy Transfer\", \"Energy Transfer\", \"Energy T…\n",
      "$ INCIDENTS             \u001b[3m\u001b[38;5;246m<dbl>\u001b[39m\u001b[23m 52, 2, 6, 0, 0, 1, 2, 0, 0, 1, 2, 1, 10, 5, 0, …\n",
      "$ SIGNIFICANT_INCIDENTS \u001b[3m\u001b[38;5;246m<dbl>\u001b[39m\u001b[23m 20, 2, 3, 0, 0, 1, 1, 0, 0, 0, 0, 1, 5, 0, 0, 0…\n",
      "$ GROUP                 \u001b[3m\u001b[38;5;246m<chr>\u001b[39m\u001b[23m \"m&a\", \"m&a\", \"m&a\", \"m&a\", \"m&a\", \"m&a\", \"grou…\n",
      "$ PERC_OFFSHORE         \u001b[3m\u001b[38;5;246m<dbl>\u001b[39m\u001b[23m NA, NA, NA, NA, NA, NA, NA, NA, NA, NA, NA, NA,…\n",
      "$ AVG_AGE               \u001b[3m\u001b[38;5;246m<dbl>\u001b[39m\u001b[23m 50.49325, 25.49531, 44.42328, 43.29019, 51.0416…\n",
      "$ CHANGE                \u001b[3m\u001b[38;5;246m<dbl>\u001b[39m\u001b[23m -1073.250, 233.710, 395.770, 0.229, 0.000, -4.1…\n",
      "$ M_A                   \u001b[3m\u001b[38;5;246m<lgl>\u001b[39m\u001b[23m FALSE, FALSE, FALSE, FALSE, FALSE, FALSE, FALSE…\n",
      "$ change_1              \u001b[3m\u001b[38;5;246m<dbl>\u001b[39m\u001b[23m 7.461710e+03, 1.130080e+03, 1.225020e+03, 2.400…\n",
      "$ change_2              \u001b[3m\u001b[38;5;246m<dbl>\u001b[39m\u001b[23m 38.950, 241.040, -173.440, -2.092, 10.269, 99.1…\n",
      "$ change_3              \u001b[3m\u001b[38;5;246m<dbl>\u001b[39m\u001b[23m 6427.410, 1604.830, 1447.350, -1.623, 13.269, 9…\n",
      "$ mean_change_3         \u001b[3m\u001b[38;5;246m<dbl>\u001b[39m\u001b[23m 2142.4700000, 534.9433333, 482.4500000, -0.5410…\n",
      "$ sd_change_3           \u001b[3m\u001b[38;5;246m<dbl>\u001b[39m\u001b[23m 6333.2536209, 688.2748213, 838.0458567, 1.41588…\n",
      "$ miles_avg_3           \u001b[3m\u001b[38;5;246m<dbl>\u001b[39m\u001b[23m 9577.42333, 2708.99000, 3300.88333, 92.14433, 2…\n",
      "$ miles_1950_3          \u001b[3m\u001b[38;5;246m<dbl>\u001b[39m\u001b[23m 1463.943333, 218.533333, 230.320000, 84.333000,…\n",
      "$ sign_inc_3            \u001b[3m\u001b[38;5;246m<dbl>\u001b[39m\u001b[23m NA, NA, NA, NA, NA, NA, NA, NA, NA, NA, NA, NA,…\n",
      "$ inc_per_mile_3        \u001b[3m\u001b[38;5;246m<dbl>\u001b[39m\u001b[23m NA, NA, NA, NA, NA, NA, NA, NA, NA, NA, NA, NA,…\n",
      "$ age_miles             \u001b[3m\u001b[38;5;246m<dbl>\u001b[39m\u001b[23m 6971.640, 2670.930, 2468.810, 213.784, 60.783, …\n",
      "$ perc_pre_1940         \u001b[3m\u001b[38;5;246m<dbl>\u001b[39m\u001b[23m 0.115784808, 0.005312756, 0.020560513, 0.000000…\n",
      "$ perc_1940             \u001b[3m\u001b[38;5;246m<dbl>\u001b[39m\u001b[23m 0.21530802, 0.11293070, 0.15707568, 0.00000000,…\n",
      "$ perc_1950             \u001b[3m\u001b[38;5;246m<dbl>\u001b[39m\u001b[23m 0.223346300, 0.098699704, 0.108821659, 0.394477…\n",
      "$ perc_1960             \u001b[3m\u001b[38;5;246m<dbl>\u001b[39m\u001b[23m 0.0785625764, 0.0525060559, 0.1275027240, 0.188…\n",
      "$ perc_1970             \u001b[3m\u001b[38;5;246m<dbl>\u001b[39m\u001b[23m 0.042730261, 0.052240231, 0.274387255, 0.000000…\n",
      "$ perc_1980             \u001b[3m\u001b[38;5;246m<dbl>\u001b[39m\u001b[23m 0.0213651307, 0.0072222035, 0.0630344174, 0.088…\n",
      "$ perc_1990             \u001b[3m\u001b[38;5;246m<dbl>\u001b[39m\u001b[23m 0.038166056, 0.038967700, 0.042725038, 0.090853…\n",
      "$ perc_2000             \u001b[3m\u001b[38;5;246m<dbl>\u001b[39m\u001b[23m 0.013758599, 0.050566657, 0.005488474, 0.073911…\n",
      "$ perc_2010             \u001b[3m\u001b[38;5;246m<dbl>\u001b[39m\u001b[23m 0.2509782490, 0.5815539906, 0.2004042433, 0.164…\n",
      "$ avg_pre_1940          \u001b[3m\u001b[38;5;246m<dbl>\u001b[39m\u001b[23m NA, NA, NA, NA, NA, NA, NA, NA, NA, NA, NA, NA,…\n",
      "$ avg_1940              \u001b[3m\u001b[38;5;246m<dbl>\u001b[39m\u001b[23m NA, NA, NA, NA, NA, NA, NA, NA, NA, NA, NA, NA,…\n",
      "$ avg_1950              \u001b[3m\u001b[38;5;246m<dbl>\u001b[39m\u001b[23m NA, NA, NA, NA, NA, NA, NA, NA, NA, NA, NA, NA,…\n",
      "$ avg_1960              \u001b[3m\u001b[38;5;246m<dbl>\u001b[39m\u001b[23m NA, NA, NA, NA, NA, NA, NA, NA, NA, NA, NA, NA,…\n",
      "$ avg_1970              \u001b[3m\u001b[38;5;246m<dbl>\u001b[39m\u001b[23m NA, NA, NA, NA, NA, NA, NA, NA, NA, NA, NA, NA,…\n",
      "$ avg_1980              \u001b[3m\u001b[38;5;246m<dbl>\u001b[39m\u001b[23m NA, NA, NA, NA, NA, NA, NA, NA, NA, NA, NA, NA,…\n",
      "$ avg_1990              \u001b[3m\u001b[38;5;246m<dbl>\u001b[39m\u001b[23m NA, NA, NA, NA, NA, NA, NA, NA, NA, NA, NA, NA,…\n",
      "$ avg_2000              \u001b[3m\u001b[38;5;246m<dbl>\u001b[39m\u001b[23m NA, NA, NA, NA, NA, NA, NA, NA, NA, NA, NA, NA,…\n",
      "$ avg_2010              \u001b[3m\u001b[38;5;246m<dbl>\u001b[39m\u001b[23m NA, NA, NA, NA, NA, NA, NA, NA, NA, NA, NA, NA,…\n",
      "$ INCIDENTS_MILE        \u001b[3m\u001b[38;5;246m<dbl>\u001b[39m\u001b[23m 0.0045818369, 0.0006170002, 0.0015101672, 0.000…\n",
      "$ SIGN_INC_MILE         \u001b[3m\u001b[38;5;246m<dbl>\u001b[39m\u001b[23m 0.0017622450, 0.0006170002, 0.0007550836, 0.000…\n",
      "$ M_A_3                 \u001b[3m\u001b[38;5;246m<int>\u001b[39m\u001b[23m 1, 1, 1, 1, 1, 1, 0, 0, 0, 0, 0, 0, 0, 0, 0, 0,…\n"
     ]
    }
   ],
   "source": [
    "sample <- sample %>%\n",
    "    group_by(OPERATOR_ID, COMMODITY) %>%\n",
    "    arrange(desc(YEAR)) %>%\n",
    "    mutate(M_A_3 = max(M_A, lead(M_A), lead(M_A, 2), na.rm=TRUE))\n",
    "glimpse(sample)"
   ]
  },
  {
   "cell_type": "markdown",
   "metadata": {},
   "source": [
    "## 10.5 Log transform etc."
   ]
  },
  {
   "cell_type": "code",
   "execution_count": 20,
   "metadata": {},
   "outputs": [],
   "source": [
    "sample$LOG_INCIDENTS_MILE <- log(sample$INCIDENTS_MILE)\n",
    "sample$LOG_SIGN_INC_MILE <- log(sample$SIGN_INC_MILE)\n",
    "sample$log_sd_change <- log(sample$sd_change_3)\n",
    "sample$sd_change_sq <- (sample$sd_change_3)^2\n",
    "sample$sd_change_pw_3 <- (sample$sd_change_3)^3\n",
    "sample$one_over_sd_change <- (1 / sample$sd_change_3)"
   ]
  },
  {
   "cell_type": "markdown",
   "metadata": {},
   "source": [
    "## 10.6 Interaction effects"
   ]
  },
  {
   "cell_type": "code",
   "execution_count": 21,
   "metadata": {},
   "outputs": [],
   "source": [
    "sample$miles_x_change <- sample$MILES * sample$sd_change_3"
   ]
  },
  {
   "cell_type": "markdown",
   "metadata": {},
   "source": [
    "## 10.7 Subsamples"
   ]
  },
  {
   "cell_type": "code",
   "execution_count": 22,
   "metadata": {},
   "outputs": [],
   "source": [
    "sample_crude <- sample[(sample$COMMODITY == \"crude\"), ]\n",
    "none_new <- subset(sample, COMMODITY %in% c(\"crude\", \"hvl\", \"non-hvl\"))"
   ]
  },
  {
   "cell_type": "markdown",
   "metadata": {},
   "source": [
    "## 10.7 Save"
   ]
  },
  {
   "cell_type": "code",
   "execution_count": 23,
   "metadata": {},
   "outputs": [],
   "source": [
    "# testit::assert(nrow(subset(sample, YEAR == 2008)) > 0)\n",
    "feather::write_feather(sample, paste0(\"../preprocessed_data/sample_features_\", Sys.Date(), \".feather\"))\n",
    "haven::write_dta(sample, paste0(\"../stata_data/sample_features_\", Sys.Date(), \".dta\"))\n",
    "feather::write_feather(sample_crude, paste0(\"../preprocessed_data/sample_features_crude_\", Sys.Date(), \".feather\"))\n",
    "haven::write_dta(sample_crude, paste0(\"../stata_data/sample_features_crude_\", Sys.Date(), \".dta\"))\n",
    "feather::write_feather(none_new, paste0(\"../preprocessed_data/sample_none_new_\", Sys.Date(), \".feather\"))\n",
    "haven::write_dta(none_new, paste0(\"../stata_data/sample_none_new_\", Sys.Date(), \".dta\"))"
   ]
  }
 ],
 "metadata": {
  "kernelspec": {
   "display_name": "R 3.6.1",
   "language": "R",
   "name": "ir361"
  },
  "language_info": {
   "codemirror_mode": "r",
   "file_extension": ".r",
   "mimetype": "text/x-r-source",
   "name": "R",
   "pygments_lexer": "r",
   "version": "3.6.1"
  }
 },
 "nbformat": 4,
 "nbformat_minor": 4
}
