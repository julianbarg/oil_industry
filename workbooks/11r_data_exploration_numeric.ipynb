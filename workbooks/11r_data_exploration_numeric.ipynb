{
 "cells": [
  {
   "cell_type": "markdown",
   "metadata": {},
   "source": [
    "# 11. Data exploration - model (numeric)"
   ]
  },
  {
   "cell_type": "code",
   "execution_count": 1,
   "metadata": {},
   "outputs": [
    {
     "name": "stderr",
     "output_type": "stream",
     "text": [
      "Registered S3 methods overwritten by 'ggplot2':\n",
      "  method         from \n",
      "  [.quosures     rlang\n",
      "  c.quosures     rlang\n",
      "  print.quosures rlang\n",
      "Registered S3 method overwritten by 'rvest':\n",
      "  method            from\n",
      "  read_xml.response xml2\n",
      "── \u001b[1mAttaching packages\u001b[22m ─────────────────────────────────────── tidyverse 1.2.1 ──\n",
      "\u001b[32m✔\u001b[39m \u001b[34mggplot2\u001b[39m 3.1.1       \u001b[32m✔\u001b[39m \u001b[34mpurrr  \u001b[39m 0.3.2  \n",
      "\u001b[32m✔\u001b[39m \u001b[34mtibble \u001b[39m 2.1.1       \u001b[32m✔\u001b[39m \u001b[34mdplyr  \u001b[39m 0.8.0.\u001b[31m1\u001b[39m\n",
      "\u001b[32m✔\u001b[39m \u001b[34mtidyr  \u001b[39m 0.8.3       \u001b[32m✔\u001b[39m \u001b[34mstringr\u001b[39m 1.4.0  \n",
      "\u001b[32m✔\u001b[39m \u001b[34mreadr  \u001b[39m 1.3.1       \u001b[32m✔\u001b[39m \u001b[34mforcats\u001b[39m 0.4.0  \n",
      "── \u001b[1mConflicts\u001b[22m ────────────────────────────────────────── tidyverse_conflicts() ──\n",
      "\u001b[31m✖\u001b[39m \u001b[34mdplyr\u001b[39m::\u001b[32mfilter()\u001b[39m masks \u001b[34mstats\u001b[39m::filter()\n",
      "\u001b[31m✖\u001b[39m \u001b[34mdplyr\u001b[39m::\u001b[32mlag()\u001b[39m    masks \u001b[34mstats\u001b[39m::lag()\n",
      "\n",
      "Attaching package: ‘kableExtra’\n",
      "\n",
      "The following object is masked from ‘package:dplyr’:\n",
      "\n",
      "    group_rows\n",
      "\n"
     ]
    }
   ],
   "source": [
    "library(tidyverse)\n",
    "library(kableExtra)"
   ]
  },
  {
   "cell_type": "code",
   "execution_count": 2,
   "metadata": {},
   "outputs": [],
   "source": [
    "options(repr.plot.width=4, repr.plot.height=3)"
   ]
  },
  {
   "cell_type": "code",
   "execution_count": 3,
   "metadata": {},
   "outputs": [],
   "source": [
    "sample_file <- \"../preprocessed_data/sample_combined_2019-09-16.feather\""
   ]
  },
  {
   "cell_type": "code",
   "execution_count": 4,
   "metadata": {},
   "outputs": [],
   "source": [
    "today <- Sys.Date()"
   ]
  },
  {
   "cell_type": "markdown",
   "metadata": {},
   "source": [
    "## Read data"
   ]
  },
  {
   "cell_type": "code",
   "execution_count": 5,
   "metadata": {},
   "outputs": [
    {
     "name": "stdout",
     "output_type": "stream",
     "text": [
      "Observations: 786\n",
      "Variables: 110\n",
      "$ YEAR                          \u001b[3m\u001b[38;5;246m<dbl>\u001b[39m\u001b[23m 2015, 2015, 2015, 2015, 2015, 2015, 201…\n",
      "$ OPERATOR_ID                   \u001b[3m\u001b[38;5;246m<fct>\u001b[39m\u001b[23m 1248, 14194, 15156, 19319, 22430, 22855…\n",
      "$ CRUDE_AGE_UNKNOWN_MILES       \u001b[3m\u001b[38;5;246m<dbl>\u001b[39m\u001b[23m 0.000, 0.000, 0.000, 0.000, 0.000, 0.00…\n",
      "$ CRUDE_AVG_AGE                 \u001b[3m\u001b[38;5;246m<dbl>\u001b[39m\u001b[23m 38.587502, 0.000000, 38.549180, 0.00000…\n",
      "$ CRUDE_INCIDENTS               \u001b[3m\u001b[38;5;246m<dbl>\u001b[39m\u001b[23m 1, 0, 0, 0, 0, 1, 0, 0, 0, 1, 0, 0, 0, …\n",
      "$ CRUDE_MILES                   \u001b[3m\u001b[38;5;246m<dbl>\u001b[39m\u001b[23m 64.000, 0.000, 211.000, 0.000, 3.582, 7…\n",
      "$ CRUDE_MILES_1940              \u001b[3m\u001b[38;5;246m<dbl>\u001b[39m\u001b[23m 0.0, 0.0, 79.0, 0.0, 0.0, 0.0, 0.0, 0.0…\n",
      "$ CRUDE_MILES_1950              \u001b[3m\u001b[38;5;246m<dbl>\u001b[39m\u001b[23m 0.000, 0.000, 10.000, 0.000, 3.554, 213…\n",
      "$ CRUDE_MILES_1960              \u001b[3m\u001b[38;5;246m<dbl>\u001b[39m\u001b[23m 359.000, 0.000, 168.000, 0.000, 0.023, …\n",
      "$ CRUDE_MILES_1970              \u001b[3m\u001b[38;5;246m<dbl>\u001b[39m\u001b[23m 149.000, 0.000, 113.000, 0.000, 0.000, …\n",
      "$ CRUDE_MILES_1980              \u001b[3m\u001b[38;5;246m<dbl>\u001b[39m\u001b[23m 63.000, 0.000, 0.000, 0.000, 0.000, 767…\n",
      "$ CRUDE_MILES_1990              \u001b[3m\u001b[38;5;246m<dbl>\u001b[39m\u001b[23m 18.000, 0.000, 15.000, 0.000, 0.000, 76…\n",
      "$ CRUDE_MILES_2000              \u001b[3m\u001b[38;5;246m<dbl>\u001b[39m\u001b[23m 35.000, 0.000, 112.000, 0.000, 0.000, 3…\n",
      "$ CRUDE_MILES_2010              \u001b[3m\u001b[38;5;246m<dbl>\u001b[39m\u001b[23m 63.000, 0.000, 34.000, 0.000, 0.005, 10…\n",
      "$ CRUDE_SIGNIFICANT_INCIDENTS   \u001b[3m\u001b[38;5;246m<dbl>\u001b[39m\u001b[23m 1, 0, 0, 0, 0, 1, 0, 0, 0, 1, 0, 0, 0, …\n",
      "$ HVL_AGE_UNKNOWN_MILES         \u001b[3m\u001b[38;5;246m<dbl>\u001b[39m\u001b[23m 0.000, 0.000, 0.000, 0.000, 0.000, 0.00…\n",
      "$ HVL_AVG_AGE                   \u001b[3m\u001b[38;5;246m<dbl>\u001b[39m\u001b[23m 0.000000, 0.000000, 0.000000, 37.142857…\n",
      "$ HVL_INCIDENTS                 \u001b[3m\u001b[38;5;246m<dbl>\u001b[39m\u001b[23m 0, 0, 0, 0, 0, 2, 0, 0, 0, 0, 0, 0, 0, …\n",
      "$ HVL_MILES                     \u001b[3m\u001b[38;5;246m<dbl>\u001b[39m\u001b[23m 0.000, 0.000, 0.000, 112.650, 0.000, 41…\n",
      "$ HVL_MILES_1940                \u001b[3m\u001b[38;5;246m<dbl>\u001b[39m\u001b[23m 0.000, 0.000, 0.000, 1.720, 0.000, 1.98…\n",
      "$ HVL_MILES_1950                \u001b[3m\u001b[38;5;246m<dbl>\u001b[39m\u001b[23m 0.000, 0.000, 0.000, 0.000, 0.000, 0.87…\n",
      "$ HVL_MILES_1960                \u001b[3m\u001b[38;5;246m<dbl>\u001b[39m\u001b[23m 0.000, 0.000, 0.000, 0.300, 0.000, 185.…\n",
      "$ HVL_MILES_1970                \u001b[3m\u001b[38;5;246m<dbl>\u001b[39m\u001b[23m 0.000, 0.000, 0.000, 0.000, 0.000, 107.…\n",
      "$ HVL_MILES_1980                \u001b[3m\u001b[38;5;246m<dbl>\u001b[39m\u001b[23m 0.000, 0.000, 0.000, 0.000, 0.000, 312.…\n",
      "$ HVL_MILES_1990                \u001b[3m\u001b[38;5;246m<dbl>\u001b[39m\u001b[23m 0.000, 0.000, 0.000, 3.500, 0.000, 51.5…\n",
      "$ HVL_MILES_2000                \u001b[3m\u001b[38;5;246m<dbl>\u001b[39m\u001b[23m 0.000, 0.000, 0.000, 0.000, 0.000, 7.31…\n",
      "$ HVL_MILES_2010                \u001b[3m\u001b[38;5;246m<dbl>\u001b[39m\u001b[23m 0.000, 0.000, 0.000, 0.000, 0.000, 33.9…\n",
      "$ HVL_SIGNIFICANT_INCIDENTS     \u001b[3m\u001b[38;5;246m<dbl>\u001b[39m\u001b[23m 0, 0, 0, 0, 0, 0, 0, 0, 0, 0, 0, 0, 0, …\n",
      "$ NON_HVL_AGE_UNKNOWN_MILES     \u001b[3m\u001b[38;5;246m<dbl>\u001b[39m\u001b[23m 0.0, 0.0, 0.0, 0.0, 0.0, 0.0, 0.0, 12.9…\n",
      "$ NON_HVL_AVG_AGE               \u001b[3m\u001b[38;5;246m<dbl>\u001b[39m\u001b[23m 39.3369294, 9.9786780, 35.8550483, 0.00…\n",
      "$ NON_HVL_INCIDENTS             \u001b[3m\u001b[38;5;246m<dbl>\u001b[39m\u001b[23m 0, 0, 1, 0, 1, 1, 0, 27, 10, 0, 0, 0, 0…\n",
      "$ NON_HVL_MILES                 \u001b[3m\u001b[38;5;246m<dbl>\u001b[39m\u001b[23m 0.000, 4.680, 353.000, 18.352, 402.507,…\n",
      "$ NON_HVL_MILES_1940            \u001b[3m\u001b[38;5;246m<dbl>\u001b[39m\u001b[23m 0.000, 0.000, 24.000, 0.000, 0.000, 2.0…\n",
      "$ NON_HVL_MILES_1950            \u001b[3m\u001b[38;5;246m<dbl>\u001b[39m\u001b[23m 0.000, 0.000, 0.000, 0.000, 21.000, 0.2…\n",
      "$ NON_HVL_MILES_1960            \u001b[3m\u001b[38;5;246m<dbl>\u001b[39m\u001b[23m 49.000, 0.000, 200.000, 0.000, 251.510,…\n",
      "$ NON_HVL_MILES_1970            \u001b[3m\u001b[38;5;246m<dbl>\u001b[39m\u001b[23m 0.000, 0.000, 56.000, 0.000, 69.334, 1.…\n",
      "$ NON_HVL_MILES_1980            \u001b[3m\u001b[38;5;246m<dbl>\u001b[39m\u001b[23m 0.000, 0.000, 0.000, 0.000, 3.298, 826.…\n",
      "$ NON_HVL_MILES_1990            \u001b[3m\u001b[38;5;246m<dbl>\u001b[39m\u001b[23m 27.000, 0.000, 45.000, 0.000, 3.247, 36…\n",
      "$ NON_HVL_MILES_2000            \u001b[3m\u001b[38;5;246m<dbl>\u001b[39m\u001b[23m 0.000, 4.680, 110.000, 0.000, 0.224, 4.…\n",
      "$ NON_HVL_MILES_2010            \u001b[3m\u001b[38;5;246m<dbl>\u001b[39m\u001b[23m 0.000, 0.000, 9.000, 0.000, 0.614, 1.07…\n",
      "$ NON_HVL_SIGNIFICANT_INCIDENTS \u001b[3m\u001b[38;5;246m<dbl>\u001b[39m\u001b[23m 0, 0, 1, 0, 1, 1, 0, 8, 4, 0, 0, 0, 0, …\n",
      "$ SIGNIFICANT_INCIDENTS         \u001b[3m\u001b[38;5;246m<dbl>\u001b[39m\u001b[23m 1, 0, 1, 0, 1, 2, 0, 8, 4, 1, 0, 0, 0, …\n",
      "$ ADDED                         \u001b[3m\u001b[38;5;246m<dbl>\u001b[39m\u001b[23m 0.000, 0.000, 0.000, 0.889, 0.000, 9.74…\n",
      "$ REMOVED                       \u001b[3m\u001b[38;5;246m<dbl>\u001b[39m\u001b[23m -1.000, 0.000, -14.000, -111.938, 0.000…\n",
      "$ TOTAL_MILES                   \u001b[3m\u001b[38;5;246m<dbl>\u001b[39m\u001b[23m 763.000, 4.680, 975.000, 5.520, 352.809…\n",
      "$ ADDED_PERC                    \u001b[3m\u001b[38;5;246m<dbl>\u001b[39m\u001b[23m 0.000000e+00, 0.000000e+00, 0.000000e+0…\n",
      "$ REMOVED_PERC                  \u001b[3m\u001b[38;5;246m<dbl>\u001b[39m\u001b[23m -0.001283697, 0.000000000, -0.015005359…\n",
      "$ CHANGE_TOTAL                  \u001b[3m\u001b[38;5;246m<dbl>\u001b[39m\u001b[23m -1.000, 0.000, -14.000, -111.049, 0.000…\n",
      "$ CHANGE_PERC                   \u001b[3m\u001b[38;5;246m<dbl>\u001b[39m\u001b[23m -1.308901e-03, 0.000000e+00, -1.415571e…\n",
      "$ MEAN_CHANGE_3                 \u001b[3m\u001b[38;5;246m<dbl>\u001b[39m\u001b[23m 0.001313481, 0.000000000, -0.011391911,…\n",
      "$ CHANGE_SD                     \u001b[3m\u001b[38;5;246m<dbl>\u001b[39m\u001b[23m 4.912316e-04, 0.000000e+00, 1.235392e-0…\n",
      "$ CHANGE_SD_SQ                  \u001b[3m\u001b[38;5;246m<dbl>\u001b[39m\u001b[23m 2.413085e-07, 0.000000e+00, 1.526193e-0…\n",
      "$ CHANGE_EXP                    \u001b[3m\u001b[38;5;246m<dbl>\u001b[39m\u001b[23m 1.000491, 1.000000, 1.000124, 1.361539,…\n",
      "$ INC_3                         \u001b[3m\u001b[38;5;246m<dbl>\u001b[39m\u001b[23m 3, 0, 4, 0, 1, 10, 0, 15, 11, 1, 0, 0, …\n",
      "$ INC_4                         \u001b[3m\u001b[38;5;246m<dbl>\u001b[39m\u001b[23m 4, 0, 5, 0, 3, 12, 0, 18, 17, 1, 1, 0, …\n",
      "$ INC_5                         \u001b[3m\u001b[38;5;246m<dbl>\u001b[39m\u001b[23m 8, 0, 5, 0, 5, 12, 1, 20, 20, 1, 1, 0, …\n",
      "$ DISC_ADDED                    \u001b[3m\u001b[38;5;246m<dbl>\u001b[39m\u001b[23m NA, NA, NA, NA, NA, NA, NA, NA, NA, NA,…\n",
      "$ DISC_ADDED_ALT                \u001b[3m\u001b[38;5;246m<dbl>\u001b[39m\u001b[23m NA, NA, NA, NA, NA, NA, NA, NA, NA, NA,…\n",
      "$ DISC_ADDED_ALT2               \u001b[3m\u001b[38;5;246m<dbl>\u001b[39m\u001b[23m NA, NA, NA, NA, NA, NA, NA, NA, NA, NA,…\n",
      "$ REMOVED_ADJ                   \u001b[3m\u001b[38;5;246m<dbl>\u001b[39m\u001b[23m 0.001283697, 0.000000000, 0.015005359, …\n",
      "$ CONSOLIDATE                   \u001b[3m\u001b[38;5;246m<dbl>\u001b[39m\u001b[23m NA, NA, NA, NA, NA, NA, NA, NA, NA, NA,…\n",
      "$ CRUDE_MILES_3                 \u001b[3m\u001b[38;5;246m<dbl>\u001b[39m\u001b[23m 332.000, 40.620, 559.000, 0.000, 10.746…\n",
      "$ HVL_MILES_3                   \u001b[3m\u001b[38;5;246m<dbl>\u001b[39m\u001b[23m 0.000, 0.000, 0.000, 343.020, 0.000, 11…\n",
      "$ NON_HVL_MILES_3               \u001b[3m\u001b[38;5;246m<dbl>\u001b[39m\u001b[23m 0.000, 45.680, 1032.000, 55.444, 1213.6…\n",
      "$ CRUDE_AVG_AGE_3               \u001b[3m\u001b[38;5;246m<dbl>\u001b[39m\u001b[23m NA, NA, NA, NA, NA, NA, NA, NA, NA, NA,…\n",
      "$ HVL_AVG_AGE_3                 \u001b[3m\u001b[38;5;246m<dbl>\u001b[39m\u001b[23m NA, NA, NA, NA, NA, NA, NA, NA, NA, NA,…\n",
      "$ NON_HVL_AVG_AGE_3             \u001b[3m\u001b[38;5;246m<dbl>\u001b[39m\u001b[23m NA, NA, NA, NA, NA, NA, NA, NA, NA, NA,…\n",
      "$ NO_CRUDE                      \u001b[3m\u001b[38;5;246m<lgl>\u001b[39m\u001b[23m FALSE, FALSE, FALSE, TRUE, FALSE, FALSE…\n",
      "$ NO_HVL                        \u001b[3m\u001b[38;5;246m<lgl>\u001b[39m\u001b[23m TRUE, TRUE, TRUE, FALSE, TRUE, FALSE, F…\n",
      "$ NO_NON_HVL                    \u001b[3m\u001b[38;5;246m<lgl>\u001b[39m\u001b[23m TRUE, FALSE, FALSE, FALSE, FALSE, FALSE…\n",
      "$ M_A                           \u001b[3m\u001b[38;5;246m<lgl>\u001b[39m\u001b[23m FALSE, FALSE, FALSE, FALSE, FALSE, FALS…\n",
      "$ M_A_1                         \u001b[3m\u001b[38;5;246m<lgl>\u001b[39m\u001b[23m FALSE, FALSE, FALSE, FALSE, FALSE, FALS…\n",
      "$ M_A_2                         \u001b[3m\u001b[38;5;246m<lgl>\u001b[39m\u001b[23m FALSE, FALSE, FALSE, FALSE, FALSE, FALS…\n",
      "$ M_A_3                         \u001b[3m\u001b[38;5;246m<lgl>\u001b[39m\u001b[23m FALSE, FALSE, FALSE, FALSE, FALSE, FALS…\n",
      "$ M_A_past_3                    \u001b[3m\u001b[38;5;246m<lgl>\u001b[39m\u001b[23m FALSE, FALSE, FALSE, FALSE, FALSE, FALS…\n",
      "$ ADDED_1                       \u001b[3m\u001b[38;5;246m<dbl>\u001b[39m\u001b[23m 0.000000e+00, 0.000000e+00, 0.000000e+0…\n",
      "$ ADDED_2                       \u001b[3m\u001b[38;5;246m<dbl>\u001b[39m\u001b[23m NA, NA, NA, NA, NA, NA, NA, NA, NA, NA,…\n",
      "$ ADDED_3                       \u001b[3m\u001b[38;5;246m<dbl>\u001b[39m\u001b[23m NA, NA, NA, NA, NA, NA, NA, NA, NA, NA,…\n",
      "$ MEAN_ADDED_3                  \u001b[3m\u001b[38;5;246m<dbl>\u001b[39m\u001b[23m NA, NA, NA, NA, NA, NA, NA, NA, NA, NA,…\n",
      "$ SD_ADDED_3                    \u001b[3m\u001b[38;5;246m<dbl>\u001b[39m\u001b[23m NA, NA, NA, NA, NA, NA, NA, NA, NA, NA,…\n",
      "$ SD_ADDED_3_EXP                \u001b[3m\u001b[38;5;246m<dbl>\u001b[39m\u001b[23m NA, NA, NA, NA, NA, NA, NA, NA, NA, NA,…\n",
      "$ SD_ADDED_3_EXP_SQ             \u001b[3m\u001b[38;5;246m<dbl>\u001b[39m\u001b[23m NA, NA, NA, NA, NA, NA, NA, NA, NA, NA,…\n",
      "$ SDxADDED                      \u001b[3m\u001b[38;5;246m<dbl>\u001b[39m\u001b[23m NA, NA, NA, NA, NA, NA, NA, NA, NA, NA,…\n",
      "$ CRUDExAGE                     \u001b[3m\u001b[38;5;246m<dbl>\u001b[39m\u001b[23m NA, NA, NA, NA, NA, NA, NA, NA, NA, NA,…\n",
      "$ HVLxAGE                       \u001b[3m\u001b[38;5;246m<dbl>\u001b[39m\u001b[23m NA, NA, NA, NA, NA, NA, NA, NA, NA, NA,…\n",
      "$ NON_HVLxAGE                   \u001b[3m\u001b[38;5;246m<dbl>\u001b[39m\u001b[23m NA, NA, NA, NA, NA, NA, NA, NA, NA, NA,…\n",
      "$ CRUDE_MILES_1940_3            \u001b[3m\u001b[38;5;246m<dbl>\u001b[39m\u001b[23m 0.0, 0.0, 151.0, 0.0, 0.0, 0.0, 0.0, 0.…\n",
      "$ CRUDE_MILES_1950_3            \u001b[3m\u001b[38;5;246m<dbl>\u001b[39m\u001b[23m 0.000, 0.000, 10.000, 0.000, 10.662, 63…\n",
      "$ CRUDE_MILES_1960_3            \u001b[3m\u001b[38;5;246m<dbl>\u001b[39m\u001b[23m 924.000, 0.000, 518.000, 0.000, 0.069, …\n",
      "$ CRUDE_MILES_1970_3            \u001b[3m\u001b[38;5;246m<dbl>\u001b[39m\u001b[23m 486.000, 29.160, 341.000, 0.000, 0.000,…\n",
      "$ CRUDE_MILES_1980_3            \u001b[3m\u001b[38;5;246m<dbl>\u001b[39m\u001b[23m 185.000, 7.260, 0.000, 0.000, 0.000, 24…\n",
      "$ CRUDE_MILES_1990_3            \u001b[3m\u001b[38;5;246m<dbl>\u001b[39m\u001b[23m 59.000, 0.000, 49.000, 0.000, 0.000, 22…\n",
      "$ CRUDE_MILES_2000_3            \u001b[3m\u001b[38;5;246m<dbl>\u001b[39m\u001b[23m 99.000, 4.200, 342.000, 0.000, 0.000, 9…\n",
      "$ CRUDE_MILES_2010_3            \u001b[3m\u001b[38;5;246m<dbl>\u001b[39m\u001b[23m 122.000, 0.000, 66.000, 0.000, 0.015, 3…\n",
      "$ HVL_MILES_1940_3              \u001b[3m\u001b[38;5;246m<dbl>\u001b[39m\u001b[23m 0.000, 0.000, 0.000, 5.160, 0.000, 5.94…\n",
      "$ HVL_MILES_1950_3              \u001b[3m\u001b[38;5;246m<dbl>\u001b[39m\u001b[23m 0.000, 0.000, 0.000, 0.000, 0.000, 2.61…\n",
      "$ HVL_MILES_1960_3              \u001b[3m\u001b[38;5;246m<dbl>\u001b[39m\u001b[23m 0.000, 0.000, 0.000, 0.900, 0.000, 546.…\n",
      "$ HVL_MILES_1970_3              \u001b[3m\u001b[38;5;246m<dbl>\u001b[39m\u001b[23m 0.000, 0.000, 0.000, 0.000, 0.000, 322.…\n",
      "$ HVL_MILES_1980_3              \u001b[3m\u001b[38;5;246m<dbl>\u001b[39m\u001b[23m 0.000, 0.000, 0.000, 0.000, 0.000, 988.…\n",
      "$ HVL_MILES_1990_3              \u001b[3m\u001b[38;5;246m<dbl>\u001b[39m\u001b[23m 0.000, 0.000, 0.000, 10.500, 0.000, 114…\n",
      "$ HVL_MILES_2000_3              \u001b[3m\u001b[38;5;246m<dbl>\u001b[39m\u001b[23m 0.000, 0.000, 0.000, 0.000, 0.000, 21.9…\n",
      "$ HVL_MILES_2010_3              \u001b[3m\u001b[38;5;246m<dbl>\u001b[39m\u001b[23m 0.000, 0.000, 0.000, 0.000, 0.000, 36.5…\n",
      "$ NON_HVL_MILES_1940_3          \u001b[3m\u001b[38;5;246m<dbl>\u001b[39m\u001b[23m 0.000, 0.000, 49.000, 0.000, 0.000, 5.5…\n",
      "$ NON_HVL_MILES_1950_3          \u001b[3m\u001b[38;5;246m<dbl>\u001b[39m\u001b[23m 0.000, 0.000, 12.000, 0.000, 63.152, 0.…\n",
      "$ NON_HVL_MILES_1960_3          \u001b[3m\u001b[38;5;246m<dbl>\u001b[39m\u001b[23m 147.000, 0.000, 600.000, 0.000, 755.763…\n",
      "$ NON_HVL_MILES_1970_3          \u001b[3m\u001b[38;5;246m<dbl>\u001b[39m\u001b[23m 0.000, 0.000, 179.000, 0.000, 150.046, …\n",
      "$ NON_HVL_MILES_1980_3          \u001b[3m\u001b[38;5;246m<dbl>\u001b[39m\u001b[23m 0.000, 0.000, 3.000, 0.000, 9.894, 2478…\n",
      "$ NON_HVL_MILES_1990_3          \u001b[3m\u001b[38;5;246m<dbl>\u001b[39m\u001b[23m 80.000, 16.740, 138.000, 0.000, 9.740, …\n",
      "$ NON_HVL_MILES_2000_3          \u001b[3m\u001b[38;5;246m<dbl>\u001b[39m\u001b[23m 0.000, 28.940, 188.000, 0.000, 0.672, 1…\n",
      "$ NON_HVL_MILES_2010_3          \u001b[3m\u001b[38;5;246m<dbl>\u001b[39m\u001b[23m 0.000, 0.000, 114.000, 0.000, 0.983, 2.…\n"
     ]
    }
   ],
   "source": [
    "sample <- feather::read_feather(sample_file)\n",
    "glimpse(sample)"
   ]
  },
  {
   "cell_type": "markdown",
   "metadata": {},
   "source": [
    "## 11.1 Correlation matrix"
   ]
  },
  {
   "cell_type": "code",
   "execution_count": 6,
   "metadata": {},
   "outputs": [],
   "source": [
    "variables1 <- c(\"INC_3\", \"CHANGE_SD\", \"CHANGE_SD_SQ\", \"DISC_ADDED\", \"CONSOLIDATE\", \"M_A\", \"M_A_2\", \"CRUDE_MILES_3\", \"CRUDE_AVG_AGE_3\", \n",
    "                \"CRUDExAGE\", \"HVL_MILES_3\", \"HVL_AVG_AGE_3\", \"HVLxAGE\", \"NON_HVL_MILES_3\", \"NON_HVL_AVG_AGE_3\", \"NON_HVLxAGE\", \"NO_CRUDE\", \n",
    "                \"NO_HVL\", \"NO_NON_HVL\")\n",
    "variable_names1 <- c(\"Incidts\", \"Adj.\", \"Adj sq.\", \"Miles add\", \"Consolid.\", \"MA\", \"MA t-1\", \n",
    "                     \"Miles Crude\", \"Age Crude\", \"MxA Crude\", \"M. HVL\", \"A. HVL\", \"MxA HVL\", \"M. Non-HVL\", \n",
    "                     \"A. Non-HVL\", \"MxA Non-HVL\", \"No Crude\", \"No HVL\", \"No Non-HVL\")"
   ]
  },
  {
   "cell_type": "code",
   "execution_count": 7,
   "metadata": {},
   "outputs": [
    {
     "data": {
      "text/html": [
       "<dl class=dl-horizontal>\n",
       "\t<dt>Incidts</dt>\n",
       "\t\t<dd>4.71</dd>\n",
       "\t<dt>Adj.</dt>\n",
       "\t\t<dd>0.16</dd>\n",
       "\t<dt>Adj sq.</dt>\n",
       "\t\t<dd>0.38</dd>\n",
       "\t<dt>Miles add</dt>\n",
       "\t\t<dd>0.25</dd>\n",
       "\t<dt>Consolid.</dt>\n",
       "\t\t<dd>0.72</dd>\n",
       "\t<dt>MA</dt>\n",
       "\t\t<dd>0.02</dd>\n",
       "</dl>\n"
      ],
      "text/latex": [
       "\\begin{description*}\n",
       "\\item[Incidts] 4.71\n",
       "\\item[Adj.] 0.16\n",
       "\\item[Adj sq.] 0.38\n",
       "\\item[Miles add] 0.25\n",
       "\\item[Consolid.] 0.72\n",
       "\\item[MA] 0.02\n",
       "\\end{description*}\n"
      ],
      "text/markdown": [
       "Incidts\n",
       ":   4.71Adj.\n",
       ":   0.16Adj sq.\n",
       ":   0.38Miles add\n",
       ":   0.25Consolid.\n",
       ":   0.72MA\n",
       ":   0.02\n",
       "\n"
      ],
      "text/plain": [
       "  Incidts      Adj.   Adj sq. Miles add Consolid.        MA \n",
       "     4.71      0.16      0.38      0.25      0.72      0.02 "
      ]
     },
     "metadata": {},
     "output_type": "display_data"
    }
   ],
   "source": [
    "mean_model1 <- sapply(select(sample, variables1), mean, na.rm=TRUE)\n",
    "mean_model1 <- round(mean_model1, 2)\n",
    "names(mean_model1) <- variable_names1\n",
    "head(mean_model1)"
   ]
  },
  {
   "cell_type": "code",
   "execution_count": 8,
   "metadata": {},
   "outputs": [
    {
     "data": {
      "text/html": [
       "<dl class=dl-horizontal>\n",
       "\t<dt>Incidts</dt>\n",
       "\t\t<dd>7.68</dd>\n",
       "\t<dt>Adj.</dt>\n",
       "\t\t<dd>0.59</dd>\n",
       "\t<dt>Adj sq.</dt>\n",
       "\t\t<dd>2.62</dd>\n",
       "\t<dt>Miles add</dt>\n",
       "\t\t<dd>0.41</dd>\n",
       "\t<dt>Consolid.</dt>\n",
       "\t\t<dd>2.71</dd>\n",
       "\t<dt>MA</dt>\n",
       "\t\t<dd>0.14</dd>\n",
       "</dl>\n"
      ],
      "text/latex": [
       "\\begin{description*}\n",
       "\\item[Incidts] 7.68\n",
       "\\item[Adj.] 0.59\n",
       "\\item[Adj sq.] 2.62\n",
       "\\item[Miles add] 0.41\n",
       "\\item[Consolid.] 2.71\n",
       "\\item[MA] 0.14\n",
       "\\end{description*}\n"
      ],
      "text/markdown": [
       "Incidts\n",
       ":   7.68Adj.\n",
       ":   0.59Adj sq.\n",
       ":   2.62Miles add\n",
       ":   0.41Consolid.\n",
       ":   2.71MA\n",
       ":   0.14\n",
       "\n"
      ],
      "text/plain": [
       "  Incidts      Adj.   Adj sq. Miles add Consolid.        MA \n",
       "     7.68      0.59      2.62      0.41      2.71      0.14 "
      ]
     },
     "metadata": {},
     "output_type": "display_data"
    }
   ],
   "source": [
    "sd_model1 <- sapply(select(sample, variables1), sd, na.rm=TRUE)\n",
    "sd_model1 <- round(sd_model1, 2)\n",
    "names(sd_model1) <- variable_names1\n",
    "head(sd_model1)"
   ]
  },
  {
   "cell_type": "code",
   "execution_count": 9,
   "metadata": {},
   "outputs": [
    {
     "data": {
      "text/html": [
       "<table>\n",
       "<caption>A matrix: 6 × 19 of type chr</caption>\n",
       "<thead>\n",
       "\t<tr><th></th><th scope=col>Incidts</th><th scope=col>Adj.</th><th scope=col>Adj sq.</th><th scope=col>Miles add</th><th scope=col>Consolid.</th><th scope=col>MA</th><th scope=col>MA t-1</th><th scope=col>Miles Crude</th><th scope=col>Age Crude</th><th scope=col>MxA Crude</th><th scope=col>M. HVL</th><th scope=col>A. HVL</th><th scope=col>MxA HVL</th><th scope=col>M. Non-HVL</th><th scope=col>A. Non-HVL</th><th scope=col>MxA Non-HVL</th><th scope=col>No Crude</th><th scope=col>No HVL</th><th scope=col>No Non-HVL</th></tr>\n",
       "</thead>\n",
       "<tbody>\n",
       "\t<tr><th scope=row>Incidts</th><td>1    </td><td>     </td><td>     </td><td>    </td><td>     </td><td> </td><td></td><td></td><td></td><td></td><td></td><td></td><td></td><td></td><td></td><td></td><td></td><td></td><td></td></tr>\n",
       "\t<tr><th scope=row>Adj.</th><td>-0.06</td><td>1    </td><td>     </td><td>    </td><td>     </td><td> </td><td></td><td></td><td></td><td></td><td></td><td></td><td></td><td></td><td></td><td></td><td></td><td></td><td></td></tr>\n",
       "\t<tr><th scope=row>Adj sq.</th><td>-0.06</td><td>0.93 </td><td>1    </td><td>    </td><td>     </td><td> </td><td></td><td></td><td></td><td></td><td></td><td></td><td></td><td></td><td></td><td></td><td></td><td></td><td></td></tr>\n",
       "\t<tr><th scope=row>Miles add</th><td>-0.04</td><td>0.31 </td><td>0.16 </td><td>1   </td><td>     </td><td> </td><td></td><td></td><td></td><td></td><td></td><td></td><td></td><td></td><td></td><td></td><td></td><td></td><td></td></tr>\n",
       "\t<tr><th scope=row>Consolid.</th><td>-0.1 </td><td>0.06 </td><td>-0.02</td><td>0.39</td><td>1    </td><td> </td><td></td><td></td><td></td><td></td><td></td><td></td><td></td><td></td><td></td><td></td><td></td><td></td><td></td></tr>\n",
       "\t<tr><th scope=row>MA</th><td>0.19 </td><td>-0.02</td><td>-0.02</td><td>0.01</td><td>-0.02</td><td>1</td><td></td><td></td><td></td><td></td><td></td><td></td><td></td><td></td><td></td><td></td><td></td><td></td><td></td></tr>\n",
       "</tbody>\n",
       "</table>\n"
      ],
      "text/latex": [
       "A matrix: 6 × 19 of type chr\n",
       "\\begin{tabular}{r|lllllllllllllllllll}\n",
       "  & Incidts & Adj. & Adj sq. & Miles add & Consolid. & MA & MA t-1 & Miles Crude & Age Crude & MxA Crude & M. HVL & A. HVL & MxA HVL & M. Non-HVL & A. Non-HVL & MxA Non-HVL & No Crude & No HVL & No Non-HVL\\\\\n",
       "\\hline\n",
       "\tIncidts & 1     &       &       &      &       &   &  &  &  &  &  &  &  &  &  &  &  &  & \\\\\n",
       "\tAdj. & -0.06 & 1     &       &      &       &   &  &  &  &  &  &  &  &  &  &  &  &  & \\\\\n",
       "\tAdj sq. & -0.06 & 0.93  & 1     &      &       &   &  &  &  &  &  &  &  &  &  &  &  &  & \\\\\n",
       "\tMiles add & -0.04 & 0.31  & 0.16  & 1    &       &   &  &  &  &  &  &  &  &  &  &  &  &  & \\\\\n",
       "\tConsolid. & -0.1  & 0.06  & -0.02 & 0.39 & 1     &   &  &  &  &  &  &  &  &  &  &  &  &  & \\\\\n",
       "\tMA & 0.19  & -0.02 & -0.02 & 0.01 & -0.02 & 1 &  &  &  &  &  &  &  &  &  &  &  &  & \\\\\n",
       "\\end{tabular}\n"
      ],
      "text/markdown": [
       "\n",
       "A matrix: 6 × 19 of type chr\n",
       "\n",
       "| <!--/--> | Incidts | Adj. | Adj sq. | Miles add | Consolid. | MA | MA t-1 | Miles Crude | Age Crude | MxA Crude | M. HVL | A. HVL | MxA HVL | M. Non-HVL | A. Non-HVL | MxA Non-HVL | No Crude | No HVL | No Non-HVL |\n",
       "|---|---|---|---|---|---|---|---|---|---|---|---|---|---|---|---|---|---|---|---|\n",
       "| Incidts | 1     | <!----> | <!----> | <!----> | <!----> | <!----> | <!----> | <!----> | <!----> | <!----> | <!----> | <!----> | <!----> | <!----> | <!----> | <!----> | <!----> | <!----> | <!----> |\n",
       "| Adj. | -0.06 | 1     | <!----> | <!----> | <!----> | <!----> | <!----> | <!----> | <!----> | <!----> | <!----> | <!----> | <!----> | <!----> | <!----> | <!----> | <!----> | <!----> | <!----> |\n",
       "| Adj sq. | -0.06 | 0.93  | 1     | <!----> | <!----> | <!----> | <!----> | <!----> | <!----> | <!----> | <!----> | <!----> | <!----> | <!----> | <!----> | <!----> | <!----> | <!----> | <!----> |\n",
       "| Miles add | -0.04 | 0.31  | 0.16  | 1    | <!----> | <!----> | <!----> | <!----> | <!----> | <!----> | <!----> | <!----> | <!----> | <!----> | <!----> | <!----> | <!----> | <!----> | <!----> |\n",
       "| Consolid. | -0.1  | 0.06  | -0.02 | 0.39 | 1     | <!----> | <!----> | <!----> | <!----> | <!----> | <!----> | <!----> | <!----> | <!----> | <!----> | <!----> | <!----> | <!----> | <!----> |\n",
       "| MA | 0.19  | -0.02 | -0.02 | 0.01 | -0.02 | 1 | <!----> | <!----> | <!----> | <!----> | <!----> | <!----> | <!----> | <!----> | <!----> | <!----> | <!----> | <!----> | <!----> |\n",
       "\n"
      ],
      "text/plain": [
       "          Incidts Adj.  Adj sq. Miles add Consolid. MA MA t-1 Miles Crude\n",
       "Incidts   1                                                              \n",
       "Adj.      -0.06   1                                                      \n",
       "Adj sq.   -0.06   0.93  1                                                \n",
       "Miles add -0.04   0.31  0.16    1                                        \n",
       "Consolid. -0.1    0.06  -0.02   0.39      1                              \n",
       "MA        0.19    -0.02 -0.02   0.01      -0.02     1                    \n",
       "          Age Crude MxA Crude M. HVL A. HVL MxA HVL M. Non-HVL A. Non-HVL\n",
       "Incidts                                                                  \n",
       "Adj.                                                                     \n",
       "Adj sq.                                                                  \n",
       "Miles add                                                                \n",
       "Consolid.                                                                \n",
       "MA                                                                       \n",
       "          MxA Non-HVL No Crude No HVL No Non-HVL\n",
       "Incidts                                         \n",
       "Adj.                                            \n",
       "Adj sq.                                         \n",
       "Miles add                                       \n",
       "Consolid.                                       \n",
       "MA                                              "
      ]
     },
     "metadata": {},
     "output_type": "display_data"
    }
   ],
   "source": [
    "model1 <- sample %>%\n",
    "    select(variables1) %>%\n",
    "    as.matrix %>%\n",
    "    cor(use=\"pairwise.complete.obs\") %>%\n",
    "    {round(., 2)}\n",
    "model1[upper.tri(model1)] <- \"\"\n",
    "colnames(model1) <- variable_names1\n",
    "rownames(model1) <- variable_names1\n",
    "head(model1)"
   ]
  },
  {
   "cell_type": "code",
   "execution_count": 10,
   "metadata": {},
   "outputs": [
    {
     "data": {
      "text/html": [
       "<table>\n",
       "<caption>A matrix: 6 × 21 of type chr</caption>\n",
       "<thead>\n",
       "\t<tr><th></th><th scope=col>Mean</th><th scope=col>SD</th><th scope=col>Incidts</th><th scope=col>Adj.</th><th scope=col>Adj sq.</th><th scope=col>Miles add</th><th scope=col>Consolid.</th><th scope=col>MA</th><th scope=col>MA t-1</th><th scope=col>Miles Crude</th><th scope=col>⋯</th><th scope=col>MxA Crude</th><th scope=col>M. HVL</th><th scope=col>A. HVL</th><th scope=col>MxA HVL</th><th scope=col>M. Non-HVL</th><th scope=col>A. Non-HVL</th><th scope=col>MxA Non-HVL</th><th scope=col>No Crude</th><th scope=col>No HVL</th><th scope=col>No Non-HVL</th></tr>\n",
       "</thead>\n",
       "<tbody>\n",
       "\t<tr><th scope=row>Incidts</th><td>4.71</td><td>7.68</td><td>1    </td><td>     </td><td>     </td><td>    </td><td>     </td><td> </td><td></td><td></td><td>⋯</td><td></td><td></td><td></td><td></td><td></td><td></td><td></td><td></td><td></td><td></td></tr>\n",
       "\t<tr><th scope=row>Adj.</th><td>0.16</td><td>0.59</td><td>-0.06</td><td>1    </td><td>     </td><td>    </td><td>     </td><td> </td><td></td><td></td><td>⋯</td><td></td><td></td><td></td><td></td><td></td><td></td><td></td><td></td><td></td><td></td></tr>\n",
       "\t<tr><th scope=row>Adj sq.</th><td>0.38</td><td>2.62</td><td>-0.06</td><td>0.93 </td><td>1    </td><td>    </td><td>     </td><td> </td><td></td><td></td><td>⋯</td><td></td><td></td><td></td><td></td><td></td><td></td><td></td><td></td><td></td><td></td></tr>\n",
       "\t<tr><th scope=row>Miles add</th><td>0.25</td><td>0.41</td><td>-0.04</td><td>0.31 </td><td>0.16 </td><td>1   </td><td>     </td><td> </td><td></td><td></td><td>⋯</td><td></td><td></td><td></td><td></td><td></td><td></td><td></td><td></td><td></td><td></td></tr>\n",
       "\t<tr><th scope=row>Consolid.</th><td>0.72</td><td>2.71</td><td>-0.1 </td><td>0.06 </td><td>-0.02</td><td>0.39</td><td>1    </td><td> </td><td></td><td></td><td>⋯</td><td></td><td></td><td></td><td></td><td></td><td></td><td></td><td></td><td></td><td></td></tr>\n",
       "\t<tr><th scope=row>MA</th><td>0.02</td><td>0.14</td><td>0.19 </td><td>-0.02</td><td>-0.02</td><td>0.01</td><td>-0.02</td><td>1</td><td></td><td></td><td>⋯</td><td></td><td></td><td></td><td></td><td></td><td></td><td></td><td></td><td></td><td></td></tr>\n",
       "</tbody>\n",
       "</table>\n"
      ],
      "text/latex": [
       "A matrix: 6 × 21 of type chr\n",
       "\\begin{tabular}{r|lllllllllllllllllllll}\n",
       "  & Mean & SD & Incidts & Adj. & Adj sq. & Miles add & Consolid. & MA & MA t-1 & Miles Crude & Age Crude & MxA Crude & M. HVL & A. HVL & MxA HVL & M. Non-HVL & A. Non-HVL & MxA Non-HVL & No Crude & No HVL & No Non-HVL\\\\\n",
       "\\hline\n",
       "\tIncidts & 4.71 & 7.68 & 1     &       &       &      &       &   &  &  &  &  &  &  &  &  &  &  &  &  & \\\\\n",
       "\tAdj. & 0.16 & 0.59 & -0.06 & 1     &       &      &       &   &  &  &  &  &  &  &  &  &  &  &  &  & \\\\\n",
       "\tAdj sq. & 0.38 & 2.62 & -0.06 & 0.93  & 1     &      &       &   &  &  &  &  &  &  &  &  &  &  &  &  & \\\\\n",
       "\tMiles add & 0.25 & 0.41 & -0.04 & 0.31  & 0.16  & 1    &       &   &  &  &  &  &  &  &  &  &  &  &  &  & \\\\\n",
       "\tConsolid. & 0.72 & 2.71 & -0.1  & 0.06  & -0.02 & 0.39 & 1     &   &  &  &  &  &  &  &  &  &  &  &  &  & \\\\\n",
       "\tMA & 0.02 & 0.14 & 0.19  & -0.02 & -0.02 & 0.01 & -0.02 & 1 &  &  &  &  &  &  &  &  &  &  &  &  & \\\\\n",
       "\\end{tabular}\n"
      ],
      "text/markdown": [
       "\n",
       "A matrix: 6 × 21 of type chr\n",
       "\n",
       "| <!--/--> | Mean | SD | Incidts | Adj. | Adj sq. | Miles add | Consolid. | MA | MA t-1 | Miles Crude | ⋯ | MxA Crude | M. HVL | A. HVL | MxA HVL | M. Non-HVL | A. Non-HVL | MxA Non-HVL | No Crude | No HVL | No Non-HVL |\n",
       "|---|---|---|---|---|---|---|---|---|---|---|---|---|---|---|---|---|---|---|---|---|---|\n",
       "| Incidts | 4.71 | 7.68 | 1     | <!----> | <!----> | <!----> | <!----> | <!----> | <!----> | <!----> | ⋯ | <!----> | <!----> | <!----> | <!----> | <!----> | <!----> | <!----> | <!----> | <!----> | <!----> |\n",
       "| Adj. | 0.16 | 0.59 | -0.06 | 1     | <!----> | <!----> | <!----> | <!----> | <!----> | <!----> | ⋯ | <!----> | <!----> | <!----> | <!----> | <!----> | <!----> | <!----> | <!----> | <!----> | <!----> |\n",
       "| Adj sq. | 0.38 | 2.62 | -0.06 | 0.93  | 1     | <!----> | <!----> | <!----> | <!----> | <!----> | ⋯ | <!----> | <!----> | <!----> | <!----> | <!----> | <!----> | <!----> | <!----> | <!----> | <!----> |\n",
       "| Miles add | 0.25 | 0.41 | -0.04 | 0.31  | 0.16  | 1    | <!----> | <!----> | <!----> | <!----> | ⋯ | <!----> | <!----> | <!----> | <!----> | <!----> | <!----> | <!----> | <!----> | <!----> | <!----> |\n",
       "| Consolid. | 0.72 | 2.71 | -0.1  | 0.06  | -0.02 | 0.39 | 1     | <!----> | <!----> | <!----> | ⋯ | <!----> | <!----> | <!----> | <!----> | <!----> | <!----> | <!----> | <!----> | <!----> | <!----> |\n",
       "| MA | 0.02 | 0.14 | 0.19  | -0.02 | -0.02 | 0.01 | -0.02 | 1 | <!----> | <!----> | ⋯ | <!----> | <!----> | <!----> | <!----> | <!----> | <!----> | <!----> | <!----> | <!----> | <!----> |\n",
       "\n"
      ],
      "text/plain": [
       "          Mean SD   Incidts Adj.  Adj sq. Miles add Consolid. MA MA t-1\n",
       "Incidts   4.71 7.68 1                                                  \n",
       "Adj.      0.16 0.59 -0.06   1                                          \n",
       "Adj sq.   0.38 2.62 -0.06   0.93  1                                    \n",
       "Miles add 0.25 0.41 -0.04   0.31  0.16    1                            \n",
       "Consolid. 0.72 2.71 -0.1    0.06  -0.02   0.39      1                  \n",
       "MA        0.02 0.14 0.19    -0.02 -0.02   0.01      -0.02     1        \n",
       "          Miles Crude ⋯ MxA Crude M. HVL A. HVL MxA HVL M. Non-HVL A. Non-HVL\n",
       "Incidts               ⋯                                                      \n",
       "Adj.                  ⋯                                                      \n",
       "Adj sq.               ⋯                                                      \n",
       "Miles add             ⋯                                                      \n",
       "Consolid.             ⋯                                                      \n",
       "MA                    ⋯                                                      \n",
       "          MxA Non-HVL No Crude No HVL No Non-HVL\n",
       "Incidts                                         \n",
       "Adj.                                            \n",
       "Adj sq.                                         \n",
       "Miles add                                       \n",
       "Consolid.                                       \n",
       "MA                                              "
      ]
     },
     "metadata": {},
     "output_type": "display_data"
    }
   ],
   "source": [
    "model1 <- cbind(\"Mean\" = mean_model1, \"SD\" = sd_model1, model1)\n",
    "head(model1)"
   ]
  },
  {
   "cell_type": "code",
   "execution_count": 11,
   "metadata": {},
   "outputs": [],
   "source": [
    "model1_tex <- capture.output(kable(model1, \"latex\", booktabs=T) %>%\n",
    "    kable_styling(latex_options=c(\"scale_down\")))"
   ]
  },
  {
   "cell_type": "code",
   "execution_count": 12,
   "metadata": {},
   "outputs": [],
   "source": [
    "writeLines(model1_tex, \"../drafts/summer_paper/illustrations/summary1.tex\")"
   ]
  },
  {
   "cell_type": "markdown",
   "metadata": {},
   "source": [
    "## Model 2"
   ]
  },
  {
   "cell_type": "code",
   "execution_count": 13,
   "metadata": {},
   "outputs": [],
   "source": [
    "variables2 <- c(\"INC_3\", \"CHANGE_SD\", \"CHANGE_SD_SQ\", \"DISC_ADDED\", \"CONSOLIDATE\", \"M_A\", \"M_A_2\", \"CRUDE_MILES_1940_3\", \"CRUDE_MILES_1950_3\", \n",
    "                \"CRUDE_MILES_1960_3\", \"CRUDE_MILES_1970_3\", \"CRUDE_MILES_1980_3\", \"CRUDE_MILES_1990_3\", \"CRUDE_MILES_2000_3\", \n",
    "                \"CRUDE_MILES_2010_3\", \"HVL_MILES_1940_3\", \"HVL_MILES_1950_3\", \"HVL_MILES_1960_3\", \"HVL_MILES_1970_3\", \"HVL_MILES_1980_3\",\n",
    "                \"HVL_MILES_1990_3\", \"HVL_MILES_2000_3\", \"HVL_MILES_2010_3\", \"NON_HVL_MILES_1940_3\", \"NON_HVL_MILES_1950_3\", \n",
    "                \"NON_HVL_MILES_1960_3\", \"NON_HVL_MILES_1970_3\", \"NON_HVL_MILES_1980_3\", \"NON_HVL_MILES_1990_3\", \"NON_HVL_MILES_2000_3\", \n",
    "                \"NON_HVL_MILES_2010_3\")\n",
    "variable_names2 <- c(\"Incidts\", \"Adj.\", \"Adj sq.\", \"Miles add\", \"Consolid.\", \"MA\", \"MA t-1\", \"Crude 40s\", \"Crude 50s\", \"Crude 60s\",\n",
    "                     \"Crude 70s\", \"Crude 80s\", \"Crude 90s\", \"Crude 00s\", \"Crude 10s\", \"HVL 40s\", \"HVL 50s\", \"HVL 60s\", \"HVL 70s\", \n",
    "                     \"HVL 80s\", \"HVL 90s\", \"HLV 00s\", \"HVL 10s\", \"Non-HVL 40s\", \"Non-HVL 50s\", \"Non-HVL 60s\", \"Non-HVL 70s\", \"Non-HVL 80s\", \n",
    "                     \"Non-HVL 90s\", \"Non-HVL 00s\", \"Non-HVL 10s\")"
   ]
  },
  {
   "cell_type": "code",
   "execution_count": 14,
   "metadata": {},
   "outputs": [
    {
     "data": {
      "text/html": [
       "<dl class=dl-horizontal>\n",
       "\t<dt>Incidts</dt>\n",
       "\t\t<dd>4.71</dd>\n",
       "\t<dt>Adj.</dt>\n",
       "\t\t<dd>0.16</dd>\n",
       "\t<dt>Adj sq.</dt>\n",
       "\t\t<dd>0.38</dd>\n",
       "\t<dt>Miles add</dt>\n",
       "\t\t<dd>0.25</dd>\n",
       "\t<dt>Consolid.</dt>\n",
       "\t\t<dd>0.72</dd>\n",
       "\t<dt>MA</dt>\n",
       "\t\t<dd>0.02</dd>\n",
       "</dl>\n"
      ],
      "text/latex": [
       "\\begin{description*}\n",
       "\\item[Incidts] 4.71\n",
       "\\item[Adj.] 0.16\n",
       "\\item[Adj sq.] 0.38\n",
       "\\item[Miles add] 0.25\n",
       "\\item[Consolid.] 0.72\n",
       "\\item[MA] 0.02\n",
       "\\end{description*}\n"
      ],
      "text/markdown": [
       "Incidts\n",
       ":   4.71Adj.\n",
       ":   0.16Adj sq.\n",
       ":   0.38Miles add\n",
       ":   0.25Consolid.\n",
       ":   0.72MA\n",
       ":   0.02\n",
       "\n"
      ],
      "text/plain": [
       "  Incidts      Adj.   Adj sq. Miles add Consolid.        MA \n",
       "     4.71      0.16      0.38      0.25      0.72      0.02 "
      ]
     },
     "metadata": {},
     "output_type": "display_data"
    }
   ],
   "source": [
    "mean_model2 <- sapply(select(sample, variables2), mean, na.rm=TRUE)\n",
    "mean_model2 <- round(mean_model2, 2)\n",
    "names(mean_model2) <- variable_names2\n",
    "head(mean_model2)"
   ]
  },
  {
   "cell_type": "code",
   "execution_count": 15,
   "metadata": {},
   "outputs": [
    {
     "data": {
      "text/html": [
       "<dl class=dl-horizontal>\n",
       "\t<dt>Incidts</dt>\n",
       "\t\t<dd>7.68</dd>\n",
       "\t<dt>Adj.</dt>\n",
       "\t\t<dd>0.59</dd>\n",
       "\t<dt>Adj sq.</dt>\n",
       "\t\t<dd>2.62</dd>\n",
       "\t<dt>Miles add</dt>\n",
       "\t\t<dd>0.41</dd>\n",
       "\t<dt>Consolid.</dt>\n",
       "\t\t<dd>2.71</dd>\n",
       "\t<dt>MA</dt>\n",
       "\t\t<dd>0.14</dd>\n",
       "</dl>\n"
      ],
      "text/latex": [
       "\\begin{description*}\n",
       "\\item[Incidts] 7.68\n",
       "\\item[Adj.] 0.59\n",
       "\\item[Adj sq.] 2.62\n",
       "\\item[Miles add] 0.41\n",
       "\\item[Consolid.] 2.71\n",
       "\\item[MA] 0.14\n",
       "\\end{description*}\n"
      ],
      "text/markdown": [
       "Incidts\n",
       ":   7.68Adj.\n",
       ":   0.59Adj sq.\n",
       ":   2.62Miles add\n",
       ":   0.41Consolid.\n",
       ":   2.71MA\n",
       ":   0.14\n",
       "\n"
      ],
      "text/plain": [
       "  Incidts      Adj.   Adj sq. Miles add Consolid.        MA \n",
       "     7.68      0.59      2.62      0.41      2.71      0.14 "
      ]
     },
     "metadata": {},
     "output_type": "display_data"
    }
   ],
   "source": [
    "sd_model2 <- sapply(select(sample, variables2), sd, na.rm=TRUE)\n",
    "sd_model2 <- round(sd_model2, 2)\n",
    "names(sd_model2) <- variable_names2\n",
    "head(sd_model2)"
   ]
  },
  {
   "cell_type": "code",
   "execution_count": 16,
   "metadata": {},
   "outputs": [
    {
     "data": {
      "text/html": [
       "<table>\n",
       "<caption>A matrix: 6 × 31 of type chr</caption>\n",
       "<thead>\n",
       "\t<tr><th></th><th scope=col>Incidts</th><th scope=col>Adj.</th><th scope=col>Adj sq.</th><th scope=col>Miles add</th><th scope=col>Consolid.</th><th scope=col>MA</th><th scope=col>MA t-1</th><th scope=col>Crude 40s</th><th scope=col>Crude 50s</th><th scope=col>Crude 60s</th><th scope=col>⋯</th><th scope=col>HLV 00s</th><th scope=col>HVL 10s</th><th scope=col>Non-HVL 40s</th><th scope=col>Non-HVL 50s</th><th scope=col>Non-HVL 60s</th><th scope=col>Non-HVL 70s</th><th scope=col>Non-HVL 80s</th><th scope=col>Non-HVL 90s</th><th scope=col>Non-HVL 00s</th><th scope=col>Non-HVL 10s</th></tr>\n",
       "</thead>\n",
       "<tbody>\n",
       "\t<tr><th scope=row>Incidts</th><td>1    </td><td>     </td><td>     </td><td>    </td><td>     </td><td> </td><td></td><td></td><td></td><td></td><td>⋯</td><td></td><td></td><td></td><td></td><td></td><td></td><td></td><td></td><td></td><td></td></tr>\n",
       "\t<tr><th scope=row>Adj.</th><td>-0.06</td><td>1    </td><td>     </td><td>    </td><td>     </td><td> </td><td></td><td></td><td></td><td></td><td>⋯</td><td></td><td></td><td></td><td></td><td></td><td></td><td></td><td></td><td></td><td></td></tr>\n",
       "\t<tr><th scope=row>Adj sq.</th><td>-0.06</td><td>0.93 </td><td>1    </td><td>    </td><td>     </td><td> </td><td></td><td></td><td></td><td></td><td>⋯</td><td></td><td></td><td></td><td></td><td></td><td></td><td></td><td></td><td></td><td></td></tr>\n",
       "\t<tr><th scope=row>Miles add</th><td>-0.04</td><td>0.31 </td><td>0.16 </td><td>1   </td><td>     </td><td> </td><td></td><td></td><td></td><td></td><td>⋯</td><td></td><td></td><td></td><td></td><td></td><td></td><td></td><td></td><td></td><td></td></tr>\n",
       "\t<tr><th scope=row>Consolid.</th><td>-0.1 </td><td>0.06 </td><td>-0.02</td><td>0.39</td><td>1    </td><td> </td><td></td><td></td><td></td><td></td><td>⋯</td><td></td><td></td><td></td><td></td><td></td><td></td><td></td><td></td><td></td><td></td></tr>\n",
       "\t<tr><th scope=row>MA</th><td>0.19 </td><td>-0.02</td><td>-0.02</td><td>0.01</td><td>-0.02</td><td>1</td><td></td><td></td><td></td><td></td><td>⋯</td><td></td><td></td><td></td><td></td><td></td><td></td><td></td><td></td><td></td><td></td></tr>\n",
       "</tbody>\n",
       "</table>\n"
      ],
      "text/latex": [
       "A matrix: 6 × 31 of type chr\n",
       "\\begin{tabular}{r|lllllllllllllllllllllllllllllll}\n",
       "  & Incidts & Adj. & Adj sq. & Miles add & Consolid. & MA & MA t-1 & Crude 40s & Crude 50s & Crude 60s & Crude 70s & Crude 80s & Crude 90s & Crude 00s & Crude 10s & HVL 40s & HVL 50s & HVL 60s & HVL 70s & HVL 80s & HVL 90s & HLV 00s & HVL 10s & Non-HVL 40s & Non-HVL 50s & Non-HVL 60s & Non-HVL 70s & Non-HVL 80s & Non-HVL 90s & Non-HVL 00s & Non-HVL 10s\\\\\n",
       "\\hline\n",
       "\tIncidts & 1     &       &       &      &       &   &  &  &  &  &  &  &  &  &  &  &  &  &  &  &  &  &  &  &  &  &  &  &  &  & \\\\\n",
       "\tAdj. & -0.06 & 1     &       &      &       &   &  &  &  &  &  &  &  &  &  &  &  &  &  &  &  &  &  &  &  &  &  &  &  &  & \\\\\n",
       "\tAdj sq. & -0.06 & 0.93  & 1     &      &       &   &  &  &  &  &  &  &  &  &  &  &  &  &  &  &  &  &  &  &  &  &  &  &  &  & \\\\\n",
       "\tMiles add & -0.04 & 0.31  & 0.16  & 1    &       &   &  &  &  &  &  &  &  &  &  &  &  &  &  &  &  &  &  &  &  &  &  &  &  &  & \\\\\n",
       "\tConsolid. & -0.1  & 0.06  & -0.02 & 0.39 & 1     &   &  &  &  &  &  &  &  &  &  &  &  &  &  &  &  &  &  &  &  &  &  &  &  &  & \\\\\n",
       "\tMA & 0.19  & -0.02 & -0.02 & 0.01 & -0.02 & 1 &  &  &  &  &  &  &  &  &  &  &  &  &  &  &  &  &  &  &  &  &  &  &  &  & \\\\\n",
       "\\end{tabular}\n"
      ],
      "text/markdown": [
       "\n",
       "A matrix: 6 × 31 of type chr\n",
       "\n",
       "| <!--/--> | Incidts | Adj. | Adj sq. | Miles add | Consolid. | MA | MA t-1 | Crude 40s | Crude 50s | Crude 60s | ⋯ | HLV 00s | HVL 10s | Non-HVL 40s | Non-HVL 50s | Non-HVL 60s | Non-HVL 70s | Non-HVL 80s | Non-HVL 90s | Non-HVL 00s | Non-HVL 10s |\n",
       "|---|---|---|---|---|---|---|---|---|---|---|---|---|---|---|---|---|---|---|---|---|---|\n",
       "| Incidts | 1     | <!----> | <!----> | <!----> | <!----> | <!----> | <!----> | <!----> | <!----> | <!----> | ⋯ | <!----> | <!----> | <!----> | <!----> | <!----> | <!----> | <!----> | <!----> | <!----> | <!----> |\n",
       "| Adj. | -0.06 | 1     | <!----> | <!----> | <!----> | <!----> | <!----> | <!----> | <!----> | <!----> | ⋯ | <!----> | <!----> | <!----> | <!----> | <!----> | <!----> | <!----> | <!----> | <!----> | <!----> |\n",
       "| Adj sq. | -0.06 | 0.93  | 1     | <!----> | <!----> | <!----> | <!----> | <!----> | <!----> | <!----> | ⋯ | <!----> | <!----> | <!----> | <!----> | <!----> | <!----> | <!----> | <!----> | <!----> | <!----> |\n",
       "| Miles add | -0.04 | 0.31  | 0.16  | 1    | <!----> | <!----> | <!----> | <!----> | <!----> | <!----> | ⋯ | <!----> | <!----> | <!----> | <!----> | <!----> | <!----> | <!----> | <!----> | <!----> | <!----> |\n",
       "| Consolid. | -0.1  | 0.06  | -0.02 | 0.39 | 1     | <!----> | <!----> | <!----> | <!----> | <!----> | ⋯ | <!----> | <!----> | <!----> | <!----> | <!----> | <!----> | <!----> | <!----> | <!----> | <!----> |\n",
       "| MA | 0.19  | -0.02 | -0.02 | 0.01 | -0.02 | 1 | <!----> | <!----> | <!----> | <!----> | ⋯ | <!----> | <!----> | <!----> | <!----> | <!----> | <!----> | <!----> | <!----> | <!----> | <!----> |\n",
       "\n"
      ],
      "text/plain": [
       "          Incidts Adj.  Adj sq. Miles add Consolid. MA MA t-1 Crude 40s\n",
       "Incidts   1                                                            \n",
       "Adj.      -0.06   1                                                    \n",
       "Adj sq.   -0.06   0.93  1                                              \n",
       "Miles add -0.04   0.31  0.16    1                                      \n",
       "Consolid. -0.1    0.06  -0.02   0.39      1                            \n",
       "MA        0.19    -0.02 -0.02   0.01      -0.02     1                  \n",
       "          Crude 50s Crude 60s ⋯ HLV 00s HVL 10s Non-HVL 40s Non-HVL 50s\n",
       "Incidts                       ⋯                                        \n",
       "Adj.                          ⋯                                        \n",
       "Adj sq.                       ⋯                                        \n",
       "Miles add                     ⋯                                        \n",
       "Consolid.                     ⋯                                        \n",
       "MA                            ⋯                                        \n",
       "          Non-HVL 60s Non-HVL 70s Non-HVL 80s Non-HVL 90s Non-HVL 00s\n",
       "Incidts                                                              \n",
       "Adj.                                                                 \n",
       "Adj sq.                                                              \n",
       "Miles add                                                            \n",
       "Consolid.                                                            \n",
       "MA                                                                   \n",
       "          Non-HVL 10s\n",
       "Incidts              \n",
       "Adj.                 \n",
       "Adj sq.              \n",
       "Miles add            \n",
       "Consolid.            \n",
       "MA                   "
      ]
     },
     "metadata": {},
     "output_type": "display_data"
    }
   ],
   "source": [
    "model2 <- sample %>%\n",
    "    select(variables2) %>%\n",
    "    as.matrix %>%\n",
    "    cor(use=\"pairwise.complete.obs\") %>%\n",
    "    {round(., 2)}\n",
    "model2[upper.tri(model2)] <- \"\"\n",
    "colnames(model2) <- variable_names2\n",
    "rownames(model2) <- variable_names2\n",
    "head(model2)"
   ]
  },
  {
   "cell_type": "code",
   "execution_count": 17,
   "metadata": {},
   "outputs": [
    {
     "data": {
      "text/html": [
       "<table>\n",
       "<caption>A matrix: 6 × 33 of type chr</caption>\n",
       "<thead>\n",
       "\t<tr><th></th><th scope=col>Mean</th><th scope=col>SD</th><th scope=col>Incidts</th><th scope=col>Adj.</th><th scope=col>Adj sq.</th><th scope=col>Miles add</th><th scope=col>Consolid.</th><th scope=col>MA</th><th scope=col>MA t-1</th><th scope=col>Crude 40s</th><th scope=col>⋯</th><th scope=col>HLV 00s</th><th scope=col>HVL 10s</th><th scope=col>Non-HVL 40s</th><th scope=col>Non-HVL 50s</th><th scope=col>Non-HVL 60s</th><th scope=col>Non-HVL 70s</th><th scope=col>Non-HVL 80s</th><th scope=col>Non-HVL 90s</th><th scope=col>Non-HVL 00s</th><th scope=col>Non-HVL 10s</th></tr>\n",
       "</thead>\n",
       "<tbody>\n",
       "\t<tr><th scope=row>Incidts</th><td>4.71</td><td>7.68</td><td>1    </td><td>     </td><td>     </td><td>    </td><td>     </td><td> </td><td></td><td></td><td>⋯</td><td></td><td></td><td></td><td></td><td></td><td></td><td></td><td></td><td></td><td></td></tr>\n",
       "\t<tr><th scope=row>Adj.</th><td>0.16</td><td>0.59</td><td>-0.06</td><td>1    </td><td>     </td><td>    </td><td>     </td><td> </td><td></td><td></td><td>⋯</td><td></td><td></td><td></td><td></td><td></td><td></td><td></td><td></td><td></td><td></td></tr>\n",
       "\t<tr><th scope=row>Adj sq.</th><td>0.38</td><td>2.62</td><td>-0.06</td><td>0.93 </td><td>1    </td><td>    </td><td>     </td><td> </td><td></td><td></td><td>⋯</td><td></td><td></td><td></td><td></td><td></td><td></td><td></td><td></td><td></td><td></td></tr>\n",
       "\t<tr><th scope=row>Miles add</th><td>0.25</td><td>0.41</td><td>-0.04</td><td>0.31 </td><td>0.16 </td><td>1   </td><td>     </td><td> </td><td></td><td></td><td>⋯</td><td></td><td></td><td></td><td></td><td></td><td></td><td></td><td></td><td></td><td></td></tr>\n",
       "\t<tr><th scope=row>Consolid.</th><td>0.72</td><td>2.71</td><td>-0.1 </td><td>0.06 </td><td>-0.02</td><td>0.39</td><td>1    </td><td> </td><td></td><td></td><td>⋯</td><td></td><td></td><td></td><td></td><td></td><td></td><td></td><td></td><td></td><td></td></tr>\n",
       "\t<tr><th scope=row>MA</th><td>0.02</td><td>0.14</td><td>0.19 </td><td>-0.02</td><td>-0.02</td><td>0.01</td><td>-0.02</td><td>1</td><td></td><td></td><td>⋯</td><td></td><td></td><td></td><td></td><td></td><td></td><td></td><td></td><td></td><td></td></tr>\n",
       "</tbody>\n",
       "</table>\n"
      ],
      "text/latex": [
       "A matrix: 6 × 33 of type chr\n",
       "\\begin{tabular}{r|lllllllllllllllllllllllllllllllll}\n",
       "  & Mean & SD & Incidts & Adj. & Adj sq. & Miles add & Consolid. & MA & MA t-1 & Crude 40s & Crude 50s & Crude 60s & Crude 70s & Crude 80s & Crude 90s & Crude 00s & Crude 10s & HVL 40s & HVL 50s & HVL 60s & HVL 70s & HVL 80s & HVL 90s & HLV 00s & HVL 10s & Non-HVL 40s & Non-HVL 50s & Non-HVL 60s & Non-HVL 70s & Non-HVL 80s & Non-HVL 90s & Non-HVL 00s & Non-HVL 10s\\\\\n",
       "\\hline\n",
       "\tIncidts & 4.71 & 7.68 & 1     &       &       &      &       &   &  &  &  &  &  &  &  &  &  &  &  &  &  &  &  &  &  &  &  &  &  &  &  &  & \\\\\n",
       "\tAdj. & 0.16 & 0.59 & -0.06 & 1     &       &      &       &   &  &  &  &  &  &  &  &  &  &  &  &  &  &  &  &  &  &  &  &  &  &  &  &  & \\\\\n",
       "\tAdj sq. & 0.38 & 2.62 & -0.06 & 0.93  & 1     &      &       &   &  &  &  &  &  &  &  &  &  &  &  &  &  &  &  &  &  &  &  &  &  &  &  &  & \\\\\n",
       "\tMiles add & 0.25 & 0.41 & -0.04 & 0.31  & 0.16  & 1    &       &   &  &  &  &  &  &  &  &  &  &  &  &  &  &  &  &  &  &  &  &  &  &  &  &  & \\\\\n",
       "\tConsolid. & 0.72 & 2.71 & -0.1  & 0.06  & -0.02 & 0.39 & 1     &   &  &  &  &  &  &  &  &  &  &  &  &  &  &  &  &  &  &  &  &  &  &  &  &  & \\\\\n",
       "\tMA & 0.02 & 0.14 & 0.19  & -0.02 & -0.02 & 0.01 & -0.02 & 1 &  &  &  &  &  &  &  &  &  &  &  &  &  &  &  &  &  &  &  &  &  &  &  &  & \\\\\n",
       "\\end{tabular}\n"
      ],
      "text/markdown": [
       "\n",
       "A matrix: 6 × 33 of type chr\n",
       "\n",
       "| <!--/--> | Mean | SD | Incidts | Adj. | Adj sq. | Miles add | Consolid. | MA | MA t-1 | Crude 40s | ⋯ | HLV 00s | HVL 10s | Non-HVL 40s | Non-HVL 50s | Non-HVL 60s | Non-HVL 70s | Non-HVL 80s | Non-HVL 90s | Non-HVL 00s | Non-HVL 10s |\n",
       "|---|---|---|---|---|---|---|---|---|---|---|---|---|---|---|---|---|---|---|---|---|---|\n",
       "| Incidts | 4.71 | 7.68 | 1     | <!----> | <!----> | <!----> | <!----> | <!----> | <!----> | <!----> | ⋯ | <!----> | <!----> | <!----> | <!----> | <!----> | <!----> | <!----> | <!----> | <!----> | <!----> |\n",
       "| Adj. | 0.16 | 0.59 | -0.06 | 1     | <!----> | <!----> | <!----> | <!----> | <!----> | <!----> | ⋯ | <!----> | <!----> | <!----> | <!----> | <!----> | <!----> | <!----> | <!----> | <!----> | <!----> |\n",
       "| Adj sq. | 0.38 | 2.62 | -0.06 | 0.93  | 1     | <!----> | <!----> | <!----> | <!----> | <!----> | ⋯ | <!----> | <!----> | <!----> | <!----> | <!----> | <!----> | <!----> | <!----> | <!----> | <!----> |\n",
       "| Miles add | 0.25 | 0.41 | -0.04 | 0.31  | 0.16  | 1    | <!----> | <!----> | <!----> | <!----> | ⋯ | <!----> | <!----> | <!----> | <!----> | <!----> | <!----> | <!----> | <!----> | <!----> | <!----> |\n",
       "| Consolid. | 0.72 | 2.71 | -0.1  | 0.06  | -0.02 | 0.39 | 1     | <!----> | <!----> | <!----> | ⋯ | <!----> | <!----> | <!----> | <!----> | <!----> | <!----> | <!----> | <!----> | <!----> | <!----> |\n",
       "| MA | 0.02 | 0.14 | 0.19  | -0.02 | -0.02 | 0.01 | -0.02 | 1 | <!----> | <!----> | ⋯ | <!----> | <!----> | <!----> | <!----> | <!----> | <!----> | <!----> | <!----> | <!----> | <!----> |\n",
       "\n"
      ],
      "text/plain": [
       "          Mean SD   Incidts Adj.  Adj sq. Miles add Consolid. MA MA t-1\n",
       "Incidts   4.71 7.68 1                                                  \n",
       "Adj.      0.16 0.59 -0.06   1                                          \n",
       "Adj sq.   0.38 2.62 -0.06   0.93  1                                    \n",
       "Miles add 0.25 0.41 -0.04   0.31  0.16    1                            \n",
       "Consolid. 0.72 2.71 -0.1    0.06  -0.02   0.39      1                  \n",
       "MA        0.02 0.14 0.19    -0.02 -0.02   0.01      -0.02     1        \n",
       "          Crude 40s ⋯ HLV 00s HVL 10s Non-HVL 40s Non-HVL 50s Non-HVL 60s\n",
       "Incidts             ⋯                                                    \n",
       "Adj.                ⋯                                                    \n",
       "Adj sq.             ⋯                                                    \n",
       "Miles add           ⋯                                                    \n",
       "Consolid.           ⋯                                                    \n",
       "MA                  ⋯                                                    \n",
       "          Non-HVL 70s Non-HVL 80s Non-HVL 90s Non-HVL 00s Non-HVL 10s\n",
       "Incidts                                                              \n",
       "Adj.                                                                 \n",
       "Adj sq.                                                              \n",
       "Miles add                                                            \n",
       "Consolid.                                                            \n",
       "MA                                                                   "
      ]
     },
     "metadata": {},
     "output_type": "display_data"
    }
   ],
   "source": [
    "model2 <- cbind(\"Mean\" = mean_model2, \"SD\" = sd_model2, model2)\n",
    "head(model2)"
   ]
  },
  {
   "cell_type": "code",
   "execution_count": 18,
   "metadata": {},
   "outputs": [],
   "source": [
    "model2_tex <- capture.output(kable(model2, \"latex\", booktabs=T) %>%\n",
    "    kable_styling(latex_options=c(\"scale_down\")))"
   ]
  },
  {
   "cell_type": "code",
   "execution_count": 19,
   "metadata": {},
   "outputs": [],
   "source": [
    "writeLines(model2_tex, \"../drafts/summer_paper/illustrations/summary2.tex\")"
   ]
  },
  {
   "cell_type": "markdown",
   "metadata": {},
   "source": [
    "## 11.3 List out a few operators"
   ]
  },
  {
   "cell_type": "code",
   "execution_count": 20,
   "metadata": {},
   "outputs": [
    {
     "name": "stderr",
     "output_type": "stream",
     "text": [
      "Selecting by MILES\n"
     ]
    },
    {
     "name": "stdout",
     "output_type": "stream",
     "text": [
      "\u001b[38;5;246m# A tibble: 5 x 2\u001b[39m\n",
      "  OPERATOR_ID            MILES\n",
      "  \u001b[3m\u001b[38;5;246m<fct>\u001b[39m\u001b[23m                  \u001b[3m\u001b[38;5;246m<dbl>\u001b[39m\u001b[23m\n",
      "\u001b[38;5;250m1\u001b[39m 31618                 \u001b[4m1\u001b[24m\u001b[4m3\u001b[24m402.\n",
      "\u001b[38;5;250m2\u001b[39m ONEOK (Group)         \u001b[4m1\u001b[24m\u001b[4m0\u001b[24m784.\n",
      "\u001b[38;5;250m3\u001b[39m Phillips 66 (Group)   \u001b[4m1\u001b[24m\u001b[4m0\u001b[24m356 \n",
      "\u001b[38;5;250m4\u001b[39m Magellan (Group)       \u001b[4m9\u001b[24m162 \n",
      "\u001b[38;5;250m5\u001b[39m Kinder Morgan (Group)  \u001b[4m7\u001b[24m976.\n"
     ]
    }
   ],
   "source": [
    "top_5 <- sample %>%\n",
    "    group_by(OPERATOR_ID) %>%\n",
    "    summarize(MILES = max(TOTAL_MILES)) %>%\n",
    "    arrange(desc(MILES)) %>%\n",
    "    top_n(5)\n",
    "print(top_5)"
   ]
  },
  {
   "cell_type": "code",
   "execution_count": 21,
   "metadata": {},
   "outputs": [
    {
     "ename": "ERROR",
     "evalue": "Error: object 'MILES' not found\n",
     "output_type": "error",
     "traceback": [
      "Error: object 'MILES' not found\nTraceback:\n",
      "1. sample %>% filter(OPERATOR_ID == \"Magellan (Group)\") %>% group_by(YEAR) %>% \n .     summarize(MILES = sum(MILES), INCIDENTS = sum(SIGNIFICANT_INCIDENTS))",
      "2. withVisible(eval(quote(`_fseq`(`_lhs`)), env, env))",
      "3. eval(quote(`_fseq`(`_lhs`)), env, env)",
      "4. eval(quote(`_fseq`(`_lhs`)), env, env)",
      "5. `_fseq`(`_lhs`)",
      "6. freduce(value, `_function_list`)",
      "7. withVisible(function_list[[k]](value))",
      "8. function_list[[k]](value)",
      "9. summarize(., MILES = sum(MILES), INCIDENTS = sum(SIGNIFICANT_INCIDENTS))",
      "10. summarise.tbl_df(., MILES = sum(MILES), INCIDENTS = sum(SIGNIFICANT_INCIDENTS))",
      "11. summarise_impl(.data, dots, environment(), caller_env())"
     ]
    }
   ],
   "source": [
    "sample %>%\n",
    "    filter(OPERATOR_ID==\"Magellan (Group)\") %>%\n",
    "    group_by(YEAR) %>%\n",
    "    summarize(MILES = sum(MILES), INCIDENTS = sum(SIGNIFICANT_INCIDENTS))"
   ]
  },
  {
   "cell_type": "code",
   "execution_count": null,
   "metadata": {},
   "outputs": [],
   "source": [
    "options(repr.plot.width=8, repr.plot.height=8)"
   ]
  },
  {
   "cell_type": "code",
   "execution_count": null,
   "metadata": {},
   "outputs": [],
   "source": [
    "# For transforming\n",
    "# Square function\n",
    "sq <- function(x){x^2}\n",
    "isq <- function(x){sqrt(x)}\n",
    "\n",
    "shapes <- c(21, 22, 23, 24, 25)\n",
    "names(shapes) <- c(\"Enterprise Products Operating\", \"ONEOK (Group)\", \"Phillips 66 (Group)\", \"Magellan (Group)\", \"NuStar (Group)\")\n",
    "\n",
    "plot <- sample %>%\n",
    "    filter(OPERATOR_ID %in% top_5$OPERATOR_ID) %>%\n",
    "    mutate(OPERATOR_ID = as.factor(OPERATOR_ID)) %>%\n",
    "    mutate(OPERATOR_ID = recode(.$OPERATOR_ID, \"31618\" = \"Enterprise Products Operating\")) %>%\n",
    "    ggplot(aes(x=YEAR, y=TOTAL_MILES, fill=OPERATOR_ID, size=SIGNIFICANT_INCIDENTS, shape=OPERATOR_ID)) +\n",
    "        geom_point(alpha = 0.6) +\n",
    "        geom_point(color='black', alpha=0.6) +\n",
    "        geom_line(size=0.5) +\n",
    "        scale_x_continuous(breaks = seq(2004, 2018, 3), lim=c(2004, 2018)) +\n",
    "        labs(title=\"Pipeline Network and Significant Incidents of Largest 5 Operators\", \n",
    "             x=\"Year\", y=\"Miles of Pipeline\", color=\"Operator\", size=\"Number of Significant Incidents\") +\n",
    "        scale_size(\"SIGNIFICANT_INCIDENTS\", trans=scales::trans_new(\"sq\", sq, isq)) +\n",
    "        scale_shape_manual(values=shapes)\n",
    "\n",
    "print(plot)"
   ]
  },
  {
   "cell_type": "code",
   "execution_count": null,
   "metadata": {},
   "outputs": [],
   "source": [
    "ggsave(\"../drafts/summer_paper/illustrations/large_operators.png\")"
   ]
  },
  {
   "cell_type": "markdown",
   "metadata": {},
   "source": [
    "sample %>%\n",
    "    filter(OPERATOR_ID %in% top_5$OPERATOR_ID) %>%\n",
    "    select(OPERATOR_ID, YEAR, COMMODITY, MILES, SIGNIFICANT_INCIDENTS) %>%\n",
    "    mutate(COMMODITY = recode(COMMODITY, crude = \"Crude Oil\", \n",
    "                              hvl = \"Propane, Butane, Ethylene etc.\", \n",
    "                              `non-hvl` = \"Gasoline, Diesel, Jet Fuel etc.\")) %>%\n",
    "    bind_rows(total) %>%\n",
    "    filter(OPERATOR_ID == \"Sunoco (Group)\") %>%\n",
    "    filter(COMMODITY == \"Crude Oil\")"
   ]
  },
  {
   "cell_type": "markdown",
   "metadata": {},
   "source": [
    "sample %>%\n",
    "    filter(OPERATOR_ID %in% top_5$OPERATOR_ID) %>%\n",
    "    select(OPERATOR_ID, YEAR, COMMODITY, MILES, SIGNIFICANT_INCIDENTS) %>%\n",
    "    mutate(COMMODITY = recode(COMMODITY, crude = \"Crude Oil\", \n",
    "                              hvl = \"Propane, Butane, Ethylene etc.\", \n",
    "                              `non-hvl` = \"Gasoline, Diesel, Jet Fuel etc.\")) %>%\n",
    "    filter(!complete.cases(.))"
   ]
  },
  {
   "cell_type": "markdown",
   "metadata": {},
   "source": [
    "sample %>%\n",
    "    {table(.$SIGNIFICANT_INCIDENTS)}"
   ]
  },
  {
   "cell_type": "markdown",
   "metadata": {},
   "source": [
    "sample %>%\n",
    "    group_by(OPERATOR_ID) %>%\n",
    "    filter(COMMODITY=='crude') %>%\n",
    "    summarize(n = max(SIGNIFICANT_INCIDENTS)) %>%\n",
    "    ungroup() %>%\n",
    "    {table(.$n)}"
   ]
  }
 ],
 "metadata": {
  "jupytext": {
   "formats": "ipynb,Rmd"
  },
  "kernelspec": {
   "display_name": "R 3.6.1",
   "language": "R",
   "name": "ir361"
  },
  "language_info": {
   "codemirror_mode": "r",
   "file_extension": ".r",
   "mimetype": "text/x-r-source",
   "name": "R",
   "pygments_lexer": "r",
   "version": "3.6.1"
  }
 },
 "nbformat": 4,
 "nbformat_minor": 4
}
