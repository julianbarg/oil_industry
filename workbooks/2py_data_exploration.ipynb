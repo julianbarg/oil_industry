{
 "cells": [
  {
   "cell_type": "markdown",
   "metadata": {
    "pycharm": {
     "name": "#%% md\n"
    }
   },
   "source": [
    "\n",
    "# 2 - Data exploration\n"
   ]
  },
  {
   "cell_type": "code",
   "execution_count": 1,
   "metadata": {
    "collapsed": false,
    "jupyter": {
     "outputs_hidden": false
    },
    "pycharm": {
     "is_executing": false,
     "name": "#%% \n"
    }
   },
   "outputs": [],
   "source": [
    "# import parameters\n",
    "import pandas as pd\n",
    "import matplotlib.pyplot as plt\n",
    "import numpy as np\n",
    "\n",
    "plt.rcParams[\"figure.figsize\"] = (20,10)"
   ]
  },
  {
   "cell_type": "markdown",
   "metadata": {},
   "source": [
    "## 2.1 Incidents data overview"
   ]
  },
  {
   "cell_type": "code",
   "execution_count": 2,
   "metadata": {
    "collapsed": false,
    "jupyter": {
     "outputs_hidden": false
    },
    "pycharm": {
     "is_executing": false,
     "name": "#%%\n"
    }
   },
   "outputs": [
    {
     "data": {
      "text/html": [
       "<div>\n",
       "<style scoped>\n",
       "    .dataframe tbody tr th:only-of-type {\n",
       "        vertical-align: middle;\n",
       "    }\n",
       "\n",
       "    .dataframe tbody tr th {\n",
       "        vertical-align: top;\n",
       "    }\n",
       "\n",
       "    .dataframe thead th {\n",
       "        text-align: right;\n",
       "    }\n",
       "</style>\n",
       "<table border=\"1\" class=\"dataframe\">\n",
       "  <thead>\n",
       "    <tr style=\"text-align: right;\">\n",
       "      <th></th>\n",
       "      <th>DATAFILE_AS_OF</th>\n",
       "      <th>SIGNIFICANT</th>\n",
       "      <th>SERIOUS</th>\n",
       "      <th>IPE</th>\n",
       "      <th>IA_IPE</th>\n",
       "      <th>OM_IPE</th>\n",
       "      <th>REPORT_NUMBER</th>\n",
       "      <th>SUPPLEMENTAL_NUMBER</th>\n",
       "      <th>REPORT_RECEIVED_DATE</th>\n",
       "      <th>REPORT_TYPE</th>\n",
       "      <th>...</th>\n",
       "      <th>PREPARER_TITLE</th>\n",
       "      <th>PREPARER_EMAIL</th>\n",
       "      <th>PREPARER_TELEPHONE</th>\n",
       "      <th>PREPARER_FAX</th>\n",
       "      <th>PREPARED_DATE</th>\n",
       "      <th>AUTHORIZER_NAME</th>\n",
       "      <th>AUTHORIZER_TITLE</th>\n",
       "      <th>AUTHORIZER_TELEPHONE</th>\n",
       "      <th>AUTHORIZER_EMAIL</th>\n",
       "      <th>NARRATIVE</th>\n",
       "    </tr>\n",
       "  </thead>\n",
       "  <tbody>\n",
       "    <tr>\n",
       "      <th>3677</th>\n",
       "      <td>2019-07-31 08:37:40</td>\n",
       "      <td>NO</td>\n",
       "      <td>NO</td>\n",
       "      <td>NO</td>\n",
       "      <td>NO</td>\n",
       "      <td>NO</td>\n",
       "      <td>20190091</td>\n",
       "      <td>32345</td>\n",
       "      <td>2019-03-21 16:24:54</td>\n",
       "      <td>SUPPLEMENTAL FINAL</td>\n",
       "      <td>...</td>\n",
       "      <td>PIPELINE ENGINEER</td>\n",
       "      <td>kyle_mayberry@kindermorgan.com</td>\n",
       "      <td>713-420-4454</td>\n",
       "      <td>713-495-2713</td>\n",
       "      <td>2019-06-27</td>\n",
       "      <td>QUINTIN FRAZIER</td>\n",
       "      <td>DIRECTOR COMPLIANCE CODES AND STANDARDS</td>\n",
       "      <td>770-751-4240</td>\n",
       "      <td>quintin_frazier@kindermorgan.com</td>\n",
       "      <td>ON THE MORNING OF FEBRUARY 20, 2019 AN ON-SITE...</td>\n",
       "    </tr>\n",
       "    <tr>\n",
       "      <th>1368</th>\n",
       "      <td>2019-07-31 08:37:40</td>\n",
       "      <td>YES</td>\n",
       "      <td>NO</td>\n",
       "      <td>NO</td>\n",
       "      <td>NO</td>\n",
       "      <td>NO</td>\n",
       "      <td>20130345</td>\n",
       "      <td>19659</td>\n",
       "      <td>2013-10-24 12:20:55</td>\n",
       "      <td>SUPPLEMENTAL FINAL</td>\n",
       "      <td>...</td>\n",
       "      <td>COMPLIANCE SPECIALIST</td>\n",
       "      <td>lhughes@buckeye.com</td>\n",
       "      <td>610-904-4248</td>\n",
       "      <td>NaN</td>\n",
       "      <td>2014-08-15</td>\n",
       "      <td>CLAUDIA PANKOWSKI</td>\n",
       "      <td>DIRECTOR OF REGULATORY COMPLIANCE</td>\n",
       "      <td>610-904-4113</td>\n",
       "      <td>cpankowski@buckeye.com</td>\n",
       "      <td>ON SEPTEMBER 26, 2013 AT 14:30 A BUCKEYE EMPLO...</td>\n",
       "    </tr>\n",
       "    <tr>\n",
       "      <th>851</th>\n",
       "      <td>2019-07-31 08:37:40</td>\n",
       "      <td>NO</td>\n",
       "      <td>NO</td>\n",
       "      <td>NO</td>\n",
       "      <td>NO</td>\n",
       "      <td>NO</td>\n",
       "      <td>20120197</td>\n",
       "      <td>17491</td>\n",
       "      <td>2012-06-28 11:41:44</td>\n",
       "      <td>SUPPLEMENTAL FINAL</td>\n",
       "      <td>...</td>\n",
       "      <td>REGULATORY SPECIALIST</td>\n",
       "      <td>richard.klasen@shell.com</td>\n",
       "      <td>713-241-1064</td>\n",
       "      <td>713-241-2596</td>\n",
       "      <td>2013-03-13</td>\n",
       "      <td>BRIAN SITTERLY</td>\n",
       "      <td>INTEGRITY REGULATORY SERVICES MANAGER</td>\n",
       "      <td>713-241-3620</td>\n",
       "      <td>brian.sitterly@shell.com</td>\n",
       "      <td>HEAVY RAIN EVENT CAUSED TANK #2 EXTERNAL FLOAT...</td>\n",
       "    </tr>\n",
       "    <tr>\n",
       "      <th>2262</th>\n",
       "      <td>2019-07-31 08:37:40</td>\n",
       "      <td>NO</td>\n",
       "      <td>NO</td>\n",
       "      <td>YES</td>\n",
       "      <td>YES</td>\n",
       "      <td>NO</td>\n",
       "      <td>20150396</td>\n",
       "      <td>20889</td>\n",
       "      <td>2015-11-10 14:42:14</td>\n",
       "      <td>ORIGINAL FINAL</td>\n",
       "      <td>...</td>\n",
       "      <td>REGULATORY SPECIALIST</td>\n",
       "      <td>richard.klasen@shell.com</td>\n",
       "      <td>713-241-1064</td>\n",
       "      <td>713-241-8498</td>\n",
       "      <td>2015-11-10</td>\n",
       "      <td>DEBORAH PRICE</td>\n",
       "      <td>INTEGRITY AND REGULATORY SERVICES MANAGER</td>\n",
       "      <td>713-241-2035</td>\n",
       "      <td>deborah.price@shell.com</td>\n",
       "      <td>THE UPPER LEVEL SUMP GAUGE COCK HAD EXTERNAL C...</td>\n",
       "    </tr>\n",
       "    <tr>\n",
       "      <th>3566</th>\n",
       "      <td>2019-07-31 08:37:40</td>\n",
       "      <td>NO</td>\n",
       "      <td>NO</td>\n",
       "      <td>NO</td>\n",
       "      <td>NO</td>\n",
       "      <td>NO</td>\n",
       "      <td>20180391</td>\n",
       "      <td>32033</td>\n",
       "      <td>2018-12-17 11:06:19</td>\n",
       "      <td>SUPPLEMENTAL FINAL</td>\n",
       "      <td>...</td>\n",
       "      <td>DIRECTOR OF EHS-REGULATORY</td>\n",
       "      <td>tburgin@medallionmidstream.com</td>\n",
       "      <td>469-262-6060</td>\n",
       "      <td>NaN</td>\n",
       "      <td>2019-04-29</td>\n",
       "      <td>TOBY BURGIN</td>\n",
       "      <td>DIRECTOR OF EHS-REGULATORY</td>\n",
       "      <td>469-262-6060</td>\n",
       "      <td>tburgin@medallionmidstream.com</td>\n",
       "      <td>ON MONDAY, NOVEMBER 19, 2018, AT 12:30 P.M. LO...</td>\n",
       "    </tr>\n",
       "  </tbody>\n",
       "</table>\n",
       "<p>5 rows × 606 columns</p>\n",
       "</div>"
      ],
      "text/plain": [
       "          DATAFILE_AS_OF SIGNIFICANT SERIOUS  IPE IA_IPE OM_IPE  \\\n",
       "3677 2019-07-31 08:37:40          NO      NO   NO     NO     NO   \n",
       "1368 2019-07-31 08:37:40         YES      NO   NO     NO     NO   \n",
       "851  2019-07-31 08:37:40          NO      NO   NO     NO     NO   \n",
       "2262 2019-07-31 08:37:40          NO      NO  YES    YES     NO   \n",
       "3566 2019-07-31 08:37:40          NO      NO   NO     NO     NO   \n",
       "\n",
       "      REPORT_NUMBER  SUPPLEMENTAL_NUMBER REPORT_RECEIVED_DATE  \\\n",
       "3677       20190091                32345  2019-03-21 16:24:54   \n",
       "1368       20130345                19659  2013-10-24 12:20:55   \n",
       "851        20120197                17491  2012-06-28 11:41:44   \n",
       "2262       20150396                20889  2015-11-10 14:42:14   \n",
       "3566       20180391                32033  2018-12-17 11:06:19   \n",
       "\n",
       "             REPORT_TYPE  ...              PREPARER_TITLE  \\\n",
       "3677  SUPPLEMENTAL FINAL  ...           PIPELINE ENGINEER   \n",
       "1368  SUPPLEMENTAL FINAL  ...       COMPLIANCE SPECIALIST   \n",
       "851   SUPPLEMENTAL FINAL  ...       REGULATORY SPECIALIST   \n",
       "2262      ORIGINAL FINAL  ...       REGULATORY SPECIALIST   \n",
       "3566  SUPPLEMENTAL FINAL  ...  DIRECTOR OF EHS-REGULATORY   \n",
       "\n",
       "                      PREPARER_EMAIL PREPARER_TELEPHONE  PREPARER_FAX  \\\n",
       "3677  kyle_mayberry@kindermorgan.com       713-420-4454  713-495-2713   \n",
       "1368             lhughes@buckeye.com       610-904-4248           NaN   \n",
       "851         richard.klasen@shell.com       713-241-1064  713-241-2596   \n",
       "2262        richard.klasen@shell.com       713-241-1064  713-241-8498   \n",
       "3566  tburgin@medallionmidstream.com       469-262-6060           NaN   \n",
       "\n",
       "     PREPARED_DATE    AUTHORIZER_NAME  \\\n",
       "3677    2019-06-27    QUINTIN FRAZIER   \n",
       "1368    2014-08-15  CLAUDIA PANKOWSKI   \n",
       "851     2013-03-13     BRIAN SITTERLY   \n",
       "2262    2015-11-10      DEBORAH PRICE   \n",
       "3566    2019-04-29        TOBY BURGIN   \n",
       "\n",
       "                               AUTHORIZER_TITLE  AUTHORIZER_TELEPHONE  \\\n",
       "3677    DIRECTOR COMPLIANCE CODES AND STANDARDS          770-751-4240   \n",
       "1368          DIRECTOR OF REGULATORY COMPLIANCE          610-904-4113   \n",
       "851       INTEGRITY REGULATORY SERVICES MANAGER          713-241-3620   \n",
       "2262  INTEGRITY AND REGULATORY SERVICES MANAGER          713-241-2035   \n",
       "3566                 DIRECTOR OF EHS-REGULATORY          469-262-6060   \n",
       "\n",
       "                      AUTHORIZER_EMAIL  \\\n",
       "3677  quintin_frazier@kindermorgan.com   \n",
       "1368            cpankowski@buckeye.com   \n",
       "851           brian.sitterly@shell.com   \n",
       "2262           deborah.price@shell.com   \n",
       "3566    tburgin@medallionmidstream.com   \n",
       "\n",
       "                                              NARRATIVE  \n",
       "3677  ON THE MORNING OF FEBRUARY 20, 2019 AN ON-SITE...  \n",
       "1368  ON SEPTEMBER 26, 2013 AT 14:30 A BUCKEYE EMPLO...  \n",
       "851   HEAVY RAIN EVENT CAUSED TANK #2 EXTERNAL FLOAT...  \n",
       "2262  THE UPPER LEVEL SUMP GAUGE COCK HAD EXTERNAL C...  \n",
       "3566  ON MONDAY, NOVEMBER 19, 2018, AT 12:30 P.M. LO...  \n",
       "\n",
       "[5 rows x 606 columns]"
      ]
     },
     "execution_count": 2,
     "metadata": {},
     "output_type": "execute_result"
    }
   ],
   "source": [
    "incidents = pd.read_excel('../data/incidents_2019-08-09/hl2010toPresent.xlsx', \n",
    "                          sheet_name=1)\n",
    "\n",
    "incidents.sample(5)"
   ]
  },
  {
   "cell_type": "code",
   "execution_count": 3,
   "metadata": {
    "collapsed": false,
    "jupyter": {
     "outputs_hidden": false
    },
    "pycharm": {
     "is_executing": false,
     "name": "#%%\n"
    }
   },
   "outputs": [
    {
     "data": {
      "text/plain": [
       "ENTERPRISE CRUDE PIPELINE LLC          276\n",
       "ENTERPRISE PRODUCTS OPERATING LLC      214\n",
       "SUNOCO PIPELINE L.P.                   211\n",
       "PLAINS PIPELINE, L.P.                  203\n",
       "MAGELLAN PIPELINE COMPANY, LP          180\n",
       "COLONIAL PIPELINE CO                   177\n",
       "BUCKEYE PARTNERS, LP                   148\n",
       "PHILLIPS 66 PIPELINE LLC               121\n",
       "KINDER MORGAN LIQUID TERMINALS, LLC    117\n",
       "MARATHON PIPE LINE LLC                 111\n",
       "Name: NAME, dtype: int64"
      ]
     },
     "execution_count": 3,
     "metadata": {},
     "output_type": "execute_result"
    }
   ],
   "source": [
    "incidents['NAME'].value_counts().head(10)"
   ]
  },
  {
   "cell_type": "code",
   "execution_count": 4,
   "metadata": {
    "collapsed": false,
    "jupyter": {
     "outputs_hidden": false
    },
    "pycharm": {
     "name": "#%%\n"
    }
   },
   "outputs": [
    {
     "data": {
      "text/plain": [
       "30829    282\n",
       "31618    214\n",
       "18718    211\n",
       "300      202\n",
       "22610    180\n",
       "2552     177\n",
       "31684    155\n",
       "1845     148\n",
       "26041    117\n",
       "32109    112\n",
       "Name: OPERATOR_ID, dtype: int64"
      ]
     },
     "execution_count": 4,
     "metadata": {},
     "output_type": "execute_result"
    }
   ],
   "source": [
    "incidents['OPERATOR_ID'].value_counts().head(10)"
   ]
  },
  {
   "cell_type": "code",
   "execution_count": 5,
   "metadata": {},
   "outputs": [
    {
     "data": {
      "text/plain": [
       "array(['REFINED AND/OR PETROLEUM PRODUCT (NON-HVL) WHICH IS A LIQUID AT AMBIENT CONDITIONS',\n",
       "       'CO2 (CARBON DIOXIDE)',\n",
       "       'HVL OR OTHER FLAMMABLE OR TOXIC FLUID WHICH IS A GAS AT AMBIENT CONDITIONS',\n",
       "       'CRUDE OIL',\n",
       "       'BIOFUEL / ALTERNATIVE FUEL(INCLUDING ETHANOL BLENDS)'],\n",
       "      dtype=object)"
      ]
     },
     "execution_count": 5,
     "metadata": {},
     "output_type": "execute_result"
    }
   ],
   "source": [
    "incidents['COMMODITY_RELEASED_TYPE'].unique()"
   ]
  },
  {
   "cell_type": "markdown",
   "metadata": {},
   "source": [
    "There seem to be some minor discrepancies between ID and name. Matching every ID to its most common company name should fix it. "
   ]
  },
  {
   "cell_type": "code",
   "execution_count": 6,
   "metadata": {},
   "outputs": [
    {
     "data": {
      "text/plain": [
       "<matplotlib.axes._subplots.AxesSubplot at 0x7fabf7491080>"
      ]
     },
     "execution_count": 6,
     "metadata": {},
     "output_type": "execute_result"
    },
    {
     "data": {
      "image/png": "[encoded data removed]",
      "text/plain": [
       "<Figure size 1440x720 with 1 Axes>"
      ]
     },
     "metadata": {
      "needs_background": "light"
     },
     "output_type": "display_data"
    }
   ],
   "source": [
    "incidents['OPERATOR_ID'].value_counts().hist(bins=30, figsize=(20, 10))"
   ]
  },
  {
   "cell_type": "code",
   "execution_count": 7,
   "metadata": {},
   "outputs": [
    {
     "data": {
      "text/plain": [
       "3819"
      ]
     },
     "execution_count": 7,
     "metadata": {},
     "output_type": "execute_result"
    }
   ],
   "source": [
    "len(incidents)"
   ]
  },
  {
   "cell_type": "markdown",
   "metadata": {},
   "source": [
    "## 2.2 Oil pipeline data"
   ]
  },
  {
   "cell_type": "code",
   "execution_count": 8,
   "metadata": {},
   "outputs": [
    {
     "data": {
      "text/html": [
       "<div>\n",
       "<style scoped>\n",
       "    .dataframe tbody tr th:only-of-type {\n",
       "        vertical-align: middle;\n",
       "    }\n",
       "\n",
       "    .dataframe tbody tr th {\n",
       "        vertical-align: top;\n",
       "    }\n",
       "\n",
       "    .dataframe thead th {\n",
       "        text-align: right;\n",
       "    }\n",
       "</style>\n",
       "<table border=\"1\" class=\"dataframe\">\n",
       "  <thead>\n",
       "    <tr style=\"text-align: right;\">\n",
       "      <th></th>\n",
       "      <th>DATAFILE_AS_OF</th>\n",
       "      <th>REPORT_YEAR</th>\n",
       "      <th>REPORT_NUMBER</th>\n",
       "      <th>SUPPLEMENTAL_NUMBER</th>\n",
       "      <th>OPERATOR_ID</th>\n",
       "      <th>PARTA2NAMEOFCOMP</th>\n",
       "      <th>PARTA4STREET</th>\n",
       "      <th>PARTA4CITY</th>\n",
       "      <th>PARTA4STATE</th>\n",
       "      <th>PARTA4ZIP</th>\n",
       "      <th>...</th>\n",
       "      <th>PARTE2010HF</th>\n",
       "      <th>PARTE2010LF</th>\n",
       "      <th>PARTE2010TOTAL</th>\n",
       "      <th>PARTETOTAL</th>\n",
       "      <th>PARTETOTALHF</th>\n",
       "      <th>PARTETOTALLF</th>\n",
       "      <th>REPORT_SUBMISSION_TYPE</th>\n",
       "      <th>REPORT_DATE</th>\n",
       "      <th>FILING_DATE</th>\n",
       "      <th>FORM_REV</th>\n",
       "    </tr>\n",
       "  </thead>\n",
       "  <tbody>\n",
       "    <tr>\n",
       "      <th>298</th>\n",
       "      <td>2019-08-01 13:10:42</td>\n",
       "      <td>2010</td>\n",
       "      <td>20110077</td>\n",
       "      <td>10078</td>\n",
       "      <td>31582</td>\n",
       "      <td>BEAR PAW ENERGY, LLC</td>\n",
       "      <td>100 West Fifth Street</td>\n",
       "      <td>Tulsa</td>\n",
       "      <td>OK</td>\n",
       "      <td>74103-4298</td>\n",
       "      <td>...</td>\n",
       "      <td>0.0</td>\n",
       "      <td>0.0</td>\n",
       "      <td>0.0</td>\n",
       "      <td>11.0</td>\n",
       "      <td>11.0</td>\n",
       "      <td>0.0</td>\n",
       "      <td>INITIAL</td>\n",
       "      <td>2011-08-10 11:15:47</td>\n",
       "      <td>2011-08-10 11:15:47</td>\n",
       "      <td>7000-1.1 (Rev. 06-2011)</td>\n",
       "    </tr>\n",
       "    <tr>\n",
       "      <th>442</th>\n",
       "      <td>2019-08-01 13:10:42</td>\n",
       "      <td>2010</td>\n",
       "      <td>20110007</td>\n",
       "      <td>10007</td>\n",
       "      <td>32385</td>\n",
       "      <td>FRONTIER GAS SERVICES, LLC</td>\n",
       "      <td>4200 E. SKELLY DR., SUITE 400</td>\n",
       "      <td>TULSA</td>\n",
       "      <td>OK</td>\n",
       "      <td>74135</td>\n",
       "      <td>...</td>\n",
       "      <td>0.0</td>\n",
       "      <td>0.0</td>\n",
       "      <td>0.0</td>\n",
       "      <td>16.7</td>\n",
       "      <td>0.0</td>\n",
       "      <td>16.7</td>\n",
       "      <td>INITIAL</td>\n",
       "      <td>2011-07-28 11:30:53</td>\n",
       "      <td>2011-07-28 11:30:53</td>\n",
       "      <td>7000-1.1 (Rev. 06-2011)</td>\n",
       "    </tr>\n",
       "    <tr>\n",
       "      <th>378</th>\n",
       "      <td>2019-08-01 13:10:42</td>\n",
       "      <td>2010</td>\n",
       "      <td>20110063</td>\n",
       "      <td>11662</td>\n",
       "      <td>32073</td>\n",
       "      <td>AGAVE ENERGY COMPANY</td>\n",
       "      <td>105 SOUTH 4TH STREET</td>\n",
       "      <td>ARTESIA</td>\n",
       "      <td>NM</td>\n",
       "      <td>88210</td>\n",
       "      <td>...</td>\n",
       "      <td>0.0</td>\n",
       "      <td>0.0</td>\n",
       "      <td>0.0</td>\n",
       "      <td>11.0</td>\n",
       "      <td>11.0</td>\n",
       "      <td>0.0</td>\n",
       "      <td>SUPPLEMENTAL</td>\n",
       "      <td>2011-08-08 15:47:31</td>\n",
       "      <td>2013-02-22 11:32:09</td>\n",
       "      <td>7000-1.1 (Rev. 06-2011)</td>\n",
       "    </tr>\n",
       "    <tr>\n",
       "      <th>443</th>\n",
       "      <td>2019-08-01 13:10:42</td>\n",
       "      <td>2010</td>\n",
       "      <td>20110434</td>\n",
       "      <td>10466</td>\n",
       "      <td>32386</td>\n",
       "      <td>OILTANKING BEAUMONT PARTNERS L.P.</td>\n",
       "      <td>6275 HWY. 347</td>\n",
       "      <td>BEAUMONT</td>\n",
       "      <td>TX</td>\n",
       "      <td>77705</td>\n",
       "      <td>...</td>\n",
       "      <td>0.0</td>\n",
       "      <td>0.0</td>\n",
       "      <td>0.0</td>\n",
       "      <td>0.0</td>\n",
       "      <td>0.0</td>\n",
       "      <td>0.0</td>\n",
       "      <td>INITIAL</td>\n",
       "      <td>2011-09-27 11:02:21</td>\n",
       "      <td>2011-09-27 11:02:21</td>\n",
       "      <td>7000-1.1 (Rev. 06-2011)</td>\n",
       "    </tr>\n",
       "    <tr>\n",
       "      <th>370</th>\n",
       "      <td>2019-08-01 13:10:42</td>\n",
       "      <td>2010</td>\n",
       "      <td>20110374</td>\n",
       "      <td>10393</td>\n",
       "      <td>32009</td>\n",
       "      <td>EXXONMOBIL OIL CORPORATION-TERMINALS</td>\n",
       "      <td>800 BELL STREET</td>\n",
       "      <td>HOUSTON</td>\n",
       "      <td>TX</td>\n",
       "      <td>77002</td>\n",
       "      <td>...</td>\n",
       "      <td>0.0</td>\n",
       "      <td>0.0</td>\n",
       "      <td>0.0</td>\n",
       "      <td>0.0</td>\n",
       "      <td>0.0</td>\n",
       "      <td>0.0</td>\n",
       "      <td>INITIAL</td>\n",
       "      <td>2011-08-16 16:32:34</td>\n",
       "      <td>2011-08-16 16:32:34</td>\n",
       "      <td>7000-1.1 (Rev. 06-2011)</td>\n",
       "    </tr>\n",
       "  </tbody>\n",
       "</table>\n",
       "<p>5 rows × 85 columns</p>\n",
       "</div>"
      ],
      "text/plain": [
       "         DATAFILE_AS_OF  REPORT_YEAR  REPORT_NUMBER  SUPPLEMENTAL_NUMBER  \\\n",
       "298 2019-08-01 13:10:42         2010       20110077                10078   \n",
       "442 2019-08-01 13:10:42         2010       20110007                10007   \n",
       "378 2019-08-01 13:10:42         2010       20110063                11662   \n",
       "443 2019-08-01 13:10:42         2010       20110434                10466   \n",
       "370 2019-08-01 13:10:42         2010       20110374                10393   \n",
       "\n",
       "     OPERATOR_ID                      PARTA2NAMEOFCOMP  \\\n",
       "298        31582                  BEAR PAW ENERGY, LLC   \n",
       "442        32385            FRONTIER GAS SERVICES, LLC   \n",
       "378        32073                  AGAVE ENERGY COMPANY   \n",
       "443        32386     OILTANKING BEAUMONT PARTNERS L.P.   \n",
       "370        32009  EXXONMOBIL OIL CORPORATION-TERMINALS   \n",
       "\n",
       "                      PARTA4STREET PARTA4CITY PARTA4STATE   PARTA4ZIP  ...  \\\n",
       "298          100 West Fifth Street      Tulsa          OK  74103-4298  ...   \n",
       "442  4200 E. SKELLY DR., SUITE 400      TULSA          OK       74135  ...   \n",
       "378           105 SOUTH 4TH STREET    ARTESIA          NM       88210  ...   \n",
       "443                  6275 HWY. 347   BEAUMONT          TX       77705  ...   \n",
       "370                800 BELL STREET    HOUSTON          TX       77002  ...   \n",
       "\n",
       "    PARTE2010HF PARTE2010LF PARTE2010TOTAL PARTETOTAL  PARTETOTALHF  \\\n",
       "298         0.0         0.0            0.0       11.0          11.0   \n",
       "442         0.0         0.0            0.0       16.7           0.0   \n",
       "378         0.0         0.0            0.0       11.0          11.0   \n",
       "443         0.0         0.0            0.0        0.0           0.0   \n",
       "370         0.0         0.0            0.0        0.0           0.0   \n",
       "\n",
       "     PARTETOTALLF  REPORT_SUBMISSION_TYPE         REPORT_DATE  \\\n",
       "298           0.0                 INITIAL 2011-08-10 11:15:47   \n",
       "442          16.7                 INITIAL 2011-07-28 11:30:53   \n",
       "378           0.0            SUPPLEMENTAL 2011-08-08 15:47:31   \n",
       "443           0.0                 INITIAL 2011-09-27 11:02:21   \n",
       "370           0.0                 INITIAL 2011-08-16 16:32:34   \n",
       "\n",
       "            FILING_DATE                 FORM_REV  \n",
       "298 2011-08-10 11:15:47  7000-1.1 (Rev. 06-2011)  \n",
       "442 2011-07-28 11:30:53  7000-1.1 (Rev. 06-2011)  \n",
       "378 2013-02-22 11:32:09  7000-1.1 (Rev. 06-2011)  \n",
       "443 2011-09-27 11:02:21  7000-1.1 (Rev. 06-2011)  \n",
       "370 2011-08-16 16:32:34  7000-1.1 (Rev. 06-2011)  \n",
       "\n",
       "[5 rows x 85 columns]"
      ]
     },
     "execution_count": 8,
     "metadata": {},
     "output_type": "execute_result"
    }
   ],
   "source": [
    "oil_pipelines = pd.read_excel('../data/pipelines_2010_present_2019-08-09/annual_hazardous_liquid_2010.xlsx', skiprows=2)\n",
    "\n",
    "oil_pipelines.sample(5)"
   ]
  },
  {
   "cell_type": "code",
   "execution_count": 9,
   "metadata": {},
   "outputs": [
    {
     "data": {
      "text/plain": [
       "['annual_hazardous_liquid_2017.xlsx',\n",
       " 'annual_hazardous_liquid_2011.xlsx',\n",
       " 'annual_hazardous_liquid_2014.xlsx',\n",
       " 'annual_hazardous_liquid_2012.xlsx',\n",
       " 'annual_hazardous_liquid_2013.xlsx',\n",
       " 'annual_hazardous_liquid_2010.xlsx',\n",
       " 'annual_hazardous_liquid_2018.xlsx',\n",
       " 'annual_hazardous_liquid_2016.xlsx',\n",
       " 'annual_hazardous_liquid_2015.xlsx']"
      ]
     },
     "execution_count": 9,
     "metadata": {},
     "output_type": "execute_result"
    }
   ],
   "source": [
    "from os import listdir\n",
    "\n",
    "pipeline_files = [file for file in listdir('../data/pipelines_2010_present_2019-08-09/') if'annual_hazardous_liquid' in file]\n",
    "pipeline_files"
   ]
  },
  {
   "cell_type": "code",
   "execution_count": 10,
   "metadata": {},
   "outputs": [
    {
     "data": {
      "text/html": [
       "<div>\n",
       "<style scoped>\n",
       "    .dataframe tbody tr th:only-of-type {\n",
       "        vertical-align: middle;\n",
       "    }\n",
       "\n",
       "    .dataframe tbody tr th {\n",
       "        vertical-align: top;\n",
       "    }\n",
       "\n",
       "    .dataframe thead th {\n",
       "        text-align: right;\n",
       "    }\n",
       "</style>\n",
       "<table border=\"1\" class=\"dataframe\">\n",
       "  <thead>\n",
       "    <tr style=\"text-align: right;\">\n",
       "      <th></th>\n",
       "      <th>DATAFILE_AS_OF</th>\n",
       "      <th>REPORT_YEAR</th>\n",
       "      <th>REPORT_NUMBER</th>\n",
       "      <th>SUPPLEMENTAL_NUMBER</th>\n",
       "      <th>OPERATOR_ID</th>\n",
       "      <th>PARTA2NAMEOFCOMP</th>\n",
       "      <th>PARTA4STREET</th>\n",
       "      <th>PARTA4CITY</th>\n",
       "      <th>PARTA4STATE</th>\n",
       "      <th>PARTA4ZIP</th>\n",
       "      <th>...</th>\n",
       "      <th>PARTE2010HF</th>\n",
       "      <th>PARTE2010LF</th>\n",
       "      <th>PARTE2010TOTAL</th>\n",
       "      <th>PARTETOTAL</th>\n",
       "      <th>PARTETOTALHF</th>\n",
       "      <th>PARTETOTALLF</th>\n",
       "      <th>REPORT_SUBMISSION_TYPE</th>\n",
       "      <th>REPORT_DATE</th>\n",
       "      <th>FILING_DATE</th>\n",
       "      <th>FORM_REV</th>\n",
       "    </tr>\n",
       "  </thead>\n",
       "  <tbody>\n",
       "    <tr>\n",
       "      <th>802</th>\n",
       "      <td>2019-08-01 13:14:22</td>\n",
       "      <td>2011</td>\n",
       "      <td>20120504</td>\n",
       "      <td>11970</td>\n",
       "      <td>20046</td>\n",
       "      <td>UNION CARBIDE CHEMICALS &amp; PLASTICS CO INC</td>\n",
       "      <td>437 MACCORKLE AVENUE</td>\n",
       "      <td>SOUTH CHARLESTON</td>\n",
       "      <td>WV</td>\n",
       "      <td>25303</td>\n",
       "      <td>...</td>\n",
       "      <td>0.0</td>\n",
       "      <td>0.0</td>\n",
       "      <td>0.0</td>\n",
       "      <td>0.0</td>\n",
       "      <td>0.0</td>\n",
       "      <td>0.0</td>\n",
       "      <td>SUPPLEMENTAL</td>\n",
       "      <td>2012-11-09 08:09:34</td>\n",
       "      <td>2013-06-10 11:04:28</td>\n",
       "      <td>7000-1.1 (Rev. 06-2011)</td>\n",
       "    </tr>\n",
       "    <tr>\n",
       "      <th>4096</th>\n",
       "      <td>2019-08-01 13:52:01</td>\n",
       "      <td>2016</td>\n",
       "      <td>20172420</td>\n",
       "      <td>14772</td>\n",
       "      <td>8014</td>\n",
       "      <td>IDAHO PIPELINE CORP</td>\n",
       "      <td>POB 35236</td>\n",
       "      <td>SARASOTA</td>\n",
       "      <td>FL</td>\n",
       "      <td>34242</td>\n",
       "      <td>...</td>\n",
       "      <td>0.0</td>\n",
       "      <td>0.0</td>\n",
       "      <td>0.0</td>\n",
       "      <td>2.0</td>\n",
       "      <td>2.0</td>\n",
       "      <td>0.0</td>\n",
       "      <td>INITIAL</td>\n",
       "      <td>2017-04-24 13:13:39</td>\n",
       "      <td>2017-04-24 13:13:39</td>\n",
       "      <td>7000-1.1 (Rev. 06-2014)</td>\n",
       "    </tr>\n",
       "    <tr>\n",
       "      <th>1788</th>\n",
       "      <td>2019-08-01 13:19:08</td>\n",
       "      <td>2012</td>\n",
       "      <td>20130287</td>\n",
       "      <td>12087</td>\n",
       "      <td>1248</td>\n",
       "      <td>BELLE FOURCHE PIPELINE CO</td>\n",
       "      <td>455 N POPLAR ST.</td>\n",
       "      <td>CASPER</td>\n",
       "      <td>WY</td>\n",
       "      <td>82602</td>\n",
       "      <td>...</td>\n",
       "      <td>0.0</td>\n",
       "      <td>0.0</td>\n",
       "      <td>0.0</td>\n",
       "      <td>75.0</td>\n",
       "      <td>26.0</td>\n",
       "      <td>49.0</td>\n",
       "      <td>INITIAL</td>\n",
       "      <td>2013-06-13 12:49:06</td>\n",
       "      <td>2013-06-13 12:49:06</td>\n",
       "      <td>7000-1.1 (Rev. 06-2011)</td>\n",
       "    </tr>\n",
       "    <tr>\n",
       "      <th>2353</th>\n",
       "      <td>2019-08-01 13:23:46</td>\n",
       "      <td>2013</td>\n",
       "      <td>20140767</td>\n",
       "      <td>13866</td>\n",
       "      <td>4908</td>\n",
       "      <td>EXXONMOBIL PRODUCTION COMPANY, A DIVISION OF E...</td>\n",
       "      <td>800 BELL STREET, (P.O. BOX 4358, 77210-4358)</td>\n",
       "      <td>HOUSTON</td>\n",
       "      <td>TX</td>\n",
       "      <td>77210</td>\n",
       "      <td>...</td>\n",
       "      <td>0.0</td>\n",
       "      <td>0.0</td>\n",
       "      <td>0.0</td>\n",
       "      <td>0.0</td>\n",
       "      <td>0.0</td>\n",
       "      <td>0.0</td>\n",
       "      <td>SUPPLEMENTAL</td>\n",
       "      <td>2014-06-10 10:45:11</td>\n",
       "      <td>2015-07-15 16:16:45</td>\n",
       "      <td>7000-1.1 (Rev. 06-2014)</td>\n",
       "    </tr>\n",
       "    <tr>\n",
       "      <th>1827</th>\n",
       "      <td>2019-08-01 13:19:08</td>\n",
       "      <td>2012</td>\n",
       "      <td>20130315</td>\n",
       "      <td>12338</td>\n",
       "      <td>4908</td>\n",
       "      <td>ExxonMobil Production Company, a division of E...</td>\n",
       "      <td>800 BELL STREET, (P.O. BOX 4358, 77210-4358)</td>\n",
       "      <td>HOUSTON</td>\n",
       "      <td>TX</td>\n",
       "      <td>77092</td>\n",
       "      <td>...</td>\n",
       "      <td>0.0</td>\n",
       "      <td>0.0</td>\n",
       "      <td>0.0</td>\n",
       "      <td>0.0</td>\n",
       "      <td>0.0</td>\n",
       "      <td>0.0</td>\n",
       "      <td>SUPPLEMENTAL</td>\n",
       "      <td>2013-06-13 17:25:18</td>\n",
       "      <td>2013-06-25 13:14:50</td>\n",
       "      <td>7000-1.1 (Rev. 06-2011)</td>\n",
       "    </tr>\n",
       "  </tbody>\n",
       "</table>\n",
       "<p>5 rows × 85 columns</p>\n",
       "</div>"
      ],
      "text/plain": [
       "          DATAFILE_AS_OF  REPORT_YEAR  REPORT_NUMBER  SUPPLEMENTAL_NUMBER  \\\n",
       "802  2019-08-01 13:14:22         2011       20120504                11970   \n",
       "4096 2019-08-01 13:52:01         2016       20172420                14772   \n",
       "1788 2019-08-01 13:19:08         2012       20130287                12087   \n",
       "2353 2019-08-01 13:23:46         2013       20140767                13866   \n",
       "1827 2019-08-01 13:19:08         2012       20130315                12338   \n",
       "\n",
       "      OPERATOR_ID                                   PARTA2NAMEOFCOMP  \\\n",
       "802         20046          UNION CARBIDE CHEMICALS & PLASTICS CO INC   \n",
       "4096         8014                                IDAHO PIPELINE CORP   \n",
       "1788         1248                          BELLE FOURCHE PIPELINE CO   \n",
       "2353         4908  EXXONMOBIL PRODUCTION COMPANY, A DIVISION OF E...   \n",
       "1827         4908  ExxonMobil Production Company, a division of E...   \n",
       "\n",
       "                                      PARTA4STREET        PARTA4CITY  \\\n",
       "802                           437 MACCORKLE AVENUE  SOUTH CHARLESTON   \n",
       "4096                                     POB 35236          SARASOTA   \n",
       "1788                              455 N POPLAR ST.            CASPER   \n",
       "2353  800 BELL STREET, (P.O. BOX 4358, 77210-4358)           HOUSTON   \n",
       "1827  800 BELL STREET, (P.O. BOX 4358, 77210-4358)           HOUSTON   \n",
       "\n",
       "     PARTA4STATE PARTA4ZIP  ... PARTE2010HF PARTE2010LF PARTE2010TOTAL  \\\n",
       "802           WV     25303  ...         0.0         0.0            0.0   \n",
       "4096          FL     34242  ...         0.0         0.0            0.0   \n",
       "1788          WY     82602  ...         0.0         0.0            0.0   \n",
       "2353          TX     77210  ...         0.0         0.0            0.0   \n",
       "1827          TX     77092  ...         0.0         0.0            0.0   \n",
       "\n",
       "     PARTETOTAL  PARTETOTALHF  PARTETOTALLF  REPORT_SUBMISSION_TYPE  \\\n",
       "802         0.0           0.0           0.0            SUPPLEMENTAL   \n",
       "4096        2.0           2.0           0.0                 INITIAL   \n",
       "1788       75.0          26.0          49.0                 INITIAL   \n",
       "2353        0.0           0.0           0.0            SUPPLEMENTAL   \n",
       "1827        0.0           0.0           0.0            SUPPLEMENTAL   \n",
       "\n",
       "             REPORT_DATE         FILING_DATE                 FORM_REV  \n",
       "802  2012-11-09 08:09:34 2013-06-10 11:04:28  7000-1.1 (Rev. 06-2011)  \n",
       "4096 2017-04-24 13:13:39 2017-04-24 13:13:39  7000-1.1 (Rev. 06-2014)  \n",
       "1788 2013-06-13 12:49:06 2013-06-13 12:49:06  7000-1.1 (Rev. 06-2011)  \n",
       "2353 2014-06-10 10:45:11 2015-07-15 16:16:45  7000-1.1 (Rev. 06-2014)  \n",
       "1827 2013-06-13 17:25:18 2013-06-25 13:14:50  7000-1.1 (Rev. 06-2011)  \n",
       "\n",
       "[5 rows x 85 columns]"
      ]
     },
     "execution_count": 10,
     "metadata": {},
     "output_type": "execute_result"
    }
   ],
   "source": [
    "pipelines = pd.concat([pd.read_excel(f'../data/pipelines_2010_present_2019-08-09/{file}', skiprows=2) for file in pipeline_files])\n",
    "pipelines = pipelines.reset_index(drop = True)\n",
    "\n",
    "pipelines.sample(5)"
   ]
  },
  {
   "cell_type": "markdown",
   "metadata": {},
   "source": [
    "See which company has the vastest pipeline network."
   ]
  },
  {
   "cell_type": "code",
   "execution_count": 11,
   "metadata": {},
   "outputs": [
    {
     "data": {
      "text/html": [
       "<div>\n",
       "<style scoped>\n",
       "    .dataframe tbody tr th:only-of-type {\n",
       "        vertical-align: middle;\n",
       "    }\n",
       "\n",
       "    .dataframe tbody tr th {\n",
       "        vertical-align: top;\n",
       "    }\n",
       "\n",
       "    .dataframe thead th {\n",
       "        text-align: right;\n",
       "    }\n",
       "</style>\n",
       "<table border=\"1\" class=\"dataframe\">\n",
       "  <thead>\n",
       "    <tr style=\"text-align: right;\">\n",
       "      <th></th>\n",
       "      <th>REPORT_YEAR</th>\n",
       "      <th>OPERATOR_ID</th>\n",
       "      <th>PARTA2NAMEOFCOMP</th>\n",
       "      <th>PARTBHCATOTAL</th>\n",
       "    </tr>\n",
       "  </thead>\n",
       "  <tbody>\n",
       "    <tr>\n",
       "      <th>3634</th>\n",
       "      <td>2018</td>\n",
       "      <td>31618</td>\n",
       "      <td>ENTERPRISE PRODUCTS OPERATING LLC</td>\n",
       "      <td>7726.183</td>\n",
       "    </tr>\n",
       "    <tr>\n",
       "      <th>3704</th>\n",
       "      <td>2018</td>\n",
       "      <td>32109</td>\n",
       "      <td>ONEOK NGL PIPELINE, LLC</td>\n",
       "      <td>4531.480</td>\n",
       "    </tr>\n",
       "    <tr>\n",
       "      <th>4723</th>\n",
       "      <td>2015</td>\n",
       "      <td>2552</td>\n",
       "      <td>COLONIAL PIPELINE CO</td>\n",
       "      <td>4500.920</td>\n",
       "    </tr>\n",
       "    <tr>\n",
       "      <th>4715</th>\n",
       "      <td>2015</td>\n",
       "      <td>1845</td>\n",
       "      <td>BUCKEYE PARTNERS, LP</td>\n",
       "      <td>4266.430</td>\n",
       "    </tr>\n",
       "    <tr>\n",
       "      <th>3484</th>\n",
       "      <td>2018</td>\n",
       "      <td>22610</td>\n",
       "      <td>MAGELLAN PIPELINE COMPANY, LP</td>\n",
       "      <td>3926.400</td>\n",
       "    </tr>\n",
       "    <tr>\n",
       "      <th>4135</th>\n",
       "      <td>2016</td>\n",
       "      <td>15674</td>\n",
       "      <td>PLANTATION PIPE LINE CO</td>\n",
       "      <td>2564.730</td>\n",
       "    </tr>\n",
       "    <tr>\n",
       "      <th>4035</th>\n",
       "      <td>2016</td>\n",
       "      <td>300</td>\n",
       "      <td>PLAINS PIPELINE, L.P.</td>\n",
       "      <td>2312.330</td>\n",
       "    </tr>\n",
       "    <tr>\n",
       "      <th>67</th>\n",
       "      <td>2017</td>\n",
       "      <td>11169</td>\n",
       "      <td>ENBRIDGE ENERGY, LIMITED PARTNERSHIP</td>\n",
       "      <td>2290.000</td>\n",
       "    </tr>\n",
       "    <tr>\n",
       "      <th>3186</th>\n",
       "      <td>2010</td>\n",
       "      <td>31684</td>\n",
       "      <td>CONOCOPHILLIPS</td>\n",
       "      <td>2283.790</td>\n",
       "    </tr>\n",
       "    <tr>\n",
       "      <th>2693</th>\n",
       "      <td>2013</td>\n",
       "      <td>32147</td>\n",
       "      <td>MARATHON PIPE LINE LLC</td>\n",
       "      <td>2281.900</td>\n",
       "    </tr>\n",
       "  </tbody>\n",
       "</table>\n",
       "</div>"
      ],
      "text/plain": [
       "      REPORT_YEAR  OPERATOR_ID                      PARTA2NAMEOFCOMP  \\\n",
       "3634         2018        31618     ENTERPRISE PRODUCTS OPERATING LLC   \n",
       "3704         2018        32109               ONEOK NGL PIPELINE, LLC   \n",
       "4723         2015         2552                  COLONIAL PIPELINE CO   \n",
       "4715         2015         1845                  BUCKEYE PARTNERS, LP   \n",
       "3484         2018        22610         MAGELLAN PIPELINE COMPANY, LP   \n",
       "4135         2016        15674               PLANTATION PIPE LINE CO   \n",
       "4035         2016          300                 PLAINS PIPELINE, L.P.   \n",
       "67           2017        11169  ENBRIDGE ENERGY, LIMITED PARTNERSHIP   \n",
       "3186         2010        31684                        CONOCOPHILLIPS   \n",
       "2693         2013        32147                MARATHON PIPE LINE LLC   \n",
       "\n",
       "      PARTBHCATOTAL  \n",
       "3634       7726.183  \n",
       "3704       4531.480  \n",
       "4723       4500.920  \n",
       "4715       4266.430  \n",
       "3484       3926.400  \n",
       "4135       2564.730  \n",
       "4035       2312.330  \n",
       "67         2290.000  \n",
       "3186       2283.790  \n",
       "2693       2281.900  "
      ]
     },
     "execution_count": 11,
     "metadata": {},
     "output_type": "execute_result"
    }
   ],
   "source": [
    "pipelines.loc[pipelines.groupby('OPERATOR_ID')['PARTBHCATOTAL'].idxmax()].nlargest(10, 'PARTBHCATOTAL')[['REPORT_YEAR', 'OPERATOR_ID', 'PARTA2NAMEOFCOMP', 'PARTBHCATOTAL']]"
   ]
  },
  {
   "cell_type": "code",
   "execution_count": 12,
   "metadata": {},
   "outputs": [
    {
     "data": {
      "text/plain": [
       "array(['Crude Oil', 'HVL', 'Refined and/or Petroleum Product (non-HVL)',\n",
       "       'CO2', 'Fuel Grade Ethanol (dedicated system)'], dtype=object)"
      ]
     },
     "execution_count": 12,
     "metadata": {},
     "output_type": "execute_result"
    }
   ],
   "source": [
    "pipelines['PARTA5COMMODITY'].unique()"
   ]
  },
  {
   "cell_type": "markdown",
   "metadata": {},
   "source": [
    "Compare to"
   ]
  },
  {
   "cell_type": "code",
   "execution_count": 13,
   "metadata": {},
   "outputs": [
    {
     "data": {
      "text/plain": [
       "array(['REFINED AND/OR PETROLEUM PRODUCT (NON-HVL) WHICH IS A LIQUID AT AMBIENT CONDITIONS',\n",
       "       'CO2 (CARBON DIOXIDE)',\n",
       "       'HVL OR OTHER FLAMMABLE OR TOXIC FLUID WHICH IS A GAS AT AMBIENT CONDITIONS',\n",
       "       'CRUDE OIL',\n",
       "       'BIOFUEL / ALTERNATIVE FUEL(INCLUDING ETHANOL BLENDS)'],\n",
       "      dtype=object)"
      ]
     },
     "execution_count": 13,
     "metadata": {},
     "output_type": "execute_result"
    }
   ],
   "source": [
    "incidents['COMMODITY_RELEASED_TYPE'].unique()"
   ]
  },
  {
   "cell_type": "markdown",
   "metadata": {},
   "source": [
    "The types correspond well, but the terminology is different."
   ]
  },
  {
   "cell_type": "markdown",
   "metadata": {},
   "source": [
    "## 2.3 Gas pipelines"
   ]
  },
  {
   "cell_type": "code",
   "execution_count": 14,
   "metadata": {},
   "outputs": [
    {
     "data": {
      "text/html": [
       "<div>\n",
       "<style scoped>\n",
       "    .dataframe tbody tr th:only-of-type {\n",
       "        vertical-align: middle;\n",
       "    }\n",
       "\n",
       "    .dataframe tbody tr th {\n",
       "        vertical-align: top;\n",
       "    }\n",
       "\n",
       "    .dataframe thead th {\n",
       "        text-align: right;\n",
       "    }\n",
       "</style>\n",
       "<table border=\"1\" class=\"dataframe\">\n",
       "  <thead>\n",
       "    <tr style=\"text-align: right;\">\n",
       "      <th></th>\n",
       "      <th>DATAFILE_AS_OF</th>\n",
       "      <th>REPORT_YEAR</th>\n",
       "      <th>REPORT_NUMBER</th>\n",
       "      <th>SUPPLEMENTAL_NUMBER</th>\n",
       "      <th>OPERATOR_ID</th>\n",
       "      <th>PARTA2NAMEOFCOMP</th>\n",
       "      <th>PARTA2NAMEOFPARENT_COM</th>\n",
       "      <th>PARTA3NAME</th>\n",
       "      <th>PARTA3TITLE</th>\n",
       "      <th>PARTA3EMAIL</th>\n",
       "      <th>...</th>\n",
       "      <th>PARTA4ZIP</th>\n",
       "      <th>REPORT_SUBMISSION_TYPE</th>\n",
       "      <th>REPORT_DATE</th>\n",
       "      <th>FILING_DATE</th>\n",
       "      <th>FORM_REV</th>\n",
       "      <th>PARTNPREPNAME</th>\n",
       "      <th>PARTNPREPTITLE</th>\n",
       "      <th>PARTNPREPEMAIL</th>\n",
       "      <th>PARTNPREPPHONE</th>\n",
       "      <th>PARTNPREPFAX</th>\n",
       "    </tr>\n",
       "  </thead>\n",
       "  <tbody>\n",
       "    <tr>\n",
       "      <th>19</th>\n",
       "      <td>2019-08-01 14:19:07</td>\n",
       "      <td>2015</td>\n",
       "      <td>20160266</td>\n",
       "      <td>530</td>\n",
       "      <td>4350</td>\n",
       "      <td>ELIZABETHTOWN GAS CO</td>\n",
       "      <td>AGL Resources, Inc.</td>\n",
       "      <td>Ralph McCollum</td>\n",
       "      <td>Sr Compliance Engineer</td>\n",
       "      <td>rmccollu@aglresources.com</td>\n",
       "      <td>...</td>\n",
       "      <td>07083</td>\n",
       "      <td>INITIAL</td>\n",
       "      <td>2016-01-28 08:43:45</td>\n",
       "      <td>2016-01-28 08:43:45</td>\n",
       "      <td>7100.3-1 (Rev. 10-2014)</td>\n",
       "      <td>Ralph McCollum</td>\n",
       "      <td>Sr Compliance Engineer</td>\n",
       "      <td>rmccollu@aglresources.com</td>\n",
       "      <td>(404) 584-3733</td>\n",
       "      <td>(404)584-4710</td>\n",
       "    </tr>\n",
       "    <tr>\n",
       "      <th>54</th>\n",
       "      <td>2019-08-01 14:19:07</td>\n",
       "      <td>2015</td>\n",
       "      <td>20160327</td>\n",
       "      <td>600</td>\n",
       "      <td>18490</td>\n",
       "      <td>SOUTHERN LNG, INC</td>\n",
       "      <td>Kinder Morgan Inc</td>\n",
       "      <td>Scott J. Walden, Sr.</td>\n",
       "      <td>Manager, Compliance LNG Division</td>\n",
       "      <td>scott_walden@kindermorgan.com</td>\n",
       "      <td>...</td>\n",
       "      <td>77002</td>\n",
       "      <td>INITIAL</td>\n",
       "      <td>2016-03-14 08:36:10</td>\n",
       "      <td>2016-03-14 08:36:10</td>\n",
       "      <td>7100.3-1 (Rev. 10-2014)</td>\n",
       "      <td>Carla Roark</td>\n",
       "      <td>Regulatory Analyst</td>\n",
       "      <td>carla_roark@kindermorgan.com</td>\n",
       "      <td>(912)944-3856</td>\n",
       "      <td>NaN</td>\n",
       "    </tr>\n",
       "    <tr>\n",
       "      <th>44</th>\n",
       "      <td>2019-08-01 14:19:07</td>\n",
       "      <td>2015</td>\n",
       "      <td>20160272</td>\n",
       "      <td>541</td>\n",
       "      <td>15469</td>\n",
       "      <td>PHILADELPHIA GAS WORKS</td>\n",
       "      <td>NaN</td>\n",
       "      <td>Curt Malkemes</td>\n",
       "      <td>Director, Gas Processing</td>\n",
       "      <td>curt.malkemes@pgworks.com</td>\n",
       "      <td>...</td>\n",
       "      <td>19122</td>\n",
       "      <td>INITIAL</td>\n",
       "      <td>2016-02-10 09:42:40</td>\n",
       "      <td>2016-02-10 09:42:40</td>\n",
       "      <td>7100.3-1 (Rev. 10-2014)</td>\n",
       "      <td>Curt Malkemes</td>\n",
       "      <td>Director, Gas Processing</td>\n",
       "      <td>curt.malkemes@pgworks.com</td>\n",
       "      <td>(215)684-6416</td>\n",
       "      <td>NaN</td>\n",
       "    </tr>\n",
       "    <tr>\n",
       "      <th>57</th>\n",
       "      <td>2019-08-01 14:19:07</td>\n",
       "      <td>2015</td>\n",
       "      <td>20160293</td>\n",
       "      <td>562</td>\n",
       "      <td>22189</td>\n",
       "      <td>PUGET SOUND ENERGY</td>\n",
       "      <td>Puget Energy</td>\n",
       "      <td>Darryl</td>\n",
       "      <td>Hong</td>\n",
       "      <td>darryl.hong@pse.com</td>\n",
       "      <td>...</td>\n",
       "      <td>98009-0868</td>\n",
       "      <td>INITIAL</td>\n",
       "      <td>2016-03-01 18:49:30</td>\n",
       "      <td>2016-03-01 18:49:30</td>\n",
       "      <td>7100.3-1 (Rev. 10-2014)</td>\n",
       "      <td>Dave Wooten</td>\n",
       "      <td>Supervisor Alternative Fuels</td>\n",
       "      <td>david.wooten@pse.com</td>\n",
       "      <td>(452)505-3442</td>\n",
       "      <td>NaN</td>\n",
       "    </tr>\n",
       "    <tr>\n",
       "      <th>71</th>\n",
       "      <td>2019-08-01 14:19:07</td>\n",
       "      <td>2015</td>\n",
       "      <td>20160283</td>\n",
       "      <td>552</td>\n",
       "      <td>32214</td>\n",
       "      <td>CAMERON LNG, LLC</td>\n",
       "      <td>NaN</td>\n",
       "      <td>Dan Callens</td>\n",
       "      <td>VP of Terminal Operations</td>\n",
       "      <td>dcallens@cameronlng.com</td>\n",
       "      <td>...</td>\n",
       "      <td>77042</td>\n",
       "      <td>INITIAL</td>\n",
       "      <td>2016-02-22 11:55:26</td>\n",
       "      <td>2016-02-22 11:55:26</td>\n",
       "      <td>7100.3-1 (Rev. 10-2014)</td>\n",
       "      <td>Clayton Miller</td>\n",
       "      <td>Environmental Supervisor</td>\n",
       "      <td>cmiller@cameronlng.com</td>\n",
       "      <td>(337) 680-4531</td>\n",
       "      <td>(337)602-9509</td>\n",
       "    </tr>\n",
       "  </tbody>\n",
       "</table>\n",
       "<p>5 rows × 24 columns</p>\n",
       "</div>"
      ],
      "text/plain": [
       "        DATAFILE_AS_OF  REPORT_YEAR  REPORT_NUMBER  SUPPLEMENTAL_NUMBER  \\\n",
       "19 2019-08-01 14:19:07         2015       20160266                  530   \n",
       "54 2019-08-01 14:19:07         2015       20160327                  600   \n",
       "44 2019-08-01 14:19:07         2015       20160272                  541   \n",
       "57 2019-08-01 14:19:07         2015       20160293                  562   \n",
       "71 2019-08-01 14:19:07         2015       20160283                  552   \n",
       "\n",
       "    OPERATOR_ID        PARTA2NAMEOFCOMP PARTA2NAMEOFPARENT_COM  \\\n",
       "19         4350    ELIZABETHTOWN GAS CO    AGL Resources, Inc.   \n",
       "54        18490       SOUTHERN LNG, INC      Kinder Morgan Inc   \n",
       "44        15469  PHILADELPHIA GAS WORKS                    NaN   \n",
       "57        22189      PUGET SOUND ENERGY           Puget Energy   \n",
       "71        32214        CAMERON LNG, LLC                    NaN   \n",
       "\n",
       "              PARTA3NAME                       PARTA3TITLE  \\\n",
       "19        Ralph McCollum            Sr Compliance Engineer   \n",
       "54  Scott J. Walden, Sr.  Manager, Compliance LNG Division   \n",
       "44         Curt Malkemes          Director, Gas Processing   \n",
       "57                Darryl                              Hong   \n",
       "71           Dan Callens         VP of Terminal Operations   \n",
       "\n",
       "                      PARTA3EMAIL  ...   PARTA4ZIP REPORT_SUBMISSION_TYPE  \\\n",
       "19      rmccollu@aglresources.com  ...       07083                INITIAL   \n",
       "54  scott_walden@kindermorgan.com  ...       77002                INITIAL   \n",
       "44      curt.malkemes@pgworks.com  ...       19122                INITIAL   \n",
       "57            darryl.hong@pse.com  ...  98009-0868                INITIAL   \n",
       "71        dcallens@cameronlng.com  ...       77042                INITIAL   \n",
       "\n",
       "           REPORT_DATE         FILING_DATE                 FORM_REV  \\\n",
       "19 2016-01-28 08:43:45 2016-01-28 08:43:45  7100.3-1 (Rev. 10-2014)   \n",
       "54 2016-03-14 08:36:10 2016-03-14 08:36:10  7100.3-1 (Rev. 10-2014)   \n",
       "44 2016-02-10 09:42:40 2016-02-10 09:42:40  7100.3-1 (Rev. 10-2014)   \n",
       "57 2016-03-01 18:49:30 2016-03-01 18:49:30  7100.3-1 (Rev. 10-2014)   \n",
       "71 2016-02-22 11:55:26 2016-02-22 11:55:26  7100.3-1 (Rev. 10-2014)   \n",
       "\n",
       "     PARTNPREPNAME                PARTNPREPTITLE  \\\n",
       "19  Ralph McCollum        Sr Compliance Engineer   \n",
       "54     Carla Roark            Regulatory Analyst   \n",
       "44   Curt Malkemes      Director, Gas Processing   \n",
       "57     Dave Wooten  Supervisor Alternative Fuels   \n",
       "71  Clayton Miller      Environmental Supervisor   \n",
       "\n",
       "                  PARTNPREPEMAIL  PARTNPREPPHONE   PARTNPREPFAX  \n",
       "19     rmccollu@aglresources.com  (404) 584-3733  (404)584-4710  \n",
       "54  carla_roark@kindermorgan.com   (912)944-3856            NaN  \n",
       "44     curt.malkemes@pgworks.com   (215)684-6416            NaN  \n",
       "57          david.wooten@pse.com   (452)505-3442            NaN  \n",
       "71        cmiller@cameronlng.com  (337) 680-4531  (337)602-9509  \n",
       "\n",
       "[5 rows x 24 columns]"
      ]
     },
     "execution_count": 14,
     "metadata": {},
     "output_type": "execute_result"
    }
   ],
   "source": [
    "gas_pipelines = pd.read_excel('../data/gas_2010_present_2019-08-09/annual_liquefied_natural_gas_2015.xlsx', skiprows=1)\n",
    "\n",
    "gas_pipelines.sample(5)"
   ]
  },
  {
   "cell_type": "code",
   "execution_count": 15,
   "metadata": {},
   "outputs": [
    {
     "data": {
      "text/plain": [
       "['annual_liquefied_natural_gas_2013.xlsx',\n",
       " 'annual_liquefied_natural_gas_2011.xlsx',\n",
       " 'annual_liquefied_natural_gas_2016.xlsx',\n",
       " 'annual_liquefied_natural_gas_2012.xlsx',\n",
       " 'annual_liquefied_natural_gas_2017.xlsx',\n",
       " 'annual_liquefied_natural_gas_2018.xlsx',\n",
       " 'annual_liquefied_natural_gas_2010.xlsx',\n",
       " 'annual_liquefied_natural_gas_2014.xlsx',\n",
       " 'annual_liquefied_natural_gas_2015.xlsx']"
      ]
     },
     "execution_count": 15,
     "metadata": {},
     "output_type": "execute_result"
    }
   ],
   "source": [
    "gas_files = [file for file in listdir('../data/gas_2010_present_2019-08-09/') if'annual_liquefied_natural_gas' in file]\n",
    "gas_files"
   ]
  },
  {
   "cell_type": "code",
   "execution_count": 16,
   "metadata": {},
   "outputs": [
    {
     "data": {
      "text/html": [
       "<div>\n",
       "<style scoped>\n",
       "    .dataframe tbody tr th:only-of-type {\n",
       "        vertical-align: middle;\n",
       "    }\n",
       "\n",
       "    .dataframe tbody tr th {\n",
       "        vertical-align: top;\n",
       "    }\n",
       "\n",
       "    .dataframe thead th {\n",
       "        text-align: right;\n",
       "    }\n",
       "</style>\n",
       "<table border=\"1\" class=\"dataframe\">\n",
       "  <thead>\n",
       "    <tr style=\"text-align: right;\">\n",
       "      <th></th>\n",
       "      <th>DATAFILE_AS_OF</th>\n",
       "      <th>REPORT_YEAR</th>\n",
       "      <th>REPORT_NUMBER</th>\n",
       "      <th>SUPPLEMENTAL_NUMBER</th>\n",
       "      <th>OPERATOR_ID</th>\n",
       "      <th>PARTA2NAMEOFCOMP</th>\n",
       "      <th>PARTA2NAMEOFPARENT_COM</th>\n",
       "      <th>PARTA3NAME</th>\n",
       "      <th>PARTA3TITLE</th>\n",
       "      <th>PARTA3EMAIL</th>\n",
       "      <th>...</th>\n",
       "      <th>PARTA4ZIP</th>\n",
       "      <th>REPORT_SUBMISSION_TYPE</th>\n",
       "      <th>REPORT_DATE</th>\n",
       "      <th>FILING_DATE</th>\n",
       "      <th>FORM_REV</th>\n",
       "      <th>PARTNPREPNAME</th>\n",
       "      <th>PARTNPREPTITLE</th>\n",
       "      <th>PARTNPREPEMAIL</th>\n",
       "      <th>PARTNPREPPHONE</th>\n",
       "      <th>PARTNPREPFAX</th>\n",
       "    </tr>\n",
       "  </thead>\n",
       "  <tbody>\n",
       "    <tr>\n",
       "      <th>219</th>\n",
       "      <td>2019-08-01 14:20:39</td>\n",
       "      <td>2016</td>\n",
       "      <td>20170416</td>\n",
       "      <td>729</td>\n",
       "      <td>22189</td>\n",
       "      <td>PUGET SOUND ENERGY</td>\n",
       "      <td>NaN</td>\n",
       "      <td>Lee Maxwell</td>\n",
       "      <td>SR. Regulatory Compliance Analyst</td>\n",
       "      <td>lee.maxwell@pse.com</td>\n",
       "      <td>...</td>\n",
       "      <td>98009-0868</td>\n",
       "      <td>INITIAL</td>\n",
       "      <td>2017-03-14 23:25:45</td>\n",
       "      <td>2017-03-14 23:25:45</td>\n",
       "      <td>7100.3-1 (Rev. 10-2014)</td>\n",
       "      <td>David Wooten</td>\n",
       "      <td>Supervisor Alternative Fuels</td>\n",
       "      <td>david.wooten@pse.com</td>\n",
       "      <td>(452)505-3442</td>\n",
       "      <td>NaN</td>\n",
       "    </tr>\n",
       "    <tr>\n",
       "      <th>60</th>\n",
       "      <td>2019-08-01 14:16:07</td>\n",
       "      <td>2013</td>\n",
       "      <td>20140140</td>\n",
       "      <td>358</td>\n",
       "      <td>22777</td>\n",
       "      <td>WISCONSIN ELECTRIC POWER COMPANY DBA WE ENERGIES</td>\n",
       "      <td>Wisconsin Energy Corporation</td>\n",
       "      <td>Tim Strommen</td>\n",
       "      <td>MANAGER REGULATORY COMPLIANCE</td>\n",
       "      <td>tim.strommen@we-energies.com</td>\n",
       "      <td>...</td>\n",
       "      <td>53203</td>\n",
       "      <td>INITIAL</td>\n",
       "      <td>2014-03-11 11:47:20</td>\n",
       "      <td>2014-03-11 11:47:20</td>\n",
       "      <td>7100.3-1 (Rev. 06-2011)</td>\n",
       "      <td>Todd Gretebeck</td>\n",
       "      <td>Manager - LNG/Propane Plant Operations</td>\n",
       "      <td>todd.gretebeck@we-energies.com</td>\n",
       "      <td>(414) 221-5378</td>\n",
       "      <td>(414) 571-3593</td>\n",
       "    </tr>\n",
       "    <tr>\n",
       "      <th>39</th>\n",
       "      <td>2019-08-01 14:16:07</td>\n",
       "      <td>2013</td>\n",
       "      <td>20140109</td>\n",
       "      <td>319</td>\n",
       "      <td>13860</td>\n",
       "      <td>NORWICH DEPT OF PUBLIC UTILITIES, CITY OF</td>\n",
       "      <td>NaN</td>\n",
       "      <td>Christopher LaRose</td>\n",
       "      <td>Assistant General Manager</td>\n",
       "      <td>chrislarose@npumail.com</td>\n",
       "      <td>...</td>\n",
       "      <td>06360</td>\n",
       "      <td>INITIAL</td>\n",
       "      <td>2014-02-21 11:47:38</td>\n",
       "      <td>2014-02-21 11:47:38</td>\n",
       "      <td>7100.3-1 (Rev. 06-2011)</td>\n",
       "      <td>Christopher LaRose</td>\n",
       "      <td>Assistant General Manager</td>\n",
       "      <td>chrislarose@npumail.com</td>\n",
       "      <td>(860) 823-4173</td>\n",
       "      <td>(860) 823-4172</td>\n",
       "    </tr>\n",
       "    <tr>\n",
       "      <th>97</th>\n",
       "      <td>2019-08-01 14:12:58</td>\n",
       "      <td>2011</td>\n",
       "      <td>20120028</td>\n",
       "      <td>32</td>\n",
       "      <td>2700</td>\n",
       "      <td>CONNECTICUT NATURAL GAS CORP</td>\n",
       "      <td>UIL Holding Corp</td>\n",
       "      <td>David Fritsch</td>\n",
       "      <td>Director, Production &amp; Gas Control</td>\n",
       "      <td>dfritsch@ctgcorp.com</td>\n",
       "      <td>...</td>\n",
       "      <td>06108</td>\n",
       "      <td>INITIAL</td>\n",
       "      <td>2012-02-29 11:17:27</td>\n",
       "      <td>2012-02-29 11:17:27</td>\n",
       "      <td>7100.3-1 (Rev. 06-2011)</td>\n",
       "      <td>Robert Kopjanski</td>\n",
       "      <td>Manager, LNG Plants</td>\n",
       "      <td>rkopjanski@soconngas.com</td>\n",
       "      <td>(203) 874-6763</td>\n",
       "      <td>(203) 874-5281</td>\n",
       "    </tr>\n",
       "    <tr>\n",
       "      <th>20</th>\n",
       "      <td>2019-08-01 14:16:07</td>\n",
       "      <td>2013</td>\n",
       "      <td>20140125</td>\n",
       "      <td>342</td>\n",
       "      <td>4547</td>\n",
       "      <td>ESSEX COUNTY GAS CO</td>\n",
       "      <td>National Grid</td>\n",
       "      <td>walter doucette</td>\n",
       "      <td>Plant Manager</td>\n",
       "      <td>walter.doucette@nationalgrid.com</td>\n",
       "      <td>...</td>\n",
       "      <td>02451</td>\n",
       "      <td>INITIAL</td>\n",
       "      <td>2014-03-05 07:29:28</td>\n",
       "      <td>2014-03-05 07:29:28</td>\n",
       "      <td>7100.3-1 (Rev. 06-2011)</td>\n",
       "      <td>Steven Renna</td>\n",
       "      <td>Lead Engineer</td>\n",
       "      <td>steven.renna@nationalgrid.com</td>\n",
       "      <td>(631) 471-1660</td>\n",
       "      <td>(631) 471-1601</td>\n",
       "    </tr>\n",
       "  </tbody>\n",
       "</table>\n",
       "<p>5 rows × 25 columns</p>\n",
       "</div>"
      ],
      "text/plain": [
       "         DATAFILE_AS_OF  REPORT_YEAR  REPORT_NUMBER  SUPPLEMENTAL_NUMBER  \\\n",
       "219 2019-08-01 14:20:39         2016       20170416                  729   \n",
       "60  2019-08-01 14:16:07         2013       20140140                  358   \n",
       "39  2019-08-01 14:16:07         2013       20140109                  319   \n",
       "97  2019-08-01 14:12:58         2011       20120028                   32   \n",
       "20  2019-08-01 14:16:07         2013       20140125                  342   \n",
       "\n",
       "     OPERATOR_ID                                  PARTA2NAMEOFCOMP  \\\n",
       "219        22189                                PUGET SOUND ENERGY   \n",
       "60         22777  WISCONSIN ELECTRIC POWER COMPANY DBA WE ENERGIES   \n",
       "39         13860         NORWICH DEPT OF PUBLIC UTILITIES, CITY OF   \n",
       "97          2700                      CONNECTICUT NATURAL GAS CORP   \n",
       "20          4547                               ESSEX COUNTY GAS CO   \n",
       "\n",
       "           PARTA2NAMEOFPARENT_COM          PARTA3NAME  \\\n",
       "219                           NaN         Lee Maxwell   \n",
       "60   Wisconsin Energy Corporation        Tim Strommen   \n",
       "39                            NaN  Christopher LaRose   \n",
       "97               UIL Holding Corp       David Fritsch   \n",
       "20                  National Grid     walter doucette   \n",
       "\n",
       "                            PARTA3TITLE                       PARTA3EMAIL  \\\n",
       "219   SR. Regulatory Compliance Analyst               lee.maxwell@pse.com   \n",
       "60        MANAGER REGULATORY COMPLIANCE      tim.strommen@we-energies.com   \n",
       "39            Assistant General Manager           chrislarose@npumail.com   \n",
       "97   Director, Production & Gas Control              dfritsch@ctgcorp.com   \n",
       "20                        Plant Manager  walter.doucette@nationalgrid.com   \n",
       "\n",
       "     ...   PARTA4ZIP REPORT_SUBMISSION_TYPE         REPORT_DATE  \\\n",
       "219  ...  98009-0868                INITIAL 2017-03-14 23:25:45   \n",
       "60   ...       53203                INITIAL 2014-03-11 11:47:20   \n",
       "39   ...       06360                INITIAL 2014-02-21 11:47:38   \n",
       "97   ...       06108                INITIAL 2012-02-29 11:17:27   \n",
       "20   ...       02451                INITIAL 2014-03-05 07:29:28   \n",
       "\n",
       "            FILING_DATE                 FORM_REV       PARTNPREPNAME  \\\n",
       "219 2017-03-14 23:25:45  7100.3-1 (Rev. 10-2014)        David Wooten   \n",
       "60  2014-03-11 11:47:20  7100.3-1 (Rev. 06-2011)      Todd Gretebeck   \n",
       "39  2014-02-21 11:47:38  7100.3-1 (Rev. 06-2011)  Christopher LaRose   \n",
       "97  2012-02-29 11:17:27  7100.3-1 (Rev. 06-2011)    Robert Kopjanski   \n",
       "20  2014-03-05 07:29:28  7100.3-1 (Rev. 06-2011)        Steven Renna   \n",
       "\n",
       "                             PARTNPREPTITLE                  PARTNPREPEMAIL  \\\n",
       "219            Supervisor Alternative Fuels            david.wooten@pse.com   \n",
       "60   Manager - LNG/Propane Plant Operations  todd.gretebeck@we-energies.com   \n",
       "39                Assistant General Manager         chrislarose@npumail.com   \n",
       "97                      Manager, LNG Plants        rkopjanski@soconngas.com   \n",
       "20                            Lead Engineer   steven.renna@nationalgrid.com   \n",
       "\n",
       "     PARTNPREPPHONE    PARTNPREPFAX  \n",
       "219   (452)505-3442             NaN  \n",
       "60   (414) 221-5378  (414) 571-3593  \n",
       "39   (860) 823-4173  (860) 823-4172  \n",
       "97   (203) 874-6763  (203) 874-5281  \n",
       "20   (631) 471-1660  (631) 471-1601  \n",
       "\n",
       "[5 rows x 25 columns]"
      ]
     },
     "execution_count": 16,
     "metadata": {},
     "output_type": "execute_result"
    }
   ],
   "source": [
    "gas = pd.concat([pd.read_excel(f'../data/gas_2010_present_2019-08-09/{file}', skiprows=1) for file in gas_files[:3]], sort=False)\n",
    "gas = gas.reset_index(drop = True)\n",
    "\n",
    "gas.sample(5)"
   ]
  },
  {
   "cell_type": "markdown",
   "metadata": {},
   "source": [
    "The warning stems from the fact that the PARTA4NAMEOFCOMP columns was dropped, starting from 2014 (see below). Fortunately, we can use the field \"PARTA2NAMEOFCOMP\" and \"PARTA2NAMEOFPARENT_COM\" to get the information."
   ]
  },
  {
   "cell_type": "code",
   "execution_count": 17,
   "metadata": {},
   "outputs": [
    {
     "data": {
      "text/plain": [
       "{'PARTA4NAMEOFCOMP'}"
      ]
     },
     "execution_count": 17,
     "metadata": {},
     "output_type": "execute_result"
    }
   ],
   "source": [
    "gas_columns_2010 = pd.read_excel('../data/gas_2010_present_2019-08-09/annual_liquefied_natural_gas_2010.xlsx', skiprows=1, skipfooter=999).columns.tolist()\n",
    "gas_columns_2014 = pd.read_excel('../data/gas_2010_present_2019-08-09/annual_liquefied_natural_gas_2014.xlsx', skiprows=1, skipfooter=999).columns.tolist()\n",
    "set(gas_columns_2010) - set(gas_columns_2014)"
   ]
  },
  {
   "cell_type": "markdown",
   "metadata": {},
   "source": [
    "## 2.4. Where do incidents occur? Regular, or LNG pipelines?"
   ]
  },
  {
   "cell_type": "markdown",
   "metadata": {},
   "source": [
    "### 2.4.1 Are there operators who operate both regular and LNG pipelines?"
   ]
  },
  {
   "cell_type": "code",
   "execution_count": 18,
   "metadata": {},
   "outputs": [
    {
     "data": {
      "text/plain": [
       "[180, 630, 792, 909, 1088]"
      ]
     },
     "execution_count": 18,
     "metadata": {},
     "output_type": "execute_result"
    }
   ],
   "source": [
    "gas_operators = np.unique(gas['OPERATOR_ID']).tolist()\n",
    "gas_operators[:5]"
   ]
  },
  {
   "cell_type": "code",
   "execution_count": 19,
   "metadata": {},
   "outputs": [
    {
     "data": {
      "text/plain": [
       "[300, 395, 401, 402, 473]"
      ]
     },
     "execution_count": 19,
     "metadata": {},
     "output_type": "execute_result"
    }
   ],
   "source": [
    "pipeline_operators = np.unique(pipelines['OPERATOR_ID']).tolist()\n",
    "pipeline_operators[:5]"
   ]
  },
  {
   "cell_type": "code",
   "execution_count": 20,
   "metadata": {},
   "outputs": [
    {
     "name": "stdout",
     "output_type": "stream",
     "text": [
      "{31636}\n"
     ]
    }
   ],
   "source": [
    "common_operators = set(gas_operators).intersection(set(pipeline_operators))\n",
    "print(common_operators)"
   ]
  },
  {
   "cell_type": "markdown",
   "metadata": {},
   "source": [
    "Only one company occurs on both lists."
   ]
  },
  {
   "cell_type": "code",
   "execution_count": 21,
   "metadata": {},
   "outputs": [
    {
     "data": {
      "text/plain": [
       "['NORTHERN STATES POWER CO OF MINNESOTA']"
      ]
     },
     "execution_count": 21,
     "metadata": {},
     "output_type": "execute_result"
    }
   ],
   "source": [
    "pipelines.loc[pipelines['OPERATOR_ID'].isin(common_operators) & (pipelines['REPORT_YEAR'] == 2017)]['PARTA2NAMEOFCOMP'].tolist()"
   ]
  },
  {
   "cell_type": "markdown",
   "metadata": {},
   "source": [
    "### 2.4.2 Where do the accidents occur?"
   ]
  },
  {
   "cell_type": "code",
   "execution_count": 22,
   "metadata": {},
   "outputs": [
    {
     "data": {
      "text/html": [
       "<div>\n",
       "<style scoped>\n",
       "    .dataframe tbody tr th:only-of-type {\n",
       "        vertical-align: middle;\n",
       "    }\n",
       "\n",
       "    .dataframe tbody tr th {\n",
       "        vertical-align: top;\n",
       "    }\n",
       "\n",
       "    .dataframe thead th {\n",
       "        text-align: right;\n",
       "    }\n",
       "</style>\n",
       "<table border=\"1\" class=\"dataframe\">\n",
       "  <thead>\n",
       "    <tr style=\"text-align: right;\">\n",
       "      <th></th>\n",
       "      <th>DATAFILE_AS_OF</th>\n",
       "      <th>SIGNIFICANT</th>\n",
       "      <th>SERIOUS</th>\n",
       "      <th>IPE</th>\n",
       "      <th>IA_IPE</th>\n",
       "      <th>OM_IPE</th>\n",
       "      <th>REPORT_NUMBER</th>\n",
       "      <th>SUPPLEMENTAL_NUMBER</th>\n",
       "      <th>REPORT_RECEIVED_DATE</th>\n",
       "      <th>REPORT_TYPE</th>\n",
       "      <th>...</th>\n",
       "      <th>PREPARER_TITLE</th>\n",
       "      <th>PREPARER_EMAIL</th>\n",
       "      <th>PREPARER_TELEPHONE</th>\n",
       "      <th>PREPARER_FAX</th>\n",
       "      <th>PREPARED_DATE</th>\n",
       "      <th>AUTHORIZER_NAME</th>\n",
       "      <th>AUTHORIZER_TITLE</th>\n",
       "      <th>AUTHORIZER_TELEPHONE</th>\n",
       "      <th>AUTHORIZER_EMAIL</th>\n",
       "      <th>NARRATIVE</th>\n",
       "    </tr>\n",
       "  </thead>\n",
       "  <tbody>\n",
       "  </tbody>\n",
       "</table>\n",
       "<p>0 rows × 606 columns</p>\n",
       "</div>"
      ],
      "text/plain": [
       "Empty DataFrame\n",
       "Columns: [DATAFILE_AS_OF, SIGNIFICANT, SERIOUS, IPE, IA_IPE, OM_IPE, REPORT_NUMBER, SUPPLEMENTAL_NUMBER, REPORT_RECEIVED_DATE, REPORT_TYPE, OPERATOR_ID, NAME, OPERATOR_STREET_ADDRESS, OPERATOR_CITY_NAME, OPERATOR_STATE_ABBREVIATION, OPERATOR_POSTAL_CODE, LOCAL_DATETIME, IYEAR, LOCATION_LATITUDE, LOCATION_LONGITUDE, NRC_RPT_NUM, NRC_RPT_DATETIME, COMMODITY_RELEASED_TYPE, COMMODITY_SUBTYPE, COMMODITY_DETAILS, BLEND_DETAILS, BIO_DIESEL_DETAILS, UNINTENTIONAL_RELEASE_BBLS, INTENTIONAL_RELEASE_BBLS, RECOVERED_BBLS, NET_LOSS_BBLS, FATALITY_IND, NUM_EMP_FATALITIES, NUM_CONTR_FATALITIES, NUM_ER_FATALITIES, NUM_WORKER_FATALITIES, NUM_GP_FATALITIES, FATAL, INJURY_IND, NUM_EMP_INJURIES, NUM_CONTR_INJURIES, NUM_ER_INJURIES, NUM_WORKER_INJURIES, NUM_GP_INJURIES, INJURE, SHUTDOWN_DUE_ACCIDENT_IND, SHUTDOWN_EXPLAIN, SHUTDOWN_DATETIME, RESTART_DATETIME, STILL_SHUTDOWN_IND, IGNITE_IND, EXPLODE_IND, NUM_PUB_EVACUATED, INCIDENT_IDENTIFIED_DATETIME, ON_SITE_DATETIME, ON_OFF_SHORE, ONSHORE_STATE_ABBREVIATION, ONSHORE_POSTAL_CODE, ONSHORE_CITY_NAME, ONSHORE_COUNTY_NAME, DESIGNATED_LOCATION, DESIGNATED_NAME, PIPE_FAC_NAME, SEGMENT_NAME, FEDERAL, LOCATION_TYPE, INCIDENT_AREA_TYPE, INCIDENT_AREA_SUBTYPE, INCIDENT_AREA_DETAILS, DEPTH_OF_COVER, CROSSING, BRIDGE_CROSSING_IND, BRIDGE_TYPE, RAILROAD_CROSSING_IND, RAILROAD_TYPE, ROAD_CROSSING_IND, ROAD_TYPE, WATER_CROSSING_IND, WATER_TYPE, WATER_NAME, WATER_DEPTH, WATER_SUBTYPE, OFF_WATER_DEPTH, OFF_ACCIDENT_ORIGIN, OFFSHORE_STATE_ABBREVIATION, OFF_INSTATE_AREA, OFF_INSTATE_BLOCK, OFFSHORE_COUNTY_NAME, OFF_OCS_AREA, OFF_OCS_BLOCK, OFF_AREA_ACCIDENT_TYPE, PIPE_FACILITY_TYPE, SYSTEM_PART_INVOLVED, SYSTEM_SUBPART_INVOLVED, ITEM_INVOLVED, PIPE_TYPE, PIPE_DIAMETER, PIPE_WALL_THICKNESS, PIPE_SMYS, PIPE_SPECIFICATION, ...]\n",
       "Index: []\n",
       "\n",
       "[0 rows x 606 columns]"
      ]
     },
     "execution_count": 22,
     "metadata": {},
     "output_type": "execute_result"
    }
   ],
   "source": [
    "incidents.loc[incidents['OPERATOR_ID'] == 31636]"
   ]
  },
  {
   "cell_type": "markdown",
   "metadata": {},
   "source": [
    "Our common operators has no incidents, so we can ignore this segment."
   ]
  },
  {
   "cell_type": "code",
   "execution_count": 23,
   "metadata": {},
   "outputs": [
    {
     "data": {
      "text/plain": [
       "3814"
      ]
     },
     "execution_count": 23,
     "metadata": {},
     "output_type": "execute_result"
    }
   ],
   "source": [
    "regular_pipeline_incidents = incidents['OPERATOR_ID'].isin(pipelines['OPERATOR_ID']).sum()\n",
    "regular_pipeline_incidents"
   ]
  },
  {
   "cell_type": "code",
   "execution_count": 24,
   "metadata": {},
   "outputs": [
    {
     "data": {
      "text/plain": [
       "0"
      ]
     },
     "execution_count": 24,
     "metadata": {},
     "output_type": "execute_result"
    }
   ],
   "source": [
    "nlg_pipeline_incidents = incidents['OPERATOR_ID'].isin(gas['OPERATOR_ID']).sum()\n",
    "nlg_pipeline_incidents"
   ]
  },
  {
   "cell_type": "markdown",
   "metadata": {},
   "source": [
    "Looks like we can ignore this second dataset for our analysis."
   ]
  },
  {
   "cell_type": "markdown",
   "metadata": {},
   "source": [
    "## 2.5 Pipeline age - distribution and missingness"
   ]
  },
  {
   "cell_type": "code",
   "execution_count": 25,
   "metadata": {},
   "outputs": [],
   "source": [
    "import rpy2.rinterface"
   ]
  },
  {
   "cell_type": "code",
   "execution_count": 26,
   "metadata": {},
   "outputs": [],
   "source": [
    "%load_ext rpy2.ipython"
   ]
  },
  {
   "cell_type": "code",
   "execution_count": 27,
   "metadata": {},
   "outputs": [
    {
     "data": {
      "text/html": [
       "<div>\n",
       "<style scoped>\n",
       "    .dataframe tbody tr th:only-of-type {\n",
       "        vertical-align: middle;\n",
       "    }\n",
       "\n",
       "    .dataframe tbody tr th {\n",
       "        vertical-align: top;\n",
       "    }\n",
       "\n",
       "    .dataframe thead th {\n",
       "        text-align: right;\n",
       "    }\n",
       "</style>\n",
       "<table border=\"1\" class=\"dataframe\">\n",
       "  <thead>\n",
       "    <tr style=\"text-align: right;\">\n",
       "      <th></th>\n",
       "      <th>OPERATOR_ID</th>\n",
       "      <th>REPORT_YEAR</th>\n",
       "      <th>PARTEUNKNTOTAL</th>\n",
       "      <th>PARTEPRE40TOTAL</th>\n",
       "      <th>PARTE1950TOTAL</th>\n",
       "      <th>PARTE1960TOTAL</th>\n",
       "      <th>PARTE1970TOTAL</th>\n",
       "      <th>PARTE1980TOTAL</th>\n",
       "      <th>PARTE1990TOTAL</th>\n",
       "      <th>PARTE2000TOTAL</th>\n",
       "      <th>PARTE2010TOTAL</th>\n",
       "      <th>PARTETOTAL</th>\n",
       "    </tr>\n",
       "  </thead>\n",
       "  <tbody>\n",
       "    <tr>\n",
       "      <th>431</th>\n",
       "      <td>32522</td>\n",
       "      <td>2017</td>\n",
       "      <td>0.0</td>\n",
       "      <td>0.0</td>\n",
       "      <td>0.0</td>\n",
       "      <td>0.0</td>\n",
       "      <td>4.20</td>\n",
       "      <td>0.0</td>\n",
       "      <td>0.00</td>\n",
       "      <td>0.0</td>\n",
       "      <td>0.0</td>\n",
       "      <td>4.2</td>\n",
       "    </tr>\n",
       "    <tr>\n",
       "      <th>3037</th>\n",
       "      <td>26120</td>\n",
       "      <td>2010</td>\n",
       "      <td>0.0</td>\n",
       "      <td>0.0</td>\n",
       "      <td>0.0</td>\n",
       "      <td>0.0</td>\n",
       "      <td>127.32</td>\n",
       "      <td>0.0</td>\n",
       "      <td>0.08</td>\n",
       "      <td>0.6</td>\n",
       "      <td>0.0</td>\n",
       "      <td>128.0</td>\n",
       "    </tr>\n",
       "    <tr>\n",
       "      <th>1768</th>\n",
       "      <td>99002</td>\n",
       "      <td>2014</td>\n",
       "      <td>0.0</td>\n",
       "      <td>0.0</td>\n",
       "      <td>0.0</td>\n",
       "      <td>0.0</td>\n",
       "      <td>10.50</td>\n",
       "      <td>0.0</td>\n",
       "      <td>0.00</td>\n",
       "      <td>0.0</td>\n",
       "      <td>0.0</td>\n",
       "      <td>10.5</td>\n",
       "    </tr>\n",
       "    <tr>\n",
       "      <th>1798</th>\n",
       "      <td>2371</td>\n",
       "      <td>2012</td>\n",
       "      <td>0.0</td>\n",
       "      <td>0.0</td>\n",
       "      <td>86.0</td>\n",
       "      <td>0.0</td>\n",
       "      <td>46.50</td>\n",
       "      <td>0.0</td>\n",
       "      <td>34.70</td>\n",
       "      <td>8.5</td>\n",
       "      <td>0.0</td>\n",
       "      <td>175.7</td>\n",
       "    </tr>\n",
       "    <tr>\n",
       "      <th>1123</th>\n",
       "      <td>32453</td>\n",
       "      <td>2011</td>\n",
       "      <td>0.0</td>\n",
       "      <td>0.0</td>\n",
       "      <td>0.0</td>\n",
       "      <td>0.0</td>\n",
       "      <td>0.00</td>\n",
       "      <td>0.0</td>\n",
       "      <td>0.00</td>\n",
       "      <td>0.0</td>\n",
       "      <td>0.0</td>\n",
       "      <td>0.0</td>\n",
       "    </tr>\n",
       "  </tbody>\n",
       "</table>\n",
       "</div>"
      ],
      "text/plain": [
       "      OPERATOR_ID  REPORT_YEAR  PARTEUNKNTOTAL  PARTEPRE40TOTAL  \\\n",
       "431         32522         2017             0.0              0.0   \n",
       "3037        26120         2010             0.0              0.0   \n",
       "1768        99002         2014             0.0              0.0   \n",
       "1798         2371         2012             0.0              0.0   \n",
       "1123        32453         2011             0.0              0.0   \n",
       "\n",
       "      PARTE1950TOTAL  PARTE1960TOTAL  PARTE1970TOTAL  PARTE1980TOTAL  \\\n",
       "431              0.0             0.0            4.20             0.0   \n",
       "3037             0.0             0.0          127.32             0.0   \n",
       "1768             0.0             0.0           10.50             0.0   \n",
       "1798            86.0             0.0           46.50             0.0   \n",
       "1123             0.0             0.0            0.00             0.0   \n",
       "\n",
       "      PARTE1990TOTAL  PARTE2000TOTAL  PARTE2010TOTAL  PARTETOTAL  \n",
       "431             0.00             0.0             0.0         4.2  \n",
       "3037            0.08             0.6             0.0       128.0  \n",
       "1768            0.00             0.0             0.0        10.5  \n",
       "1798           34.70             8.5             0.0       175.7  \n",
       "1123            0.00             0.0             0.0         0.0  "
      ]
     },
     "execution_count": 27,
     "metadata": {},
     "output_type": "execute_result"
    }
   ],
   "source": [
    "pipelines_age = pipelines[['OPERATOR_ID', 'REPORT_YEAR', 'PARTEUNKNTOTAL', 'PARTEPRE40TOTAL'] + \n",
    "                          [f'PARTE19{decade}0TOTAL' for decade in range(5,10)] + \n",
    "                          ['PARTE2000TOTAL', 'PARTE2010TOTAL', 'PARTETOTAL']]\n",
    "pipelines_age.sample(5)"
   ]
  },
  {
   "cell_type": "code",
   "execution_count": 28,
   "metadata": {},
   "outputs": [
    {
     "name": "stderr",
     "output_type": "stream",
     "text": [
      "R[write to console]: `stat_bin()` using `bins = 30`. Pick better value with `binwidth`.\n",
      "\n"
     ]
    },
    {
     "data": {
      "image/png": "[encoded data removed]"
     },
     "metadata": {},
     "output_type": "display_data"
    }
   ],
   "source": [
    "%%R -i pipelines_age\n",
    "suppressMessages(library(tidyverse))\n",
    "\n",
    "pipelines_age %>%\n",
    "    group_by(OPERATOR_ID, REPORT_YEAR) %>%\n",
    "    mutate(perc_unknown = PARTEUNKNTOTAL / PARTETOTAL) %>%\n",
    "    ggplot(aes(x=perc_unknown)) + \n",
    "    geom_histogram()"
   ]
  },
  {
   "cell_type": "markdown",
   "metadata": {},
   "source": [
    "Unknown age fortunately is not an issue."
   ]
  },
  {
   "cell_type": "code",
   "execution_count": 29,
   "metadata": {},
   "outputs": [
    {
     "name": "stderr",
     "output_type": "stream",
     "text": [
      "R[write to console]: `stat_bin()` using `bins = 30`. Pick better value with `binwidth`.\n",
      "\n"
     ]
    },
    {
     "data": {
      "image/png": "[encoded data removed]"
     },
     "metadata": {},
     "output_type": "display_data"
    }
   ],
   "source": [
    "%%R -i pipelines_age\n",
    "pipelines_age %>%\n",
    "    gather(PARTEPRE40TOTAL, PARTE1950TOTAL, PARTE1960TOTAL, PARTE1970TOTAL, PARTE1980TOTAL, PARTE1990TOTAL, \n",
    "           PARTE2000TOTAL, PARTE2010TOTAL, key = 'DECADE', value = 'MILES') %>%\n",
    "    ggplot(aes(x=MILES)) + \n",
    "    geom_histogram() +\n",
    "    facet_wrap(~DECADE, nrow=3) + \n",
    "    scale_y_log10()"
   ]
  },
  {
   "cell_type": "code",
   "execution_count": 30,
   "metadata": {},
   "outputs": [
    {
     "name": "stderr",
     "output_type": "stream",
     "text": [
      "R[write to console]: `stat_bin()` using `bins = 30`. Pick better value with `binwidth`.\n",
      "\n"
     ]
    },
    {
     "data": {
      "image/png": "[encoded data removed]"
     },
     "metadata": {},
     "output_type": "display_data"
    }
   ],
   "source": [
    "%%R -i pipelines_age\n",
    "pipelines_age %>%\n",
    "    gather(PARTEPRE40TOTAL, PARTE1950TOTAL, PARTE1960TOTAL, PARTE1970TOTAL, PARTE1980TOTAL, PARTE1990TOTAL, \n",
    "           PARTE2000TOTAL, PARTE2010TOTAL, key = 'DECADE', value = 'MILES') %>%\n",
    "    filter(MILES > 100) %>%\n",
    "    ggplot(aes(x=MILES)) + \n",
    "    geom_histogram() +\n",
    "    facet_wrap(~DECADE, nrow=3)"
   ]
  },
  {
   "cell_type": "code",
   "execution_count": 31,
   "metadata": {},
   "outputs": [
    {
     "name": "stdout",
     "output_type": "stream",
     "text": [
      "\u001b[90m# A tibble: 8 x 2\u001b[39m\n",
      "  DECADE          total_miles\n",
      "  \u001b[3m\u001b[90m<chr>\u001b[39m\u001b[23m                 \u001b[3m\u001b[90m<dbl>\u001b[39m\u001b[23m\n",
      "\u001b[90m1\u001b[39m PARTE1950TOTAL      \u001b[4m1\u001b[24m\u001b[4m5\u001b[24m\u001b[4m7\u001b[24m897.\n",
      "\u001b[90m2\u001b[39m PARTE1960TOTAL      \u001b[4m2\u001b[24m\u001b[4m1\u001b[24m\u001b[4m6\u001b[24m401.\n",
      "\u001b[90m3\u001b[39m PARTE1970TOTAL      \u001b[4m2\u001b[24m\u001b[4m0\u001b[24m\u001b[4m2\u001b[24m377.\n",
      "\u001b[90m4\u001b[39m PARTE1980TOTAL      \u001b[4m1\u001b[24m\u001b[4m2\u001b[24m\u001b[4m4\u001b[24m982.\n",
      "\u001b[90m5\u001b[39m PARTE1990TOTAL      \u001b[4m1\u001b[24m\u001b[4m4\u001b[24m\u001b[4m5\u001b[24m727.\n",
      "\u001b[90m6\u001b[39m PARTE2000TOTAL      \u001b[4m1\u001b[24m\u001b[4m0\u001b[24m\u001b[4m4\u001b[24m471.\n",
      "\u001b[90m7\u001b[39m PARTE2010TOTAL      \u001b[4m1\u001b[24m\u001b[4m2\u001b[24m\u001b[4m7\u001b[24m693.\n",
      "\u001b[90m8\u001b[39m PARTEPRE40TOTAL      \u001b[4m1\u001b[24m\u001b[4m3\u001b[24m968.\n"
     ]
    }
   ],
   "source": [
    "%%R -i pipelines_age\n",
    "pipelines_age %>%\n",
    "    gather(PARTEPRE40TOTAL, PARTE1950TOTAL, PARTE1960TOTAL, PARTE1970TOTAL, PARTE1980TOTAL, PARTE1990TOTAL, \n",
    "           PARTE2000TOTAL, PARTE2010TOTAL, key = 'DECADE', value = 'MILES') %>%\n",
    "    group_by(DECADE) %>%\n",
    "    summarize(total_miles = sum(MILES))"
   ]
  },
  {
   "cell_type": "code",
   "execution_count": 32,
   "metadata": {},
   "outputs": [
    {
     "name": "stdout",
     "output_type": "stream",
     "text": [
      "\u001b[90m# A tibble: 8 x 10\u001b[39m\n",
      "\u001b[90m# Groups:   DECADE [8]\u001b[39m\n",
      "  DECADE          `2010` `2011` `2012` `2013` `2014` `2015` `2016` `2017` `2018`\n",
      "  \u001b[3m\u001b[90m<chr>\u001b[39m\u001b[23m            \u001b[3m\u001b[90m<dbl>\u001b[39m\u001b[23m  \u001b[3m\u001b[90m<dbl>\u001b[39m\u001b[23m  \u001b[3m\u001b[90m<dbl>\u001b[39m\u001b[23m  \u001b[3m\u001b[90m<dbl>\u001b[39m\u001b[23m  \u001b[3m\u001b[90m<dbl>\u001b[39m\u001b[23m  \u001b[3m\u001b[90m<dbl>\u001b[39m\u001b[23m  \u001b[3m\u001b[90m<dbl>\u001b[39m\u001b[23m  \u001b[3m\u001b[90m<dbl>\u001b[39m\u001b[23m  \u001b[3m\u001b[90m<dbl>\u001b[39m\u001b[23m\n",
      "\u001b[90m1\u001b[39m PARTE1950TOTAL  \u001b[4m1\u001b[24m\u001b[4m8\u001b[24m215. \u001b[4m1\u001b[24m\u001b[4m7\u001b[24m787. \u001b[4m1\u001b[24m\u001b[4m8\u001b[24m754. \u001b[4m1\u001b[24m\u001b[4m8\u001b[24m026. \u001b[4m1\u001b[24m\u001b[4m6\u001b[24m827. \u001b[4m1\u001b[24m\u001b[4m7\u001b[24m642. \u001b[4m1\u001b[24m\u001b[4m7\u001b[24m164. \u001b[4m1\u001b[24m\u001b[4m6\u001b[24m595. \u001b[4m1\u001b[24m\u001b[4m6\u001b[24m887.\n",
      "\u001b[90m2\u001b[39m PARTE1960TOTAL  \u001b[4m2\u001b[24m\u001b[4m5\u001b[24m484. \u001b[4m2\u001b[24m\u001b[4m5\u001b[24m091. \u001b[4m2\u001b[24m\u001b[4m4\u001b[24m753. \u001b[4m2\u001b[24m\u001b[4m4\u001b[24m387. \u001b[4m2\u001b[24m\u001b[4m3\u001b[24m923. \u001b[4m2\u001b[24m\u001b[4m3\u001b[24m284. \u001b[4m2\u001b[24m\u001b[4m3\u001b[24m782. \u001b[4m2\u001b[24m\u001b[4m3\u001b[24m417. \u001b[4m2\u001b[24m\u001b[4m2\u001b[24m280.\n",
      "\u001b[90m3\u001b[39m PARTE1970TOTAL  \u001b[4m2\u001b[24m\u001b[4m3\u001b[24m080. \u001b[4m2\u001b[24m\u001b[4m3\u001b[24m235. \u001b[4m2\u001b[24m\u001b[4m2\u001b[24m704. \u001b[4m2\u001b[24m\u001b[4m2\u001b[24m526. \u001b[4m2\u001b[24m\u001b[4m2\u001b[24m095. \u001b[4m2\u001b[24m\u001b[4m1\u001b[24m733. \u001b[4m2\u001b[24m\u001b[4m2\u001b[24m518. \u001b[4m2\u001b[24m\u001b[4m2\u001b[24m303. \u001b[4m2\u001b[24m\u001b[4m2\u001b[24m183.\n",
      "\u001b[90m4\u001b[39m PARTE1980TOTAL  \u001b[4m1\u001b[24m\u001b[4m3\u001b[24m802. \u001b[4m1\u001b[24m\u001b[4m3\u001b[24m885. \u001b[4m1\u001b[24m\u001b[4m3\u001b[24m816. \u001b[4m1\u001b[24m\u001b[4m4\u001b[24m206. \u001b[4m1\u001b[24m\u001b[4m3\u001b[24m423. \u001b[4m1\u001b[24m\u001b[4m3\u001b[24m729. \u001b[4m1\u001b[24m\u001b[4m4\u001b[24m179. \u001b[4m1\u001b[24m\u001b[4m4\u001b[24m091. \u001b[4m1\u001b[24m\u001b[4m3\u001b[24m851.\n",
      "\u001b[90m5\u001b[39m PARTE1990TOTAL  \u001b[4m1\u001b[24m\u001b[4m6\u001b[24m440. \u001b[4m1\u001b[24m\u001b[4m6\u001b[24m401. \u001b[4m1\u001b[24m\u001b[4m6\u001b[24m198. \u001b[4m1\u001b[24m\u001b[4m6\u001b[24m289. \u001b[4m1\u001b[24m\u001b[4m5\u001b[24m995. \u001b[4m1\u001b[24m\u001b[4m6\u001b[24m052. \u001b[4m1\u001b[24m\u001b[4m6\u001b[24m007. \u001b[4m1\u001b[24m\u001b[4m5\u001b[24m934. \u001b[4m1\u001b[24m\u001b[4m6\u001b[24m410.\n",
      "\u001b[90m6\u001b[39m PARTE2000TOTAL  \u001b[4m1\u001b[24m\u001b[4m1\u001b[24m546. \u001b[4m1\u001b[24m\u001b[4m1\u001b[24m631. \u001b[4m1\u001b[24m\u001b[4m1\u001b[24m581. \u001b[4m1\u001b[24m\u001b[4m1\u001b[24m683. \u001b[4m1\u001b[24m\u001b[4m0\u001b[24m951. \u001b[4m1\u001b[24m\u001b[4m1\u001b[24m072. \u001b[4m1\u001b[24m\u001b[4m1\u001b[24m479. \u001b[4m1\u001b[24m\u001b[4m1\u001b[24m283. \u001b[4m1\u001b[24m\u001b[4m3\u001b[24m243.\n",
      "\u001b[90m7\u001b[39m PARTE2010TOTAL    484.  \u001b[4m1\u001b[24m686.  \u001b[4m4\u001b[24m072.  \u001b[4m9\u001b[24m935. \u001b[4m1\u001b[24m\u001b[4m5\u001b[24m081. \u001b[4m1\u001b[24m\u001b[4m8\u001b[24m591. \u001b[4m2\u001b[24m\u001b[4m2\u001b[24m780. \u001b[4m2\u001b[24m\u001b[4m6\u001b[24m051. \u001b[4m2\u001b[24m\u001b[4m9\u001b[24m014.\n",
      "\u001b[90m8\u001b[39m PARTEPRE40TOTAL     0      0      0      0   \u001b[4m2\u001b[24m550.  \u001b[4m3\u001b[24m007.  \u001b[4m2\u001b[24m905.  \u001b[4m2\u001b[24m791.  \u001b[4m2\u001b[24m716.\n"
     ]
    }
   ],
   "source": [
    "%%R -i pipelines_age\n",
    "pipelines_age %>%\n",
    "    gather(PARTEPRE40TOTAL, PARTE1950TOTAL, PARTE1960TOTAL, PARTE1970TOTAL, PARTE1980TOTAL, PARTE1990TOTAL, \n",
    "           PARTE2000TOTAL, PARTE2010TOTAL, key = 'DECADE', value = 'MILES') %>%\n",
    "    group_by(DECADE, REPORT_YEAR) %>%\n",
    "    summarize(total_miles = sum(MILES)) %>%\n",
    "    spread(REPORT_YEAR, total_miles)"
   ]
  },
  {
   "cell_type": "markdown",
   "metadata": {},
   "source": [
    "The distribution across decades is surprisingly balanced. Strong trends are not discernible, there is the construction of new pipelines, and some pre-1980 pipelines are being retired."
   ]
  },
  {
   "cell_type": "markdown",
   "metadata": {},
   "source": [
    "## 2.6 How much % is offshore?"
   ]
  },
  {
   "cell_type": "code",
   "execution_count": 33,
   "metadata": {},
   "outputs": [],
   "source": [
    "pipeline_offshore = pipelines[['OPERATOR_ID', 'REPORT_YEAR', 'PARTBHCAOFFSHORE', 'PARTBHCATOTAL', 'PARTA5COMMODITY']]"
   ]
  },
  {
   "cell_type": "code",
   "execution_count": 34,
   "metadata": {},
   "outputs": [
    {
     "data": {
      "text/plain": [
       "True     4676\n",
       "False     633\n",
       "Name: PARTBHCAOFFSHORE, dtype: int64"
      ]
     },
     "execution_count": 34,
     "metadata": {},
     "output_type": "execute_result"
    }
   ],
   "source": [
    "pipeline_offshore['PARTBHCAOFFSHORE'].isna().value_counts()"
   ]
  },
  {
   "cell_type": "code",
   "execution_count": 35,
   "metadata": {},
   "outputs": [
    {
     "name": "stdout",
     "output_type": "stream",
     "text": [
      "\u001b[90m# A tibble: 9 x 2\u001b[39m\n",
      "  REPORT_YEAR perc_na\n",
      "        \u001b[3m\u001b[90m<int>\u001b[39m\u001b[23m   \u001b[3m\u001b[90m<dbl>\u001b[39m\u001b[23m\n",
      "\u001b[90m1\u001b[39m        \u001b[4m2\u001b[24m010   0.862\n",
      "\u001b[90m2\u001b[39m        \u001b[4m2\u001b[24m011   0.869\n",
      "\u001b[90m3\u001b[39m        \u001b[4m2\u001b[24m012   0.888\n",
      "\u001b[90m4\u001b[39m        \u001b[4m2\u001b[24m013   0.859\n",
      "\u001b[90m5\u001b[39m        \u001b[4m2\u001b[24m014   0.883\n",
      "\u001b[90m6\u001b[39m        \u001b[4m2\u001b[24m015   0.893\n",
      "\u001b[90m7\u001b[39m        \u001b[4m2\u001b[24m016   0.897\n",
      "\u001b[90m8\u001b[39m        \u001b[4m2\u001b[24m017   0.863\n",
      "\u001b[90m9\u001b[39m        \u001b[4m2\u001b[24m018   0.905\n"
     ]
    }
   ],
   "source": [
    "%%R -i pipeline_offshore\n",
    "pipeline_offshore %>% \n",
    "    group_by(REPORT_YEAR) %>%\n",
    "    summarize(perc_na = mean(is.na(PARTBHCAOFFSHORE)))"
   ]
  },
  {
   "cell_type": "code",
   "execution_count": 36,
   "metadata": {},
   "outputs": [
    {
     "name": "stdout",
     "output_type": "stream",
     "text": [
      "\u001b[90m# A tibble: 5 x 2\u001b[39m\n",
      "  PARTA5COMMODITY                            perc_na\n",
      "  \u001b[3m\u001b[90m<chr>\u001b[39m\u001b[23m                                        \u001b[3m\u001b[90m<dbl>\u001b[39m\u001b[23m\n",
      "\u001b[90m1\u001b[39m CO2                                          0.959\n",
      "\u001b[90m2\u001b[39m Crude Oil                                    0.779\n",
      "\u001b[90m3\u001b[39m Fuel Grade Ethanol (dedicated system)        1    \n",
      "\u001b[90m4\u001b[39m HVL                                          0.955\n",
      "\u001b[90m5\u001b[39m Refined and/or Petroleum Product (non-HVL)   0.926\n"
     ]
    }
   ],
   "source": [
    "%%R -i pipeline_offshore\n",
    "pipeline_offshore %>% \n",
    "    group_by(PARTA5COMMODITY) %>%\n",
    "    summarize(perc_na = mean(is.na(PARTBHCAOFFSHORE)))"
   ]
  },
  {
   "cell_type": "code",
   "execution_count": 37,
   "metadata": {},
   "outputs": [
    {
     "name": "stdout",
     "output_type": "stream",
     "text": [
      "\n",
      "0.0 0.1 0.2 0.3 0.4 0.5 0.6 0.7 0.8 0.9 1.0 \n",
      " 46   5   5   3   3   5   9  24  34  72 497 \n"
     ]
    }
   ],
   "source": [
    "%%R -i pipeline_offshore\n",
    "pipeline_offshore %>% \n",
    "    mutate(missing_offshore = is.na(PARTBHCAOFFSHORE)) %>%\n",
    "    group_by(OPERATOR_ID) %>%\n",
    "    summarize(perc_missing = sprintf(\"%0.1f\", sum(missing_offshore) / n())) %>%\n",
    "    {table(.$perc_missing)}"
   ]
  },
  {
   "cell_type": "code",
   "execution_count": 38,
   "metadata": {},
   "outputs": [
    {
     "name": "stdout",
     "output_type": "stream",
     "text": [
      "\n",
      "0.00 0.01 0.02 0.05 0.06 0.10 0.20 0.25 0.34 0.36 0.41 0.57 0.62 0.70 0.71 0.80 \n",
      "  12    2    1    1    1    1    1    1    1    1    1    1    1    1    1    1 \n",
      "0.84 0.85 0.86 0.91 0.99 1.00 \n",
      "   1    1    1    1    1    4 \n"
     ]
    }
   ],
   "source": [
    "%%R -i pipeline_offshore\n",
    "\n",
    "pipeline_offshore %>% \n",
    "    #Picking a year at random\n",
    "    filter(REPORT_YEAR == 2015) %>%\n",
    "    mutate(perc_offshore = sprintf(\"%0.2f\", PARTBHCAOFFSHORE / PARTBHCATOTAL)) %>%\n",
    "    {table(.$perc_offshore)}"
   ]
  },
  {
   "cell_type": "code",
   "execution_count": 39,
   "metadata": {},
   "outputs": [
    {
     "name": "stdout",
     "output_type": "stream",
     "text": [
      "     \n",
      "      2010 2011 2012 2013 2014 2015 2016 2017 2018\n",
      "  0.0   37   34   31   47   23   16   17   41   19\n",
      "  0.1    5    4    2    4    3    2    3    3    3\n",
      "  0.2    1    1    1    1    1    1    2    2    3\n",
      "  0.3    2    3    2    3    2    2    1    0    0\n",
      "  0.4    2    2    1    1    2    2    2    1    1\n",
      "  0.5    0    0    0    0    0    0    1    1    1\n",
      "  0.6    1    1    1    1    1    2    2    2    3\n",
      "  0.7    2    2    1    1    1    2    1    2    3\n",
      "  0.8    0    0    1    2    2    2    0    0    0\n",
      "  0.9    4    5    5    3    2    3    3    3    2\n",
      "  1.0    9   10   12   12    7    5    8    6    7\n"
     ]
    }
   ],
   "source": [
    "%%R -i pipeline_offshore\n",
    "pipeline_offshore %>% \n",
    "    #Picking a year at random\n",
    "    mutate(perc_offshore = sprintf(\"%0.1f\", PARTBHCAOFFSHORE / PARTBHCATOTAL)) %>%\n",
    "    {table(.$perc_offshore, .$REPORT_YEAR)}"
   ]
  },
  {
   "cell_type": "markdown",
   "metadata": {},
   "source": [
    "Are there any values close to 1, but not equal to 1?"
   ]
  },
  {
   "cell_type": "code",
   "execution_count": 40,
   "metadata": {},
   "outputs": [
    {
     "name": "stdout",
     "output_type": "stream",
     "text": [
      "      \n",
      "       2010 2011 2012 2013 2014 2015 2016 2017 2018\n",
      "  0.80    0    0    1    1    1    1    0    0    0\n",
      "  0.84    0    0    0    0    1    1    0    0    0\n",
      "  0.85    0    0    0    0    0    1    1    0    0\n",
      "  0.86    1    1    2    2    2    1    1    2    0\n",
      "  0.87    1    1    0    0    0    0    0    0    0\n",
      "  0.88    1    1    1    0    0    0    0    0    0\n",
      "  0.91    1    1    1    0    0    1    1    1    1\n",
      "  0.92    0    1    1    1    0    0    0    0    0\n",
      "  0.94    0    0    0    0    0    0    0    0    1\n",
      "  0.97    1    1    1    1    0    0    0    0    0\n",
      "  0.99    0    0    1    1    0    1    1    1    0\n",
      "  1.00    8    9   10   10    7    4    7    5    7\n"
     ]
    }
   ],
   "source": [
    "%%R -i pipeline_offshore\n",
    "pipeline_offshore %>% \n",
    "    mutate(perc_offshore = sprintf(\"%0.2f\", PARTBHCAOFFSHORE / PARTBHCATOTAL)) %>%\n",
    "    filter(perc_offshore > 0.8) %>%\n",
    "    {table(.$perc_offshore, .$REPORT_YEAR)}"
   ]
  },
  {
   "cell_type": "markdown",
   "metadata": {},
   "source": [
    "The presence of organizations that have a high share of offshore is somewhat concerning, because the data on the age of the pipelines does not differentiate between on and offshore. We could rectify this issue by removing any operators with offshore pipelines, since most operators do not have offshore pipelines. Let's see hwo many observations we would lose."
   ]
  },
  {
   "cell_type": "code",
   "execution_count": 41,
   "metadata": {},
   "outputs": [
    {
     "name": "stdout",
     "output_type": "stream",
     "text": [
      "\n",
      "0.00 0.01 0.02 0.03 0.04 0.05 0.06 0.07 0.08 0.09 0.10 0.11 0.12 0.13 0.14 0.16 \n",
      "5061    9    9    4    7    6    7    1    4    3    5    2    1    2    1    4 \n",
      "0.17 0.19 0.20 0.21 0.24 0.25 0.29 0.30 0.34 0.35 0.36 0.37 0.38 0.39 0.40 0.41 \n",
      "   1    2    3    2    1    7    2    1    4    1    5    1    1    1    2    3 \n",
      "0.45 0.55 0.57 0.58 0.62 0.68 0.69 0.70 0.71 0.72 0.74 0.78 0.80 0.84 0.85 0.86 \n",
      "   1    3    9    1    4    5    1    3    3    1    2    1    4    2    2   12 \n",
      "0.87 0.88 0.91 0.92 0.94 0.97 0.99 1.00 \n",
      "   2    3    7    3    1    4    5   67 \n"
     ]
    }
   ],
   "source": [
    "%%R -i pipeline_offshore\n",
    "pipeline_offshore %>% \n",
    "    mutate(perc_offshore = PARTBHCAOFFSHORE / PARTBHCATOTAL) %>%\n",
    "    mutate(perc_offshore = ifelse(is.na(perc_offshore), 0, perc_offshore)) %>%\n",
    "    mutate(perc_offshore = sprintf(\"%0.2f\", perc_offshore)) %>%\n",
    "    {table(.$perc_offshore)}"
   ]
  },
  {
   "cell_type": "markdown",
   "metadata": {},
   "source": [
    "Looks like we can exclude offshore without losing too many observations."
   ]
  },
  {
   "cell_type": "code",
   "execution_count": 42,
   "metadata": {},
   "outputs": [
    {
     "name": "stdout",
     "output_type": "stream",
     "text": [
      "\n",
      "0.0 0.1 0.2 0.3 0.4 0.6 0.7 0.8 0.9 1.0 \n",
      "660   5   2   2   2   2   2   1   6  21 \n"
     ]
    }
   ],
   "source": [
    "%%R -i pipeline_offshore\n",
    "pipeline_offshore %>%\n",
    "    mutate(perc_offshore = PARTBHCAOFFSHORE / PARTBHCATOTAL) %>%\n",
    "    mutate(perc_offshore = ifelse(is.na(perc_offshore), 0, perc_offshore)) %>%\n",
    "    group_by(OPERATOR_ID) %>%\n",
    "    summarize(offshore_max = max(perc_offshore)) %>%\n",
    "    mutate(offshore_max = sprintf(\"%0.1f\", offshore_max)) %>%\n",
    "    {table(.$offshore_max)}"
   ]
  },
  {
   "cell_type": "markdown",
   "metadata": {},
   "source": [
    "By setting a strict limit of no offshore, we will lose 43 out of 703 observations (organizations)."
   ]
  },
  {
   "cell_type": "code",
   "execution_count": 43,
   "metadata": {},
   "outputs": [
    {
     "name": "stdout",
     "output_type": "stream",
     "text": [
      "\n",
      "0.00 0.01 0.02 0.03 0.04 0.08 0.09 \n",
      " 656    1    1    1    1    1    1 \n"
     ]
    }
   ],
   "source": [
    "%%R -i pipeline_offshore\n",
    "pipeline_offshore %>%\n",
    "    mutate(perc_offshore = PARTBHCAOFFSHORE / PARTBHCATOTAL) %>%\n",
    "    mutate(perc_offshore = ifelse(is.na(perc_offshore), 0, perc_offshore)) %>%\n",
    "    group_by(OPERATOR_ID) %>%\n",
    "    summarize(offshore_max = max(perc_offshore)) %>%\n",
    "    filter(offshore_max < 0.1) %>%\n",
    "    mutate(offshore_max = sprintf(\"%0.2f\", offshore_max)) %>%\n",
    "    {table(.$offshore_max)}"
   ]
  },
  {
   "cell_type": "markdown",
   "metadata": {},
   "source": [
    "More like 47 for a strict limit of 0.0."
   ]
  },
  {
   "cell_type": "markdown",
   "metadata": {},
   "source": [
    "## 2.7 FERC Notices"
   ]
  },
  {
   "cell_type": "code",
   "execution_count": 44,
   "metadata": {},
   "outputs": [
    {
     "data": {
      "text/plain": [
       "27890"
      ]
     },
     "execution_count": 44,
     "metadata": {},
     "output_type": "execute_result"
    }
   ],
   "source": [
    "notices = pd.read_csv('../data/ferc_notices_2019-08-01.csv')\n",
    "\n",
    "len(notices)"
   ]
  },
  {
   "cell_type": "markdown",
   "metadata": {},
   "source": [
    "Check whether any notes were read incorrectly (too many requests)."
   ]
  },
  {
   "cell_type": "code",
   "execution_count": 45,
   "metadata": {},
   "outputs": [
    {
     "data": {
      "text/plain": [
       "False    27890\n",
       "Name: full-text, dtype: int64"
      ]
     },
     "execution_count": 45,
     "metadata": {},
     "output_type": "execute_result"
    }
   ],
   "source": [
    "notices['full-text'].str.contains('too manyrequests').value_counts()"
   ]
  },
  {
   "cell_type": "markdown",
   "metadata": {},
   "source": [
    "## 2.8 Continuity between 2004/2010 dataset"
   ]
  },
  {
   "cell_type": "code",
   "execution_count": 46,
   "metadata": {},
   "outputs": [
    {
     "data": {
      "text/html": [
       "<div>\n",
       "<style scoped>\n",
       "    .dataframe tbody tr th:only-of-type {\n",
       "        vertical-align: middle;\n",
       "    }\n",
       "\n",
       "    .dataframe tbody tr th {\n",
       "        vertical-align: top;\n",
       "    }\n",
       "\n",
       "    .dataframe thead th {\n",
       "        text-align: right;\n",
       "    }\n",
       "</style>\n",
       "<table border=\"1\" class=\"dataframe\">\n",
       "  <thead>\n",
       "    <tr style=\"text-align: right;\">\n",
       "      <th></th>\n",
       "      <th>ORIGINAL</th>\n",
       "      <th>SUPPLEMENT</th>\n",
       "      <th>YR</th>\n",
       "      <th>RPTID</th>\n",
       "      <th>HL_SUP_ID</th>\n",
       "      <th>SYSTEM_TYPE</th>\n",
       "      <th>OPERATOR_ID</th>\n",
       "      <th>NAME</th>\n",
       "      <th>PARENT</th>\n",
       "      <th>OFSTREET</th>\n",
       "      <th>...</th>\n",
       "      <th>BA_5</th>\n",
       "      <th>BA_6</th>\n",
       "      <th>BA_7</th>\n",
       "      <th>BA_8</th>\n",
       "      <th>DOR</th>\n",
       "      <th>DOE</th>\n",
       "      <th>PNAME</th>\n",
       "      <th>PPHONE</th>\n",
       "      <th>PEMAIL</th>\n",
       "      <th>PFAX</th>\n",
       "    </tr>\n",
       "  </thead>\n",
       "  <tbody>\n",
       "    <tr>\n",
       "      <th>2632</th>\n",
       "      <td>Y</td>\n",
       "      <td>N</td>\n",
       "      <td>2007</td>\n",
       "      <td>20070281</td>\n",
       "      <td>3685</td>\n",
       "      <td>HVLS</td>\n",
       "      <td>30626</td>\n",
       "      <td>TARGA NGL PIPE LINE CO</td>\n",
       "      <td>NaN</td>\n",
       "      <td>1399 DAVISON ROAD</td>\n",
       "      <td>...</td>\n",
       "      <td>0.00</td>\n",
       "      <td>55.89</td>\n",
       "      <td>0.0</td>\n",
       "      <td>NaN</td>\n",
       "      <td>2008-06-12</td>\n",
       "      <td>2008-06-12 15:42:34</td>\n",
       "      <td>TIM HUFFER</td>\n",
       "      <td>3375834642</td>\n",
       "      <td>THUFFER@TARGARESOURCES.COM</td>\n",
       "      <td>3.37583e+09</td>\n",
       "    </tr>\n",
       "    <tr>\n",
       "      <th>2707</th>\n",
       "      <td>Y</td>\n",
       "      <td>N</td>\n",
       "      <td>2007</td>\n",
       "      <td>20080477</td>\n",
       "      <td>5502</td>\n",
       "      <td>HVLS</td>\n",
       "      <td>26099</td>\n",
       "      <td>TAMPA BAY PIPELINE CO.</td>\n",
       "      <td>NaN</td>\n",
       "      <td>5802 HARTFORD STREET</td>\n",
       "      <td>...</td>\n",
       "      <td>0.00</td>\n",
       "      <td>67.00</td>\n",
       "      <td>0.0</td>\n",
       "      <td>NaN</td>\n",
       "      <td>2009-08-19</td>\n",
       "      <td>2009-08-19 15:42:47</td>\n",
       "      <td>GLENN D HOWELL</td>\n",
       "      <td>8136232431</td>\n",
       "      <td>GHOWELL@TAMPAPIPELINE.COM</td>\n",
       "      <td>8.13629e+09</td>\n",
       "    </tr>\n",
       "    <tr>\n",
       "      <th>951</th>\n",
       "      <td>N</td>\n",
       "      <td>Y</td>\n",
       "      <td>2009</td>\n",
       "      <td>20090032</td>\n",
       "      <td>6219</td>\n",
       "      <td>PETROLEUM &amp; REFINED PRODUCTS</td>\n",
       "      <td>21359</td>\n",
       "      <td>SASOL NORTH AMERICA</td>\n",
       "      <td>NaN</td>\n",
       "      <td>2201 OLD SPANISH TRAIL</td>\n",
       "      <td>...</td>\n",
       "      <td>0.00</td>\n",
       "      <td>0.00</td>\n",
       "      <td>0.0</td>\n",
       "      <td>NaN</td>\n",
       "      <td>2010-02-22</td>\n",
       "      <td>2010-02-25 15:09:49</td>\n",
       "      <td>PAUL HOOPER</td>\n",
       "      <td>3374945407</td>\n",
       "      <td>PAUL.HOOPER@US.SASOL.COM</td>\n",
       "      <td>3.37494e+09</td>\n",
       "    </tr>\n",
       "    <tr>\n",
       "      <th>301</th>\n",
       "      <td>Y</td>\n",
       "      <td>N</td>\n",
       "      <td>2008</td>\n",
       "      <td>20080490</td>\n",
       "      <td>5742</td>\n",
       "      <td>HVLS</td>\n",
       "      <td>32454</td>\n",
       "      <td>DRY TRAILS MIDSTREAM ENERGY, LLC</td>\n",
       "      <td>NaN</td>\n",
       "      <td>8801 S YALE, SUITE 350</td>\n",
       "      <td>...</td>\n",
       "      <td>45.17</td>\n",
       "      <td>0.00</td>\n",
       "      <td>0.0</td>\n",
       "      <td>NaN</td>\n",
       "      <td>2009-12-09</td>\n",
       "      <td>2009-12-09 13:54:12</td>\n",
       "      <td>REGINA GREGORY</td>\n",
       "      <td>9183889829</td>\n",
       "      <td>RGREGORY@MIDSTREAMENERGYLLC.COM</td>\n",
       "      <td>NaN</td>\n",
       "    </tr>\n",
       "    <tr>\n",
       "      <th>1515</th>\n",
       "      <td>N</td>\n",
       "      <td>Y</td>\n",
       "      <td>2005</td>\n",
       "      <td>20060441</td>\n",
       "      <td>3419</td>\n",
       "      <td>PETROLEUM &amp; REFINED PRODUCTS</td>\n",
       "      <td>31420</td>\n",
       "      <td>VOPAK TERMINAL LOS ANGELES INC.</td>\n",
       "      <td>NaN</td>\n",
       "      <td>401 CANAL AVENUE</td>\n",
       "      <td>...</td>\n",
       "      <td>0.00</td>\n",
       "      <td>0.00</td>\n",
       "      <td>0.0</td>\n",
       "      <td>NaN</td>\n",
       "      <td>2007-11-14</td>\n",
       "      <td>2008-04-23 19:32:55</td>\n",
       "      <td>HARRY HILL CONTRACT ENGINEER</td>\n",
       "      <td>3105186414</td>\n",
       "      <td>LA.ENGINEERING@VOPAK.COM</td>\n",
       "      <td>3.10549e+09</td>\n",
       "    </tr>\n",
       "  </tbody>\n",
       "</table>\n",
       "<p>5 rows × 167 columns</p>\n",
       "</div>"
      ],
      "text/plain": [
       "     ORIGINAL SUPPLEMENT    YR     RPTID  HL_SUP_ID  \\\n",
       "2632        Y          N  2007  20070281       3685   \n",
       "2707        Y          N  2007  20080477       5502   \n",
       "951         N          Y  2009  20090032       6219   \n",
       "301         Y          N  2008  20080490       5742   \n",
       "1515        N          Y  2005  20060441       3419   \n",
       "\n",
       "                       SYSTEM_TYPE  OPERATOR_ID  \\\n",
       "2632                          HVLS        30626   \n",
       "2707                          HVLS        26099   \n",
       "951   PETROLEUM & REFINED PRODUCTS        21359   \n",
       "301                           HVLS        32454   \n",
       "1515  PETROLEUM & REFINED PRODUCTS        31420   \n",
       "\n",
       "                                  NAME PARENT                OFSTREET  ...  \\\n",
       "2632            TARGA NGL PIPE LINE CO    NaN       1399 DAVISON ROAD  ...   \n",
       "2707            TAMPA BAY PIPELINE CO.    NaN    5802 HARTFORD STREET  ...   \n",
       "951                SASOL NORTH AMERICA    NaN  2201 OLD SPANISH TRAIL  ...   \n",
       "301   DRY TRAILS MIDSTREAM ENERGY, LLC    NaN  8801 S YALE, SUITE 350  ...   \n",
       "1515   VOPAK TERMINAL LOS ANGELES INC.    NaN        401 CANAL AVENUE  ...   \n",
       "\n",
       "       BA_5   BA_6 BA_7 BA_8        DOR                 DOE  \\\n",
       "2632   0.00  55.89  0.0  NaN 2008-06-12 2008-06-12 15:42:34   \n",
       "2707   0.00  67.00  0.0  NaN 2009-08-19 2009-08-19 15:42:47   \n",
       "951    0.00   0.00  0.0  NaN 2010-02-22 2010-02-25 15:09:49   \n",
       "301   45.17   0.00  0.0  NaN 2009-12-09 2009-12-09 13:54:12   \n",
       "1515   0.00   0.00  0.0  NaN 2007-11-14 2008-04-23 19:32:55   \n",
       "\n",
       "                             PNAME      PPHONE  \\\n",
       "2632                    TIM HUFFER  3375834642   \n",
       "2707                GLENN D HOWELL  8136232431   \n",
       "951                    PAUL HOOPER  3374945407   \n",
       "301                 REGINA GREGORY  9183889829   \n",
       "1515  HARRY HILL CONTRACT ENGINEER  3105186414   \n",
       "\n",
       "                               PEMAIL         PFAX  \n",
       "2632       THUFFER@TARGARESOURCES.COM  3.37583e+09  \n",
       "2707        GHOWELL@TAMPAPIPELINE.COM  8.13629e+09  \n",
       "951          PAUL.HOOPER@US.SASOL.COM  3.37494e+09  \n",
       "301   RGREGORY@MIDSTREAMENERGYLLC.COM          NaN  \n",
       "1515         LA.ENGINEERING@VOPAK.COM  3.10549e+09  \n",
       "\n",
       "[5 rows x 167 columns]"
      ]
     },
     "execution_count": 46,
     "metadata": {},
     "output_type": "execute_result"
    }
   ],
   "source": [
    "pipelines_2004_2009 = [file for file in listdir('../data/pipelines_2004_2009_2019-08-02/') if 'annual_hazardous_liquid' in file]\n",
    "pipelines_2004_2009 = pd.concat([pd.read_excel(f'../data/pipelines_2004_2009_2019-08-02/{file}') \n",
    "                                 for file in pipelines_2004_2009])\n",
    "pipelines_2004_2009 = pipelines_2004_2009.reset_index(drop = True)\n",
    "\n",
    "pipelines_2004_2009.sample(5)"
   ]
  },
  {
   "cell_type": "code",
   "execution_count": 47,
   "metadata": {},
   "outputs": [
    {
     "data": {
      "text/html": [
       "<div>\n",
       "<style scoped>\n",
       "    .dataframe tbody tr th:only-of-type {\n",
       "        vertical-align: middle;\n",
       "    }\n",
       "\n",
       "    .dataframe tbody tr th {\n",
       "        vertical-align: top;\n",
       "    }\n",
       "\n",
       "    .dataframe thead th {\n",
       "        text-align: right;\n",
       "    }\n",
       "</style>\n",
       "<table border=\"1\" class=\"dataframe\">\n",
       "  <thead>\n",
       "    <tr style=\"text-align: right;\">\n",
       "      <th></th>\n",
       "      <th>YEAR</th>\n",
       "      <th>OPERATOR_ID</th>\n",
       "      <th>COMMODITY</th>\n",
       "      <th>MILES</th>\n",
       "    </tr>\n",
       "  </thead>\n",
       "  <tbody>\n",
       "    <tr>\n",
       "      <th>4126</th>\n",
       "      <td>2016</td>\n",
       "      <td>14145</td>\n",
       "      <td>crude</td>\n",
       "      <td>0.00</td>\n",
       "    </tr>\n",
       "    <tr>\n",
       "      <th>2363</th>\n",
       "      <td>2013</td>\n",
       "      <td>8166</td>\n",
       "      <td>non-hvl</td>\n",
       "      <td>49.40</td>\n",
       "    </tr>\n",
       "    <tr>\n",
       "      <th>1551</th>\n",
       "      <td>2014</td>\n",
       "      <td>32095</td>\n",
       "      <td>non-hvl</td>\n",
       "      <td>0.00</td>\n",
       "    </tr>\n",
       "    <tr>\n",
       "      <th>1607</th>\n",
       "      <td>2014</td>\n",
       "      <td>32407</td>\n",
       "      <td>crude</td>\n",
       "      <td>101.13</td>\n",
       "    </tr>\n",
       "    <tr>\n",
       "      <th>2498</th>\n",
       "      <td>2013</td>\n",
       "      <td>30826</td>\n",
       "      <td>hvl</td>\n",
       "      <td>378.70</td>\n",
       "    </tr>\n",
       "  </tbody>\n",
       "</table>\n",
       "</div>"
      ],
      "text/plain": [
       "      YEAR  OPERATOR_ID COMMODITY   MILES\n",
       "4126  2016        14145     crude    0.00\n",
       "2363  2013         8166   non-hvl   49.40\n",
       "1551  2014        32095   non-hvl    0.00\n",
       "1607  2014        32407     crude  101.13\n",
       "2498  2013        30826       hvl  378.70"
      ]
     },
     "execution_count": 47,
     "metadata": {},
     "output_type": "execute_result"
    }
   ],
   "source": [
    "pipelines_total = pipelines[['REPORT_YEAR', 'OPERATOR_ID', 'PARTA5COMMODITY', 'PARTBHCAONSHORE']].copy()\n",
    "pipelines_total = pipelines_total.rename(columns={'REPORT_YEAR': 'YEAR', 'PARTA5COMMODITY': 'COMMODITY', 'PARTBHCAONSHORE': 'MILES'})\n",
    "new_names_pipelines_1 = {'Crude Oil': 'crude', \n",
    "                       'HVL': 'hvl',\n",
    "                       'Refined and/or Petroleum Product (non-HVL)': 'non-hvl'}\n",
    "pipelines_total = pipelines_total.replace({'COMMODITY': new_names_pipelines_1})\n",
    "pipelines_total.sample(5)"
   ]
  },
  {
   "cell_type": "code",
   "execution_count": 48,
   "metadata": {},
   "outputs": [
    {
     "data": {
      "text/html": [
       "<div>\n",
       "<style scoped>\n",
       "    .dataframe tbody tr th:only-of-type {\n",
       "        vertical-align: middle;\n",
       "    }\n",
       "\n",
       "    .dataframe tbody tr th {\n",
       "        vertical-align: top;\n",
       "    }\n",
       "\n",
       "    .dataframe thead th {\n",
       "        text-align: right;\n",
       "    }\n",
       "</style>\n",
       "<table border=\"1\" class=\"dataframe\">\n",
       "  <thead>\n",
       "    <tr style=\"text-align: right;\">\n",
       "      <th></th>\n",
       "      <th>YEAR</th>\n",
       "      <th>OPERATOR_ID</th>\n",
       "      <th>COMMODITY</th>\n",
       "      <th>MILES</th>\n",
       "    </tr>\n",
       "  </thead>\n",
       "  <tbody>\n",
       "    <tr>\n",
       "      <th>1881</th>\n",
       "      <td>2004</td>\n",
       "      <td>31325</td>\n",
       "      <td>crude</td>\n",
       "      <td>413.000</td>\n",
       "    </tr>\n",
       "    <tr>\n",
       "      <th>2058</th>\n",
       "      <td>2004</td>\n",
       "      <td>31977</td>\n",
       "      <td>hvl</td>\n",
       "      <td>161.000</td>\n",
       "    </tr>\n",
       "    <tr>\n",
       "      <th>2451</th>\n",
       "      <td>2007</td>\n",
       "      <td>31723</td>\n",
       "      <td>CO2 OR OTHER</td>\n",
       "      <td>22.727</td>\n",
       "    </tr>\n",
       "    <tr>\n",
       "      <th>2028</th>\n",
       "      <td>2004</td>\n",
       "      <td>3466</td>\n",
       "      <td>hvl</td>\n",
       "      <td>23.940</td>\n",
       "    </tr>\n",
       "    <tr>\n",
       "      <th>880</th>\n",
       "      <td>2006</td>\n",
       "      <td>31336</td>\n",
       "      <td>crude</td>\n",
       "      <td>6.000</td>\n",
       "    </tr>\n",
       "  </tbody>\n",
       "</table>\n",
       "</div>"
      ],
      "text/plain": [
       "      YEAR  OPERATOR_ID     COMMODITY    MILES\n",
       "1881  2004        31325         crude  413.000\n",
       "2058  2004        31977           hvl  161.000\n",
       "2451  2007        31723  CO2 OR OTHER   22.727\n",
       "2028  2004         3466           hvl   23.940\n",
       "880   2006        31336         crude    6.000"
      ]
     },
     "execution_count": 48,
     "metadata": {},
     "output_type": "execute_result"
    }
   ],
   "source": [
    "pipelines_total_2 = pipelines_2004_2009[['YR', 'OPERATOR_ID', 'SYSTEM_TYPE', 'HCAONM']]\n",
    "pipelines_total_2 = pipelines_total_2.rename(columns={'YR': 'YEAR', 'SYSTEM_TYPE': 'COMMODITY', 'HCAONM': 'MILES'})\n",
    "new_names_pipelines_2 = {\"CRUDE OIL\": \"crude\", \"HVLS\": \"hvl\", \"PETROLEUM & REFINED PRODUCTS\": \"non-hvl\"}\n",
    "pipelines_total_2 = pipelines_total_2.replace({'COMMODITY': new_names_pipelines_2})\n",
    "pipelines_total_2.sample(5)"
   ]
  },
  {
   "cell_type": "code",
   "execution_count": 49,
   "metadata": {},
   "outputs": [
    {
     "data": {
      "text/html": [
       "<div>\n",
       "<style scoped>\n",
       "    .dataframe tbody tr th:only-of-type {\n",
       "        vertical-align: middle;\n",
       "    }\n",
       "\n",
       "    .dataframe tbody tr th {\n",
       "        vertical-align: top;\n",
       "    }\n",
       "\n",
       "    .dataframe thead th {\n",
       "        text-align: right;\n",
       "    }\n",
       "</style>\n",
       "<table border=\"1\" class=\"dataframe\">\n",
       "  <thead>\n",
       "    <tr style=\"text-align: right;\">\n",
       "      <th></th>\n",
       "      <th>YEAR</th>\n",
       "      <th>OPERATOR_ID</th>\n",
       "      <th>COMMODITY</th>\n",
       "      <th>MILES</th>\n",
       "    </tr>\n",
       "  </thead>\n",
       "  <tbody>\n",
       "    <tr>\n",
       "      <th>7938</th>\n",
       "      <td>2007</td>\n",
       "      <td>32131</td>\n",
       "      <td>hvl</td>\n",
       "      <td>0.0</td>\n",
       "    </tr>\n",
       "    <tr>\n",
       "      <th>6071</th>\n",
       "      <td>2006</td>\n",
       "      <td>12628</td>\n",
       "      <td>hvl</td>\n",
       "      <td>160.0</td>\n",
       "    </tr>\n",
       "    <tr>\n",
       "      <th>6397</th>\n",
       "      <td>2009</td>\n",
       "      <td>2564</td>\n",
       "      <td>non-hvl</td>\n",
       "      <td>0.0</td>\n",
       "    </tr>\n",
       "    <tr>\n",
       "      <th>318</th>\n",
       "      <td>2017</td>\n",
       "      <td>31874</td>\n",
       "      <td>crude</td>\n",
       "      <td>4.0</td>\n",
       "    </tr>\n",
       "    <tr>\n",
       "      <th>7680</th>\n",
       "      <td>2007</td>\n",
       "      <td>26041</td>\n",
       "      <td>non-hvl</td>\n",
       "      <td>10.0</td>\n",
       "    </tr>\n",
       "  </tbody>\n",
       "</table>\n",
       "</div>"
      ],
      "text/plain": [
       "      YEAR  OPERATOR_ID COMMODITY  MILES\n",
       "7938  2007        32131       hvl    0.0\n",
       "6071  2006        12628       hvl  160.0\n",
       "6397  2009         2564   non-hvl    0.0\n",
       "318   2017        31874     crude    4.0\n",
       "7680  2007        26041   non-hvl   10.0"
      ]
     },
     "execution_count": 49,
     "metadata": {},
     "output_type": "execute_result"
    }
   ],
   "source": [
    "pipelines_total = pd.concat([pipelines_total, pipelines_total_2]).reset_index(drop=True)\n",
    "pipelines_total.sample(5)"
   ]
  },
  {
   "cell_type": "code",
   "execution_count": 50,
   "metadata": {},
   "outputs": [
    {
     "data": {
      "image/png": "[encoded data removed]"
     },
     "metadata": {},
     "output_type": "display_data"
    }
   ],
   "source": [
    "%%R -i pipelines_total\n",
    "pipelines_total %>%\n",
    "    group_by(YEAR) %>%\n",
    "    filter(!is.na(MILES)) %>%\n",
    "    summarize(total_miles = sum(MILES)) %>%\n",
    "    ggplot(aes(x=YEAR, y=total_miles)) +\n",
    "        geom_point()"
   ]
  },
  {
   "cell_type": "code",
   "execution_count": 51,
   "metadata": {},
   "outputs": [
    {
     "data": {
      "image/png": "[encoded data removed]"
     },
     "metadata": {},
     "output_type": "display_data"
    }
   ],
   "source": [
    "%%R -i pipelines_total\n",
    "pipelines_total %>%\n",
    "    filter(COMMODITY %in% c('hvl', 'crude', 'non-hvl')) %>%\n",
    "    filter(!is.na(MILES)) %>%\n",
    "    group_by(YEAR, COMMODITY) %>%\n",
    "    summarize(total_miles = sum(MILES)) %>%\n",
    "    ggplot(aes(x=YEAR, y=total_miles)) +\n",
    "        geom_point() +\n",
    "        facet_wrap(.~COMMODITY)"
   ]
  },
  {
   "cell_type": "markdown",
   "metadata": {},
   "source": [
    "## 2.9 Distribution of data"
   ]
  },
  {
   "cell_type": "markdown",
   "metadata": {},
   "source": [
    "See how incidents are distributed over time/operators."
   ]
  },
  {
   "cell_type": "code",
   "execution_count": 110,
   "metadata": {},
   "outputs": [
    {
     "data": {
      "text/plain": [
       "array(['Crude Oil', 'HVL', 'Refined and/or Petroleum Product (non-HVL)',\n",
       "       'CO2', 'Fuel Grade Ethanol (dedicated system)'], dtype=object)"
      ]
     },
     "execution_count": 110,
     "metadata": {},
     "output_type": "execute_result"
    }
   ],
   "source": [
    "pipelines['PARTA5COMMODITY'].unique()"
   ]
  },
  {
   "cell_type": "code",
   "execution_count": 111,
   "metadata": {},
   "outputs": [
    {
     "data": {
      "text/html": [
       "<div>\n",
       "<style scoped>\n",
       "    .dataframe tbody tr th:only-of-type {\n",
       "        vertical-align: middle;\n",
       "    }\n",
       "\n",
       "    .dataframe tbody tr th {\n",
       "        vertical-align: top;\n",
       "    }\n",
       "\n",
       "    .dataframe thead th {\n",
       "        text-align: right;\n",
       "    }\n",
       "</style>\n",
       "<table border=\"1\" class=\"dataframe\">\n",
       "  <thead>\n",
       "    <tr style=\"text-align: right;\">\n",
       "      <th></th>\n",
       "      <th>OPERATOR_ID</th>\n",
       "      <th>YEAR</th>\n",
       "      <th>COMMODITY</th>\n",
       "      <th>MILES</th>\n",
       "    </tr>\n",
       "  </thead>\n",
       "  <tbody>\n",
       "    <tr>\n",
       "      <th>4303</th>\n",
       "      <td>31502</td>\n",
       "      <td>2016</td>\n",
       "      <td>co2</td>\n",
       "      <td>0.00</td>\n",
       "    </tr>\n",
       "    <tr>\n",
       "      <th>1661</th>\n",
       "      <td>32632</td>\n",
       "      <td>2014</td>\n",
       "      <td>crude</td>\n",
       "      <td>99.17</td>\n",
       "    </tr>\n",
       "    <tr>\n",
       "      <th>4973</th>\n",
       "      <td>31556</td>\n",
       "      <td>2015</td>\n",
       "      <td>hvl</td>\n",
       "      <td>82.90</td>\n",
       "    </tr>\n",
       "    <tr>\n",
       "      <th>2637</th>\n",
       "      <td>31878</td>\n",
       "      <td>2013</td>\n",
       "      <td>crude</td>\n",
       "      <td>92.00</td>\n",
       "    </tr>\n",
       "    <tr>\n",
       "      <th>3664</th>\n",
       "      <td>31864</td>\n",
       "      <td>2018</td>\n",
       "      <td>co2</td>\n",
       "      <td>0.00</td>\n",
       "    </tr>\n",
       "  </tbody>\n",
       "</table>\n",
       "</div>"
      ],
      "text/plain": [
       "      OPERATOR_ID  YEAR COMMODITY  MILES\n",
       "4303        31502  2016       co2   0.00\n",
       "1661        32632  2014     crude  99.17\n",
       "4973        31556  2015       hvl  82.90\n",
       "2637        31878  2013     crude  92.00\n",
       "3664        31864  2018       co2   0.00"
      ]
     },
     "execution_count": 111,
     "metadata": {},
     "output_type": "execute_result"
    }
   ],
   "source": [
    "pipelines_match = pipelines[['OPERATOR_ID', 'REPORT_YEAR', 'PARTA5COMMODITY', 'PARTBHCAONSHORE'\n",
    "                            ]].rename({'REPORT_YEAR': 'YEAR', 'PARTA5COMMODITY': 'COMMODITY', 'PARTBHCAONSHORE': 'MILES'})\n",
    "new_names_pipelines = {'Crude Oil': 'crude', \n",
    "                       'CO2': 'co2',\n",
    "                       'Fuel Grade Ethanol (dedicated system)': 'fge', \n",
    "                       'HVL': 'hvl',\n",
    "                       'Refined and/or Petroleum Product (non-HVL)': 'non-hvl'}\n",
    "pipelines_match = pipelines_match.replace({'PARTA5COMMODITY': new_names_pipelines})\n",
    "pipelines_match = pipelines_match.rename(columns=\n",
    "                                         {'PARTA5COMMODITY': 'COMMODITY', 'PARTBHCAONSHORE': 'MILES', 'REPORT_YEAR': 'YEAR'})\n",
    "\n",
    "pipelines_match.sample(5)"
   ]
  },
  {
   "cell_type": "code",
   "execution_count": 112,
   "metadata": {},
   "outputs": [
    {
     "data": {
      "text/plain": [
       "467"
      ]
     },
     "execution_count": 112,
     "metadata": {},
     "output_type": "execute_result"
    }
   ],
   "source": [
    "sum(pipelines_match['MILES'].isna())"
   ]
  },
  {
   "cell_type": "code",
   "execution_count": 113,
   "metadata": {},
   "outputs": [
    {
     "data": {
      "text/plain": [
       "array(['REFINED AND/OR PETROLEUM PRODUCT (NON-HVL) WHICH IS A LIQUID AT AMBIENT CONDITIONS',\n",
       "       'CO2 (CARBON DIOXIDE)',\n",
       "       'HVL OR OTHER FLAMMABLE OR TOXIC FLUID WHICH IS A GAS AT AMBIENT CONDITIONS',\n",
       "       'CRUDE OIL',\n",
       "       'BIOFUEL / ALTERNATIVE FUEL(INCLUDING ETHANOL BLENDS)'],\n",
       "      dtype=object)"
      ]
     },
     "execution_count": 113,
     "metadata": {},
     "output_type": "execute_result"
    }
   ],
   "source": [
    "incidents['COMMODITY_RELEASED_TYPE'].unique()"
   ]
  },
  {
   "cell_type": "code",
   "execution_count": 114,
   "metadata": {},
   "outputs": [
    {
     "data": {
      "text/html": [
       "<div>\n",
       "<style scoped>\n",
       "    .dataframe tbody tr th:only-of-type {\n",
       "        vertical-align: middle;\n",
       "    }\n",
       "\n",
       "    .dataframe tbody tr th {\n",
       "        vertical-align: top;\n",
       "    }\n",
       "\n",
       "    .dataframe thead th {\n",
       "        text-align: right;\n",
       "    }\n",
       "</style>\n",
       "<table border=\"1\" class=\"dataframe\">\n",
       "  <thead>\n",
       "    <tr style=\"text-align: right;\">\n",
       "      <th></th>\n",
       "      <th>OPERATOR_ID</th>\n",
       "      <th>COMMODITY</th>\n",
       "      <th>YEAR</th>\n",
       "      <th>INCIDENTS</th>\n",
       "    </tr>\n",
       "  </thead>\n",
       "  <tbody>\n",
       "    <tr>\n",
       "      <th>606</th>\n",
       "      <td>31371</td>\n",
       "      <td>non-hvl</td>\n",
       "      <td>2016</td>\n",
       "      <td>1</td>\n",
       "    </tr>\n",
       "    <tr>\n",
       "      <th>142</th>\n",
       "      <td>4906</td>\n",
       "      <td>non-hvl</td>\n",
       "      <td>2013</td>\n",
       "      <td>3</td>\n",
       "    </tr>\n",
       "    <tr>\n",
       "      <th>439</th>\n",
       "      <td>26085</td>\n",
       "      <td>crude</td>\n",
       "      <td>2016</td>\n",
       "      <td>5</td>\n",
       "    </tr>\n",
       "    <tr>\n",
       "      <th>1017</th>\n",
       "      <td>39080</td>\n",
       "      <td>crude</td>\n",
       "      <td>2016</td>\n",
       "      <td>1</td>\n",
       "    </tr>\n",
       "    <tr>\n",
       "      <th>965</th>\n",
       "      <td>32619</td>\n",
       "      <td>crude</td>\n",
       "      <td>2014</td>\n",
       "      <td>1</td>\n",
       "    </tr>\n",
       "  </tbody>\n",
       "</table>\n",
       "</div>"
      ],
      "text/plain": [
       "      OPERATOR_ID COMMODITY  YEAR  INCIDENTS\n",
       "606         31371   non-hvl  2016          1\n",
       "142          4906   non-hvl  2013          3\n",
       "439         26085     crude  2016          5\n",
       "1017        39080     crude  2016          1\n",
       "965         32619     crude  2014          1"
      ]
     },
     "execution_count": 114,
     "metadata": {},
     "output_type": "execute_result"
    }
   ],
   "source": [
    "incidents_match = incidents[['OPERATOR_ID', 'LOCAL_DATETIME', 'SIGNIFICANT', 'COMMODITY_RELEASED_TYPE']]\n",
    "incidents_match = incidents_match.rename(columns={'COMMODITY_RELEASED_TYPE': 'COMMODITY'})\n",
    "\n",
    "new_names_incidents = {'REFINED AND/OR PETROLEUM PRODUCT (NON-HVL) WHICH IS A LIQUID AT AMBIENT CONDITIONS': 'non-hvl', \n",
    "                       'CO2 (CARBON DIOXIDE)': 'co2', \n",
    "                       'HVL OR OTHER FLAMMABLE OR TOXIC FLUID WHICH IS A GAS AT AMBIENT CONDITIONS': 'hvl', \n",
    "                       'CRUDE OIL': 'crude', \n",
    "                       'BIOFUEL / ALTERNATIVE FUEL(INCLUDING ETHANOL BLENDS)': 'hvl'}\n",
    "\n",
    "incidents_match = incidents_match.replace({'COMMODITY': new_names_incidents})\n",
    "incidents_match['SIGNIFICANT'] = incidents_match.loc[incidents_match['SIGNIFICANT'] == 'YES']\n",
    "incidents_match['YEAR'] = incidents_match['LOCAL_DATETIME'].dt.year\n",
    "incidents_match = incidents_match.drop(columns=['SIGNIFICANT', 'LOCAL_DATETIME'])\n",
    "incidents_match = incidents_match.groupby(['OPERATOR_ID', 'COMMODITY', 'YEAR']).size().reset_index(name='INCIDENTS')\n",
    "incidents_match.sample(5)"
   ]
  },
  {
   "cell_type": "code",
   "execution_count": 115,
   "metadata": {},
   "outputs": [
    {
     "name": "stdout",
     "output_type": "stream",
     "text": [
      "1082\n",
      "5000\n"
     ]
    }
   ],
   "source": [
    "incidents_match = incidents_match.loc[incidents_match['COMMODITY'].isin(['crude', 'hvl', 'non-hvl'])]\n",
    "n_incident_obs = len(incidents_match.loc[~incidents_match[['OPERATOR_ID', 'YEAR', 'COMMODITY']].duplicated()])\n",
    "print(n_incident_obs)\n",
    "\n",
    "pipelines_match = pipelines_match.loc[pipelines_match['COMMODITY'].isin(['crude', 'hvl', 'non-hvl'])]\n",
    "n_pipelines_obs = len(pipelines_match.loc[~pipelines_match[['OPERATOR_ID', 'YEAR', 'COMMODITY']].duplicated()])\n",
    "print(n_pipelines_obs)"
   ]
  },
  {
   "cell_type": "code",
   "execution_count": 123,
   "metadata": {},
   "outputs": [
    {
     "name": "stdout",
     "output_type": "stream",
     "text": [
      "5000\n"
     ]
    },
    {
     "data": {
      "text/html": [
       "<div>\n",
       "<style scoped>\n",
       "    .dataframe tbody tr th:only-of-type {\n",
       "        vertical-align: middle;\n",
       "    }\n",
       "\n",
       "    .dataframe tbody tr th {\n",
       "        vertical-align: top;\n",
       "    }\n",
       "\n",
       "    .dataframe thead th {\n",
       "        text-align: right;\n",
       "    }\n",
       "</style>\n",
       "<table border=\"1\" class=\"dataframe\">\n",
       "  <thead>\n",
       "    <tr style=\"text-align: right;\">\n",
       "      <th></th>\n",
       "      <th>OPERATOR_ID</th>\n",
       "      <th>YEAR</th>\n",
       "      <th>COMMODITY</th>\n",
       "      <th>MILES</th>\n",
       "      <th>INCIDENTS</th>\n",
       "    </tr>\n",
       "  </thead>\n",
       "  <tbody>\n",
       "    <tr>\n",
       "      <th>547</th>\n",
       "      <td>39359</td>\n",
       "      <td>2017</td>\n",
       "      <td>crude</td>\n",
       "      <td>0.0</td>\n",
       "      <td>0.0</td>\n",
       "    </tr>\n",
       "    <tr>\n",
       "      <th>1417</th>\n",
       "      <td>31847</td>\n",
       "      <td>2014</td>\n",
       "      <td>non-hvl</td>\n",
       "      <td>3.0</td>\n",
       "      <td>0.0</td>\n",
       "    </tr>\n",
       "    <tr>\n",
       "      <th>1360</th>\n",
       "      <td>31448</td>\n",
       "      <td>2014</td>\n",
       "      <td>crude</td>\n",
       "      <td>79.0</td>\n",
       "      <td>0.0</td>\n",
       "    </tr>\n",
       "    <tr>\n",
       "      <th>3016</th>\n",
       "      <td>31875</td>\n",
       "      <td>2010</td>\n",
       "      <td>hvl</td>\n",
       "      <td>89.5</td>\n",
       "      <td>0.0</td>\n",
       "    </tr>\n",
       "    <tr>\n",
       "      <th>4357</th>\n",
       "      <td>39348</td>\n",
       "      <td>2016</td>\n",
       "      <td>crude</td>\n",
       "      <td>95.4</td>\n",
       "      <td>0.0</td>\n",
       "    </tr>\n",
       "  </tbody>\n",
       "</table>\n",
       "</div>"
      ],
      "text/plain": [
       "      OPERATOR_ID  YEAR COMMODITY  MILES  INCIDENTS\n",
       "547         39359  2017     crude    0.0        0.0\n",
       "1417        31847  2014   non-hvl    3.0        0.0\n",
       "1360        31448  2014     crude   79.0        0.0\n",
       "3016        31875  2010       hvl   89.5        0.0\n",
       "4357        39348  2016     crude   95.4        0.0"
      ]
     },
     "execution_count": 123,
     "metadata": {},
     "output_type": "execute_result"
    }
   ],
   "source": [
    "pipelines_incidents = pipelines_match.merge(incidents_match, how='left', on=['YEAR', 'COMMODITY', 'OPERATOR_ID'])\n",
    "\n",
    "print(len(pipelines_incidents))\n",
    "pipelines_incidents['MILES'] = pipelines_incidents['MILES'].fillna(value=0)\n",
    "pipelines_incidents['INCIDENTS'] = pipelines_incidents['INCIDENTS'].fillna(value=0)\n",
    "pipelines_incidents.sample(5)"
   ]
  },
  {
   "cell_type": "markdown",
   "metadata": {},
   "source": [
    "### 2.9.1 Visualize"
   ]
  },
  {
   "cell_type": "markdown",
   "metadata": {},
   "source": [
    "### Incidents (raw)"
   ]
  },
  {
   "cell_type": "code",
   "execution_count": 128,
   "metadata": {},
   "outputs": [
    {
     "data": {
      "image/png": "[encoded data removed]"
     },
     "metadata": {},
     "output_type": "display_data"
    }
   ],
   "source": [
    "%%R -i pipelines_incidents\n",
    "pipelines_incidents %>%\n",
    "    ggplot(aes(x=INCIDENTS)) +\n",
    "        geom_histogram(bins=50) + \n",
    "        scale_y_log10()"
   ]
  },
  {
   "cell_type": "code",
   "execution_count": 127,
   "metadata": {},
   "outputs": [
    {
     "data": {
      "image/png": "[encoded data removed]"
     },
     "metadata": {},
     "output_type": "display_data"
    }
   ],
   "source": [
    "%%R -i pipelines_incidents\n",
    "pipelines_incidents %>%\n",
    "    ggplot(aes(x=INCIDENTS)) +\n",
    "        geom_histogram(bins=50) + \n",
    "        facet_wrap(.~COMMODITY) +\n",
    "        scale_y_log10()"
   ]
  },
  {
   "cell_type": "code",
   "execution_count": 133,
   "metadata": {},
   "outputs": [
    {
     "data": {
      "image/png": "[encoded data removed]"
     },
     "metadata": {},
     "output_type": "display_data"
    }
   ],
   "source": [
    "%%R -i pipelines_incidents\n",
    "pipelines_incidents %>%\n",
    "    ggplot(aes(x=INCIDENTS)) +\n",
    "        geom_histogram(bins=30) + \n",
    "        facet_wrap(.~YEAR) +\n",
    "        scale_y_log10()"
   ]
  },
  {
   "cell_type": "code",
   "execution_count": 136,
   "metadata": {},
   "outputs": [
    {
     "name": "stdout",
     "output_type": "stream",
     "text": [
      "\u001b[90m# A tibble: 9 x 2\u001b[39m\n",
      "   YEAR     n\n",
      "  \u001b[3m\u001b[90m<int>\u001b[39m\u001b[23m \u001b[3m\u001b[90m<dbl>\u001b[39m\u001b[23m\n",
      "\u001b[90m1\u001b[39m  \u001b[4m2\u001b[24m010   338\n",
      "\u001b[90m2\u001b[39m  \u001b[4m2\u001b[24m011   333\n",
      "\u001b[90m3\u001b[39m  \u001b[4m2\u001b[24m012   364\n",
      "\u001b[90m4\u001b[39m  \u001b[4m2\u001b[24m013   388\n",
      "\u001b[90m5\u001b[39m  \u001b[4m2\u001b[24m014   442\n",
      "\u001b[90m6\u001b[39m  \u001b[4m2\u001b[24m015   449\n",
      "\u001b[90m7\u001b[39m  \u001b[4m2\u001b[24m016   402\n",
      "\u001b[90m8\u001b[39m  \u001b[4m2\u001b[24m017   404\n",
      "\u001b[90m9\u001b[39m  \u001b[4m2\u001b[24m018   388\n"
     ]
    }
   ],
   "source": [
    "%%R -i pipelines_incidents\n",
    "pipelines_incidents %>%\n",
    "    group_by(YEAR) %>%\n",
    "    summarize(n=sum(INCIDENTS))"
   ]
  },
  {
   "cell_type": "markdown",
   "metadata": {},
   "source": [
    "### Incidents per mile"
   ]
  },
  {
   "cell_type": "code",
   "execution_count": 137,
   "metadata": {},
   "outputs": [
    {
     "name": "stdout",
     "output_type": "stream",
     "text": [
      "\u001b[90m# A tibble: 3 x 2\u001b[39m\n",
      "  COMMODITY `sum(INCIDENTS)/sum(MILES)`\n",
      "  \u001b[3m\u001b[90m<chr>\u001b[39m\u001b[23m                           \u001b[3m\u001b[90m<dbl>\u001b[39m\u001b[23m\n",
      "\u001b[90m1\u001b[39m crude                         0.008\u001b[4m7\u001b[24m\u001b[4m0\u001b[24m\n",
      "\u001b[90m2\u001b[39m hvl                           0.002\u001b[4m5\u001b[24m\u001b[4m4\u001b[24m\n",
      "\u001b[90m3\u001b[39m non-hvl                       0.003\u001b[4m5\u001b[24m\u001b[4m6\u001b[24m\n"
     ]
    }
   ],
   "source": [
    "%%R -i pipelines_incidents\n",
    "pipelines_incidents %>%\n",
    "    group_by(COMMODITY) %>%\n",
    "    summarize(sum(INCIDENTS) / sum(MILES))"
   ]
  },
  {
   "cell_type": "code",
   "execution_count": 138,
   "metadata": {},
   "outputs": [
    {
     "name": "stdout",
     "output_type": "stream",
     "text": [
      "\u001b[90m# A tibble: 3 x 2\u001b[39m\n",
      "  COMMODITY `sum(MILES)`\n",
      "  \u001b[3m\u001b[90m<chr>\u001b[39m\u001b[23m            \u001b[3m\u001b[90m<dbl>\u001b[39m\u001b[23m\n",
      "\u001b[90m1\u001b[39m crude          \u001b[4m2\u001b[24m\u001b[4m0\u001b[24m\u001b[4m7\u001b[24m224.\n",
      "\u001b[90m2\u001b[39m hvl            \u001b[4m2\u001b[24m\u001b[4m1\u001b[24m\u001b[4m8\u001b[24m016.\n",
      "\u001b[90m3\u001b[39m non-hvl        \u001b[4m3\u001b[24m\u001b[4m2\u001b[24m\u001b[4m3\u001b[24m259.\n"
     ]
    }
   ],
   "source": [
    "%%R -i pipelines_incidents\n",
    "pipelines_incidents %>%\n",
    "    group_by(COMMODITY) %>%\n",
    "    summarize(sum(MILES))"
   ]
  },
  {
   "cell_type": "code",
   "execution_count": 160,
   "metadata": {},
   "outputs": [
    {
     "name": "stdout",
     "output_type": "stream",
     "text": [
      "[1] 668\n"
     ]
    }
   ],
   "source": [
    "%%R -i pipelines_incidents\n",
    "length(unique(pipelines_incidents$OPERATOR_ID))"
   ]
  },
  {
   "cell_type": "code",
   "execution_count": 173,
   "metadata": {},
   "outputs": [
    {
     "name": "stdout",
     "output_type": "stream",
     "text": [
      "\n",
      "   0.00    0.01    0.02    0.03    0.04    0.05    0.06    0.07    0.08    0.09 \n",
      "    528      55      22       9       6       1       5       1       2       2 \n",
      "   0.11    0.12    0.13    0.17    0.18    0.30    0.31    0.38    0.40    0.48 \n",
      "      2       2       1       1       2       1       1       1       1       1 \n",
      "   0.71    0.76    0.80    0.83    1.15  100.00 1500.00    2.15    2.83  200.00 \n",
      "      1       1       1       1       1      11       2       1       1       3 \n",
      "   7.32 \n",
      "      1 \n"
     ]
    }
   ],
   "source": [
    "%%R -i pipelines_incidents\n",
    "pipelines_incidents %>%\n",
    "    group_by(OPERATOR_ID) %>%\n",
    "    summarize(INCIDENTS_MILE = sum(INCIDENTS) / (sum(MILES) + 0.01)) %>%\n",
    "    mutate(INCIDENTS_MILE = sprintf(\"%0.2f\", INCIDENTS_MILE)) %>%\n",
    "    {table(.$INCIDENTS_MILE)}"
   ]
  },
  {
   "cell_type": "code",
   "execution_count": 169,
   "metadata": {},
   "outputs": [
    {
     "name": "stdout",
     "output_type": "stream",
     "text": [
      "[1] 3938\n"
     ]
    }
   ],
   "source": [
    "%%R -i pipelines_incidents\n",
    "nrow(unique(select(pipelines_incidents, OPERATOR_ID, YEAR)))"
   ]
  },
  {
   "cell_type": "code",
   "execution_count": 188,
   "metadata": {},
   "outputs": [
    {
     "name": "stdout",
     "output_type": "stream",
     "text": [
      "\n",
      "   0.00    0.01    0.02    0.03    0.04    0.05    0.06    0.07    0.08    0.09 \n",
      "   3399     228      75      50      27      18       9       7       5       1 \n",
      "   0.10    0.11    0.12    0.13    0.14    0.15    0.16    0.17    0.18    0.19 \n",
      "      2       4       6       2       2       2       3       6       6       2 \n",
      "   0.20    0.21    0.22    0.24    0.25    0.26    0.27    0.32    0.33    0.36 \n",
      "      4       1       2       1       2       2       1       3       3       1 \n",
      "   0.38    0.42    0.44    0.49    0.50    0.57    0.58    0.60    0.62    0.77 \n",
      "      1       2       1       1       2       1       1       1       1       1 \n",
      "   0.83    0.99    1.08    1.32    1.41    1.99  100.00   13.25 1300.00    2.38 \n",
      "      1       6       1       1       1       1      27       1       1       1 \n",
      "   2.44  200.00    4.55  400.00    5.96    9.09 \n",
      "      1       4       1       3       1       1 \n"
     ]
    }
   ],
   "source": [
    "%%R -i pipelines_incidents\n",
    "pipelines_incidents %>%\n",
    "    group_by(OPERATOR_ID, YEAR) %>%\n",
    "    summarize(INCIDENTS_MILE = sum(INCIDENTS) / (sum(MILES) + 0.01)) %>%\n",
    "    mutate(INCIDENTS_MILE = sprintf(\"%0.2f\", INCIDENTS_MILE)) %>%\n",
    "    {table(.$INCIDENTS_MILE)}"
   ]
  },
  {
   "cell_type": "code",
   "execution_count": 184,
   "metadata": {},
   "outputs": [
    {
     "name": "stdout",
     "output_type": "stream",
     "text": [
      "\u001b[90m# A tibble: 10 x 2\u001b[39m\n",
      "   OPERATOR_ID INCIDENTS_MILE\n",
      "         \u001b[3m\u001b[90m<int>\u001b[39m\u001b[23m          \u001b[3m\u001b[90m<dbl>\u001b[39m\u001b[23m\n",
      "\u001b[90m 1\u001b[39m         999         0.057\u001b[4m8\u001b[24m\n",
      "\u001b[90m 2\u001b[39m       \u001b[4m1\u001b[24m\u001b[4m4\u001b[24m145         0.710 \n",
      "\u001b[90m 3\u001b[39m       \u001b[4m2\u001b[24m\u001b[4m6\u001b[24m041         0.183 \n",
      "\u001b[90m 4\u001b[39m       \u001b[4m3\u001b[24m\u001b[4m0\u001b[24m756         0.125 \n",
      "\u001b[90m 5\u001b[39m       \u001b[4m3\u001b[24m\u001b[4m0\u001b[24m834         0.106 \n",
      "\u001b[90m 6\u001b[39m       \u001b[4m3\u001b[24m\u001b[4m1\u001b[24m336         0.055\u001b[4m5\u001b[24m\n",
      "\u001b[90m 7\u001b[39m       \u001b[4m3\u001b[24m\u001b[4m1\u001b[24m455         0.085\u001b[4m4\u001b[24m\n",
      "\u001b[90m 8\u001b[39m       \u001b[4m3\u001b[24m\u001b[4m1\u001b[24m580         0.120 \n",
      "\u001b[90m 9\u001b[39m       \u001b[4m3\u001b[24m\u001b[4m2\u001b[24m009         2.15  \n",
      "\u001b[90m10\u001b[39m       \u001b[4m3\u001b[24m\u001b[4m2\u001b[24m044         0.304 \n",
      "\u001b[90m# A tibble: 10 x 2\u001b[39m\n",
      "   OPERATOR_ID INCIDENTS_MILE\n",
      "         \u001b[3m\u001b[90m<int>\u001b[39m\u001b[23m          \u001b[3m\u001b[90m<dbl>\u001b[39m\u001b[23m\n",
      "\u001b[90m 1\u001b[39m       \u001b[4m3\u001b[24m\u001b[4m2\u001b[24m428         0.166 \n",
      "\u001b[90m 2\u001b[39m       \u001b[4m3\u001b[24m\u001b[4m2\u001b[24m450         0.483 \n",
      "\u001b[90m 3\u001b[39m       \u001b[4m3\u001b[24m\u001b[4m2\u001b[24m483         0.083\u001b[4m3\u001b[24m\n",
      "\u001b[90m 4\u001b[39m       \u001b[4m3\u001b[24m\u001b[4m2\u001b[24m532         0.058\u001b[4m7\u001b[24m\n",
      "\u001b[90m 5\u001b[39m       \u001b[4m3\u001b[24m\u001b[4m2\u001b[24m537         2.83  \n",
      "\u001b[90m 6\u001b[39m       \u001b[4m3\u001b[24m\u001b[4m2\u001b[24m602         0.062\u001b[4m2\u001b[24m\n",
      "\u001b[90m 7\u001b[39m       \u001b[4m3\u001b[24m\u001b[4m2\u001b[24m613         0.089\u001b[4m2\u001b[24m\n",
      "\u001b[90m 8\u001b[39m       \u001b[4m3\u001b[24m\u001b[4m8\u001b[24m894         0.050\u001b[4m8\u001b[24m\n",
      "\u001b[90m 9\u001b[39m       \u001b[4m3\u001b[24m\u001b[4m8\u001b[24m924         0.383 \n",
      "\u001b[90m10\u001b[39m       \u001b[4m3\u001b[24m\u001b[4m9\u001b[24m012         0.311 \n"
     ]
    }
   ],
   "source": [
    "%%R -i pipelines_incidents\n",
    "incident_prone <- pipelines_incidents %>%\n",
    "    group_by(OPERATOR_ID) %>%\n",
    "    summarize(INCIDENTS_MILE = sum(INCIDENTS) / (sum(MILES) + 0.01)) %>%\n",
    "    filter(INCIDENTS_MILE < 5) %>%\n",
    "    filter(INCIDENTS_MILE >= 0.05)\n",
    "\n",
    "print(incident_prone[1:10, ])\n",
    "print(incident_prone[11:20, ])"
   ]
  }
 ],
 "metadata": {
  "kernelspec": {
   "display_name": "oil_industry",
   "language": "python",
   "name": "oil_industry"
  },
  "language_info": {
   "codemirror_mode": {
    "name": "ipython",
    "version": 3
   },
   "file_extension": ".py",
   "mimetype": "text/x-python",
   "name": "python",
   "nbconvert_exporter": "python",
   "pygments_lexer": "ipython3",
   "version": "3.6.8"
  },
  "pycharm": {
   "stem_cell": {
    "cell_type": "raw",
    "metadata": {
     "collapsed": false
    },
    "source": []
   }
  }
 },
 "nbformat": 4,
 "nbformat_minor": 4
}
