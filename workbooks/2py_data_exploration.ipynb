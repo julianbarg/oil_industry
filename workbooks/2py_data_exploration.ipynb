{
 "cells": [
  {
   "cell_type": "markdown",
   "metadata": {
    "pycharm": {
     "name": "#%% md\n"
    }
   },
   "source": [
    "\n",
    "# 2 - Data exploration\n"
   ]
  },
  {
   "cell_type": "code",
   "execution_count": 1,
   "metadata": {
    "collapsed": false,
    "jupyter": {
     "outputs_hidden": false
    },
    "pycharm": {
     "is_executing": false,
     "name": "#%% \n"
    }
   },
   "outputs": [],
   "source": [
    "# import parameters\n",
    "import pandas as pd\n",
    "import matplotlib.pyplot as plt\n",
    "import numpy as np\n",
    "\n",
    "plt.rcParams[\"figure.figsize\"] = (20,10)"
   ]
  },
  {
   "cell_type": "markdown",
   "metadata": {},
   "source": [
    "## 2.1 Incidents data overview"
   ]
  },
  {
   "cell_type": "code",
   "execution_count": 2,
   "metadata": {
    "collapsed": false,
    "jupyter": {
     "outputs_hidden": false
    },
    "pycharm": {
     "is_executing": false,
     "name": "#%%\n"
    }
   },
   "outputs": [
    {
     "data": {
      "text/html": [
       "<div>\n",
       "<style scoped>\n",
       "    .dataframe tbody tr th:only-of-type {\n",
       "        vertical-align: middle;\n",
       "    }\n",
       "\n",
       "    .dataframe tbody tr th {\n",
       "        vertical-align: top;\n",
       "    }\n",
       "\n",
       "    .dataframe thead th {\n",
       "        text-align: right;\n",
       "    }\n",
       "</style>\n",
       "<table border=\"1\" class=\"dataframe\">\n",
       "  <thead>\n",
       "    <tr style=\"text-align: right;\">\n",
       "      <th></th>\n",
       "      <th>DATAFILE_AS_OF</th>\n",
       "      <th>SIGNIFICANT</th>\n",
       "      <th>SERIOUS</th>\n",
       "      <th>IPE</th>\n",
       "      <th>IA_IPE</th>\n",
       "      <th>OM_IPE</th>\n",
       "      <th>REPORT_NUMBER</th>\n",
       "      <th>SUPPLEMENTAL_NUMBER</th>\n",
       "      <th>REPORT_RECEIVED_DATE</th>\n",
       "      <th>REPORT_TYPE</th>\n",
       "      <th>...</th>\n",
       "      <th>PREPARER_TITLE</th>\n",
       "      <th>PREPARER_EMAIL</th>\n",
       "      <th>PREPARER_TELEPHONE</th>\n",
       "      <th>PREPARER_FAX</th>\n",
       "      <th>PREPARED_DATE</th>\n",
       "      <th>AUTHORIZER_NAME</th>\n",
       "      <th>AUTHORIZER_TITLE</th>\n",
       "      <th>AUTHORIZER_TELEPHONE</th>\n",
       "      <th>AUTHORIZER_EMAIL</th>\n",
       "      <th>NARRATIVE</th>\n",
       "    </tr>\n",
       "  </thead>\n",
       "  <tbody>\n",
       "    <tr>\n",
       "      <th>3327</th>\n",
       "      <td>2019-07-31 08:37:40</td>\n",
       "      <td>YES</td>\n",
       "      <td>NO</td>\n",
       "      <td>YES</td>\n",
       "      <td>NO</td>\n",
       "      <td>YES</td>\n",
       "      <td>20180144</td>\n",
       "      <td>30390</td>\n",
       "      <td>2018-05-24 17:02:27</td>\n",
       "      <td>ORIGINAL FINAL</td>\n",
       "      <td>...</td>\n",
       "      <td>AI ANALYST</td>\n",
       "      <td>sharron.lillard@magellanlp.com</td>\n",
       "      <td>918-574-7327</td>\n",
       "      <td>918-574-7316</td>\n",
       "      <td>2018-05-24</td>\n",
       "      <td>SHARRON LILLARD</td>\n",
       "      <td>AI ANALYST</td>\n",
       "      <td>918-574-7327</td>\n",
       "      <td>sharron.lillard@magellanlp.com</td>\n",
       "      <td>ON 4/26/18, A PIPELINE REHAB CREW WAS EXCAVATI...</td>\n",
       "    </tr>\n",
       "    <tr>\n",
       "      <th>1125</th>\n",
       "      <td>2019-07-31 08:37:40</td>\n",
       "      <td>YES</td>\n",
       "      <td>NO</td>\n",
       "      <td>YES</td>\n",
       "      <td>YES</td>\n",
       "      <td>NO</td>\n",
       "      <td>20130098</td>\n",
       "      <td>18187</td>\n",
       "      <td>2013-03-14 17:09:49</td>\n",
       "      <td>SUPPLEMENTAL FINAL</td>\n",
       "      <td>...</td>\n",
       "      <td>DOT COORDINATOR</td>\n",
       "      <td>jeff.blatchford@p66.com</td>\n",
       "      <td>918-977-4206</td>\n",
       "      <td>NaN</td>\n",
       "      <td>2013-06-13</td>\n",
       "      <td>TODD TULLIO</td>\n",
       "      <td>REGULATORY COMPLIANCE MANAGER</td>\n",
       "      <td>832-765-1636</td>\n",
       "      <td>todd.l.tullio@p66.com</td>\n",
       "      <td>AT 07:00, ODOR OF GASOLINE WAS REPORTED BY TER...</td>\n",
       "    </tr>\n",
       "    <tr>\n",
       "      <th>653</th>\n",
       "      <td>2019-07-31 08:37:40</td>\n",
       "      <td>YES</td>\n",
       "      <td>NO</td>\n",
       "      <td>YES</td>\n",
       "      <td>YES</td>\n",
       "      <td>NO</td>\n",
       "      <td>20110451</td>\n",
       "      <td>19968</td>\n",
       "      <td>2011-12-15 16:42:54</td>\n",
       "      <td>SUPPLEMENTAL FINAL</td>\n",
       "      <td>...</td>\n",
       "      <td>SENIOR PIPELINE COMPLIANCE ENGINEER</td>\n",
       "      <td>smdavis@eprod.com</td>\n",
       "      <td>713-381-6487</td>\n",
       "      <td>NaN</td>\n",
       "      <td>2014-12-12</td>\n",
       "      <td>SUZIE DAVIS</td>\n",
       "      <td>SENIOR PIPELINE COMPLIANCE ENGINEER</td>\n",
       "      <td>713-381-6487</td>\n",
       "      <td>smdavis@eprod.com</td>\n",
       "      <td>AT 17:15 HRS PILOT CALLED ENTERPRISE EMPLOYEE ...</td>\n",
       "    </tr>\n",
       "    <tr>\n",
       "      <th>2334</th>\n",
       "      <td>2019-07-31 08:37:40</td>\n",
       "      <td>YES</td>\n",
       "      <td>NO</td>\n",
       "      <td>NO</td>\n",
       "      <td>NO</td>\n",
       "      <td>NO</td>\n",
       "      <td>20150468</td>\n",
       "      <td>21099</td>\n",
       "      <td>2015-12-21 08:29:41</td>\n",
       "      <td>SUPPLEMENTAL FINAL</td>\n",
       "      <td>...</td>\n",
       "      <td>COMPLIANCE COORDINATOR</td>\n",
       "      <td>kmckay@colpipe.com</td>\n",
       "      <td>601-765-9168</td>\n",
       "      <td>770-754-8489</td>\n",
       "      <td>2016-02-05</td>\n",
       "      <td>DREW LOHOFF</td>\n",
       "      <td>MANAGER PHMSA REGULATORY COMPLIANCE</td>\n",
       "      <td>678-762-2872</td>\n",
       "      <td>dlohoff@colpipe.com</td>\n",
       "      <td>ON 11/23/2015 AT 10:30 AN EMPLOYEE DETECTED PR...</td>\n",
       "    </tr>\n",
       "    <tr>\n",
       "      <th>2046</th>\n",
       "      <td>2019-07-31 08:37:40</td>\n",
       "      <td>NO</td>\n",
       "      <td>NO</td>\n",
       "      <td>NO</td>\n",
       "      <td>NO</td>\n",
       "      <td>NO</td>\n",
       "      <td>20150179</td>\n",
       "      <td>20445</td>\n",
       "      <td>2015-05-14 15:04:04</td>\n",
       "      <td>ORIGINAL FINAL</td>\n",
       "      <td>...</td>\n",
       "      <td>PIPELINE COMPLIANCE SPECIALIST</td>\n",
       "      <td>candress@eprod.com</td>\n",
       "      <td>713-381-6426</td>\n",
       "      <td>NaN</td>\n",
       "      <td>2015-05-14</td>\n",
       "      <td>CHASE ANDRESS</td>\n",
       "      <td>PIPELINE COMPLIANCE SPECIALIST</td>\n",
       "      <td>713-381-6426</td>\n",
       "      <td>candress@eprod.com</td>\n",
       "      <td>AT APPROXIMATELY 17:15 ON 4/29/2015 LOCAL OPER...</td>\n",
       "    </tr>\n",
       "  </tbody>\n",
       "</table>\n",
       "<p>5 rows × 606 columns</p>\n",
       "</div>"
      ],
      "text/plain": [
       "          DATAFILE_AS_OF SIGNIFICANT SERIOUS  IPE IA_IPE OM_IPE  \\\n",
       "3327 2019-07-31 08:37:40         YES      NO  YES     NO    YES   \n",
       "1125 2019-07-31 08:37:40         YES      NO  YES    YES     NO   \n",
       "653  2019-07-31 08:37:40         YES      NO  YES    YES     NO   \n",
       "2334 2019-07-31 08:37:40         YES      NO   NO     NO     NO   \n",
       "2046 2019-07-31 08:37:40          NO      NO   NO     NO     NO   \n",
       "\n",
       "      REPORT_NUMBER  SUPPLEMENTAL_NUMBER REPORT_RECEIVED_DATE  \\\n",
       "3327       20180144                30390  2018-05-24 17:02:27   \n",
       "1125       20130098                18187  2013-03-14 17:09:49   \n",
       "653        20110451                19968  2011-12-15 16:42:54   \n",
       "2334       20150468                21099  2015-12-21 08:29:41   \n",
       "2046       20150179                20445  2015-05-14 15:04:04   \n",
       "\n",
       "             REPORT_TYPE  ...                       PREPARER_TITLE  \\\n",
       "3327      ORIGINAL FINAL  ...                           AI ANALYST   \n",
       "1125  SUPPLEMENTAL FINAL  ...                      DOT COORDINATOR   \n",
       "653   SUPPLEMENTAL FINAL  ...  SENIOR PIPELINE COMPLIANCE ENGINEER   \n",
       "2334  SUPPLEMENTAL FINAL  ...              COMPLIANCE COORDINATOR    \n",
       "2046      ORIGINAL FINAL  ...       PIPELINE COMPLIANCE SPECIALIST   \n",
       "\n",
       "                      PREPARER_EMAIL PREPARER_TELEPHONE  PREPARER_FAX  \\\n",
       "3327  sharron.lillard@magellanlp.com       918-574-7327  918-574-7316   \n",
       "1125         jeff.blatchford@p66.com       918-977-4206           NaN   \n",
       "653                smdavis@eprod.com       713-381-6487           NaN   \n",
       "2334              kmckay@colpipe.com       601-765-9168  770-754-8489   \n",
       "2046              candress@eprod.com       713-381-6426           NaN   \n",
       "\n",
       "     PREPARED_DATE  AUTHORIZER_NAME                     AUTHORIZER_TITLE  \\\n",
       "3327    2018-05-24  SHARRON LILLARD                           AI ANALYST   \n",
       "1125    2013-06-13      TODD TULLIO        REGULATORY COMPLIANCE MANAGER   \n",
       "653     2014-12-12      SUZIE DAVIS  SENIOR PIPELINE COMPLIANCE ENGINEER   \n",
       "2334    2016-02-05      DREW LOHOFF  MANAGER PHMSA REGULATORY COMPLIANCE   \n",
       "2046    2015-05-14    CHASE ANDRESS       PIPELINE COMPLIANCE SPECIALIST   \n",
       "\n",
       "      AUTHORIZER_TELEPHONE                AUTHORIZER_EMAIL  \\\n",
       "3327          918-574-7327  sharron.lillard@magellanlp.com   \n",
       "1125          832-765-1636           todd.l.tullio@p66.com   \n",
       "653           713-381-6487               smdavis@eprod.com   \n",
       "2334          678-762-2872             dlohoff@colpipe.com   \n",
       "2046          713-381-6426              candress@eprod.com   \n",
       "\n",
       "                                              NARRATIVE  \n",
       "3327  ON 4/26/18, A PIPELINE REHAB CREW WAS EXCAVATI...  \n",
       "1125  AT 07:00, ODOR OF GASOLINE WAS REPORTED BY TER...  \n",
       "653   AT 17:15 HRS PILOT CALLED ENTERPRISE EMPLOYEE ...  \n",
       "2334  ON 11/23/2015 AT 10:30 AN EMPLOYEE DETECTED PR...  \n",
       "2046  AT APPROXIMATELY 17:15 ON 4/29/2015 LOCAL OPER...  \n",
       "\n",
       "[5 rows x 606 columns]"
      ]
     },
     "execution_count": 2,
     "metadata": {},
     "output_type": "execute_result"
    }
   ],
   "source": [
    "incidents = pd.read_excel('../data/incidents_2019-08-09/hl2010toPresent.xlsx', \n",
    "                          sheet_name=1)\n",
    "\n",
    "incidents.sample(5)"
   ]
  },
  {
   "cell_type": "code",
   "execution_count": 3,
   "metadata": {
    "collapsed": false,
    "jupyter": {
     "outputs_hidden": false
    },
    "pycharm": {
     "is_executing": false,
     "name": "#%%\n"
    }
   },
   "outputs": [
    {
     "data": {
      "text/plain": [
       "ENTERPRISE CRUDE PIPELINE LLC          276\n",
       "ENTERPRISE PRODUCTS OPERATING LLC      214\n",
       "SUNOCO PIPELINE L.P.                   211\n",
       "PLAINS PIPELINE, L.P.                  203\n",
       "MAGELLAN PIPELINE COMPANY, LP          180\n",
       "COLONIAL PIPELINE CO                   177\n",
       "BUCKEYE PARTNERS, LP                   148\n",
       "PHILLIPS 66 PIPELINE LLC               121\n",
       "KINDER MORGAN LIQUID TERMINALS, LLC    117\n",
       "MARATHON PIPE LINE LLC                 111\n",
       "Name: NAME, dtype: int64"
      ]
     },
     "execution_count": 3,
     "metadata": {},
     "output_type": "execute_result"
    }
   ],
   "source": [
    "incidents['NAME'].value_counts().head(10)"
   ]
  },
  {
   "cell_type": "code",
   "execution_count": 4,
   "metadata": {
    "collapsed": false,
    "jupyter": {
     "outputs_hidden": false
    },
    "pycharm": {
     "name": "#%%\n"
    }
   },
   "outputs": [
    {
     "data": {
      "text/plain": [
       "30829    282\n",
       "31618    214\n",
       "18718    211\n",
       "300      202\n",
       "22610    180\n",
       "2552     177\n",
       "31684    155\n",
       "1845     148\n",
       "26041    117\n",
       "32109    112\n",
       "Name: OPERATOR_ID, dtype: int64"
      ]
     },
     "execution_count": 4,
     "metadata": {},
     "output_type": "execute_result"
    }
   ],
   "source": [
    "incidents['OPERATOR_ID'].value_counts().head(10)"
   ]
  },
  {
   "cell_type": "code",
   "execution_count": 5,
   "metadata": {},
   "outputs": [
    {
     "data": {
      "text/plain": [
       "array(['REFINED AND/OR PETROLEUM PRODUCT (NON-HVL) WHICH IS A LIQUID AT AMBIENT CONDITIONS',\n",
       "       'CO2 (CARBON DIOXIDE)',\n",
       "       'HVL OR OTHER FLAMMABLE OR TOXIC FLUID WHICH IS A GAS AT AMBIENT CONDITIONS',\n",
       "       'CRUDE OIL',\n",
       "       'BIOFUEL / ALTERNATIVE FUEL(INCLUDING ETHANOL BLENDS)'],\n",
       "      dtype=object)"
      ]
     },
     "execution_count": 5,
     "metadata": {},
     "output_type": "execute_result"
    }
   ],
   "source": [
    "incidents['COMMODITY_RELEASED_TYPE'].unique()"
   ]
  },
  {
   "cell_type": "markdown",
   "metadata": {},
   "source": [
    "There seem to be some minor discrepancies between ID and name. Matching every ID to its most common company name should fix it. "
   ]
  },
  {
   "cell_type": "code",
   "execution_count": 6,
   "metadata": {},
   "outputs": [
    {
     "data": {
      "text/plain": [
       "<matplotlib.axes._subplots.AxesSubplot at 0x7f99703b2e48>"
      ]
     },
     "execution_count": 6,
     "metadata": {},
     "output_type": "execute_result"
    },
    {
     "data": {
      "image/png": "[encoded data removed]",
      "text/plain": [
       "<Figure size 1440x720 with 1 Axes>"
      ]
     },
     "metadata": {
      "needs_background": "light"
     },
     "output_type": "display_data"
    }
   ],
   "source": [
    "incidents['OPERATOR_ID'].value_counts().hist(bins=30, figsize=(20, 10))"
   ]
  },
  {
   "cell_type": "code",
   "execution_count": 7,
   "metadata": {},
   "outputs": [
    {
     "data": {
      "text/plain": [
       "3819"
      ]
     },
     "execution_count": 7,
     "metadata": {},
     "output_type": "execute_result"
    }
   ],
   "source": [
    "len(incidents)"
   ]
  },
  {
   "cell_type": "markdown",
   "metadata": {},
   "source": [
    "## 2.2 Oil pipeline data"
   ]
  },
  {
   "cell_type": "code",
   "execution_count": 8,
   "metadata": {},
   "outputs": [
    {
     "data": {
      "text/html": [
       "<div>\n",
       "<style scoped>\n",
       "    .dataframe tbody tr th:only-of-type {\n",
       "        vertical-align: middle;\n",
       "    }\n",
       "\n",
       "    .dataframe tbody tr th {\n",
       "        vertical-align: top;\n",
       "    }\n",
       "\n",
       "    .dataframe thead th {\n",
       "        text-align: right;\n",
       "    }\n",
       "</style>\n",
       "<table border=\"1\" class=\"dataframe\">\n",
       "  <thead>\n",
       "    <tr style=\"text-align: right;\">\n",
       "      <th></th>\n",
       "      <th>DATAFILE_AS_OF</th>\n",
       "      <th>REPORT_YEAR</th>\n",
       "      <th>REPORT_NUMBER</th>\n",
       "      <th>SUPPLEMENTAL_NUMBER</th>\n",
       "      <th>OPERATOR_ID</th>\n",
       "      <th>PARTA2NAMEOFCOMP</th>\n",
       "      <th>PARTA4STREET</th>\n",
       "      <th>PARTA4CITY</th>\n",
       "      <th>PARTA4STATE</th>\n",
       "      <th>PARTA4ZIP</th>\n",
       "      <th>...</th>\n",
       "      <th>PARTE2010HF</th>\n",
       "      <th>PARTE2010LF</th>\n",
       "      <th>PARTE2010TOTAL</th>\n",
       "      <th>PARTETOTAL</th>\n",
       "      <th>PARTETOTALHF</th>\n",
       "      <th>PARTETOTALLF</th>\n",
       "      <th>REPORT_SUBMISSION_TYPE</th>\n",
       "      <th>REPORT_DATE</th>\n",
       "      <th>FILING_DATE</th>\n",
       "      <th>FORM_REV</th>\n",
       "    </tr>\n",
       "  </thead>\n",
       "  <tbody>\n",
       "    <tr>\n",
       "      <th>113</th>\n",
       "      <td>2019-08-01 13:10:42</td>\n",
       "      <td>2010</td>\n",
       "      <td>20110406</td>\n",
       "      <td>10429</td>\n",
       "      <td>18718</td>\n",
       "      <td>SUNOCO PIPELINE L.P.</td>\n",
       "      <td>1818 Market St. Suite 1500</td>\n",
       "      <td>SINKING SPRING</td>\n",
       "      <td>PA</td>\n",
       "      <td>19103</td>\n",
       "      <td>...</td>\n",
       "      <td>0.0</td>\n",
       "      <td>0.0</td>\n",
       "      <td>0.0</td>\n",
       "      <td>34.00</td>\n",
       "      <td>23.00</td>\n",
       "      <td>11.00</td>\n",
       "      <td>INITIAL</td>\n",
       "      <td>2011-08-23 17:00:11</td>\n",
       "      <td>2011-08-23 17:00:11</td>\n",
       "      <td>7000-1.1 (Rev. 06-2011)</td>\n",
       "    </tr>\n",
       "    <tr>\n",
       "      <th>152</th>\n",
       "      <td>2019-08-01 13:10:42</td>\n",
       "      <td>2010</td>\n",
       "      <td>20110141</td>\n",
       "      <td>10143</td>\n",
       "      <td>26049</td>\n",
       "      <td>COUNTRYMARK COOPERATIVE, LLP</td>\n",
       "      <td>225 S.E. ST. Suite 144</td>\n",
       "      <td>MT. VERNON</td>\n",
       "      <td>IN</td>\n",
       "      <td>46202-4059</td>\n",
       "      <td>...</td>\n",
       "      <td>0.0</td>\n",
       "      <td>0.0</td>\n",
       "      <td>0.0</td>\n",
       "      <td>69.00</td>\n",
       "      <td>18.00</td>\n",
       "      <td>51.00</td>\n",
       "      <td>INITIAL</td>\n",
       "      <td>2011-08-12 12:22:29</td>\n",
       "      <td>2011-08-12 12:22:29</td>\n",
       "      <td>7000-1.1 (Rev. 06-2011)</td>\n",
       "    </tr>\n",
       "    <tr>\n",
       "      <th>56</th>\n",
       "      <td>2019-08-01 13:10:42</td>\n",
       "      <td>2010</td>\n",
       "      <td>20110060</td>\n",
       "      <td>10061</td>\n",
       "      <td>5320</td>\n",
       "      <td>PROGRESS ENERGY FLORIDA</td>\n",
       "      <td>410 SOUTH WILMINGTON STREET</td>\n",
       "      <td>RALEIGH</td>\n",
       "      <td>NC</td>\n",
       "      <td>27601</td>\n",
       "      <td>...</td>\n",
       "      <td>0.0</td>\n",
       "      <td>0.0</td>\n",
       "      <td>0.0</td>\n",
       "      <td>33.65</td>\n",
       "      <td>33.65</td>\n",
       "      <td>0.00</td>\n",
       "      <td>INITIAL</td>\n",
       "      <td>2011-08-08 12:19:30</td>\n",
       "      <td>2011-08-08 12:19:30</td>\n",
       "      <td>7000-1.1 (Rev. 06-2011)</td>\n",
       "    </tr>\n",
       "    <tr>\n",
       "      <th>127</th>\n",
       "      <td>2019-08-01 13:10:42</td>\n",
       "      <td>2010</td>\n",
       "      <td>20110407</td>\n",
       "      <td>10704</td>\n",
       "      <td>20160</td>\n",
       "      <td>PL Midstream LLC</td>\n",
       "      <td>4470 Bluebonnet Blvd., Suite C</td>\n",
       "      <td>HOUSTON</td>\n",
       "      <td>LA</td>\n",
       "      <td>70809</td>\n",
       "      <td>...</td>\n",
       "      <td>0.0</td>\n",
       "      <td>0.0</td>\n",
       "      <td>0.0</td>\n",
       "      <td>461.85</td>\n",
       "      <td>461.85</td>\n",
       "      <td>0.00</td>\n",
       "      <td>SUPPLEMENTAL</td>\n",
       "      <td>2011-08-24 13:22:01</td>\n",
       "      <td>2012-01-31 13:21:14</td>\n",
       "      <td>7000-1.1 (Rev. 06-2011)</td>\n",
       "    </tr>\n",
       "    <tr>\n",
       "      <th>190</th>\n",
       "      <td>2019-08-01 13:10:42</td>\n",
       "      <td>2010</td>\n",
       "      <td>20110341</td>\n",
       "      <td>11862</td>\n",
       "      <td>30709</td>\n",
       "      <td>HUNTSMAN PETROCHEMICAL LLC</td>\n",
       "      <td>10003 WOODLOCH FOREST DRIVE</td>\n",
       "      <td>THE WOODLANDS</td>\n",
       "      <td>TX</td>\n",
       "      <td>77380</td>\n",
       "      <td>...</td>\n",
       "      <td>0.0</td>\n",
       "      <td>0.0</td>\n",
       "      <td>0.0</td>\n",
       "      <td>15.91</td>\n",
       "      <td>7.27</td>\n",
       "      <td>8.64</td>\n",
       "      <td>SUPPLEMENTAL</td>\n",
       "      <td>2011-08-15 19:21:21</td>\n",
       "      <td>2013-05-31 13:57:07</td>\n",
       "      <td>7000-1.1 (Rev. 06-2011)</td>\n",
       "    </tr>\n",
       "  </tbody>\n",
       "</table>\n",
       "<p>5 rows × 85 columns</p>\n",
       "</div>"
      ],
      "text/plain": [
       "         DATAFILE_AS_OF  REPORT_YEAR  REPORT_NUMBER  SUPPLEMENTAL_NUMBER  \\\n",
       "113 2019-08-01 13:10:42         2010       20110406                10429   \n",
       "152 2019-08-01 13:10:42         2010       20110141                10143   \n",
       "56  2019-08-01 13:10:42         2010       20110060                10061   \n",
       "127 2019-08-01 13:10:42         2010       20110407                10704   \n",
       "190 2019-08-01 13:10:42         2010       20110341                11862   \n",
       "\n",
       "     OPERATOR_ID              PARTA2NAMEOFCOMP  \\\n",
       "113        18718          SUNOCO PIPELINE L.P.   \n",
       "152        26049  COUNTRYMARK COOPERATIVE, LLP   \n",
       "56          5320       PROGRESS ENERGY FLORIDA   \n",
       "127        20160              PL Midstream LLC   \n",
       "190        30709    HUNTSMAN PETROCHEMICAL LLC   \n",
       "\n",
       "                       PARTA4STREET      PARTA4CITY PARTA4STATE   PARTA4ZIP  \\\n",
       "113      1818 Market St. Suite 1500  SINKING SPRING          PA       19103   \n",
       "152          225 S.E. ST. Suite 144      MT. VERNON          IN  46202-4059   \n",
       "56      410 SOUTH WILMINGTON STREET         RALEIGH          NC       27601   \n",
       "127  4470 Bluebonnet Blvd., Suite C         HOUSTON          LA       70809   \n",
       "190     10003 WOODLOCH FOREST DRIVE   THE WOODLANDS          TX       77380   \n",
       "\n",
       "     ... PARTE2010HF PARTE2010LF PARTE2010TOTAL PARTETOTAL  PARTETOTALHF  \\\n",
       "113  ...         0.0         0.0            0.0      34.00         23.00   \n",
       "152  ...         0.0         0.0            0.0      69.00         18.00   \n",
       "56   ...         0.0         0.0            0.0      33.65         33.65   \n",
       "127  ...         0.0         0.0            0.0     461.85        461.85   \n",
       "190  ...         0.0         0.0            0.0      15.91          7.27   \n",
       "\n",
       "     PARTETOTALLF  REPORT_SUBMISSION_TYPE         REPORT_DATE  \\\n",
       "113         11.00                 INITIAL 2011-08-23 17:00:11   \n",
       "152         51.00                 INITIAL 2011-08-12 12:22:29   \n",
       "56           0.00                 INITIAL 2011-08-08 12:19:30   \n",
       "127          0.00            SUPPLEMENTAL 2011-08-24 13:22:01   \n",
       "190          8.64            SUPPLEMENTAL 2011-08-15 19:21:21   \n",
       "\n",
       "            FILING_DATE                 FORM_REV  \n",
       "113 2011-08-23 17:00:11  7000-1.1 (Rev. 06-2011)  \n",
       "152 2011-08-12 12:22:29  7000-1.1 (Rev. 06-2011)  \n",
       "56  2011-08-08 12:19:30  7000-1.1 (Rev. 06-2011)  \n",
       "127 2012-01-31 13:21:14  7000-1.1 (Rev. 06-2011)  \n",
       "190 2013-05-31 13:57:07  7000-1.1 (Rev. 06-2011)  \n",
       "\n",
       "[5 rows x 85 columns]"
      ]
     },
     "execution_count": 8,
     "metadata": {},
     "output_type": "execute_result"
    }
   ],
   "source": [
    "oil_pipelines = pd.read_excel('../data/pipelines_2010_present_2019-08-09/annual_hazardous_liquid_2010.xlsx', skiprows=2)\n",
    "\n",
    "oil_pipelines.sample(5)"
   ]
  },
  {
   "cell_type": "code",
   "execution_count": 9,
   "metadata": {},
   "outputs": [
    {
     "data": {
      "text/plain": [
       "['annual_hazardous_liquid_2017.xlsx',\n",
       " 'annual_hazardous_liquid_2011.xlsx',\n",
       " 'annual_hazardous_liquid_2014.xlsx',\n",
       " 'annual_hazardous_liquid_2012.xlsx',\n",
       " 'annual_hazardous_liquid_2013.xlsx',\n",
       " 'annual_hazardous_liquid_2010.xlsx',\n",
       " 'annual_hazardous_liquid_2018.xlsx',\n",
       " 'annual_hazardous_liquid_2016.xlsx',\n",
       " 'annual_hazardous_liquid_2015.xlsx']"
      ]
     },
     "execution_count": 9,
     "metadata": {},
     "output_type": "execute_result"
    }
   ],
   "source": [
    "from os import listdir\n",
    "\n",
    "pipeline_files = [file for file in listdir('../data/pipelines_2010_present_2019-08-09/') if'annual_hazardous_liquid' in file]\n",
    "pipeline_files"
   ]
  },
  {
   "cell_type": "code",
   "execution_count": 10,
   "metadata": {},
   "outputs": [
    {
     "data": {
      "text/html": [
       "<div>\n",
       "<style scoped>\n",
       "    .dataframe tbody tr th:only-of-type {\n",
       "        vertical-align: middle;\n",
       "    }\n",
       "\n",
       "    .dataframe tbody tr th {\n",
       "        vertical-align: top;\n",
       "    }\n",
       "\n",
       "    .dataframe thead th {\n",
       "        text-align: right;\n",
       "    }\n",
       "</style>\n",
       "<table border=\"1\" class=\"dataframe\">\n",
       "  <thead>\n",
       "    <tr style=\"text-align: right;\">\n",
       "      <th></th>\n",
       "      <th>DATAFILE_AS_OF</th>\n",
       "      <th>REPORT_YEAR</th>\n",
       "      <th>REPORT_NUMBER</th>\n",
       "      <th>SUPPLEMENTAL_NUMBER</th>\n",
       "      <th>OPERATOR_ID</th>\n",
       "      <th>PARTA2NAMEOFCOMP</th>\n",
       "      <th>PARTA4STREET</th>\n",
       "      <th>PARTA4CITY</th>\n",
       "      <th>PARTA4STATE</th>\n",
       "      <th>PARTA4ZIP</th>\n",
       "      <th>...</th>\n",
       "      <th>PARTE2010HF</th>\n",
       "      <th>PARTE2010LF</th>\n",
       "      <th>PARTE2010TOTAL</th>\n",
       "      <th>PARTETOTAL</th>\n",
       "      <th>PARTETOTALHF</th>\n",
       "      <th>PARTETOTALLF</th>\n",
       "      <th>REPORT_SUBMISSION_TYPE</th>\n",
       "      <th>REPORT_DATE</th>\n",
       "      <th>FILING_DATE</th>\n",
       "      <th>FORM_REV</th>\n",
       "    </tr>\n",
       "  </thead>\n",
       "  <tbody>\n",
       "    <tr>\n",
       "      <th>353</th>\n",
       "      <td>2019-08-01 13:58:36</td>\n",
       "      <td>2017</td>\n",
       "      <td>20183338</td>\n",
       "      <td>15865</td>\n",
       "      <td>32082</td>\n",
       "      <td>ARC TERMINALS</td>\n",
       "      <td>3000 RESEARCH FOREST DR. SUITE 250</td>\n",
       "      <td>THE WOODLANDS</td>\n",
       "      <td>TX</td>\n",
       "      <td>77381</td>\n",
       "      <td>...</td>\n",
       "      <td>0.0</td>\n",
       "      <td>0.0</td>\n",
       "      <td>0.0</td>\n",
       "      <td>1.559</td>\n",
       "      <td>0.353</td>\n",
       "      <td>1.206</td>\n",
       "      <td>INITIAL</td>\n",
       "      <td>2018-06-12 14:23:17</td>\n",
       "      <td>2018-06-12 14:23:17</td>\n",
       "      <td>7000-1.1 (Rev. 06-2014)</td>\n",
       "    </tr>\n",
       "    <tr>\n",
       "      <th>4269</th>\n",
       "      <td>2019-08-01 13:52:01</td>\n",
       "      <td>2016</td>\n",
       "      <td>20172378</td>\n",
       "      <td>14727</td>\n",
       "      <td>31189</td>\n",
       "      <td>BP PIPELINE (NORTH AMERICA) INC.</td>\n",
       "      <td>30S WACKER DRIVE</td>\n",
       "      <td>CHICAGO</td>\n",
       "      <td>IL</td>\n",
       "      <td>60606</td>\n",
       "      <td>...</td>\n",
       "      <td>0.0</td>\n",
       "      <td>0.0</td>\n",
       "      <td>0.0</td>\n",
       "      <td>121.000</td>\n",
       "      <td>45.000</td>\n",
       "      <td>76.000</td>\n",
       "      <td>INITIAL</td>\n",
       "      <td>2017-03-09 09:01:55</td>\n",
       "      <td>2017-03-09 09:01:55</td>\n",
       "      <td>7000-1.1 (Rev. 06-2014)</td>\n",
       "    </tr>\n",
       "    <tr>\n",
       "      <th>4912</th>\n",
       "      <td>2019-08-01 13:46:40</td>\n",
       "      <td>2015</td>\n",
       "      <td>20161842</td>\n",
       "      <td>14073</td>\n",
       "      <td>31057</td>\n",
       "      <td>HECO - HAWAIIAN ELECTRIC COMPANY, INC.</td>\n",
       "      <td>900 RICHARDS STREET</td>\n",
       "      <td>HONOLULU</td>\n",
       "      <td>HI</td>\n",
       "      <td>96813</td>\n",
       "      <td>...</td>\n",
       "      <td>0.0</td>\n",
       "      <td>0.0</td>\n",
       "      <td>0.0</td>\n",
       "      <td>13.300</td>\n",
       "      <td>13.300</td>\n",
       "      <td>0.000</td>\n",
       "      <td>INITIAL</td>\n",
       "      <td>2016-05-27 12:31:24</td>\n",
       "      <td>2016-05-27 12:31:24</td>\n",
       "      <td>7000-1.1 (Rev. 06-2014)</td>\n",
       "    </tr>\n",
       "    <tr>\n",
       "      <th>1032</th>\n",
       "      <td>2019-08-01 13:14:22</td>\n",
       "      <td>2011</td>\n",
       "      <td>20120222</td>\n",
       "      <td>11260</td>\n",
       "      <td>31957</td>\n",
       "      <td>KINDER MORGAN WINK PIPELINE LP</td>\n",
       "      <td>500 DALLAS, STE. 1000</td>\n",
       "      <td>HOUSTON</td>\n",
       "      <td>TX</td>\n",
       "      <td>77002</td>\n",
       "      <td>...</td>\n",
       "      <td>0.0</td>\n",
       "      <td>0.0</td>\n",
       "      <td>0.0</td>\n",
       "      <td>374.000</td>\n",
       "      <td>10.000</td>\n",
       "      <td>364.000</td>\n",
       "      <td>INITIAL</td>\n",
       "      <td>2012-06-13 12:03:13</td>\n",
       "      <td>2012-06-13 12:03:13</td>\n",
       "      <td>7000-1.1 (Rev. 06-2011)</td>\n",
       "    </tr>\n",
       "    <tr>\n",
       "      <th>1583</th>\n",
       "      <td>2019-08-01 13:39:40</td>\n",
       "      <td>2014</td>\n",
       "      <td>20151421</td>\n",
       "      <td>13548</td>\n",
       "      <td>32277</td>\n",
       "      <td>OXEA CORPORATION</td>\n",
       "      <td>2001 FM 3057</td>\n",
       "      <td>BAY CITY</td>\n",
       "      <td>TX</td>\n",
       "      <td>77414</td>\n",
       "      <td>...</td>\n",
       "      <td>0.0</td>\n",
       "      <td>0.0</td>\n",
       "      <td>0.0</td>\n",
       "      <td>51.000</td>\n",
       "      <td>51.000</td>\n",
       "      <td>0.000</td>\n",
       "      <td>INITIAL</td>\n",
       "      <td>2015-06-11 16:30:44</td>\n",
       "      <td>2015-06-11 16:30:44</td>\n",
       "      <td>7000-1.1 (Rev. 06-2014)</td>\n",
       "    </tr>\n",
       "  </tbody>\n",
       "</table>\n",
       "<p>5 rows × 85 columns</p>\n",
       "</div>"
      ],
      "text/plain": [
       "          DATAFILE_AS_OF  REPORT_YEAR  REPORT_NUMBER  SUPPLEMENTAL_NUMBER  \\\n",
       "353  2019-08-01 13:58:36         2017       20183338                15865   \n",
       "4269 2019-08-01 13:52:01         2016       20172378                14727   \n",
       "4912 2019-08-01 13:46:40         2015       20161842                14073   \n",
       "1032 2019-08-01 13:14:22         2011       20120222                11260   \n",
       "1583 2019-08-01 13:39:40         2014       20151421                13548   \n",
       "\n",
       "      OPERATOR_ID                        PARTA2NAMEOFCOMP  \\\n",
       "353         32082                           ARC TERMINALS   \n",
       "4269        31189        BP PIPELINE (NORTH AMERICA) INC.   \n",
       "4912        31057  HECO - HAWAIIAN ELECTRIC COMPANY, INC.   \n",
       "1032        31957          KINDER MORGAN WINK PIPELINE LP   \n",
       "1583        32277                        OXEA CORPORATION   \n",
       "\n",
       "                            PARTA4STREET     PARTA4CITY PARTA4STATE PARTA4ZIP  \\\n",
       "353   3000 RESEARCH FOREST DR. SUITE 250  THE WOODLANDS          TX     77381   \n",
       "4269                    30S WACKER DRIVE        CHICAGO          IL     60606   \n",
       "4912                 900 RICHARDS STREET       HONOLULU          HI     96813   \n",
       "1032               500 DALLAS, STE. 1000        HOUSTON          TX     77002   \n",
       "1583                        2001 FM 3057       BAY CITY          TX     77414   \n",
       "\n",
       "      ... PARTE2010HF PARTE2010LF PARTE2010TOTAL PARTETOTAL  PARTETOTALHF  \\\n",
       "353   ...         0.0         0.0            0.0      1.559         0.353   \n",
       "4269  ...         0.0         0.0            0.0    121.000        45.000   \n",
       "4912  ...         0.0         0.0            0.0     13.300        13.300   \n",
       "1032  ...         0.0         0.0            0.0    374.000        10.000   \n",
       "1583  ...         0.0         0.0            0.0     51.000        51.000   \n",
       "\n",
       "      PARTETOTALLF  REPORT_SUBMISSION_TYPE         REPORT_DATE  \\\n",
       "353          1.206                 INITIAL 2018-06-12 14:23:17   \n",
       "4269        76.000                 INITIAL 2017-03-09 09:01:55   \n",
       "4912         0.000                 INITIAL 2016-05-27 12:31:24   \n",
       "1032       364.000                 INITIAL 2012-06-13 12:03:13   \n",
       "1583         0.000                 INITIAL 2015-06-11 16:30:44   \n",
       "\n",
       "             FILING_DATE                 FORM_REV  \n",
       "353  2018-06-12 14:23:17  7000-1.1 (Rev. 06-2014)  \n",
       "4269 2017-03-09 09:01:55  7000-1.1 (Rev. 06-2014)  \n",
       "4912 2016-05-27 12:31:24  7000-1.1 (Rev. 06-2014)  \n",
       "1032 2012-06-13 12:03:13  7000-1.1 (Rev. 06-2011)  \n",
       "1583 2015-06-11 16:30:44  7000-1.1 (Rev. 06-2014)  \n",
       "\n",
       "[5 rows x 85 columns]"
      ]
     },
     "execution_count": 10,
     "metadata": {},
     "output_type": "execute_result"
    }
   ],
   "source": [
    "pipelines = pd.concat([pd.read_excel(f'../data/pipelines_2010_present_2019-08-09/{file}', skiprows=2) for file in pipeline_files])\n",
    "pipelines = pipelines.reset_index(drop = True)\n",
    "\n",
    "pipelines.sample(5)"
   ]
  },
  {
   "cell_type": "markdown",
   "metadata": {},
   "source": [
    "See which company has the vastest pipeline network."
   ]
  },
  {
   "cell_type": "code",
   "execution_count": 11,
   "metadata": {},
   "outputs": [
    {
     "data": {
      "text/html": [
       "<div>\n",
       "<style scoped>\n",
       "    .dataframe tbody tr th:only-of-type {\n",
       "        vertical-align: middle;\n",
       "    }\n",
       "\n",
       "    .dataframe tbody tr th {\n",
       "        vertical-align: top;\n",
       "    }\n",
       "\n",
       "    .dataframe thead th {\n",
       "        text-align: right;\n",
       "    }\n",
       "</style>\n",
       "<table border=\"1\" class=\"dataframe\">\n",
       "  <thead>\n",
       "    <tr style=\"text-align: right;\">\n",
       "      <th></th>\n",
       "      <th>REPORT_YEAR</th>\n",
       "      <th>OPERATOR_ID</th>\n",
       "      <th>PARTA2NAMEOFCOMP</th>\n",
       "      <th>PARTBHCATOTAL</th>\n",
       "    </tr>\n",
       "  </thead>\n",
       "  <tbody>\n",
       "    <tr>\n",
       "      <th>3634</th>\n",
       "      <td>2018</td>\n",
       "      <td>31618</td>\n",
       "      <td>ENTERPRISE PRODUCTS OPERATING LLC</td>\n",
       "      <td>7726.183</td>\n",
       "    </tr>\n",
       "    <tr>\n",
       "      <th>3704</th>\n",
       "      <td>2018</td>\n",
       "      <td>32109</td>\n",
       "      <td>ONEOK NGL PIPELINE, LLC</td>\n",
       "      <td>4531.480</td>\n",
       "    </tr>\n",
       "    <tr>\n",
       "      <th>4723</th>\n",
       "      <td>2015</td>\n",
       "      <td>2552</td>\n",
       "      <td>COLONIAL PIPELINE CO</td>\n",
       "      <td>4500.920</td>\n",
       "    </tr>\n",
       "    <tr>\n",
       "      <th>4715</th>\n",
       "      <td>2015</td>\n",
       "      <td>1845</td>\n",
       "      <td>BUCKEYE PARTNERS, LP</td>\n",
       "      <td>4266.430</td>\n",
       "    </tr>\n",
       "    <tr>\n",
       "      <th>3484</th>\n",
       "      <td>2018</td>\n",
       "      <td>22610</td>\n",
       "      <td>MAGELLAN PIPELINE COMPANY, LP</td>\n",
       "      <td>3926.400</td>\n",
       "    </tr>\n",
       "    <tr>\n",
       "      <th>4135</th>\n",
       "      <td>2016</td>\n",
       "      <td>15674</td>\n",
       "      <td>PLANTATION PIPE LINE CO</td>\n",
       "      <td>2564.730</td>\n",
       "    </tr>\n",
       "    <tr>\n",
       "      <th>4035</th>\n",
       "      <td>2016</td>\n",
       "      <td>300</td>\n",
       "      <td>PLAINS PIPELINE, L.P.</td>\n",
       "      <td>2312.330</td>\n",
       "    </tr>\n",
       "    <tr>\n",
       "      <th>67</th>\n",
       "      <td>2017</td>\n",
       "      <td>11169</td>\n",
       "      <td>ENBRIDGE ENERGY, LIMITED PARTNERSHIP</td>\n",
       "      <td>2290.000</td>\n",
       "    </tr>\n",
       "    <tr>\n",
       "      <th>3186</th>\n",
       "      <td>2010</td>\n",
       "      <td>31684</td>\n",
       "      <td>CONOCOPHILLIPS</td>\n",
       "      <td>2283.790</td>\n",
       "    </tr>\n",
       "    <tr>\n",
       "      <th>2693</th>\n",
       "      <td>2013</td>\n",
       "      <td>32147</td>\n",
       "      <td>MARATHON PIPE LINE LLC</td>\n",
       "      <td>2281.900</td>\n",
       "    </tr>\n",
       "  </tbody>\n",
       "</table>\n",
       "</div>"
      ],
      "text/plain": [
       "      REPORT_YEAR  OPERATOR_ID                      PARTA2NAMEOFCOMP  \\\n",
       "3634         2018        31618     ENTERPRISE PRODUCTS OPERATING LLC   \n",
       "3704         2018        32109               ONEOK NGL PIPELINE, LLC   \n",
       "4723         2015         2552                  COLONIAL PIPELINE CO   \n",
       "4715         2015         1845                  BUCKEYE PARTNERS, LP   \n",
       "3484         2018        22610         MAGELLAN PIPELINE COMPANY, LP   \n",
       "4135         2016        15674               PLANTATION PIPE LINE CO   \n",
       "4035         2016          300                 PLAINS PIPELINE, L.P.   \n",
       "67           2017        11169  ENBRIDGE ENERGY, LIMITED PARTNERSHIP   \n",
       "3186         2010        31684                        CONOCOPHILLIPS   \n",
       "2693         2013        32147                MARATHON PIPE LINE LLC   \n",
       "\n",
       "      PARTBHCATOTAL  \n",
       "3634       7726.183  \n",
       "3704       4531.480  \n",
       "4723       4500.920  \n",
       "4715       4266.430  \n",
       "3484       3926.400  \n",
       "4135       2564.730  \n",
       "4035       2312.330  \n",
       "67         2290.000  \n",
       "3186       2283.790  \n",
       "2693       2281.900  "
      ]
     },
     "execution_count": 11,
     "metadata": {},
     "output_type": "execute_result"
    }
   ],
   "source": [
    "pipelines.loc[pipelines.groupby('OPERATOR_ID')['PARTBHCATOTAL'].idxmax()].nlargest(10, 'PARTBHCATOTAL')[['REPORT_YEAR', 'OPERATOR_ID', 'PARTA2NAMEOFCOMP', 'PARTBHCATOTAL']]"
   ]
  },
  {
   "cell_type": "code",
   "execution_count": 12,
   "metadata": {},
   "outputs": [
    {
     "data": {
      "text/plain": [
       "array(['Crude Oil', 'HVL', 'Refined and/or Petroleum Product (non-HVL)',\n",
       "       'CO2', 'Fuel Grade Ethanol (dedicated system)'], dtype=object)"
      ]
     },
     "execution_count": 12,
     "metadata": {},
     "output_type": "execute_result"
    }
   ],
   "source": [
    "pipelines['PARTA5COMMODITY'].unique()"
   ]
  },
  {
   "cell_type": "markdown",
   "metadata": {},
   "source": [
    "Compare to"
   ]
  },
  {
   "cell_type": "code",
   "execution_count": 13,
   "metadata": {},
   "outputs": [
    {
     "data": {
      "text/plain": [
       "array(['REFINED AND/OR PETROLEUM PRODUCT (NON-HVL) WHICH IS A LIQUID AT AMBIENT CONDITIONS',\n",
       "       'CO2 (CARBON DIOXIDE)',\n",
       "       'HVL OR OTHER FLAMMABLE OR TOXIC FLUID WHICH IS A GAS AT AMBIENT CONDITIONS',\n",
       "       'CRUDE OIL',\n",
       "       'BIOFUEL / ALTERNATIVE FUEL(INCLUDING ETHANOL BLENDS)'],\n",
       "      dtype=object)"
      ]
     },
     "execution_count": 13,
     "metadata": {},
     "output_type": "execute_result"
    }
   ],
   "source": [
    "incidents['COMMODITY_RELEASED_TYPE'].unique()"
   ]
  },
  {
   "cell_type": "markdown",
   "metadata": {},
   "source": [
    "The types correspond well, but the terminology is different."
   ]
  },
  {
   "cell_type": "markdown",
   "metadata": {},
   "source": [
    "## 2.3 Gas pipelines"
   ]
  },
  {
   "cell_type": "code",
   "execution_count": 14,
   "metadata": {},
   "outputs": [
    {
     "data": {
      "text/html": [
       "<div>\n",
       "<style scoped>\n",
       "    .dataframe tbody tr th:only-of-type {\n",
       "        vertical-align: middle;\n",
       "    }\n",
       "\n",
       "    .dataframe tbody tr th {\n",
       "        vertical-align: top;\n",
       "    }\n",
       "\n",
       "    .dataframe thead th {\n",
       "        text-align: right;\n",
       "    }\n",
       "</style>\n",
       "<table border=\"1\" class=\"dataframe\">\n",
       "  <thead>\n",
       "    <tr style=\"text-align: right;\">\n",
       "      <th></th>\n",
       "      <th>DATAFILE_AS_OF</th>\n",
       "      <th>REPORT_YEAR</th>\n",
       "      <th>REPORT_NUMBER</th>\n",
       "      <th>SUPPLEMENTAL_NUMBER</th>\n",
       "      <th>OPERATOR_ID</th>\n",
       "      <th>PARTA2NAMEOFCOMP</th>\n",
       "      <th>PARTA2NAMEOFPARENT_COM</th>\n",
       "      <th>PARTA3NAME</th>\n",
       "      <th>PARTA3TITLE</th>\n",
       "      <th>PARTA3EMAIL</th>\n",
       "      <th>...</th>\n",
       "      <th>PARTA4ZIP</th>\n",
       "      <th>REPORT_SUBMISSION_TYPE</th>\n",
       "      <th>REPORT_DATE</th>\n",
       "      <th>FILING_DATE</th>\n",
       "      <th>FORM_REV</th>\n",
       "      <th>PARTNPREPNAME</th>\n",
       "      <th>PARTNPREPTITLE</th>\n",
       "      <th>PARTNPREPEMAIL</th>\n",
       "      <th>PARTNPREPPHONE</th>\n",
       "      <th>PARTNPREPFAX</th>\n",
       "    </tr>\n",
       "  </thead>\n",
       "  <tbody>\n",
       "    <tr>\n",
       "      <th>4</th>\n",
       "      <td>2019-08-01 14:19:07</td>\n",
       "      <td>2015</td>\n",
       "      <td>20160322</td>\n",
       "      <td>595</td>\n",
       "      <td>1088</td>\n",
       "      <td>BALTIMORE GAS &amp; ELECTRIC CO</td>\n",
       "      <td>Exelon Corporation</td>\n",
       "      <td>Ed Turowski</td>\n",
       "      <td>Manager Gas System Control &amp; Plant Operations</td>\n",
       "      <td>Edward.Turowski@constellation.com</td>\n",
       "      <td>...</td>\n",
       "      <td>21201</td>\n",
       "      <td>INITIAL</td>\n",
       "      <td>2016-03-11 07:47:54</td>\n",
       "      <td>2016-03-11 07:47:54</td>\n",
       "      <td>7100.3-1 (Rev. 10-2014)</td>\n",
       "      <td>Edward Turowski</td>\n",
       "      <td>Manager Gas System Control &amp; Plant Operations</td>\n",
       "      <td>Edward.Turowski@constellation.com</td>\n",
       "      <td>(410)470-6410</td>\n",
       "      <td>(410)470-6403</td>\n",
       "    </tr>\n",
       "    <tr>\n",
       "      <th>74</th>\n",
       "      <td>2019-08-01 14:19:07</td>\n",
       "      <td>2015</td>\n",
       "      <td>20160273</td>\n",
       "      <td>736</td>\n",
       "      <td>32561</td>\n",
       "      <td>ECOELECTRICA L.P.</td>\n",
       "      <td>NaN</td>\n",
       "      <td>oSCAR CEDEñO</td>\n",
       "      <td>TERMINAL MANAGER</td>\n",
       "      <td>OSCAR.CEDENO@ECOELECTRICA.COM</td>\n",
       "      <td>...</td>\n",
       "      <td>00624</td>\n",
       "      <td>SUPPLEMENTAL</td>\n",
       "      <td>2016-02-13 14:27:23</td>\n",
       "      <td>2017-04-21 09:03:15</td>\n",
       "      <td>7100.3-1 (Rev. 10-2014)</td>\n",
       "      <td>Oscar Cedeno</td>\n",
       "      <td>Terminal Manager</td>\n",
       "      <td>oscar.cedeno@ecoelectrica.com</td>\n",
       "      <td>(787)487-6042</td>\n",
       "      <td>(787)836-2250</td>\n",
       "    </tr>\n",
       "    <tr>\n",
       "      <th>81</th>\n",
       "      <td>2019-08-01 14:19:07</td>\n",
       "      <td>2015</td>\n",
       "      <td>20160295</td>\n",
       "      <td>654</td>\n",
       "      <td>39092</td>\n",
       "      <td>TITAN ALASKA LNG</td>\n",
       "      <td>NaN</td>\n",
       "      <td>Brendan Kern</td>\n",
       "      <td>Engineer</td>\n",
       "      <td>bkern@fngas.com</td>\n",
       "      <td>...</td>\n",
       "      <td>99701</td>\n",
       "      <td>SUPPLEMENTAL</td>\n",
       "      <td>2016-03-02 13:48:24</td>\n",
       "      <td>2017-01-31 16:09:28</td>\n",
       "      <td>7100.3-1 (Rev. 10-2014)</td>\n",
       "      <td>Brendan Kern</td>\n",
       "      <td>Operator</td>\n",
       "      <td>bkern@fngas.com</td>\n",
       "      <td>(907)799-0987</td>\n",
       "      <td>NaN</td>\n",
       "    </tr>\n",
       "    <tr>\n",
       "      <th>55</th>\n",
       "      <td>2019-08-01 14:19:07</td>\n",
       "      <td>2015</td>\n",
       "      <td>20160255</td>\n",
       "      <td>519</td>\n",
       "      <td>19570</td>\n",
       "      <td>TRANSCONTINENTAL GAS PIPE LINE COMPANY</td>\n",
       "      <td>NaN</td>\n",
       "      <td>Johnny Lopez</td>\n",
       "      <td>Regulatory &amp; Compliance Specialist</td>\n",
       "      <td>johnny.lopez@williams.com</td>\n",
       "      <td>...</td>\n",
       "      <td>77056</td>\n",
       "      <td>INITIAL</td>\n",
       "      <td>2016-01-12 09:15:11</td>\n",
       "      <td>2016-01-12 09:15:11</td>\n",
       "      <td>7100.3-1 (Rev. 10-2014)</td>\n",
       "      <td>johnny lopez</td>\n",
       "      <td>Regulatory &amp; Compliance Specialist</td>\n",
       "      <td>johnny.lopez@williams.com</td>\n",
       "      <td>(713) 215-2995</td>\n",
       "      <td>NaN</td>\n",
       "    </tr>\n",
       "    <tr>\n",
       "      <th>70</th>\n",
       "      <td>2019-08-01 14:19:07</td>\n",
       "      <td>2015</td>\n",
       "      <td>20160302</td>\n",
       "      <td>573</td>\n",
       "      <td>32206</td>\n",
       "      <td>FREEPORT LNG DEVELOPMENT, L.P.</td>\n",
       "      <td>NaN</td>\n",
       "      <td>Michael Stephenson</td>\n",
       "      <td>Regulatory Compliance Specialist</td>\n",
       "      <td>Mstephenson@freeportlng.com</td>\n",
       "      <td>...</td>\n",
       "      <td>77002</td>\n",
       "      <td>INITIAL</td>\n",
       "      <td>2016-03-07 10:34:38</td>\n",
       "      <td>2016-03-07 10:34:38</td>\n",
       "      <td>7100.3-1 (Rev. 10-2014)</td>\n",
       "      <td>Michael Stephenson</td>\n",
       "      <td>agent</td>\n",
       "      <td>Mstephenson@freeportlng.com</td>\n",
       "      <td>(979)415-8728</td>\n",
       "      <td>(979)415-8733</td>\n",
       "    </tr>\n",
       "  </tbody>\n",
       "</table>\n",
       "<p>5 rows × 24 columns</p>\n",
       "</div>"
      ],
      "text/plain": [
       "        DATAFILE_AS_OF  REPORT_YEAR  REPORT_NUMBER  SUPPLEMENTAL_NUMBER  \\\n",
       "4  2019-08-01 14:19:07         2015       20160322                  595   \n",
       "74 2019-08-01 14:19:07         2015       20160273                  736   \n",
       "81 2019-08-01 14:19:07         2015       20160295                  654   \n",
       "55 2019-08-01 14:19:07         2015       20160255                  519   \n",
       "70 2019-08-01 14:19:07         2015       20160302                  573   \n",
       "\n",
       "    OPERATOR_ID                        PARTA2NAMEOFCOMP  \\\n",
       "4          1088             BALTIMORE GAS & ELECTRIC CO   \n",
       "74        32561                       ECOELECTRICA L.P.   \n",
       "81        39092                        TITAN ALASKA LNG   \n",
       "55        19570  TRANSCONTINENTAL GAS PIPE LINE COMPANY   \n",
       "70        32206          FREEPORT LNG DEVELOPMENT, L.P.   \n",
       "\n",
       "   PARTA2NAMEOFPARENT_COM          PARTA3NAME  \\\n",
       "4      Exelon Corporation         Ed Turowski   \n",
       "74                    NaN        oSCAR CEDEñO   \n",
       "81                    NaN        Brendan Kern   \n",
       "55                    NaN        Johnny Lopez   \n",
       "70                    NaN  Michael Stephenson   \n",
       "\n",
       "                                      PARTA3TITLE  \\\n",
       "4   Manager Gas System Control & Plant Operations   \n",
       "74                               TERMINAL MANAGER   \n",
       "81                                       Engineer   \n",
       "55             Regulatory & Compliance Specialist   \n",
       "70               Regulatory Compliance Specialist   \n",
       "\n",
       "                          PARTA3EMAIL  ... PARTA4ZIP REPORT_SUBMISSION_TYPE  \\\n",
       "4   Edward.Turowski@constellation.com  ...     21201                INITIAL   \n",
       "74      OSCAR.CEDENO@ECOELECTRICA.COM  ...     00624           SUPPLEMENTAL   \n",
       "81                    bkern@fngas.com  ...     99701           SUPPLEMENTAL   \n",
       "55          johnny.lopez@williams.com  ...     77056                INITIAL   \n",
       "70        Mstephenson@freeportlng.com  ...     77002                INITIAL   \n",
       "\n",
       "           REPORT_DATE         FILING_DATE                 FORM_REV  \\\n",
       "4  2016-03-11 07:47:54 2016-03-11 07:47:54  7100.3-1 (Rev. 10-2014)   \n",
       "74 2016-02-13 14:27:23 2017-04-21 09:03:15  7100.3-1 (Rev. 10-2014)   \n",
       "81 2016-03-02 13:48:24 2017-01-31 16:09:28  7100.3-1 (Rev. 10-2014)   \n",
       "55 2016-01-12 09:15:11 2016-01-12 09:15:11  7100.3-1 (Rev. 10-2014)   \n",
       "70 2016-03-07 10:34:38 2016-03-07 10:34:38  7100.3-1 (Rev. 10-2014)   \n",
       "\n",
       "         PARTNPREPNAME                                 PARTNPREPTITLE  \\\n",
       "4      Edward Turowski  Manager Gas System Control & Plant Operations   \n",
       "74        Oscar Cedeno                               Terminal Manager   \n",
       "81        Brendan Kern                                       Operator   \n",
       "55        johnny lopez             Regulatory & Compliance Specialist   \n",
       "70  Michael Stephenson                                          agent   \n",
       "\n",
       "                       PARTNPREPEMAIL  PARTNPREPPHONE   PARTNPREPFAX  \n",
       "4   Edward.Turowski@constellation.com   (410)470-6410  (410)470-6403  \n",
       "74      oscar.cedeno@ecoelectrica.com   (787)487-6042  (787)836-2250  \n",
       "81                    bkern@fngas.com   (907)799-0987            NaN  \n",
       "55          johnny.lopez@williams.com  (713) 215-2995            NaN  \n",
       "70        Mstephenson@freeportlng.com   (979)415-8728  (979)415-8733  \n",
       "\n",
       "[5 rows x 24 columns]"
      ]
     },
     "execution_count": 14,
     "metadata": {},
     "output_type": "execute_result"
    }
   ],
   "source": [
    "gas_pipelines = pd.read_excel('../data/gas_2010_present_2019-08-09/annual_liquefied_natural_gas_2015.xlsx', skiprows=1)\n",
    "\n",
    "gas_pipelines.sample(5)"
   ]
  },
  {
   "cell_type": "code",
   "execution_count": 15,
   "metadata": {},
   "outputs": [
    {
     "data": {
      "text/plain": [
       "['annual_liquefied_natural_gas_2013.xlsx',\n",
       " 'annual_liquefied_natural_gas_2011.xlsx',\n",
       " 'annual_liquefied_natural_gas_2016.xlsx',\n",
       " 'annual_liquefied_natural_gas_2012.xlsx',\n",
       " 'annual_liquefied_natural_gas_2017.xlsx',\n",
       " 'annual_liquefied_natural_gas_2018.xlsx',\n",
       " 'annual_liquefied_natural_gas_2010.xlsx',\n",
       " 'annual_liquefied_natural_gas_2014.xlsx',\n",
       " 'annual_liquefied_natural_gas_2015.xlsx']"
      ]
     },
     "execution_count": 15,
     "metadata": {},
     "output_type": "execute_result"
    }
   ],
   "source": [
    "gas_files = [file for file in listdir('../data/gas_2010_present_2019-08-09/') if'annual_liquefied_natural_gas' in file]\n",
    "gas_files"
   ]
  },
  {
   "cell_type": "code",
   "execution_count": 16,
   "metadata": {},
   "outputs": [
    {
     "data": {
      "text/html": [
       "<div>\n",
       "<style scoped>\n",
       "    .dataframe tbody tr th:only-of-type {\n",
       "        vertical-align: middle;\n",
       "    }\n",
       "\n",
       "    .dataframe tbody tr th {\n",
       "        vertical-align: top;\n",
       "    }\n",
       "\n",
       "    .dataframe thead th {\n",
       "        text-align: right;\n",
       "    }\n",
       "</style>\n",
       "<table border=\"1\" class=\"dataframe\">\n",
       "  <thead>\n",
       "    <tr style=\"text-align: right;\">\n",
       "      <th></th>\n",
       "      <th>DATAFILE_AS_OF</th>\n",
       "      <th>REPORT_YEAR</th>\n",
       "      <th>REPORT_NUMBER</th>\n",
       "      <th>SUPPLEMENTAL_NUMBER</th>\n",
       "      <th>OPERATOR_ID</th>\n",
       "      <th>PARTA2NAMEOFCOMP</th>\n",
       "      <th>PARTA2NAMEOFPARENT_COM</th>\n",
       "      <th>PARTA3NAME</th>\n",
       "      <th>PARTA3TITLE</th>\n",
       "      <th>PARTA3EMAIL</th>\n",
       "      <th>...</th>\n",
       "      <th>PARTA4ZIP</th>\n",
       "      <th>REPORT_SUBMISSION_TYPE</th>\n",
       "      <th>REPORT_DATE</th>\n",
       "      <th>FILING_DATE</th>\n",
       "      <th>FORM_REV</th>\n",
       "      <th>PARTNPREPNAME</th>\n",
       "      <th>PARTNPREPTITLE</th>\n",
       "      <th>PARTNPREPEMAIL</th>\n",
       "      <th>PARTNPREPPHONE</th>\n",
       "      <th>PARTNPREPFAX</th>\n",
       "    </tr>\n",
       "  </thead>\n",
       "  <tbody>\n",
       "    <tr>\n",
       "      <th>60</th>\n",
       "      <td>2019-08-01 14:16:07</td>\n",
       "      <td>2013</td>\n",
       "      <td>20140140</td>\n",
       "      <td>358</td>\n",
       "      <td>22777</td>\n",
       "      <td>WISCONSIN ELECTRIC POWER COMPANY DBA WE ENERGIES</td>\n",
       "      <td>Wisconsin Energy Corporation</td>\n",
       "      <td>Tim Strommen</td>\n",
       "      <td>MANAGER REGULATORY COMPLIANCE</td>\n",
       "      <td>tim.strommen@we-energies.com</td>\n",
       "      <td>...</td>\n",
       "      <td>53203</td>\n",
       "      <td>INITIAL</td>\n",
       "      <td>2014-03-11 11:47:20</td>\n",
       "      <td>2014-03-11 11:47:20</td>\n",
       "      <td>7100.3-1 (Rev. 06-2011)</td>\n",
       "      <td>Todd Gretebeck</td>\n",
       "      <td>Manager - LNG/Propane Plant Operations</td>\n",
       "      <td>todd.gretebeck@we-energies.com</td>\n",
       "      <td>(414) 221-5378</td>\n",
       "      <td>(414) 571-3593</td>\n",
       "    </tr>\n",
       "    <tr>\n",
       "      <th>170</th>\n",
       "      <td>2019-08-01 14:20:39</td>\n",
       "      <td>2016</td>\n",
       "      <td>20170352</td>\n",
       "      <td>657</td>\n",
       "      <td>1800</td>\n",
       "      <td>KEYSPAN ENERGY DELIVERY - NY CITY</td>\n",
       "      <td>National Grid</td>\n",
       "      <td>Thomas Smith</td>\n",
       "      <td>Director, NY LNG</td>\n",
       "      <td>tsmith3@nationalgrid.com</td>\n",
       "      <td>...</td>\n",
       "      <td>02451</td>\n",
       "      <td>INITIAL</td>\n",
       "      <td>2017-02-03 06:43:31</td>\n",
       "      <td>2017-02-03 06:43:31</td>\n",
       "      <td>7100.3-1 (Rev. 10-2014)</td>\n",
       "      <td>Steve Sechovicz</td>\n",
       "      <td>Principle Engineer</td>\n",
       "      <td>stephen.sechovicz@nationalgrid.com</td>\n",
       "      <td>(617)822-5412</td>\n",
       "      <td>NaN</td>\n",
       "    </tr>\n",
       "    <tr>\n",
       "      <th>157</th>\n",
       "      <td>2019-08-01 14:12:58</td>\n",
       "      <td>2011</td>\n",
       "      <td>20120044</td>\n",
       "      <td>174</td>\n",
       "      <td>32220</td>\n",
       "      <td>GOLDEN PASS LNG TERMINAL, LLC</td>\n",
       "      <td>NaN</td>\n",
       "      <td>Steven Andrews</td>\n",
       "      <td>HSE Supervisor</td>\n",
       "      <td>steven.l.andrews@gpterminal.com</td>\n",
       "      <td>...</td>\n",
       "      <td>77002</td>\n",
       "      <td>SUPPLEMENTAL</td>\n",
       "      <td>2012-03-13 13:25:41</td>\n",
       "      <td>2013-02-25 15:08:59</td>\n",
       "      <td>7100.3-1 (Rev. 06-2011)</td>\n",
       "      <td>Steven Andrews</td>\n",
       "      <td>HSE Supervisor</td>\n",
       "      <td>steven.l.andrews@gpterminal.com</td>\n",
       "      <td>(409) 971-4205</td>\n",
       "      <td>(409) 971-4275</td>\n",
       "    </tr>\n",
       "    <tr>\n",
       "      <th>19</th>\n",
       "      <td>2019-08-01 14:16:07</td>\n",
       "      <td>2013</td>\n",
       "      <td>20140099</td>\n",
       "      <td>309</td>\n",
       "      <td>4350</td>\n",
       "      <td>ELIZABETHTOWN GAS CO</td>\n",
       "      <td>AGL Resources</td>\n",
       "      <td>Ralph T. McCollum</td>\n",
       "      <td>Sr. Compliance Engineer</td>\n",
       "      <td>rmccollu@aglresources.com</td>\n",
       "      <td>...</td>\n",
       "      <td>07922</td>\n",
       "      <td>INITIAL</td>\n",
       "      <td>2014-01-30 11:14:59</td>\n",
       "      <td>2014-01-30 11:14:59</td>\n",
       "      <td>7100.3-1 (Rev. 06-2011)</td>\n",
       "      <td>Ralph T. McCollum</td>\n",
       "      <td>Sr. Compliance Engineer</td>\n",
       "      <td>rmccollu@aglresources.com</td>\n",
       "      <td>(404) 584-3733</td>\n",
       "      <td>(404) 584-4807</td>\n",
       "    </tr>\n",
       "    <tr>\n",
       "      <th>115</th>\n",
       "      <td>2019-08-01 14:12:58</td>\n",
       "      <td>2011</td>\n",
       "      <td>20120039</td>\n",
       "      <td>285</td>\n",
       "      <td>13299</td>\n",
       "      <td>NEW JERSEY NATURAL GAS CO</td>\n",
       "      <td>NaN</td>\n",
       "      <td>Kraig Sanders</td>\n",
       "      <td>Manager, Pressure Meas. and Transmission</td>\n",
       "      <td>ksanders@njng.com</td>\n",
       "      <td>...</td>\n",
       "      <td>07719</td>\n",
       "      <td>SUPPLEMENTAL</td>\n",
       "      <td>2012-03-09 13:23:51</td>\n",
       "      <td>2013-04-23 10:34:28</td>\n",
       "      <td>7100.3-1 (Rev. 06-2011)</td>\n",
       "      <td>Kraig Sanders</td>\n",
       "      <td>Manager, Pressure Meas. and Transmission</td>\n",
       "      <td>ksanders@njng.com</td>\n",
       "      <td>(732) 938-1188</td>\n",
       "      <td>(732) 919-0735</td>\n",
       "    </tr>\n",
       "  </tbody>\n",
       "</table>\n",
       "<p>5 rows × 25 columns</p>\n",
       "</div>"
      ],
      "text/plain": [
       "         DATAFILE_AS_OF  REPORT_YEAR  REPORT_NUMBER  SUPPLEMENTAL_NUMBER  \\\n",
       "60  2019-08-01 14:16:07         2013       20140140                  358   \n",
       "170 2019-08-01 14:20:39         2016       20170352                  657   \n",
       "157 2019-08-01 14:12:58         2011       20120044                  174   \n",
       "19  2019-08-01 14:16:07         2013       20140099                  309   \n",
       "115 2019-08-01 14:12:58         2011       20120039                  285   \n",
       "\n",
       "     OPERATOR_ID                                  PARTA2NAMEOFCOMP  \\\n",
       "60         22777  WISCONSIN ELECTRIC POWER COMPANY DBA WE ENERGIES   \n",
       "170         1800                 KEYSPAN ENERGY DELIVERY - NY CITY   \n",
       "157        32220                     GOLDEN PASS LNG TERMINAL, LLC   \n",
       "19          4350                              ELIZABETHTOWN GAS CO   \n",
       "115        13299                         NEW JERSEY NATURAL GAS CO   \n",
       "\n",
       "           PARTA2NAMEOFPARENT_COM         PARTA3NAME  \\\n",
       "60   Wisconsin Energy Corporation       Tim Strommen   \n",
       "170                 National Grid       Thomas Smith   \n",
       "157                           NaN     Steven Andrews   \n",
       "19                  AGL Resources  Ralph T. McCollum   \n",
       "115                           NaN      Kraig Sanders   \n",
       "\n",
       "                                  PARTA3TITLE  \\\n",
       "60              MANAGER REGULATORY COMPLIANCE   \n",
       "170                          Director, NY LNG   \n",
       "157                            HSE Supervisor   \n",
       "19                    Sr. Compliance Engineer   \n",
       "115  Manager, Pressure Meas. and Transmission   \n",
       "\n",
       "                         PARTA3EMAIL  ... PARTA4ZIP REPORT_SUBMISSION_TYPE  \\\n",
       "60      tim.strommen@we-energies.com  ...     53203                INITIAL   \n",
       "170         tsmith3@nationalgrid.com  ...     02451                INITIAL   \n",
       "157  steven.l.andrews@gpterminal.com  ...     77002           SUPPLEMENTAL   \n",
       "19         rmccollu@aglresources.com  ...     07922                INITIAL   \n",
       "115                ksanders@njng.com  ...     07719           SUPPLEMENTAL   \n",
       "\n",
       "            REPORT_DATE         FILING_DATE                 FORM_REV  \\\n",
       "60  2014-03-11 11:47:20 2014-03-11 11:47:20  7100.3-1 (Rev. 06-2011)   \n",
       "170 2017-02-03 06:43:31 2017-02-03 06:43:31  7100.3-1 (Rev. 10-2014)   \n",
       "157 2012-03-13 13:25:41 2013-02-25 15:08:59  7100.3-1 (Rev. 06-2011)   \n",
       "19  2014-01-30 11:14:59 2014-01-30 11:14:59  7100.3-1 (Rev. 06-2011)   \n",
       "115 2012-03-09 13:23:51 2013-04-23 10:34:28  7100.3-1 (Rev. 06-2011)   \n",
       "\n",
       "         PARTNPREPNAME                            PARTNPREPTITLE  \\\n",
       "60      Todd Gretebeck    Manager - LNG/Propane Plant Operations   \n",
       "170    Steve Sechovicz                        Principle Engineer   \n",
       "157     Steven Andrews                            HSE Supervisor   \n",
       "19   Ralph T. McCollum                   Sr. Compliance Engineer   \n",
       "115      Kraig Sanders  Manager, Pressure Meas. and Transmission   \n",
       "\n",
       "                         PARTNPREPEMAIL  PARTNPREPPHONE    PARTNPREPFAX  \n",
       "60       todd.gretebeck@we-energies.com  (414) 221-5378  (414) 571-3593  \n",
       "170  stephen.sechovicz@nationalgrid.com   (617)822-5412             NaN  \n",
       "157     steven.l.andrews@gpterminal.com  (409) 971-4205  (409) 971-4275  \n",
       "19            rmccollu@aglresources.com  (404) 584-3733  (404) 584-4807  \n",
       "115                   ksanders@njng.com  (732) 938-1188  (732) 919-0735  \n",
       "\n",
       "[5 rows x 25 columns]"
      ]
     },
     "execution_count": 16,
     "metadata": {},
     "output_type": "execute_result"
    }
   ],
   "source": [
    "gas = pd.concat([pd.read_excel(f'../data/gas_2010_present_2019-08-09/{file}', skiprows=1) for file in gas_files[:3]], sort=False)\n",
    "gas = gas.reset_index(drop = True)\n",
    "\n",
    "gas.sample(5)"
   ]
  },
  {
   "cell_type": "markdown",
   "metadata": {},
   "source": [
    "The warning stems from the fact that the PARTA4NAMEOFCOMP columns was dropped, starting from 2014 (see below). Fortunately, we can use the field \"PARTA2NAMEOFCOMP\" and \"PARTA2NAMEOFPARENT_COM\" to get the information."
   ]
  },
  {
   "cell_type": "code",
   "execution_count": 17,
   "metadata": {},
   "outputs": [
    {
     "data": {
      "text/plain": [
       "{'PARTA4NAMEOFCOMP'}"
      ]
     },
     "execution_count": 17,
     "metadata": {},
     "output_type": "execute_result"
    }
   ],
   "source": [
    "gas_columns_2010 = pd.read_excel('../data/gas_2010_present_2019-08-09/annual_liquefied_natural_gas_2010.xlsx', skiprows=1, skipfooter=999).columns.tolist()\n",
    "gas_columns_2014 = pd.read_excel('../data/gas_2010_present_2019-08-09/annual_liquefied_natural_gas_2014.xlsx', skiprows=1, skipfooter=999).columns.tolist()\n",
    "set(gas_columns_2010) - set(gas_columns_2014)"
   ]
  },
  {
   "cell_type": "markdown",
   "metadata": {},
   "source": [
    "## 2.4. Where do incidents occur? Regular, or LNG pipelines?"
   ]
  },
  {
   "cell_type": "markdown",
   "metadata": {},
   "source": [
    "### 2.4.1 Are there operators who operate both regular and LNG pipelines?"
   ]
  },
  {
   "cell_type": "code",
   "execution_count": 18,
   "metadata": {},
   "outputs": [
    {
     "data": {
      "text/plain": [
       "[180, 630, 792, 909, 1088]"
      ]
     },
     "execution_count": 18,
     "metadata": {},
     "output_type": "execute_result"
    }
   ],
   "source": [
    "gas_operators = np.unique(gas['OPERATOR_ID']).tolist()\n",
    "gas_operators[:5]"
   ]
  },
  {
   "cell_type": "code",
   "execution_count": 19,
   "metadata": {},
   "outputs": [
    {
     "data": {
      "text/plain": [
       "[300, 395, 401, 402, 473]"
      ]
     },
     "execution_count": 19,
     "metadata": {},
     "output_type": "execute_result"
    }
   ],
   "source": [
    "pipeline_operators = np.unique(pipelines['OPERATOR_ID']).tolist()\n",
    "pipeline_operators[:5]"
   ]
  },
  {
   "cell_type": "code",
   "execution_count": 20,
   "metadata": {},
   "outputs": [
    {
     "name": "stdout",
     "output_type": "stream",
     "text": [
      "{31636}\n"
     ]
    }
   ],
   "source": [
    "common_operators = set(gas_operators).intersection(set(pipeline_operators))\n",
    "print(common_operators)"
   ]
  },
  {
   "cell_type": "markdown",
   "metadata": {},
   "source": [
    "Only one company occurs on both lists."
   ]
  },
  {
   "cell_type": "code",
   "execution_count": 21,
   "metadata": {},
   "outputs": [
    {
     "data": {
      "text/plain": [
       "['NORTHERN STATES POWER CO OF MINNESOTA']"
      ]
     },
     "execution_count": 21,
     "metadata": {},
     "output_type": "execute_result"
    }
   ],
   "source": [
    "pipelines.loc[pipelines['OPERATOR_ID'].isin(common_operators) & (pipelines['REPORT_YEAR'] == 2017)]['PARTA2NAMEOFCOMP'].tolist()"
   ]
  },
  {
   "cell_type": "markdown",
   "metadata": {},
   "source": [
    "### 2.4.2 Where do the accidents occur?"
   ]
  },
  {
   "cell_type": "code",
   "execution_count": 22,
   "metadata": {},
   "outputs": [
    {
     "data": {
      "text/html": [
       "<div>\n",
       "<style scoped>\n",
       "    .dataframe tbody tr th:only-of-type {\n",
       "        vertical-align: middle;\n",
       "    }\n",
       "\n",
       "    .dataframe tbody tr th {\n",
       "        vertical-align: top;\n",
       "    }\n",
       "\n",
       "    .dataframe thead th {\n",
       "        text-align: right;\n",
       "    }\n",
       "</style>\n",
       "<table border=\"1\" class=\"dataframe\">\n",
       "  <thead>\n",
       "    <tr style=\"text-align: right;\">\n",
       "      <th></th>\n",
       "      <th>DATAFILE_AS_OF</th>\n",
       "      <th>SIGNIFICANT</th>\n",
       "      <th>SERIOUS</th>\n",
       "      <th>IPE</th>\n",
       "      <th>IA_IPE</th>\n",
       "      <th>OM_IPE</th>\n",
       "      <th>REPORT_NUMBER</th>\n",
       "      <th>SUPPLEMENTAL_NUMBER</th>\n",
       "      <th>REPORT_RECEIVED_DATE</th>\n",
       "      <th>REPORT_TYPE</th>\n",
       "      <th>...</th>\n",
       "      <th>PREPARER_TITLE</th>\n",
       "      <th>PREPARER_EMAIL</th>\n",
       "      <th>PREPARER_TELEPHONE</th>\n",
       "      <th>PREPARER_FAX</th>\n",
       "      <th>PREPARED_DATE</th>\n",
       "      <th>AUTHORIZER_NAME</th>\n",
       "      <th>AUTHORIZER_TITLE</th>\n",
       "      <th>AUTHORIZER_TELEPHONE</th>\n",
       "      <th>AUTHORIZER_EMAIL</th>\n",
       "      <th>NARRATIVE</th>\n",
       "    </tr>\n",
       "  </thead>\n",
       "  <tbody>\n",
       "  </tbody>\n",
       "</table>\n",
       "<p>0 rows × 606 columns</p>\n",
       "</div>"
      ],
      "text/plain": [
       "Empty DataFrame\n",
       "Columns: [DATAFILE_AS_OF, SIGNIFICANT, SERIOUS, IPE, IA_IPE, OM_IPE, REPORT_NUMBER, SUPPLEMENTAL_NUMBER, REPORT_RECEIVED_DATE, REPORT_TYPE, OPERATOR_ID, NAME, OPERATOR_STREET_ADDRESS, OPERATOR_CITY_NAME, OPERATOR_STATE_ABBREVIATION, OPERATOR_POSTAL_CODE, LOCAL_DATETIME, IYEAR, LOCATION_LATITUDE, LOCATION_LONGITUDE, NRC_RPT_NUM, NRC_RPT_DATETIME, COMMODITY_RELEASED_TYPE, COMMODITY_SUBTYPE, COMMODITY_DETAILS, BLEND_DETAILS, BIO_DIESEL_DETAILS, UNINTENTIONAL_RELEASE_BBLS, INTENTIONAL_RELEASE_BBLS, RECOVERED_BBLS, NET_LOSS_BBLS, FATALITY_IND, NUM_EMP_FATALITIES, NUM_CONTR_FATALITIES, NUM_ER_FATALITIES, NUM_WORKER_FATALITIES, NUM_GP_FATALITIES, FATAL, INJURY_IND, NUM_EMP_INJURIES, NUM_CONTR_INJURIES, NUM_ER_INJURIES, NUM_WORKER_INJURIES, NUM_GP_INJURIES, INJURE, SHUTDOWN_DUE_ACCIDENT_IND, SHUTDOWN_EXPLAIN, SHUTDOWN_DATETIME, RESTART_DATETIME, STILL_SHUTDOWN_IND, IGNITE_IND, EXPLODE_IND, NUM_PUB_EVACUATED, INCIDENT_IDENTIFIED_DATETIME, ON_SITE_DATETIME, ON_OFF_SHORE, ONSHORE_STATE_ABBREVIATION, ONSHORE_POSTAL_CODE, ONSHORE_CITY_NAME, ONSHORE_COUNTY_NAME, DESIGNATED_LOCATION, DESIGNATED_NAME, PIPE_FAC_NAME, SEGMENT_NAME, FEDERAL, LOCATION_TYPE, INCIDENT_AREA_TYPE, INCIDENT_AREA_SUBTYPE, INCIDENT_AREA_DETAILS, DEPTH_OF_COVER, CROSSING, BRIDGE_CROSSING_IND, BRIDGE_TYPE, RAILROAD_CROSSING_IND, RAILROAD_TYPE, ROAD_CROSSING_IND, ROAD_TYPE, WATER_CROSSING_IND, WATER_TYPE, WATER_NAME, WATER_DEPTH, WATER_SUBTYPE, OFF_WATER_DEPTH, OFF_ACCIDENT_ORIGIN, OFFSHORE_STATE_ABBREVIATION, OFF_INSTATE_AREA, OFF_INSTATE_BLOCK, OFFSHORE_COUNTY_NAME, OFF_OCS_AREA, OFF_OCS_BLOCK, OFF_AREA_ACCIDENT_TYPE, PIPE_FACILITY_TYPE, SYSTEM_PART_INVOLVED, SYSTEM_SUBPART_INVOLVED, ITEM_INVOLVED, PIPE_TYPE, PIPE_DIAMETER, PIPE_WALL_THICKNESS, PIPE_SMYS, PIPE_SPECIFICATION, ...]\n",
       "Index: []\n",
       "\n",
       "[0 rows x 606 columns]"
      ]
     },
     "execution_count": 22,
     "metadata": {},
     "output_type": "execute_result"
    }
   ],
   "source": [
    "incidents.loc[incidents['OPERATOR_ID'] == 31636]"
   ]
  },
  {
   "cell_type": "markdown",
   "metadata": {},
   "source": [
    "Our common operators has no incidents, so we can ignore this segment."
   ]
  },
  {
   "cell_type": "code",
   "execution_count": 23,
   "metadata": {},
   "outputs": [
    {
     "data": {
      "text/plain": [
       "3814"
      ]
     },
     "execution_count": 23,
     "metadata": {},
     "output_type": "execute_result"
    }
   ],
   "source": [
    "regular_pipeline_incidents = incidents['OPERATOR_ID'].isin(pipelines['OPERATOR_ID']).sum()\n",
    "regular_pipeline_incidents"
   ]
  },
  {
   "cell_type": "code",
   "execution_count": 24,
   "metadata": {},
   "outputs": [
    {
     "data": {
      "text/plain": [
       "0"
      ]
     },
     "execution_count": 24,
     "metadata": {},
     "output_type": "execute_result"
    }
   ],
   "source": [
    "nlg_pipeline_incidents = incidents['OPERATOR_ID'].isin(gas['OPERATOR_ID']).sum()\n",
    "nlg_pipeline_incidents"
   ]
  },
  {
   "cell_type": "markdown",
   "metadata": {},
   "source": [
    "Looks like we can ignore this second dataset for our analysis."
   ]
  },
  {
   "cell_type": "markdown",
   "metadata": {},
   "source": [
    "## 2.5 FERC Notices"
   ]
  },
  {
   "cell_type": "code",
   "execution_count": 25,
   "metadata": {},
   "outputs": [
    {
     "data": {
      "text/plain": [
       "27890"
      ]
     },
     "execution_count": 25,
     "metadata": {},
     "output_type": "execute_result"
    }
   ],
   "source": [
    "notices = pd.read_csv('../data/ferc_notices_2019-08-01.csv')\n",
    "\n",
    "len(notices)"
   ]
  },
  {
   "cell_type": "markdown",
   "metadata": {},
   "source": [
    "Check whether any notes were read incorrectly (too many requests)."
   ]
  },
  {
   "cell_type": "code",
   "execution_count": 26,
   "metadata": {},
   "outputs": [
    {
     "data": {
      "text/plain": [
       "False    27890\n",
       "Name: full-text, dtype: int64"
      ]
     },
     "execution_count": 26,
     "metadata": {},
     "output_type": "execute_result"
    }
   ],
   "source": [
    "notices['full-text'].str.contains('too manyrequests').value_counts()"
   ]
  }
 ],
 "metadata": {
  "kernelspec": {
   "display_name": "oil_industry",
   "language": "python",
   "name": "oil_industry"
  },
  "language_info": {
   "codemirror_mode": {
    "name": "ipython",
    "version": 3
   },
   "file_extension": ".py",
   "mimetype": "text/x-python",
   "name": "python",
   "nbconvert_exporter": "python",
   "pygments_lexer": "ipython3",
   "version": "3.6.8"
  },
  "pycharm": {
   "stem_cell": {
    "cell_type": "raw",
    "metadata": {
     "collapsed": false
    },
    "source": []
   }
  }
 },
 "nbformat": 4,
 "nbformat_minor": 4
}
