{
 "cells": [
  {
   "cell_type": "markdown",
   "metadata": {
    "pycharm": {
     "name": "#%% md\n"
    }
   },
   "source": [
    "\n",
    "# 2 - Data exploration\n"
   ]
  },
  {
   "cell_type": "code",
   "execution_count": 1,
   "metadata": {
    "collapsed": false,
    "jupyter": {
     "outputs_hidden": false
    },
    "pycharm": {
     "is_executing": false,
     "name": "#%% \n"
    }
   },
   "outputs": [],
   "source": [
    "# import parameters\n",
    "import pandas as pd\n",
    "import matplotlib.pyplot as plt\n",
    "import numpy as np\n",
    "\n",
    "plt.rcParams[\"figure.figsize\"] = (20,10)"
   ]
  },
  {
   "cell_type": "markdown",
   "metadata": {},
   "source": [
    "## 2.1 Incidents data overview"
   ]
  },
  {
   "cell_type": "code",
   "execution_count": 2,
   "metadata": {
    "collapsed": false,
    "jupyter": {
     "outputs_hidden": false
    },
    "pycharm": {
     "is_executing": false,
     "name": "#%%\n"
    }
   },
   "outputs": [
    {
     "data": {
      "text/html": [
       "<div>\n",
       "<style scoped>\n",
       "    .dataframe tbody tr th:only-of-type {\n",
       "        vertical-align: middle;\n",
       "    }\n",
       "\n",
       "    .dataframe tbody tr th {\n",
       "        vertical-align: top;\n",
       "    }\n",
       "\n",
       "    .dataframe thead th {\n",
       "        text-align: right;\n",
       "    }\n",
       "</style>\n",
       "<table border=\"1\" class=\"dataframe\">\n",
       "  <thead>\n",
       "    <tr style=\"text-align: right;\">\n",
       "      <th></th>\n",
       "      <th>DATAFILE_AS_OF</th>\n",
       "      <th>SIGNIFICANT</th>\n",
       "      <th>SERIOUS</th>\n",
       "      <th>IPE</th>\n",
       "      <th>IA_IPE</th>\n",
       "      <th>OM_IPE</th>\n",
       "      <th>REPORT_NUMBER</th>\n",
       "      <th>SUPPLEMENTAL_NUMBER</th>\n",
       "      <th>REPORT_RECEIVED_DATE</th>\n",
       "      <th>REPORT_TYPE</th>\n",
       "      <th>...</th>\n",
       "      <th>PREPARER_TITLE</th>\n",
       "      <th>PREPARER_EMAIL</th>\n",
       "      <th>PREPARER_TELEPHONE</th>\n",
       "      <th>PREPARER_FAX</th>\n",
       "      <th>PREPARED_DATE</th>\n",
       "      <th>AUTHORIZER_NAME</th>\n",
       "      <th>AUTHORIZER_TITLE</th>\n",
       "      <th>AUTHORIZER_TELEPHONE</th>\n",
       "      <th>AUTHORIZER_EMAIL</th>\n",
       "      <th>NARRATIVE</th>\n",
       "    </tr>\n",
       "  </thead>\n",
       "  <tbody>\n",
       "    <tr>\n",
       "      <th>553</th>\n",
       "      <td>2019-07-31 08:37:40</td>\n",
       "      <td>NO</td>\n",
       "      <td>NO</td>\n",
       "      <td>NO</td>\n",
       "      <td>NO</td>\n",
       "      <td>NO</td>\n",
       "      <td>20110333</td>\n",
       "      <td>18579</td>\n",
       "      <td>2011-09-09 17:22:23</td>\n",
       "      <td>SUPPLEMENTAL FINAL</td>\n",
       "      <td>...</td>\n",
       "      <td>PIPELINE SAFETY ADVISOR</td>\n",
       "      <td>thad.massengale@exxonmobil.com</td>\n",
       "      <td>713-656-2258</td>\n",
       "      <td>713-656-8232</td>\n",
       "      <td>2011-09-09</td>\n",
       "      <td>GARY W. HARTMANN</td>\n",
       "      <td>SHE MANAGER</td>\n",
       "      <td>713-656-0227</td>\n",
       "      <td>gary.w.hartmann@exxonmobil.com</td>\n",
       "      <td>INBOARD SEAL FAILURE ON PUMP</td>\n",
       "    </tr>\n",
       "    <tr>\n",
       "      <th>2390</th>\n",
       "      <td>2019-07-31 08:37:40</td>\n",
       "      <td>NO</td>\n",
       "      <td>NO</td>\n",
       "      <td>NO</td>\n",
       "      <td>NO</td>\n",
       "      <td>NO</td>\n",
       "      <td>20160054</td>\n",
       "      <td>21158</td>\n",
       "      <td>2016-02-25 09:58:08</td>\n",
       "      <td>ORIGINAL FINAL</td>\n",
       "      <td>...</td>\n",
       "      <td>DOT COORDINATOR</td>\n",
       "      <td>cully.r.farhar@p66.com</td>\n",
       "      <td>303-862-1189</td>\n",
       "      <td>NaN</td>\n",
       "      <td>2016-02-25</td>\n",
       "      <td>TODD TULLIO</td>\n",
       "      <td>REGULATORY COMPLIANCE MANAGER</td>\n",
       "      <td>832-765-1636</td>\n",
       "      <td>todd.l.tullio@p66.com</td>\n",
       "      <td>DURING ROUTINE OPERATOR ROUNDS AT APPROXIMATEL...</td>\n",
       "    </tr>\n",
       "    <tr>\n",
       "      <th>1474</th>\n",
       "      <td>2019-07-31 08:37:40</td>\n",
       "      <td>NO</td>\n",
       "      <td>NO</td>\n",
       "      <td>YES</td>\n",
       "      <td>NO</td>\n",
       "      <td>NO</td>\n",
       "      <td>20140042</td>\n",
       "      <td>20030</td>\n",
       "      <td>2014-02-05 16:08:45</td>\n",
       "      <td>SUPPLEMENTAL FINAL</td>\n",
       "      <td>...</td>\n",
       "      <td>COMPLIANCE SPECIALIST</td>\n",
       "      <td>cclark@buckeye.com</td>\n",
       "      <td>734-777-8993</td>\n",
       "      <td>NaN</td>\n",
       "      <td>2015-01-07</td>\n",
       "      <td>CLAUDIA PANKOWSKI</td>\n",
       "      <td>DIRECTOR REGULATORY COMPLIANCE</td>\n",
       "      <td>610-904-4113</td>\n",
       "      <td>cpankowski@buckeye.com</td>\n",
       "      <td>ON JANUARY 8, 2014 AT APPROXIMATELY 12:57 AN O...</td>\n",
       "    </tr>\n",
       "    <tr>\n",
       "      <th>2113</th>\n",
       "      <td>2019-07-31 08:37:40</td>\n",
       "      <td>YES</td>\n",
       "      <td>NO</td>\n",
       "      <td>NO</td>\n",
       "      <td>NO</td>\n",
       "      <td>NO</td>\n",
       "      <td>20150246</td>\n",
       "      <td>20577</td>\n",
       "      <td>2015-07-08 16:03:54</td>\n",
       "      <td>SUPPLEMENTAL FINAL</td>\n",
       "      <td>...</td>\n",
       "      <td>REGULATORY COMPLIANCE COORDINATOR</td>\n",
       "      <td>neal.jones@oneok.com</td>\n",
       "      <td>580-395-6304</td>\n",
       "      <td>580-395-2933</td>\n",
       "      <td>2015-07-10</td>\n",
       "      <td>NEAL JONES</td>\n",
       "      <td>REGULATORY COMPLIANCE COORDINATOR</td>\n",
       "      <td>580-395-6304</td>\n",
       "      <td>neal.jones@oneok.com</td>\n",
       "      <td>ON TUESDAY, JUNE 16, 2015, AT 5:00 PM ONEOK EM...</td>\n",
       "    </tr>\n",
       "    <tr>\n",
       "      <th>1522</th>\n",
       "      <td>2019-07-31 08:37:40</td>\n",
       "      <td>NO</td>\n",
       "      <td>NO</td>\n",
       "      <td>NO</td>\n",
       "      <td>NO</td>\n",
       "      <td>NO</td>\n",
       "      <td>20140091</td>\n",
       "      <td>19121</td>\n",
       "      <td>2014-03-12 19:57:33</td>\n",
       "      <td>ORIGINAL FINAL</td>\n",
       "      <td>...</td>\n",
       "      <td>DOT COORDINATOR</td>\n",
       "      <td>jeff.blatchford@p66.com</td>\n",
       "      <td>918-977-4206</td>\n",
       "      <td>NaN</td>\n",
       "      <td>2014-03-12</td>\n",
       "      <td>TODD TULLIO</td>\n",
       "      <td>REGULATORY COMPLIANCE MANAGER</td>\n",
       "      <td>832-765-1636</td>\n",
       "      <td>todd.l.tullio@p66.com</td>\n",
       "      <td>FEBRUARY 28, 2013 AT APP. 14:29 THE MAINLINE I...</td>\n",
       "    </tr>\n",
       "  </tbody>\n",
       "</table>\n",
       "<p>5 rows × 606 columns</p>\n",
       "</div>"
      ],
      "text/plain": [
       "          DATAFILE_AS_OF SIGNIFICANT SERIOUS  IPE IA_IPE OM_IPE  \\\n",
       "553  2019-07-31 08:37:40          NO      NO   NO     NO     NO   \n",
       "2390 2019-07-31 08:37:40          NO      NO   NO     NO     NO   \n",
       "1474 2019-07-31 08:37:40          NO      NO  YES     NO     NO   \n",
       "2113 2019-07-31 08:37:40         YES      NO   NO     NO     NO   \n",
       "1522 2019-07-31 08:37:40          NO      NO   NO     NO     NO   \n",
       "\n",
       "      REPORT_NUMBER  SUPPLEMENTAL_NUMBER REPORT_RECEIVED_DATE  \\\n",
       "553        20110333                18579  2011-09-09 17:22:23   \n",
       "2390       20160054                21158  2016-02-25 09:58:08   \n",
       "1474       20140042                20030  2014-02-05 16:08:45   \n",
       "2113       20150246                20577  2015-07-08 16:03:54   \n",
       "1522       20140091                19121  2014-03-12 19:57:33   \n",
       "\n",
       "             REPORT_TYPE  ...                     PREPARER_TITLE  \\\n",
       "553   SUPPLEMENTAL FINAL  ...            PIPELINE SAFETY ADVISOR   \n",
       "2390      ORIGINAL FINAL  ...                    DOT COORDINATOR   \n",
       "1474  SUPPLEMENTAL FINAL  ...              COMPLIANCE SPECIALIST   \n",
       "2113  SUPPLEMENTAL FINAL  ...  REGULATORY COMPLIANCE COORDINATOR   \n",
       "1522      ORIGINAL FINAL  ...                    DOT COORDINATOR   \n",
       "\n",
       "                      PREPARER_EMAIL PREPARER_TELEPHONE  PREPARER_FAX  \\\n",
       "553   thad.massengale@exxonmobil.com       713-656-2258  713-656-8232   \n",
       "2390          cully.r.farhar@p66.com       303-862-1189           NaN   \n",
       "1474              cclark@buckeye.com       734-777-8993           NaN   \n",
       "2113            neal.jones@oneok.com       580-395-6304  580-395-2933   \n",
       "1522         jeff.blatchford@p66.com       918-977-4206           NaN   \n",
       "\n",
       "     PREPARED_DATE    AUTHORIZER_NAME                   AUTHORIZER_TITLE  \\\n",
       "553     2011-09-09   GARY W. HARTMANN                        SHE MANAGER   \n",
       "2390    2016-02-25        TODD TULLIO      REGULATORY COMPLIANCE MANAGER   \n",
       "1474    2015-01-07  CLAUDIA PANKOWSKI     DIRECTOR REGULATORY COMPLIANCE   \n",
       "2113    2015-07-10         NEAL JONES  REGULATORY COMPLIANCE COORDINATOR   \n",
       "1522    2014-03-12        TODD TULLIO      REGULATORY COMPLIANCE MANAGER   \n",
       "\n",
       "      AUTHORIZER_TELEPHONE                AUTHORIZER_EMAIL  \\\n",
       "553           713-656-0227  gary.w.hartmann@exxonmobil.com   \n",
       "2390          832-765-1636           todd.l.tullio@p66.com   \n",
       "1474          610-904-4113          cpankowski@buckeye.com   \n",
       "2113          580-395-6304            neal.jones@oneok.com   \n",
       "1522          832-765-1636           todd.l.tullio@p66.com   \n",
       "\n",
       "                                              NARRATIVE  \n",
       "553                        INBOARD SEAL FAILURE ON PUMP  \n",
       "2390  DURING ROUTINE OPERATOR ROUNDS AT APPROXIMATEL...  \n",
       "1474  ON JANUARY 8, 2014 AT APPROXIMATELY 12:57 AN O...  \n",
       "2113  ON TUESDAY, JUNE 16, 2015, AT 5:00 PM ONEOK EM...  \n",
       "1522  FEBRUARY 28, 2013 AT APP. 14:29 THE MAINLINE I...  \n",
       "\n",
       "[5 rows x 606 columns]"
      ]
     },
     "execution_count": 2,
     "metadata": {},
     "output_type": "execute_result"
    }
   ],
   "source": [
    "incidents = pd.read_excel('../data/incidents_2019-08-09/hl2010toPresent.xlsx', \n",
    "                          sheet_name=1)\n",
    "\n",
    "incidents.sample(5)"
   ]
  },
  {
   "cell_type": "code",
   "execution_count": 3,
   "metadata": {
    "collapsed": false,
    "jupyter": {
     "outputs_hidden": false
    },
    "pycharm": {
     "is_executing": false,
     "name": "#%%\n"
    }
   },
   "outputs": [
    {
     "data": {
      "text/plain": [
       "ENTERPRISE CRUDE PIPELINE LLC          276\n",
       "ENTERPRISE PRODUCTS OPERATING LLC      214\n",
       "SUNOCO PIPELINE L.P.                   211\n",
       "PLAINS PIPELINE, L.P.                  203\n",
       "MAGELLAN PIPELINE COMPANY, LP          180\n",
       "COLONIAL PIPELINE CO                   177\n",
       "BUCKEYE PARTNERS, LP                   148\n",
       "PHILLIPS 66 PIPELINE LLC               121\n",
       "KINDER MORGAN LIQUID TERMINALS, LLC    117\n",
       "MARATHON PIPE LINE LLC                 111\n",
       "Name: NAME, dtype: int64"
      ]
     },
     "execution_count": 3,
     "metadata": {},
     "output_type": "execute_result"
    }
   ],
   "source": [
    "incidents['NAME'].value_counts().head(10)"
   ]
  },
  {
   "cell_type": "code",
   "execution_count": 4,
   "metadata": {
    "collapsed": false,
    "jupyter": {
     "outputs_hidden": false
    },
    "pycharm": {
     "name": "#%%\n"
    }
   },
   "outputs": [
    {
     "data": {
      "text/plain": [
       "30829    282\n",
       "31618    214\n",
       "18718    211\n",
       "300      202\n",
       "22610    180\n",
       "2552     177\n",
       "31684    155\n",
       "1845     148\n",
       "26041    117\n",
       "32109    112\n",
       "Name: OPERATOR_ID, dtype: int64"
      ]
     },
     "execution_count": 4,
     "metadata": {},
     "output_type": "execute_result"
    }
   ],
   "source": [
    "incidents['OPERATOR_ID'].value_counts().head(10)"
   ]
  },
  {
   "cell_type": "code",
   "execution_count": 5,
   "metadata": {},
   "outputs": [
    {
     "data": {
      "text/plain": [
       "array(['REFINED AND/OR PETROLEUM PRODUCT (NON-HVL) WHICH IS A LIQUID AT AMBIENT CONDITIONS',\n",
       "       'CO2 (CARBON DIOXIDE)',\n",
       "       'HVL OR OTHER FLAMMABLE OR TOXIC FLUID WHICH IS A GAS AT AMBIENT CONDITIONS',\n",
       "       'CRUDE OIL',\n",
       "       'BIOFUEL / ALTERNATIVE FUEL(INCLUDING ETHANOL BLENDS)'],\n",
       "      dtype=object)"
      ]
     },
     "execution_count": 5,
     "metadata": {},
     "output_type": "execute_result"
    }
   ],
   "source": [
    "incidents['COMMODITY_RELEASED_TYPE'].unique()"
   ]
  },
  {
   "cell_type": "markdown",
   "metadata": {},
   "source": [
    "There seem to be some minor discrepancies between ID and name. Matching every ID to its most common company name should fix it. "
   ]
  },
  {
   "cell_type": "code",
   "execution_count": 6,
   "metadata": {},
   "outputs": [
    {
     "data": {
      "text/plain": [
       "<matplotlib.axes._subplots.AxesSubplot at 0x7ff0be749a90>"
      ]
     },
     "execution_count": 6,
     "metadata": {},
     "output_type": "execute_result"
    },
    {
     "data": {
      "image/png": "[encoded data removed]",
      "text/plain": [
       "<Figure size 1440x720 with 1 Axes>"
      ]
     },
     "metadata": {
      "needs_background": "light"
     },
     "output_type": "display_data"
    }
   ],
   "source": [
    "incidents['OPERATOR_ID'].value_counts().hist(bins=30, figsize=(20, 10))"
   ]
  },
  {
   "cell_type": "code",
   "execution_count": 7,
   "metadata": {},
   "outputs": [
    {
     "data": {
      "text/plain": [
       "3819"
      ]
     },
     "execution_count": 7,
     "metadata": {},
     "output_type": "execute_result"
    }
   ],
   "source": [
    "len(incidents)"
   ]
  },
  {
   "cell_type": "markdown",
   "metadata": {},
   "source": [
    "## 2.2 Oil pipeline data"
   ]
  },
  {
   "cell_type": "code",
   "execution_count": 8,
   "metadata": {},
   "outputs": [
    {
     "data": {
      "text/html": [
       "<div>\n",
       "<style scoped>\n",
       "    .dataframe tbody tr th:only-of-type {\n",
       "        vertical-align: middle;\n",
       "    }\n",
       "\n",
       "    .dataframe tbody tr th {\n",
       "        vertical-align: top;\n",
       "    }\n",
       "\n",
       "    .dataframe thead th {\n",
       "        text-align: right;\n",
       "    }\n",
       "</style>\n",
       "<table border=\"1\" class=\"dataframe\">\n",
       "  <thead>\n",
       "    <tr style=\"text-align: right;\">\n",
       "      <th></th>\n",
       "      <th>DATAFILE_AS_OF</th>\n",
       "      <th>REPORT_YEAR</th>\n",
       "      <th>REPORT_NUMBER</th>\n",
       "      <th>SUPPLEMENTAL_NUMBER</th>\n",
       "      <th>OPERATOR_ID</th>\n",
       "      <th>PARTA2NAMEOFCOMP</th>\n",
       "      <th>PARTA4STREET</th>\n",
       "      <th>PARTA4CITY</th>\n",
       "      <th>PARTA4STATE</th>\n",
       "      <th>PARTA4ZIP</th>\n",
       "      <th>...</th>\n",
       "      <th>PARTE2010HF</th>\n",
       "      <th>PARTE2010LF</th>\n",
       "      <th>PARTE2010TOTAL</th>\n",
       "      <th>PARTETOTAL</th>\n",
       "      <th>PARTETOTALHF</th>\n",
       "      <th>PARTETOTALLF</th>\n",
       "      <th>REPORT_SUBMISSION_TYPE</th>\n",
       "      <th>REPORT_DATE</th>\n",
       "      <th>FILING_DATE</th>\n",
       "      <th>FORM_REV</th>\n",
       "    </tr>\n",
       "  </thead>\n",
       "  <tbody>\n",
       "    <tr>\n",
       "      <th>57</th>\n",
       "      <td>2019-08-01 13:10:42</td>\n",
       "      <td>2010</td>\n",
       "      <td>20120105</td>\n",
       "      <td>11136</td>\n",
       "      <td>5524</td>\n",
       "      <td>FOUR STAR OIL &amp; GAS CO</td>\n",
       "      <td>1400 Smith Street Houston</td>\n",
       "      <td>ODESSA</td>\n",
       "      <td>TX</td>\n",
       "      <td>797002</td>\n",
       "      <td>...</td>\n",
       "      <td>0.0</td>\n",
       "      <td>0.0</td>\n",
       "      <td>0.0</td>\n",
       "      <td>15.100</td>\n",
       "      <td>15.100</td>\n",
       "      <td>0.0</td>\n",
       "      <td>INITIAL</td>\n",
       "      <td>2012-06-01 10:22:46</td>\n",
       "      <td>2012-06-01 10:22:46</td>\n",
       "      <td>7000-1.1 (Rev. 06-2011)</td>\n",
       "    </tr>\n",
       "    <tr>\n",
       "      <th>131</th>\n",
       "      <td>2019-08-01 13:10:42</td>\n",
       "      <td>2010</td>\n",
       "      <td>20110049</td>\n",
       "      <td>10049</td>\n",
       "      <td>21359</td>\n",
       "      <td>SASOL NORTH AMERICA</td>\n",
       "      <td>900 Threadneedle</td>\n",
       "      <td>WESTLAKE</td>\n",
       "      <td>TX</td>\n",
       "      <td>77079</td>\n",
       "      <td>...</td>\n",
       "      <td>0.0</td>\n",
       "      <td>0.0</td>\n",
       "      <td>0.0</td>\n",
       "      <td>0.300</td>\n",
       "      <td>0.300</td>\n",
       "      <td>0.0</td>\n",
       "      <td>INITIAL</td>\n",
       "      <td>2011-08-04 14:01:42</td>\n",
       "      <td>2011-08-04 14:01:42</td>\n",
       "      <td>7000-1.1 (Rev. 06-2011)</td>\n",
       "    </tr>\n",
       "    <tr>\n",
       "      <th>16</th>\n",
       "      <td>2019-08-01 13:10:42</td>\n",
       "      <td>2010</td>\n",
       "      <td>20110001</td>\n",
       "      <td>10001</td>\n",
       "      <td>1541</td>\n",
       "      <td>BP PIPELINES (ALASKA), INC</td>\n",
       "      <td>900 E Benson Blvd</td>\n",
       "      <td>ANCHORAGE</td>\n",
       "      <td>AK</td>\n",
       "      <td>99519</td>\n",
       "      <td>...</td>\n",
       "      <td>0.0</td>\n",
       "      <td>0.0</td>\n",
       "      <td>0.0</td>\n",
       "      <td>10.531</td>\n",
       "      <td>10.531</td>\n",
       "      <td>0.0</td>\n",
       "      <td>INITIAL</td>\n",
       "      <td>2011-07-26 13:55:56</td>\n",
       "      <td>2011-07-26 13:55:56</td>\n",
       "      <td>7000-1.1 (Rev. 06-2011)</td>\n",
       "    </tr>\n",
       "    <tr>\n",
       "      <th>34</th>\n",
       "      <td>2019-08-01 13:10:42</td>\n",
       "      <td>2010</td>\n",
       "      <td>20110208</td>\n",
       "      <td>12733</td>\n",
       "      <td>2731</td>\n",
       "      <td>CHEVRON PIPE LINE CO</td>\n",
       "      <td>4800 FOURNACE PLACE</td>\n",
       "      <td>BELLAIRE</td>\n",
       "      <td>TX</td>\n",
       "      <td>774012324</td>\n",
       "      <td>...</td>\n",
       "      <td>0.0</td>\n",
       "      <td>0.0</td>\n",
       "      <td>0.0</td>\n",
       "      <td>3094.000</td>\n",
       "      <td>1566.000</td>\n",
       "      <td>1528.0</td>\n",
       "      <td>SUPPLEMENTAL</td>\n",
       "      <td>2011-08-14 17:43:48</td>\n",
       "      <td>2014-06-09 09:11:17</td>\n",
       "      <td>7000-1.1 (Rev. 06-2011)</td>\n",
       "    </tr>\n",
       "    <tr>\n",
       "      <th>264</th>\n",
       "      <td>2019-08-01 13:10:42</td>\n",
       "      <td>2010</td>\n",
       "      <td>20110244</td>\n",
       "      <td>10248</td>\n",
       "      <td>31428</td>\n",
       "      <td>MERIT ENERGY COMPANY</td>\n",
       "      <td>13727 NOEL RD.</td>\n",
       "      <td>DALLAS</td>\n",
       "      <td>TX</td>\n",
       "      <td>75240</td>\n",
       "      <td>...</td>\n",
       "      <td>0.0</td>\n",
       "      <td>0.0</td>\n",
       "      <td>0.0</td>\n",
       "      <td>20.000</td>\n",
       "      <td>20.000</td>\n",
       "      <td>0.0</td>\n",
       "      <td>INITIAL</td>\n",
       "      <td>2011-08-15 11:36:07</td>\n",
       "      <td>2011-08-15 11:36:07</td>\n",
       "      <td>7000-1.1 (Rev. 06-2011)</td>\n",
       "    </tr>\n",
       "  </tbody>\n",
       "</table>\n",
       "<p>5 rows × 85 columns</p>\n",
       "</div>"
      ],
      "text/plain": [
       "         DATAFILE_AS_OF  REPORT_YEAR  REPORT_NUMBER  SUPPLEMENTAL_NUMBER  \\\n",
       "57  2019-08-01 13:10:42         2010       20120105                11136   \n",
       "131 2019-08-01 13:10:42         2010       20110049                10049   \n",
       "16  2019-08-01 13:10:42         2010       20110001                10001   \n",
       "34  2019-08-01 13:10:42         2010       20110208                12733   \n",
       "264 2019-08-01 13:10:42         2010       20110244                10248   \n",
       "\n",
       "     OPERATOR_ID            PARTA2NAMEOFCOMP               PARTA4STREET  \\\n",
       "57          5524      FOUR STAR OIL & GAS CO  1400 Smith Street Houston   \n",
       "131        21359         SASOL NORTH AMERICA           900 Threadneedle   \n",
       "16          1541  BP PIPELINES (ALASKA), INC          900 E Benson Blvd   \n",
       "34          2731        CHEVRON PIPE LINE CO        4800 FOURNACE PLACE   \n",
       "264        31428        MERIT ENERGY COMPANY             13727 NOEL RD.   \n",
       "\n",
       "    PARTA4CITY PARTA4STATE  PARTA4ZIP  ... PARTE2010HF PARTE2010LF  \\\n",
       "57      ODESSA          TX     797002  ...         0.0         0.0   \n",
       "131   WESTLAKE          TX      77079  ...         0.0         0.0   \n",
       "16   ANCHORAGE          AK      99519  ...         0.0         0.0   \n",
       "34    BELLAIRE          TX  774012324  ...         0.0         0.0   \n",
       "264     DALLAS          TX      75240  ...         0.0         0.0   \n",
       "\n",
       "    PARTE2010TOTAL PARTETOTAL  PARTETOTALHF  PARTETOTALLF  \\\n",
       "57             0.0     15.100        15.100           0.0   \n",
       "131            0.0      0.300         0.300           0.0   \n",
       "16             0.0     10.531        10.531           0.0   \n",
       "34             0.0   3094.000      1566.000        1528.0   \n",
       "264            0.0     20.000        20.000           0.0   \n",
       "\n",
       "     REPORT_SUBMISSION_TYPE         REPORT_DATE         FILING_DATE  \\\n",
       "57                  INITIAL 2012-06-01 10:22:46 2012-06-01 10:22:46   \n",
       "131                 INITIAL 2011-08-04 14:01:42 2011-08-04 14:01:42   \n",
       "16                  INITIAL 2011-07-26 13:55:56 2011-07-26 13:55:56   \n",
       "34             SUPPLEMENTAL 2011-08-14 17:43:48 2014-06-09 09:11:17   \n",
       "264                 INITIAL 2011-08-15 11:36:07 2011-08-15 11:36:07   \n",
       "\n",
       "                    FORM_REV  \n",
       "57   7000-1.1 (Rev. 06-2011)  \n",
       "131  7000-1.1 (Rev. 06-2011)  \n",
       "16   7000-1.1 (Rev. 06-2011)  \n",
       "34   7000-1.1 (Rev. 06-2011)  \n",
       "264  7000-1.1 (Rev. 06-2011)  \n",
       "\n",
       "[5 rows x 85 columns]"
      ]
     },
     "execution_count": 8,
     "metadata": {},
     "output_type": "execute_result"
    }
   ],
   "source": [
    "oil_pipelines = pd.read_excel('../data/pipelines_2010_present_2019-08-09/annual_hazardous_liquid_2010.xlsx', skiprows=2)\n",
    "\n",
    "oil_pipelines.sample(5)"
   ]
  },
  {
   "cell_type": "code",
   "execution_count": 9,
   "metadata": {},
   "outputs": [
    {
     "data": {
      "text/plain": [
       "['annual_hazardous_liquid_2017.xlsx',\n",
       " 'annual_hazardous_liquid_2011.xlsx',\n",
       " 'annual_hazardous_liquid_2014.xlsx',\n",
       " 'annual_hazardous_liquid_2012.xlsx',\n",
       " 'annual_hazardous_liquid_2013.xlsx',\n",
       " 'annual_hazardous_liquid_2010.xlsx',\n",
       " 'annual_hazardous_liquid_2018.xlsx',\n",
       " 'annual_hazardous_liquid_2016.xlsx',\n",
       " 'annual_hazardous_liquid_2015.xlsx']"
      ]
     },
     "execution_count": 9,
     "metadata": {},
     "output_type": "execute_result"
    }
   ],
   "source": [
    "from os import listdir\n",
    "\n",
    "pipeline_files = [file for file in listdir('../data/pipelines_2010_present_2019-08-09/') if'annual_hazardous_liquid' in file]\n",
    "pipeline_files"
   ]
  },
  {
   "cell_type": "code",
   "execution_count": 10,
   "metadata": {},
   "outputs": [
    {
     "data": {
      "text/html": [
       "<div>\n",
       "<style scoped>\n",
       "    .dataframe tbody tr th:only-of-type {\n",
       "        vertical-align: middle;\n",
       "    }\n",
       "\n",
       "    .dataframe tbody tr th {\n",
       "        vertical-align: top;\n",
       "    }\n",
       "\n",
       "    .dataframe thead th {\n",
       "        text-align: right;\n",
       "    }\n",
       "</style>\n",
       "<table border=\"1\" class=\"dataframe\">\n",
       "  <thead>\n",
       "    <tr style=\"text-align: right;\">\n",
       "      <th></th>\n",
       "      <th>DATAFILE_AS_OF</th>\n",
       "      <th>REPORT_YEAR</th>\n",
       "      <th>REPORT_NUMBER</th>\n",
       "      <th>SUPPLEMENTAL_NUMBER</th>\n",
       "      <th>OPERATOR_ID</th>\n",
       "      <th>PARTA2NAMEOFCOMP</th>\n",
       "      <th>PARTA4STREET</th>\n",
       "      <th>PARTA4CITY</th>\n",
       "      <th>PARTA4STATE</th>\n",
       "      <th>PARTA4ZIP</th>\n",
       "      <th>...</th>\n",
       "      <th>PARTE2010HF</th>\n",
       "      <th>PARTE2010LF</th>\n",
       "      <th>PARTE2010TOTAL</th>\n",
       "      <th>PARTETOTAL</th>\n",
       "      <th>PARTETOTALHF</th>\n",
       "      <th>PARTETOTALLF</th>\n",
       "      <th>REPORT_SUBMISSION_TYPE</th>\n",
       "      <th>REPORT_DATE</th>\n",
       "      <th>FILING_DATE</th>\n",
       "      <th>FORM_REV</th>\n",
       "    </tr>\n",
       "  </thead>\n",
       "  <tbody>\n",
       "    <tr>\n",
       "      <th>1042</th>\n",
       "      <td>2019-08-01 13:14:22</td>\n",
       "      <td>2011</td>\n",
       "      <td>20120238</td>\n",
       "      <td>13199</td>\n",
       "      <td>32011</td>\n",
       "      <td>HOLLY ENERGY PARTNERS - OPERATING, L.P.</td>\n",
       "      <td>2828 N. HARWOOD</td>\n",
       "      <td>DALLAS</td>\n",
       "      <td>TX</td>\n",
       "      <td>75201</td>\n",
       "      <td>...</td>\n",
       "      <td>0.0</td>\n",
       "      <td>0.0</td>\n",
       "      <td>0.0</td>\n",
       "      <td>159.000</td>\n",
       "      <td>148.000</td>\n",
       "      <td>11.0</td>\n",
       "      <td>SUPPLEMENTAL</td>\n",
       "      <td>2012-06-13 16:38:10</td>\n",
       "      <td>2014-08-22 13:23:28</td>\n",
       "      <td>7000-1.1 (Rev. 06-2011)</td>\n",
       "    </tr>\n",
       "    <tr>\n",
       "      <th>197</th>\n",
       "      <td>2019-08-01 13:58:36</td>\n",
       "      <td>2017</td>\n",
       "      <td>20183321</td>\n",
       "      <td>15847</td>\n",
       "      <td>30829</td>\n",
       "      <td>ENTERPRISE CRUDE PIPELINE LLC</td>\n",
       "      <td>1100 Louisiana Street</td>\n",
       "      <td>Houston</td>\n",
       "      <td>TX</td>\n",
       "      <td>77002</td>\n",
       "      <td>...</td>\n",
       "      <td>0.0</td>\n",
       "      <td>0.0</td>\n",
       "      <td>0.0</td>\n",
       "      <td>9.264</td>\n",
       "      <td>9.264</td>\n",
       "      <td>0.0</td>\n",
       "      <td>INITIAL</td>\n",
       "      <td>2018-06-12 09:58:23</td>\n",
       "      <td>2018-06-12 09:58:23</td>\n",
       "      <td>7000-1.1 (Rev. 06-2014)</td>\n",
       "    </tr>\n",
       "    <tr>\n",
       "      <th>2822</th>\n",
       "      <td>2019-08-01 13:23:46</td>\n",
       "      <td>2013</td>\n",
       "      <td>20140820</td>\n",
       "      <td>12832</td>\n",
       "      <td>38952</td>\n",
       "      <td>APL ARKOMA HOLDINGS LLC</td>\n",
       "      <td>110 WEST 7TH STREET  SUITE 2300</td>\n",
       "      <td>TULSA</td>\n",
       "      <td>OK</td>\n",
       "      <td>74119</td>\n",
       "      <td>...</td>\n",
       "      <td>0.0</td>\n",
       "      <td>0.0</td>\n",
       "      <td>0.0</td>\n",
       "      <td>15.326</td>\n",
       "      <td>15.326</td>\n",
       "      <td>0.0</td>\n",
       "      <td>INITIAL</td>\n",
       "      <td>2014-06-12 08:50:51</td>\n",
       "      <td>2014-06-12 08:50:51</td>\n",
       "      <td>7000-1.1 (Rev. 06-2011)</td>\n",
       "    </tr>\n",
       "    <tr>\n",
       "      <th>3837</th>\n",
       "      <td>2019-08-01 14:04:12</td>\n",
       "      <td>2018</td>\n",
       "      <td>20190311</td>\n",
       "      <td>16777</td>\n",
       "      <td>39065</td>\n",
       "      <td>HESS ND</td>\n",
       "      <td>3015 16TH ST. SW SUITE 20</td>\n",
       "      <td>MINOT</td>\n",
       "      <td>ND</td>\n",
       "      <td>58701</td>\n",
       "      <td>...</td>\n",
       "      <td>3.8</td>\n",
       "      <td>0.0</td>\n",
       "      <td>3.8</td>\n",
       "      <td>3.800</td>\n",
       "      <td>3.800</td>\n",
       "      <td>0.0</td>\n",
       "      <td>SUPPLEMENTAL</td>\n",
       "      <td>2019-06-11 16:54:57</td>\n",
       "      <td>2019-06-12 12:26:27</td>\n",
       "      <td>7000-1.1 (Rev. 06-2014)</td>\n",
       "    </tr>\n",
       "    <tr>\n",
       "      <th>409</th>\n",
       "      <td>2019-08-01 13:58:36</td>\n",
       "      <td>2017</td>\n",
       "      <td>20183376</td>\n",
       "      <td>15903</td>\n",
       "      <td>32410</td>\n",
       "      <td>GENESIS FREE STATE PIPELINE, LLC</td>\n",
       "      <td>919 MILAM; SUITE 2100</td>\n",
       "      <td>HOUSTON</td>\n",
       "      <td>TX</td>\n",
       "      <td>77002-5417</td>\n",
       "      <td>...</td>\n",
       "      <td>0.0</td>\n",
       "      <td>0.0</td>\n",
       "      <td>0.0</td>\n",
       "      <td>90.620</td>\n",
       "      <td>90.620</td>\n",
       "      <td>0.0</td>\n",
       "      <td>INITIAL</td>\n",
       "      <td>2018-06-13 08:02:52</td>\n",
       "      <td>2018-06-13 08:02:52</td>\n",
       "      <td>7000-1.1 (Rev. 06-2014)</td>\n",
       "    </tr>\n",
       "  </tbody>\n",
       "</table>\n",
       "<p>5 rows × 85 columns</p>\n",
       "</div>"
      ],
      "text/plain": [
       "          DATAFILE_AS_OF  REPORT_YEAR  REPORT_NUMBER  SUPPLEMENTAL_NUMBER  \\\n",
       "1042 2019-08-01 13:14:22         2011       20120238                13199   \n",
       "197  2019-08-01 13:58:36         2017       20183321                15847   \n",
       "2822 2019-08-01 13:23:46         2013       20140820                12832   \n",
       "3837 2019-08-01 14:04:12         2018       20190311                16777   \n",
       "409  2019-08-01 13:58:36         2017       20183376                15903   \n",
       "\n",
       "      OPERATOR_ID                         PARTA2NAMEOFCOMP  \\\n",
       "1042        32011  HOLLY ENERGY PARTNERS - OPERATING, L.P.   \n",
       "197         30829            ENTERPRISE CRUDE PIPELINE LLC   \n",
       "2822        38952                  APL ARKOMA HOLDINGS LLC   \n",
       "3837        39065                                  HESS ND   \n",
       "409         32410         GENESIS FREE STATE PIPELINE, LLC   \n",
       "\n",
       "                         PARTA4STREET PARTA4CITY PARTA4STATE   PARTA4ZIP  ...  \\\n",
       "1042                  2828 N. HARWOOD     DALLAS          TX       75201  ...   \n",
       "197             1100 Louisiana Street    Houston          TX       77002  ...   \n",
       "2822  110 WEST 7TH STREET  SUITE 2300      TULSA          OK       74119  ...   \n",
       "3837        3015 16TH ST. SW SUITE 20      MINOT          ND       58701  ...   \n",
       "409             919 MILAM; SUITE 2100    HOUSTON          TX  77002-5417  ...   \n",
       "\n",
       "     PARTE2010HF PARTE2010LF PARTE2010TOTAL PARTETOTAL  PARTETOTALHF  \\\n",
       "1042         0.0         0.0            0.0    159.000       148.000   \n",
       "197          0.0         0.0            0.0      9.264         9.264   \n",
       "2822         0.0         0.0            0.0     15.326        15.326   \n",
       "3837         3.8         0.0            3.8      3.800         3.800   \n",
       "409          0.0         0.0            0.0     90.620        90.620   \n",
       "\n",
       "      PARTETOTALLF  REPORT_SUBMISSION_TYPE         REPORT_DATE  \\\n",
       "1042          11.0            SUPPLEMENTAL 2012-06-13 16:38:10   \n",
       "197            0.0                 INITIAL 2018-06-12 09:58:23   \n",
       "2822           0.0                 INITIAL 2014-06-12 08:50:51   \n",
       "3837           0.0            SUPPLEMENTAL 2019-06-11 16:54:57   \n",
       "409            0.0                 INITIAL 2018-06-13 08:02:52   \n",
       "\n",
       "             FILING_DATE                 FORM_REV  \n",
       "1042 2014-08-22 13:23:28  7000-1.1 (Rev. 06-2011)  \n",
       "197  2018-06-12 09:58:23  7000-1.1 (Rev. 06-2014)  \n",
       "2822 2014-06-12 08:50:51  7000-1.1 (Rev. 06-2011)  \n",
       "3837 2019-06-12 12:26:27  7000-1.1 (Rev. 06-2014)  \n",
       "409  2018-06-13 08:02:52  7000-1.1 (Rev. 06-2014)  \n",
       "\n",
       "[5 rows x 85 columns]"
      ]
     },
     "execution_count": 10,
     "metadata": {},
     "output_type": "execute_result"
    }
   ],
   "source": [
    "pipelines = pd.concat([pd.read_excel(f'../data/pipelines_2010_present_2019-08-09/{file}', skiprows=2) for file in pipeline_files])\n",
    "pipelines = pipelines.reset_index(drop = True)\n",
    "\n",
    "pipelines.sample(5)"
   ]
  },
  {
   "cell_type": "markdown",
   "metadata": {},
   "source": [
    "See which company has the vastest pipeline network."
   ]
  },
  {
   "cell_type": "code",
   "execution_count": 11,
   "metadata": {},
   "outputs": [
    {
     "data": {
      "text/html": [
       "<div>\n",
       "<style scoped>\n",
       "    .dataframe tbody tr th:only-of-type {\n",
       "        vertical-align: middle;\n",
       "    }\n",
       "\n",
       "    .dataframe tbody tr th {\n",
       "        vertical-align: top;\n",
       "    }\n",
       "\n",
       "    .dataframe thead th {\n",
       "        text-align: right;\n",
       "    }\n",
       "</style>\n",
       "<table border=\"1\" class=\"dataframe\">\n",
       "  <thead>\n",
       "    <tr style=\"text-align: right;\">\n",
       "      <th></th>\n",
       "      <th>REPORT_YEAR</th>\n",
       "      <th>OPERATOR_ID</th>\n",
       "      <th>PARTA2NAMEOFCOMP</th>\n",
       "      <th>PARTBHCATOTAL</th>\n",
       "    </tr>\n",
       "  </thead>\n",
       "  <tbody>\n",
       "    <tr>\n",
       "      <th>3634</th>\n",
       "      <td>2018</td>\n",
       "      <td>31618</td>\n",
       "      <td>ENTERPRISE PRODUCTS OPERATING LLC</td>\n",
       "      <td>7726.183</td>\n",
       "    </tr>\n",
       "    <tr>\n",
       "      <th>3704</th>\n",
       "      <td>2018</td>\n",
       "      <td>32109</td>\n",
       "      <td>ONEOK NGL PIPELINE, LLC</td>\n",
       "      <td>4531.480</td>\n",
       "    </tr>\n",
       "    <tr>\n",
       "      <th>4723</th>\n",
       "      <td>2015</td>\n",
       "      <td>2552</td>\n",
       "      <td>COLONIAL PIPELINE CO</td>\n",
       "      <td>4500.920</td>\n",
       "    </tr>\n",
       "    <tr>\n",
       "      <th>4715</th>\n",
       "      <td>2015</td>\n",
       "      <td>1845</td>\n",
       "      <td>BUCKEYE PARTNERS, LP</td>\n",
       "      <td>4266.430</td>\n",
       "    </tr>\n",
       "    <tr>\n",
       "      <th>3484</th>\n",
       "      <td>2018</td>\n",
       "      <td>22610</td>\n",
       "      <td>MAGELLAN PIPELINE COMPANY, LP</td>\n",
       "      <td>3926.400</td>\n",
       "    </tr>\n",
       "    <tr>\n",
       "      <th>4135</th>\n",
       "      <td>2016</td>\n",
       "      <td>15674</td>\n",
       "      <td>PLANTATION PIPE LINE CO</td>\n",
       "      <td>2564.730</td>\n",
       "    </tr>\n",
       "    <tr>\n",
       "      <th>4035</th>\n",
       "      <td>2016</td>\n",
       "      <td>300</td>\n",
       "      <td>PLAINS PIPELINE, L.P.</td>\n",
       "      <td>2312.330</td>\n",
       "    </tr>\n",
       "    <tr>\n",
       "      <th>67</th>\n",
       "      <td>2017</td>\n",
       "      <td>11169</td>\n",
       "      <td>ENBRIDGE ENERGY, LIMITED PARTNERSHIP</td>\n",
       "      <td>2290.000</td>\n",
       "    </tr>\n",
       "    <tr>\n",
       "      <th>3186</th>\n",
       "      <td>2010</td>\n",
       "      <td>31684</td>\n",
       "      <td>CONOCOPHILLIPS</td>\n",
       "      <td>2283.790</td>\n",
       "    </tr>\n",
       "    <tr>\n",
       "      <th>2693</th>\n",
       "      <td>2013</td>\n",
       "      <td>32147</td>\n",
       "      <td>MARATHON PIPE LINE LLC</td>\n",
       "      <td>2281.900</td>\n",
       "    </tr>\n",
       "  </tbody>\n",
       "</table>\n",
       "</div>"
      ],
      "text/plain": [
       "      REPORT_YEAR  OPERATOR_ID                      PARTA2NAMEOFCOMP  \\\n",
       "3634         2018        31618     ENTERPRISE PRODUCTS OPERATING LLC   \n",
       "3704         2018        32109               ONEOK NGL PIPELINE, LLC   \n",
       "4723         2015         2552                  COLONIAL PIPELINE CO   \n",
       "4715         2015         1845                  BUCKEYE PARTNERS, LP   \n",
       "3484         2018        22610         MAGELLAN PIPELINE COMPANY, LP   \n",
       "4135         2016        15674               PLANTATION PIPE LINE CO   \n",
       "4035         2016          300                 PLAINS PIPELINE, L.P.   \n",
       "67           2017        11169  ENBRIDGE ENERGY, LIMITED PARTNERSHIP   \n",
       "3186         2010        31684                        CONOCOPHILLIPS   \n",
       "2693         2013        32147                MARATHON PIPE LINE LLC   \n",
       "\n",
       "      PARTBHCATOTAL  \n",
       "3634       7726.183  \n",
       "3704       4531.480  \n",
       "4723       4500.920  \n",
       "4715       4266.430  \n",
       "3484       3926.400  \n",
       "4135       2564.730  \n",
       "4035       2312.330  \n",
       "67         2290.000  \n",
       "3186       2283.790  \n",
       "2693       2281.900  "
      ]
     },
     "execution_count": 11,
     "metadata": {},
     "output_type": "execute_result"
    }
   ],
   "source": [
    "pipelines.loc[pipelines.groupby('OPERATOR_ID')['PARTBHCATOTAL'].idxmax()].nlargest(10, 'PARTBHCATOTAL')[['REPORT_YEAR', 'OPERATOR_ID', 'PARTA2NAMEOFCOMP', 'PARTBHCATOTAL']]"
   ]
  },
  {
   "cell_type": "code",
   "execution_count": 12,
   "metadata": {},
   "outputs": [
    {
     "data": {
      "text/plain": [
       "array(['Crude Oil', 'HVL', 'Refined and/or Petroleum Product (non-HVL)',\n",
       "       'CO2', 'Fuel Grade Ethanol (dedicated system)'], dtype=object)"
      ]
     },
     "execution_count": 12,
     "metadata": {},
     "output_type": "execute_result"
    }
   ],
   "source": [
    "pipelines['PARTA5COMMODITY'].unique()"
   ]
  },
  {
   "cell_type": "markdown",
   "metadata": {},
   "source": [
    "Compare to"
   ]
  },
  {
   "cell_type": "code",
   "execution_count": 13,
   "metadata": {},
   "outputs": [
    {
     "data": {
      "text/plain": [
       "array(['REFINED AND/OR PETROLEUM PRODUCT (NON-HVL) WHICH IS A LIQUID AT AMBIENT CONDITIONS',\n",
       "       'CO2 (CARBON DIOXIDE)',\n",
       "       'HVL OR OTHER FLAMMABLE OR TOXIC FLUID WHICH IS A GAS AT AMBIENT CONDITIONS',\n",
       "       'CRUDE OIL',\n",
       "       'BIOFUEL / ALTERNATIVE FUEL(INCLUDING ETHANOL BLENDS)'],\n",
       "      dtype=object)"
      ]
     },
     "execution_count": 13,
     "metadata": {},
     "output_type": "execute_result"
    }
   ],
   "source": [
    "incidents['COMMODITY_RELEASED_TYPE'].unique()"
   ]
  },
  {
   "cell_type": "markdown",
   "metadata": {},
   "source": [
    "The types correspond well, but the terminology is different."
   ]
  },
  {
   "cell_type": "markdown",
   "metadata": {},
   "source": [
    "## 2.3 Gas pipelines"
   ]
  },
  {
   "cell_type": "code",
   "execution_count": 14,
   "metadata": {},
   "outputs": [
    {
     "data": {
      "text/html": [
       "<div>\n",
       "<style scoped>\n",
       "    .dataframe tbody tr th:only-of-type {\n",
       "        vertical-align: middle;\n",
       "    }\n",
       "\n",
       "    .dataframe tbody tr th {\n",
       "        vertical-align: top;\n",
       "    }\n",
       "\n",
       "    .dataframe thead th {\n",
       "        text-align: right;\n",
       "    }\n",
       "</style>\n",
       "<table border=\"1\" class=\"dataframe\">\n",
       "  <thead>\n",
       "    <tr style=\"text-align: right;\">\n",
       "      <th></th>\n",
       "      <th>DATAFILE_AS_OF</th>\n",
       "      <th>REPORT_YEAR</th>\n",
       "      <th>REPORT_NUMBER</th>\n",
       "      <th>SUPPLEMENTAL_NUMBER</th>\n",
       "      <th>OPERATOR_ID</th>\n",
       "      <th>PARTA2NAMEOFCOMP</th>\n",
       "      <th>PARTA2NAMEOFPARENT_COM</th>\n",
       "      <th>PARTA3NAME</th>\n",
       "      <th>PARTA3TITLE</th>\n",
       "      <th>PARTA3EMAIL</th>\n",
       "      <th>...</th>\n",
       "      <th>PARTA4ZIP</th>\n",
       "      <th>REPORT_SUBMISSION_TYPE</th>\n",
       "      <th>REPORT_DATE</th>\n",
       "      <th>FILING_DATE</th>\n",
       "      <th>FORM_REV</th>\n",
       "      <th>PARTNPREPNAME</th>\n",
       "      <th>PARTNPREPTITLE</th>\n",
       "      <th>PARTNPREPEMAIL</th>\n",
       "      <th>PARTNPREPPHONE</th>\n",
       "      <th>PARTNPREPFAX</th>\n",
       "    </tr>\n",
       "  </thead>\n",
       "  <tbody>\n",
       "    <tr>\n",
       "      <th>35</th>\n",
       "      <td>2019-08-01 14:19:07</td>\n",
       "      <td>2015</td>\n",
       "      <td>20160323</td>\n",
       "      <td>596</td>\n",
       "      <td>13750</td>\n",
       "      <td>NORTHERN NATURAL GAS CO</td>\n",
       "      <td>NaN</td>\n",
       "      <td>Deb DeBoer</td>\n",
       "      <td>Sr. Pipeline Safety Specialist</td>\n",
       "      <td>deb.deboer@nngco.com</td>\n",
       "      <td>...</td>\n",
       "      <td>68124</td>\n",
       "      <td>INITIAL</td>\n",
       "      <td>2016-03-11 11:54:48</td>\n",
       "      <td>2016-03-11 11:54:48</td>\n",
       "      <td>7100.3-1 (Rev. 10-2014)</td>\n",
       "      <td>Deb DeBoer</td>\n",
       "      <td>Sr. Pipeline Safety Specialist</td>\n",
       "      <td>deb.deboer@nngco.com</td>\n",
       "      <td>(402)398-7245</td>\n",
       "      <td>NaN</td>\n",
       "    </tr>\n",
       "    <tr>\n",
       "      <th>79</th>\n",
       "      <td>2019-08-01 14:19:07</td>\n",
       "      <td>2015</td>\n",
       "      <td>20160256</td>\n",
       "      <td>520</td>\n",
       "      <td>39053</td>\n",
       "      <td>LNG INDY, LLC</td>\n",
       "      <td>Citizens Energy Group</td>\n",
       "      <td>Anthony Hopwood</td>\n",
       "      <td>Director of Operations</td>\n",
       "      <td>Ahopwood@kinetrexenergy.com</td>\n",
       "      <td>...</td>\n",
       "      <td>46107</td>\n",
       "      <td>INITIAL</td>\n",
       "      <td>2016-01-12 11:21:37</td>\n",
       "      <td>2016-01-12 11:21:37</td>\n",
       "      <td>7100.3-1 (Rev. 10-2014)</td>\n",
       "      <td>Craig Moore</td>\n",
       "      <td>Senior Vice President and COO</td>\n",
       "      <td>cmoore@kinetrexenergy.com</td>\n",
       "      <td>(317)504-0009</td>\n",
       "      <td>NaN</td>\n",
       "    </tr>\n",
       "    <tr>\n",
       "      <th>12</th>\n",
       "      <td>2019-08-01 14:19:07</td>\n",
       "      <td>2015</td>\n",
       "      <td>20160331</td>\n",
       "      <td>604</td>\n",
       "      <td>2604</td>\n",
       "      <td>COLUMBIA GAS OF VIRGINIA INC</td>\n",
       "      <td>NiSource, Inc.</td>\n",
       "      <td>David Cicoria</td>\n",
       "      <td>Manager, System Operations</td>\n",
       "      <td>dcicoria@nisource.com</td>\n",
       "      <td>...</td>\n",
       "      <td>23836</td>\n",
       "      <td>INITIAL</td>\n",
       "      <td>2016-03-14 16:42:59</td>\n",
       "      <td>2016-03-14 16:42:59</td>\n",
       "      <td>7100.3-1 (Rev. 10-2014)</td>\n",
       "      <td>Brian Powell</td>\n",
       "      <td>Integrity Management Engineer</td>\n",
       "      <td>bpowell@nisource.com</td>\n",
       "      <td>(614)481-1069</td>\n",
       "      <td>NaN</td>\n",
       "    </tr>\n",
       "    <tr>\n",
       "      <th>49</th>\n",
       "      <td>2019-08-01 14:19:07</td>\n",
       "      <td>2015</td>\n",
       "      <td>20160257</td>\n",
       "      <td>521</td>\n",
       "      <td>16667</td>\n",
       "      <td>ENERGY NORTH NATURAL GAS INC</td>\n",
       "      <td>NaN</td>\n",
       "      <td>Ryan Burns</td>\n",
       "      <td>Gas Planning Engineer</td>\n",
       "      <td>Ryan.Burns@LibertyUtilities.com</td>\n",
       "      <td>...</td>\n",
       "      <td>03053</td>\n",
       "      <td>INITIAL</td>\n",
       "      <td>2016-01-13 14:53:51</td>\n",
       "      <td>2016-01-13 14:53:51</td>\n",
       "      <td>7100.3-1 (Rev. 10-2014)</td>\n",
       "      <td>Ryan Burns</td>\n",
       "      <td>Gas Planning Engineer</td>\n",
       "      <td>Ryan.Burns@LibertyUtilities.com</td>\n",
       "      <td>(978)866-2637</td>\n",
       "      <td>NaN</td>\n",
       "    </tr>\n",
       "    <tr>\n",
       "      <th>26</th>\n",
       "      <td>2019-08-01 14:19:07</td>\n",
       "      <td>2015</td>\n",
       "      <td>20160317</td>\n",
       "      <td>588</td>\n",
       "      <td>11713</td>\n",
       "      <td>KEYSPAN ENERGY DELIVERY - LONG ISLAND</td>\n",
       "      <td>National Grid</td>\n",
       "      <td>Thomas Kennedy</td>\n",
       "      <td>Manager, LNG NY</td>\n",
       "      <td>thomas.kennedy@nationalgrid.com</td>\n",
       "      <td>...</td>\n",
       "      <td>02451</td>\n",
       "      <td>INITIAL</td>\n",
       "      <td>2016-03-10 09:21:13</td>\n",
       "      <td>2016-03-10 09:21:13</td>\n",
       "      <td>7100.3-1 (Rev. 10-2014)</td>\n",
       "      <td>Steve Sechovicz</td>\n",
       "      <td>Principle Engineer</td>\n",
       "      <td>stephen.sechovicz@nationalgrid.com</td>\n",
       "      <td>(617)822-5412</td>\n",
       "      <td>NaN</td>\n",
       "    </tr>\n",
       "  </tbody>\n",
       "</table>\n",
       "<p>5 rows × 24 columns</p>\n",
       "</div>"
      ],
      "text/plain": [
       "        DATAFILE_AS_OF  REPORT_YEAR  REPORT_NUMBER  SUPPLEMENTAL_NUMBER  \\\n",
       "35 2019-08-01 14:19:07         2015       20160323                  596   \n",
       "79 2019-08-01 14:19:07         2015       20160256                  520   \n",
       "12 2019-08-01 14:19:07         2015       20160331                  604   \n",
       "49 2019-08-01 14:19:07         2015       20160257                  521   \n",
       "26 2019-08-01 14:19:07         2015       20160317                  588   \n",
       "\n",
       "    OPERATOR_ID                       PARTA2NAMEOFCOMP PARTA2NAMEOFPARENT_COM  \\\n",
       "35        13750                NORTHERN NATURAL GAS CO                    NaN   \n",
       "79        39053                          LNG INDY, LLC  Citizens Energy Group   \n",
       "12         2604           COLUMBIA GAS OF VIRGINIA INC         NiSource, Inc.   \n",
       "49        16667           ENERGY NORTH NATURAL GAS INC                    NaN   \n",
       "26        11713  KEYSPAN ENERGY DELIVERY - LONG ISLAND          National Grid   \n",
       "\n",
       "         PARTA3NAME                     PARTA3TITLE  \\\n",
       "35       Deb DeBoer  Sr. Pipeline Safety Specialist   \n",
       "79  Anthony Hopwood          Director of Operations   \n",
       "12    David Cicoria      Manager, System Operations   \n",
       "49       Ryan Burns           Gas Planning Engineer   \n",
       "26   Thomas Kennedy                 Manager, LNG NY   \n",
       "\n",
       "                        PARTA3EMAIL  ... PARTA4ZIP REPORT_SUBMISSION_TYPE  \\\n",
       "35             deb.deboer@nngco.com  ...     68124                INITIAL   \n",
       "79      Ahopwood@kinetrexenergy.com  ...     46107                INITIAL   \n",
       "12            dcicoria@nisource.com  ...     23836                INITIAL   \n",
       "49  Ryan.Burns@LibertyUtilities.com  ...     03053                INITIAL   \n",
       "26  thomas.kennedy@nationalgrid.com  ...     02451                INITIAL   \n",
       "\n",
       "           REPORT_DATE         FILING_DATE                 FORM_REV  \\\n",
       "35 2016-03-11 11:54:48 2016-03-11 11:54:48  7100.3-1 (Rev. 10-2014)   \n",
       "79 2016-01-12 11:21:37 2016-01-12 11:21:37  7100.3-1 (Rev. 10-2014)   \n",
       "12 2016-03-14 16:42:59 2016-03-14 16:42:59  7100.3-1 (Rev. 10-2014)   \n",
       "49 2016-01-13 14:53:51 2016-01-13 14:53:51  7100.3-1 (Rev. 10-2014)   \n",
       "26 2016-03-10 09:21:13 2016-03-10 09:21:13  7100.3-1 (Rev. 10-2014)   \n",
       "\n",
       "      PARTNPREPNAME                  PARTNPREPTITLE  \\\n",
       "35       Deb DeBoer  Sr. Pipeline Safety Specialist   \n",
       "79      Craig Moore   Senior Vice President and COO   \n",
       "12     Brian Powell   Integrity Management Engineer   \n",
       "49       Ryan Burns           Gas Planning Engineer   \n",
       "26  Steve Sechovicz              Principle Engineer   \n",
       "\n",
       "                        PARTNPREPEMAIL PARTNPREPPHONE PARTNPREPFAX  \n",
       "35                deb.deboer@nngco.com  (402)398-7245          NaN  \n",
       "79           cmoore@kinetrexenergy.com  (317)504-0009          NaN  \n",
       "12                bpowell@nisource.com  (614)481-1069          NaN  \n",
       "49     Ryan.Burns@LibertyUtilities.com  (978)866-2637          NaN  \n",
       "26  stephen.sechovicz@nationalgrid.com  (617)822-5412          NaN  \n",
       "\n",
       "[5 rows x 24 columns]"
      ]
     },
     "execution_count": 14,
     "metadata": {},
     "output_type": "execute_result"
    }
   ],
   "source": [
    "gas_pipelines = pd.read_excel('../data/gas_2010_present_2019-08-09/annual_liquefied_natural_gas_2015.xlsx', skiprows=1)\n",
    "\n",
    "gas_pipelines.sample(5)"
   ]
  },
  {
   "cell_type": "code",
   "execution_count": 15,
   "metadata": {},
   "outputs": [
    {
     "data": {
      "text/plain": [
       "['annual_liquefied_natural_gas_2013.xlsx',\n",
       " 'annual_liquefied_natural_gas_2011.xlsx',\n",
       " 'annual_liquefied_natural_gas_2016.xlsx',\n",
       " 'annual_liquefied_natural_gas_2012.xlsx',\n",
       " 'annual_liquefied_natural_gas_2017.xlsx',\n",
       " 'annual_liquefied_natural_gas_2018.xlsx',\n",
       " 'annual_liquefied_natural_gas_2010.xlsx',\n",
       " 'annual_liquefied_natural_gas_2014.xlsx',\n",
       " 'annual_liquefied_natural_gas_2015.xlsx']"
      ]
     },
     "execution_count": 15,
     "metadata": {},
     "output_type": "execute_result"
    }
   ],
   "source": [
    "gas_files = [file for file in listdir('../data/gas_2010_present_2019-08-09/') if'annual_liquefied_natural_gas' in file]\n",
    "gas_files"
   ]
  },
  {
   "cell_type": "code",
   "execution_count": 16,
   "metadata": {},
   "outputs": [
    {
     "data": {
      "text/html": [
       "<div>\n",
       "<style scoped>\n",
       "    .dataframe tbody tr th:only-of-type {\n",
       "        vertical-align: middle;\n",
       "    }\n",
       "\n",
       "    .dataframe tbody tr th {\n",
       "        vertical-align: top;\n",
       "    }\n",
       "\n",
       "    .dataframe thead th {\n",
       "        text-align: right;\n",
       "    }\n",
       "</style>\n",
       "<table border=\"1\" class=\"dataframe\">\n",
       "  <thead>\n",
       "    <tr style=\"text-align: right;\">\n",
       "      <th></th>\n",
       "      <th>DATAFILE_AS_OF</th>\n",
       "      <th>REPORT_YEAR</th>\n",
       "      <th>REPORT_NUMBER</th>\n",
       "      <th>SUPPLEMENTAL_NUMBER</th>\n",
       "      <th>OPERATOR_ID</th>\n",
       "      <th>PARTA2NAMEOFCOMP</th>\n",
       "      <th>PARTA2NAMEOFPARENT_COM</th>\n",
       "      <th>PARTA3NAME</th>\n",
       "      <th>PARTA3TITLE</th>\n",
       "      <th>PARTA3EMAIL</th>\n",
       "      <th>...</th>\n",
       "      <th>PARTA4ZIP</th>\n",
       "      <th>REPORT_SUBMISSION_TYPE</th>\n",
       "      <th>REPORT_DATE</th>\n",
       "      <th>FILING_DATE</th>\n",
       "      <th>FORM_REV</th>\n",
       "      <th>PARTNPREPNAME</th>\n",
       "      <th>PARTNPREPTITLE</th>\n",
       "      <th>PARTNPREPEMAIL</th>\n",
       "      <th>PARTNPREPPHONE</th>\n",
       "      <th>PARTNPREPFAX</th>\n",
       "    </tr>\n",
       "  </thead>\n",
       "  <tbody>\n",
       "    <tr>\n",
       "      <th>175</th>\n",
       "      <td>2019-08-01 14:20:39</td>\n",
       "      <td>2016</td>\n",
       "      <td>20170378</td>\n",
       "      <td>684</td>\n",
       "      <td>2700</td>\n",
       "      <td>CONNECTICUT NATURAL GAS CORP</td>\n",
       "      <td>Avangrid</td>\n",
       "      <td>David J. Fritsch</td>\n",
       "      <td>Director, Production and Gas Control</td>\n",
       "      <td>dfritsch@ctgcorp.com</td>\n",
       "      <td>...</td>\n",
       "      <td>06108</td>\n",
       "      <td>INITIAL</td>\n",
       "      <td>2017-03-01 15:25:04</td>\n",
       "      <td>2017-03-01 15:25:04</td>\n",
       "      <td>7100.3-1 (Rev. 10-2014)</td>\n",
       "      <td>Thomas Kennedy</td>\n",
       "      <td>Manager, LNG Plant</td>\n",
       "      <td>tkennedy@ctgcorp.com</td>\n",
       "      <td>(860)727-3529</td>\n",
       "      <td>(860)529-4112</td>\n",
       "    </tr>\n",
       "    <tr>\n",
       "      <th>67</th>\n",
       "      <td>2019-08-01 14:16:07</td>\n",
       "      <td>2013</td>\n",
       "      <td>20140156</td>\n",
       "      <td>394</td>\n",
       "      <td>31636</td>\n",
       "      <td>NORTHERN STATES POWER CO OF MINNESOTA</td>\n",
       "      <td>Xcel Energy, Inc.</td>\n",
       "      <td>Ron Shilts</td>\n",
       "      <td>Gas Plant Maintenance Supervisor</td>\n",
       "      <td>Ronald.C.Shilts@xcelenergy.com</td>\n",
       "      <td>...</td>\n",
       "      <td>55402</td>\n",
       "      <td>SUPPLEMENTAL</td>\n",
       "      <td>2014-03-13 15:07:05</td>\n",
       "      <td>2014-12-05 12:45:10</td>\n",
       "      <td>7100.3-1 (Rev. 06-2011)</td>\n",
       "      <td>Lisa Kallberg</td>\n",
       "      <td>Principal Gas Standards Consultant</td>\n",
       "      <td>elisabeth.m.kallberg@xcelenergy.com</td>\n",
       "      <td>(651) 229-2282</td>\n",
       "      <td>(651) 229-2396</td>\n",
       "    </tr>\n",
       "    <tr>\n",
       "      <th>239</th>\n",
       "      <td>2019-08-01 14:20:39</td>\n",
       "      <td>2016</td>\n",
       "      <td>20170348</td>\n",
       "      <td>652</td>\n",
       "      <td>32684</td>\n",
       "      <td>PINE NEEDLE OPERATING COMPANY,LLC</td>\n",
       "      <td>NaN</td>\n",
       "      <td>Edgar Rodriguez</td>\n",
       "      <td>Regulatory Compliance Specialist Sr.</td>\n",
       "      <td>edgar.x.rodriguez@williams.com</td>\n",
       "      <td>...</td>\n",
       "      <td>77056</td>\n",
       "      <td>INITIAL</td>\n",
       "      <td>2017-01-26 14:11:43</td>\n",
       "      <td>2017-01-26 14:11:43</td>\n",
       "      <td>7100.3-1 (Rev. 10-2014)</td>\n",
       "      <td>Edgar Rodriguez</td>\n",
       "      <td>Regulatory Compliance Specialist Sr.</td>\n",
       "      <td>edgar.x.rodriguez@williams.com</td>\n",
       "      <td>(713)215-2846</td>\n",
       "      <td>(713)215-3444</td>\n",
       "    </tr>\n",
       "    <tr>\n",
       "      <th>109</th>\n",
       "      <td>2019-08-01 14:12:58</td>\n",
       "      <td>2011</td>\n",
       "      <td>20120001</td>\n",
       "      <td>138</td>\n",
       "      <td>11713</td>\n",
       "      <td>KEYSPAN ENERGY DELIVERY - LONG ISLAND</td>\n",
       "      <td>National Grid</td>\n",
       "      <td>Gregory Schneller</td>\n",
       "      <td>Manager</td>\n",
       "      <td>gregory.schneller@us.ngrid.com</td>\n",
       "      <td>...</td>\n",
       "      <td>11747</td>\n",
       "      <td>SUPPLEMENTAL</td>\n",
       "      <td>2012-02-17 09:21:29</td>\n",
       "      <td>2013-02-12 06:36:32</td>\n",
       "      <td>7100.3-1 (Rev. 06-2011)</td>\n",
       "      <td>Steven Renna</td>\n",
       "      <td>Lead Engineer</td>\n",
       "      <td>steven.renna@us.ngrid.com</td>\n",
       "      <td>(631) 471-1660</td>\n",
       "      <td>(631) 471-1601</td>\n",
       "    </tr>\n",
       "    <tr>\n",
       "      <th>191</th>\n",
       "      <td>2019-08-01 14:20:39</td>\n",
       "      <td>2016</td>\n",
       "      <td>20170363</td>\n",
       "      <td>668</td>\n",
       "      <td>12390</td>\n",
       "      <td>METROPOLITAN UTILITIES DISTRICT</td>\n",
       "      <td>NaN</td>\n",
       "      <td>William Rice</td>\n",
       "      <td>Manager Gas Plants</td>\n",
       "      <td>bill_rice@mudnebr.com</td>\n",
       "      <td>...</td>\n",
       "      <td>68102</td>\n",
       "      <td>INITIAL</td>\n",
       "      <td>2017-02-17 17:11:40</td>\n",
       "      <td>2017-02-17 17:11:40</td>\n",
       "      <td>7100.3-1 (Rev. 10-2014)</td>\n",
       "      <td>William Rice</td>\n",
       "      <td>Operator</td>\n",
       "      <td>bill_rice@mudnebr.com</td>\n",
       "      <td>(402)504-7353</td>\n",
       "      <td>NaN</td>\n",
       "    </tr>\n",
       "  </tbody>\n",
       "</table>\n",
       "<p>5 rows × 25 columns</p>\n",
       "</div>"
      ],
      "text/plain": [
       "         DATAFILE_AS_OF  REPORT_YEAR  REPORT_NUMBER  SUPPLEMENTAL_NUMBER  \\\n",
       "175 2019-08-01 14:20:39         2016       20170378                  684   \n",
       "67  2019-08-01 14:16:07         2013       20140156                  394   \n",
       "239 2019-08-01 14:20:39         2016       20170348                  652   \n",
       "109 2019-08-01 14:12:58         2011       20120001                  138   \n",
       "191 2019-08-01 14:20:39         2016       20170363                  668   \n",
       "\n",
       "     OPERATOR_ID                       PARTA2NAMEOFCOMP  \\\n",
       "175         2700           CONNECTICUT NATURAL GAS CORP   \n",
       "67         31636  NORTHERN STATES POWER CO OF MINNESOTA   \n",
       "239        32684      PINE NEEDLE OPERATING COMPANY,LLC   \n",
       "109        11713  KEYSPAN ENERGY DELIVERY - LONG ISLAND   \n",
       "191        12390        METROPOLITAN UTILITIES DISTRICT   \n",
       "\n",
       "    PARTA2NAMEOFPARENT_COM         PARTA3NAME  \\\n",
       "175               Avangrid   David J. Fritsch   \n",
       "67       Xcel Energy, Inc.         Ron Shilts   \n",
       "239                    NaN    Edgar Rodriguez   \n",
       "109          National Grid  Gregory Schneller   \n",
       "191                    NaN       William Rice   \n",
       "\n",
       "                              PARTA3TITLE                     PARTA3EMAIL  \\\n",
       "175  Director, Production and Gas Control            dfritsch@ctgcorp.com   \n",
       "67       Gas Plant Maintenance Supervisor  Ronald.C.Shilts@xcelenergy.com   \n",
       "239  Regulatory Compliance Specialist Sr.  edgar.x.rodriguez@williams.com   \n",
       "109                               Manager  gregory.schneller@us.ngrid.com   \n",
       "191                    Manager Gas Plants           bill_rice@mudnebr.com   \n",
       "\n",
       "     ... PARTA4ZIP REPORT_SUBMISSION_TYPE         REPORT_DATE  \\\n",
       "175  ...     06108                INITIAL 2017-03-01 15:25:04   \n",
       "67   ...     55402           SUPPLEMENTAL 2014-03-13 15:07:05   \n",
       "239  ...     77056                INITIAL 2017-01-26 14:11:43   \n",
       "109  ...     11747           SUPPLEMENTAL 2012-02-17 09:21:29   \n",
       "191  ...     68102                INITIAL 2017-02-17 17:11:40   \n",
       "\n",
       "            FILING_DATE                 FORM_REV    PARTNPREPNAME  \\\n",
       "175 2017-03-01 15:25:04  7100.3-1 (Rev. 10-2014)   Thomas Kennedy   \n",
       "67  2014-12-05 12:45:10  7100.3-1 (Rev. 06-2011)    Lisa Kallberg   \n",
       "239 2017-01-26 14:11:43  7100.3-1 (Rev. 10-2014)  Edgar Rodriguez   \n",
       "109 2013-02-12 06:36:32  7100.3-1 (Rev. 06-2011)     Steven Renna   \n",
       "191 2017-02-17 17:11:40  7100.3-1 (Rev. 10-2014)     William Rice   \n",
       "\n",
       "                           PARTNPREPTITLE  \\\n",
       "175                    Manager, LNG Plant   \n",
       "67     Principal Gas Standards Consultant   \n",
       "239  Regulatory Compliance Specialist Sr.   \n",
       "109                         Lead Engineer   \n",
       "191                              Operator   \n",
       "\n",
       "                          PARTNPREPEMAIL  PARTNPREPPHONE    PARTNPREPFAX  \n",
       "175                 tkennedy@ctgcorp.com   (860)727-3529   (860)529-4112  \n",
       "67   elisabeth.m.kallberg@xcelenergy.com  (651) 229-2282  (651) 229-2396  \n",
       "239       edgar.x.rodriguez@williams.com   (713)215-2846   (713)215-3444  \n",
       "109            steven.renna@us.ngrid.com  (631) 471-1660  (631) 471-1601  \n",
       "191                bill_rice@mudnebr.com   (402)504-7353             NaN  \n",
       "\n",
       "[5 rows x 25 columns]"
      ]
     },
     "execution_count": 16,
     "metadata": {},
     "output_type": "execute_result"
    }
   ],
   "source": [
    "gas = pd.concat([pd.read_excel(f'../data/gas_2010_present_2019-08-09/{file}', skiprows=1) for file in gas_files[:3]], sort=False)\n",
    "gas = gas.reset_index(drop = True)\n",
    "\n",
    "gas.sample(5)"
   ]
  },
  {
   "cell_type": "markdown",
   "metadata": {},
   "source": [
    "The warning stems from the fact that the PARTA4NAMEOFCOMP columns was dropped, starting from 2014 (see below). Fortunately, we can use the field \"PARTA2NAMEOFCOMP\" and \"PARTA2NAMEOFPARENT_COM\" to get the information."
   ]
  },
  {
   "cell_type": "code",
   "execution_count": 17,
   "metadata": {},
   "outputs": [
    {
     "data": {
      "text/plain": [
       "{'PARTA4NAMEOFCOMP'}"
      ]
     },
     "execution_count": 17,
     "metadata": {},
     "output_type": "execute_result"
    }
   ],
   "source": [
    "gas_columns_2010 = pd.read_excel('../data/gas_2010_present_2019-08-09/annual_liquefied_natural_gas_2010.xlsx', skiprows=1, skipfooter=999).columns.tolist()\n",
    "gas_columns_2014 = pd.read_excel('../data/gas_2010_present_2019-08-09/annual_liquefied_natural_gas_2014.xlsx', skiprows=1, skipfooter=999).columns.tolist()\n",
    "set(gas_columns_2010) - set(gas_columns_2014)"
   ]
  },
  {
   "cell_type": "markdown",
   "metadata": {},
   "source": [
    "## 2.4. Where do incidents occur? Regular, or LNG pipelines?"
   ]
  },
  {
   "cell_type": "markdown",
   "metadata": {},
   "source": [
    "### 2.4.1 Are there operators who operate both regular and LNG pipelines?"
   ]
  },
  {
   "cell_type": "code",
   "execution_count": 18,
   "metadata": {},
   "outputs": [
    {
     "data": {
      "text/plain": [
       "[180, 630, 792, 909, 1088]"
      ]
     },
     "execution_count": 18,
     "metadata": {},
     "output_type": "execute_result"
    }
   ],
   "source": [
    "gas_operators = np.unique(gas['OPERATOR_ID']).tolist()\n",
    "gas_operators[:5]"
   ]
  },
  {
   "cell_type": "code",
   "execution_count": 19,
   "metadata": {},
   "outputs": [
    {
     "data": {
      "text/plain": [
       "[300, 395, 401, 402, 473]"
      ]
     },
     "execution_count": 19,
     "metadata": {},
     "output_type": "execute_result"
    }
   ],
   "source": [
    "pipeline_operators = np.unique(pipelines['OPERATOR_ID']).tolist()\n",
    "pipeline_operators[:5]"
   ]
  },
  {
   "cell_type": "code",
   "execution_count": 20,
   "metadata": {},
   "outputs": [
    {
     "name": "stdout",
     "output_type": "stream",
     "text": [
      "{31636}\n"
     ]
    }
   ],
   "source": [
    "common_operators = set(gas_operators).intersection(set(pipeline_operators))\n",
    "print(common_operators)"
   ]
  },
  {
   "cell_type": "markdown",
   "metadata": {},
   "source": [
    "Only one company occurs on both lists."
   ]
  },
  {
   "cell_type": "code",
   "execution_count": 21,
   "metadata": {},
   "outputs": [
    {
     "data": {
      "text/plain": [
       "['NORTHERN STATES POWER CO OF MINNESOTA']"
      ]
     },
     "execution_count": 21,
     "metadata": {},
     "output_type": "execute_result"
    }
   ],
   "source": [
    "pipelines.loc[pipelines['OPERATOR_ID'].isin(common_operators) & (pipelines['REPORT_YEAR'] == 2017)]['PARTA2NAMEOFCOMP'].tolist()"
   ]
  },
  {
   "cell_type": "markdown",
   "metadata": {},
   "source": [
    "### 2.4.2 Where do the accidents occur?"
   ]
  },
  {
   "cell_type": "code",
   "execution_count": 22,
   "metadata": {},
   "outputs": [
    {
     "data": {
      "text/html": [
       "<div>\n",
       "<style scoped>\n",
       "    .dataframe tbody tr th:only-of-type {\n",
       "        vertical-align: middle;\n",
       "    }\n",
       "\n",
       "    .dataframe tbody tr th {\n",
       "        vertical-align: top;\n",
       "    }\n",
       "\n",
       "    .dataframe thead th {\n",
       "        text-align: right;\n",
       "    }\n",
       "</style>\n",
       "<table border=\"1\" class=\"dataframe\">\n",
       "  <thead>\n",
       "    <tr style=\"text-align: right;\">\n",
       "      <th></th>\n",
       "      <th>DATAFILE_AS_OF</th>\n",
       "      <th>SIGNIFICANT</th>\n",
       "      <th>SERIOUS</th>\n",
       "      <th>IPE</th>\n",
       "      <th>IA_IPE</th>\n",
       "      <th>OM_IPE</th>\n",
       "      <th>REPORT_NUMBER</th>\n",
       "      <th>SUPPLEMENTAL_NUMBER</th>\n",
       "      <th>REPORT_RECEIVED_DATE</th>\n",
       "      <th>REPORT_TYPE</th>\n",
       "      <th>...</th>\n",
       "      <th>PREPARER_TITLE</th>\n",
       "      <th>PREPARER_EMAIL</th>\n",
       "      <th>PREPARER_TELEPHONE</th>\n",
       "      <th>PREPARER_FAX</th>\n",
       "      <th>PREPARED_DATE</th>\n",
       "      <th>AUTHORIZER_NAME</th>\n",
       "      <th>AUTHORIZER_TITLE</th>\n",
       "      <th>AUTHORIZER_TELEPHONE</th>\n",
       "      <th>AUTHORIZER_EMAIL</th>\n",
       "      <th>NARRATIVE</th>\n",
       "    </tr>\n",
       "  </thead>\n",
       "  <tbody>\n",
       "  </tbody>\n",
       "</table>\n",
       "<p>0 rows × 606 columns</p>\n",
       "</div>"
      ],
      "text/plain": [
       "Empty DataFrame\n",
       "Columns: [DATAFILE_AS_OF, SIGNIFICANT, SERIOUS, IPE, IA_IPE, OM_IPE, REPORT_NUMBER, SUPPLEMENTAL_NUMBER, REPORT_RECEIVED_DATE, REPORT_TYPE, OPERATOR_ID, NAME, OPERATOR_STREET_ADDRESS, OPERATOR_CITY_NAME, OPERATOR_STATE_ABBREVIATION, OPERATOR_POSTAL_CODE, LOCAL_DATETIME, IYEAR, LOCATION_LATITUDE, LOCATION_LONGITUDE, NRC_RPT_NUM, NRC_RPT_DATETIME, COMMODITY_RELEASED_TYPE, COMMODITY_SUBTYPE, COMMODITY_DETAILS, BLEND_DETAILS, BIO_DIESEL_DETAILS, UNINTENTIONAL_RELEASE_BBLS, INTENTIONAL_RELEASE_BBLS, RECOVERED_BBLS, NET_LOSS_BBLS, FATALITY_IND, NUM_EMP_FATALITIES, NUM_CONTR_FATALITIES, NUM_ER_FATALITIES, NUM_WORKER_FATALITIES, NUM_GP_FATALITIES, FATAL, INJURY_IND, NUM_EMP_INJURIES, NUM_CONTR_INJURIES, NUM_ER_INJURIES, NUM_WORKER_INJURIES, NUM_GP_INJURIES, INJURE, SHUTDOWN_DUE_ACCIDENT_IND, SHUTDOWN_EXPLAIN, SHUTDOWN_DATETIME, RESTART_DATETIME, STILL_SHUTDOWN_IND, IGNITE_IND, EXPLODE_IND, NUM_PUB_EVACUATED, INCIDENT_IDENTIFIED_DATETIME, ON_SITE_DATETIME, ON_OFF_SHORE, ONSHORE_STATE_ABBREVIATION, ONSHORE_POSTAL_CODE, ONSHORE_CITY_NAME, ONSHORE_COUNTY_NAME, DESIGNATED_LOCATION, DESIGNATED_NAME, PIPE_FAC_NAME, SEGMENT_NAME, FEDERAL, LOCATION_TYPE, INCIDENT_AREA_TYPE, INCIDENT_AREA_SUBTYPE, INCIDENT_AREA_DETAILS, DEPTH_OF_COVER, CROSSING, BRIDGE_CROSSING_IND, BRIDGE_TYPE, RAILROAD_CROSSING_IND, RAILROAD_TYPE, ROAD_CROSSING_IND, ROAD_TYPE, WATER_CROSSING_IND, WATER_TYPE, WATER_NAME, WATER_DEPTH, WATER_SUBTYPE, OFF_WATER_DEPTH, OFF_ACCIDENT_ORIGIN, OFFSHORE_STATE_ABBREVIATION, OFF_INSTATE_AREA, OFF_INSTATE_BLOCK, OFFSHORE_COUNTY_NAME, OFF_OCS_AREA, OFF_OCS_BLOCK, OFF_AREA_ACCIDENT_TYPE, PIPE_FACILITY_TYPE, SYSTEM_PART_INVOLVED, SYSTEM_SUBPART_INVOLVED, ITEM_INVOLVED, PIPE_TYPE, PIPE_DIAMETER, PIPE_WALL_THICKNESS, PIPE_SMYS, PIPE_SPECIFICATION, ...]\n",
       "Index: []\n",
       "\n",
       "[0 rows x 606 columns]"
      ]
     },
     "execution_count": 22,
     "metadata": {},
     "output_type": "execute_result"
    }
   ],
   "source": [
    "incidents.loc[incidents['OPERATOR_ID'] == 31636]"
   ]
  },
  {
   "cell_type": "markdown",
   "metadata": {},
   "source": [
    "Our common operators has no incidents, so we can ignore this segment."
   ]
  },
  {
   "cell_type": "code",
   "execution_count": 23,
   "metadata": {},
   "outputs": [
    {
     "data": {
      "text/plain": [
       "3814"
      ]
     },
     "execution_count": 23,
     "metadata": {},
     "output_type": "execute_result"
    }
   ],
   "source": [
    "regular_pipeline_incidents = incidents['OPERATOR_ID'].isin(pipelines['OPERATOR_ID']).sum()\n",
    "regular_pipeline_incidents"
   ]
  },
  {
   "cell_type": "code",
   "execution_count": 24,
   "metadata": {},
   "outputs": [
    {
     "data": {
      "text/plain": [
       "0"
      ]
     },
     "execution_count": 24,
     "metadata": {},
     "output_type": "execute_result"
    }
   ],
   "source": [
    "nlg_pipeline_incidents = incidents['OPERATOR_ID'].isin(gas['OPERATOR_ID']).sum()\n",
    "nlg_pipeline_incidents"
   ]
  },
  {
   "cell_type": "markdown",
   "metadata": {},
   "source": [
    "Looks like we can ignore this second dataset for our analysis."
   ]
  },
  {
   "cell_type": "markdown",
   "metadata": {},
   "source": [
    "## 2.5 Pipeline age - distribution and missingness"
   ]
  },
  {
   "cell_type": "code",
   "execution_count": 25,
   "metadata": {},
   "outputs": [],
   "source": [
    "import rpy2.rinterface"
   ]
  },
  {
   "cell_type": "code",
   "execution_count": 26,
   "metadata": {},
   "outputs": [],
   "source": [
    "%load_ext rpy2.ipython"
   ]
  },
  {
   "cell_type": "code",
   "execution_count": 27,
   "metadata": {},
   "outputs": [
    {
     "data": {
      "text/html": [
       "<div>\n",
       "<style scoped>\n",
       "    .dataframe tbody tr th:only-of-type {\n",
       "        vertical-align: middle;\n",
       "    }\n",
       "\n",
       "    .dataframe tbody tr th {\n",
       "        vertical-align: top;\n",
       "    }\n",
       "\n",
       "    .dataframe thead th {\n",
       "        text-align: right;\n",
       "    }\n",
       "</style>\n",
       "<table border=\"1\" class=\"dataframe\">\n",
       "  <thead>\n",
       "    <tr style=\"text-align: right;\">\n",
       "      <th></th>\n",
       "      <th>OPERATOR_ID</th>\n",
       "      <th>REPORT_YEAR</th>\n",
       "      <th>PARTEUNKNTOTAL</th>\n",
       "      <th>PARTEPRE40TOTAL</th>\n",
       "      <th>PARTE1950TOTAL</th>\n",
       "      <th>PARTE1960TOTAL</th>\n",
       "      <th>PARTE1970TOTAL</th>\n",
       "      <th>PARTE1980TOTAL</th>\n",
       "      <th>PARTE1990TOTAL</th>\n",
       "      <th>PARTE2000TOTAL</th>\n",
       "      <th>PARTE2010TOTAL</th>\n",
       "      <th>PARTETOTAL</th>\n",
       "    </tr>\n",
       "  </thead>\n",
       "  <tbody>\n",
       "    <tr>\n",
       "      <th>390</th>\n",
       "      <td>32285</td>\n",
       "      <td>2017</td>\n",
       "      <td>0.0</td>\n",
       "      <td>0.0</td>\n",
       "      <td>0.0</td>\n",
       "      <td>0.0</td>\n",
       "      <td>0.0</td>\n",
       "      <td>0.0</td>\n",
       "      <td>0.0</td>\n",
       "      <td>0.0</td>\n",
       "      <td>0.00</td>\n",
       "      <td>0.00</td>\n",
       "    </tr>\n",
       "    <tr>\n",
       "      <th>2872</th>\n",
       "      <td>473</td>\n",
       "      <td>2010</td>\n",
       "      <td>0.0</td>\n",
       "      <td>0.0</td>\n",
       "      <td>0.0</td>\n",
       "      <td>0.0</td>\n",
       "      <td>0.0</td>\n",
       "      <td>0.0</td>\n",
       "      <td>0.0</td>\n",
       "      <td>155.0</td>\n",
       "      <td>0.00</td>\n",
       "      <td>155.00</td>\n",
       "    </tr>\n",
       "    <tr>\n",
       "      <th>3066</th>\n",
       "      <td>30781</td>\n",
       "      <td>2010</td>\n",
       "      <td>0.0</td>\n",
       "      <td>0.0</td>\n",
       "      <td>0.0</td>\n",
       "      <td>290.0</td>\n",
       "      <td>86.0</td>\n",
       "      <td>2.0</td>\n",
       "      <td>5.0</td>\n",
       "      <td>1.0</td>\n",
       "      <td>0.00</td>\n",
       "      <td>384.00</td>\n",
       "    </tr>\n",
       "    <tr>\n",
       "      <th>2181</th>\n",
       "      <td>32277</td>\n",
       "      <td>2012</td>\n",
       "      <td>0.0</td>\n",
       "      <td>0.0</td>\n",
       "      <td>0.0</td>\n",
       "      <td>0.0</td>\n",
       "      <td>51.0</td>\n",
       "      <td>0.0</td>\n",
       "      <td>0.0</td>\n",
       "      <td>0.0</td>\n",
       "      <td>0.00</td>\n",
       "      <td>51.00</td>\n",
       "    </tr>\n",
       "    <tr>\n",
       "      <th>4557</th>\n",
       "      <td>39050</td>\n",
       "      <td>2016</td>\n",
       "      <td>0.0</td>\n",
       "      <td>0.0</td>\n",
       "      <td>0.0</td>\n",
       "      <td>0.0</td>\n",
       "      <td>0.0</td>\n",
       "      <td>0.0</td>\n",
       "      <td>0.0</td>\n",
       "      <td>0.0</td>\n",
       "      <td>6.22</td>\n",
       "      <td>6.22</td>\n",
       "    </tr>\n",
       "  </tbody>\n",
       "</table>\n",
       "</div>"
      ],
      "text/plain": [
       "      OPERATOR_ID  REPORT_YEAR  PARTEUNKNTOTAL  PARTEPRE40TOTAL  \\\n",
       "390         32285         2017             0.0              0.0   \n",
       "2872          473         2010             0.0              0.0   \n",
       "3066        30781         2010             0.0              0.0   \n",
       "2181        32277         2012             0.0              0.0   \n",
       "4557        39050         2016             0.0              0.0   \n",
       "\n",
       "      PARTE1950TOTAL  PARTE1960TOTAL  PARTE1970TOTAL  PARTE1980TOTAL  \\\n",
       "390              0.0             0.0             0.0             0.0   \n",
       "2872             0.0             0.0             0.0             0.0   \n",
       "3066             0.0           290.0            86.0             2.0   \n",
       "2181             0.0             0.0            51.0             0.0   \n",
       "4557             0.0             0.0             0.0             0.0   \n",
       "\n",
       "      PARTE1990TOTAL  PARTE2000TOTAL  PARTE2010TOTAL  PARTETOTAL  \n",
       "390              0.0             0.0            0.00        0.00  \n",
       "2872             0.0           155.0            0.00      155.00  \n",
       "3066             5.0             1.0            0.00      384.00  \n",
       "2181             0.0             0.0            0.00       51.00  \n",
       "4557             0.0             0.0            6.22        6.22  "
      ]
     },
     "execution_count": 27,
     "metadata": {},
     "output_type": "execute_result"
    }
   ],
   "source": [
    "pipelines_age = pipelines[['OPERATOR_ID', 'REPORT_YEAR', 'PARTEUNKNTOTAL', 'PARTEPRE40TOTAL'] + \n",
    "                          [f'PARTE19{decade}0TOTAL' for decade in range(5,10)] + \n",
    "                          ['PARTE2000TOTAL', 'PARTE2010TOTAL', 'PARTETOTAL']]\n",
    "pipelines_age.sample(5)"
   ]
  },
  {
   "cell_type": "code",
   "execution_count": 28,
   "metadata": {},
   "outputs": [
    {
     "name": "stderr",
     "output_type": "stream",
     "text": [
      "R[write to console]: `stat_bin()` using `bins = 30`. Pick better value with `binwidth`.\n",
      "\n"
     ]
    },
    {
     "data": {
      "image/png": "[encoded data removed]"
     },
     "metadata": {},
     "output_type": "display_data"
    }
   ],
   "source": [
    "%%R -i pipelines_age\n",
    "suppressMessages(library(tidyverse))\n",
    "\n",
    "pipelines_age %>%\n",
    "    group_by(OPERATOR_ID, REPORT_YEAR) %>%\n",
    "    mutate(perc_unknown = PARTEUNKNTOTAL / PARTETOTAL) %>%\n",
    "    ggplot(aes(x=perc_unknown)) + \n",
    "    geom_histogram()"
   ]
  },
  {
   "cell_type": "markdown",
   "metadata": {},
   "source": [
    "Unknown age fortunately is not an issue."
   ]
  },
  {
   "cell_type": "code",
   "execution_count": 29,
   "metadata": {},
   "outputs": [
    {
     "name": "stderr",
     "output_type": "stream",
     "text": [
      "R[write to console]: `stat_bin()` using `bins = 30`. Pick better value with `binwidth`.\n",
      "\n"
     ]
    },
    {
     "data": {
      "image/png": "[encoded data removed]"
     },
     "metadata": {},
     "output_type": "display_data"
    }
   ],
   "source": [
    "%%R -i pipelines_age\n",
    "pipelines_age %>%\n",
    "    gather(PARTEPRE40TOTAL, PARTE1950TOTAL, PARTE1960TOTAL, PARTE1970TOTAL, PARTE1980TOTAL, PARTE1990TOTAL, \n",
    "           PARTE2000TOTAL, PARTE2010TOTAL, key = 'DECADE', value = 'MILES') %>%\n",
    "    ggplot(aes(x=MILES)) + \n",
    "    geom_histogram() +\n",
    "    facet_wrap(~DECADE, nrow=3) + \n",
    "    scale_y_log10()"
   ]
  },
  {
   "cell_type": "code",
   "execution_count": 30,
   "metadata": {},
   "outputs": [
    {
     "name": "stderr",
     "output_type": "stream",
     "text": [
      "R[write to console]: `stat_bin()` using `bins = 30`. Pick better value with `binwidth`.\n",
      "\n"
     ]
    },
    {
     "data": {
      "image/png": "[encoded data removed]"
     },
     "metadata": {},
     "output_type": "display_data"
    }
   ],
   "source": [
    "%%R -i pipelines_age\n",
    "pipelines_age %>%\n",
    "    gather(PARTEPRE40TOTAL, PARTE1950TOTAL, PARTE1960TOTAL, PARTE1970TOTAL, PARTE1980TOTAL, PARTE1990TOTAL, \n",
    "           PARTE2000TOTAL, PARTE2010TOTAL, key = 'DECADE', value = 'MILES') %>%\n",
    "    filter(MILES > 100) %>%\n",
    "    ggplot(aes(x=MILES)) + \n",
    "    geom_histogram() +\n",
    "    facet_wrap(~DECADE, nrow=3)"
   ]
  },
  {
   "cell_type": "code",
   "execution_count": 31,
   "metadata": {},
   "outputs": [
    {
     "name": "stdout",
     "output_type": "stream",
     "text": [
      "\u001b[90m# A tibble: 8 x 2\u001b[39m\n",
      "  DECADE          total_miles\n",
      "  \u001b[3m\u001b[90m<chr>\u001b[39m\u001b[23m                 \u001b[3m\u001b[90m<dbl>\u001b[39m\u001b[23m\n",
      "\u001b[90m1\u001b[39m PARTE1950TOTAL      \u001b[4m1\u001b[24m\u001b[4m5\u001b[24m\u001b[4m7\u001b[24m897.\n",
      "\u001b[90m2\u001b[39m PARTE1960TOTAL      \u001b[4m2\u001b[24m\u001b[4m1\u001b[24m\u001b[4m6\u001b[24m401.\n",
      "\u001b[90m3\u001b[39m PARTE1970TOTAL      \u001b[4m2\u001b[24m\u001b[4m0\u001b[24m\u001b[4m2\u001b[24m377.\n",
      "\u001b[90m4\u001b[39m PARTE1980TOTAL      \u001b[4m1\u001b[24m\u001b[4m2\u001b[24m\u001b[4m4\u001b[24m982.\n",
      "\u001b[90m5\u001b[39m PARTE1990TOTAL      \u001b[4m1\u001b[24m\u001b[4m4\u001b[24m\u001b[4m5\u001b[24m727.\n",
      "\u001b[90m6\u001b[39m PARTE2000TOTAL      \u001b[4m1\u001b[24m\u001b[4m0\u001b[24m\u001b[4m4\u001b[24m471.\n",
      "\u001b[90m7\u001b[39m PARTE2010TOTAL      \u001b[4m1\u001b[24m\u001b[4m2\u001b[24m\u001b[4m7\u001b[24m693.\n",
      "\u001b[90m8\u001b[39m PARTEPRE40TOTAL      \u001b[4m1\u001b[24m\u001b[4m3\u001b[24m968.\n"
     ]
    }
   ],
   "source": [
    "%%R -i pipelines_age\n",
    "pipelines_age %>%\n",
    "    gather(PARTEPRE40TOTAL, PARTE1950TOTAL, PARTE1960TOTAL, PARTE1970TOTAL, PARTE1980TOTAL, PARTE1990TOTAL, \n",
    "           PARTE2000TOTAL, PARTE2010TOTAL, key = 'DECADE', value = 'MILES') %>%\n",
    "    group_by(DECADE) %>%\n",
    "    summarize(total_miles = sum(MILES))"
   ]
  },
  {
   "cell_type": "code",
   "execution_count": 32,
   "metadata": {},
   "outputs": [
    {
     "name": "stdout",
     "output_type": "stream",
     "text": [
      "\u001b[90m# A tibble: 8 x 10\u001b[39m\n",
      "\u001b[90m# Groups:   DECADE [8]\u001b[39m\n",
      "  DECADE          `2010` `2011` `2012` `2013` `2014` `2015` `2016` `2017` `2018`\n",
      "  \u001b[3m\u001b[90m<chr>\u001b[39m\u001b[23m            \u001b[3m\u001b[90m<dbl>\u001b[39m\u001b[23m  \u001b[3m\u001b[90m<dbl>\u001b[39m\u001b[23m  \u001b[3m\u001b[90m<dbl>\u001b[39m\u001b[23m  \u001b[3m\u001b[90m<dbl>\u001b[39m\u001b[23m  \u001b[3m\u001b[90m<dbl>\u001b[39m\u001b[23m  \u001b[3m\u001b[90m<dbl>\u001b[39m\u001b[23m  \u001b[3m\u001b[90m<dbl>\u001b[39m\u001b[23m  \u001b[3m\u001b[90m<dbl>\u001b[39m\u001b[23m  \u001b[3m\u001b[90m<dbl>\u001b[39m\u001b[23m\n",
      "\u001b[90m1\u001b[39m PARTE1950TOTAL  \u001b[4m1\u001b[24m\u001b[4m8\u001b[24m215. \u001b[4m1\u001b[24m\u001b[4m7\u001b[24m787. \u001b[4m1\u001b[24m\u001b[4m8\u001b[24m754. \u001b[4m1\u001b[24m\u001b[4m8\u001b[24m026. \u001b[4m1\u001b[24m\u001b[4m6\u001b[24m827. \u001b[4m1\u001b[24m\u001b[4m7\u001b[24m642. \u001b[4m1\u001b[24m\u001b[4m7\u001b[24m164. \u001b[4m1\u001b[24m\u001b[4m6\u001b[24m595. \u001b[4m1\u001b[24m\u001b[4m6\u001b[24m887.\n",
      "\u001b[90m2\u001b[39m PARTE1960TOTAL  \u001b[4m2\u001b[24m\u001b[4m5\u001b[24m484. \u001b[4m2\u001b[24m\u001b[4m5\u001b[24m091. \u001b[4m2\u001b[24m\u001b[4m4\u001b[24m753. \u001b[4m2\u001b[24m\u001b[4m4\u001b[24m387. \u001b[4m2\u001b[24m\u001b[4m3\u001b[24m923. \u001b[4m2\u001b[24m\u001b[4m3\u001b[24m284. \u001b[4m2\u001b[24m\u001b[4m3\u001b[24m782. \u001b[4m2\u001b[24m\u001b[4m3\u001b[24m417. \u001b[4m2\u001b[24m\u001b[4m2\u001b[24m280.\n",
      "\u001b[90m3\u001b[39m PARTE1970TOTAL  \u001b[4m2\u001b[24m\u001b[4m3\u001b[24m080. \u001b[4m2\u001b[24m\u001b[4m3\u001b[24m235. \u001b[4m2\u001b[24m\u001b[4m2\u001b[24m704. \u001b[4m2\u001b[24m\u001b[4m2\u001b[24m526. \u001b[4m2\u001b[24m\u001b[4m2\u001b[24m095. \u001b[4m2\u001b[24m\u001b[4m1\u001b[24m733. \u001b[4m2\u001b[24m\u001b[4m2\u001b[24m518. \u001b[4m2\u001b[24m\u001b[4m2\u001b[24m303. \u001b[4m2\u001b[24m\u001b[4m2\u001b[24m183.\n",
      "\u001b[90m4\u001b[39m PARTE1980TOTAL  \u001b[4m1\u001b[24m\u001b[4m3\u001b[24m802. \u001b[4m1\u001b[24m\u001b[4m3\u001b[24m885. \u001b[4m1\u001b[24m\u001b[4m3\u001b[24m816. \u001b[4m1\u001b[24m\u001b[4m4\u001b[24m206. \u001b[4m1\u001b[24m\u001b[4m3\u001b[24m423. \u001b[4m1\u001b[24m\u001b[4m3\u001b[24m729. \u001b[4m1\u001b[24m\u001b[4m4\u001b[24m179. \u001b[4m1\u001b[24m\u001b[4m4\u001b[24m091. \u001b[4m1\u001b[24m\u001b[4m3\u001b[24m851.\n",
      "\u001b[90m5\u001b[39m PARTE1990TOTAL  \u001b[4m1\u001b[24m\u001b[4m6\u001b[24m440. \u001b[4m1\u001b[24m\u001b[4m6\u001b[24m401. \u001b[4m1\u001b[24m\u001b[4m6\u001b[24m198. \u001b[4m1\u001b[24m\u001b[4m6\u001b[24m289. \u001b[4m1\u001b[24m\u001b[4m5\u001b[24m995. \u001b[4m1\u001b[24m\u001b[4m6\u001b[24m052. \u001b[4m1\u001b[24m\u001b[4m6\u001b[24m007. \u001b[4m1\u001b[24m\u001b[4m5\u001b[24m934. \u001b[4m1\u001b[24m\u001b[4m6\u001b[24m410.\n",
      "\u001b[90m6\u001b[39m PARTE2000TOTAL  \u001b[4m1\u001b[24m\u001b[4m1\u001b[24m546. \u001b[4m1\u001b[24m\u001b[4m1\u001b[24m631. \u001b[4m1\u001b[24m\u001b[4m1\u001b[24m581. \u001b[4m1\u001b[24m\u001b[4m1\u001b[24m683. \u001b[4m1\u001b[24m\u001b[4m0\u001b[24m951. \u001b[4m1\u001b[24m\u001b[4m1\u001b[24m072. \u001b[4m1\u001b[24m\u001b[4m1\u001b[24m479. \u001b[4m1\u001b[24m\u001b[4m1\u001b[24m283. \u001b[4m1\u001b[24m\u001b[4m3\u001b[24m243.\n",
      "\u001b[90m7\u001b[39m PARTE2010TOTAL    484.  \u001b[4m1\u001b[24m686.  \u001b[4m4\u001b[24m072.  \u001b[4m9\u001b[24m935. \u001b[4m1\u001b[24m\u001b[4m5\u001b[24m081. \u001b[4m1\u001b[24m\u001b[4m8\u001b[24m591. \u001b[4m2\u001b[24m\u001b[4m2\u001b[24m780. \u001b[4m2\u001b[24m\u001b[4m6\u001b[24m051. \u001b[4m2\u001b[24m\u001b[4m9\u001b[24m014.\n",
      "\u001b[90m8\u001b[39m PARTEPRE40TOTAL     0      0      0      0   \u001b[4m2\u001b[24m550.  \u001b[4m3\u001b[24m007.  \u001b[4m2\u001b[24m905.  \u001b[4m2\u001b[24m791.  \u001b[4m2\u001b[24m716.\n"
     ]
    }
   ],
   "source": [
    "%%R -i pipelines_age\n",
    "pipelines_age %>%\n",
    "    gather(PARTEPRE40TOTAL, PARTE1950TOTAL, PARTE1960TOTAL, PARTE1970TOTAL, PARTE1980TOTAL, PARTE1990TOTAL, \n",
    "           PARTE2000TOTAL, PARTE2010TOTAL, key = 'DECADE', value = 'MILES') %>%\n",
    "    group_by(DECADE, REPORT_YEAR) %>%\n",
    "    summarize(total_miles = sum(MILES)) %>%\n",
    "    spread(REPORT_YEAR, total_miles)"
   ]
  },
  {
   "cell_type": "markdown",
   "metadata": {},
   "source": [
    "The distribution across decades is surprisingly balanced. Strong trends are not discernible, there is the construction of new pipelines, and some pre-1980 pipelines are being retired."
   ]
  },
  {
   "cell_type": "markdown",
   "metadata": {},
   "source": [
    "## 2.6 How much % is offshore?"
   ]
  },
  {
   "cell_type": "code",
   "execution_count": 33,
   "metadata": {},
   "outputs": [],
   "source": [
    "pipeline_offshore = pipelines[['OPERATOR_ID', 'REPORT_YEAR', 'PARTBHCAOFFSHORE', 'PARTBHCATOTAL', 'PARTA5COMMODITY']]"
   ]
  },
  {
   "cell_type": "code",
   "execution_count": 34,
   "metadata": {},
   "outputs": [
    {
     "data": {
      "text/plain": [
       "True     4676\n",
       "False     633\n",
       "Name: PARTBHCAOFFSHORE, dtype: int64"
      ]
     },
     "execution_count": 34,
     "metadata": {},
     "output_type": "execute_result"
    }
   ],
   "source": [
    "pipeline_offshore['PARTBHCAOFFSHORE'].isna().value_counts()"
   ]
  },
  {
   "cell_type": "code",
   "execution_count": 35,
   "metadata": {},
   "outputs": [
    {
     "name": "stdout",
     "output_type": "stream",
     "text": [
      "\u001b[90m# A tibble: 9 x 2\u001b[39m\n",
      "  REPORT_YEAR perc_na\n",
      "        \u001b[3m\u001b[90m<int>\u001b[39m\u001b[23m   \u001b[3m\u001b[90m<dbl>\u001b[39m\u001b[23m\n",
      "\u001b[90m1\u001b[39m        \u001b[4m2\u001b[24m010   0.862\n",
      "\u001b[90m2\u001b[39m        \u001b[4m2\u001b[24m011   0.869\n",
      "\u001b[90m3\u001b[39m        \u001b[4m2\u001b[24m012   0.888\n",
      "\u001b[90m4\u001b[39m        \u001b[4m2\u001b[24m013   0.859\n",
      "\u001b[90m5\u001b[39m        \u001b[4m2\u001b[24m014   0.883\n",
      "\u001b[90m6\u001b[39m        \u001b[4m2\u001b[24m015   0.893\n",
      "\u001b[90m7\u001b[39m        \u001b[4m2\u001b[24m016   0.897\n",
      "\u001b[90m8\u001b[39m        \u001b[4m2\u001b[24m017   0.863\n",
      "\u001b[90m9\u001b[39m        \u001b[4m2\u001b[24m018   0.905\n"
     ]
    }
   ],
   "source": [
    "%%R -i pipeline_offshore\n",
    "pipeline_offshore %>% \n",
    "    group_by(REPORT_YEAR) %>%\n",
    "    summarize(perc_na = mean(is.na(PARTBHCAOFFSHORE)))"
   ]
  },
  {
   "cell_type": "code",
   "execution_count": 36,
   "metadata": {},
   "outputs": [
    {
     "name": "stdout",
     "output_type": "stream",
     "text": [
      "\u001b[90m# A tibble: 5 x 2\u001b[39m\n",
      "  PARTA5COMMODITY                            perc_na\n",
      "  \u001b[3m\u001b[90m<chr>\u001b[39m\u001b[23m                                        \u001b[3m\u001b[90m<dbl>\u001b[39m\u001b[23m\n",
      "\u001b[90m1\u001b[39m CO2                                          0.959\n",
      "\u001b[90m2\u001b[39m Crude Oil                                    0.779\n",
      "\u001b[90m3\u001b[39m Fuel Grade Ethanol (dedicated system)        1    \n",
      "\u001b[90m4\u001b[39m HVL                                          0.955\n",
      "\u001b[90m5\u001b[39m Refined and/or Petroleum Product (non-HVL)   0.926\n"
     ]
    }
   ],
   "source": [
    "%%R -i pipeline_offshore\n",
    "pipeline_offshore %>% \n",
    "    group_by(PARTA5COMMODITY) %>%\n",
    "    summarize(perc_na = mean(is.na(PARTBHCAOFFSHORE)))"
   ]
  },
  {
   "cell_type": "code",
   "execution_count": 37,
   "metadata": {},
   "outputs": [
    {
     "name": "stdout",
     "output_type": "stream",
     "text": [
      "\n",
      "0.0 0.1 0.2 0.3 0.4 0.5 0.6 0.7 0.8 0.9 1.0 \n",
      " 46   5   5   3   3   5   9  24  34  72 497 \n"
     ]
    }
   ],
   "source": [
    "%%R -i pipeline_offshore\n",
    "pipeline_offshore %>% \n",
    "    mutate(missing_offshore = is.na(PARTBHCAOFFSHORE)) %>%\n",
    "    group_by(OPERATOR_ID) %>%\n",
    "    summarize(perc_missing = sprintf(\"%0.1f\", sum(missing_offshore) / n())) %>%\n",
    "    {table(.$perc_missing)}"
   ]
  },
  {
   "cell_type": "code",
   "execution_count": 38,
   "metadata": {},
   "outputs": [
    {
     "name": "stdout",
     "output_type": "stream",
     "text": [
      "\n",
      "0.00 0.01 0.02 0.05 0.06 0.10 0.20 0.25 0.34 0.36 0.41 0.57 0.62 0.70 0.71 0.80 \n",
      "  12    2    1    1    1    1    1    1    1    1    1    1    1    1    1    1 \n",
      "0.84 0.85 0.86 0.91 0.99 1.00 \n",
      "   1    1    1    1    1    4 \n"
     ]
    }
   ],
   "source": [
    "%%R -i pipeline_offshore\n",
    "\n",
    "pipeline_offshore %>% \n",
    "    #Picking a year at random\n",
    "    filter(REPORT_YEAR == 2015) %>%\n",
    "    mutate(perc_offshore = sprintf(\"%0.2f\", PARTBHCAOFFSHORE / PARTBHCATOTAL)) %>%\n",
    "    {table(.$perc_offshore)}"
   ]
  },
  {
   "cell_type": "code",
   "execution_count": 39,
   "metadata": {},
   "outputs": [
    {
     "name": "stdout",
     "output_type": "stream",
     "text": [
      "     \n",
      "      2010 2011 2012 2013 2014 2015 2016 2017 2018\n",
      "  0.0   37   34   31   47   23   16   17   41   19\n",
      "  0.1    5    4    2    4    3    2    3    3    3\n",
      "  0.2    1    1    1    1    1    1    2    2    3\n",
      "  0.3    2    3    2    3    2    2    1    0    0\n",
      "  0.4    2    2    1    1    2    2    2    1    1\n",
      "  0.5    0    0    0    0    0    0    1    1    1\n",
      "  0.6    1    1    1    1    1    2    2    2    3\n",
      "  0.7    2    2    1    1    1    2    1    2    3\n",
      "  0.8    0    0    1    2    2    2    0    0    0\n",
      "  0.9    4    5    5    3    2    3    3    3    2\n",
      "  1.0    9   10   12   12    7    5    8    6    7\n"
     ]
    }
   ],
   "source": [
    "%%R -i pipeline_offshore\n",
    "pipeline_offshore %>% \n",
    "    #Picking a year at random\n",
    "    mutate(perc_offshore = sprintf(\"%0.1f\", PARTBHCAOFFSHORE / PARTBHCATOTAL)) %>%\n",
    "    {table(.$perc_offshore, .$REPORT_YEAR)}"
   ]
  },
  {
   "cell_type": "markdown",
   "metadata": {},
   "source": [
    "Are there any values close to 1, but not equal to 1?"
   ]
  },
  {
   "cell_type": "code",
   "execution_count": 40,
   "metadata": {},
   "outputs": [
    {
     "name": "stdout",
     "output_type": "stream",
     "text": [
      "      \n",
      "       2010 2011 2012 2013 2014 2015 2016 2017 2018\n",
      "  0.80    0    0    1    1    1    1    0    0    0\n",
      "  0.84    0    0    0    0    1    1    0    0    0\n",
      "  0.85    0    0    0    0    0    1    1    0    0\n",
      "  0.86    1    1    2    2    2    1    1    2    0\n",
      "  0.87    1    1    0    0    0    0    0    0    0\n",
      "  0.88    1    1    1    0    0    0    0    0    0\n",
      "  0.91    1    1    1    0    0    1    1    1    1\n",
      "  0.92    0    1    1    1    0    0    0    0    0\n",
      "  0.94    0    0    0    0    0    0    0    0    1\n",
      "  0.97    1    1    1    1    0    0    0    0    0\n",
      "  0.99    0    0    1    1    0    1    1    1    0\n",
      "  1.00    8    9   10   10    7    4    7    5    7\n"
     ]
    }
   ],
   "source": [
    "%%R -i pipeline_offshore\n",
    "pipeline_offshore %>% \n",
    "    mutate(perc_offshore = sprintf(\"%0.2f\", PARTBHCAOFFSHORE / PARTBHCATOTAL)) %>%\n",
    "    filter(perc_offshore > 0.8) %>%\n",
    "    {table(.$perc_offshore, .$REPORT_YEAR)}"
   ]
  },
  {
   "cell_type": "markdown",
   "metadata": {},
   "source": [
    "The presence of organizations that have a high share of offshore is somewhat concerning, because the data on the age of the pipelines does not differentiate between on and offshore. We could rectify this issue by removing any operators with offshore pipelines, since most operators do not have offshore pipelines. Let's see hwo many observations we would lose."
   ]
  },
  {
   "cell_type": "code",
   "execution_count": 41,
   "metadata": {},
   "outputs": [
    {
     "name": "stdout",
     "output_type": "stream",
     "text": [
      "\n",
      "0.00 0.01 0.02 0.03 0.04 0.05 0.06 0.07 0.08 0.09 0.10 0.11 0.12 0.13 0.14 0.16 \n",
      "5061    9    9    4    7    6    7    1    4    3    5    2    1    2    1    4 \n",
      "0.17 0.19 0.20 0.21 0.24 0.25 0.29 0.30 0.34 0.35 0.36 0.37 0.38 0.39 0.40 0.41 \n",
      "   1    2    3    2    1    7    2    1    4    1    5    1    1    1    2    3 \n",
      "0.45 0.55 0.57 0.58 0.62 0.68 0.69 0.70 0.71 0.72 0.74 0.78 0.80 0.84 0.85 0.86 \n",
      "   1    3    9    1    4    5    1    3    3    1    2    1    4    2    2   12 \n",
      "0.87 0.88 0.91 0.92 0.94 0.97 0.99 1.00 \n",
      "   2    3    7    3    1    4    5   67 \n"
     ]
    }
   ],
   "source": [
    "%%R -i pipeline_offshore\n",
    "pipeline_offshore %>% \n",
    "    mutate(perc_offshore = PARTBHCAOFFSHORE / PARTBHCATOTAL) %>%\n",
    "    mutate(perc_offshore = ifelse(is.na(perc_offshore), 0, perc_offshore)) %>%\n",
    "    mutate(perc_offshore = sprintf(\"%0.2f\", perc_offshore)) %>%\n",
    "    {table(.$perc_offshore)}"
   ]
  },
  {
   "cell_type": "markdown",
   "metadata": {},
   "source": [
    "Looks like we can exclude offshore without losing too many observations."
   ]
  },
  {
   "cell_type": "code",
   "execution_count": 42,
   "metadata": {},
   "outputs": [
    {
     "name": "stdout",
     "output_type": "stream",
     "text": [
      "\n",
      "0.0 0.1 0.2 0.3 0.4 0.6 0.7 0.8 0.9 1.0 \n",
      "660   5   2   2   2   2   2   1   6  21 \n"
     ]
    }
   ],
   "source": [
    "%%R -i pipeline_offshore\n",
    "pipeline_offshore %>%\n",
    "    mutate(perc_offshore = PARTBHCAOFFSHORE / PARTBHCATOTAL) %>%\n",
    "    mutate(perc_offshore = ifelse(is.na(perc_offshore), 0, perc_offshore)) %>%\n",
    "    group_by(OPERATOR_ID) %>%\n",
    "    summarize(offshore_max = max(perc_offshore)) %>%\n",
    "    mutate(offshore_max = sprintf(\"%0.1f\", offshore_max)) %>%\n",
    "    {table(.$offshore_max)}"
   ]
  },
  {
   "cell_type": "markdown",
   "metadata": {},
   "source": [
    "By setting a strict limit of no offshore, we will lose 43 out of 703 observations (organizations)."
   ]
  },
  {
   "cell_type": "markdown",
   "metadata": {},
   "source": [
    "## 2.7 FERC Notices"
   ]
  },
  {
   "cell_type": "code",
   "execution_count": 43,
   "metadata": {},
   "outputs": [
    {
     "data": {
      "text/plain": [
       "27890"
      ]
     },
     "execution_count": 43,
     "metadata": {},
     "output_type": "execute_result"
    }
   ],
   "source": [
    "notices = pd.read_csv('../data/ferc_notices_2019-08-01.csv')\n",
    "\n",
    "len(notices)"
   ]
  },
  {
   "cell_type": "markdown",
   "metadata": {},
   "source": [
    "Check whether any notes were read incorrectly (too many requests)."
   ]
  },
  {
   "cell_type": "code",
   "execution_count": 44,
   "metadata": {},
   "outputs": [
    {
     "data": {
      "text/plain": [
       "False    27890\n",
       "Name: full-text, dtype: int64"
      ]
     },
     "execution_count": 44,
     "metadata": {},
     "output_type": "execute_result"
    }
   ],
   "source": [
    "notices['full-text'].str.contains('too manyrequests').value_counts()"
   ]
  }
 ],
 "metadata": {
  "kernelspec": {
   "display_name": "oil_industry",
   "language": "python",
   "name": "oil_industry"
  },
  "language_info": {
   "codemirror_mode": {
    "name": "ipython",
    "version": 3
   },
   "file_extension": ".py",
   "mimetype": "text/x-python",
   "name": "python",
   "nbconvert_exporter": "python",
   "pygments_lexer": "ipython3",
   "version": "3.6.8"
  },
  "pycharm": {
   "stem_cell": {
    "cell_type": "raw",
    "metadata": {
     "collapsed": false
    },
    "source": []
   }
  }
 },
 "nbformat": 4,
 "nbformat_minor": 4
}
