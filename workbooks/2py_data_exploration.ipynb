{
 "cells": [
  {
   "cell_type": "markdown",
   "metadata": {
    "pycharm": {
     "name": "#%% md\n"
    }
   },
   "source": [
    "\n",
    "# 2 - Data exploration\n"
   ]
  },
  {
   "cell_type": "code",
   "execution_count": 1,
   "metadata": {
    "collapsed": false,
    "jupyter": {
     "outputs_hidden": false
    },
    "pycharm": {
     "is_executing": false,
     "name": "#%% \n"
    }
   },
   "outputs": [],
   "source": [
    "# import parameters\n",
    "import pandas as pd\n",
    "import matplotlib.pyplot as plt\n",
    "import numpy as np\n",
    "\n",
    "plt.rcParams[\"figure.figsize\"] = (20,10)"
   ]
  },
  {
   "cell_type": "markdown",
   "metadata": {},
   "source": [
    "## 2.1 Incidents data overview"
   ]
  },
  {
   "cell_type": "code",
   "execution_count": 2,
   "metadata": {
    "collapsed": false,
    "jupyter": {
     "outputs_hidden": false
    },
    "pycharm": {
     "is_executing": false,
     "name": "#%%\n"
    }
   },
   "outputs": [
    {
     "data": {
      "text/html": [
       "<div>\n",
       "<style scoped>\n",
       "    .dataframe tbody tr th:only-of-type {\n",
       "        vertical-align: middle;\n",
       "    }\n",
       "\n",
       "    .dataframe tbody tr th {\n",
       "        vertical-align: top;\n",
       "    }\n",
       "\n",
       "    .dataframe thead th {\n",
       "        text-align: right;\n",
       "    }\n",
       "</style>\n",
       "<table border=\"1\" class=\"dataframe\">\n",
       "  <thead>\n",
       "    <tr style=\"text-align: right;\">\n",
       "      <th></th>\n",
       "      <th>DATAFILE_AS_OF</th>\n",
       "      <th>SIGNIFICANT</th>\n",
       "      <th>SERIOUS</th>\n",
       "      <th>IPE</th>\n",
       "      <th>IA_IPE</th>\n",
       "      <th>OM_IPE</th>\n",
       "      <th>REPORT_NUMBER</th>\n",
       "      <th>SUPPLEMENTAL_NUMBER</th>\n",
       "      <th>REPORT_RECEIVED_DATE</th>\n",
       "      <th>REPORT_TYPE</th>\n",
       "      <th>...</th>\n",
       "      <th>PREPARER_TITLE</th>\n",
       "      <th>PREPARER_EMAIL</th>\n",
       "      <th>PREPARER_TELEPHONE</th>\n",
       "      <th>PREPARER_FAX</th>\n",
       "      <th>PREPARED_DATE</th>\n",
       "      <th>AUTHORIZER_NAME</th>\n",
       "      <th>AUTHORIZER_TITLE</th>\n",
       "      <th>AUTHORIZER_TELEPHONE</th>\n",
       "      <th>AUTHORIZER_EMAIL</th>\n",
       "      <th>NARRATIVE</th>\n",
       "    </tr>\n",
       "  </thead>\n",
       "  <tbody>\n",
       "    <tr>\n",
       "      <th>2239</th>\n",
       "      <td>2019-07-31 08:37:40</td>\n",
       "      <td>YES</td>\n",
       "      <td>NO</td>\n",
       "      <td>YES</td>\n",
       "      <td>YES</td>\n",
       "      <td>NO</td>\n",
       "      <td>20150373</td>\n",
       "      <td>23043</td>\n",
       "      <td>2015-10-23 10:21:08</td>\n",
       "      <td>SUPPLEMENTAL FINAL</td>\n",
       "      <td>...</td>\n",
       "      <td>SENIOR COMPLIANCE SPECIALIST</td>\n",
       "      <td>cstrickler@buckeye.com</td>\n",
       "      <td>610-904-4410</td>\n",
       "      <td>NaN</td>\n",
       "      <td>2018-01-15</td>\n",
       "      <td>CLAUDIA PANKIOWSK</td>\n",
       "      <td>DIRECTOR REGULATORY COMPLIANCE</td>\n",
       "      <td>610-904-4113</td>\n",
       "      <td>cpankowski@buckeye.com</td>\n",
       "      <td>AT 9/23/2015 14:00, LOCAL BUCKEYE OPERATIONS P...</td>\n",
       "    </tr>\n",
       "    <tr>\n",
       "      <th>1390</th>\n",
       "      <td>2019-07-31 08:37:40</td>\n",
       "      <td>YES</td>\n",
       "      <td>NO</td>\n",
       "      <td>NO</td>\n",
       "      <td>NO</td>\n",
       "      <td>NO</td>\n",
       "      <td>20130368</td>\n",
       "      <td>19512</td>\n",
       "      <td>2013-11-15 09:38:03</td>\n",
       "      <td>SUPPLEMENTAL FINAL</td>\n",
       "      <td>...</td>\n",
       "      <td>DOT COORDINATOR</td>\n",
       "      <td>m.todd.fuksa@p66.com</td>\n",
       "      <td>832-765-1632</td>\n",
       "      <td>NaN</td>\n",
       "      <td>2014-06-26</td>\n",
       "      <td>TODD TULLIO</td>\n",
       "      <td>MANAGER REGULATORY COMPLIANCE</td>\n",
       "      <td>832-765-1636</td>\n",
       "      <td>todd.l.tullio@p66.com</td>\n",
       "      <td>AFTER HEAVY RAINS OPERATIONS WERE INVESTIGATIN...</td>\n",
       "    </tr>\n",
       "    <tr>\n",
       "      <th>3110</th>\n",
       "      <td>2019-07-31 08:37:40</td>\n",
       "      <td>NO</td>\n",
       "      <td>NO</td>\n",
       "      <td>YES</td>\n",
       "      <td>YES</td>\n",
       "      <td>NO</td>\n",
       "      <td>20170359</td>\n",
       "      <td>23065</td>\n",
       "      <td>2017-11-08 09:35:52</td>\n",
       "      <td>SUPPLEMENTAL FINAL</td>\n",
       "      <td>...</td>\n",
       "      <td>HES PROFESSIONAL</td>\n",
       "      <td>dmshay@marathonpetroleum.com</td>\n",
       "      <td>419-421-2121</td>\n",
       "      <td>NaN</td>\n",
       "      <td>2018-01-24</td>\n",
       "      <td>RANDALL W. BISHOP</td>\n",
       "      <td>REGULATORY AND COMPLIANCE SUPERVISOR</td>\n",
       "      <td>419-421-2121</td>\n",
       "      <td>rwbishop@marathonpetroleum.com</td>\n",
       "      <td>ON OCTOBER 12, 2017 CONTRACT CREWS WERE ON-SIT...</td>\n",
       "    </tr>\n",
       "    <tr>\n",
       "      <th>831</th>\n",
       "      <td>2019-07-31 08:37:40</td>\n",
       "      <td>YES</td>\n",
       "      <td>NO</td>\n",
       "      <td>NO</td>\n",
       "      <td>NO</td>\n",
       "      <td>NO</td>\n",
       "      <td>20120176</td>\n",
       "      <td>18304</td>\n",
       "      <td>2012-06-08 09:23:09</td>\n",
       "      <td>SUPPLEMENTAL FINAL</td>\n",
       "      <td>...</td>\n",
       "      <td>COMPLIANCE SPECIALIST</td>\n",
       "      <td>hsandler@buckeye.com</td>\n",
       "      <td>610-904-4916</td>\n",
       "      <td>610-904-4545</td>\n",
       "      <td>2013-07-19</td>\n",
       "      <td>JOHN REINBOLD</td>\n",
       "      <td>COMPLIANCE MANAGER</td>\n",
       "      <td>610-904-4185</td>\n",
       "      <td>jreinbold@buckeye.com</td>\n",
       "      <td>AT APPROXIMATELY 14:18 ON APRIL 5, 2012, A STA...</td>\n",
       "    </tr>\n",
       "    <tr>\n",
       "      <th>646</th>\n",
       "      <td>2019-07-31 08:37:40</td>\n",
       "      <td>NO</td>\n",
       "      <td>NO</td>\n",
       "      <td>NO</td>\n",
       "      <td>NO</td>\n",
       "      <td>NO</td>\n",
       "      <td>20110444</td>\n",
       "      <td>17550</td>\n",
       "      <td>2011-12-10 14:09:22</td>\n",
       "      <td>SUPPLEMENTAL FINAL</td>\n",
       "      <td>...</td>\n",
       "      <td>DOT COMPLIANCE ADVISOR</td>\n",
       "      <td>fitzsl@bp.com</td>\n",
       "      <td>281-217-3703</td>\n",
       "      <td>630-420-5519</td>\n",
       "      <td>2013-03-15</td>\n",
       "      <td>MICHAEL SANDERS</td>\n",
       "      <td>DOT TEAM LEADER - AFFILIATES</td>\n",
       "      <td>630-536-3495</td>\n",
       "      <td>sandm9@bp.com</td>\n",
       "      <td>ON NOVEMBER 21, 2011, A TERMINAL TECHNICIAN WA...</td>\n",
       "    </tr>\n",
       "  </tbody>\n",
       "</table>\n",
       "<p>5 rows × 606 columns</p>\n",
       "</div>"
      ],
      "text/plain": [
       "          DATAFILE_AS_OF SIGNIFICANT SERIOUS  IPE IA_IPE OM_IPE  \\\n",
       "2239 2019-07-31 08:37:40         YES      NO  YES    YES     NO   \n",
       "1390 2019-07-31 08:37:40         YES      NO   NO     NO     NO   \n",
       "3110 2019-07-31 08:37:40          NO      NO  YES    YES     NO   \n",
       "831  2019-07-31 08:37:40         YES      NO   NO     NO     NO   \n",
       "646  2019-07-31 08:37:40          NO      NO   NO     NO     NO   \n",
       "\n",
       "      REPORT_NUMBER  SUPPLEMENTAL_NUMBER REPORT_RECEIVED_DATE  \\\n",
       "2239       20150373                23043  2015-10-23 10:21:08   \n",
       "1390       20130368                19512  2013-11-15 09:38:03   \n",
       "3110       20170359                23065  2017-11-08 09:35:52   \n",
       "831        20120176                18304  2012-06-08 09:23:09   \n",
       "646        20110444                17550  2011-12-10 14:09:22   \n",
       "\n",
       "             REPORT_TYPE  ...                PREPARER_TITLE  \\\n",
       "2239  SUPPLEMENTAL FINAL  ...  SENIOR COMPLIANCE SPECIALIST   \n",
       "1390  SUPPLEMENTAL FINAL  ...               DOT COORDINATOR   \n",
       "3110  SUPPLEMENTAL FINAL  ...              HES PROFESSIONAL   \n",
       "831   SUPPLEMENTAL FINAL  ...         COMPLIANCE SPECIALIST   \n",
       "646   SUPPLEMENTAL FINAL  ...        DOT COMPLIANCE ADVISOR   \n",
       "\n",
       "                    PREPARER_EMAIL PREPARER_TELEPHONE  PREPARER_FAX  \\\n",
       "2239        cstrickler@buckeye.com       610-904-4410           NaN   \n",
       "1390          m.todd.fuksa@p66.com       832-765-1632           NaN   \n",
       "3110  dmshay@marathonpetroleum.com       419-421-2121           NaN   \n",
       "831           hsandler@buckeye.com       610-904-4916  610-904-4545   \n",
       "646                  fitzsl@bp.com       281-217-3703  630-420-5519   \n",
       "\n",
       "     PREPARED_DATE    AUTHORIZER_NAME                      AUTHORIZER_TITLE  \\\n",
       "2239    2018-01-15  CLAUDIA PANKIOWSK        DIRECTOR REGULATORY COMPLIANCE   \n",
       "1390    2014-06-26        TODD TULLIO         MANAGER REGULATORY COMPLIANCE   \n",
       "3110    2018-01-24  RANDALL W. BISHOP  REGULATORY AND COMPLIANCE SUPERVISOR   \n",
       "831     2013-07-19      JOHN REINBOLD                    COMPLIANCE MANAGER   \n",
       "646     2013-03-15    MICHAEL SANDERS          DOT TEAM LEADER - AFFILIATES   \n",
       "\n",
       "      AUTHORIZER_TELEPHONE                AUTHORIZER_EMAIL  \\\n",
       "2239          610-904-4113          cpankowski@buckeye.com   \n",
       "1390          832-765-1636           todd.l.tullio@p66.com   \n",
       "3110          419-421-2121  rwbishop@marathonpetroleum.com   \n",
       "831           610-904-4185           jreinbold@buckeye.com   \n",
       "646           630-536-3495                   sandm9@bp.com   \n",
       "\n",
       "                                              NARRATIVE  \n",
       "2239  AT 9/23/2015 14:00, LOCAL BUCKEYE OPERATIONS P...  \n",
       "1390  AFTER HEAVY RAINS OPERATIONS WERE INVESTIGATIN...  \n",
       "3110  ON OCTOBER 12, 2017 CONTRACT CREWS WERE ON-SIT...  \n",
       "831   AT APPROXIMATELY 14:18 ON APRIL 5, 2012, A STA...  \n",
       "646   ON NOVEMBER 21, 2011, A TERMINAL TECHNICIAN WA...  \n",
       "\n",
       "[5 rows x 606 columns]"
      ]
     },
     "execution_count": 2,
     "metadata": {},
     "output_type": "execute_result"
    }
   ],
   "source": [
    "incidents = pd.read_excel('../data/incidents_2019-08-09/hl2010toPresent.xlsx', \n",
    "                          sheet_name=1)\n",
    "\n",
    "incidents.sample(5)"
   ]
  },
  {
   "cell_type": "code",
   "execution_count": 3,
   "metadata": {
    "collapsed": false,
    "jupyter": {
     "outputs_hidden": false
    },
    "pycharm": {
     "is_executing": false,
     "name": "#%%\n"
    }
   },
   "outputs": [
    {
     "data": {
      "text/plain": [
       "ENTERPRISE CRUDE PIPELINE LLC          276\n",
       "ENTERPRISE PRODUCTS OPERATING LLC      214\n",
       "SUNOCO PIPELINE L.P.                   211\n",
       "PLAINS PIPELINE, L.P.                  203\n",
       "MAGELLAN PIPELINE COMPANY, LP          180\n",
       "COLONIAL PIPELINE CO                   177\n",
       "BUCKEYE PARTNERS, LP                   148\n",
       "PHILLIPS 66 PIPELINE LLC               121\n",
       "KINDER MORGAN LIQUID TERMINALS, LLC    117\n",
       "MARATHON PIPE LINE LLC                 111\n",
       "Name: NAME, dtype: int64"
      ]
     },
     "execution_count": 3,
     "metadata": {},
     "output_type": "execute_result"
    }
   ],
   "source": [
    "incidents['NAME'].value_counts().head(10)"
   ]
  },
  {
   "cell_type": "code",
   "execution_count": 4,
   "metadata": {
    "collapsed": false,
    "jupyter": {
     "outputs_hidden": false
    },
    "pycharm": {
     "name": "#%%\n"
    }
   },
   "outputs": [
    {
     "data": {
      "text/plain": [
       "30829    282\n",
       "31618    214\n",
       "18718    211\n",
       "300      202\n",
       "22610    180\n",
       "2552     177\n",
       "31684    155\n",
       "1845     148\n",
       "26041    117\n",
       "32109    112\n",
       "Name: OPERATOR_ID, dtype: int64"
      ]
     },
     "execution_count": 4,
     "metadata": {},
     "output_type": "execute_result"
    }
   ],
   "source": [
    "incidents['OPERATOR_ID'].value_counts().head(10)"
   ]
  },
  {
   "cell_type": "code",
   "execution_count": 5,
   "metadata": {},
   "outputs": [
    {
     "data": {
      "text/plain": [
       "array(['REFINED AND/OR PETROLEUM PRODUCT (NON-HVL) WHICH IS A LIQUID AT AMBIENT CONDITIONS',\n",
       "       'CO2 (CARBON DIOXIDE)',\n",
       "       'HVL OR OTHER FLAMMABLE OR TOXIC FLUID WHICH IS A GAS AT AMBIENT CONDITIONS',\n",
       "       'CRUDE OIL',\n",
       "       'BIOFUEL / ALTERNATIVE FUEL(INCLUDING ETHANOL BLENDS)'],\n",
       "      dtype=object)"
      ]
     },
     "execution_count": 5,
     "metadata": {},
     "output_type": "execute_result"
    }
   ],
   "source": [
    "incidents['COMMODITY_RELEASED_TYPE'].unique()"
   ]
  },
  {
   "cell_type": "markdown",
   "metadata": {},
   "source": [
    "There seem to be some minor discrepancies between ID and name. Matching every ID to its most common company name should fix it. "
   ]
  },
  {
   "cell_type": "code",
   "execution_count": 6,
   "metadata": {},
   "outputs": [
    {
     "data": {
      "text/plain": [
       "<matplotlib.axes._subplots.AxesSubplot at 0x7f7e55226eb8>"
      ]
     },
     "execution_count": 6,
     "metadata": {},
     "output_type": "execute_result"
    },
    {
     "data": {
      "image/png": "[encoded data removed]",
      "text/plain": [
       "<Figure size 1440x720 with 1 Axes>"
      ]
     },
     "metadata": {
      "needs_background": "light"
     },
     "output_type": "display_data"
    }
   ],
   "source": [
    "incidents['OPERATOR_ID'].value_counts().hist(bins=30, figsize=(20, 10))"
   ]
  },
  {
   "cell_type": "code",
   "execution_count": 7,
   "metadata": {},
   "outputs": [
    {
     "data": {
      "text/plain": [
       "3819"
      ]
     },
     "execution_count": 7,
     "metadata": {},
     "output_type": "execute_result"
    }
   ],
   "source": [
    "len(incidents)"
   ]
  },
  {
   "cell_type": "markdown",
   "metadata": {},
   "source": [
    "## 2.2 Oil pipeline data"
   ]
  },
  {
   "cell_type": "code",
   "execution_count": 8,
   "metadata": {},
   "outputs": [
    {
     "data": {
      "text/html": [
       "<div>\n",
       "<style scoped>\n",
       "    .dataframe tbody tr th:only-of-type {\n",
       "        vertical-align: middle;\n",
       "    }\n",
       "\n",
       "    .dataframe tbody tr th {\n",
       "        vertical-align: top;\n",
       "    }\n",
       "\n",
       "    .dataframe thead th {\n",
       "        text-align: right;\n",
       "    }\n",
       "</style>\n",
       "<table border=\"1\" class=\"dataframe\">\n",
       "  <thead>\n",
       "    <tr style=\"text-align: right;\">\n",
       "      <th></th>\n",
       "      <th>DATAFILE_AS_OF</th>\n",
       "      <th>REPORT_YEAR</th>\n",
       "      <th>REPORT_NUMBER</th>\n",
       "      <th>SUPPLEMENTAL_NUMBER</th>\n",
       "      <th>OPERATOR_ID</th>\n",
       "      <th>PARTA2NAMEOFCOMP</th>\n",
       "      <th>PARTA4STREET</th>\n",
       "      <th>PARTA4CITY</th>\n",
       "      <th>PARTA4STATE</th>\n",
       "      <th>PARTA4ZIP</th>\n",
       "      <th>...</th>\n",
       "      <th>PARTE2010HF</th>\n",
       "      <th>PARTE2010LF</th>\n",
       "      <th>PARTE2010TOTAL</th>\n",
       "      <th>PARTETOTAL</th>\n",
       "      <th>PARTETOTALHF</th>\n",
       "      <th>PARTETOTALLF</th>\n",
       "      <th>REPORT_SUBMISSION_TYPE</th>\n",
       "      <th>REPORT_DATE</th>\n",
       "      <th>FILING_DATE</th>\n",
       "      <th>FORM_REV</th>\n",
       "    </tr>\n",
       "  </thead>\n",
       "  <tbody>\n",
       "    <tr>\n",
       "      <th>205</th>\n",
       "      <td>2019-08-01 13:10:42</td>\n",
       "      <td>2010</td>\n",
       "      <td>20110014</td>\n",
       "      <td>11084</td>\n",
       "      <td>30901</td>\n",
       "      <td>AIRCRAFT SERVICES INTERNATIONAL GROUP (ASIG)</td>\n",
       "      <td>6000 DEHAVILLAND DRIVE</td>\n",
       "      <td>ANCHORAGE</td>\n",
       "      <td>AK</td>\n",
       "      <td>99502</td>\n",
       "      <td>...</td>\n",
       "      <td>0.0</td>\n",
       "      <td>0.0</td>\n",
       "      <td>0.0</td>\n",
       "      <td>7.10</td>\n",
       "      <td>7.10</td>\n",
       "      <td>0.00</td>\n",
       "      <td>SUPPLEMENTAL</td>\n",
       "      <td>2011-07-28 18:23:42</td>\n",
       "      <td>2012-05-15 14:03:24</td>\n",
       "      <td>7000-1.1 (Rev. 06-2011)</td>\n",
       "    </tr>\n",
       "    <tr>\n",
       "      <th>147</th>\n",
       "      <td>2019-08-01 13:10:42</td>\n",
       "      <td>2010</td>\n",
       "      <td>20110317</td>\n",
       "      <td>10379</td>\n",
       "      <td>26041</td>\n",
       "      <td>KINDER MORGAN LIQUID TERMINALS, LLC</td>\n",
       "      <td>500 DALLAS</td>\n",
       "      <td>HOUSTON</td>\n",
       "      <td>TX</td>\n",
       "      <td>77002</td>\n",
       "      <td>...</td>\n",
       "      <td>0.0</td>\n",
       "      <td>0.0</td>\n",
       "      <td>0.0</td>\n",
       "      <td>0.73</td>\n",
       "      <td>0.73</td>\n",
       "      <td>0.00</td>\n",
       "      <td>SUPPLEMENTAL</td>\n",
       "      <td>2011-08-15 17:28:04</td>\n",
       "      <td>2011-08-16 11:33:05</td>\n",
       "      <td>7000-1.1 (Rev. 06-2011)</td>\n",
       "    </tr>\n",
       "    <tr>\n",
       "      <th>100</th>\n",
       "      <td>2019-08-01 13:10:42</td>\n",
       "      <td>2010</td>\n",
       "      <td>20110252</td>\n",
       "      <td>11573</td>\n",
       "      <td>15774</td>\n",
       "      <td>ENBRIDGE PIPELINES (NORTH DAKOTA) LLC</td>\n",
       "      <td>1100 LOUISIANA, SUITE 3300</td>\n",
       "      <td>HOUSTON</td>\n",
       "      <td>TX</td>\n",
       "      <td>77002</td>\n",
       "      <td>...</td>\n",
       "      <td>0.0</td>\n",
       "      <td>0.0</td>\n",
       "      <td>0.0</td>\n",
       "      <td>665.00</td>\n",
       "      <td>125.00</td>\n",
       "      <td>540.00</td>\n",
       "      <td>SUPPLEMENTAL</td>\n",
       "      <td>2011-08-15 12:19:29</td>\n",
       "      <td>2012-08-30 14:09:03</td>\n",
       "      <td>7000-1.1 (Rev. 06-2011)</td>\n",
       "    </tr>\n",
       "    <tr>\n",
       "      <th>345</th>\n",
       "      <td>2019-08-01 13:10:42</td>\n",
       "      <td>2010</td>\n",
       "      <td>20110233</td>\n",
       "      <td>12404</td>\n",
       "      <td>31874</td>\n",
       "      <td>TESORO REFINING &amp; MARKETING C O., GOLDEN EAGLE</td>\n",
       "      <td>19100 Ridgewood Parkway</td>\n",
       "      <td>San Antonio</td>\n",
       "      <td>TX</td>\n",
       "      <td>78259</td>\n",
       "      <td>...</td>\n",
       "      <td>0.0</td>\n",
       "      <td>0.0</td>\n",
       "      <td>0.0</td>\n",
       "      <td>4.14</td>\n",
       "      <td>0.79</td>\n",
       "      <td>3.35</td>\n",
       "      <td>SUPPLEMENTAL</td>\n",
       "      <td>2011-08-15 10:48:39</td>\n",
       "      <td>2013-07-29 11:02:21</td>\n",
       "      <td>7000-1.1 (Rev. 06-2011)</td>\n",
       "    </tr>\n",
       "    <tr>\n",
       "      <th>202</th>\n",
       "      <td>2019-08-01 13:10:42</td>\n",
       "      <td>2010</td>\n",
       "      <td>20110270</td>\n",
       "      <td>10276</td>\n",
       "      <td>30826</td>\n",
       "      <td>WILLIAMS FIELD SERVICES</td>\n",
       "      <td>One Williams Center</td>\n",
       "      <td>Tulsa</td>\n",
       "      <td>OK</td>\n",
       "      <td>74172</td>\n",
       "      <td>...</td>\n",
       "      <td>0.0</td>\n",
       "      <td>0.0</td>\n",
       "      <td>0.0</td>\n",
       "      <td>36.00</td>\n",
       "      <td>36.00</td>\n",
       "      <td>0.00</td>\n",
       "      <td>INITIAL</td>\n",
       "      <td>2011-08-15 14:13:40</td>\n",
       "      <td>2011-08-15 14:13:40</td>\n",
       "      <td>7000-1.1 (Rev. 06-2011)</td>\n",
       "    </tr>\n",
       "  </tbody>\n",
       "</table>\n",
       "<p>5 rows × 85 columns</p>\n",
       "</div>"
      ],
      "text/plain": [
       "         DATAFILE_AS_OF  REPORT_YEAR  REPORT_NUMBER  SUPPLEMENTAL_NUMBER  \\\n",
       "205 2019-08-01 13:10:42         2010       20110014                11084   \n",
       "147 2019-08-01 13:10:42         2010       20110317                10379   \n",
       "100 2019-08-01 13:10:42         2010       20110252                11573   \n",
       "345 2019-08-01 13:10:42         2010       20110233                12404   \n",
       "202 2019-08-01 13:10:42         2010       20110270                10276   \n",
       "\n",
       "     OPERATOR_ID                                PARTA2NAMEOFCOMP  \\\n",
       "205        30901    AIRCRAFT SERVICES INTERNATIONAL GROUP (ASIG)   \n",
       "147        26041             KINDER MORGAN LIQUID TERMINALS, LLC   \n",
       "100        15774           ENBRIDGE PIPELINES (NORTH DAKOTA) LLC   \n",
       "345        31874  TESORO REFINING & MARKETING C O., GOLDEN EAGLE   \n",
       "202        30826                         WILLIAMS FIELD SERVICES   \n",
       "\n",
       "                   PARTA4STREET   PARTA4CITY PARTA4STATE PARTA4ZIP  ...  \\\n",
       "205      6000 DEHAVILLAND DRIVE    ANCHORAGE          AK     99502  ...   \n",
       "147                  500 DALLAS      HOUSTON          TX     77002  ...   \n",
       "100  1100 LOUISIANA, SUITE 3300      HOUSTON          TX     77002  ...   \n",
       "345     19100 Ridgewood Parkway  San Antonio          TX     78259  ...   \n",
       "202         One Williams Center        Tulsa          OK     74172  ...   \n",
       "\n",
       "    PARTE2010HF PARTE2010LF PARTE2010TOTAL PARTETOTAL  PARTETOTALHF  \\\n",
       "205         0.0         0.0            0.0       7.10          7.10   \n",
       "147         0.0         0.0            0.0       0.73          0.73   \n",
       "100         0.0         0.0            0.0     665.00        125.00   \n",
       "345         0.0         0.0            0.0       4.14          0.79   \n",
       "202         0.0         0.0            0.0      36.00         36.00   \n",
       "\n",
       "     PARTETOTALLF  REPORT_SUBMISSION_TYPE         REPORT_DATE  \\\n",
       "205          0.00            SUPPLEMENTAL 2011-07-28 18:23:42   \n",
       "147          0.00            SUPPLEMENTAL 2011-08-15 17:28:04   \n",
       "100        540.00            SUPPLEMENTAL 2011-08-15 12:19:29   \n",
       "345          3.35            SUPPLEMENTAL 2011-08-15 10:48:39   \n",
       "202          0.00                 INITIAL 2011-08-15 14:13:40   \n",
       "\n",
       "            FILING_DATE                 FORM_REV  \n",
       "205 2012-05-15 14:03:24  7000-1.1 (Rev. 06-2011)  \n",
       "147 2011-08-16 11:33:05  7000-1.1 (Rev. 06-2011)  \n",
       "100 2012-08-30 14:09:03  7000-1.1 (Rev. 06-2011)  \n",
       "345 2013-07-29 11:02:21  7000-1.1 (Rev. 06-2011)  \n",
       "202 2011-08-15 14:13:40  7000-1.1 (Rev. 06-2011)  \n",
       "\n",
       "[5 rows x 85 columns]"
      ]
     },
     "execution_count": 8,
     "metadata": {},
     "output_type": "execute_result"
    }
   ],
   "source": [
    "oil_pipelines = pd.read_excel('../data/pipelines_2010_present_2019-08-09/annual_hazardous_liquid_2010.xlsx', skiprows=2)\n",
    "\n",
    "oil_pipelines.sample(5)"
   ]
  },
  {
   "cell_type": "code",
   "execution_count": 9,
   "metadata": {},
   "outputs": [
    {
     "data": {
      "text/plain": [
       "['annual_hazardous_liquid_2017.xlsx',\n",
       " 'annual_hazardous_liquid_2011.xlsx',\n",
       " 'annual_hazardous_liquid_2014.xlsx',\n",
       " 'annual_hazardous_liquid_2012.xlsx',\n",
       " 'annual_hazardous_liquid_2013.xlsx',\n",
       " 'annual_hazardous_liquid_2010.xlsx',\n",
       " 'annual_hazardous_liquid_2018.xlsx',\n",
       " 'annual_hazardous_liquid_2016.xlsx',\n",
       " 'annual_hazardous_liquid_2015.xlsx']"
      ]
     },
     "execution_count": 9,
     "metadata": {},
     "output_type": "execute_result"
    }
   ],
   "source": [
    "from os import listdir\n",
    "\n",
    "pipeline_files = [file for file in listdir('../data/pipelines_2010_present_2019-08-09/') if'annual_hazardous_liquid' in file]\n",
    "pipeline_files"
   ]
  },
  {
   "cell_type": "code",
   "execution_count": 10,
   "metadata": {},
   "outputs": [
    {
     "data": {
      "text/html": [
       "<div>\n",
       "<style scoped>\n",
       "    .dataframe tbody tr th:only-of-type {\n",
       "        vertical-align: middle;\n",
       "    }\n",
       "\n",
       "    .dataframe tbody tr th {\n",
       "        vertical-align: top;\n",
       "    }\n",
       "\n",
       "    .dataframe thead th {\n",
       "        text-align: right;\n",
       "    }\n",
       "</style>\n",
       "<table border=\"1\" class=\"dataframe\">\n",
       "  <thead>\n",
       "    <tr style=\"text-align: right;\">\n",
       "      <th></th>\n",
       "      <th>DATAFILE_AS_OF</th>\n",
       "      <th>REPORT_YEAR</th>\n",
       "      <th>REPORT_NUMBER</th>\n",
       "      <th>SUPPLEMENTAL_NUMBER</th>\n",
       "      <th>OPERATOR_ID</th>\n",
       "      <th>PARTA2NAMEOFCOMP</th>\n",
       "      <th>PARTA4STREET</th>\n",
       "      <th>PARTA4CITY</th>\n",
       "      <th>PARTA4STATE</th>\n",
       "      <th>PARTA4ZIP</th>\n",
       "      <th>...</th>\n",
       "      <th>PARTE2010HF</th>\n",
       "      <th>PARTE2010LF</th>\n",
       "      <th>PARTE2010TOTAL</th>\n",
       "      <th>PARTETOTAL</th>\n",
       "      <th>PARTETOTALHF</th>\n",
       "      <th>PARTETOTALLF</th>\n",
       "      <th>REPORT_SUBMISSION_TYPE</th>\n",
       "      <th>REPORT_DATE</th>\n",
       "      <th>FILING_DATE</th>\n",
       "      <th>FORM_REV</th>\n",
       "    </tr>\n",
       "  </thead>\n",
       "  <tbody>\n",
       "    <tr>\n",
       "      <th>1154</th>\n",
       "      <td>2019-08-01 13:14:22</td>\n",
       "      <td>2011</td>\n",
       "      <td>20120473</td>\n",
       "      <td>11546</td>\n",
       "      <td>32582</td>\n",
       "      <td>LIBERTY PIPELINE GROUP, LLC</td>\n",
       "      <td>1200 Smith Street, Suite 2300</td>\n",
       "      <td>HOUSTON</td>\n",
       "      <td>TX</td>\n",
       "      <td>77002</td>\n",
       "      <td>...</td>\n",
       "      <td>87.000</td>\n",
       "      <td>0.0</td>\n",
       "      <td>87.000</td>\n",
       "      <td>87.000</td>\n",
       "      <td>87.00</td>\n",
       "      <td>0.000</td>\n",
       "      <td>INITIAL</td>\n",
       "      <td>2012-07-27 12:48:38</td>\n",
       "      <td>2012-07-27 12:48:38</td>\n",
       "      <td>7000-1.1 (Rev. 06-2011)</td>\n",
       "    </tr>\n",
       "    <tr>\n",
       "      <th>4454</th>\n",
       "      <td>2019-08-01 13:52:01</td>\n",
       "      <td>2016</td>\n",
       "      <td>20172432</td>\n",
       "      <td>14787</td>\n",
       "      <td>32388</td>\n",
       "      <td>LINN OPERATING, INC</td>\n",
       "      <td>600 TRAVIS, SUITE 5100</td>\n",
       "      <td>HOUSTON</td>\n",
       "      <td>TX</td>\n",
       "      <td>77002</td>\n",
       "      <td>...</td>\n",
       "      <td>0.000</td>\n",
       "      <td>0.0</td>\n",
       "      <td>0.000</td>\n",
       "      <td>0.000</td>\n",
       "      <td>0.00</td>\n",
       "      <td>0.000</td>\n",
       "      <td>INITIAL</td>\n",
       "      <td>2017-05-09 11:29:32</td>\n",
       "      <td>2017-05-09 11:29:32</td>\n",
       "      <td>7000-1.1 (Rev. 06-2014)</td>\n",
       "    </tr>\n",
       "    <tr>\n",
       "      <th>993</th>\n",
       "      <td>2019-08-01 13:14:22</td>\n",
       "      <td>2011</td>\n",
       "      <td>20120037</td>\n",
       "      <td>11056</td>\n",
       "      <td>31721</td>\n",
       "      <td>PIPELINE TECHNOLOGY</td>\n",
       "      <td>1048 FLORIDA STREET</td>\n",
       "      <td>BATON ROUGE</td>\n",
       "      <td>LA</td>\n",
       "      <td>70802</td>\n",
       "      <td>...</td>\n",
       "      <td>0.000</td>\n",
       "      <td>0.0</td>\n",
       "      <td>0.000</td>\n",
       "      <td>22.000</td>\n",
       "      <td>22.00</td>\n",
       "      <td>0.000</td>\n",
       "      <td>INITIAL</td>\n",
       "      <td>2012-05-04 12:36:10</td>\n",
       "      <td>2012-05-04 12:36:10</td>\n",
       "      <td>7000-1.1 (Rev. 06-2011)</td>\n",
       "    </tr>\n",
       "    <tr>\n",
       "      <th>1814</th>\n",
       "      <td>2019-08-01 13:19:08</td>\n",
       "      <td>2012</td>\n",
       "      <td>20130175</td>\n",
       "      <td>12423</td>\n",
       "      <td>3445</td>\n",
       "      <td>DIXIE PIPELINE COMPANY LLC</td>\n",
       "      <td>1100 LOUISIANA ST.</td>\n",
       "      <td>HOUSTON</td>\n",
       "      <td>TX</td>\n",
       "      <td>77002</td>\n",
       "      <td>...</td>\n",
       "      <td>1.444</td>\n",
       "      <td>0.0</td>\n",
       "      <td>1.444</td>\n",
       "      <td>1277.669</td>\n",
       "      <td>508.79</td>\n",
       "      <td>768.879</td>\n",
       "      <td>SUPPLEMENTAL</td>\n",
       "      <td>2013-06-07 10:14:12</td>\n",
       "      <td>2013-08-06 11:09:01</td>\n",
       "      <td>7000-1.1 (Rev. 06-2011)</td>\n",
       "    </tr>\n",
       "    <tr>\n",
       "      <th>2824</th>\n",
       "      <td>2019-08-01 13:23:46</td>\n",
       "      <td>2013</td>\n",
       "      <td>20141040</td>\n",
       "      <td>13067</td>\n",
       "      <td>38964</td>\n",
       "      <td>PHILADELPHIA ENERGY SOLUTIONS REFINING AND MAR...</td>\n",
       "      <td>1735 MARKET STREET</td>\n",
       "      <td>PHILADELPHIA</td>\n",
       "      <td>PA</td>\n",
       "      <td>19103</td>\n",
       "      <td>...</td>\n",
       "      <td>0.000</td>\n",
       "      <td>0.0</td>\n",
       "      <td>0.000</td>\n",
       "      <td>1.420</td>\n",
       "      <td>1.42</td>\n",
       "      <td>0.000</td>\n",
       "      <td>INITIAL</td>\n",
       "      <td>2014-06-15 23:39:38</td>\n",
       "      <td>2014-06-15 23:39:38</td>\n",
       "      <td>7000-1.1 (Rev. 06-2011)</td>\n",
       "    </tr>\n",
       "  </tbody>\n",
       "</table>\n",
       "<p>5 rows × 85 columns</p>\n",
       "</div>"
      ],
      "text/plain": [
       "          DATAFILE_AS_OF  REPORT_YEAR  REPORT_NUMBER  SUPPLEMENTAL_NUMBER  \\\n",
       "1154 2019-08-01 13:14:22         2011       20120473                11546   \n",
       "4454 2019-08-01 13:52:01         2016       20172432                14787   \n",
       "993  2019-08-01 13:14:22         2011       20120037                11056   \n",
       "1814 2019-08-01 13:19:08         2012       20130175                12423   \n",
       "2824 2019-08-01 13:23:46         2013       20141040                13067   \n",
       "\n",
       "      OPERATOR_ID                                   PARTA2NAMEOFCOMP  \\\n",
       "1154        32582                        LIBERTY PIPELINE GROUP, LLC   \n",
       "4454        32388                                LINN OPERATING, INC   \n",
       "993         31721                                PIPELINE TECHNOLOGY   \n",
       "1814         3445                         DIXIE PIPELINE COMPANY LLC   \n",
       "2824        38964  PHILADELPHIA ENERGY SOLUTIONS REFINING AND MAR...   \n",
       "\n",
       "                       PARTA4STREET    PARTA4CITY PARTA4STATE PARTA4ZIP  ...  \\\n",
       "1154  1200 Smith Street, Suite 2300       HOUSTON          TX     77002  ...   \n",
       "4454         600 TRAVIS, SUITE 5100       HOUSTON          TX     77002  ...   \n",
       "993             1048 FLORIDA STREET   BATON ROUGE          LA     70802  ...   \n",
       "1814             1100 LOUISIANA ST.       HOUSTON          TX     77002  ...   \n",
       "2824             1735 MARKET STREET  PHILADELPHIA          PA     19103  ...   \n",
       "\n",
       "     PARTE2010HF PARTE2010LF PARTE2010TOTAL PARTETOTAL  PARTETOTALHF  \\\n",
       "1154      87.000         0.0         87.000     87.000         87.00   \n",
       "4454       0.000         0.0          0.000      0.000          0.00   \n",
       "993        0.000         0.0          0.000     22.000         22.00   \n",
       "1814       1.444         0.0          1.444   1277.669        508.79   \n",
       "2824       0.000         0.0          0.000      1.420          1.42   \n",
       "\n",
       "      PARTETOTALLF  REPORT_SUBMISSION_TYPE         REPORT_DATE  \\\n",
       "1154         0.000                 INITIAL 2012-07-27 12:48:38   \n",
       "4454         0.000                 INITIAL 2017-05-09 11:29:32   \n",
       "993          0.000                 INITIAL 2012-05-04 12:36:10   \n",
       "1814       768.879            SUPPLEMENTAL 2013-06-07 10:14:12   \n",
       "2824         0.000                 INITIAL 2014-06-15 23:39:38   \n",
       "\n",
       "             FILING_DATE                 FORM_REV  \n",
       "1154 2012-07-27 12:48:38  7000-1.1 (Rev. 06-2011)  \n",
       "4454 2017-05-09 11:29:32  7000-1.1 (Rev. 06-2014)  \n",
       "993  2012-05-04 12:36:10  7000-1.1 (Rev. 06-2011)  \n",
       "1814 2013-08-06 11:09:01  7000-1.1 (Rev. 06-2011)  \n",
       "2824 2014-06-15 23:39:38  7000-1.1 (Rev. 06-2011)  \n",
       "\n",
       "[5 rows x 85 columns]"
      ]
     },
     "execution_count": 10,
     "metadata": {},
     "output_type": "execute_result"
    }
   ],
   "source": [
    "pipelines = pd.concat([pd.read_excel(f'../data/pipelines_2010_present_2019-08-09/{file}', skiprows=2) for file in pipeline_files])\n",
    "pipelines = pipelines.reset_index(drop = True)\n",
    "\n",
    "pipelines.sample(5)"
   ]
  },
  {
   "cell_type": "markdown",
   "metadata": {},
   "source": [
    "See which company has the vastest pipeline network."
   ]
  },
  {
   "cell_type": "code",
   "execution_count": 11,
   "metadata": {},
   "outputs": [
    {
     "data": {
      "text/html": [
       "<div>\n",
       "<style scoped>\n",
       "    .dataframe tbody tr th:only-of-type {\n",
       "        vertical-align: middle;\n",
       "    }\n",
       "\n",
       "    .dataframe tbody tr th {\n",
       "        vertical-align: top;\n",
       "    }\n",
       "\n",
       "    .dataframe thead th {\n",
       "        text-align: right;\n",
       "    }\n",
       "</style>\n",
       "<table border=\"1\" class=\"dataframe\">\n",
       "  <thead>\n",
       "    <tr style=\"text-align: right;\">\n",
       "      <th></th>\n",
       "      <th>REPORT_YEAR</th>\n",
       "      <th>OPERATOR_ID</th>\n",
       "      <th>PARTA2NAMEOFCOMP</th>\n",
       "      <th>PARTBHCATOTAL</th>\n",
       "    </tr>\n",
       "  </thead>\n",
       "  <tbody>\n",
       "    <tr>\n",
       "      <th>3634</th>\n",
       "      <td>2018</td>\n",
       "      <td>31618</td>\n",
       "      <td>ENTERPRISE PRODUCTS OPERATING LLC</td>\n",
       "      <td>7726.183</td>\n",
       "    </tr>\n",
       "    <tr>\n",
       "      <th>3704</th>\n",
       "      <td>2018</td>\n",
       "      <td>32109</td>\n",
       "      <td>ONEOK NGL PIPELINE, LLC</td>\n",
       "      <td>4531.480</td>\n",
       "    </tr>\n",
       "    <tr>\n",
       "      <th>4723</th>\n",
       "      <td>2015</td>\n",
       "      <td>2552</td>\n",
       "      <td>COLONIAL PIPELINE CO</td>\n",
       "      <td>4500.920</td>\n",
       "    </tr>\n",
       "    <tr>\n",
       "      <th>4715</th>\n",
       "      <td>2015</td>\n",
       "      <td>1845</td>\n",
       "      <td>BUCKEYE PARTNERS, LP</td>\n",
       "      <td>4266.430</td>\n",
       "    </tr>\n",
       "    <tr>\n",
       "      <th>3484</th>\n",
       "      <td>2018</td>\n",
       "      <td>22610</td>\n",
       "      <td>MAGELLAN PIPELINE COMPANY, LP</td>\n",
       "      <td>3926.400</td>\n",
       "    </tr>\n",
       "    <tr>\n",
       "      <th>4135</th>\n",
       "      <td>2016</td>\n",
       "      <td>15674</td>\n",
       "      <td>PLANTATION PIPE LINE CO</td>\n",
       "      <td>2564.730</td>\n",
       "    </tr>\n",
       "    <tr>\n",
       "      <th>4035</th>\n",
       "      <td>2016</td>\n",
       "      <td>300</td>\n",
       "      <td>PLAINS PIPELINE, L.P.</td>\n",
       "      <td>2312.330</td>\n",
       "    </tr>\n",
       "    <tr>\n",
       "      <th>67</th>\n",
       "      <td>2017</td>\n",
       "      <td>11169</td>\n",
       "      <td>ENBRIDGE ENERGY, LIMITED PARTNERSHIP</td>\n",
       "      <td>2290.000</td>\n",
       "    </tr>\n",
       "    <tr>\n",
       "      <th>3186</th>\n",
       "      <td>2010</td>\n",
       "      <td>31684</td>\n",
       "      <td>CONOCOPHILLIPS</td>\n",
       "      <td>2283.790</td>\n",
       "    </tr>\n",
       "    <tr>\n",
       "      <th>2693</th>\n",
       "      <td>2013</td>\n",
       "      <td>32147</td>\n",
       "      <td>MARATHON PIPE LINE LLC</td>\n",
       "      <td>2281.900</td>\n",
       "    </tr>\n",
       "  </tbody>\n",
       "</table>\n",
       "</div>"
      ],
      "text/plain": [
       "      REPORT_YEAR  OPERATOR_ID                      PARTA2NAMEOFCOMP  \\\n",
       "3634         2018        31618     ENTERPRISE PRODUCTS OPERATING LLC   \n",
       "3704         2018        32109               ONEOK NGL PIPELINE, LLC   \n",
       "4723         2015         2552                  COLONIAL PIPELINE CO   \n",
       "4715         2015         1845                  BUCKEYE PARTNERS, LP   \n",
       "3484         2018        22610         MAGELLAN PIPELINE COMPANY, LP   \n",
       "4135         2016        15674               PLANTATION PIPE LINE CO   \n",
       "4035         2016          300                 PLAINS PIPELINE, L.P.   \n",
       "67           2017        11169  ENBRIDGE ENERGY, LIMITED PARTNERSHIP   \n",
       "3186         2010        31684                        CONOCOPHILLIPS   \n",
       "2693         2013        32147                MARATHON PIPE LINE LLC   \n",
       "\n",
       "      PARTBHCATOTAL  \n",
       "3634       7726.183  \n",
       "3704       4531.480  \n",
       "4723       4500.920  \n",
       "4715       4266.430  \n",
       "3484       3926.400  \n",
       "4135       2564.730  \n",
       "4035       2312.330  \n",
       "67         2290.000  \n",
       "3186       2283.790  \n",
       "2693       2281.900  "
      ]
     },
     "execution_count": 11,
     "metadata": {},
     "output_type": "execute_result"
    }
   ],
   "source": [
    "pipelines.loc[pipelines.groupby('OPERATOR_ID')['PARTBHCATOTAL'].idxmax()].nlargest(10, 'PARTBHCATOTAL')[['REPORT_YEAR', 'OPERATOR_ID', 'PARTA2NAMEOFCOMP', 'PARTBHCATOTAL']]"
   ]
  },
  {
   "cell_type": "code",
   "execution_count": 12,
   "metadata": {},
   "outputs": [
    {
     "data": {
      "text/plain": [
       "array(['Crude Oil', 'HVL', 'Refined and/or Petroleum Product (non-HVL)',\n",
       "       'CO2', 'Fuel Grade Ethanol (dedicated system)'], dtype=object)"
      ]
     },
     "execution_count": 12,
     "metadata": {},
     "output_type": "execute_result"
    }
   ],
   "source": [
    "pipelines['PARTA5COMMODITY'].unique()"
   ]
  },
  {
   "cell_type": "markdown",
   "metadata": {},
   "source": [
    "Compare to"
   ]
  },
  {
   "cell_type": "code",
   "execution_count": 13,
   "metadata": {},
   "outputs": [
    {
     "data": {
      "text/plain": [
       "array(['REFINED AND/OR PETROLEUM PRODUCT (NON-HVL) WHICH IS A LIQUID AT AMBIENT CONDITIONS',\n",
       "       'CO2 (CARBON DIOXIDE)',\n",
       "       'HVL OR OTHER FLAMMABLE OR TOXIC FLUID WHICH IS A GAS AT AMBIENT CONDITIONS',\n",
       "       'CRUDE OIL',\n",
       "       'BIOFUEL / ALTERNATIVE FUEL(INCLUDING ETHANOL BLENDS)'],\n",
       "      dtype=object)"
      ]
     },
     "execution_count": 13,
     "metadata": {},
     "output_type": "execute_result"
    }
   ],
   "source": [
    "incidents['COMMODITY_RELEASED_TYPE'].unique()"
   ]
  },
  {
   "cell_type": "markdown",
   "metadata": {},
   "source": [
    "The types correspond well, but the terminology is different."
   ]
  },
  {
   "cell_type": "markdown",
   "metadata": {},
   "source": [
    "## 2.3 Gas pipelines"
   ]
  },
  {
   "cell_type": "code",
   "execution_count": 14,
   "metadata": {},
   "outputs": [
    {
     "data": {
      "text/html": [
       "<div>\n",
       "<style scoped>\n",
       "    .dataframe tbody tr th:only-of-type {\n",
       "        vertical-align: middle;\n",
       "    }\n",
       "\n",
       "    .dataframe tbody tr th {\n",
       "        vertical-align: top;\n",
       "    }\n",
       "\n",
       "    .dataframe thead th {\n",
       "        text-align: right;\n",
       "    }\n",
       "</style>\n",
       "<table border=\"1\" class=\"dataframe\">\n",
       "  <thead>\n",
       "    <tr style=\"text-align: right;\">\n",
       "      <th></th>\n",
       "      <th>DATAFILE_AS_OF</th>\n",
       "      <th>REPORT_YEAR</th>\n",
       "      <th>REPORT_NUMBER</th>\n",
       "      <th>SUPPLEMENTAL_NUMBER</th>\n",
       "      <th>OPERATOR_ID</th>\n",
       "      <th>PARTA2NAMEOFCOMP</th>\n",
       "      <th>PARTA2NAMEOFPARENT_COM</th>\n",
       "      <th>PARTA3NAME</th>\n",
       "      <th>PARTA3TITLE</th>\n",
       "      <th>PARTA3EMAIL</th>\n",
       "      <th>...</th>\n",
       "      <th>PARTA4ZIP</th>\n",
       "      <th>REPORT_SUBMISSION_TYPE</th>\n",
       "      <th>REPORT_DATE</th>\n",
       "      <th>FILING_DATE</th>\n",
       "      <th>FORM_REV</th>\n",
       "      <th>PARTNPREPNAME</th>\n",
       "      <th>PARTNPREPTITLE</th>\n",
       "      <th>PARTNPREPEMAIL</th>\n",
       "      <th>PARTNPREPPHONE</th>\n",
       "      <th>PARTNPREPFAX</th>\n",
       "    </tr>\n",
       "  </thead>\n",
       "  <tbody>\n",
       "    <tr>\n",
       "      <th>8</th>\n",
       "      <td>2019-08-01 14:19:07</td>\n",
       "      <td>2015</td>\n",
       "      <td>20160278</td>\n",
       "      <td>547</td>\n",
       "      <td>1800</td>\n",
       "      <td>KEYSPAN ENERGY DELIVERY - NY CITY</td>\n",
       "      <td>National Grid</td>\n",
       "      <td>Thomas kennedy</td>\n",
       "      <td>Manager, NY LNG</td>\n",
       "      <td>Thomas.Kennedy@NationalGrid.com</td>\n",
       "      <td>...</td>\n",
       "      <td>02451</td>\n",
       "      <td>INITIAL</td>\n",
       "      <td>2016-02-19 13:12:07</td>\n",
       "      <td>2016-02-19 13:12:07</td>\n",
       "      <td>7100.3-1 (Rev. 10-2014)</td>\n",
       "      <td>Steve Sechovicz</td>\n",
       "      <td>Operator</td>\n",
       "      <td>stephen.sechovicz@nationalgrid.com</td>\n",
       "      <td>(617)822-5412</td>\n",
       "      <td>NaN</td>\n",
       "    </tr>\n",
       "    <tr>\n",
       "      <th>44</th>\n",
       "      <td>2019-08-01 14:19:07</td>\n",
       "      <td>2015</td>\n",
       "      <td>20160272</td>\n",
       "      <td>541</td>\n",
       "      <td>15469</td>\n",
       "      <td>PHILADELPHIA GAS WORKS</td>\n",
       "      <td>NaN</td>\n",
       "      <td>Curt Malkemes</td>\n",
       "      <td>Director, Gas Processing</td>\n",
       "      <td>curt.malkemes@pgworks.com</td>\n",
       "      <td>...</td>\n",
       "      <td>19122</td>\n",
       "      <td>INITIAL</td>\n",
       "      <td>2016-02-10 09:42:40</td>\n",
       "      <td>2016-02-10 09:42:40</td>\n",
       "      <td>7100.3-1 (Rev. 10-2014)</td>\n",
       "      <td>Curt Malkemes</td>\n",
       "      <td>Director, Gas Processing</td>\n",
       "      <td>curt.malkemes@pgworks.com</td>\n",
       "      <td>(215)684-6416</td>\n",
       "      <td>NaN</td>\n",
       "    </tr>\n",
       "    <tr>\n",
       "      <th>73</th>\n",
       "      <td>2019-08-01 14:19:07</td>\n",
       "      <td>2015</td>\n",
       "      <td>20160254</td>\n",
       "      <td>518</td>\n",
       "      <td>32496</td>\n",
       "      <td>DESERT GAS, LP.</td>\n",
       "      <td>Spectrum LNG, LLC</td>\n",
       "      <td>Bret Bartholomy</td>\n",
       "      <td>VP</td>\n",
       "      <td>bret@spectrumlng.com</td>\n",
       "      <td>...</td>\n",
       "      <td>74114</td>\n",
       "      <td>INITIAL</td>\n",
       "      <td>2016-01-11 09:34:03</td>\n",
       "      <td>2016-01-11 09:34:03</td>\n",
       "      <td>7100.3-1 (Rev. 10-2014)</td>\n",
       "      <td>Bret Bartholomy</td>\n",
       "      <td>VP</td>\n",
       "      <td>bret@spectrumlng.com</td>\n",
       "      <td>(918)236-4100</td>\n",
       "      <td>NaN</td>\n",
       "    </tr>\n",
       "    <tr>\n",
       "      <th>81</th>\n",
       "      <td>2019-08-01 14:19:07</td>\n",
       "      <td>2015</td>\n",
       "      <td>20160295</td>\n",
       "      <td>654</td>\n",
       "      <td>39092</td>\n",
       "      <td>TITAN ALASKA LNG</td>\n",
       "      <td>NaN</td>\n",
       "      <td>Brendan Kern</td>\n",
       "      <td>Engineer</td>\n",
       "      <td>bkern@fngas.com</td>\n",
       "      <td>...</td>\n",
       "      <td>99701</td>\n",
       "      <td>SUPPLEMENTAL</td>\n",
       "      <td>2016-03-02 13:48:24</td>\n",
       "      <td>2017-01-31 16:09:28</td>\n",
       "      <td>7100.3-1 (Rev. 10-2014)</td>\n",
       "      <td>Brendan Kern</td>\n",
       "      <td>Operator</td>\n",
       "      <td>bkern@fngas.com</td>\n",
       "      <td>(907)799-0987</td>\n",
       "      <td>NaN</td>\n",
       "    </tr>\n",
       "    <tr>\n",
       "      <th>42</th>\n",
       "      <td>2019-08-01 14:19:07</td>\n",
       "      <td>2015</td>\n",
       "      <td>20160282</td>\n",
       "      <td>551</td>\n",
       "      <td>15329</td>\n",
       "      <td>PEOPLES GAS LIGHT &amp; COKE CO</td>\n",
       "      <td>WEC Energy Group, Inc.</td>\n",
       "      <td>Thomas L. Puracchio</td>\n",
       "      <td>Manager, Gas Storage</td>\n",
       "      <td>tlpuracchio@integrysgroup.com</td>\n",
       "      <td>...</td>\n",
       "      <td>60601</td>\n",
       "      <td>INITIAL</td>\n",
       "      <td>2016-02-22 08:48:50</td>\n",
       "      <td>2016-02-22 08:48:50</td>\n",
       "      <td>7100.3-1 (Rev. 10-2014)</td>\n",
       "      <td>Charles Sikora</td>\n",
       "      <td>Coordinator, Gas Storage</td>\n",
       "      <td>crsikora@integrysgroup.com</td>\n",
       "      <td>(217)897-7123</td>\n",
       "      <td>(218)897-1154</td>\n",
       "    </tr>\n",
       "  </tbody>\n",
       "</table>\n",
       "<p>5 rows × 24 columns</p>\n",
       "</div>"
      ],
      "text/plain": [
       "        DATAFILE_AS_OF  REPORT_YEAR  REPORT_NUMBER  SUPPLEMENTAL_NUMBER  \\\n",
       "8  2019-08-01 14:19:07         2015       20160278                  547   \n",
       "44 2019-08-01 14:19:07         2015       20160272                  541   \n",
       "73 2019-08-01 14:19:07         2015       20160254                  518   \n",
       "81 2019-08-01 14:19:07         2015       20160295                  654   \n",
       "42 2019-08-01 14:19:07         2015       20160282                  551   \n",
       "\n",
       "    OPERATOR_ID                   PARTA2NAMEOFCOMP  PARTA2NAMEOFPARENT_COM  \\\n",
       "8          1800  KEYSPAN ENERGY DELIVERY - NY CITY           National Grid   \n",
       "44        15469             PHILADELPHIA GAS WORKS                     NaN   \n",
       "73        32496                    DESERT GAS, LP.       Spectrum LNG, LLC   \n",
       "81        39092                   TITAN ALASKA LNG                     NaN   \n",
       "42        15329        PEOPLES GAS LIGHT & COKE CO  WEC Energy Group, Inc.   \n",
       "\n",
       "             PARTA3NAME               PARTA3TITLE  \\\n",
       "8        Thomas kennedy           Manager, NY LNG   \n",
       "44        Curt Malkemes  Director, Gas Processing   \n",
       "73      Bret Bartholomy                        VP   \n",
       "81         Brendan Kern                  Engineer   \n",
       "42  Thomas L. Puracchio      Manager, Gas Storage   \n",
       "\n",
       "                        PARTA3EMAIL  ... PARTA4ZIP REPORT_SUBMISSION_TYPE  \\\n",
       "8   Thomas.Kennedy@NationalGrid.com  ...     02451                INITIAL   \n",
       "44        curt.malkemes@pgworks.com  ...     19122                INITIAL   \n",
       "73             bret@spectrumlng.com  ...     74114                INITIAL   \n",
       "81                  bkern@fngas.com  ...     99701           SUPPLEMENTAL   \n",
       "42    tlpuracchio@integrysgroup.com  ...     60601                INITIAL   \n",
       "\n",
       "           REPORT_DATE         FILING_DATE                 FORM_REV  \\\n",
       "8  2016-02-19 13:12:07 2016-02-19 13:12:07  7100.3-1 (Rev. 10-2014)   \n",
       "44 2016-02-10 09:42:40 2016-02-10 09:42:40  7100.3-1 (Rev. 10-2014)   \n",
       "73 2016-01-11 09:34:03 2016-01-11 09:34:03  7100.3-1 (Rev. 10-2014)   \n",
       "81 2016-03-02 13:48:24 2017-01-31 16:09:28  7100.3-1 (Rev. 10-2014)   \n",
       "42 2016-02-22 08:48:50 2016-02-22 08:48:50  7100.3-1 (Rev. 10-2014)   \n",
       "\n",
       "      PARTNPREPNAME            PARTNPREPTITLE  \\\n",
       "8   Steve Sechovicz                  Operator   \n",
       "44    Curt Malkemes  Director, Gas Processing   \n",
       "73  Bret Bartholomy                        VP   \n",
       "81     Brendan Kern                  Operator   \n",
       "42   Charles Sikora  Coordinator, Gas Storage   \n",
       "\n",
       "                        PARTNPREPEMAIL PARTNPREPPHONE   PARTNPREPFAX  \n",
       "8   stephen.sechovicz@nationalgrid.com  (617)822-5412            NaN  \n",
       "44           curt.malkemes@pgworks.com  (215)684-6416            NaN  \n",
       "73                bret@spectrumlng.com  (918)236-4100            NaN  \n",
       "81                     bkern@fngas.com  (907)799-0987            NaN  \n",
       "42          crsikora@integrysgroup.com  (217)897-7123  (218)897-1154  \n",
       "\n",
       "[5 rows x 24 columns]"
      ]
     },
     "execution_count": 14,
     "metadata": {},
     "output_type": "execute_result"
    }
   ],
   "source": [
    "gas_pipelines = pd.read_excel('../data/gas_2010_present_2019-08-09/annual_liquefied_natural_gas_2015.xlsx', skiprows=1)\n",
    "\n",
    "gas_pipelines.sample(5)"
   ]
  },
  {
   "cell_type": "code",
   "execution_count": 15,
   "metadata": {},
   "outputs": [
    {
     "data": {
      "text/plain": [
       "['annual_liquefied_natural_gas_2013.xlsx',\n",
       " 'annual_liquefied_natural_gas_2011.xlsx',\n",
       " 'annual_liquefied_natural_gas_2016.xlsx',\n",
       " 'annual_liquefied_natural_gas_2012.xlsx',\n",
       " 'annual_liquefied_natural_gas_2017.xlsx',\n",
       " 'annual_liquefied_natural_gas_2018.xlsx',\n",
       " 'annual_liquefied_natural_gas_2010.xlsx',\n",
       " 'annual_liquefied_natural_gas_2014.xlsx',\n",
       " 'annual_liquefied_natural_gas_2015.xlsx']"
      ]
     },
     "execution_count": 15,
     "metadata": {},
     "output_type": "execute_result"
    }
   ],
   "source": [
    "gas_files = [file for file in listdir('../data/gas_2010_present_2019-08-09/') if'annual_liquefied_natural_gas' in file]\n",
    "gas_files"
   ]
  },
  {
   "cell_type": "code",
   "execution_count": 16,
   "metadata": {},
   "outputs": [
    {
     "data": {
      "text/html": [
       "<div>\n",
       "<style scoped>\n",
       "    .dataframe tbody tr th:only-of-type {\n",
       "        vertical-align: middle;\n",
       "    }\n",
       "\n",
       "    .dataframe tbody tr th {\n",
       "        vertical-align: top;\n",
       "    }\n",
       "\n",
       "    .dataframe thead th {\n",
       "        text-align: right;\n",
       "    }\n",
       "</style>\n",
       "<table border=\"1\" class=\"dataframe\">\n",
       "  <thead>\n",
       "    <tr style=\"text-align: right;\">\n",
       "      <th></th>\n",
       "      <th>DATAFILE_AS_OF</th>\n",
       "      <th>REPORT_YEAR</th>\n",
       "      <th>REPORT_NUMBER</th>\n",
       "      <th>SUPPLEMENTAL_NUMBER</th>\n",
       "      <th>OPERATOR_ID</th>\n",
       "      <th>PARTA2NAMEOFCOMP</th>\n",
       "      <th>PARTA2NAMEOFPARENT_COM</th>\n",
       "      <th>PARTA3NAME</th>\n",
       "      <th>PARTA3TITLE</th>\n",
       "      <th>PARTA3EMAIL</th>\n",
       "      <th>...</th>\n",
       "      <th>PARTA4ZIP</th>\n",
       "      <th>REPORT_SUBMISSION_TYPE</th>\n",
       "      <th>REPORT_DATE</th>\n",
       "      <th>FILING_DATE</th>\n",
       "      <th>FORM_REV</th>\n",
       "      <th>PARTNPREPNAME</th>\n",
       "      <th>PARTNPREPTITLE</th>\n",
       "      <th>PARTNPREPEMAIL</th>\n",
       "      <th>PARTNPREPPHONE</th>\n",
       "      <th>PARTNPREPFAX</th>\n",
       "    </tr>\n",
       "  </thead>\n",
       "  <tbody>\n",
       "    <tr>\n",
       "      <th>153</th>\n",
       "      <td>2019-08-01 14:12:58</td>\n",
       "      <td>2011</td>\n",
       "      <td>20120084</td>\n",
       "      <td>102</td>\n",
       "      <td>31770</td>\n",
       "      <td>NEW ENGLAND GAS COMPANY</td>\n",
       "      <td>Southern Union Company</td>\n",
       "      <td>Gary S. Munroe</td>\n",
       "      <td>Manager</td>\n",
       "      <td>gary.munroe@sug.com</td>\n",
       "      <td>...</td>\n",
       "      <td>02724</td>\n",
       "      <td>INITIAL</td>\n",
       "      <td>2012-06-08 12:09:49</td>\n",
       "      <td>2012-06-08 12:09:49</td>\n",
       "      <td>7100.3-1 (Rev. 06-2011)</td>\n",
       "      <td>Gary Munroe</td>\n",
       "      <td>Manager</td>\n",
       "      <td>gary.munroe@sug.com</td>\n",
       "      <td>(508) 689-1170</td>\n",
       "      <td>(508) 673-4290</td>\n",
       "    </tr>\n",
       "    <tr>\n",
       "      <th>6</th>\n",
       "      <td>2019-08-01 14:16:07</td>\n",
       "      <td>2013</td>\n",
       "      <td>20140089</td>\n",
       "      <td>299</td>\n",
       "      <td>1344</td>\n",
       "      <td>BERKSHIRE GAS CO</td>\n",
       "      <td>UIL Holdings Corporation</td>\n",
       "      <td>David M. Grande</td>\n",
       "      <td>Director - Gas Engineering &amp; System Oper</td>\n",
       "      <td>dgrande@berkshiregas.com</td>\n",
       "      <td>...</td>\n",
       "      <td>01201</td>\n",
       "      <td>INITIAL</td>\n",
       "      <td>2014-01-20 10:19:36</td>\n",
       "      <td>2014-01-20 10:19:36</td>\n",
       "      <td>7100.3-1 (Rev. 06-2011)</td>\n",
       "      <td>David M. Grande</td>\n",
       "      <td>Director - Gas Engineering &amp; System Operations</td>\n",
       "      <td>dgrande@berkshiregas.com</td>\n",
       "      <td>(413) 445-0265</td>\n",
       "      <td>(413) 445-0335</td>\n",
       "    </tr>\n",
       "    <tr>\n",
       "      <th>154</th>\n",
       "      <td>2019-08-01 14:12:58</td>\n",
       "      <td>2011</td>\n",
       "      <td>20120070</td>\n",
       "      <td>177</td>\n",
       "      <td>32152</td>\n",
       "      <td>SABINE PASS LNG, L.P.</td>\n",
       "      <td>Cheniere Energy, Inc.</td>\n",
       "      <td>Ronald Tanner</td>\n",
       "      <td>Vice President, Terminal Operations</td>\n",
       "      <td>Ronald.Tanner@cheniere.com</td>\n",
       "      <td>...</td>\n",
       "      <td>77002</td>\n",
       "      <td>SUPPLEMENTAL</td>\n",
       "      <td>2012-03-26 12:01:44</td>\n",
       "      <td>2013-02-26 16:10:54</td>\n",
       "      <td>7100.3-1 (Rev. 06-2011)</td>\n",
       "      <td>James Kaucher</td>\n",
       "      <td>Plant Manager</td>\n",
       "      <td>James.Kaucher@cheniere.com</td>\n",
       "      <td>(337) 569-7701</td>\n",
       "      <td>(337) 569-7711</td>\n",
       "    </tr>\n",
       "    <tr>\n",
       "      <th>188</th>\n",
       "      <td>2019-08-01 14:20:39</td>\n",
       "      <td>2016</td>\n",
       "      <td>20170382</td>\n",
       "      <td>691</td>\n",
       "      <td>11856</td>\n",
       "      <td>COLONIAL GAS CO - LOWELL DIV</td>\n",
       "      <td>National Grid</td>\n",
       "      <td>Walter Doucette</td>\n",
       "      <td>Director, LNG Mass North</td>\n",
       "      <td>Walter.DoucetteJr@nationalgrid.com</td>\n",
       "      <td>...</td>\n",
       "      <td>02451</td>\n",
       "      <td>INITIAL</td>\n",
       "      <td>2017-03-02 14:14:11</td>\n",
       "      <td>2017-03-02 14:14:11</td>\n",
       "      <td>7100.3-1 (Rev. 10-2014)</td>\n",
       "      <td>Steve Sechovicz</td>\n",
       "      <td>Principle Engineer</td>\n",
       "      <td>stephen.sechovicz@nationalgrid.com</td>\n",
       "      <td>(617)822-5412</td>\n",
       "      <td>NaN</td>\n",
       "    </tr>\n",
       "    <tr>\n",
       "      <th>209</th>\n",
       "      <td>2019-08-01 14:20:39</td>\n",
       "      <td>2016</td>\n",
       "      <td>20170370</td>\n",
       "      <td>676</td>\n",
       "      <td>15938</td>\n",
       "      <td>PUBLIC SERVICE CO OF NORTH CAROLINA</td>\n",
       "      <td>SCANA CORPORATION</td>\n",
       "      <td>IRA DALE BRANHAM</td>\n",
       "      <td>MANAGER LNG OPERATIONS</td>\n",
       "      <td>ibranham@scana.com</td>\n",
       "      <td>...</td>\n",
       "      <td>28056</td>\n",
       "      <td>INITIAL</td>\n",
       "      <td>2017-02-24 14:07:58</td>\n",
       "      <td>2017-02-24 14:07:58</td>\n",
       "      <td>7100.3-1 (Rev. 10-2014)</td>\n",
       "      <td>Dania Pool</td>\n",
       "      <td>Sr. Analyst - Engineering</td>\n",
       "      <td>dpool@scana.com</td>\n",
       "      <td>(704)810-3257</td>\n",
       "      <td>NaN</td>\n",
       "    </tr>\n",
       "  </tbody>\n",
       "</table>\n",
       "<p>5 rows × 25 columns</p>\n",
       "</div>"
      ],
      "text/plain": [
       "         DATAFILE_AS_OF  REPORT_YEAR  REPORT_NUMBER  SUPPLEMENTAL_NUMBER  \\\n",
       "153 2019-08-01 14:12:58         2011       20120084                  102   \n",
       "6   2019-08-01 14:16:07         2013       20140089                  299   \n",
       "154 2019-08-01 14:12:58         2011       20120070                  177   \n",
       "188 2019-08-01 14:20:39         2016       20170382                  691   \n",
       "209 2019-08-01 14:20:39         2016       20170370                  676   \n",
       "\n",
       "     OPERATOR_ID                     PARTA2NAMEOFCOMP  \\\n",
       "153        31770              NEW ENGLAND GAS COMPANY   \n",
       "6           1344                     BERKSHIRE GAS CO   \n",
       "154        32152                SABINE PASS LNG, L.P.   \n",
       "188        11856         COLONIAL GAS CO - LOWELL DIV   \n",
       "209        15938  PUBLIC SERVICE CO OF NORTH CAROLINA   \n",
       "\n",
       "       PARTA2NAMEOFPARENT_COM        PARTA3NAME  \\\n",
       "153    Southern Union Company    Gary S. Munroe   \n",
       "6    UIL Holdings Corporation   David M. Grande   \n",
       "154     Cheniere Energy, Inc.     Ronald Tanner   \n",
       "188             National Grid   Walter Doucette   \n",
       "209         SCANA CORPORATION  IRA DALE BRANHAM   \n",
       "\n",
       "                                  PARTA3TITLE  \\\n",
       "153                                   Manager   \n",
       "6    Director - Gas Engineering & System Oper   \n",
       "154       Vice President, Terminal Operations   \n",
       "188                  Director, LNG Mass North   \n",
       "209                    MANAGER LNG OPERATIONS   \n",
       "\n",
       "                            PARTA3EMAIL  ... PARTA4ZIP REPORT_SUBMISSION_TYPE  \\\n",
       "153                 gary.munroe@sug.com  ...     02724                INITIAL   \n",
       "6              dgrande@berkshiregas.com  ...     01201                INITIAL   \n",
       "154          Ronald.Tanner@cheniere.com  ...     77002           SUPPLEMENTAL   \n",
       "188  Walter.DoucetteJr@nationalgrid.com  ...     02451                INITIAL   \n",
       "209                  ibranham@scana.com  ...     28056                INITIAL   \n",
       "\n",
       "            REPORT_DATE         FILING_DATE                 FORM_REV  \\\n",
       "153 2012-06-08 12:09:49 2012-06-08 12:09:49  7100.3-1 (Rev. 06-2011)   \n",
       "6   2014-01-20 10:19:36 2014-01-20 10:19:36  7100.3-1 (Rev. 06-2011)   \n",
       "154 2012-03-26 12:01:44 2013-02-26 16:10:54  7100.3-1 (Rev. 06-2011)   \n",
       "188 2017-03-02 14:14:11 2017-03-02 14:14:11  7100.3-1 (Rev. 10-2014)   \n",
       "209 2017-02-24 14:07:58 2017-02-24 14:07:58  7100.3-1 (Rev. 10-2014)   \n",
       "\n",
       "       PARTNPREPNAME                                  PARTNPREPTITLE  \\\n",
       "153      Gary Munroe                                         Manager   \n",
       "6    David M. Grande  Director - Gas Engineering & System Operations   \n",
       "154    James Kaucher                                   Plant Manager   \n",
       "188  Steve Sechovicz                              Principle Engineer   \n",
       "209       Dania Pool                       Sr. Analyst - Engineering   \n",
       "\n",
       "                         PARTNPREPEMAIL  PARTNPREPPHONE    PARTNPREPFAX  \n",
       "153                 gary.munroe@sug.com  (508) 689-1170  (508) 673-4290  \n",
       "6              dgrande@berkshiregas.com  (413) 445-0265  (413) 445-0335  \n",
       "154          James.Kaucher@cheniere.com  (337) 569-7701  (337) 569-7711  \n",
       "188  stephen.sechovicz@nationalgrid.com   (617)822-5412             NaN  \n",
       "209                     dpool@scana.com   (704)810-3257             NaN  \n",
       "\n",
       "[5 rows x 25 columns]"
      ]
     },
     "execution_count": 16,
     "metadata": {},
     "output_type": "execute_result"
    }
   ],
   "source": [
    "gas = pd.concat([pd.read_excel(f'../data/gas_2010_present_2019-08-09/{file}', skiprows=1) for file in gas_files[:3]], sort=False)\n",
    "gas = gas.reset_index(drop = True)\n",
    "\n",
    "gas.sample(5)"
   ]
  },
  {
   "cell_type": "markdown",
   "metadata": {},
   "source": [
    "The warning stems from the fact that the PARTA4NAMEOFCOMP columns was dropped, starting from 2014 (see below). Fortunately, we can use the field \"PARTA2NAMEOFCOMP\" and \"PARTA2NAMEOFPARENT_COM\" to get the information."
   ]
  },
  {
   "cell_type": "code",
   "execution_count": 17,
   "metadata": {},
   "outputs": [
    {
     "data": {
      "text/plain": [
       "{'PARTA4NAMEOFCOMP'}"
      ]
     },
     "execution_count": 17,
     "metadata": {},
     "output_type": "execute_result"
    }
   ],
   "source": [
    "gas_columns_2010 = pd.read_excel('../data/gas_2010_present_2019-08-09/annual_liquefied_natural_gas_2010.xlsx', skiprows=1, skipfooter=999).columns.tolist()\n",
    "gas_columns_2014 = pd.read_excel('../data/gas_2010_present_2019-08-09/annual_liquefied_natural_gas_2014.xlsx', skiprows=1, skipfooter=999).columns.tolist()\n",
    "set(gas_columns_2010) - set(gas_columns_2014)"
   ]
  },
  {
   "cell_type": "markdown",
   "metadata": {},
   "source": [
    "## 2.4. Where do incidents occur? Regular, or LNG pipelines?"
   ]
  },
  {
   "cell_type": "markdown",
   "metadata": {},
   "source": [
    "### 2.4.1 Are there operators who operate both regular and LNG pipelines?"
   ]
  },
  {
   "cell_type": "code",
   "execution_count": 18,
   "metadata": {},
   "outputs": [
    {
     "data": {
      "text/plain": [
       "[180, 630, 792, 909, 1088]"
      ]
     },
     "execution_count": 18,
     "metadata": {},
     "output_type": "execute_result"
    }
   ],
   "source": [
    "gas_operators = np.unique(gas['OPERATOR_ID']).tolist()\n",
    "gas_operators[:5]"
   ]
  },
  {
   "cell_type": "code",
   "execution_count": 19,
   "metadata": {},
   "outputs": [
    {
     "data": {
      "text/plain": [
       "[300, 395, 401, 402, 473]"
      ]
     },
     "execution_count": 19,
     "metadata": {},
     "output_type": "execute_result"
    }
   ],
   "source": [
    "pipeline_operators = np.unique(pipelines['OPERATOR_ID']).tolist()\n",
    "pipeline_operators[:5]"
   ]
  },
  {
   "cell_type": "code",
   "execution_count": 20,
   "metadata": {},
   "outputs": [
    {
     "name": "stdout",
     "output_type": "stream",
     "text": [
      "{31636}\n"
     ]
    }
   ],
   "source": [
    "common_operators = set(gas_operators).intersection(set(pipeline_operators))\n",
    "print(common_operators)"
   ]
  },
  {
   "cell_type": "markdown",
   "metadata": {},
   "source": [
    "Only one company occurs on both lists."
   ]
  },
  {
   "cell_type": "code",
   "execution_count": 21,
   "metadata": {},
   "outputs": [
    {
     "data": {
      "text/plain": [
       "['NORTHERN STATES POWER CO OF MINNESOTA']"
      ]
     },
     "execution_count": 21,
     "metadata": {},
     "output_type": "execute_result"
    }
   ],
   "source": [
    "pipelines.loc[pipelines['OPERATOR_ID'].isin(common_operators) & (pipelines['REPORT_YEAR'] == 2017)]['PARTA2NAMEOFCOMP'].tolist()"
   ]
  },
  {
   "cell_type": "markdown",
   "metadata": {},
   "source": [
    "### 2.4.2 Where do the accidents occur?"
   ]
  },
  {
   "cell_type": "code",
   "execution_count": 22,
   "metadata": {},
   "outputs": [
    {
     "data": {
      "text/html": [
       "<div>\n",
       "<style scoped>\n",
       "    .dataframe tbody tr th:only-of-type {\n",
       "        vertical-align: middle;\n",
       "    }\n",
       "\n",
       "    .dataframe tbody tr th {\n",
       "        vertical-align: top;\n",
       "    }\n",
       "\n",
       "    .dataframe thead th {\n",
       "        text-align: right;\n",
       "    }\n",
       "</style>\n",
       "<table border=\"1\" class=\"dataframe\">\n",
       "  <thead>\n",
       "    <tr style=\"text-align: right;\">\n",
       "      <th></th>\n",
       "      <th>DATAFILE_AS_OF</th>\n",
       "      <th>SIGNIFICANT</th>\n",
       "      <th>SERIOUS</th>\n",
       "      <th>IPE</th>\n",
       "      <th>IA_IPE</th>\n",
       "      <th>OM_IPE</th>\n",
       "      <th>REPORT_NUMBER</th>\n",
       "      <th>SUPPLEMENTAL_NUMBER</th>\n",
       "      <th>REPORT_RECEIVED_DATE</th>\n",
       "      <th>REPORT_TYPE</th>\n",
       "      <th>...</th>\n",
       "      <th>PREPARER_TITLE</th>\n",
       "      <th>PREPARER_EMAIL</th>\n",
       "      <th>PREPARER_TELEPHONE</th>\n",
       "      <th>PREPARER_FAX</th>\n",
       "      <th>PREPARED_DATE</th>\n",
       "      <th>AUTHORIZER_NAME</th>\n",
       "      <th>AUTHORIZER_TITLE</th>\n",
       "      <th>AUTHORIZER_TELEPHONE</th>\n",
       "      <th>AUTHORIZER_EMAIL</th>\n",
       "      <th>NARRATIVE</th>\n",
       "    </tr>\n",
       "  </thead>\n",
       "  <tbody>\n",
       "  </tbody>\n",
       "</table>\n",
       "<p>0 rows × 606 columns</p>\n",
       "</div>"
      ],
      "text/plain": [
       "Empty DataFrame\n",
       "Columns: [DATAFILE_AS_OF, SIGNIFICANT, SERIOUS, IPE, IA_IPE, OM_IPE, REPORT_NUMBER, SUPPLEMENTAL_NUMBER, REPORT_RECEIVED_DATE, REPORT_TYPE, OPERATOR_ID, NAME, OPERATOR_STREET_ADDRESS, OPERATOR_CITY_NAME, OPERATOR_STATE_ABBREVIATION, OPERATOR_POSTAL_CODE, LOCAL_DATETIME, IYEAR, LOCATION_LATITUDE, LOCATION_LONGITUDE, NRC_RPT_NUM, NRC_RPT_DATETIME, COMMODITY_RELEASED_TYPE, COMMODITY_SUBTYPE, COMMODITY_DETAILS, BLEND_DETAILS, BIO_DIESEL_DETAILS, UNINTENTIONAL_RELEASE_BBLS, INTENTIONAL_RELEASE_BBLS, RECOVERED_BBLS, NET_LOSS_BBLS, FATALITY_IND, NUM_EMP_FATALITIES, NUM_CONTR_FATALITIES, NUM_ER_FATALITIES, NUM_WORKER_FATALITIES, NUM_GP_FATALITIES, FATAL, INJURY_IND, NUM_EMP_INJURIES, NUM_CONTR_INJURIES, NUM_ER_INJURIES, NUM_WORKER_INJURIES, NUM_GP_INJURIES, INJURE, SHUTDOWN_DUE_ACCIDENT_IND, SHUTDOWN_EXPLAIN, SHUTDOWN_DATETIME, RESTART_DATETIME, STILL_SHUTDOWN_IND, IGNITE_IND, EXPLODE_IND, NUM_PUB_EVACUATED, INCIDENT_IDENTIFIED_DATETIME, ON_SITE_DATETIME, ON_OFF_SHORE, ONSHORE_STATE_ABBREVIATION, ONSHORE_POSTAL_CODE, ONSHORE_CITY_NAME, ONSHORE_COUNTY_NAME, DESIGNATED_LOCATION, DESIGNATED_NAME, PIPE_FAC_NAME, SEGMENT_NAME, FEDERAL, LOCATION_TYPE, INCIDENT_AREA_TYPE, INCIDENT_AREA_SUBTYPE, INCIDENT_AREA_DETAILS, DEPTH_OF_COVER, CROSSING, BRIDGE_CROSSING_IND, BRIDGE_TYPE, RAILROAD_CROSSING_IND, RAILROAD_TYPE, ROAD_CROSSING_IND, ROAD_TYPE, WATER_CROSSING_IND, WATER_TYPE, WATER_NAME, WATER_DEPTH, WATER_SUBTYPE, OFF_WATER_DEPTH, OFF_ACCIDENT_ORIGIN, OFFSHORE_STATE_ABBREVIATION, OFF_INSTATE_AREA, OFF_INSTATE_BLOCK, OFFSHORE_COUNTY_NAME, OFF_OCS_AREA, OFF_OCS_BLOCK, OFF_AREA_ACCIDENT_TYPE, PIPE_FACILITY_TYPE, SYSTEM_PART_INVOLVED, SYSTEM_SUBPART_INVOLVED, ITEM_INVOLVED, PIPE_TYPE, PIPE_DIAMETER, PIPE_WALL_THICKNESS, PIPE_SMYS, PIPE_SPECIFICATION, ...]\n",
       "Index: []\n",
       "\n",
       "[0 rows x 606 columns]"
      ]
     },
     "execution_count": 22,
     "metadata": {},
     "output_type": "execute_result"
    }
   ],
   "source": [
    "incidents.loc[incidents['OPERATOR_ID'] == 31636]"
   ]
  },
  {
   "cell_type": "markdown",
   "metadata": {},
   "source": [
    "Our common operators has no incidents, so we can ignore this segment."
   ]
  },
  {
   "cell_type": "code",
   "execution_count": 23,
   "metadata": {},
   "outputs": [
    {
     "data": {
      "text/plain": [
       "3814"
      ]
     },
     "execution_count": 23,
     "metadata": {},
     "output_type": "execute_result"
    }
   ],
   "source": [
    "regular_pipeline_incidents = incidents['OPERATOR_ID'].isin(pipelines['OPERATOR_ID']).sum()\n",
    "regular_pipeline_incidents"
   ]
  },
  {
   "cell_type": "code",
   "execution_count": 24,
   "metadata": {},
   "outputs": [
    {
     "data": {
      "text/plain": [
       "0"
      ]
     },
     "execution_count": 24,
     "metadata": {},
     "output_type": "execute_result"
    }
   ],
   "source": [
    "nlg_pipeline_incidents = incidents['OPERATOR_ID'].isin(gas['OPERATOR_ID']).sum()\n",
    "nlg_pipeline_incidents"
   ]
  },
  {
   "cell_type": "markdown",
   "metadata": {},
   "source": [
    "Looks like we can ignore this second dataset for our analysis."
   ]
  },
  {
   "cell_type": "markdown",
   "metadata": {},
   "source": [
    "## 2.5 Pipeline age - distribution and missingness"
   ]
  },
  {
   "cell_type": "code",
   "execution_count": 25,
   "metadata": {},
   "outputs": [],
   "source": [
    "import rpy2.rinterface"
   ]
  },
  {
   "cell_type": "code",
   "execution_count": 26,
   "metadata": {},
   "outputs": [],
   "source": [
    "%load_ext rpy2.ipython"
   ]
  },
  {
   "cell_type": "code",
   "execution_count": 27,
   "metadata": {},
   "outputs": [
    {
     "data": {
      "text/html": [
       "<div>\n",
       "<style scoped>\n",
       "    .dataframe tbody tr th:only-of-type {\n",
       "        vertical-align: middle;\n",
       "    }\n",
       "\n",
       "    .dataframe tbody tr th {\n",
       "        vertical-align: top;\n",
       "    }\n",
       "\n",
       "    .dataframe thead th {\n",
       "        text-align: right;\n",
       "    }\n",
       "</style>\n",
       "<table border=\"1\" class=\"dataframe\">\n",
       "  <thead>\n",
       "    <tr style=\"text-align: right;\">\n",
       "      <th></th>\n",
       "      <th>OPERATOR_ID</th>\n",
       "      <th>REPORT_YEAR</th>\n",
       "      <th>PARTEUNKNTOTAL</th>\n",
       "      <th>PARTEPRE40TOTAL</th>\n",
       "      <th>PARTE1950TOTAL</th>\n",
       "      <th>PARTE1960TOTAL</th>\n",
       "      <th>PARTE1970TOTAL</th>\n",
       "      <th>PARTE1980TOTAL</th>\n",
       "      <th>PARTE1990TOTAL</th>\n",
       "      <th>PARTE2000TOTAL</th>\n",
       "      <th>PARTE2010TOTAL</th>\n",
       "      <th>PARTETOTAL</th>\n",
       "    </tr>\n",
       "  </thead>\n",
       "  <tbody>\n",
       "    <tr>\n",
       "      <th>4532</th>\n",
       "      <td>38931</td>\n",
       "      <td>2016</td>\n",
       "      <td>0.0</td>\n",
       "      <td>0.0</td>\n",
       "      <td>0.0</td>\n",
       "      <td>0.00</td>\n",
       "      <td>0.0</td>\n",
       "      <td>0.000</td>\n",
       "      <td>0.000</td>\n",
       "      <td>0.00</td>\n",
       "      <td>0.00</td>\n",
       "      <td>0.000</td>\n",
       "    </tr>\n",
       "    <tr>\n",
       "      <th>2882</th>\n",
       "      <td>1541</td>\n",
       "      <td>2010</td>\n",
       "      <td>0.0</td>\n",
       "      <td>0.0</td>\n",
       "      <td>0.0</td>\n",
       "      <td>0.00</td>\n",
       "      <td>0.0</td>\n",
       "      <td>43.285</td>\n",
       "      <td>25.041</td>\n",
       "      <td>11.13</td>\n",
       "      <td>0.00</td>\n",
       "      <td>79.456</td>\n",
       "    </tr>\n",
       "    <tr>\n",
       "      <th>3583</th>\n",
       "      <td>31202</td>\n",
       "      <td>2018</td>\n",
       "      <td>0.0</td>\n",
       "      <td>0.0</td>\n",
       "      <td>0.0</td>\n",
       "      <td>13.34</td>\n",
       "      <td>0.0</td>\n",
       "      <td>0.000</td>\n",
       "      <td>27.000</td>\n",
       "      <td>13.81</td>\n",
       "      <td>3.78</td>\n",
       "      <td>57.930</td>\n",
       "    </tr>\n",
       "    <tr>\n",
       "      <th>34</th>\n",
       "      <td>2767</td>\n",
       "      <td>2017</td>\n",
       "      <td>0.0</td>\n",
       "      <td>0.0</td>\n",
       "      <td>0.0</td>\n",
       "      <td>30.54</td>\n",
       "      <td>0.0</td>\n",
       "      <td>37.300</td>\n",
       "      <td>12.170</td>\n",
       "      <td>0.37</td>\n",
       "      <td>0.00</td>\n",
       "      <td>80.380</td>\n",
       "    </tr>\n",
       "    <tr>\n",
       "      <th>3997</th>\n",
       "      <td>39806</td>\n",
       "      <td>2018</td>\n",
       "      <td>0.0</td>\n",
       "      <td>0.0</td>\n",
       "      <td>0.0</td>\n",
       "      <td>0.00</td>\n",
       "      <td>0.0</td>\n",
       "      <td>0.000</td>\n",
       "      <td>0.000</td>\n",
       "      <td>0.00</td>\n",
       "      <td>0.00</td>\n",
       "      <td>0.000</td>\n",
       "    </tr>\n",
       "  </tbody>\n",
       "</table>\n",
       "</div>"
      ],
      "text/plain": [
       "      OPERATOR_ID  REPORT_YEAR  PARTEUNKNTOTAL  PARTEPRE40TOTAL  \\\n",
       "4532        38931         2016             0.0              0.0   \n",
       "2882         1541         2010             0.0              0.0   \n",
       "3583        31202         2018             0.0              0.0   \n",
       "34           2767         2017             0.0              0.0   \n",
       "3997        39806         2018             0.0              0.0   \n",
       "\n",
       "      PARTE1950TOTAL  PARTE1960TOTAL  PARTE1970TOTAL  PARTE1980TOTAL  \\\n",
       "4532             0.0            0.00             0.0           0.000   \n",
       "2882             0.0            0.00             0.0          43.285   \n",
       "3583             0.0           13.34             0.0           0.000   \n",
       "34               0.0           30.54             0.0          37.300   \n",
       "3997             0.0            0.00             0.0           0.000   \n",
       "\n",
       "      PARTE1990TOTAL  PARTE2000TOTAL  PARTE2010TOTAL  PARTETOTAL  \n",
       "4532           0.000            0.00            0.00       0.000  \n",
       "2882          25.041           11.13            0.00      79.456  \n",
       "3583          27.000           13.81            3.78      57.930  \n",
       "34            12.170            0.37            0.00      80.380  \n",
       "3997           0.000            0.00            0.00       0.000  "
      ]
     },
     "execution_count": 27,
     "metadata": {},
     "output_type": "execute_result"
    }
   ],
   "source": [
    "pipelines_age = pipelines[['OPERATOR_ID', 'REPORT_YEAR', 'PARTEUNKNTOTAL', 'PARTEPRE40TOTAL'] + \n",
    "                          [f'PARTE19{decade}0TOTAL' for decade in range(5,10)] + \n",
    "                          ['PARTE2000TOTAL', 'PARTE2010TOTAL', 'PARTETOTAL']]\n",
    "pipelines_age.sample(5)"
   ]
  },
  {
   "cell_type": "code",
   "execution_count": 28,
   "metadata": {},
   "outputs": [
    {
     "name": "stderr",
     "output_type": "stream",
     "text": [
      "R[write to console]: `stat_bin()` using `bins = 30`. Pick better value with `binwidth`.\n",
      "\n"
     ]
    },
    {
     "data": {
      "image/png": "[encoded data removed]"
     },
     "metadata": {},
     "output_type": "display_data"
    }
   ],
   "source": [
    "%%R -i pipelines_age\n",
    "suppressMessages(library(tidyverse))\n",
    "\n",
    "pipelines_age %>%\n",
    "    group_by(OPERATOR_ID, REPORT_YEAR) %>%\n",
    "    mutate(perc_unknown = PARTEUNKNTOTAL / PARTETOTAL) %>%\n",
    "    ggplot(aes(x=perc_unknown)) + \n",
    "    geom_histogram()"
   ]
  },
  {
   "cell_type": "markdown",
   "metadata": {},
   "source": [
    "Unknown age fortunately is not an issue."
   ]
  },
  {
   "cell_type": "code",
   "execution_count": 29,
   "metadata": {},
   "outputs": [
    {
     "name": "stderr",
     "output_type": "stream",
     "text": [
      "R[write to console]: `stat_bin()` using `bins = 30`. Pick better value with `binwidth`.\n",
      "\n"
     ]
    },
    {
     "data": {
      "image/png": "[encoded data removed]"
     },
     "metadata": {},
     "output_type": "display_data"
    }
   ],
   "source": [
    "%%R -i pipelines_age\n",
    "pipelines_age %>%\n",
    "    gather(PARTEPRE40TOTAL, PARTE1950TOTAL, PARTE1960TOTAL, PARTE1970TOTAL, PARTE1980TOTAL, PARTE1990TOTAL, \n",
    "           PARTE2000TOTAL, PARTE2010TOTAL, key = 'DECADE', value = 'MILES') %>%\n",
    "    ggplot(aes(x=MILES)) + \n",
    "    geom_histogram() +\n",
    "    facet_wrap(~DECADE, nrow=3) + \n",
    "    scale_y_log10()"
   ]
  },
  {
   "cell_type": "code",
   "execution_count": 30,
   "metadata": {},
   "outputs": [
    {
     "name": "stderr",
     "output_type": "stream",
     "text": [
      "R[write to console]: `stat_bin()` using `bins = 30`. Pick better value with `binwidth`.\n",
      "\n"
     ]
    },
    {
     "data": {
      "image/png": "[encoded data removed]"
     },
     "metadata": {},
     "output_type": "display_data"
    }
   ],
   "source": [
    "%%R -i pipelines_age\n",
    "pipelines_age %>%\n",
    "    gather(PARTEPRE40TOTAL, PARTE1950TOTAL, PARTE1960TOTAL, PARTE1970TOTAL, PARTE1980TOTAL, PARTE1990TOTAL, \n",
    "           PARTE2000TOTAL, PARTE2010TOTAL, key = 'DECADE', value = 'MILES') %>%\n",
    "    filter(MILES > 100) %>%\n",
    "    ggplot(aes(x=MILES)) + \n",
    "    geom_histogram() +\n",
    "    facet_wrap(~DECADE, nrow=3)"
   ]
  },
  {
   "cell_type": "code",
   "execution_count": 31,
   "metadata": {},
   "outputs": [
    {
     "name": "stdout",
     "output_type": "stream",
     "text": [
      "\u001b[90m# A tibble: 8 x 2\u001b[39m\n",
      "  DECADE          total_miles\n",
      "  \u001b[3m\u001b[90m<chr>\u001b[39m\u001b[23m                 \u001b[3m\u001b[90m<dbl>\u001b[39m\u001b[23m\n",
      "\u001b[90m1\u001b[39m PARTE1950TOTAL      \u001b[4m1\u001b[24m\u001b[4m5\u001b[24m\u001b[4m7\u001b[24m897.\n",
      "\u001b[90m2\u001b[39m PARTE1960TOTAL      \u001b[4m2\u001b[24m\u001b[4m1\u001b[24m\u001b[4m6\u001b[24m401.\n",
      "\u001b[90m3\u001b[39m PARTE1970TOTAL      \u001b[4m2\u001b[24m\u001b[4m0\u001b[24m\u001b[4m2\u001b[24m377.\n",
      "\u001b[90m4\u001b[39m PARTE1980TOTAL      \u001b[4m1\u001b[24m\u001b[4m2\u001b[24m\u001b[4m4\u001b[24m982.\n",
      "\u001b[90m5\u001b[39m PARTE1990TOTAL      \u001b[4m1\u001b[24m\u001b[4m4\u001b[24m\u001b[4m5\u001b[24m727.\n",
      "\u001b[90m6\u001b[39m PARTE2000TOTAL      \u001b[4m1\u001b[24m\u001b[4m0\u001b[24m\u001b[4m4\u001b[24m471.\n",
      "\u001b[90m7\u001b[39m PARTE2010TOTAL      \u001b[4m1\u001b[24m\u001b[4m2\u001b[24m\u001b[4m7\u001b[24m693.\n",
      "\u001b[90m8\u001b[39m PARTEPRE40TOTAL      \u001b[4m1\u001b[24m\u001b[4m3\u001b[24m968.\n"
     ]
    }
   ],
   "source": [
    "%%R -i pipelines_age\n",
    "pipelines_age %>%\n",
    "    gather(PARTEPRE40TOTAL, PARTE1950TOTAL, PARTE1960TOTAL, PARTE1970TOTAL, PARTE1980TOTAL, PARTE1990TOTAL, \n",
    "           PARTE2000TOTAL, PARTE2010TOTAL, key = 'DECADE', value = 'MILES') %>%\n",
    "    group_by(DECADE) %>%\n",
    "    summarize(total_miles = sum(MILES))"
   ]
  },
  {
   "cell_type": "code",
   "execution_count": 32,
   "metadata": {},
   "outputs": [
    {
     "name": "stdout",
     "output_type": "stream",
     "text": [
      "\u001b[90m# A tibble: 8 x 10\u001b[39m\n",
      "\u001b[90m# Groups:   DECADE [8]\u001b[39m\n",
      "  DECADE          `2010` `2011` `2012` `2013` `2014` `2015` `2016` `2017` `2018`\n",
      "  \u001b[3m\u001b[90m<chr>\u001b[39m\u001b[23m            \u001b[3m\u001b[90m<dbl>\u001b[39m\u001b[23m  \u001b[3m\u001b[90m<dbl>\u001b[39m\u001b[23m  \u001b[3m\u001b[90m<dbl>\u001b[39m\u001b[23m  \u001b[3m\u001b[90m<dbl>\u001b[39m\u001b[23m  \u001b[3m\u001b[90m<dbl>\u001b[39m\u001b[23m  \u001b[3m\u001b[90m<dbl>\u001b[39m\u001b[23m  \u001b[3m\u001b[90m<dbl>\u001b[39m\u001b[23m  \u001b[3m\u001b[90m<dbl>\u001b[39m\u001b[23m  \u001b[3m\u001b[90m<dbl>\u001b[39m\u001b[23m\n",
      "\u001b[90m1\u001b[39m PARTE1950TOTAL  \u001b[4m1\u001b[24m\u001b[4m8\u001b[24m215. \u001b[4m1\u001b[24m\u001b[4m7\u001b[24m787. \u001b[4m1\u001b[24m\u001b[4m8\u001b[24m754. \u001b[4m1\u001b[24m\u001b[4m8\u001b[24m026. \u001b[4m1\u001b[24m\u001b[4m6\u001b[24m827. \u001b[4m1\u001b[24m\u001b[4m7\u001b[24m642. \u001b[4m1\u001b[24m\u001b[4m7\u001b[24m164. \u001b[4m1\u001b[24m\u001b[4m6\u001b[24m595. \u001b[4m1\u001b[24m\u001b[4m6\u001b[24m887.\n",
      "\u001b[90m2\u001b[39m PARTE1960TOTAL  \u001b[4m2\u001b[24m\u001b[4m5\u001b[24m484. \u001b[4m2\u001b[24m\u001b[4m5\u001b[24m091. \u001b[4m2\u001b[24m\u001b[4m4\u001b[24m753. \u001b[4m2\u001b[24m\u001b[4m4\u001b[24m387. \u001b[4m2\u001b[24m\u001b[4m3\u001b[24m923. \u001b[4m2\u001b[24m\u001b[4m3\u001b[24m284. \u001b[4m2\u001b[24m\u001b[4m3\u001b[24m782. \u001b[4m2\u001b[24m\u001b[4m3\u001b[24m417. \u001b[4m2\u001b[24m\u001b[4m2\u001b[24m280.\n",
      "\u001b[90m3\u001b[39m PARTE1970TOTAL  \u001b[4m2\u001b[24m\u001b[4m3\u001b[24m080. \u001b[4m2\u001b[24m\u001b[4m3\u001b[24m235. \u001b[4m2\u001b[24m\u001b[4m2\u001b[24m704. \u001b[4m2\u001b[24m\u001b[4m2\u001b[24m526. \u001b[4m2\u001b[24m\u001b[4m2\u001b[24m095. \u001b[4m2\u001b[24m\u001b[4m1\u001b[24m733. \u001b[4m2\u001b[24m\u001b[4m2\u001b[24m518. \u001b[4m2\u001b[24m\u001b[4m2\u001b[24m303. \u001b[4m2\u001b[24m\u001b[4m2\u001b[24m183.\n",
      "\u001b[90m4\u001b[39m PARTE1980TOTAL  \u001b[4m1\u001b[24m\u001b[4m3\u001b[24m802. \u001b[4m1\u001b[24m\u001b[4m3\u001b[24m885. \u001b[4m1\u001b[24m\u001b[4m3\u001b[24m816. \u001b[4m1\u001b[24m\u001b[4m4\u001b[24m206. \u001b[4m1\u001b[24m\u001b[4m3\u001b[24m423. \u001b[4m1\u001b[24m\u001b[4m3\u001b[24m729. \u001b[4m1\u001b[24m\u001b[4m4\u001b[24m179. \u001b[4m1\u001b[24m\u001b[4m4\u001b[24m091. \u001b[4m1\u001b[24m\u001b[4m3\u001b[24m851.\n",
      "\u001b[90m5\u001b[39m PARTE1990TOTAL  \u001b[4m1\u001b[24m\u001b[4m6\u001b[24m440. \u001b[4m1\u001b[24m\u001b[4m6\u001b[24m401. \u001b[4m1\u001b[24m\u001b[4m6\u001b[24m198. \u001b[4m1\u001b[24m\u001b[4m6\u001b[24m289. \u001b[4m1\u001b[24m\u001b[4m5\u001b[24m995. \u001b[4m1\u001b[24m\u001b[4m6\u001b[24m052. \u001b[4m1\u001b[24m\u001b[4m6\u001b[24m007. \u001b[4m1\u001b[24m\u001b[4m5\u001b[24m934. \u001b[4m1\u001b[24m\u001b[4m6\u001b[24m410.\n",
      "\u001b[90m6\u001b[39m PARTE2000TOTAL  \u001b[4m1\u001b[24m\u001b[4m1\u001b[24m546. \u001b[4m1\u001b[24m\u001b[4m1\u001b[24m631. \u001b[4m1\u001b[24m\u001b[4m1\u001b[24m581. \u001b[4m1\u001b[24m\u001b[4m1\u001b[24m683. \u001b[4m1\u001b[24m\u001b[4m0\u001b[24m951. \u001b[4m1\u001b[24m\u001b[4m1\u001b[24m072. \u001b[4m1\u001b[24m\u001b[4m1\u001b[24m479. \u001b[4m1\u001b[24m\u001b[4m1\u001b[24m283. \u001b[4m1\u001b[24m\u001b[4m3\u001b[24m243.\n",
      "\u001b[90m7\u001b[39m PARTE2010TOTAL    484.  \u001b[4m1\u001b[24m686.  \u001b[4m4\u001b[24m072.  \u001b[4m9\u001b[24m935. \u001b[4m1\u001b[24m\u001b[4m5\u001b[24m081. \u001b[4m1\u001b[24m\u001b[4m8\u001b[24m591. \u001b[4m2\u001b[24m\u001b[4m2\u001b[24m780. \u001b[4m2\u001b[24m\u001b[4m6\u001b[24m051. \u001b[4m2\u001b[24m\u001b[4m9\u001b[24m014.\n",
      "\u001b[90m8\u001b[39m PARTEPRE40TOTAL     0      0      0      0   \u001b[4m2\u001b[24m550.  \u001b[4m3\u001b[24m007.  \u001b[4m2\u001b[24m905.  \u001b[4m2\u001b[24m791.  \u001b[4m2\u001b[24m716.\n"
     ]
    }
   ],
   "source": [
    "%%R -i pipelines_age\n",
    "pipelines_age %>%\n",
    "    gather(PARTEPRE40TOTAL, PARTE1950TOTAL, PARTE1960TOTAL, PARTE1970TOTAL, PARTE1980TOTAL, PARTE1990TOTAL, \n",
    "           PARTE2000TOTAL, PARTE2010TOTAL, key = 'DECADE', value = 'MILES') %>%\n",
    "    group_by(DECADE, REPORT_YEAR) %>%\n",
    "    summarize(total_miles = sum(MILES)) %>%\n",
    "    spread(REPORT_YEAR, total_miles)"
   ]
  },
  {
   "cell_type": "markdown",
   "metadata": {},
   "source": [
    "The distribution across decades is surprisingly balanced. Strong trends are not discernible, there is the construction of new pipelines, and some pre-1980 pipelines are being retired."
   ]
  },
  {
   "cell_type": "markdown",
   "metadata": {},
   "source": [
    "## 2.6 How much % is offshore?"
   ]
  },
  {
   "cell_type": "code",
   "execution_count": 33,
   "metadata": {},
   "outputs": [],
   "source": [
    "pipeline_offshore = pipelines[['OPERATOR_ID', 'REPORT_YEAR', 'PARTBHCAOFFSHORE', 'PARTBHCATOTAL', 'PARTA5COMMODITY']]"
   ]
  },
  {
   "cell_type": "code",
   "execution_count": 34,
   "metadata": {},
   "outputs": [
    {
     "data": {
      "text/plain": [
       "True     4676\n",
       "False     633\n",
       "Name: PARTBHCAOFFSHORE, dtype: int64"
      ]
     },
     "execution_count": 34,
     "metadata": {},
     "output_type": "execute_result"
    }
   ],
   "source": [
    "pipeline_offshore['PARTBHCAOFFSHORE'].isna().value_counts()"
   ]
  },
  {
   "cell_type": "code",
   "execution_count": 35,
   "metadata": {},
   "outputs": [
    {
     "name": "stdout",
     "output_type": "stream",
     "text": [
      "\u001b[90m# A tibble: 9 x 2\u001b[39m\n",
      "  REPORT_YEAR perc_na\n",
      "        \u001b[3m\u001b[90m<int>\u001b[39m\u001b[23m   \u001b[3m\u001b[90m<dbl>\u001b[39m\u001b[23m\n",
      "\u001b[90m1\u001b[39m        \u001b[4m2\u001b[24m010   0.862\n",
      "\u001b[90m2\u001b[39m        \u001b[4m2\u001b[24m011   0.869\n",
      "\u001b[90m3\u001b[39m        \u001b[4m2\u001b[24m012   0.888\n",
      "\u001b[90m4\u001b[39m        \u001b[4m2\u001b[24m013   0.859\n",
      "\u001b[90m5\u001b[39m        \u001b[4m2\u001b[24m014   0.883\n",
      "\u001b[90m6\u001b[39m        \u001b[4m2\u001b[24m015   0.893\n",
      "\u001b[90m7\u001b[39m        \u001b[4m2\u001b[24m016   0.897\n",
      "\u001b[90m8\u001b[39m        \u001b[4m2\u001b[24m017   0.863\n",
      "\u001b[90m9\u001b[39m        \u001b[4m2\u001b[24m018   0.905\n"
     ]
    }
   ],
   "source": [
    "%%R -i pipeline_offshore\n",
    "pipeline_offshore %>% \n",
    "    group_by(REPORT_YEAR) %>%\n",
    "    summarize(perc_na = mean(is.na(PARTBHCAOFFSHORE)))"
   ]
  },
  {
   "cell_type": "code",
   "execution_count": 36,
   "metadata": {},
   "outputs": [
    {
     "name": "stdout",
     "output_type": "stream",
     "text": [
      "\u001b[90m# A tibble: 5 x 2\u001b[39m\n",
      "  PARTA5COMMODITY                            perc_na\n",
      "  \u001b[3m\u001b[90m<chr>\u001b[39m\u001b[23m                                        \u001b[3m\u001b[90m<dbl>\u001b[39m\u001b[23m\n",
      "\u001b[90m1\u001b[39m CO2                                          0.959\n",
      "\u001b[90m2\u001b[39m Crude Oil                                    0.779\n",
      "\u001b[90m3\u001b[39m Fuel Grade Ethanol (dedicated system)        1    \n",
      "\u001b[90m4\u001b[39m HVL                                          0.955\n",
      "\u001b[90m5\u001b[39m Refined and/or Petroleum Product (non-HVL)   0.926\n"
     ]
    }
   ],
   "source": [
    "%%R -i pipeline_offshore\n",
    "pipeline_offshore %>% \n",
    "    group_by(PARTA5COMMODITY) %>%\n",
    "    summarize(perc_na = mean(is.na(PARTBHCAOFFSHORE)))"
   ]
  },
  {
   "cell_type": "code",
   "execution_count": 37,
   "metadata": {},
   "outputs": [
    {
     "name": "stdout",
     "output_type": "stream",
     "text": [
      "\n",
      "0.0 0.1 0.2 0.3 0.4 0.5 0.6 0.7 0.8 0.9 1.0 \n",
      " 46   5   5   3   3   5   9  24  34  72 497 \n"
     ]
    }
   ],
   "source": [
    "%%R -i pipeline_offshore\n",
    "pipeline_offshore %>% \n",
    "    mutate(missing_offshore = is.na(PARTBHCAOFFSHORE)) %>%\n",
    "    group_by(OPERATOR_ID) %>%\n",
    "    summarize(perc_missing = sprintf(\"%0.1f\", sum(missing_offshore) / n())) %>%\n",
    "    {table(.$perc_missing)}"
   ]
  },
  {
   "cell_type": "code",
   "execution_count": 38,
   "metadata": {},
   "outputs": [
    {
     "name": "stdout",
     "output_type": "stream",
     "text": [
      "\n",
      "0.00 0.01 0.02 0.05 0.06 0.10 0.20 0.25 0.34 0.36 0.41 0.57 0.62 0.70 0.71 0.80 \n",
      "  12    2    1    1    1    1    1    1    1    1    1    1    1    1    1    1 \n",
      "0.84 0.85 0.86 0.91 0.99 1.00 \n",
      "   1    1    1    1    1    4 \n"
     ]
    }
   ],
   "source": [
    "%%R -i pipeline_offshore\n",
    "\n",
    "pipeline_offshore %>% \n",
    "    #Picking a year at random\n",
    "    filter(REPORT_YEAR == 2015) %>%\n",
    "    mutate(perc_offshore = sprintf(\"%0.2f\", PARTBHCAOFFSHORE / PARTBHCATOTAL)) %>%\n",
    "    {table(.$perc_offshore)}"
   ]
  },
  {
   "cell_type": "code",
   "execution_count": 39,
   "metadata": {},
   "outputs": [
    {
     "name": "stdout",
     "output_type": "stream",
     "text": [
      "     \n",
      "      2010 2011 2012 2013 2014 2015 2016 2017 2018\n",
      "  0.0   37   34   31   47   23   16   17   41   19\n",
      "  0.1    5    4    2    4    3    2    3    3    3\n",
      "  0.2    1    1    1    1    1    1    2    2    3\n",
      "  0.3    2    3    2    3    2    2    1    0    0\n",
      "  0.4    2    2    1    1    2    2    2    1    1\n",
      "  0.5    0    0    0    0    0    0    1    1    1\n",
      "  0.6    1    1    1    1    1    2    2    2    3\n",
      "  0.7    2    2    1    1    1    2    1    2    3\n",
      "  0.8    0    0    1    2    2    2    0    0    0\n",
      "  0.9    4    5    5    3    2    3    3    3    2\n",
      "  1.0    9   10   12   12    7    5    8    6    7\n"
     ]
    }
   ],
   "source": [
    "%%R -i pipeline_offshore\n",
    "pipeline_offshore %>% \n",
    "    #Picking a year at random\n",
    "    mutate(perc_offshore = sprintf(\"%0.1f\", PARTBHCAOFFSHORE / PARTBHCATOTAL)) %>%\n",
    "    {table(.$perc_offshore, .$REPORT_YEAR)}"
   ]
  },
  {
   "cell_type": "markdown",
   "metadata": {},
   "source": [
    "Are there any values close to 1, but not equal to 1?"
   ]
  },
  {
   "cell_type": "code",
   "execution_count": 40,
   "metadata": {},
   "outputs": [
    {
     "name": "stdout",
     "output_type": "stream",
     "text": [
      "      \n",
      "       2010 2011 2012 2013 2014 2015 2016 2017 2018\n",
      "  0.80    0    0    1    1    1    1    0    0    0\n",
      "  0.84    0    0    0    0    1    1    0    0    0\n",
      "  0.85    0    0    0    0    0    1    1    0    0\n",
      "  0.86    1    1    2    2    2    1    1    2    0\n",
      "  0.87    1    1    0    0    0    0    0    0    0\n",
      "  0.88    1    1    1    0    0    0    0    0    0\n",
      "  0.91    1    1    1    0    0    1    1    1    1\n",
      "  0.92    0    1    1    1    0    0    0    0    0\n",
      "  0.94    0    0    0    0    0    0    0    0    1\n",
      "  0.97    1    1    1    1    0    0    0    0    0\n",
      "  0.99    0    0    1    1    0    1    1    1    0\n",
      "  1.00    8    9   10   10    7    4    7    5    7\n"
     ]
    }
   ],
   "source": [
    "%%R -i pipeline_offshore\n",
    "pipeline_offshore %>% \n",
    "    mutate(perc_offshore = sprintf(\"%0.2f\", PARTBHCAOFFSHORE / PARTBHCATOTAL)) %>%\n",
    "    filter(perc_offshore > 0.8) %>%\n",
    "    {table(.$perc_offshore, .$REPORT_YEAR)}"
   ]
  },
  {
   "cell_type": "markdown",
   "metadata": {},
   "source": [
    "The presence of organizations that have a high share of offshore is somewhat concerning, because the data on the age of the pipelines does not differentiate between on and offshore. We could rectify this issue by removing any operators with offshore pipelines, since most operators do not have offshore pipelines. Let's see hwo many observations we would lose."
   ]
  },
  {
   "cell_type": "code",
   "execution_count": 41,
   "metadata": {},
   "outputs": [
    {
     "name": "stdout",
     "output_type": "stream",
     "text": [
      "\n",
      "0.00 0.01 0.02 0.03 0.04 0.05 0.06 0.07 0.08 0.09 0.10 0.11 0.12 0.13 0.14 0.16 \n",
      "5061    9    9    4    7    6    7    1    4    3    5    2    1    2    1    4 \n",
      "0.17 0.19 0.20 0.21 0.24 0.25 0.29 0.30 0.34 0.35 0.36 0.37 0.38 0.39 0.40 0.41 \n",
      "   1    2    3    2    1    7    2    1    4    1    5    1    1    1    2    3 \n",
      "0.45 0.55 0.57 0.58 0.62 0.68 0.69 0.70 0.71 0.72 0.74 0.78 0.80 0.84 0.85 0.86 \n",
      "   1    3    9    1    4    5    1    3    3    1    2    1    4    2    2   12 \n",
      "0.87 0.88 0.91 0.92 0.94 0.97 0.99 1.00 \n",
      "   2    3    7    3    1    4    5   67 \n"
     ]
    }
   ],
   "source": [
    "%%R -i pipeline_offshore\n",
    "pipeline_offshore %>% \n",
    "    mutate(perc_offshore = PARTBHCAOFFSHORE / PARTBHCATOTAL) %>%\n",
    "    mutate(perc_offshore = ifelse(is.na(perc_offshore), 0, perc_offshore)) %>%\n",
    "    mutate(perc_offshore = sprintf(\"%0.2f\", perc_offshore)) %>%\n",
    "    {table(.$perc_offshore)}"
   ]
  },
  {
   "cell_type": "markdown",
   "metadata": {},
   "source": [
    "Looks like we can exclude offshore without losing too many observations."
   ]
  },
  {
   "cell_type": "code",
   "execution_count": 42,
   "metadata": {},
   "outputs": [
    {
     "name": "stdout",
     "output_type": "stream",
     "text": [
      "\n",
      "0.0 0.1 0.2 0.3 0.4 0.6 0.7 0.8 0.9 1.0 \n",
      "660   5   2   2   2   2   2   1   6  21 \n"
     ]
    }
   ],
   "source": [
    "%%R -i pipeline_offshore\n",
    "pipeline_offshore %>%\n",
    "    mutate(perc_offshore = PARTBHCAOFFSHORE / PARTBHCATOTAL) %>%\n",
    "    mutate(perc_offshore = ifelse(is.na(perc_offshore), 0, perc_offshore)) %>%\n",
    "    group_by(OPERATOR_ID) %>%\n",
    "    summarize(offshore_max = max(perc_offshore)) %>%\n",
    "    mutate(offshore_max = sprintf(\"%0.1f\", offshore_max)) %>%\n",
    "    {table(.$offshore_max)}"
   ]
  },
  {
   "cell_type": "markdown",
   "metadata": {},
   "source": [
    "By setting a strict limit of no offshore, we will lose 43 out of 703 observations (organizations)."
   ]
  },
  {
   "cell_type": "code",
   "execution_count": 43,
   "metadata": {},
   "outputs": [
    {
     "name": "stdout",
     "output_type": "stream",
     "text": [
      "\n",
      "0.00 0.01 0.02 0.03 0.04 0.08 0.09 \n",
      " 656    1    1    1    1    1    1 \n"
     ]
    }
   ],
   "source": [
    "%%R -i pipeline_offshore\n",
    "pipeline_offshore %>%\n",
    "    mutate(perc_offshore = PARTBHCAOFFSHORE / PARTBHCATOTAL) %>%\n",
    "    mutate(perc_offshore = ifelse(is.na(perc_offshore), 0, perc_offshore)) %>%\n",
    "    group_by(OPERATOR_ID) %>%\n",
    "    summarize(offshore_max = max(perc_offshore)) %>%\n",
    "    filter(offshore_max < 0.1) %>%\n",
    "    mutate(offshore_max = sprintf(\"%0.2f\", offshore_max)) %>%\n",
    "    {table(.$offshore_max)}"
   ]
  },
  {
   "cell_type": "markdown",
   "metadata": {},
   "source": [
    "More like 47 for a strict limit of 0.0."
   ]
  },
  {
   "cell_type": "markdown",
   "metadata": {},
   "source": [
    "## 2.7 FERC Notices"
   ]
  },
  {
   "cell_type": "code",
   "execution_count": 44,
   "metadata": {},
   "outputs": [
    {
     "data": {
      "text/plain": [
       "27890"
      ]
     },
     "execution_count": 44,
     "metadata": {},
     "output_type": "execute_result"
    }
   ],
   "source": [
    "notices = pd.read_csv('../data/ferc_notices_2019-08-01.csv')\n",
    "\n",
    "len(notices)"
   ]
  },
  {
   "cell_type": "markdown",
   "metadata": {},
   "source": [
    "Check whether any notes were read incorrectly (too many requests)."
   ]
  },
  {
   "cell_type": "code",
   "execution_count": 45,
   "metadata": {},
   "outputs": [
    {
     "data": {
      "text/plain": [
       "False    27890\n",
       "Name: full-text, dtype: int64"
      ]
     },
     "execution_count": 45,
     "metadata": {},
     "output_type": "execute_result"
    }
   ],
   "source": [
    "notices['full-text'].str.contains('too manyrequests').value_counts()"
   ]
  }
 ],
 "metadata": {
  "kernelspec": {
   "display_name": "oil_industry",
   "language": "python",
   "name": "oil_industry"
  },
  "language_info": {
   "codemirror_mode": {
    "name": "ipython",
    "version": 3
   },
   "file_extension": ".py",
   "mimetype": "text/x-python",
   "name": "python",
   "nbconvert_exporter": "python",
   "pygments_lexer": "ipython3",
   "version": "3.6.8"
  },
  "pycharm": {
   "stem_cell": {
    "cell_type": "raw",
    "metadata": {
     "collapsed": false
    },
    "source": []
   }
  }
 },
 "nbformat": 4,
 "nbformat_minor": 4
}
