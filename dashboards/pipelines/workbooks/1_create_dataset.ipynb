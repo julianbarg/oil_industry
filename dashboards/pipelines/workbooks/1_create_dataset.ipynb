{
 "cells": [
  {
   "cell_type": "markdown",
   "metadata": {},
   "source": [
    "# 1. Create dataset"
   ]
  },
  {
   "cell_type": "markdown",
   "metadata": {},
   "source": [
    "## Setup"
   ]
  },
  {
   "cell_type": "code",
   "execution_count": 1,
   "metadata": {},
   "outputs": [
    {
     "name": "stderr",
     "output_type": "stream",
     "text": [
      "Registered S3 methods overwritten by 'ggplot2':\n",
      "  method         from \n",
      "  [.quosures     rlang\n",
      "  c.quosures     rlang\n",
      "  print.quosures rlang\n",
      "Registered S3 method overwritten by 'rvest':\n",
      "  method            from\n",
      "  read_xml.response xml2\n",
      "── \u001b[1mAttaching packages\u001b[22m ─────────────────────────────────────── tidyverse 1.2.1 ──\n",
      "\u001b[32m✔\u001b[39m \u001b[34mggplot2\u001b[39m 3.1.1       \u001b[32m✔\u001b[39m \u001b[34mpurrr  \u001b[39m 0.3.2  \n",
      "\u001b[32m✔\u001b[39m \u001b[34mtibble \u001b[39m 2.1.1       \u001b[32m✔\u001b[39m \u001b[34mdplyr  \u001b[39m 0.8.0.\u001b[31m1\u001b[39m\n",
      "\u001b[32m✔\u001b[39m \u001b[34mtidyr  \u001b[39m 0.8.3       \u001b[32m✔\u001b[39m \u001b[34mstringr\u001b[39m 1.4.0  \n",
      "\u001b[32m✔\u001b[39m \u001b[34mreadr  \u001b[39m 1.3.1       \u001b[32m✔\u001b[39m \u001b[34mforcats\u001b[39m 0.4.0  \n",
      "── \u001b[1mConflicts\u001b[22m ────────────────────────────────────────── tidyverse_conflicts() ──\n",
      "\u001b[31m✖\u001b[39m \u001b[34mdplyr\u001b[39m::\u001b[32mfilter()\u001b[39m masks \u001b[34mstats\u001b[39m::filter()\n",
      "\u001b[31m✖\u001b[39m \u001b[34mdplyr\u001b[39m::\u001b[32mlag()\u001b[39m    masks \u001b[34mstats\u001b[39m::lag()\n"
     ]
    }
   ],
   "source": [
    "library(tidyverse)\n",
    "library(feather)\n",
    "\n",
    "year <- lubridate::year"
   ]
  },
  {
   "cell_type": "code",
   "execution_count": 2,
   "metadata": {},
   "outputs": [],
   "source": [
    "incidents_file <- \"../../../data/incidents_2019-08-11.feather\"\n",
    "pipelines_file <- \"../../../data/pipelines_2010_2019-08-16.feather\"\n",
    "largest_observations_file = \"../../../preprocessed_data/largest_companies_2019-09-08.feather\"\n",
    "company_groups_file <- \"../../../preprocessed_data/company_groups_2019-08-18.feather\"\n",
    "m_as_file <- \"../../../preprocessed_data/m_as_2019-08-18.feather\""
   ]
  },
  {
   "cell_type": "markdown",
   "metadata": {},
   "source": [
    "## Read data"
   ]
  },
  {
   "cell_type": "code",
   "execution_count": 3,
   "metadata": {},
   "outputs": [
    {
     "name": "stderr",
     "output_type": "stream",
     "text": [
      "Warning message:\n",
      "“Coercing int64 to double”Warning message:\n",
      "“Coercing int64 to double”Warning message:\n",
      "“Coercing int64 to double”Warning message:\n",
      "“Coercing int64 to double”Warning message:\n",
      "“Coercing int64 to double”"
     ]
    },
    {
     "data": {
      "text/html": [
       "<table>\n",
       "<caption>A tibble: 3 × 20</caption>\n",
       "<thead>\n",
       "\t<tr><th scope=col>DATAFILE_AS_OF</th><th scope=col>SIGNIFICANT</th><th scope=col>SERIOUS</th><th scope=col>IPE</th><th scope=col>IA_IPE</th><th scope=col>OM_IPE</th><th scope=col>REPORT_NUMBER</th><th scope=col>SUPPLEMENTAL_NUMBER</th><th scope=col>REPORT_RECEIVED_DATE</th><th scope=col>REPORT_TYPE</th><th scope=col>OPERATOR_ID</th><th scope=col>NAME</th><th scope=col>OPERATOR_STREET_ADDRESS</th><th scope=col>OPERATOR_CITY_NAME</th><th scope=col>OPERATOR_STATE_ABBREVIATION</th><th scope=col>OPERATOR_POSTAL_CODE</th><th scope=col>LOCAL_DATETIME</th><th scope=col>IYEAR</th><th scope=col>LOCATION_LATITUDE</th><th scope=col>LOCATION_LONGITUDE</th></tr>\n",
       "\t<tr><th scope=col>&lt;dttm&gt;</th><th scope=col>&lt;chr&gt;</th><th scope=col>&lt;chr&gt;</th><th scope=col>&lt;chr&gt;</th><th scope=col>&lt;chr&gt;</th><th scope=col>&lt;chr&gt;</th><th scope=col>&lt;dbl&gt;</th><th scope=col>&lt;dbl&gt;</th><th scope=col>&lt;dttm&gt;</th><th scope=col>&lt;chr&gt;</th><th scope=col>&lt;dbl&gt;</th><th scope=col>&lt;chr&gt;</th><th scope=col>&lt;chr&gt;</th><th scope=col>&lt;chr&gt;</th><th scope=col>&lt;chr&gt;</th><th scope=col>&lt;chr&gt;</th><th scope=col>&lt;dttm&gt;</th><th scope=col>&lt;dbl&gt;</th><th scope=col>&lt;dbl&gt;</th><th scope=col>&lt;dbl&gt;</th></tr>\n",
       "</thead>\n",
       "<tbody>\n",
       "\t<tr><td>2019-07-31 04:37:40</td><td>NO </td><td>NO</td><td>NO</td><td>NO</td><td>NO</td><td>20100001</td><td>15751</td><td>2010-03-10 08:05:46</td><td>SUPPLEMENTAL FINAL</td><td>22610</td><td>MAGELLAN PIPELINE COMPANY, LP</td><td>MAGELLAN MIDSTREAM PARTNERS, L.P.    </td><td>TULSA        </td><td>OK</td><td>74172     </td><td>2010-02-16 02:42:00</td><td>2010</td><td>41.94352</td><td> -88.23353</td></tr>\n",
       "\t<tr><td>2019-07-31 04:37:40</td><td>NO </td><td>NO</td><td>NO</td><td>NO</td><td>NO</td><td>20100002</td><td>19837</td><td>2010-03-16 13:43:54</td><td>SUPPLEMENTAL FINAL</td><td>31672</td><td>CHAPARRAL ENERGY, LLC        </td><td>701 CEDAR LAKE BLVD                  </td><td>OKLAHOMA CITY</td><td>OK</td><td>73114     </td><td>2010-03-01 06:50:00</td><td>2010</td><td>37.10847</td><td>-100.80037</td></tr>\n",
       "\t<tr><td>2019-07-31 04:37:40</td><td>YES</td><td>NO</td><td>NO</td><td>NO</td><td>NO</td><td>20100003</td><td>18021</td><td>2010-03-17 06:38:15</td><td>SUPPLEMENTAL FINAL</td><td>32035</td><td>LDH ENERGY PIPELINE L.P.     </td><td>13430 NORTHWEST FREEWAY   SUITE 1200 </td><td>HOUSTON      </td><td>TX</td><td>77040-6019</td><td>2010-02-22 05:38:00</td><td>2010</td><td>32.22471</td><td>-101.40440</td></tr>\n",
       "</tbody>\n",
       "</table>\n"
      ],
      "text/latex": [
       "A tibble: 3 × 20\n",
       "\\begin{tabular}{r|llllllllllllllllllll}\n",
       " DATAFILE\\_AS\\_OF & SIGNIFICANT & SERIOUS & IPE & IA\\_IPE & OM\\_IPE & REPORT\\_NUMBER & SUPPLEMENTAL\\_NUMBER & REPORT\\_RECEIVED\\_DATE & REPORT\\_TYPE & OPERATOR\\_ID & NAME & OPERATOR\\_STREET\\_ADDRESS & OPERATOR\\_CITY\\_NAME & OPERATOR\\_STATE\\_ABBREVIATION & OPERATOR\\_POSTAL\\_CODE & LOCAL\\_DATETIME & IYEAR & LOCATION\\_LATITUDE & LOCATION\\_LONGITUDE\\\\\n",
       " <dttm> & <chr> & <chr> & <chr> & <chr> & <chr> & <dbl> & <dbl> & <dttm> & <chr> & <dbl> & <chr> & <chr> & <chr> & <chr> & <chr> & <dttm> & <dbl> & <dbl> & <dbl>\\\\\n",
       "\\hline\n",
       "\t 2019-07-31 04:37:40 & NO  & NO & NO & NO & NO & 20100001 & 15751 & 2010-03-10 08:05:46 & SUPPLEMENTAL FINAL & 22610 & MAGELLAN PIPELINE COMPANY, LP & MAGELLAN MIDSTREAM PARTNERS, L.P.     & TULSA         & OK & 74172      & 2010-02-16 02:42:00 & 2010 & 41.94352 &  -88.23353\\\\\n",
       "\t 2019-07-31 04:37:40 & NO  & NO & NO & NO & NO & 20100002 & 19837 & 2010-03-16 13:43:54 & SUPPLEMENTAL FINAL & 31672 & CHAPARRAL ENERGY, LLC         & 701 CEDAR LAKE BLVD                   & OKLAHOMA CITY & OK & 73114      & 2010-03-01 06:50:00 & 2010 & 37.10847 & -100.80037\\\\\n",
       "\t 2019-07-31 04:37:40 & YES & NO & NO & NO & NO & 20100003 & 18021 & 2010-03-17 06:38:15 & SUPPLEMENTAL FINAL & 32035 & LDH ENERGY PIPELINE L.P.      & 13430 NORTHWEST FREEWAY   SUITE 1200  & HOUSTON       & TX & 77040-6019 & 2010-02-22 05:38:00 & 2010 & 32.22471 & -101.40440\\\\\n",
       "\\end{tabular}\n"
      ],
      "text/markdown": [
       "\n",
       "A tibble: 3 × 20\n",
       "\n",
       "| DATAFILE_AS_OF &lt;dttm&gt; | SIGNIFICANT &lt;chr&gt; | SERIOUS &lt;chr&gt; | IPE &lt;chr&gt; | IA_IPE &lt;chr&gt; | OM_IPE &lt;chr&gt; | REPORT_NUMBER &lt;dbl&gt; | SUPPLEMENTAL_NUMBER &lt;dbl&gt; | REPORT_RECEIVED_DATE &lt;dttm&gt; | REPORT_TYPE &lt;chr&gt; | OPERATOR_ID &lt;dbl&gt; | NAME &lt;chr&gt; | OPERATOR_STREET_ADDRESS &lt;chr&gt; | OPERATOR_CITY_NAME &lt;chr&gt; | OPERATOR_STATE_ABBREVIATION &lt;chr&gt; | OPERATOR_POSTAL_CODE &lt;chr&gt; | LOCAL_DATETIME &lt;dttm&gt; | IYEAR &lt;dbl&gt; | LOCATION_LATITUDE &lt;dbl&gt; | LOCATION_LONGITUDE &lt;dbl&gt; |\n",
       "|---|---|---|---|---|---|---|---|---|---|---|---|---|---|---|---|---|---|---|---|\n",
       "| 2019-07-31 04:37:40 | NO  | NO | NO | NO | NO | 20100001 | 15751 | 2010-03-10 08:05:46 | SUPPLEMENTAL FINAL | 22610 | MAGELLAN PIPELINE COMPANY, LP | MAGELLAN MIDSTREAM PARTNERS, L.P.     | TULSA         | OK | 74172      | 2010-02-16 02:42:00 | 2010 | 41.94352 |  -88.23353 |\n",
       "| 2019-07-31 04:37:40 | NO  | NO | NO | NO | NO | 20100002 | 19837 | 2010-03-16 13:43:54 | SUPPLEMENTAL FINAL | 31672 | CHAPARRAL ENERGY, LLC         | 701 CEDAR LAKE BLVD                   | OKLAHOMA CITY | OK | 73114      | 2010-03-01 06:50:00 | 2010 | 37.10847 | -100.80037 |\n",
       "| 2019-07-31 04:37:40 | YES | NO | NO | NO | NO | 20100003 | 18021 | 2010-03-17 06:38:15 | SUPPLEMENTAL FINAL | 32035 | LDH ENERGY PIPELINE L.P.      | 13430 NORTHWEST FREEWAY   SUITE 1200  | HOUSTON       | TX | 77040-6019 | 2010-02-22 05:38:00 | 2010 | 32.22471 | -101.40440 |\n",
       "\n"
      ],
      "text/plain": [
       "  DATAFILE_AS_OF      SIGNIFICANT SERIOUS IPE IA_IPE OM_IPE REPORT_NUMBER\n",
       "1 2019-07-31 04:37:40 NO          NO      NO  NO     NO     20100001     \n",
       "2 2019-07-31 04:37:40 NO          NO      NO  NO     NO     20100002     \n",
       "3 2019-07-31 04:37:40 YES         NO      NO  NO     NO     20100003     \n",
       "  SUPPLEMENTAL_NUMBER REPORT_RECEIVED_DATE REPORT_TYPE        OPERATOR_ID\n",
       "1 15751               2010-03-10 08:05:46  SUPPLEMENTAL FINAL 22610      \n",
       "2 19837               2010-03-16 13:43:54  SUPPLEMENTAL FINAL 31672      \n",
       "3 18021               2010-03-17 06:38:15  SUPPLEMENTAL FINAL 32035      \n",
       "  NAME                          OPERATOR_STREET_ADDRESS              \n",
       "1 MAGELLAN PIPELINE COMPANY, LP MAGELLAN MIDSTREAM PARTNERS, L.P.    \n",
       "2 CHAPARRAL ENERGY, LLC         701 CEDAR LAKE BLVD                  \n",
       "3 LDH ENERGY PIPELINE L.P.      13430 NORTHWEST FREEWAY   SUITE 1200 \n",
       "  OPERATOR_CITY_NAME OPERATOR_STATE_ABBREVIATION OPERATOR_POSTAL_CODE\n",
       "1 TULSA              OK                          74172               \n",
       "2 OKLAHOMA CITY      OK                          73114               \n",
       "3 HOUSTON            TX                          77040-6019          \n",
       "  LOCAL_DATETIME      IYEAR LOCATION_LATITUDE LOCATION_LONGITUDE\n",
       "1 2010-02-16 02:42:00 2010  41.94352           -88.23353        \n",
       "2 2010-03-01 06:50:00 2010  37.10847          -100.80037        \n",
       "3 2010-02-22 05:38:00 2010  32.22471          -101.40440        "
      ]
     },
     "metadata": {},
     "output_type": "display_data"
    }
   ],
   "source": [
    "incidents <- read_feather(incidents_file)\n",
    "head(incidents[1:20], 3)"
   ]
  },
  {
   "cell_type": "code",
   "execution_count": 4,
   "metadata": {},
   "outputs": [
    {
     "name": "stderr",
     "output_type": "stream",
     "text": [
      "Warning message:\n",
      "“Coercing int64 to double”Warning message:\n",
      "“Coercing int64 to double”Warning message:\n",
      "“Coercing int64 to double”Warning message:\n",
      "“Coercing int64 to double”Warning message:\n",
      "“Coercing int64 to double”"
     ]
    },
    {
     "data": {
      "text/html": [
       "<table>\n",
       "<caption>A tibble: 3 × 85</caption>\n",
       "<thead>\n",
       "\t<tr><th scope=col>DATAFILE_AS_OF</th><th scope=col>REPORT_YEAR</th><th scope=col>REPORT_NUMBER</th><th scope=col>SUPPLEMENTAL_NUMBER</th><th scope=col>OPERATOR_ID</th><th scope=col>PARTA2NAMEOFCOMP</th><th scope=col>PARTA4STREET</th><th scope=col>PARTA4CITY</th><th scope=col>PARTA4STATE</th><th scope=col>PARTA4ZIP</th><th scope=col>⋯</th><th scope=col>PARTE2010HF</th><th scope=col>PARTE2010LF</th><th scope=col>PARTE2010TOTAL</th><th scope=col>PARTETOTAL</th><th scope=col>PARTETOTALHF</th><th scope=col>PARTETOTALLF</th><th scope=col>REPORT_SUBMISSION_TYPE</th><th scope=col>REPORT_DATE</th><th scope=col>FILING_DATE</th><th scope=col>FORM_REV</th></tr>\n",
       "\t<tr><th scope=col>&lt;dttm&gt;</th><th scope=col>&lt;dbl&gt;</th><th scope=col>&lt;dbl&gt;</th><th scope=col>&lt;dbl&gt;</th><th scope=col>&lt;dbl&gt;</th><th scope=col>&lt;chr&gt;</th><th scope=col>&lt;chr&gt;</th><th scope=col>&lt;chr&gt;</th><th scope=col>&lt;chr&gt;</th><th scope=col>&lt;chr&gt;</th><th scope=col>⋯</th><th scope=col>&lt;dbl&gt;</th><th scope=col>&lt;dbl&gt;</th><th scope=col>&lt;dbl&gt;</th><th scope=col>&lt;dbl&gt;</th><th scope=col>&lt;dbl&gt;</th><th scope=col>&lt;dbl&gt;</th><th scope=col>&lt;chr&gt;</th><th scope=col>&lt;dttm&gt;</th><th scope=col>&lt;dttm&gt;</th><th scope=col>&lt;chr&gt;</th></tr>\n",
       "</thead>\n",
       "<tbody>\n",
       "\t<tr><td>2019-07-01 07:28:09</td><td>2017</td><td>20183395</td><td>16429</td><td>300</td><td>PLAINS PIPELINE, L.P.</td><td>333 CLAY STREET, SUITE 1600</td><td>HOUSTON</td><td>TX</td><td>77002</td><td>⋯</td><td>3107.93</td><td>0</td><td>3107.93</td><td>6207.50</td><td>4396.35</td><td>1811.15</td><td>SUPPLEMENTAL</td><td>2018-06-13 07:30:58</td><td>2019-04-09 09:25:41</td><td>7000-1.1 (Rev. 06-2014)</td></tr>\n",
       "\t<tr><td>2019-07-01 07:28:09</td><td>2017</td><td>20183396</td><td>15929</td><td>300</td><td>PLAINS PIPELINE, L.P.</td><td>333 CLAY STREET, SUITE 1600</td><td>HOUSTON</td><td>TX</td><td>77002</td><td>⋯</td><td>  47.92</td><td>0</td><td>  47.92</td><td>  47.93</td><td>  47.93</td><td>   0.00</td><td>INITIAL     </td><td>2018-06-13 07:34:52</td><td>2018-06-13 07:34:52</td><td>7000-1.1 (Rev. 06-2014)</td></tr>\n",
       "\t<tr><td>2019-07-01 07:28:09</td><td>2017</td><td>20183397</td><td>15930</td><td>300</td><td>PLAINS PIPELINE, L.P.</td><td>333 CLAY STREET, SUITE 1600</td><td>HOUSTON</td><td>TX</td><td>77002</td><td>⋯</td><td>   0.00</td><td>0</td><td>   0.00</td><td>   3.72</td><td>   3.72</td><td>   0.00</td><td>INITIAL     </td><td>2018-06-13 07:36:19</td><td>2018-06-13 07:36:19</td><td>7000-1.1 (Rev. 06-2014)</td></tr>\n",
       "</tbody>\n",
       "</table>\n"
      ],
      "text/latex": [
       "A tibble: 3 × 85\n",
       "\\begin{tabular}{r|lllllllllllllllllllllllllllllllllllllllllllllllllllllllllllllllllllllllllllllllllllll}\n",
       " DATAFILE\\_AS\\_OF & REPORT\\_YEAR & REPORT\\_NUMBER & SUPPLEMENTAL\\_NUMBER & OPERATOR\\_ID & PARTA2NAMEOFCOMP & PARTA4STREET & PARTA4CITY & PARTA4STATE & PARTA4ZIP & PARTA4COUNTRY & PARTA5COMMODITY & PARTA7INTER & PARTA7INTRA & PARTBHCAOFFSHORE & PARTBHCAONSHORE & PARTBHCATOTAL & PARTCOFFCO2 & PARTCOFFCRUDE & PARTCOFFETHANOL & PARTCOFFHVL & PARTCOFFRPP & PARTCONCO2 & PARTCONCRUDE & PARTCONETHANOL & PARTCONHVL & PARTCONRPP & PARTDONCPB & PARTDONCPC & PARTDONCUB & PARTDONCUC & PARTDONCUP & PARTDONCUO & PARTDONTOTAL & PARTDOFFCPB & PARTDOFFCPC & PARTDOFFCUB & PARTDOFFCUC & PARTDOFFCUP & PARTDOFFCUO & PARTDOFFTOTAL & PARTDCPBTOTAL & PARTDCPCTOTAL & PARTDCUBTOTAL & PARTDCUCTOTAL & PARTDCUPTOTAL & PARTDCUOTOTAL & PARTDTOTALMILES & PARTEUNKNHF & PARTEUNKNLF & PARTEUNKNTOTAL & PARTEPRE40HF & PARTEPRE40LF & PARTEPRE40TOTAL & PARTE1940HF & PARTE1940LF & PARTE1940TOTAL & PARTE1950HF & PARTE1950LF & PARTE1950TOTAL & PARTE1960HF & PARTE1960LF & PARTE1960TOTAL & PARTE1970HF & PARTE1970LF & PARTE1970TOTAL & PARTE1980HF & PARTE1980LF & PARTE1980TOTAL & PARTE1990HF & PARTE1990LF & PARTE1990TOTAL & PARTE2000HF & PARTE2000LF & PARTE2000TOTAL & PARTE2010HF & PARTE2010LF & PARTE2010TOTAL & PARTETOTAL & PARTETOTALHF & PARTETOTALLF & REPORT\\_SUBMISSION\\_TYPE & REPORT\\_DATE & FILING\\_DATE & FORM\\_REV\\\\\n",
       " <dttm> & <dbl> & <dbl> & <dbl> & <dbl> & <chr> & <chr> & <chr> & <chr> & <chr> & <chr> & <chr> & <chr> & <chr> & <dbl> & <dbl> & <dbl> & <dbl> & <dbl> & <dbl> & <dbl> & <dbl> & <dbl> & <dbl> & <dbl> & <dbl> & <dbl> & <dbl> & <dbl> & <dbl> & <dbl> & <dbl> & <dbl> & <dbl> & <dbl> & <dbl> & <dbl> & <dbl> & <dbl> & <dbl> & <dbl> & <dbl> & <dbl> & <dbl> & <dbl> & <dbl> & <dbl> & <dbl> & <dbl> & <dbl> & <dbl> & <dbl> & <dbl> & <dbl> & <dbl> & <dbl> & <dbl> & <dbl> & <dbl> & <dbl> & <dbl> & <dbl> & <dbl> & <dbl> & <dbl> & <dbl> & <dbl> & <dbl> & <dbl> & <dbl> & <dbl> & <dbl> & <dbl> & <dbl> & <dbl> & <dbl> & <dbl> & <dbl> & <dbl> & <dbl> & <dbl> & <chr> & <dttm> & <dttm> & <chr>\\\\\n",
       "\\hline\n",
       "\t 2019-07-01 07:28:09 & 2017 & 20183395 & 16429 & 300 & PLAINS PIPELINE, L.P. & 333 CLAY STREET, SUITE 1600 & HOUSTON & TX & 77002 & nan & Crude Oil                                  & ALABAMA, ARKANSAS, CALIFORNIA, COLORADO, ILLINOIS, KANSAS, LOUISIANA, MISSISSIPPI, MONTANA, NEW MEXICO, NORTH DAKOTA, OKLAHOMA, TENNESSEE, TEXAS, UTAH, WYOMING & ALABAMA, CALIFORNIA, COLORADO, KANSAS, LOUISIANA, MISSISSIPPI, MONTANA, NEW MEXICO, NORTH DAKOTA, OKLAHOMA, TEXAS, WYOMING & NA & 2101.06 & 2101.06 & NA & NA & NA & NA & NA & 0 & 219060253757 & 0 &         0 & 0 & 245.43 & 7484.37 & 0 & 0 & 0 & 1747.67 & 9477.47 & 0 & 0 & 0 & 0 & 0 & 0 & 0 & 245.43 & 7484.37 & 0 & 0 & 0 & 1747.67 & 9477.47 & 0 & 0 & 0 & 0.27 & 57.18 & 57.45 & 0 & 739.3 & 739.3 & 0.12 & 356.59 & 356.71 & 0 & 647.64 & 647.64 & 263.5 & 6.77 & 270.27 & 89.55 & 3.56 & 93.11 & 486.20 & 0.11 & 486.31 & 448.78 & 0 & 448.78 & 3107.93 & 0 & 3107.93 & 6207.50 & 4396.35 & 1811.15 & SUPPLEMENTAL & 2018-06-13 07:30:58 & 2019-04-09 09:25:41 & 7000-1.1 (Rev. 06-2014)\\\\\n",
       "\t 2019-07-01 07:28:09 & 2017 & 20183396 & 15929 & 300 & PLAINS PIPELINE, L.P. & 333 CLAY STREET, SUITE 1600 & HOUSTON & TX & 77002 & nan & HVL                                        & MICHIGAN                                                                                                                                                        & CALIFORNIA, TEXAS                                                                                                          & NA &   72.90 &   72.90 & NA & NA & NA & NA & NA & 0 &            0 & 0 & 140604358 & 0 &   0.00 &  106.42 & 0 & 0 & 0 &    1.04 &  107.46 & 0 & 0 & 0 & 0 & 0 & 0 & 0 &   0.00 &  106.42 & 0 & 0 & 0 &    1.04 &  107.46 & 0 & 0 & 0 & 0.00 &  0.00 &  0.00 & 0 &   0.0 &   0.0 & 0.00 &   0.00 &   0.00 & 0 &   0.00 &   0.00 &   0.0 & 0.00 &   0.00 &  0.00 & 0.00 &  0.00 &   0.01 & 0.00 &   0.01 &   0.00 & 0 &   0.00 &   47.92 & 0 &   47.92 &   47.93 &   47.93 &    0.00 & INITIAL      & 2018-06-13 07:34:52 & 2018-06-13 07:34:52 & 7000-1.1 (Rev. 06-2014)\\\\\n",
       "\t 2019-07-01 07:28:09 & 2017 & 20183397 & 15930 & 300 & PLAINS PIPELINE, L.P. & 333 CLAY STREET, SUITE 1600 & HOUSTON & TX & 77002 & nan & Refined and/or Petroleum Product (non-HVL) & nan                                                                                                                                                             & CALIFORNIA                                                                                                                 & NA &    0.00 &    0.00 & NA & NA & NA & NA & NA & 0 &            0 & 0 &         0 & 0 &   0.00 &    3.72 & 0 & 0 & 0 &    0.00 &    3.72 & 0 & 0 & 0 & 0 & 0 & 0 & 0 &   0.00 &    3.72 & 0 & 0 & 0 &    0.00 &    3.72 & 0 & 0 & 0 & 3.72 &  0.00 &  3.72 & 0 &   0.0 &   0.0 & 0.00 &   0.00 &   0.00 & 0 &   0.00 &   0.00 &   0.0 & 0.00 &   0.00 &  0.00 & 0.00 &  0.00 &   0.00 & 0.00 &   0.00 &   0.00 & 0 &   0.00 &    0.00 & 0 &    0.00 &    3.72 &    3.72 &    0.00 & INITIAL      & 2018-06-13 07:36:19 & 2018-06-13 07:36:19 & 7000-1.1 (Rev. 06-2014)\\\\\n",
       "\\end{tabular}\n"
      ],
      "text/markdown": [
       "\n",
       "A tibble: 3 × 85\n",
       "\n",
       "| DATAFILE_AS_OF &lt;dttm&gt; | REPORT_YEAR &lt;dbl&gt; | REPORT_NUMBER &lt;dbl&gt; | SUPPLEMENTAL_NUMBER &lt;dbl&gt; | OPERATOR_ID &lt;dbl&gt; | PARTA2NAMEOFCOMP &lt;chr&gt; | PARTA4STREET &lt;chr&gt; | PARTA4CITY &lt;chr&gt; | PARTA4STATE &lt;chr&gt; | PARTA4ZIP &lt;chr&gt; | ⋯ ⋯ | PARTE2010HF &lt;dbl&gt; | PARTE2010LF &lt;dbl&gt; | PARTE2010TOTAL &lt;dbl&gt; | PARTETOTAL &lt;dbl&gt; | PARTETOTALHF &lt;dbl&gt; | PARTETOTALLF &lt;dbl&gt; | REPORT_SUBMISSION_TYPE &lt;chr&gt; | REPORT_DATE &lt;dttm&gt; | FILING_DATE &lt;dttm&gt; | FORM_REV &lt;chr&gt; |\n",
       "|---|---|---|---|---|---|---|---|---|---|---|---|---|---|---|---|---|---|---|---|---|\n",
       "| 2019-07-01 07:28:09 | 2017 | 20183395 | 16429 | 300 | PLAINS PIPELINE, L.P. | 333 CLAY STREET, SUITE 1600 | HOUSTON | TX | 77002 | ⋯ | 3107.93 | 0 | 3107.93 | 6207.50 | 4396.35 | 1811.15 | SUPPLEMENTAL | 2018-06-13 07:30:58 | 2019-04-09 09:25:41 | 7000-1.1 (Rev. 06-2014) |\n",
       "| 2019-07-01 07:28:09 | 2017 | 20183396 | 15929 | 300 | PLAINS PIPELINE, L.P. | 333 CLAY STREET, SUITE 1600 | HOUSTON | TX | 77002 | ⋯ |   47.92 | 0 |   47.92 |   47.93 |   47.93 |    0.00 | INITIAL      | 2018-06-13 07:34:52 | 2018-06-13 07:34:52 | 7000-1.1 (Rev. 06-2014) |\n",
       "| 2019-07-01 07:28:09 | 2017 | 20183397 | 15930 | 300 | PLAINS PIPELINE, L.P. | 333 CLAY STREET, SUITE 1600 | HOUSTON | TX | 77002 | ⋯ |    0.00 | 0 |    0.00 |    3.72 |    3.72 |    0.00 | INITIAL      | 2018-06-13 07:36:19 | 2018-06-13 07:36:19 | 7000-1.1 (Rev. 06-2014) |\n",
       "\n"
      ],
      "text/plain": [
       "  DATAFILE_AS_OF      REPORT_YEAR REPORT_NUMBER SUPPLEMENTAL_NUMBER OPERATOR_ID\n",
       "1 2019-07-01 07:28:09 2017        20183395      16429               300        \n",
       "2 2019-07-01 07:28:09 2017        20183396      15929               300        \n",
       "3 2019-07-01 07:28:09 2017        20183397      15930               300        \n",
       "  PARTA2NAMEOFCOMP      PARTA4STREET                PARTA4CITY PARTA4STATE\n",
       "1 PLAINS PIPELINE, L.P. 333 CLAY STREET, SUITE 1600 HOUSTON    TX         \n",
       "2 PLAINS PIPELINE, L.P. 333 CLAY STREET, SUITE 1600 HOUSTON    TX         \n",
       "3 PLAINS PIPELINE, L.P. 333 CLAY STREET, SUITE 1600 HOUSTON    TX         \n",
       "  PARTA4ZIP ⋯ PARTE2010HF PARTE2010LF PARTE2010TOTAL PARTETOTAL PARTETOTALHF\n",
       "1 77002     ⋯ 3107.93     0           3107.93        6207.50    4396.35     \n",
       "2 77002     ⋯   47.92     0             47.92          47.93      47.93     \n",
       "3 77002     ⋯    0.00     0              0.00           3.72       3.72     \n",
       "  PARTETOTALLF REPORT_SUBMISSION_TYPE REPORT_DATE         FILING_DATE        \n",
       "1 1811.15      SUPPLEMENTAL           2018-06-13 07:30:58 2019-04-09 09:25:41\n",
       "2    0.00      INITIAL                2018-06-13 07:34:52 2018-06-13 07:34:52\n",
       "3    0.00      INITIAL                2018-06-13 07:36:19 2018-06-13 07:36:19\n",
       "  FORM_REV               \n",
       "1 7000-1.1 (Rev. 06-2014)\n",
       "2 7000-1.1 (Rev. 06-2014)\n",
       "3 7000-1.1 (Rev. 06-2014)"
      ]
     },
     "metadata": {},
     "output_type": "display_data"
    }
   ],
   "source": [
    "pipelines <- feather::read_feather(pipelines_file)\n",
    "head(pipelines, 3)"
   ]
  },
  {
   "cell_type": "code",
   "execution_count": 5,
   "metadata": {},
   "outputs": [
    {
     "data": {
      "text/html": [
       "<table>\n",
       "<caption>A tibble: 5 × 4</caption>\n",
       "<thead>\n",
       "\t<tr><th scope=col>OPERATOR_ID</th><th scope=col>YEAR</th><th scope=col>NAME</th><th scope=col>TOTAL_MILES</th></tr>\n",
       "\t<tr><th scope=col>&lt;chr&gt;</th><th scope=col>&lt;dbl&gt;</th><th scope=col>&lt;chr&gt;</th><th scope=col>&lt;dbl&gt;</th></tr>\n",
       "</thead>\n",
       "<tbody>\n",
       "\t<tr><td>31618</td><td>2018</td><td>ENTERPRISE PRODUCTS OPERATING LLC</td><td>8311.369</td></tr>\n",
       "\t<tr><td>32109</td><td>2018</td><td>ONEOK NGL PIPELINE, LLC          </td><td>4756.610</td></tr>\n",
       "\t<tr><td>31684</td><td>2005</td><td>PHILLIPS 66 PIPELINE LLC         </td><td>4691.000</td></tr>\n",
       "\t<tr><td>22610</td><td>2014</td><td>MAGELLAN PIPELINE COMPANY, LP    </td><td>4505.500</td></tr>\n",
       "\t<tr><td>2552 </td><td>2015</td><td>COLONIAL PIPELINE CO             </td><td>4500.920</td></tr>\n",
       "</tbody>\n",
       "</table>\n"
      ],
      "text/latex": [
       "A tibble: 5 × 4\n",
       "\\begin{tabular}{r|llll}\n",
       " OPERATOR\\_ID & YEAR & NAME & TOTAL\\_MILES\\\\\n",
       " <chr> & <dbl> & <chr> & <dbl>\\\\\n",
       "\\hline\n",
       "\t 31618 & 2018 & ENTERPRISE PRODUCTS OPERATING LLC & 8311.369\\\\\n",
       "\t 32109 & 2018 & ONEOK NGL PIPELINE, LLC           & 4756.610\\\\\n",
       "\t 31684 & 2005 & PHILLIPS 66 PIPELINE LLC          & 4691.000\\\\\n",
       "\t 22610 & 2014 & MAGELLAN PIPELINE COMPANY, LP     & 4505.500\\\\\n",
       "\t 2552  & 2015 & COLONIAL PIPELINE CO              & 4500.920\\\\\n",
       "\\end{tabular}\n"
      ],
      "text/markdown": [
       "\n",
       "A tibble: 5 × 4\n",
       "\n",
       "| OPERATOR_ID &lt;chr&gt; | YEAR &lt;dbl&gt; | NAME &lt;chr&gt; | TOTAL_MILES &lt;dbl&gt; |\n",
       "|---|---|---|---|\n",
       "| 31618 | 2018 | ENTERPRISE PRODUCTS OPERATING LLC | 8311.369 |\n",
       "| 32109 | 2018 | ONEOK NGL PIPELINE, LLC           | 4756.610 |\n",
       "| 31684 | 2005 | PHILLIPS 66 PIPELINE LLC          | 4691.000 |\n",
       "| 22610 | 2014 | MAGELLAN PIPELINE COMPANY, LP     | 4505.500 |\n",
       "| 2552  | 2015 | COLONIAL PIPELINE CO              | 4500.920 |\n",
       "\n"
      ],
      "text/plain": [
       "  OPERATOR_ID YEAR NAME                              TOTAL_MILES\n",
       "1 31618       2018 ENTERPRISE PRODUCTS OPERATING LLC 8311.369   \n",
       "2 32109       2018 ONEOK NGL PIPELINE, LLC           4756.610   \n",
       "3 31684       2005 PHILLIPS 66 PIPELINE LLC          4691.000   \n",
       "4 22610       2014 MAGELLAN PIPELINE COMPANY, LP     4505.500   \n",
       "5 2552        2015 COLONIAL PIPELINE CO              4500.920   "
      ]
     },
     "metadata": {},
     "output_type": "display_data"
    }
   ],
   "source": [
    "sample_observations <- read_feather(largest_observations_file)\n",
    "head(sample_observations, 5)"
   ]
  },
  {
   "cell_type": "code",
   "execution_count": 6,
   "metadata": {},
   "outputs": [
    {
     "data": {
      "text/html": [
       "<table>\n",
       "<caption>A tibble: 6 × 2</caption>\n",
       "<thead>\n",
       "\t<tr><th scope=col>members</th><th scope=col>name</th></tr>\n",
       "\t<tr><th scope=col>&lt;chr&gt;</th><th scope=col>&lt;chr&gt;</th></tr>\n",
       "</thead>\n",
       "<tbody>\n",
       "\t<tr><td>31618</td><td>Enterprise Products (Group)</td></tr>\n",
       "\t<tr><td>30829</td><td>Enterprise Products (Group)</td></tr>\n",
       "\t<tr><td>3445 </td><td>Enterprise Products (Group)</td></tr>\n",
       "\t<tr><td>1845 </td><td>Buckeye (Group)            </td></tr>\n",
       "\t<tr><td>31371</td><td>Buckeye (Group)            </td></tr>\n",
       "\t<tr><td>32147</td><td>Marathon (Group)           </td></tr>\n",
       "</tbody>\n",
       "</table>\n"
      ],
      "text/latex": [
       "A tibble: 6 × 2\n",
       "\\begin{tabular}{r|ll}\n",
       " members & name\\\\\n",
       " <chr> & <chr>\\\\\n",
       "\\hline\n",
       "\t 31618 & Enterprise Products (Group)\\\\\n",
       "\t 30829 & Enterprise Products (Group)\\\\\n",
       "\t 3445  & Enterprise Products (Group)\\\\\n",
       "\t 1845  & Buckeye (Group)            \\\\\n",
       "\t 31371 & Buckeye (Group)            \\\\\n",
       "\t 32147 & Marathon (Group)           \\\\\n",
       "\\end{tabular}\n"
      ],
      "text/markdown": [
       "\n",
       "A tibble: 6 × 2\n",
       "\n",
       "| members &lt;chr&gt; | name &lt;chr&gt; |\n",
       "|---|---|\n",
       "| 31618 | Enterprise Products (Group) |\n",
       "| 30829 | Enterprise Products (Group) |\n",
       "| 3445  | Enterprise Products (Group) |\n",
       "| 1845  | Buckeye (Group)             |\n",
       "| 31371 | Buckeye (Group)             |\n",
       "| 32147 | Marathon (Group)            |\n",
       "\n"
      ],
      "text/plain": [
       "  members name                       \n",
       "1 31618   Enterprise Products (Group)\n",
       "2 30829   Enterprise Products (Group)\n",
       "3 3445    Enterprise Products (Group)\n",
       "4 1845    Buckeye (Group)            \n",
       "5 31371   Buckeye (Group)            \n",
       "6 32147   Marathon (Group)           "
      ]
     },
     "metadata": {},
     "output_type": "display_data"
    }
   ],
   "source": [
    "company_groups <- read_feather(company_groups_file)\n",
    "head(company_groups)"
   ]
  },
  {
   "cell_type": "code",
   "execution_count": 7,
   "metadata": {},
   "outputs": [
    {
     "data": {
      "text/html": [
       "<table>\n",
       "<caption>A tibble: 6 × 4</caption>\n",
       "<thead>\n",
       "\t<tr><th scope=col>members</th><th scope=col>name</th><th scope=col>start_year</th><th scope=col>end_year</th></tr>\n",
       "\t<tr><th scope=col>&lt;chr&gt;</th><th scope=col>&lt;chr&gt;</th><th scope=col>&lt;chr&gt;</th><th scope=col>&lt;chr&gt;</th></tr>\n",
       "</thead>\n",
       "<tbody>\n",
       "\t<tr><td>Marathon (Group)       </td><td>Marathon (Group)     </td><td>2018</td><td>NA  </td></tr>\n",
       "\t<tr><td>Tesoro (Group)         </td><td>Marathon (Group)     </td><td>2018</td><td>NA  </td></tr>\n",
       "\t<tr><td>Sunoco (Group)         </td><td>Sunoco (Group)       </td><td>2017</td><td>NA  </td></tr>\n",
       "\t<tr><td>Energy Transfer (Group)</td><td>Sunoco (Group)       </td><td>2017</td><td>NA  </td></tr>\n",
       "\t<tr><td>Kinder Morgan (Group)  </td><td>Kinder Morgan (Group)</td><td>NA  </td><td>2013</td></tr>\n",
       "\t<tr><td>31720                  </td><td>Kinder Morgan (Group)</td><td>NA  </td><td>2013</td></tr>\n",
       "</tbody>\n",
       "</table>\n"
      ],
      "text/latex": [
       "A tibble: 6 × 4\n",
       "\\begin{tabular}{r|llll}\n",
       " members & name & start\\_year & end\\_year\\\\\n",
       " <chr> & <chr> & <chr> & <chr>\\\\\n",
       "\\hline\n",
       "\t Marathon (Group)        & Marathon (Group)      & 2018 & NA  \\\\\n",
       "\t Tesoro (Group)          & Marathon (Group)      & 2018 & NA  \\\\\n",
       "\t Sunoco (Group)          & Sunoco (Group)        & 2017 & NA  \\\\\n",
       "\t Energy Transfer (Group) & Sunoco (Group)        & 2017 & NA  \\\\\n",
       "\t Kinder Morgan (Group)   & Kinder Morgan (Group) & NA   & 2013\\\\\n",
       "\t 31720                   & Kinder Morgan (Group) & NA   & 2013\\\\\n",
       "\\end{tabular}\n"
      ],
      "text/markdown": [
       "\n",
       "A tibble: 6 × 4\n",
       "\n",
       "| members &lt;chr&gt; | name &lt;chr&gt; | start_year &lt;chr&gt; | end_year &lt;chr&gt; |\n",
       "|---|---|---|---|\n",
       "| Marathon (Group)        | Marathon (Group)      | 2018 | NA   |\n",
       "| Tesoro (Group)          | Marathon (Group)      | 2018 | NA   |\n",
       "| Sunoco (Group)          | Sunoco (Group)        | 2017 | NA   |\n",
       "| Energy Transfer (Group) | Sunoco (Group)        | 2017 | NA   |\n",
       "| Kinder Morgan (Group)   | Kinder Morgan (Group) | NA   | 2013 |\n",
       "| 31720                   | Kinder Morgan (Group) | NA   | 2013 |\n",
       "\n"
      ],
      "text/plain": [
       "  members                 name                  start_year end_year\n",
       "1 Marathon (Group)        Marathon (Group)      2018       NA      \n",
       "2 Tesoro (Group)          Marathon (Group)      2018       NA      \n",
       "3 Sunoco (Group)          Sunoco (Group)        2017       NA      \n",
       "4 Energy Transfer (Group) Sunoco (Group)        2017       NA      \n",
       "5 Kinder Morgan (Group)   Kinder Morgan (Group) NA         2013    \n",
       "6 31720                   Kinder Morgan (Group) NA         2013    "
      ]
     },
     "metadata": {},
     "output_type": "display_data"
    }
   ],
   "source": [
    "m_as <- read_feather(m_as_file)\n",
    "head(m_as)"
   ]
  },
  {
   "cell_type": "markdown",
   "metadata": {},
   "source": [
    "## Define functions"
   ]
  },
  {
   "cell_type": "code",
   "execution_count": 8,
   "metadata": {},
   "outputs": [],
   "source": [
    "get_latest_name <- function(dataset, id_col, name_col, time_col){\n",
    "    quo_id_col <- enquo(id_col)\n",
    "    quo_name_col <- enquo(name_col)\n",
    "    quo_time_col <- enquo(time_col)\n",
    "    \n",
    "    dataset <- dataset %>%\n",
    "        group_by(!! quo_id_col) %>%\n",
    "        arrange(desc(!! quo_time_col)) %>%\n",
    "        mutate(!! quo_name_col := first(!! quo_name_col))\n",
    "    \n",
    "    return(dataset)\n",
    "}"
   ]
  },
  {
   "cell_type": "code",
   "execution_count": 9,
   "metadata": {},
   "outputs": [],
   "source": [
    "merge_incidents <- function(dataset, incidents_dataset, id_col = \"OPERATOR_ID\", year_col = \"REPORT_YEAR\",\n",
    "                            date_col = \"LOCAL_DATETIME\", significant_col = \"SIGNIFICANT\", serious_col = \"SERIOUS\", \n",
    "                            significant_count = \"Significant incidents\", serious_count = \"Serious incidents\"){\n",
    "    significant_name <- quo_name(significant_count)\n",
    "    serious_name <- quo_name(serious_count)\n",
    "    \n",
    "    incidents_dataset[[significant_col]] <- incidents_dataset[[significant_col]] == \"YES\"\n",
    "    incidents_dataset[[serious_col]] <- incidents_dataset[[serious_col]] == \"YES\"\n",
    "    incidents_dataset[[year_col]] <- year(incidents_dataset[[date_col]])\n",
    "    \n",
    "    incidents_dataset <- incidents_dataset %>%\n",
    "        group_by(!! sym(id_col), !! sym(year_col)) %>%\n",
    "        summarize(!! significant_name := sum(get(significant_col)), \n",
    "                  !! serious_name := sum(get(serious_col)))\n",
    "    \n",
    "    dataset <- left_join(dataset, incidents_dataset, by=c(id_col, year_col)) %>%\n",
    "        mutate(!! significant_name := coalesce(get(significant_count), 0L), \n",
    "               !! serious_name := coalesce(get(serious_count), 0L))\n",
    "    \n",
    "    dataset\n",
    "}"
   ]
  },
  {
   "cell_type": "code",
   "execution_count": 10,
   "metadata": {},
   "outputs": [],
   "source": [
    "create_dataset <- function(pipelines_dataset, incidents_dataset, variables, variable_names, commodity_names,\n",
    "                           undesired_company_endings, \n",
    "                           groups = company_groups$members, m_a = m_as$members, sample = sample_observations, \n",
    "                           id_col = \"ID\", commodity_col = \"Commodity\", name_col = \"Name\"){\n",
    "    dataset <- select(pipelines_dataset, variables)\n",
    "    dataset <- merge_incidents(dataset, incidents_dataset)\n",
    "    dataset <- rename(dataset, !!! variable_names)\n",
    "    \n",
    "    dataset <- get_latest_name(dataset, ID, Name, Year)\n",
    "    \n",
    "    dataset[[commodity_col]] = recode(dataset[[commodity_col]], !!! commodity_names)\n",
    "    \n",
    "    dataset$in_group <- dataset[[id_col]] %in% groups\n",
    "    dataset$in_m_a <- dataset[[id_col]] %in% m_a\n",
    "    dataset$Group <- dataset$in_group | dataset$in_m_a\n",
    "    \n",
    "    dataset[[name_col]] = str_remove_all(dataset[[name_col]], undesired_company_endings)\n",
    "    dataset[[name_col]] = str_to_title(dataset[[name_col]])\n",
    "    \n",
    "    dataset$Sample <- dataset[[id_col]] %in% sample$OPERATOR_ID\n",
    "    dataset$Largest <- dataset[[id_col]] %in% sample$OPERATOR_ID[1:5]\n",
    "    \n",
    "    return(dataset)\n",
    "}"
   ]
  },
  {
   "cell_type": "markdown",
   "metadata": {},
   "source": [
    "## Run"
   ]
  },
  {
   "cell_type": "code",
   "execution_count": 11,
   "metadata": {},
   "outputs": [],
   "source": [
    "variables <- c(\"REPORT_YEAR\", \"OPERATOR_ID\", \"PARTA2NAMEOFCOMP\", \"PARTBHCATOTAL\", \"PARTEPRE40TOTAL\", \"PARTE1940TOTAL\", \n",
    "               \"PARTE1950TOTAL\", \"PARTE1960TOTAL\", \"PARTE1970TOTAL\", \"PARTE1980TOTAL\", \"PARTE1990TOTAL\", \n",
    "               \"PARTE2000TOTAL\", \"PARTE2010TOTAL\", \"PARTA5COMMODITY\")\n",
    "\n",
    "variable_names <- c(\"Year\" = \"REPORT_YEAR\", \n",
    "                    \"ID\" = \"OPERATOR_ID\", \n",
    "                    \"Name\" = \"PARTA2NAMEOFCOMP\", \n",
    "                    \"HCA Miles\" = \"PARTBHCATOTAL\", \n",
    "                    \"Pre 1940 Miles\" = \"PARTEPRE40TOTAL\", \n",
    "                    \"1940 Miles\" = \"PARTE1940TOTAL\", \n",
    "                    \"1950 Miles\" = \"PARTE1950TOTAL\", \n",
    "                    \"1960 Miles\" = \"PARTE1960TOTAL\",\n",
    "                    \"1970 Miles\" = \"PARTE1970TOTAL\",\n",
    "                    \"1980 Miles\" = \"PARTE1980TOTAL\",\n",
    "                    \"1990 Miles\" = \"PARTE1990TOTAL\",\n",
    "                    \"2000 Miles\" = \"PARTE2000TOTAL\",\n",
    "                    \"2010 Miles\" = \"PARTE2010TOTAL\", \n",
    "                    \"Commodity\" = \"PARTA5COMMODITY\")\n",
    "\n",
    "commodity_names <- c(\"Fuel Grade Ethanol (dedicated system)\" = \"Biofuel\", \n",
    "                     \"CO2\" = \"CO2\",\n",
    "                     \"Crude Oil\" = \"Crude\", \n",
    "                     \"HVL\" = \"Propane, Butane, etc.\", \n",
    "                     \"Refined and/or Petroleum Product (non-HVL)\" = \"Gasoline, Diesel, etc.\")\n",
    "\n",
    "undesired_company_endings <- c(\" L. P.| L.L.C.|, LLC|, L.P.| L.P.|, LP|LP|LLC|, LIMITED PARTNERSHIP|, A DIVISION OF EXXON MOBIL CORPORATION\")"
   ]
  },
  {
   "cell_type": "code",
   "execution_count": 12,
   "metadata": {},
   "outputs": [
    {
     "ename": "ERROR",
     "evalue": "Error in str_remove_all(dataset[[name_col]], undesired_company_endings): argument \"undesired_company_endings\" is missing, with no default\n",
     "output_type": "error",
     "traceback": [
      "Error in str_remove_all(dataset[[name_col]], undesired_company_endings): argument \"undesired_company_endings\" is missing, with no default\nTraceback:\n",
      "1. create_dataset(pipelines, incidents, variables, variable_names, \n .     commodity_names, undesired_company_endings)",
      "2. str_remove_all(dataset[[name_col]], undesired_company_endings)   # at line 16 of file <text>",
      "3. str_replace_all(string, pattern, \"\")"
     ]
    }
   ],
   "source": [
    "dataset <- create_dataset(pipelines, incidents, variables, variable_names, commodity_names, undesired_company_endings)\n",
    "head(dataset)"
   ]
  },
  {
   "cell_type": "code",
   "execution_count": null,
   "metadata": {},
   "outputs": [],
   "source": [
    "write_feather(dataset, paste0(\"../pipelines_dashboard/data/dataset_\", Sys.Date(), \".feather\"))"
   ]
  }
 ],
 "metadata": {
  "kernelspec": {
   "display_name": "R 3.6.1",
   "language": "R",
   "name": "ir361"
  },
  "language_info": {
   "codemirror_mode": "r",
   "file_extension": ".r",
   "mimetype": "text/x-r-source",
   "name": "R",
   "pygments_lexer": "r",
   "version": "3.6.1"
  }
 },
 "nbformat": 4,
 "nbformat_minor": 4
}
