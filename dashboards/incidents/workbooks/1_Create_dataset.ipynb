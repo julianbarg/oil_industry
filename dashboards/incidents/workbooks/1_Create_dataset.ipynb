{
 "cells": [
  {
   "cell_type": "markdown",
   "metadata": {},
   "source": [
    "# Create Dataset"
   ]
  },
  {
   "cell_type": "markdown",
   "metadata": {},
   "source": [
    "## Setup"
   ]
  },
  {
   "cell_type": "code",
   "execution_count": 1,
   "metadata": {},
   "outputs": [
    {
     "name": "stderr",
     "output_type": "stream",
     "text": [
      "Registered S3 methods overwritten by 'ggplot2':\n",
      "  method         from \n",
      "  [.quosures     rlang\n",
      "  c.quosures     rlang\n",
      "  print.quosures rlang\n",
      "Registered S3 method overwritten by 'rvest':\n",
      "  method            from\n",
      "  read_xml.response xml2\n",
      "── \u001b[1mAttaching packages\u001b[22m ─────────────────────────────────────── tidyverse 1.2.1 ──\n",
      "\u001b[32m✔\u001b[39m \u001b[34mggplot2\u001b[39m 3.1.1       \u001b[32m✔\u001b[39m \u001b[34mpurrr  \u001b[39m 0.3.2  \n",
      "\u001b[32m✔\u001b[39m \u001b[34mtibble \u001b[39m 2.1.1       \u001b[32m✔\u001b[39m \u001b[34mdplyr  \u001b[39m 0.8.0.\u001b[31m1\u001b[39m\n",
      "\u001b[32m✔\u001b[39m \u001b[34mtidyr  \u001b[39m 0.8.3       \u001b[32m✔\u001b[39m \u001b[34mstringr\u001b[39m 1.4.0  \n",
      "\u001b[32m✔\u001b[39m \u001b[34mreadr  \u001b[39m 1.3.1       \u001b[32m✔\u001b[39m \u001b[34mforcats\u001b[39m 0.4.0  \n",
      "── \u001b[1mConflicts\u001b[22m ────────────────────────────────────────── tidyverse_conflicts() ──\n",
      "\u001b[31m✖\u001b[39m \u001b[34mdplyr\u001b[39m::\u001b[32mfilter()\u001b[39m masks \u001b[34mstats\u001b[39m::filter()\n",
      "\u001b[31m✖\u001b[39m \u001b[34mdplyr\u001b[39m::\u001b[32mlag()\u001b[39m    masks \u001b[34mstats\u001b[39m::lag()\n"
     ]
    }
   ],
   "source": [
    "library(tidyverse)\n",
    "library(feather)\n",
    "year <- lubridate::year"
   ]
  },
  {
   "cell_type": "code",
   "execution_count": 2,
   "metadata": {},
   "outputs": [],
   "source": [
    "raw_data_file <- \"../../../data/incidents_2019-08-11.feather\"\n",
    "largest_observations_file = \"../../../preprocessed_data/largest_companies_2019-09-08.feather\"\n",
    "company_groups_file <- \"../../../preprocessed_data/company_groups_2019-08-18.feather\"\n",
    "company_groups_file <- \"../../../preprocessed_data/company_groups_2019-08-18.feather\"\n",
    "m_as_file <- \"../../../preprocessed_data/m_as_2019-08-18.feather\""
   ]
  },
  {
   "cell_type": "markdown",
   "metadata": {},
   "source": [
    "## Read Data"
   ]
  },
  {
   "cell_type": "code",
   "execution_count": 3,
   "metadata": {},
   "outputs": [
    {
     "data": {
      "text/html": [
       "<table>\n",
       "<caption>A tibble: 6 × 4</caption>\n",
       "<thead>\n",
       "\t<tr><th scope=col>OPERATOR_ID</th><th scope=col>YEAR</th><th scope=col>NAME</th><th scope=col>TOTAL_MILES</th></tr>\n",
       "\t<tr><th scope=col>&lt;chr&gt;</th><th scope=col>&lt;dbl&gt;</th><th scope=col>&lt;chr&gt;</th><th scope=col>&lt;dbl&gt;</th></tr>\n",
       "</thead>\n",
       "<tbody>\n",
       "\t<tr><td>31618</td><td>2018</td><td>ENTERPRISE PRODUCTS OPERATING LLC</td><td>8311.369</td></tr>\n",
       "\t<tr><td>32109</td><td>2018</td><td>ONEOK NGL PIPELINE, LLC          </td><td>4756.610</td></tr>\n",
       "\t<tr><td>31684</td><td>2005</td><td>PHILLIPS 66 PIPELINE LLC         </td><td>4691.000</td></tr>\n",
       "\t<tr><td>22610</td><td>2014</td><td>MAGELLAN PIPELINE COMPANY, LP    </td><td>4505.500</td></tr>\n",
       "\t<tr><td>2552 </td><td>2015</td><td>COLONIAL PIPELINE CO             </td><td>4500.920</td></tr>\n",
       "\t<tr><td>1845 </td><td>2015</td><td>BUCKEYE PARTNERS, LP             </td><td>4298.290</td></tr>\n",
       "</tbody>\n",
       "</table>\n"
      ],
      "text/latex": [
       "A tibble: 6 × 4\n",
       "\\begin{tabular}{r|llll}\n",
       " OPERATOR\\_ID & YEAR & NAME & TOTAL\\_MILES\\\\\n",
       " <chr> & <dbl> & <chr> & <dbl>\\\\\n",
       "\\hline\n",
       "\t 31618 & 2018 & ENTERPRISE PRODUCTS OPERATING LLC & 8311.369\\\\\n",
       "\t 32109 & 2018 & ONEOK NGL PIPELINE, LLC           & 4756.610\\\\\n",
       "\t 31684 & 2005 & PHILLIPS 66 PIPELINE LLC          & 4691.000\\\\\n",
       "\t 22610 & 2014 & MAGELLAN PIPELINE COMPANY, LP     & 4505.500\\\\\n",
       "\t 2552  & 2015 & COLONIAL PIPELINE CO              & 4500.920\\\\\n",
       "\t 1845  & 2015 & BUCKEYE PARTNERS, LP              & 4298.290\\\\\n",
       "\\end{tabular}\n"
      ],
      "text/markdown": [
       "\n",
       "A tibble: 6 × 4\n",
       "\n",
       "| OPERATOR_ID &lt;chr&gt; | YEAR &lt;dbl&gt; | NAME &lt;chr&gt; | TOTAL_MILES &lt;dbl&gt; |\n",
       "|---|---|---|---|\n",
       "| 31618 | 2018 | ENTERPRISE PRODUCTS OPERATING LLC | 8311.369 |\n",
       "| 32109 | 2018 | ONEOK NGL PIPELINE, LLC           | 4756.610 |\n",
       "| 31684 | 2005 | PHILLIPS 66 PIPELINE LLC          | 4691.000 |\n",
       "| 22610 | 2014 | MAGELLAN PIPELINE COMPANY, LP     | 4505.500 |\n",
       "| 2552  | 2015 | COLONIAL PIPELINE CO              | 4500.920 |\n",
       "| 1845  | 2015 | BUCKEYE PARTNERS, LP              | 4298.290 |\n",
       "\n"
      ],
      "text/plain": [
       "  OPERATOR_ID YEAR NAME                              TOTAL_MILES\n",
       "1 31618       2018 ENTERPRISE PRODUCTS OPERATING LLC 8311.369   \n",
       "2 32109       2018 ONEOK NGL PIPELINE, LLC           4756.610   \n",
       "3 31684       2005 PHILLIPS 66 PIPELINE LLC          4691.000   \n",
       "4 22610       2014 MAGELLAN PIPELINE COMPANY, LP     4505.500   \n",
       "5 2552        2015 COLONIAL PIPELINE CO              4500.920   \n",
       "6 1845        2015 BUCKEYE PARTNERS, LP              4298.290   "
      ]
     },
     "metadata": {},
     "output_type": "display_data"
    }
   ],
   "source": [
    "largest_observations <- read_feather(largest_observations_file)\n",
    "head(largest_observations)"
   ]
  },
  {
   "cell_type": "code",
   "execution_count": 4,
   "metadata": {},
   "outputs": [
    {
     "name": "stderr",
     "output_type": "stream",
     "text": [
      "Warning message:\n",
      "“Coercing int64 to double”Warning message:\n",
      "“Coercing int64 to double”Warning message:\n",
      "“Coercing int64 to double”Warning message:\n",
      "“Coercing int64 to double”Warning message:\n",
      "“Coercing int64 to double”"
     ]
    },
    {
     "data": {
      "text/html": [
       "<table>\n",
       "<caption>A tibble: 6 × 20</caption>\n",
       "<thead>\n",
       "\t<tr><th scope=col>DATAFILE_AS_OF</th><th scope=col>SIGNIFICANT</th><th scope=col>SERIOUS</th><th scope=col>IPE</th><th scope=col>IA_IPE</th><th scope=col>OM_IPE</th><th scope=col>REPORT_NUMBER</th><th scope=col>SUPPLEMENTAL_NUMBER</th><th scope=col>REPORT_RECEIVED_DATE</th><th scope=col>REPORT_TYPE</th><th scope=col>OPERATOR_ID</th><th scope=col>NAME</th><th scope=col>OPERATOR_STREET_ADDRESS</th><th scope=col>OPERATOR_CITY_NAME</th><th scope=col>OPERATOR_STATE_ABBREVIATION</th><th scope=col>OPERATOR_POSTAL_CODE</th><th scope=col>LOCAL_DATETIME</th><th scope=col>IYEAR</th><th scope=col>LOCATION_LATITUDE</th><th scope=col>LOCATION_LONGITUDE</th></tr>\n",
       "\t<tr><th scope=col>&lt;dttm&gt;</th><th scope=col>&lt;chr&gt;</th><th scope=col>&lt;chr&gt;</th><th scope=col>&lt;chr&gt;</th><th scope=col>&lt;chr&gt;</th><th scope=col>&lt;chr&gt;</th><th scope=col>&lt;dbl&gt;</th><th scope=col>&lt;dbl&gt;</th><th scope=col>&lt;dttm&gt;</th><th scope=col>&lt;chr&gt;</th><th scope=col>&lt;dbl&gt;</th><th scope=col>&lt;chr&gt;</th><th scope=col>&lt;chr&gt;</th><th scope=col>&lt;chr&gt;</th><th scope=col>&lt;chr&gt;</th><th scope=col>&lt;chr&gt;</th><th scope=col>&lt;dttm&gt;</th><th scope=col>&lt;dbl&gt;</th><th scope=col>&lt;dbl&gt;</th><th scope=col>&lt;dbl&gt;</th></tr>\n",
       "</thead>\n",
       "<tbody>\n",
       "\t<tr><td>2019-07-31 04:37:40</td><td>NO </td><td>NO</td><td>NO</td><td>NO</td><td>NO</td><td>20100001</td><td>15751</td><td>2010-03-10 08:05:46</td><td>SUPPLEMENTAL FINAL</td><td>22610</td><td>MAGELLAN PIPELINE COMPANY, LP</td><td>MAGELLAN MIDSTREAM PARTNERS, L.P.    </td><td>TULSA        </td><td>OK</td><td>74172     </td><td>2010-02-16 02:42:00</td><td>2010</td><td>41.94352</td><td> -88.23353</td></tr>\n",
       "\t<tr><td>2019-07-31 04:37:40</td><td>NO </td><td>NO</td><td>NO</td><td>NO</td><td>NO</td><td>20100002</td><td>19837</td><td>2010-03-16 13:43:54</td><td>SUPPLEMENTAL FINAL</td><td>31672</td><td>CHAPARRAL ENERGY, LLC        </td><td>701 CEDAR LAKE BLVD                  </td><td>OKLAHOMA CITY</td><td>OK</td><td>73114     </td><td>2010-03-01 06:50:00</td><td>2010</td><td>37.10847</td><td>-100.80037</td></tr>\n",
       "\t<tr><td>2019-07-31 04:37:40</td><td>YES</td><td>NO</td><td>NO</td><td>NO</td><td>NO</td><td>20100003</td><td>18021</td><td>2010-03-17 06:38:15</td><td>SUPPLEMENTAL FINAL</td><td>32035</td><td>LDH ENERGY PIPELINE L.P.     </td><td>13430 NORTHWEST FREEWAY   SUITE 1200 </td><td>HOUSTON      </td><td>TX</td><td>77040-6019</td><td>2010-02-22 05:38:00</td><td>2010</td><td>32.22471</td><td>-101.40440</td></tr>\n",
       "\t<tr><td>2019-07-31 04:37:40</td><td>NO </td><td>NO</td><td>NO</td><td>NO</td><td>NO</td><td>20100004</td><td>19086</td><td>2010-03-18 09:18:48</td><td>SUPPLEMENTAL FINAL</td><td> 1845</td><td>BUCKEYE PARTNERS, LP         </td><td>FIVE TEK PARK                        </td><td>BREINIGSVILLE</td><td>PA</td><td>18031     </td><td>2010-02-19 01:50:00</td><td>2010</td><td>40.60860</td><td> -74.23990</td></tr>\n",
       "\t<tr><td>2019-07-31 04:37:40</td><td>NO </td><td>NO</td><td>NO</td><td>NO</td><td>NO</td><td>20100005</td><td>17663</td><td>2010-03-18 10:26:48</td><td>SUPPLEMENTAL FINAL</td><td>  300</td><td>PLAINS PIPELINE, L.P.        </td><td>333 CLAY STREET                      </td><td>HOUSTON      </td><td>TX</td><td>772104648 </td><td>2010-02-21 07:45:00</td><td>2010</td><td>31.13284</td><td>-101.18974</td></tr>\n",
       "\t<tr><td>2019-07-31 04:37:40</td><td>NO </td><td>NO</td><td>NO</td><td>NO</td><td>NO</td><td>20100006</td><td>17891</td><td>2010-03-19 10:48:18</td><td>SUPPLEMENTAL FINAL</td><td>31684</td><td>CONOCOPHILLIPS               </td><td>600 NORTH DAIRY ASHFORD              </td><td>HOUSTON      </td><td>TX</td><td>77079     </td><td>2010-02-22 05:56:00</td><td>2010</td><td>47.71696</td><td>-117.35583</td></tr>\n",
       "</tbody>\n",
       "</table>\n"
      ],
      "text/latex": [
       "A tibble: 6 × 20\n",
       "\\begin{tabular}{r|llllllllllllllllllll}\n",
       " DATAFILE\\_AS\\_OF & SIGNIFICANT & SERIOUS & IPE & IA\\_IPE & OM\\_IPE & REPORT\\_NUMBER & SUPPLEMENTAL\\_NUMBER & REPORT\\_RECEIVED\\_DATE & REPORT\\_TYPE & OPERATOR\\_ID & NAME & OPERATOR\\_STREET\\_ADDRESS & OPERATOR\\_CITY\\_NAME & OPERATOR\\_STATE\\_ABBREVIATION & OPERATOR\\_POSTAL\\_CODE & LOCAL\\_DATETIME & IYEAR & LOCATION\\_LATITUDE & LOCATION\\_LONGITUDE\\\\\n",
       " <dttm> & <chr> & <chr> & <chr> & <chr> & <chr> & <dbl> & <dbl> & <dttm> & <chr> & <dbl> & <chr> & <chr> & <chr> & <chr> & <chr> & <dttm> & <dbl> & <dbl> & <dbl>\\\\\n",
       "\\hline\n",
       "\t 2019-07-31 04:37:40 & NO  & NO & NO & NO & NO & 20100001 & 15751 & 2010-03-10 08:05:46 & SUPPLEMENTAL FINAL & 22610 & MAGELLAN PIPELINE COMPANY, LP & MAGELLAN MIDSTREAM PARTNERS, L.P.     & TULSA         & OK & 74172      & 2010-02-16 02:42:00 & 2010 & 41.94352 &  -88.23353\\\\\n",
       "\t 2019-07-31 04:37:40 & NO  & NO & NO & NO & NO & 20100002 & 19837 & 2010-03-16 13:43:54 & SUPPLEMENTAL FINAL & 31672 & CHAPARRAL ENERGY, LLC         & 701 CEDAR LAKE BLVD                   & OKLAHOMA CITY & OK & 73114      & 2010-03-01 06:50:00 & 2010 & 37.10847 & -100.80037\\\\\n",
       "\t 2019-07-31 04:37:40 & YES & NO & NO & NO & NO & 20100003 & 18021 & 2010-03-17 06:38:15 & SUPPLEMENTAL FINAL & 32035 & LDH ENERGY PIPELINE L.P.      & 13430 NORTHWEST FREEWAY   SUITE 1200  & HOUSTON       & TX & 77040-6019 & 2010-02-22 05:38:00 & 2010 & 32.22471 & -101.40440\\\\\n",
       "\t 2019-07-31 04:37:40 & NO  & NO & NO & NO & NO & 20100004 & 19086 & 2010-03-18 09:18:48 & SUPPLEMENTAL FINAL &  1845 & BUCKEYE PARTNERS, LP          & FIVE TEK PARK                         & BREINIGSVILLE & PA & 18031      & 2010-02-19 01:50:00 & 2010 & 40.60860 &  -74.23990\\\\\n",
       "\t 2019-07-31 04:37:40 & NO  & NO & NO & NO & NO & 20100005 & 17663 & 2010-03-18 10:26:48 & SUPPLEMENTAL FINAL &   300 & PLAINS PIPELINE, L.P.         & 333 CLAY STREET                       & HOUSTON       & TX & 772104648  & 2010-02-21 07:45:00 & 2010 & 31.13284 & -101.18974\\\\\n",
       "\t 2019-07-31 04:37:40 & NO  & NO & NO & NO & NO & 20100006 & 17891 & 2010-03-19 10:48:18 & SUPPLEMENTAL FINAL & 31684 & CONOCOPHILLIPS                & 600 NORTH DAIRY ASHFORD               & HOUSTON       & TX & 77079      & 2010-02-22 05:56:00 & 2010 & 47.71696 & -117.35583\\\\\n",
       "\\end{tabular}\n"
      ],
      "text/markdown": [
       "\n",
       "A tibble: 6 × 20\n",
       "\n",
       "| DATAFILE_AS_OF &lt;dttm&gt; | SIGNIFICANT &lt;chr&gt; | SERIOUS &lt;chr&gt; | IPE &lt;chr&gt; | IA_IPE &lt;chr&gt; | OM_IPE &lt;chr&gt; | REPORT_NUMBER &lt;dbl&gt; | SUPPLEMENTAL_NUMBER &lt;dbl&gt; | REPORT_RECEIVED_DATE &lt;dttm&gt; | REPORT_TYPE &lt;chr&gt; | OPERATOR_ID &lt;dbl&gt; | NAME &lt;chr&gt; | OPERATOR_STREET_ADDRESS &lt;chr&gt; | OPERATOR_CITY_NAME &lt;chr&gt; | OPERATOR_STATE_ABBREVIATION &lt;chr&gt; | OPERATOR_POSTAL_CODE &lt;chr&gt; | LOCAL_DATETIME &lt;dttm&gt; | IYEAR &lt;dbl&gt; | LOCATION_LATITUDE &lt;dbl&gt; | LOCATION_LONGITUDE &lt;dbl&gt; |\n",
       "|---|---|---|---|---|---|---|---|---|---|---|---|---|---|---|---|---|---|---|---|\n",
       "| 2019-07-31 04:37:40 | NO  | NO | NO | NO | NO | 20100001 | 15751 | 2010-03-10 08:05:46 | SUPPLEMENTAL FINAL | 22610 | MAGELLAN PIPELINE COMPANY, LP | MAGELLAN MIDSTREAM PARTNERS, L.P.     | TULSA         | OK | 74172      | 2010-02-16 02:42:00 | 2010 | 41.94352 |  -88.23353 |\n",
       "| 2019-07-31 04:37:40 | NO  | NO | NO | NO | NO | 20100002 | 19837 | 2010-03-16 13:43:54 | SUPPLEMENTAL FINAL | 31672 | CHAPARRAL ENERGY, LLC         | 701 CEDAR LAKE BLVD                   | OKLAHOMA CITY | OK | 73114      | 2010-03-01 06:50:00 | 2010 | 37.10847 | -100.80037 |\n",
       "| 2019-07-31 04:37:40 | YES | NO | NO | NO | NO | 20100003 | 18021 | 2010-03-17 06:38:15 | SUPPLEMENTAL FINAL | 32035 | LDH ENERGY PIPELINE L.P.      | 13430 NORTHWEST FREEWAY   SUITE 1200  | HOUSTON       | TX | 77040-6019 | 2010-02-22 05:38:00 | 2010 | 32.22471 | -101.40440 |\n",
       "| 2019-07-31 04:37:40 | NO  | NO | NO | NO | NO | 20100004 | 19086 | 2010-03-18 09:18:48 | SUPPLEMENTAL FINAL |  1845 | BUCKEYE PARTNERS, LP          | FIVE TEK PARK                         | BREINIGSVILLE | PA | 18031      | 2010-02-19 01:50:00 | 2010 | 40.60860 |  -74.23990 |\n",
       "| 2019-07-31 04:37:40 | NO  | NO | NO | NO | NO | 20100005 | 17663 | 2010-03-18 10:26:48 | SUPPLEMENTAL FINAL |   300 | PLAINS PIPELINE, L.P.         | 333 CLAY STREET                       | HOUSTON       | TX | 772104648  | 2010-02-21 07:45:00 | 2010 | 31.13284 | -101.18974 |\n",
       "| 2019-07-31 04:37:40 | NO  | NO | NO | NO | NO | 20100006 | 17891 | 2010-03-19 10:48:18 | SUPPLEMENTAL FINAL | 31684 | CONOCOPHILLIPS                | 600 NORTH DAIRY ASHFORD               | HOUSTON       | TX | 77079      | 2010-02-22 05:56:00 | 2010 | 47.71696 | -117.35583 |\n",
       "\n"
      ],
      "text/plain": [
       "  DATAFILE_AS_OF      SIGNIFICANT SERIOUS IPE IA_IPE OM_IPE REPORT_NUMBER\n",
       "1 2019-07-31 04:37:40 NO          NO      NO  NO     NO     20100001     \n",
       "2 2019-07-31 04:37:40 NO          NO      NO  NO     NO     20100002     \n",
       "3 2019-07-31 04:37:40 YES         NO      NO  NO     NO     20100003     \n",
       "4 2019-07-31 04:37:40 NO          NO      NO  NO     NO     20100004     \n",
       "5 2019-07-31 04:37:40 NO          NO      NO  NO     NO     20100005     \n",
       "6 2019-07-31 04:37:40 NO          NO      NO  NO     NO     20100006     \n",
       "  SUPPLEMENTAL_NUMBER REPORT_RECEIVED_DATE REPORT_TYPE        OPERATOR_ID\n",
       "1 15751               2010-03-10 08:05:46  SUPPLEMENTAL FINAL 22610      \n",
       "2 19837               2010-03-16 13:43:54  SUPPLEMENTAL FINAL 31672      \n",
       "3 18021               2010-03-17 06:38:15  SUPPLEMENTAL FINAL 32035      \n",
       "4 19086               2010-03-18 09:18:48  SUPPLEMENTAL FINAL  1845      \n",
       "5 17663               2010-03-18 10:26:48  SUPPLEMENTAL FINAL   300      \n",
       "6 17891               2010-03-19 10:48:18  SUPPLEMENTAL FINAL 31684      \n",
       "  NAME                          OPERATOR_STREET_ADDRESS              \n",
       "1 MAGELLAN PIPELINE COMPANY, LP MAGELLAN MIDSTREAM PARTNERS, L.P.    \n",
       "2 CHAPARRAL ENERGY, LLC         701 CEDAR LAKE BLVD                  \n",
       "3 LDH ENERGY PIPELINE L.P.      13430 NORTHWEST FREEWAY   SUITE 1200 \n",
       "4 BUCKEYE PARTNERS, LP          FIVE TEK PARK                        \n",
       "5 PLAINS PIPELINE, L.P.         333 CLAY STREET                      \n",
       "6 CONOCOPHILLIPS                600 NORTH DAIRY ASHFORD              \n",
       "  OPERATOR_CITY_NAME OPERATOR_STATE_ABBREVIATION OPERATOR_POSTAL_CODE\n",
       "1 TULSA              OK                          74172               \n",
       "2 OKLAHOMA CITY      OK                          73114               \n",
       "3 HOUSTON            TX                          77040-6019          \n",
       "4 BREINIGSVILLE      PA                          18031               \n",
       "5 HOUSTON            TX                          772104648           \n",
       "6 HOUSTON            TX                          77079               \n",
       "  LOCAL_DATETIME      IYEAR LOCATION_LATITUDE LOCATION_LONGITUDE\n",
       "1 2010-02-16 02:42:00 2010  41.94352           -88.23353        \n",
       "2 2010-03-01 06:50:00 2010  37.10847          -100.80037        \n",
       "3 2010-02-22 05:38:00 2010  32.22471          -101.40440        \n",
       "4 2010-02-19 01:50:00 2010  40.60860           -74.23990        \n",
       "5 2010-02-21 07:45:00 2010  31.13284          -101.18974        \n",
       "6 2010-02-22 05:56:00 2010  47.71696          -117.35583        "
      ]
     },
     "metadata": {},
     "output_type": "display_data"
    }
   ],
   "source": [
    "raw_data <- read_feather(raw_data_file)\n",
    "head(raw_data[, 1:20])"
   ]
  },
  {
   "cell_type": "code",
   "execution_count": 5,
   "metadata": {},
   "outputs": [
    {
     "name": "stdout",
     "output_type": "stream",
     "text": [
      "Observations: 29\n",
      "Variables: 2\n",
      "$ members \u001b[3m\u001b[38;5;246m<chr>\u001b[39m\u001b[23m \"31618\", \"30829\", \"3445\", \"1845\", \"31371\", \"32147\", \"22830\", …\n",
      "$ name    \u001b[3m\u001b[38;5;246m<chr>\u001b[39m\u001b[23m \"Enterprise Products (Group)\", \"Enterprise Products (Group)\",…\n"
     ]
    }
   ],
   "source": [
    "company_groups <- read_feather(company_groups_file)\n",
    "glimpse(company_groups)"
   ]
  },
  {
   "cell_type": "code",
   "execution_count": 6,
   "metadata": {},
   "outputs": [
    {
     "data": {
      "text/html": [
       "<table>\n",
       "<caption>A tibble: 6 × 2</caption>\n",
       "<thead>\n",
       "\t<tr><th scope=col>members</th><th scope=col>name</th></tr>\n",
       "\t<tr><th scope=col>&lt;chr&gt;</th><th scope=col>&lt;chr&gt;</th></tr>\n",
       "</thead>\n",
       "<tbody>\n",
       "\t<tr><td>31618</td><td>Enterprise Products (Group)</td></tr>\n",
       "\t<tr><td>30829</td><td>Enterprise Products (Group)</td></tr>\n",
       "\t<tr><td>3445 </td><td>Enterprise Products (Group)</td></tr>\n",
       "\t<tr><td>1845 </td><td>Buckeye (Group)            </td></tr>\n",
       "\t<tr><td>31371</td><td>Buckeye (Group)            </td></tr>\n",
       "\t<tr><td>32147</td><td>Marathon (Group)           </td></tr>\n",
       "</tbody>\n",
       "</table>\n"
      ],
      "text/latex": [
       "A tibble: 6 × 2\n",
       "\\begin{tabular}{r|ll}\n",
       " members & name\\\\\n",
       " <chr> & <chr>\\\\\n",
       "\\hline\n",
       "\t 31618 & Enterprise Products (Group)\\\\\n",
       "\t 30829 & Enterprise Products (Group)\\\\\n",
       "\t 3445  & Enterprise Products (Group)\\\\\n",
       "\t 1845  & Buckeye (Group)            \\\\\n",
       "\t 31371 & Buckeye (Group)            \\\\\n",
       "\t 32147 & Marathon (Group)           \\\\\n",
       "\\end{tabular}\n"
      ],
      "text/markdown": [
       "\n",
       "A tibble: 6 × 2\n",
       "\n",
       "| members &lt;chr&gt; | name &lt;chr&gt; |\n",
       "|---|---|\n",
       "| 31618 | Enterprise Products (Group) |\n",
       "| 30829 | Enterprise Products (Group) |\n",
       "| 3445  | Enterprise Products (Group) |\n",
       "| 1845  | Buckeye (Group)             |\n",
       "| 31371 | Buckeye (Group)             |\n",
       "| 32147 | Marathon (Group)            |\n",
       "\n"
      ],
      "text/plain": [
       "  members name                       \n",
       "1 31618   Enterprise Products (Group)\n",
       "2 30829   Enterprise Products (Group)\n",
       "3 3445    Enterprise Products (Group)\n",
       "4 1845    Buckeye (Group)            \n",
       "5 31371   Buckeye (Group)            \n",
       "6 32147   Marathon (Group)           "
      ]
     },
     "metadata": {},
     "output_type": "display_data"
    },
    {
     "data": {
      "text/html": [
       "<table>\n",
       "<caption>A tibble: 6 × 4</caption>\n",
       "<thead>\n",
       "\t<tr><th scope=col>members</th><th scope=col>name</th><th scope=col>start_year</th><th scope=col>end_year</th></tr>\n",
       "\t<tr><th scope=col>&lt;chr&gt;</th><th scope=col>&lt;chr&gt;</th><th scope=col>&lt;chr&gt;</th><th scope=col>&lt;chr&gt;</th></tr>\n",
       "</thead>\n",
       "<tbody>\n",
       "\t<tr><td>Marathon (Group)       </td><td>Marathon (Group)     </td><td>2018</td><td>NA  </td></tr>\n",
       "\t<tr><td>Tesoro (Group)         </td><td>Marathon (Group)     </td><td>2018</td><td>NA  </td></tr>\n",
       "\t<tr><td>Sunoco (Group)         </td><td>Sunoco (Group)       </td><td>2017</td><td>NA  </td></tr>\n",
       "\t<tr><td>Energy Transfer (Group)</td><td>Sunoco (Group)       </td><td>2017</td><td>NA  </td></tr>\n",
       "\t<tr><td>Kinder Morgan (Group)  </td><td>Kinder Morgan (Group)</td><td>NA  </td><td>2013</td></tr>\n",
       "\t<tr><td>31720                  </td><td>Kinder Morgan (Group)</td><td>NA  </td><td>2013</td></tr>\n",
       "</tbody>\n",
       "</table>\n"
      ],
      "text/latex": [
       "A tibble: 6 × 4\n",
       "\\begin{tabular}{r|llll}\n",
       " members & name & start\\_year & end\\_year\\\\\n",
       " <chr> & <chr> & <chr> & <chr>\\\\\n",
       "\\hline\n",
       "\t Marathon (Group)        & Marathon (Group)      & 2018 & NA  \\\\\n",
       "\t Tesoro (Group)          & Marathon (Group)      & 2018 & NA  \\\\\n",
       "\t Sunoco (Group)          & Sunoco (Group)        & 2017 & NA  \\\\\n",
       "\t Energy Transfer (Group) & Sunoco (Group)        & 2017 & NA  \\\\\n",
       "\t Kinder Morgan (Group)   & Kinder Morgan (Group) & NA   & 2013\\\\\n",
       "\t 31720                   & Kinder Morgan (Group) & NA   & 2013\\\\\n",
       "\\end{tabular}\n"
      ],
      "text/markdown": [
       "\n",
       "A tibble: 6 × 4\n",
       "\n",
       "| members &lt;chr&gt; | name &lt;chr&gt; | start_year &lt;chr&gt; | end_year &lt;chr&gt; |\n",
       "|---|---|---|---|\n",
       "| Marathon (Group)        | Marathon (Group)      | 2018 | NA   |\n",
       "| Tesoro (Group)          | Marathon (Group)      | 2018 | NA   |\n",
       "| Sunoco (Group)          | Sunoco (Group)        | 2017 | NA   |\n",
       "| Energy Transfer (Group) | Sunoco (Group)        | 2017 | NA   |\n",
       "| Kinder Morgan (Group)   | Kinder Morgan (Group) | NA   | 2013 |\n",
       "| 31720                   | Kinder Morgan (Group) | NA   | 2013 |\n",
       "\n"
      ],
      "text/plain": [
       "  members                 name                  start_year end_year\n",
       "1 Marathon (Group)        Marathon (Group)      2018       NA      \n",
       "2 Tesoro (Group)          Marathon (Group)      2018       NA      \n",
       "3 Sunoco (Group)          Sunoco (Group)        2017       NA      \n",
       "4 Energy Transfer (Group) Sunoco (Group)        2017       NA      \n",
       "5 Kinder Morgan (Group)   Kinder Morgan (Group) NA         2013    \n",
       "6 31720                   Kinder Morgan (Group) NA         2013    "
      ]
     },
     "metadata": {},
     "output_type": "display_data"
    }
   ],
   "source": [
    "company_groups <- read_feather(company_groups_file)\n",
    "head(company_groups)\n",
    "m_as <- read_feather(m_as_file)\n",
    "head(m_as)"
   ]
  },
  {
   "cell_type": "markdown",
   "metadata": {},
   "source": [
    "## Define functions"
   ]
  },
  {
   "cell_type": "code",
   "execution_count": 7,
   "metadata": {},
   "outputs": [],
   "source": [
    "get_latest_name <- function(dataset, id_col, name_col, time_col){\n",
    "    quo_id_col <- enquo(id_col)\n",
    "    quo_name_col <- enquo(name_col)\n",
    "    quo_time_col <- enquo(time_col)\n",
    "    \n",
    "    dataset <- dataset %>%\n",
    "        group_by(!! quo_id_col) %>%\n",
    "        arrange(desc(!! quo_time_col)) %>%\n",
    "        mutate(!! quo_name_col := first(!! quo_name_col))\n",
    "    \n",
    "    return(dataset)\n",
    "}"
   ]
  },
  {
   "cell_type": "code",
   "execution_count": 8,
   "metadata": {},
   "outputs": [],
   "source": [
    "create_dataset <- function(raw_data, variables, variable_names, operators, undesired_company_endings, commodity_names, causes, \n",
    "                           groups = company_groups$members, m_a = m_as$members\n",
    "# Make sure you provide the right named vector that ensures that the respective column is renamed to the column expcted by the function for name, time, etc.\n",
    "                           name_col = \"Name\", time_col = \"Time\", commodity_col = \"Commodity\", cause_col = \"Cause\", na_values = c(\"nan\", \"UNKNOWN\")){\n",
    "    dataset <- select(raw_data, variables)\n",
    "    dataset <- rename(dataset, !!! variable_names)\n",
    "    \n",
    "    # For option to filter by sample.\n",
    "    dataset$in_sample <- dataset$ID %in% operators\n",
    "    \n",
    "    # Clean (unify) company names.\n",
    "    dataset <- get_latest_name(dataset, ID, Name, Time)\n",
    "    \n",
    "    # Various cleaning.\n",
    "    dataset$Year = year(dataset[[time_col]])\n",
    "    dataset[[name_col]] = str_remove_all(dataset[[name_col]], undesired_company_endings)\n",
    "    dataset[[name_col]] = str_to_title(dataset[[name_col]])\n",
    "    dataset[[commodity_col]] = recode(dataset[[commodity_col]], !!! commodity_names)\n",
    "    dataset[[cause_col]] = recode(dataset[[cause_col]], !!! causes)\n",
    "    # Weird method to replace values with NA cause naniar functions stopped working.\n",
    "    for (i in colnames(dataset)){\n",
    "        dataset[dataset[[i]] %in% na_values, i] <- NA\n",
    "    }\n",
    "    \n",
    "    dataset$in_group <- dataset$ID %in% groups\n",
    "    dataset$in_m_a <- dataset$ID %in% m_a\n",
    "    dataset$Group <- dataset$in_group | dataset$in_m_a\n",
    "    \n",
    "    # Recode from yes/no to boolean.\n",
    "    for (column in colnames(dataset)){\n",
    "        if (all(unique(dataset[[column]]) %in% c(\"YES\", \"NO\", NA))){\n",
    "            dataset[[column]] <- dataset[[column]] == \"YES\"\n",
    "        }\n",
    "    }\n",
    "    \n",
    "    return(dataset)\n",
    "}"
   ]
  },
  {
   "cell_type": "markdown",
   "metadata": {},
   "source": [
    "## Run"
   ]
  },
  {
   "cell_type": "code",
   "execution_count": 9,
   "metadata": {},
   "outputs": [],
   "source": [
    "variables <- c(\"OPERATOR_ID\", \"NAME\", \"LOCAL_DATETIME\", \"LOCATION_LATITUDE\", \"LOCATION_LONGITUDE\", \"SIGNIFICANT\", \"SERIOUS\", \"ON_OFF_SHORE\",\n",
    "               \"IGNITE_IND\", \"EXPLODE_IND\", \"NUM_PUB_EVACUATED\", \"INJURE\", \"UNINTENTIONAL_RELEASE_BBLS\", \"COMMODITY_RELEASED_TYPE\", \n",
    "               \"PIPE_DIAMETER\", \"PIPE_WALL_THICKNESS\", \"OCEAN_SEAWATER_IND\", \"GROUNDWATER_CONTAM_IND\", \"DRINKING_WATER_CONTAM_IND\",\n",
    "               \"HIGH_POP_IND\", \"USA_DRINKING_IND\", \"USA_ECOLOGICAL_IND\", \"TOTAL_COST\", \"NUM_EMPLOYEES_FAILED\", \"CAUSE\")\n",
    "\n",
    "variable_names <- c(\"ID\" = \"OPERATOR_ID\", \n",
    "                    \"Name\" = \"NAME\", \n",
    "                    \"Time\" = \"LOCAL_DATETIME\", \n",
    "                    \"Lat\" = \"LOCATION_LATITUDE\", \n",
    "                    \"Long\" = \"LOCATION_LONGITUDE\", \n",
    "                    \"Significant\" = \"SIGNIFICANT\", \n",
    "                    \"Serious\" = \"SERIOUS\", \n",
    "                    \"Offshore\" = \"ON_OFF_SHORE\",\n",
    "                    \"Fire\" = \"IGNITE_IND\", \n",
    "                    \"Explosion\" = \"EXPLODE_IND\", \n",
    "                    \"Evacuated\" = \"NUM_PUB_EVACUATED\", \n",
    "                    \"Injuries\" = \"INJURE\", \n",
    "                    \"Barrels released\" = \"UNINTENTIONAL_RELEASE_BBLS\",\n",
    "                    \"Commodity\" = \"COMMODITY_RELEASED_TYPE\", \n",
    "                    \"Pipe diameter\" = \"PIPE_DIAMETER\", \n",
    "                    \"Pipe thickness\" = \"PIPE_WALL_THICKNESS\",\n",
    "                    \"Ocean contamination\" = \"OCEAN_SEAWATER_IND\",\n",
    "                    \"Groundwater contamination\" = \"GROUNDWATER_CONTAM_IND\", \n",
    "                    \"Drinking water contamination\" = \"DRINKING_WATER_CONTAM_IND\", \n",
    "                    \"High population area\" = \"HIGH_POP_IND\", \n",
    "                    \"Water protection area\" = \"USA_DRINKING_IND\", \n",
    "                    \"Ecological site\" = \"USA_ECOLOGICAL_IND\", \n",
    "                    \"Cost\" = \"TOTAL_COST\", \n",
    "                    \"Alcohol test failures\" = \"NUM_EMPLOYEES_FAILED\", \n",
    "                    \"Cause\" = \"CAUSE\")\n",
    "\n",
    "commodity_names <- c(\"BIOFUEL / ALTERNATIVE FUEL(INCLUDING ETHANOL BLENDS)\" = \"Biofuel\", \n",
    "                     \"CO2 (CARBON DIOXIDE)\" = \"CO2\",\n",
    "                     \"CRUDE OIL\" = \"Crude\", \n",
    "                     \"HVL OR OTHER FLAMMABLE OR TOXIC FLUID WHICH IS A GAS AT AMBIENT CONDITIONS\" = \"Propane, Butane, etc.\", \n",
    "                     \"REFINED AND/OR PETROLEUM PRODUCT (NON-HVL) WHICH IS A LIQUID AT AMBIENT CONDITIONS\" = \"Gasoline, Diesel, etc.\")\n",
    "\n",
    "causes <- c(\"CORROSION FAILURE\" = \"Corrosion\", \n",
    "            \"EQUIPMENT FAILURE\" = \"Equipment\", \n",
    "            \"EXCAVATION DAMAGE\" = \"Excavation\", \n",
    "            \"INCORRECT OPERATION\" = \"Incorrect_operation\", \n",
    "            \"MATERIAL FAILURE OF PIPE OR WELD\" = \"Pipe_or_weld\", \n",
    "            \"NATURAL FORCE DAMAGE\" = \"Natural_force\", \n",
    "            \"OTHER INCIDENT CAUSE\" = \"Other_incident\", \n",
    "            \"OTHER OUTSIDE FORCE DAMAGE\" = \"Other_force\")\n",
    "\n",
    "undesired_company_endings <- c(\" L. P.| L.L.C.|, LLC|, L.P.| L.P.|, LP|LP|LLC|, LIMITED PARTNERSHIP|, A DIVISION OF EXXON MOBIL CORPORATION\")"
   ]
  },
  {
   "cell_type": "code",
   "execution_count": 10,
   "metadata": {},
   "outputs": [
    {
     "ename": "ERROR",
     "evalue": "Error in match(x, table, nomatch = 0L): 'match' requires vector arguments\n",
     "output_type": "error",
     "traceback": [
      "Error in match(x, table, nomatch = 0L): 'match' requires vector arguments\nTraceback:\n",
      "1. create_dataset(raw_data = raw_data, variables = variables, variable_names = variable_names, \n .     operators = largest_observations$OPERATOR_ID, undesired_company_endings = undesired_company_endings, \n .     commodity_names = commodity_names, causes = causes)",
      "2. dataset$ID %in% groups   # at line 24 of file <text>"
     ]
    }
   ],
   "source": [
    "dataset <- create_dataset(raw_data=raw_data, variables=variables, variable_names=variable_names, \n",
    "                          operators=largest_observations$OPERATOR_ID, undesired_company_endings=undesired_company_endings, \n",
    "                          commodity_names=commodity_names, causes=causes)\n",
    "head(dataset)"
   ]
  },
  {
   "cell_type": "code",
   "execution_count": null,
   "metadata": {},
   "outputs": [],
   "source": [
    "write_feather(dataset, paste0(\"../incident_dashboard/data/dataset_\", Sys.Date(), \".feather\"))\n",
    "write_feather(company_groups, \"../incident_dashboard/data/company_groups.feather\")"
   ]
  },
  {
   "cell_type": "code",
   "execution_count": null,
   "metadata": {},
   "outputs": [],
   "source": [
    "sum(dataset$in_sample)"
   ]
  },
  {
   "cell_type": "code",
   "execution_count": null,
   "metadata": {},
   "outputs": [],
   "source": [
    "nrow(dataset)"
   ]
  }
 ],
 "metadata": {
  "jupytext": {
   "formats": "ipynb,Rmd"
  },
  "kernelspec": {
   "display_name": "R 3.6.1",
   "language": "R",
   "name": "ir361"
  },
  "language_info": {
   "codemirror_mode": "r",
   "file_extension": ".r",
   "mimetype": "text/x-r-source",
   "name": "R",
   "pygments_lexer": "r",
   "version": "3.6.1"
  },
  "toc-showcode": true
 },
 "nbformat": 4,
 "nbformat_minor": 4
}
