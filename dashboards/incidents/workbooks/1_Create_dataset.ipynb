{
 "cells": [
  {
   "cell_type": "markdown",
   "metadata": {},
   "source": [
    "# Create Dataset"
   ]
  },
  {
   "cell_type": "markdown",
   "metadata": {},
   "source": [
    "## Setup"
   ]
  },
  {
   "cell_type": "code",
   "execution_count": 1,
   "metadata": {},
   "outputs": [
    {
     "name": "stderr",
     "output_type": "stream",
     "text": [
      "Registered S3 methods overwritten by 'ggplot2':\n",
      "  method         from \n",
      "  [.quosures     rlang\n",
      "  c.quosures     rlang\n",
      "  print.quosures rlang\n",
      "Registered S3 method overwritten by 'rvest':\n",
      "  method            from\n",
      "  read_xml.response xml2\n",
      "── \u001b[1mAttaching packages\u001b[22m ─────────────────────────────────────── tidyverse 1.2.1 ──\n",
      "\u001b[32m✔\u001b[39m \u001b[34mggplot2\u001b[39m 3.1.1       \u001b[32m✔\u001b[39m \u001b[34mpurrr  \u001b[39m 0.3.2  \n",
      "\u001b[32m✔\u001b[39m \u001b[34mtibble \u001b[39m 2.1.1       \u001b[32m✔\u001b[39m \u001b[34mdplyr  \u001b[39m 0.8.0.\u001b[31m1\u001b[39m\n",
      "\u001b[32m✔\u001b[39m \u001b[34mtidyr  \u001b[39m 0.8.3       \u001b[32m✔\u001b[39m \u001b[34mstringr\u001b[39m 1.4.0  \n",
      "\u001b[32m✔\u001b[39m \u001b[34mreadr  \u001b[39m 1.3.1       \u001b[32m✔\u001b[39m \u001b[34mforcats\u001b[39m 0.4.0  \n",
      "── \u001b[1mConflicts\u001b[22m ────────────────────────────────────────── tidyverse_conflicts() ──\n",
      "\u001b[31m✖\u001b[39m \u001b[34mdplyr\u001b[39m::\u001b[32mfilter()\u001b[39m masks \u001b[34mstats\u001b[39m::filter()\n",
      "\u001b[31m✖\u001b[39m \u001b[34mdplyr\u001b[39m::\u001b[32mlag()\u001b[39m    masks \u001b[34mstats\u001b[39m::lag()\n"
     ]
    }
   ],
   "source": [
    "library(tidyverse)\n",
    "library(feather)\n",
    "year <- lubridate::year"
   ]
  },
  {
   "cell_type": "code",
   "execution_count": 2,
   "metadata": {},
   "outputs": [],
   "source": [
    "raw_data_file <- \"../../../data/incidents_2019-08-11.feather\"\n",
    "largest_observations_file = '../../../preprocessed_data/largest_companies_2019-09-08.feather'"
   ]
  },
  {
   "cell_type": "markdown",
   "metadata": {},
   "source": [
    "## Read Data"
   ]
  },
  {
   "cell_type": "code",
   "execution_count": 3,
   "metadata": {},
   "outputs": [
    {
     "data": {
      "text/html": [
       "<table>\n",
       "<caption>A tibble: 6 × 4</caption>\n",
       "<thead>\n",
       "\t<tr><th scope=col>OPERATOR_ID</th><th scope=col>YEAR</th><th scope=col>NAME</th><th scope=col>TOTAL_MILES</th></tr>\n",
       "\t<tr><th scope=col>&lt;chr&gt;</th><th scope=col>&lt;dbl&gt;</th><th scope=col>&lt;chr&gt;</th><th scope=col>&lt;dbl&gt;</th></tr>\n",
       "</thead>\n",
       "<tbody>\n",
       "\t<tr><td>31618</td><td>2018</td><td>ENTERPRISE PRODUCTS OPERATING LLC</td><td>8311.369</td></tr>\n",
       "\t<tr><td>32109</td><td>2018</td><td>ONEOK NGL PIPELINE, LLC          </td><td>4756.610</td></tr>\n",
       "\t<tr><td>31684</td><td>2005</td><td>PHILLIPS 66 PIPELINE LLC         </td><td>4691.000</td></tr>\n",
       "\t<tr><td>22610</td><td>2014</td><td>MAGELLAN PIPELINE COMPANY, LP    </td><td>4505.500</td></tr>\n",
       "\t<tr><td>2552 </td><td>2015</td><td>COLONIAL PIPELINE CO             </td><td>4500.920</td></tr>\n",
       "\t<tr><td>1845 </td><td>2015</td><td>BUCKEYE PARTNERS, LP             </td><td>4298.290</td></tr>\n",
       "</tbody>\n",
       "</table>\n"
      ],
      "text/latex": [
       "A tibble: 6 × 4\n",
       "\\begin{tabular}{r|llll}\n",
       " OPERATOR\\_ID & YEAR & NAME & TOTAL\\_MILES\\\\\n",
       " <chr> & <dbl> & <chr> & <dbl>\\\\\n",
       "\\hline\n",
       "\t 31618 & 2018 & ENTERPRISE PRODUCTS OPERATING LLC & 8311.369\\\\\n",
       "\t 32109 & 2018 & ONEOK NGL PIPELINE, LLC           & 4756.610\\\\\n",
       "\t 31684 & 2005 & PHILLIPS 66 PIPELINE LLC          & 4691.000\\\\\n",
       "\t 22610 & 2014 & MAGELLAN PIPELINE COMPANY, LP     & 4505.500\\\\\n",
       "\t 2552  & 2015 & COLONIAL PIPELINE CO              & 4500.920\\\\\n",
       "\t 1845  & 2015 & BUCKEYE PARTNERS, LP              & 4298.290\\\\\n",
       "\\end{tabular}\n"
      ],
      "text/markdown": [
       "\n",
       "A tibble: 6 × 4\n",
       "\n",
       "| OPERATOR_ID &lt;chr&gt; | YEAR &lt;dbl&gt; | NAME &lt;chr&gt; | TOTAL_MILES &lt;dbl&gt; |\n",
       "|---|---|---|---|\n",
       "| 31618 | 2018 | ENTERPRISE PRODUCTS OPERATING LLC | 8311.369 |\n",
       "| 32109 | 2018 | ONEOK NGL PIPELINE, LLC           | 4756.610 |\n",
       "| 31684 | 2005 | PHILLIPS 66 PIPELINE LLC          | 4691.000 |\n",
       "| 22610 | 2014 | MAGELLAN PIPELINE COMPANY, LP     | 4505.500 |\n",
       "| 2552  | 2015 | COLONIAL PIPELINE CO              | 4500.920 |\n",
       "| 1845  | 2015 | BUCKEYE PARTNERS, LP              | 4298.290 |\n",
       "\n"
      ],
      "text/plain": [
       "  OPERATOR_ID YEAR NAME                              TOTAL_MILES\n",
       "1 31618       2018 ENTERPRISE PRODUCTS OPERATING LLC 8311.369   \n",
       "2 32109       2018 ONEOK NGL PIPELINE, LLC           4756.610   \n",
       "3 31684       2005 PHILLIPS 66 PIPELINE LLC          4691.000   \n",
       "4 22610       2014 MAGELLAN PIPELINE COMPANY, LP     4505.500   \n",
       "5 2552        2015 COLONIAL PIPELINE CO              4500.920   \n",
       "6 1845        2015 BUCKEYE PARTNERS, LP              4298.290   "
      ]
     },
     "metadata": {},
     "output_type": "display_data"
    }
   ],
   "source": [
    "largest_observations <- read_feather(largest_observations_file)\n",
    "head(largest_observations)"
   ]
  },
  {
   "cell_type": "code",
   "execution_count": 4,
   "metadata": {},
   "outputs": [
    {
     "name": "stderr",
     "output_type": "stream",
     "text": [
      "Warning message:\n",
      "“Coercing int64 to double”Warning message:\n",
      "“Coercing int64 to double”Warning message:\n",
      "“Coercing int64 to double”Warning message:\n",
      "“Coercing int64 to double”Warning message:\n",
      "“Coercing int64 to double”"
     ]
    },
    {
     "data": {
      "text/html": [
       "<table>\n",
       "<caption>A tibble: 6 × 20</caption>\n",
       "<thead>\n",
       "\t<tr><th scope=col>DATAFILE_AS_OF</th><th scope=col>SIGNIFICANT</th><th scope=col>SERIOUS</th><th scope=col>IPE</th><th scope=col>IA_IPE</th><th scope=col>OM_IPE</th><th scope=col>REPORT_NUMBER</th><th scope=col>SUPPLEMENTAL_NUMBER</th><th scope=col>REPORT_RECEIVED_DATE</th><th scope=col>REPORT_TYPE</th><th scope=col>OPERATOR_ID</th><th scope=col>NAME</th><th scope=col>OPERATOR_STREET_ADDRESS</th><th scope=col>OPERATOR_CITY_NAME</th><th scope=col>OPERATOR_STATE_ABBREVIATION</th><th scope=col>OPERATOR_POSTAL_CODE</th><th scope=col>LOCAL_DATETIME</th><th scope=col>IYEAR</th><th scope=col>LOCATION_LATITUDE</th><th scope=col>LOCATION_LONGITUDE</th></tr>\n",
       "\t<tr><th scope=col>&lt;dttm&gt;</th><th scope=col>&lt;chr&gt;</th><th scope=col>&lt;chr&gt;</th><th scope=col>&lt;chr&gt;</th><th scope=col>&lt;chr&gt;</th><th scope=col>&lt;chr&gt;</th><th scope=col>&lt;dbl&gt;</th><th scope=col>&lt;dbl&gt;</th><th scope=col>&lt;dttm&gt;</th><th scope=col>&lt;chr&gt;</th><th scope=col>&lt;dbl&gt;</th><th scope=col>&lt;chr&gt;</th><th scope=col>&lt;chr&gt;</th><th scope=col>&lt;chr&gt;</th><th scope=col>&lt;chr&gt;</th><th scope=col>&lt;chr&gt;</th><th scope=col>&lt;dttm&gt;</th><th scope=col>&lt;dbl&gt;</th><th scope=col>&lt;dbl&gt;</th><th scope=col>&lt;dbl&gt;</th></tr>\n",
       "</thead>\n",
       "<tbody>\n",
       "\t<tr><td>2019-07-31 04:37:40</td><td>NO </td><td>NO</td><td>NO</td><td>NO</td><td>NO</td><td>20100001</td><td>15751</td><td>2010-03-10 08:05:46</td><td>SUPPLEMENTAL FINAL</td><td>22610</td><td>MAGELLAN PIPELINE COMPANY, LP</td><td>MAGELLAN MIDSTREAM PARTNERS, L.P.    </td><td>TULSA        </td><td>OK</td><td>74172     </td><td>2010-02-16 02:42:00</td><td>2010</td><td>41.94352</td><td> -88.23353</td></tr>\n",
       "\t<tr><td>2019-07-31 04:37:40</td><td>NO </td><td>NO</td><td>NO</td><td>NO</td><td>NO</td><td>20100002</td><td>19837</td><td>2010-03-16 13:43:54</td><td>SUPPLEMENTAL FINAL</td><td>31672</td><td>CHAPARRAL ENERGY, LLC        </td><td>701 CEDAR LAKE BLVD                  </td><td>OKLAHOMA CITY</td><td>OK</td><td>73114     </td><td>2010-03-01 06:50:00</td><td>2010</td><td>37.10847</td><td>-100.80037</td></tr>\n",
       "\t<tr><td>2019-07-31 04:37:40</td><td>YES</td><td>NO</td><td>NO</td><td>NO</td><td>NO</td><td>20100003</td><td>18021</td><td>2010-03-17 06:38:15</td><td>SUPPLEMENTAL FINAL</td><td>32035</td><td>LDH ENERGY PIPELINE L.P.     </td><td>13430 NORTHWEST FREEWAY   SUITE 1200 </td><td>HOUSTON      </td><td>TX</td><td>77040-6019</td><td>2010-02-22 05:38:00</td><td>2010</td><td>32.22471</td><td>-101.40440</td></tr>\n",
       "\t<tr><td>2019-07-31 04:37:40</td><td>NO </td><td>NO</td><td>NO</td><td>NO</td><td>NO</td><td>20100004</td><td>19086</td><td>2010-03-18 09:18:48</td><td>SUPPLEMENTAL FINAL</td><td> 1845</td><td>BUCKEYE PARTNERS, LP         </td><td>FIVE TEK PARK                        </td><td>BREINIGSVILLE</td><td>PA</td><td>18031     </td><td>2010-02-19 01:50:00</td><td>2010</td><td>40.60860</td><td> -74.23990</td></tr>\n",
       "\t<tr><td>2019-07-31 04:37:40</td><td>NO </td><td>NO</td><td>NO</td><td>NO</td><td>NO</td><td>20100005</td><td>17663</td><td>2010-03-18 10:26:48</td><td>SUPPLEMENTAL FINAL</td><td>  300</td><td>PLAINS PIPELINE, L.P.        </td><td>333 CLAY STREET                      </td><td>HOUSTON      </td><td>TX</td><td>772104648 </td><td>2010-02-21 07:45:00</td><td>2010</td><td>31.13284</td><td>-101.18974</td></tr>\n",
       "\t<tr><td>2019-07-31 04:37:40</td><td>NO </td><td>NO</td><td>NO</td><td>NO</td><td>NO</td><td>20100006</td><td>17891</td><td>2010-03-19 10:48:18</td><td>SUPPLEMENTAL FINAL</td><td>31684</td><td>CONOCOPHILLIPS               </td><td>600 NORTH DAIRY ASHFORD              </td><td>HOUSTON      </td><td>TX</td><td>77079     </td><td>2010-02-22 05:56:00</td><td>2010</td><td>47.71696</td><td>-117.35583</td></tr>\n",
       "</tbody>\n",
       "</table>\n"
      ],
      "text/latex": [
       "A tibble: 6 × 20\n",
       "\\begin{tabular}{r|llllllllllllllllllll}\n",
       " DATAFILE\\_AS\\_OF & SIGNIFICANT & SERIOUS & IPE & IA\\_IPE & OM\\_IPE & REPORT\\_NUMBER & SUPPLEMENTAL\\_NUMBER & REPORT\\_RECEIVED\\_DATE & REPORT\\_TYPE & OPERATOR\\_ID & NAME & OPERATOR\\_STREET\\_ADDRESS & OPERATOR\\_CITY\\_NAME & OPERATOR\\_STATE\\_ABBREVIATION & OPERATOR\\_POSTAL\\_CODE & LOCAL\\_DATETIME & IYEAR & LOCATION\\_LATITUDE & LOCATION\\_LONGITUDE\\\\\n",
       " <dttm> & <chr> & <chr> & <chr> & <chr> & <chr> & <dbl> & <dbl> & <dttm> & <chr> & <dbl> & <chr> & <chr> & <chr> & <chr> & <chr> & <dttm> & <dbl> & <dbl> & <dbl>\\\\\n",
       "\\hline\n",
       "\t 2019-07-31 04:37:40 & NO  & NO & NO & NO & NO & 20100001 & 15751 & 2010-03-10 08:05:46 & SUPPLEMENTAL FINAL & 22610 & MAGELLAN PIPELINE COMPANY, LP & MAGELLAN MIDSTREAM PARTNERS, L.P.     & TULSA         & OK & 74172      & 2010-02-16 02:42:00 & 2010 & 41.94352 &  -88.23353\\\\\n",
       "\t 2019-07-31 04:37:40 & NO  & NO & NO & NO & NO & 20100002 & 19837 & 2010-03-16 13:43:54 & SUPPLEMENTAL FINAL & 31672 & CHAPARRAL ENERGY, LLC         & 701 CEDAR LAKE BLVD                   & OKLAHOMA CITY & OK & 73114      & 2010-03-01 06:50:00 & 2010 & 37.10847 & -100.80037\\\\\n",
       "\t 2019-07-31 04:37:40 & YES & NO & NO & NO & NO & 20100003 & 18021 & 2010-03-17 06:38:15 & SUPPLEMENTAL FINAL & 32035 & LDH ENERGY PIPELINE L.P.      & 13430 NORTHWEST FREEWAY   SUITE 1200  & HOUSTON       & TX & 77040-6019 & 2010-02-22 05:38:00 & 2010 & 32.22471 & -101.40440\\\\\n",
       "\t 2019-07-31 04:37:40 & NO  & NO & NO & NO & NO & 20100004 & 19086 & 2010-03-18 09:18:48 & SUPPLEMENTAL FINAL &  1845 & BUCKEYE PARTNERS, LP          & FIVE TEK PARK                         & BREINIGSVILLE & PA & 18031      & 2010-02-19 01:50:00 & 2010 & 40.60860 &  -74.23990\\\\\n",
       "\t 2019-07-31 04:37:40 & NO  & NO & NO & NO & NO & 20100005 & 17663 & 2010-03-18 10:26:48 & SUPPLEMENTAL FINAL &   300 & PLAINS PIPELINE, L.P.         & 333 CLAY STREET                       & HOUSTON       & TX & 772104648  & 2010-02-21 07:45:00 & 2010 & 31.13284 & -101.18974\\\\\n",
       "\t 2019-07-31 04:37:40 & NO  & NO & NO & NO & NO & 20100006 & 17891 & 2010-03-19 10:48:18 & SUPPLEMENTAL FINAL & 31684 & CONOCOPHILLIPS                & 600 NORTH DAIRY ASHFORD               & HOUSTON       & TX & 77079      & 2010-02-22 05:56:00 & 2010 & 47.71696 & -117.35583\\\\\n",
       "\\end{tabular}\n"
      ],
      "text/markdown": [
       "\n",
       "A tibble: 6 × 20\n",
       "\n",
       "| DATAFILE_AS_OF &lt;dttm&gt; | SIGNIFICANT &lt;chr&gt; | SERIOUS &lt;chr&gt; | IPE &lt;chr&gt; | IA_IPE &lt;chr&gt; | OM_IPE &lt;chr&gt; | REPORT_NUMBER &lt;dbl&gt; | SUPPLEMENTAL_NUMBER &lt;dbl&gt; | REPORT_RECEIVED_DATE &lt;dttm&gt; | REPORT_TYPE &lt;chr&gt; | OPERATOR_ID &lt;dbl&gt; | NAME &lt;chr&gt; | OPERATOR_STREET_ADDRESS &lt;chr&gt; | OPERATOR_CITY_NAME &lt;chr&gt; | OPERATOR_STATE_ABBREVIATION &lt;chr&gt; | OPERATOR_POSTAL_CODE &lt;chr&gt; | LOCAL_DATETIME &lt;dttm&gt; | IYEAR &lt;dbl&gt; | LOCATION_LATITUDE &lt;dbl&gt; | LOCATION_LONGITUDE &lt;dbl&gt; |\n",
       "|---|---|---|---|---|---|---|---|---|---|---|---|---|---|---|---|---|---|---|---|\n",
       "| 2019-07-31 04:37:40 | NO  | NO | NO | NO | NO | 20100001 | 15751 | 2010-03-10 08:05:46 | SUPPLEMENTAL FINAL | 22610 | MAGELLAN PIPELINE COMPANY, LP | MAGELLAN MIDSTREAM PARTNERS, L.P.     | TULSA         | OK | 74172      | 2010-02-16 02:42:00 | 2010 | 41.94352 |  -88.23353 |\n",
       "| 2019-07-31 04:37:40 | NO  | NO | NO | NO | NO | 20100002 | 19837 | 2010-03-16 13:43:54 | SUPPLEMENTAL FINAL | 31672 | CHAPARRAL ENERGY, LLC         | 701 CEDAR LAKE BLVD                   | OKLAHOMA CITY | OK | 73114      | 2010-03-01 06:50:00 | 2010 | 37.10847 | -100.80037 |\n",
       "| 2019-07-31 04:37:40 | YES | NO | NO | NO | NO | 20100003 | 18021 | 2010-03-17 06:38:15 | SUPPLEMENTAL FINAL | 32035 | LDH ENERGY PIPELINE L.P.      | 13430 NORTHWEST FREEWAY   SUITE 1200  | HOUSTON       | TX | 77040-6019 | 2010-02-22 05:38:00 | 2010 | 32.22471 | -101.40440 |\n",
       "| 2019-07-31 04:37:40 | NO  | NO | NO | NO | NO | 20100004 | 19086 | 2010-03-18 09:18:48 | SUPPLEMENTAL FINAL |  1845 | BUCKEYE PARTNERS, LP          | FIVE TEK PARK                         | BREINIGSVILLE | PA | 18031      | 2010-02-19 01:50:00 | 2010 | 40.60860 |  -74.23990 |\n",
       "| 2019-07-31 04:37:40 | NO  | NO | NO | NO | NO | 20100005 | 17663 | 2010-03-18 10:26:48 | SUPPLEMENTAL FINAL |   300 | PLAINS PIPELINE, L.P.         | 333 CLAY STREET                       | HOUSTON       | TX | 772104648  | 2010-02-21 07:45:00 | 2010 | 31.13284 | -101.18974 |\n",
       "| 2019-07-31 04:37:40 | NO  | NO | NO | NO | NO | 20100006 | 17891 | 2010-03-19 10:48:18 | SUPPLEMENTAL FINAL | 31684 | CONOCOPHILLIPS                | 600 NORTH DAIRY ASHFORD               | HOUSTON       | TX | 77079      | 2010-02-22 05:56:00 | 2010 | 47.71696 | -117.35583 |\n",
       "\n"
      ],
      "text/plain": [
       "  DATAFILE_AS_OF      SIGNIFICANT SERIOUS IPE IA_IPE OM_IPE REPORT_NUMBER\n",
       "1 2019-07-31 04:37:40 NO          NO      NO  NO     NO     20100001     \n",
       "2 2019-07-31 04:37:40 NO          NO      NO  NO     NO     20100002     \n",
       "3 2019-07-31 04:37:40 YES         NO      NO  NO     NO     20100003     \n",
       "4 2019-07-31 04:37:40 NO          NO      NO  NO     NO     20100004     \n",
       "5 2019-07-31 04:37:40 NO          NO      NO  NO     NO     20100005     \n",
       "6 2019-07-31 04:37:40 NO          NO      NO  NO     NO     20100006     \n",
       "  SUPPLEMENTAL_NUMBER REPORT_RECEIVED_DATE REPORT_TYPE        OPERATOR_ID\n",
       "1 15751               2010-03-10 08:05:46  SUPPLEMENTAL FINAL 22610      \n",
       "2 19837               2010-03-16 13:43:54  SUPPLEMENTAL FINAL 31672      \n",
       "3 18021               2010-03-17 06:38:15  SUPPLEMENTAL FINAL 32035      \n",
       "4 19086               2010-03-18 09:18:48  SUPPLEMENTAL FINAL  1845      \n",
       "5 17663               2010-03-18 10:26:48  SUPPLEMENTAL FINAL   300      \n",
       "6 17891               2010-03-19 10:48:18  SUPPLEMENTAL FINAL 31684      \n",
       "  NAME                          OPERATOR_STREET_ADDRESS              \n",
       "1 MAGELLAN PIPELINE COMPANY, LP MAGELLAN MIDSTREAM PARTNERS, L.P.    \n",
       "2 CHAPARRAL ENERGY, LLC         701 CEDAR LAKE BLVD                  \n",
       "3 LDH ENERGY PIPELINE L.P.      13430 NORTHWEST FREEWAY   SUITE 1200 \n",
       "4 BUCKEYE PARTNERS, LP          FIVE TEK PARK                        \n",
       "5 PLAINS PIPELINE, L.P.         333 CLAY STREET                      \n",
       "6 CONOCOPHILLIPS                600 NORTH DAIRY ASHFORD              \n",
       "  OPERATOR_CITY_NAME OPERATOR_STATE_ABBREVIATION OPERATOR_POSTAL_CODE\n",
       "1 TULSA              OK                          74172               \n",
       "2 OKLAHOMA CITY      OK                          73114               \n",
       "3 HOUSTON            TX                          77040-6019          \n",
       "4 BREINIGSVILLE      PA                          18031               \n",
       "5 HOUSTON            TX                          772104648           \n",
       "6 HOUSTON            TX                          77079               \n",
       "  LOCAL_DATETIME      IYEAR LOCATION_LATITUDE LOCATION_LONGITUDE\n",
       "1 2010-02-16 02:42:00 2010  41.94352           -88.23353        \n",
       "2 2010-03-01 06:50:00 2010  37.10847          -100.80037        \n",
       "3 2010-02-22 05:38:00 2010  32.22471          -101.40440        \n",
       "4 2010-02-19 01:50:00 2010  40.60860           -74.23990        \n",
       "5 2010-02-21 07:45:00 2010  31.13284          -101.18974        \n",
       "6 2010-02-22 05:56:00 2010  47.71696          -117.35583        "
      ]
     },
     "metadata": {},
     "output_type": "display_data"
    }
   ],
   "source": [
    "raw_data <- read_feather(raw_data_file)\n",
    "head(raw_data[, 1:20])"
   ]
  },
  {
   "cell_type": "markdown",
   "metadata": {},
   "source": [
    "## Define functions"
   ]
  },
  {
   "cell_type": "code",
   "execution_count": 5,
   "metadata": {},
   "outputs": [],
   "source": [
    "get_latest_name <- function(dataset, id_col, name_col, time_col){\n",
    "    quo_id_col <- enquo(id_col)\n",
    "    quo_name_col <- enquo(name_col)\n",
    "    quo_time_col <- enquo(time_col)\n",
    "    \n",
    "    dataset <- dataset %>%\n",
    "        group_by(!! quo_id_col) %>%\n",
    "        arrange(desc(!! quo_time_col)) %>%\n",
    "        mutate(!! quo_name_col := first(!! quo_name_col))\n",
    "    \n",
    "    return(dataset)\n",
    "}"
   ]
  },
  {
   "cell_type": "code",
   "execution_count": 6,
   "metadata": {},
   "outputs": [],
   "source": [
    "create_dataset <- function(raw_data, variables, variable_names, operators, \n",
    "                           undesired_company_endings, name_col = \"Name\", time_col = \"Time\", \n",
    "                           recode_bool = c(\"Significant\", \"Serious\")){\n",
    "    dataset <- select(raw_data, variables)\n",
    "    dataset <- rename(dataset, !!! variable_names)\n",
    "    \n",
    "    # For option to filter by sample\n",
    "    dataset$in_sample <- dataset$ID %in% operators\n",
    "    \n",
    "    # Clean (unify) company names\n",
    "    dataset <- get_latest_name(dataset, ID, Name, Time)\n",
    "    \n",
    "    # Various cleaning\n",
    "    dataset$Year = year(dataset[[time_col]])\n",
    "    dataset[[name_col]] = str_remove_all(dataset[[name_col]], undesired_company_endings)\n",
    "    dataset[[name_col]] = str_to_title(dataset[[name_col]])\n",
    "    \n",
    "    # Recode from yes/no to boolean\n",
    "    for (column in recode_bool){\n",
    "        dataset[[column]] <- dataset[[column]] == \"YES\"\n",
    "    }\n",
    "    \n",
    "    return(dataset)\n",
    "}"
   ]
  },
  {
   "cell_type": "markdown",
   "metadata": {},
   "source": [
    "## Run"
   ]
  },
  {
   "cell_type": "code",
   "execution_count": 7,
   "metadata": {},
   "outputs": [],
   "source": [
    "variables <- c(\"OPERATOR_ID\", \"NAME\", \"LOCAL_DATETIME\", \"LOCATION_LATITUDE\", \n",
    "               \"LOCATION_LONGITUDE\", \"SIGNIFICANT\", \"SERIOUS\", \"ON_OFF_SHORE\")\n",
    "\n",
    "variable_names <- c(\"ID\" = \"OPERATOR_ID\", \n",
    "                    \"Name\" = \"NAME\", \n",
    "                    \"Time\" = \"LOCAL_DATETIME\", \n",
    "                    \"Lat\" = \"LOCATION_LATITUDE\", \n",
    "                    \"Long\" = \"LOCATION_LONGITUDE\", \n",
    "                    \"Significant\" = \"SIGNIFICANT\", \n",
    "                    \"Serious\" = \"SERIOUS\", \n",
    "                    \"Offshore\" = \"ON_OFF_SHORE\")\n",
    "\n",
    "undesired_company_endings <- c(\" L. P.| L.L.C.|, LLC|, L.P.| L.P.|, LP|LP|LLC|, LIMITED PARTNERSHIP|, A DIVISION OF EXXON MOBIL CORPORATION\")"
   ]
  },
  {
   "cell_type": "code",
   "execution_count": 8,
   "metadata": {},
   "outputs": [
    {
     "data": {
      "text/html": [
       "<table>\n",
       "<caption>A grouped_df: 6 × 9</caption>\n",
       "<thead>\n",
       "\t<tr><th scope=col>ID</th><th scope=col>Name</th><th scope=col>Time</th><th scope=col>Lat</th><th scope=col>Long</th><th scope=col>Significant</th><th scope=col>Serious</th><th scope=col>in_sample</th><th scope=col>Year</th></tr>\n",
       "\t<tr><th scope=col>&lt;dbl&gt;</th><th scope=col>&lt;chr&gt;</th><th scope=col>&lt;dttm&gt;</th><th scope=col>&lt;dbl&gt;</th><th scope=col>&lt;dbl&gt;</th><th scope=col>&lt;lgl&gt;</th><th scope=col>&lt;lgl&gt;</th><th scope=col>&lt;lgl&gt;</th><th scope=col>&lt;dbl&gt;</th></tr>\n",
       "</thead>\n",
       "<tbody>\n",
       "\t<tr><td>26045</td><td>Par Hawaii Refining           </td><td>2019-07-08 07:41:00</td><td>21.36536</td><td>-157.93803</td><td>FALSE</td><td>FALSE</td><td>FALSE</td><td>2019</td></tr>\n",
       "\t<tr><td>12105</td><td>Magellan Ammonia Pipeline     </td><td>2019-07-01 04:36:00</td><td>43.93145</td><td> -94.11276</td><td> TRUE</td><td>FALSE</td><td> TRUE</td><td>2019</td></tr>\n",
       "\t<tr><td>31618</td><td>Enterprise Products Operating </td><td>2019-06-29 07:07:00</td><td>33.05238</td><td>-103.23450</td><td>FALSE</td><td>FALSE</td><td> TRUE</td><td>2019</td></tr>\n",
       "\t<tr><td>30829</td><td>Enterprise Crude Pipeline     </td><td>2019-06-27 06:15:00</td><td>29.74840</td><td> -95.12850</td><td>FALSE</td><td>FALSE</td><td> TRUE</td><td>2019</td></tr>\n",
       "\t<tr><td>30829</td><td>Enterprise Crude Pipeline     </td><td>2019-06-27 05:50:00</td><td>35.95480</td><td> -96.75910</td><td> TRUE</td><td>FALSE</td><td> TRUE</td><td>2019</td></tr>\n",
       "\t<tr><td>18718</td><td>Sunoco Pipeline               </td><td>2019-06-26 07:26:00</td><td>36.60264</td><td> -96.15029</td><td>FALSE</td><td>FALSE</td><td> TRUE</td><td>2019</td></tr>\n",
       "</tbody>\n",
       "</table>\n"
      ],
      "text/latex": [
       "A grouped_df: 6 × 9\n",
       "\\begin{tabular}{r|lllllllll}\n",
       " ID & Name & Time & Lat & Long & Significant & Serious & in\\_sample & Year\\\\\n",
       " <dbl> & <chr> & <dttm> & <dbl> & <dbl> & <lgl> & <lgl> & <lgl> & <dbl>\\\\\n",
       "\\hline\n",
       "\t 26045 & Par Hawaii Refining            & 2019-07-08 07:41:00 & 21.36536 & -157.93803 & FALSE & FALSE & FALSE & 2019\\\\\n",
       "\t 12105 & Magellan Ammonia Pipeline      & 2019-07-01 04:36:00 & 43.93145 &  -94.11276 &  TRUE & FALSE &  TRUE & 2019\\\\\n",
       "\t 31618 & Enterprise Products Operating  & 2019-06-29 07:07:00 & 33.05238 & -103.23450 & FALSE & FALSE &  TRUE & 2019\\\\\n",
       "\t 30829 & Enterprise Crude Pipeline      & 2019-06-27 06:15:00 & 29.74840 &  -95.12850 & FALSE & FALSE &  TRUE & 2019\\\\\n",
       "\t 30829 & Enterprise Crude Pipeline      & 2019-06-27 05:50:00 & 35.95480 &  -96.75910 &  TRUE & FALSE &  TRUE & 2019\\\\\n",
       "\t 18718 & Sunoco Pipeline                & 2019-06-26 07:26:00 & 36.60264 &  -96.15029 & FALSE & FALSE &  TRUE & 2019\\\\\n",
       "\\end{tabular}\n"
      ],
      "text/markdown": [
       "\n",
       "A grouped_df: 6 × 9\n",
       "\n",
       "| ID &lt;dbl&gt; | Name &lt;chr&gt; | Time &lt;dttm&gt; | Lat &lt;dbl&gt; | Long &lt;dbl&gt; | Significant &lt;lgl&gt; | Serious &lt;lgl&gt; | in_sample &lt;lgl&gt; | Year &lt;dbl&gt; |\n",
       "|---|---|---|---|---|---|---|---|---|\n",
       "| 26045 | Par Hawaii Refining            | 2019-07-08 07:41:00 | 21.36536 | -157.93803 | FALSE | FALSE | FALSE | 2019 |\n",
       "| 12105 | Magellan Ammonia Pipeline      | 2019-07-01 04:36:00 | 43.93145 |  -94.11276 |  TRUE | FALSE |  TRUE | 2019 |\n",
       "| 31618 | Enterprise Products Operating  | 2019-06-29 07:07:00 | 33.05238 | -103.23450 | FALSE | FALSE |  TRUE | 2019 |\n",
       "| 30829 | Enterprise Crude Pipeline      | 2019-06-27 06:15:00 | 29.74840 |  -95.12850 | FALSE | FALSE |  TRUE | 2019 |\n",
       "| 30829 | Enterprise Crude Pipeline      | 2019-06-27 05:50:00 | 35.95480 |  -96.75910 |  TRUE | FALSE |  TRUE | 2019 |\n",
       "| 18718 | Sunoco Pipeline                | 2019-06-26 07:26:00 | 36.60264 |  -96.15029 | FALSE | FALSE |  TRUE | 2019 |\n",
       "\n"
      ],
      "text/plain": [
       "  ID    Name                           Time                Lat      Long      \n",
       "1 26045 Par Hawaii Refining            2019-07-08 07:41:00 21.36536 -157.93803\n",
       "2 12105 Magellan Ammonia Pipeline      2019-07-01 04:36:00 43.93145  -94.11276\n",
       "3 31618 Enterprise Products Operating  2019-06-29 07:07:00 33.05238 -103.23450\n",
       "4 30829 Enterprise Crude Pipeline      2019-06-27 06:15:00 29.74840  -95.12850\n",
       "5 30829 Enterprise Crude Pipeline      2019-06-27 05:50:00 35.95480  -96.75910\n",
       "6 18718 Sunoco Pipeline                2019-06-26 07:26:00 36.60264  -96.15029\n",
       "  Significant Serious in_sample Year\n",
       "1 FALSE       FALSE   FALSE     2019\n",
       "2  TRUE       FALSE    TRUE     2019\n",
       "3 FALSE       FALSE    TRUE     2019\n",
       "4 FALSE       FALSE    TRUE     2019\n",
       "5  TRUE       FALSE    TRUE     2019\n",
       "6 FALSE       FALSE    TRUE     2019"
      ]
     },
     "metadata": {},
     "output_type": "display_data"
    }
   ],
   "source": [
    "dataset <- create_dataset(raw_data, variables, variable_names, largest_observations$OPERATOR_ID, undesired_company_endings)\n",
    "head(dataset)"
   ]
  },
  {
   "cell_type": "code",
   "execution_count": 9,
   "metadata": {},
   "outputs": [],
   "source": [
    "write_feather(dataset, paste0(\"../incident_dashboard/data/dataset_\", Sys.Date(), \".feather\"))"
   ]
  }
 ],
 "metadata": {
  "jupytext": {
   "formats": "ipynb,Rmd"
  },
  "kernelspec": {
   "display_name": "R 3.6.1",
   "language": "R",
   "name": "ir361"
  },
  "language_info": {
   "codemirror_mode": "r",
   "file_extension": ".r",
   "mimetype": "text/x-r-source",
   "name": "R",
   "pygments_lexer": "r",
   "version": "3.6.1"
  },
  "toc-showcode": true
 },
 "nbformat": 4,
 "nbformat_minor": 4
}
